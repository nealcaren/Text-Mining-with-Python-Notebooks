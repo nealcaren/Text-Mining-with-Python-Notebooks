{
 "cells": [
  {
   "cell_type": "markdown",
   "metadata": {},
   "source": [
    "# Case Study: Scraping Reddit with Pushshift"
   ]
  },
  {
   "cell_type": "markdown",
   "metadata": {},
   "source": [
    "This lesson will walk you through the basics of scraping Reddit data using the popular Pushshift API.  We'll discuss some of the most useful parameters at our disposal, then work our way through a number of exercises putting those parameters to use.  Finally, we'll have some fun visualizing patterns in Reddit content. "
   ]
  },
  {
   "cell_type": "markdown",
   "metadata": {},
   "source": [
    "## Reddit"
   ]
  },
  {
   "cell_type": "markdown",
   "metadata": {},
   "source": [
    "[Reddit](https://www.reddit.com/) provides an additional avenue for large-scale digital data collection and analysis.\n",
    "\n",
    "\n",
    "Notably, Reddit allows its users, known as Redditors, to create and maintain communities, or \"subreddits,\" within the larger Reddit platform.  Redditors can opt in or out of a wide variety of communities at any time, allowing them to personalize their feeds and engage with a uniquely tailored online social circle. "
   ]
  },
  {
   "cell_type": "markdown",
   "metadata": {},
   "source": [
    "## Pushshift"
   ]
  },
  {
   "cell_type": "markdown",
   "metadata": {},
   "source": [
    "Per the [subreddit](https://www.reddit.com/r/pushshift/comments/bcxguf/new_to_pushshift_read_this_faq/) dedicated to its discussion, pushshift.io allows users to analyze and aggregate large volumes of data from Reddit, while also providing the option to specify the desired ranges time from which to collect data.  \n"
   ]
  },
  {
   "cell_type": "markdown",
   "metadata": {},
   "source": [
    "### Setup"
   ]
  },
  {
   "cell_type": "markdown",
   "metadata": {},
   "source": [
    "As in the previous chapter discussing more general web scraping through APIs, we'll be importing both `requests` and `pandas`. "
   ]
  },
  {
   "cell_type": "code",
   "execution_count": 1,
   "metadata": {},
   "outputs": [],
   "source": [
    "import requests\n",
    "import pandas as pd"
   ]
  },
  {
   "cell_type": "markdown",
   "metadata": {},
   "source": [
    "We'll also want to save our base URL as a string for later use.  When using Pushshift, we'll have to indicate whether we want to scrape submissions or comments in our request within the base URL. To scrape submissions, the base URL should end with `/submission/`. To scrape comments, the base URL should end with `/comment/`.  So, if we want to request submissions we'd set our base URL as the following: "
   ]
  },
  {
   "cell_type": "code",
   "execution_count": 17,
   "metadata": {},
   "outputs": [],
   "source": [
    "base_url = 'https://api.pushshift.io/reddit/search/submission/'"
   ]
  },
  {
   "cell_type": "markdown",
   "metadata": {},
   "source": [
    "### Parameters"
   ]
  },
  {
   "cell_type": "markdown",
   "metadata": {},
   "source": [
    "We'll now discuss a number of the parameters available through Pushshift. You can find a full list of parameters available through the API [here](https://pushshift.io/api-parameters/).  We'll return to some of the parameters listed at the link provided later on in the chapter, when we begin analyzing some scraped Reddit content. "
   ]
  },
  {
   "cell_type": "markdown",
   "metadata": {},
   "source": [
    "- **sort**: Allows you to control the direction in which you scrape results. Results can be scraped in ascending ('asc') or descending ('desc') order. \n",
    "\n",
    "\n",
    "> - **sort_type**: Allows you to set the parameter used to sort requests. \n",
    "\n",
    "\n",
    "- **created_utc**: This parameter is useful for restricting requests by the Coordinated Universal Time, or UTC, of their creation.  There are a number of online conversion tools available for converting human-readable dates to UTCs; I typically use [this one](https://www.epochconverter.com/).\n",
    "\n",
    "\n",
    "> - **before**: Use this to scrape content created *before* a certain UTC.\n",
    "- **after**: Use this to scrape content created *after* a certain UTC.\n",
    "\n",
    "\n",
    "- **size**: Allows you to set a maximum size limit on your request.  Without looping requests, size per request maxes out at 1,000 submissions or comments.\n",
    "\n",
    "\n",
    "- **author**: Allows you to request only the content produced by a single Redditor, or a specific set of Redditors.\n",
    "\n",
    "\n",
    "- **subreddit**: Allows you to request only the content from a single subreddit, or a specific set of subreddits.\n",
    "\n",
    "\n",
    "- **score**: Allows you to sort or otherwise restrict requests depending on the net number of likes versus dislikes received by content.\n",
    "\n",
    "\n",
    "- **num_comments**: Allows you to sort or otherwise restrict requests depending on the total number of comments on submissions. \n"
   ]
  },
  {
   "cell_type": "markdown",
   "metadata": {},
   "source": [
    "### Pushshift Exercise 1: Making a Request"
   ]
  },
  {
   "cell_type": "markdown",
   "metadata": {},
   "source": [
    "Using the API Documentation outlined above as a guide, let's use pushshift to scrape some Reddit content.  We'll start by looking at some submissions from [r/changemyview](https://www.reddit.com/r/changemyview/), which describes itself as \"a place to post an opinion you accept may be flawed, in an effort to understand other perspectives on the issue.\"\n",
    "\n",
    "\n",
    "Let's look at the 50 submissions to r/changemyview from 2019 that received the highest number of comments. We can start by setting the parameters for our request in a dictionary: "
   ]
  },
  {
   "cell_type": "code",
   "execution_count": 14,
   "metadata": {},
   "outputs": [],
   "source": [
    "parameters = {'subreddit' : 'changemyview',\n",
    "              'sort'       : 'desc',\n",
    "              'sort_type'  : 'num_comments',\n",
    "              'after'       : '1546300800',\n",
    "              'before'       : '1577836800',\n",
    "              'size'       : 50,}     "
   ]
  },
  {
   "cell_type": "markdown",
   "metadata": {},
   "source": [
    "Now we're ready to make our request to the API."
   ]
  },
  {
   "cell_type": "code",
   "execution_count": 15,
   "metadata": {},
   "outputs": [],
   "source": [
    "r = requests.get(base_url, params = parameters)"
   ]
  },
  {
   "cell_type": "markdown",
   "metadata": {},
   "source": [
    "We'll want to store the data scraped in the request in JSON format, so we can access it within the notebook as a dataframe. "
   ]
  },
  {
   "cell_type": "code",
   "execution_count": 11,
   "metadata": {},
   "outputs": [],
   "source": [
    "df = pd.DataFrame(r.json()['data'])"
   ]
  },
  {
   "cell_type": "markdown",
   "metadata": {},
   "source": [
    "Try looking at a random sample of 10 submissions from the request as a dataframe in the cell below."
   ]
  },
  {
   "cell_type": "code",
   "execution_count": 19,
   "metadata": {},
   "outputs": [
    {
     "data": {
      "text/html": [
       "<div>\n",
       "<style scoped>\n",
       "    .dataframe tbody tr th:only-of-type {\n",
       "        vertical-align: middle;\n",
       "    }\n",
       "\n",
       "    .dataframe tbody tr th {\n",
       "        vertical-align: top;\n",
       "    }\n",
       "\n",
       "    .dataframe thead th {\n",
       "        text-align: right;\n",
       "    }\n",
       "</style>\n",
       "<table border=\"1\" class=\"dataframe\">\n",
       "  <thead>\n",
       "    <tr style=\"text-align: right;\">\n",
       "      <th></th>\n",
       "      <th>author</th>\n",
       "      <th>author_flair_background_color</th>\n",
       "      <th>author_flair_css_class</th>\n",
       "      <th>author_flair_richtext</th>\n",
       "      <th>author_flair_text</th>\n",
       "      <th>author_flair_text_color</th>\n",
       "      <th>author_flair_type</th>\n",
       "      <th>author_fullname</th>\n",
       "      <th>author_patreon_flair</th>\n",
       "      <th>can_mod_post</th>\n",
       "      <th>...</th>\n",
       "      <th>allow_live_comments</th>\n",
       "      <th>awarders</th>\n",
       "      <th>steward_reports</th>\n",
       "      <th>total_awards_received</th>\n",
       "      <th>author_premium</th>\n",
       "      <th>og_description</th>\n",
       "      <th>og_title</th>\n",
       "      <th>gilded</th>\n",
       "      <th>post_hint</th>\n",
       "      <th>preview</th>\n",
       "    </tr>\n",
       "  </thead>\n",
       "  <tbody>\n",
       "    <tr>\n",
       "      <th>26</th>\n",
       "      <td>kinglax</td>\n",
       "      <td>NaN</td>\n",
       "      <td>None</td>\n",
       "      <td>[]</td>\n",
       "      <td>None</td>\n",
       "      <td>NaN</td>\n",
       "      <td>text</td>\n",
       "      <td>t2_5lo3i</td>\n",
       "      <td>False</td>\n",
       "      <td>False</td>\n",
       "      <td>...</td>\n",
       "      <td>NaN</td>\n",
       "      <td>NaN</td>\n",
       "      <td>NaN</td>\n",
       "      <td>NaN</td>\n",
       "      <td>NaN</td>\n",
       "      <td>NaN</td>\n",
       "      <td>NaN</td>\n",
       "      <td>1.0</td>\n",
       "      <td>NaN</td>\n",
       "      <td>NaN</td>\n",
       "    </tr>\n",
       "    <tr>\n",
       "      <th>13</th>\n",
       "      <td>GAMpro</td>\n",
       "      <td>NaN</td>\n",
       "      <td>None</td>\n",
       "      <td>[]</td>\n",
       "      <td>None</td>\n",
       "      <td>NaN</td>\n",
       "      <td>text</td>\n",
       "      <td>t2_ysnrw</td>\n",
       "      <td>False</td>\n",
       "      <td>False</td>\n",
       "      <td>...</td>\n",
       "      <td>False</td>\n",
       "      <td>[]</td>\n",
       "      <td>[]</td>\n",
       "      <td>0.0</td>\n",
       "      <td>NaN</td>\n",
       "      <td>NaN</td>\n",
       "      <td>NaN</td>\n",
       "      <td>NaN</td>\n",
       "      <td>self</td>\n",
       "      <td>{'enabled': False, 'images': [{'id': 'C9KSOp_b...</td>\n",
       "    </tr>\n",
       "    <tr>\n",
       "      <th>48</th>\n",
       "      <td>juul_pod</td>\n",
       "      <td>NaN</td>\n",
       "      <td>None</td>\n",
       "      <td>[]</td>\n",
       "      <td>None</td>\n",
       "      <td>NaN</td>\n",
       "      <td>text</td>\n",
       "      <td>t2_174yan</td>\n",
       "      <td>False</td>\n",
       "      <td>False</td>\n",
       "      <td>...</td>\n",
       "      <td>False</td>\n",
       "      <td>[]</td>\n",
       "      <td>[]</td>\n",
       "      <td>0.0</td>\n",
       "      <td>False</td>\n",
       "      <td>NaN</td>\n",
       "      <td>NaN</td>\n",
       "      <td>NaN</td>\n",
       "      <td>NaN</td>\n",
       "      <td>NaN</td>\n",
       "    </tr>\n",
       "    <tr>\n",
       "      <th>5</th>\n",
       "      <td>RedUlster</td>\n",
       "      <td>NaN</td>\n",
       "      <td>None</td>\n",
       "      <td>[]</td>\n",
       "      <td>None</td>\n",
       "      <td>NaN</td>\n",
       "      <td>text</td>\n",
       "      <td>t2_4hnldl0n</td>\n",
       "      <td>False</td>\n",
       "      <td>False</td>\n",
       "      <td>...</td>\n",
       "      <td>False</td>\n",
       "      <td>[]</td>\n",
       "      <td>[]</td>\n",
       "      <td>0.0</td>\n",
       "      <td>NaN</td>\n",
       "      <td></td>\n",
       "      <td></td>\n",
       "      <td>NaN</td>\n",
       "      <td>NaN</td>\n",
       "      <td>NaN</td>\n",
       "    </tr>\n",
       "    <tr>\n",
       "      <th>47</th>\n",
       "      <td>gucci_sweatbands</td>\n",
       "      <td>NaN</td>\n",
       "      <td>None</td>\n",
       "      <td>[]</td>\n",
       "      <td>None</td>\n",
       "      <td>NaN</td>\n",
       "      <td>text</td>\n",
       "      <td>t2_1m2qo0k9</td>\n",
       "      <td>False</td>\n",
       "      <td>False</td>\n",
       "      <td>...</td>\n",
       "      <td>False</td>\n",
       "      <td>NaN</td>\n",
       "      <td>NaN</td>\n",
       "      <td>0.0</td>\n",
       "      <td>NaN</td>\n",
       "      <td>NaN</td>\n",
       "      <td>NaN</td>\n",
       "      <td>2.0</td>\n",
       "      <td>NaN</td>\n",
       "      <td>NaN</td>\n",
       "    </tr>\n",
       "    <tr>\n",
       "      <th>45</th>\n",
       "      <td>lawtonj</td>\n",
       "      <td></td>\n",
       "      <td>None</td>\n",
       "      <td>[]</td>\n",
       "      <td>7∆</td>\n",
       "      <td>dark</td>\n",
       "      <td>text</td>\n",
       "      <td>t2_n3v7d</td>\n",
       "      <td>False</td>\n",
       "      <td>False</td>\n",
       "      <td>...</td>\n",
       "      <td>NaN</td>\n",
       "      <td>NaN</td>\n",
       "      <td>NaN</td>\n",
       "      <td>NaN</td>\n",
       "      <td>NaN</td>\n",
       "      <td>NaN</td>\n",
       "      <td>NaN</td>\n",
       "      <td>1.0</td>\n",
       "      <td>NaN</td>\n",
       "      <td>NaN</td>\n",
       "    </tr>\n",
       "    <tr>\n",
       "      <th>34</th>\n",
       "      <td>Hey-I-Read-It</td>\n",
       "      <td>NaN</td>\n",
       "      <td>None</td>\n",
       "      <td>[]</td>\n",
       "      <td>None</td>\n",
       "      <td>NaN</td>\n",
       "      <td>text</td>\n",
       "      <td>t2_23pcrwbr</td>\n",
       "      <td>False</td>\n",
       "      <td>False</td>\n",
       "      <td>...</td>\n",
       "      <td>NaN</td>\n",
       "      <td>NaN</td>\n",
       "      <td>NaN</td>\n",
       "      <td>NaN</td>\n",
       "      <td>NaN</td>\n",
       "      <td>NaN</td>\n",
       "      <td>NaN</td>\n",
       "      <td>NaN</td>\n",
       "      <td>NaN</td>\n",
       "      <td>NaN</td>\n",
       "    </tr>\n",
       "    <tr>\n",
       "      <th>25</th>\n",
       "      <td>Highlyemployable</td>\n",
       "      <td>NaN</td>\n",
       "      <td>None</td>\n",
       "      <td>[]</td>\n",
       "      <td>None</td>\n",
       "      <td>NaN</td>\n",
       "      <td>text</td>\n",
       "      <td>t2_4p7iimbi</td>\n",
       "      <td>False</td>\n",
       "      <td>False</td>\n",
       "      <td>...</td>\n",
       "      <td>False</td>\n",
       "      <td>[]</td>\n",
       "      <td>[]</td>\n",
       "      <td>0.0</td>\n",
       "      <td>NaN</td>\n",
       "      <td></td>\n",
       "      <td></td>\n",
       "      <td>1.0</td>\n",
       "      <td>NaN</td>\n",
       "      <td>NaN</td>\n",
       "    </tr>\n",
       "    <tr>\n",
       "      <th>49</th>\n",
       "      <td>Caesaroctopus</td>\n",
       "      <td>NaN</td>\n",
       "      <td>None</td>\n",
       "      <td>[]</td>\n",
       "      <td>None</td>\n",
       "      <td>NaN</td>\n",
       "      <td>text</td>\n",
       "      <td>t2_prc43</td>\n",
       "      <td>False</td>\n",
       "      <td>False</td>\n",
       "      <td>...</td>\n",
       "      <td>False</td>\n",
       "      <td>[]</td>\n",
       "      <td>[]</td>\n",
       "      <td>0.0</td>\n",
       "      <td>False</td>\n",
       "      <td>NaN</td>\n",
       "      <td>NaN</td>\n",
       "      <td>NaN</td>\n",
       "      <td>NaN</td>\n",
       "      <td>NaN</td>\n",
       "    </tr>\n",
       "    <tr>\n",
       "      <th>33</th>\n",
       "      <td>Cadent_Knave</td>\n",
       "      <td>NaN</td>\n",
       "      <td>None</td>\n",
       "      <td>[]</td>\n",
       "      <td>None</td>\n",
       "      <td>NaN</td>\n",
       "      <td>text</td>\n",
       "      <td>t2_iz35j</td>\n",
       "      <td>False</td>\n",
       "      <td>False</td>\n",
       "      <td>...</td>\n",
       "      <td>False</td>\n",
       "      <td>[]</td>\n",
       "      <td>[]</td>\n",
       "      <td>0.0</td>\n",
       "      <td>False</td>\n",
       "      <td>NaN</td>\n",
       "      <td>NaN</td>\n",
       "      <td>NaN</td>\n",
       "      <td>NaN</td>\n",
       "      <td>NaN</td>\n",
       "    </tr>\n",
       "  </tbody>\n",
       "</table>\n",
       "<p>10 rows × 65 columns</p>\n",
       "</div>"
      ],
      "text/plain": [
       "              author author_flair_background_color author_flair_css_class  \\\n",
       "26           kinglax                           NaN                   None   \n",
       "13            GAMpro                           NaN                   None   \n",
       "48          juul_pod                           NaN                   None   \n",
       "5          RedUlster                           NaN                   None   \n",
       "47  gucci_sweatbands                           NaN                   None   \n",
       "45           lawtonj                                                 None   \n",
       "34     Hey-I-Read-It                           NaN                   None   \n",
       "25  Highlyemployable                           NaN                   None   \n",
       "49     Caesaroctopus                           NaN                   None   \n",
       "33      Cadent_Knave                           NaN                   None   \n",
       "\n",
       "   author_flair_richtext author_flair_text author_flair_text_color  \\\n",
       "26                    []              None                     NaN   \n",
       "13                    []              None                     NaN   \n",
       "48                    []              None                     NaN   \n",
       "5                     []              None                     NaN   \n",
       "47                    []              None                     NaN   \n",
       "45                    []                7∆                    dark   \n",
       "34                    []              None                     NaN   \n",
       "25                    []              None                     NaN   \n",
       "49                    []              None                     NaN   \n",
       "33                    []              None                     NaN   \n",
       "\n",
       "   author_flair_type author_fullname  author_patreon_flair  can_mod_post  ...  \\\n",
       "26              text        t2_5lo3i                 False         False  ...   \n",
       "13              text        t2_ysnrw                 False         False  ...   \n",
       "48              text       t2_174yan                 False         False  ...   \n",
       "5               text     t2_4hnldl0n                 False         False  ...   \n",
       "47              text     t2_1m2qo0k9                 False         False  ...   \n",
       "45              text        t2_n3v7d                 False         False  ...   \n",
       "34              text     t2_23pcrwbr                 False         False  ...   \n",
       "25              text     t2_4p7iimbi                 False         False  ...   \n",
       "49              text        t2_prc43                 False         False  ...   \n",
       "33              text        t2_iz35j                 False         False  ...   \n",
       "\n",
       "    allow_live_comments  awarders steward_reports total_awards_received  \\\n",
       "26                  NaN       NaN             NaN                   NaN   \n",
       "13                False        []              []                   0.0   \n",
       "48                False        []              []                   0.0   \n",
       "5                 False        []              []                   0.0   \n",
       "47                False       NaN             NaN                   0.0   \n",
       "45                  NaN       NaN             NaN                   NaN   \n",
       "34                  NaN       NaN             NaN                   NaN   \n",
       "25                False        []              []                   0.0   \n",
       "49                False        []              []                   0.0   \n",
       "33                False        []              []                   0.0   \n",
       "\n",
       "   author_premium og_description  og_title  gilded  post_hint  \\\n",
       "26            NaN            NaN       NaN     1.0        NaN   \n",
       "13            NaN            NaN       NaN     NaN       self   \n",
       "48          False            NaN       NaN     NaN        NaN   \n",
       "5             NaN                              NaN        NaN   \n",
       "47            NaN            NaN       NaN     2.0        NaN   \n",
       "45            NaN            NaN       NaN     1.0        NaN   \n",
       "34            NaN            NaN       NaN     NaN        NaN   \n",
       "25            NaN                              1.0        NaN   \n",
       "49          False            NaN       NaN     NaN        NaN   \n",
       "33          False            NaN       NaN     NaN        NaN   \n",
       "\n",
       "                                              preview  \n",
       "26                                                NaN  \n",
       "13  {'enabled': False, 'images': [{'id': 'C9KSOp_b...  \n",
       "48                                                NaN  \n",
       "5                                                 NaN  \n",
       "47                                                NaN  \n",
       "45                                                NaN  \n",
       "34                                                NaN  \n",
       "25                                                NaN  \n",
       "49                                                NaN  \n",
       "33                                                NaN  \n",
       "\n",
       "[10 rows x 65 columns]"
      ]
     },
     "execution_count": 19,
     "metadata": {},
     "output_type": "execute_result"
    }
   ],
   "source": [
    "df.sample(10)"
   ]
  },
  {
   "cell_type": "markdown",
   "metadata": {},
   "source": [
    "There's a lot of information available!  It will be useful to determine a list of keys in the JSON file we'd like to look at, so we're not bombarded with too much information at one time.   "
   ]
  },
  {
   "cell_type": "code",
   "execution_count": 12,
   "metadata": {},
   "outputs": [
    {
     "data": {
      "text/plain": [
       "Index(['author', 'author_flair_background_color', 'author_flair_css_class',\n",
       "       'author_flair_richtext', 'author_flair_text', 'author_flair_text_color',\n",
       "       'author_flair_type', 'author_fullname', 'author_patreon_flair',\n",
       "       'can_mod_post', 'contest_mode', 'created_utc', 'domain', 'full_link',\n",
       "       'gildings', 'id', 'is_crosspostable', 'is_meta', 'is_original_content',\n",
       "       'is_reddit_media_domain', 'is_robot_indexable', 'is_self', 'is_video',\n",
       "       'link_flair_background_color', 'link_flair_richtext',\n",
       "       'link_flair_text_color', 'link_flair_type', 'locked', 'media_only',\n",
       "       'no_follow', 'num_comments', 'num_crossposts', 'over_18',\n",
       "       'parent_whitelist_status', 'permalink', 'pinned', 'pwls',\n",
       "       'retrieved_on', 'score', 'selftext', 'send_replies', 'spoiler',\n",
       "       'stickied', 'subreddit', 'subreddit_id', 'subreddit_subscribers',\n",
       "       'subreddit_type', 'suggested_sort', 'thumbnail', 'title', 'updated_utc',\n",
       "       'url', 'whitelist_status', 'wls', 'all_awardings',\n",
       "       'allow_live_comments', 'awarders', 'steward_reports',\n",
       "       'total_awards_received', 'author_premium', 'og_description', 'og_title',\n",
       "       'gilded', 'post_hint', 'preview'],\n",
       "      dtype='object')"
      ]
     },
     "execution_count": 12,
     "metadata": {},
     "output_type": "execute_result"
    }
   ],
   "source": [
    "df.keys()"
   ]
  },
  {
   "cell_type": "markdown",
   "metadata": {},
   "source": [
    "Some of these keys (for example,`author`, `created_utc`, `num_comments`, and `score`) were outlined in the API definitions above, but a few of the keys are new.  Here are a couple of important keys we haven't yet discussed:"
   ]
  },
  {
   "cell_type": "markdown",
   "metadata": {},
   "source": [
    "- **title**: This is the title a Redditor has given their submission.  \n",
    "\n",
    "\n",
    "- **selftext**: This is the text contained within the submission itself. While a submission will always contain some text in the `title`, some image-only submissions will not contain any text in `selftext`. "
   ]
  },
  {
   "cell_type": "markdown",
   "metadata": {},
   "source": [
    "To get a better handle of the data we've scraped, let's narrow our focus to `author`, `num_comments`, `score`, `title`, and `selftext`."
   ]
  },
  {
   "cell_type": "code",
   "execution_count": 27,
   "metadata": {},
   "outputs": [],
   "source": [
    "columns_to_keep = ['author', 'num_comments', 'score', 'title', 'selftext']"
   ]
  },
  {
   "cell_type": "markdown",
   "metadata": {},
   "source": [
    "Now, let's pull another random sample of 10 submissions from the dataframe using our narrowed set of parameters. "
   ]
  },
  {
   "cell_type": "code",
   "execution_count": 9,
   "metadata": {},
   "outputs": [
    {
     "data": {
      "text/html": [
       "<div>\n",
       "<style scoped>\n",
       "    .dataframe tbody tr th:only-of-type {\n",
       "        vertical-align: middle;\n",
       "    }\n",
       "\n",
       "    .dataframe tbody tr th {\n",
       "        vertical-align: top;\n",
       "    }\n",
       "\n",
       "    .dataframe thead th {\n",
       "        text-align: right;\n",
       "    }\n",
       "</style>\n",
       "<table border=\"1\" class=\"dataframe\">\n",
       "  <thead>\n",
       "    <tr style=\"text-align: right;\">\n",
       "      <th></th>\n",
       "      <th>author</th>\n",
       "      <th>num_comments</th>\n",
       "      <th>score</th>\n",
       "      <th>title</th>\n",
       "      <th>selftext</th>\n",
       "    </tr>\n",
       "  </thead>\n",
       "  <tbody>\n",
       "    <tr>\n",
       "      <th>15</th>\n",
       "      <td>Birb-Brain-Syn</td>\n",
       "      <td>1468</td>\n",
       "      <td>3491</td>\n",
       "      <td>CMV: Anyone working a full-time job should be ...</td>\n",
       "      <td>So for me the above held opinion is straight-f...</td>\n",
       "    </tr>\n",
       "    <tr>\n",
       "      <th>0</th>\n",
       "      <td>Amiller1776</td>\n",
       "      <td>2617</td>\n",
       "      <td>1337</td>\n",
       "      <td>CMV: Trans activists who claim it is transphob...</td>\n",
       "      <td>Several trans activist youtubers have posted v...</td>\n",
       "    </tr>\n",
       "    <tr>\n",
       "      <th>42</th>\n",
       "      <td>BasicRedditor1997</td>\n",
       "      <td>1100</td>\n",
       "      <td>1</td>\n",
       "      <td>CMV:Making children pledge allegiance to the f...</td>\n",
       "      <td>Every day from Kindergarten through 12th grade...</td>\n",
       "    </tr>\n",
       "    <tr>\n",
       "      <th>41</th>\n",
       "      <td>mandi4910</td>\n",
       "      <td>1112</td>\n",
       "      <td>3046</td>\n",
       "      <td>CMV: Transgender women shouldn't be allowed to...</td>\n",
       "      <td>Ok first of all i really, really feel like a j...</td>\n",
       "    </tr>\n",
       "    <tr>\n",
       "      <th>30</th>\n",
       "      <td>psychoIogic</td>\n",
       "      <td>1254</td>\n",
       "      <td>1696</td>\n",
       "      <td>CMV: Circumcision of babies should be illegal ...</td>\n",
       "      <td>Some people believe there are benefits that wa...</td>\n",
       "    </tr>\n",
       "    <tr>\n",
       "      <th>9</th>\n",
       "      <td>Akukurotenshi</td>\n",
       "      <td>1783</td>\n",
       "      <td>1847</td>\n",
       "      <td>CMV: Eating dogs is not wrong</td>\n",
       "      <td>You always see people demeaning those who have...</td>\n",
       "    </tr>\n",
       "    <tr>\n",
       "      <th>20</th>\n",
       "      <td>Insert_Alias_Heree</td>\n",
       "      <td>1377</td>\n",
       "      <td>2274</td>\n",
       "      <td>CMV: Those born in poor economic backgrounds, ...</td>\n",
       "      <td>With the increasing amount of Republican actio...</td>\n",
       "    </tr>\n",
       "    <tr>\n",
       "      <th>11</th>\n",
       "      <td>killgoresalmonman</td>\n",
       "      <td>1660</td>\n",
       "      <td>3262</td>\n",
       "      <td>CMV: There’s no fact or logic based reason to ...</td>\n",
       "      <td>The science is clear that climate change is re...</td>\n",
       "    </tr>\n",
       "    <tr>\n",
       "      <th>12</th>\n",
       "      <td>ThrowingThisAwayBtw</td>\n",
       "      <td>1594</td>\n",
       "      <td>1</td>\n",
       "      <td>CMV: Killing animals for pleasure is wrong</td>\n",
       "      <td>Hi all!\\n\\nI've recently been thinking a lot a...</td>\n",
       "    </tr>\n",
       "    <tr>\n",
       "      <th>6</th>\n",
       "      <td>carlsaganheaven</td>\n",
       "      <td>1877</td>\n",
       "      <td>3062</td>\n",
       "      <td>CMV: In heterosexual relationships the problem...</td>\n",
       "      <td>It's a common conception that when you marry a...</td>\n",
       "    </tr>\n",
       "  </tbody>\n",
       "</table>\n",
       "</div>"
      ],
      "text/plain": [
       "                 author  num_comments  score  \\\n",
       "15       Birb-Brain-Syn          1468   3491   \n",
       "0           Amiller1776          2617   1337   \n",
       "42    BasicRedditor1997          1100      1   \n",
       "41            mandi4910          1112   3046   \n",
       "30          psychoIogic          1254   1696   \n",
       "9         Akukurotenshi          1783   1847   \n",
       "20   Insert_Alias_Heree          1377   2274   \n",
       "11    killgoresalmonman          1660   3262   \n",
       "12  ThrowingThisAwayBtw          1594      1   \n",
       "6       carlsaganheaven          1877   3062   \n",
       "\n",
       "                                                title  \\\n",
       "15  CMV: Anyone working a full-time job should be ...   \n",
       "0   CMV: Trans activists who claim it is transphob...   \n",
       "42  CMV:Making children pledge allegiance to the f...   \n",
       "41  CMV: Transgender women shouldn't be allowed to...   \n",
       "30  CMV: Circumcision of babies should be illegal ...   \n",
       "9                       CMV: Eating dogs is not wrong   \n",
       "20  CMV: Those born in poor economic backgrounds, ...   \n",
       "11  CMV: There’s no fact or logic based reason to ...   \n",
       "12         CMV: Killing animals for pleasure is wrong   \n",
       "6   CMV: In heterosexual relationships the problem...   \n",
       "\n",
       "                                             selftext  \n",
       "15  So for me the above held opinion is straight-f...  \n",
       "0   Several trans activist youtubers have posted v...  \n",
       "42  Every day from Kindergarten through 12th grade...  \n",
       "41  Ok first of all i really, really feel like a j...  \n",
       "30  Some people believe there are benefits that wa...  \n",
       "9   You always see people demeaning those who have...  \n",
       "20  With the increasing amount of Republican actio...  \n",
       "11  The science is clear that climate change is re...  \n",
       "12  Hi all!\\n\\nI've recently been thinking a lot a...  \n",
       "6   It's a common conception that when you marry a...  "
      ]
     },
     "execution_count": 9,
     "metadata": {},
     "output_type": "execute_result"
    }
   ],
   "source": [
    "df[columns_to_keep].sample(10)"
   ]
  },
  {
   "cell_type": "markdown",
   "metadata": {},
   "source": [
    "That's a bit easier to handle.  We can always add or take away keys as needed. "
   ]
  },
  {
   "cell_type": "markdown",
   "metadata": {},
   "source": [
    "For relatively simple (but easily obtainable) data visualizations through the Pushift API, we can check out the [Pushshift Reddit Search](https://redditsearch.io/)"
   ]
  },
  {
   "cell_type": "markdown",
   "metadata": {},
   "source": [
    "### Pushshift Exercise 2"
   ]
  },
  {
   "cell_type": "code",
   "execution_count": null,
   "metadata": {},
   "outputs": [],
   "source": []
  }
 ],
 "metadata": {
  "kernelspec": {
   "display_name": "Python 3",
   "language": "python",
   "name": "python3"
  },
  "language_info": {
   "codemirror_mode": {
    "name": "ipython",
    "version": 3
   },
   "file_extension": ".py",
   "mimetype": "text/x-python",
   "name": "python",
   "nbconvert_exporter": "python",
   "pygments_lexer": "ipython3",
   "version": "3.7.6"
  }
 },
 "nbformat": 4,
 "nbformat_minor": 4
}
