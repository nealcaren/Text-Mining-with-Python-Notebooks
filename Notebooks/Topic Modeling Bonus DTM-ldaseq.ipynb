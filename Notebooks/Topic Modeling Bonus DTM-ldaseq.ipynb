{
 "cells": [
  {
   "cell_type": "markdown",
   "metadata": {},
   "source": [
    "# Topic Modeling: Beyond LDA"
   ]
  },
  {
   "cell_type": "markdown",
   "metadata": {},
   "source": [
    "While LDA topic modeling's ability to pick up on latent themes in large collections of texts can be quite useful (hence the model's popularity), LDA models nevertheless have a number of limitations. To name a few, LDA models don't account for the passage of time, the models have difficulty determining any relationships among generated topics, and topics become considerably less useful when the model is applied to shorter corpera with shorter document lengths.\n",
    "\n",
    "In this chapter, we'll present some alternative approaches to topic modeling that help to mitigate these limitations of LDA modeling.  "
   ]
  },
  {
   "cell_type": "markdown",
   "metadata": {},
   "source": [
    "## Dynamic Topic Modeling \n"
   ]
  },
  {
   "cell_type": "markdown",
   "metadata": {},
   "source": [
    "In developing Dynamic Topic Modeling, or DTM, [Blei and Lafferty](https://dl.acm.org/doi/pdf/10.1145/1143844.1143859) wanted to account for the possibility that content within a collection of texts could evolve over time, something traditional LDA topic modeling doesn't consider. To do so, they developed a form of topic modeling that could trace the evolution of the topics generated over time. In DTM, then, we can see our topics develop as time passes."
   ]
  },
  {
   "cell_type": "markdown",
   "metadata": {},
   "source": [
    "### Gensim\n",
    "\n",
    "In order to run Dynamic Topic Modeling in Python, we'll be installing the [Gensim](https://radimrehurek.com/gensim/index.html) topic modeling library. We'll also want to make sure we've installed Gensim's dependencies. "
   ]
  },
  {
   "cell_type": "code",
   "execution_count": 1,
   "metadata": {},
   "outputs": [
    {
     "name": "stdout",
     "output_type": "stream",
     "text": []
    }
   ],
   "source": [
    "pip install gensim"
   ]
  },
  {
   "cell_type": "code",
   "execution_count": 2,
   "metadata": {},
   "outputs": [
    {
     "name": "stdout",
     "output_type": "stream",
     "text": []
    }
   ],
   "source": [
    "pip install smart-open"
   ]
  },
  {
   "cell_type": "markdown",
   "metadata": {},
   "source": [
    "From Gensim, we'll import [ldaseq](https://radimrehurek.com/gensim/models/ldaseqmodel.html), the library's built-in Dynamic Topic Modeling function.  "
   ]
  },
  {
   "cell_type": "code",
   "execution_count": 9,
   "metadata": {},
   "outputs": [],
   "source": [
    "from gensim.models import ldaseqmodel\n",
    "from gensim.corpora import Dictionary, bleicorpus\n",
    "import numpy\n",
    "from gensim.matutils import hellinger\n",
    "\n",
    "import gensim.downloader as api"
   ]
  },
  {
   "cell_type": "code",
   "execution_count": 12,
   "metadata": {},
   "outputs": [],
   "source": [
    "try:\n",
    "    dictionary = Dictionary.load('data/news_dictionary')\n",
    "except FileNotFoundError as e:\n",
    "    raise ValueError(\"SKIP: Please download the Corpus/news_dictionary dataset.\")\n",
    "corpus = bleicorpus.BleiCorpus('data/news_corpus')\n",
    "# it's very important that your corpus is saved in order of your time-slices!\n",
    "\n"
   ]
  },
  {
   "cell_type": "code",
   "execution_count": 13,
   "metadata": {},
   "outputs": [],
   "source": [
    "time_slice = [438, 430, 456]\n",
    "\n"
   ]
  },
  {
   "cell_type": "code",
   "execution_count": 14,
   "metadata": {},
   "outputs": [
    {
     "name": "stderr",
     "output_type": "stream",
     "text": [
      "/Users/nealcaren/anaconda3/envs/tmwp/lib/python3.8/site-packages/gensim/models/ldaseqmodel.py:293: RuntimeWarning: divide by zero encountered in double_scalars\n",
      "  convergence = np.fabs((bound - old_bound) / old_bound)\n"
     ]
    }
   ],
   "source": [
    "ldaseq = ldaseqmodel.LdaSeqModel(corpus=corpus, id2word=dictionary, time_slice=time_slice, num_topics=5)\n"
   ]
  },
  {
   "cell_type": "code",
   "execution_count": 15,
   "metadata": {},
   "outputs": [
    {
     "data": {
      "text/plain": [
       "[[('best', 0.0064699199352853745),\n",
       "  ('film', 0.0046696348871453405),\n",
       "  ('music', 0.0037431748326163796),\n",
       "  ('users', 0.0035332218935211685),\n",
       "  ('use', 0.003357881613604223),\n",
       "  ('mobile', 0.0033464010016513493),\n",
       "  ('number', 0.003134513814075107),\n",
       "  ('net', 0.002801237575047667),\n",
       "  ('last', 0.002730599219249108),\n",
       "  ('first', 0.002662086215837613),\n",
       "  ('million', 0.00262103365811086),\n",
       "  ('tv', 0.002486489364106573),\n",
       "  ('uk', 0.0023887279979344497),\n",
       "  ('phone', 0.002331825251081979),\n",
       "  ('top', 0.002329741843296296),\n",
       "  ('information', 0.0023156870935885825),\n",
       "  ('used', 0.0022992825186095964),\n",
       "  ('search', 0.002269481138485555),\n",
       "  ('show', 0.002259953203175781),\n",
       "  ('band', 0.002236894206645714)],\n",
       " [('game', 0.00602000929605834),\n",
       "  ('club', 0.003994651876693231),\n",
       "  ('chelsea', 0.0038912733368930076),\n",
       "  ('players', 0.003779559095340811),\n",
       "  ('last', 0.0037256236854489176),\n",
       "  ('first', 0.0037147325049830733),\n",
       "  ('league', 0.003423070085586388),\n",
       "  ('think', 0.003386028605100013),\n",
       "  ('united', 0.0033284288087126637),\n",
       "  ('play', 0.0032926266158157286),\n",
       "  ('cup', 0.0031780565575247914),\n",
       "  ('arsenal', 0.003098416398977171),\n",
       "  ('like', 0.003034915727785599),\n",
       "  ('win', 0.003024317984640828),\n",
       "  ('good', 0.002986005004837751),\n",
       "  ('manchester', 0.002883026171617765),\n",
       "  ('manager', 0.002847996141807835),\n",
       "  ('got', 0.002731493707906958),\n",
       "  (\"don't\", 0.0026758678167527043),\n",
       "  ('games', 0.0026396154654528743)],\n",
       " [('world', 0.003226564248493927),\n",
       "  ('first', 0.00251849513004872),\n",
       "  ('make', 0.0023643297172749626),\n",
       "  ('next', 0.002248303128048816),\n",
       "  ('set', 0.002241134731520339),\n",
       "  ('games', 0.0022395343314237756),\n",
       "  ('technology', 0.0020615009605426914),\n",
       "  ('much', 0.001933529034166009),\n",
       "  ('time', 0.0019304698909921566),\n",
       "  ('says', 0.0018294442561707707),\n",
       "  ('president', 0.001732627955899744),\n",
       "  ('like', 0.001713090897948452),\n",
       "  ('uk', 0.0016947364991772244),\n",
       "  ('report', 0.0015568530832991774),\n",
       "  ('take', 0.0015289887109389854),\n",
       "  ('year', 0.0015275098927167306),\n",
       "  ('european', 0.0015227195805888826),\n",
       "  ('tv', 0.0015156940048914641),\n",
       "  ('bbc', 0.0014819914271543078),\n",
       "  ('international', 0.0014754052019566727)],\n",
       " [('last', 0.004657430931035023),\n",
       "  ('market', 0.0037261480084963892),\n",
       "  ('growth', 0.003629101315663984),\n",
       "  ('year', 0.0035318502439134793),\n",
       "  ('oil', 0.003173327206556623),\n",
       "  ('sales', 0.0031423033520946277),\n",
       "  ('company', 0.0030469888988465515),\n",
       "  ('economy', 0.0029112730341738446),\n",
       "  ('bank', 0.0028016828228606123),\n",
       "  ('firm', 0.0027151382672291236),\n",
       "  ('economic', 0.002705543481833128),\n",
       "  ('prices', 0.002672508699291762),\n",
       "  ('may', 0.002473181105095688),\n",
       "  ('rise', 0.002451066996675075),\n",
       "  ('however,', 0.002448487509706171),\n",
       "  ('broadband', 0.0024447975908429304),\n",
       "  ('chief', 0.0023464757821986767),\n",
       "  ('shares', 0.0023402260941796957),\n",
       "  ('government', 0.002179270566963128),\n",
       "  ('figures', 0.0021306675568354802)],\n",
       " [('government', 0.005614273427579576),\n",
       "  ('blair', 0.005125433854723297),\n",
       "  ('labour', 0.0047933365191644315),\n",
       "  ('minister', 0.003967519048920025),\n",
       "  ('public', 0.003347964496893304),\n",
       "  ('party', 0.0032839105104496597),\n",
       "  ('prime', 0.0031237355024329),\n",
       "  ('say', 0.00310686912793347),\n",
       "  ('election', 0.003082983732284391),\n",
       "  ('lord', 0.0028210378377039286),\n",
       "  ('bbc', 0.002767780117201593),\n",
       "  ('howard', 0.002684820951293377),\n",
       "  ('law', 0.0026339554380535573),\n",
       "  ('brown', 0.002528270454467676),\n",
       "  ('tory', 0.0023942419922958658),\n",
       "  ('home', 0.002201822333067606),\n",
       "  ('leader', 0.002183665827839696),\n",
       "  ('says', 0.002131884615500595),\n",
       "  ('plans', 0.002107202467246643),\n",
       "  ('make', 0.002096548899111333)]]"
      ]
     },
     "execution_count": 15,
     "metadata": {},
     "output_type": "execute_result"
    }
   ],
   "source": [
    "ldaseq.print_topics(time=0)"
   ]
  },
  {
   "cell_type": "code",
   "execution_count": 18,
   "metadata": {},
   "outputs": [
    {
     "data": {
      "text/plain": [
       "[[('world', 0.003226564248493927),\n",
       "  ('first', 0.00251849513004872),\n",
       "  ('make', 0.0023643297172749626),\n",
       "  ('next', 0.002248303128048816),\n",
       "  ('set', 0.002241134731520339),\n",
       "  ('games', 0.0022395343314237756),\n",
       "  ('technology', 0.0020615009605426914),\n",
       "  ('much', 0.001933529034166009),\n",
       "  ('time', 0.0019304698909921566),\n",
       "  ('says', 0.0018294442561707707),\n",
       "  ('president', 0.001732627955899744),\n",
       "  ('like', 0.001713090897948452),\n",
       "  ('uk', 0.0016947364991772244),\n",
       "  ('report', 0.0015568530832991774),\n",
       "  ('take', 0.0015289887109389854),\n",
       "  ('year', 0.0015275098927167306),\n",
       "  ('european', 0.0015227195805888826),\n",
       "  ('tv', 0.0015156940048914641),\n",
       "  ('bbc', 0.0014819914271543078),\n",
       "  ('international', 0.0014754052019566727)],\n",
       " [('world', 0.003256410401115555),\n",
       "  ('first', 0.002483641568147494),\n",
       "  ('make', 0.0023734800644187315),\n",
       "  ('next', 0.0022754553324343643),\n",
       "  ('games', 0.0022717957491604447),\n",
       "  ('set', 0.0022226226850457407),\n",
       "  ('technology', 0.002098170012102668),\n",
       "  ('much', 0.00195653973044246),\n",
       "  ('time', 0.0019376439692835898),\n",
       "  ('says', 0.001799752235044203),\n",
       "  ('president', 0.0017537073116581216),\n",
       "  ('like', 0.0017215508038870683),\n",
       "  ('uk', 0.0016979789750836984),\n",
       "  ('report', 0.0015550661363553965),\n",
       "  ('tv', 0.0015530434870365277),\n",
       "  ('european', 0.0015429238199405864),\n",
       "  ('take', 0.0015329746096345092),\n",
       "  ('year', 0.0015318879130317494),\n",
       "  ('international', 0.0014983850967168451),\n",
       "  ('bbc', 0.0014886260071663231)],\n",
       " [('world', 0.0032889650445234123),\n",
       "  ('first', 0.002495613278068054),\n",
       "  ('make', 0.002380689070848701),\n",
       "  ('games', 0.0023055226276141568),\n",
       "  ('next', 0.002301769470716673),\n",
       "  ('set', 0.0021859365402591537),\n",
       "  ('technology', 0.0021369294860694474),\n",
       "  ('much', 0.001986048322397597),\n",
       "  ('time', 0.001946483974402633),\n",
       "  ('says', 0.0017992217193086705),\n",
       "  ('president', 0.001771938133931224),\n",
       "  ('like', 0.0017327356408611372),\n",
       "  ('uk', 0.0016984305446751844),\n",
       "  ('tv', 0.0015991033689037224),\n",
       "  ('report', 0.001550858402058789),\n",
       "  ('take', 0.001537365740321119),\n",
       "  ('european', 0.0015342523735088725),\n",
       "  ('bbc', 0.0015200477242855418),\n",
       "  ('year', 0.0015180600631957576),\n",
       "  ('going', 0.0014937093353727011)]]"
      ]
     },
     "execution_count": 18,
     "metadata": {},
     "output_type": "execute_result"
    }
   ],
   "source": [
    "ldaseq.print_topic_times(topic=2)"
   ]
  },
  {
   "cell_type": "code",
   "execution_count": 13,
   "metadata": {},
   "outputs": [
    {
     "name": "stdout",
     "output_type": "stream",
     "text": [
      "['set', 'time,\"', 'chairman', 'decision', 'news', 'director', 'former', 'vowed', '\"it', 'results', 'club', 'third', 'home', 'paul', 'saturday.', 'south', 'conference', 'leading', '\"some', 'survival', 'needed', 'coach', \"don't\", 'every', 'trouble', 'desperate', 'eight', 'first', 'win', 'going', 'park', 'near', 'chance', 'manager', 'league', 'milan', 'games', 'go', 'game', 'foot', 'say', 'upset', \"i'm\", 'poor', 'season.', 'executive', 'road', '24', 'debut', 'portsmouth.', 'give', 'claiming', 'steve', 'break', 'rivals', 'boss', 'kevin', 'premiership', 'little', 'left', 'table.', 'life', 'join', 'years.', 'bring', 'season,', 'director.', 'became', 'st', 'according', 'official', 'hope', 'shocked', 'though', 'phone', 'charge', '14', 'website.', 'time,', 'claimed', 'kept', 'bond', 'appointment', 'unveil', 'november', 'picked', 'confirmed,', 'believed', 'deep', 'position', 'surprised', 'negotiations', 'talks', 'gmt', 'middlesbrough', 'replaced', 'appear', 'football,', '\"i\\'m', 'charge.', 'saints', 'southampton', 'sturrock', 'wednesday.', 'harry', 'poised', 'ninth', 'quit', 'relieved', 'chance.\"', 'decision.\"', 'hero', 'redknapp,', 'redknapp', \"saints'\", 'first-team', \"wouldn't\", \"mary's.\", 'portsmouth', \"redknapp's\", 'pompey', 'academy', \"harry's\", 'cult', 'rupert', 'time\".', 'coast', '57,', 'succeed', 'duties', \"'i\", 'bitter,', \"mandaric's\", \"portsmouth's\", 'wigley,', 'wigley', \"southampton',\", '1500', 'mandaric', \"'absolutely\", 'lowe', '\"disappointed\"', 'velimir', 'not\\',\"', 'disgusted', 'disappointed,', 'mandaric,', 'fratton', 'replaces', 'masterminding', 'angry,', 'vowed:', 'informed.\"', 'zajec']\n"
     ]
    }
   ],
   "source": [
    "words = [dictionary[word_id] for word_id, count in corpus[558]]\n",
    "print (words)"
   ]
  },
  {
   "cell_type": "code",
   "execution_count": 14,
   "metadata": {},
   "outputs": [
    {
     "name": "stdout",
     "output_type": "stream",
     "text": [
      "[5.46298825e-05 5.46298825e-05 5.46298825e-05 9.99781480e-01\n",
      " 5.46298825e-05]\n"
     ]
    }
   ],
   "source": [
    "doc = ldaseq.doc_topics(558)\n",
    "print (doc)"
   ]
  },
  {
   "cell_type": "code",
   "execution_count": 15,
   "metadata": {},
   "outputs": [
    {
     "name": "stdout",
     "output_type": "stream",
     "text": [
      "[0.00110497 0.00110497 0.28760389 0.32584256 0.38434361]\n"
     ]
    }
   ],
   "source": [
    "doc_football_1 = ['economy', 'bank', 'mobile', 'phone', 'markets', 'buy', 'football', 'united', 'giggs']\n",
    "doc_football_1 = dictionary.doc2bow(doc_football_1)\n",
    "doc_football_1 = ldaseq[doc_football_1]\n",
    "print (doc_football_1)"
   ]
  },
  {
   "cell_type": "code",
   "execution_count": 16,
   "metadata": {},
   "outputs": [],
   "source": [
    "doc_football_2 = ['arsenal', 'fourth', 'wenger', 'oil', 'middle', 'east', 'sanction', 'fluctuation']\n",
    "doc_football_2 = dictionary.doc2bow(doc_football_2)\n",
    "doc_football_2 = ldaseq[doc_football_2]"
   ]
  },
  {
   "cell_type": "code",
   "execution_count": 17,
   "metadata": {},
   "outputs": [
    {
     "data": {
      "text/plain": [
       "0.3708314381087008"
      ]
     },
     "execution_count": 17,
     "metadata": {},
     "output_type": "execute_result"
    }
   ],
   "source": [
    "hellinger(doc_football_1, doc_football_2)"
   ]
  },
  {
   "cell_type": "code",
   "execution_count": 18,
   "metadata": {},
   "outputs": [
    {
     "data": {
      "text/plain": [
       "0.5832871030021028"
      ]
     },
     "execution_count": 18,
     "metadata": {},
     "output_type": "execute_result"
    }
   ],
   "source": [
    "doc_governemt_1 = ['tony', 'government', 'house', 'party', 'vote', 'european', 'official', 'house']\n",
    "doc_governemt_1 = dictionary.doc2bow(doc_governemt_1)\n",
    "doc_governemt_1 = ldaseq[doc_governemt_1]\n",
    "\n",
    "hellinger(doc_football_1, doc_governemt_1)"
   ]
  },
  {
   "cell_type": "code",
   "execution_count": 19,
   "metadata": {},
   "outputs": [
    {
     "data": {
      "text/plain": [
       "[[('games', 0.0030960428821932623),\n",
       "  ('use', 0.0030513819041573867),\n",
       "  ('make', 0.0026425481484576747),\n",
       "  ('used', 0.002512950927273868),\n",
       "  ('first', 0.0024090568962250084),\n",
       "  ('bbc', 0.002392128312440404),\n",
       "  ('technology', 0.0021596236304352668),\n",
       "  ('like', 0.0021132297702587),\n",
       "  ('next', 0.0020291895275067755),\n",
       "  ('law', 0.0020103860316839253),\n",
       "  ('mobile', 0.00199904809885942),\n",
       "  ('police', 0.0019562567886351407),\n",
       "  ('home', 0.0018999170629895186),\n",
       "  ('uk', 0.0018614826923549562),\n",
       "  ('way', 0.0018095329990182067),\n",
       "  ('last', 0.0017889330070435848),\n",
       "  ('using', 0.001766340299299561),\n",
       "  ('work', 0.001759745370395607),\n",
       "  ('government', 0.0016859354450111698),\n",
       "  ('rights', 0.0016725928367058124)],\n",
       " [('games', 0.0033398135070882976),\n",
       "  ('use', 0.0028781838964077305),\n",
       "  ('make', 0.0025582169710486814),\n",
       "  ('used', 0.0025085443295097456),\n",
       "  ('bbc', 0.0024502671107112252),\n",
       "  ('first', 0.0024151565516086254),\n",
       "  ('technology', 0.0022497541869066643),\n",
       "  ('like', 0.002136215193883239),\n",
       "  ('police', 0.002106232979565341),\n",
       "  ('next', 0.002047177101912363),\n",
       "  ('law', 0.0020183006662681155),\n",
       "  ('mobile', 0.0018737284041006812),\n",
       "  ('uk', 0.0018708490363931064),\n",
       "  ('home', 0.0018694628573068083),\n",
       "  ('last', 0.0018185529917622313),\n",
       "  ('way', 0.0018128397554240346),\n",
       "  ('work', 0.001753533395536991),\n",
       "  ('using', 0.0017471922212188877),\n",
       "  ('government', 0.0016813562901034273),\n",
       "  ('dr', 0.0016808858772922263)],\n",
       " [('games', 0.003286144073555464),\n",
       "  ('use', 0.00301930214000456),\n",
       "  ('make', 0.0025991470745884153),\n",
       "  ('used', 0.002512271279424453),\n",
       "  ('first', 0.0024194756985837893),\n",
       "  ('technology', 0.002330548120967834),\n",
       "  ('bbc', 0.002232262405677343),\n",
       "  ('like', 0.002160817039531798),\n",
       "  ('next', 0.0020643488326789698),\n",
       "  ('law', 0.0020131105271263584),\n",
       "  ('police', 0.0019941298605835596),\n",
       "  ('mobile', 0.0019688939761873473),\n",
       "  ('home', 0.0019221013838887917),\n",
       "  ('uk', 0.0018859346588694396),\n",
       "  ('last', 0.0018228180308897334),\n",
       "  ('way', 0.0018175961721567185),\n",
       "  ('using', 0.001774996493246776),\n",
       "  ('work', 0.0017457344493204841),\n",
       "  ('rights', 0.0017188193485833383),\n",
       "  ('government', 0.0017050075383719591)]]"
      ]
     },
     "execution_count": 19,
     "metadata": {},
     "output_type": "execute_result"
    }
   ],
   "source": [
    "ldaseq.print_topic_times(1)\n"
   ]
  },
  {
   "cell_type": "markdown",
   "metadata": {},
   "source": [
    "## Short Text Topic Modeling"
   ]
  },
  {
   "cell_type": "markdown",
   "metadata": {},
   "source": [
    "While LDA topic modeling works well when the texts in our corpus are considerably lengthy (around fifty words or more), LDA models run into some issues when applied to shorter texts. This happens because of a major assumption of LDA modeling: that each text is a *mixture of topics*. While this makes sense in the case of longer texts, shorter texts, like social media posts, often consist of only a *single topic*. "
   ]
  },
  {
   "cell_type": "code",
   "execution_count": 30,
   "metadata": {},
   "outputs": [],
   "source": [
    "# Working on it...Code's giving me trouble but that's nothing new. \n",
    "\n",
    "import spacy\n",
    "import gsdmm\n",
    "\n",
    "from sklearn.datasets import fetch_20newsgroups\n",
    "\n",
    "import pickle\n",
    "import matplotlib\n",
    "import pandas as pd\n",
    "import numpy as np\n",
    "import ast"
   ]
  },
  {
   "cell_type": "code",
   "execution_count": 31,
   "metadata": {},
   "outputs": [],
   "source": [
    "cats = ['talk.politics.mideast', 'comp.windows.x', 'sci.space']\n",
    "\n",
    "newsgroups_train = fetch_20newsgroups(subset='train', remove=('headers', 'footers', 'quotes'), categories=cats)\n",
    "newsgroups_train_subject = fetch_20newsgroups(subset='train', categories=cats)\n",
    "\n",
    "data = newsgroups_train.data\n",
    "data_subject = newsgroups_train_subject.data\n",
    "\n",
    "targets = newsgroups_train.target.tolist()\n",
    "target_names = newsgroups_train.target_names"
   ]
  },
  {
   "cell_type": "markdown",
   "metadata": {},
   "source": [
    "## References\n",
    "\n",
    "Alghamdi, Rubayyi and Khalid Alfalqi. 2015. \"A Survey of Topic Modeling in Text Mining.\" *Int. J. Adv. Comput. Sci. Appl.(IJACSA)*, 6(1).\n",
    "\n",
    "Blei, David M. and John D. Lafferty. 2006. \"Dynamic Topic Models.\" In *Proceedings of the 23rd International Conference on Machine Learning* (pp. 113-120).\n",
    "\n",
    "https://towardsdatascience.com/short-text-topic-modeling-70e50a57c883\n",
    "\n",
    "https://markroxor.github.io/gensim/static/notebooks/ldaseqmodel.html"
   ]
  },
  {
   "cell_type": "code",
   "execution_count": null,
   "metadata": {},
   "outputs": [],
   "source": []
  }
 ],
 "metadata": {
  "kernelspec": {
   "display_name": "Python 3",
   "language": "python",
   "name": "python3"
  },
  "language_info": {
   "codemirror_mode": {
    "name": "ipython",
    "version": 3
   },
   "file_extension": ".py",
   "mimetype": "text/x-python",
   "name": "python",
   "nbconvert_exporter": "python",
   "pygments_lexer": "ipython3",
   "version": "3.8.2"
  }
 },
 "nbformat": 4,
 "nbformat_minor": 4
}
