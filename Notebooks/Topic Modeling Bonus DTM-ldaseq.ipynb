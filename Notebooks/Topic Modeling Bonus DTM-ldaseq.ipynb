{
 "cells": [
  {
   "cell_type": "markdown",
   "metadata": {},
   "source": [
    "# Topic Modeling: Beyond LDA"
   ]
  },
  {
   "cell_type": "markdown",
   "metadata": {},
   "source": [
    "While LDA topic modeling's ability to pick up on latent themes in large collections of texts can be quite useful (hence the model's popularity), LDA models nevertheless have a number of limitations. To name a few, LDA models don't account for the passage of time, the models have difficulty determining any relationships among generated topics, and topics become considerably less useful when the model is applied to shorter corpera with shorter document lengths.\n",
    "\n",
    "In this chapter, we'll present some alternative approaches to topic modeling that help to mitigate these limitations of LDA modeling.  "
   ]
  },
  {
   "cell_type": "markdown",
   "metadata": {},
   "source": [
    "## Dynamic Topic Modeling \n"
   ]
  },
  {
   "cell_type": "markdown",
   "metadata": {},
   "source": [
    "In developing Dynamic Topic Modeling, or DTM, [Blei and Lafferty](https://dl.acm.org/doi/pdf/10.1145/1143844.1143859) wanted to account for the possibility that content within a collection of texts could evolve over time, something traditional LDA topic modeling doesn't consider. To do so, they developed a form of topic modeling that could trace the evolution of the topics generated over time. In DTM, then, we can see our topics develop as time passes."
   ]
  },
  {
   "cell_type": "markdown",
   "metadata": {},
   "source": [
    "### Gensim\n",
    "\n",
    "In order to run Dynamic Topic Modeling in Python, we'll be installing the [Gensim](https://radimrehurek.com/gensim/index.html) topic modeling library. (We'll also want to make sure we've installed Gensim's dependencies.)"
   ]
  },
  {
   "cell_type": "code",
   "execution_count": 1,
   "metadata": {},
   "outputs": [
    {
     "name": "stdout",
     "output_type": "stream",
     "text": []
    }
   ],
   "source": [
    "pip install gensim"
   ]
  },
  {
   "cell_type": "markdown",
   "metadata": {},
   "source": [
    "From Gensim, we'll import [ldaseq](https://radimrehurek.com/gensim/models/ldaseqmodel.html), the library's built-in Dynamic Topic Modeling function.  "
   ]
  },
  {
   "cell_type": "code",
   "execution_count": 2,
   "metadata": {},
   "outputs": [],
   "source": [
    "from gensim.models import LdaSeqModel"
   ]
  },
  {
   "cell_type": "markdown",
   "metadata": {},
   "source": [
    "#### LdaSeqModel Parameters: \n",
    "\n",
    "- **corpus**: The collection of document vectors we'll use to fit our LDA Sequence model.\n",
    "\n",
    "\n",
    "- **id2word**: Allows us to map word IDs onto words, and helps determinine the size of our vocabulary.\n",
    "\n",
    "\n",
    "\n",
    "- **time_slice**: The number of documents we'd like to include within each period of time we want our model to consider. \n",
    "\n",
    "\n",
    "- **num_topics**: The total number of topics we'd like our model to determine.\n",
    "\n",
    "\n",
    "- **passes**: This parameter functions in a similar manner to the `max_iter` parameter we set when running a conventional LDA model with scikit-learn. Like `max_iter`, `passes` is set to 10 by default. As was the case before, we'll almost always want to set `passes` to a number higher than 10.  \n",
    "\n",
    "\n",
    "- **em_max_iter**: Sets a maximum threshold on the number of iterations until we reach convergence of the  [Expectation-Maximization](https://en.wikipedia.org/wiki/Expectation%E2%80%93maximization_algorithm) algorithm.\n",
    "\n",
    "(*note to self: need a better link than Wikipedia*)\n",
    "\n"
   ]
  },
  {
   "cell_type": "markdown",
   "metadata": {},
   "source": [
    "Just to get a handle on the `LdaSeqModel` function, we'll run the model with gensim's common corpus and dictionary. We'll use the common dictionary for the `id2word` parameter when we run our model."
   ]
  },
  {
   "cell_type": "code",
   "execution_count": 3,
   "metadata": {},
   "outputs": [],
   "source": [
    "from gensim.test.utils import common_corpus\n",
    "from gensim.test.utils import common_dictionary\n",
    "\n",
    "corpus = common_corpus\n",
    "dictionary = common_dictionary"
   ]
  },
  {
   "cell_type": "code",
   "execution_count": 4,
   "metadata": {
    "scrolled": true
   },
   "outputs": [
    {
     "name": "stderr",
     "output_type": "stream",
     "text": []
    }
   ],
   "source": [
    "ldaseq = LdaSeqModel(corpus=common_corpus, id2word=dictionary, time_slice=[2, 4, 3], num_topics=2)"
   ]
  },
  {
   "cell_type": "markdown",
   "metadata": {},
   "source": [
    "As you can see below, the topics generated with the Gensim common corpus and dictionary don't appear to vary much over time:"
   ]
  },
  {
   "cell_type": "code",
   "execution_count": 5,
   "metadata": {},
   "outputs": [
    {
     "data": {
      "text/plain": [
       "[[('system', 0.21157474442727292),\n",
       "  ('user', 0.16464543889319655),\n",
       "  ('computer', 0.11780520871853883),\n",
       "  ('interface', 0.11780520871853883),\n",
       "  ('eps', 0.06967385482884698),\n",
       "  ('response', 0.06951097868862414),\n",
       "  ('time', 0.06951097868862414),\n",
       "  ('survey', 0.051180555909905195),\n",
       "  ('trees', 0.032452567340626),\n",
       "  ('graph', 0.032452567340626),\n",
       "  ('minors', 0.032452567340626),\n",
       "  ('human', 0.030935329104574284)],\n",
       " [('trees', 0.32492222725659636),\n",
       "  ('graph', 0.3235563263440136),\n",
       "  ('minors', 0.2205714063302323),\n",
       "  ('computer', 0.0382488601600507),\n",
       "  ('survey', 0.022503013800186142),\n",
       "  ('human', 0.0100605551936047),\n",
       "  ('interface', 0.0100605551936047),\n",
       "  ('response', 0.0100605551936047),\n",
       "  ('time', 0.0100605551936047),\n",
       "  ('user', 0.0100605551936047),\n",
       "  ('system', 0.00994769507044868),\n",
       "  ('eps', 0.00994769507044868)]]"
      ]
     },
     "execution_count": 5,
     "metadata": {},
     "output_type": "execute_result"
    }
   ],
   "source": [
    "ldaseq.print_topics(time=0)"
   ]
  },
  {
   "cell_type": "code",
   "execution_count": 6,
   "metadata": {},
   "outputs": [
    {
     "data": {
      "text/plain": [
       "[[('system', 0.21240589151067885),\n",
       "  ('user', 0.1646899189988433),\n",
       "  ('computer', 0.11749357289440712),\n",
       "  ('interface', 0.11749357289440712),\n",
       "  ('eps', 0.06963604929122659),\n",
       "  ('response', 0.0694731541329969),\n",
       "  ('time', 0.0694731541329969),\n",
       "  ('survey', 0.05114236405938337),\n",
       "  ('trees', 0.03241859405373477),\n",
       "  ('graph', 0.03241859405373477),\n",
       "  ('minors', 0.03241859405373477),\n",
       "  ('human', 0.030936539923855384)],\n",
       " [('trees', 0.3249256535151684),\n",
       "  ('graph', 0.32373545741107845),\n",
       "  ('minors', 0.22060806640237762),\n",
       "  ('computer', 0.03819443709873786),\n",
       "  ('survey', 0.022472092171356966),\n",
       "  ('human', 0.010041390232247207),\n",
       "  ('interface', 0.010041390232247207),\n",
       "  ('response', 0.010041390232247207),\n",
       "  ('time', 0.010041390232247207),\n",
       "  ('user', 0.010041390232247207),\n",
       "  ('system', 0.00992867112002237),\n",
       "  ('eps', 0.00992867112002237)]]"
      ]
     },
     "execution_count": 6,
     "metadata": {},
     "output_type": "execute_result"
    }
   ],
   "source": [
    "ldaseq.print_topics(time=1)"
   ]
  },
  {
   "cell_type": "code",
   "execution_count": 7,
   "metadata": {},
   "outputs": [
    {
     "data": {
      "text/plain": [
       "[[('system', 0.21241936929164823),\n",
       "  ('user', 0.16472754916179352),\n",
       "  ('computer', 0.11755004609140896),\n",
       "  ('interface', 0.11755004609140896),\n",
       "  ('eps', 0.06960644191233825),\n",
       "  ('response', 0.06944356260480058),\n",
       "  ('time', 0.06944356260480058),\n",
       "  ('survey', 0.05111543816120229),\n",
       "  ('trees', 0.032396675636444675),\n",
       "  ('graph', 0.032396675636444675),\n",
       "  ('minors', 0.032396675636444675),\n",
       "  ('human', 0.030953957171264507)],\n",
       " [('graph', 0.32400816741793875),\n",
       "  ('trees', 0.32379355787054775),\n",
       "  ('minors', 0.22150884150941086),\n",
       "  ('computer', 0.038181772854098815),\n",
       "  ('survey', 0.0224696342220385),\n",
       "  ('human', 0.010037636236713735),\n",
       "  ('interface', 0.010037636236713735),\n",
       "  ('response', 0.010037636236713735),\n",
       "  ('time', 0.010037636236713735),\n",
       "  ('user', 0.010037636236713735),\n",
       "  ('system', 0.009924922471198317),\n",
       "  ('eps', 0.009924922471198317)]]"
      ]
     },
     "execution_count": 7,
     "metadata": {},
     "output_type": "execute_result"
    }
   ],
   "source": [
    "ldaseq.print_topics(time=2)"
   ]
  },
  {
   "cell_type": "markdown",
   "metadata": {},
   "source": [
    "And that's alright: we have no reason to expect any changes! In order to see some real time variance, let's walk through how to apply LDA Sequence topic modeling to our UN general debate data."
   ]
  },
  {
   "cell_type": "code",
   "execution_count": 59,
   "metadata": {},
   "outputs": [],
   "source": [
    "import pandas as pd\n",
    "\n",
    "un_df = pd.read_json('un-general-debates.json')"
   ]
  },
  {
   "cell_type": "markdown",
   "metadata": {},
   "source": [
    "It might be interesting to see how the results of our LDA Sequence model compare to what we saw with the `post-soviet` key when running a conventional LDA model with our UN data.\n",
    "\n",
    "\n",
    "To hone in on the transition from pre-Soviet to post-Soviet (and for the sake of limiting excessive run times), let's look specifically at the 660 documents in the UN dataset from the two years leading up to, and the two years following, the dissolution of the Soviet Union. "
   ]
  },
  {
   "cell_type": "code",
   "execution_count": 10,
   "metadata": {},
   "outputs": [],
   "source": [
    "a = un_df['speech_year'] < 1990"
   ]
  },
  {
   "cell_type": "code",
   "execution_count": 11,
   "metadata": {},
   "outputs": [],
   "source": [
    "b = un_df['speech_year'] > 1993"
   ]
  },
  {
   "cell_type": "code",
   "execution_count": 12,
   "metadata": {},
   "outputs": [
    {
     "name": "stderr",
     "output_type": "stream",
     "text": [
      "<ipython-input-12-0df7f11f4650>:2: UserWarning: Boolean Series key will be reindexed to match DataFrame index.\n",
      "  un_df = un_df[b == False]\n"
     ]
    }
   ],
   "source": [
    "un_df = un_df[a == False]\n",
    "un_df = un_df[b == False]"
   ]
  },
  {
   "cell_type": "code",
   "execution_count": 14,
   "metadata": {},
   "outputs": [
    {
     "data": {
      "text/plain": [
       "count     660.000000\n",
       "mean     1991.546970\n",
       "std         1.119251\n",
       "min      1990.000000\n",
       "25%      1991.000000\n",
       "50%      1992.000000\n",
       "75%      1993.000000\n",
       "max      1993.000000\n",
       "Name: speech_year, dtype: float64"
      ]
     },
     "execution_count": 14,
     "metadata": {},
     "output_type": "execute_result"
    }
   ],
   "source": [
    "un_df['speech_year'].describe()"
   ]
  },
  {
   "cell_type": "markdown",
   "metadata": {},
   "source": [
    "#### Setting up our Corpus\n",
    "\n",
    "[Corpora and Vector Spaces, Gensim style](https://radimrehurek.com/gensim/auto_examples/core/run_corpora_and_vector_spaces.html)"
   ]
  },
  {
   "cell_type": "markdown",
   "metadata": {},
   "source": [
    "The collection of text documents we're looking at is contained within the 'speech_text' key of our UN dataframe:"
   ]
  },
  {
   "cell_type": "code",
   "execution_count": 50,
   "metadata": {},
   "outputs": [
    {
     "data": {
      "text/plain": [
       "0       ﻿It is indeed a pleasure for me and the member...\n",
       "1       ﻿\\nMay I begin by congratulating you. Sir, on ...\n",
       "2       ﻿\\nMr. President, it is a particular pleasure ...\n",
       "3       ﻿\\nDuring the debate at the fortieth session o...\n",
       "4       ﻿I should like at the outset to express my del...\n",
       "                              ...                        \n",
       "3209    I should like to congratulate\\nMr. Essy on his...\n",
       "3210    It is with pleasure that I begin this speech b...\n",
       "3211    Allow me first of all, Sir, to congratulate yo...\n",
       "3212    It is a great pleasure to attend the beginning...\n",
       "3213    Your election,\\nSir, to the presidency of the ...\n",
       "Name: speech_text, Length: 991, dtype: object"
      ]
     },
     "execution_count": 50,
     "metadata": {},
     "output_type": "execute_result"
    }
   ],
   "source": [
    "un_df['speech_text']"
   ]
  },
  {
   "cell_type": "markdown",
   "metadata": {},
   "source": [
    "To set up our corpus with gensim, we'll define a function to iterate over each line of `speech_text`, and generate new tokenized words every time we hit white space. The `doc2bow` method available through gensim.dictionary lets us convert our documents into bag-of-words vectors. "
   ]
  },
  {
   "cell_type": "code",
   "execution_count": 72,
   "metadata": {},
   "outputs": [],
   "source": [
    "text = un_df['speech_text']"
   ]
  },
  {
   "cell_type": "code",
   "execution_count": 76,
   "metadata": {},
   "outputs": [],
   "source": [
    "# \n",
    "\n",
    "class Corpus(object):\n",
    "    def __iter__(self):\n",
    "        for line in un_df['speech_text']:\n",
    "            # assume there's one document per line, tokens separated by whitespace\n",
    "            yield dictionary.doc2bow(line.lower().split())"
   ]
  },
  {
   "cell_type": "markdown",
   "metadata": {},
   "source": [
    "One beneficial aspect of gensim is its ability to load one vectorized document within a corpus into memory at a time, rather than require the entire corpus be stored in RAM. This capability is particularly useful when looking at exceptionally large corpora."
   ]
  },
  {
   "cell_type": "code",
   "execution_count": 77,
   "metadata": {},
   "outputs": [
    {
     "name": "stdout",
     "output_type": "stream",
     "text": [
      "<__main__.Corpus object at 0x113d09610>\n"
     ]
    }
   ],
   "source": [
    "corpus_memory_friendly = Corpus()\n",
    "print(corpus_memory_friendly)"
   ]
  },
  {
   "cell_type": "code",
   "execution_count": 78,
   "metadata": {},
   "outputs": [
    {
     "name": "stdout",
     "output_type": "stream",
     "text": []
    }
   ],
   "source": [
    "for vector in corpus_memory_friendly:  # load one vector into memory at a time\n",
    "    print(vector)"
   ]
  },
  {
   "cell_type": "code",
   "execution_count": null,
   "metadata": {},
   "outputs": [],
   "source": [
    "len(vector)"
   ]
  },
  {
   "cell_type": "markdown",
   "metadata": {},
   "source": [
    "#### Setting Up Our Dictionary"
   ]
  },
  {
   "cell_type": "code",
   "execution_count": 14,
   "metadata": {},
   "outputs": [
    {
     "name": "stdout",
     "output_type": "stream",
     "text": [
      "Dictionary(53943 unique tokens: ['(gnp)', '-', '0.15', '0.7', '1980s']...)\n"
     ]
    }
   ],
   "source": [
    "from gensim import corpora\n",
    "from six import iteritems\n",
    "# collect statistics about all tokens\n",
    "dictionary = corpora.Dictionary(line.lower().split() for line in un_df['speech_text'])\n",
    "# remove stop words and words that appear only once\n",
    "stoplist = set('i me my myself we our ours ourselves you your yours yourself yourselves he him his himself she her hers herself it its itself they them their theirs themselves what which who whom this that these those am is are was were be been being have has had having do does did doing a an the and but if or because as until while of at by for with about against between into through during before after above below to from up down in out on off over under again further then once here there when where why how all any both each few more most other some such no nor not only own same so than too very s t can will just don should now'.split())\n",
    "stop_ids = [\n",
    "    dictionary.token2id[stopword]\n",
    "    for stopword in stoplist\n",
    "    if stopword in dictionary.token2id\n",
    "]\n",
    "once_ids = [tokenid for tokenid, docfreq in iteritems(dictionary.dfs) if docfreq == 1]\n",
    "dictionary.filter_tokens(stop_ids + once_ids) \n",
    "dictionary.compactify()  # remove gaps in id sequence after words that were removed\n",
    "print(dictionary)"
   ]
  },
  {
   "cell_type": "markdown",
   "metadata": {},
   "source": [
    "#### Setting up our Time Slices\n",
    "\n",
    "Let's say we want to look at the evolution of our UN general debate topics over the two years leading up to, and the two years following, the dissolution of the Soviet Union:\n",
    "\n",
    "- 1990-1991 = 156+162 = **318**\n",
    "\n",
    "\n",
    "- 1992-1993 = 167+175 = **342**\n"
   ]
  },
  {
   "cell_type": "code",
   "execution_count": 20,
   "metadata": {},
   "outputs": [],
   "source": [
    "time_slice = [318,342]"
   ]
  },
  {
   "cell_type": "markdown",
   "metadata": {},
   "source": [
    "#### Running the Model"
   ]
  },
  {
   "cell_type": "code",
   "execution_count": 21,
   "metadata": {},
   "outputs": [],
   "source": [
    "import logging\n",
    "logging.basicConfig(format='%(levelname)s : %(message)s', level=logging.INFO)\n",
    "logging.root.level = logging.INFO"
   ]
  },
  {
   "cell_type": "code",
   "execution_count": 24,
   "metadata": {},
   "outputs": [
    {
     "name": "stderr",
     "output_type": "stream",
     "text": []
    }
   ],
   "source": [
    "ldaseq = LdaSeqModel(corpus=corpus_memory_friendly, \n",
    "                     id2word=dictionary, \n",
    "                     time_slice=time_slice,\n",
    "                     passes = 50,\n",
    "                     em_max_iter=5,\n",
    "                     num_topics=3)"
   ]
  },
  {
   "cell_type": "code",
   "execution_count": 25,
   "metadata": {},
   "outputs": [
    {
     "data": {
      "text/plain": [
       "[[('united', 0.012881717301908149),\n",
       "  ('nations', 0.011280328877099661),\n",
       "  ('international', 0.007868745327407932),\n",
       "  ('must', 0.005634522173725254),\n",
       "  ('economic', 0.005587701719408631),\n",
       "  ('development', 0.005392324532478288),\n",
       "  ('peace', 0.0051295945044163545),\n",
       "  ('world', 0.005006519901349834),\n",
       "  ('new', 0.0049545974768700155),\n",
       "  ('countries', 0.0043914934465619756),\n",
       "  ('human', 0.004117930924323075),\n",
       "  ('also', 0.0040500724764122855),\n",
       "  ('government', 0.0037696377673435578),\n",
       "  ('general', 0.0035724675086332893),\n",
       "  ('security', 0.0034434861476462953),\n",
       "  ('-', 0.0032967103729869144),\n",
       "  ('south', 0.0031380994523562077),\n",
       "  ('community', 0.003046577646061582),\n",
       "  ('states', 0.0030270886613179677),\n",
       "  ('assembly', 0.0029712799674285442)],\n",
       " [('united', 0.009784826829961039),\n",
       "  ('nations', 0.007910713170383901),\n",
       "  ('international', 0.007469281120361953),\n",
       "  ('world', 0.00655084196481777),\n",
       "  ('new', 0.0063355256304786205),\n",
       "  ('must', 0.005214561544132191),\n",
       "  ('-', 0.0051282672652508635),\n",
       "  ('human', 0.004587051030698011),\n",
       "  ('also', 0.0038219898542920265),\n",
       "  ('us', 0.003496817407977022),\n",
       "  ('economic', 0.003461477192568198),\n",
       "  ('political', 0.0034517957879124433),\n",
       "  ('states', 0.003410256383600396),\n",
       "  ('one', 0.0033836527205147234),\n",
       "  ('security', 0.003330450074444458),\n",
       "  ('would', 0.003288960535380084),\n",
       "  ('rights', 0.003197761321873865),\n",
       "  ('peace', 0.0031070540865736143),\n",
       "  ('countries', 0.0029438372726670894),\n",
       "  ('people', 0.0027717434194143857)],\n",
       " [('international', 0.013794404012191303),\n",
       "  ('united', 0.008588192815291554),\n",
       "  ('world', 0.006970254149914104),\n",
       "  ('nations', 0.006037298254118421),\n",
       "  ('peace', 0.005909055699880052),\n",
       "  ('countries', 0.00569157128589362),\n",
       "  ('economic', 0.005232804655736931),\n",
       "  ('security', 0.005120602483493202),\n",
       "  ('new', 0.004725697919829968),\n",
       "  ('people', 0.003883619032751766),\n",
       "  ('also', 0.0038731101194008854),\n",
       "  ('efforts', 0.003581592739596062),\n",
       "  ('political', 0.003539653325011604),\n",
       "  ('states', 0.0034934166636922687),\n",
       "  ('development', 0.0030661468658424217),\n",
       "  ('would', 0.0027956066487687895),\n",
       "  ('national', 0.0027686168471429367),\n",
       "  ('council', 0.002748137668608506),\n",
       "  ('community', 0.0027248164148293316),\n",
       "  ('order', 0.0027236540011112355)]]"
      ]
     },
     "execution_count": 25,
     "metadata": {},
     "output_type": "execute_result"
    }
   ],
   "source": [
    "ldaseq.print_topics(time=0)"
   ]
  },
  {
   "cell_type": "code",
   "execution_count": 26,
   "metadata": {},
   "outputs": [
    {
     "data": {
      "text/plain": [
       "[[('united', 0.012912783205095419),\n",
       "  ('nations', 0.011309291084115491),\n",
       "  ('international', 0.007885250524048818),\n",
       "  ('must', 0.005651393301183694),\n",
       "  ('economic', 0.005598877067265602),\n",
       "  ('development', 0.005404092244020621),\n",
       "  ('peace', 0.00513766761184557),\n",
       "  ('world', 0.0050202683819239174),\n",
       "  ('new', 0.004964078200077779),\n",
       "  ('countries', 0.004401119742382695),\n",
       "  ('human', 0.004124063767902681),\n",
       "  ('also', 0.004056794868209944),\n",
       "  ('government', 0.0037769571575736968),\n",
       "  ('general', 0.003577649447417978),\n",
       "  ('security', 0.003448960358703912),\n",
       "  ('-', 0.0032975861209046365),\n",
       "  ('south', 0.003147722741019835),\n",
       "  ('community', 0.0030524088940175067),\n",
       "  ('states', 0.0030297239762284317),\n",
       "  ('assembly', 0.00297587767251621)],\n",
       " [('united', 0.009807382421095415),\n",
       "  ('nations', 0.007929422349966833),\n",
       "  ('international', 0.007488074473874926),\n",
       "  ('world', 0.006567224787098481),\n",
       "  ('new', 0.006349679669450001),\n",
       "  ('must', 0.005231894292532233),\n",
       "  ('-', 0.005125571267160108),\n",
       "  ('human', 0.004592345938780723),\n",
       "  ('also', 0.003830189687162186),\n",
       "  ('us', 0.003504750564666448),\n",
       "  ('economic', 0.003467833174217444),\n",
       "  ('political', 0.003458112081982897),\n",
       "  ('states', 0.0034151712142855314),\n",
       "  ('one', 0.0033906536725752134),\n",
       "  ('security', 0.003337706878050338),\n",
       "  ('would', 0.0032947097231254647),\n",
       "  ('rights', 0.0032012134332017727),\n",
       "  ('peace', 0.0031125711599637213),\n",
       "  ('countries', 0.0029485679571854178),\n",
       "  ('people', 0.0027755637069076617)],\n",
       " [('international', 0.013829848469794757),\n",
       "  ('united', 0.008606905608832247),\n",
       "  ('world', 0.006985309856490742),\n",
       "  ('nations', 0.006049619781967627),\n",
       "  ('peace', 0.005918778988850303),\n",
       "  ('countries', 0.005705431427233758),\n",
       "  ('economic', 0.005242828439653274),\n",
       "  ('security', 0.005129984095195702),\n",
       "  ('new', 0.00470413847003139),\n",
       "  ('people', 0.0038903552563012904),\n",
       "  ('also', 0.0038798340135463493),\n",
       "  ('efforts', 0.003586850766047068),\n",
       "  ('political', 0.0035465986615224377),\n",
       "  ('states', 0.0034967232300330037),\n",
       "  ('development', 0.0030724413410555223),\n",
       "  ('would', 0.0028005483758883455),\n",
       "  ('national', 0.002772476055969511),\n",
       "  ('council', 0.0027526436894261957),\n",
       "  ('community', 0.002730086044671789),\n",
       "  ('order', 0.0027265917794283487)]]"
      ]
     },
     "execution_count": 26,
     "metadata": {},
     "output_type": "execute_result"
    }
   ],
   "source": [
    "ldaseq.print_topics(time=1)"
   ]
  },
  {
   "cell_type": "markdown",
   "metadata": {},
   "source": [
    "## Short Text Topic Modeling"
   ]
  },
  {
   "cell_type": "markdown",
   "metadata": {},
   "source": [
    "While LDA topic modeling works well when the texts in our corpus are considerably lengthy (around fifty words or more), LDA models run into some issues when applied to shorter texts. This happens because of a major assumption of LDA modeling: that each text is a *mixture of topics*. While this makes sense in the case of longer texts, shorter texts, like social media posts, often consist of only a *single topic*. "
   ]
  },
  {
   "cell_type": "code",
   "execution_count": 30,
   "metadata": {},
   "outputs": [],
   "source": [
    "# Working on it...Code's giving me trouble but that's nothing new. \n",
    "\n",
    "import spacy\n",
    "import gsdmm\n",
    "\n",
    "from sklearn.datasets import fetch_20newsgroups\n",
    "\n",
    "import pickle\n",
    "import matplotlib\n",
    "import pandas as pd\n",
    "import numpy as np\n",
    "import ast"
   ]
  },
  {
   "cell_type": "code",
   "execution_count": 31,
   "metadata": {},
   "outputs": [],
   "source": [
    "cats = ['talk.politics.mideast', 'comp.windows.x', 'sci.space']\n",
    "\n",
    "newsgroups_train = fetch_20newsgroups(subset='train', remove=('headers', 'footers', 'quotes'), categories=cats)\n",
    "newsgroups_train_subject = fetch_20newsgroups(subset='train', categories=cats)\n",
    "\n",
    "data = newsgroups_train.data\n",
    "data_subject = newsgroups_train_subject.data\n",
    "\n",
    "targets = newsgroups_train.target.tolist()\n",
    "target_names = newsgroups_train.target_names"
   ]
  },
  {
   "cell_type": "markdown",
   "metadata": {},
   "source": [
    "## References\n",
    "\n",
    "Alghamdi, Rubayyi and Khalid Alfalqi. 2015. \"A Survey of Topic Modeling in Text Mining.\" *Int. J. Adv. Comput. Sci. Appl.(IJACSA)*, 6(1).\n",
    "\n",
    "Blei, David M. and John D. Lafferty. 2006. \"Dynamic Topic Models.\" In *Proceedings of the 23rd International Conference on Machine Learning* (pp. 113-120).\n",
    "\n",
    "https://towardsdatascience.com/short-text-topic-modeling-70e50a57c883\n",
    "\n",
    "https://markroxor.github.io/gensim/static/notebooks/ldaseqmodel.html"
   ]
  },
  {
   "cell_type": "code",
   "execution_count": null,
   "metadata": {},
   "outputs": [],
   "source": []
  }
 ],
 "metadata": {
  "kernelspec": {
   "display_name": "Python 3",
   "language": "python",
   "name": "python3"
  },
  "language_info": {
   "codemirror_mode": {
    "name": "ipython",
    "version": 3
   },
   "file_extension": ".py",
   "mimetype": "text/x-python",
   "name": "python",
   "nbconvert_exporter": "python",
   "pygments_lexer": "ipython3",
   "version": "3.8.3"
  }
 },
 "nbformat": 4,
 "nbformat_minor": 4
}
