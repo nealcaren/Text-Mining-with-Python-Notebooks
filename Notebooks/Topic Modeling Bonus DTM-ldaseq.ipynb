{
 "cells": [
  {
   "cell_type": "markdown",
   "metadata": {},
   "source": [
    "# Topic Modeling: Beyond LDA"
   ]
  },
  {
   "cell_type": "markdown",
   "metadata": {},
   "source": [
    "While LDA topic modeling's ability to pick up on latent themes in large collections of texts can be quite useful (hence the model's popularity), LDA models nevertheless have a number of limitations. To name a few, LDA models don't account for the passage of time, the models have difficulty determining any relationships among generated topics, and topics become considerably less useful when the model is applied to shorter corpera with shorter document lengths.\n",
    "\n",
    "In this chapter, we'll present some alternative approaches to topic modeling that help to mitigate these limitations of LDA modeling.  "
   ]
  },
  {
   "cell_type": "markdown",
   "metadata": {},
   "source": [
    "## Dynamic Topic Modeling \n"
   ]
  },
  {
   "cell_type": "markdown",
   "metadata": {},
   "source": [
    "In developing Dynamic Topic Modeling, or DTM, [Blei and Lafferty](https://dl.acm.org/doi/pdf/10.1145/1143844.1143859) wanted to account for the possibility that content within a collection of texts could evolve over time, something traditional LDA topic modeling doesn't consider. To do so, they developed a form of topic modeling that could trace the evolution of the topics generated over time. In DTM, then, we can see our topics develop as time passes."
   ]
  },
  {
   "cell_type": "markdown",
   "metadata": {},
   "source": [
    "### Gensim\n",
    "\n",
    "In order to run Dynamic Topic Modeling in Python, we'll be installing the [Gensim](https://radimrehurek.com/gensim/index.html) topic modeling library. (We'll also want to make sure we've installed Gensim's dependencies.)"
   ]
  },
  {
   "cell_type": "code",
   "execution_count": 1,
   "metadata": {},
   "outputs": [
    {
     "name": "stdout",
     "output_type": "stream",
     "text": []
    }
   ],
   "source": [
    "pip install gensim"
   ]
  },
  {
   "cell_type": "markdown",
   "metadata": {},
   "source": [
    "From Gensim, we'll import [ldaseq](https://radimrehurek.com/gensim/models/ldaseqmodel.html), the library's built-in Dynamic Topic Modeling function.  "
   ]
  },
  {
   "cell_type": "code",
   "execution_count": 2,
   "metadata": {},
   "outputs": [],
   "source": [
    "from gensim.models import LdaSeqModel"
   ]
  },
  {
   "cell_type": "markdown",
   "metadata": {},
   "source": [
    "Some relavant parameters for `LdaSeqModel` are listed below. For an exhaustive list of parameters, see [here](https://radimrehurek.com/gensim/models/ldaseqmodel.html)."
   ]
  },
  {
   "cell_type": "markdown",
   "metadata": {},
   "source": [
    "#### LdaSeqModel Parameters: \n",
    "\n",
    "- **corpus**: The collection of document vectors we'll use to fit our LDA Sequence model.\n",
    "\n",
    "\n",
    "- **id2word**: Allows us to map word IDs onto words, and helps determinine the size of our vocabulary.\n",
    "\n",
    "\n",
    "\n",
    "- **time_slice**: The number of documents we'd like to include within each period of time we want our model to consider. \n",
    "\n",
    "\n",
    "- **num_topics**: The total number of topics we'd like our model to determine.\n",
    "\n",
    "\n",
    "- **passes**: This parameter functions in a similar manner to the `max_iter` parameter we set when running a conventional LDA model with scikit-learn. Like `max_iter`, `passes` is set to 10 by default. As was the case before, we'll almost always want to set `passes` to a number higher than 10.  \n",
    "\n",
    "\n",
    "- **em_max_iter**: Sets a maximum threshold on the number of iterations until we reach convergence of the  [Expectation-Maximization](https://machinelearningmastery.com/expectation-maximization-em-algorithm/) algorithm.\n",
    "\n"
   ]
  },
  {
   "cell_type": "markdown",
   "metadata": {},
   "source": [
    "Just to get a handle on the `LdaSeqModel` function, we'll run the model with gensim's common corpus and dictionary. We'll use the common dictionary for the `id2word` parameter when we run our model."
   ]
  },
  {
   "cell_type": "code",
   "execution_count": 3,
   "metadata": {},
   "outputs": [],
   "source": [
    "from gensim.test.utils import common_corpus\n",
    "from gensim.test.utils import common_dictionary\n",
    "\n",
    "corpus = common_corpus\n",
    "dictionary = common_dictionary"
   ]
  },
  {
   "cell_type": "code",
   "execution_count": 4,
   "metadata": {
    "scrolled": true
   },
   "outputs": [
    {
     "name": "stderr",
     "output_type": "stream",
     "text": [
      "/opt/anaconda3/envs/tmwp/lib/python3.8/site-packages/gensim/models/ldaseqmodel.py:293: RuntimeWarning: divide by zero encountered in double_scalars\n",
      "  convergence = np.fabs((bound - old_bound) / old_bound)\n"
     ]
    }
   ],
   "source": [
    "ldaseq = LdaSeqModel(corpus=common_corpus, id2word=dictionary, time_slice=[2, 4, 3], num_topics=2)"
   ]
  },
  {
   "cell_type": "markdown",
   "metadata": {},
   "source": [
    "As you can see below, the topics generated with the Gensim common corpus and dictionary don't appear to vary much over time:"
   ]
  },
  {
   "cell_type": "code",
   "execution_count": 5,
   "metadata": {},
   "outputs": [
    {
     "data": {
      "text/plain": [
       "[[('system', 0.3500872945637462),\n",
       "  ('human', 0.11526039385770404),\n",
       "  ('eps', 0.11526039385770404),\n",
       "  ('trees', 0.11526039385770404),\n",
       "  ('computer', 0.05712939613987601),\n",
       "  ('interface', 0.0352860182461808),\n",
       "  ('response', 0.0352860182461808),\n",
       "  ('survey', 0.0352860182461808),\n",
       "  ('time', 0.0352860182461808),\n",
       "  ('user', 0.0352860182461808),\n",
       "  ('graph', 0.0352860182461808),\n",
       "  ('minors', 0.0352860182461808)],\n",
       " [('graph', 0.16474522918783052),\n",
       "  ('computer', 0.1194370345800401),\n",
       "  ('minors', 0.11838819066794232),\n",
       "  ('user', 0.087735576731536),\n",
       "  ('interface', 0.0707031415981611),\n",
       "  ('response', 0.0707031415981611),\n",
       "  ('survey', 0.0707031415981611),\n",
       "  ('system', 0.0707031415981611),\n",
       "  ('time', 0.0707031415981611),\n",
       "  ('trees', 0.0707031415981611),\n",
       "  ('eps', 0.05352918972819657),\n",
       "  ('human', 0.031945929515487775)]]"
      ]
     },
     "execution_count": 5,
     "metadata": {},
     "output_type": "execute_result"
    }
   ],
   "source": [
    "ldaseq.print_topics(time=0)"
   ]
  },
  {
   "cell_type": "code",
   "execution_count": 7,
   "metadata": {},
   "outputs": [
    {
     "data": {
      "text/plain": [
       "[[('trees', 0.3243608170592472),\n",
       "  ('graph', 0.3234742151110741),\n",
       "  ('minors', 0.220496813175908),\n",
       "  ('computer', 0.03785777155563546),\n",
       "  ('survey', 0.02257670871125338),\n",
       "  ('response', 0.01049634623121019),\n",
       "  ('time', 0.01049634623121019),\n",
       "  ('user', 0.010429346903999211),\n",
       "  ('system', 0.010393481443914823),\n",
       "  ('interface', 0.00982587347322914),\n",
       "  ('human', 0.00982162121086277),\n",
       "  ('eps', 0.009770658892455517)],\n",
       " [('system', 0.21248932211335092),\n",
       "  ('user', 0.16452232678346376),\n",
       "  ('computer', 0.11765051434847837),\n",
       "  ('interface', 0.11764919238744044),\n",
       "  ('eps', 0.0703905784058816),\n",
       "  ('response', 0.06926666546634111),\n",
       "  ('time', 0.06926666546634111),\n",
       "  ('survey', 0.050163248656948614),\n",
       "  ('trees', 0.032665889445099405),\n",
       "  ('graph', 0.03249576148851793),\n",
       "  ('minors', 0.03249576148851793),\n",
       "  ('human', 0.030944073949618966)]]"
      ]
     },
     "execution_count": 7,
     "metadata": {},
     "output_type": "execute_result"
    }
   ],
   "source": [
    "ldaseq.print_topics(time=1)"
   ]
  },
  {
   "cell_type": "code",
   "execution_count": 6,
   "metadata": {},
   "outputs": [
    {
     "data": {
      "text/plain": [
       "[[('system', 0.35108063747596746),\n",
       "  ('human', 0.11513026486254897),\n",
       "  ('eps', 0.11513026486254897),\n",
       "  ('trees', 0.11513026486254897),\n",
       "  ('computer', 0.05709400423341178),\n",
       "  ('interface', 0.035204937671853384),\n",
       "  ('response', 0.035204937671853384),\n",
       "  ('survey', 0.035204937671853384),\n",
       "  ('time', 0.035204937671853384),\n",
       "  ('user', 0.035204937671853384),\n",
       "  ('graph', 0.035204937671853384),\n",
       "  ('minors', 0.035204937671853384)],\n",
       " [('graph', 0.16655770842238538),\n",
       "  ('minors', 0.11952449872404979),\n",
       "  ('computer', 0.11817651800551945),\n",
       "  ('user', 0.08750640621056115),\n",
       "  ('interface', 0.07050340763971134),\n",
       "  ('response', 0.07050340763971134),\n",
       "  ('survey', 0.07050340763971134),\n",
       "  ('system', 0.07050340763971134),\n",
       "  ('time', 0.07050340763971134),\n",
       "  ('trees', 0.07050340763971134),\n",
       "  ('eps', 0.05336328226104547),\n",
       "  ('human', 0.03185114053817071)]]"
      ]
     },
     "execution_count": 6,
     "metadata": {},
     "output_type": "execute_result"
    }
   ],
   "source": [
    "ldaseq.print_topics(time=2)"
   ]
  },
  {
   "cell_type": "markdown",
   "metadata": {},
   "source": [
    "And that's alright: we have no reason to expect any changes! In order to see some real time variance, let's walk through how to apply LDA Sequence topic modeling to our UN general debate data."
   ]
  },
  {
   "cell_type": "code",
   "execution_count": 7,
   "metadata": {},
   "outputs": [],
   "source": [
    "import pandas as pd\n",
    "\n",
    "un_df = pd.read_json('un-general-debates.json')"
   ]
  },
  {
   "cell_type": "code",
   "execution_count": 8,
   "metadata": {},
   "outputs": [
    {
     "data": {
      "text/plain": [
       "3214"
      ]
     },
     "execution_count": 8,
     "metadata": {},
     "output_type": "execute_result"
    }
   ],
   "source": [
    "len(un_df)"
   ]
  },
  {
   "cell_type": "markdown",
   "metadata": {},
   "source": [
    "Because LDA Sequence models take quite a while to run, we can cut down on runtime by looking at a random sample of 25% of the original dataset:"
   ]
  },
  {
   "cell_type": "code",
   "execution_count": 9,
   "metadata": {},
   "outputs": [],
   "source": [
    "un_df = un_df.sample(804)"
   ]
  },
  {
   "cell_type": "code",
   "execution_count": 10,
   "metadata": {},
   "outputs": [
    {
     "data": {
      "text/html": [
       "<div>\n",
       "<style scoped>\n",
       "    .dataframe tbody tr th:only-of-type {\n",
       "        vertical-align: middle;\n",
       "    }\n",
       "\n",
       "    .dataframe tbody tr th {\n",
       "        vertical-align: top;\n",
       "    }\n",
       "\n",
       "    .dataframe thead th {\n",
       "        text-align: right;\n",
       "    }\n",
       "</style>\n",
       "<table border=\"1\" class=\"dataframe\">\n",
       "  <thead>\n",
       "    <tr style=\"text-align: right;\">\n",
       "      <th></th>\n",
       "      <th>index</th>\n",
       "      <th>speech_year</th>\n",
       "      <th>country_code</th>\n",
       "      <th>speech_text</th>\n",
       "    </tr>\n",
       "  </thead>\n",
       "  <tbody>\n",
       "    <tr>\n",
       "      <th>2573</th>\n",
       "      <td>5870</td>\n",
       "      <td>1981</td>\n",
       "      <td>ISL</td>\n",
       "      <td>Mr. President, I should like to join my collea...</td>\n",
       "    </tr>\n",
       "    <tr>\n",
       "      <th>984</th>\n",
       "      <td>2089</td>\n",
       "      <td>1988</td>\n",
       "      <td>AFG</td>\n",
       "      <td>﻿It gives me great pleasure to express to Mt. ...</td>\n",
       "    </tr>\n",
       "    <tr>\n",
       "      <th>1905</th>\n",
       "      <td>3971</td>\n",
       "      <td>1987</td>\n",
       "      <td>BWA</td>\n",
       "      <td>﻿\\nMr. President, your great country, the Germ...</td>\n",
       "    </tr>\n",
       "    <tr>\n",
       "      <th>10</th>\n",
       "      <td>10</td>\n",
       "      <td>1989</td>\n",
       "      <td>SUR</td>\n",
       "      <td>﻿\\n \\n\\nLike many other countries in the devel...</td>\n",
       "    </tr>\n",
       "    <tr>\n",
       "      <th>389</th>\n",
       "      <td>844</td>\n",
       "      <td>1991</td>\n",
       "      <td>DEU</td>\n",
       "      <td>﻿This session of the General Assembly is takin...</td>\n",
       "    </tr>\n",
       "    <tr>\n",
       "      <th>...</th>\n",
       "      <td>...</td>\n",
       "      <td>...</td>\n",
       "      <td>...</td>\n",
       "      <td>...</td>\n",
       "    </tr>\n",
       "    <tr>\n",
       "      <th>2782</th>\n",
       "      <td>6257</td>\n",
       "      <td>1992</td>\n",
       "      <td>NPL</td>\n",
       "      <td>I have the pleasure to extend to Mr. Ganev the...</td>\n",
       "    </tr>\n",
       "    <tr>\n",
       "      <th>2407</th>\n",
       "      <td>5564</td>\n",
       "      <td>1993</td>\n",
       "      <td>TTO</td>\n",
       "      <td>It is with\\nimmense pride that I congratulate ...</td>\n",
       "    </tr>\n",
       "    <tr>\n",
       "      <th>1780</th>\n",
       "      <td>3846</td>\n",
       "      <td>1987</td>\n",
       "      <td>CPV</td>\n",
       "      <td>﻿We should like first of all, Sir, to say how ...</td>\n",
       "    </tr>\n",
       "    <tr>\n",
       "      <th>753</th>\n",
       "      <td>1522</td>\n",
       "      <td>1996</td>\n",
       "      <td>MMR</td>\n",
       "      <td>﻿May I begin by extending to\\nMr. Razali the w...</td>\n",
       "    </tr>\n",
       "    <tr>\n",
       "      <th>2227</th>\n",
       "      <td>4293</td>\n",
       "      <td>1998</td>\n",
       "      <td>JOR</td>\n",
       "      <td>Allow me, at the outset, to congratulate you a...</td>\n",
       "    </tr>\n",
       "  </tbody>\n",
       "</table>\n",
       "<p>804 rows × 4 columns</p>\n",
       "</div>"
      ],
      "text/plain": [
       "      index  speech_year country_code  \\\n",
       "2573   5870         1981          ISL   \n",
       "984    2089         1988          AFG   \n",
       "1905   3971         1987          BWA   \n",
       "10       10         1989          SUR   \n",
       "389     844         1991          DEU   \n",
       "...     ...          ...          ...   \n",
       "2782   6257         1992          NPL   \n",
       "2407   5564         1993          TTO   \n",
       "1780   3846         1987          CPV   \n",
       "753    1522         1996          MMR   \n",
       "2227   4293         1998          JOR   \n",
       "\n",
       "                                            speech_text  \n",
       "2573  Mr. President, I should like to join my collea...  \n",
       "984   ﻿It gives me great pleasure to express to Mt. ...  \n",
       "1905  ﻿\\nMr. President, your great country, the Germ...  \n",
       "10    ﻿\\n \\n\\nLike many other countries in the devel...  \n",
       "389   ﻿This session of the General Assembly is takin...  \n",
       "...                                                 ...  \n",
       "2782  I have the pleasure to extend to Mr. Ganev the...  \n",
       "2407  It is with\\nimmense pride that I congratulate ...  \n",
       "1780  ﻿We should like first of all, Sir, to say how ...  \n",
       "753   ﻿May I begin by extending to\\nMr. Razali the w...  \n",
       "2227  Allow me, at the outset, to congratulate you a...  \n",
       "\n",
       "[804 rows x 4 columns]"
      ]
     },
     "execution_count": 10,
     "metadata": {},
     "output_type": "execute_result"
    }
   ],
   "source": [
    "un_df"
   ]
  },
  {
   "cell_type": "code",
   "execution_count": 11,
   "metadata": {},
   "outputs": [
    {
     "data": {
      "text/html": [
       "<div>\n",
       "<style scoped>\n",
       "    .dataframe tbody tr th:only-of-type {\n",
       "        vertical-align: middle;\n",
       "    }\n",
       "\n",
       "    .dataframe tbody tr th {\n",
       "        vertical-align: top;\n",
       "    }\n",
       "\n",
       "    .dataframe thead th {\n",
       "        text-align: right;\n",
       "    }\n",
       "</style>\n",
       "<table border=\"1\" class=\"dataframe\">\n",
       "  <thead>\n",
       "    <tr style=\"text-align: right;\">\n",
       "      <th></th>\n",
       "      <th>index</th>\n",
       "      <th>speech_year</th>\n",
       "      <th>country_code</th>\n",
       "      <th>speech_text</th>\n",
       "    </tr>\n",
       "  </thead>\n",
       "  <tbody>\n",
       "    <tr>\n",
       "      <th>2316</th>\n",
       "      <td>4763</td>\n",
       "      <td>1980</td>\n",
       "      <td>BTN</td>\n",
       "      <td>﻿On behalf of my delegation and on my own beha...</td>\n",
       "    </tr>\n",
       "    <tr>\n",
       "      <th>2307</th>\n",
       "      <td>4754</td>\n",
       "      <td>1980</td>\n",
       "      <td>BDI</td>\n",
       "      <td>﻿Mr. President, may I, on behalf of the delega...</td>\n",
       "    </tr>\n",
       "    <tr>\n",
       "      <th>2350</th>\n",
       "      <td>4797</td>\n",
       "      <td>1980</td>\n",
       "      <td>AUS</td>\n",
       "      <td>﻿Mr. President, on behalf of the Australian de...</td>\n",
       "    </tr>\n",
       "    <tr>\n",
       "      <th>2289</th>\n",
       "      <td>4736</td>\n",
       "      <td>1980</td>\n",
       "      <td>NZL</td>\n",
       "      <td>﻿Sir, may I congratulate you on your election ...</td>\n",
       "    </tr>\n",
       "    <tr>\n",
       "      <th>2358</th>\n",
       "      <td>4805</td>\n",
       "      <td>1980</td>\n",
       "      <td>LCA</td>\n",
       "      <td>﻿May I extend congratulations, on behalf of my...</td>\n",
       "    </tr>\n",
       "    <tr>\n",
       "      <th>...</th>\n",
       "      <td>...</td>\n",
       "      <td>...</td>\n",
       "      <td>...</td>\n",
       "      <td>...</td>\n",
       "    </tr>\n",
       "    <tr>\n",
       "      <th>1648</th>\n",
       "      <td>3529</td>\n",
       "      <td>1999</td>\n",
       "      <td>ZAF</td>\n",
       "      <td>On behalf of our Government and\\nin my capacit...</td>\n",
       "    </tr>\n",
       "    <tr>\n",
       "      <th>1760</th>\n",
       "      <td>3641</td>\n",
       "      <td>1999</td>\n",
       "      <td>SVN</td>\n",
       "      <td>Let me take this\\nopportunity to congratulate ...</td>\n",
       "    </tr>\n",
       "    <tr>\n",
       "      <th>1660</th>\n",
       "      <td>3541</td>\n",
       "      <td>1999</td>\n",
       "      <td>POL</td>\n",
       "      <td>Please accept my\\ncongratulations, Sir, on you...</td>\n",
       "    </tr>\n",
       "    <tr>\n",
       "      <th>1734</th>\n",
       "      <td>3615</td>\n",
       "      <td>1999</td>\n",
       "      <td>GNB</td>\n",
       "      <td>Guinea-Bissau is gratified,\\nSir, at your assu...</td>\n",
       "    </tr>\n",
       "    <tr>\n",
       "      <th>1674</th>\n",
       "      <td>3555</td>\n",
       "      <td>1999</td>\n",
       "      <td>PRY</td>\n",
       "      <td>At\\nthe outset, I wish to greet the President ...</td>\n",
       "    </tr>\n",
       "  </tbody>\n",
       "</table>\n",
       "<p>804 rows × 4 columns</p>\n",
       "</div>"
      ],
      "text/plain": [
       "      index  speech_year country_code  \\\n",
       "2316   4763         1980          BTN   \n",
       "2307   4754         1980          BDI   \n",
       "2350   4797         1980          AUS   \n",
       "2289   4736         1980          NZL   \n",
       "2358   4805         1980          LCA   \n",
       "...     ...          ...          ...   \n",
       "1648   3529         1999          ZAF   \n",
       "1760   3641         1999          SVN   \n",
       "1660   3541         1999          POL   \n",
       "1734   3615         1999          GNB   \n",
       "1674   3555         1999          PRY   \n",
       "\n",
       "                                            speech_text  \n",
       "2316  ﻿On behalf of my delegation and on my own beha...  \n",
       "2307  ﻿Mr. President, may I, on behalf of the delega...  \n",
       "2350  ﻿Mr. President, on behalf of the Australian de...  \n",
       "2289  ﻿Sir, may I congratulate you on your election ...  \n",
       "2358  ﻿May I extend congratulations, on behalf of my...  \n",
       "...                                                 ...  \n",
       "1648  On behalf of our Government and\\nin my capacit...  \n",
       "1760  Let me take this\\nopportunity to congratulate ...  \n",
       "1660  Please accept my\\ncongratulations, Sir, on you...  \n",
       "1734  Guinea-Bissau is gratified,\\nSir, at your assu...  \n",
       "1674  At\\nthe outset, I wish to greet the President ...  \n",
       "\n",
       "[804 rows x 4 columns]"
      ]
     },
     "execution_count": 11,
     "metadata": {},
     "output_type": "execute_result"
    }
   ],
   "source": [
    "un_df.sort_values(by='speech_year')"
   ]
  },
  {
   "cell_type": "markdown",
   "metadata": {},
   "source": [
    "It might be interesting to see how the results of our LDA Sequence model compare to what we saw with the `post-soviet` key when running a conventional LDA model with our UN data."
   ]
  },
  {
   "cell_type": "markdown",
   "metadata": {},
   "source": [
    "#### Setting up our Corpus\n",
    "\n",
    "[Corpora and Vector Spaces, Gensim style](https://radimrehurek.com/gensim/auto_examples/core/run_corpora_and_vector_spaces.html)"
   ]
  },
  {
   "cell_type": "markdown",
   "metadata": {},
   "source": [
    "The collection of text documents we're looking at is contained within the 'speech_text' key of our UN dataframe:"
   ]
  },
  {
   "cell_type": "code",
   "execution_count": 12,
   "metadata": {},
   "outputs": [
    {
     "name": "stdout",
     "output_type": "stream",
     "text": [
      "2573    Mr. President, I should like to join my collea...\n",
      "984     ﻿It gives me great pleasure to express to Mt. ...\n",
      "1905    ﻿\\nMr. President, your great country, the Germ...\n",
      "10      ﻿\\n \\n\\nLike many other countries in the devel...\n",
      "389     ﻿This session of the General Assembly is takin...\n",
      "                              ...                        \n",
      "2782    I have the pleasure to extend to Mr. Ganev the...\n",
      "2407    It is with\\nimmense pride that I congratulate ...\n",
      "1780    ﻿We should like first of all, Sir, to say how ...\n",
      "753     ﻿May I begin by extending to\\nMr. Razali the w...\n",
      "2227    Allow me, at the outset, to congratulate you a...\n",
      "Name: speech_text, Length: 804, dtype: object\n"
     ]
    }
   ],
   "source": [
    "print(str(un_df['speech_text']))"
   ]
  },
  {
   "cell_type": "markdown",
   "metadata": {},
   "source": [
    "To set up our corpus with gensim, we'll define a function to iterate over each line of `speech_text`, and generate new tokenized words every time we hit white space. The `doc2bow` method available through gensim.dictionary lets us convert our documents into bag-of-words vectors. "
   ]
  },
  {
   "cell_type": "code",
   "execution_count": 14,
   "metadata": {},
   "outputs": [],
   "source": [
    "class Corpus(object):\n",
    "    def __iter__(self):\n",
    "        for line in un_df['speech_text']:\n",
    "            yield dictionary.doc2bow(line.lower().split())"
   ]
  },
  {
   "cell_type": "markdown",
   "metadata": {},
   "source": [
    "One beneficial aspect of gensim is its ability to load one vectorized document within a corpus into memory at a time, rather than require the entire corpus be stored in RAM. This capability is particularly useful when looking at exceptionally large corpora."
   ]
  },
  {
   "cell_type": "code",
   "execution_count": 15,
   "metadata": {},
   "outputs": [
    {
     "name": "stdout",
     "output_type": "stream",
     "text": [
      "<__main__.Corpus object at 0x133bad250>\n"
     ]
    }
   ],
   "source": [
    "corpus_memory_friendly = Corpus()\n",
    "print(corpus_memory_friendly)"
   ]
  },
  {
   "cell_type": "code",
   "execution_count": 16,
   "metadata": {},
   "outputs": [
    {
     "name": "stdout",
     "output_type": "stream",
     "text": []
    }
   ],
   "source": [
    "for vector in corpus_memory_friendly:\n",
    "    print(vector)"
   ]
  },
  {
   "cell_type": "markdown",
   "metadata": {},
   "source": [
    "#### Setting Up Our Dictionary"
   ]
  },
  {
   "cell_type": "markdown",
   "metadata": {},
   "source": [
    "For our stoplist, we'll use the standard [\"english\"](https://gist.github.com/sebleier/554280) list of stopwords, in addition to \"also,\" \"united,\" \"nations,\" \"-,\" and a number of other years and phrases whose removal would benefit our model. We'll also remove any words that occur in our corpus only once. We can use the `compactify` method to remove extra spaces between words after filtering our tokens for stop words and once-only occurences."
   ]
  },
  {
   "cell_type": "code",
   "execution_count": 23,
   "metadata": {},
   "outputs": [
    {
     "name": "stdout",
     "output_type": "stream",
     "text": [
      "Dictionary(29152 unique tokens: ['abide', 'abolition', 'accept', 'accepted', 'accordance']...)\n"
     ]
    }
   ],
   "source": [
    "from gensim import corpora\n",
    "from six import iteritems\n",
    "# collect statistics about all tokens\n",
    "dictionary = corpora.Dictionary(line.lower().split() for line in un_df['speech_text'])\n",
    "# remove stop words and words that appear only once\n",
    "stoplist = set('338 36 4. 5. 6. 7. 8. 9. 1980. 23. 24. 242 3. 17. 18. 19. 1945 1960s. 1975 1980 20. 21. 22. international national mr. 1 10. 11. 12. 13. 14. 15. 16. (1967) (1973). 48 1963 1971 1979 1981 1987 1987, 1990. 2000, 2,000 435 (unctad), (plo), (imf) (gatt). (1978). 1991 10 1996. 1998 1998, (csce). 50 60 1991. 40 45 1925 1947, 1947 1948 1966, so also - united nations i me my myself we our ours ourselves you your yours yourself yourselves he him his himself she her hers herself it its itself they them their theirs themselves what which who whom this that these those am is are was were be been being have has had having do does did doing a an the and but if or because as until while of at by for with about against between into through during before after above below to from up down in out on off over under again further then once here there when where why how all any both each few more most other some such no nor not only own same so than too very s t can will just don should now'.split())\n",
    "stop_ids = [\n",
    "    dictionary.token2id[stopword]\n",
    "    for stopword in stoplist\n",
    "    if stopword in dictionary.token2id\n",
    "]\n",
    "once_ids = [tokenid for tokenid, docfreq in iteritems(dictionary.dfs) if docfreq == 1]\n",
    "dictionary.filter_tokens(stop_ids + once_ids) \n",
    "dictionary.compactify()  # remove gaps in id sequence after words that were removed\n",
    "print(dictionary)"
   ]
  },
  {
   "cell_type": "markdown",
   "metadata": {},
   "source": [
    "#### Setting up our Time Slices\n",
    "\n",
    "Let's say we want to look at the evolution of our UN general debate topics over four periods of five years, from 1980-1999:\n",
    "\n",
    "- 1980-1984 = 40+35+36+44+39 = **194**\n",
    "\n",
    "\n",
    "- 1985-1989 = 40+31+43+38+43 = **195**\n",
    "\n",
    "\n",
    "- 1990-1994 = 41+47+37+41+47 = **213**\n",
    "\n",
    "\n",
    "- 1995-1999 = 41+42+40+40+39 = **202** \n"
   ]
  },
  {
   "cell_type": "code",
   "execution_count": 26,
   "metadata": {},
   "outputs": [],
   "source": [
    "time_slice = [194, 195, 213, 202]"
   ]
  },
  {
   "cell_type": "markdown",
   "metadata": {},
   "source": [
    "#### Running the LDA Sequence Model"
   ]
  },
  {
   "cell_type": "code",
   "execution_count": 27,
   "metadata": {},
   "outputs": [],
   "source": [
    "import logging\n",
    "logging.basicConfig(format='%(levelname)s : %(message)s', level=logging.INFO)\n",
    "logging.root.level = logging.INFO"
   ]
  },
  {
   "cell_type": "code",
   "execution_count": 28,
   "metadata": {
    "scrolled": true
   },
   "outputs": [
    {
     "name": "stderr",
     "output_type": "stream",
     "text": []
    }
   ],
   "source": [
    "ldaseq = LdaSeqModel(corpus=corpus_memory_friendly, \n",
    "                     id2word=dictionary, \n",
    "                     time_slice=time_slice,\n",
    "                     passes = 100,\n",
    "                     em_max_iter=3,\n",
    "                     num_topics=10)"
   ]
  },
  {
   "cell_type": "markdown",
   "metadata": {},
   "source": [
    "With our model run, let's print out our topics over each time slice: "
   ]
  },
  {
   "cell_type": "code",
   "execution_count": 31,
   "metadata": {
    "scrolled": true
   },
   "outputs": [
    {
     "data": {
      "text/plain": [
       "[[('japan', 0.3206225329485179),\n",
       "  ('northern', 0.06882528841966253),\n",
       "  ('strongly', 0.048478546803078004),\n",
       "  ('japan,', 0.030072683274910725),\n",
       "  ('functions', 0.025418348221621215),\n",
       "  ('resolved', 0.024703875612475196),\n",
       "  ('japanese', 0.023299282875011307),\n",
       "  ('promptly', 0.016998147834482027),\n",
       "  (\"japan's\", 0.01671320401740911),\n",
       "  ('dispatched', 0.014314342992498046)],\n",
       " [('african', 0.021974390006605664),\n",
       "  ('government', 0.02145955115585987),\n",
       "  ('sierra', 0.0205511182150015),\n",
       "  ('liberia', 0.019493585616539234),\n",
       "  ('community', 0.01875616100044433),\n",
       "  ('bahamas', 0.018550502273844468),\n",
       "  ('vincent', 0.014876782575641652),\n",
       "  ('ethiopia', 0.014236346228165234),\n",
       "  ('liberian', 0.013495807194655244),\n",
       "  ('grenadines', 0.0127909102350182)],\n",
       " [('states', 0.010344547942750781),\n",
       "  ('countries', 0.00788566846624124),\n",
       "  ('nuclear', 0.006736710671784701),\n",
       "  ('peace', 0.005852576353326711),\n",
       "  ('people', 0.0058078825572129514),\n",
       "  ('world', 0.005681828231417625),\n",
       "  ('republic', 0.005468465426703976),\n",
       "  ('military', 0.005434898570696627),\n",
       "  ('soviet', 0.0046574972834960504),\n",
       "  ('peoples', 0.004335002535763018)],\n",
       " [('myanmar', 0.02848586056140766),\n",
       "  ('cyprus', 0.027665179052192398),\n",
       "  ('greek', 0.024756989935217494),\n",
       "  ('turkish', 0.023818445966564853),\n",
       "  ('greece', 0.021124972713863297),\n",
       "  ('bulgaria', 0.01984755068977985),\n",
       "  ('turkey', 0.014335459809618341),\n",
       "  ('cypriot', 0.012727391992345417),\n",
       "  ('drug', 0.012681544823902382),\n",
       "  ('problem', 0.010172082155807371)],\n",
       " [('security', 0.00828046634342977),\n",
       "  ('peace', 0.00804276255809856),\n",
       "  ('world', 0.006142079308454949),\n",
       "  ('arab', 0.005725909254288379),\n",
       "  ('states', 0.004871273623807243),\n",
       "  ('council', 0.004694989149169637),\n",
       "  ('efforts', 0.004452731559551907),\n",
       "  ('people', 0.004271988350682979),\n",
       "  ('palestinian', 0.0038342102992693205),\n",
       "  ('israel', 0.0035994381913953474)],\n",
       " [('countries', 0.00653907609639427),\n",
       "  ('economic', 0.0064193524541010126),\n",
       "  ('peace', 0.006127215383245064),\n",
       "  ('african', 0.0056774747352841895),\n",
       "  ('africa', 0.0054087962368980875),\n",
       "  ('south', 0.005217314020156366),\n",
       "  ('people', 0.005191601467627246),\n",
       "  ('world', 0.0044589683071544865),\n",
       "  ('general', 0.0037981028317988744),\n",
       "  ('situation', 0.0037962922674256096)],\n",
       " [('republic', 0.02557261512682656),\n",
       "  ('democratic', 0.01410589376513906),\n",
       "  ('president', 0.009104039589623854),\n",
       "  ('political', 0.009078240130137662),\n",
       "  ('rwanda', 0.008963493128483291),\n",
       "  ('guinea', 0.008636613872372509),\n",
       "  ('tunisia', 0.008194420363781263),\n",
       "  ('government', 0.007723157202458087),\n",
       "  ('bosnia', 0.0075487986058252275),\n",
       "  ('former', 0.00742783935804438)],\n",
       " [('development', 0.006281656850137935),\n",
       "  ('human', 0.006194200172939296),\n",
       "  ('peace', 0.00518896602108713),\n",
       "  ('new', 0.004951069624072442),\n",
       "  ('security', 0.004912364391490567),\n",
       "  ('world', 0.004873136672513777),\n",
       "  ('economic', 0.004571977971657325),\n",
       "  ('must', 0.004520053938412011),\n",
       "  ('general', 0.004004746069309795),\n",
       "  ('cooperation', 0.003885306704316374)],\n",
       " [('world', 0.006314922346892433),\n",
       "  ('must', 0.0061140663428394856),\n",
       "  ('economic', 0.0054634984809456),\n",
       "  ('countries', 0.005378136175548117),\n",
       "  ('new', 0.00509727481189066),\n",
       "  ('peace', 0.004895109098574963),\n",
       "  ('political', 0.0048135210209069084),\n",
       "  ('efforts', 0.004290139625797053),\n",
       "  ('human', 0.0042445756473757324),\n",
       "  ('security', 0.004143389751230795)],\n",
       " [('world', 0.006900097674015427),\n",
       "  ('must', 0.00577782474636256),\n",
       "  ('countries', 0.005300068364635994),\n",
       "  ('us', 0.005170179689194596),\n",
       "  ('economic', 0.005110455023203323),\n",
       "  ('people', 0.004450744470326833),\n",
       "  ('new', 0.003972437048171168),\n",
       "  ('one', 0.003493198130534389),\n",
       "  ('south', 0.00346411892590925),\n",
       "  ('developing', 0.0034182380991235476)]]"
      ]
     },
     "execution_count": 31,
     "metadata": {},
     "output_type": "execute_result"
    }
   ],
   "source": [
    "ldaseq.print_topics(time=0,  top_terms = 10)"
   ]
  },
  {
   "cell_type": "code",
   "execution_count": 32,
   "metadata": {
    "scrolled": true
   },
   "outputs": [
    {
     "data": {
      "text/plain": [
       "[[('japan', 0.30944475713426245),\n",
       "  ('northern', 0.0724895749642994),\n",
       "  ('strongly', 0.04962504524697425),\n",
       "  ('japan,', 0.03068247251851244),\n",
       "  ('functions', 0.026079333304968158),\n",
       "  ('resolved', 0.02486917390712611),\n",
       "  ('japanese', 0.02340260515893813),\n",
       "  ('promptly', 0.01717833770088256),\n",
       "  (\"japan's\", 0.016938253289153316),\n",
       "  ('dispatched', 0.014524065819900518)],\n",
       " [('african', 0.02215970766816701),\n",
       "  ('government', 0.02160197216322086),\n",
       "  ('sierra', 0.020498317589957793),\n",
       "  ('liberia', 0.019696904166259518),\n",
       "  ('community', 0.018888693319723624),\n",
       "  ('bahamas', 0.01852534759342041),\n",
       "  ('vincent', 0.01485383383838579),\n",
       "  ('ethiopia', 0.014344587961097749),\n",
       "  ('liberian', 0.013580371920435257),\n",
       "  ('grenadines', 0.012761486661159612)],\n",
       " [('states', 0.010373835122726648),\n",
       "  ('countries', 0.008495085351695313),\n",
       "  ('nuclear', 0.006742436016814167),\n",
       "  ('peace', 0.005875580404490807),\n",
       "  ('people', 0.005823005945804174),\n",
       "  ('world', 0.005698230038002355),\n",
       "  ('republic', 0.005488604598719764),\n",
       "  ('military', 0.005445849284682115),\n",
       "  ('soviet', 0.00465719295771823),\n",
       "  ('peoples', 0.00433606229229789)],\n",
       " [('myanmar', 0.029307249755538518),\n",
       "  ('cyprus', 0.02820714146189441),\n",
       "  ('greek', 0.02496354989587616),\n",
       "  ('turkish', 0.024308487739624896),\n",
       "  ('greece', 0.02181942077569581),\n",
       "  ('bulgaria', 0.019579666943112875),\n",
       "  ('turkey', 0.014331170874526086),\n",
       "  ('cypriot', 0.013071337221072392),\n",
       "  ('drug', 0.012659654244634007),\n",
       "  ('problem', 0.010249107548803702)],\n",
       " [('security', 0.008308784744809951),\n",
       "  ('peace', 0.008079364348103763),\n",
       "  ('world', 0.006163429448417165),\n",
       "  ('arab', 0.005750190157431141),\n",
       "  ('states', 0.004885373407491087),\n",
       "  ('council', 0.004712618525392374),\n",
       "  ('efforts', 0.004354147223550984),\n",
       "  ('people', 0.004289817748653991),\n",
       "  ('israel', 0.003641765547738637),\n",
       "  ('palestinian', 0.0036044731925374456)],\n",
       " [('countries', 0.006566570129445723),\n",
       "  ('economic', 0.00644038635060353),\n",
       "  ('peace', 0.006148349583714119),\n",
       "  ('african', 0.006053455542912403),\n",
       "  ('africa', 0.00542802599263252),\n",
       "  ('south', 0.0052431792152856415),\n",
       "  ('people', 0.005214611686664387),\n",
       "  ('world', 0.0044821504778005975),\n",
       "  ('general', 0.0038089709391802063),\n",
       "  ('government', 0.0036695199405700355)],\n",
       " [('republic', 0.02654250570129599),\n",
       "  ('democratic', 0.014227603274294256),\n",
       "  ('president', 0.009180311536875518),\n",
       "  ('political', 0.009088027223259814),\n",
       "  ('rwanda', 0.009029943769540735),\n",
       "  ('guinea', 0.008612854755951338),\n",
       "  ('tunisia', 0.008337401750429803),\n",
       "  ('government', 0.007812148001954201),\n",
       "  ('bosnia', 0.007502567494273706),\n",
       "  ('former', 0.007401466648519734)],\n",
       " [('development', 0.006314090698545303),\n",
       "  ('human', 0.006212391751056395),\n",
       "  ('peace', 0.005041408315623788),\n",
       "  ('new', 0.0049727942622976645),\n",
       "  ('security', 0.004929846608423697),\n",
       "  ('world', 0.0048884327776796705),\n",
       "  ('economic', 0.004593384181799341),\n",
       "  ('must', 0.004535854581441627),\n",
       "  ('general', 0.004014668859202293),\n",
       "  ('cooperation', 0.0038942446495252936)],\n",
       " [('world', 0.006329920977809552),\n",
       "  ('must', 0.006137575137075123),\n",
       "  ('economic', 0.005481245314002329),\n",
       "  ('countries', 0.005394976176360705),\n",
       "  ('new', 0.00511723094164009),\n",
       "  ('peace', 0.004915777019691525),\n",
       "  ('political', 0.004836430027220171),\n",
       "  ('efforts', 0.004297375177738385),\n",
       "  ('human', 0.004259253857505891),\n",
       "  ('security', 0.004152553785886136)],\n",
       " [('world', 0.006937803496814351),\n",
       "  ('must', 0.005798230272824835),\n",
       "  ('countries', 0.005321244500497598),\n",
       "  ('us', 0.00519558381358558),\n",
       "  ('economic', 0.005126574211047264),\n",
       "  ('people', 0.0044890507281378335),\n",
       "  ('new', 0.0040339916707139165),\n",
       "  ('one', 0.0034938840878668705),\n",
       "  ('south', 0.003478148456627704),\n",
       "  ('developing', 0.0034263999363321656)]]"
      ]
     },
     "execution_count": 32,
     "metadata": {},
     "output_type": "execute_result"
    }
   ],
   "source": [
    "ldaseq.print_topics(time=1, top_terms = 10)"
   ]
  },
  {
   "cell_type": "code",
   "execution_count": 33,
   "metadata": {
    "scrolled": true
   },
   "outputs": [
    {
     "data": {
      "text/plain": [
       "[[('japan', 0.30957757529582136),\n",
       "  ('northern', 0.07662287162990616),\n",
       "  ('strongly', 0.049932828704531806),\n",
       "  ('japan,', 0.030775502668000797),\n",
       "  ('functions', 0.02564537612329232),\n",
       "  ('resolved', 0.024668330967035638),\n",
       "  ('japanese', 0.02327929213816111),\n",
       "  ('promptly', 0.01708286207699411),\n",
       "  (\"japan's\", 0.01679401442899101),\n",
       "  ('dispatched', 0.014452481609676276)],\n",
       " [('african', 0.022403353234398096),\n",
       "  ('government', 0.021795069687032716),\n",
       "  ('sierra', 0.02038852051008029),\n",
       "  ('liberia', 0.019945385185491882),\n",
       "  ('community', 0.01905564800240102),\n",
       "  ('bahamas', 0.018348098892264873),\n",
       "  ('vincent', 0.014757673987625373),\n",
       "  ('ethiopia', 0.014519714947224734),\n",
       "  ('liberian', 0.013678401686370871),\n",
       "  ('grenadines', 0.01267752305675072)],\n",
       " [('states', 0.010415985580443715),\n",
       "  ('countries', 0.008146058660105811),\n",
       "  ('nuclear', 0.006752511278224654),\n",
       "  ('peace', 0.005909734343235575),\n",
       "  ('world', 0.005722300990496996),\n",
       "  ('people', 0.005638306963826615),\n",
       "  ('republic', 0.00551857524437297),\n",
       "  ('military', 0.0054621772102138475),\n",
       "  ('soviet', 0.004662877455322626),\n",
       "  ('peoples', 0.004340547155133637)],\n",
       " [('myanmar', 0.03201140172223008),\n",
       "  ('cyprus', 0.027583528850244426),\n",
       "  ('greek', 0.025227787941043963),\n",
       "  ('turkish', 0.024949897163459144),\n",
       "  ('greece', 0.02067815957219173),\n",
       "  ('bulgaria', 0.019278112952348686),\n",
       "  ('turkey', 0.014326274158174447),\n",
       "  ('cypriot', 0.013372194293068282),\n",
       "  ('drug', 0.012640662081489056),\n",
       "  ('problem', 0.010354900098678066)],\n",
       " [('security', 0.008340702138074224),\n",
       "  ('peace', 0.008115437412305528),\n",
       "  ('world', 0.006185577512760427),\n",
       "  ('arab', 0.005777374960564132),\n",
       "  ('states', 0.0048996602284130915),\n",
       "  ('council', 0.004735908023199356),\n",
       "  ('efforts', 0.0043547463648451685),\n",
       "  ('people', 0.00430973886945234),\n",
       "  ('israel', 0.003672360280859066),\n",
       "  ('palestinian', 0.0036089600317305527)],\n",
       " [('countries', 0.006595292826636646),\n",
       "  ('economic', 0.0064618883376912),\n",
       "  ('peace', 0.006171917929468622),\n",
       "  ('african', 0.005980885795866294),\n",
       "  ('africa', 0.005449506867260423),\n",
       "  ('south', 0.005244618758619798),\n",
       "  ('people', 0.005240932300747258),\n",
       "  ('world', 0.0045131422673272276),\n",
       "  ('general', 0.0038208294079830076),\n",
       "  ('government', 0.0036813879477607565)],\n",
       " [('republic', 0.026706088933698316),\n",
       "  ('democratic', 0.014401963948950512),\n",
       "  ('president', 0.009291304469023518),\n",
       "  ('rwanda', 0.009124656180568362),\n",
       "  ('political', 0.009098675138851202),\n",
       "  ('guinea', 0.008573188112949189),\n",
       "  ('tunisia', 0.008481036184434973),\n",
       "  ('government', 0.00794728126304108),\n",
       "  ('former', 0.007491991821978972),\n",
       "  ('bosnia', 0.007455741667962744)],\n",
       " [('development', 0.006353094845828526),\n",
       "  ('human', 0.006232081940001918),\n",
       "  ('new', 0.005016840347566664),\n",
       "  ('security', 0.0049626643656467935),\n",
       "  ('peace', 0.004948683274700885),\n",
       "  ('world', 0.004906438106748388),\n",
       "  ('economic', 0.004621465945197182),\n",
       "  ('must', 0.004555646090174317),\n",
       "  ('general', 0.004030921965749886),\n",
       "  ('cooperation', 0.003903490351193561)],\n",
       " [('world', 0.006347617334901149),\n",
       "  ('must', 0.006165140684308105),\n",
       "  ('economic', 0.005503349852425323),\n",
       "  ('countries', 0.005413282345453126),\n",
       "  ('new', 0.005151647654497742),\n",
       "  ('peace', 0.00494017543072657),\n",
       "  ('political', 0.004869219416396849),\n",
       "  ('efforts', 0.00430345892802944),\n",
       "  ('human', 0.0042774630154353895),\n",
       "  ('security', 0.004164091145804609)],\n",
       " [('world', 0.006982590897475063),\n",
       "  ('must', 0.005820651988888017),\n",
       "  ('countries', 0.005342743322598767),\n",
       "  ('us', 0.005222424865345103),\n",
       "  ('economic', 0.005142424853913919),\n",
       "  ('people', 0.004519678085195656),\n",
       "  ('new', 0.003961272699536247),\n",
       "  ('one', 0.0035156143148042966),\n",
       "  ('south', 0.003493939744958176),\n",
       "  ('developing', 0.0034346608602989982)]]"
      ]
     },
     "execution_count": 33,
     "metadata": {},
     "output_type": "execute_result"
    }
   ],
   "source": [
    "ldaseq.print_topics(time=2, top_terms = 10)"
   ]
  },
  {
   "cell_type": "code",
   "execution_count": 34,
   "metadata": {
    "scrolled": true
   },
   "outputs": [
    {
     "data": {
      "text/plain": [
       "[[('japan', 0.313137398717648),\n",
       "  ('northern', 0.07940354678400134),\n",
       "  ('strongly', 0.0499245368055028),\n",
       "  ('japan,', 0.030649379585877518),\n",
       "  ('functions', 0.025184089436399024),\n",
       "  ('resolved', 0.02435097093973134),\n",
       "  ('japanese', 0.023144801352555654),\n",
       "  ('promptly', 0.01694457521847881),\n",
       "  (\"japan's\", 0.016577458419746956),\n",
       "  ('dispatched', 0.014315419357596296)],\n",
       " [('african', 0.02259245007595249),\n",
       "  ('government', 0.022156084587159033),\n",
       "  ('sierra', 0.02031109422207415),\n",
       "  ('liberia', 0.020124572157524608),\n",
       "  ('community', 0.01917340087654538),\n",
       "  ('bahamas', 0.01801584611701424),\n",
       "  ('ethiopia', 0.014727227907361253),\n",
       "  ('vincent', 0.01469044721098491),\n",
       "  ('liberian', 0.013737294359158938),\n",
       "  ('grenadines', 0.012619052628448223)],\n",
       " [('states', 0.010459639046638351),\n",
       "  ('countries', 0.007269286851723156),\n",
       "  ('nuclear', 0.006766626521058904),\n",
       "  ('peace', 0.005942150859034565),\n",
       "  ('world', 0.005744025451445045),\n",
       "  ('people', 0.005552961691464973),\n",
       "  ('republic', 0.00554611630854571),\n",
       "  ('military', 0.005481754482934447),\n",
       "  ('soviet', 0.004672931359981363),\n",
       "  ('peoples', 0.004348521705912163)],\n",
       " [('myanmar', 0.03622541051627732),\n",
       "  ('cyprus', 0.02674475299317553),\n",
       "  ('greek', 0.025362525711096953),\n",
       "  ('turkish', 0.02524871722412698),\n",
       "  ('greece', 0.020602302559723038),\n",
       "  ('bulgaria', 0.01901089823700126),\n",
       "  ('turkey', 0.01425162573549485),\n",
       "  ('cypriot', 0.013300194732984076),\n",
       "  ('drug', 0.012624302783091032),\n",
       "  ('problem', 0.01039940159600663)],\n",
       " [('security', 0.008368030510330964),\n",
       "  ('peace', 0.008146481282528546),\n",
       "  ('world', 0.006205994769961309),\n",
       "  ('arab', 0.005801507107967207),\n",
       "  ('states', 0.004913601226757987),\n",
       "  ('council', 0.004755341426057881),\n",
       "  ('efforts', 0.0043483512043920895),\n",
       "  ('people', 0.004328905046902578),\n",
       "  ('israel', 0.0036932157713825127),\n",
       "  ('palestinian', 0.003664695807677745)],\n",
       " [('countries', 0.006612687320433297),\n",
       "  ('economic', 0.006475876648581782),\n",
       "  ('peace', 0.006185742442671806),\n",
       "  ('african', 0.005868097530638129),\n",
       "  ('africa', 0.005461545478401344),\n",
       "  ('people', 0.005262733933892399),\n",
       "  ('south', 0.005212668024832037),\n",
       "  ('world', 0.004533032518955784),\n",
       "  ('general', 0.003827657105091987),\n",
       "  ('situation', 0.0037042844952582155)],\n",
       " [('republic', 0.026228193387595654),\n",
       "  ('democratic', 0.014539520239782841),\n",
       "  ('president', 0.009391304413081758),\n",
       "  ('rwanda', 0.00920537210495346),\n",
       "  ('political', 0.009110530493524302),\n",
       "  ('guinea', 0.008549882661296762),\n",
       "  ('tunisia', 0.00853082319777391),\n",
       "  ('government', 0.00806273189883459),\n",
       "  ('former', 0.007580795736992214),\n",
       "  ('people', 0.007493553900790293)],\n",
       " [('development', 0.006379826350936959),\n",
       "  ('human', 0.006243860226015591),\n",
       "  ('peace', 0.00511877639068523),\n",
       "  ('new', 0.005053790992675522),\n",
       "  ('security', 0.004989439780088032),\n",
       "  ('world', 0.004916016635521448),\n",
       "  ('economic', 0.004638970401655109),\n",
       "  ('must', 0.004568247295148825),\n",
       "  ('general', 0.004039781855672569),\n",
       "  ('cooperation', 0.003909259979995932)],\n",
       " [('world', 0.0063605812350342565),\n",
       "  ('must', 0.006185118049023051),\n",
       "  ('economic', 0.0055205663941112065),\n",
       "  ('countries', 0.005427017398301389),\n",
       "  ('new', 0.0051814487960951585),\n",
       "  ('peace', 0.004957323314162786),\n",
       "  ('political', 0.004897057980471036),\n",
       "  ('efforts', 0.004309859968160831),\n",
       "  ('human', 0.004291935205244775),\n",
       "  ('security', 0.00417415327732717)],\n",
       " [('world', 0.007015285890442317),\n",
       "  ('must', 0.005838281036265759),\n",
       "  ('countries', 0.00535651030271031),\n",
       "  ('us', 0.005242677547881094),\n",
       "  ('economic', 0.005153981731060383),\n",
       "  ('people', 0.004546160735804724),\n",
       "  ('new', 0.004015201038694475),\n",
       "  ('south', 0.0035158051763209425),\n",
       "  ('one', 0.0034789414015693227),\n",
       "  ('developing', 0.0034401437837667595)]]"
      ]
     },
     "execution_count": 34,
     "metadata": {},
     "output_type": "execute_result"
    }
   ],
   "source": [
    "ldaseq.print_topics(time=3, top_terms = 10)"
   ]
  },
  {
   "cell_type": "markdown",
   "metadata": {},
   "source": [
    "###### Short Text Topic Modeling"
   ]
  },
  {
   "cell_type": "markdown",
   "metadata": {},
   "source": [
    "While LDA topic modeling works well when the texts in our corpus are considerably lengthy (around fifty words or more), LDA models run into some issues when applied to shorter texts. This happens because of a major assumption of LDA modeling: that each text is a *mixture of topics*. While this makes sense in the case of longer texts, shorter texts, like social media posts, often consist of only a *single topic*. "
   ]
  },
  {
   "cell_type": "code",
   "execution_count": 1,
   "metadata": {},
   "outputs": [],
   "source": [
    "import spacy\n",
    "import gsdmm\n",
    "\n",
    "from sklearn.datasets import fetch_20newsgroups\n",
    "\n",
    "import pickle\n",
    "import matplotlib\n",
    "import pandas as pd\n",
    "import numpy as np\n",
    "import ast"
   ]
  },
  {
   "cell_type": "markdown",
   "metadata": {},
   "source": [
    "[example code](https://github.com/mamrou/short_text_topic_modeling/blob/master/notebook_sttm_example.ipynb)"
   ]
  },
  {
   "cell_type": "code",
   "execution_count": 2,
   "metadata": {},
   "outputs": [],
   "source": [
    "cats = ['talk.politics.mideast', 'comp.windows.x', 'sci.space']\n",
    "\n",
    "newsgroups_train = fetch_20newsgroups(subset='train', remove=('headers', 'footers', 'quotes'), categories=cats)\n",
    "newsgroups_train_subject = fetch_20newsgroups(subset='train', categories=cats)\n",
    "\n",
    "data = newsgroups_train.data\n",
    "data_subject = newsgroups_train_subject.data\n",
    "\n",
    "targets = newsgroups_train.target.tolist()\n",
    "target_names = newsgroups_train.target_names"
   ]
  },
  {
   "cell_type": "markdown",
   "metadata": {},
   "source": [
    "Are our topics evenly distributed?"
   ]
  },
  {
   "cell_type": "code",
   "execution_count": 3,
   "metadata": {},
   "outputs": [
    {
     "data": {
      "text/plain": [
       "1    593\n",
       "0    593\n",
       "2    564\n",
       "Name: targets, dtype: int64"
      ]
     },
     "execution_count": 3,
     "metadata": {},
     "output_type": "execute_result"
    }
   ],
   "source": [
    "df_targets = pd.DataFrame({'targets': targets})\n",
    "order_list = df_targets.targets.value_counts()\n",
    "order_list"
   ]
  },
  {
   "cell_type": "code",
   "execution_count": 4,
   "metadata": {},
   "outputs": [],
   "source": [
    "def extract_first_sentence(data_subject):\n",
    "    list_first_sentence = []\n",
    "    for text in data:\n",
    "        first_sentence = text.split(\".\")[0].replace(\"\\n\", \"\")\n",
    "        list_first_sentence.append(first_sentence)\n",
    "    return list_first_sentence\n"
   ]
  },
  {
   "cell_type": "code",
   "execution_count": 5,
   "metadata": {},
   "outputs": [],
   "source": [
    "def extract_subject(data):\n",
    "    c = 0\n",
    "    s = \"Subject:\"\n",
    "    list_subjects = []\n",
    "    for new in data_subject:    \n",
    "        lines = new.split(\"\\n\")\n",
    "        b = 0 # loop out at the first \"Subject:\", they may be several and we want first one only\n",
    "        for line in lines:\n",
    "            if s in line and b == 0:\n",
    "                subject = \" \".join(line.split(\":\")[1:]).strip()\n",
    "                subject = subject.replace('Re', '').strip()\n",
    "                list_subjects.append(subject)\n",
    "                c += 1\n",
    "                b = 1\n",
    "    return list_subjects"
   ]
  },
  {
   "cell_type": "code",
   "execution_count": 6,
   "metadata": {},
   "outputs": [],
   "source": [
    "def concatenate(list_first_sentence, list_subjects):\n",
    "    list_docs = []\n",
    "    for i in range(len(list_first_sentence)):\n",
    "        list_docs.append(list_subjects[i] + \" \" + list_first_sentence[i])\n",
    "    return list_docs\n"
   ]
  },
  {
   "cell_type": "code",
   "execution_count": 7,
   "metadata": {},
   "outputs": [],
   "source": [
    "list_first_sentence = extract_first_sentence(data)\n",
    "list_subjects = extract_subject(data_subject)\n",
    "list_docs = concatenate(list_first_sentence, list_subjects)"
   ]
  },
  {
   "cell_type": "code",
   "execution_count": 8,
   "metadata": {},
   "outputs": [
    {
     "data": {
      "text/html": [
       "<div>\n",
       "<style scoped>\n",
       "    .dataframe tbody tr th:only-of-type {\n",
       "        vertical-align: middle;\n",
       "    }\n",
       "\n",
       "    .dataframe tbody tr th {\n",
       "        vertical-align: top;\n",
       "    }\n",
       "\n",
       "    .dataframe thead th {\n",
       "        text-align: right;\n",
       "    }\n",
       "</style>\n",
       "<table border=\"1\" class=\"dataframe\">\n",
       "  <thead>\n",
       "    <tr style=\"text-align: right;\">\n",
       "      <th></th>\n",
       "      <th>content</th>\n",
       "      <th>topic_id</th>\n",
       "      <th>topic_true_name</th>\n",
       "    </tr>\n",
       "  </thead>\n",
       "  <tbody>\n",
       "    <tr>\n",
       "      <th>0</th>\n",
       "      <td>Elevator to the top floor Reading from a Amoco...</td>\n",
       "      <td>1</td>\n",
       "      <td>space</td>\n",
       "    </tr>\n",
       "    <tr>\n",
       "      <th>1</th>\n",
       "      <td>Title for XTerm Yet again,the escape sequences...</td>\n",
       "      <td>0</td>\n",
       "      <td>x</td>\n",
       "    </tr>\n",
       "    <tr>\n",
       "      <th>2</th>\n",
       "      <td>From Israeli press. Madness. Before getting ex...</td>\n",
       "      <td>2</td>\n",
       "      <td>mideast</td>\n",
       "    </tr>\n",
       "    <tr>\n",
       "      <th>3</th>\n",
       "      <td>Accounts of Anti-Armenian Human Right Violatio...</td>\n",
       "      <td>2</td>\n",
       "      <td>mideast</td>\n",
       "    </tr>\n",
       "    <tr>\n",
       "      <th>4</th>\n",
       "      <td>How many israeli soldiers does it take to kill...</td>\n",
       "      <td>2</td>\n",
       "      <td>mideast</td>\n",
       "    </tr>\n",
       "  </tbody>\n",
       "</table>\n",
       "</div>"
      ],
      "text/plain": [
       "                                             content  topic_id topic_true_name\n",
       "0  Elevator to the top floor Reading from a Amoco...         1           space\n",
       "1  Title for XTerm Yet again,the escape sequences...         0               x\n",
       "2  From Israeli press. Madness. Before getting ex...         2         mideast\n",
       "3  Accounts of Anti-Armenian Human Right Violatio...         2         mideast\n",
       "4  How many israeli soldiers does it take to kill...         2         mideast"
      ]
     },
     "execution_count": 8,
     "metadata": {},
     "output_type": "execute_result"
    }
   ],
   "source": [
    "df = pd.DataFrame(columns=['content', 'topic_id', 'topic_true_name'])\n",
    "df['content'] = list_docs\n",
    "df['topic_id'] = targets\n",
    "\n",
    "def true_topic_name(x, target_names):\n",
    "    return target_names[x].split('.')[-1]\n",
    "\n",
    "df['topic_true_name'] = df['topic_id'].apply(lambda x: true_topic_name(x, target_names))\n",
    "df.head()"
   ]
  },
  {
   "cell_type": "code",
   "execution_count": 49,
   "metadata": {},
   "outputs": [
    {
     "name": "stdout",
     "output_type": "stream",
     "text": []
    }
   ],
   "source": [
    "import nltk\n",
    "nltk.download('all')\n"
   ]
  },
  {
   "cell_type": "code",
   "execution_count": 74,
   "metadata": {},
   "outputs": [],
   "source": [
    "s0 = str(df['content'])"
   ]
  },
  {
   "cell_type": "code",
   "execution_count": 75,
   "metadata": {},
   "outputs": [
    {
     "data": {
      "text/plain": [
       "'0       Elevator to the top floor Reading from a Amoco...\\n1       Title for XTerm Yet again,the escape sequences...\\n2       From Israeli press. Madness. Before getting ex...\\n3       Accounts of Anti-Armenian Human Right Violatio...\\n4       How many israeli soldiers does it take to kill...\\n                              ...                        \\n1745    Atlas revisited   I found it very interesting ...\\n1746       How to get 24bit color with xview frames ? Yes\\n1747    Deir Yassin You apparently think you are some ...\\n1748    Vulcan?  (No, not the guy with the ears!) The ...\\n1749    REPOST  XView slider Hi Xperts,this is a repos...\\nName: content, Length: 1750, dtype: object'"
      ]
     },
     "execution_count": 75,
     "metadata": {},
     "output_type": "execute_result"
    }
   ],
   "source": [
    "s0"
   ]
  },
  {
   "cell_type": "code",
   "execution_count": 76,
   "metadata": {},
   "outputs": [],
   "source": [
    "tokenized_data = nltk.word_tokenize(s0)"
   ]
  },
  {
   "cell_type": "code",
   "execution_count": 77,
   "metadata": {},
   "outputs": [
    {
     "data": {
      "text/plain": [
       "['0',\n",
       " 'Elevator',\n",
       " 'to',\n",
       " 'the',\n",
       " 'top',\n",
       " 'floor',\n",
       " 'Reading',\n",
       " 'from',\n",
       " 'a',\n",
       " 'Amoco',\n",
       " '...',\n",
       " '1',\n",
       " 'Title',\n",
       " 'for',\n",
       " 'XTerm',\n",
       " 'Yet',\n",
       " 'again',\n",
       " ',',\n",
       " 'the',\n",
       " 'escape',\n",
       " 'sequences',\n",
       " '...',\n",
       " '2',\n",
       " 'From',\n",
       " 'Israeli',\n",
       " 'press',\n",
       " '.',\n",
       " 'Madness',\n",
       " '.',\n",
       " 'Before',\n",
       " 'getting',\n",
       " 'ex',\n",
       " '...',\n",
       " '3',\n",
       " 'Accounts',\n",
       " 'of',\n",
       " 'Anti-Armenian',\n",
       " 'Human',\n",
       " 'Right',\n",
       " 'Violatio',\n",
       " '...',\n",
       " '4',\n",
       " 'How',\n",
       " 'many',\n",
       " 'israeli',\n",
       " 'soldiers',\n",
       " 'does',\n",
       " 'it',\n",
       " 'take',\n",
       " 'to',\n",
       " 'kill',\n",
       " '...',\n",
       " '...',\n",
       " '1745',\n",
       " 'Atlas',\n",
       " 'revisited',\n",
       " 'I',\n",
       " 'found',\n",
       " 'it',\n",
       " 'very',\n",
       " 'interesting',\n",
       " '...',\n",
       " '1746',\n",
       " 'How',\n",
       " 'to',\n",
       " 'get',\n",
       " '24bit',\n",
       " 'color',\n",
       " 'with',\n",
       " 'xview',\n",
       " 'frames',\n",
       " '?',\n",
       " 'Yes',\n",
       " '1747',\n",
       " 'Deir',\n",
       " 'Yassin',\n",
       " 'You',\n",
       " 'apparently',\n",
       " 'think',\n",
       " 'you',\n",
       " 'are',\n",
       " 'some',\n",
       " '...',\n",
       " '1748',\n",
       " 'Vulcan',\n",
       " '?',\n",
       " '(',\n",
       " 'No',\n",
       " ',',\n",
       " 'not',\n",
       " 'the',\n",
       " 'guy',\n",
       " 'with',\n",
       " 'the',\n",
       " 'ears',\n",
       " '!',\n",
       " ')',\n",
       " 'The',\n",
       " '...',\n",
       " '1749',\n",
       " 'REPOST',\n",
       " 'XView',\n",
       " 'slider',\n",
       " 'Hi',\n",
       " 'Xperts',\n",
       " ',',\n",
       " 'this',\n",
       " 'is',\n",
       " 'a',\n",
       " 'repos',\n",
       " '...',\n",
       " 'Name',\n",
       " ':',\n",
       " 'content',\n",
       " ',',\n",
       " 'Length',\n",
       " ':',\n",
       " '1750',\n",
       " ',',\n",
       " 'dtype',\n",
       " ':',\n",
       " 'object']"
      ]
     },
     "execution_count": 77,
     "metadata": {},
     "output_type": "execute_result"
    }
   ],
   "source": [
    "tokenized_data"
   ]
  },
  {
   "cell_type": "markdown",
   "metadata": {},
   "source": [
    "## References\n",
    "\n",
    "Amrouche, Matyas. 2019. “Short Text Topic Modeling.” Medium, Towards Data Science, towardsdatascience.com/short-text-topic-modeling-70e50a57c883.\n",
    "\n",
    "Alghamdi, Rubayyi and Khalid Alfalqi. 2015. \"A Survey of Topic Modeling in Text Mining.\" *Int. J. Adv. Comput. Sci. Appl.(IJACSA)*, 6(1).\n",
    "\n",
    "Blei, David M. and John D. Lafferty. 2006. \"Dynamic Topic Models.\" In *Proceedings of the 23rd International Conference on Machine Learning* (pp. 113-120).\n",
    "\n",
    "Brownlee, Jason. 2019. “A Gentle Introduction to Expectation-Maximization (EM Algorithm).” Machine Learning Mastery, machinelearningmastery.com/expectation-maximization-em-algorithm/.\n",
    "\n",
    "“Dynamic Topic Models Tutorial.” Ldaseqmodel, markroxor.github.io/gensim/static/notebooks/ldaseqmodel.html.\n",
    "\n",
    "\n",
    "https://towardsdatascience.com/exploring-the-un-general-debates-with-dynamic-topic-models-72dc0e307696"
   ]
  },
  {
   "cell_type": "code",
   "execution_count": null,
   "metadata": {},
   "outputs": [],
   "source": []
  }
 ],
 "metadata": {
  "kernelspec": {
   "display_name": "Python 3",
   "language": "python",
   "name": "python3"
  },
  "language_info": {
   "codemirror_mode": {
    "name": "ipython",
    "version": 3
   },
   "file_extension": ".py",
   "mimetype": "text/x-python",
   "name": "python",
   "nbconvert_exporter": "python",
   "pygments_lexer": "ipython3",
   "version": "3.8.3"
  }
 },
 "nbformat": 4,
 "nbformat_minor": 4
}
