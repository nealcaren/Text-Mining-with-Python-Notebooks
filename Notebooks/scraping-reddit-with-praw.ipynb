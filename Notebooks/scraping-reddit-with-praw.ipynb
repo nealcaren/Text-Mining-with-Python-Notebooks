{
 "cells": [
  {
   "cell_type": "markdown",
   "metadata": {},
   "source": [
    "# Case Study, Part 2: Scraping Reddit with PRAW"
   ]
  },
  {
   "cell_type": "markdown",
   "metadata": {},
   "source": [
    "Although Pushshift is a wonderful resource when it comes to scraping Reddit data, it's not infallible. In some cases, important data will be missing from the Pushshift API, and you'll need to supplement the Pushshift data with the metadata available through Reddit's official API. \n",
    "\n",
    "Luckily, we can accomplish this using the [PRAW](https://praw.readthedocs.io/en/latest/) Reddit API Wrapper. This chapter will go through the steps necessary to supplement Pushshift data using PRAW."
   ]
  },
  {
   "cell_type": "markdown",
   "metadata": {},
   "source": [
    "## Setup"
   ]
  },
  {
   "cell_type": "code",
   "execution_count": 1,
   "metadata": {},
   "outputs": [
    {
     "name": "stdout",
     "output_type": "stream",
     "text": [
      "Requirement already satisfied: praw in /opt/anaconda3/lib/python3.7/site-packages (7.0.0)\n",
      "Requirement already satisfied: websocket-client>=0.54.0 in /opt/anaconda3/lib/python3.7/site-packages (from praw) (0.57.0)\n",
      "Requirement already satisfied: update-checker>=0.16 in /opt/anaconda3/lib/python3.7/site-packages (from praw) (0.17)\n",
      "Requirement already satisfied: prawcore<2.0,>=1.3.0 in /opt/anaconda3/lib/python3.7/site-packages (from praw) (1.3.0)\n",
      "Requirement already satisfied: six in /opt/anaconda3/lib/python3.7/site-packages (from websocket-client>=0.54.0->praw) (1.14.0)\n",
      "Requirement already satisfied: requests>=2.3.0 in /opt/anaconda3/lib/python3.7/site-packages (from update-checker>=0.16->praw) (2.22.0)\n",
      "Requirement already satisfied: chardet<3.1.0,>=3.0.2 in /opt/anaconda3/lib/python3.7/site-packages (from requests>=2.3.0->update-checker>=0.16->praw) (3.0.4)\n",
      "Requirement already satisfied: idna<2.9,>=2.5 in /opt/anaconda3/lib/python3.7/site-packages (from requests>=2.3.0->update-checker>=0.16->praw) (2.8)\n",
      "Requirement already satisfied: certifi>=2017.4.17 in /opt/anaconda3/lib/python3.7/site-packages (from requests>=2.3.0->update-checker>=0.16->praw) (2019.11.28)\n",
      "Requirement already satisfied: urllib3!=1.25.0,!=1.25.1,<1.26,>=1.21.1 in /opt/anaconda3/lib/python3.7/site-packages (from requests>=2.3.0->update-checker>=0.16->praw) (1.25.8)\n",
      "Note: you may need to restart the kernel to use updated packages.\n"
     ]
    }
   ],
   "source": [
    "pip install praw"
   ]
  },
  {
   "cell_type": "code",
   "execution_count": 2,
   "metadata": {},
   "outputs": [],
   "source": [
    "import praw"
   ]
  },
  {
   "cell_type": "code",
   "execution_count": 3,
   "metadata": {},
   "outputs": [],
   "source": [
    "import requests\n",
    "import pandas as pd\n",
    "import json\n",
    "import csv\n",
    "import time"
   ]
  },
  {
   "cell_type": "markdown",
   "metadata": {},
   "source": [
    "## Creating a Reddit App"
   ]
  },
  {
   "cell_type": "markdown",
   "metadata": {},
   "source": [
    "In order to use PRAW, you'll need to develop your own application on Reddit. In order to do *that*, you'll need to create a Reddit account. \n",
    "\n",
    "\n",
    "Once you've created an account on Reddit, you can navigate to the [developed applications](https://www.reddit.com/prefs/apps) page from Reddit preferences. Here, you'll see a button prompting you to \"create app.\" Click it, and you should see the following: "
   ]
  },
  {
   "cell_type": "markdown",
   "metadata": {},
   "source": [
    "![create application](https://i.snipboard.io/zKZ3vq.jpg)"
   ]
  },
  {
   "cell_type": "markdown",
   "metadata": {},
   "source": [
    "Make sure you're creating a **script** app, as this is what we'll need in order to make requests with PRAW. Feel free to name and describe the app as you see fit, then click the button at the bottom to create your app. "
   ]
  },
  {
   "cell_type": "markdown",
   "metadata": {},
   "source": [
    "For additional guidance on how to develop your own Reddit application, see [here](https://github.com/reddit-archive/reddit/wiki/OAuth2-Quick-Start-Example#first-steps)."
   ]
  },
  {
   "cell_type": "markdown",
   "metadata": {},
   "source": [
    "## Obtaining a Reddit Instance"
   ]
  },
  {
   "cell_type": "markdown",
   "metadata": {},
   "source": [
    "Now that we've created an application on Reddit, we can obtain Reddit instances using PRAW. While it's possible to create two separate types of instance -- read-only or authorized -- for the sake of this chapter we'll focus on obtaining a read-only instance. "
   ]
  },
  {
   "cell_type": "markdown",
   "metadata": {},
   "source": [
    "This is where the script application we just created becomes important. We'll need to provide our `client-id`, our `client_secret`, and our `user_agent` in order to obtain a read-only Reddit instance:\n",
    "\n",
    "*Note*: You'll want to keep this information as confidential as possible while still accessing the data you need. "
   ]
  },
  {
   "cell_type": "code",
   "execution_count": 5,
   "metadata": {},
   "outputs": [],
   "source": [
    "reddit = praw.Reddit(client_id=\"my client id\",\n",
    "                     client_secret=\"my client secret\",\n",
    "                     user_agent=\"my user agent\")"
   ]
  },
  {
   "cell_type": "markdown",
   "metadata": {},
   "source": [
    "With the information from our script application, we'll be able to `print` a read-only Reddit instance. As an example, below are 20 of the most \"hot\" submissions from [r/MakeupRehab](https://www.reddit.com/r/MakeupRehab/): "
   ]
  },
  {
   "cell_type": "code",
   "execution_count": 7,
   "metadata": {
    "scrolled": true
   },
   "outputs": [
    {
     "name": "stdout",
     "output_type": "stream",
     "text": [
      "True\n",
      "Megathread: COVID-19 / Coronavirus Resource and Discussion\n",
      "Topic Tuesday - 'What is Your Favourite Lip Product in Your Collection' ''- May 26, 2020\n",
      "Makeup Rehabbers.. and at what point did you feel fully rehabbed? What happens when you end a no buy? & Other questions..\n",
      "Use Your Perfume Samples!\n",
      "Tempted to get rid of most of my makeup. What should I do?\n",
      "Constantly obsessively feeling like my collection is incomplete due to changing needs/preferences.\n",
      "Limited Edition does not mean you have to buy it.\n",
      "Not makeup, hope this is ok.\n",
      "Talk me out of a purchase?\n",
      "Ways to use up products I had bought \"for fun\" and now regret?\n",
      "2 months of buying NO makeup!!!\n",
      "30 days WITHOUT buying any makeup/skincare!\n",
      "Feel like I'm forcing myself to shop at Sephora because I have a gift card\n",
      "MuR Daily Chat - May 26, 2020\n",
      "*May.25th: Daily check in thread for No Buy May (NBM)*\n",
      "Talk me out of buying Urban Decay Brow Blade\n",
      "Does your makeup expire?\n",
      "makeup companies and my little pony—how they sell us the same product every year\n",
      "Found a replacement product within my stash!\n",
      "Project Progress - May 25, 2020\n"
     ]
    }
   ],
   "source": [
    "print(reddit.read_only)\n",
    "for submission in reddit.subreddit(\"MakeupRehab\").hot(limit=20):\n",
    "    print(submission.title)"
   ]
  },
  {
   "cell_type": "markdown",
   "metadata": {},
   "source": [
    "## Filling in gaps in the Pushshift API"
   ]
  },
  {
   "cell_type": "markdown",
   "metadata": {},
   "source": [
    "While Pushshift is a great entryway into scraping data from Reddit, you'll occasionally run into some notable gaps in available data. These gaps in the Pushshift data tend to turn up following a [large wave of subreddit quarantines in September 2018](https://www.newsweek.com/reddit-quarantine-subs-toxic-controversial-moderators-1144663).\n",
    "\n",
    "\n",
    "Using the API's [Reddit Search](https://redditsearch.io/) referenced at the end of Part 1, we can see how scope out any potential holes in subreddit data before going through the process of scraping that data ourselves. "
   ]
  },
  {
   "cell_type": "markdown",
   "metadata": {},
   "source": [
    "As an example, let's look at the data one of the subreddits quarantined in September 2018, r/CringeAnarchy:"
   ]
  },
  {
   "cell_type": "markdown",
   "metadata": {},
   "source": [
    "![redditsearch](https://i.snipboard.io/7qI8eF.jpg)"
   ]
  },
  {
   "cell_type": "markdown",
   "metadata": {},
   "source": [
    "There's a fairly large chunk of data missing following the quarantine. Data availabiliy only picks back up at the beginning of 2019. "
   ]
  },
  {
   "cell_type": "markdown",
   "metadata": {},
   "source": [
    "Let's see if we're able to get more complete data from r/CringeAnarchy by combining the availability made possible through the Pushshift API and PRAW. The next section of this chapter will go through a step-by-step process of how we can accomplish this, focusing first on scraping subreddit submissions."
   ]
  },
  {
   "cell_type": "markdown",
   "metadata": {},
   "source": [
    "### Step 1: Collecting Post ids from Pushshift"
   ]
  },
  {
   "cell_type": "markdown",
   "metadata": {},
   "source": [
    "As we've done in the first part of the case study, we'll want to set a first and last UTC from which to scrape data. "
   ]
  },
  {
   "cell_type": "code",
   "execution_count": 212,
   "metadata": {},
   "outputs": [],
   "source": [
    "first_utc = 1420070400 # Before the first post in December 2014\n",
    "last_utc = 1556409600 # After the subreddit was banned in April 2019"
   ]
  },
  {
   "cell_type": "code",
   "execution_count": 169,
   "metadata": {},
   "outputs": [],
   "source": [
    "def ScrapeSubmissions(after, before):\n",
    "    url = 'https://api.pushshift.io/reddit/submission/search/?sort_type=created_utc&sort=asc&subreddit=CringeAnarchy&after='+ str(after) +\"&before\"+str(before)+\"&size=1000\"\n",
    "    r = requests.get(url)\n",
    "    data = json.loads(r.text)\n",
    "    return data['data']\n"
   ]
  },
  {
   "cell_type": "markdown",
   "metadata": {},
   "source": [
    "We'll need to set up a number of empty lists to collect timestamps, post ids, and scores."
   ]
  },
  {
   "cell_type": "code",
   "execution_count": 170,
   "metadata": {},
   "outputs": [],
   "source": [
    "timestamps = list()\n",
    "post_ids = list()\n",
    "score = list()"
   ]
  },
  {
   "cell_type": "code",
   "execution_count": 171,
   "metadata": {
    "scrolled": false
   },
   "outputs": [
    {
     "name": "stdout",
     "output_type": "stream",
     "text": [
      "['1000 posts collected so far.']\n",
      "1423856435\n",
      "['2000 posts collected so far.']\n",
      "1426708648\n",
      "['3000 posts collected so far.']\n",
      "1429408503\n",
      "['4000 posts collected so far.']\n",
      "1431579050\n",
      "['5000 posts collected so far.']\n",
      "1433438217\n",
      "['6000 posts collected so far.']\n",
      "1435174323\n",
      "['7000 posts collected so far.']\n",
      "1436709841\n",
      "['8000 posts collected so far.']\n",
      "1438097104\n",
      "['9000 posts collected so far.']\n",
      "1439394909\n",
      "['10000 posts collected so far.']\n",
      "1440542293\n",
      "['11000 posts collected so far.']\n",
      "1441584881\n",
      "['12000 posts collected so far.']\n",
      "1442777685\n",
      "['13000 posts collected so far.']\n",
      "1443836862\n",
      "['14000 posts collected so far.']\n",
      "1444938335\n",
      "['15000 posts collected so far.']\n",
      "1445856871\n",
      "['16000 posts collected so far.']\n",
      "1446797684\n",
      "['17000 posts collected so far.']\n",
      "1447729468\n",
      "['18000 posts collected so far.']\n",
      "1448604477\n",
      "['19000 posts collected so far.']\n",
      "1449457521\n",
      "['20000 posts collected so far.']\n",
      "1450249316\n",
      "['21000 posts collected so far.']\n",
      "1451081393\n",
      "['22000 posts collected so far.']\n",
      "1451855501\n",
      "['23000 posts collected so far.']\n",
      "1452545867\n",
      "['24000 posts collected so far.']\n",
      "1453222081\n",
      "['25000 posts collected so far.']\n",
      "1453916325\n",
      "['26000 posts collected so far.']\n",
      "1454567446\n",
      "['27000 posts collected so far.']\n",
      "1455242775\n",
      "['28000 posts collected so far.']\n",
      "1455940196\n",
      "['29000 posts collected so far.']\n",
      "1456612714\n",
      "['30000 posts collected so far.']\n",
      "1457312224\n",
      "['31000 posts collected so far.']\n",
      "1458025660\n",
      "['32000 posts collected so far.']\n",
      "1458711934\n",
      "['33000 posts collected so far.']\n",
      "1459392677\n",
      "Decoding JSON has failed\n",
      "['34000 posts collected so far.']\n",
      "1460080241\n",
      "['35000 posts collected so far.']\n",
      "1460814319\n",
      "['36000 posts collected so far.']\n",
      "1461466494\n",
      "['37000 posts collected so far.']\n",
      "1462056666\n",
      "['38000 posts collected so far.']\n",
      "1462673538\n",
      "['39000 posts collected so far.']\n",
      "1463286421\n",
      "['40000 posts collected so far.']\n",
      "1463925721\n",
      "['41000 posts collected so far.']\n",
      "1464536381\n",
      "['42000 posts collected so far.']\n",
      "1465072697\n",
      "['43000 posts collected so far.']\n",
      "1465675359\n",
      "['44000 posts collected so far.']\n",
      "1466255678\n",
      "['45000 posts collected so far.']\n",
      "1466838668\n",
      "['46000 posts collected so far.']\n",
      "1467375205\n",
      "['47000 posts collected so far.']\n",
      "1467933794\n",
      "['48000 posts collected so far.']\n",
      "1468523045\n",
      "['49000 posts collected so far.']\n",
      "1469084825\n",
      "['50000 posts collected so far.']\n",
      "1469690264\n",
      "['51000 posts collected so far.']\n",
      "1470333627\n",
      "['52000 posts collected so far.']\n",
      "1470941491\n",
      "['53000 posts collected so far.']\n",
      "1471624109\n",
      "['54000 posts collected so far.']\n",
      "1472242692\n",
      "['55000 posts collected so far.']\n",
      "1472851239\n",
      "['56000 posts collected so far.']\n",
      "1473461773\n",
      "['57000 posts collected so far.']\n",
      "1474046063\n",
      "['58000 posts collected so far.']\n",
      "1474592751\n",
      "['59000 posts collected so far.']\n",
      "1475180114\n",
      "['60000 posts collected so far.']\n",
      "1475802030\n",
      "['61000 posts collected so far.']\n",
      "1476376632\n",
      "['62000 posts collected so far.']\n",
      "1476990049\n",
      "['63000 posts collected so far.']\n",
      "1477586379\n",
      "['64000 posts collected so far.']\n",
      "1478207430\n",
      "['65000 posts collected so far.']\n",
      "1478735874\n",
      "['66000 posts collected so far.']\n",
      "1479237669\n",
      "['67000 posts collected so far.']\n",
      "1479838576\n",
      "['68000 posts collected so far.']\n",
      "1480447478\n",
      "['69000 posts collected so far.']\n",
      "1480985662\n",
      "['70000 posts collected so far.']\n",
      "1481534936\n",
      "['71000 posts collected so far.']\n",
      "1482091702\n",
      "['72000 posts collected so far.']\n",
      "1482635889\n",
      "['73000 posts collected so far.']\n",
      "1483203475\n",
      "['74000 posts collected so far.']\n",
      "1483681868\n",
      "['75000 posts collected so far.']\n",
      "1484191514\n",
      "['76000 posts collected so far.']\n",
      "1484754503\n",
      "['77000 posts collected so far.']\n",
      "1485222626\n",
      "['78000 posts collected so far.']\n",
      "1485750648\n",
      "['79000 posts collected so far.']\n",
      "1486295192\n",
      "['80000 posts collected so far.']\n",
      "1486867562\n",
      "['81000 posts collected so far.']\n",
      "1487419675\n",
      "['82000 posts collected so far.']\n",
      "1488053692\n",
      "['83000 posts collected so far.']\n",
      "1488592918\n",
      "['84000 posts collected so far.']\n",
      "1489092229\n",
      "['85000 posts collected so far.']\n",
      "1489593176\n",
      "['86000 posts collected so far.']\n",
      "1490049434\n",
      "['87000 posts collected so far.']\n",
      "1490555901\n",
      "['88000 posts collected so far.']\n",
      "1491051220\n",
      "['89000 posts collected so far.']\n",
      "1491561439\n",
      "['90000 posts collected so far.']\n",
      "1492086827\n",
      "['91000 posts collected so far.']\n",
      "1492607601\n",
      "['92000 posts collected so far.']\n",
      "1493090533\n",
      "['93000 posts collected so far.']\n",
      "1493583453\n",
      "['94000 posts collected so far.']\n",
      "1494024024\n",
      "['95000 posts collected so far.']\n",
      "1494478546\n",
      "['96000 posts collected so far.']\n",
      "1494895423\n",
      "['97000 posts collected so far.']\n",
      "1495305357\n",
      "['98000 posts collected so far.']\n",
      "1495714242\n",
      "['99000 posts collected so far.']\n",
      "1496165769\n",
      "['100000 posts collected so far.']\n",
      "1496567875\n",
      "['101000 posts collected so far.']\n",
      "1496987394\n",
      "['102000 posts collected so far.']\n",
      "1497396834\n",
      "['103000 posts collected so far.']\n",
      "1497816101\n",
      "['104000 posts collected so far.']\n",
      "1498252276\n",
      "['105000 posts collected so far.']\n",
      "1498666243\n",
      "['106000 posts collected so far.']\n",
      "1499020000\n",
      "['107000 posts collected so far.']\n",
      "1499388468\n",
      "['108000 posts collected so far.']\n",
      "1499781589\n",
      "['109000 posts collected so far.']\n",
      "1500199781\n",
      "['110000 posts collected so far.']\n",
      "1500594289\n",
      "['111000 posts collected so far.']\n",
      "1501022305\n",
      "['112000 posts collected so far.']\n",
      "1501428274\n",
      "['113000 posts collected so far.']\n",
      "1501817815\n",
      "['114000 posts collected so far.']\n",
      "1502199983\n",
      "['115000 posts collected so far.']\n",
      "1502540667\n",
      "['116000 posts collected so far.']\n",
      "1502904168\n",
      "['117000 posts collected so far.']\n",
      "1503277685\n",
      "['118000 posts collected so far.']\n",
      "1503693875\n",
      "Decoding JSON has failed\n",
      "['119000 posts collected so far.']\n",
      "1504078135\n",
      "['120000 posts collected so far.']\n",
      "1504489655\n",
      "['121000 posts collected so far.']\n",
      "1504915204\n",
      "['122000 posts collected so far.']\n",
      "1505323238\n",
      "['123000 posts collected so far.']\n",
      "1505756333\n",
      "['124000 posts collected so far.']\n",
      "1506170828\n",
      "['125000 posts collected so far.']\n",
      "1506543525\n",
      "['126000 posts collected so far.']\n",
      "1506968104\n",
      "['127000 posts collected so far.']\n",
      "1507361361\n",
      "['128000 posts collected so far.']\n",
      "1507717194\n",
      "['129000 posts collected so far.']\n",
      "1508098469\n",
      "['130000 posts collected so far.']\n",
      "1508483486\n",
      "['131000 posts collected so far.']\n",
      "1508873164\n",
      "['132000 posts collected so far.']\n",
      "1509309509\n",
      "['133000 posts collected so far.']\n",
      "1509709891\n",
      "['134000 posts collected so far.']\n",
      "1510156886\n",
      "['135000 posts collected so far.']\n",
      "1510542297\n",
      "['136000 posts collected so far.']\n",
      "1510942544\n",
      "['137000 posts collected so far.']\n",
      "1511357279\n",
      "['138000 posts collected so far.']\n",
      "1511811356\n",
      "['139000 posts collected so far.']\n",
      "1512226141\n",
      "['140000 posts collected so far.']\n",
      "1512663629\n",
      "['141000 posts collected so far.']\n",
      "1513117570\n",
      "['142000 posts collected so far.']\n",
      "1513539705\n",
      "['143000 posts collected so far.']\n",
      "1513986832\n",
      "['144000 posts collected so far.']\n",
      "1514445821\n",
      "['145000 posts collected so far.']\n",
      "1514877696\n",
      "['146000 posts collected so far.']\n",
      "1515288057\n",
      "['147000 posts collected so far.']\n",
      "1515712734\n",
      "['148000 posts collected so far.']\n",
      "1516132471\n",
      "Decoding JSON has failed\n",
      "['149000 posts collected so far.']\n",
      "1516535802\n",
      "['150000 posts collected so far.']\n",
      "1516924291\n",
      "['151000 posts collected so far.']\n",
      "1517323475\n",
      "Decoding JSON has failed\n",
      "['152000 posts collected so far.']\n",
      "1517710279\n",
      "['153000 posts collected so far.']\n",
      "1518094274\n",
      "['154000 posts collected so far.']\n",
      "1518473900\n",
      "['155000 posts collected so far.']\n",
      "1518817042\n",
      "['156000 posts collected so far.']\n",
      "1519167019\n",
      "['157000 posts collected so far.']\n",
      "1519533703\n",
      "['158000 posts collected so far.']\n",
      "1519865458\n",
      "['159000 posts collected so far.']\n",
      "1520225510\n",
      "['160000 posts collected so far.']\n",
      "1520560294\n",
      "['161000 posts collected so far.']\n",
      "1520897062\n"
     ]
    },
    {
     "ename": "ChunkedEncodingError",
     "evalue": "('Connection broken: OSError(\"(54, \\'ECONNRESET\\')\")', OSError(\"(54, 'ECONNRESET')\"))",
     "output_type": "error",
     "traceback": [
      "\u001b[0;31m---------------------------------------------------------------------------\u001b[0m",
      "\u001b[0;31mSysCallError\u001b[0m                              Traceback (most recent call last)",
      "\u001b[0;32m/opt/anaconda3/lib/python3.7/site-packages/urllib3/contrib/pyopenssl.py\u001b[0m in \u001b[0;36mrecv_into\u001b[0;34m(self, *args, **kwargs)\u001b[0m\n\u001b[1;32m    312\u001b[0m         \u001b[0;32mtry\u001b[0m\u001b[0;34m:\u001b[0m\u001b[0;34m\u001b[0m\u001b[0;34m\u001b[0m\u001b[0m\n\u001b[0;32m--> 313\u001b[0;31m             \u001b[0;32mreturn\u001b[0m \u001b[0mself\u001b[0m\u001b[0;34m.\u001b[0m\u001b[0mconnection\u001b[0m\u001b[0;34m.\u001b[0m\u001b[0mrecv_into\u001b[0m\u001b[0;34m(\u001b[0m\u001b[0;34m*\u001b[0m\u001b[0margs\u001b[0m\u001b[0;34m,\u001b[0m \u001b[0;34m**\u001b[0m\u001b[0mkwargs\u001b[0m\u001b[0;34m)\u001b[0m\u001b[0;34m\u001b[0m\u001b[0;34m\u001b[0m\u001b[0m\n\u001b[0m\u001b[1;32m    314\u001b[0m         \u001b[0;32mexcept\u001b[0m \u001b[0mOpenSSL\u001b[0m\u001b[0;34m.\u001b[0m\u001b[0mSSL\u001b[0m\u001b[0;34m.\u001b[0m\u001b[0mSysCallError\u001b[0m \u001b[0;32mas\u001b[0m \u001b[0me\u001b[0m\u001b[0;34m:\u001b[0m\u001b[0;34m\u001b[0m\u001b[0;34m\u001b[0m\u001b[0m\n",
      "\u001b[0;32m/opt/anaconda3/lib/python3.7/site-packages/OpenSSL/SSL.py\u001b[0m in \u001b[0;36mrecv_into\u001b[0;34m(self, buffer, nbytes, flags)\u001b[0m\n\u001b[1;32m   1839\u001b[0m             \u001b[0mresult\u001b[0m \u001b[0;34m=\u001b[0m \u001b[0m_lib\u001b[0m\u001b[0;34m.\u001b[0m\u001b[0mSSL_read\u001b[0m\u001b[0;34m(\u001b[0m\u001b[0mself\u001b[0m\u001b[0;34m.\u001b[0m\u001b[0m_ssl\u001b[0m\u001b[0;34m,\u001b[0m \u001b[0mbuf\u001b[0m\u001b[0;34m,\u001b[0m \u001b[0mnbytes\u001b[0m\u001b[0;34m)\u001b[0m\u001b[0;34m\u001b[0m\u001b[0;34m\u001b[0m\u001b[0m\n\u001b[0;32m-> 1840\u001b[0;31m         \u001b[0mself\u001b[0m\u001b[0;34m.\u001b[0m\u001b[0m_raise_ssl_error\u001b[0m\u001b[0;34m(\u001b[0m\u001b[0mself\u001b[0m\u001b[0;34m.\u001b[0m\u001b[0m_ssl\u001b[0m\u001b[0;34m,\u001b[0m \u001b[0mresult\u001b[0m\u001b[0;34m)\u001b[0m\u001b[0;34m\u001b[0m\u001b[0;34m\u001b[0m\u001b[0m\n\u001b[0m\u001b[1;32m   1841\u001b[0m \u001b[0;34m\u001b[0m\u001b[0m\n",
      "\u001b[0;32m/opt/anaconda3/lib/python3.7/site-packages/OpenSSL/SSL.py\u001b[0m in \u001b[0;36m_raise_ssl_error\u001b[0;34m(self, ssl, result)\u001b[0m\n\u001b[1;32m   1662\u001b[0m                     \u001b[0;32mif\u001b[0m \u001b[0merrno\u001b[0m \u001b[0;34m!=\u001b[0m \u001b[0;36m0\u001b[0m\u001b[0;34m:\u001b[0m\u001b[0;34m\u001b[0m\u001b[0;34m\u001b[0m\u001b[0m\n\u001b[0;32m-> 1663\u001b[0;31m                         \u001b[0;32mraise\u001b[0m \u001b[0mSysCallError\u001b[0m\u001b[0;34m(\u001b[0m\u001b[0merrno\u001b[0m\u001b[0;34m,\u001b[0m \u001b[0merrorcode\u001b[0m\u001b[0;34m.\u001b[0m\u001b[0mget\u001b[0m\u001b[0;34m(\u001b[0m\u001b[0merrno\u001b[0m\u001b[0;34m)\u001b[0m\u001b[0;34m)\u001b[0m\u001b[0;34m\u001b[0m\u001b[0;34m\u001b[0m\u001b[0m\n\u001b[0m\u001b[1;32m   1664\u001b[0m                 \u001b[0;32mraise\u001b[0m \u001b[0mSysCallError\u001b[0m\u001b[0;34m(\u001b[0m\u001b[0;34m-\u001b[0m\u001b[0;36m1\u001b[0m\u001b[0;34m,\u001b[0m \u001b[0;34m\"Unexpected EOF\"\u001b[0m\u001b[0;34m)\u001b[0m\u001b[0;34m\u001b[0m\u001b[0;34m\u001b[0m\u001b[0m\n",
      "\u001b[0;31mSysCallError\u001b[0m: (54, 'ECONNRESET')",
      "\nDuring handling of the above exception, another exception occurred:\n",
      "\u001b[0;31mOSError\u001b[0m                                   Traceback (most recent call last)",
      "\u001b[0;32m/opt/anaconda3/lib/python3.7/site-packages/urllib3/response.py\u001b[0m in \u001b[0;36m_error_catcher\u001b[0;34m(self)\u001b[0m\n\u001b[1;32m    424\u001b[0m             \u001b[0;32mtry\u001b[0m\u001b[0;34m:\u001b[0m\u001b[0;34m\u001b[0m\u001b[0;34m\u001b[0m\u001b[0m\n\u001b[0;32m--> 425\u001b[0;31m                 \u001b[0;32myield\u001b[0m\u001b[0;34m\u001b[0m\u001b[0;34m\u001b[0m\u001b[0m\n\u001b[0m\u001b[1;32m    426\u001b[0m \u001b[0;34m\u001b[0m\u001b[0m\n",
      "\u001b[0;32m/opt/anaconda3/lib/python3.7/site-packages/urllib3/response.py\u001b[0m in \u001b[0;36mread_chunked\u001b[0;34m(self, amt, decode_content)\u001b[0m\n\u001b[1;32m    754\u001b[0m                     \u001b[0;32mbreak\u001b[0m\u001b[0;34m\u001b[0m\u001b[0;34m\u001b[0m\u001b[0m\n\u001b[0;32m--> 755\u001b[0;31m                 \u001b[0mchunk\u001b[0m \u001b[0;34m=\u001b[0m \u001b[0mself\u001b[0m\u001b[0;34m.\u001b[0m\u001b[0m_handle_chunk\u001b[0m\u001b[0;34m(\u001b[0m\u001b[0mamt\u001b[0m\u001b[0;34m)\u001b[0m\u001b[0;34m\u001b[0m\u001b[0;34m\u001b[0m\u001b[0m\n\u001b[0m\u001b[1;32m    756\u001b[0m                 decoded = self._decode(\n",
      "\u001b[0;32m/opt/anaconda3/lib/python3.7/site-packages/urllib3/response.py\u001b[0m in \u001b[0;36m_handle_chunk\u001b[0;34m(self, amt)\u001b[0m\n\u001b[1;32m    698\u001b[0m         \u001b[0;32melif\u001b[0m \u001b[0mamt\u001b[0m \u001b[0;34m<\u001b[0m \u001b[0mself\u001b[0m\u001b[0;34m.\u001b[0m\u001b[0mchunk_left\u001b[0m\u001b[0;34m:\u001b[0m\u001b[0;34m\u001b[0m\u001b[0;34m\u001b[0m\u001b[0m\n\u001b[0;32m--> 699\u001b[0;31m             \u001b[0mvalue\u001b[0m \u001b[0;34m=\u001b[0m \u001b[0mself\u001b[0m\u001b[0;34m.\u001b[0m\u001b[0m_fp\u001b[0m\u001b[0;34m.\u001b[0m\u001b[0m_safe_read\u001b[0m\u001b[0;34m(\u001b[0m\u001b[0mamt\u001b[0m\u001b[0;34m)\u001b[0m\u001b[0;34m\u001b[0m\u001b[0;34m\u001b[0m\u001b[0m\n\u001b[0m\u001b[1;32m    700\u001b[0m             \u001b[0mself\u001b[0m\u001b[0;34m.\u001b[0m\u001b[0mchunk_left\u001b[0m \u001b[0;34m=\u001b[0m \u001b[0mself\u001b[0m\u001b[0;34m.\u001b[0m\u001b[0mchunk_left\u001b[0m \u001b[0;34m-\u001b[0m \u001b[0mamt\u001b[0m\u001b[0;34m\u001b[0m\u001b[0;34m\u001b[0m\u001b[0m\n",
      "\u001b[0;32m/opt/anaconda3/lib/python3.7/http/client.py\u001b[0m in \u001b[0;36m_safe_read\u001b[0;34m(self, amt)\u001b[0m\n\u001b[1;32m    619\u001b[0m         \u001b[0;32mwhile\u001b[0m \u001b[0mamt\u001b[0m \u001b[0;34m>\u001b[0m \u001b[0;36m0\u001b[0m\u001b[0;34m:\u001b[0m\u001b[0;34m\u001b[0m\u001b[0;34m\u001b[0m\u001b[0m\n\u001b[0;32m--> 620\u001b[0;31m             \u001b[0mchunk\u001b[0m \u001b[0;34m=\u001b[0m \u001b[0mself\u001b[0m\u001b[0;34m.\u001b[0m\u001b[0mfp\u001b[0m\u001b[0;34m.\u001b[0m\u001b[0mread\u001b[0m\u001b[0;34m(\u001b[0m\u001b[0mmin\u001b[0m\u001b[0;34m(\u001b[0m\u001b[0mamt\u001b[0m\u001b[0;34m,\u001b[0m \u001b[0mMAXAMOUNT\u001b[0m\u001b[0;34m)\u001b[0m\u001b[0;34m)\u001b[0m\u001b[0;34m\u001b[0m\u001b[0;34m\u001b[0m\u001b[0m\n\u001b[0m\u001b[1;32m    621\u001b[0m             \u001b[0;32mif\u001b[0m \u001b[0;32mnot\u001b[0m \u001b[0mchunk\u001b[0m\u001b[0;34m:\u001b[0m\u001b[0;34m\u001b[0m\u001b[0;34m\u001b[0m\u001b[0m\n",
      "\u001b[0;32m/opt/anaconda3/lib/python3.7/socket.py\u001b[0m in \u001b[0;36mreadinto\u001b[0;34m(self, b)\u001b[0m\n\u001b[1;32m    588\u001b[0m             \u001b[0;32mtry\u001b[0m\u001b[0;34m:\u001b[0m\u001b[0;34m\u001b[0m\u001b[0;34m\u001b[0m\u001b[0m\n\u001b[0;32m--> 589\u001b[0;31m                 \u001b[0;32mreturn\u001b[0m \u001b[0mself\u001b[0m\u001b[0;34m.\u001b[0m\u001b[0m_sock\u001b[0m\u001b[0;34m.\u001b[0m\u001b[0mrecv_into\u001b[0m\u001b[0;34m(\u001b[0m\u001b[0mb\u001b[0m\u001b[0;34m)\u001b[0m\u001b[0;34m\u001b[0m\u001b[0;34m\u001b[0m\u001b[0m\n\u001b[0m\u001b[1;32m    590\u001b[0m             \u001b[0;32mexcept\u001b[0m \u001b[0mtimeout\u001b[0m\u001b[0;34m:\u001b[0m\u001b[0;34m\u001b[0m\u001b[0;34m\u001b[0m\u001b[0m\n",
      "\u001b[0;32m/opt/anaconda3/lib/python3.7/site-packages/urllib3/contrib/pyopenssl.py\u001b[0m in \u001b[0;36mrecv_into\u001b[0;34m(self, *args, **kwargs)\u001b[0m\n\u001b[1;32m    317\u001b[0m             \u001b[0;32melse\u001b[0m\u001b[0;34m:\u001b[0m\u001b[0;34m\u001b[0m\u001b[0;34m\u001b[0m\u001b[0m\n\u001b[0;32m--> 318\u001b[0;31m                 \u001b[0;32mraise\u001b[0m \u001b[0mSocketError\u001b[0m\u001b[0;34m(\u001b[0m\u001b[0mstr\u001b[0m\u001b[0;34m(\u001b[0m\u001b[0me\u001b[0m\u001b[0;34m)\u001b[0m\u001b[0;34m)\u001b[0m\u001b[0;34m\u001b[0m\u001b[0;34m\u001b[0m\u001b[0m\n\u001b[0m\u001b[1;32m    319\u001b[0m         \u001b[0;32mexcept\u001b[0m \u001b[0mOpenSSL\u001b[0m\u001b[0;34m.\u001b[0m\u001b[0mSSL\u001b[0m\u001b[0;34m.\u001b[0m\u001b[0mZeroReturnError\u001b[0m\u001b[0;34m:\u001b[0m\u001b[0;34m\u001b[0m\u001b[0;34m\u001b[0m\u001b[0m\n",
      "\u001b[0;31mOSError\u001b[0m: (54, 'ECONNRESET')",
      "\nDuring handling of the above exception, another exception occurred:\n",
      "\u001b[0;31mProtocolError\u001b[0m                             Traceback (most recent call last)",
      "\u001b[0;32m/opt/anaconda3/lib/python3.7/site-packages/requests/models.py\u001b[0m in \u001b[0;36mgenerate\u001b[0;34m()\u001b[0m\n\u001b[1;32m    749\u001b[0m                 \u001b[0;32mtry\u001b[0m\u001b[0;34m:\u001b[0m\u001b[0;34m\u001b[0m\u001b[0;34m\u001b[0m\u001b[0m\n\u001b[0;32m--> 750\u001b[0;31m                     \u001b[0;32mfor\u001b[0m \u001b[0mchunk\u001b[0m \u001b[0;32min\u001b[0m \u001b[0mself\u001b[0m\u001b[0;34m.\u001b[0m\u001b[0mraw\u001b[0m\u001b[0;34m.\u001b[0m\u001b[0mstream\u001b[0m\u001b[0;34m(\u001b[0m\u001b[0mchunk_size\u001b[0m\u001b[0;34m,\u001b[0m \u001b[0mdecode_content\u001b[0m\u001b[0;34m=\u001b[0m\u001b[0;32mTrue\u001b[0m\u001b[0;34m)\u001b[0m\u001b[0;34m:\u001b[0m\u001b[0;34m\u001b[0m\u001b[0;34m\u001b[0m\u001b[0m\n\u001b[0m\u001b[1;32m    751\u001b[0m                         \u001b[0;32myield\u001b[0m \u001b[0mchunk\u001b[0m\u001b[0;34m\u001b[0m\u001b[0;34m\u001b[0m\u001b[0m\n",
      "\u001b[0;32m/opt/anaconda3/lib/python3.7/site-packages/urllib3/response.py\u001b[0m in \u001b[0;36mstream\u001b[0;34m(self, amt, decode_content)\u001b[0m\n\u001b[1;32m    559\u001b[0m         \u001b[0;32mif\u001b[0m \u001b[0mself\u001b[0m\u001b[0;34m.\u001b[0m\u001b[0mchunked\u001b[0m \u001b[0;32mand\u001b[0m \u001b[0mself\u001b[0m\u001b[0;34m.\u001b[0m\u001b[0msupports_chunked_reads\u001b[0m\u001b[0;34m(\u001b[0m\u001b[0;34m)\u001b[0m\u001b[0;34m:\u001b[0m\u001b[0;34m\u001b[0m\u001b[0;34m\u001b[0m\u001b[0m\n\u001b[0;32m--> 560\u001b[0;31m             \u001b[0;32mfor\u001b[0m \u001b[0mline\u001b[0m \u001b[0;32min\u001b[0m \u001b[0mself\u001b[0m\u001b[0;34m.\u001b[0m\u001b[0mread_chunked\u001b[0m\u001b[0;34m(\u001b[0m\u001b[0mamt\u001b[0m\u001b[0;34m,\u001b[0m \u001b[0mdecode_content\u001b[0m\u001b[0;34m=\u001b[0m\u001b[0mdecode_content\u001b[0m\u001b[0;34m)\u001b[0m\u001b[0;34m:\u001b[0m\u001b[0;34m\u001b[0m\u001b[0;34m\u001b[0m\u001b[0m\n\u001b[0m\u001b[1;32m    561\u001b[0m                 \u001b[0;32myield\u001b[0m \u001b[0mline\u001b[0m\u001b[0;34m\u001b[0m\u001b[0;34m\u001b[0m\u001b[0m\n",
      "\u001b[0;32m/opt/anaconda3/lib/python3.7/site-packages/urllib3/response.py\u001b[0m in \u001b[0;36mread_chunked\u001b[0;34m(self, amt, decode_content)\u001b[0m\n\u001b[1;32m    780\u001b[0m             \u001b[0;32mif\u001b[0m \u001b[0mself\u001b[0m\u001b[0;34m.\u001b[0m\u001b[0m_original_response\u001b[0m\u001b[0;34m:\u001b[0m\u001b[0;34m\u001b[0m\u001b[0;34m\u001b[0m\u001b[0m\n\u001b[0;32m--> 781\u001b[0;31m                 \u001b[0mself\u001b[0m\u001b[0;34m.\u001b[0m\u001b[0m_original_response\u001b[0m\u001b[0;34m.\u001b[0m\u001b[0mclose\u001b[0m\u001b[0;34m(\u001b[0m\u001b[0;34m)\u001b[0m\u001b[0;34m\u001b[0m\u001b[0;34m\u001b[0m\u001b[0m\n\u001b[0m\u001b[1;32m    782\u001b[0m \u001b[0;34m\u001b[0m\u001b[0m\n",
      "\u001b[0;32m/opt/anaconda3/lib/python3.7/contextlib.py\u001b[0m in \u001b[0;36m__exit__\u001b[0;34m(self, type, value, traceback)\u001b[0m\n\u001b[1;32m    129\u001b[0m             \u001b[0;32mtry\u001b[0m\u001b[0;34m:\u001b[0m\u001b[0;34m\u001b[0m\u001b[0;34m\u001b[0m\u001b[0m\n\u001b[0;32m--> 130\u001b[0;31m                 \u001b[0mself\u001b[0m\u001b[0;34m.\u001b[0m\u001b[0mgen\u001b[0m\u001b[0;34m.\u001b[0m\u001b[0mthrow\u001b[0m\u001b[0;34m(\u001b[0m\u001b[0mtype\u001b[0m\u001b[0;34m,\u001b[0m \u001b[0mvalue\u001b[0m\u001b[0;34m,\u001b[0m \u001b[0mtraceback\u001b[0m\u001b[0;34m)\u001b[0m\u001b[0;34m\u001b[0m\u001b[0;34m\u001b[0m\u001b[0m\n\u001b[0m\u001b[1;32m    131\u001b[0m             \u001b[0;32mexcept\u001b[0m \u001b[0mStopIteration\u001b[0m \u001b[0;32mas\u001b[0m \u001b[0mexc\u001b[0m\u001b[0;34m:\u001b[0m\u001b[0;34m\u001b[0m\u001b[0;34m\u001b[0m\u001b[0m\n",
      "\u001b[0;32m/opt/anaconda3/lib/python3.7/site-packages/urllib3/response.py\u001b[0m in \u001b[0;36m_error_catcher\u001b[0;34m(self)\u001b[0m\n\u001b[1;32m    442\u001b[0m                 \u001b[0;31m# This includes IncompleteRead.\u001b[0m\u001b[0;34m\u001b[0m\u001b[0;34m\u001b[0m\u001b[0;34m\u001b[0m\u001b[0m\n\u001b[0;32m--> 443\u001b[0;31m                 \u001b[0;32mraise\u001b[0m \u001b[0mProtocolError\u001b[0m\u001b[0;34m(\u001b[0m\u001b[0;34m\"Connection broken: %r\"\u001b[0m \u001b[0;34m%\u001b[0m \u001b[0me\u001b[0m\u001b[0;34m,\u001b[0m \u001b[0me\u001b[0m\u001b[0;34m)\u001b[0m\u001b[0;34m\u001b[0m\u001b[0;34m\u001b[0m\u001b[0m\n\u001b[0m\u001b[1;32m    444\u001b[0m \u001b[0;34m\u001b[0m\u001b[0m\n",
      "\u001b[0;31mProtocolError\u001b[0m: ('Connection broken: OSError(\"(54, \\'ECONNRESET\\')\")', OSError(\"(54, 'ECONNRESET')\"))",
      "\nDuring handling of the above exception, another exception occurred:\n",
      "\u001b[0;31mChunkedEncodingError\u001b[0m                      Traceback (most recent call last)",
      "\u001b[0;32m<ipython-input-171-954fb6e58f94>\u001b[0m in \u001b[0;36m<module>\u001b[0;34m\u001b[0m\n\u001b[1;32m      2\u001b[0m \u001b[0;32mwhile\u001b[0m \u001b[0mint\u001b[0m\u001b[0;34m(\u001b[0m\u001b[0mafter\u001b[0m\u001b[0;34m)\u001b[0m \u001b[0;34m<\u001b[0m \u001b[0mlast_utc\u001b[0m\u001b[0;34m:\u001b[0m\u001b[0;34m\u001b[0m\u001b[0;34m\u001b[0m\u001b[0m\n\u001b[1;32m      3\u001b[0m     \u001b[0;32mtry\u001b[0m\u001b[0;34m:\u001b[0m\u001b[0;34m\u001b[0m\u001b[0;34m\u001b[0m\u001b[0m\n\u001b[0;32m----> 4\u001b[0;31m         \u001b[0mdata\u001b[0m \u001b[0;34m=\u001b[0m \u001b[0mScrapeSubmissions\u001b[0m\u001b[0;34m(\u001b[0m\u001b[0mafter\u001b[0m\u001b[0;34m,\u001b[0m\u001b[0mlast_utc\u001b[0m\u001b[0;34m)\u001b[0m\u001b[0;34m\u001b[0m\u001b[0;34m\u001b[0m\u001b[0m\n\u001b[0m\u001b[1;32m      5\u001b[0m         \u001b[0;32mfor\u001b[0m \u001b[0mpost\u001b[0m \u001b[0;32min\u001b[0m \u001b[0mdata\u001b[0m\u001b[0;34m:\u001b[0m\u001b[0;34m\u001b[0m\u001b[0;34m\u001b[0m\u001b[0m\n\u001b[1;32m      6\u001b[0m             \u001b[0mtmp_time\u001b[0m \u001b[0;34m=\u001b[0m \u001b[0mpost\u001b[0m\u001b[0;34m[\u001b[0m\u001b[0;34m'created_utc'\u001b[0m\u001b[0;34m]\u001b[0m\u001b[0;34m\u001b[0m\u001b[0;34m\u001b[0m\u001b[0m\n",
      "\u001b[0;32m<ipython-input-169-eae2e22e4a99>\u001b[0m in \u001b[0;36mScrapeSubmissions\u001b[0;34m(after, before)\u001b[0m\n\u001b[1;32m      1\u001b[0m \u001b[0;32mdef\u001b[0m \u001b[0mScrapeSubmissions\u001b[0m\u001b[0;34m(\u001b[0m\u001b[0mafter\u001b[0m\u001b[0;34m,\u001b[0m \u001b[0mbefore\u001b[0m\u001b[0;34m)\u001b[0m\u001b[0;34m:\u001b[0m\u001b[0;34m\u001b[0m\u001b[0;34m\u001b[0m\u001b[0m\n\u001b[1;32m      2\u001b[0m     \u001b[0murl\u001b[0m \u001b[0;34m=\u001b[0m \u001b[0;34m'https://api.pushshift.io/reddit/submission/search/?sort_type=created_utc&sort=asc&subreddit=CringeAnarchy&after='\u001b[0m\u001b[0;34m+\u001b[0m \u001b[0mstr\u001b[0m\u001b[0;34m(\u001b[0m\u001b[0mafter\u001b[0m\u001b[0;34m)\u001b[0m \u001b[0;34m+\u001b[0m\u001b[0;34m\"&before\"\u001b[0m\u001b[0;34m+\u001b[0m\u001b[0mstr\u001b[0m\u001b[0;34m(\u001b[0m\u001b[0mbefore\u001b[0m\u001b[0;34m)\u001b[0m\u001b[0;34m+\u001b[0m\u001b[0;34m\"&size=1000\"\u001b[0m\u001b[0;34m\u001b[0m\u001b[0;34m\u001b[0m\u001b[0m\n\u001b[0;32m----> 3\u001b[0;31m     \u001b[0mr\u001b[0m \u001b[0;34m=\u001b[0m \u001b[0mrequests\u001b[0m\u001b[0;34m.\u001b[0m\u001b[0mget\u001b[0m\u001b[0;34m(\u001b[0m\u001b[0murl\u001b[0m\u001b[0;34m)\u001b[0m\u001b[0;34m\u001b[0m\u001b[0;34m\u001b[0m\u001b[0m\n\u001b[0m\u001b[1;32m      4\u001b[0m     \u001b[0mdata\u001b[0m \u001b[0;34m=\u001b[0m \u001b[0mjson\u001b[0m\u001b[0;34m.\u001b[0m\u001b[0mloads\u001b[0m\u001b[0;34m(\u001b[0m\u001b[0mr\u001b[0m\u001b[0;34m.\u001b[0m\u001b[0mtext\u001b[0m\u001b[0;34m)\u001b[0m\u001b[0;34m\u001b[0m\u001b[0;34m\u001b[0m\u001b[0m\n\u001b[1;32m      5\u001b[0m     \u001b[0;32mreturn\u001b[0m \u001b[0mdata\u001b[0m\u001b[0;34m[\u001b[0m\u001b[0;34m'data'\u001b[0m\u001b[0;34m]\u001b[0m\u001b[0;34m\u001b[0m\u001b[0;34m\u001b[0m\u001b[0m\n",
      "\u001b[0;32m/opt/anaconda3/lib/python3.7/site-packages/requests/api.py\u001b[0m in \u001b[0;36mget\u001b[0;34m(url, params, **kwargs)\u001b[0m\n\u001b[1;32m     73\u001b[0m \u001b[0;34m\u001b[0m\u001b[0m\n\u001b[1;32m     74\u001b[0m     \u001b[0mkwargs\u001b[0m\u001b[0;34m.\u001b[0m\u001b[0msetdefault\u001b[0m\u001b[0;34m(\u001b[0m\u001b[0;34m'allow_redirects'\u001b[0m\u001b[0;34m,\u001b[0m \u001b[0;32mTrue\u001b[0m\u001b[0;34m)\u001b[0m\u001b[0;34m\u001b[0m\u001b[0;34m\u001b[0m\u001b[0m\n\u001b[0;32m---> 75\u001b[0;31m     \u001b[0;32mreturn\u001b[0m \u001b[0mrequest\u001b[0m\u001b[0;34m(\u001b[0m\u001b[0;34m'get'\u001b[0m\u001b[0;34m,\u001b[0m \u001b[0murl\u001b[0m\u001b[0;34m,\u001b[0m \u001b[0mparams\u001b[0m\u001b[0;34m=\u001b[0m\u001b[0mparams\u001b[0m\u001b[0;34m,\u001b[0m \u001b[0;34m**\u001b[0m\u001b[0mkwargs\u001b[0m\u001b[0;34m)\u001b[0m\u001b[0;34m\u001b[0m\u001b[0;34m\u001b[0m\u001b[0m\n\u001b[0m\u001b[1;32m     76\u001b[0m \u001b[0;34m\u001b[0m\u001b[0m\n\u001b[1;32m     77\u001b[0m \u001b[0;34m\u001b[0m\u001b[0m\n",
      "\u001b[0;32m/opt/anaconda3/lib/python3.7/site-packages/requests/api.py\u001b[0m in \u001b[0;36mrequest\u001b[0;34m(method, url, **kwargs)\u001b[0m\n\u001b[1;32m     58\u001b[0m     \u001b[0;31m# cases, and look like a memory leak in others.\u001b[0m\u001b[0;34m\u001b[0m\u001b[0;34m\u001b[0m\u001b[0;34m\u001b[0m\u001b[0m\n\u001b[1;32m     59\u001b[0m     \u001b[0;32mwith\u001b[0m \u001b[0msessions\u001b[0m\u001b[0;34m.\u001b[0m\u001b[0mSession\u001b[0m\u001b[0;34m(\u001b[0m\u001b[0;34m)\u001b[0m \u001b[0;32mas\u001b[0m \u001b[0msession\u001b[0m\u001b[0;34m:\u001b[0m\u001b[0;34m\u001b[0m\u001b[0;34m\u001b[0m\u001b[0m\n\u001b[0;32m---> 60\u001b[0;31m         \u001b[0;32mreturn\u001b[0m \u001b[0msession\u001b[0m\u001b[0;34m.\u001b[0m\u001b[0mrequest\u001b[0m\u001b[0;34m(\u001b[0m\u001b[0mmethod\u001b[0m\u001b[0;34m=\u001b[0m\u001b[0mmethod\u001b[0m\u001b[0;34m,\u001b[0m \u001b[0murl\u001b[0m\u001b[0;34m=\u001b[0m\u001b[0murl\u001b[0m\u001b[0;34m,\u001b[0m \u001b[0;34m**\u001b[0m\u001b[0mkwargs\u001b[0m\u001b[0;34m)\u001b[0m\u001b[0;34m\u001b[0m\u001b[0;34m\u001b[0m\u001b[0m\n\u001b[0m\u001b[1;32m     61\u001b[0m \u001b[0;34m\u001b[0m\u001b[0m\n\u001b[1;32m     62\u001b[0m \u001b[0;34m\u001b[0m\u001b[0m\n",
      "\u001b[0;32m/opt/anaconda3/lib/python3.7/site-packages/requests/sessions.py\u001b[0m in \u001b[0;36mrequest\u001b[0;34m(self, method, url, params, data, headers, cookies, files, auth, timeout, allow_redirects, proxies, hooks, stream, verify, cert, json)\u001b[0m\n\u001b[1;32m    531\u001b[0m         }\n\u001b[1;32m    532\u001b[0m         \u001b[0msend_kwargs\u001b[0m\u001b[0;34m.\u001b[0m\u001b[0mupdate\u001b[0m\u001b[0;34m(\u001b[0m\u001b[0msettings\u001b[0m\u001b[0;34m)\u001b[0m\u001b[0;34m\u001b[0m\u001b[0;34m\u001b[0m\u001b[0m\n\u001b[0;32m--> 533\u001b[0;31m         \u001b[0mresp\u001b[0m \u001b[0;34m=\u001b[0m \u001b[0mself\u001b[0m\u001b[0;34m.\u001b[0m\u001b[0msend\u001b[0m\u001b[0;34m(\u001b[0m\u001b[0mprep\u001b[0m\u001b[0;34m,\u001b[0m \u001b[0;34m**\u001b[0m\u001b[0msend_kwargs\u001b[0m\u001b[0;34m)\u001b[0m\u001b[0;34m\u001b[0m\u001b[0;34m\u001b[0m\u001b[0m\n\u001b[0m\u001b[1;32m    534\u001b[0m \u001b[0;34m\u001b[0m\u001b[0m\n\u001b[1;32m    535\u001b[0m         \u001b[0;32mreturn\u001b[0m \u001b[0mresp\u001b[0m\u001b[0;34m\u001b[0m\u001b[0;34m\u001b[0m\u001b[0m\n",
      "\u001b[0;32m/opt/anaconda3/lib/python3.7/site-packages/requests/sessions.py\u001b[0m in \u001b[0;36msend\u001b[0;34m(self, request, **kwargs)\u001b[0m\n\u001b[1;32m    684\u001b[0m \u001b[0;34m\u001b[0m\u001b[0m\n\u001b[1;32m    685\u001b[0m         \u001b[0;32mif\u001b[0m \u001b[0;32mnot\u001b[0m \u001b[0mstream\u001b[0m\u001b[0;34m:\u001b[0m\u001b[0;34m\u001b[0m\u001b[0;34m\u001b[0m\u001b[0m\n\u001b[0;32m--> 686\u001b[0;31m             \u001b[0mr\u001b[0m\u001b[0;34m.\u001b[0m\u001b[0mcontent\u001b[0m\u001b[0;34m\u001b[0m\u001b[0;34m\u001b[0m\u001b[0m\n\u001b[0m\u001b[1;32m    687\u001b[0m \u001b[0;34m\u001b[0m\u001b[0m\n\u001b[1;32m    688\u001b[0m         \u001b[0;32mreturn\u001b[0m \u001b[0mr\u001b[0m\u001b[0;34m\u001b[0m\u001b[0;34m\u001b[0m\u001b[0m\n",
      "\u001b[0;32m/opt/anaconda3/lib/python3.7/site-packages/requests/models.py\u001b[0m in \u001b[0;36mcontent\u001b[0;34m(self)\u001b[0m\n\u001b[1;32m    826\u001b[0m                 \u001b[0mself\u001b[0m\u001b[0;34m.\u001b[0m\u001b[0m_content\u001b[0m \u001b[0;34m=\u001b[0m \u001b[0;32mNone\u001b[0m\u001b[0;34m\u001b[0m\u001b[0;34m\u001b[0m\u001b[0m\n\u001b[1;32m    827\u001b[0m             \u001b[0;32melse\u001b[0m\u001b[0;34m:\u001b[0m\u001b[0;34m\u001b[0m\u001b[0;34m\u001b[0m\u001b[0m\n\u001b[0;32m--> 828\u001b[0;31m                 \u001b[0mself\u001b[0m\u001b[0;34m.\u001b[0m\u001b[0m_content\u001b[0m \u001b[0;34m=\u001b[0m \u001b[0;34mb''\u001b[0m\u001b[0;34m.\u001b[0m\u001b[0mjoin\u001b[0m\u001b[0;34m(\u001b[0m\u001b[0mself\u001b[0m\u001b[0;34m.\u001b[0m\u001b[0miter_content\u001b[0m\u001b[0;34m(\u001b[0m\u001b[0mCONTENT_CHUNK_SIZE\u001b[0m\u001b[0;34m)\u001b[0m\u001b[0;34m)\u001b[0m \u001b[0;32mor\u001b[0m \u001b[0;34mb''\u001b[0m\u001b[0;34m\u001b[0m\u001b[0;34m\u001b[0m\u001b[0m\n\u001b[0m\u001b[1;32m    829\u001b[0m \u001b[0;34m\u001b[0m\u001b[0m\n\u001b[1;32m    830\u001b[0m         \u001b[0mself\u001b[0m\u001b[0;34m.\u001b[0m\u001b[0m_content_consumed\u001b[0m \u001b[0;34m=\u001b[0m \u001b[0;32mTrue\u001b[0m\u001b[0;34m\u001b[0m\u001b[0;34m\u001b[0m\u001b[0m\n",
      "\u001b[0;32m/opt/anaconda3/lib/python3.7/site-packages/requests/models.py\u001b[0m in \u001b[0;36mgenerate\u001b[0;34m()\u001b[0m\n\u001b[1;32m    751\u001b[0m                         \u001b[0;32myield\u001b[0m \u001b[0mchunk\u001b[0m\u001b[0;34m\u001b[0m\u001b[0;34m\u001b[0m\u001b[0m\n\u001b[1;32m    752\u001b[0m                 \u001b[0;32mexcept\u001b[0m \u001b[0mProtocolError\u001b[0m \u001b[0;32mas\u001b[0m \u001b[0me\u001b[0m\u001b[0;34m:\u001b[0m\u001b[0;34m\u001b[0m\u001b[0;34m\u001b[0m\u001b[0m\n\u001b[0;32m--> 753\u001b[0;31m                     \u001b[0;32mraise\u001b[0m \u001b[0mChunkedEncodingError\u001b[0m\u001b[0;34m(\u001b[0m\u001b[0me\u001b[0m\u001b[0;34m)\u001b[0m\u001b[0;34m\u001b[0m\u001b[0;34m\u001b[0m\u001b[0m\n\u001b[0m\u001b[1;32m    754\u001b[0m                 \u001b[0;32mexcept\u001b[0m \u001b[0mDecodeError\u001b[0m \u001b[0;32mas\u001b[0m \u001b[0me\u001b[0m\u001b[0;34m:\u001b[0m\u001b[0;34m\u001b[0m\u001b[0;34m\u001b[0m\u001b[0m\n\u001b[1;32m    755\u001b[0m                     \u001b[0;32mraise\u001b[0m \u001b[0mContentDecodingError\u001b[0m\u001b[0;34m(\u001b[0m\u001b[0me\u001b[0m\u001b[0;34m)\u001b[0m\u001b[0;34m\u001b[0m\u001b[0;34m\u001b[0m\u001b[0m\n",
      "\u001b[0;31mChunkedEncodingError\u001b[0m: ('Connection broken: OSError(\"(54, \\'ECONNRESET\\')\")', OSError(\"(54, 'ECONNRESET')\"))"
     ]
    }
   ],
   "source": [
    "after = first_utc\n",
    "while int(after) < last_utc:\n",
    "    try:\n",
    "        data = ScrapeSubmissions(after,last_utc)\n",
    "        for post in data:\n",
    "            tmp_time = post['created_utc']\n",
    "            tmp_id = post['id']\n",
    "            timestamps.append(tmp_time)\n",
    "            post_ids.append(tmp_id)\n",
    "        after = timestamps[-1]\n",
    "        print([str(len(post_ids)) + \" posts collected so far.\"])\n",
    "        print(tmp_time)\n",
    "        time.sleep(0.1)\n",
    "        if int(after) > 1556226432:\n",
    "            break\n",
    "    except ValueError:  # includes simplejson.decoder.JSONDecodeError\n",
    "        print ('Decoding JSON has failed')\n"
   ]
  },
  {
   "cell_type": "markdown",
   "metadata": {},
   "source": [
    "Looks like we've hit a snag with a `ChunkedEncodingError`. This is likely a one-off error related to a connection issue, so it's not too much to worry about.\n",
    "\n",
    "Fortunarely, it's not too much of an issue to pick up where we left off: "
   ]
  },
  {
   "cell_type": "code",
   "execution_count": 164,
   "metadata": {},
   "outputs": [],
   "source": [
    "from datetime import datetime\n",
    "%matplotlib inline"
   ]
  },
  {
   "cell_type": "code",
   "execution_count": 179,
   "metadata": {},
   "outputs": [],
   "source": [
    "new_utc = 1520897062 # New start UTC, March 12th 2018"
   ]
  },
  {
   "cell_type": "markdown",
   "metadata": {},
   "source": [
    "Now we can run our `while` loop again, this time with the new specified starting UTC."
   ]
  },
  {
   "cell_type": "code",
   "execution_count": 180,
   "metadata": {},
   "outputs": [
    {
     "name": "stdout",
     "output_type": "stream",
     "text": [
      "['162000 posts collected so far.']\n",
      "1521215770\n",
      "['163000 posts collected so far.']\n",
      "1521546633\n",
      "['164000 posts collected so far.']\n",
      "1521894062\n",
      "['165000 posts collected so far.']\n",
      "1522179053\n",
      "['166000 posts collected so far.']\n",
      "1522513991\n",
      "['167000 posts collected so far.']\n",
      "1522813021\n",
      "['168000 posts collected so far.']\n",
      "1523128092\n",
      "['169000 posts collected so far.']\n",
      "1523450293\n",
      "['170000 posts collected so far.']\n",
      "1523759577\n",
      "['171000 posts collected so far.']\n",
      "1524068065\n",
      "['172000 posts collected so far.']\n",
      "1524406860\n",
      "['173000 posts collected so far.']\n",
      "1524694760\n",
      "['174000 posts collected so far.']\n",
      "1525035146\n",
      "['175000 posts collected so far.']\n",
      "1525378330\n",
      "['176000 posts collected so far.']\n",
      "1525729515\n",
      "['177000 posts collected so far.']\n",
      "1526057177\n",
      "['178000 posts collected so far.']\n",
      "1526385057\n",
      "['179000 posts collected so far.']\n",
      "1526664165\n",
      "['180000 posts collected so far.']\n",
      "1526940636\n",
      "['181000 posts collected so far.']\n",
      "1527198769\n",
      "['182000 posts collected so far.']\n",
      "1527478434\n",
      "['183000 posts collected so far.']\n",
      "1527786516\n",
      "['184000 posts collected so far.']\n",
      "1528114635\n",
      "['185000 posts collected so far.']\n",
      "1528382715\n",
      "['186000 posts collected so far.']\n",
      "1528669299\n",
      "['187000 posts collected so far.']\n",
      "1529006510\n",
      "['188000 posts collected so far.']\n",
      "1529304081\n",
      "Decoding JSON has failed\n",
      "['189000 posts collected so far.']\n",
      "1529597590\n",
      "['190000 posts collected so far.']\n",
      "1529887625\n",
      "['191000 posts collected so far.']\n",
      "1530172669\n",
      "['192000 posts collected so far.']\n",
      "1530436190\n",
      "['193000 posts collected so far.']\n",
      "1530734941\n",
      "['194000 posts collected so far.']\n",
      "1530995438\n",
      "['195000 posts collected so far.']\n",
      "1531272051\n",
      "['196000 posts collected so far.']\n",
      "1531538533\n",
      "['197000 posts collected so far.']\n",
      "1531828699\n",
      "['198000 posts collected so far.']\n",
      "1532104856\n",
      "['199000 posts collected so far.']\n",
      "1532381107\n",
      "['200000 posts collected so far.']\n",
      "1532648467\n",
      "['201000 posts collected so far.']\n",
      "1532965725\n",
      "['202000 posts collected so far.']\n",
      "1533254605\n",
      "['203000 posts collected so far.']\n",
      "1533559234\n",
      "['204000 posts collected so far.']\n",
      "1533802263\n",
      "['205000 posts collected so far.']\n",
      "1534096620\n",
      "['206000 posts collected so far.']\n",
      "1534404998\n",
      "['207000 posts collected so far.']\n",
      "1534716908\n",
      "['208000 posts collected so far.']\n",
      "1535008343\n",
      "['209000 posts collected so far.']\n",
      "1535297314\n",
      "['210000 posts collected so far.']\n",
      "1535594245\n",
      "['211000 posts collected so far.']\n",
      "1535904160\n",
      "['212000 posts collected so far.']\n",
      "1536189674\n",
      "['213000 posts collected so far.']\n",
      "1536500071\n",
      "['214000 posts collected so far.']\n",
      "1536681850\n",
      "['215000 posts collected so far.']\n",
      "1536787075\n",
      "['216000 posts collected so far.']\n",
      "1536946239\n",
      "['217000 posts collected so far.']\n",
      "1537176930\n",
      "['218000 posts collected so far.']\n",
      "1537392942\n",
      "['219000 posts collected so far.']\n",
      "1537619274\n",
      "['220000 posts collected so far.']\n",
      "1537837497\n",
      "['221000 posts collected so far.']\n",
      "1538072114\n",
      "['222000 posts collected so far.']\n",
      "1550403647\n",
      "['223000 posts collected so far.']\n",
      "1550806693\n",
      "['224000 posts collected so far.']\n",
      "1551162237\n",
      "['225000 posts collected so far.']\n",
      "1554854502\n",
      "['226000 posts collected so far.']\n",
      "1555104284\n",
      "['227000 posts collected so far.']\n",
      "1555371113\n",
      "['228000 posts collected so far.']\n",
      "1555607693\n",
      "['229000 posts collected so far.']\n",
      "1555864621\n",
      "['230000 posts collected so far.']\n",
      "1555978074\n",
      "['231000 posts collected so far.']\n",
      "1556030378\n",
      "['232000 posts collected so far.']\n",
      "1556082123\n",
      "['233000 posts collected so far.']\n",
      "1556157886\n",
      "['233778 posts collected so far.']\n",
      "1556226433\n"
     ]
    }
   ],
   "source": [
    "after = new_utc\n",
    "while int(after) < last_utc:\n",
    "    try:\n",
    "        data = ScrapeSubmissions(after,last_utc)\n",
    "        for post in data:\n",
    "            tmp_time = post['created_utc']\n",
    "            tmp_id = post['id']\n",
    "            timestamps.append(tmp_time)\n",
    "            post_ids.append(tmp_id)\n",
    "        after = timestamps[-1]\n",
    "        print([str(len(post_ids)) + \" posts collected so far.\"])\n",
    "        print(tmp_time)\n",
    "        time.sleep(0.1)\n",
    "        if int(after) > 1556226432:\n",
    "            break\n",
    "    except ValueError:  # includes simplejson.decoder.JSONDecodeError\n",
    "        print ('Decoding JSON has failed')\n"
   ]
  },
  {
   "cell_type": "markdown",
   "metadata": {},
   "source": [
    "Now we want to save the scraped data to a csv file:"
   ]
  },
  {
   "cell_type": "code",
   "execution_count": 181,
   "metadata": {},
   "outputs": [],
   "source": [
    "d = {'id':post_ids, 'timestamp':timestamps}\n",
    "df = pd.DataFrame(d)\n",
    "df.to_csv(\"post_ids.csv\", index=False)"
   ]
  },
  {
   "cell_type": "markdown",
   "metadata": {},
   "source": [
    "Let's use `datetime` to convert our UTCs to human-readable datetime data: "
   ]
  },
  {
   "cell_type": "code",
   "execution_count": 215,
   "metadata": {},
   "outputs": [],
   "source": [
    "df['created_time'] = pd.to_datetime(df['timestamp'], unit='s')"
   ]
  },
  {
   "cell_type": "code",
   "execution_count": 218,
   "metadata": {},
   "outputs": [
    {
     "data": {
      "text/plain": [
       "count                  233778\n",
       "unique                 233329\n",
       "top       2017-07-08 23:59:18\n",
       "freq                        3\n",
       "first     2015-01-01 00:12:00\n",
       "last      2019-04-25 21:07:13\n",
       "Name: created_time, dtype: object"
      ]
     },
     "execution_count": 218,
     "metadata": {},
     "output_type": "execute_result"
    }
   ],
   "source": [
    "df['created_time'].describe()"
   ]
  },
  {
   "cell_type": "code",
   "execution_count": null,
   "metadata": {},
   "outputs": [],
   "source": []
  }
 ],
 "metadata": {
  "kernelspec": {
   "display_name": "Python 3",
   "language": "python",
   "name": "python3"
  },
  "language_info": {
   "codemirror_mode": {
    "name": "ipython",
    "version": 3
   },
   "file_extension": ".py",
   "mimetype": "text/x-python",
   "name": "python",
   "nbconvert_exporter": "python",
   "pygments_lexer": "ipython3",
   "version": "3.7.6"
  }
 },
 "nbformat": 4,
 "nbformat_minor": 4
}
