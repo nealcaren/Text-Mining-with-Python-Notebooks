{
 "cells": [
  {
   "cell_type": "markdown",
   "metadata": {},
   "source": [
    "# Case Study, Part 2: Scraping Reddit with PRAW"
   ]
  },
  {
   "cell_type": "markdown",
   "metadata": {},
   "source": [
    "Although Pushshift is a wonderful resource when it comes to scraping Reddit data, it's not infallible. In some cases, important data will be missing from the Pushshift API, and you'll need to supplement the Pushshift data with the metadata available through Reddit's official API. \n",
    "\n",
    "Luckily, we can accomplish this using the [PRAW](https://praw.readthedocs.io/en/latest/) Reddit API Wrapper. This chapter will go through the steps necessary to supplement Pushshift data using PRAW."
   ]
  },
  {
   "cell_type": "markdown",
   "metadata": {},
   "source": [
    "## Setup"
   ]
  },
  {
   "cell_type": "code",
   "execution_count": 1,
   "metadata": {},
   "outputs": [
    {
     "name": "stdout",
     "output_type": "stream",
     "text": [
      "Requirement already satisfied: praw in /opt/anaconda3/envs/tmwp/lib/python3.8/site-packages (7.0.0)\n",
      "Requirement already satisfied: update-checker>=0.16 in /opt/anaconda3/envs/tmwp/lib/python3.8/site-packages (from praw) (0.17)\n",
      "Requirement already satisfied: websocket-client>=0.54.0 in /opt/anaconda3/envs/tmwp/lib/python3.8/site-packages (from praw) (0.57.0)\n",
      "Requirement already satisfied: prawcore<2.0,>=1.3.0 in /opt/anaconda3/envs/tmwp/lib/python3.8/site-packages (from praw) (1.4.0)\n",
      "Requirement already satisfied: requests>=2.3.0 in /opt/anaconda3/envs/tmwp/lib/python3.8/site-packages (from update-checker>=0.16->praw) (2.23.0)\n",
      "Requirement already satisfied: six in /opt/anaconda3/envs/tmwp/lib/python3.8/site-packages (from websocket-client>=0.54.0->praw) (1.15.0)\n",
      "Requirement already satisfied: urllib3!=1.25.0,!=1.25.1,<1.26,>=1.21.1 in /opt/anaconda3/envs/tmwp/lib/python3.8/site-packages (from requests>=2.3.0->update-checker>=0.16->praw) (1.25.9)\n",
      "Requirement already satisfied: idna<3,>=2.5 in /opt/anaconda3/envs/tmwp/lib/python3.8/site-packages (from requests>=2.3.0->update-checker>=0.16->praw) (2.9)\n",
      "Requirement already satisfied: certifi>=2017.4.17 in /opt/anaconda3/envs/tmwp/lib/python3.8/site-packages (from requests>=2.3.0->update-checker>=0.16->praw) (2020.4.5.1)\n",
      "Requirement already satisfied: chardet<4,>=3.0.2 in /opt/anaconda3/envs/tmwp/lib/python3.8/site-packages (from requests>=2.3.0->update-checker>=0.16->praw) (3.0.4)\n",
      "Note: you may need to restart the kernel to use updated packages.\n"
     ]
    }
   ],
   "source": [
    "pip install praw"
   ]
  },
  {
   "cell_type": "code",
   "execution_count": 2,
   "metadata": {},
   "outputs": [],
   "source": [
    "import praw"
   ]
  },
  {
   "cell_type": "code",
   "execution_count": 3,
   "metadata": {},
   "outputs": [],
   "source": [
    "import requests\n",
    "import pandas as pd\n",
    "import json\n",
    "import csv\n",
    "import time"
   ]
  },
  {
   "cell_type": "markdown",
   "metadata": {},
   "source": [
    "## Creating a Reddit App"
   ]
  },
  {
   "cell_type": "markdown",
   "metadata": {},
   "source": [
    "In order to use PRAW, you'll need to develop your own application on Reddit. In order to do *that*, you'll need to create a Reddit account. \n",
    "\n",
    "\n",
    "Once you've created an account on Reddit, you can navigate to the [developed applications](https://www.reddit.com/prefs/apps) page from Reddit preferences. Here, you'll see a button prompting you to \"create app.\" Click it, and you should see the following: "
   ]
  },
  {
   "cell_type": "markdown",
   "metadata": {},
   "source": [
    "![create application](https://i.snipboard.io/zKZ3vq.jpg)"
   ]
  },
  {
   "cell_type": "markdown",
   "metadata": {},
   "source": [
    "Make sure you're creating a **script** app, as this is what we'll need in order to make requests with PRAW. Feel free to name and describe the app as you see fit, then click the button at the bottom to create your app. "
   ]
  },
  {
   "cell_type": "markdown",
   "metadata": {},
   "source": [
    "For additional guidance on how to develop your own Reddit application, see [here](https://github.com/reddit-archive/reddit/wiki/OAuth2-Quick-Start-Example#first-steps)."
   ]
  },
  {
   "cell_type": "markdown",
   "metadata": {},
   "source": [
    "## Obtaining a Reddit Instance"
   ]
  },
  {
   "cell_type": "markdown",
   "metadata": {},
   "source": [
    "Now that we've created an application on Reddit, we can obtain Reddit instances using PRAW. While it's possible to create two separate types of instance -- read-only or authorized -- for the sake of this chapter we'll focus on obtaining a read-only instance. "
   ]
  },
  {
   "cell_type": "markdown",
   "metadata": {},
   "source": [
    "This is where the script application we just created becomes important. We'll need to provide our `client-id`, our `client_secret`, and our `user_agent` in order to obtain a read-only Reddit instance:\n",
    "\n",
    "*Note*: You'll want to keep this information as confidential as possible while still accessing the data you need. "
   ]
  },
  {
   "cell_type": "code",
   "execution_count": 5,
   "metadata": {},
   "outputs": [],
   "source": [
    "reddit = praw.Reddit(client_id=\"my client id\",\n",
    "                     client_secret=\"my client secret\",\n",
    "                     user_agent=\"my user agent\")"
   ]
  },
  {
   "cell_type": "markdown",
   "metadata": {},
   "source": [
    "With the information from our script application, we'll be able to `print` a read-only Reddit instance. As with Pushshift, we'll have to determine whether we'd like to look at data for submissions or comments.\n"
   ]
  },
  {
   "cell_type": "markdown",
   "metadata": {},
   "source": [
    "As an example, below are the 3 \"hottest\" submissions from [r/MakeupRehab](https://www.reddit.com/r/MakeupRehab/), along with submission authors, titles, scores, and body text: "
   ]
  },
  {
   "cell_type": "code",
   "execution_count": 5,
   "metadata": {
    "scrolled": true
   },
   "outputs": [
    {
     "name": "stdout",
     "output_type": "stream",
     "text": [
      "True\n",
      "toyaqueen\n",
      "Megathread: COVID-19 / Coronavirus Resource and Discussion\n",
      "40\n",
      "Hi everyone,\n",
      "\n",
      "r/DISCLAIMER: This is not to be taken as a post for health information or precautions on the novel coronavirus pandemic. PLEASE keep up-to-date via your local governments and health representatives.\n",
      "\n",
      "As we all know by now, the novel coronavirus is impacting daily life all over the globe. Here in MUR, you may have already seen some of our fellow members post about struggles directly related to the virus - having to move suddenly and unexpectedly, job losses, trying to deal with the stress, seeing which companies are being shady and more. With that in mind, feel free to use this thread as the hub for any conversations you want to have on this topic.\n",
      "\n",
      "We’ve decided to create a megathread that will be updated with resources from other subs (the crosspost rule will be lifted for the purposes of this thread only), relevant to the needs and interests of the community to use during this trying time for many of us.  If you see more, comment below and I will edit this to add if appropriate.\n",
      "\n",
      "Legal/Finance Resources:\n",
      "\n",
      "r/personalfinance:  [Coronavirus Megathread](https://www.reddit.com/r/personalfinance/comments/fhrfqo/coronavirus_megathread_resources_discussion_and/), [Job Loss Megathread](https://www.reddit.com/r/personalfinance/comments/fkyu8h/job_loss_megathread_unemployment_resources/)\n",
      "\n",
      "r/legaladvice: [FAQ](https://www.reddit.com/r/legaladvice/comments/fgpvcv/covid19_faq_a_workinprogress/)\n",
      "\n",
      "Beauty Companies Status:\n",
      "\n",
      "r/MakeupAddiction: [Ulta Closes](https://www.reddit.com/r/MakeupAddiction/comments/fkepbx/ulta_announces_that_all_locations_will_be_closing/)\n",
      "\n",
      "r/Sephora: [SiJCP Remain Open](https://www.reddit.com/r/Sephora/comments/fk0ecr/remember_your_sijcps/); [SiJCP Employee Info](https://www.reddit.com/r/Sephora/comments/fkfm2t/sijcp_employe_info/); [Sephora Closing](https://www.reddit.com/r/Sephora/comments/fjurja/effective_tomorrow_at_5pm_all_sephora_stores_will/)\n",
      "\n",
      "r/Makeup: [Sephora Closing](https://www.reddit.com/r/Makeup/comments/fjyscd/update_sephora_closing_all_retail_stores/)\n",
      "\n",
      "r/muacjdiscussion: [ColourPop Shipping Center Closing](https://www.reddit.com/r/muacjdiscussion/comments/fnbg1k/colourpop_shipping_center_closed/);  [3/30/20 Update - ULTA Stores will remain closed](https://www.reddit.com/r/muacjdiscussion/comments/fruxhb/ulta_stores_will_continue_to_remain_closed/)\n",
      "\n",
      "[TJX Companies (TJ Maxx, Marshall's, etc) COVID-19 Closure Announcement](https://www.tjx.com/docs/default-source/default-document-library/a-message-from-the-tjx-companies-inc.pdf) \\[If you see discussions on Reddit from employees, please share!\\]\n",
      "\n",
      "Mental Health Resources:\n",
      "\n",
      "r/BPD: [Covid-19 Megathread](https://www.reddit.com/r/BPD/comments/fkvejt/covid19_megathread/)\n",
      "\n",
      "&#x200B;\n",
      "\n",
      "I will also use the comments in this thread to create specific quarantine related activities that we can do together while we’re under quarantine/isolation/distancing beginning tomorrow, Saturday the 21st - if you have anything you want to see, feel free to comment! We’ve always helped each other out in this community, and this virus has not changed that.\n",
      "\n",
      "\\-MUR Mod Team\n",
      "AutoModerator\n",
      "Willpower Wednesday - June 17, 2020\n",
      "8\n",
      "This thread is to keep each other grounded as we pursue low-buy or no-buy goals. The temptation is strong, so exercise your willpower with your fellow members!\n",
      "itchyitchiford\n",
      "I have finally come to terms with my fantasy self and I’m decluttering my high end palettes\n",
      "108\n",
      "For a couple years now I have been trying to declutter or use up my unnecessarily large makeup collection so that I actually use everything I own. I’ve been doing well but the two items I haven’t been able to part with are my UD Naked2 palette and my KVD Shade and Light eye palette. Both palettes are neutrals that I theoretically would use but in practice I always get turned off of them. I have sensitive eyes and it seems like the KVD formula doesn’t agree with me anymore, and I like the Naked2 palette but I’ve realized that really shimmery shades don’t suit me. Both are quite old and almost definitely expired. \n",
      "\n",
      "\n",
      "I recently bought a small Marcelle quad that has a couple subtle satin neutral shades and it’s made me feel like I can let go of these other palettes. No, it’s not as pigmented as the high end palettes but I’ve realized I don’t need super highly pigmented eyeshadows. I still have my UD Naked Basics2 palette which I love to death and have hit pan on. I will repurchase that palette when I have panned it completely. My only palettes are now the Marcelle quad and Naked Basics2, and I feel completely satisfied. I have about 6 other single shadows in a magnetic palette and that is my entire collection. \n",
      "\n",
      "\n",
      "Guys, I feel completely rehabbed. I have finally realized what I like to wear and what I actually will use. I own those things and have no desire to buy more. I still pick up the odd lip product if I use one up, but otherwise I am only replacing my basics. My whole collection fits in one small drawer with room to spare, and I don’t feel guilty about the money I have spent on beauty. Reading through this sub has been really helpful for me to get this far and I thank you all!\n"
     ]
    }
   ],
   "source": [
    "print(reddit.read_only)\n",
    "for submission in reddit.subreddit(\"MakeupRehab\").hot(limit=3):\n",
    "    print(submission.author)\n",
    "    print(submission.title)\n",
    "    print(submission.score)  \n",
    "    print(submission.selftext)"
   ]
  },
  {
   "cell_type": "markdown",
   "metadata": {},
   "source": [
    "**NOTE**: PRAW will not allow you to create instances for quarantined or banned subreddits. Attempting to do so will return 403 and 404 Errors, respectively. "
   ]
  },
  {
   "cell_type": "markdown",
   "metadata": {},
   "source": [
    "## Filling in gaps in the Pushshift API"
   ]
  },
  {
   "cell_type": "markdown",
   "metadata": {},
   "source": [
    "While Pushshift is a great entryway into scraping data from Reddit, you'll occasionally run into some notable gaps in available data.\n",
    "\n",
    "Using the API's [Reddit Search](https://redditsearch.io/) referenced at the end of Part 1, we can see how scope out any potential holes in subreddit data before going through the process of scraping that data ourselves. "
   ]
  },
  {
   "cell_type": "markdown",
   "metadata": {},
   "source": [
    "As an example, let's look at [r/AmItheAsshole](https://www.reddit.com/r/AmItheAsshole/):"
   ]
  },
  {
   "cell_type": "markdown",
   "metadata": {},
   "source": [
    "![r/AmItheAsshole](https://i.snipboard.io/BwiqKY.jpg)"
   ]
  },
  {
   "cell_type": "markdown",
   "metadata": {},
   "source": [
    "The data visualizations available through Pushshift stand in pretty stark contrast to r/AmItheAsshole's creation in June 2013. As previously demonstrated by [Elle O'Brien](https://dvc.org/blog/a-public-reddit-dataset), however, we should be able to use PRAW to obtain the missing data prior to 2019.\n",
    "\n",
    "\n",
    "Below is a step-by-step guide of how to supplement missing Pushshift data using PRAW, using submissions from r/AmItheAsshole as an example. "
   ]
  },
  {
   "cell_type": "markdown",
   "metadata": {},
   "source": [
    "### Step 1: Compiling Submission ids"
   ]
  },
  {
   "cell_type": "markdown",
   "metadata": {},
   "source": [
    "Our first step will be quite similar to what we've done to collect comments from r/changemyview over the first week of 2019.  As we did there, we'll be defining a `while` loop to iteratively scrape subreddit data through time. In this exercise, we'll focus on collecting submissions from [r/AmItheAsshole](https://www.reddit.com/r/AmItheAsshole/). However, since Pushshift has some holes in the data from this subreddit, we'll be putting together a far less substantial dataframe. Here, we'll only be interested in putting together a list of submission ids and timestamps. "
   ]
  },
  {
   "cell_type": "markdown",
   "metadata": {},
   "source": [
    "We can start things off by setting our minimum and final UTC. We'll want to start prior with the subreddit's creation of June 8th, 2013. For now, we'll set the `last_UTC` to the beginning of 2020."
   ]
  },
  {
   "cell_type": "code",
   "execution_count": 6,
   "metadata": {},
   "outputs": [],
   "source": [
    "min_UTC = 1370649600 # June 08, 2013 12:00:00 AM\n",
    "last_UTC = 1577836800 # January 1, 2020 12:00:00 AM"
   ]
  },
  {
   "cell_type": "markdown",
   "metadata": {},
   "source": [
    "We'll define our `url` and `parameters` so we can make requests:"
   ]
  },
  {
   "cell_type": "code",
   "execution_count": null,
   "metadata": {},
   "outputs": [],
   "source": [
    "    url = 'https://api.pushshift.io/reddit/submission/search/?sort_type=created_utc&sort=asc&subreddit=amitheasshole&after='+ str(after) +\"&before\"+str(before)+\"&size=1000\"\n",
    "    r = requests.get(url)\n",
    "    data = json.loads(r.text)\n",
    "    return data['data']"
   ]
  },
  {
   "cell_type": "markdown",
   "metadata": {},
   "source": [
    "As before, we'll want to put together a handful of empty lists to store our data. This time around, we'll make separate lists for `timestamps`, `post_ids`, and `score`. "
   ]
  },
  {
   "cell_type": "code",
   "execution_count": 8,
   "metadata": {},
   "outputs": [],
   "source": [
    "timestamps = []\n",
    "post_ids = []\n",
    "score = []"
   ]
  },
  {
   "cell_type": "markdown",
   "metadata": {},
   "source": [
    "Finally, we'll set up our `while` loop. We'll append the `id` and `created_utc` keys to the empty lists we've prepared. \n",
    "\n",
    "Note: The string we `print` at the bottom lets us see how many posts we've scraped up to a certain point. We also made sure to let the API `sleep` for 1/10th of a second before moving on to the next iteration of the loop. "
   ]
  },
  {
   "cell_type": "code",
   "execution_count": null,
   "metadata": {},
   "outputs": [],
   "source": [
    "after = min_UTC\n",
    "while int(after) < last_UTC:\n",
    "    data = getPushshiftData(after,last_UTC)\n",
    "    for post in data:\n",
    "        tmp_time = post['created_utc']\n",
    "        tmp_id = post['id']\n",
    "        timestamps.append(tmp_time)\n",
    "        post_ids.append(tmp_id)\n",
    "    after = timestamps[-1]\n",
    "    print([str(len(post_ids)) + \" posts collected so far.\"])\n",
    "    time.sleep(0.1)"
   ]
  },
  {
   "cell_type": "code",
   "execution_count": 10,
   "metadata": {},
   "outputs": [
    {
     "name": "stdout",
     "output_type": "stream",
     "text": [
      "https://api.pushshift.io/reddit/submission/search/?sort_type=created_utc&sort=asc&subreddit=amitheasshole&after=1370649600&before1577836800&size=1000\n",
      "['1000 posts collected so far.']\n",
      "https://api.pushshift.io/reddit/submission/search/?sort_type=created_utc&sort=asc&subreddit=amitheasshole&after=1442209164&before1577836800&size=1000\n",
      "['2000 posts collected so far.']\n",
      "https://api.pushshift.io/reddit/submission/search/?sort_type=created_utc&sort=asc&subreddit=amitheasshole&after=1468190184&before1577836800&size=1000\n",
      "['3000 posts collected so far.']\n",
      "https://api.pushshift.io/reddit/submission/search/?sort_type=created_utc&sort=asc&subreddit=amitheasshole&after=1491401086&before1577836800&size=1000\n",
      "['4000 posts collected so far.']\n",
      "https://api.pushshift.io/reddit/submission/search/?sort_type=created_utc&sort=asc&subreddit=amitheasshole&after=1507224557&before1577836800&size=1000\n",
      "['5000 posts collected so far.']\n",
      "https://api.pushshift.io/reddit/submission/search/?sort_type=created_utc&sort=asc&subreddit=amitheasshole&after=1515061540&before1577836800&size=1000\n",
      "['6000 posts collected so far.']\n",
      "https://api.pushshift.io/reddit/submission/search/?sort_type=created_utc&sort=asc&subreddit=amitheasshole&after=1520398846&before1577836800&size=1000\n",
      "['7000 posts collected so far.']\n",
      "https://api.pushshift.io/reddit/submission/search/?sort_type=created_utc&sort=asc&subreddit=amitheasshole&after=1524620032&before1577836800&size=1000\n",
      "['8000 posts collected so far.']\n",
      "https://api.pushshift.io/reddit/submission/search/?sort_type=created_utc&sort=asc&subreddit=amitheasshole&after=1528392778&before1577836800&size=1000\n",
      "['9000 posts collected so far.']\n",
      "https://api.pushshift.io/reddit/submission/search/?sort_type=created_utc&sort=asc&subreddit=amitheasshole&after=1531779325&before1577836800&size=1000\n",
      "['9953 posts collected so far.']\n",
      "https://api.pushshift.io/reddit/submission/search/?sort_type=created_utc&sort=asc&subreddit=amitheasshole&after=1534801868&before1577836800&size=1000\n",
      "['10953 posts collected so far.']\n",
      "https://api.pushshift.io/reddit/submission/search/?sort_type=created_utc&sort=asc&subreddit=amitheasshole&after=1537312392&before1577836800&size=1000\n",
      "['11953 posts collected so far.']\n",
      "https://api.pushshift.io/reddit/submission/search/?sort_type=created_utc&sort=asc&subreddit=amitheasshole&after=1539186575&before1577836800&size=1000\n",
      "['12953 posts collected so far.']\n",
      "https://api.pushshift.io/reddit/submission/search/?sort_type=created_utc&sort=asc&subreddit=amitheasshole&after=1540021391&before1577836800&size=1000\n",
      "['13953 posts collected so far.']\n",
      "https://api.pushshift.io/reddit/submission/search/?sort_type=created_utc&sort=asc&subreddit=amitheasshole&after=1540742613&before1577836800&size=1000\n",
      "['14953 posts collected so far.']\n",
      "https://api.pushshift.io/reddit/submission/search/?sort_type=created_utc&sort=asc&subreddit=amitheasshole&after=1541300810&before1577836800&size=1000\n",
      "['15953 posts collected so far.']\n",
      "https://api.pushshift.io/reddit/submission/search/?sort_type=created_utc&sort=asc&subreddit=amitheasshole&after=1541690927&before1577836800&size=1000\n",
      "['16953 posts collected so far.']\n",
      "https://api.pushshift.io/reddit/submission/search/?sort_type=created_utc&sort=asc&subreddit=amitheasshole&after=1542130891&before1577836800&size=1000\n",
      "['17953 posts collected so far.']\n",
      "https://api.pushshift.io/reddit/submission/search/?sort_type=created_utc&sort=asc&subreddit=amitheasshole&after=1542527347&before1577836800&size=1000\n",
      "['18953 posts collected so far.']\n",
      "https://api.pushshift.io/reddit/submission/search/?sort_type=created_utc&sort=asc&subreddit=amitheasshole&after=1542902897&before1577836800&size=1000\n",
      "['19953 posts collected so far.']\n",
      "https://api.pushshift.io/reddit/submission/search/?sort_type=created_utc&sort=asc&subreddit=amitheasshole&after=1543287390&before1577836800&size=1000\n",
      "['20953 posts collected so far.']\n",
      "https://api.pushshift.io/reddit/submission/search/?sort_type=created_utc&sort=asc&subreddit=amitheasshole&after=1543681040&before1577836800&size=1000\n",
      "['21953 posts collected so far.']\n",
      "https://api.pushshift.io/reddit/submission/search/?sort_type=created_utc&sort=asc&subreddit=amitheasshole&after=1544050327&before1577836800&size=1000\n",
      "['22953 posts collected so far.']\n",
      "https://api.pushshift.io/reddit/submission/search/?sort_type=created_utc&sort=asc&subreddit=amitheasshole&after=1544420577&before1577836800&size=1000\n",
      "['23953 posts collected so far.']\n",
      "https://api.pushshift.io/reddit/submission/search/?sort_type=created_utc&sort=asc&subreddit=amitheasshole&after=1544796234&before1577836800&size=1000\n",
      "['24953 posts collected so far.']\n",
      "https://api.pushshift.io/reddit/submission/search/?sort_type=created_utc&sort=asc&subreddit=amitheasshole&after=1545153157&before1577836800&size=1000\n",
      "['25953 posts collected so far.']\n",
      "https://api.pushshift.io/reddit/submission/search/?sort_type=created_utc&sort=asc&subreddit=amitheasshole&after=1545512148&before1577836800&size=1000\n",
      "['26953 posts collected so far.']\n",
      "https://api.pushshift.io/reddit/submission/search/?sort_type=created_utc&sort=asc&subreddit=amitheasshole&after=1545869502&before1577836800&size=1000\n",
      "['27953 posts collected so far.']\n",
      "https://api.pushshift.io/reddit/submission/search/?sort_type=created_utc&sort=asc&subreddit=amitheasshole&after=1546165598&before1577836800&size=1000\n",
      "['28953 posts collected so far.']\n",
      "https://api.pushshift.io/reddit/submission/search/?sort_type=created_utc&sort=asc&subreddit=amitheasshole&after=1546461894&before1577836800&size=1000\n",
      "['29953 posts collected so far.']\n",
      "https://api.pushshift.io/reddit/submission/search/?sort_type=created_utc&sort=asc&subreddit=amitheasshole&after=1546735591&before1577836800&size=1000\n",
      "['30953 posts collected so far.']\n",
      "https://api.pushshift.io/reddit/submission/search/?sort_type=created_utc&sort=asc&subreddit=amitheasshole&after=1547032699&before1577836800&size=1000\n",
      "['31953 posts collected so far.']\n",
      "https://api.pushshift.io/reddit/submission/search/?sort_type=created_utc&sort=asc&subreddit=amitheasshole&after=1547266936&before1577836800&size=1000\n",
      "['32953 posts collected so far.']\n",
      "https://api.pushshift.io/reddit/submission/search/?sort_type=created_utc&sort=asc&subreddit=amitheasshole&after=1547471697&before1577836800&size=1000\n",
      "['33953 posts collected so far.']\n",
      "https://api.pushshift.io/reddit/submission/search/?sort_type=created_utc&sort=asc&subreddit=amitheasshole&after=1547689755&before1577836800&size=1000\n",
      "['34953 posts collected so far.']\n",
      "https://api.pushshift.io/reddit/submission/search/?sort_type=created_utc&sort=asc&subreddit=amitheasshole&after=1547918440&before1577836800&size=1000\n",
      "['35953 posts collected so far.']\n",
      "https://api.pushshift.io/reddit/submission/search/?sort_type=created_utc&sort=asc&subreddit=amitheasshole&after=1548158487&before1577836800&size=1000\n",
      "['36953 posts collected so far.']\n",
      "https://api.pushshift.io/reddit/submission/search/?sort_type=created_utc&sort=asc&subreddit=amitheasshole&after=1548370338&before1577836800&size=1000\n",
      "['37953 posts collected so far.']\n",
      "https://api.pushshift.io/reddit/submission/search/?sort_type=created_utc&sort=asc&subreddit=amitheasshole&after=1548612175&before1577836800&size=1000\n",
      "['38953 posts collected so far.']\n",
      "https://api.pushshift.io/reddit/submission/search/?sort_type=created_utc&sort=asc&subreddit=amitheasshole&after=1548807217&before1577836800&size=1000\n",
      "['39953 posts collected so far.']\n",
      "https://api.pushshift.io/reddit/submission/search/?sort_type=created_utc&sort=asc&subreddit=amitheasshole&after=1548999021&before1577836800&size=1000\n",
      "['40953 posts collected so far.']\n",
      "https://api.pushshift.io/reddit/submission/search/?sort_type=created_utc&sort=asc&subreddit=amitheasshole&after=1549183412&before1577836800&size=1000\n",
      "['41953 posts collected so far.']\n",
      "https://api.pushshift.io/reddit/submission/search/?sort_type=created_utc&sort=asc&subreddit=amitheasshole&after=1549374704&before1577836800&size=1000\n",
      "['42953 posts collected so far.']\n",
      "https://api.pushshift.io/reddit/submission/search/?sort_type=created_utc&sort=asc&subreddit=amitheasshole&after=1549558889&before1577836800&size=1000\n",
      "['43953 posts collected so far.']\n",
      "https://api.pushshift.io/reddit/submission/search/?sort_type=created_utc&sort=asc&subreddit=amitheasshole&after=1549746781&before1577836800&size=1000\n",
      "['44953 posts collected so far.']\n",
      "https://api.pushshift.io/reddit/submission/search/?sort_type=created_utc&sort=asc&subreddit=amitheasshole&after=1549925606&before1577836800&size=1000\n",
      "['45953 posts collected so far.']\n",
      "https://api.pushshift.io/reddit/submission/search/?sort_type=created_utc&sort=asc&subreddit=amitheasshole&after=1550101327&before1577836800&size=1000\n",
      "['46953 posts collected so far.']\n",
      "https://api.pushshift.io/reddit/submission/search/?sort_type=created_utc&sort=asc&subreddit=amitheasshole&after=1550263555&before1577836800&size=1000\n",
      "['47953 posts collected so far.']\n",
      "https://api.pushshift.io/reddit/submission/search/?sort_type=created_utc&sort=asc&subreddit=amitheasshole&after=1550404845&before1577836800&size=1000\n",
      "['48953 posts collected so far.']\n",
      "https://api.pushshift.io/reddit/submission/search/?sort_type=created_utc&sort=asc&subreddit=amitheasshole&after=1550539874&before1577836800&size=1000\n",
      "['49953 posts collected so far.']\n",
      "https://api.pushshift.io/reddit/submission/search/?sort_type=created_utc&sort=asc&subreddit=amitheasshole&after=1550673584&before1577836800&size=1000\n",
      "['50953 posts collected so far.']\n",
      "https://api.pushshift.io/reddit/submission/search/?sort_type=created_utc&sort=asc&subreddit=amitheasshole&after=1550783816&before1577836800&size=1000\n",
      "['51953 posts collected so far.']\n",
      "https://api.pushshift.io/reddit/submission/search/?sort_type=created_utc&sort=asc&subreddit=amitheasshole&after=1550921827&before1577836800&size=1000\n",
      "['52953 posts collected so far.']\n",
      "https://api.pushshift.io/reddit/submission/search/?sort_type=created_utc&sort=asc&subreddit=amitheasshole&after=1551054199&before1577836800&size=1000\n",
      "['53953 posts collected so far.']\n",
      "https://api.pushshift.io/reddit/submission/search/?sort_type=created_utc&sort=asc&subreddit=amitheasshole&after=1551195423&before1577836800&size=1000\n",
      "['54953 posts collected so far.']\n",
      "https://api.pushshift.io/reddit/submission/search/?sort_type=created_utc&sort=asc&subreddit=amitheasshole&after=1551326470&before1577836800&size=1000\n",
      "['55953 posts collected so far.']\n",
      "https://api.pushshift.io/reddit/submission/search/?sort_type=created_utc&sort=asc&subreddit=amitheasshole&after=1551470012&before1577836800&size=1000\n",
      "['56953 posts collected so far.']\n",
      "https://api.pushshift.io/reddit/submission/search/?sort_type=created_utc&sort=asc&subreddit=amitheasshole&after=1551602165&before1577836800&size=1000\n",
      "['57953 posts collected so far.']\n",
      "https://api.pushshift.io/reddit/submission/search/?sort_type=created_utc&sort=asc&subreddit=amitheasshole&after=1551728521&before1577836800&size=1000\n",
      "['58953 posts collected so far.']\n",
      "https://api.pushshift.io/reddit/submission/search/?sort_type=created_utc&sort=asc&subreddit=amitheasshole&after=1551837501&before1577836800&size=1000\n",
      "['59953 posts collected so far.']\n",
      "https://api.pushshift.io/reddit/submission/search/?sort_type=created_utc&sort=asc&subreddit=amitheasshole&after=1551945455&before1577836800&size=1000\n",
      "['60953 posts collected so far.']\n",
      "https://api.pushshift.io/reddit/submission/search/?sort_type=created_utc&sort=asc&subreddit=amitheasshole&after=1552070404&before1577836800&size=1000\n",
      "['61953 posts collected so far.']\n",
      "https://api.pushshift.io/reddit/submission/search/?sort_type=created_utc&sort=asc&subreddit=amitheasshole&after=1552189807&before1577836800&size=1000\n",
      "['62953 posts collected so far.']\n",
      "https://api.pushshift.io/reddit/submission/search/?sort_type=created_utc&sort=asc&subreddit=amitheasshole&after=1552326652&before1577836800&size=1000\n",
      "['63953 posts collected so far.']\n",
      "https://api.pushshift.io/reddit/submission/search/?sort_type=created_utc&sort=asc&subreddit=amitheasshole&after=1552434461&before1577836800&size=1000\n",
      "['64953 posts collected so far.']\n",
      "https://api.pushshift.io/reddit/submission/search/?sort_type=created_utc&sort=asc&subreddit=amitheasshole&after=1552539473&before1577836800&size=1000\n",
      "['65953 posts collected so far.']\n",
      "https://api.pushshift.io/reddit/submission/search/?sort_type=created_utc&sort=asc&subreddit=amitheasshole&after=1552659512&before1577836800&size=1000\n",
      "['66953 posts collected so far.']\n",
      "https://api.pushshift.io/reddit/submission/search/?sort_type=created_utc&sort=asc&subreddit=amitheasshole&after=1552775390&before1577836800&size=1000\n",
      "['67953 posts collected so far.']\n",
      "https://api.pushshift.io/reddit/submission/search/?sort_type=created_utc&sort=asc&subreddit=amitheasshole&after=1552872124&before1577836800&size=1000\n",
      "['68953 posts collected so far.']\n",
      "https://api.pushshift.io/reddit/submission/search/?sort_type=created_utc&sort=asc&subreddit=amitheasshole&after=1552964212&before1577836800&size=1000\n",
      "['69953 posts collected so far.']\n",
      "https://api.pushshift.io/reddit/submission/search/?sort_type=created_utc&sort=asc&subreddit=amitheasshole&after=1553068016&before1577836800&size=1000\n",
      "['70953 posts collected so far.']\n",
      "https://api.pushshift.io/reddit/submission/search/?sort_type=created_utc&sort=asc&subreddit=amitheasshole&after=1553179383&before1577836800&size=1000\n",
      "['71953 posts collected so far.']\n",
      "https://api.pushshift.io/reddit/submission/search/?sort_type=created_utc&sort=asc&subreddit=amitheasshole&after=1553288223&before1577836800&size=1000\n",
      "['72953 posts collected so far.']\n",
      "https://api.pushshift.io/reddit/submission/search/?sort_type=created_utc&sort=asc&subreddit=amitheasshole&after=1553395323&before1577836800&size=1000\n",
      "['73953 posts collected so far.']\n",
      "https://api.pushshift.io/reddit/submission/search/?sort_type=created_utc&sort=asc&subreddit=amitheasshole&after=1553506242&before1577836800&size=1000\n",
      "['74953 posts collected so far.']\n",
      "https://api.pushshift.io/reddit/submission/search/?sort_type=created_utc&sort=asc&subreddit=amitheasshole&after=1553622540&before1577836800&size=1000\n",
      "['75953 posts collected so far.']\n",
      "https://api.pushshift.io/reddit/submission/search/?sort_type=created_utc&sort=asc&subreddit=amitheasshole&after=1553719691&before1577836800&size=1000\n",
      "['76953 posts collected so far.']\n",
      "https://api.pushshift.io/reddit/submission/search/?sort_type=created_utc&sort=asc&subreddit=amitheasshole&after=1553816927&before1577836800&size=1000\n",
      "['77953 posts collected so far.']\n",
      "https://api.pushshift.io/reddit/submission/search/?sort_type=created_utc&sort=asc&subreddit=amitheasshole&after=1553918202&before1577836800&size=1000\n",
      "['78953 posts collected so far.']\n",
      "https://api.pushshift.io/reddit/submission/search/?sort_type=created_utc&sort=asc&subreddit=amitheasshole&after=1554037139&before1577836800&size=1000\n",
      "['79953 posts collected so far.']\n",
      "https://api.pushshift.io/reddit/submission/search/?sort_type=created_utc&sort=asc&subreddit=amitheasshole&after=1554138542&before1577836800&size=1000\n",
      "['80953 posts collected so far.']\n",
      "https://api.pushshift.io/reddit/submission/search/?sort_type=created_utc&sort=asc&subreddit=amitheasshole&after=1554242367&before1577836800&size=1000\n",
      "['81953 posts collected so far.']\n",
      "https://api.pushshift.io/reddit/submission/search/?sort_type=created_utc&sort=asc&subreddit=amitheasshole&after=1554334270&before1577836800&size=1000\n",
      "['82953 posts collected so far.']\n",
      "https://api.pushshift.io/reddit/submission/search/?sort_type=created_utc&sort=asc&subreddit=amitheasshole&after=1554425978&before1577836800&size=1000\n",
      "['83953 posts collected so far.']\n",
      "https://api.pushshift.io/reddit/submission/search/?sort_type=created_utc&sort=asc&subreddit=amitheasshole&after=1554534655&before1577836800&size=1000\n",
      "['84953 posts collected so far.']\n",
      "https://api.pushshift.io/reddit/submission/search/?sort_type=created_utc&sort=asc&subreddit=amitheasshole&after=1554649857&before1577836800&size=1000\n",
      "['85953 posts collected so far.']\n",
      "https://api.pushshift.io/reddit/submission/search/?sort_type=created_utc&sort=asc&subreddit=amitheasshole&after=1554744545&before1577836800&size=1000\n",
      "['86953 posts collected so far.']\n",
      "https://api.pushshift.io/reddit/submission/search/?sort_type=created_utc&sort=asc&subreddit=amitheasshole&after=1554834785&before1577836800&size=1000\n",
      "['87953 posts collected so far.']\n",
      "https://api.pushshift.io/reddit/submission/search/?sort_type=created_utc&sort=asc&subreddit=amitheasshole&after=1554919635&before1577836800&size=1000\n",
      "['88953 posts collected so far.']\n",
      "https://api.pushshift.io/reddit/submission/search/?sort_type=created_utc&sort=asc&subreddit=amitheasshole&after=1555014363&before1577836800&size=1000\n",
      "['89953 posts collected so far.']\n",
      "https://api.pushshift.io/reddit/submission/search/?sort_type=created_utc&sort=asc&subreddit=amitheasshole&after=1555114695&before1577836800&size=1000\n",
      "['90953 posts collected so far.']\n",
      "https://api.pushshift.io/reddit/submission/search/?sort_type=created_utc&sort=asc&subreddit=amitheasshole&after=1555225492&before1577836800&size=1000\n",
      "['91953 posts collected so far.']\n",
      "https://api.pushshift.io/reddit/submission/search/?sort_type=created_utc&sort=asc&subreddit=amitheasshole&after=1555332756&before1577836800&size=1000\n",
      "['92953 posts collected so far.']\n",
      "https://api.pushshift.io/reddit/submission/search/?sort_type=created_utc&sort=asc&subreddit=amitheasshole&after=1555425262&before1577836800&size=1000\n",
      "['93953 posts collected so far.']\n",
      "https://api.pushshift.io/reddit/submission/search/?sort_type=created_utc&sort=asc&subreddit=amitheasshole&after=1555521674&before1577836800&size=1000\n",
      "['94953 posts collected so far.']\n",
      "https://api.pushshift.io/reddit/submission/search/?sort_type=created_utc&sort=asc&subreddit=amitheasshole&after=1555619304&before1577836800&size=1000\n",
      "['95953 posts collected so far.']\n",
      "https://api.pushshift.io/reddit/submission/search/?sort_type=created_utc&sort=asc&subreddit=amitheasshole&after=1555714662&before1577836800&size=1000\n",
      "['96953 posts collected so far.']\n",
      "https://api.pushshift.io/reddit/submission/search/?sort_type=created_utc&sort=asc&subreddit=amitheasshole&after=1555816188&before1577836800&size=1000\n",
      "['97953 posts collected so far.']\n",
      "https://api.pushshift.io/reddit/submission/search/?sort_type=created_utc&sort=asc&subreddit=amitheasshole&after=1555920631&before1577836800&size=1000\n",
      "['98953 posts collected so far.']\n",
      "https://api.pushshift.io/reddit/submission/search/?sort_type=created_utc&sort=asc&subreddit=amitheasshole&after=1556017937&before1577836800&size=1000\n",
      "['99953 posts collected so far.']\n",
      "https://api.pushshift.io/reddit/submission/search/?sort_type=created_utc&sort=asc&subreddit=amitheasshole&after=1556114492&before1577836800&size=1000\n",
      "['100953 posts collected so far.']\n",
      "https://api.pushshift.io/reddit/submission/search/?sort_type=created_utc&sort=asc&subreddit=amitheasshole&after=1556196231&before1577836800&size=1000\n",
      "['101953 posts collected so far.']\n",
      "https://api.pushshift.io/reddit/submission/search/?sort_type=created_utc&sort=asc&subreddit=amitheasshole&after=1556289657&before1577836800&size=1000\n",
      "['102953 posts collected so far.']\n",
      "https://api.pushshift.io/reddit/submission/search/?sort_type=created_utc&sort=asc&subreddit=amitheasshole&after=1556388140&before1577836800&size=1000\n",
      "['103953 posts collected so far.']\n",
      "https://api.pushshift.io/reddit/submission/search/?sort_type=created_utc&sort=asc&subreddit=amitheasshole&after=1556482028&before1577836800&size=1000\n",
      "['104953 posts collected so far.']\n",
      "https://api.pushshift.io/reddit/submission/search/?sort_type=created_utc&sort=asc&subreddit=amitheasshole&after=1556579306&before1577836800&size=1000\n",
      "['105953 posts collected so far.']\n",
      "https://api.pushshift.io/reddit/submission/search/?sort_type=created_utc&sort=asc&subreddit=amitheasshole&after=1556677378&before1577836800&size=1000\n",
      "['106953 posts collected so far.']\n",
      "https://api.pushshift.io/reddit/submission/search/?sort_type=created_utc&sort=asc&subreddit=amitheasshole&after=1556770514&before1577836800&size=1000\n",
      "['107953 posts collected so far.']\n",
      "https://api.pushshift.io/reddit/submission/search/?sort_type=created_utc&sort=asc&subreddit=amitheasshole&after=1556863099&before1577836800&size=1000\n",
      "['108953 posts collected so far.']\n",
      "https://api.pushshift.io/reddit/submission/search/?sort_type=created_utc&sort=asc&subreddit=amitheasshole&after=1556975034&before1577836800&size=1000\n",
      "['109953 posts collected so far.']\n",
      "https://api.pushshift.io/reddit/submission/search/?sort_type=created_utc&sort=asc&subreddit=amitheasshole&after=1557076909&before1577836800&size=1000\n",
      "['110953 posts collected so far.']\n",
      "https://api.pushshift.io/reddit/submission/search/?sort_type=created_utc&sort=asc&subreddit=amitheasshole&after=1557173101&before1577836800&size=1000\n",
      "['111953 posts collected so far.']\n",
      "https://api.pushshift.io/reddit/submission/search/?sort_type=created_utc&sort=asc&subreddit=amitheasshole&after=1557265020&before1577836800&size=1000\n",
      "['112953 posts collected so far.']\n",
      "https://api.pushshift.io/reddit/submission/search/?sort_type=created_utc&sort=asc&subreddit=amitheasshole&after=1557364564&before1577836800&size=1000\n",
      "['113953 posts collected so far.']\n",
      "https://api.pushshift.io/reddit/submission/search/?sort_type=created_utc&sort=asc&subreddit=amitheasshole&after=1557455896&before1577836800&size=1000\n",
      "['114953 posts collected so far.']\n",
      "https://api.pushshift.io/reddit/submission/search/?sort_type=created_utc&sort=asc&subreddit=amitheasshole&after=1557553824&before1577836800&size=1000\n",
      "['115953 posts collected so far.']\n",
      "https://api.pushshift.io/reddit/submission/search/?sort_type=created_utc&sort=asc&subreddit=amitheasshole&after=1557668155&before1577836800&size=1000\n",
      "['116953 posts collected so far.']\n",
      "https://api.pushshift.io/reddit/submission/search/?sort_type=created_utc&sort=asc&subreddit=amitheasshole&after=1557761925&before1577836800&size=1000\n",
      "['117953 posts collected so far.']\n",
      "https://api.pushshift.io/reddit/submission/search/?sort_type=created_utc&sort=asc&subreddit=amitheasshole&after=1557857323&before1577836800&size=1000\n",
      "['118953 posts collected so far.']\n",
      "https://api.pushshift.io/reddit/submission/search/?sort_type=created_utc&sort=asc&subreddit=amitheasshole&after=1557952665&before1577836800&size=1000\n",
      "['119953 posts collected so far.']\n",
      "https://api.pushshift.io/reddit/submission/search/?sort_type=created_utc&sort=asc&subreddit=amitheasshole&after=1558050421&before1577836800&size=1000\n",
      "['120953 posts collected so far.']\n",
      "https://api.pushshift.io/reddit/submission/search/?sort_type=created_utc&sort=asc&subreddit=amitheasshole&after=1558168275&before1577836800&size=1000\n",
      "['121953 posts collected so far.']\n",
      "https://api.pushshift.io/reddit/submission/search/?sort_type=created_utc&sort=asc&subreddit=amitheasshole&after=1558284357&before1577836800&size=1000\n",
      "['122953 posts collected so far.']\n",
      "https://api.pushshift.io/reddit/submission/search/?sort_type=created_utc&sort=asc&subreddit=amitheasshole&after=1558379950&before1577836800&size=1000\n",
      "['123953 posts collected so far.']\n",
      "https://api.pushshift.io/reddit/submission/search/?sort_type=created_utc&sort=asc&subreddit=amitheasshole&after=1558474263&before1577836800&size=1000\n",
      "['124953 posts collected so far.']\n",
      "https://api.pushshift.io/reddit/submission/search/?sort_type=created_utc&sort=asc&subreddit=amitheasshole&after=1558569072&before1577836800&size=1000\n",
      "['125953 posts collected so far.']\n",
      "https://api.pushshift.io/reddit/submission/search/?sort_type=created_utc&sort=asc&subreddit=amitheasshole&after=1558665865&before1577836800&size=1000\n",
      "['126953 posts collected so far.']\n",
      "https://api.pushshift.io/reddit/submission/search/?sort_type=created_utc&sort=asc&subreddit=amitheasshole&after=1558754533&before1577836800&size=1000\n",
      "['127953 posts collected so far.']\n",
      "https://api.pushshift.io/reddit/submission/search/?sort_type=created_utc&sort=asc&subreddit=amitheasshole&after=1558859404&before1577836800&size=1000\n",
      "['128953 posts collected so far.']\n",
      "https://api.pushshift.io/reddit/submission/search/?sort_type=created_utc&sort=asc&subreddit=amitheasshole&after=1558959429&before1577836800&size=1000\n",
      "['129953 posts collected so far.']\n",
      "https://api.pushshift.io/reddit/submission/search/?sort_type=created_utc&sort=asc&subreddit=amitheasshole&after=1559055993&before1577836800&size=1000\n",
      "['130953 posts collected so far.']\n",
      "https://api.pushshift.io/reddit/submission/search/?sort_type=created_utc&sort=asc&subreddit=amitheasshole&after=1559142198&before1577836800&size=1000\n",
      "['131953 posts collected so far.']\n",
      "https://api.pushshift.io/reddit/submission/search/?sort_type=created_utc&sort=asc&subreddit=amitheasshole&after=1559234325&before1577836800&size=1000\n",
      "['132953 posts collected so far.']\n",
      "https://api.pushshift.io/reddit/submission/search/?sort_type=created_utc&sort=asc&subreddit=amitheasshole&after=1559325165&before1577836800&size=1000\n",
      "['133953 posts collected so far.']\n",
      "https://api.pushshift.io/reddit/submission/search/?sort_type=created_utc&sort=asc&subreddit=amitheasshole&after=1559426420&before1577836800&size=1000\n",
      "['134953 posts collected so far.']\n",
      "https://api.pushshift.io/reddit/submission/search/?sort_type=created_utc&sort=asc&subreddit=amitheasshole&after=1559517193&before1577836800&size=1000\n",
      "['135953 posts collected so far.']\n",
      "https://api.pushshift.io/reddit/submission/search/?sort_type=created_utc&sort=asc&subreddit=amitheasshole&after=1559603503&before1577836800&size=1000\n",
      "['136953 posts collected so far.']\n",
      "https://api.pushshift.io/reddit/submission/search/?sort_type=created_utc&sort=asc&subreddit=amitheasshole&after=1559693923&before1577836800&size=1000\n",
      "['137953 posts collected so far.']\n",
      "https://api.pushshift.io/reddit/submission/search/?sort_type=created_utc&sort=asc&subreddit=amitheasshole&after=1559782770&before1577836800&size=1000\n",
      "['138953 posts collected so far.']\n",
      "https://api.pushshift.io/reddit/submission/search/?sort_type=created_utc&sort=asc&subreddit=amitheasshole&after=1559873153&before1577836800&size=1000\n",
      "['139953 posts collected so far.']\n",
      "https://api.pushshift.io/reddit/submission/search/?sort_type=created_utc&sort=asc&subreddit=amitheasshole&after=1559965279&before1577836800&size=1000\n",
      "['140953 posts collected so far.']\n",
      "https://api.pushshift.io/reddit/submission/search/?sort_type=created_utc&sort=asc&subreddit=amitheasshole&after=1560067200&before1577836800&size=1000\n",
      "['141953 posts collected so far.']\n",
      "https://api.pushshift.io/reddit/submission/search/?sort_type=created_utc&sort=asc&subreddit=amitheasshole&after=1560161235&before1577836800&size=1000\n",
      "['142953 posts collected so far.']\n",
      "https://api.pushshift.io/reddit/submission/search/?sort_type=created_utc&sort=asc&subreddit=amitheasshole&after=1560241068&before1577836800&size=1000\n",
      "['143953 posts collected so far.']\n",
      "https://api.pushshift.io/reddit/submission/search/?sort_type=created_utc&sort=asc&subreddit=amitheasshole&after=1560321606&before1577836800&size=1000\n",
      "['144953 posts collected so far.']\n",
      "https://api.pushshift.io/reddit/submission/search/?sort_type=created_utc&sort=asc&subreddit=amitheasshole&after=1560408300&before1577836800&size=1000\n",
      "['145953 posts collected so far.']\n",
      "https://api.pushshift.io/reddit/submission/search/?sort_type=created_utc&sort=asc&subreddit=amitheasshole&after=1560495346&before1577836800&size=1000\n",
      "['146953 posts collected so far.']\n",
      "https://api.pushshift.io/reddit/submission/search/?sort_type=created_utc&sort=asc&subreddit=amitheasshole&after=1560594809&before1577836800&size=1000\n",
      "['147953 posts collected so far.']\n",
      "https://api.pushshift.io/reddit/submission/search/?sort_type=created_utc&sort=asc&subreddit=amitheasshole&after=1560695010&before1577836800&size=1000\n",
      "['148953 posts collected so far.']\n",
      "https://api.pushshift.io/reddit/submission/search/?sort_type=created_utc&sort=asc&subreddit=amitheasshole&after=1560788292&before1577836800&size=1000\n",
      "['149953 posts collected so far.']\n",
      "https://api.pushshift.io/reddit/submission/search/?sort_type=created_utc&sort=asc&subreddit=amitheasshole&after=1560866146&before1577836800&size=1000\n",
      "['150953 posts collected so far.']\n",
      "https://api.pushshift.io/reddit/submission/search/?sort_type=created_utc&sort=asc&subreddit=amitheasshole&after=1560947828&before1577836800&size=1000\n",
      "['151953 posts collected so far.']\n",
      "https://api.pushshift.io/reddit/submission/search/?sort_type=created_utc&sort=asc&subreddit=amitheasshole&after=1561037352&before1577836800&size=1000\n",
      "['152953 posts collected so far.']\n",
      "https://api.pushshift.io/reddit/submission/search/?sort_type=created_utc&sort=asc&subreddit=amitheasshole&after=1561130958&before1577836800&size=1000\n",
      "['153953 posts collected so far.']\n",
      "https://api.pushshift.io/reddit/submission/search/?sort_type=created_utc&sort=asc&subreddit=amitheasshole&after=1561227693&before1577836800&size=1000\n",
      "['154953 posts collected so far.']\n",
      "https://api.pushshift.io/reddit/submission/search/?sort_type=created_utc&sort=asc&subreddit=amitheasshole&after=1561324818&before1577836800&size=1000\n",
      "['155953 posts collected so far.']\n",
      "https://api.pushshift.io/reddit/submission/search/?sort_type=created_utc&sort=asc&subreddit=amitheasshole&after=1561406170&before1577836800&size=1000\n",
      "['156953 posts collected so far.']\n",
      "https://api.pushshift.io/reddit/submission/search/?sort_type=created_utc&sort=asc&subreddit=amitheasshole&after=1561489995&before1577836800&size=1000\n",
      "['157953 posts collected so far.']\n",
      "https://api.pushshift.io/reddit/submission/search/?sort_type=created_utc&sort=asc&subreddit=amitheasshole&after=1561575757&before1577836800&size=1000\n",
      "['158953 posts collected so far.']\n",
      "https://api.pushshift.io/reddit/submission/search/?sort_type=created_utc&sort=asc&subreddit=amitheasshole&after=1561665405&before1577836800&size=1000\n",
      "['159953 posts collected so far.']\n",
      "https://api.pushshift.io/reddit/submission/search/?sort_type=created_utc&sort=asc&subreddit=amitheasshole&after=1561757631&before1577836800&size=1000\n",
      "['160953 posts collected so far.']\n",
      "https://api.pushshift.io/reddit/submission/search/?sort_type=created_utc&sort=asc&subreddit=amitheasshole&after=1561855866&before1577836800&size=1000\n",
      "['161953 posts collected so far.']\n",
      "https://api.pushshift.io/reddit/submission/search/?sort_type=created_utc&sort=asc&subreddit=amitheasshole&after=1561946872&before1577836800&size=1000\n",
      "['162953 posts collected so far.']\n",
      "https://api.pushshift.io/reddit/submission/search/?sort_type=created_utc&sort=asc&subreddit=amitheasshole&after=1562041960&before1577836800&size=1000\n",
      "['163953 posts collected so far.']\n",
      "https://api.pushshift.io/reddit/submission/search/?sort_type=created_utc&sort=asc&subreddit=amitheasshole&after=1562141730&before1577836800&size=1000\n",
      "['164953 posts collected so far.']\n",
      "https://api.pushshift.io/reddit/submission/search/?sort_type=created_utc&sort=asc&subreddit=amitheasshole&after=1562232513&before1577836800&size=1000\n",
      "['165953 posts collected so far.']\n",
      "https://api.pushshift.io/reddit/submission/search/?sort_type=created_utc&sort=asc&subreddit=amitheasshole&after=1562335843&before1577836800&size=1000\n",
      "['166953 posts collected so far.']\n",
      "https://api.pushshift.io/reddit/submission/search/?sort_type=created_utc&sort=asc&subreddit=amitheasshole&after=1562431525&before1577836800&size=1000\n",
      "['167953 posts collected so far.']\n",
      "https://api.pushshift.io/reddit/submission/search/?sort_type=created_utc&sort=asc&subreddit=amitheasshole&after=1562524950&before1577836800&size=1000\n",
      "['168953 posts collected so far.']\n",
      "https://api.pushshift.io/reddit/submission/search/?sort_type=created_utc&sort=asc&subreddit=amitheasshole&after=1562605088&before1577836800&size=1000\n",
      "['169953 posts collected so far.']\n",
      "https://api.pushshift.io/reddit/submission/search/?sort_type=created_utc&sort=asc&subreddit=amitheasshole&after=1562688764&before1577836800&size=1000\n",
      "['170953 posts collected so far.']\n",
      "https://api.pushshift.io/reddit/submission/search/?sort_type=created_utc&sort=asc&subreddit=amitheasshole&after=1562763047&before1577836800&size=1000\n",
      "['171953 posts collected so far.']\n",
      "https://api.pushshift.io/reddit/submission/search/?sort_type=created_utc&sort=asc&subreddit=amitheasshole&after=1562831602&before1577836800&size=1000\n",
      "['172953 posts collected so far.']\n",
      "https://api.pushshift.io/reddit/submission/search/?sort_type=created_utc&sort=asc&subreddit=amitheasshole&after=1562903801&before1577836800&size=1000\n",
      "['173953 posts collected so far.']\n",
      "https://api.pushshift.io/reddit/submission/search/?sort_type=created_utc&sort=asc&subreddit=amitheasshole&after=1562983635&before1577836800&size=1000\n",
      "['174953 posts collected so far.']\n",
      "https://api.pushshift.io/reddit/submission/search/?sort_type=created_utc&sort=asc&subreddit=amitheasshole&after=1563059110&before1577836800&size=1000\n",
      "['175953 posts collected so far.']\n",
      "https://api.pushshift.io/reddit/submission/search/?sort_type=created_utc&sort=asc&subreddit=amitheasshole&after=1563135247&before1577836800&size=1000\n",
      "['176953 posts collected so far.']\n",
      "https://api.pushshift.io/reddit/submission/search/?sort_type=created_utc&sort=asc&subreddit=amitheasshole&after=1563211146&before1577836800&size=1000\n",
      "['177953 posts collected so far.']\n",
      "https://api.pushshift.io/reddit/submission/search/?sort_type=created_utc&sort=asc&subreddit=amitheasshole&after=1563279897&before1577836800&size=1000\n",
      "['178953 posts collected so far.']\n",
      "https://api.pushshift.io/reddit/submission/search/?sort_type=created_utc&sort=asc&subreddit=amitheasshole&after=1563333996&before1577836800&size=1000\n",
      "['179953 posts collected so far.']\n",
      "https://api.pushshift.io/reddit/submission/search/?sort_type=created_utc&sort=asc&subreddit=amitheasshole&after=1563403251&before1577836800&size=1000\n",
      "['180953 posts collected so far.']\n",
      "https://api.pushshift.io/reddit/submission/search/?sort_type=created_utc&sort=asc&subreddit=amitheasshole&after=1563476992&before1577836800&size=1000\n",
      "['181953 posts collected so far.']\n",
      "https://api.pushshift.io/reddit/submission/search/?sort_type=created_utc&sort=asc&subreddit=amitheasshole&after=1563549674&before1577836800&size=1000\n",
      "['182953 posts collected so far.']\n",
      "https://api.pushshift.io/reddit/submission/search/?sort_type=created_utc&sort=asc&subreddit=amitheasshole&after=1563629345&before1577836800&size=1000\n",
      "['183953 posts collected so far.']\n",
      "https://api.pushshift.io/reddit/submission/search/?sort_type=created_utc&sort=asc&subreddit=amitheasshole&after=1563716595&before1577836800&size=1000\n",
      "['184953 posts collected so far.']\n",
      "https://api.pushshift.io/reddit/submission/search/?sort_type=created_utc&sort=asc&subreddit=amitheasshole&after=1563790541&before1577836800&size=1000\n",
      "['185953 posts collected so far.']\n",
      "https://api.pushshift.io/reddit/submission/search/?sort_type=created_utc&sort=asc&subreddit=amitheasshole&after=1563853855&before1577836800&size=1000\n",
      "['186953 posts collected so far.']\n",
      "https://api.pushshift.io/reddit/submission/search/?sort_type=created_utc&sort=asc&subreddit=amitheasshole&after=1563928928&before1577836800&size=1000\n",
      "['187953 posts collected so far.']\n",
      "https://api.pushshift.io/reddit/submission/search/?sort_type=created_utc&sort=asc&subreddit=amitheasshole&after=1564002321&before1577836800&size=1000\n",
      "['188953 posts collected so far.']\n",
      "https://api.pushshift.io/reddit/submission/search/?sort_type=created_utc&sort=asc&subreddit=amitheasshole&after=1564071255&before1577836800&size=1000\n",
      "['189953 posts collected so far.']\n",
      "https://api.pushshift.io/reddit/submission/search/?sort_type=created_utc&sort=asc&subreddit=amitheasshole&after=1564125580&before1577836800&size=1000\n",
      "['190953 posts collected so far.']\n",
      "https://api.pushshift.io/reddit/submission/search/?sort_type=created_utc&sort=asc&subreddit=amitheasshole&after=1564193652&before1577836800&size=1000\n",
      "['191953 posts collected so far.']\n",
      "https://api.pushshift.io/reddit/submission/search/?sort_type=created_utc&sort=asc&subreddit=amitheasshole&after=1564270983&before1577836800&size=1000\n",
      "['192953 posts collected so far.']\n",
      "https://api.pushshift.io/reddit/submission/search/?sort_type=created_utc&sort=asc&subreddit=amitheasshole&after=1564346587&before1577836800&size=1000\n",
      "['193953 posts collected so far.']\n",
      "https://api.pushshift.io/reddit/submission/search/?sort_type=created_utc&sort=asc&subreddit=amitheasshole&after=1564419088&before1577836800&size=1000\n",
      "['194953 posts collected so far.']\n",
      "https://api.pushshift.io/reddit/submission/search/?sort_type=created_utc&sort=asc&subreddit=amitheasshole&after=1564470780&before1577836800&size=1000\n",
      "['195953 posts collected so far.']\n",
      "https://api.pushshift.io/reddit/submission/search/?sort_type=created_utc&sort=asc&subreddit=amitheasshole&after=1564534074&before1577836800&size=1000\n",
      "['196953 posts collected so far.']\n",
      "https://api.pushshift.io/reddit/submission/search/?sort_type=created_utc&sort=asc&subreddit=amitheasshole&after=1564604139&before1577836800&size=1000\n",
      "['197953 posts collected so far.']\n",
      "https://api.pushshift.io/reddit/submission/search/?sort_type=created_utc&sort=asc&subreddit=amitheasshole&after=1564680359&before1577836800&size=1000\n",
      "['198953 posts collected so far.']\n",
      "https://api.pushshift.io/reddit/submission/search/?sort_type=created_utc&sort=asc&subreddit=amitheasshole&after=1564751670&before1577836800&size=1000\n",
      "['199953 posts collected so far.']\n",
      "https://api.pushshift.io/reddit/submission/search/?sort_type=created_utc&sort=asc&subreddit=amitheasshole&after=1564823437&before1577836800&size=1000\n",
      "['200953 posts collected so far.']\n",
      "https://api.pushshift.io/reddit/submission/search/?sort_type=created_utc&sort=asc&subreddit=amitheasshole&after=1564908698&before1577836800&size=1000\n",
      "['201953 posts collected so far.']\n",
      "https://api.pushshift.io/reddit/submission/search/?sort_type=created_utc&sort=asc&subreddit=amitheasshole&after=1564988278&before1577836800&size=1000\n",
      "['202953 posts collected so far.']\n",
      "https://api.pushshift.io/reddit/submission/search/?sort_type=created_utc&sort=asc&subreddit=amitheasshole&after=1565056616&before1577836800&size=1000\n",
      "['203953 posts collected so far.']\n",
      "https://api.pushshift.io/reddit/submission/search/?sort_type=created_utc&sort=asc&subreddit=amitheasshole&after=1565130585&before1577836800&size=1000\n",
      "['204953 posts collected so far.']\n",
      "https://api.pushshift.io/reddit/submission/search/?sort_type=created_utc&sort=asc&subreddit=amitheasshole&after=1565208972&before1577836800&size=1000\n",
      "['205953 posts collected so far.']\n",
      "https://api.pushshift.io/reddit/submission/search/?sort_type=created_utc&sort=asc&subreddit=amitheasshole&after=1565288064&before1577836800&size=1000\n",
      "['206953 posts collected so far.']\n",
      "https://api.pushshift.io/reddit/submission/search/?sort_type=created_utc&sort=asc&subreddit=amitheasshole&after=1565366944&before1577836800&size=1000\n",
      "['207953 posts collected so far.']\n",
      "https://api.pushshift.io/reddit/submission/search/?sort_type=created_utc&sort=asc&subreddit=amitheasshole&after=1565448216&before1577836800&size=1000\n",
      "['208953 posts collected so far.']\n",
      "https://api.pushshift.io/reddit/submission/search/?sort_type=created_utc&sort=asc&subreddit=amitheasshole&after=1565534666&before1577836800&size=1000\n",
      "['209953 posts collected so far.']\n",
      "https://api.pushshift.io/reddit/submission/search/?sort_type=created_utc&sort=asc&subreddit=amitheasshole&after=1565612004&before1577836800&size=1000\n",
      "['210953 posts collected so far.']\n",
      "https://api.pushshift.io/reddit/submission/search/?sort_type=created_utc&sort=asc&subreddit=amitheasshole&after=1565661074&before1577836800&size=1000\n",
      "['211953 posts collected so far.']\n",
      "https://api.pushshift.io/reddit/submission/search/?sort_type=created_utc&sort=asc&subreddit=amitheasshole&after=1565733194&before1577836800&size=1000\n",
      "['212953 posts collected so far.']\n",
      "https://api.pushshift.io/reddit/submission/search/?sort_type=created_utc&sort=asc&subreddit=amitheasshole&after=1565808939&before1577836800&size=1000\n",
      "['213953 posts collected so far.']\n",
      "https://api.pushshift.io/reddit/submission/search/?sort_type=created_utc&sort=asc&subreddit=amitheasshole&after=1565886442&before1577836800&size=1000\n",
      "['214953 posts collected so far.']\n",
      "https://api.pushshift.io/reddit/submission/search/?sort_type=created_utc&sort=asc&subreddit=amitheasshole&after=1565964381&before1577836800&size=1000\n",
      "['215953 posts collected so far.']\n",
      "https://api.pushshift.io/reddit/submission/search/?sort_type=created_utc&sort=asc&subreddit=amitheasshole&after=1566032785&before1577836800&size=1000\n",
      "['216953 posts collected so far.']\n",
      "https://api.pushshift.io/reddit/submission/search/?sort_type=created_utc&sort=asc&subreddit=amitheasshole&after=1566125448&before1577836800&size=1000\n",
      "['217953 posts collected so far.']\n",
      "https://api.pushshift.io/reddit/submission/search/?sort_type=created_utc&sort=asc&subreddit=amitheasshole&after=1566214450&before1577836800&size=1000\n",
      "['218953 posts collected so far.']\n",
      "https://api.pushshift.io/reddit/submission/search/?sort_type=created_utc&sort=asc&subreddit=amitheasshole&after=1566282355&before1577836800&size=1000\n",
      "['219953 posts collected so far.']\n",
      "https://api.pushshift.io/reddit/submission/search/?sort_type=created_utc&sort=asc&subreddit=amitheasshole&after=1566356610&before1577836800&size=1000\n",
      "['220953 posts collected so far.']\n",
      "https://api.pushshift.io/reddit/submission/search/?sort_type=created_utc&sort=asc&subreddit=amitheasshole&after=1566435739&before1577836800&size=1000\n",
      "['221953 posts collected so far.']\n",
      "https://api.pushshift.io/reddit/submission/search/?sort_type=created_utc&sort=asc&subreddit=amitheasshole&after=1566515455&before1577836800&size=1000\n",
      "['222953 posts collected so far.']\n",
      "https://api.pushshift.io/reddit/submission/search/?sort_type=created_utc&sort=asc&subreddit=amitheasshole&after=1566597064&before1577836800&size=1000\n",
      "['223953 posts collected so far.']\n",
      "https://api.pushshift.io/reddit/submission/search/?sort_type=created_utc&sort=asc&subreddit=amitheasshole&after=1566683287&before1577836800&size=1000\n",
      "['224953 posts collected so far.']\n",
      "https://api.pushshift.io/reddit/submission/search/?sort_type=created_utc&sort=asc&subreddit=amitheasshole&after=1566771542&before1577836800&size=1000\n",
      "['225953 posts collected so far.']\n",
      "https://api.pushshift.io/reddit/submission/search/?sort_type=created_utc&sort=asc&subreddit=amitheasshole&after=1566855405&before1577836800&size=1000\n",
      "['226953 posts collected so far.']\n",
      "https://api.pushshift.io/reddit/submission/search/?sort_type=created_utc&sort=asc&subreddit=amitheasshole&after=1566938115&before1577836800&size=1000\n",
      "['227953 posts collected so far.']\n",
      "https://api.pushshift.io/reddit/submission/search/?sort_type=created_utc&sort=asc&subreddit=amitheasshole&after=1567014801&before1577836800&size=1000\n",
      "['228953 posts collected so far.']\n",
      "https://api.pushshift.io/reddit/submission/search/?sort_type=created_utc&sort=asc&subreddit=amitheasshole&after=1567092439&before1577836800&size=1000\n",
      "['229953 posts collected so far.']\n",
      "https://api.pushshift.io/reddit/submission/search/?sort_type=created_utc&sort=asc&subreddit=amitheasshole&after=1567167104&before1577836800&size=1000\n",
      "['230953 posts collected so far.']\n",
      "https://api.pushshift.io/reddit/submission/search/?sort_type=created_utc&sort=asc&subreddit=amitheasshole&after=1567233594&before1577836800&size=1000\n",
      "['231953 posts collected so far.']\n",
      "https://api.pushshift.io/reddit/submission/search/?sort_type=created_utc&sort=asc&subreddit=amitheasshole&after=1567328481&before1577836800&size=1000\n",
      "['232953 posts collected so far.']\n",
      "https://api.pushshift.io/reddit/submission/search/?sort_type=created_utc&sort=asc&subreddit=amitheasshole&after=1567407914&before1577836800&size=1000\n",
      "['233953 posts collected so far.']\n",
      "https://api.pushshift.io/reddit/submission/search/?sort_type=created_utc&sort=asc&subreddit=amitheasshole&after=1567484557&before1577836800&size=1000\n",
      "['234953 posts collected so far.']\n",
      "https://api.pushshift.io/reddit/submission/search/?sort_type=created_utc&sort=asc&subreddit=amitheasshole&after=1567572002&before1577836800&size=1000\n",
      "['235953 posts collected so far.']\n",
      "https://api.pushshift.io/reddit/submission/search/?sort_type=created_utc&sort=asc&subreddit=amitheasshole&after=1567651811&before1577836800&size=1000\n",
      "['236953 posts collected so far.']\n",
      "https://api.pushshift.io/reddit/submission/search/?sort_type=created_utc&sort=asc&subreddit=amitheasshole&after=1567735141&before1577836800&size=1000\n",
      "['237953 posts collected so far.']\n",
      "https://api.pushshift.io/reddit/submission/search/?sort_type=created_utc&sort=asc&subreddit=amitheasshole&after=1567828796&before1577836800&size=1000\n",
      "['238953 posts collected so far.']\n",
      "https://api.pushshift.io/reddit/submission/search/?sort_type=created_utc&sort=asc&subreddit=amitheasshole&after=1567923433&before1577836800&size=1000\n",
      "['239953 posts collected so far.']\n",
      "https://api.pushshift.io/reddit/submission/search/?sort_type=created_utc&sort=asc&subreddit=amitheasshole&after=1568001088&before1577836800&size=1000\n",
      "['240953 posts collected so far.']\n",
      "https://api.pushshift.io/reddit/submission/search/?sort_type=created_utc&sort=asc&subreddit=amitheasshole&after=1568085869&before1577836800&size=1000\n",
      "['241953 posts collected so far.']\n",
      "https://api.pushshift.io/reddit/submission/search/?sort_type=created_utc&sort=asc&subreddit=amitheasshole&after=1568173950&before1577836800&size=1000\n",
      "['242953 posts collected so far.']\n",
      "https://api.pushshift.io/reddit/submission/search/?sort_type=created_utc&sort=asc&subreddit=amitheasshole&after=1568262723&before1577836800&size=1000\n",
      "['243953 posts collected so far.']\n",
      "https://api.pushshift.io/reddit/submission/search/?sort_type=created_utc&sort=asc&subreddit=amitheasshole&after=1568348508&before1577836800&size=1000\n",
      "['244953 posts collected so far.']\n",
      "https://api.pushshift.io/reddit/submission/search/?sort_type=created_utc&sort=asc&subreddit=amitheasshole&after=1568427812&before1577836800&size=1000\n",
      "['245953 posts collected so far.']\n",
      "https://api.pushshift.io/reddit/submission/search/?sort_type=created_utc&sort=asc&subreddit=amitheasshole&after=1568514004&before1577836800&size=1000\n",
      "['246953 posts collected so far.']\n",
      "https://api.pushshift.io/reddit/submission/search/?sort_type=created_utc&sort=asc&subreddit=amitheasshole&after=1568590221&before1577836800&size=1000\n",
      "['247953 posts collected so far.']\n",
      "https://api.pushshift.io/reddit/submission/search/?sort_type=created_utc&sort=asc&subreddit=amitheasshole&after=1568667276&before1577836800&size=1000\n",
      "['248953 posts collected so far.']\n",
      "https://api.pushshift.io/reddit/submission/search/?sort_type=created_utc&sort=asc&subreddit=amitheasshole&after=1568745596&before1577836800&size=1000\n",
      "['249953 posts collected so far.']\n",
      "https://api.pushshift.io/reddit/submission/search/?sort_type=created_utc&sort=asc&subreddit=amitheasshole&after=1568828834&before1577836800&size=1000\n",
      "['250953 posts collected so far.']\n",
      "https://api.pushshift.io/reddit/submission/search/?sort_type=created_utc&sort=asc&subreddit=amitheasshole&after=1568918785&before1577836800&size=1000\n",
      "['251953 posts collected so far.']\n",
      "https://api.pushshift.io/reddit/submission/search/?sort_type=created_utc&sort=asc&subreddit=amitheasshole&after=1569001700&before1577836800&size=1000\n",
      "['252953 posts collected so far.']\n",
      "https://api.pushshift.io/reddit/submission/search/?sort_type=created_utc&sort=asc&subreddit=amitheasshole&after=1569086653&before1577836800&size=1000\n",
      "['253953 posts collected so far.']\n",
      "https://api.pushshift.io/reddit/submission/search/?sort_type=created_utc&sort=asc&subreddit=amitheasshole&after=1569174608&before1577836800&size=1000\n",
      "['254953 posts collected so far.']\n",
      "https://api.pushshift.io/reddit/submission/search/?sort_type=created_utc&sort=asc&subreddit=amitheasshole&after=1569254265&before1577836800&size=1000\n",
      "['255953 posts collected so far.']\n",
      "https://api.pushshift.io/reddit/submission/search/?sort_type=created_utc&sort=asc&subreddit=amitheasshole&after=1569329356&before1577836800&size=1000\n",
      "['256953 posts collected so far.']\n",
      "https://api.pushshift.io/reddit/submission/search/?sort_type=created_utc&sort=asc&subreddit=amitheasshole&after=1569405531&before1577836800&size=1000\n",
      "['257953 posts collected so far.']\n",
      "https://api.pushshift.io/reddit/submission/search/?sort_type=created_utc&sort=asc&subreddit=amitheasshole&after=1569482994&before1577836800&size=1000\n",
      "['258953 posts collected so far.']\n",
      "https://api.pushshift.io/reddit/submission/search/?sort_type=created_utc&sort=asc&subreddit=amitheasshole&after=1569581144&before1577836800&size=1000\n",
      "['259953 posts collected so far.']\n",
      "https://api.pushshift.io/reddit/submission/search/?sort_type=created_utc&sort=asc&subreddit=amitheasshole&after=1569683557&before1577836800&size=1000\n",
      "['260953 posts collected so far.']\n",
      "https://api.pushshift.io/reddit/submission/search/?sort_type=created_utc&sort=asc&subreddit=amitheasshole&after=1569775053&before1577836800&size=1000\n",
      "['261953 posts collected so far.']\n",
      "https://api.pushshift.io/reddit/submission/search/?sort_type=created_utc&sort=asc&subreddit=amitheasshole&after=1569865033&before1577836800&size=1000\n",
      "['262953 posts collected so far.']\n",
      "https://api.pushshift.io/reddit/submission/search/?sort_type=created_utc&sort=asc&subreddit=amitheasshole&after=1569948194&before1577836800&size=1000\n",
      "['263953 posts collected so far.']\n",
      "https://api.pushshift.io/reddit/submission/search/?sort_type=created_utc&sort=asc&subreddit=amitheasshole&after=1570038426&before1577836800&size=1000\n",
      "['264953 posts collected so far.']\n",
      "https://api.pushshift.io/reddit/submission/search/?sort_type=created_utc&sort=asc&subreddit=amitheasshole&after=1570125592&before1577836800&size=1000\n",
      "['265953 posts collected so far.']\n",
      "https://api.pushshift.io/reddit/submission/search/?sort_type=created_utc&sort=asc&subreddit=amitheasshole&after=1570223687&before1577836800&size=1000\n",
      "['266953 posts collected so far.']\n",
      "https://api.pushshift.io/reddit/submission/search/?sort_type=created_utc&sort=asc&subreddit=amitheasshole&after=1570328770&before1577836800&size=1000\n",
      "['267953 posts collected so far.']\n",
      "https://api.pushshift.io/reddit/submission/search/?sort_type=created_utc&sort=asc&subreddit=amitheasshole&after=1570427469&before1577836800&size=1000\n",
      "['268953 posts collected so far.']\n",
      "https://api.pushshift.io/reddit/submission/search/?sort_type=created_utc&sort=asc&subreddit=amitheasshole&after=1570524908&before1577836800&size=1000\n",
      "['269953 posts collected so far.']\n",
      "https://api.pushshift.io/reddit/submission/search/?sort_type=created_utc&sort=asc&subreddit=amitheasshole&after=1570617653&before1577836800&size=1000\n",
      "['270953 posts collected so far.']\n",
      "https://api.pushshift.io/reddit/submission/search/?sort_type=created_utc&sort=asc&subreddit=amitheasshole&after=1570700093&before1577836800&size=1000\n",
      "['271953 posts collected so far.']\n",
      "https://api.pushshift.io/reddit/submission/search/?sort_type=created_utc&sort=asc&subreddit=amitheasshole&after=1570785583&before1577836800&size=1000\n",
      "['272953 posts collected so far.']\n",
      "https://api.pushshift.io/reddit/submission/search/?sort_type=created_utc&sort=asc&subreddit=amitheasshole&after=1570872277&before1577836800&size=1000\n",
      "['273953 posts collected so far.']\n",
      "https://api.pushshift.io/reddit/submission/search/?sort_type=created_utc&sort=asc&subreddit=amitheasshole&after=1570978430&before1577836800&size=1000\n",
      "['274953 posts collected so far.']\n",
      "https://api.pushshift.io/reddit/submission/search/?sort_type=created_utc&sort=asc&subreddit=amitheasshole&after=1571067732&before1577836800&size=1000\n",
      "['275953 posts collected so far.']\n",
      "https://api.pushshift.io/reddit/submission/search/?sort_type=created_utc&sort=asc&subreddit=amitheasshole&after=1571159955&before1577836800&size=1000\n",
      "['276953 posts collected so far.']\n",
      "https://api.pushshift.io/reddit/submission/search/?sort_type=created_utc&sort=asc&subreddit=amitheasshole&after=1571250703&before1577836800&size=1000\n",
      "['277953 posts collected so far.']\n",
      "https://api.pushshift.io/reddit/submission/search/?sort_type=created_utc&sort=asc&subreddit=amitheasshole&after=1571345308&before1577836800&size=1000\n",
      "['278953 posts collected so far.']\n",
      "https://api.pushshift.io/reddit/submission/search/?sort_type=created_utc&sort=asc&subreddit=amitheasshole&after=1571446232&before1577836800&size=1000\n",
      "['279953 posts collected so far.']\n",
      "https://api.pushshift.io/reddit/submission/search/?sort_type=created_utc&sort=asc&subreddit=amitheasshole&after=1571550236&before1577836800&size=1000\n",
      "['280953 posts collected so far.']\n",
      "https://api.pushshift.io/reddit/submission/search/?sort_type=created_utc&sort=asc&subreddit=amitheasshole&after=1571652257&before1577836800&size=1000\n",
      "['281953 posts collected so far.']\n",
      "https://api.pushshift.io/reddit/submission/search/?sort_type=created_utc&sort=asc&subreddit=amitheasshole&after=1571726500&before1577836800&size=1000\n",
      "['282953 posts collected so far.']\n",
      "https://api.pushshift.io/reddit/submission/search/?sort_type=created_utc&sort=asc&subreddit=amitheasshole&after=1571812390&before1577836800&size=1000\n",
      "['283953 posts collected so far.']\n",
      "https://api.pushshift.io/reddit/submission/search/?sort_type=created_utc&sort=asc&subreddit=amitheasshole&after=1571903122&before1577836800&size=1000\n",
      "['284953 posts collected so far.']\n",
      "https://api.pushshift.io/reddit/submission/search/?sort_type=created_utc&sort=asc&subreddit=amitheasshole&after=1571993819&before1577836800&size=1000\n",
      "['285953 posts collected so far.']\n",
      "https://api.pushshift.io/reddit/submission/search/?sort_type=created_utc&sort=asc&subreddit=amitheasshole&after=1572091225&before1577836800&size=1000\n",
      "['286953 posts collected so far.']\n",
      "https://api.pushshift.io/reddit/submission/search/?sort_type=created_utc&sort=asc&subreddit=amitheasshole&after=1572195028&before1577836800&size=1000\n",
      "['287953 posts collected so far.']\n",
      "https://api.pushshift.io/reddit/submission/search/?sort_type=created_utc&sort=asc&subreddit=amitheasshole&after=1572294727&before1577836800&size=1000\n",
      "['288953 posts collected so far.']\n",
      "https://api.pushshift.io/reddit/submission/search/?sort_type=created_utc&sort=asc&subreddit=amitheasshole&after=1572379675&before1577836800&size=1000\n",
      "['289953 posts collected so far.']\n",
      "https://api.pushshift.io/reddit/submission/search/?sort_type=created_utc&sort=asc&subreddit=amitheasshole&after=1572465323&before1577836800&size=1000\n",
      "['290953 posts collected so far.']\n",
      "https://api.pushshift.io/reddit/submission/search/?sort_type=created_utc&sort=asc&subreddit=amitheasshole&after=1572553730&before1577836800&size=1000\n",
      "['291953 posts collected so far.']\n",
      "https://api.pushshift.io/reddit/submission/search/?sort_type=created_utc&sort=asc&subreddit=amitheasshole&after=1572648053&before1577836800&size=1000\n",
      "['292953 posts collected so far.']\n",
      "https://api.pushshift.io/reddit/submission/search/?sort_type=created_utc&sort=asc&subreddit=amitheasshole&after=1572735774&before1577836800&size=1000\n",
      "['293953 posts collected so far.']\n",
      "https://api.pushshift.io/reddit/submission/search/?sort_type=created_utc&sort=asc&subreddit=amitheasshole&after=1572827373&before1577836800&size=1000\n",
      "['294953 posts collected so far.']\n",
      "https://api.pushshift.io/reddit/submission/search/?sort_type=created_utc&sort=asc&subreddit=amitheasshole&after=1572907400&before1577836800&size=1000\n",
      "['295953 posts collected so far.']\n",
      "https://api.pushshift.io/reddit/submission/search/?sort_type=created_utc&sort=asc&subreddit=amitheasshole&after=1572991314&before1577836800&size=1000\n",
      "['296953 posts collected so far.']\n",
      "https://api.pushshift.io/reddit/submission/search/?sort_type=created_utc&sort=asc&subreddit=amitheasshole&after=1573076998&before1577836800&size=1000\n",
      "['297953 posts collected so far.']\n",
      "https://api.pushshift.io/reddit/submission/search/?sort_type=created_utc&sort=asc&subreddit=amitheasshole&after=1573165832&before1577836800&size=1000\n",
      "['298953 posts collected so far.']\n",
      "https://api.pushshift.io/reddit/submission/search/?sort_type=created_utc&sort=asc&subreddit=amitheasshole&after=1573256524&before1577836800&size=1000\n",
      "['299953 posts collected so far.']\n",
      "https://api.pushshift.io/reddit/submission/search/?sort_type=created_utc&sort=asc&subreddit=amitheasshole&after=1573350429&before1577836800&size=1000\n",
      "['300953 posts collected so far.']\n",
      "https://api.pushshift.io/reddit/submission/search/?sort_type=created_utc&sort=asc&subreddit=amitheasshole&after=1573447749&before1577836800&size=1000\n",
      "['301953 posts collected so far.']\n",
      "https://api.pushshift.io/reddit/submission/search/?sort_type=created_utc&sort=asc&subreddit=amitheasshole&after=1573530270&before1577836800&size=1000\n",
      "['302953 posts collected so far.']\n",
      "https://api.pushshift.io/reddit/submission/search/?sort_type=created_utc&sort=asc&subreddit=amitheasshole&after=1573623017&before1577836800&size=1000\n",
      "['303953 posts collected so far.']\n",
      "https://api.pushshift.io/reddit/submission/search/?sort_type=created_utc&sort=asc&subreddit=amitheasshole&after=1573711884&before1577836800&size=1000\n",
      "['304953 posts collected so far.']\n",
      "https://api.pushshift.io/reddit/submission/search/?sort_type=created_utc&sort=asc&subreddit=amitheasshole&after=1573802276&before1577836800&size=1000\n",
      "['305953 posts collected so far.']\n",
      "https://api.pushshift.io/reddit/submission/search/?sort_type=created_utc&sort=asc&subreddit=amitheasshole&after=1573911148&before1577836800&size=1000\n",
      "['306953 posts collected so far.']\n",
      "https://api.pushshift.io/reddit/submission/search/?sort_type=created_utc&sort=asc&subreddit=amitheasshole&after=1574011236&before1577836800&size=1000\n",
      "['307953 posts collected so far.']\n",
      "https://api.pushshift.io/reddit/submission/search/?sort_type=created_utc&sort=asc&subreddit=amitheasshole&after=1574099693&before1577836800&size=1000\n",
      "['308953 posts collected so far.']\n",
      "https://api.pushshift.io/reddit/submission/search/?sort_type=created_utc&sort=asc&subreddit=amitheasshole&after=1574188550&before1577836800&size=1000\n",
      "['309953 posts collected so far.']\n",
      "https://api.pushshift.io/reddit/submission/search/?sort_type=created_utc&sort=asc&subreddit=amitheasshole&after=1574275091&before1577836800&size=1000\n",
      "['310953 posts collected so far.']\n",
      "https://api.pushshift.io/reddit/submission/search/?sort_type=created_utc&sort=asc&subreddit=amitheasshole&after=1574359121&before1577836800&size=1000\n",
      "['311953 posts collected so far.']\n",
      "https://api.pushshift.io/reddit/submission/search/?sort_type=created_utc&sort=asc&subreddit=amitheasshole&after=1574443421&before1577836800&size=1000\n",
      "['312953 posts collected so far.']\n",
      "https://api.pushshift.io/reddit/submission/search/?sort_type=created_utc&sort=asc&subreddit=amitheasshole&after=1574536597&before1577836800&size=1000\n",
      "['313953 posts collected so far.']\n",
      "https://api.pushshift.io/reddit/submission/search/?sort_type=created_utc&sort=asc&subreddit=amitheasshole&after=1574625042&before1577836800&size=1000\n",
      "['314953 posts collected so far.']\n",
      "https://api.pushshift.io/reddit/submission/search/?sort_type=created_utc&sort=asc&subreddit=amitheasshole&after=1574708372&before1577836800&size=1000\n",
      "['315953 posts collected so far.']\n",
      "https://api.pushshift.io/reddit/submission/search/?sort_type=created_utc&sort=asc&subreddit=amitheasshole&after=1574787678&before1577836800&size=1000\n",
      "['316953 posts collected so far.']\n",
      "https://api.pushshift.io/reddit/submission/search/?sort_type=created_utc&sort=asc&subreddit=amitheasshole&after=1574871313&before1577836800&size=1000\n",
      "['317953 posts collected so far.']\n",
      "https://api.pushshift.io/reddit/submission/search/?sort_type=created_utc&sort=asc&subreddit=amitheasshole&after=1574960461&before1577836800&size=1000\n",
      "['318953 posts collected so far.']\n",
      "https://api.pushshift.io/reddit/submission/search/?sort_type=created_utc&sort=asc&subreddit=amitheasshole&after=1575047673&before1577836800&size=1000\n",
      "['319953 posts collected so far.']\n",
      "https://api.pushshift.io/reddit/submission/search/?sort_type=created_utc&sort=asc&subreddit=amitheasshole&after=1575125967&before1577836800&size=1000\n",
      "['320953 posts collected so far.']\n",
      "https://api.pushshift.io/reddit/submission/search/?sort_type=created_utc&sort=asc&subreddit=amitheasshole&after=1575209132&before1577836800&size=1000\n",
      "['321953 posts collected so far.']\n",
      "https://api.pushshift.io/reddit/submission/search/?sort_type=created_utc&sort=asc&subreddit=amitheasshole&after=1575290335&before1577836800&size=1000\n",
      "['322953 posts collected so far.']\n",
      "https://api.pushshift.io/reddit/submission/search/?sort_type=created_utc&sort=asc&subreddit=amitheasshole&after=1575357140&before1577836800&size=1000\n",
      "['323953 posts collected so far.']\n",
      "https://api.pushshift.io/reddit/submission/search/?sort_type=created_utc&sort=asc&subreddit=amitheasshole&after=1575431553&before1577836800&size=1000\n",
      "['324953 posts collected so far.']\n",
      "https://api.pushshift.io/reddit/submission/search/?sort_type=created_utc&sort=asc&subreddit=amitheasshole&after=1575513856&before1577836800&size=1000\n",
      "['325953 posts collected so far.']\n",
      "https://api.pushshift.io/reddit/submission/search/?sort_type=created_utc&sort=asc&subreddit=amitheasshole&after=1575598536&before1577836800&size=1000\n",
      "['326953 posts collected so far.']\n",
      "https://api.pushshift.io/reddit/submission/search/?sort_type=created_utc&sort=asc&subreddit=amitheasshole&after=1575685474&before1577836800&size=1000\n",
      "['327953 posts collected so far.']\n",
      "https://api.pushshift.io/reddit/submission/search/?sort_type=created_utc&sort=asc&subreddit=amitheasshole&after=1575774402&before1577836800&size=1000\n",
      "['328953 posts collected so far.']\n",
      "https://api.pushshift.io/reddit/submission/search/?sort_type=created_utc&sort=asc&subreddit=amitheasshole&after=1575860973&before1577836800&size=1000\n",
      "['329953 posts collected so far.']\n",
      "https://api.pushshift.io/reddit/submission/search/?sort_type=created_utc&sort=asc&subreddit=amitheasshole&after=1575941315&before1577836800&size=1000\n",
      "['330953 posts collected so far.']\n",
      "https://api.pushshift.io/reddit/submission/search/?sort_type=created_utc&sort=asc&subreddit=amitheasshole&after=1576020612&before1577836800&size=1000\n",
      "['331953 posts collected so far.']\n",
      "https://api.pushshift.io/reddit/submission/search/?sort_type=created_utc&sort=asc&subreddit=amitheasshole&after=1576109136&before1577836800&size=1000\n",
      "['332953 posts collected so far.']\n",
      "https://api.pushshift.io/reddit/submission/search/?sort_type=created_utc&sort=asc&subreddit=amitheasshole&after=1576201175&before1577836800&size=1000\n",
      "['333953 posts collected so far.']\n",
      "https://api.pushshift.io/reddit/submission/search/?sort_type=created_utc&sort=asc&subreddit=amitheasshole&after=1576280964&before1577836800&size=1000\n",
      "['334953 posts collected so far.']\n",
      "https://api.pushshift.io/reddit/submission/search/?sort_type=created_utc&sort=asc&subreddit=amitheasshole&after=1576371174&before1577836800&size=1000\n",
      "['335953 posts collected so far.']\n",
      "https://api.pushshift.io/reddit/submission/search/?sort_type=created_utc&sort=asc&subreddit=amitheasshole&after=1576451164&before1577836800&size=1000\n",
      "['336953 posts collected so far.']\n",
      "https://api.pushshift.io/reddit/submission/search/?sort_type=created_utc&sort=asc&subreddit=amitheasshole&after=1576533550&before1577836800&size=1000\n",
      "['337953 posts collected so far.']\n",
      "https://api.pushshift.io/reddit/submission/search/?sort_type=created_utc&sort=asc&subreddit=amitheasshole&after=1576608198&before1577836800&size=1000\n",
      "['338953 posts collected so far.']\n",
      "https://api.pushshift.io/reddit/submission/search/?sort_type=created_utc&sort=asc&subreddit=amitheasshole&after=1576685977&before1577836800&size=1000\n",
      "['339953 posts collected so far.']\n",
      "https://api.pushshift.io/reddit/submission/search/?sort_type=created_utc&sort=asc&subreddit=amitheasshole&after=1576764022&before1577836800&size=1000\n",
      "['340953 posts collected so far.']\n",
      "https://api.pushshift.io/reddit/submission/search/?sort_type=created_utc&sort=asc&subreddit=amitheasshole&after=1576837684&before1577836800&size=1000\n",
      "['341953 posts collected so far.']\n",
      "https://api.pushshift.io/reddit/submission/search/?sort_type=created_utc&sort=asc&subreddit=amitheasshole&after=1576904447&before1577836800&size=1000\n",
      "['342953 posts collected so far.']\n",
      "https://api.pushshift.io/reddit/submission/search/?sort_type=created_utc&sort=asc&subreddit=amitheasshole&after=1576986873&before1577836800&size=1000\n",
      "['343953 posts collected so far.']\n",
      "https://api.pushshift.io/reddit/submission/search/?sort_type=created_utc&sort=asc&subreddit=amitheasshole&after=1577067103&before1577836800&size=1000\n",
      "['344953 posts collected so far.']\n",
      "https://api.pushshift.io/reddit/submission/search/?sort_type=created_utc&sort=asc&subreddit=amitheasshole&after=1577141546&before1577836800&size=1000\n",
      "['345953 posts collected so far.']\n",
      "https://api.pushshift.io/reddit/submission/search/?sort_type=created_utc&sort=asc&subreddit=amitheasshole&after=1577212168&before1577836800&size=1000\n",
      "['346953 posts collected so far.']\n",
      "https://api.pushshift.io/reddit/submission/search/?sort_type=created_utc&sort=asc&subreddit=amitheasshole&after=1577294487&before1577836800&size=1000\n",
      "['347953 posts collected so far.']\n",
      "https://api.pushshift.io/reddit/submission/search/?sort_type=created_utc&sort=asc&subreddit=amitheasshole&after=1577369360&before1577836800&size=1000\n",
      "['348953 posts collected so far.']\n",
      "https://api.pushshift.io/reddit/submission/search/?sort_type=created_utc&sort=asc&subreddit=amitheasshole&after=1577433991&before1577836800&size=1000\n",
      "['349953 posts collected so far.']\n",
      "https://api.pushshift.io/reddit/submission/search/?sort_type=created_utc&sort=asc&subreddit=amitheasshole&after=1577511649&before1577836800&size=1000\n",
      "['350953 posts collected so far.']\n",
      "https://api.pushshift.io/reddit/submission/search/?sort_type=created_utc&sort=asc&subreddit=amitheasshole&after=1577593634&before1577836800&size=1000\n",
      "['351953 posts collected so far.']\n",
      "https://api.pushshift.io/reddit/submission/search/?sort_type=created_utc&sort=asc&subreddit=amitheasshole&after=1577666396&before1577836800&size=1000\n",
      "['352953 posts collected so far.']\n",
      "https://api.pushshift.io/reddit/submission/search/?sort_type=created_utc&sort=asc&subreddit=amitheasshole&after=1577739387&before1577836800&size=1000\n",
      "['353953 posts collected so far.']\n",
      "https://api.pushshift.io/reddit/submission/search/?sort_type=created_utc&sort=asc&subreddit=amitheasshole&after=1577818793&before1577836800&size=1000\n",
      "['354953 posts collected so far.']\n"
     ]
    }
   ],
   "source": [
    "def getPushshiftData(after, before):\n",
    "    url = 'https://api.pushshift.io/reddit/submission/search/?sort_type=created_utc&sort=asc&subreddit=amitheasshole&after='+ str(after) +\"&before\"+str(before)+\"&size=1000\"\n",
    "    print(url)\n",
    "    r = requests.get(url)\n",
    "    data = json.loads(r.text)\n",
    "    return data['data']\n",
    "\n",
    "timestamps = []\n",
    "post_ids = []\n",
    "score = []\n",
    "\n",
    "after = min_UTC\n",
    "while int(after) < last_UTC:\n",
    "    data = getPushshiftData(after,last_UTC)\n",
    "    for post in data:\n",
    "        tmp_time = post['created_utc']\n",
    "        tmp_id = post['id']\n",
    "        timestamps.append(tmp_time)\n",
    "        post_ids.append(tmp_id)\n",
    "    after = timestamps[-1]\n",
    "    print([str(len(post_ids)) + \" posts collected so far.\"])\n",
    "    time.sleep(0.1)\n"
   ]
  },
  {
   "cell_type": "code",
   "execution_count": 11,
   "metadata": {},
   "outputs": [
    {
     "name": "stdout",
     "output_type": "stream",
     "text": [
      "https://api.pushshift.io/reddit/submission/search/?sort_type=created_utc&sort=asc&subreddit=amitheasshole&after=1370649600&before1577836800&size=1000\n"
     ]
    }
   ],
   "source": [
    "list = getPushshiftData(1370649600, 1577836800)"
   ]
  },
  {
   "cell_type": "code",
   "execution_count": 12,
   "metadata": {
    "scrolled": true
   },
   "outputs": [
    {
     "name": "stdout",
     "output_type": "stream",
     "text": []
    }
   ],
   "source": [
    "print(list)"
   ]
  },
  {
   "cell_type": "markdown",
   "metadata": {},
   "source": [
    "We'll also create and save separate csv files for post ids and created UTCs."
   ]
  },
  {
   "cell_type": "code",
   "execution_count": 13,
   "metadata": {},
   "outputs": [],
   "source": [
    "d = {'id':post_ids, 'timestamp':timestamps}\n",
    "df = pd.DataFrame(d)\n",
    "df.to_csv(\"post_ids.csv\", index=False)"
   ]
  },
  {
   "cell_type": "code",
   "execution_count": 14,
   "metadata": {},
   "outputs": [],
   "source": [
    "df = pd.read_csv(\"post_ids.csv\")\n",
    "use_posts = df['id'].tolist()"
   ]
  },
  {
   "cell_type": "code",
   "execution_count": 15,
   "metadata": {},
   "outputs": [
    {
     "data": {
      "text/html": [
       "<div>\n",
       "<style scoped>\n",
       "    .dataframe tbody tr th:only-of-type {\n",
       "        vertical-align: middle;\n",
       "    }\n",
       "\n",
       "    .dataframe tbody tr th {\n",
       "        vertical-align: top;\n",
       "    }\n",
       "\n",
       "    .dataframe thead th {\n",
       "        text-align: right;\n",
       "    }\n",
       "</style>\n",
       "<table border=\"1\" class=\"dataframe\">\n",
       "  <thead>\n",
       "    <tr style=\"text-align: right;\">\n",
       "      <th></th>\n",
       "      <th>id</th>\n",
       "      <th>timestamp</th>\n",
       "    </tr>\n",
       "  </thead>\n",
       "  <tbody>\n",
       "    <tr>\n",
       "      <th>0</th>\n",
       "      <td>1fy0bx</td>\n",
       "      <td>1370724175</td>\n",
       "    </tr>\n",
       "    <tr>\n",
       "      <th>1</th>\n",
       "      <td>1ytr72</td>\n",
       "      <td>1393275159</td>\n",
       "    </tr>\n",
       "    <tr>\n",
       "      <th>2</th>\n",
       "      <td>1ytxov</td>\n",
       "      <td>1393278651</td>\n",
       "    </tr>\n",
       "    <tr>\n",
       "      <th>3</th>\n",
       "      <td>1yu29c</td>\n",
       "      <td>1393281184</td>\n",
       "    </tr>\n",
       "    <tr>\n",
       "      <th>4</th>\n",
       "      <td>1yu41e</td>\n",
       "      <td>1393282238</td>\n",
       "    </tr>\n",
       "    <tr>\n",
       "      <th>...</th>\n",
       "      <td>...</td>\n",
       "      <td>...</td>\n",
       "    </tr>\n",
       "    <tr>\n",
       "      <th>354948</th>\n",
       "      <td>eil3lv</td>\n",
       "      <td>1577900691</td>\n",
       "    </tr>\n",
       "    <tr>\n",
       "      <th>354949</th>\n",
       "      <td>eil42u</td>\n",
       "      <td>1577900755</td>\n",
       "    </tr>\n",
       "    <tr>\n",
       "      <th>354950</th>\n",
       "      <td>eil4jh</td>\n",
       "      <td>1577900812</td>\n",
       "    </tr>\n",
       "    <tr>\n",
       "      <th>354951</th>\n",
       "      <td>eil4lx</td>\n",
       "      <td>1577900820</td>\n",
       "    </tr>\n",
       "    <tr>\n",
       "      <th>354952</th>\n",
       "      <td>eil4ns</td>\n",
       "      <td>1577900827</td>\n",
       "    </tr>\n",
       "  </tbody>\n",
       "</table>\n",
       "<p>354953 rows × 2 columns</p>\n",
       "</div>"
      ],
      "text/plain": [
       "            id   timestamp\n",
       "0       1fy0bx  1370724175\n",
       "1       1ytr72  1393275159\n",
       "2       1ytxov  1393278651\n",
       "3       1yu29c  1393281184\n",
       "4       1yu41e  1393282238\n",
       "...        ...         ...\n",
       "354948  eil3lv  1577900691\n",
       "354949  eil42u  1577900755\n",
       "354950  eil4jh  1577900812\n",
       "354951  eil4lx  1577900820\n",
       "354952  eil4ns  1577900827\n",
       "\n",
       "[354953 rows x 2 columns]"
      ]
     },
     "execution_count": 15,
     "metadata": {},
     "output_type": "execute_result"
    }
   ],
   "source": [
    "df"
   ]
  },
  {
   "cell_type": "code",
   "execution_count": 16,
   "metadata": {},
   "outputs": [
    {
     "name": "stdout",
     "output_type": "stream",
     "text": [
      "354953\n"
     ]
    }
   ],
   "source": [
    "print(len(use_posts))"
   ]
  },
  {
   "cell_type": "markdown",
   "metadata": {},
   "source": [
    "Creating a datetime value counts plot with `matplotlib` gives us something similar to what we saw using the Reddit Search earlier:"
   ]
  },
  {
   "cell_type": "code",
   "execution_count": 17,
   "metadata": {},
   "outputs": [],
   "source": [
    "df['timestamp'] = pd.to_datetime(df['timestamp'], unit='s')"
   ]
  },
  {
   "cell_type": "code",
   "execution_count": 18,
   "metadata": {},
   "outputs": [
    {
     "data": {
      "text/plain": [
       "count                  354953\n",
       "unique                 352942\n",
       "top       2019-12-17 21:05:22\n",
       "freq                        3\n",
       "first     2013-06-08 20:42:55\n",
       "last      2020-01-01 17:47:07\n",
       "Name: timestamp, dtype: object"
      ]
     },
     "execution_count": 18,
     "metadata": {},
     "output_type": "execute_result"
    }
   ],
   "source": [
    "df['timestamp'].describe()"
   ]
  },
  {
   "cell_type": "code",
   "execution_count": 19,
   "metadata": {},
   "outputs": [
    {
     "data": {
      "text/plain": [
       "<matplotlib.axes._subplots.AxesSubplot at 0x121854130>"
      ]
     },
     "execution_count": 19,
     "metadata": {},
     "output_type": "execute_result"
    },
    {
     "data": {
      "image/png": "[encoded data removed]",
      "text/plain": [
       "<Figure size 432x288 with 1 Axes>"
      ]
     },
     "metadata": {
      "needs_background": "light"
     },
     "output_type": "display_data"
    }
   ],
   "source": [
    "df['timestamp'].dt.date.value_counts().plot()"
   ]
  },
  {
   "cell_type": "markdown",
   "metadata": {},
   "source": [
    "### Step 2: Scraping with PRAW"
   ]
  },
  {
   "cell_type": "markdown",
   "metadata": {},
   "source": [
    "Now we'll create a list of post ids from the dataframe we created in step 1."
   ]
  },
  {
   "cell_type": "code",
   "execution_count": 20,
   "metadata": {},
   "outputs": [],
   "source": [
    "use_posts = df['id'].tolist()"
   ]
  },
  {
   "cell_type": "code",
   "execution_count": 21,
   "metadata": {},
   "outputs": [
    {
     "data": {
      "text/plain": []
     },
     "execution_count": 21,
     "metadata": {},
     "output_type": "execute_result"
    }
   ],
   "source": [
    "use_posts"
   ]
  },
  {
   "cell_type": "markdown",
   "metadata": {},
   "source": [
    "We'll make sure we're requesting a read-only Reddit instance:"
   ]
  },
  {
   "cell_type": "code",
   "execution_count": 22,
   "metadata": {},
   "outputs": [],
   "source": [
    "reddit.read_only = True"
   ]
  },
  {
   "cell_type": "code",
   "execution_count": 23,
   "metadata": {},
   "outputs": [
    {
     "name": "stdout",
     "output_type": "stream",
     "text": [
      "354953\n"
     ]
    }
   ],
   "source": [
    "print(len(use_posts))"
   ]
  },
  {
   "cell_type": "code",
   "execution_count": null,
   "metadata": {},
   "outputs": [
    {
     "name": "stdout",
     "output_type": "stream",
     "text": [
      "0\n",
      "1000\n"
     ]
    }
   ],
   "source": [
    "f = open('subreddit_posts_out.csv',\"w\") \n",
    "writer = csv.writer(f, quoting=csv.QUOTE_ALL)\n",
    "header = [\"id\",\"timestamp\",\"title\",\"body\",\"edited\",\"verdict\",\"score\",\"num_comments\"]\n",
    "writer.writerow(header)\n",
    "counter = 0\n",
    "for idx in use_posts:\n",
    "    post = reddit.submission(idx)\n",
    "\n",
    "    score = post.score\n",
    "    \n",
    "    if score >= 3:\n",
    "        title = post.title\n",
    "        body = post.selftext\n",
    "        edited = str(post.edited)\n",
    "        num_comments = post.num_comments\n",
    "        timestamp = post.created_utc\n",
    "        verdict = post.link_flair_text \n",
    "        if not verdict:\n",
    "            verdict =  \"NA\" \n",
    "            \n",
    "        line_stuff = [idx,timestamp,title,body,edited,verdict,score,num_comments]\n",
    "        writer.writerow(line_stuff)\n",
    "    else:\n",
    "        line_stuff = [idx,\"NA\",\"NA\",\"NA\",\"NA\",\"NA\",score,\"NA\"]\n",
    "        writer.writerow(line_stuff)\n",
    "\n",
    "    if counter % 1000 == 0:\n",
    "        print(counter)\n",
    "    counter += 1\n",
    "\n",
    "f.close()"
   ]
  },
  {
   "cell_type": "markdown",
   "metadata": {},
   "source": [
    "### Step 3: Cleaning and Merging"
   ]
  },
  {
   "cell_type": "markdown",
   "metadata": {},
   "source": [
    "#### Cleaning the Data"
   ]
  },
  {
   "cell_type": "markdown",
   "metadata": {},
   "source": [
    "We can define a function to clean the data we've collected. We'll start by useing the `lower` method on the `verdict` key:"
   ]
  },
  {
   "cell_type": "code",
   "execution_count": null,
   "metadata": {},
   "outputs": [],
   "source": [
    "df['verdict'] = df['verdict'].str.lower()"
   ]
  },
  {
   "cell_type": "markdown",
   "metadata": {},
   "source": [
    "Next, we'll use the `replace` method to add some consistency to our verdicts:"
   ]
  },
  {
   "cell_type": "code",
   "execution_count": null,
   "metadata": {},
   "outputs": [],
   "source": [
    "df['verdict'] = df['verdict'].str.replace(\"a--hole|a-hole\",\"asshole\") "
   ]
  },
  {
   "cell_type": "markdown",
   "metadata": {},
   "source": [
    "We'll define a `valid_list` so that our dataset only contains submissions that received valid verdicts.  We'll also use `replace` to remove any edits that could potentially spoil the verdict."
   ]
  },
  {
   "cell_type": "code",
   "execution_count": null,
   "metadata": {},
   "outputs": [],
   "source": [
    "valid_list = [\"asshole\",\"not the asshole\",\"everyone sucks\",\"no assholes here\"]\n",
    "df_use = df[df['verdict'].isin(valid_list)]\n",
    "df_use['body'] = df_use['body'].str.replace(\"(edit|update).*?(YTA|a-|ass|\\\\sta\\\\s)(.*)\",\"\",case=False)"
   ]
  },
  {
   "cell_type": "markdown",
   "metadata": {},
   "source": [
    "We can generate a `gone_list` to get rid of posts that have been removed or deleted:"
   ]
  },
  {
   "cell_type": "code",
   "execution_count": null,
   "metadata": {},
   "outputs": [],
   "source": [
    "gone_list = [\"[deleted]\",\"[removed]\",\"\"]\n",
    "df_use = df_use[df_use['body'].isin(gone_list)==False]\n",
    "print(\"After removing deleted posts, there are \" +  str(len(df_use)) + \" posts left.\")"
   ]
  },
  {
   "cell_type": "markdown",
   "metadata": {},
   "source": [
    "Since r/AmItheAsshole has four potential verdicts, we'll convert these into a binary variable.  Here, \"asshole\" and \"everyone sucks here\" will both be considered `is_asshole`, while all other verdicts will not."
   ]
  },
  {
   "cell_type": "code",
   "execution_count": null,
   "metadata": {},
   "outputs": [],
   "source": [
    "df_use[\"is_asshole\"] = [1 if x in [\"asshole\",\"everyone sucks\"] else 0 for x in df_use[\"verdict\"]]"
   ]
  },
  {
   "cell_type": "markdown",
   "metadata": {},
   "source": [
    "Altogether, our `clean_scrape` function will look like this: "
   ]
  },
  {
   "cell_type": "code",
   "execution_count": null,
   "metadata": {},
   "outputs": [],
   "source": [
    "def clean_scrape(df):\n",
    "\n",
    "    df['verdict'] = df['verdict'].str.lower()\n",
    "\n",
    "    df['verdict'] = df['verdict'].str.replace(\"a--hole|a-hole\",\"asshole\") \n",
    "\n",
    "    valid_list = [\"asshole\",\"not the asshole\",\"everyone sucks\",\"no assholes here\"]\n",
    "    \n",
    "    df_use = df[df['verdict'].isin(valid_list)]\n",
    "    \n",
    "    df_use['body'] = df_use['body'].str.replace(\"(edit|update).*?(YTA|a-|ass|\\\\sta\\\\s)(.*)\",\"\",case=False)\n",
    "\n",
    "    gone_list = [\"[deleted]\",\"[removed]\",\"\"]\n",
    "    \n",
    "    df_use = df_use[df_use['body'].isin(gone_list)==False]\n",
    "    \n",
    "    print(\"After removing deleted posts, there are \" +  str(len(df_use)) + \" posts left.\")\n",
    "    \n",
    "    df_use[\"is_asshole\"] = [1 if x in [\"asshole\",\"everyone sucks\"] else 0 for x in df_use[\"verdict\"]]\n",
    "\n",
    "    return(df_use)"
   ]
  },
  {
   "cell_type": "markdown",
   "metadata": {},
   "source": [
    "#### Merging the Data"
   ]
  },
  {
   "cell_type": "markdown",
   "metadata": {},
   "source": [
    "We can also use the `concat` method from pandas to merge our old and new datasets.  We'll `drop_duplicates` from the concatenated dataset as well. "
   ]
  },
  {
   "cell_type": "code",
   "execution_count": null,
   "metadata": {},
   "outputs": [],
   "source": [
    "def merge_scrape(old, new):\n",
    "    # old and new are pandas dataframes. should have the same columns\n",
    "    old = pd.concat([old,new])\n",
    "    old = old.drop_duplicates()\n",
    "    return(old)\n",
    "\n",
    "raw = pd.read_csv(\"aita_raw.csv\")\n",
    "grand = clean_scrape(raw)\n",
    "\n",
    "print(\"There are now \" +  str(len(grand)) + \" cleaned posts.\")\n",
    "\n",
    "grand.to_csv(\"aita_clean.csv\",index=False)"
   ]
  },
  {
   "cell_type": "markdown",
   "metadata": {},
   "source": [
    "Finally, we'll use our `clean_scrape` function on the newly concatenated datasets:"
   ]
  },
  {
   "cell_type": "code",
   "execution_count": null,
   "metadata": {},
   "outputs": [],
   "source": [
    "raw = pd.read_csv(\"aita_raw.csv\")\n",
    "grand = clean_scrape(raw)\n",
    "\n",
    "print(\"There are now \" +  str(len(grand)) + \" cleaned posts.\")\n"
   ]
  }
 ],
 "metadata": {
  "kernelspec": {
   "display_name": "Python 3",
   "language": "python",
   "name": "python3"
  },
  "language_info": {
   "codemirror_mode": {
    "name": "ipython",
    "version": 3
   },
   "file_extension": ".py",
   "mimetype": "text/x-python",
   "name": "python",
   "nbconvert_exporter": "python",
   "pygments_lexer": "ipython3",
   "version": "3.8.3"
  }
 },
 "nbformat": 4,
 "nbformat_minor": 4
}
