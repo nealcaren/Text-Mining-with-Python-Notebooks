{
 "cells": [
  {
   "cell_type": "markdown",
   "metadata": {},
   "source": [
    "# Case Study, Part 2: Scraping Reddit with PRAW"
   ]
  },
  {
   "cell_type": "markdown",
   "metadata": {},
   "source": [
    "Although Pushshift is a wonderful resource when it comes to scraping Reddit data, it's not infallible. In some cases, important data will be missing from the Pushshift API, and you'll need to supplement the Pushshift data with the metadata available through Reddit's official API. \n",
    "\n",
    "Luckily, we can accomplish this using the [PRAW](https://praw.readthedocs.io/en/latest/) Reddit API Wrapper. This chapter will go through the steps necessary to supplement Pushshift data using PRAW."
   ]
  },
  {
   "cell_type": "markdown",
   "metadata": {},
   "source": [
    "## Setup"
   ]
  },
  {
   "cell_type": "code",
   "execution_count": 1,
   "metadata": {},
   "outputs": [
    {
     "name": "stdout",
     "output_type": "stream",
     "text": [
      "Requirement already satisfied: praw in /opt/anaconda3/lib/python3.7/site-packages (7.0.0)\n",
      "Requirement already satisfied: websocket-client>=0.54.0 in /opt/anaconda3/lib/python3.7/site-packages (from praw) (0.57.0)\n",
      "Requirement already satisfied: update-checker>=0.16 in /opt/anaconda3/lib/python3.7/site-packages (from praw) (0.17)\n",
      "Requirement already satisfied: prawcore<2.0,>=1.3.0 in /opt/anaconda3/lib/python3.7/site-packages (from praw) (1.3.0)\n",
      "Requirement already satisfied: six in /opt/anaconda3/lib/python3.7/site-packages (from websocket-client>=0.54.0->praw) (1.14.0)\n",
      "Requirement already satisfied: requests>=2.3.0 in /opt/anaconda3/lib/python3.7/site-packages (from update-checker>=0.16->praw) (2.22.0)\n",
      "Requirement already satisfied: chardet<3.1.0,>=3.0.2 in /opt/anaconda3/lib/python3.7/site-packages (from requests>=2.3.0->update-checker>=0.16->praw) (3.0.4)\n",
      "Requirement already satisfied: idna<2.9,>=2.5 in /opt/anaconda3/lib/python3.7/site-packages (from requests>=2.3.0->update-checker>=0.16->praw) (2.8)\n",
      "Requirement already satisfied: certifi>=2017.4.17 in /opt/anaconda3/lib/python3.7/site-packages (from requests>=2.3.0->update-checker>=0.16->praw) (2019.11.28)\n",
      "Requirement already satisfied: urllib3!=1.25.0,!=1.25.1,<1.26,>=1.21.1 in /opt/anaconda3/lib/python3.7/site-packages (from requests>=2.3.0->update-checker>=0.16->praw) (1.25.8)\n",
      "Note: you may need to restart the kernel to use updated packages.\n"
     ]
    }
   ],
   "source": [
    "pip install praw"
   ]
  },
  {
   "cell_type": "code",
   "execution_count": 2,
   "metadata": {},
   "outputs": [],
   "source": [
    "import praw"
   ]
  },
  {
   "cell_type": "code",
   "execution_count": 3,
   "metadata": {},
   "outputs": [],
   "source": [
    "import requests\n",
    "import pandas as pd\n",
    "import json\n",
    "import csv\n",
    "import time"
   ]
  },
  {
   "cell_type": "markdown",
   "metadata": {},
   "source": [
    "## Creating a Reddit App"
   ]
  },
  {
   "cell_type": "markdown",
   "metadata": {},
   "source": [
    "In order to use PRAW, you'll need to develop your own application on Reddit. In order to do *that*, you'll need to create a Reddit account. \n",
    "\n",
    "\n",
    "Once you've created an account on Reddit, you can navigate to the [developed applications](https://www.reddit.com/prefs/apps) page from Reddit preferences. Here, you'll see a button prompting you to \"create app.\" Click it, and you should see the following: "
   ]
  },
  {
   "cell_type": "markdown",
   "metadata": {},
   "source": [
    "![create application](https://i.snipboard.io/zKZ3vq.jpg)"
   ]
  },
  {
   "cell_type": "markdown",
   "metadata": {},
   "source": [
    "Make sure you're creating a **script** app, as this is what we'll need in order to make requests with PRAW. Feel free to name and describe the app as you see fit, then click the button at the bottom to create your app. "
   ]
  },
  {
   "cell_type": "markdown",
   "metadata": {},
   "source": [
    "For additional guidance on how to develop your own Reddit application, see [here](https://github.com/reddit-archive/reddit/wiki/OAuth2-Quick-Start-Example#first-steps)."
   ]
  },
  {
   "cell_type": "markdown",
   "metadata": {},
   "source": [
    "## Obtaining a Reddit Instance"
   ]
  },
  {
   "cell_type": "markdown",
   "metadata": {},
   "source": [
    "Now that we've created an application on Reddit, we can obtain Reddit instances using PRAW. While it's possible to create two separate types of instance -- read-only or authorized -- for the sake of this chapter we'll focus on obtaining a read-only instance. "
   ]
  },
  {
   "cell_type": "markdown",
   "metadata": {},
   "source": [
    "This is where the script application we just created becomes important. We'll need to provide our `client-id`, our `client_secret`, and our `user_agent` in order to obtain a read-only Reddit instance:\n",
    "\n",
    "*Note*: You'll want to keep this information as confidential as possible while still accessing the data you need. "
   ]
  },
  {
   "cell_type": "code",
   "execution_count": 5,
   "metadata": {},
   "outputs": [],
   "source": [
    "reddit = praw.Reddit(client_id=\"my client id\",\n",
    "                     client_secret=\"my client secret\",\n",
    "                     user_agent=\"my user agent\")"
   ]
  },
  {
   "cell_type": "markdown",
   "metadata": {},
   "source": [
    "With the information from our script application, we'll be able to `print` a read-only Reddit instance. As with Pushshift, we'll have to determine whether we'd like to look at data for submissions or comments.\n"
   ]
  },
  {
   "cell_type": "markdown",
   "metadata": {},
   "source": [
    "As an example, below are the 10 \"hottest\" submissions from [r/MakeupRehab](https://www.reddit.com/r/MakeupRehab/), along with submission authors, titles, scores, and body text: "
   ]
  },
  {
   "cell_type": "code",
   "execution_count": 16,
   "metadata": {
    "scrolled": true
   },
   "outputs": [
    {
     "name": "stdout",
     "output_type": "stream",
     "text": [
      "True\n",
      "toyaqueen\n",
      "Megathread: COVID-19 / Coronavirus Resource and Discussion\n",
      "43\n",
      "Hi everyone,\n",
      "\n",
      "r/DISCLAIMER: This is not to be taken as a post for health information or precautions on the novel coronavirus pandemic. PLEASE keep up-to-date via your local governments and health representatives.\n",
      "\n",
      "As we all know by now, the novel coronavirus is impacting daily life all over the globe. Here in MUR, you may have already seen some of our fellow members post about struggles directly related to the virus - having to move suddenly and unexpectedly, job losses, trying to deal with the stress, seeing which companies are being shady and more. With that in mind, feel free to use this thread as the hub for any conversations you want to have on this topic.\n",
      "\n",
      "We’ve decided to create a megathread that will be updated with resources from other subs (the crosspost rule will be lifted for the purposes of this thread only), relevant to the needs and interests of the community to use during this trying time for many of us.  If you see more, comment below and I will edit this to add if appropriate.\n",
      "\n",
      "Legal/Finance Resources:\n",
      "\n",
      "r/personalfinance:  [Coronavirus Megathread](https://www.reddit.com/r/personalfinance/comments/fhrfqo/coronavirus_megathread_resources_discussion_and/), [Job Loss Megathread](https://www.reddit.com/r/personalfinance/comments/fkyu8h/job_loss_megathread_unemployment_resources/)\n",
      "\n",
      "r/legaladvice: [FAQ](https://www.reddit.com/r/legaladvice/comments/fgpvcv/covid19_faq_a_workinprogress/)\n",
      "\n",
      "Beauty Companies Status:\n",
      "\n",
      "r/MakeupAddiction: [Ulta Closes](https://www.reddit.com/r/MakeupAddiction/comments/fkepbx/ulta_announces_that_all_locations_will_be_closing/)\n",
      "\n",
      "r/Sephora: [SiJCP Remain Open](https://www.reddit.com/r/Sephora/comments/fk0ecr/remember_your_sijcps/); [SiJCP Employee Info](https://www.reddit.com/r/Sephora/comments/fkfm2t/sijcp_employe_info/); [Sephora Closing](https://www.reddit.com/r/Sephora/comments/fjurja/effective_tomorrow_at_5pm_all_sephora_stores_will/)\n",
      "\n",
      "r/Makeup: [Sephora Closing](https://www.reddit.com/r/Makeup/comments/fjyscd/update_sephora_closing_all_retail_stores/)\n",
      "\n",
      "r/muacjdiscussion: [ColourPop Shipping Center Closing](https://www.reddit.com/r/muacjdiscussion/comments/fnbg1k/colourpop_shipping_center_closed/);  [3/30/20 Update - ULTA Stores will remain closed](https://www.reddit.com/r/muacjdiscussion/comments/fruxhb/ulta_stores_will_continue_to_remain_closed/)\n",
      "\n",
      "[TJX Companies (TJ Maxx, Marshall's, etc) COVID-19 Closure Announcement](https://www.tjx.com/docs/default-source/default-document-library/a-message-from-the-tjx-companies-inc.pdf) \\[If you see discussions on Reddit from employees, please share!\\]\n",
      "\n",
      "Mental Health Resources:\n",
      "\n",
      "r/BPD: [Covid-19 Megathread](https://www.reddit.com/r/BPD/comments/fkvejt/covid19_megathread/)\n",
      "\n",
      "&#x200B;\n",
      "\n",
      "I will also use the comments in this thread to create specific quarantine related activities that we can do together while we’re under quarantine/isolation/distancing beginning tomorrow, Saturday the 21st - if you have anything you want to see, feel free to comment! We’ve always helped each other out in this community, and this virus has not changed that.\n",
      "\n",
      "\\-MUR Mod Team\n",
      "AutoModerator\n",
      "Willpower Wednesday - May 27, 2020\n",
      "4\n",
      "This thread is to keep each other grounded as we pursue low-buy or no-buy goals. The temptation is strong, so exercise your willpower with your fellow members!\n",
      "coffeeczar\n",
      "I stopped wearing foundation!\n",
      "190\n",
      "I  was obsessed with finding my HG foundation and spending too much money at Sephora/Ulta trying to find my perfect match. I've always struggled with acne since puberty (and now have adult acne and use tret but still have breakouts at 31).\n",
      "\n",
      "Since stay at home, I stopped wearing foundation and use my tinted CeraVe Mineral SPF as my moisturizer, sunscreen, and sheer wash of color all in one. And my acne? IT'S GONE! Prior to this, I was using Shiseido Syncro Skin, so I ran the ingredients on CosDNA and it has an ingredient 5 out of 5 on the comedogenic scale! No wonder I had so many breakouts this winter!  This prompted me to check my other foundations. My summer foundation (Smashbox Hydrating 15Hr) also has a comedogenic ingredient.  So I had to toss those two foundations. Everytime I get an itch to purchase a foundation I check CosDNA and always find a problematic ingredient (either fragrance or pore clogging).\n",
      "\n",
      "I will now only use non-comedogenic tinted mineral SPF. My skin has never looked better and my wallet is happier too :) I found my Maybelline AgeRewind works wonders as a foundation for the special occasions I might want more coverage.\n",
      "\n",
      "I'm so glad stay at home allowed me to make this discovery!\n",
      "FeistyEmploy1\n",
      "I placed it all back!!\n",
      "30\n",
      "I woke up the other day, checked my email and saw Too Faced had a 25% off sale, loaded up my cart with things I wanted but didn’t have yet, and lay there ready to check out.\n",
      "\n",
      "As I placed the code in, I noticed some of the sale things weren’t discounting. I started looking for replacement products at ‘full price’ so I could use the 25% off on them instead. Something similar but one I didn’t have....\n",
      "That was when I really took note of what I was doing. \n",
      "\n",
      "I was worried about work, concerned about getting everything done after the holiday weekend, and that high I always get when buying makeup was there.\n",
      "\n",
      "I realized the things I was going to buy weren’t anything I couldn’t wait for a better sale for. I also have much too many things now. I didn’t need another highlighter, blush, setting powder, or bronzer. It takes FOREVER to pan them and if you have more than one, that is enough. Even better when you find the one that WORKS! \n",
      "\n",
      "Eyeshadow palettes are my weakness and I wanted the newest launch. \n",
      "\n",
      "Why? \n",
      "\n",
      "I easily have most of those shades BUT that palette looked so good in that arrangement. I didn’t need it. \n",
      "\n",
      "So I placed it all back, closed my phone, and got up. \n",
      "Easy as that- no money spent. \n",
      "\n",
      "Priceless moment for me!!\n",
      "beautyrituals\n",
      "HLP sigh....\n",
      "67\n",
      "I really like Hannah Louise Poston. She has inspired me to embrace my creative/artistic side, she has introduced me to ideas/concepts/books I wouldn't have found interesting without her perspective... seeing her do her thing in 2018 has made me feel like I don't have to deal with wanting/buying/decluttering cycles forever. Like I can do this differently, and there's sort of a club of people who are consuming carefully and still having fun.\n",
      "\n",
      "Lately, I always found a way to explain away all of her shopping, reviews, copious declutters...and the re-clutters with more stuff. I wanted to support her channel, especially during this pandemic. But I just can't watch her newer videos anymore. \n",
      "\n",
      "Why does she talk about her own money issues during the pandemic, then keeps on buying and showing luxury make-up...? I just don't recognize her anymore. \n",
      "I know this is a parasocial relationship at best, and that she doesn't owe me an unconsumerist channel or smthg like that... but I feel let down somehow. Me, a young Gen X member in my 30s, feeling dissappointed by an influencer. That feels whacky. \n",
      "Have you felt like that about an influencer before? Any thoughts?\n",
      "kittenpandas\n",
      "Finding it hard to throw away old unused skincare products\n",
      "8\n",
      "I have a box of skin care products and assorted makeup that I bought/got in subscription boxes that I’ve never opened or used once before deciding on patch test later. I cancelled my subscriptions over a year ago and haven’t bought anything random since then so they are all at least a year or two old, and definitely expired by now, but I can’t bring myself to throw it all away. Sometimes having a box of stuff to look at/organize brings some order to my life or I get some comfort from knowing I have a box stores away of goodies. But sometimes I get really annoyed at myself thinking that it’s such a waste that I didn’t actually use any of it. Just went to look for some night cream to try and was so annoyed that everything in the box was useless for actually using and needed to rant.\n",
      "AkiraRosenthal\n",
      "Hourglass Veil Translucent Setting Powder was too Expensive So I made my own\n",
      "233\n",
      "I was lusting over a gorgeous luminous setting powder and had my eyes on the Hourglass Veil Translucent Setting Powder. But the price is too steep for basically powder. For reference, I use the RCMA No Colour Translucent Powder which is affordable for a massive amount of product.\n",
      "\n",
      "Then swatching and swatching it made me realise, it is all just shimmer in a powder. So, I crushed up highlighters that I wasn't too fond off. Note: I had lots of highlighters and was wanting to pan them, but they take years.\n",
      "\n",
      "Then I mixed my crushed up highlighters with my RCMA powder and boom, my amazing gorgeous luminous powder has arrived.\n",
      "\n",
      "I found this amazing as I go through loose powder much quicker than pressed powder, so this DIY not only helped pan my highlighters, but also helped save a kidney to buy this powder.\n",
      "boogieforward\n",
      "Intuitive Shopping: Life After RONB\n",
      "37\n",
      "Inspired by [this post](https://www.reddit.com/r/MakeupRehab/comments/gr0kk8/makeup_rehabbers_and_at_what_point_did_you_feel/) about when you are really done with the journey, I realize that I'm in the stage of \"intuitive shopping\" (a la intuitive eating), where I don't have hard and fast restrictions but I try my best to self-moderate based on listening to how I'm feeling and considering whether the item I want really fills a gap.\n",
      "\n",
      "I've been really good the past few years. In fact, I lost interest in makeup communities and just chugged along with my own routine just fine, with a few purchases here and there, mostly replacements.\n",
      "\n",
      "This past month in quarantine has brought me back into makeup. Mostly excitement at techniques and ideas and artistry, but along with it the allure of shiny and new and different. I've spent hours looking at products when I had so many other things I could've done. I have no issue with learning new techniques, but endless researching of products is what brought me to rehab in the first place.\n",
      "\n",
      "I discovered a secondhand market with deep discounts on products and I realize now that it is a strong trigger for me. I've ruminated over the items in my cart for days, and only today do I finally feel more sane looking at them. It's colored dust for which I have the same color already. What is my endgame in buying it, even at almost 90% off MSRP? Will it become just another item to pan once it arrives?\n",
      "\n",
      "So just like my emotional eating, makeup rehabbing has its own ups and downs and getting back on the horse. All in all, I'm still happy and excited at the new techniques I've learned and tried over the past few weeks. I still love my new nail shape that I only recently learned to perfect (using only things I already own!). I just wish it wasn't so wrapped up in wanting and shopping for me.\n",
      "\n",
      "Anyone else here like me?\n",
      "poloshirtsarecool\n",
      "Tips for makeup when wearing a mask at an office setting ?\n",
      "3\n",
      "\n",
      "hecking-gecks\n",
      "Help With Repurposing an ABH Aurora Glow Kit\n",
      "7\n",
      "This sub has been a game changer and I am currently am on a no waste/ no buy  while I work through all my products. I have a ABH Aurora Glow Kit that has been smashed to smithereens twice. The first time I re-pressed all the powders. They more or less worked the same. Not long after I fixed it, they smashed all over again.  I don’t want to throw out 40 bucks worth of product that is otherwise still good to use. Other than putting it in little jars and using it like a loose powder, what else can I do with it? I was thinking maybe adding it to lotion? Or maybe making it into a eyeshadow?? Lipstick?? What are the best ways for me to repurpose all this expensive product? Thanks guys!\n"
     ]
    }
   ],
   "source": [
    "print(reddit.read_only)\n",
    "for submission in reddit.subreddit(\"MakeupRehab\").hot(limit=10):\n",
    "    print(submission.author)\n",
    "    print(submission.title)\n",
    "    print(submission.score)  \n",
    "    print(submission.selftext)"
   ]
  },
  {
   "cell_type": "markdown",
   "metadata": {},
   "source": [
    "**NOTE**: PRAW will not allow you to create instances for quarantined or banned subreddits. Attempting to do so will return 403 and 404 Errors, respectively. "
   ]
  },
  {
   "cell_type": "markdown",
   "metadata": {},
   "source": [
    "## Filling in gaps in the Pushshift API"
   ]
  },
  {
   "cell_type": "markdown",
   "metadata": {},
   "source": [
    "While Pushshift is a great entryway into scraping data from Reddit, you'll occasionally run into some notable gaps in available data.\n",
    "\n",
    "Using the API's [Reddit Search](https://redditsearch.io/) referenced at the end of Part 1, we can see how scope out any potential holes in subreddit data before going through the process of scraping that data ourselves. "
   ]
  },
  {
   "cell_type": "markdown",
   "metadata": {},
   "source": [
    "As an example, let's look at [r/AmItheAsshole](https://www.reddit.com/r/AmItheAsshole/):"
   ]
  },
  {
   "cell_type": "markdown",
   "metadata": {},
   "source": [
    "![r/AmItheAsshole](https://i.snipboard.io/BwiqKY.jpg)"
   ]
  },
  {
   "cell_type": "markdown",
   "metadata": {},
   "source": [
    "The data visualizations available through Pushshift stand in pretty stark contrast to r/AmItheAsshole's creation in June 2013. "
   ]
  },
  {
   "cell_type": "code",
   "execution_count": null,
   "metadata": {},
   "outputs": [],
   "source": []
  }
  ],
  "metadata": {
  "kernelspec": {
   "display_name": "Python 3",
   "language": "python",
   "name": "python3"
  },
  "language_info": {
   "codemirror_mode": {
    "name": "ipython",
    "version": 3
   },
   "file_extension": ".py",
   "mimetype": "text/x-python",
   "name": "python",
   "nbconvert_exporter": "python",
   "pygments_lexer": "ipython3",
   "version": "3.7.6"
  }
  },
  "nbformat": 4,
  "nbformat_minor": 4
  }
