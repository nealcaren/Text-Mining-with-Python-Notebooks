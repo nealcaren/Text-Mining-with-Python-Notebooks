{
 "cells": [
  {
   "cell_type": "markdown",
   "metadata": {},
   "source": [
    "# Case Study, Part 2: Scraping Reddit with PRAW"
   ]
  },
  {
   "cell_type": "markdown",
   "metadata": {},
   "source": [
    "Although Pushshift is a wonderful resource when it comes to scraping Reddit data, it's not infallible. In some cases, important data will be missing from the Pushshift API, and you'll need to supplement the Pushshift data with the metadata available through Reddit's official API. \n",
    "\n",
    "Luckily, we can accomplish this using the [PRAW](https://praw.readthedocs.io/en/latest/) Reddit API Wrapper. This chapter will go through the steps necessary to supplement Pushshift data using PRAW."
   ]
  },
  {
   "cell_type": "markdown",
   "metadata": {},
   "source": [
    "## Setup"
   ]
  },
  {
   "cell_type": "code",
   "execution_count": null,
   "metadata": {},
   "outputs": [
    {
     "name": "stdout",
     "output_type": "stream",
     "text": []
    }
   ],
   "source": [
    "pip install praw"
   ]
  },
  {
   "cell_type": "code",
   "execution_count": 2,
   "metadata": {},
   "outputs": [],
   "source": [
    "import praw"
   ]
  },
  {
   "cell_type": "code",
   "execution_count": 3,
   "metadata": {},
   "outputs": [],
   "source": [
    "import requests\n",
    "import pandas as pd\n",
    "import json\n",
    "import csv\n",
    "import time"
   ]
  },
  {
   "cell_type": "markdown",
   "metadata": {},
   "source": [
    "## Creating a Reddit App"
   ]
  },
  {
   "cell_type": "markdown",
   "metadata": {},
   "source": [
    "In order to use PRAW, you'll need to develop your own application on Reddit. In order to do *that*, you'll need to create a Reddit account. \n",
    "\n",
    "\n",
    "Once you've created an account on Reddit, you can navigate to the [developed applications](https://www.reddit.com/prefs/apps) page from Reddit preferences. Here, you'll see a button prompting you to \"create app.\" Click it, and you should see the following: "
   ]
  },
  {
   "cell_type": "markdown",
   "metadata": {},
   "source": [
    "![create application](https://i.snipboard.io/zKZ3vq.jpg)"
   ]
  },
  {
   "cell_type": "markdown",
   "metadata": {},
   "source": [
    "Make sure you're creating a **script** app, as this is what we'll need in order to make requests with PRAW. Feel free to name and describe the app as you see fit, then click the button at the bottom to create your app. "
   ]
  },
  {
   "cell_type": "markdown",
   "metadata": {},
   "source": [
    "For additional guidance on how to develop your own Reddit application, see [here](https://github.com/reddit-archive/reddit/wiki/OAuth2-Quick-Start-Example#first-steps)."
   ]
  },
  {
   "cell_type": "markdown",
   "metadata": {},
   "source": [
    "## Obtaining a Reddit Instance"
   ]
  },
  {
   "cell_type": "markdown",
   "metadata": {},
   "source": [
    "Now that we've created an application on Reddit, we can obtain Reddit instances using PRAW. While it's possible to create two separate types of instance -- read-only or authorized -- for the sake of this chapter we'll focus on obtaining a read-only instance. "
   ]
  },
  {
   "cell_type": "markdown",
   "metadata": {},
   "source": [
    "This is where the script application we just created becomes important. We'll need to provide our `client-id`, our `client_secret`, and our `user_agent` in order to obtain a read-only Reddit instance:\n",
    "\n",
    "*Note*: You'll want to keep this information as confidential as possible while still accessing the data you need. "
   ]
  },
  {
   "cell_type": "code",
   "execution_count": 5,
   "metadata": {},
   "outputs": [],
   "source": [
    "reddit = praw.Reddit(client_id=\"my client id\",\n",
    "                     client_secret=\"my client secret\",\n",
    "                     user_agent=\"my user agent\")"
   ]
  },
  {
   "cell_type": "markdown",
   "metadata": {},
   "source": [
    "With the information from our script application, we'll be able to `print` a read-only Reddit instance. As with Pushshift, we'll have to determine whether we'd like to look at data for submissions or comments.\n"
   ]
  },
  {
   "cell_type": "markdown",
   "metadata": {},
   "source": [
    "As an example, below are the 3 \"hottest\" submissions from [r/MakeupRehab](https://www.reddit.com/r/MakeupRehab/), along with submission authors, titles, scores, and body text: "
   ]
  },
  {
   "cell_type": "code",
   "execution_count": 20,
   "metadata": {
    "scrolled": true
   },
   "outputs": [
    {
     "name": "stdout",
     "output_type": "stream",
     "text": [
      "True\n",
      "toyaqueen\n",
      "Megathread: COVID-19 / Coronavirus Resource and Discussion\n",
      "43\n",
      "Hi everyone,\n",
      "\n",
      "r/DISCLAIMER: This is not to be taken as a post for health information or precautions on the novel coronavirus pandemic. PLEASE keep up-to-date via your local governments and health representatives.\n",
      "\n",
      "As we all know by now, the novel coronavirus is impacting daily life all over the globe. Here in MUR, you may have already seen some of our fellow members post about struggles directly related to the virus - having to move suddenly and unexpectedly, job losses, trying to deal with the stress, seeing which companies are being shady and more. With that in mind, feel free to use this thread as the hub for any conversations you want to have on this topic.\n",
      "\n",
      "We’ve decided to create a megathread that will be updated with resources from other subs (the crosspost rule will be lifted for the purposes of this thread only), relevant to the needs and interests of the community to use during this trying time for many of us.  If you see more, comment below and I will edit this to add if appropriate.\n",
      "\n",
      "Legal/Finance Resources:\n",
      "\n",
      "r/personalfinance:  [Coronavirus Megathread](https://www.reddit.com/r/personalfinance/comments/fhrfqo/coronavirus_megathread_resources_discussion_and/), [Job Loss Megathread](https://www.reddit.com/r/personalfinance/comments/fkyu8h/job_loss_megathread_unemployment_resources/)\n",
      "\n",
      "r/legaladvice: [FAQ](https://www.reddit.com/r/legaladvice/comments/fgpvcv/covid19_faq_a_workinprogress/)\n",
      "\n",
      "Beauty Companies Status:\n",
      "\n",
      "r/MakeupAddiction: [Ulta Closes](https://www.reddit.com/r/MakeupAddiction/comments/fkepbx/ulta_announces_that_all_locations_will_be_closing/)\n",
      "\n",
      "r/Sephora: [SiJCP Remain Open](https://www.reddit.com/r/Sephora/comments/fk0ecr/remember_your_sijcps/); [SiJCP Employee Info](https://www.reddit.com/r/Sephora/comments/fkfm2t/sijcp_employe_info/); [Sephora Closing](https://www.reddit.com/r/Sephora/comments/fjurja/effective_tomorrow_at_5pm_all_sephora_stores_will/)\n",
      "\n",
      "r/Makeup: [Sephora Closing](https://www.reddit.com/r/Makeup/comments/fjyscd/update_sephora_closing_all_retail_stores/)\n",
      "\n",
      "r/muacjdiscussion: [ColourPop Shipping Center Closing](https://www.reddit.com/r/muacjdiscussion/comments/fnbg1k/colourpop_shipping_center_closed/);  [3/30/20 Update - ULTA Stores will remain closed](https://www.reddit.com/r/muacjdiscussion/comments/fruxhb/ulta_stores_will_continue_to_remain_closed/)\n",
      "\n",
      "[TJX Companies (TJ Maxx, Marshall's, etc) COVID-19 Closure Announcement](https://www.tjx.com/docs/default-source/default-document-library/a-message-from-the-tjx-companies-inc.pdf) \\[If you see discussions on Reddit from employees, please share!\\]\n",
      "\n",
      "Mental Health Resources:\n",
      "\n",
      "r/BPD: [Covid-19 Megathread](https://www.reddit.com/r/BPD/comments/fkvejt/covid19_megathread/)\n",
      "\n",
      "&#x200B;\n",
      "\n",
      "I will also use the comments in this thread to create specific quarantine related activities that we can do together while we’re under quarantine/isolation/distancing beginning tomorrow, Saturday the 21st - if you have anything you want to see, feel free to comment! We’ve always helped each other out in this community, and this virus has not changed that.\n",
      "\n",
      "\\-MUR Mod Team\n",
      "AutoModerator\n",
      "Willpower Wednesday - May 27, 2020\n",
      "5\n",
      "This thread is to keep each other grounded as we pursue low-buy or no-buy goals. The temptation is strong, so exercise your willpower with your fellow members!\n",
      "coffeeczar\n",
      "I stopped wearing foundation!\n",
      "196\n",
      "I  was obsessed with finding my HG foundation and spending too much money at Sephora/Ulta trying to find my perfect match. I've always struggled with acne since puberty (and now have adult acne and use tret but still have breakouts at 31).\n",
      "\n",
      "Since stay at home, I stopped wearing foundation and use my tinted CeraVe Mineral SPF as my moisturizer, sunscreen, and sheer wash of color all in one. And my acne? IT'S GONE! Prior to this, I was using Shiseido Syncro Skin, so I ran the ingredients on CosDNA and it has an ingredient 5 out of 5 on the comedogenic scale! No wonder I had so many breakouts this winter!  This prompted me to check my other foundations. My summer foundation (Smashbox Hydrating 15Hr) also has a comedogenic ingredient.  So I had to toss those two foundations. Everytime I get an itch to purchase a foundation I check CosDNA and always find a problematic ingredient (either fragrance or pore clogging).\n",
      "\n",
      "I will now only use non-comedogenic tinted mineral SPF. My skin has never looked better and my wallet is happier too :) I found my Maybelline AgeRewind works wonders as a foundation for the special occasions I might want more coverage.\n",
      "\n",
      "I'm so glad stay at home allowed me to make this discovery!\n"
     ]
    }
   ],
   "source": [
    "print(reddit.read_only)\n",
    "for submission in reddit.subreddit(\"MakeupRehab\").hot(limit=3):\n",
    "    print(submission.author)\n",
    "    print(submission.title)\n",
    "    print(submission.score)  \n",
    "    print(submission.selftext)"
   ]
  },
  {
   "cell_type": "markdown",
   "metadata": {},
   "source": [
    "**NOTE**: PRAW will not allow you to create instances for quarantined or banned subreddits. Attempting to do so will return 403 and 404 Errors, respectively. "
   ]
  },
  {
   "cell_type": "markdown",
   "metadata": {},
   "source": [
    "## Filling in gaps in the Pushshift API"
   ]
  },
  {
   "cell_type": "markdown",
   "metadata": {},
   "source": [
    "While Pushshift is a great entryway into scraping data from Reddit, you'll occasionally run into some notable gaps in available data.\n",
    "\n",
    "Using the API's [Reddit Search](https://redditsearch.io/) referenced at the end of Part 1, we can see how scope out any potential holes in subreddit data before going through the process of scraping that data ourselves. "
   ]
  },
  {
   "cell_type": "markdown",
   "metadata": {},
   "source": [
    "As an example, let's look at [r/AmItheAsshole](https://www.reddit.com/r/AmItheAsshole/):"
   ]
  },
  {
   "cell_type": "markdown",
   "metadata": {},
   "source": [
    "![r/AmItheAsshole](https://i.snipboard.io/BwiqKY.jpg)"
   ]
  },
  {
   "cell_type": "markdown",
   "metadata": {},
   "source": [
    "The data visualizations available through Pushshift stand in pretty stark contrast to r/AmItheAsshole's creation in June 2013. As previously demonstrated by [Elle O'Brien](https://dvc.org/blog/a-public-reddit-dataset), however, we should be able to use PRAW to obtain the missing data prior to 2019.\n",
    "\n",
    "\n",
    "Below is a step-by-step guide of how to supplement missing Pushshift data using PRAW, using submissions from r/AmItheAsshole as an example. "
   ]
  },
  {
   "cell_type": "markdown",
   "metadata": {},
   "source": [
    "### Step 1: Compiling Submission ids"
   ]
  },
  {
   "cell_type": "markdown",
   "metadata": {},
   "source": [
    "Our first step will be quite similar to what we've done to collect comments from r/changemyview over the first week of 2019.  Here, we'll be collecting submissions from r/AmItheAsshole. However, since Pushshift has some holes in the data from this subreddit, we'll be putting together a far less substantial dataframe."
   ]
  },
  {
   "cell_type": "markdown",
   "metadata": {},
   "source": [
    "We can start things off by setting our minimum and final UTC. We'll want to start prior with the subreddit's creation of June 8th, 2013. For now, we'll set the `last_UTC` to the beginning of 2020."
   ]
  },
  {
   "cell_type": "code",
   "execution_count": 6,
   "metadata": {},
   "outputs": [],
   "source": [
    "min_UTC = 1370649600 # June 08, 2013 12:00:00 AM\n",
    "last_UTC = 1577836800 # January 1, 2020 12:00:00 AM"
   ]
  },
  {
   "cell_type": "markdown",
   "metadata": {},
   "source": [
    "It will also be handy to define a `max_UTC` for looping as we move through time. While this will be replaced throughout our loop, we'll once again want to start off with the same value as our `min_UTC`. "
   ]
  },
  {
   "cell_type": "code",
   "execution_count": null,
   "metadata": {},
   "outputs": [],
   "source": [
    "# June 08, 2013 12:00:00 AM\n",
    "\n",
    "max_utc = 1370649600"
   ]
  },
  {
   "cell_type": "markdown",
   "metadata": {},
   "source": [
    "Now we'll define another `get_batch` function, this one geared toward collecting r/AmItheAsshole submissions."
   ]
  },
  {
   "cell_type": "code",
   "execution_count": 12,
   "metadata": {},
   "outputs": [],
   "source": [
    "def get_batch(subreddit, min_utc):\n",
    "    base_url = 'https://api.pushshift.io/reddit/search/submission/'\n",
    "    \n",
    "    parameters = {'subreddit' : 'AmItheAsshole',\n",
    "                'after'    : min_utc,\n",
    "              'sort'       : 'asc',\n",
    "              'sort_type'  : 'created_utc',\n",
    "              'size'       : 1000,}\n",
    "    \n",
    "    r = requests.get(base_url, params = parameters)\n",
    "    try:\n",
    "        df = pd.DataFrame(r.json()['data'])\n",
    "    except:\n",
    "        print(r.text)\n",
    "    return df"
   ]
  },
  {
   "cell_type": "markdown",
   "metadata": {},
   "source": [
    "As before, we'll want to put together a handful of empty lists to store our data. This time around, we'll make separate lists for `timestamps`, `post_ids`, and `scores`. "
   ]
  },
  {
   "cell_type": "code",
   "execution_count": 13,
   "metadata": {},
   "outputs": [],
   "source": [
    "timestamps = list()\n",
    "post_ids = list()\n",
    "scores = list()"
   ]
  },
  {
   "cell_type": "code",
   "execution_count": 19,
   "metadata": {},
   "outputs": [],
   "source": [
    "def find_max_utc(df):\n",
    "  max_utc = df['created_utc'].values.max()\n",
    "  return max_utc"
   ]
  },
  {
   "cell_type": "code",
   "execution_count": 47,
   "metadata": {},
   "outputs": [],
   "source": [
    "def scrape_submissions(subreddit):\n",
    "\n",
    "  min_utc = 1370649600  \n",
    "  last_utc = 1577836800\n",
    "  \n",
    "  dfs = []\n",
    "  \n",
    "  max_utc = 1370649600\n",
    "\n",
    "  \n",
    "  while max_utc <= last_utc:\n",
    "    \n",
    "    df = get_batch(subreddit, max_utc)   \n",
    "    dfs.append(df)\n",
    "    \n",
    "    try:\n",
    "      max_utc = find_max_utc(df)\n",
    "    except:\n",
    "      print('error with max_utc')\n",
    "      return pd.concat(dfs)\n",
    "    \n",
    "    sleep(1)\n",
    "    \n",
    "    print(datetime.utcfromtimestamp(max_utc).isoformat())\n",
    "  \n",
    "  return pd.concat(dfs)"
   ]
  },
  {
   "cell_type": "code",
   "execution_count": 48,
   "metadata": {},
   "outputs": [
    {
     "name": "stdout",
     "output_type": "stream",
     "text": [
      "2015-09-14T05:39:24\n",
      "2016-07-10T22:36:24\n",
      "2017-04-05T14:04:46\n",
      "2017-10-05T17:29:17\n",
      "2018-01-04T10:25:40\n",
      "2018-03-07T05:00:46\n",
      "2018-04-25T01:33:52\n",
      "2018-06-07T17:32:58\n",
      "2018-07-16T22:15:25\n",
      "2018-08-22T03:53:10\n",
      "2018-09-19T22:58:53\n",
      "2018-10-11T00:21:00\n",
      "2018-10-20T22:13:51\n",
      "2018-10-28T23:56:22\n",
      "2018-11-04T09:00:44\n",
      "2018-11-08T19:14:21\n",
      "2018-11-13T21:43:10\n",
      "2018-11-18T13:48:03\n",
      "2018-11-22T19:10:57\n",
      "2018-11-27T09:42:11\n",
      "2018-12-01T20:52:37\n",
      "2018-12-06T03:34:43\n",
      "2018-12-10T14:54:20\n",
      "2018-12-14T17:25:10\n",
      "2018-12-18T20:33:33\n",
      "2018-12-23T00:06:27\n",
      "2018-12-27T01:57:01\n",
      "2018-12-30T16:10:03\n",
      "2019-01-02T23:06:05\n",
      "2019-01-06T03:49:59\n",
      "2019-01-09T16:43:13\n",
      "2019-01-12T06:37:23\n",
      "2019-01-14T18:08:40\n",
      "2019-01-17T04:01:16\n",
      "2019-01-19T19:50:14\n",
      "2019-01-22T15:41:00\n",
      "2019-01-25T01:32:00\n",
      "2019-01-27T21:28:22\n",
      "2019-01-30T02:24:46\n",
      "2019-02-01T08:53:56\n",
      "2019-02-03T11:28:53\n",
      "2019-02-05T16:17:09\n",
      "2019-02-07T18:47:08\n",
      "2019-02-09T23:42:33\n",
      "2019-02-12T00:16:56\n",
      "2019-02-14T01:30:01\n",
      "2019-02-15T22:33:31\n",
      "2019-02-17T15:13:18\n",
      "2019-02-19T03:06:13\n",
      "2019-02-20T15:52:11\n",
      "2019-02-21T22:34:10\n",
      "2019-02-23T14:49:22\n",
      "2019-02-25T01:55:31\n",
      "2019-02-26T17:32:28\n",
      "2019-02-28T05:26:48\n",
      "2019-03-01T21:10:30\n",
      "2019-03-03T12:18:24\n",
      "2019-03-04T20:44:54\n",
      "2019-03-06T03:26:26\n",
      "2019-03-07T10:32:14\n",
      "2019-03-08T19:51:45\n",
      "2019-03-10T05:00:34\n",
      "2019-03-11T18:45:09\n",
      "2019-03-13T00:41:01\n",
      "2019-03-14T06:32:28\n",
      "2019-03-15T15:35:04\n",
      "2019-03-16T23:13:59\n",
      "2019-03-18T02:47:08\n",
      "2019-03-19T04:16:05\n",
      "2019-03-20T11:08:37\n",
      "2019-03-21T16:07:38\n",
      "2019-03-22T22:02:31\n",
      "2019-03-24T04:06:06\n",
      "2019-03-25T12:46:30\n",
      "2019-03-26T18:58:34\n",
      "2019-03-27T21:49:04\n",
      "2019-03-29T00:48:08\n",
      "2019-03-30T05:04:25\n",
      "2019-03-31T14:20:30\n",
      "2019-04-01T18:06:55\n",
      "2019-04-02T23:04:28\n",
      "2019-04-04T00:31:05\n",
      "2019-04-05T02:18:24\n",
      "2019-04-06T09:33:11\n",
      "2019-04-07T16:27:12\n",
      "2019-04-08T18:18:05\n",
      "2019-04-09T19:13:48\n",
      "2019-04-10T19:10:10\n",
      "2019-04-11T21:27:09\n",
      "2019-04-13T01:35:26\n",
      "2019-04-14T08:54:23\n",
      "2019-04-15T14:09:40\n",
      "2019-04-16T15:56:23\n",
      "2019-04-17T18:00:40\n",
      "2019-04-18T21:19:28\n",
      "2019-04-19T23:59:42\n",
      "2019-04-21T04:36:51\n",
      "2019-04-22T11:29:08\n",
      "2019-04-23T13:00:56\n",
      "2019-04-24T14:55:06\n",
      "2019-04-25T13:42:14\n",
      "2019-04-26T15:51:39\n",
      "2019-04-27T19:00:46\n",
      "2019-04-28T21:00:48\n",
      "2019-04-30T00:23:33\n",
      "2019-05-01T03:24:01\n",
      "2019-05-02T06:03:59\n",
      "2019-05-03T08:26:50\n",
      "2019-05-04T14:45:47\n",
      "2019-05-05T18:17:07\n",
      "2019-05-06T20:53:08\n",
      "2019-05-07T22:51:40\n",
      "2019-05-09T02:26:30\n",
      "2019-05-10T03:32:17\n",
      "2019-05-11T08:04:47\n",
      "2019-05-12T14:55:35\n",
      "2019-05-13T16:59:33\n",
      "2019-05-14T19:10:22\n",
      "2019-05-15T21:32:03\n",
      "2019-05-17T00:50:29\n",
      "2019-05-18T10:37:51\n",
      "2019-05-19T17:44:53\n",
      "2019-05-20T20:16:42\n",
      "2019-05-21T22:21:34\n",
      "2019-05-23T00:54:47\n",
      "2019-05-24T03:30:21\n",
      "2019-05-25T04:39:02\n",
      "2019-05-26T10:59:19\n",
      "2019-05-27T14:01:30\n",
      "2019-05-28T16:10:37\n",
      "2019-05-29T16:16:14\n",
      "2019-05-30T17:38:31\n",
      "2019-05-31T19:12:18\n",
      "2019-06-01T23:02:12\n",
      "2019-06-03T00:02:56\n",
      "2019-06-04T00:18:58\n",
      "2019-06-05T01:22:52\n",
      "2019-06-06T01:39:31\n",
      "2019-06-07T03:21:24\n",
      "2019-06-08T04:48:01\n",
      "2019-06-09T10:11:20\n",
      "2019-06-10T12:38:31\n",
      "2019-06-11T10:30:15\n",
      "2019-06-12T08:34:45\n",
      "2019-06-13T08:36:21\n",
      "2019-06-14T08:57:31\n",
      "2019-06-15T12:30:29\n",
      "2019-06-16T15:47:56\n",
      "2019-06-17T17:06:09\n",
      "2019-06-18T14:40:50\n",
      "2019-06-19T13:50:59\n",
      "2019-06-20T14:33:44\n",
      "2019-06-21T16:33:16\n",
      "2019-06-22T19:33:30\n",
      "2019-06-23T21:58:06\n",
      "2019-06-24T20:29:59\n",
      "2019-06-25T20:07:12\n",
      "2019-06-26T19:41:54\n",
      "2019-06-27T20:44:17\n",
      "2019-06-28T22:38:40\n",
      "2019-06-30T02:05:39\n",
      "2019-07-01T03:05:34\n",
      "2019-07-02T05:59:38\n",
      "2019-07-03T11:22:26\n",
      "2019-07-04T11:22:03\n",
      "2019-07-05T15:27:43\n",
      "2019-07-06T18:01:44\n",
      "2019-07-07T19:30:07\n",
      "2019-07-08T17:39:10\n",
      "2019-07-09T16:53:44\n",
      "2019-07-10T14:02:11\n",
      "2019-07-11T09:18:22\n",
      "2019-07-12T04:44:06\n",
      "2019-07-13T02:57:15\n",
      "2019-07-14T00:02:55\n",
      "2019-07-14T21:05:20\n",
      "2019-07-15T17:50:00\n",
      "2019-07-16T13:39:09\n",
      "2019-07-17T04:17:26\n",
      "2019-07-17T23:36:26\n",
      "2019-07-18T19:50:43\n",
      "2019-07-19T16:14:57\n",
      "2019-07-20T14:38:38\n",
      "2019-07-21T14:46:12\n",
      "2019-07-22T12:08:34\n",
      "2019-07-23T04:51:25\n",
      "2019-07-24T01:35:06\n",
      "2019-07-24T21:40:48\n",
      "2019-07-25T16:55:45\n",
      "2019-07-26T08:43:42\n",
      "2019-07-27T03:03:05\n",
      "2019-07-28T00:37:30\n",
      "2019-07-28T21:28:37\n",
      "2019-07-29T17:25:40\n",
      "2019-07-30T08:33:50\n",
      "2019-07-31T01:24:31\n",
      "2019-07-31T20:54:50\n",
      "2019-08-01T18:12:35\n",
      "2019-08-02T14:04:33\n",
      "2019-08-03T11:22:04\n",
      "2019-08-04T11:09:10\n",
      "2019-08-05T08:28:32\n",
      "2019-08-06T02:50:33\n",
      "2019-08-06T23:18:29\n",
      "2019-08-07T20:55:40\n",
      "2019-08-08T18:59:54\n",
      "2019-08-09T16:55:55\n",
      "2019-08-10T15:47:28\n",
      "2019-08-11T15:38:28\n",
      "2019-08-12T13:29:34\n",
      "2019-08-13T02:46:14\n",
      "2019-08-13T22:49:00\n",
      "2019-08-14T19:57:42\n",
      "2019-08-15T17:18:26\n",
      "2019-08-16T14:46:33\n",
      "2019-08-17T11:26:36\n",
      "2019-08-18T13:10:46\n",
      "2019-08-19T12:59:26\n",
      "2019-08-20T07:52:05\n",
      "2019-08-21T03:46:55\n",
      "2019-08-22T01:52:25\n",
      "2019-08-23T00:08:31\n",
      "2019-08-23T22:38:37\n",
      "2019-08-24T22:52:24\n",
      "2019-08-25T23:10:30\n",
      "2019-08-26T22:30:29\n",
      "2019-08-27T21:12:51\n",
      "2019-08-28T18:46:44\n",
      "2019-08-29T16:12:35\n",
      "2019-08-30T13:26:31\n",
      "2019-08-31T08:54:17\n",
      "2019-09-01T10:24:51\n",
      "2019-09-02T09:30:35\n",
      "2019-09-03T05:27:09\n",
      "2019-09-04T05:55:50\n",
      "2019-09-05T03:51:28\n",
      "2019-09-06T03:06:53\n",
      "2019-09-07T05:12:31\n",
      "2019-09-08T07:32:00\n",
      "2019-09-09T04:53:03\n",
      "2019-09-10T04:29:16\n",
      "2019-09-11T05:24:33\n",
      "2019-09-12T06:09:37\n",
      "2019-09-13T05:34:00\n",
      "2019-09-14T03:20:05\n",
      "2019-09-15T03:07:29\n",
      "2019-09-16T00:30:27\n",
      "2019-09-16T21:30:37\n",
      "2019-09-17T19:28:20\n",
      "2019-09-18T18:44:08\n",
      "2019-09-19T19:35:10\n",
      "2019-09-20T18:36:14\n",
      "2019-09-21T18:23:36\n",
      "2019-09-22T18:43:34\n",
      "2019-09-23T16:39:42\n",
      "2019-09-24T14:21:32\n",
      "2019-09-25T11:34:21\n",
      "2019-09-26T09:14:47\n",
      "2019-09-27T13:14:22\n",
      "2019-09-28T16:09:12\n",
      "2019-09-29T17:35:33\n",
      "2019-09-30T18:32:54\n",
      "2019-10-01T17:41:49\n",
      "2019-10-02T18:21:50\n",
      "2019-10-03T18:52:18\n",
      "2019-10-04T22:37:58\n",
      "2019-10-06T03:35:42\n",
      "2019-10-07T07:09:20\n",
      "2019-10-08T11:39:28\n",
      "2019-10-09T12:13:14\n",
      "2019-10-10T12:00:30\n",
      "2019-10-11T11:21:19\n",
      "2019-10-12T11:07:13\n",
      "2019-10-13T15:57:42\n",
      "2019-10-14T16:50:43\n",
      "2019-10-15T18:17:28\n",
      "2019-10-16T19:12:39\n",
      "2019-10-17T22:10:09\n",
      "2019-10-19T01:55:14\n",
      "2019-10-20T07:13:58\n",
      "2019-10-21T12:04:02\n",
      "2019-10-22T08:42:37\n",
      "2019-10-23T09:00:15\n",
      "2019-10-24T10:09:43\n",
      "2019-10-25T10:59:35\n",
      "2019-10-26T13:48:51\n",
      "2019-10-27T18:02:23\n",
      "2019-10-28T21:19:36\n",
      "2019-10-29T20:42:06\n",
      "2019-10-30T20:46:13\n",
      "2019-10-31T21:33:45\n",
      "2019-11-01T23:36:19\n",
      "2019-11-03T00:12:07\n",
      "2019-11-04T01:29:12\n",
      "2019-11-04T23:22:55\n",
      "2019-11-05T22:55:41\n",
      "2019-11-06T22:39:24\n",
      "2019-11-07T23:18:00\n",
      "2019-11-09T00:31:55\n",
      "2019-11-10T03:02:31\n",
      "2019-11-11T05:59:41\n",
      "2019-11-12T05:08:29\n",
      "2019-11-13T06:52:04\n",
      "2019-11-14T07:33:37\n",
      "2019-11-15T09:31:13\n",
      "2019-11-16T15:04:23\n",
      "2019-11-17T18:18:56\n",
      "2019-11-18T18:48:36\n",
      "2019-11-19T19:21:03\n",
      "2019-11-20T19:24:05\n",
      "2019-11-21T18:42:35\n",
      "2019-11-22T18:35:17\n",
      "2019-11-23T20:21:31\n",
      "2019-11-24T20:42:12\n",
      "2019-11-25T19:36:57\n",
      "2019-11-26T17:38:18\n",
      "2019-11-27T17:05:15\n",
      "2019-11-28T17:59:29\n",
      "2019-11-29T18:07:11\n",
      "2019-11-30T15:56:26\n",
      "2019-12-01T15:36:03\n",
      "2019-12-02T13:58:00\n",
      "2019-12-03T09:04:56\n",
      "2019-12-04T04:48:29\n",
      "2019-12-05T03:29:55\n",
      "2019-12-06T03:13:44\n",
      "2019-12-07T03:31:47\n",
      "2019-12-08T04:18:06\n",
      "2019-12-09T04:04:47\n",
      "2019-12-10T02:23:11\n",
      "2019-12-11T00:28:10\n",
      "2019-12-12T01:05:44\n",
      "2019-12-13T02:33:25\n",
      "2019-12-14T00:40:05\n",
      "2019-12-15T01:42:39\n",
      "2019-12-15T23:49:10\n",
      "2019-12-16T22:47:21\n",
      "2019-12-17T19:32:05\n",
      "2019-12-18T17:09:25\n",
      "2019-12-19T15:12:59\n",
      "2019-12-20T12:34:41\n",
      "2019-12-21T06:07:08\n",
      "2019-12-22T04:39:37\n",
      "2019-12-23T03:00:02\n",
      "2019-12-23T23:28:05\n",
      "2019-12-24T19:18:07\n",
      "2019-12-25T18:15:25\n",
      "2019-12-26T15:01:39\n",
      "2019-12-27T09:44:08\n",
      "2019-12-28T06:46:33\n",
      "2019-12-29T05:23:35\n",
      "2019-12-30T01:19:28\n",
      "2019-12-30T21:47:28\n",
      "2019-12-31T19:40:31\n",
      "2020-01-01T18:42:52\n"
     ]
    }
   ],
   "source": [
    "aita_df = scrape_submissions('AmItheAsshole')\n",
    "    "
   ]
  },
  {
   "cell_type": "code",
   "execution_count": 53,
   "metadata": {},
   "outputs": [
    {
     "data": {
      "text/plain": [
       "count        353957\n",
       "unique       277637\n",
       "top       [removed]\n",
       "freq          71314\n",
       "Name: selftext, dtype: object"
      ]
     },
     "execution_count": 53,
     "metadata": {},
     "output_type": "execute_result"
    }
   ],
   "source": [
    "aita_df['selftext'].describe()"
   ]
  },
  {
   "cell_type": "code",
   "execution_count": 54,
   "metadata": {},
   "outputs": [],
   "source": [
    "aita_df['created_time'] = pd.to_datetime(aita_df['created_utc'], unit='s')"
   ]
  },
  {
   "cell_type": "code",
   "execution_count": 55,
   "metadata": {},
   "outputs": [
    {
     "data": {
      "text/plain": [
       "count                  355000\n",
       "unique                 352989\n",
       "top       2019-05-15 15:34:28\n",
       "freq                        3\n",
       "first     2013-06-08 20:42:55\n",
       "last      2020-01-01 18:42:52\n",
       "Name: created_time, dtype: object"
      ]
     },
     "execution_count": 55,
     "metadata": {},
     "output_type": "execute_result"
    }
   ],
   "source": [
    "aita_df['created_time'].describe()"
   ]
  },
  {
   "cell_type": "code",
   "execution_count": 57,
   "metadata": {},
   "outputs": [
    {
     "data": {
      "text/plain": [
       "<matplotlib.axes._subplots.AxesSubplot at 0x14dfabad0>"
      ]
     },
     "execution_count": 57,
     "metadata": {},
     "output_type": "execute_result"
    },
    {
     "data": {
      "image/png": "[encoded data removed]",
      "text/plain": [
       "<Figure size 432x288 with 1 Axes>"
      ]
     },
     "metadata": {
      "needs_background": "light"
     },
     "output_type": "display_data"
    }
   ],
   "source": [
    "aita_df['created_time'].dt.date.value_counts().plot()"
   ]
  },
  {
   "cell_type": "code",
   "execution_count": null,
   "metadata": {},
   "outputs": [],
   "source": []
  }
 ],
 "metadata": {
  "kernelspec": {
   "display_name": "Python 3",
   "language": "python",
   "name": "python3"
  },
  "language_info": {
   "codemirror_mode": {
    "name": "ipython",
    "version": 3
   },
   "file_extension": ".py",
   "mimetype": "text/x-python",
   "name": "python",
   "nbconvert_exporter": "python",
   "pygments_lexer": "ipython3",
   "version": "3.7.6"
  }
 },
 "nbformat": 4,
 "nbformat_minor": 4
}
