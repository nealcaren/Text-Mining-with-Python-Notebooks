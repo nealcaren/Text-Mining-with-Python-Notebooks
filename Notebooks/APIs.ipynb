{
 "cells": [
  {
   "cell_type": "markdown",
   "metadata": {
    "slideshow": {
     "slide_type": "slide"
    }
   },
   "source": [
    "# Harvesting data from the web: APIs  "
   ]
  },
  {
   "cell_type": "markdown",
   "metadata": {
    "slideshow": {
     "slide_type": "skip"
    }
   },
   "source": [
    "### A first API\n",
    "\n",
    "[Chronicling America](http://chroniclingamerica.loc.gov/about/) is a joint project of the National Endowment for the Humanities and the Library of Congress .\n",
    "\n",
    "Search for articles that mention \"[lynching](http://chroniclingamerica.loc.gov/search/pages/results/?andtext=lynching)\"."
   ]
  },
  {
   "cell_type": "markdown",
   "metadata": {
    "slideshow": {
     "slide_type": "slide"
    }
   },
   "source": [
    "![](https://raw.githubusercontent.com/nealcaren/UiOBigData/master/notebooks/images/chron.png)"
   ]
  },
  {
   "cell_type": "markdown",
   "metadata": {
    "slideshow": {
     "slide_type": "slide"
    }
   },
   "source": [
    "![](https://github.com/nealcaren/ScrapingData/raw/master/Notebooks/images/lynch_ca.png)"
   ]
  },
  {
   "cell_type": "markdown",
   "metadata": {
    "slideshow": {
     "slide_type": "slide"
    }
   },
   "source": [
    "<div class=\"alert alert-info\">\n",
    "<h3> Your turn</h3>\n",
    " <p>Look at the URL. What happens if you change the word 'lynching' to 'murder'? \n",
    "\n",
    "What happens to the URL when you go to the second page? Can you get to page 251?\n",
    "\n",
    "</div>"
   ]
  },
  {
   "cell_type": "markdown",
   "metadata": {},
   "source": [
    "<details>\n",
    "<summary>Sample answer url</summary> \n",
    "<code style=\"background-color: white\">\n",
    "https://chroniclingamerica.loc.gov/search/pages/results/?andtext=murder&page=251&sort=relevance\n",
    "</code>\n",
    "</details>"
   ]
  },
  {
   "cell_type": "markdown",
   "metadata": {
    "slideshow": {
     "slide_type": "slide"
    }
   },
   "source": [
    "What if we append ``&format=json`` to the end of the search URL? \n",
    "\n",
    "\n",
    "http://chroniclingamerica.loc.gov/search/pages/results/?andtext=lynching&format=json\n"
   ]
  },
  {
   "cell_type": "markdown",
   "metadata": {
    "slideshow": {
     "slide_type": "slide"
    }
   },
   "source": [
    "[``requests``](http://docs.python-requests.org/en/master/) is a useful and commonly used HTTP library for Python. It is not a part of the default installation, but is included with Anaconda Python Distribution. "
   ]
  },
  {
   "cell_type": "code",
   "execution_count": 1,
   "metadata": {
    "slideshow": {
     "slide_type": "fragment"
    }
   },
   "outputs": [],
   "source": [
    "import requests"
   ]
  },
  {
   "cell_type": "markdown",
   "metadata": {
    "slideshow": {
     "slide_type": "slide"
    }
   },
   "source": [
    "It would be possible to use the API URL and parameters directly in the requests command, but since the most likely scenario involves making repeating calls to ``requests`` as part of a loop -- the search returned less than 1% of the results -- I store the strings first. "
   ]
  },
  {
   "cell_type": "code",
   "execution_count": 2,
   "metadata": {
    "slideshow": {
     "slide_type": "fragment"
    }
   },
   "outputs": [
    {
     "name": "stdout",
     "output_type": "stream",
     "text": [
      "http://chroniclingamerica.loc.gov/search/pages/results/?andtext=lynching&format=json\n"
     ]
    }
   ],
   "source": [
    "base_url   = 'http://chroniclingamerica.loc.gov/search/pages/results/'\n",
    "parameters = '?andtext=lynching&format=json'\n",
    "\n",
    "url = base_url + parameters\n",
    "print(url)"
   ]
  },
  {
   "cell_type": "markdown",
   "metadata": {
    "slideshow": {
     "slide_type": "slide"
    }
   },
   "source": [
    "`requests.get()` is used for both accessing websites and APIs. The command can be modified with several arguements, but at a minimum, it requires the URL."
   ]
  },
  {
   "cell_type": "code",
   "execution_count": 3,
   "metadata": {
    "slideshow": {
     "slide_type": "fragment"
    }
   },
   "outputs": [],
   "source": [
    "r = requests.get(base_url + parameters)"
   ]
  },
  {
   "cell_type": "markdown",
   "metadata": {
    "slideshow": {
     "slide_type": "fragment"
    }
   },
   "source": [
    "`r` is a `requests` response object. Any JSON returned by the server will automatically be stored in `.json()` format."
   ]
  },
  {
   "cell_type": "code",
   "execution_count": 4,
   "metadata": {},
   "outputs": [
    {
     "data": {
      "text/plain": [
       "{'totalItems': 1006491,\n",
       " 'endIndex': 20,\n",
       " 'startIndex': 1,\n",
       " 'itemsPerPage': 20,\n",
       " 'items': [{'sequence': 1,\n",
       "   'county': ['Wayne'],\n",
       "   'edition': None,\n",
       "   'frequency': 'Weekly',\n",
       "   'id': '/lccn/2013218776/1921-10-22/ed-1/seq-1/',\n",
       "   'subject': ['Dearborn (Mich.)--Newspapers.',\n",
       "    'Michigan--Dearborn.--fast--(OCoLC)fst01205237',\n",
       "    'Michigan--Periodicals.',\n",
       "    'Michigan--Wayne County.--fast--(OCoLC)fst01206628',\n",
       "    'Michigan.--fast--(OCoLC)fst01208387',\n",
       "    'Wayne County (Mich.)--Newspapers.'],\n",
       "   'city': ['Dearborn'],\n",
       "   'date': '19211022',\n",
       "   'title': 'Dearborn independent. [volume]',\n",
       "   'end_year': 1927,\n",
       "   'note': ['\"The Ford international weekly\" appears with title in masthead, <Jan 1919-Apr. 1925>.',\n",
       "    'Archived issues are available in digital format from the Library of Congress Chronicling America online collection.',\n",
       "    'Available on microfilm from the Auburn University Libraries.',\n",
       "    'Description based on: Vol. 7, no. 27 (Jan 31, 1908).',\n",
       "    'Includes editorial page by Henry Ford.',\n",
       "    'Numbering irregular.',\n",
       "    'Published as a weekly periodical <Nov. 1, 1919>-<Dec. 31, 1927>'],\n",
       "   'state': ['Michigan'],\n",
       "   'section_label': '',\n",
       "   'type': 'page',\n",
       "   'place_of_publication': 'Dearborn, Mich.',\n",
       "   'start_year': 1901,\n",
       "   'edition_label': '',\n",
       "   'publisher': 'Suburban Pub. Co.',\n",
       "   'language': ['English'],\n",
       "   'alt_title': [],\n",
       "   'lccn': '2013218776',\n",
       "   'country': 'Michigan',\n",
       "   'ocr_eng': '\"Mis-Picturing Us Abroad\" Introduces the Series\\nJews in Arnold Treason to the End\\nThe Colorado, Mother of an Inland Empire\\nDiplomatists and Their Pretty Decorations\\nMust We Have a Federal Anti-Lynching Law?\\nThe First Orchardist in the Ohio River Valley',\n",
       "   'batch': 'mimtptc_jackson_ver01',\n",
       "   'title_normal': 'dearborn independent.',\n",
       "   'url': 'https://chroniclingamerica.loc.gov/lccn/2013218776/1921-10-22/ed-1/seq-1.json',\n",
       "   'place': ['Michigan--Wayne--Dearborn'],\n",
       "   'page': ''},\n",
       "  {'sequence': 4,\n",
       "   'county': ['Cook County'],\n",
       "   'edition': None,\n",
       "   'frequency': 'Daily (except Sunday and holidays)',\n",
       "   'id': '/lccn/sn83045487/1915-08-18/ed-1/seq-4/',\n",
       "   'subject': ['Chicago (Ill.)--Newspapers.',\n",
       "    'Illinois--Chicago.--fast--(OCoLC)fst01204048'],\n",
       "   'city': ['Chicago'],\n",
       "   'date': '19150818',\n",
       "   'title': 'The day book. [volume]',\n",
       "   'end_year': 1917,\n",
       "   'note': ['\"An adless daily newspaper.\"',\n",
       "    'Archived issues are available in digital format as part of the Library of Congress Chronicling America online collection.',\n",
       "    'Available on microfilm;',\n",
       "    'Description based on: Nov. 1, 1911.',\n",
       "    'Issue for <Nov. 24, 1911> lacks vol., no., and chronological designation.',\n",
       "    'Issue for Nov. 4, 1911 erroneously designated as Oct. 4, 1911.',\n",
       "    'Issue for v. 3, no. 290 (Sept. 7, 1914) erroneously designated as v. 3, no. 300 (Sept. 7, 1914). The error in numbering continues.',\n",
       "    'Issue for v. 5, no. 214 (June 7, 1916) erroneously designated as v. 5, no. 214 (June 6, 1916).',\n",
       "    'Issue for v. 5, no. 7 (Oct. 5, 1915) erroneously designated as v. 5, no. 7 (Sept. 5, 1915).',\n",
       "    'Issues for <May 7-17, 1915> called also \"Moving Picture Edition.\"',\n",
       "    'Issues have no page numbering.',\n",
       "    'Saturdays have Noon and Final editions, Dec. 28, 1912-June 21, 1913; Saturdays have Noon and Last editions, June 28, 1913-<Dec. 13, 1913>; began issuing daily Noon and Last editions, Dec. 20, 1913-July 6, 1917.',\n",
       "    'Vol. 5, no. 36 (Nov. 6, 1915) issue called also \"Garment Workers\\' Special Edition.\"',\n",
       "    'Volume numbering begins with Nov. 20, 1911 issue.'],\n",
       "   'state': ['Illinois'],\n",
       "   'section_label': '',\n",
       "   'type': 'page',\n",
       "   'place_of_publication': 'Chicago, Ill.',\n",
       "   'start_year': 1911,\n",
       "   'edition_label': 'LAST EDITION',\n",
       "   'publisher': 'N.D. Cochran',\n",
       "   'language': ['English'],\n",
       "   'alt_title': [],\n",
       "   'lccn': 'sn83045487',\n",
       "   'country': 'Illinois',\n",
       "   'ocr_eng': '25 patriots who took into their own\\nhands a law that had been taken from\\nthem by a governor. I would not ad\\nvise inquisitive authorities or persons\\nto try to reveal them. They are as\\nzealously banded together now and as\\nrelentless as the daythy entered the\\nprison.\"\\nThe manwho made this statement\\nis purported to have known of the\\norganization which was formed to\\nframe Frank\\'s death. He would nei\\nther affirm nor deny that he was a\\nmember of the mob.\\nOn the other hand a strong feeling\\nagainst the members of the lynching\\nparty is growing rapidly. Various of\\nficials have demanded just action\\ngainset a body of men who take the\\nlow, to the extent of murder, in their\\nown hands. There are fears of trou\\nble for anybody arrested in connec\\ntion with the lynching. It may be\\nthat any arrests may be kept secret\\nto prevent further outbreaks.\\nThe governor himself came in for\\nsevere criticism for his action in leav\\ning the capital to make a speech at\\nthe state encampment of Confeder\\nate veterans, before the news of\\nFrank\\'s lynching reached the city,\\nbut after it was known he had been\\nkidnaped from Milledgeville. He was\\nblamed in general, too, for conditions\\non the prison farm.\\nOfficials generally were busy issu\\ning explanation and denials. Prison\\nCommissioner Davison, who was on\\nthe farm at the time, declared \"No\\nresponsibility rested on either the\\ncommission or anybody at the farm.\"\\nThere were many evidences that\\nofficial Georgia failed to estimate\\ncorrectly Tuesday what the country\\'s\\nview of the lynching would be. Their\\ninvestigations were started at once,\\nbut with no such energy as was man\\nifested today.\\nApparently the huge volume of ed\\nitorial excoriations of the affair tele\\ngraphed into Atlanta Tuesday night\\nproduced a decided impression. There\\nwas the naturally-to-be-expected re\\nsponse from many quarters that the\\nincident was no business of any out\\nsider, but the better class in official\\ncircles plainly was considerably mov\\ned by the unanimity of non-Georgian\\ncriticism.\\nFor all this there were many pre\\ndictions, even from persons who de\\nnounced the lynching, that the cul\\nprits never would be found.\\nNew York, Aug. 18. Expecting\\nthe arrival of her brother\\'s body at\\n6 o\\'clock tomorrow morning, Mrs.\\nOtto Stern, sister of Leo M. Frank,\\ntoday said funeral arrangements are\\nbeing made, but have not yet been\\ncompleted. It is expected the fu\\nneral will be held at the Stern home\\nin Brooklyn, where Frank\\'s mother\\nalso lives. The latter is prostrated.\\nWHILE WE GO LYNCHING IN\\nGEORGIA\\n(Verse by John O\\'Keefe in Morning\\nWorld.)\\nWe are the midnight cowards black,\\nWho dare not work by day;\\n\"Hs only when the churchyards crack\\nThat we come forth to slay.\\nWe are the dogs of Satan\\'s pack,\\nAnd thus we bark our way,\\nWhen we go lynching in Georgia.\\nHooray! Hooray! Our teeth are in his\\nthroat!\\nHooray! Hooray! His soul to hell we\\nfloat!\\nBeat him down and let him drown\\nbeneath the devil\\'s boat,\\nWhen we go lynching in Georgia!\\no o\\nMARKED BILLS LEAD TO ARREST\\nOF JOS. E. PRENDERGAST\\nFive $20 bills which had been\\nmarked by Ass\\'t State\\'s Att\\'y S. A.\\nMalato resulted in the arrest last\\nnight of Jos. E. Prendergast, state\\nfood inspector, on the charge of ac\\ncepting a bribe from Andrea, Agosta\\n& uo., wnoiesaie grocers, bbo Grand\\nav.\\nLast year Prendergast was Demo\\ncratic candidate for congress. He is\\na brother of Detective Sergt J. J.\\nPrendergast.',\n",
       "   'batch': 'iune_hotel_ver01',\n",
       "   'title_normal': 'day book.',\n",
       "   'url': 'https://chroniclingamerica.loc.gov/lccn/sn83045487/1915-08-18/ed-1/seq-4.json',\n",
       "   'place': ['Illinois--Cook County--Chicago'],\n",
       "   'page': ''},\n",
       "  {'sequence': 4,\n",
       "   'county': ['Hinds'],\n",
       "   'edition': None,\n",
       "   'frequency': 'Weekly',\n",
       "   'id': '/lccn/sn79000083/1947-06-14/ed-1/seq-4/',\n",
       "   'subject': ['African Americans--Mississippi--Newspapers.',\n",
       "    'African Americans.--fast--(OCoLC)fst00799558',\n",
       "    'Hinds County (Miss.)--Newspapers.',\n",
       "    'Jackson (Miss.)--Newspapers.',\n",
       "    'Mississippi--Hinds County.--fast--(OCoLC)fst01208481',\n",
       "    'Mississippi--Jackson.--fast--(OCoLC)fst01205500',\n",
       "    'Mississippi.--fast--(OCoLC)fst01207034'],\n",
       "   'city': ['Jackson'],\n",
       "   'date': '19470614',\n",
       "   'title': 'Jackson advocate. [volume]',\n",
       "   'end_year': 9999,\n",
       "   'note': ['Available on microfilm from Bell & Howell.',\n",
       "    'Description based on: Vol. 1, no. 45 (Aug. 2, 1941).'],\n",
       "   'state': ['Mississippi'],\n",
       "   'section_label': '',\n",
       "   'type': 'page',\n",
       "   'place_of_publication': 'Jackson, Miss.',\n",
       "   'start_year': 1939,\n",
       "   'edition_label': '',\n",
       "   'publisher': 'P. Greene',\n",
       "   'language': ['English'],\n",
       "   'alt_title': [],\n",
       "   'lccn': 'sn79000083',\n",
       "   'country': 'Mississippi',\n",
       "   'ocr_eng': 'THE JACKSON ADVOCATE\\n\\\\ . V\\nPUBLISHED WEEKLY AT JACKSON, MISSISSIPPI\\nEntered as Second Class Matter In the Post Office at Jackson,\\nMias., July 13, 1945 under Act of Congress, March 13, 1879.\\nPERCY GREENE . Editor and Publisher\\nJAMES RUNDLES . Advertising Manager\\nFREDRICK HUNTER . Circulation Manager\\nFRANCES REED GREENE . Society Editor\\nSUBSCRIPTION RATES\\nAll subscriptions due and payable in advance\\nONE YEAR $3.50 SIX MONTHS $2.00\\nADVERTISING RATES UPON REQUEST\\nMake all checks payable to the Jackson Advocate; Address,\\n119^ N. Farish Street.\\nPhone, Office ..... 2-1617\\nPhone, Society Editor . 2-1213\\n“In all things that are purely social we can be as separate as\\nthe fngers, but in all things that affect our mutual progress and\\ndevelopment we can be together as the hand.” — Booker T. Wash\\nington. *\\nA CHALLENGE TO STATESMANSHIP AND\\nIMMORTALITY\\nUp in Washington the other day, the United States\\nSenators from Mississippi, the Honorable James 0. East\\nland, was named to the sub-committee of the judiciary\\nappointed to consider anti-lynching bills presented to the\\nUnited States Senate. It will be the duty of this commit\\ntee to recommend and give is approval to anti-lynching\\nlegislation and to facilitate it\\'s consideration by that au\\ngust body.\\nNothing now weighs so heavily upon the conscience\\nand mind of the great masses of intelligent American\\npeople, of all races, north and south, as does the crime of\\nlynching\\nNothing now weighs so heavily in the scales by which\\nthe fittness of the United States to give ideological, cul\\ntural, and economic leadership to the rest of the nation\\nand people of the world is being judged, as does the crime\\nof lynching.\\nThe old idea, widely held in the south, that the law\\nlessness called lynching produced a certain kind of psycho\\nlogy among certain segments of its population and of the\\npopulation of the nation necessary to the development and\\nmaintenance of a certain way of life, can no longer be\\nmade to reconcile with the demands of progress in that\\nsection where the crime of lynching is most often com\\nmitted, and can no longer be made to reconcile with the\\nworld position of the nation.\\nNo matter how doggedly some of us cling to the\\ntradition and ideas out of which has come our sectionalism\\nthe time has now come when the nation is being judged as\\none whole, and world opinion will give no consideration to\\nsectionalism an dtradition.\\nSince the lynching massacre at Monroe, Georgia, and\\nindeed in all the years before that time, the regularly re\\ncurring lynchings leading up to the recent lynching trials\\nat Greenville, South Carolina, the verdicts which left the\\nnation looking so badly in the eyes of the world The law\\nlessness called lynching has been revealed as mainly a\\nproblem of the south where because of history and tradi\\ntion the crime has been given a certain sanction as being\\nnecessary to the maintenance of a way of life. ?\\nAttemps to convict those proven guilty of the crime\\nof lynching in the south, including those who confess to the\\ncrime, as was true in the Greenville, South Carolina case,\\npoint out almost beyond argument that the local com\\nmunities of this section are not yet able nor ready to pun\\nish lynchers and stop the crime and lawlessness called\\nlynching.\\nIn this period in the history of the United States and in\\nthe history of the world, the crime of lynching has become\\nthe great responsibility of the south and southerners;\\nand in this period the crime of lynching presents to the\\nsouth and southerners a period of the greatest opportuni\\nty. No other period in the nations history, by the simple\\nstep of openly and boldly attacking the crime of lynching\\nin the way most certain of its eradication, has offered to\\nthe south and southerners such a grand and great oppor- <\\ntunity to serve well the need of the south, while at the\\nsame time giving a greater service to democracy, the Na- j\\ntion and the World.\\nAs a southerner coming from a state where the tradi\\nEL MOROCO\\nFOR AMUSEMENT\\nPhone 4-9533\\nEDITORIALS\\n“Contrast in American Drama!”....\\ntion has long been recognized as having greater power and\\nforce than the law, and greater power and force than the\\ndemands of progress, the naming of Senator Eastland of\\'\\nMississippi to the subcommittee of the Judiciary in charge\\nof anti-lynching legislation offers little hope to those who\\nrecognized the need of such a law. Senator Eastland is ex\\npected everywhere to vote against any and all anti-lynch\\ning legislation. For him to vote for such a law even in the\\nlight of the very present and urgent need of the south, of\\nthe nation, of democracy and the world, would most sure\\nly bring down upon him the wrath of his political contem\\nporaries and those yet unable to see, or who refuse to heed\\nthe demands of a new and better world. For him to vote\\nfor such a bill however, would be the highest mark of states\\nmanship, and future citizens of Mississippi would add\\ngreatness to his name and generations yet unborn would\\narise to acclaim his name.\\ni We would not attempt to judge the political motive\\nbehind the naming of the senator to the sub-committee,\\nbut whatever the political motive, in the light of the pres\\nent needs of the south, of the nation, of the democracy,\\nand of the world the Senator also received a challenge to\\nstatesmanship and immortality.\\n5 PUBLIC TYPING 5|\\n! and * \\\\\\n! LETTER WRITING J\\n\\\\ Dial 3-6561\\nj 318 1-2 N. Farish St. J\\n; THE {\\nJackson\\n> j\\n! School of Business \\'\\n* FOR DEPENDABLE SERVICE !\\n! AND REASONABLE PRICES !\\nJ TRY THE J\\n! DeLUXE RADIO AND !\\n! ELECTRIC REPAIR SHOP!\\nj J Cor. Lynch and Rose Sts. \\\\\\nI; WE FIX IT TO SATISFY \\\\\\n| * Just Dial 2-1691 or 3-7802 t\\nJ W. T. RANDOLPH J\\n* i\\n! § OUT-OF-TOWN AGENTS\\n| WANTED TO SELL\\n| KEYSTONE PRODUCTS |\\n| EXCELLENT OPPORTUNITY!\\nGOOD INCOME\\nWrite or See\\n] JAMES TAYLOR, JR. |\\n1502 Booker St.\\nJackson, Mississippi\\n{ CALL THE 5\\n0 \\\\ i\\n\\\\ Big 4 Taxi Service \\\\\\n1 Dial 4-6074 ;\\nJ Dependable Cab Seryice #\\n\\\\ A. L. Adams \\\\\\n5 GROCERY & MARKET \\\\\\n# Fruits and Vegetables #\\n\\\\ Candies }\\n# \"If you want the best, pay#\\n! us a vrsit\" }\\np 158 Monument St.\\nDial 2-2471 \\\\\\n★ LEARN *\\n— TYPING\\n— BOOKKEEPING\\n— SHORTHAND\\nJACKSON\\nSCHOOL OF BUSINESS\\n318 1-3 N. Farish Sh\\nDial 3-6561\\n■I\\n-\\nTo Discuss Farm\\nMechanization\\nPleas Orr, a young colored far\\ned adult Negroes the right to use\\n,the main library building June 1.\\nNegroes curently have the ex\\nclusive use of the Rosa Bowser\\nbranch. Permission to use the\\nmain library was granted with\\nthe unanimous consent of the\\nboard as a result of a petition\\nsubmitted last March by the Bus\\nines and Professional Men’s Coun\\ncil.\\nmier who has almost completely\\nmechanized the operations on his\\n410 acre farm in the Tennessee\\nValley regions of northern Ala\\nbama will discuss mechanization\\nwith his county agent over Sta\\ntion WAPI in Birmingham, June\\n7, 2:30 p.m., reports Dr. J. R. O\\ntis, state leader of Extension\\nwork in Alabama.\\nMr. Orr, who grew into farming\\nby way of 4-H clubi projects, will\\nbe interviewed by Announcer\\nJimmie Wilson and County agent\\nB. F. Hill. He will explain how he\\nand two hired men use tractor\\npower to do most of the work\\non his cotton farm.\\nJ\\nA Better Shoe\\nRepair Service\\n★\\nWE USE THE VERY\\nBEST MATERIAL\\n★\\nCorner Rose\\nAnd Lynch Sts.\\nRE-NU SHOE REPAIR SHOP\\nDAMPEER THORNTON, Prop.\\nt\\n- S.\\nFOR A DELICIOUS MEAL IN PLEASANT\\nSURROUNDINGS IT\\'S— SHEPHERDS\\nCHOICE STEAKS SALADS SANDWICHES\\nMEXICAN CHILI FRESH SEA FOOD\\nRichmond Opens\\nMain Library\\nTo Negroes\\nRichmond—Two important an\\nnounjc^vents affecting Negro)\\ncitizens of Richmond were made\\nhere last week by the city library\\nboard. One had to do with the est\\nablishment of at least two ad\\nditional branches of the Richmond\\npublic library in Negro populated\\nareas of the city. The other grant\\n; WE BUILD MODERN ;\\n: homes :\\n* *\\nLeroy\\nHuddleston\\n5 $\\n5 BUILDER 5\\n* *\\n\\\\ Workmen Qualification J\\nJ To Meet Specifications *\\nl Phone 3-4255\\n1087 Lynch Street\\nJ Jackson, Miss.\\n\"HAVE YOU TRIED OUR CHICKEN?\"\\nSHEPHERDS KITCHENETTE\\n604 N Farrish Street Phone 9271\\n.\\' ^ ■ ; ■ ! \\'\\n!\"....\\n1 LOOK YOUNG\\nI WITH p\\nI uoungs\\nTIME/TESTED BEAUTY MMDS\\n\\' /s!Y3s/\\n/®i\\n■w)My\\n■ f A\\nj EJ.YOUNGJB.MAKUFACTURING\\n! id nmtf am mnLcntm Rinta\\nC ,i»W n nun. wmu, bbbwm\\nr >•>',\n",
       "   'batch': 'msar_iron_ver01',\n",
       "   'title_normal': 'jackson advocate.',\n",
       "   'url': 'https://chroniclingamerica.loc.gov/lccn/sn79000083/1947-06-14/ed-1/seq-4.json',\n",
       "   'place': ['Mississippi--Hinds--Jackson'],\n",
       "   'page': '4'},\n",
       "  {'sequence': 34,\n",
       "   'county': [None],\n",
       "   'edition': None,\n",
       "   'frequency': 'Daily',\n",
       "   'id': '/lccn/sn83045462/1922-11-23/ed-1/seq-34/',\n",
       "   'subject': ['Washington (D.C.)--fast--(OCoLC)fst01204505',\n",
       "    'Washington (D.C.)--Newspapers.'],\n",
       "   'city': ['Washington'],\n",
       "   'date': '19221123',\n",
       "   'title': 'Evening star. [volume]',\n",
       "   'end_year': 1972,\n",
       "   'note': ['\"From April 25 through May 24, 1861 one sheet issues were published intermittently owing to scarcity of paper.\" Cf. Library of Congress, Photoduplication Service.',\n",
       "    'Also issued on microfilm from Microfilming Corp. of America and the Library of Congress, Photoduplication Service.',\n",
       "    'Archived issues are available in digital format as part of the Library of Congress Chronicling America online collection.',\n",
       "    'Publisher varies: Noyes, Baker & Co., <1867>; Evening Star Newspaper Co., <1868->',\n",
       "    \"Suspended Jan. 1-6, 1971 because of a machinists' strike.\"],\n",
       "   'state': ['District of Columbia'],\n",
       "   'section_label': '',\n",
       "   'type': 'page',\n",
       "   'place_of_publication': 'Washington, D.C.',\n",
       "   'start_year': 1854,\n",
       "   'edition_label': '',\n",
       "   'publisher': 'W.D. Wallach & Hope',\n",
       "   'language': ['English'],\n",
       "   'alt_title': ['Star', 'Sunday star'],\n",
       "   'lccn': 'sn83045462',\n",
       "   'country': 'District of Columbia',\n",
       "   'ocr_eng': 'T\\nTU^\\nnit;\\n- V E\\nxl\\nII\\nb<\\nin rour\\n3436\\nCT \"V\\n<e\\n*\\nOf\\nWt\\n\\\\\\n* *\\n*\\n?\\n*\\n| The D\\nTheDyi\\nvot\\nThe Dy\\nThi\\nera]\\n_\\nin 1\\nIn i\\nThePrl\\nof\\nThe Coi\\nTb\\nThi\\nTh\\nJnd\\nIf Jt\\nr\\nI\\n*\\nNATIONAL A!\\n\\\\ . .....\\n: : : :.if\\n.\\n\\' i\\nr \\' * -\\nShame\\ni\\n>0 you know that tl\\nip Onlv T>f?nd oil F!\\neings are BURNED\\nYears, 1918-1921, Twen\\nBURNED BY AM]\\nn i T l\\nreopie Lyncr\\nFor What Crimes Have Mobs Nullified Goven:\\nAlleged Crimes The Victims\\nMurder 1288\\nRape 571\\nCrimes against the Person 615\\nCrimes against Property 333\\nMiscellaneous Crimes 453\\nAbsence of Crime ~ 176\\n3436\\nIs Rape the \"Caus\\n3,436 people murdered by mobs in our country, only 571, or lesi\\nDMEN HAVE BEEN LYNCH\\nDo lynchers maintain that they were 1;\\nAND THE LYNCHERS\\nTHE RI\\nIyer Anti-Lynching Bill Is Nov\\nsr Anti-Lynching Bill ?u passed on January 26,1922, by a 1\\ne of 230 to 119 in the House of Representatives.\\ner Anti-Lynching Bill Provides:\\nit culpable State Officers and mobbists shall be tried in FedI\\nCourts on failure of State courts to act, and that a county\\nrhich a lynching occurs shall be fined $10,000, recoverable\\na Federal Court.\\n* \" -M- J * >L. mil J. iinnn ill. CrnlinH 1\\nnciptft yUCBUUU lUIIDCU ogauioi. ?uc JL?amm mo u^vu ?mv ?\\nConstitutionality.\\nrtstitutionality of the Dyer Bill Has Been Affirmed by\\n8 Judiciary Committee of the House of Representatives\\nb Judiciary Committee of the Senate I\\n8 United States Attorney General, legal adviser of Congress\\nIge Gny D. Golf- of the Department of Justice\\nThe Dyer AntbLynching Bill is not int\\nto assure to every person accused of cri\\nTHE DYER ANTI-LYNCHING BILL I!\\nTELEGRAPH YOUR SENATORS TO\\nm want to help the organization which has brought to light the fai\\ner cent Americanism, not for some of the people some, of the tin\\n* Send your check to J. E. SPINC\\n5SOOATION FOR IHE AI\\n1 76 TOTH AVENUE, I\\nTHIS ADVERTISEMENT IS PAID FOR IN PA1\\nV\\' \\' ; <\\n. v. . ...\\n* I\\n. t\\ns .?\\nof A me\\n*\\nie United \\'i States is\\narth where human\\nAT THE STAKE?\\n^ ^ .\\n: r\\',<\\'\\n. J <?\\'\\'\"\\nty-Eight People were publ\\nERICAN MOBS\\n> 1 10QO u 1i\\nicu, 100^ IU it\\niment and Inflicted the Death Penalty?\\nWhy Some Mob Victims Died: ^ ,\\nNot turning out of road for white boy in auto J- ,\\nBeing a relative of a person who was lynched\\nJumping a labor contract\\nBeing a member of the Nonpartisan League\\n\"Talking back\" to a white man\\n\"Insulting\" white man . \\'.. J--*\\'\\n?v\\n_ it _\\ne of Lynching?\\na ?\\'\\n3 * * ;J \\' \"\\ns than 17 per cent, were even accused of the crime of rape\\nED IN THE UNITED STATES\\ninched for \\'the usual crime\"?\\nGO UNPUNISHED\\n?MEDY\\ni\\n7 Before the United States Senal\\nrhe Senate has been petitioned to pass the Dyer Bill by\\n29 Lawyers and Jurists, including two former Attorneys Gen*\\neral of the United States\\n19 State Supreme Court Justices\\n24 State Governors\\n3 Archbishops, 85 bishops and prominent churchmen\\n39 Mayors of large cities, north and south\\nV\\nrhe American Bar Association at its meeting in San Francisco,\\nAugust 9, 1922, adopted a resolution asking for further legis?\\nlation by Congress to punish and prevent lynching and mob\\nviolence. \\' , m\\nfifteen State Conventions of 1922 (3 of them Democratic) have\\ninserted in their party platforms a demand for national action\\nto stamp out lynchings. ^\\n1y.\\'A\\nended to protect the guilty, but -?;\\\\\\nme trial by due process of law.\\n3 NOW BEFORE THE SENATE\\nDAY YOU WANT IT ENACTED*\\nv ... ; ^ ;t ... ;\\nsis about lynching, the organization which is fighting for 1Q0\\nne, but for all of the people, white or black, all of the time ; \\'/ :\\'\"t\\nrARN, Treasurer, of the\\n>VANCEMENT OF COLORE!\\nSEW YORK CITY\\n>\"\" \\' \\'\\nIT BY THE ANTI-LYNCHING CRUSADERS\\nv\\nV i, ? .\\na.\\'\\n. vO!\"\\n\\'\\nrica\\nJ\\n>\\nft\\nicly\\nm\\nt\\n\"... i\\n6\\nI\\n........ ... .*\\n*\\n>\\n\" -V--iV 1\\nV\\nr *\\n*\\' *\\n\" i\\n. i\\n* . . *\\n...... \\'\\n.\" \\'\\ni m* r - * \"* \"* * Sfes\\n\\\\ * ,\\n%? ..... \\'\\nr - ...?\\n..... \\' ij\\n) PEOPLE\\n?\\n~y.*r\\n.',\n",
       "   'batch': 'dlc_dalek_ver01',\n",
       "   'title_normal': 'evening star.',\n",
       "   'url': 'https://chroniclingamerica.loc.gov/lccn/sn83045462/1922-11-23/ed-1/seq-34.json',\n",
       "   'place': ['District of Columbia--Washington'],\n",
       "   'page': '34'},\n",
       "  {'sequence': 4,\n",
       "   'county': ['King'],\n",
       "   'edition': None,\n",
       "   'frequency': 'Weekly',\n",
       "   'id': '/lccn/sn87093353/1918-06-08/ed-1/seq-4/',\n",
       "   'subject': ['African Americans--Washington (State)--Seattle--Newspapers.',\n",
       "    'African Americans.--fast--(OCoLC)fst00799558',\n",
       "    'Seattle (Wash.)--Newspapers.',\n",
       "    'Washington (State)--Seattle.--fast--(OCoLC)fst01204940'],\n",
       "   'city': ['Seattle'],\n",
       "   'date': '19180608',\n",
       "   'title': \"Cayton's weekly.\",\n",
       "   'end_year': 1921,\n",
       "   'note': ['\"A publication of general information, but in the main voicing the sentiments of Colored Citizens.\"',\n",
       "    'Archived issues are available in digital format as part of the Library of Congress Chronicling America online collection.',\n",
       "    'Description based on: Vol. 2, no. 5 (July 14, 1917).',\n",
       "    'Volume numbering irregular.'],\n",
       "   'state': ['Washington'],\n",
       "   'section_label': '',\n",
       "   'type': 'page',\n",
       "   'place_of_publication': 'Seattle, Wash.',\n",
       "   'start_year': 1916,\n",
       "   'edition_label': '',\n",
       "   'publisher': 'H.R. Cayton',\n",
       "   'language': ['English'],\n",
       "   'alt_title': [],\n",
       "   'lccn': 'sn87093353',\n",
       "   'country': 'Washington',\n",
       "   'ocr_eng': 'DAMNABLE WHITE WHELPS\\nSome of the white subscribers of (\\'nylon\\'s\\nWeekly living in Seattle felt thai its criti\\ncism of the cowardly whelps of the South,\\nwho lynch colored women. \\\\v;is too severe\\nHlitl became so incensed ;it what it said\\nthat they ordered their papers discontinued,\\nbut if they thought what we said Mas too\\nsevere, listen to what papers publislied by\\nwhite men and in the South at that, have\\nto say on the subject :\\n\"The (Auuusta. (ia.) Chronicle need\\nwast\" no words in expressing its horror of\\nof Ihe detestable and cowardly attack com\\nmitted by a party of LoAvndes County out\\nlaws, who. on Sunday afternoon last, tool<\\nfrom her home a woman —whose husband\\nhad been lynched the night before—handed\\nher to a tree and riddled her body with\\nbullets, because, forsooth, she had made un\\nwise remarks about the unlawful killing of\\nher husband.\\n\"All civilized people must stand aghast\\nat such <i ciime, and who does not is ;it\\nheart ;i criminal and ;i coward. So much,\\nthen, for this crime aganist the State of\\n(ieofui.\\'i. auainst socieiy. against humanity\\nmid against God.\\n\"The only thing worth discussing, in view\\nof ;ill the condemnation that similar crimes\\n;iii<l lynching in general have received from\\nthe right-thinking press and people of this\\nand ;ill other states —in which The Chronicle\\nIkis, heretofore, performed its full duty to\\nthe public, when some others failed —the\\nonly thing worth discussing now. we say, is\\n■what is the State of Georgia going to do\\nabout it .\\'\\n\"First of Jill, what is the governor of\\nGeorgia going to do:\\' For, of all the gover\\nnors who have served Georgia since the war\\n—or since lynching became a more or less.\\npopular pastime in this State—it will seem\\nto most people that he is more obligated,\\nif that be possible, to put down lynching\\nthan any of his predecessors.\\n\"For we cannot forget that Governor\\nDorsey was swept into the governor\\'s phair\\nby the lynching sentiment of the State. Not\\nmeaning, of course. Hint all the people who\\nvoted for him were lynchers in practice or\\nsentiment, but sa.ving and meaning that\\nAv\\'itlMMit this sentiment back of him, lie\\nmight still be solicitor-general of the Atlan\\nta circuit.\\n\"We cannot forget, nor can it bo denied,\\nthat his elevation to the governorship was\\n1 lit* direct and immediate result of the Leo\\nPrank lynching.\\n\"Nor can we get away from the fact,\\nthat, following this upheaval of lawless sen\\ntiment, lynching followed lynching in this\\nState—until Georgia soon Avon, and has held\\never since, the lynching record of the coun\\ntry.\\n\"And right here, it may be recalled that\\nthis is not the first time a Negro woman\\nhas been lynched in Georgia; another ease\\nof very recent time boinp; the cruel and\\ncowardly lynching of a Negro mother at. or\\nnear, Leary, Ga., for committing the horrible\\ncrime of trying to protect her son from an\\nunmerciful beating.\\n\"This and scores upon scores of other\\nlynehings that have occurred in this State\\nwithin recent years have e:ono absolutely\\nunpunished. A protest from the press, an\\nexpression of disapproval, here and there,\\nfrom the public, the perfunctory offering of\\nrewards for the lynchers—and there was an\\nend to it.\\n\"Not a single individual has been made\\nto pay the penalty for these crimes. Not a\\nserious effort has been made to apprehend\\nand punish the perpetrators of them.\\n\"Is it any wonder, then —assuming that\\nmen can be found who are so cowardly and\\ninhuman as to take part in such outrages-\"\\nthat lynchings continue to occur in Georgia?\\n\"Ts it to be expected that they will grow\\nfewer in number, or cease altogether, until\\nsomebody in Georgia does something to\\nbring to the gallows the brutes who partici\\npate in them?\\n\"Alas! that Georgia permitted herself to\\nbe set aflame a few years ago with the\\nlynching fever. Alas! that, at that time.\\nThe Chronicle was the only daily news\\npaper that dared to wage a crusade against\\nth.s unlawful sentiment, and to conduct a\\nsystematic expose of the motives and men\\ndacity of the men who were responsihle for\\nit : a service to its state for which reprisals\\nwere attempted against The Chronicle such\\nas have never been directed against any\\nnewspaper in Georgia,\\n\"Georgia then sowed the wind—and she\\nhas been reaping the whirlwind ever since.\\n\"Is it not, we ask, peculiarly up to Gov\\nernor Horsey to use every agency of his\\nhigh office — and if these he not enough, to\\nuse his tongue and pen and every power of\\nhis position—to put down lynching in\\nGeorgia; to help redeem his state from such\\nlawlessness as felt itself justified and glori\\nfied by his election .\\'\\n\"And Lowndes County! —one of the most\\nprosperous and progressive counties in the\\nstate: with as cultured and noble people in\\nit as are to be found anywhere on carth —\\nwhat will be its answer? What will its good\\npeople do to punish this crime of crimes\\nand. in a measure at leas!, wipe away this\\nstain:\\'\\n\"Or are such people outnumbered within\\nits borders.\\' .Must its law-officers give more\\nheed to the ignorant and lawless of its popu\\nlation than to those who have made Lown\\ndes county what it is.\\' —-one of the best\\ncounties in Georgia? It remains to be seen.\\n\"Hut. when we recall that Lowndes, with\\nits neighboring county of Brooks, has been\\nthe hotbed of anti-dip-vat sentiment; that\\nmany of its citizens deliberately dynamited\\ngovernment operated plants for eradicating\\nthe cattle tick in that county—and when we\\nsee, at this very time, that in the published\\nlist of deserters under the draft law, Lown\\ndes county easily leads all the rest, any forty\\nother counties, in fact with 211 deserters—\\nwe are compelled to confess that we fear for\\nthe power and influence of its better element\\nand, really, look for little or nothing to he\\ndone toward aprehending and punishing the\\ncowardly murderers of Mary Turner, the\\npoor black woman who made unwise re\\nmarks about the lynching of her husband:\\na new capital offence in Georgia, as Major\\nJoseph B. dimming so scathingly refers to\\nthis Lowndes county lynching\\' in a card,\\npublished in yesterday\\'s Chronicle, that\\nnobly voices the best sentiment of all real\\nGeorgians.\"\\n\"Stain on Democracy\"\\nSays the Charleston Gazette of Charles\\nton. W. Va.:\\n\"There are so many sidelights to our na\\ntional character that we turn automatically\\nhot and cold with self pride, but fortunately\\nthe thermometer registers high. We stood\\non the streets only a day ago and witnessed\\na remarkable spectacle in our own city\\nwhen 5,000 colored men and women, led by\\nhands, one a soldier organization from a\\neatonment, march through the city streets\\nin a patriotic demonstration. The thrill of\\npride that we all had in this race, which at\\nthe best is fighting under a great handicap,\\nwas dampened by a sense of shame we felt\\nwhen the papers carried a news item of an\\nother lynching outrage in the South where a\\nGRAND BENEFIT BALL\\nFOR\\nTHE SEATTLE BRANCH\\nTHE NATIONAL ASSOCIATION\\nFOR THE ADVANCEMENT OF\\nCOLORED PEOPLE\\nMONDAY EVENING, JUNE 10th\\nWASHINGTON HALL\\nFourteenth and Fir\\nMiss Lillian Smith\\'s Jazz Band\\nTickets 50 cents Elegant Punch\\nMrs. J. Vrooman, Chairman Committee\\nof Arrangements\\ncrazy mob of white men perpetrated another\\noutrage on the Negroes.\\n\"There can be no extenuating cireum\\nstances for lynching. The fact that a major\\ncrime had been committed is not a license\\nfor embracing lynch law, hut rather is a re\\nflection upon the lynchers, illiterate, ignor\\nant, prejudiced as they are in most instan\\nces. There can he no defense for any crime\\ncommitted by a Negro or white man, hut\\nthe law provides for punishment and the\\nexecution of this law is vested in authori\\nties, not in the mob. This mob spirit is still\\nconfined almost exclusively to the South,\\nwhere a population is still ignorant of the\\nfact that the only real asset it has is its\\ncomparatively cheap labor which lies in the\\nhands of its colored population.\\n\"The race problem is still confined to\\nthe South, which resents any attempts to\\nsuggest a solution. The exodus from Dixie\\nof the Negro would soon awaken the South\\nto an appreciation of the fact that it takes\\njust such labor ;is that of the Negro to\\nplant, cultivate and pick its cotton crop.\\nAny other kind of labor would make the\\nprice of cotton prohibitive, yet the South\\nis still trying to kill the goose that laid the\\ngolden egg.\\n\"The race question in the South is an eco\\nnomic one and the South would do well to\\ntry and clean some of its dirty linen in its\\nattitude toward the Negro. The great area\\nof the South is fitted for nothing except the\\nproduction of cotton, and despite evovy ef\\nfort to diversify its crops cotton is still king\\nand will remain so, although a diversifica\\ntion could become a fact but for climatic\\nand other conditions which are natural bar\\nriers which cannot be overcome.\\n\"The Negroes of the nation are giving\\nthe world a fine example of patriotism. One\\nbanner which was carried in the parade\\nhere the other day contained the motto:\\n\\'\\' \\'We never had a traitor.\\'\\n\"This is to the credit of the Negro race,\\nand encouragement should be given them.\\nThis encouragement should not be manifest\\nin lynching.\"\\nAs two little colored boys lay in a hay\\nmow preparatory to going to the land of\\nnod for the night they heard the wind\\nhowling and the rain falling outside. Now\\nit was the duty of these little fellows, who\\nunfortunately were without living parents\\nand like Topsy \"jest growing up,\" to each\\nmorning go after the cows for the milk\\nmaid. The little fellows listened to the\\nhowling wind and as they crouched down\\nmore comfortable in the warm hay they\\neach thought of the morrow and each\\nthought the other asleep. Finally one\\ngently called to the other as follows: Sam,\\nSam, you\\'ll have to go aftah de cows by\\nyo\\'self in de mornin, fur I\\'s gwine to be\\nsick.\" \"No I aint fur I\\'s sick now.\" Thus\\ndid those little fellows try to out scheme\\neach other only to find himself checkmated\\nand to end up by both going\\' after the cows\\nas usual in their scanty wearing apparel in\\na biting cold wind and rain storm the next\\nmorning.\\nAFRO AMERICAN HOTEL\\nPhone Beacon 912 1261 Main\\nRooms by Day or Week. Well kept and highly\\nsanitary. Steam heated.\\nMrs. T. H. Jones.\\nVROOMAN HOTEL\\nPhone Beacon 29 1236 Main\\nThree story concrete building. Steam heated.\\nBeautifully furnished.\\nW. E. Vrooman Jennie Vrooman\\nNEW WAY CAFE\\nPhone Main 5964 1034 Jackson\\nRegular Dinner.\\nSend or phone your order in and it will be delivered\\npromptly in first class condition.\\nJ. C. Garner and E. T. Palmer, Props.\\nGOLDEN WEST\\nPhone 2647 1034 Jackson\\nTailors and Cleaners\\nClothes called for and delivered.\\nHats retrimmed and blocked.\\nH. S. Frazier C. W. Curtest',\n",
       "   'batch': 'wa_elm_ver01',\n",
       "   'title_normal': \"cayton's weekly.\",\n",
       "   'url': 'https://chroniclingamerica.loc.gov/lccn/sn87093353/1918-06-08/ed-1/seq-4.json',\n",
       "   'place': ['Washington--King--Seattle'],\n",
       "   'page': ''},\n",
       "  {'sequence': 12,\n",
       "   'county': ['Cook County'],\n",
       "   'edition': None,\n",
       "   'frequency': 'Daily (except Sunday and holidays)',\n",
       "   'id': '/lccn/sn83045487/1913-05-07/ed-1/seq-12/',\n",
       "   'subject': ['Chicago (Ill.)--Newspapers.',\n",
       "    'Illinois--Chicago.--fast--(OCoLC)fst01204048'],\n",
       "   'city': ['Chicago'],\n",
       "   'date': '19130507',\n",
       "   'title': 'The day book. [volume]',\n",
       "   'end_year': 1917,\n",
       "   'note': ['\"An adless daily newspaper.\"',\n",
       "    'Archived issues are available in digital format as part of the Library of Congress Chronicling America online collection.',\n",
       "    'Available on microfilm;',\n",
       "    'Description based on: Nov. 1, 1911.',\n",
       "    'Issue for <Nov. 24, 1911> lacks vol., no., and chronological designation.',\n",
       "    'Issue for Nov. 4, 1911 erroneously designated as Oct. 4, 1911.',\n",
       "    'Issue for v. 3, no. 290 (Sept. 7, 1914) erroneously designated as v. 3, no. 300 (Sept. 7, 1914). The error in numbering continues.',\n",
       "    'Issue for v. 5, no. 214 (June 7, 1916) erroneously designated as v. 5, no. 214 (June 6, 1916).',\n",
       "    'Issue for v. 5, no. 7 (Oct. 5, 1915) erroneously designated as v. 5, no. 7 (Sept. 5, 1915).',\n",
       "    'Issues for <May 7-17, 1915> called also \"Moving Picture Edition.\"',\n",
       "    'Issues have no page numbering.',\n",
       "    'Saturdays have Noon and Final editions, Dec. 28, 1912-June 21, 1913; Saturdays have Noon and Last editions, June 28, 1913-<Dec. 13, 1913>; began issuing daily Noon and Last editions, Dec. 20, 1913-July 6, 1917.',\n",
       "    'Vol. 5, no. 36 (Nov. 6, 1915) issue called also \"Garment Workers\\' Special Edition.\"',\n",
       "    'Volume numbering begins with Nov. 20, 1911 issue.'],\n",
       "   'state': ['Illinois'],\n",
       "   'section_label': '',\n",
       "   'type': 'page',\n",
       "   'place_of_publication': 'Chicago, Ill.',\n",
       "   'start_year': 1911,\n",
       "   'edition_label': '',\n",
       "   'publisher': 'N.D. Cochran',\n",
       "   'language': ['English'],\n",
       "   'alt_title': [],\n",
       "   'lccn': 'sn83045487',\n",
       "   'country': 'Illinois',\n",
       "   'ocr_eng': 'TEN COMPANIES OF MILITIA PROTECT ..THE\\nALLEGED SLAYER OF THIS GIRL\\n&.\\nAtlanta, Ga, May 5. Ten companies, of state mj!itiawera hurriedly-\\ncalled together to protect Newt Lee, a negro watchman\", and Leo M. Franks\\nsuperintendent of a pencil factory, held In connection with the Brutal mur\\nder of Mary Phagan, a-pretty pencil factory worker. Governor Brown says\\nhewill use every Georgia soldier to prevent the storming of the. county jail\\nfcy lynching parties; . .\\n-M\\n&?\\n.iM\\nf\\nf.\\n5?\\nfSs\\npI&dlSrffrfei',\n",
       "   'batch': 'iune_delta_ver01',\n",
       "   'title_normal': 'day book.',\n",
       "   'url': 'https://chroniclingamerica.loc.gov/lccn/sn83045487/1913-05-07/ed-1/seq-12.json',\n",
       "   'place': ['Illinois--Cook County--Chicago'],\n",
       "   'page': ''},\n",
       "  {'sequence': 123,\n",
       "   'county': [None],\n",
       "   'edition': None,\n",
       "   'frequency': 'Daily',\n",
       "   'id': '/lccn/sn83045462/1952-02-10/ed-1/seq-123/',\n",
       "   'subject': ['Washington (D.C.)--fast--(OCoLC)fst01204505',\n",
       "    'Washington (D.C.)--Newspapers.'],\n",
       "   'city': ['Washington'],\n",
       "   'date': '19520210',\n",
       "   'title': 'Evening star. [volume]',\n",
       "   'end_year': 1972,\n",
       "   'note': ['\"From April 25 through May 24, 1861 one sheet issues were published intermittently owing to scarcity of paper.\" Cf. Library of Congress, Photoduplication Service.',\n",
       "    'Also issued on microfilm from Microfilming Corp. of America and the Library of Congress, Photoduplication Service.',\n",
       "    'Archived issues are available in digital format as part of the Library of Congress Chronicling America online collection.',\n",
       "    'Publisher varies: Noyes, Baker & Co., <1867>; Evening Star Newspaper Co., <1868->',\n",
       "    \"Suspended Jan. 1-6, 1971 because of a machinists' strike.\"],\n",
       "   'state': ['District of Columbia'],\n",
       "   'section_label': '',\n",
       "   'type': 'page',\n",
       "   'place_of_publication': 'Washington, D.C.',\n",
       "   'start_year': 1854,\n",
       "   'edition_label': '',\n",
       "   'publisher': 'W.D. Wallach & Hope',\n",
       "   'language': ['English'],\n",
       "   'alt_title': ['Star', 'Sunday star'],\n",
       "   'lccn': 'sn83045462',\n",
       "   'country': 'District of Columbia',\n",
       "   'ocr_eng': \"'Z£Hit/&tAa£-iy*X&vn4tfuma£Jfy£AeHt6 «\\nJAMES STEWART ARTHUR KENNEDY\\nJULIA ADAMS ROCK HUDSON ..\\nBend of the River\\nTHE BARLOW TRAIL LYNCHING! Law comes to\\nthe Northwest...with a rope as judge and jury!\\n. THE SHOSHONE AMBUSH! The night of\\nterror that set ablaze a savage empire!\\nTHE GREAT COLUMBIA PORTAGE! Through a\\ngauntlet of gunfire with 1,000 lives at stake!\\nTHE PORTLAND SOLO BOOM! When the last\\nfrontier went mad in a wild stampede of greed!\\nm IjORI NELSON • JAY C. FLIPPEN • STEPIN’ FETCHIT • Screenplay by BORDEN CHASE •Directed by ANTHONY MANN-Produced by AARON ROSENBERG w\",\n",
       "   'batch': 'dlc_2nevelson_ver01',\n",
       "   'title_normal': 'evening star.',\n",
       "   'url': 'https://chroniclingamerica.loc.gov/lccn/sn83045462/1952-02-10/ed-1/seq-123.json',\n",
       "   'place': ['District of Columbia--Washington'],\n",
       "   'page': '19'},\n",
       "  {'sequence': 2,\n",
       "   'county': ['Newberry'],\n",
       "   'edition': None,\n",
       "   'frequency': 'Weekly',\n",
       "   'id': '/lccn/sn86063758/1904-10-18/ed-1/seq-2/',\n",
       "   'subject': ['Newberry County (S.C.)--Newspapers.',\n",
       "    'South Carolina--Newberry County.--fast--(OCoLC)fst01208075'],\n",
       "   'city': ['Newberry'],\n",
       "   'date': '19041018',\n",
       "   'title': 'The herald and news. [volume]',\n",
       "   'end_year': 1937,\n",
       "   'note': ['Archived issues are available in digital format as part of the Library of Congress Chronicling America online collection.'],\n",
       "   'state': ['South Carolina'],\n",
       "   'section_label': '',\n",
       "   'type': 'page',\n",
       "   'place_of_publication': 'Newberry S.C.',\n",
       "   'start_year': 1903,\n",
       "   'edition_label': '',\n",
       "   'publisher': 'E.H. Aull',\n",
       "   'language': ['English'],\n",
       "   'alt_title': [],\n",
       "   'lccn': 'sn86063758',\n",
       "   'country': 'South Carolina',\n",
       "   'ocr_eng': 'CONGRESSMAN AIKEN.\\nSpeaks Out Openly On Improper\\nUse of Money in Primary\\nElections.\\nAnderson, Oct. 14.--Congressm an\\nWyatt Aiken was in the city on\\nWednesday and in speu-king of the\\nrecent primary election in regard to\\nthe improper use of money, said:\\n\"There is one phase of the primary\\nupon which I desire to speak out\\nopenly and in unequivocal language,\\nand that is the growing tendency to\\nuse money for the purpose of cor\\nrupting the ballot.\\nLet me say at the outset, that if\\n- \\'I had been defeated I would not have\\nventured a word on this subject, Lor\\nmy protest would have been passed\\nover lightly as the wail of a defeated\\ncandidate. Let me say further that\\nI have absolutely no selfish end,\\neither by way of explaining past\\n-events or influencing future evenets\\ntouching my election. Having com\\nbatted the vote buying process, a\\nfact which I will establish if denial\\nis made, I believe it to be my duty.\\nthough it may be impolitic, to bring\\nthe matter squarely before the pub\\nlic.\\n\"The election or defeat of any can\\n\\'didate in a clean primary is perhaps\\na matter of little moment; for the\\nclean ballott will ultimately rectify\\nits mistakes. But when the selecting\\nmedium the primary, becomes cor\\nrupt and the tool of wealth, it parts\\ncdmpany with the interests of the\\nmasses and destroys the only safe\\nguard of popular government.\\n\"The candidate who buys a posi\\ntion of trust will sell it; he virtually\\nelects himself and is responsible to\\nnobody. If, as is often the case in\\nthe north, his office is procured by\\ncorporate influence, he serves corpo\\nrate interests. In any event the\\npeople\\'s interests suffer. They have\\nnothing to expect except from such\\nof their servants as are chosen by an\\nhonest ballot.\\n\"This practice .of vote buying is\\ngrowing in the state. The candidates\\nof Richland county realizing the\\n-danger of the situation, pledged\\nthemselves to publish an itemized\\nstatement of their expenses. If some\\nsuch steps are not taken generally\\nover the state the time will ccme\\nwhen poor men must cease to aspire\\nto hold office. Ability, integrity and\\nfidelity will be set at naught, for the\\nman who will do so without regard\\nto the purchaser\\'s qualifications or\\ntraits of character. Of course, those\\nmen who can be bought are not even\\n* a large minority, but in a closely\\ncontested campaign they easily hold\\nthe balance of power.\\n\"Our sober minded people should\\nstamp this practice with the seal. of\\ntheir disapproval so decidedly that\\ncandidates who are given to mercen\\nary methods can not face them. If\\nwe would avoid such conditions as\\nnow disgrace many northern states,\\nwe must take this matter in hand at~\\nonce and vigorously.\"\\nTHE MORRISON KILLING\\nHenry\\'s Report to the Governor\\n-Made Rigid Investigation.\\nThe following report on .the Ker\\nshaw lynching was yesterday sub\\nmitted to Gov. Heyward:\\nChester, S. C., Oct. 12, 1904.\\nGov. D. C. Heyward,\\nColumbia, S. C.\\nSir: In obedience to your request\\nI arrived at Kershaw, S. C., at noon\\non Monday, Oct, 3d, to investigate\\nthe lynching of John T. Morrison for\\nthe killing of William Floyd on the\\nSaturday previous. After conferring\\nwith the sheriff of Lancaster, Jno. P.\\nHunter, Esq., who had preceded me\\nthat morning, I conferred with az\\ninterviewed the mayor, some of the\\naldermen, the town marshal, several\\nof the citizens, the wife and son of\\nMorrison and two of Morrison\\'s\\nneighbors. From these I learned\\nthat the attitude of the entire town\\nand surrounding country was, by\\nhand or heart, \"His blood be upon\\nus and our children.\" Not one sin\\ngle man among them but deplored\\nlynching and excused this one, \"if\\none ever was excusable.\" Everyone\\nwith whom I conversed seemed to\\nlabor to impress me with the fact\\nthat this was the most orderly, quiet\\nand sober lynching, with the preach\\ners in the background, almost audibly\\nsaying \"amen.\" I did not get to see any \\'\\nof the local preachers; but several I\\nspoke to me after leaving Kershaw. <\\non the subject of this lynching and t\\nto my entire astonishment, they voic- i\\ned the sentiment \"If there was an t\\nexcusable lynching this was it.\" i\\nWhere are we going to end up-these\\nhorrible midnight murders by lynch t\\nlaw on all hands and public sentiment <\\nfast heading the way? A sense of\\nparalysis came upon me with the\\ndarkness of Monday night.\\nOn Tuesday morning I called a\\nspecial meeting of the town council.\\nEvery member with the town mar- i\\nshal, met us (Sheriff Hunter and my\\nself) in a special meeting. I explain\\ned that the governor had sent me to I\\ninvestigate the lynchi- they were\\nsworn officers, like myself; I wanted\\ntheir help, Mcrrison had been taken\\nfrom their custody; they were some\\nwhat responsible on this account; I\\nwanted them to deal with me in a\\nperfectly honest and straightforward\\nmanner; I would try to do the same\\nwith them; there was no use in my\\nwasting effort if they were in sym\\npathy with the lynching or would ob\\nstruct or refuse to help me in the in\\nvestigation. My appeal for help was\\nin the interest of law, the name of\\nthe state and our Maker.\\nAfter this I asked each and every\\none of them the following questions:\\ni. Are you in sympathy with the\\nlynching?\\n2. Will you help the state\\'s officers\\nin ferreting out and bringing to trial\\nthese lynchers, honestly?\\n3. Was this lynching done by town\\nfolks or from the surrounding coun\\ntry?\\nTo these three questions I have\\nverbatim answers on file. Two.alder\\nmen answered that they were indif\\nferent as to the lynching and would\\nnot help to ferret out the lynchers.\\nThe mayor and one alderman answer\\ned that they were not in sympathy\\nwith the lynching and would help the\\nstate officers provided it did not in\\nterfere with their business (both of\\nthese had much business). One alder\\nman had done all he could to prevent\\nthe lynching and would do nothing\\nmore. The clerk was in sympathy\\nwith the lynchers and would not help\\nto ferret it out and would cover up\\nevidence if he knew of any.\\nThe town marshal was not in sym\\npathy with the lynching did all he\\ncould to prevent it and would help\\nall he could to ferret it out: but was\\nbusy with collecting taxes.\\nAs to the third question the opin\\nion of three of those present was that\\nthe lynching was done by country\\npeople and of four that the crowd\\nthat did it was mixed; but by four\\nthat the country people predominat\\ned, because nobody could be missed\\nfrom the town after Morrison was\\ntaken from the guard house. This\\nlast is the opinion of the great ma\\njority of the townspeople to whom I\\ntalked. After interviewing the town\\nofficers. I requested the \\'town marshal\\nto go to every business place and an\\nnounce that I would remain at the\\ncouncil chamber until 5 o\\'clock p.\\nm. (taking 30 miutes for dinner) and\\nwanted to confer with anyone who\\nwould give me any assistance. I]\\nurged the marshal not to pass by a\\nsingle man, if possible. As a resulti\\nsix persons called on me, one of\\nthem a member of the jury of inquest\\non the lynching of Morrison. This\\nmember of that jury had taken a\\nhand in a lynching bee to the extent\\nof voting to hang the culprit; but this\\nwas for the usual -(?) crime. Of all\\nsix none knew anything except as\\n\"they say.\"\\nI tried to meet The State\\'s corres\\npondent, sent word to him and went\\nto his office. He was out of towvn.\\nI asked for and tried to find a friend\\nof the dead man, outside of his own\\nfamily. If there was one he would\\nnot own it. One man spoke kindly\\nof Morrison. and a man who had\\nknow him longest and best.\\nThe following are my conclusions\\nWilliam Floyd was a good, average\\ncitizen, sober and popular, and of a\\npopular and influential family. John\\nT. Morrison was cross-grained and\\nkilled two negroes (excusably or in1\\nexcusably), had been acquitted and\\nhad had trouble with several other\\npeople, drank, had no family nor in\\nluence. His killing Floyd was an I\\nawful murder and the community\\'s\\nmurder of him more awful still, in\\nthat the consience of the er mmu\\nnity- is debauched with his blood\\nwhich will not be w-iped out for half I\\ncentury. Morrison was a bad man;\\n)ut not as black as painted The jury\\n)f inquest is from the country. From\\nhe foregoing facts if the jury does\\niot take it into its head to vindicate\\nhe law by ferreting it out the state\\ns powerless. There is nothing, it\\neems to me, to be accomplished by\\nhe state\\'s officers, unless ihe jury and\\n:oroner invite them back. We can\\ntssist the county; but can\\'t take\\n:harge of it. I am trusting that after\\n:he first shock of the lynching has\\n)assed the conscience of the law\\ntbiding element of that county will\\n-evive, and something may be done\\nret to bring these parties to trial.\\nNhen I hear from you I will instruct\\n:he jury of inquest to close up its\\nwork. I don\\'t want to be a party to\\nL farce. Very respectfully,\\nJ. K. Henry,\\nSolicitor Sixth Circuit.\\nAnother little custom of Senator\\nEoar\\'s was having one of his Judi\\n:iary committee clerks from his\\n1ative town of Concord, Mass., al\\n:hough his own home was in Wor\\n:hester. To his Concord clerk he\\n.as almost as much a father as a su\\n>erior. It is told of him in Washing\\nton that when some newspaper\\nisked for a photograph Senator Hoar\\naid to William Garland, a former\\nConcord clerk, now United States\\n:istrict attorney:\\n\"Garland, you just go over and sit\\nFor that picture.\" Then, by way of\\nxplanation, he added: \"You seen,\\nGarland, is better looking than I, so\\nwhen any one asks for my picture I\\niave him sit. Then my chief clerk,\\nGoodwin, is a better penman, and\\nwhen people write for my autograph\\n[ have him answer. Then Doherty,\\nrny doorkeeper, he\\'s a better and\\nreadier talker than I, so I always re\\nFer interviewers to him; he\\'ll talk to\\nthem.\"\\nYou Will Not Be Sorry.\\nFor being courteous to all.\\nFor doing good to all men.\\nFor speaking evil of no one.\\nFor hearing before judging.\\nFor holding an angry tongue.\\nFor thinking before speaking.\\nFor being kind to the distressed.\\nFor asking pardons far all wrongs.\\nFor being patient towards every\\nbody.\\nFor stopoing the ears to a tale\\nbearer.\\nFor disbelieving most of the ill re\\nports you hear.-Christian Observer.\\nEVER WATCHFUL.\\nA Little Care Will Save Many New\\nberry Readers Future Trouble.\\nWatch the kidney secretions\\nSee that they have the amber hue of\\ndealth;\\nThe d\\'scharges not excessive or infre\\nIuent;\\nContain no \"brick-dust like\" sediment\\nDoan\\'s Kidney Pills will do this for you\\nThey watch the kidneys and cure\\nhem when they\\'re sick.\\nJonathan Werts of Old Town near\\nIewberry, S C., sa.vs; \\'\\'I have used\\nDoan\\'s Kidney Pill\\'s with wonderful\\nenefit. I had been in bed several weeks\\ndflicted with pains in the Kidneys, and\\n;here was a heavy brickdust deposit in\\nny urine. For days I could get no rest\\nior sleep at night. I learned of Dea 1\\'s\\nidney Pills and got them at my drug\\nists Messrs W.E.Pelba\\'n & Son and\\ney relieved me prompt ly.[ believe them\\nolbe a splendid remedy and I am sure\\n;hat th- y saved my life.\"\\nFor sale by all dealers. Price 50 cents.\\nPoster-Milburn Co. Buffalo. Ne w Yoi k.\\nsole agents for the United States.\\nRemember the name Doan\\'s take no\\n>ther. 16\\nSUEFN6IVR AE\\nIn te n ofest,bt tr\\nIn tea anb fe se, ere.er\\nnid lsuW llindms mvsan.ul\\nTRY SEVI\\nCOSTS YOU NOTHING IF\\nBE THE BEST REME\\nTRIED FOR AIL\\nSTOMACH,BOWELS,\\nYOUR HOME DRUGGIST I\\nThis remedy is purely vegetable and\\neasy to assimilate. The doses are small\\nand pleasant to take. It is prepared\\nfrom the original formula of Dr. Franz\\nGauswein, of Weisbaden, Germany,\\nwho was, until his death, one of the\\nworld\\'s most successful and noted phy\\nsicians. Thousands of families for\\nthree generations have been recom\\nmending this wonderful preparation in\\nthe highest terms.\\nIf your digestion Is Impaired, if your\\nliver Is sluggish or blood is impure,\\n\"Seven Barks\" will surely effect a\\nspeedy cure, as it cleanses, flushes and\\ntones up the whole digestive and drain\\nWe are opening\\nof Furniture eve\\nberry. Come ar\\nRugs, Art Squa\\nMatting, Crocki\\nChina Ware.\\nWe want our friends to come\\nwill buy more goods from us th\\nNewberry Hardware Co.\\'s ol\\nIt is the Right Qual\\n* YOU W\\nDry Goods, linery, a\\n* . Here they are just\\n54 ined Broad Cloth, all lendin\\nS48 inch Heavy Suitings, wort\\n38 inch Heavy Zibbetines, wor\\n* 4o inch Fancy Snitings, worth\\n* 32 inch Trecots Flannels at on\\n+ MILLINERY!\\n* Here is where we save you I\\n* Ladies\\' and Children\\'s Jacli\\n* SHOES: This week we wil\\n* We\\'GIVE FREE $1.00 2\\n*$ro oo CASH PURCH ACE.\\nI 3 yards Best Bleeching at 92\\n* Come where the Price is rigi\\n+ The Right\\nThe .Ne~\\nWIT\\nNEW\\nWe invite dll to come\\nbe convinced that it is i\\nprices. A full line of Dry\\nHats and Groceries, at\\nHARMO:\\nProsperi\\nA CAN]\\n* We hereby annot\\n*candidate for more\\n*ourselves to satisfy\\n: MAYES\\' DF\\n* We believe in w\\nN BARKS\\n[T DOES NOT PROVE TO\\nDY YOU HAVE EVER\\n,MENTS OF THE\\nLIVERANDKIDNEYS\\nAKES THE GUARANTEE,\\nage system in a thorough manner, leav\\ning Nature to do the rest, which it wilL\\nWe cordially invite our friends and\\ncustomers to call and get a bottle of\\nthis higbly meritorious remedy. You\\nmay deposit 50 cents for a bottle of\\n\"Seven Barks\" as evidence of good\\nfaith. Try it as directed, and if found\\nupsatisfactory, we will cheerfully re\\nfund your money. Or, if you cannot\\nspare the small amount we ask on de\\nposit, come anyway and we will take\\nall the risk. What we want Is to intro\\nduce this remedy among our friends\\nand customers where it is not knowv+\\n.10 STOR3D.L\\nthe largest stock\\nr opened in New\\nid see our line of\\nres, Carpets and\\nary, Glass and\\nand seesour stock. A dollar\\nan any other store In tows.\\nd stand, Main St.\\nty at the Right Price\\nANT IN\\nid Shoes At This\\'Season $\\nwhen you need them: +\\ng shades, worth $1.25 at 98 cts. -\\n$i.oo at 84 cents a yard.\\nth 75 cents at 49 cents a yard. *\\n65 cents at 48 cents a yard.\\nLy 24 cents. I\\nMiLLINERY! +\\nlig Money.\\n:ets PRICED RIGHT\\nlsell you Shoes to plesse\\nkmerican Beauty Corset with*\\nScents\\nMAVIRD\\':\\nPrice Store.\\nStore\\n;TOCK.\\nand see our line and\\nhe best at reasonable\\nGoods, Notions, Shoes,\\nT4& soN,\\nty, S. C.\\nDIDATE\\nince ourselves as a\\nbusiness and pledge*\\nall customers.\\nUG STORE.R\\noman\\'s suffrage.',\n",
       "   'batch': 'scu_garydavis_ver01',\n",
       "   'title_normal': 'herald and news.',\n",
       "   'url': 'https://chroniclingamerica.loc.gov/lccn/sn86063758/1904-10-18/ed-1/seq-2.json',\n",
       "   'place': ['South Carolina--Newberry--Newberry'],\n",
       "   'page': '4'},\n",
       "  {'sequence': 2,\n",
       "   'county': ['Marion'],\n",
       "   'edition': None,\n",
       "   'frequency': 'Daily (except Sunday)',\n",
       "   'id': '/lccn/sn84027621/1920-03-23/ed-1/seq-2/',\n",
       "   'subject': ['Florida--Marion County.--fast--(OCoLC)fst01204301',\n",
       "    'Florida--Ocala.--fast--(OCoLC)fst01215855',\n",
       "    'Marion County (Fla.)--Newspapers.',\n",
       "    'Ocala (Fla.)--Newspapers.'],\n",
       "   'city': ['Ocala'],\n",
       "   'date': '19200323',\n",
       "   'title': 'The Ocala evening star. [volume]',\n",
       "   'end_year': 1943,\n",
       "   'note': ['Archived issues are available in digital format from the Library of Congress Chronicling America online collection.',\n",
       "    'Description based on: Vol. 1, no. 5 (June 24, 1895).',\n",
       "    'In 1895, the Ocala (FL) Evening Star [LCCN: sn84027621] surfaced as a rival publication to the Ocala (FL) Banner [LCCN: sn88074815]. These two titles subsequently merged into one publication on September 1, 1943. The resulting Ocala (FL) Star-Banner [LCCN: sn78002071] has remained the daily newspaper in Marion County (FL) since that time. The Ocala Evening Star was also published from 1897 in a weekly edition, the Ocala (FL) Weekly Star [LCCN: sn84027622]. R.N. Dosh, editor of the Ocala Evening Star in the 1920s and 1930s, gave an address to the Ocala Rotary Club, recalling by-gone editors and rival publications, chiefest of whom was Col. Frank E. Harris of the Ocala Banner in the 1890s. He also remembered that the \"Star first saw the light of day in the press room of the Florida Baptist Witness ... the first editor was A.H. Harding ...\" The Florida Baptist Witness (Ocala, FL) LCCN sn95026767], which began publishing in 1884, was the weekly newspaper of the Florida Baptist Convention, an organ of the Southern Baptist Convention. A variant edition of the same title continues (ca. 2008) to publish. Ocala (FL) is the seat of Marion County (FL) government. The Freeze of 1894 dramatically changed the Ocala into which the Ocala Evening Star was born. The Freeze devastated the citrus industry in Marion County. Between 1895 and 1943, other forms of agriculture took the place of citrus while tourism in the area grew. The Silver Springs theme park, known for its crystal clear waters, would do its part like no other attraction in pre-World War II Marion County. The County remained primarily agricultural until after the war, when its character would again change dramatically.--E. Kesse, University of Florida Digital Library Center.',\n",
       "    'Latest issue consulted: Vol. no. 46 (Aug. 28, 1943).'],\n",
       "   'state': ['Florida'],\n",
       "   'section_label': '',\n",
       "   'type': 'page',\n",
       "   'place_of_publication': 'Ocala, Fla.',\n",
       "   'start_year': 1895,\n",
       "   'edition_label': '',\n",
       "   'publisher': 'Porter & Harding',\n",
       "   'language': ['English'],\n",
       "   'alt_title': ['Evening star', 'Star'],\n",
       "   'lccn': 'sn84027621',\n",
       "   'country': 'Florida',\n",
       "   'ocr_eng': 'OCALA EVENING STAR, TUESDAY, MARCH 23, 1920\\ni I\\nOCA LA EVEK STAR\\nand large numbers of square miles,\\nbut we do not find lynching in a coun\\nty with a large number of people.\\n. . , . Why ? Because in a large county\\nPnbllnhed Every Dy Except Sunday by nine-tentns OI tfte people are COOl, not\\njjury does not have to be drawn from\\nthe mob. and, its friends and, sympa\\nthizers.\\nIn a small weak county the people\\'s\\nsympathies are so interwoven with\\nblood and interest, that it would be a\\nmiracle to select twelve men without\\ngetting a friend, or an enemy, on the\\njury.\\nWhere a man knows if he lynches\\nor takes part in a lynching he has got\\nto face twelve cool and just men, you\\nfind no lynching.\\nWhen you enlarge the county popu\\nlation you take from the mob their\\npower or protection in crime what\\never the crime may be lynching is\\nnot the only crime committed in a\\nsmall county.\\nYou will find by looking at the coun\\nty records that lynching increases in\\nthe degree that the population is re\\nduced below a certain minimum re-\\neardless of sauare miles. When the\\nSTAR PUBLISHING COMPANY,\\nOF OCALA, FLA.\\nR. II. Carroll, President\\nP. V. Leaven good, Seeretary-Treaanrer\\nJ. II. Itenjamln, Editor\\nEntered at Ocala, Fla., postofftce as\\nsecond-class matter.\\nTELEPHONES\\nItuIne Of flee Five-One\\nEditorial Department Two-Seven\\nSociety Reporter Five-One\\n3IEMIIER ASSOCIATED PRESS\\nThe Associated Press is exclusively\\nentitled for the use lor republication of\\nall news dispatches credited to it or\\nnot otherwise credited In this paper and\\nalso the local news published herein.\\nAll Tights of republication of special\\ndispatches herein are also reserved.\\nDOMESTIC SUBSCRIPTION RATES\\nOne year, in advance 6.00\\nSix months, in advance 3.00\\nThree months, in advance 1.50\\nOne month, in advance \\' .60\\nADVERTISING RATES\\nDisplay Plate 15 cents per Inch for\\nconsecutive insertions. Alternate inser\\ntions 25 per cent additional. Composi\\ntion charges on ads. that run less than\\nsix times 5 cents per inch. Special\\nposition 20 per cent additional. Bates\\nbased on 4-inch minimum. Less than\\nfour inches will take higher rate,\\nwhich will be furnished jpon applica\\ntion. -\\nReadlas; Notices 5 cents per line for\\nfirst -insertion; 3 cents per line for each\\nsubsequent insertion.- 0 change a\\nweek allowed on readers without extra\\ncomposition charges.\\nLegal advertisements at legal rates.\\nANNOUNCEMENT OP RATES\\nFOR CAMPAIGN ADVERTISING\\nFor the coming democratic primary\\ncampaign the following rates will be\\ncharged for announcements, not to ex\\nceed twenty lines:\\nWeekly Star For member of legis\\nlature, member of school board, mem\\nber of board of county commissioners,\\ncounty surveyor, registration officer,\\nconstable and justice of the peace, 5\\nFor sheriff, tax collector, tax assessor,\\ncounty judge, county superintendent of\\npublic Instruction and all state offices.\\n10.\\nEvening - Star tone insertion a\\nweek) Same rates as Weekly Star.\\nAnnouncements tinder this rate are to\\nrun from date of insertion until date of\\nprimary election.\\nReaders for insertion will be charged\\n. i\\nat me regular commercial rates.\\nCOUNTIES AND CRIME\\nagain divided into communes, which\\ncorrespond to our counties. In Swit\\nzerland, the cantons or states, are\\nabout the size of American counties,\\nand are also split up into communal\\nsubdivisions, and this system is re\\npeated everywhere in some shape in\\nevery civilized nation.\\nGeorgia has more counties in pro\\nportion to population than any other\\nstate, but let it be remembered that\\nat the close of the civil war Georgia\\nhad only about a million people and\\na few over a hundred counties, most\\nof which, as we have said, grew up\\naround pioneer settlements. Accord\\ning to Mr.- Wimpy Georgia now has\\n154 counties, but Georgia in 1910 had\\n2,600,000 people, and now probably\\nhas 2,800,000, showing the increase in\\ncounties has hardly been 25 per cent\\nof the increase in population. From\\nall we know on the subject, the in\\ncrease in counties has been mostly for\\nconvenience in government. The same\\nincrease in counties is going on all\\nover the United States, and the reason\\nis that the county is the most work\\nmanlike unit of government, and peo\\nple in a county of forty or fifty thou-\\nBARGAINS IX USED CARS\\n1917 Ford Touring A-l shape.\\n1918 Ford Touring, new tires,\\n1917 Ford Truck.\\n1916 Studebaker Truck.\\nAUTO SALES CO.,\\nMack Taylor, Phone 348, Ocala,\\nFla. 18-6t\\ngovernmental check begins to weaken, sand people will take more personal\\nlynching begin to occur, and when it\\nsnaps in a county republic, civilization\\nin that republic is lost.\\nLynching \\'is civilization\\'s most\\ndeadly peril and its cause has stumped\\nthe best American brains for over 30\\nyears. Lynching records proper date I They strike an average\\nfrom 1882. thru. But the political\\ninterest in their county affairs than\\nthose in a county of 200,000 or more.\\nIf you will take a statistical table\\nof the United States you will find\\nthere is not much difference in the\\nsize of counties in the various states.\\nthe nation\\nsubdivisions\\n.. Editor Star: Your issue of March\\n8th carrying ..editorial that, I have\\n\"advanced in the Manufacturers Re\\ncord a singular theory to account for\\nlynching\" and, that \"For a southern\\nman Mr, Wimpy is careless\" received,\\nfor which I thank you.\\nIf the readers of your good paper\\nand yourself believe that, a man who\\nhas spent many hours during the last\\n40 years studying man and, for almost\\nthe last four years has given much of\\nhis time to the subject of lynching,\\nis \"careless\" when he states truths\\nand facts that he has found back up\\nby human nature from the beginning\\nof man\\'s life on this earth including\\ngovernmental, religious, domestic and\\neconomical records then I agree with\\nyou and your family of readers.\\nIn my monograph, a reproduction\\nfrom the Manufacturers Record, on\\npage 3, column 2, paragraph 1, which\\nreads, \"We must understand that area\\ndoes not count for much although t\\nhave furnished it in my figures pop\\nulation is what makes a family, and\\nthe individuals or the ones that are\\nguaranteed life, liberty and property\\nbefore trial.\"\\nParagraph 4, column 1, page 9, ends\\nwith these words. \"But until a law is\\nenacted and put into effect that no\\ncounty can exist below a minimum,\\nsay, 200,000 inhabitants, property and.\\nlife will not be safe.\"\\nParagraph 4, column 2, page 10,\\nare these words, \"According to gov\\nernmental science, government is in a\\ndegree as perfect and strong as the\\npeople who form that government.\"\\nIn the light of the language used\\nin these three paragraphs it is very\\nsingular how any one would attempt\\nto talk about the government of\\nsquare miles. Government is formed\\nof people not square miles. Lynching\\nand government is the subject under\\n. discussion and human beings are the\\nones that county government is per\\nmitting lynched not square miles\\nno state has jurisdiction over county\\nlynching and square miles.\\nWhether we want to or not we must\\nrecognize the fact that a family, or a\\nfew. families, in a field, or a county\\nnq matter what size, can govern their\\naffairs as they please, so long as they\\nre guaranteed by every foot of land\\nand wealth of America outside of that\\nfield or county.\\nSo we find the people are guaran\\nteed not square miles, and we find\\npeople lynched in counties with small\\nAs lynching is known as a special of Europe, the parishes of England,\\nAmerican institution and is practiced the communes of France and Switzer-\\nonly in America we are forced to rec- land, are much smaller than American\\nocmize the fact that, a government counties. Yet in those three nations\\ncan be too large or too small just as lynching is almost unknown, which\\nanything else. x does away with one side of Mr. Wim\\nUnder state rights we find that py\\'s argument that small units of\\nwithin our states we have something government breed crime that is, un\\nlike 3000 sovereign republics three less Mr. Wimpy thinks lynching is\\ntimes as many governments as there the only crime.\\nare on the face of the earth outside of In the United States last year sev-\\nAmerica, and lynching occurs only in enty-five negroes were lynched, most\\nthe weak counties and, as jurisdiction of them being in the South, and near-\\nin a civil suit cannot be had outside of ly all for \"the usual crime.\" The\\na county, nor an indictment .be had South covers more territory more\\noutside of the county where the crime than a million square miles than\\nis committed, nor a juryman serve on Great Britain and Ireland, France,\\na jury outside of his county, we are Germany, Austria, Spain and Italy\\nforced to recognize that there can be all put together. There was less than\\nno doubt that the cause of lynching one lynching for every fifteen thou-\\nis the weakness of the county govern- sand square miles. The South has\\nmcnt, in a state, in America, where over 33,000,000 people, and of these\\nlynching takes place. a little over two in a million were\\nA lynching has never been reported lynched. Yet Mr. Wimpy and a good\\nin a strong county government, in this many other people say that lynching\\nMRS. SARA JANE MANLY\\nVocal culture in Merchants block.\\nStudio Hours 10 a. m. to 4 p. m. 16-12t\\nW. K. Lane, M. D., Physician and\\nSurgeon, specialist Eye,\\' Ear, Noee and\\nThroat. Office over 5 and 10 cent store,\\nOcala, Fla. tf .\\nnation or in any other strong govern\\nment, in this world. You have in your\\npower the publicity that can force\\nstate acts, or a federal act that will\\nnot only stop the sinful, criminal,\\nwasteful and extragant cost of main\\ntaining the superfluous jails, court\\nhouses, etc., among 3000 jails, 3000\\nchainerants. 3000 courthouses, 3000\\nsheriffs, an army of bailiffs, 3000 ordi\\nnaries, an army of jurors, an army of\\ngrand jurors, an army of tax collec\\ntors, an armv of tax receivers, an\\narmy of tax boards. But stop lynch\\ning and save civilization.\\nIt is due your readers, yourself, me\\nand civilization that the facts be\\nknown. Please publish this letter and\\nsend me copy of the paper, and oblige,\\nSincerely yours,\\nW. E. Wimpy.\\nClarkston, Ga., March 12.\\nMr. Wimpy\\'s article, which we crit-\\nTo show our confidence in the AUTO\\nSTROP SAFETY RAZOR we allow\\nyou to use it thirty days on trial, free.\\nYou are the sole judge as to whether\\nit gives satisfaction or not.\\nPrice $5.00\\nEach razor is enclosed in a substan\\ntial case, embossed nickle, leather, or\\nembossed polished gun metal. Can be\\nadjusted to any beard. Let us show\\nyou this little marvel.\\nTHE COURT PHARMACY\\nOcala, Fla.\\nf\" 1 \\'\\ntx\\nTHEATEM\\n009\\nThe Brilliant Up-lo-the-Minute Musical Comedy\\nLa. Lai LimoM -\\nCrowded With. Laughter\\nHook by Fred Jackson. Music by George Gershwin.\\nDirect from Henry Miller\\'s Theater, New York.\\nUnique Blend of Music, Comedy and Charm.\\nBroadwayism to the Nth Degree. A Scintilating\\nIaugh-Compelling Musical Kaleidoscope Aero\\nplane Tempo With 16 Big Song Hits.\\nSS Oh Boy ! Oh Joy! SBSC\\nThe Musical Couedv Mjgnificekte\\nPrices: 85c, $1.10, $1.65, $2. Seat Sale Court Pharmacy\\nIf Everything Was As\\nCheap As Our Ice\\nThe cost of living would be as low as it was in the good old days.\\nNo use worrying, however, because it isn\\'t that way. Be glad that\\nice is helping to keep down the cost of living, besides giring yon\\nbetter food and a greater variety of it than your grandfather\\'s fam\\nily ever had.\\nOcafla Ice & PacMegj Co.\\nThe Star is an advertising medium thru Which you can reach Ocala people.\\'\\nis the greatest threat to our civiliza\\ntion, and give you the idea that in the\\nSouth there is at least one lynching a\\nweek in every precinct, when the truth\\nis that millions of people have lived\\nand died in the South without know\\ning anything about a lynching except\\nwhat they have read in the papers.\\nThere is and Mr. Wimpy and eve\\nry other American should know it\\nbut one cause for lynchings in the\\nSouth, and that is the worst of crimes\\ncommitted. on women, and when one\\nof these crimes is committed the\\nwronged woman\\'s relatives will run\\ndown and kill the perpetrator if they\\ncan possibly do so. Southern men are\\nno different from others in this re\\nspect. All over the world men, white,\\nblack, yellow and brown, will defend\\ntheir women or avenge their wrongs.\\nA man who won\\'t, do so isn\\'t fit for u\\nreal man to associate with. Most of\\nthe men who criticise the South would\\nicised. was headed \"Lynchine one evil &ct like Southern men if they lived in\\nof the small countv government.\" and the South. They have not had the\\nargued, as he partly states in the redhot iron of such an outrage driven\\nforegoing, that. a reason for lynchers I into their souls, and they don\\'t know\\nI being immune that in a small county I wnai xney are laiKing aooui.\\n(and by small we infer he meant pop- I Lynching, if it be a crime, is not\\nulation as well as area) was that peo- I the only crime. In the southern states\\npie were so wen acquainted wun eacn me ana property are saier tnan m\\nother, that they had a family feeling I many other parts of the world. We\\nfor each other, or as he states also in I have been in big cities and we have\\nthe foregoing, that lynchers can\\'t be been in the thinly settled country. We\\nconvicted because they are sure to would feel safer at night in the middle\\nhave at least one friend on the jury. cf a Florida forest than in some of the\\nIf such be the case, why is a man in most thickly populated portions of the\\na small county ever convicted of any I towns. The truth is that we think\\ncrime? It is as easy to get a friend\\non the jury for a murderer or a robber\\nas for a lyncher. Yet, if Mr. Wimpy\\nwill study some more statistics, he\\nwill find that the small counties have\\nan enviable record for law and order.\\nAlso, why does not his rule apply to\\nmurder in counties of \"say, 200,000\\ninhabitants\"? Why is it that men\\nA A\\ncommie muraer or otner leionies in\\nNew York and other great cities, de\\nspite the fact that they are almost\\ncertain to face a jury made up of\\n\" twelve cool and just men\"?\\nine stare ox f ioriaa has lour or\\nfive hundred times the area of Cook\\ncareful analysis will show that women\\nare safer in the South than elsewhere.\\nOnce in a while, a brutal negro will\\ncommit an outrage on a white woman,\\nand be visited with summary ven\\ngeance. But these negroes are excep\\ntions. As a general thing, a white\\nwoman is safe from anything like in\\nsuit from negroes. A southern worn\\nan can generally walk safe and re\\nspectea thru a crowd 01 negro men,\\nbut judging by all we have heard and\\nread, and some things we have seen,\\nll a white woman in a northern town\\npasses by a crowd of white loafers or\\ntoughs on the street, she is lucky if\\ncounty.\\'Ill., yet in the city of Chicago I she doesn\\'t hear an insulting remark\\nthere are committed many times more I about her if not directly at her. Rape\\ncrimes than in Florida. The state of lis the southern white man\\'s most un\\nGeorgia has more than a thousand I usual crime. But read thru the daily\\ntimes the area of New York county, I dispatches and mark how many worn-\\nNew York, yet in the course of a year i en and girls in northern states are\\ni\\nt!\\nBuy Your\\nWESTERN MEATS\\nof all kinds\\nFLORIDA BFEF, PORE,\\nPOULTRY, ETC.,\\nfrom\\nNew York Market\\n.W. Broadway\\nPhone 110\\nthere are more murders in New York\\ncity than in Georgia.\\nMr. Wimpy doesn\\'t note that the\\nequivalent of the county exists in eve\\nry country in civilization. America\\ntakes its system of counties from\\nEngland, whose counties or shires\\nwere first marked out with the sword\\nby the petty kings who lorded over\\nthem from the time the Roman left\\nuntil therNorman came. Under Nor\\nman rule, the boundaries of English\\ncounties were fixed and have remain\\ned until this day. England has about\\nthe same area as Georgia, and fifty\\nor sixty counties, but these counties,\\nowing to the growth in population,\\nhave had many accessions to the\\ncounty government, until most of\\nthem now have more officials than an\\nAmerican state. France, with an\\narea of 210,000 square miles, was di\\nvided into provinces until the revo\\nlution, now it is divided into depart\\nI ments, each department correspond\\ning to one of our congressional dis\\ntricts, and these departments are\\noutraged and murdered every year by\\nwhite . men, a large number of whom\\nescape punishment. Why? In the\\nSouth, a woman outraged has a com\\nmunity to summarily avenge her\\neven if she is a stranger. In the\\nNorth, if she is without influential\\nrelatives, if she is a working woman\\nor girl; maybe at a distance from her\\nfriends, she is any man\\'s prey. If she\\nis disgraced or outraged the tardy\\nofficials of the law may put the crim\\ninal in prison, but the rest of the\\ncommunity will generally pass by on\\nthe other side. Several white men\\nhave been hung or electrocuted in the\\nNorth for ill treatment of women, but\\nonly because they added murder to a\\nworse crime.\\nWe criticised Mr. Wimpy\\'s theory\\nbecause it was unusual, but when you\\ncome to analyze it you will probably\\nagree with the Star that he is careless\\nin his statements and wonder why a\\npublication like the Manufacturers\\nRecord ever published an article based\\non such an ill-constructed foundation.\\nfnJ IpT Mf mil Urn\\nSteels\\nMake the Maxwell Thrifty\\nSEVERAL million dollars have been expended to provide mere ele\\ngance, more refinement, more comfort to the current Maxwells.\\nIt is in ever so many ways a superior appearing car; superior, too,\\nin action. . - .\\nBut not a single pound of weight has been added to burden the\\nwork of its great engine!\\nTherefore, despite the many processes of improvement, it doesn\\'t\\ncost a penny more to run a Maxwell than it did a year ago.\\nThe underlying principle of every Maxwell is to give economic\\ntransportation.\\nThis means light weight.\\nBut it means strong steels, as well.\\nIt is no easy trick to provide both lightness and strength in metal.\\nSuch a rare combination means high cost steels.\\nAnd you would find, if you compared a Maxwell with\" any car,\\nthat it equaled that car pound for pound in fine metals.\\nHow such steels affect your pocketbook is obvious. f\\n1. They are light in weight and hence give more mileage on a\\ngallon of gasoline.\\n\"2. As they are fine steels they give long and uninterrupted wear.\\nWhich are but two of many reasons for that definite tendency of\\nworld-wide friendship towards Maxwell.\\nIn six years nearly 400,000 have found their answer to the mator\\ncar question in a Maxwell.\\nThis year 100,000 Maxwells are being produced. li\\nThis will supply but 60 of the demand.\\nCarroll Motors Co\\nOcala - - . Florida',\n",
       "   'batch': 'fu_criser_ver02',\n",
       "   'title_normal': 'ocala evening star.',\n",
       "   'url': 'https://chroniclingamerica.loc.gov/lccn/sn84027621/1920-03-23/ed-1/seq-2.json',\n",
       "   'place': ['Florida--Marion--Ocala'],\n",
       "   'page': ''},\n",
       "  {'sequence': 26,\n",
       "   'county': ['Hartford'],\n",
       "   'edition': None,\n",
       "   'frequency': 'Daily (except Sun.)',\n",
       "   'id': '/lccn/sn82014519/1926-03-26/ed-1/seq-26/',\n",
       "   'subject': ['Connecticut--Hartford County.--fast--(OCoLC)fst01211874',\n",
       "    'Connecticut--New Britain.--fast--(OCoLC)fst01202983',\n",
       "    'Hartford County (Conn.)--Newspapers.',\n",
       "    'New Britain (Conn.)--Newspapers.'],\n",
       "   'city': ['New Britain'],\n",
       "   'date': '19260326',\n",
       "   'title': 'New Britain herald. [volume]',\n",
       "   'end_year': 1976,\n",
       "   'note': ['\"Independent.\"',\n",
       "    'Also published by the Herald Pub. Co.: Bristol herald (Bristol, Conn.).',\n",
       "    'Archived issues are available in digital format from the Library of Congress Chronicling America online collection.',\n",
       "    'Available on microfilm from New England Micrographics, Marlboro, Mass; Connecticut State Library, Hartford, CT.'],\n",
       "   'state': ['Connecticut'],\n",
       "   'section_label': 'Second Section',\n",
       "   'type': 'page',\n",
       "   'place_of_publication': 'New Britain, Conn.',\n",
       "   'start_year': 1890,\n",
       "   'edition_label': '',\n",
       "   'publisher': 'Herald Pub. Co.',\n",
       "   'language': ['English'],\n",
       "   'alt_title': ['New Britain daily herald'],\n",
       "   'lccn': 'sn82014519',\n",
       "   'country': 'Connecticut ',\n",
       "   'ocr_eng': 'I.\\'\\n28\\nNEW BRITAIN DAILY HERALD, FRIDAY, MARCH 26, 102(5.\\nDEATH PURSUES \"COUSIN JACKS\" AS\\nDECAY HAS OVERTAKEN BOOM CITIES\\nDenver, March 2J (41) Tlie \"Cou-\\'mill exltUs ami men travil ly burro.\\nln Jack,\" 11m luojpectoii Hfu-r!1\" utomoI.i.-s or aroot tJtHn.on to\\ngold, are pan,(. Hardly a ek mni n\\'V.V IT\\'T: A\"n,\"\\'\\'n\\nnow koi by bin onl conns don!wor,,\\' ni,u1ll8i, 11 loM tb.. title to\\nthat another baa bwn found di\\'ad In iviral jilacfa in I ho Clilkau Andtn,\\nrotting cabin In tha \"ghoat cltlra\" flunnlaon. Colo., on tli WMilern j\\nthat dot the I) I 1) country of Colo-;MPp. \\'artid a a nilnlng town, It!\\nrado and the mining vn. ha b\\'-comu Hi\" enter of a rich!\\nTho town, many of them, arv dy- much and livestock rcclon. Oura. i\\ntng loo. Once wull worn Mm Is am tho moil fnmoii cold camp In lh\\ngrass grown, and pack rata hiiunt I Juan illMrlct In aotjthwentern\\nthe building. ; Colorado, la Htlll cvlxtMit but only\\nDwav u aort of drv rot hus ! a country town. Tom Walah\\nlug Ita flmt occurrence of the kind\\nalnco HM.\\n\"I\\'urlntf tlm pnbt year flvo alutes\\nwhich had pruMoualy bun on tho\\nhonor roll, namely: Arkanaaa, Ohio,\\nVirginia, Alabama and Vt.ih, loal\\ntheir place bucauaa of inob luiir\\nder within their border,\\' \\'thn com\\nmittee declared.\\n\"I-\\'our slatea, HllnolH, Kentucky,\\nSouth Ctiiolluu and \\'jynni\\'Hwje, w hich\\nhad been on th roll In foinier\\nyears, were rcNtord because thilr\\nhordera were free of lynching In\\nTim couucH\\'h roll of honor fol\\nlows;\\nHtiiir that, luiv.i never had a reoi.\\nord of a lynching: Mawmchnaolta,\\nNew l!iiiii\\'tfhlr, lilioda Inland and\\nVermont. Additional atatoa that liavs\\nno record of a lynching tinea issd;\\nConnecticut, Malno and Nw Joraey,\\nAdditional atnteatliftt have no record\\nof a lynching during tho paat twenty\\neara: I\\'elaware, Mlvhlgun and Win\\ncoimln. Additional mates which have\\ngo record of a lynching during the\\npart ten yeara: Idaho, Indiana. Iowa,\\nMaryland, Nevada, Nw Mexico,\\nNorth IHxkota. Oregon, I\\'ennaylvanltt\\nand Houth Dakota.\\nAdditional Mut which have no\\nrecord of a lynching in tha pant five\\nyears: Arizona, California, Colorado,\\nKaiiMia, Minncfiotu, Montana, Ne\\nbrnsltn, New York. Washington,\\nWest Virginia and Wyoming. Addi\\ntional Maim which hav! no record\\nof a lynching In tho past two years:\\nNorth Carolina and Oklahoma. Addi\\ntional atatea which liavo no record\\not a lynching during iro, : Illinois,\\nKentucky, fouth Carolina, Tenilesaet\\nand Texas.\\nTotal glutei free of lynching In\\n1!:5: IS. Total slates still having\\nlynching: 10.\\nOvertaken them. Doors creak mourn\\nfully In tho breeze or grumblo at\\na mountain gale, sunthlno and rain\\npour alike through gaping link In\\nroofs and the, skeletons of housm ni\\'e\\noutlined through walls bared by\\nstorms.\\nTho name \"ghost titles,\" la apt,\\ndescriptive In tho direct way of the\\nnames of tho old camps; Chested\\nllutter, Uald Mountain and Crazy\\nWoman ranch were all named In\\ndian fashion for obvious reasons,\\nl\\'ovvn In tho southern part of Colo\\nrado, there Is even a Cannibal plat\\neau, so called because u guide nam\\ned Tarkcr charg\\' d partba of hunt\\ners and tourists high rates and then\\ndiscovered thn Camp I\\'drd mine\\noutnlde Ouray and sold It to r.rltlnh\\nIntercuts for .millions of dollars,\\nThe. late Senn\\'or Samuel P. Nichol\\nson, rose to wealth In the Pan Juan\\ndIMrl\\'-t by ownership of th\" I\\'M nnd\\nI\\'l.iy properties. fillverton, Tellu\\nrlde and Lake City wr other lead\\ners In the district which embraced\\na population of more than twenty\\nfive thousand.\\nThe towns one spelled romance\\nIn rnpltnl letter?! to :i large pnrt of\\nthe, nation. Tle y were built, with\\nInfinite labor and moiKy, thn mat\\nrlnls often brine hauled for mtl\"H\\nover treacherous mountain trallH.\\nMost of them wcrt too Inncoestlble\\nate them. The graves of some of I to make razing the bull. lings and\\nV hxptJ v\\'$ :P b\\nshipping the lumber out practical.\\nPo they sro left to rot.\\nhis victims may be teen today.\\nThe names now linger In memory,\\nbut most of tho bonanza mines are\\nllod\\'\\'d or caved In. Sclcntillu ineth\\nods have supplanted the old time\\nprospector and Colorado is talking\\nabout a new hind of mining boom\\nill deep ores.\\nCentral City la perhaps the mod\\nstriking examplu of the change.\\nThirty years ago It boasted a popu\\nlation of IS, t\\'lin. Today there are\\napproximately Mm persons there,\\nand the place has fallen from a\\nbooming city to a sleepy, though\\nhopeful village.\\n(\\'resident Grunt, and his daughter\\nvisitd Central Ciiy and the resi\\ndents paved the sidewalk from the\\nstreet to the old Teller liouso with\\ngold. The Teller House, a four story\\nbuilding, Is on, of tha few things\\nIn the town that attempt! to keep an j (h MCord for 1S24, the Federal\\nair of prosperity. A few trawler j ( Chm.ch,s ,ct forth t0(Uy\\nstop there and some mining men :\\nmake it their home, in t,s annual report on the sub-\\nMost of the ol her buildings are I Ject.\\nAll the states in which the lynch-\\nMore Occurred in 1925 Than\\nDuring Previous Year\\nWashington. March ?6. (.D\\nSeventeen persons all negroes\\nwere lynched In the t\\'nlted states\\nduring 1 PI 5. an increase of one over\\n$x.\\n\\'\\' ih \\'(\\'- \"\"\\'\\'\"\\' \"\"\\'\\'\\'\"? \"\" ,,\\' y\\nWwwm\\n4m\\n\"HI\\n!\\':\\nm\\n7k.\\n&w jj mm\\nire:iert\\':J. Saloon bigns hang over\\nthe fitrcfts and are legible. In one\\not the dance halls tho proprietors\\ndid not bother to remove a grand\\npiano and It ha.s settled with trm\\ncaving floor. liars are covered with\\nyears of dust.\\nHindi Hawk, nar Central City, Is\\nIn the same, plight. Some old tun\\nnels have been opened, a few people\\nwork them but vacant houses stand\\nrow on row. The towns were the\\ncenter of tho Colorado mining boom\\nwhich or years held the nation\\'s in\\nterest. Many of thn towns nro virtually\\nwithout inhabitants except for oim\\nor tvvo old prospectors who slill j\\ndnain that the boom days will re-1\\nI urn. NeMidaville has two men left;\\nA i in li. ij ii City about the same nuin- !\\nI r. A p. ion can wander through\\nOwl. Tiuctjp, Mound City, and Ault- 1\\nman for days at a time without see\\ninn a face.\\n.\\' vadav ille had the first Masonic\\nlodge charter in Colorado and the\\nthird in Kansas territory, which\\nteni unbraced this stale. Tho lodge\\nings occurred were not named dl\\ntectly, but the council put on Its\\nhonor roll S8 commonwealths where\\nno liveo had thus been taken. It\\nalso saw an encouraging sign in the\\nfact that In thirty-nine cases officers\\nof the law had prevented mob vio\\nlence and that there had been a\\nnumber of convictions Of mob\\nmembers.\\nThe report wda prepared by the\\ncouncil\\'s Committee on Kace Ha\\nlations and the committee in an\\naccompanying Matement declared\\n\"mob law has thrown down the\\ngauntlet to the churches and all\\nother organizations standing for law\\nand order and Justice through the\\ncourts.\"\\nThe goal of achieving a lynchless\\nland In 10M could not be reached\\nbecause a lynching had occurred as\\nearly as January, the report add\\ned. Tvvo unusual events were recorded\\nin l\\'.i!S. Texas for the first year\\nsince the beginning of rcords in ISS2\\nI ing free of lynching and t\\'tah hav.\\nTHE AJAX SIX\\n4.DOOR SEDAN\\nT o. d. reexorr\\nFull force-feed lubrication, \"-hearing crankshaft, 6-bearing\\ncamshaft, Wheel brakes, full balloon tires, 5 dlc wheels,\\nnew Mallard Green finish, new Velour upholstery, automatic\\nwindshield wiper, cowl ventilator, dome light and cowl light).\\nAristocraticjlavor\\nat a democratic price. Lucky\\nStriked simple reason for being\\npreferred by millions is\\nO 9.\\nIS,\\nSimply try to match all the features\\nAjax Six offers with what you can\\nget .elsewhere in the $1000 field.\\nYou\\'re sure to buy the Ajax then!\\nA. G. HAWKER\\n52 ELM STREET TELEPHONE 2456\\nJ. B. Moran, Associate Dealer, 313 Church Street\\nvrf\\nThe hidden flavors of the world\\'s\\nfinest tobaccos are developed by\\nthis costly, extra process, and\\nthat\\'s why\\nLucMes\" taste so good\\nA reason\\nmillions\\ncantxesist\\n1\\nBBMKBU\\nCommunity Chest Campaign\\n1926\\n$6\\n6.588-00\\nWELFARE ASSOCIATION\\nTUBERCULOSIS RELIEF\\nJUNIOR ACHIEVEMENT\\nSALVATION ARMY\\nFRESH AIR CAMP\\nVISITING NURSE\\nDAY NURSERY\\nGIRL SCOUTS\\nBOY SCOUTS\\nBOYS\\' CLUB\\nNEW BRITAIN\\n47\\nSick and in trouble\\nwhen I was sick and in trouble ye comforted me\\' How\\nmany hundreds of families in New Britain last year could have\\nsaid that of the Visiting Nurse Association!\\n&\\ntvery day, rain or shine, the little group of faithful women who\\nmake up the Visiting Nurse go their rounds to the sick and afflicted in\\nevery section of this city. No home is too humble, no disease so contagious\\nthat a Nurse does not soon appear at the door in time of sickness. And when\\nshe comes she brings helpful advice, takes care of the bed-ridden and often\\ngets the meals and runs the house if it is a mother who is ill.\\n$ \\' , $\\nTruly, this is help when help is most desperately needed It can be made wider and\\nmore efficient only in proportion as your contribution to the Community Chest is larger.\\n\"Give a Day\\'s Pay\"\\n\\' COMMUNITY CORPORATION\\nHoneyman Auto Sains Co.\\nAlbro Motor Sales Co.\\nWhitmore Paige &.\\nC. A. Konce.\\nJewott Co.\\nDONATED BY\\nO\\'Neil Tire & Battery Co.\\nA. G. Hawker.\\nCapitol Euick Co.\\nAutomotive Sales & Service.\\nKenneth M. Searle & Co.',\n",
       "   'batch': 'ct_floyd_ver01',\n",
       "   'title_normal': 'new britain herald.',\n",
       "   'url': 'https://chroniclingamerica.loc.gov/lccn/sn82014519/1926-03-26/ed-1/seq-26.json',\n",
       "   'place': ['Connecticut--Hartford--New Britain'],\n",
       "   'page': '26'},\n",
       "  {'sequence': 4,\n",
       "   'county': ['Cook County'],\n",
       "   'edition': None,\n",
       "   'frequency': 'Daily (except Sunday and holidays)',\n",
       "   'id': '/lccn/sn83045487/1912-09-09/ed-1/seq-4/',\n",
       "   'subject': ['Chicago (Ill.)--Newspapers.',\n",
       "    'Illinois--Chicago.--fast--(OCoLC)fst01204048'],\n",
       "   'city': ['Chicago'],\n",
       "   'date': '19120909',\n",
       "   'title': 'The day book. [volume]',\n",
       "   'end_year': 1917,\n",
       "   'note': ['\"An adless daily newspaper.\"',\n",
       "    'Archived issues are available in digital format as part of the Library of Congress Chronicling America online collection.',\n",
       "    'Available on microfilm;',\n",
       "    'Description based on: Nov. 1, 1911.',\n",
       "    'Issue for <Nov. 24, 1911> lacks vol., no., and chronological designation.',\n",
       "    'Issue for Nov. 4, 1911 erroneously designated as Oct. 4, 1911.',\n",
       "    'Issue for v. 3, no. 290 (Sept. 7, 1914) erroneously designated as v. 3, no. 300 (Sept. 7, 1914). The error in numbering continues.',\n",
       "    'Issue for v. 5, no. 214 (June 7, 1916) erroneously designated as v. 5, no. 214 (June 6, 1916).',\n",
       "    'Issue for v. 5, no. 7 (Oct. 5, 1915) erroneously designated as v. 5, no. 7 (Sept. 5, 1915).',\n",
       "    'Issues for <May 7-17, 1915> called also \"Moving Picture Edition.\"',\n",
       "    'Issues have no page numbering.',\n",
       "    'Saturdays have Noon and Final editions, Dec. 28, 1912-June 21, 1913; Saturdays have Noon and Last editions, June 28, 1913-<Dec. 13, 1913>; began issuing daily Noon and Last editions, Dec. 20, 1913-July 6, 1917.',\n",
       "    'Vol. 5, no. 36 (Nov. 6, 1915) issue called also \"Garment Workers\\' Special Edition.\"',\n",
       "    'Volume numbering begins with Nov. 20, 1911 issue.'],\n",
       "   'state': ['Illinois'],\n",
       "   'section_label': '',\n",
       "   'type': 'page',\n",
       "   'place_of_publication': 'Chicago, Ill.',\n",
       "   'start_year': 1911,\n",
       "   'edition_label': '',\n",
       "   'publisher': 'N.D. Cochran',\n",
       "   'language': ['English'],\n",
       "   'alt_title': [],\n",
       "   'lccn': 'sn83045487',\n",
       "   'country': 'Illinois',\n",
       "   'ocr_eng': 'IKey are openly condemning thV\\nlynching of Johnson.\\nThe special grand jury impan\\neled by Criminafudge J. Frank\\nMaynard has begun its investiga\\ntion of the lynching. Between 50\\nand 75 arrests are expected be\\nfore night.\\nFeeling is at a high pitch and\\na bloody race war or the lynching\\nof officials may come at any time.\\nSMASHES AIR RECORDS\\nJules Vedrines, master of the\\'\\nair, smashed all previous Mordon\\nBennett speed records at Clearing\\ntoday.\\n\\' The great French airman com\\npleted the 124.8 mile race in 1\\nhour, 10 minutes, 56.85 seconds.\\nHis average speed was 105J4\\nmiles an hour. At times he was\\ngoing 120 miles an hour.\\nMaurice Prevost was to be the\\nnext man to take the air. Pre\\nvost put off his jace until late be\\ncause of the dangerous condition\\nof the air. The blazing sun had\\ncaused many air-pockets.\\nPrevost is really the only com\\npetitor for the cup against Ve\\ndrines. From the American\\nstandpoint, the race is a fizzle.\\nThe defender, which-was talked\\nof so much, was withdrawn yes\\nterday, and AmericaVas left with\\nno machine that could reach 50\\nmiles an hour to compete against\\nthe French wizards.\\nAnxious Passenger -Do you\\nhave many wrecks on this line?\\n\" Conductor (assuringly) Oh,\\nno; \"you\\'re the first one I\\'ve seen\\nfor some time.\\nOUR ARTIST SAYS: \"\\nA nnrtfait of a mother-in-law\\nshould always be a SPEAKING\\nliKeness tJ\\nA vouner actress should be.\\n.painted in oil, while an older one\\nwill show up better it done m\\nCHALK. :\"\\nIf the oortrait of a pugilist i?\\nvery STRIKING it will surely\\nmake a HIT.\\nA Prnhihifinnist\\'s nortralt?\\nshould be painted in WAT\\'ER\\ncolors. t t\\nA Bull Mooser should get into,\\nan ACTION. picture. \\'\\nA vaudeville-star should always\\nbe SKETCHED.\\nAnd the end man should al\\nways be done in CHARCOAL. &\\nAn OIL painting looks good tp\\nPenrose, but he likes the PEN\\'\\nAND INK sketch down in the\\nright hand side of a check better.\\nAny woman\\'s portrait alwayV\\nFLATTERS her when her ene\\nmy glimpses at it, but it doesn\"\\nLIU JrlliK JuaiiLC- wnen nert\\nbest feller gets an eyeiuu ot t.\\nm\\na new shower ;;.\\nA \"sweet and sour\" shower is;\\nuseful to give a bride-to-be. EacH1\\nguest brings two jars filled witpf\\nsomething good to eat. One, for\\ninstance,- may contain strawberry;\\njam and the other mixed pickles.\\nEach jar bears the name of the,\\ndonor and a sentiment to suit ttiet\\noccasion, which may be read\\'\\naloud. The jars will not be lab--,\\neled otherwise, so the ttewlyweds\\nalways have a. surprise as long as\\nthere is one df the \"sweet .or sour\\'\\n, jarso onen.',\n",
       "   'batch': 'iune_echo_ver01',\n",
       "   'title_normal': 'day book.',\n",
       "   'url': 'https://chroniclingamerica.loc.gov/lccn/sn83045487/1912-09-09/ed-1/seq-4.json',\n",
       "   'place': ['Illinois--Cook County--Chicago'],\n",
       "   'page': ''},\n",
       "  {'sequence': 5,\n",
       "   'county': [None],\n",
       "   'edition': None,\n",
       "   'frequency': 'Daily',\n",
       "   'id': '/lccn/sn83045462/1933-11-30/ed-1/seq-5/',\n",
       "   'subject': ['Washington (D.C.)--fast--(OCoLC)fst01204505',\n",
       "    'Washington (D.C.)--Newspapers.'],\n",
       "   'city': ['Washington'],\n",
       "   'date': '19331130',\n",
       "   'title': 'Evening star. [volume]',\n",
       "   'end_year': 1972,\n",
       "   'note': ['\"From April 25 through May 24, 1861 one sheet issues were published intermittently owing to scarcity of paper.\" Cf. Library of Congress, Photoduplication Service.',\n",
       "    'Also issued on microfilm from Microfilming Corp. of America and the Library of Congress, Photoduplication Service.',\n",
       "    'Archived issues are available in digital format as part of the Library of Congress Chronicling America online collection.',\n",
       "    'Publisher varies: Noyes, Baker & Co., <1867>; Evening Star Newspaper Co., <1868->',\n",
       "    \"Suspended Jan. 1-6, 1971 because of a machinists' strike.\"],\n",
       "   'state': ['District of Columbia'],\n",
       "   'section_label': '',\n",
       "   'type': 'page',\n",
       "   'place_of_publication': 'Washington, D.C.',\n",
       "   'start_year': 1854,\n",
       "   'edition_label': '',\n",
       "   'publisher': 'W.D. Wallach & Hope',\n",
       "   'language': ['English'],\n",
       "   'alt_title': ['Star', 'Sunday star'],\n",
       "   'lccn': 'sn83045462',\n",
       "   'country': 'District of Columbia',\n",
       "   'ocr_eng': 'Governor Answers Former\\nPresident’s Criticism of\\nLynchings.\\nBy the Associated Press\\nSACRAMENTO, November 30.—Gov. I\\nJanies Rolph. Jr., who was criticized in i\\nb statement issued by former President\\'\\nHerbert Hoot er and a group of promi- I\\nrent San Francisco citizens last night\\nlor condoning the lynching of two San i\\nJose kidnap-slayers. today aimed criti- i\\ncism at the Hoover administration for j\\nthe use of troops against bonus march\\ners in Washington.\\n\"I deplore the use of troops against i\\nour own people.” the Governor said.\\n•‘Look at the mess we got into when\\ntroops were called out iii Washington\\nBgainst the bonus marchers.\\n\"Men with guns and bombs were sent\\ncut to attack good American citizens—\\nour World War veterans who fought\\n(or us.”\\nThe Governor did not name the\\nHoover administration in this connec\\ntion, although this action was taken\\nduring the time Mr. Hoover was Pres\\nident.\\nHOOVER FLAYS ROLPH ACTION.\\nFormer President Signs Public Rebuke\\nfor Governor.\\nSAN FRANCISCO. November 30 C/P).\\nA public rebuke for the Governor of j\\nCalifornia, to which the name of former j\\nPresident Herbert Hoover was signed,;\\ntoday intensified the cross-fire of criti- j\\ncism over the San Jose lynching of j\\nthe kidnap-slayers of Brooke L>. Hart.\\nGov. James Rolph, if., who was\\ntonsured for his approval of the lynch-1\\nJng in a statement signed by Mr. Hoover 1\\nand other prominent San Francisco:\\ndistrict residents, said in Sacramento1\\nbe had not decided whether to reply, j\\nState Declared Disgraced.\\nThe statement, issued through J. W.\\nMailliard, jr., president of the San\\nFrancisco Chamber of Commerce, de\\nclared ‘ the very spirit of government \\'\\nhas been violated and the State has\\nbeen disgraced in the eyes of the world\\nby a brutal outburst of primitive lust\\n/or vengeance.\"\\nLaudation of the mob violence, it\\npdded. \"particularly when coming from ‘\\nthe chief executive of the State, un\\ndermines the very foundations upon\\nwhich the State and all civilized so\\nciety is built * *\\nThose signing the statement, in addi\\ntion to the former President and Mail\\nliard. were: Dr. Ray Lyman Wilbur,\\npresident of Stanford University and 1\\nformer Secretary of the Interior; W. H. I ,\\nCocker. San Francisco banker; Paul} ’\\nBcharrenberg. secretary of the California | ,\\nState Federation of Labor; Archbishop ]\\nEdward J. Hanna. Rabbi Irving F.\\nReichert. Dr. Aurelia H. Reinhardt, the ,\\nRev. Edgar A. Lowther. the Rev. C. S. ‘\\ns. Dutton, the Rev, Charles A. Ramm, ,\\nRandolph V Whiting. Wallace M. Alex- 1,\\nfender. James K. Moffitt, W. P. Fuller, -\\ndr.; Jesse H. Steinhart. Mrs. William i\\nPalmer Lucus. Mrs. A. C. McLaughlin. <\\nBishop Edward L. Parsons. Warren Ol- ■ \\'\\nney, jr.: Maurice C. Harrison, Mrs. Sa- 1\\nbin Smith, Mrs. Edwin R. Sheldon. (\\nChester H. Rowell and M. C. Sloss. The (\\nlist includes civic, business, church and !\\nsociety leaders of the San Francisco i ■\\nregion.\\n] r\\nFuneral Services Held. j\\nIn Hayward, near which the bodv of\\nHart was recovered from Sail FrailCl5C0 J\\nBay a few hours before the lynching \\\\\\nSunday, a coroner\\'s jury held he had t\\nBeen thrown into the hay by Thomas j\\nH. Thurmond and John M. Holmes i\\nafter they kidnapped him November 9. <\\n- f_^^\\n* (\\nIn Wake of St. Joseph, Mo., Lynching\\nm——M—■——Mir*—1—mi. mm — 111.\\'.\"gi\\nUPPER: Scene in the sheriff’s office at St. Joseph. Mo., after a crowd\\nseized Lloyd Warner, 19. Negro, who confessed attacking two women,\\nand hanged him. The mob crashed through the sheriff’s quarters after\\nfailing to force an entrance at the guarded doors. Lower: Sheriff Otto\\nTheisen, self-styled “Fighting Dutchman.’’ sheriff of Buchanan County,\\nMo.. W\\'ho was forced to surrender Warner to the mob. —A. P. Photo.\\n-—— - - — — \" \\' ’ «\\nST. JOSEPH IS CALM\\nAS PROBE CONTINUES\\nPolice Gathering Evidence on\\nlynching for Next Grand\\nJury.\\n3y the Associated Press.\\nST. JOSEPH, Mo., November 30 —A\\nChanksgiving calm rested today on St.\\nJoseph where Tuesday night a mob\\nlattered its way into the Buchanan\\nbounty Jail, seized and lynched Lloyd\\nVarner. 19-year-old colored boy, ac\\n:used of a criminal attack upon a\\n•oung white girl.\\nAn investigation, ordered by Gov,\\n5uy B. Park, proceeded. WUliam O.\\nlawyers, an assistant attorney general,\\nc*as in chaige. Police and other law\\nnforcement agencies were gathering\\nvidence\\' which probably will be pre\\nented to the December grand jury.\\nThe jury charged Thurmond and\\nJolmes w’ith murder.\\nPrivate funeral services lor Tbur\\nnond and Holmes, victims of tlie mod\\nioience. were held in San Jose yes\\nerday. Thurmond\\'s body was buried\\n[i the same cemetery which holds the*\\nemams of Hart. Holmes\\' body was\\nremated.\\nHOWARD GROUP ASKS\\nROLPH RETRACTION\\nFears Remarks Condoning Lynch\\ning May Endanger Defendants\\nin Scottsboro Case.\\nMembers of the Liberal Student Club\\nof Howard University have forwarded\\n\\' to Gov. James M. Rolph of California\\n■ a resolution demanding that he with\\ndraw his remarks condoning the recent\\nlynchings at San Jose and calling upon\\n! him to bring about the arrest and\\nconviction of the members of the mob\\nThe resolution was adopted at a\\nmeeting early this week at Miner Hall,\\non the university campus, and pointed\\ni out the danger of lynching faced by\\nthe seven accused boys at Decatur, Ala\\nThe text of the resolution follows:\\n“Whereas lynching at any time, any\\nwhere, for any reason is vicious, bar\\nbaric and criminal: and\\n\"Whereas there is danger of the\\nlynching of seven Negro boys at present\\nstanding trial under an indictment for\\nwhich they were twice declared inno\\ncent: and\\n“Wficreas tile condoning of any\\nlynching anywhere is likely to ejicourage\\nthe blood-thirsty mobs of Decatur, Ala.;\\nand\\n“Whereas the widely quoted remarks\\nof Gov. Rolph of California are in the\\n—■ . ■■■—\\n\\' j\\nnature of a direct incitement to mur\\nder: Therefore be it\\n“Resolved. That we. asembled at a\\nmeeting of the Liberal Student Club at\\nMinor Hall assembly room. Howard\\nUniversity. Washington. D C.. demand\\nthat Gov. Rolph publicly withdraw these\\nremarks and that he immediately arrest\\nand prosecute the lynchers. Be it\\nfurther\\n\"Resolved. That a copy of *his reso\\nlution be sent to Gov. Rolph in the form\\nof a night letter and that copies be\\ngiven to the press.”\\nAn international \\' Spanish-Swedish\\nholding company has just bought con\\ntrol of 10 linoleum factories in Ger\\nmany. I\\nROLPH DEFENDS\\nDeclares Citizens Aroused\\nby Fear of Growing\\nPower of Criminals.\\nBY JAMES ROLPH, JR.,\\nGovernor of California.\\nSACRAMENTO Calif., November 30.\\n—Kldnaplngs, murder, gangsterism and\\nracketeering have grown up in this\\ncountry to terrible proportions. There\\nis no security of property. There is no\\nsecurity of life. Mothers even fear to\\npermit their children long out of their\\nsight. The livid head of crime rears\\nltselt in every comer of our Nation.\\nAnd when we view the terrible fate that\\nbefell Brooke Hart, unobtrusively and\\nunsuspectingly going about his daily\\nwork, and the Lindbergh baby asleep\\nin his crib, we realize there is not one\\nof us safe from these fiends.\\nHow, we ask ourselves, has this de\\nplorable condition grown up in this, a\\nmost civilized and highly enlightened\\nChristian Nation? The answer is sim\\nple. These criminals no longer fear the\\nlaw.\\nIf they are arrested, the processes of\\npunishment are slow and cumbersome.\\nMany escape by technicalities; others\\nare subjected to punishment that Is\\nfarcically Inadequate compared with the\\nheinous atrociousness of their crimes.\\nFear Aroused Citizens.\\nThe one thing which the cowardly\\ncriminals fear is an aroused citizenry.\\nThey thrived on the laissez-faire at\\ntitude of our people during the past\\ndecade. But they have overstepped\\nthemselves. The Lindbergh kidnaping\\nstruck terror and bitter resentment to\\nthe hearts of every mother and father.\\nThey resolved then that kidnaping and\\ngangsterism ihust end.\\nTne lynching in San Jose is a mani\\nfestation of public sentifhent aroused.\\nThe murder of Brooke Hart was the\\nstraw that broke the patience of a long\\nsuffering people. The lynching was\\nsomething that had to happen sooner\\nor later. If It hadn\\'t happened in Cali\\nfornia It would have happened *ome\\nwhere else.\\nThe San Jose lynching Is the people\\'s\\nway of serving notice on criminals their\\nday is at an end. Kidnapings •will not\\nbe tolerated in California nor anywhere\\nelse, and I am quite certain there will\\nbe no more for a long, long time. The\\nSan Jose lesson long will be re\\nmembered.\\nLynchlngs are not pleasant, and as a\\nmatter of policy I do not either per\\nsonally or officially condone them. But\\ncrime is an infection in our national\\nsystem. Medicine Is never pleasant to\\ntake, but if it effects a cure it is always\\nworth the momentary unpleasantness.\\nNo price is too high to pay if we can\\ndrive these fiendish kidnapers out of our\\nState and Nation. Naturally, we revolt\\nat the thought of lynching contrary to\\nlaw. But that is softened when we con\\nsider the agony to which Brooke Hart.\\na fine sample of American manhood,\\nwas subjected. And when we think of\\nthe innocent Lindbergh baby wrested\\nfrom the security of his very bed and\\nCHl\\'KCH ANNOUNCEMENT.\\nHmurraal Draign\\nj murdered, can we blame the people tor\\nbecoming aroused?\\nEscape Most Be Closed.\\nNo longer can we permit these crimi\\nnals to stand back and smirk. No\\nlonger can we permit them to say, “If\\nthey do catch me I’ll get out of it.\"\\nAn aroused people will put a definite\\nand permanent end to such blatant dis\\nregard for law as we have witnessed In\\nthis far too long.\\nThe San Jose lynchings were un\\navoidable. Had I called out troops to\\nbeat down the crowd, terrible conse\\nquences would have resulted. Should\\ngood citizens be shot down to protect\\na couple of fiends for whom there are\\nno words adequate to describe? No\\ntroops were called to protect Brooke\\nHart from Thurmond and Holmes. He\\nwas given no chance to plead his case.\\nThe philosophy which causes kid\\nnapers to cringe Is that those who live\\nby the sword, and those who live by ,\\nforce and violence, must expect to ]\\nj take their chances of dying the same\\nway.\\nIt is ridiculous to say that my attl- :\\nj tude toward the California lynchings\\nhas inspired the lynching in Missouri. !\\nThe cases are not at all parallel. The I\\nSan Jose lynching was a revolt against\\nthe wave of kidnapings. It was public\\n1 display of determination to regain\\nI security of their homes, their property,\\ntheir lives. The first thought of a\\nmother Is to protect her children, and\\nthe mothers of America are going to\\nprotect their young and I am going to\\nprotect them In doing so.\\nJustifies Mooney Stand.\\nMany have attempted to bring up the\\nMooney case in condemning my state\\nj ments. Let me say to them that there\\ni have\\' been no bombings in California\\nsince Mooney was put in the peniten\\ntiary and no dynamiting since the Mc\\nNamaras were speedily Imprisoned.\\nPublic sentiment will remain aroused\\nuntil this crime wave is put down. And\\nif this is the only way that kidnapings.\\nmurders and gangsterism can be\\nstopped, public sentiment should remain\\naroused until it is.\\ni It is indeed a sleeping nation that\\ni forever will tolerate what America has\\ni tolerated from these fiends for a decade.\\nThe problem is very real in California.\\nThere are 27 kidnapers now In San\\nQuentin and two in Folsom. Back of\\nevery one is a story of terror and heart\\naches of parents.\\nToday all California, except the\\ni criminals themselves, fell safter. There\\nI is a greater security of home and family.\\n: Let us hope there la no more occasion j\\ni for lynching in this country, and if ;\\ni there are no more occasions for lynch\\ni ing, there will be no lynchings.\\nThe first duty of government is to !\\n, protect its law-abiding citizens—no mat- [\\nter what the methods or the cost. The\\n! criminals have armed themselves. They\\nhave made it war. and so have we\\ni The answer to the question of\\nwhether it was right or wrong can be\\nfound by each one asking himself: \"How\\nwould I feel if my own son were done\\nto death and demand for ransom made\\n1 upon me after he had been fiendishly\\nmurdered?”\\n(Copyright, lor*,r>.. h- \"Vorth American New*\\noaper Alliance. Inc.)\\nThe Fellowship of the\\nUniversal Design of Life\\nWASHINGTON BRANCH X\\nSERVICES, 11 A.M.\\nStoneleigh Court, Conn. Ave. and L\\n“THANKSGIVING”\\nLIBRARY\\nStoneleigh Court. Conn. Ave. A L St. X.W.\\nARCHES ;\\n| WEAK? j\\nI ! PHYSICAL ^CULTURE !\\nI SHOES ]\\ni !\\n5TAC1T5\\n■ Foot Health Headquarters ‘\\n523 11th St. N.W. ;\\niMMIf ■■**■—\"—4\\nWe can ’/ get this price big enough /\\nOnly the men who have owned one of these famous makes of Boucle\\n«\\nOvercoats will know why we\\'re so excited . . . the rest of you will have\\nm m\\nV\\nto take our word for it. They’re one of the hardest wearing, best looking\\nBoucle Overcoats made—and you can’t do much more to prove this than\\nthe test now going on in our window. We’ve even stuck nails through\\nthem to show how they will stand rough wear.\\n/\\nGejLMILA T]ujjnej_ an_d_\\nRroadbrook pjp\\nOvercoats\\nNow speaking of value—we\\nwent back five years (even\\nthrough the lowest price periods)\\nand we have yet to find an equal\\nto this special. It’s all possible be\\ncause we own them at a price that\\nwas set six months ago when we\\nplanned this event.\\nColors are dark blue and oxford\\nand there’s a size and model to fit\\nand satisfy all men. If you know\\nGrosner, you know that we don’t\\nmake a habit of “urging”—but\\nthis is one time when we just can’t\\nhelp saying—YOU CAN’T AF\\nFORD TO PASS UP THIS\\nPROMOTION.\\nI\\nAnother Grosner\\n‘Promotion*\\n*\\nA\\nII\\n■\\nI I\\n: l\\n*\\nSUEDE CLOTH\\nJACKETS\\nToday’s\\nValue\\n$2.98\\nt\\nCossack\\nor Waist Band\\nStyles\\nHeavy suede cloth (and we mean heavy), double\\nnapped. Slide fastener front securely locks out\\ncold. You know how serviceable jackets of this\\ntype are—and how much they usually cost, even\\nat Sears low prices. We sell tens of thousands at\\nthe regular price, for their warmth and style. |\\nThink what a riot these new Jackets will stage\\nat this low one day THRILLER price!\\n4\\nSorry, no mail or phone orders\\nWatch for the inter\\nesting experiences of\\nthe Thrift Famiiyl\\n911 Bladensburg Road N.E.\\nHOURS: 9:30 A.M. TO 5:30 P.M.\\nFridays and Saturdays, 9:30^\\\\.M. to 9:30 P.M^',\n",
       "   'batch': 'dlc_1duchamp_ver01',\n",
       "   'title_normal': 'evening star.',\n",
       "   'url': 'https://chroniclingamerica.loc.gov/lccn/sn83045462/1933-11-30/ed-1/seq-5.json',\n",
       "   'place': ['District of Columbia--Washington'],\n",
       "   'page': 'A-5'},\n",
       "  {'sequence': 1,\n",
       "   'county': ['Montgomery'],\n",
       "   'edition': None,\n",
       "   'frequency': 'Biweekly',\n",
       "   'id': '/lccn/sn84024234/1937-08-06/ed-1/seq-1/',\n",
       "   'subject': ['African Americans--Ohio--Newspapers.',\n",
       "    'African Americans.--fast--(OCoLC)fst00799558',\n",
       "    'Ohio.--fast--(OCoLC)fst01205075'],\n",
       "   'city': ['Dayton'],\n",
       "   'date': '19370806',\n",
       "   'title': 'The Dayton forum. [volume]',\n",
       "   'end_year': 1949,\n",
       "   'note': ['Description based on: Vol. 6, no. 3 (June 7, 1918).'],\n",
       "   'state': ['Ohio'],\n",
       "   'section_label': '',\n",
       "   'type': 'page',\n",
       "   'place_of_publication': 'Dayton, Ohio',\n",
       "   'start_year': 1913,\n",
       "   'edition_label': '',\n",
       "   'publisher': 'J.H. Rives',\n",
       "   'language': ['English'],\n",
       "   'alt_title': [],\n",
       "   'lccn': 'sn84024234',\n",
       "   'country': 'Ohio',\n",
       "   'ocr_eng': 'VOL. XXV., No. 8\\ntont\\nf(\\nSENATORS ASK LEADERTQR\\nVOTE ON ANTI-LYNCH BILL1\\nThe anti-lynchrng bill was inject\\ned into a White House press confer\\nence on Tuesday when a reporter\\nasked the President whether the anti\\nlynching bill would be among the\\nbilh called up before adjournment.\\nThe President is said to have not\\nmade ft direct answer, but to have\\nstated merely that he favored an\\njinti-lynching bill.\\nWagner-Van Nuys Measure, as Last Re&orl,\\nMay Be Attached .as Rider to Another\\nBill in the Rush Toward Adjournment\\ni i, i\\n\"J WASHINGTON—Utilizing every possible strategy to get\\naction upon a federal anti-lynching bill before the adjourn\\n.IRent of Congress, supporters of this legislation are circulating\\na round-robin among senators to be signed and presented to\\nSenator Alben W. Barkley, majority leader.\\n... The round—robin demands action betrayed, but\\nTttent until a vote is had oft the anti-\\' ment to the other bill.\\nlynching bill.\\nIt is expected that fifty or sixty\\nDigners will be secured for this docu\\nment.\\nIn a hectic week of swift move\\nJttent back and forth in the Senate\\nOn pending legislation, the anti-\\nnching bill jumped suddenly to the\\nwhen Senator Royal S. Cope\\ntend, of New York, move-i to attach\\nft as an amendment to the length-\\n#f~freight—train\\nbill. It is believed\\nIhat Senator Oopeland had two\\'\\nHiotives for this entirely unexpected\\nthove. One was to try to defeat the\\n^••\\'freight-train bill, which /e is op\\n§osing and the other was t0 make\\nbid for the support of Negro voters\\n\\'•fai his contemplated race for Mayor\\nNew York City. Senator Cope\\nland long has favored the anti\\nlynching bill.\\nSenator Copeland\\'s action,\\' which\\nWas his own idea, was not a popu\\nlar one since the freight-train bill\\n*Was backed by the four railway\\nbrotherhoods.\\nWhen a move to attach the anti\\nlynching bill as an amendment was\\n\"voted down 41-34, Senator Cope,\\nland announced his intention to try\\n%o attach the anti-lynching bill to\\n\"the wages and hours bill. This\\nbrought on a conference toetw\\'een\\nSenators Wagner, Copeland and Van\\nJ\\'Nuys\\nWednesday noon and it was de\\n«ided then not to use the rider meth\\npd except as a very last resort.\\nIt was felt that the anti-lynching\\n^ill ought to go through and be test\\ned on its merits and not be forced\\nthrough by the \"slick\" method of\\nattaching it as an rmendment. It\\nwas felt that he co/nty is entitled\\nt0 a record vote on this legislation.\\nIn an exchange of remarks in the\\n^Senate July 28, Senator Robert F.\\n.Wagner of New York requested per\\nmission from Majority Leader Bark\\nley to make a motion to bring up\\nfthe anti-lynching bill and it was\\ngranted. Both Senator Wagner and\\nSenator Copeland stated they wished\\nthe anti—lynching bill to be consider\\ned on its merits and they were joined\\nin this sentiment by Senator Barkley\\nwho said:\\n\"I realize the anti-lynching bill is\\na matter of importance and ought to\\nbe disposed of ... I do not think the\\nbill ought to be considered as an\\n7 amendment to other legislation. In\\nmv judgement it ought, not be con-\\nJhafc the antf-lynchm*\\nIN\\nmany\\n^he anti-lynching bill before ad able to the anti—lynching bill hasten\\njournment and in effect serves notice ed to explain that they were not\\nthat the signers will oppose adjourn- opposed to it but\\nThe most recent checlcl^ follow\\ning the vote on the Copeland amend\\nment shows 73 votes for the anti\\nlynching1 bill if |t can be gpt t0 the\\nfloor.\\nA conference\\' was beld with Serial\\ntor Barkley who stated he was syirtj\\npathetic but could make no fscom^es\\nand give no assurances.\\nA veiv good friend of the anti\\nlynching bill which occupies a power\\nful position in the Senate has advised\\nsupporters of the bill that about the\\nonly chance left is to attach it as\\na rider to an administration measure,\\nbut it is emphasized that this method\\nwill be used only if every other stra\\ntegem fails.\\nIn further effort tto \\'secure action\\non the bill on its merits, the follow\\ning telegram was sent t0 59 senators\\nby Walter White, NAACP secretary:\\n\"Supporters of Federal Anti~\\nLynching Legislation are dismayed\\nat unanimity of reports from Wash\\nington that Congress plans consider\\ning only certain bills of which anti\\nlynching bill is not numbered and\\nthen adjourning. In view of over\\nwhrtlming vote by IIou.*e ^for\\nThe vote to table the anti-lynching be done bpy this Congress. Will\\nV bill\\nas an amendment to the-freight- deeply appreciate your telegraphing\\ntrain hill brought a flood of protests expression of your position to me\\nto W^binfton hv people who felt care Hay—Adams House Washing-\\nbill\\nhad been\\n\\\\gN^gvr^»N»«^#s»Nl^rriMWNW#»v\\nNC\\nsenators\\nRace Candidate\\nfavor-\\nonly\\nus an amend\\nDON:T FAIL\\nTO VOTE\\nbill\\nand of independent polls of Senate\\nwhich indicate that between sixty\\neight and seventy~£ou)r senator,\\nfavor Wagner-Van Nuys-Gavagan\\nBill and of seemingly authentic a\\nsurances that there will be no liji\\nbuster against bill you can easily urn\\nderstand why there should be pu/.\\nzlement at lack of action on bill. Thi\\nfeeling has multiplied since shod,\\ning double lynching last week in\\nFlorida where two young boys wei\\nlynched with apparent connivance it\\nnot actual participation of peace of\\nficers. The National Association for\\nthe Advancement of Colored People\\nwhich has acted as coordinating\\nagency for organizations and indi\\nviduals who have woked for passage\\nof antii-lynohing legislation -has\\nsought t0 assure enquirers regarding\\nnon*-action of Senate that neither\\nindifference nor lack of interest on\\npart of senators is responsible for de\\nlay. Senators Clark, Capper, Moore,\\nSmathers, Bulkley, Wagner, Van\\njvfnys, Lafollette* and others have\\nvoluntarily... stated they will vote\\nagainst adjournment until anti\\nlynching bill is voted on. We fully\\nappreciate and sympathize with de\\nsire of many members of Congress to\\nget away from the oppressive heat\\n•of Washington but we are equally\\nconcerned with fact that Amei\\'ican\\ncitizens now alive may conceivably\\nbe burned alive at the stake or by\\nblow—torches or otherwise killed by\\nlawless mobs before next session of\\nCongess convenes. Since anti-lynch\\ning bill can be passed in not more\\nthan one or two days-ace you willing\\nsidered as an amendment to the to join in insisting on action at thi?\\npending bill (Wages and Hours) or session of Congress and if necessary\\nt0\\nany other bill. It ought to to vote\\nagainst\\nconsidered on its merits. So far as anti-lynching bill-is voted on. Such\\nI am concerned, I should be willing an assurance fr\\'pm yourse\\'^ as a\\n..and glad to confer with the authors friend of this tragically necessary\\nof the anti-lynching bill in an effort legislation will be most heartening\\nto work out an agreement as to a and will ermit us answer* fairly and\\ntime at which it may be considered.\" intelligent^ enquiries as to what will\\n1\\nton,\"\\n1 \\'K~ mr+0r- V*\\nThe Wefct Side Citizen^\\' Commit\\ntee is uging everyone to vote in the\\nPrimary, August 10. The purpose of\\nthe primary\\nis\\nto afford\\nI\\nadjournment until\\nthe citizens\\nan opportunity to select the best\\ncandidates fo rthe November elec\\ntion. Where voters faiL to show\\ninterest in the -primary they nullify\\nits objective.\\nThe\\ncandiuuey of C.\\nJosef McLin should be a sufficient\\nincentive to draw out every Negro\\nvoter. McLin has a goo.d chance to\\nwin the nomination. Don\\'t fail your\\nrace at this critical time. Not only\\nvote yourself, but urge your neigh\\nbor to vote.\\nDAYTON\\'S OLDEST\\nPASTOR DIES\\nREV. FANK L. TATE,\\nminister at Mt. Olive Baptist Church\\nfor 29 years, the oldest pastor in\\nDayton in point of service, died sud\\ndenly Thursday morning from a\\nheart attack.\\nRites for the Reverend\\' Tate will\\nbe held at Zion Baptist Church at\\n1:30 I*.M. Monday afternoon, Aug.9.\\no\\nElected Moderator\\nEST ELL,\\nREV. ERNEST C.\\npastor of Tabernacle Baptist Ch6?eh\\nFRIDAY, AUGUST 6, 1937.\\n..y «r- .y\\nin\\nGET ALUMNI TRIBUTE\\nDR. AND MRS. H. L. McCROREY\\nPhoto show.* Dr. and Mrs. Henry Lawrence McCrorey in their hom*e\\nat -the President\\'^ Hou*e on the campus of Johnson C. Smith University,\\nCharlotte, N.C. Dr. McCrorey, who has completed\\nOf Mrs. McCrorey the Alumni Journal said: \"Mrs. McCrorey ... has\\nbeen a factor\\nalso of the civic, educational, and church life of the\\nNEW ,YORK C)—\"This is what\\nthe new kind of religion is doing for\\nthe people,\" said Bishop R. C. Law\\nson of the Refuge Church of Christ\\nof tbe Apostolic Faith, as he pointed\\nto the new four-story apartment\\nhouse and a two story private house\\nwhich have been remodeled, which\\nwere purchased by his church recent\\nly in West 132nd street, just behind\\nthe church and community center\\nproper which have a 60 foot front\\nfrom 52 to 56 West 133rd Street,\\nand all valued at around $100,000,\\n\"We are trying,. here,\" the Bishop\\nbut we also try to make it possible\\nfor them to get some material bles\\nsings here on earth.\"\\nAfter seventeen years in Harlem,\\nwhere he came unknown, Bishop\\nLawson has worked steadily in the\\nheart of Harlem\\'s \"East Side Slums,\"\\nand has developed a highly creditable\\ninstitution^hjeh is making a great\\ncontribution to the welfare work of\\nthe Community, la. addition to the\\nchurch, which se^ts%v^G00 persons,\\nbut is always overflowJM, the^\\'c are\\na number of Recreation and\" osther\\nDayton, Ohio, was elected MQ^^rator rooms and in additionHa the •spirit\\nof the Western Union Baptist Asso-, ual and recreational side, there Js a\\nciation, pieeting at Locklaad, Ohio, bookstore, printing plant, \\\\mdcrtak\\nlast week, establishment, beauty parlor,\\n\\'l I J.1\\' -Jjfv a, I\\'\\n3 I\\ni\\nv-\\nthe cultural atmosphere not only of the University, but\\nMfwMfti\\nthirty\\nof the institution, received the following tribute from the Alumni recently:\\n\"When Dr. McCrorey came to Charlotte, the University was in its\\ninfancy. A quiet, studious youth, he b*\\'gan to dream dreams, to forrnu\\nlate an enduring philosophy of life, which has sustained and strengthened\\nhim through these many years. Doubtless even then he had a vision of\\na great future for Smith.\\n\"A true Christian gentleman sincere of purpose, quiet and court.eou«\\nof manner, he made many friends for the institution. An:ong these were\\nMrs. Johnson C. Smith of Pittsburgh, Pa., and Mr. James B. Duke of\\nCharlotte, N.C., whose large gifts made possible the institution\\'# great\\npi ogress in recent years.\"\\ncity\\nThe largest class in the history of Smith was graduated this year: a\\ngroup of 77—71 from the School of Liberal Arts and 6 from the school of\\nTheology. The class presented the school with a drinking fountain.\\n—-(Calvin Service)\\nK40ft»il*K«aiaBSIEamflHeB8iraiia«MHlMMMaBBMaM«BMK«Mk\\nBISHOP LAWSON\\nand community.\\'\\nSUCCEEDING\\nWITH NEW KIND OF RELIGION\\ndining room, apartment house, and\\nan insurance organization paying\\nsick benefits, all so interwoven as to\\ncontinue coVJbuting to the growth\\nof the main idea, the church, and\\nat the same time give employment\\nto members, and keep business within\\n•t|ui-:group,i\\nA Forceful Preacher\\nBishop Lawson, a towering man of\\nsix feet and three-fourths of an\\ninch, weighing over two hundre.\\npounds, with a plump round face and\\nnever-ending, jolly smile, is one oi\\ntu T7~\\' 7 -7 ~i i the most forceful preachers in New\\ncontinued, \"ty combine,spiritual .wel-\\n1\\nI o k e e i e v e s a y i n e\\nfare with the creation ot economic\\n... ... 11 fight to the enemy, and when he wins\\nopportunity. What the people need\\na victory, be believes consolidat\\ntoday are jobs^—a chance to live. We ....\\ni 4.U nu ,»•«_ i f?a,ns, so that the next tim\\nteach them Christ and Him crucified,\\nhe makes a foray on the enemy—\\nSatan he will add still mor\\nstrength to his kingdom. By tbih\\nmethod he has gradually built up his\\npowerful organization. At first \\'he\\npreached in a basement, then in a\\ntent, and then in a store-front, and\\nnow he has one of the more sub\\nstantial churches of upper Manhat\\ntan, He is alas pastor of a second\\nchurch—Refuge Church of Christ\\nI No. 2, 254 Green Avenue, Brooklyn.\\nDescended from four generation*\\nof preachers down in New Iberia,\\nLouisiana, where he was born, Bishop\\nLawson, after being educated at\\nHowe Institute in his homo state\\ncation of Montgomery\\nyears as head\\nLYNCH VOTE\\nNAACP WINS EQUAL SAURIES\\nFOR TEACHERS IN MS. COUNTY\\nsalaries nit\\nv\\nthe other fifty per cent Augusi 1,\\nli\\'38, at which time they will be equal\\nto the salaries of whit^ teachers.\\nThis means that if a-colored teach\\ner in Montgomery ..county is now\\ndrawing $400 u year atul a white\\nteacher is drawing y«ar for\\nthe same wprjc, the colored teatvher*\\nWill be. paid $00 a year beginning\\ni^ugUMfe\\'l and $J3J0 a year bwgiiining.\\nAugusti, 1038.\\n1\\nPRICE FIVE CENTS\\nROCKVILLE, Rid. ln a settle-, white teachers and it is* believed that\\nntent out of cQurt, the board of edu- the action\\ncounty\\nof\\nA total increase of $80,000. wiH\\ngo into th6 pajf, envelope of I^egrcif.^cided *Ao settle out\\nteachers in Montgomery County as a equalize the salaries of the teachers,\\nresult of the NAACP legal action. An agreement to this effect was sign\\nand $15,000 of *\\'iis amount \\'wi »d\\nColored citizens of Dayton count\\' fui church programs to her during\\nthemselves fortunate in having the her ]ast\\ncity\\nMontgomery couttty\\nand its will cause other counties to equalize\\nattorneys agreed with attorneys of the salaries and thus bring bigger\\nthe National Association for the Ad- checks to Negro teachers.\\nvancement of Colored People to\\nequalize the salaries now being paid\\nto white and colored teachers in the\\ncounty.\\n.-..The board will raise the colored\\nteachers\\' salaries fifty per cent be-\\nper cent be- v\\na lion wt\\'ro being pan! $1,126 a year,\\ntginning August 1 and will raise them- ...yrt-i,\\nThe NAACP suit in Montgomery\\ncounty was brought in behalf of\\nWilliam Bv Gibba, Jr., who wag be\\ning paid $612 a ytar, whereas whites\\nwith his same experience and educa-\\nd,.\\nrvu\\ni i n i i\\n-.•••• IVHen Ihurgood Marshall and Leon\\n14\\n.1 A. Hansom, NAACP attorneys, hied\\nthe suit, \\'attorneys for the county\\nboard of education filed a demurrer\\ntp the whole proceeding which, if\\ngranted by the cotj*t, would have\\ndismissed the suit. But the court,\\nafter hearing the argument, refused\\nto graht tite demurrer and ordered\\nthe county hoard of education to\\nariswor the petition, \\'a\\nIt whjs at this ptufti tiiat tie county\\nof couyt and\\nJuly\\nbe paid beginning August 1. It is superintendent of schools, and Wil\\nestimated that in the whole state of liam Prettyman^ attorney i\\'or the\\nMaryland Negro teachers are re- board, and Thurgood Marshall and\\nceiving a total of $500,000 less than Leon Ransom acting for Cibhs.\\nNOMINATE JOHN F. AHLERS\\nFOR CITY COMMISSIONER\\n23 by Dr. Edwin W. Broomo,\\nsickness.\\nprivilege to help nominate and elect, West Siders will remember how\\nJohn P. Ahlers to the\\ncommis-1 ynd\\nto be a dependable friend, ever ready\\nto use his influence to put over any\\nworthwhile program. Having charge\\nof Public Relations Work of the\\nwelfare division of the National\\nCash Register Co., Mr. Ahlers has\\nbeen in a position to help our group\\nthrough the years from the time of\\nthe 1913 flood.\\nFriend of Mother Danbar\\nIn ftie declining years of her life,\\nmother Dunbar depended upon Mr.\\nAhlers feor consolation and many\\ncomferts of life. It will be rememb\\nered how he placed a radio in the\\n{Continued on pag® 2) Dunbar horn© that brought beaufei-]^ i ^Continued oijage.$\\nan,|\\nsion. In point of rendering service jng the 1933 tornado when many\\nto his fellow man, Mr. Ahlers is homes were destroyed or damaged,\\ngarded by many as Dayton\\'s \\'First As chairman of the Red Cross com\\nCitizen.\\' Negroes have found him\\nmittee,\\n11\\nliberal Mr. Ahlers was dur-\\nMr. Ahlers worked diligently\\nto rehabilitate the people in their\\nhomes regardless of race.\\nAppoint ted Colored Census Workup*\\nIn 1UI0 Mr. Ahlers had charge of\\nthe federal census woikers and for\\nthe first time in Dayton many colored\\nnumerators were appointed. He has\\nassisted several struggling churches\\nand, kidi|ed, nevolr turns down a\\nworthy cause.\\nDuring the Ohio flood last winter,\\nMr. Ahlers once more came 1k the\\nfront. Dayton was ar.ked to raise\\n$8,000. He entered the work with',\n",
       "   'batch': 'ohi_dahlia_ver01',\n",
       "   'title_normal': 'dayton forum.',\n",
       "   'url': 'https://chroniclingamerica.loc.gov/lccn/sn84024234/1937-08-06/ed-1/seq-1.json',\n",
       "   'place': ['Ohio--Montgomery--Dayton'],\n",
       "   'page': ''},\n",
       "  {'sequence': 12,\n",
       "   'county': ['Wayne'],\n",
       "   'edition': None,\n",
       "   'frequency': 'Weekly',\n",
       "   'id': '/lccn/2013218776/1921-10-22/ed-1/seq-12/',\n",
       "   'subject': ['Dearborn (Mich.)--Newspapers.',\n",
       "    'Michigan--Dearborn.--fast--(OCoLC)fst01205237',\n",
       "    'Michigan--Periodicals.',\n",
       "    'Michigan--Wayne County.--fast--(OCoLC)fst01206628',\n",
       "    'Michigan.--fast--(OCoLC)fst01208387',\n",
       "    'Wayne County (Mich.)--Newspapers.'],\n",
       "   'city': ['Dearborn'],\n",
       "   'date': '19211022',\n",
       "   'title': 'Dearborn independent. [volume]',\n",
       "   'end_year': 1927,\n",
       "   'note': ['\"The Ford international weekly\" appears with title in masthead, <Jan 1919-Apr. 1925>.',\n",
       "    'Archived issues are available in digital format from the Library of Congress Chronicling America online collection.',\n",
       "    'Available on microfilm from the Auburn University Libraries.',\n",
       "    'Description based on: Vol. 7, no. 27 (Jan 31, 1908).',\n",
       "    'Includes editorial page by Henry Ford.',\n",
       "    'Numbering irregular.',\n",
       "    'Published as a weekly periodical <Nov. 1, 1919>-<Dec. 31, 1927>'],\n",
       "   'state': ['Michigan'],\n",
       "   'section_label': '',\n",
       "   'type': 'page',\n",
       "   'place_of_publication': 'Dearborn, Mich.',\n",
       "   'start_year': 1901,\n",
       "   'edition_label': '',\n",
       "   'publisher': 'Suburban Pub. Co.',\n",
       "   'language': ['English'],\n",
       "   'alt_title': [],\n",
       "   'lccn': '2013218776',\n",
       "   'country': 'Michigan',\n",
       "   'ocr_eng': '12\\nThe Colorado, Mother of an Inland Empire\\nContinued from pate 2\\nColorado at Lacuna Pain a few miles above the\\ntown of Yuma was planned. This dim. which\\nis the only dam at t installed on the v\\'olo-\\nrado, was put in to divert water to irrigate what\\ni known at the Yuma project, an irrigation proj\\nect sponsored by the 1\\'nited States Reclamation\\nService. The dam. which c re than $1,-\\n000,000. is what is known as a mat or basket duB,\\nbeing simply set in the river to back up the water\\nso as to get the necessary fall to irrigate the\\nlands on the Arizona side.\\nBy raiding this dam a few feet higher, en\\ngineers have estimated, water could be di\\nverted into a canal to be dug through the chain\\nof sand hills that separates the river from Im\\nperial Valley. Thll proposed canal would parallel\\nthe international line until it reaches the present\\ncanal at r near the place where it crosses the\\nborder and comes ii I American territory. Be\\nsides supplying all the present lands now under\\nirrigation. thi prop DStd canal could, through the\\nuse of pumping plants to force the water to\\nhigher levels, bring under irrigation about\\nJ4iMoo more acres of land in this region\\nfo i nstruct uch a canal it would be BeCCI\\nsarv t make a (fata cut or tunnel through the\\nland hills Competent engineers sa this is en\\ntirely Maik Kose. an Imperial Valley tanner, of m\\ndomit.i! will, has worked tor years on this\\nplan. - lllllMIM I Itandtni almost alone .Single\\nhanded he tackled Washington and after years\\nof patient endeavor tuccetded in getting a con\\ntract trom Franklin K. Lane, then Secretary\\nof the Interior.\\nHe organized a company known as the Im\\nperial Laguna Water Company After he had\\nexpended $7J.(HK) of his own and his associate\"\\nmoney in surveys and other preliminary work,\\nthe contract wai canceled by Lane\\'s successor.\\nSecretary Payne, on the ground that Rose had\\nnot complied with its conditions by beginning the\\n: k in time\\nRose\\'s failure, it is asserted, was largely due\\nto the alleged political machinations of interest I\\nbelow the border, which naturally did not wish to\\n-re an all merican canal built, as that would\\ncompel them to spend their own money to irri\\ngate their lands\\nThrough the interposition of former Secretary\\nl ine, an agreement was made at the tune of the\\ncancelation th.it Rose and ins company were to\\nbe reimbursed for the money expended The dis\\ntrict, however, was enjoined from carrying out\\nthis agreement. Rose fought the case in the\\ncourts and lost out.\\nIt had been Lane\\'s plan for the government to\\ngive the 240,000 acres to he reclaimed by the all\\nAmerican canal to returned soldiers, veterans of\\nthe World War. and the aid of the American\\nLegion had heen enlisted for this purpose.\\nUnder Rose\\'s contract with the government,\\nhe had agreed to build the canal at est solely\\nto develop the valley. His only pecuniary interest\\nwas in his desert claims that would be irrigated by\\nthe proposed canal.\\nA second and concluding installment of this article\\ntrill appear in an early issue.\\nMust We Have a Federal Anti-Lynching Law?\\nSIN\\'CE Mr Harding, in his first presidential ad\\ndress to Congress, invited the tSQU of that\\nbody, and of the nation, to the lynching evil, the\\npublic mind has not been allowed to ! rget the prob\\nlem of racial ratal ihips, or the problem of mob\\nviolence The two problems are dis: net, but in the\\nSouth they are closely related.\\nThe first reaction to the President s speech in the\\nSouth was a vig rOttS protest by numerous political\\nleaders and newspapers against the implication that a\\nFederal law against lynching might be found necessary.\\nLynchings. it was said in substance, are violations of\\nstate law and should be proceeded against by the state\\nthe same as other riots or other murders Federal\\ninterference in such matters, it was pointed out, would\\nbe a direct interference with the police powers of the\\nstates, a possibly unconstitutional exercise of power by\\nthe national government to the disregard of state rights\\nhitherto reserved and jealously guarded.\\nThis argument is sound. It is, under our form of\\ngovernment, the legal and moral right of every state to\\npunish its own criminals. Federal interference with\\nthis right would be risky, and should be unnecessary.\\nA Federal law against lynching. Federal interference\\nin the capture and prosecution of persons accused of\\nlynching, would be bad for us in more than one way.\\nIt would be bad because it would lead the national gov\\nernment into the exercise of police powers yet re\\nserved to the states, because it would take away from\\nthe state and the local community the right to ad\\nminuter their own affairs, ai d because it would almost\\ncertainly lead to a weakening of the hber of local law\\nand to a loss of self -confidence and self-reliance on the\\npart of the communities affected by its application.\\nThere remains, however, a higher, more sacred\\nright than the right of the state to the exclusive ex\\nercise of the police powers within its bounds. That is\\nthe right of the individual citizen to have the benefit\\nof the guaranties and the protection the law is sup\\nposed to give him. If the state fails to protect its\\ncitizens in their constitutional rights, the nation must\\nr or later take that protection upon itself. I\\nwrite as a southern r. from a southern viewpoint, and\\nwith the southerner\\'s traditional and I think justi\\nfiable desire to see each state left as nearly free is\\nprudence permits to deal with its own particular prob\\nlems. It is as a southerner that I say that lynchings.\\nand such race r !- a- .:--w directly out of lynchincs.\\nor attempted lynchings, are not going to be tolerated\\nmuch longer by the conscience of this country or of the\\nworld, and that if the states do not stop lynchings the\\nnat n will and should do it.\\nI he mob spirit is the enemy of all law No state\\nthat permits mobs to work their will unchecked and\\nthen to go unpunished can reasonably expect obedience\\nto law or respect for tin agencies of the law. The\\nSouth has been criminally negligent in this respect, and\\nhas paid the penalty, not only in unnecessary feeling\\nand friction between the two races, but in its exces\\nsively large number of crimes against property and\\nperson. The Tulsa race riots were directly due to the\\nfailure of officials and citizens vigorously to uphold\\nthe law The recent tarring and feathering of white\\nwomen in Texas is but an example of the lengths to\\nwhich the mob spirit will go when mob crimes are\\nleft unpunished.\\nMob violence is not confined to the Smith, nor are\\nall lynchings due to race feeling White men are\\nlynched. The mob spirit, even the unreasoning race\\nKcling that leads to mob violence and lynching, exists\\nin the North as well as in the South. No section of\\nthe country can claim immunity from race prejudice\\nor from an active disrespect for the law. It is in the\\nSouth, however, where the two races are the most\\nclosely thrown together, where the race consciousness\\nis most exaggerated, and where lynchers seem to be\\nmost immune from punishment, that the worst record\\nis made.\\nLast year 61 persons were killed by mobs in the\\nUnited States. Fifty-two of these lynchings took place\\nin the South. Fifty-three of the persons lynched were\\nNegroes. Ten of the lynchings took place in Texas;\\nnine in Georgia. Several attempts at lynching were\\nBy E. E. MILLER\\nput down by officers of the law. Not a single person\\nin a southern state, so far as I have been able to learn,\\nhas been punished for taking part in a lynching. In\\na majority of cases no real effort was made to find out\\nthe guilty parties and punish them.\\nLynchings can be prevented not every lynching,\\nperhaps, but certainly a great majority of them. Most\\nof them take place simply because the officials charged\\nwith the enforcement of the law do not try to prevent\\nthem. In Tennessee, with a governor who held that\\nhe could do nothing in case of a threatened lynching\\nuntil requested by the local authorities, at least two\\nmobs pursued Negroes for two or three days before\\ncatching them, the newspapers telling day by day of\\nwhat was going on, and finally reporting the burning\\nof both victims by mobs maddened by hate and hist\\nfor blood. I saw one of these mobs with its victim;\\nrode on the same train with it for several miles and\\nknew that a dozen resolute men backed by the author\\nity of the state could have prevented the brutal and\\nbrutalizing end. The succeeding governor announced\\nthat he would use all his power to prevent lynchings,\\nand did use force against mobs. There was not a sin\\ngle lynching during his two years in office. A few\\nyears ago a white person accused of a sensational crime\\nwas taken from the Georgia penitentiary and hanged\\nby a mob. The very next morning the governor of\\nthe state came out w ith a statement that he had no idea\\nthat the guilty parties would ever be found. Newspa\\npers all over the South published detailed reports of\\nthe affair purporting to come from members of\\nthe mob. but no effort was made to find out who\\nthey were, or to bring them to justice. Since then\\nGeorgia has had more lynchings than any other state.\\nLynchings can be prevented. They occur, in most\\npart, simply because state and local officials do not try\\nto prevent them, because public sentiment to a certain\\nextent condones them.\\nThe people of the Sooth have it in their power to\\nprevent the enactment of a Federal anti-lynching law.\\nThey have it in their power to remove from the repu\\ntation of the Sooth the stain mob violence and public\\nindifference to the Negro\\'s legal rights have made\\nupon it. They have it in their power to lessen to a\\ngreat degree the present intense bitterness between the\\nrace- and to make possible a rational co-operation of\\nwhite and bfo k in the upbuilding of their common\\ncountry Hut before they can do this they must frankly\\nface the facts as they are. They must cease trying\\nto exculpate themselves and to shift all blame for the\\npresent unhappy state of things on the Negro. They\\nmust be honest with themselves, as some of them have\\nnot been. They must cease to listen to leaders who\\nwill not face the fact, or who try to appeal to prejudice\\nrather than to justice.\\nThe day after President Harding read his message,\\nSenator Heflin. of Alabama, said in almost so many\\nwrds that there is but one way to stop lynching! and\\nthat is to stop the crime that causes them. \"The\\ncrime\" implied, of course, is the assault of white\\nwomen by Negroes Of the 53 Negroei lynched last\\nyear, crimes against women were charged against 21.\\nIt is the too general southern tendency to let itself be\\nfooled by sophistries and insincerities, rather than any\\ngeneral desire to deal unfairly with the black man. that\\nhas made the South\\'s record of lynchings a thing of\\npersonal shame to every manly and patriotic southerner.\\nIt will be well for the country if lynching can be\\nstopped without a Federal anti-lynching law. They\\nshould be so stopped, and can be The time is at\\nhand, however, when lynchings are going to be stopped.\\nIf the states do not stop them the nation will.\\nMis-Picturing Us Abroad\\nenness. Such scenes shown to an illiterate Indian au\\ndience can have no other effect than to lower the\\nprestige of the white woman and the white race in\\ngeneral. The board has accordingly been compelled to\\nbe somewhat strict on that point.\\n\"It must be remembered that in 99 per cent of\\nfilms shown in India the characters arc all white peo\\nple, the white hero and heroine and the white evil\\nwoman and the white villian. This is obviously un\\nfortunate for India, but quite ineradicable. In most\\nfilms the evil woman and the vllian art shown carry\\ning on successfully through a major portion of the\\nfilm. This does not tend to uplift the prestige of the\\nBritish race in India, while at the same time it is\\nquestionable whether the discomfiture of evil in the\\nlast few minutes is sufficient, so far as the half edu\\ncated native is concerned, to teach the good moral\\nwhich is sought to be taught.\"\\nVery diplomatic, indeed! The board\\'s criticism of\\nAmerican films is based on the assumption that the\\ncarrying of moral propaganda by them is Intended\\nThose who have seen \\' Her Price\" and \"The S arlet\\nletter,\" b :h I-ox films, or \"In Again, Out Again,\" an\\nArtcraft picture, may judge as to the correctness of\\nthat assumption. The writer has seen no one of the\\nthree. They are ail listed among the films excluded\\nhv the Bengal board.\\nThe war made the American motion picture dom\\ninant throughout the world. The governm-nt has\\nlonked a it h much f.ivor on the development of big\\nxport trade in pictures, not s , much becatis. of it\\nintrinsic return at the highest the DOStneSfl has\\namount\\' d to only ab .ut $8,000,000 a year but because\\nof the incidental adv-rtising of America thus afforded\\nIt is now awakening to the fact that much of that\\nadvertising is of a misleading and even a d imaging\\nkind\\n\"I would not think of living in your country,\" de\\nclared cultured I hrlental to an American traveler.\\n\"It is too cold; I would freeze!\"\\n\"We have all the climates and few extremes,\" the\\nAmerican replied. . .\\nYOU cannot deccne me,\" the Oriental responded\\n\"Where you have to daub the walls of your houses to\\nkeep out the cold no civilised being would live.\\nHis conception of American houses was in terms\\nof the adobe hut of the Southwest, which type alone\\nhe had seen in our cowboy movies.\\nAside from the misinformation conveyed, and een\\naside trom the positively nauseous films made\\nexport trade alone, the worst dam.e d &\\' 1\\nrun of American films shown abroad is perhspi \"\\nimpress,,,!, tin v give of the crudity of our Mnnetiaw\\nshallowness of our thought, our seeming absolute w\\nof artistic sense\\nThere is on file in the State Department iSTiil\\ntion of an article appearing on M;iV , . \" \\' v\\nEl Dia, a neu ipaper published at Montevideo, I rutw\\nIt is headed. \"Yankee Cineaaaiofiapny. W a p\\nof it can be quoted here. . Ae-\\n\"Cowboys, bands of thieves, secret lOCKtlCS,\\nlectures, beggars, who hide prodigious inventtoni\\nPoor imagination. Absolute lack of sensiDinr\\nWith what spirit do the authors and the ,1nntluthat\\nof Yankee films observe life? It ma ,Na,\"di\\nthey have I purely mechanical Concept Ol tm\\nthe soul, of love and life Hie ideology U\"nd\\nspires all of their cinematography is prnni\\npuerile. I do not know anything less nscende\\nthis time when everything SSSUmCS a ansc\\ncharacter, than the Amencan him. It jevei iw\\nthink, it never makes us dream ... \" s a\" aye\\nit hurts to use this word!) which nas ouo -\\nit nurts to use ims worui; wiuv j \\' nu\"\\nto be gigantically developed amid inferior Pjopic.\\nw . \\' \\' ,c ih writer ot UU\\nii io a man in uiiiuii, f,. irt on tnai\\n.Mdentlv is. our film abroad carries the com riu\\nwe must be an \"inferior people, what mm\\neffect on the minds of the illiterate colored\\nwatching for something to back up their h jcUar!\\nof white men in general and the Yankee in part',\n",
       "   'batch': 'mimtptc_jackson_ver01',\n",
       "   'title_normal': 'dearborn independent.',\n",
       "   'url': 'https://chroniclingamerica.loc.gov/lccn/2013218776/1921-10-22/ed-1/seq-12.json',\n",
       "   'place': ['Michigan--Wayne--Dearborn'],\n",
       "   'page': '12'},\n",
       "  {'sequence': 1,\n",
       "   'county': ['Montgomery'],\n",
       "   'edition': None,\n",
       "   'frequency': 'Biweekly',\n",
       "   'id': '/lccn/sn84024234/1938-12-02/ed-1/seq-1/',\n",
       "   'subject': ['African Americans--Ohio--Newspapers.',\n",
       "    'African Americans.--fast--(OCoLC)fst00799558',\n",
       "    'Ohio.--fast--(OCoLC)fst01205075'],\n",
       "   'city': ['Dayton'],\n",
       "   'date': '19381202',\n",
       "   'title': 'The Dayton forum. [volume]',\n",
       "   'end_year': 1949,\n",
       "   'note': ['Description based on: Vol. 6, no. 3 (June 7, 1918).'],\n",
       "   'state': ['Ohio'],\n",
       "   'section_label': '',\n",
       "   'type': 'page',\n",
       "   'place_of_publication': 'Dayton, Ohio',\n",
       "   'start_year': 1913,\n",
       "   'edition_label': '',\n",
       "   'publisher': 'J.H. Rives',\n",
       "   'language': ['English'],\n",
       "   'alt_title': [],\n",
       "   'lccn': 'sn84024234',\n",
       "   'country': 'Ohio',\n",
       "   'ocr_eng': 'P\\'\\n\\'~rv\\nKi\\nfi\\nxv\\nf!\\n1\\nIP? V\\nJ*%\\n\\\\W\\n-r\\ns t-\\n\\'\"{7\\na n\\n\\'V I\\n5§S®g|\\n«4^,:\\'.Au\\nt!\\nn»\\ni i\\n1\\ni\\nu\\'ltV\\n/s ~n 5^\\'V1\\nVOL. XXVI., No. 24.\\nI\\nNEW YORK, Nov. 25—Bishop\\njfidwin llolt Hughes, of the Metli\\ncjist Episcopal Church was criticiz\\ned here today by Walter White, ex\\necutive secretary of the National\\nAssociation for the Advancement of\\n... Colored People as a \"disheartening\"\\nThe criticism, which was contain\\ned in a letter addressed to the\\nBi hop November 2J{ and made pub\\nlic today, was occasioned by a report\\nappearing in a Philadelphia daily\\npai er last week which placed the\\n.bis\\'.iop on record as giving comfort\\nto reactionaries who are opposed to\\nthe passage of a federal anti-lynch\\ning bill by Congress.\\nThe paper said the bish$p took\\nexception to the wording of a reso\\nlution against lynching introduced\\nby the Rev. W. A. C. Hughes, direc\\ntor of Negro work in the Methodist\\nEpiscopal Church, at the annual\\nmeeting of the denomination\\'s board\\nof home missions and church ex\\ntension in Philadelphia Saturday,\\nNovember 19.\\n»—. ...\\nV^L. ftlsd s*», ... J,\\'..\\'1 ••.•-. •., -.••.••• $\\nt-v?.\\nHI O S\\n-f--\\nNOTED SWING TRUMPETER\\nVj\\nEKSKINE HAWKINS\\nHawkins and \"his Original Bama State Collegians will\\nplay at the Cotton Club, Dayton, Ohio, December 9, spon\\nsored by Paramount Amust^n ent Club.\\nM. E. BISHOP CHioED FOR\\nSCOiUNG NAZIS, WINKING\\nAT AMERICAN LYNCHIKGS\\nThe anfci-lynching resolution,\\nwhich failed of passage, despite the\\nfact that the Board passed a strong\\nresolution against the Nazi govern\\nment\\'s persecution of the Jewish\\npeople in Germany, reads as follows:\\nfJiV\\' 1*1 VJViiUWHJT, A V/C*V*0 A v VT\\nStates of America.\" Commenting\\non this part of the resolution, he is\\nquoted as having said:\\n\"It may do our country an in\\njustice since it is\\' not quite the fact\\nthat lynching is tolerated.\"\\nexample of a great leader of a great the M. E. Church. Mr. White\\'s let\\nchurch guilty of attempting to cast\\nout the Nazi mote in eyes across the\\nsea \"while ignoring\" beams in\\nAmerican eyes.\\nDemocracy must preserve the rested, much less punished. Since\\ndemocratic ideal of giving to all\\ncitizens the right to be judged by a\\nproperly assembled court of justice.\\nThe only nation in the world where\\nlynching is tolerated is the United\\nStates of America. Records are\\nrT\"ailable showing the hundreds of\\ninnocent people of both races have\\nbeen victims of mob violence. This\\nBishop Hughes is senior bishop of\\nter read in part:\\n\"It is with very real sorrow and\\neven dismay that I read in the Phila\\ndelphia Evening Bulletin of Novem\\nber 19th a statement attributed to\\nyou to the effect that a resolution\\nto make lynching a federal/ offense\\nif passed by the Methodist Episcopal\\nHoard of Home Missions and Church\\nExtension \\'may do our country an\\ninjustice since it is not quite the\\nfact that lynching is tolerated\\'.\\n\"As one who has devoted some\\ntwenty-one years to the study of\\nlynching and its causes, and as one\\nwho has investigated more than two\\nscore lynchings and a number of\\nrace riots, I would like to ask youi\\ndefinition of the word \\'tolerated\\'.\\n\"Yesterday at Wiggins, Mississippi,\\nthe seventh lynching since Congress\\nadjourned last June, during which\\nsession a six-week filibuster costing\\nthe American taxpayer $460,000\\nprevented an overwhelming majority\\nof the Senate from voting for fed\\neral anti-lynching legislation, took\\nplace* Not one member of any of\\nthe seven mobs has even been ar-\\n1882, 5,120 lynchings have disgrac\\ned America. According to such un\\nimpeachable sources as Professor J.\\nH. Chadbourn of the University of\\nNorth Carolina and Dr. Arthur Ra\\nper of the Commission on Interracial\\nCooperation at Atlanta, Georgia,\\nconvictions of lynchers have occurr\\ned in less than eight-tenths of one\\njr form of violence which America percent. Ninety-nine and two-tenths\\nmust deal with in a most positive percent of the lynchers have gone\\nvav and we pnt ourselves on record scot free though tens of thousands\\nas supporters of such legislation as of persons have staged these lynch\\n•VfiU make lynching an offense ings and their identity was known\\najjainst the American government.\" to the officials and to the general\\nBishop Hughes, according to the public in a vast majority of the\\nnewspaper, took issue with that cases. If this is not toleration of\\npart of the resolution which said: lynching I frankly do not know\\n\"The only nation in the world where what is.\\nlynching is tolerated is the United \"More in sadness than.la wrath\\n&w*\\nw\\n,Wl\\nYWCA GROUP\\nSPONSORS TALK\\nBY MRS. RIDDLE\\nPlans are being made this week\\nfor a capacity crowd ao hear Mrs.\\nJCstelle Riddle of Akron, who will\\nftpeak on the subject, \"Community\\nJtclationship in a Changing Society\",\\nat the Central YWCA under the\\nauspices of the Public Affairs com\\nmittee of the Fifth Street YWCA,\\nSunday, Dec. 4 at four p. m.\\nLocal members of the National\\nAssociation of College Women, the\\nAlpha Kappa Alpha sorority, antl\\nthe national Association of Grad\\nuate Nurses are exected to take part\\nin welcoming Mrs. Riddle to the\\ncity. After the lecture which is\\nfree there will follow an informal\\nreception for Mrs. Riddle.\\nMrs. W. H. McCallum is chairman\\nof the Public Affairs Committee and\\nwill preside at the meeting. Last\\nmonth the committee presented\\nCongressman Byron Harlan and\\nCongressman-elect Harry Routzohn\\nin a discussion of political issues of\\nthe.glc$tip^- campaign.\\nThe ilO-voice faculty choir of the\\nWest Side WPA Adult Sehool will\\nsing on the program.\\n$\\nBrotice Amusement\\nClub Refused\\nAr&gon Ballroom\\nLIMA, O., Dec. 2—The popular\\nBronce Amusement Club of this city\\nwho donates a great portion of their\\nprofits to charity was refused the\\nrenting of the Aragon Ballroom one\\nof Lima\\'s most popular ballrooms\\nfor the club\\'s Xmas Eve Ball.\\nThe management stated that due\\nto the fact that after the last color\\ned dance some weeks ago, given oy\\nan unknown colored organization\\nfrom out of the city, some body\\nbroke into the building and ransack\\ned the office.\\nEven though not sure, the manage\\nment thinks it was one of the color\\ned persons in attendance at the\\ndance that evening.\\nNow they say the Aragon Ball\\nroom is no longer available to any\\ncolored organization unless they\\nwant to pay an unreasonable price\\nfor it,\\no\\nSecond Annual Dinner\\nOf Lima Traffic Club\\nThe Lima Traffic Club of the As\\nsociation of Commerce will hold its\\nsecond dinner meeting at the Kirwm\\nHotel Grill, Wednesday evening\\nDec. 14, at 6:30 P. M.\\nMr. E. A. Schoefield, Asst. General\\nFreight Agent of the Baltimore &\\nOhio Railroad Company, Cincinnati,\\nOhio will be the principal speaker.\\nMr. Sheldon Ackerman is chair\\nman of the Entertainment Commit\\ntee and Mr. Fred Hoffman is chair\\nman ofl the Committee on Arrange\\nments. The officers of the club are\\nE. F. Buchanan, president H. E.\\nWilson, vice president and H. E.\\nWeldgen, sec\\'y.-treas.\\ndo we write you. It is disheartening\\nwhen a great leadcf of a great\\nchurch can be guilty of attempting\\nto cast out the Nazi mote in eyes\\nacross the sea and ignore beams in\\nAmerican eyes. Particularly is this\\nto be deplored when your statement\\nis contrasted with that of the Wo\\nman\\'s Missionary Council of the\\nMethodist Episcopal Church South\\nwhich for four years has unanimous\\nly voted for a resolution urging\\npassage of a federal law to end the\\ncrime o| lynching.\"\\n*v •ip^ f^n®f*A -. a*-£—v \"\"Tin\\'^\\'V^\" \"r- .\" -v *v *v ,\"* ,„ -, *, ..«• •,.. .,..\\' %,\\nf*\\n\"W\\nMiss Austiif\\n\"J •, v H1\"\" -4\\n$k* l\\'9S%m TufrTie I *r* v«. ,,, --.v •**.,\\'* I*--\\' \\'L r-\"i\\n\\', Uteuy irt.ulai* \\'. i .\\'., •*. V. :/„.• r, \\'.\" \". \\\\v-! .• \".\\nThe Human, Pi ace Has ft/sen On Protest\\nFRIDAY,DECEMBER 2,1938\\nBISHOP FLAYS NAZIS-CITES LYNCHING\\nRetains Trustee Post\\nAt Wilberforce\\n\\'r\\nhhi*, Nov. 30.\\nMiss Elsi^ Austin of Cincinnn i,\\nwhose term expired June 30, retain\\ned her position as a Trustee of the\\nnormal and industrial department\\nOf Wilberforce university today i ri\\nder a ruling by Attorney General\\nHorbort S. Duffy. The Attorney\\nGeneral held Governor Davey\\'s\\npointment of Rev. Joseph Gom /.\\nof Cleveland to succeed Miss Austin\\nwas illegal because it was not ac\\ntually a \"recess\" appointment, but\\nwas made while the Senate was in\\nsession.\\nSettles Question\\n..\\nRAPHAEL P. POWELL\\nAuthor of the new book, \"Human\\nSide of a People\", published by\\nPhilemon Co., 224 W. 135th street,\\nNew York City, which the author\\ninsists settles the question of wheth\\ner the race should be called \"Ne\\ngroes or Colored.\" Mr. Powell was\\neducated in Northeastern University\\nand the Suffolk Law School of Bos\\nton. He worked on the present\\nvolume for twelve years, and it is\\nfilled with contemporary as well as\\npast history of the race. He is now\\nworking on a book on Ethiopia,\\ndealing with Italian aggression there,\\nuud a novel. (Calvin Service).\\nForum\\'s Canton\\nCorrespondent\\nIn keeping with our policy, and\\nto give our readers The Forum in its\\nbest we are adding to our staff sev\\neral well-known writers. We take\\ngreat pleasure in announcing that\\nstarting with our next issue Mr.\\nRufus Lancaster, of Canton, Ohio\\nwill be one of our featured writers\\nand will also be our representative\\nin the Canton, Ohio territory\\nV y i \\'v\\nv\\nOverton Resign^\\ni n i n n a i\\nV o n\\nvj\"-\\',.k\\n5\\nBoyd W. Overton\\n\"CINCINNATI,f Ohio, Dec. 1.—\\nBoyd W. Overton, who has served\\nas the executive secretary of the\\nNinth street YMCA, Cincinnati, for\\nthe past 18 years, has tendered his\\nresignation, effective December 31.\\nMr. Overton will go to Wilmington,\\nDela., where he will assume respon\\nsibility for the development of YM\\nCA work among the colored people\\nof that city. A prominent citizen\\nof Wilmington recently contributed\\nfunds for the erection of a YMCA\\nbuilding and also provided it with\\nadequate endowment. Mr. Overton\\nbecame the executive secretary of\\nthe Ninth street branch August 1,\\n1920, ,having nerved the National\\neducational director at Camp Pil&£.\\nWat\\' Work Council of the YMCA afe\\nArk., and as business secretary and\\nexecutive at Camp Sherman, Ohio.\\nIn addition to his local connec\\ntion, he has participated actively in\\nthe work of the National YMCA,\\nwhich was held in Helsingfors, Fin\\nland inr 1926 and in 1928. he tour\\ned the country for the purpose of\\nsecuring funds for the YMCA\\nbuilding \"which was erected by Max\\nYeriguu 5n South Afj-ica. He has\\nwritten, several articles which deal\\nwith the .work of the YMCA and is\\nauthor tof \"Leadership,\" designed\\nfor use fes a text boog, published by\\nthe National Baptist Publishing\\nboard and co-author of \"Problems\\ni\\nof Finance and Building Mainten\\nance,\" jmhlished by the Associated\\nPress.\\nMr. Overton is superintendent of\\nthe Bethel Baptist Sunday School\\napd holds membership upon the\\nboard of directors of the following\\nqfrganizations: The Industrial Sav\\nings and Loan Co., the National As\\nsociation for the Advancement of\\nColored People, the Division of Ne\\ngro Welfare of the Community\\nChest, the Colored Children\\'s Bur\\neau of the Children\\'s Home and the\\nCitizen\\'s Committee on Low Cost\\nHousing. He has served as vice\\nchairman of the District \"S\" of the\\nCommunity Chest for the past 1&\\nyears and was formerly vice presi\\ndent of the Social Workers Council.\\n-Q nf i nnjnn.r.\\nWPA Singers Appear\\nAt Allen Gillespie\\nSays WPA Is Helpful\\nTh« first major appearance of the\\nWest Side WPA Teachers Choral\\ngroup was made Sunday night at\\nthe Allen A. M. E. church on a pro\\ngram arranged by the Christian En\\ndeavor society. Kenneth Tate, presi\\ndent of the society, presided.\\nWilliam Gillespie, Jr., supervisor\\n4i the West Side WPA Adult sehool,\\nKv\\nSiSliS\\nif-S\\nifcgiisii\\ni i\\n\\'\".O -.. i\\n\\'nV,\\nOF JOE LOUIS DEAD\\ns.\\nThe new draft of the anti-lynch\\ning bill is a result of conferences\\nbetween white and colored lawyers\\nand other interested persons. Pre\\nliminary work on the draft was be\\ngun by the N. A. A. C. P. in Septem\\nber and the draft turned out this\\nweek is the result of several eon\\nfeiences. Except for a few minor\\nchanges, the new bill will resemble\\nthe Gavagan-Wagner-Van Nuys bill\\nand the Wagner-Costigan bill.\\nN. A. A. C. P. officials pointed out\\nthat the greatest obstacle to this\\nlegislation in the new Congress is a\\npossible filibuster in the Senate. It\\nis regarded as almost certain that\\nenough strength can be mustered to\\npass the bill in the House without\\ngreat difficulty. Of course the\\nHouse judiciary committee and per\\xad\\ndeclared that the sponsorship by the\\nFederal government of alult educa\\ntion has made it possible for thous\\nands of colored people throughout\\nthe country to know the happiness\\neducation can create.\\nIn Dayton the West Side WPA\\nschool which is considered through\\nout the country as a model adult\\nschool operated by the government\\nmany cultural courses are offered in\\naddition to the elementary courses\\nof reading, writing, and arithmetic.\\nInformation concerning courses\\nof the school may be had by calling\\nFUlton 7851 or by visiting thft office\\nat 800 West Fifth Street.\\n0\\nJOE LOUIS\\nKIN TO SEE\\nDEAD MAN\\nDETROIT, Dec. 2—The mother\\nof Joe Louis, Mrs. Lillie Barrow\\nBrooks, declared this week that she\\ndid not know whether Monroe Bar\\nrow, 58, who died last Sunday night\\nin Mobile, Alabama was her former\\nhusband.\\nS\\'he stated that t^o of her chil\\ndren would go to Alabama and at\\ntempt to identify the body. For 27\\nyears Barrow had been an insane\\npatient in a local hospital.\\nMrs. Brooks has said that she\\nthought her husband was dead, but\\nrefused to say whether she thought\\nthe dead man was an impostor.\\nJoe Louis has stated that he has\\nnever seen his father. Louis is at\\npresent training for a bout with\\nI John Henry Lewis uA January,\\nv.v *. .-\\n7\\ni v 7\\nNEW ANTI-LYNCH BILL\\nDRAFTED FOR CONGRESS\\nNEW YORK, Nov. 25—A new\\nfederal anti-lynching bill, differing\\nonly in certain minor aspects from\\nprevious anti-lynching bills, has\\nbeen drafted completely and is\\nready for presentation to the 7«5th\\nCongress in January, officials of the\\nNational Association for the Ad\\nvancement of Colored People an\\nnounced today.\\nThe announcement came on the\\nheels of news of the seventh lynch\\ning of 1938 which occurred Novem\\nber 21 at Wiggins, Miss. Wildet\\nMcGowaii, 24-year-old Negro, was\\nlynched by a mob of several hun\\ndred persons on the charge that he\\nhad been guilty of assaulting an\\naged white woman. No proof was\\nfurtmhed of the guilt, and the mob\\nreached the victim before the\"\"Sheriff\\ncould arrest him. The Wiggins\\nlynching occurred at the height of\\nthe protests of Americans over the\\npersecution of Jews in Germany.\\nSeventh Lynching of Year at Wiggins, Miss.,\\nComes at Height of American Protests\\nAgainst Jewish Persecution in Germany\\n\"W\\nT?\\ntr,\\'\"\\nV ..\\' •..\"••\\n,\"%\"- v\\n*c\\nCINCINNATI\\nCOLUMBUS\\nDAYTON\\nPRICE FIVE CENTS\\nhaps the rules committee will inter\\npose objection to the bill reaching\\nthe floor, but it can\\'always be call\\ned out by a petition signed by 218\\ncongressmen. A recent poll by the\\nN. A. A. C. P. of old and newly\\nelected congressmen indicated that\\nthere were at least 218 friends of\\nthe anti-lynching bill in the House.\\nThis means that the bill can be\\ngot out of committee, and once on\\nthe floor, it is fell that pressure\\nfrom voters in northern, eastern and\\nwestern states will secure passage\\nof the legislation, just as the Gava\\ngan bill was passed in the House\\nApril 15, 1937, the big stumbling\\nblock is the Senate. Unless two\\nthirds of the senators will agree to\\nvote Jfor limitation of debate ($lo.\\nture) the bill may be talked to\\ndeath in the new Senate as it was\\nin the first six weeks of 1938. Al\\nready 38 senators either have voted\\nfor cloture on the last anti-lynching\\nbill or have pledged to vote cloture\\non the new bill.\\nFor this reason, the N. A. A. C.\\nP. is concentrating on senators and\\nis asking citizens all over the coun\\ntry to write or visit their senators\\nand senators-elect seeking a pledge\\nfrom them that they will vote for\\ncloture to aid the auti-lynching\\nlegislation.\\n\"It will be tremendously effective\\nif citizens\\' committee can visit sen\\nators in their home towns before\\nthey go to Washington,\" said Walter\\nWhite, N, A. A. C. P. secretary. \"If\\nthese committees fail to see the sen\\nators, letters should be written not\\nonly by the committees but by in\\ndividuals asking the senators to\\npledge to vote for cloture.\"\\nSAYS STUDENTS\\nWANT BETTER\\nLEADERSHIP\\n\"Negro college students and\\ngraduates do not want ignorant\\nieadersnip,\" declared* the Rev.\\nHerbert King, of New York City,\\nin a noonday talk at the Fifth\\nstreet YMCA Monday. Rev. Miller\\nis employed by the national board\\nof the YMCA to train college stu\\ndents for effective community lead\\nership.\\nRev. King gaid that young pen-.\\npie of today are tired of joking.tf\\nleaders and were, for the most part,\\nonly willing to follow sincere and\\nintelligent leaders who wished to\\nimprove the welfare of the race.\\nIn the South, where most of\\nRev. Mr. King\\'s work is done, he\\nstated that white afid colored stu\\ndents meet together very frequent\\nly in their attempts to solve com\\nmon problems. He hailed this grow\\ning practice as one great signific\\nance.\\nHe said very few Negro churches\\nhave an adequate religious educa\\ntion program for young people. He\\ndeplored the fact that so many Sun\\nday school departments are operat\\ned in such a way that students en\\nter- college with practically no-|\\nknowledge of the Bible and the\\nworth of Christianity.\\nRev. Mr. King believed that the\\nrace has too many churches, ands|p\\nwijll continue to have more ithsws\\nare needed as long as ministers fear\\nto lose jobs through the merging\\nof churches.\\n\\'V\\n*.\\nr\"i\\'\\nII\\n&\\n&\\nw\\niA\\nIf\\nw\\niA\\nIf\\nrJ\\n4 U\\nifca-\\nw\\nV\\'\\ni¥\\n5\\nV,\\n1!\\nj.\\'\\niiilffe\\n-ft\\nv\\n-vM\\nii\\n•J\\nisle\\n1\\ni -H e*',\n",
       "   'batch': 'ohi_dahlia_ver01',\n",
       "   'title_normal': 'dayton forum.',\n",
       "   'url': 'https://chroniclingamerica.loc.gov/lccn/sn84024234/1938-12-02/ed-1/seq-1.json',\n",
       "   'place': ['Ohio--Montgomery--Dayton'],\n",
       "   'page': ''},\n",
       "  {'sequence': 13,\n",
       "   'county': ['Cook County'],\n",
       "   'edition': None,\n",
       "   'frequency': 'Daily (except Sunday and holidays)',\n",
       "   'id': '/lccn/sn83045487/1913-10-14/ed-1/seq-13/',\n",
       "   'subject': ['Chicago (Ill.)--Newspapers.',\n",
       "    'Illinois--Chicago.--fast--(OCoLC)fst01204048'],\n",
       "   'city': ['Chicago'],\n",
       "   'date': '19131014',\n",
       "   'title': 'The day book. [volume]',\n",
       "   'end_year': 1917,\n",
       "   'note': ['\"An adless daily newspaper.\"',\n",
       "    'Archived issues are available in digital format as part of the Library of Congress Chronicling America online collection.',\n",
       "    'Available on microfilm;',\n",
       "    'Description based on: Nov. 1, 1911.',\n",
       "    'Issue for <Nov. 24, 1911> lacks vol., no., and chronological designation.',\n",
       "    'Issue for Nov. 4, 1911 erroneously designated as Oct. 4, 1911.',\n",
       "    'Issue for v. 3, no. 290 (Sept. 7, 1914) erroneously designated as v. 3, no. 300 (Sept. 7, 1914). The error in numbering continues.',\n",
       "    'Issue for v. 5, no. 214 (June 7, 1916) erroneously designated as v. 5, no. 214 (June 6, 1916).',\n",
       "    'Issue for v. 5, no. 7 (Oct. 5, 1915) erroneously designated as v. 5, no. 7 (Sept. 5, 1915).',\n",
       "    'Issues for <May 7-17, 1915> called also \"Moving Picture Edition.\"',\n",
       "    'Issues have no page numbering.',\n",
       "    'Saturdays have Noon and Final editions, Dec. 28, 1912-June 21, 1913; Saturdays have Noon and Last editions, June 28, 1913-<Dec. 13, 1913>; began issuing daily Noon and Last editions, Dec. 20, 1913-July 6, 1917.',\n",
       "    'Vol. 5, no. 36 (Nov. 6, 1915) issue called also \"Garment Workers\\' Special Edition.\"',\n",
       "    'Volume numbering begins with Nov. 20, 1911 issue.'],\n",
       "   'state': ['Illinois'],\n",
       "   'section_label': '',\n",
       "   'type': 'page',\n",
       "   'place_of_publication': 'Chicago, Ill.',\n",
       "   'start_year': 1911,\n",
       "   'edition_label': '',\n",
       "   'publisher': 'N.D. Cochran',\n",
       "   'language': ['English'],\n",
       "   'alt_title': [],\n",
       "   'lccn': 'sn83045487',\n",
       "   'country': 'Illinois',\n",
       "   'ocr_eng': ': forward? Pass byhalfbacIk:\\nBYV\\'HURRY UP\" YOST\\nfift \\'\\nJV- Crz2\\nNifrPv PASS\\n\\'BLOCKS TACKLE\\nBLOCKS \\'END\\nIn this play the left end shifts to the right wing, and when the forward\\npass is made breaks through to a point near the spot reached by the left\\ntackle, who is selected to receive the pass. The right half blocks the oppos\\ning tackle and the fullback blocks the end. The quarter upon getting the\\nball runs to the right, as if to circle the end, then passes to the back, who\\nmakes the throw and who has dropped back\\'the-required \"distance behind\\nthe line of scrimmage as ball is snapped. The. pass \"is made to the left\\ntackle, who runs to the point indicated in the diagram -tbTreceive the ball.\\no o - . \"\\'\\nHALF-WAY VENGEANCE\\nDown South, not long ago, a ne\\ngro, crazed by drugged rum, ran\\namuck and shot six persons.\\nThroughout the South instances-are\\nfrequent of the lowest passions being\\nwhipped into frenzy by poisoned\\ndrink peddled with the foreknowledge\\nof probable consequences.\\nWhen one of these bestial crimes\\nis committed, usually the- sequel is a\\nswift lynching. Of whom? \" Of the\\nvendor of the poison? Of the per\\nson whose greed deliberately sets\\nloose a wild man on the community?\\nNot at all. Vengeance falls on the\\nvictim alone.\\nAs a matter of fact, is this either\\nfair or deterrent?\\nWouldn\\'t a lynching of the dope\\npeddler be better calculated to pro\\ntect society, assuming that a lynch\\ning is desirable under, any circum\\nWISE .GUY\\nHm-I 1 M fi\\n\"So you called on Miss Millions last\\nevening. How did her father strike\\nyou?\" t -\\n\"He didn\\'t I saw-him coming.\" -',\n",
       "   'batch': 'iune_delta_ver01',\n",
       "   'title_normal': 'day book.',\n",
       "   'url': 'https://chroniclingamerica.loc.gov/lccn/sn83045487/1913-10-14/ed-1/seq-13.json',\n",
       "   'place': ['Illinois--Cook County--Chicago'],\n",
       "   'page': ''},\n",
       "  {'sequence': 27,\n",
       "   'county': ['Cook County'],\n",
       "   'edition': None,\n",
       "   'frequency': 'Daily (except Sunday and holidays)',\n",
       "   'id': '/lccn/sn83045487/1914-10-13/ed-1/seq-27/',\n",
       "   'subject': ['Chicago (Ill.)--Newspapers.',\n",
       "    'Illinois--Chicago.--fast--(OCoLC)fst01204048'],\n",
       "   'city': ['Chicago'],\n",
       "   'date': '19141013',\n",
       "   'title': 'The day book. [volume]',\n",
       "   'end_year': 1917,\n",
       "   'note': ['\"An adless daily newspaper.\"',\n",
       "    'Archived issues are available in digital format as part of the Library of Congress Chronicling America online collection.',\n",
       "    'Available on microfilm;',\n",
       "    'Description based on: Nov. 1, 1911.',\n",
       "    'Issue for <Nov. 24, 1911> lacks vol., no., and chronological designation.',\n",
       "    'Issue for Nov. 4, 1911 erroneously designated as Oct. 4, 1911.',\n",
       "    'Issue for v. 3, no. 290 (Sept. 7, 1914) erroneously designated as v. 3, no. 300 (Sept. 7, 1914). The error in numbering continues.',\n",
       "    'Issue for v. 5, no. 214 (June 7, 1916) erroneously designated as v. 5, no. 214 (June 6, 1916).',\n",
       "    'Issue for v. 5, no. 7 (Oct. 5, 1915) erroneously designated as v. 5, no. 7 (Sept. 5, 1915).',\n",
       "    'Issues for <May 7-17, 1915> called also \"Moving Picture Edition.\"',\n",
       "    'Issues have no page numbering.',\n",
       "    'Saturdays have Noon and Final editions, Dec. 28, 1912-June 21, 1913; Saturdays have Noon and Last editions, June 28, 1913-<Dec. 13, 1913>; began issuing daily Noon and Last editions, Dec. 20, 1913-July 6, 1917.',\n",
       "    'Vol. 5, no. 36 (Nov. 6, 1915) issue called also \"Garment Workers\\' Special Edition.\"',\n",
       "    'Volume numbering begins with Nov. 20, 1911 issue.'],\n",
       "   'state': ['Illinois'],\n",
       "   'section_label': '',\n",
       "   'type': 'page',\n",
       "   'place_of_publication': 'Chicago, Ill.',\n",
       "   'start_year': 1911,\n",
       "   'edition_label': 'LAST EDITION',\n",
       "   'publisher': 'N.D. Cochran',\n",
       "   'language': ['English'],\n",
       "   'alt_title': [],\n",
       "   'lccn': 'sn83045487',\n",
       "   'country': 'Illinois',\n",
       "   'ocr_eng': \"0\\n0\\nt i- HsR9 jw- i yjBi-ESifasspBBiBB\\nATT'Y MALATO CHARGED WITH\\nSUPPRESSING EVIDENCE\\nWith the dismissal of the jury try\\ning Mrs. Pasqualine Forte, her daugh\\nter Anna and her son Pasauale for\\nthe murder of Antonio Morasco, At\\ntorney Borrelli for the ' defense is\\ncharging Ass't State's Att'y Malato\\nwith suppressing evidence.\\nWhen it became known that the\\njury was hopelessly deadlocked, the\\nstory came out.\\nThe piece of evidence was a bank\\nbook, once owned by Morasco, the\\nmurdered boy. The defense had tried\\nin vain to locate the book to aid their\\nplea that Morasco had come to the\\nForte home to attack the girl Anna\\nand not on business.\\nThe state held that Antonio ,came\\nto the Forte home to collect some\\nmoney, which he loaned the girl when\\nthey were engaged.\\nWhile Malato was arguing before\\nthe jury after all evidence was in, the\\nbook fell from h:s pocket and was\\npicked up by Borrelli, who turned it\\nover to the judge.\\no o\\nPLAN TO PREVENT LYNCHING\\nCairo, III., Oct. 13, Capt. Lutes of\\nCompany K, I. N. G., today received\\norders from Gov. Dunne to have his\\ncompany in readiness to assist Sher\\niff Fraser in handling possible at\\ntempts at lynching Faust Scott, ne\\ngro, charged with the murder of Eli\\nJohnson, slain Saturday in a saloon\\nfight. The orders to Capt. Lutes fol\\nlowed an appeal to Gov Dunne by\\nFraser for aid in the event of an outbreak.\",\n",
       "   'batch': 'iune_golf_ver01',\n",
       "   'title_normal': 'day book.',\n",
       "   'url': 'https://chroniclingamerica.loc.gov/lccn/sn83045487/1914-10-13/ed-1/seq-27.json',\n",
       "   'place': ['Illinois--Cook County--Chicago'],\n",
       "   'page': ''},\n",
       "  {'sequence': 2,\n",
       "   'county': ['Holmes'],\n",
       "   'edition': None,\n",
       "   'frequency': 'Weekly',\n",
       "   'id': '/lccn/sn87065228/1948-03-11/ed-1/seq-2/',\n",
       "   'subject': [],\n",
       "   'city': ['Durant'],\n",
       "   'date': '19480311',\n",
       "   'title': 'The Durant news.',\n",
       "   'end_year': 1985,\n",
       "   'note': ['Description based on: Vol. 16, no. 27 (Mar. 17, 1899).',\n",
       "    'Editor: Hazel Brannon Smith (1936-1985).'],\n",
       "   'state': ['Mississippi'],\n",
       "   'section_label': '',\n",
       "   'type': 'page',\n",
       "   'place_of_publication': 'Durant, Miss.',\n",
       "   'start_year': 1882,\n",
       "   'edition_label': '',\n",
       "   'publisher': 'John Kyllingstad & M.J. Peters',\n",
       "   'language': ['English'],\n",
       "   'alt_title': [],\n",
       "   'lccn': 'sn87065228',\n",
       "   'country': 'Mississippi',\n",
       "   'ocr_eng': 'THE DURANT NEWS j\\nHAZElTbRANNON ~~~ ..-___ PUBLISHER\\nESTABLISHED IN 1878\\nPUBLISHED EVERY THURSDAY\\nEntered as second class matter at the Post Office at Durant, Mississippi,\\nunder the act of March 3.1879\\nSubscription Rates\\nAnywhere in Holmes County—2.00. Outside Holmes County—2.50.\\nAnti-Lynching Bill\\nFor a comprehensive discussion of the merits, or lack of\\nmerit, of a Federal anti-lynching bill, we call your attention to an\\neditorial which appeared in the March 2nd edition of the Wash\\nington Post:\\nAnti-Lynching Bill\\nFifty years ago lynching was a grave problem in the\\nUnited States. All during the 1890’s mob murders were a\\nbout as common as gang slayings became in the 1930’s. In the\\nsingle years of 1892 a total of 255 persons met death at the\\nhands of murderers conspiring among themselves to take\\nlaw into their own hands. One hundred of the victims were\\nwhite men. Lynching has been by no means confined to the\\ncolored race. Indeed, it was the customary method of inflict\\ning punishment on horse thieves and cattle rustlers in the\\nearly days of the west. Since the 1920’s, however, the num\\nber of white men lynched has been negligible, and last year\\nthe Tuskegee Institute recorded only one lynching of a Negro\\nIt is a sorry anachronism that just as the Southern\\nStates have almost completed the job of wiping out this dis\\ngusting crime Congress should be considering a bill to make\\nthe prevention of lynching a Federal responsibility. Half a\\ncentury ago the tlse of Federal power against lynchers might\\nhave been justified by the tragic failure of the States to pro\\ntect their citizens. Now most of the States have completely\\nmastered the problem without any help from Washington,\\nand we doubt that the Case antilynching bill would add in\\nany way to the safety of citizen.\\nThis measure, which is about to be pushed througn\\nthe House of Representatives would transfer to the Federal\\ncourts the prosecution of lynchers and of local officials fail\\ning to protect prisoners or to move against mobs after a lyn\\nching has occurred. But trials would still be held before local\\njuries, and it is probable that resentment against Federal in\\ntervention would complicate instead of easing the problem of\\nsecuring convicitions of accused mobsters. To be sure, there is\\nanother provision in the Case bill making every county, town,\\nand other governmental subdivision responsible for any lyn\\nching in its jurisdiction. But this resort to the despicable doc\\ntrine of mass guilt because of the area in which one happens\\nto live is so repugnant to democratic principles as to make\\nthe bill unpalatable to thousands who are devoted to civil\\nrights in the North as well as the South.\\nWe cannot help thinking that this vote-catching ven\\nture has no place in the present session of Congress. Its ef\\nfects is to arouse animosities at a time when there is urgent\\nneed for national unity. The lynching menace has already\\nbeen put down, and we trust that the last vestige of it will\\nsoon disappear. Our problem today is the rise of a tyranny\\nthat seeks to destroy all civil rights, whether protected by\\nState or Federal law. In the face of that menace wTe need to\\nbe mobilizing our strength - not to be opening old sores or\\nfrittering away energies on problems that have already been\\nsolved.\\nThe day of lynching is virtually a thing of the past as our\\nrecords show. We certainly hope so.\\nWe do not believe lynching is condoned by any God-fear\\ning, respectable, intelligent citizen of the south. That we can solve\\nour problems, though lynching in days past was not confined to\\nthe south by any means, is shown by tin* proven record. It is a pity\\nthat the power-crazed politicians of the north and east cannot let\\nus alone to solve our other problems peculiar to the south, or any\\nsection where two races live side by side in nearly equal numbers.\\nSen. James O. Eastland this week touched off a bombshell\\nin the senate when he proposed that the anti-lynching bill be\\nbroadened to cover murder in New York, gang wars in Chicago,\\nrace riots in Detroit and strike violence all over the country. j\\nben. Eastland s amendment, as we understood it, would\\ncall for inflicting the same penalties for the crimes mentioned as\\nfor lynching.\\nThis is bringing the Chickens home to roost in the most\\nclear-cut manner possible.\\nIf the Federal government should be called in to police lyn\\ncfaea which there was only one in the entire U. S.‘ in\\n1946) then certainly it should be called in to bring to conviction\\nthe parties guilty in the race riot in which 35 persons were killed\\nin Detroit and in other race riots in the large cities.\\nio/io M°r(i persons were killed in that one race riot in Detroit in\\n1J43 than have been lynched in the entire United States in the\\npast twenty years.\\nThe amendments offered by Sen. Eastland would (1) make\\nany state officer who neglected or refused to make diligent efforts\\nto solve any felony liable to the same punishment as that pro\\nvided for lynchers, (2) include unlawful violence of gangsters or\\nracketeers which results in murder or other felony, (3) allow\\nsuit for damages by heirs of a man killed and injured in a race\\nnot as well as in a lynching.\\nvent,,v?aH!l?\"d/iteduCaSeS in New York City where police do not\\nventure, decried such careers as A1 Capone and reviewed race\\n‘‘protection” °th-it(^G1?ian^ed that these areas be given the same\\nprotection that is being bestowed on the south.\\nSen. Eastfand\\'^amendments.40 “* What the conKress does with\\nr - -\\nDR. SIDNEY J. WATSON, Optometrist\\nMorgan-Lindsey Building\\n0ffice Hours 8:00 until 5:00 daily\\nClosed Thurday Afternoon i\\n“ PHONE 535 KOSCIUSKO.MISS.\\nEdlo goods movers\\nThe State — Across The Continent\"\\nONDED INSURED\\nippi Moving & Storage Company\\nAudis Hathcock, Agent\\ng?^_Miss. Phone 14-W j\\nSCRIPTURE: Act* *0:17-38: Epheslani\\n1:8-21.\\n4 DEVOTIONAL READING: Philippian* 4:\\nChristian Character\\nLesson for March 14, 1948\\nis the most valuable person\\nin your community? In many\\ncommunities it has come to be the\\ncustom to select the Man of the\\nYear or the Wom\\nan of the Year, th«\\nidea usuaHy being\\nto name the person,\\nthrough a process\\nof sampling of pub\\nlie opinion, who has\\nrendered the out\\nstanding service oi\\nthe year.\\nSunday’s lesson\\nis a dramatic scenfl\\nout of the long ago,\\npicturing a com\\nmunity’s tribute tc\\na truly great man, the apostle Paul.\\nRead Acts 20:17-38, and you will\\nhave the story.\\n• • •\\nLOVED AND HONORED\\nnpHE first impression I get from\\nx this story is the fact that these\\npeople of Ephesus loved Paul\\nThey loved him enough to lay aside\\ntheir work and hasten to the near\\nby seaport of Miletus to see him\\nfor the last time, and to bow down\\nin his presence and honor him.\\nWhy did they thus love Paul? |\\nBecause he had told them about\\nGod. You need but read again the\\nrecord of Paul’s ministry in that\\nimportant city of Ephesus to be\\nreminded of how greatly he had *\\nserved them in the name of Jesus.\\nLoved and honored! What a trib I\\nute to the worth of Christian char\\nHcit-ri woman x you appreciaie xne \\'\\ntribute which they paid Paul as the\\ngoal out yonder to which you strive?\\nBoys and girls of today may thus be\\nhonored tomorrow, if they will live\\nfor Jesus as Paul did.\\n• • •\\nTHE POWER OF RIGHT LIVING\\nDAUL not only told the Ephesians\\n1 how to live, but illustrated day\\nby day in his own life what he\\npreached to them. The most elo\\nquent sermons are not spoken, bul\\nlived. “What you are speaks so loud\\nly I can\\'t hear what you say.”\\nThe boy ar d man who plays the\\ngame straight are putting into\\npractice what 1 tlie teacher and\\npreacher proclaims on Sunday.\\nThe power of right living will win\\nits way today, just as it did in the ,\\nlong ago when Paul witnessed for\\nJesus in Ephesus.\\nIt was not easy to live for Christ!\\nin Ephesus, nor is it easy to live for\\nhim in Chicago or Los Angeles or\\nBoston or Miami, but it is the one\\nway to ultimately impress the world\\nof the reality of Christianity.\\n• • •\\nPAUL’S CONSUMING PASSION\\n\\\\Af E ARE what we are becoming,\\n’ ’ and never was this axiom oi\\nlife more powerfully illustrated than\\nin the case of Paul. \"I press on\\ntoward the goal for the prize of the\\nupward call of God in Christ Jesus,’’\\nPhilippians 3:14. And in Ephesians\\n5:0-21, Paul reviews the qualities ol\\nconduct which produce worthwhile\\ncharacter, admonishing all Chris\\ntians to strive for these qualities.\\n“I live, yet not I, Christ liveth\\nin me,” is another of Paul’s\\nwatchwords, and still again, “I\\ncan do all things through Christ, <\\nwho strengtheneth n»e.*’\\nIt was the consuming passion o!\\nhis life to embody the teachings of\\nChrist in his words and in his works.\\nIt is conceivable that the people at\\nEphesus had come to see Christ in\\nthe life of Paul, and that his daily\\nministry in their midst convinced\\nthem that God was in Christ recon\\nciling the world unto himself.\\n• * •\\nWHAT AM 1 WORTH?\\n\\'T\\'HE question then emerges,\\nA What am I worth to my com\\nmunity? When I come to the end of\\nthe journey, will the people who\\nknow me best honor and love me for\\nwhat I have done?\\nI can see the people of Ephesus\\nbowing on the dock at Miletus,\\nkissing this weary old servant of\\nthe Lord. It is a beautiful scene.\\nThis tribute meant more to Panl\\nthan all the gold of Ephesus would\\nhave meant. It was compensation\\nof abiding worth to him. And what\\nis vastly more important, it was\\nglory to God which must have\\nevoked the praise of the angels\\nabout (he great White Throne.\\n• • •\\n(Copyright by the International Council oi\\nPeliflO\\'r education or. hehall ol 40 Protestant\\ndenominations. Released by WNU Features..\\nOn God\\'s Word\\nJohn Wycli/Te. in the in!rnduction\\nto his translation of the Bible into\\nEnglish in 1380, wrote as follows:\\n“When the teachings of the Bible\\nare generally accepted and acted\\non. then shall we have a govern\\nment of, for and by the people.’’\\nFour hundred years later the Amer\\nican republic was established—the\\nfirst great democracy—and it was\\nsuccessful because the Constitution\\nand the Bill of Rights were founded\\non God’s Word\\n\"NOTICE\"\\nThe “Western Auto Associate\\nStore” located in Durant, Mississip\\npi, home owned and operated by Mr.\\nDliver E- Jolly, has been sold to Mr.\\nV- W. Waller, Jr., effective March 8,\\n1948- This notice is in compliance\\n■vith the Bulk Sales Law of the State\\n)f Mississippi and any claims against\\nJliver E. Jolly or the Western Auto\\nAssociate Store must be presented\\n:o Mr. W. W- Waller, Jr., on or before\\nMarch 20, 1948, in order for such\\nlaims to constitute a lien against\\n>aid business.\\nSigned,\\nOLIVER E. JOLLY, W. W\\nWALLER, JR.\\n26-ltnp\\nFor EVERY\\nOCCASION\\nIf yoo haven t tried SILVEh *r.Al\\nroaster-fresh coffee, do so today You’ll\\n(ill that it\\'s popular on every occasion I\\nROASTED AND PACKED BY\\nGREENVILLE CLEVELAND\\nVAZOO CITV GREENWOOD\\nMr- and Mrs- J- P- Durham spent\\nthe weekend in Hot Springs and Lit\\ntle Rock, Arkansas.\\nMrs. Zouella Bacon was a Jackson\\nvisitor Tuesday.\\nrupture\"\\nSHIELD EXPERT HERE\\nH. M. Shevnan. widely known ex\\npert of Chicago, will personally be\\nat the Irving Hotel. Greenwood. Sat\\nurday only. March 20. 9 a- m tc 4\\nP m\\nMr. Shevnan says: The Noetic\\nShield is a tremendous improvement\\n| over all former methods, effecting\\nimmediate results- It will not only\\nhold the rupture perfectly no matter\\nthe size or location but it will incr\\nease the circulation, strengthen the\\nweakened parts, and thereby close\\nthe opening in ten days on the aver\\nage case, regardless of heavy lift\\ning. straining or any position the\\nbody may assume- A nationally\\nknown scientific method. No under\\nstraps or cumbersome arrangements\\nand absolutely no medicines or medi\\ncal treatments.\\nMr. Shevnan will be glad to demon\\nstrate without charge.\\n6509 N. Artesian Ave-. Chicago 45\\nLarge incisional hernia Or rupture\\nfollowing surgical operation\\nespecially solicited.\\n-_ ’ * —’\\nMr. and Mrs- Walter Allen and\\ndaughther. Jane, spent last week\\nwith Mr. and Mrs- W- E. Durham\\nCarl Drake was a business visitor\\nin Lexington Wednesday.\\n- niWiiW»Vi* * *^*****^***^^*, ~ y,ni> m\\nTRY OUR DELICIOUS\\n\"Coconut Ice Cream\"\\nAvailable at All LuVel Dealers\\nManufactured By\\nKosciusko Creamery\\nALL-STEEL • DURABLE • FIRE-RESISTANT\\n“QUONSCT W “QOONSIT UT\\n\"QUONSETS\"\\n# Whatever the need ... bam, workshop, oftoe. warahnina i-nlnn^\\nthed, asaehine shop, animal abettor, boat houea, g—ft, vahiele hthtr\\n... “Quonsets\" fill the bill. Sheathed whh sheet steel aaMsd to Straw Steel\\nerah riba, joists awl perl ins, “Quonsets\" are easily, quickly erected.\\nQuonsets” are the aatwor to year immediate problamw. Gal\\nar write us today.\\nBROWN MACHINERY CO.\\nPhone 1930\\nP.0. Box 629 Greenwood, Miss.\\n43\\n, As we go o\\'ong through 1943, observing o quorter century\\nOS Pioneers n Mississippi\\'s power progress, we ore \\'eminded\\nof *he \\'eng long way our stote and Company hove come\\nsince 1923 ono »he tremendous str des ‘hot hove been mode\\nognculturolly, industrially, ond economically. it is with\\npardonable orlde that we think back to 1923. when we began\\nserving only three towns — Jackson. M.cksburg and Green\\nville. Then, we hod \\'ess than 60 miles of lines Toaoy,\\nwith 6.882 miles of interconne-ted lines, we ore serving 402\\ncities, towns ond communities with low-cost, deoendcb\\'e\\nelectric power. We also serve 40 towns with natural gos\\nIn our 42-county territory. We don\\'t mind Saying that we\\'re\\nmighty oroud of our record of \"helping build Mississippi\\nfor o quorter-century.*\\nMississippi\\nPower & Light C ompany\\nHELPING BUILD MISSISSIPPI FOR A QUARTER-CENTURY\\nV',\n",
       "   'batch': 'msar_lapis_ver01',\n",
       "   'title_normal': 'durant news.',\n",
       "   'url': 'https://chroniclingamerica.loc.gov/lccn/sn87065228/1948-03-11/ed-1/seq-2.json',\n",
       "   'place': ['Mississippi--Holmes--Durant'],\n",
       "   'page': '2'},\n",
       "  {'sequence': 1,\n",
       "   'county': ['Maricopa'],\n",
       "   'edition': None,\n",
       "   'frequency': 'Weekly',\n",
       "   'id': '/lccn/sn95060626/1937-05-14/ed-1/seq-1/',\n",
       "   'subject': ['African Americans--Newspapers.',\n",
       "    'African Americans.--fast--(OCoLC)fst00799558',\n",
       "    'Arizona--Phoenix.--fast--(OCoLC)fst01213753',\n",
       "    'Phoenix (Ariz.)--Newspapers.'],\n",
       "   'city': ['Phoenix'],\n",
       "   'date': '19370514',\n",
       "   'title': 'The Arizona gleam. [volume]',\n",
       "   'end_year': 1939,\n",
       "   'note': ['Description based on: Vol. 1, no. 6 (Dec. 15, 1929).'],\n",
       "   'state': ['Arizona'],\n",
       "   'section_label': '',\n",
       "   'type': 'page',\n",
       "   'place_of_publication': 'Phoenix, Ariz.',\n",
       "   'start_year': 1929,\n",
       "   'edition_label': '',\n",
       "   'publisher': 'W.C. Hackett',\n",
       "   'language': ['English'],\n",
       "   'alt_title': [],\n",
       "   'lccn': 'sn95060626',\n",
       "   'country': 'Arizona',\n",
       "   'ocr_eng': \"Volume Vm.\\nLYNCH BILL MAY FAIL\\nBECAUSE OF SUPREME COURT'S\\nBATTLE IN SENATE\\nWASHINGTON, D. C.—A de\\nclaration that the Senate is laying\\naside the anti-lynching bill and\\nusing it to trade votes in support\\nof the President’s Supreme Court\\nPlan was made this week by Paul\\nMallon, one of the best informed\\npolitical writers here, in his syndi\\ncated column, “News Behind tlfef\\nNews.**\\nMallon declares this use of the\\nanti-lynching bill for trading pur\\nposes, with other reasons, makes\\npassage “more doubtful.”\\nTwo weeks ago, during the\\nfight for the anti-lynching bill in\\n, the House, Mallon reported in his\\ncolumn that Senator Robert F.\\nWagner of New York, co-sponsor\\nof the anti-lynching bill in the\\nSenate, had told House leaders for\\nthe bill that if they passed it he\\nfelt sure it would pass the Sen\\nate.\\nNow it appears that in the des\\nperate fight to win votes for the\\nchange in the supreme court, some\\nfew votes are being won over by\\na promise that if the opponents of\\nthe anti-lynching bill will vote for\\nthe court plan, the court plan sup\\nporters will agree to block the\\nanti-lynching bill.\\nWorkers for the anti-lynching\\nbill could not verify this procedure,\\nas no Senator, naturally, would\\nadmit it. but there is s very great\\npossibility that something of this\\nsort may delay the anti-lynching\\nbill if the supporters back home\\ndo not speak up to their senators\\nthrough letters and telegrams.\\nIt should be remembered that\\nthe Senate has been occupied al\\nmost exclusively with the supreme\\nLIBERIAN REFUSED\\nENTRY TO IND. COLLEGE\\nMONROVIA, Liberia — be long\\narm of American jim crow meth\\nods has extended all the way from\\nIndian?, to Liberia to prevent a\\nyouth from attending college in\\nthe U. S. after all plans had been\\nmade for his higher education.\\nJohn F. Easmon is the Liberian\\naffected. He made arrangements\\nby mail to enter Tri-State college\\nat Ango'r T ’ - 1 A i'~'\\npared to start for America, a let\\nter came asking if the applicant\\nyr&s a Negro. When Tri-State of\\nficals were told that “All Liberians\\nare Negroes,” President Burton\\nHandy of the School wrote that\\na n e '&W\\nARIZONA'S PREMIER RACE WEEKLY\\ncourt plan, which has excited\\nWashington and the country at\\nlarge as has nothing else in many\\nyears. Many senators are not\\naware of the great sentiment in\\nthe country for the anti-lynching\\nbill. They must be told by their\\ncitizens back home that this bill\\nmust be passed. Such a great vol\\nume of mail is being received by\\nsenators on the court plan, that\\nwherever possible, telegrams\\nshould be sent in order to com\\nmand attention.\\nLetters should be sent to Sen\\nator Wagner and Senator Fred\\nerick Van ISfciys at the Senate Of\\nfice Building here pledging home\\nsupport from the country in the\\nmilitant fight they will make to\\nget the bill up for a vote.\\nEditors arfd readers of the Ne\\ngro press are urged to send in\\neditorials asking passage of the\\nbill to their own two senators and\\nto Senators Wagner and VanNuys.\\nThe Wagner-Van Nuys a n t i\\nlynching bill is schedluled to come\\nout of the judiciary committee\\nshortly, now that the committee\\nhas concluded hearings on the su\\npreme court plan. A sub-commit\\ntee of the judiciary committee will\\nconsider the bill and make a re\\nport.\\nMeanwhile Congressman Gava\\ngan’s office here continues to re\\nceive heavy mail congratulating\\nhim on the passage of his bill and\\nasking what further aid is ned\\ned in getting this bill through the\\nSenate. These letters are coming\\nfrom colored and white people and\\norganizations in the North as well\\nas the South.\\nycung Easmon could not be admit\\nted because of his race.\\n“This decision on our part is\\nreached not because we have any\\nprejudice against you or other\\nmembers of your race, but simply\\nbecause we have a great many\\nstudents in school from different\\nparts of the country, especially the\\nSouth, who, we are convinced,\\nvould make it very unpleasant for\\nyou if you were to enter,” said the\\nletter.\\nThe Easmons are well-to-do Li\\n'-'•-'s and planned to pay for\\ntheir son’s education without the\\nnecessity of the youth’s working.\\nPHOENIX, ARIZONA, FRIDAY, MAY 14,1937\\nGRAND CHAPTER\\nO. E. S. CLOSES\\nANNUAL MEET\\nThe Grand Chapter O. E. S.\\nclosed its 17th annual communica\\ntion last Thursday evening after\\na two-day session. During the\\nsession constructive programs\\nwere given and legislations passed\\nthat will prove beneficial in build\\ning up the jurisdiction.\\nOfficers elected are Mrs. Lynn\\nR. Carter, grand matron; M. A.\\nWhite, grand patron; Mrs. Georgia\\nPorte, assistant grand matron;\\nAttorney R. L. Fortune, assistant\\ngrand patron; Mrs. Noble White,\\ngrand treasurer; Mrs. Lillie Hall,\\ngrand secretary; Mrs. Hattie\\nHawkins, grand conductress, Mrs.\\nEstell Wright, assistant grand\\nconductress* Mrs. Clemenza Snow,\\nGrand trustee.\\nAppointive officers are Mrs.\\nMattie H. Powdrill, grand lectur\\ner; Mrs. Nellie Burnett, assistant\\ngrand secretary; Mrs. William M.\\nThompson, Ada; Mrs. Marie\\nPayne, grand Ruth; Mrs. Maggie\\nByrd, grand Esther; Mrs. Mary L.\\nHolden, grand Martha; Mrs. Birdie\\nBonds, grand Electa; Mrs. Estell\\nAllensworth, grand Warden; Mrs.\\nJune Stanfield, grand sentinel;\\nMrs. Dollie Mack, grand chaplin;\\nMrs. Hazel Farmer, grand organ\\nmarshall.\\n\\\\\\no\\nFIRST COLORED\\nBAPTIST CHURCH TO\\nOBSERVE MEN'S DAY\\nThe First Colored Baptist\\nChurch under the leadership of its\\nable pastor, Rev. Chas. Favors,\\nwill observe Men’s Day Sunday.\\nA splendid program has been ar\\nranged by the men of the church\\nand a great time is expected.\\nThe public is invited to attend\\nthe service throughout the day.\\no\\nHERBERT HODGE -\\nSUCCUMBS\\nHerbert Hodge, local barber,\\ndied unexpectedly last Thursday\\nnight at his home. He had worked\\nThursday as usual and according\\nto those who worked with him,\\nwas in high spirits and expressed\\nhimself as feling fine during the\\nday. .\\nHodge had been in poor health\\nfor more than two years, but his\\nsudden passing was a shock to his\\nmany friends.\\nFuneral was conducted from\\nEast Lake Funeral Home Monday\\nat 2 p.m., Rev. Chas. Favors, of\\nficiating.\\nDOCTOR ARGUE WHILE\\nSTEPIN FETCHIT SUFFERS\\nFRACTURED SKULL\\nNEW YORK A “scene” was\\nstaged in Harlem hospital Tues\\nday, about which Mayor La\\nGuardia himself heard, when the\\nprivate white physician of Stepin\\nFetchit (Lncoln Perry), insisted\\non moving the man with a frac\\ntured skull to Gotham hospital, a\\nprivate institution, at 30 East 76th\\nstreet, and Mr. Louis T. Wright,\\nspecialist in skull fractures, in\\nsisted the man was in too critical\\na condition, and in the process of\\nmoving, might suffer a hemor\\nrhage and die. An old fashioned\\n“spat” is said to have been staged\\nbetween the doctors and Perry,\\nthe pawn, is said to have sided\\nwith the white folks because they\\neducated him.\\nIt was claimed that Perry's\\nprivate doctor could not draw pay\\nfor visiting the patient at Harlem\\nhospital, and that was the main\\nreason why he wanted the “lazy\\nmovie man” removed. On the\\nother hand, it was claimed by\\nHarlem doctors that the white\\ndoctor showed that he was more\\ninterested in the patient’s money\\nthan in his life ,for insisting on\\nmoving him within two days of\\nthe serious accident. Perry is\\nsaid to have told his white doctor\\nthat he was receiving excellent\\ncare at Harlem , but also due to\\nthe bad reputation of Harlem, it\\nis believed that many white film\\nexecutives didn’t like the idea of\\ntheir star being there. Dr. Wright\\nis said to have carried his protest\\nto Mayor LaGuardia himself, but\\nthe Mayor pushed responsibility\\noff on the white superintendent of\\nHarlem, who in turn allowed Perry\\nto be moved. Dr. Wright ordered\\ncolored Harlem hospital doctors to\\nrefuse to sign out the patient, and\\nINSURANCE COMPANIES\\nMAKE BIG STRIDES\\n“ RICHMOND, Va. Executives,\\nofficials, employes, and salesmen\\nnumbering more than 9,000 and\\nrepresenting 19 of the nation’s\\noutstanding Race insurance com\\npanies are busy laying plans for\\nNational Negro Insurance Week,\\nMay 17 to 22, features of the pro\\ngram being acquisition of $10,000,-\\n00 in new business, educating the\\npublic on the value of life insur\\nance family and individual sro\\ntaction end showing the impor\\nnone did. The patient was re\\nmoved on the persona] responsi\\nbility of his own doctor.\\nAnother odd angle was that the\\nGotham hospital, to which Perry\\nwas removed, had to call up Dr.\\nWright as an authority on the\\nsubject and ask for his method\\nof treating skull fractures. It is\\nsaid Dr. Wright sent about twelve\\npages of manuscript to the hos\\npital. Harlem’s comment was that\\nit was odd, indeed, that although\\nHarlem hospital was apparently\\nnot good enough for Perry, the\\nexclusive white hospital to which\\nhe went had to ask the colored\\ndoctor at Harlem how to treat the\\npatient.\\nAnother angle to the case was\\nthe report that while Perry’s white\\ndoctor was arguing to move him,\\nhe forgot to make “special” reser\\nvations for him at the exclusive\\n“white” hospital, and when he ar\\nrived, the report was given that\\n“no bed” was available, similar to\\nthe report given the late Mrs.\\nW. C. Handy, and that the patient\\nwas taken to Hydenham hospital\\nfor a day until he could be investi\\ngated, then a bed was suddenly\\nfound, which, it is said had been\\nvacant all the time. No confirm\\nation of this could be obtained,\\nbut Harlem hospital nurses and\\nattaches said they “heard” it.\\nThe final act in the little “skull\\nfracture” drama has not yet been\\nstaged, according to those in the\\n“know.” It is claipied Dr. Wright\\nsaid quite openly, when Perry was\\nat last taken away, that he would\\nhave Perry’s doctor “thrown out\\nof the New York Medical Society”\\nfor showing such callous indiffer\\nence to the comfort of his patient\\ntant position the insurance busi\\nness holds in the social and econ\\nomic life of the nation.\\nNearly 9,000 on Payrolls\\nMember companies of the asso\\nciation now have a total of 8,965\\nemployes on their payrolls, placing\\nthem in front rank among the\\nnation's employers of Race labor\\nand offering unlimited opportuni\\nties for advancement for those in\\nterested in learning all angles of\\nist; and Mrs. Lucille Green, grand\\nthe insurance business.\\nNo. 98\",\n",
       "   'batch': 'az_dyingcowboy_ver01',\n",
       "   'title_normal': 'arizona gleam.',\n",
       "   'url': 'https://chroniclingamerica.loc.gov/lccn/sn95060626/1937-05-14/ed-1/seq-1.json',\n",
       "   'place': ['Arizona--Maricopa--Phoenix'],\n",
       "   'page': ''},\n",
       "  {'sequence': 3,\n",
       "   'county': ['Orange'],\n",
       "   'edition': None,\n",
       "   'frequency': 'Semiweekly',\n",
       "   'id': '/lccn/sn92073229/1937-11-19/ed-1/seq-3/',\n",
       "   'subject': ['Chapel Hill (N.C.)--Newspapers.',\n",
       "    'North Carolina--Chapel Hill.--fast--(OCoLC)fst01206600',\n",
       "    'North Carolina--Orange County.--fast--(OCoLC)fst01220945',\n",
       "    'Orange County (N.C.)--Newspapers.'],\n",
       "   'city': ['Chapel Hill'],\n",
       "   'date': '19371119',\n",
       "   'title': 'The Chapel Hill weekly. [volume]',\n",
       "   'end_year': 1972,\n",
       "   'note': ['\"Serving the Chapel Hill area since 1923.\"',\n",
       "    'Also issued on microfilm.'],\n",
       "   'state': ['North Carolina'],\n",
       "   'section_label': '',\n",
       "   'type': 'page',\n",
       "   'place_of_publication': 'Chapel Hill, N.C.',\n",
       "   'start_year': 1923,\n",
       "   'edition_label': '',\n",
       "   'publisher': 'Louis Graves',\n",
       "   'language': ['English'],\n",
       "   'alt_title': [],\n",
       "   'lccn': 'sn92073229',\n",
       "   'country': 'North Carolina',\n",
       "   'ocr_eng': 'Friday, November 19, 1937\\nCongress Apt to Pass Anti-Lynching\\nBill at This Session, Thinks Bryant\\nByH.E. C. Bryant\\nWashington, Nov. 18,—South\\nern Congressmen are not happy\\nover the outlook lor legislation\\nhere; they see trouble ih several\\nimportant bills, and would pre\\nfer not to record their votes on\\nthem. The wage-and-hour, the\\nfarm, and the anti-lynching\\nmeasures worry them. Saw\\nmill owners and operators, cot\\nton ginners, and others are pro\\ntesting against the labor bill.\\nThey assert it will put them out\\nof business and result in a de :\\ncided advantage if not a monop\\noly to big operators. Cotton\\nfarmers are in doubt as to the\\nvalue of the proposed farm leg\\nislation.\\nThe anti-lynching bill, aimed\\ndirectly at the South, is rank\\npoison to many members of the\\nHouse and a coterie of Senators.\\nIt passed the House by an over\\nwhelming vote and has the prom\\nise of at least 70 out of the 96\\nmembers of the Senate. The op\\nposition of the Southern Con\\ngressmen does not mean that\\nthey favor lynching but that\\nthey dislike being singled out\\nfor punishment when a week sel\\ndom passes in cities like New\\nYork, Chicago, Cleveland, De\\ntroit and San Francisco that\\ngangsters, criminal mobs, do not\\ntake men and women for one\\nway rides.\\nLed by Senator William E.\\nBorah of Idaho, a large number\\nof lawyers in Congress hold that\\nthe anti-lynching Bill now pend\\ning in the Senate is contrary to\\nthe provisions of the Constitu\\ntion, but that is not going to\\ndefeat the bill. The only hope\\nfor those w r ho would stop the\\nlegislation is in a prolonged fili-*\\nbuster, and such a strenuous and\\nquestionable effort is not on the\\nprogram. Were it the closing\\ndays instead of the beginning of\\na session, attempts to talk the\\nGavagan bill to death might be\\nmade, and succeed.\\nThe Senate has agreed to con\\nsider* the measure. Such an\\nagreement was entered into at\\nThe last session when it appeared\\nthat other legislation would be\\ndelayed if not discarded if the\\nanti-lynching bill remained in a\\nstrategic position in the Senate.\\nNow, with the.new session un\\nder way, a vote is imminent. The\\nbill was reported favorably by\\nthe Senate judiciary committee\\nby a three-to-one vote. v\\nIt would not be hard for any one\\nfamiliar with Congress and pol\\nitics to list the Senators who will\\nsupport the Gavagan bill as pre\\nsented to the Senate at the last\\nsession. If anybody interested\\nWINTER\\nOUTSIDE\\nC— > BUT 0 . .\\nt CAROLINA COACHES\\nModern Troppic Aire\\nHeating Sjritemi keep\\nCarolina Coaehea aa warm\\nand coxy A a fireside cor\\nner. And special individ\\nual window ventilation\\nallows no draft. For real\\ntravel comfort in winter\\n•. ride Carolina Coaches.\\nl *\\n• Phone 4281\\n121 N. Columbia St.\\nChapel Hill. N. C. _\\n*• . .\\nin the subject Will study the\\npopulation north of the Mason-\\nDixon line, where color does not\\nbar a man or woman from the\\nballot box, he will readily see\\nwhat Senators will make a point\\nto be present and vote for the\\nanti-lynching bill when it reach\\nes the final stage of its consid\\neration. There will be two sen\\nators for it from each of the\\nfollowing named states: New\\nYork, Pennsylvania, Ohio, Indi\\nana, Colorado, California, Con\\nnecticut, Delaware, Illinois, lowa,\\nKansas, Maine, Maryland, Mas\\nsachusetts, Michigan, Minnesota,\\nMontana, Nebraska Nevada, New\\nHampshire, New Jersey, North\\nDakota, Oregon, Rhode Island,\\nSouth Dakota, Utah, Vermont,\\nWashington, West Virginia, and\\nWisconsin—6o votes. At least\\none vote from each of the fol\\nlowing will be counted in the af\\nfirmative: Arizona, Idaho, Mis\\nsouri, and Kentucky. That brings\\nthe total to 64, and leaves these\\nstates to speculate on: New Mex\\nico, Oklahoma, Tennessee, and\\nWyoming.\\nAgainst the bill surveyors list\\ntwo from each of the states of\\nAlabama, Arkansas, Florida,\\nGeorgia, Louisiana, Mississippi,\\nNorth Carolina, South Carolina,\\nTexas, and Virginia, a total of\\n20. That leaves in doubt one in\\nArizona, one in Idaho, one in\\nKentucky, and one in Missouri.\\nSome Southern newspaper\\nmen are banking on the Presi\\ndent vetoing the anti-lynching\\nThe Game Last Saturday\\nBy Harold V. Sugg\\nRocked backwards for the first\\nquarter, a University of North\\nCarolina eleven that had been\\nwidely proclaimed the under dog\\ncharged .brilliantly and savagely\\nforward during the remaining 45\\nminutes of play, and won a 14-6\\nvictory over Duke University.\\nAfter a cloudy morning a\\nbrilliant sun came out and greet\\ned 45,000 spectators who assem\\nbled to witness the most spark\\nling and spirited match played\\non a North Carolina gridiron\\nthis season. And half of the\\nI 7M{ggjS|*e\\nI Thanksgiving Day\\nI When you think of Thanksgiving Day, naturally\\nI VBr you think of good food; and when you think of good\\n]§ •• sjPf * fo6d you think of the\\nS Specials ll LJ l J Specials\\n| This Week-End This Week-End\\n1 MINCE MEAT, BULK, PER POUND . . 19c CRANBERRY SAUCE, 1-LB. CAN ... 15c\\n| PECAN MEATS, PER POUND . . . . 19c VIRGINIA MAID PEANUT BUTTER, 1 LB. 15c\\n1 CRANBERRIES, PER POUND .... 20c SNOW SHEEN OR SOFTASILK CAKE FLOUR 27c\\nI CHESTNUTS, PER POUND / , . . 15c WHITE ROSE PRUNES, 2 LBS. . . . 19c\\nI ORip YOUR THANKSGIVING TURKEY NOW VARIETY OF WINES, IMPORTED AND DOMESTIC\\nTHE CHAPEL HILL WEEKLY, CHAPEL HILL, ff. C\\nbill. Close political advisers say\\nhe would not dare to do it in the\\nface of the fact that about\\n3,000,000 ‘Negroes in the North,\\nEast, and West voted for him\\nin 1936.\\nSo, the promise of an anti\\nlynching act, from the bill that\\nhas been sidetracked here for\\nabout fifteen years, is bright.\\nThe switch of the Negro vote\\nfrom the \" Republicans to the\\nDemocrats has made a vast dif\\nference in the. political influence\\nof the colored race in America.\\nThe Negro vote holds the bal\\nance of power in close elections\\nin about 20 states. That is im\\nportant in present-day trends.\\nIf the anti-lynching bill be\\ncomes a law and is carried to the\\nSupreme Court, the new asso\\nciate justice, Hugo Black, will be\\non the spot. He is a loyal Ad\\nministration man but his South\\nern rearing, may influence him\\nto some extent.\\nSenator Bailey of North Caro\\nlina, who is opposed to this leg\\nislation, believes the President\\nWill sign it, but that the law will\\nnot be effective. He doubts if it\\nis ever appealed to the Supreme\\nCourt, .\\nThe Gavagan measure is ready\\nfor the final stages of consider\\nation. Other bills uppermost in\\nthe minds of Congressmen are\\nyet to be framed for oonsiderar\\ntion in either house. Commit\\ntees are wrestling with the farm\\nbill, the wage-and-hour bill, and\\nthe tax revision bill, trying to\\nget them into such shape that\\nthey will be acceptable to\\nCongress.\\ncrowd lingered strangely long in\\nthe orange-shadowed stadium\\nafter the final whistle had blow r n.\\nNotwithstanding sensational\\nHoney Hackney, quarterback,\\nand an aerial attack that clicked,\\nit was Crowell Little and Andy\\nBershak who owned the field\\nSaturday afternoon; Bershak,\\nLittle; Burnette and Watson.\\nThe score might logically have\\nbeen two touchdowns more in\\nfavor of the Tar. Heels.\\nTakipg hold of the game in the\\nfirst quarter as a well-trained\\npoliceman takes over a traffic\\njam, the Devils drove to Caro\\nlina’s 14-yard line before being\\nstopped. In the third of a series\\nof punts, the unsteady Tar Heels\\nalways trying to get out of dan\\n(Continued on next page)\\n\\'\\'\\'\\' \\' .V. .Ml WBBr HP\\nStop at our store anytime during Laby- v&nce of the decade. The Labyrinth has\\nrinth Radio Tone Week, Oct. 12-23, or revolutionized radio reproduction; has\\nphone for private appointment to hear made possible tone so lifelike, it amazes\\nthe Labyrinth, most^importantutorial ad- all who hear if.\\nTHE PROBLEM THE THEORY\\n/ >. In the ordinary hollow jf: * Strow.beeg • Carlson\\nrt. I || cabinet, unwanted If#.. : Sgli engine*™ knew en\\nOP I jOSfe\"-* •® und » «» ky *k« ffc&L Ip? \\\\ “infinite baffle” would\\n(4 im f * >ack the ,OBd * lilfnf Sis absorb tb* distortion*.\\nmineled with I Isl 1 ■ WWfjF\\' Thla wee a 7-foot tube\\nvi’ llflU* th * - pur * t * mm > ««* HU I B lined with acoustic ab\\nf* - x* atlng blurred and jgjjJfjA I aorblng material at\\n• k. fmtty sounds. Radio taehed to thu back of\\nengineers, sought a the speaker end **-\\nmeans of eliminating tending in back of\\nthis distortion. the set.\\nAND THE SOLUTION DEVELOPED AND\\n. . HISiMM 11111 A long tab® In back of\\nI s ® r\\'SHU the set waa obviously\\nwJr ■gi§n|nH impractical. After long\\n\\\\ reaeajxh, Stromberg-\\nCarlson engineers de\\n\\\\ vised s means of fold\\ni \\\\ *ng it within the con\\n|; Tl \\\\ \\'V n fi»«* ot * r **lin e*bi-\\nB net *\" d still keep Us\\nH iiKM . acoustic qualities. The\\nmm \\\\ J problem was solved—\\n■ \\\\ \\\\ .-/\\'■\\'Jy\\' unwanted sounus\\n, ;■ t \\\\ Jy could now be absorbed\\nmbf jHSIvS by a unit within the\\n’ ‘ * \\' c \\' \\\\ csblnet. Because of its\\n, winding pasKagewaya,\\nit «... tv €K’m \"WmidM this unit was called\\n1 the Labyrinth.\\nUniversity Service Plants\\nNo. StO-M S4OOSO\\nLAByRINIH RADIO IQ7-\\nc ~Jhere is nothing finer than a Strom be rg-iar!son\\nChritrtmna Gifts Made to Order\\nCharles Valentine\\nCabinet Maker\\nGeneral Furniture Repairing\\nTelephone 7981 201 E. Rosemary\\nDr. J. Ella Hardin\\nOsteopathic Physician\\nColonic Irrigation, Physiotherapy\\n305 Depositors National Bank\\nBn tiding, Durham\\nPage Three',\n",
       "   'batch': 'ncu_curry_ver02',\n",
       "   'title_normal': 'chapel hill weekly.',\n",
       "   'url': 'https://chroniclingamerica.loc.gov/lccn/sn92073229/1937-11-19/ed-1/seq-3.json',\n",
       "   'place': ['North Carolina--Orange--Chapel Hill'],\n",
       "   'page': 'Page Three'}]}"
      ]
     },
     "execution_count": 4,
     "metadata": {},
     "output_type": "execute_result"
    }
   ],
   "source": [
    "r.json()"
   ]
  },
  {
   "cell_type": "code",
   "execution_count": 5,
   "metadata": {
    "slideshow": {
     "slide_type": "slide"
    }
   },
   "outputs": [],
   "source": [
    "search_json = r.json()"
   ]
  },
  {
   "cell_type": "markdown",
   "metadata": {
    "slideshow": {
     "slide_type": "fragment"
    }
   },
   "source": [
    "JSONs are dictionary like objects, in that they have keys (think variable names) and values. `.keys()` returns a list of the keys."
   ]
  },
  {
   "cell_type": "code",
   "execution_count": 6,
   "metadata": {
    "slideshow": {
     "slide_type": "fragment"
    }
   },
   "outputs": [
    {
     "data": {
      "text/plain": [
       "dict_keys(['totalItems', 'endIndex', 'startIndex', 'itemsPerPage', 'items'])"
      ]
     },
     "execution_count": 6,
     "metadata": {},
     "output_type": "execute_result"
    }
   ],
   "source": [
    "search_json.keys()"
   ]
  },
  {
   "cell_type": "markdown",
   "metadata": {
    "slideshow": {
     "slide_type": "slide"
    }
   },
   "source": [
    "You can return the value of any key by putting the key name in brackets."
   ]
  },
  {
   "cell_type": "code",
   "execution_count": 7,
   "metadata": {
    "slideshow": {
     "slide_type": "fragment"
    }
   },
   "outputs": [
    {
     "data": {
      "text/plain": [
       "1006491"
      ]
     },
     "execution_count": 7,
     "metadata": {},
     "output_type": "execute_result"
    }
   ],
   "source": [
    "search_json['totalItems']"
   ]
  },
  {
   "cell_type": "markdown",
   "metadata": {
    "slideshow": {
     "slide_type": "slide"
    }
   },
   "source": [
    "<div class=\"alert alert-info\">\n",
    "<h3> Your turn</h3>\n",
    " <p>What else is in there? Where is the stuff we want?\n",
    "</div>"
   ]
  },
  {
   "cell_type": "code",
   "execution_count": null,
   "metadata": {},
   "outputs": [],
   "source": []
  },
  {
   "cell_type": "markdown",
   "metadata": {},
   "source": [
    "<details>\n",
    "<summary>Sample answer code</summary> \n",
    "<code style=\"background-color: white\">\n",
    "search_json['items']\n",
    "</code>\n",
    "</details>"
   ]
  },
  {
   "cell_type": "markdown",
   "metadata": {
    "slideshow": {
     "slide_type": "slide"
    }
   },
   "source": [
    "As is often the case with results from an API, most of the keys and values are metadata about either the search or what is being returned. These let you know if the search is returning what you want, which is particularly important when you are making multiple calls to the API. \n",
    "\n",
    "The data I'm intereted in is all in `items`. "
   ]
  },
  {
   "cell_type": "code",
   "execution_count": null,
   "metadata": {
    "slideshow": {
     "slide_type": "fragment"
    }
   },
   "outputs": [],
   "source": [
    "type(search_json['items'])"
   ]
  },
  {
   "cell_type": "code",
   "execution_count": null,
   "metadata": {
    "slideshow": {
     "slide_type": "slide"
    }
   },
   "outputs": [],
   "source": [
    "len(search_json['items'])"
   ]
  },
  {
   "cell_type": "markdown",
   "metadata": {
    "slideshow": {
     "slide_type": "fragment"
    }
   },
   "source": [
    "`items` is a list with 20 items."
   ]
  },
  {
   "cell_type": "code",
   "execution_count": null,
   "metadata": {
    "slideshow": {
     "slide_type": "slide"
    }
   },
   "outputs": [],
   "source": [
    "type(search_json['items'][3])"
   ]
  },
  {
   "cell_type": "markdown",
   "metadata": {
    "slideshow": {
     "slide_type": "fragment"
    }
   },
   "source": [
    "Each of the 20 items in the list is a dictionary. "
   ]
  },
  {
   "cell_type": "code",
   "execution_count": null,
   "metadata": {
    "slideshow": {
     "slide_type": "slide"
    }
   },
   "outputs": [],
   "source": [
    "first_item = search_json['items'][0]\n",
    "\n",
    "first_item.keys()"
   ]
  },
  {
   "cell_type": "markdown",
   "metadata": {
    "slideshow": {
     "slide_type": "slide"
    }
   },
   "source": [
    "<div class=\"alert alert-info\">\n",
    "<h3> Your turn</h3>\n",
    " <p>What is the title of the first item?\n",
    "</div>"
   ]
  },
  {
   "cell_type": "code",
   "execution_count": null,
   "metadata": {
    "slideshow": {
     "slide_type": "fragment"
    }
   },
   "outputs": [],
   "source": []
  },
  {
   "cell_type": "markdown",
   "metadata": {},
   "source": [
    "<details>\n",
    "<summary>Sample answer code</summary> \n",
    "<code style=\"background-color: white\">\n",
    "print(first_item['title'])\n",
    "</code>\n",
    "</details>"
   ]
  },
  {
   "cell_type": "markdown",
   "metadata": {
    "slideshow": {
     "slide_type": "skip"
    }
   },
   "source": [
    "While a standard CSV file has a header row that describes the contents of each column, a JSON file has keys identifying the values found in each case. Importantly, these keys need not be the same for each item. Additionally, values don't have to be numbers of strings, but could be lists or dictionaries. For example, this JSON could have included a `newspaper` key that was a dictionary with all the metadata about the newspaper where the article and issue was published, an `article` key that include the article specific information as another dictionary, and a `text` key whose value was a string with the article text.\n",
    "\n",
    "As before, we can examine the contents of a particular item, such as the publication's `title`."
   ]
  },
  {
   "cell_type": "code",
   "execution_count": null,
   "metadata": {
    "slideshow": {
     "slide_type": "slide"
    }
   },
   "outputs": [],
   "source": [
    "first_item['ocr_eng']"
   ]
  },
  {
   "cell_type": "markdown",
   "metadata": {},
   "source": [
    "`print` will make things look a little cleaner, converting, for example, `\\n` to a line break."
   ]
  },
  {
   "cell_type": "code",
   "execution_count": null,
   "metadata": {
    "slideshow": {
     "slide_type": "slide"
    }
   },
   "outputs": [],
   "source": [
    "print(first_item['ocr_eng'])"
   ]
  },
  {
   "cell_type": "code",
   "execution_count": null,
   "metadata": {
    "slideshow": {
     "slide_type": "slide"
    }
   },
   "outputs": [],
   "source": [
    "print(first_item['ocr_eng'][:200])"
   ]
  },
  {
   "cell_type": "markdown",
   "metadata": {
    "slideshow": {
     "slide_type": "skip"
    }
   },
   "source": [
    "The easiest way to view or analyze this data is to convert it to a dataset-like structure. While Python does not have a built-in dataframe type, the popular `pandas` library does. By convention, it is imported as `pd`."
   ]
  },
  {
   "cell_type": "code",
   "execution_count": null,
   "metadata": {
    "slideshow": {
     "slide_type": "slide"
    }
   },
   "outputs": [],
   "source": [
    "import pandas as pd\n",
    "\n",
    "# Make sure all columns are displayed\n",
    "pd.set_option(\"display.max_columns\",101)"
   ]
  },
  {
   "cell_type": "markdown",
   "metadata": {
    "slideshow": {
     "slide_type": "skip"
    }
   },
   "source": [
    "`pandas` is pretty smart about importing different JSON-type objects and converting them to dataframes with its `.DataFrame()` function."
   ]
  },
  {
   "cell_type": "code",
   "execution_count": null,
   "metadata": {
    "slideshow": {
     "slide_type": "slide"
    }
   },
   "outputs": [],
   "source": [
    "df = pd.DataFrame(search_json['items'])\n",
    "\n",
    "df.head(6)"
   ]
  },
  {
   "cell_type": "markdown",
   "metadata": {
    "slideshow": {
     "slide_type": "slide"
    }
   },
   "source": [
    "Note that I converted `search_json['items']` to a dataframe and not the entire JSON file. This is because I wanted each row to be an article. "
   ]
  },
  {
   "cell_type": "markdown",
   "metadata": {
    "slideshow": {
     "slide_type": "slide"
    }
   },
   "source": [
    "If this dataframe contained all the items you were looking for, it would be easy to save this to a csv file for storage and later analysis."
   ]
  },
  {
   "cell_type": "code",
   "execution_count": null,
   "metadata": {
    "slideshow": {
     "slide_type": "fragment"
    }
   },
   "outputs": [],
   "source": [
    "df.to_csv('lynching_articles.csv', index = False)"
   ]
  },
  {
   "cell_type": "markdown",
   "metadata": {
    "slideshow": {
     "slide_type": "skip"
    }
   },
   "source": [
    "On a Mac, you can use the "
   ]
  },
  {
   "cell_type": "code",
   "execution_count": null,
   "metadata": {
    "slideshow": {
     "slide_type": "skip"
    }
   },
   "outputs": [],
   "source": [
    "!head slavery_articles.csv"
   ]
  },
  {
   "cell_type": "code",
   "execution_count": null,
   "metadata": {
    "slideshow": {
     "slide_type": "skip"
    }
   },
   "outputs": [],
   "source": [
    "df.to_json('slavery_articles.json', orient='records')"
   ]
  },
  {
   "cell_type": "code",
   "execution_count": null,
   "metadata": {
    "slideshow": {
     "slide_type": "skip"
    }
   },
   "outputs": [],
   "source": [
    "!head slavery_articles.json"
   ]
  },
  {
   "cell_type": "markdown",
   "metadata": {
    "slideshow": {
     "slide_type": "slide"
    }
   },
   "source": [
    "<div class=\"alert alert-info\">\n",
    "<h3> Your Turn</h3>\n",
    "<p> Conduct your own search of the API. Store the results in a dataframe.\n",
    "\n",
    "</div>\n",
    "\n"
   ]
  },
  {
   "cell_type": "code",
   "execution_count": null,
   "metadata": {},
   "outputs": [],
   "source": []
  },
  {
   "cell_type": "markdown",
   "metadata": {
    "slideshow": {
     "slide_type": "slide"
    }
   },
   "source": [
    "\n",
    "<details>\n",
    "<summary>Sample answer code</summary> \n",
    "<code style=\"background-color: white\">\n",
    "search_word = 'robbery'\n",
    "\n",
    "\n",
    "base_url   = 'http://chroniclingamerica.loc.gov/search/pages/results/'\n",
    "parameters = '?andtext=' + search_word + '&format=json'\n",
    "\n",
    "r = requests.get(base_url + parameters)\n",
    "search_json = r.json()\n",
    "df = pd.DataFrame(search_json['items'])\n",
    "\n",
    "</code>\n",
    "</details>"
   ]
  },
  {
   "cell_type": "markdown",
   "metadata": {
    "slideshow": {
     "slide_type": "slide"
    }
   },
   "source": [
    "### A different API\n",
    "\n",
    "![](https://github.com/nealcaren/ScrapingData/raw/master/Notebooks/images/fbi_most_wanted.png)"
   ]
  },
  {
   "cell_type": "code",
   "execution_count": null,
   "metadata": {
    "slideshow": {
     "slide_type": "slide"
    }
   },
   "outputs": [],
   "source": [
    "r = requests.get('https://api.fbi.gov/wanted/v1/list?pageSize=20&page=1&sort_on=modified')"
   ]
  },
  {
   "cell_type": "code",
   "execution_count": null,
   "metadata": {
    "slideshow": {
     "slide_type": "fragment"
    }
   },
   "outputs": [],
   "source": [
    "r.json()"
   ]
  },
  {
   "cell_type": "code",
   "execution_count": null,
   "metadata": {
    "slideshow": {
     "slide_type": "slide"
    }
   },
   "outputs": [],
   "source": [
    "r.json().keys()"
   ]
  },
  {
   "cell_type": "code",
   "execution_count": null,
   "metadata": {
    "slideshow": {
     "slide_type": "fragment"
    }
   },
   "outputs": [],
   "source": [
    "r.json()['total']"
   ]
  },
  {
   "cell_type": "code",
   "execution_count": null,
   "metadata": {
    "slideshow": {
     "slide_type": "slide"
    }
   },
   "outputs": [],
   "source": [
    "df = pd.DataFrame(r.json()['items'])\n",
    "df"
   ]
  },
  {
   "cell_type": "markdown",
   "metadata": {
    "slideshow": {
     "slide_type": "slide"
    }
   },
   "source": [
    "<div class=\"alert alert-info\">\n",
    "<h3> Your turn</h3>\n",
    "<p> Conduct your own search of the API. Change the page size to 200. Store the results in a csv file.\n",
    "\n",
    "</div>\n",
    "\n",
    "\n"
   ]
  },
  {
   "cell_type": "code",
   "execution_count": null,
   "metadata": {
    "slideshow": {
     "slide_type": "fragment"
    }
   },
   "outputs": [],
   "source": []
  },
  {
   "cell_type": "markdown",
   "metadata": {},
   "source": [
    "<details>\n",
    "<summary>Sample answer code</summary> \n",
    "<code style=\"background-color: white\">\n",
    "r = requests.get('https://api.fbi.gov/wanted/v1/list?pageSize=200&page=1&sort_on=modified')\n",
    "mw_df = pd.DataFrame(r.json()['items'])\n",
    "mw_df.to_csv('mw.csv')\n",
    "\n",
    "</code>\n",
    "</details>\n"
   ]
  },
  {
   "cell_type": "code",
   "execution_count": null,
   "metadata": {
    "slideshow": {
     "slide_type": "slide"
    }
   },
   "outputs": [],
   "source": [
    "base_url = 'https://api.fbi.gov/wanted/v1/list'"
   ]
  },
  {
   "cell_type": "code",
   "execution_count": null,
   "metadata": {
    "slideshow": {
     "slide_type": "fragment"
    }
   },
   "outputs": [],
   "source": [
    "parameters = {'pageSize' : 20}"
   ]
  },
  {
   "cell_type": "code",
   "execution_count": null,
   "metadata": {
    "slideshow": {
     "slide_type": "slide"
    }
   },
   "outputs": [],
   "source": [
    "r = requests.get(base_url, \n",
    "                 params = parameters)"
   ]
  },
  {
   "cell_type": "code",
   "execution_count": null,
   "metadata": {},
   "outputs": [],
   "source": [
    "r.url"
   ]
  },
  {
   "cell_type": "code",
   "execution_count": null,
   "metadata": {
    "slideshow": {
     "slide_type": "fragment"
    }
   },
   "outputs": [],
   "source": [
    "pd.DataFrame(r.json()['items'])"
   ]
  },
  {
   "cell_type": "markdown",
   "metadata": {
    "slideshow": {
     "slide_type": "slide"
    }
   },
   "source": [
    "<div class=\"alert alert-info\">\n",
    "<h3> Your turn</h3>\n",
    "<p>Set a page parameter to \"2\" to get the second page of results.\n",
    "</div>"
   ]
  },
  {
   "cell_type": "code",
   "execution_count": null,
   "metadata": {
    "slideshow": {
     "slide_type": "fragment"
    }
   },
   "outputs": [],
   "source": []
  },
  {
   "cell_type": "markdown",
   "metadata": {},
   "source": [
    "<details>\n",
    "<summary>Sample answer code</summary> \n",
    "<code style=\"background-color: white\">\n",
    "base_url = 'https://api.fbi.gov/wanted/v1/list'\n",
    "parameters = {'pageSize' : 20,\n",
    "              'page'     : 2}\n",
    "\n",
    "r = requests.get(base_url, \n",
    "                 params = parameters)\n",
    "pd.DataFrame(r.json()['items'])\n",
    "</code>\n",
    "</details>"
   ]
  },
  {
   "cell_type": "markdown",
   "metadata": {
    "slideshow": {
     "slide_type": "slide"
    }
   },
   "source": [
    "## A third API\n",
    "![](https://github.com/nealcaren/ScrapingData/raw/master/Notebooks/images/chicago_crime.png)\n",
    "\n",
    "[link](https://dev.socrata.com/foundry/data.cityofchicago.org/ijzp-q8t2)"
   ]
  },
  {
   "cell_type": "markdown",
   "metadata": {
    "slideshow": {
     "slide_type": "slide"
    }
   },
   "source": [
    "<div class=\"alert alert-info\">\n",
    "<h3>In a group </h3>\n",
    "<p>Read about the API on the <a href='https://dev.socrata.com/foundry/data.cityofchicago.org/ijzp-q8t2'>website</a>. Then create a dataframe that contains that take place in a residence. Run some descriptive statistics on your data.\n",
    "</div>\n"
   ]
  },
  {
   "cell_type": "code",
   "execution_count": null,
   "metadata": {},
   "outputs": [],
   "source": []
  },
  {
   "cell_type": "markdown",
   "metadata": {},
   "source": [
    "<details>\n",
    "<summary>Sample answer code</summary> \n",
    "<code style=\"background-color: white\">\n",
    "base_url = 'https://data.cityofchicago.org/resource/ijzp-q8t2.json'\n",
    "\n",
    "parameters = {'location_description' : 'RESIDENCE',\n",
    "              }\n",
    "\n",
    "r = requests.get(base_url, \n",
    "                 params = parameters)\n",
    "df = pd.DataFrame(r.json())\n",
    "\n",
    "df['primary_type'].value_counts()\n",
    "df['arrest'].value_counts()\n",
    "pd.crosstab(df['primary_type'] ,df['arrest'], normalize='index')\n",
    "</code>\n",
    "</details>\n",
    "\n"
   ]
  }
 ],
 "metadata": {
  "anaconda-cloud": {},
  "kernelspec": {
   "display_name": "Python 3",
   "language": "python",
   "name": "python3"
  },
  "language_info": {
   "codemirror_mode": {
    "name": "ipython",
    "version": 3
   },
   "file_extension": ".py",
   "mimetype": "text/x-python",
   "name": "python",
   "nbconvert_exporter": "python",
   "pygments_lexer": "ipython3",
   "version": "3.8.2"
  }
 },
 "nbformat": 4,
 "nbformat_minor": 2
}
