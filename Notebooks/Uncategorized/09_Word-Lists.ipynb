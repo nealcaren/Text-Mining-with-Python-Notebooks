{
 "cells": [
  {
   "cell_type": "markdown",
   "metadata": {},
   "source": [
    "# Word Lists and Sentiment Analysis\n"
   ]
  },
  {
   "cell_type": "markdown",
   "metadata": {
    "slideshow": {
     "slide_type": "skip"
    }
   },
   "source": [
    "A traditional method of analyzing texts involes computing the proportion of words with positive connotations, the proportion of words with negative connotations, and the proportion of words that are neutral. This method is commonly referred to as *sentiment analysis*. The typical approach to sentiment analysis is to see how many words within a given text are also contained within a predefined list of words associated with a sentiment. So, the text \"I am having a bad day\" might score a \"1\" on a negative sentiment scale because it contains one negative word, \"bad,\" or it might score a \".17\" because one of six words in the text is negative. Some sentiment systems rank words on a scale, so that \"terrific\" might be a 5 while \"fine\" scores a 1. \n",
    "\n",
    "Some systems go beyond positive and negative. The proprietary LIWC program, for example, extends this to measure dozens of other word attributes, such as \"tone\", \"analytic thinking\", and \"clout.\" More generally, these methods can be used whenever you have a list of words, and you want to count their occurrences in a set of texts. They are commonly referred to as \"dictionary methods.\"\n",
    "\n",
    "This lesson introduces two different dictionaries that are available in Python, AFINN and Vader. It concludes by showing how to analyze a text corpus for occurrences of words contained in any arbitrary word list."
   ]
  },
  {
   "cell_type": "markdown",
   "metadata": {
    "slideshow": {
     "slide_type": "skip"
    }
   },
   "source": [
    "This lesson assumes your computer has an Anaconda Python 3.7 distribution installed."
   ]
  },
  {
   "cell_type": "markdown",
   "metadata": {
    "slideshow": {
     "slide_type": "slide"
    }
   },
   "source": [
    "# AFINN\n",
    "\n",
    "[AFINN](http://www2.imm.dtu.dk/pubdb/views/publication_details.php?id=6010) is an English word list developed by Finn Årup Nielsen. Words scores range from minus five (negative sentiment) to plus five (positive sentiment). The English language dictionary consists of 2,477 coded words.\n",
    "\n",
    "If this is your first time running this notebook, you may need to install it:\n"
   ]
  },
  {
   "cell_type": "code",
   "execution_count": 1,
   "metadata": {},
   "outputs": [
    {
     "name": "stdout",
     "output_type": "stream",
     "text": [
      "Requirement already satisfied: afinn in /opt/anaconda3/envs/tmwp/lib/python3.8/site-packages (0.1)\n",
      "Note: you may need to restart the kernel to use updated packages.\n"
     ]
    }
   ],
   "source": [
    "%pip install afinn"
   ]
  },
  {
   "cell_type": "markdown",
   "metadata": {},
   "source": [
    "We'll also need to install `matplotlib`for the exercises in this chapter. Don't forget to import `Afinn` and `pandas` as well. Finally, setting the maximum column width in `pandas` to 100 characters will dataframes that are more user-friendly than if we left the column width maximum at 50.  "
   ]
  },
  {
   "cell_type": "code",
   "execution_count": 2,
   "metadata": {
    "slideshow": {
     "slide_type": "slide"
    }
   },
   "outputs": [],
   "source": [
    "%matplotlib inline\n",
    "\n",
    "from afinn import Afinn\n",
    "\n",
    "import pandas as pd\n",
    "pd.set_option('max_colwidth', 100)"
   ]
  },
  {
   "cell_type": "markdown",
   "metadata": {
    "slideshow": {
     "slide_type": "slide"
    }
   },
   "source": [
    "After importing `Afinn`, you need to set the language. Available languages include English (`en`), Danish (`da`), Swedish (`sv`),  Norwegian (`no`), french (`fr`), or emoticon (`emoticons`). \n",
    "\n",
    "For our purposes we'll set the language to English."
   ]
  },
  {
   "cell_type": "code",
   "execution_count": 3,
   "metadata": {
    "slideshow": {
     "slide_type": "fragment"
    }
   },
   "outputs": [],
   "source": [
    "afinn = Afinn(language='en')"
   ]
  },
  {
   "cell_type": "markdown",
   "metadata": {
    "slideshow": {
     "slide_type": "slide"
    }
   },
   "source": [
    "The `score` method returns the sum of word valence scores for a text string. We can look at the score for a number of phrases we know intuitively to carry positive or negative sentiment:"
   ]
  },
  {
   "cell_type": "code",
   "execution_count": 4,
   "metadata": {
    "slideshow": {
     "slide_type": "fragment"
    }
   },
   "outputs": [
    {
     "data": {
      "text/plain": [
       "-3.0"
      ]
     },
     "execution_count": 4,
     "metadata": {},
     "output_type": "execute_result"
    }
   ],
   "source": [
    "afinn.score('Bad day.')"
   ]
  },
  {
   "cell_type": "code",
   "execution_count": 5,
   "metadata": {
    "slideshow": {
     "slide_type": "slide"
    }
   },
   "outputs": [
    {
     "data": {
      "text/plain": [
       "3.0"
      ]
     },
     "execution_count": 5,
     "metadata": {},
     "output_type": "execute_result"
    }
   ],
   "source": [
    "afinn.score('Good day.')"
   ]
  },
  {
   "cell_type": "code",
   "execution_count": 6,
   "metadata": {
    "slideshow": {
     "slide_type": "slide"
    }
   },
   "outputs": [
    {
     "data": {
      "text/plain": [
       "-6.0"
      ]
     },
     "execution_count": 6,
     "metadata": {},
     "output_type": "execute_result"
    }
   ],
   "source": [
    "afinn.score('Horrible, bad day.')"
   ]
  },
  {
   "cell_type": "code",
   "execution_count": 7,
   "metadata": {},
   "outputs": [
    {
     "data": {
      "text/plain": [
       "6.0"
      ]
     },
     "execution_count": 7,
     "metadata": {},
     "output_type": "execute_result"
    }
   ],
   "source": [
    "afinn.score('Excellent, good day.')"
   ]
  },
  {
   "cell_type": "code",
   "execution_count": null,
   "metadata": {},
   "outputs": [],
   "source": [
    "afinn_no = Afinn(language='no')\n"
   ]
  },
  {
   "cell_type": "code",
   "execution_count": 13,
   "metadata": {},
   "outputs": [
    {
     "data": {
      "text/plain": [
       "4.0"
      ]
     },
     "execution_count": 13,
     "metadata": {},
     "output_type": "execute_result"
    }
   ],
   "source": [
    "afinn_no.score('Google translate er min beste venn!')"
   ]
  },
  {
   "cell_type": "markdown",
   "metadata": {
    "slideshow": {
     "slide_type": "skip"
    }
   },
   "source": [
    "Conveniently, `afinn` preprocesses text strings by removing the punctuation and converting all the words to lower case before analyzing it. "
   ]
  },
  {
   "cell_type": "markdown",
   "metadata": {},
   "source": [
    "### AFINN Exercise 1\n",
    "Create a sentence with a score of +10 or greater and one of -10 or lower.\n"
   ]
  },
  {
   "cell_type": "code",
   "execution_count": null,
   "metadata": {},
   "outputs": [],
   "source": []
  },
  {
   "cell_type": "markdown",
   "metadata": {},
   "source": [
    "## Behind the scenes"
   ]
  },
  {
   "cell_type": "markdown",
   "metadata": {
    "slideshow": {
     "slide_type": "skip"
    }
   },
   "source": [
    " Before using a sentiment dictionary, it is useful to see whether it has any face validity.  To do that, we can look at a sample of the words from the list.\n",
    "\n",
    "Since we've imported `pandas`, the cell below will load the  word list from the tab-delimited version on Afinn's GitHub page as a pandas dataframe and display a sample of 10 words."
   ]
  },
  {
   "cell_type": "code",
   "execution_count": 8,
   "metadata": {
    "slideshow": {
     "slide_type": "skip"
    }
   },
   "outputs": [
    {
     "data": {
      "text/html": [
       "<div>\n",
       "<style scoped>\n",
       "    .dataframe tbody tr th:only-of-type {\n",
       "        vertical-align: middle;\n",
       "    }\n",
       "\n",
       "    .dataframe tbody tr th {\n",
       "        vertical-align: top;\n",
       "    }\n",
       "\n",
       "    .dataframe thead th {\n",
       "        text-align: right;\n",
       "    }\n",
       "</style>\n",
       "<table border=\"1\" class=\"dataframe\">\n",
       "  <thead>\n",
       "    <tr style=\"text-align: right;\">\n",
       "      <th></th>\n",
       "      <th>term</th>\n",
       "      <th>value</th>\n",
       "    </tr>\n",
       "  </thead>\n",
       "  <tbody>\n",
       "    <tr>\n",
       "      <th>1852</th>\n",
       "      <td>regret</td>\n",
       "      <td>-2</td>\n",
       "    </tr>\n",
       "    <tr>\n",
       "      <th>1285</th>\n",
       "      <td>indifferent</td>\n",
       "      <td>-2</td>\n",
       "    </tr>\n",
       "    <tr>\n",
       "      <th>681</th>\n",
       "      <td>disappoints</td>\n",
       "      <td>-2</td>\n",
       "    </tr>\n",
       "    <tr>\n",
       "      <th>770</th>\n",
       "      <td>doubts</td>\n",
       "      <td>-1</td>\n",
       "    </tr>\n",
       "    <tr>\n",
       "      <th>1644</th>\n",
       "      <td>outmaneuvered</td>\n",
       "      <td>-2</td>\n",
       "    </tr>\n",
       "    <tr>\n",
       "      <th>55</th>\n",
       "      <td>admit</td>\n",
       "      <td>-1</td>\n",
       "    </tr>\n",
       "    <tr>\n",
       "      <th>1133</th>\n",
       "      <td>haha</td>\n",
       "      <td>3</td>\n",
       "    </tr>\n",
       "    <tr>\n",
       "      <th>1160</th>\n",
       "      <td>haunt</td>\n",
       "      <td>-1</td>\n",
       "    </tr>\n",
       "    <tr>\n",
       "      <th>2435</th>\n",
       "      <td>wishing</td>\n",
       "      <td>1</td>\n",
       "    </tr>\n",
       "    <tr>\n",
       "      <th>21</th>\n",
       "      <td>abused</td>\n",
       "      <td>-3</td>\n",
       "    </tr>\n",
       "  </tbody>\n",
       "</table>\n",
       "</div>"
      ],
      "text/plain": [
       "               term  value\n",
       "1852         regret     -2\n",
       "1285    indifferent     -2\n",
       "681     disappoints     -2\n",
       "770          doubts     -1\n",
       "1644  outmaneuvered     -2\n",
       "55            admit     -1\n",
       "1133           haha      3\n",
       "1160          haunt     -1\n",
       "2435        wishing      1\n",
       "21           abused     -3"
      ]
     },
     "execution_count": 8,
     "metadata": {},
     "output_type": "execute_result"
    }
   ],
   "source": [
    "afinn_wl_url = ('https://raw.githubusercontent.com'\n",
    "                '/fnielsen/afinn/master/afinn/data/AFINN-111.txt')\n",
    "\n",
    "afinn_wl_df = pd.read_csv(afinn_wl_url, \n",
    "                          header=None, # no column names\n",
    "                          sep='\\t',  # tab sepeated\n",
    "                          names=['term', 'value']) #new column names\n",
    "\n",
    "seed = 808 # seed for sample so results are stable\n",
    "afinn_wl_df.sample(10, random_state = seed)"
   ]
  },
  {
   "cell_type": "markdown",
   "metadata": {
    "slideshow": {
     "slide_type": "skip"
    }
   },
   "source": [
    "We can get a sense of the distribution of word values by plotting them:"
   ]
  },
  {
   "cell_type": "code",
   "execution_count": 9,
   "metadata": {
    "slideshow": {
     "slide_type": "slide"
    }
   },
   "outputs": [
    {
     "data": {
      "text/plain": [
       "<matplotlib.axes._subplots.AxesSubplot at 0x1187cd610>"
      ]
     },
     "execution_count": 9,
     "metadata": {},
     "output_type": "execute_result"
    },
    {
     "data": {
      "image/png": "[encoded data removed]",
      "text/plain": [
       "<Figure size 432x288 with 1 Axes>"
      ]
     },
     "metadata": {
      "needs_background": "light"
     },
     "output_type": "display_data"
    }
   ],
   "source": [
    "%matplotlib inline\n",
    "\n",
    "afinn_wl_df['value'].hist(bins=20)"
   ]
  },
  {
   "cell_type": "markdown",
   "metadata": {
    "slideshow": {
     "slide_type": "skip"
    }
   },
   "source": [
    "Overall, the dictionary appears to have more negative words than positive words, but the values for both positive and negative words are rarely too extreme, with 2 and -2 as the two most common values."
   ]
  },
  {
   "cell_type": "markdown",
   "metadata": {
    "slideshow": {
     "slide_type": "skip"
    }
   },
   "source": [
    "## Applying the dictionary\n",
    "\n",
    "We can use Afinn to analyze more extensive text databases as well. To demonstrate, we'll walk through how to use Afinn to analyze comments posted on New York Times articles over the month of April 2017. \n",
    "\n",
    "*Aashita Kesarwani, [corpus](https://www.kaggle.com/aashita/nyt-comments/home)*"
   ]
  },
  {
   "cell_type": "code",
   "execution_count": 10,
   "metadata": {
    "slideshow": {
     "slide_type": "slide"
    }
   },
   "outputs": [],
   "source": [
    "nyt_comments = pd.read_csv('CommentsApril2017.csv', low_memory = False)"
   ]
  },
  {
   "cell_type": "markdown",
   "metadata": {
    "slideshow": {
     "slide_type": "skip"
    }
   },
   "source": [
    "We can use the `head` method to get a sense of the dataframe."
   ]
  },
  {
   "cell_type": "code",
   "execution_count": 11,
   "metadata": {
    "slideshow": {
     "slide_type": "slide"
    }
   },
   "outputs": [
    {
     "data": {
      "text/html": [
       "<div>\n",
       "<style scoped>\n",
       "    .dataframe tbody tr th:only-of-type {\n",
       "        vertical-align: middle;\n",
       "    }\n",
       "\n",
       "    .dataframe tbody tr th {\n",
       "        vertical-align: top;\n",
       "    }\n",
       "\n",
       "    .dataframe thead th {\n",
       "        text-align: right;\n",
       "    }\n",
       "</style>\n",
       "<table border=\"1\" class=\"dataframe\">\n",
       "  <thead>\n",
       "    <tr style=\"text-align: right;\">\n",
       "      <th></th>\n",
       "      <th>Unnamed: 0</th>\n",
       "      <th>commentBody</th>\n",
       "      <th>commentSequence</th>\n",
       "      <th>commentType</th>\n",
       "      <th>editorsSelection</th>\n",
       "      <th>userLocation</th>\n",
       "      <th>sectionName</th>\n",
       "      <th>newDesk</th>\n",
       "      <th>articleWordCount</th>\n",
       "      <th>printPage</th>\n",
       "      <th>typeOfMaterial</th>\n",
       "    </tr>\n",
       "  </thead>\n",
       "  <tbody>\n",
       "    <tr>\n",
       "      <th>0</th>\n",
       "      <td>39843</td>\n",
       "      <td>Purple is NOT a feminine color. I've always loved a deep blue purple. I now wear it in honor of ...</td>\n",
       "      <td>22204231</td>\n",
       "      <td>userReply</td>\n",
       "      <td>False</td>\n",
       "      <td>MA. RESISTANCE IS NOT FUTILE</td>\n",
       "      <td>Unknown</td>\n",
       "      <td>OpEd</td>\n",
       "      <td>819.0</td>\n",
       "      <td>25</td>\n",
       "      <td>Op-Ed</td>\n",
       "    </tr>\n",
       "    <tr>\n",
       "      <th>1</th>\n",
       "      <td>42222</td>\n",
       "      <td>Great comment!</td>\n",
       "      <td>22156682</td>\n",
       "      <td>userReply</td>\n",
       "      <td>False</td>\n",
       "      <td>Tucson</td>\n",
       "      <td>Unknown</td>\n",
       "      <td>National</td>\n",
       "      <td>1433.0</td>\n",
       "      <td>1</td>\n",
       "      <td>News</td>\n",
       "    </tr>\n",
       "    <tr>\n",
       "      <th>2</th>\n",
       "      <td>119624</td>\n",
       "      <td>Then how come the 50,000 illegal Irish aren't picking vegetables (number found elsewhere here), ...</td>\n",
       "      <td>22104623</td>\n",
       "      <td>userReply</td>\n",
       "      <td>False</td>\n",
       "      <td>MA. RESISTANCE IS NOT FUTILE</td>\n",
       "      <td>Unknown</td>\n",
       "      <td>National</td>\n",
       "      <td>1249.0</td>\n",
       "      <td>16</td>\n",
       "      <td>News</td>\n",
       "    </tr>\n",
       "    <tr>\n",
       "      <th>3</th>\n",
       "      <td>18606</td>\n",
       "      <td>Psychiatrists are not scientists - they do not follow the scientific method, and certainly not t...</td>\n",
       "      <td>22180867</td>\n",
       "      <td>comment</td>\n",
       "      <td>False</td>\n",
       "      <td>montreal</td>\n",
       "      <td>Unknown</td>\n",
       "      <td>National</td>\n",
       "      <td>1081.0</td>\n",
       "      <td>0</td>\n",
       "      <td>News</td>\n",
       "    </tr>\n",
       "    <tr>\n",
       "      <th>4</th>\n",
       "      <td>4570</td>\n",
       "      <td>We've been having this same conversation for decades.&lt;br/&gt;The Democrats are Charlie Brown and th...</td>\n",
       "      <td>22291060</td>\n",
       "      <td>comment</td>\n",
       "      <td>False</td>\n",
       "      <td>Brooklyn</td>\n",
       "      <td>Politics</td>\n",
       "      <td>National</td>\n",
       "      <td>1134.0</td>\n",
       "      <td>1</td>\n",
       "      <td>News</td>\n",
       "    </tr>\n",
       "  </tbody>\n",
       "</table>\n",
       "</div>"
      ],
      "text/plain": [
       "   Unnamed: 0  \\\n",
       "0       39843   \n",
       "1       42222   \n",
       "2      119624   \n",
       "3       18606   \n",
       "4        4570   \n",
       "\n",
       "                                                                                           commentBody  \\\n",
       "0  Purple is NOT a feminine color. I've always loved a deep blue purple. I now wear it in honor of ...   \n",
       "1                                                                                     Great comment!     \n",
       "2  Then how come the 50,000 illegal Irish aren't picking vegetables (number found elsewhere here), ...   \n",
       "3  Psychiatrists are not scientists - they do not follow the scientific method, and certainly not t...   \n",
       "4  We've been having this same conversation for decades.<br/>The Democrats are Charlie Brown and th...   \n",
       "\n",
       "   commentSequence commentType  editorsSelection  \\\n",
       "0         22204231   userReply             False   \n",
       "1         22156682   userReply             False   \n",
       "2         22104623   userReply             False   \n",
       "3         22180867     comment             False   \n",
       "4         22291060     comment             False   \n",
       "\n",
       "                   userLocation sectionName   newDesk  articleWordCount  \\\n",
       "0  MA. RESISTANCE IS NOT FUTILE     Unknown      OpEd             819.0   \n",
       "1                        Tucson     Unknown  National            1433.0   \n",
       "2  MA. RESISTANCE IS NOT FUTILE     Unknown  National            1249.0   \n",
       "3                      montreal     Unknown  National            1081.0   \n",
       "4                      Brooklyn    Politics  National            1134.0   \n",
       "\n",
       "   printPage typeOfMaterial  \n",
       "0         25          Op-Ed  \n",
       "1          1           News  \n",
       "2         16           News  \n",
       "3          0           News  \n",
       "4          1           News  "
      ]
     },
     "execution_count": 11,
     "metadata": {},
     "output_type": "execute_result"
    }
   ],
   "source": [
    "nyt_comments.head()"
   ]
  },
  {
   "cell_type": "markdown",
   "metadata": {
    "slideshow": {
     "slide_type": "slide"
    }
   },
   "source": [
    "With Afinn, the primary column of interest is *commentBody.* \n",
    "\n",
    "To estimate the Afinn sentiment score for all of the responses in the dataframe, we can `apply` the scorer to the commentBody column to create a new column. Applying this function takes a couple of seconds."
   ]
  },
  {
   "cell_type": "code",
   "execution_count": 12,
   "metadata": {
    "slideshow": {
     "slide_type": "fragment"
    }
   },
   "outputs": [],
   "source": [
    "nyt_comments['afinn_score'] = nyt_comments['commentBody'].apply(afinn.score)"
   ]
  },
  {
   "cell_type": "markdown",
   "metadata": {
    "slideshow": {
     "slide_type": "slide"
    }
   },
   "source": [
    "`describe` gives a sense of the distribution. "
   ]
  },
  {
   "cell_type": "code",
   "execution_count": 13,
   "metadata": {
    "slideshow": {
     "slide_type": "fragment"
    }
   },
   "outputs": [
    {
     "data": {
      "text/plain": [
       "count    49000.000000\n",
       "mean        -0.212082\n",
       "std          6.957044\n",
       "min        -67.000000\n",
       "25%         -3.000000\n",
       "50%          0.000000\n",
       "75%          3.000000\n",
       "max         48.000000\n",
       "Name: afinn_score, dtype: float64"
      ]
     },
     "execution_count": 13,
     "metadata": {},
     "output_type": "execute_result"
    }
   ],
   "source": [
    "nyt_comments['afinn_score'].describe()"
   ]
  },
  {
   "cell_type": "markdown",
   "metadata": {
    "slideshow": {
     "slide_type": "skip"
    }
   },
   "source": [
    "It is also useful to sort by `afinn_score` to get a sense of what is in the extreme scoring comments. In this case, I subset the dataframe to display just the two relevant columns. "
   ]
  },
  {
   "cell_type": "code",
   "execution_count": 14,
   "metadata": {
    "scrolled": true,
    "slideshow": {
     "slide_type": "slide"
    }
   },
   "outputs": [
    {
     "data": {
      "text/html": [
       "<div>\n",
       "<style scoped>\n",
       "    .dataframe tbody tr th:only-of-type {\n",
       "        vertical-align: middle;\n",
       "    }\n",
       "\n",
       "    .dataframe tbody tr th {\n",
       "        vertical-align: top;\n",
       "    }\n",
       "\n",
       "    .dataframe thead th {\n",
       "        text-align: right;\n",
       "    }\n",
       "</style>\n",
       "<table border=\"1\" class=\"dataframe\">\n",
       "  <thead>\n",
       "    <tr style=\"text-align: right;\">\n",
       "      <th></th>\n",
       "      <th>commentBody</th>\n",
       "      <th>afinn_score</th>\n",
       "    </tr>\n",
       "  </thead>\n",
       "  <tbody>\n",
       "    <tr>\n",
       "      <th>28668</th>\n",
       "      <td>Dozens of Police Injured in G20 Protests as Merkel Seeks Consensus&lt;br/&gt;By Reuters&lt;br/&gt;&lt;br/&gt;This ...</td>\n",
       "      <td>-67.0</td>\n",
       "    </tr>\n",
       "    <tr>\n",
       "      <th>876</th>\n",
       "      <td>It might be helpful, to put the issue into some sort of perspective,&lt;br/&gt;if we look back at the ...</td>\n",
       "      <td>-65.0</td>\n",
       "    </tr>\n",
       "    <tr>\n",
       "      <th>31821</th>\n",
       "      <td>Said to be brought to tears upon learning about the daily plight and maltreatment of babies and ...</td>\n",
       "      <td>-65.0</td>\n",
       "    </tr>\n",
       "    <tr>\n",
       "      <th>12443</th>\n",
       "      <td>&lt;a href=\"http://www.cbsnews.com/news/death-penalty-deters-murders-studies-say/\" title=\"http://ww...</td>\n",
       "      <td>-60.0</td>\n",
       "    </tr>\n",
       "    <tr>\n",
       "      <th>33015</th>\n",
       "      <td>I grow tired of hearing that both parties have been equally guilty of not responding to the angs...</td>\n",
       "      <td>-57.0</td>\n",
       "    </tr>\n",
       "    <tr>\n",
       "      <th>1340</th>\n",
       "      <td>\"Le Pen’s party, whose racist ideology was once taboo, has joined the mainstream.\"&lt;br/&gt;&lt;br/&gt;Le P...</td>\n",
       "      <td>-56.0</td>\n",
       "    </tr>\n",
       "    <tr>\n",
       "      <th>18153</th>\n",
       "      <td>The Trump presidency is a tale told by an idiot, full of sound and fury, signifying nothing.   E...</td>\n",
       "      <td>-55.0</td>\n",
       "    </tr>\n",
       "    <tr>\n",
       "      <th>13098</th>\n",
       "      <td>I agree with everything said here. &lt;br/&gt;&lt;br/&gt;All I want to add is that it's hard to read this ti...</td>\n",
       "      <td>-54.0</td>\n",
       "    </tr>\n",
       "    <tr>\n",
       "      <th>28792</th>\n",
       "      <td>Would you describe (former prime minister of Israel) Menachem Begin as a terrorist? &lt;br/&gt;&lt;br/&gt;He...</td>\n",
       "      <td>-54.0</td>\n",
       "    </tr>\n",
       "    <tr>\n",
       "      <th>32966</th>\n",
       "      <td>\"In the 1990s, North Korea continued with its nuclear program even as a famine claimed the lives...</td>\n",
       "      <td>-52.0</td>\n",
       "    </tr>\n",
       "  </tbody>\n",
       "</table>\n",
       "</div>"
      ],
      "text/plain": [
       "                                                                                               commentBody  \\\n",
       "28668  Dozens of Police Injured in G20 Protests as Merkel Seeks Consensus<br/>By Reuters<br/><br/>This ...   \n",
       "876    It might be helpful, to put the issue into some sort of perspective,<br/>if we look back at the ...   \n",
       "31821  Said to be brought to tears upon learning about the daily plight and maltreatment of babies and ...   \n",
       "12443  <a href=\"http://www.cbsnews.com/news/death-penalty-deters-murders-studies-say/\" title=\"http://ww...   \n",
       "33015  I grow tired of hearing that both parties have been equally guilty of not responding to the angs...   \n",
       "1340   \"Le Pen’s party, whose racist ideology was once taboo, has joined the mainstream.\"<br/><br/>Le P...   \n",
       "18153  The Trump presidency is a tale told by an idiot, full of sound and fury, signifying nothing.   E...   \n",
       "13098  I agree with everything said here. <br/><br/>All I want to add is that it's hard to read this ti...   \n",
       "28792  Would you describe (former prime minister of Israel) Menachem Begin as a terrorist? <br/><br/>He...   \n",
       "32966  \"In the 1990s, North Korea continued with its nuclear program even as a famine claimed the lives...   \n",
       "\n",
       "       afinn_score  \n",
       "28668        -67.0  \n",
       "876          -65.0  \n",
       "31821        -65.0  \n",
       "12443        -60.0  \n",
       "33015        -57.0  \n",
       "1340         -56.0  \n",
       "18153        -55.0  \n",
       "13098        -54.0  \n",
       "28792        -54.0  \n",
       "32966        -52.0  "
      ]
     },
     "execution_count": 14,
     "metadata": {},
     "output_type": "execute_result"
    }
   ],
   "source": [
    "columns_to_display = ['commentBody', 'afinn_score']\n",
    "\n",
    "nyt_comments.sort_values(by='afinn_score')[columns_to_display].head(10)"
   ]
  },
  {
   "cell_type": "code",
   "execution_count": 15,
   "metadata": {
    "slideshow": {
     "slide_type": "slide"
    }
   },
   "outputs": [
    {
     "name": "stdout",
     "output_type": "stream",
     "text": [
      "Dozens of Police Injured in G20 Protests as Merkel Seeks Consensus<br/>By Reuters<br/><br/>This article really caught my eye because when i read it i thought that the violent protesters are what a lot of media will cover. They will focus on the violence and the crimes that they will not cover the reason for the protests or the people that are actually trying to peacefully protest. Before I started reading about the G20 protests on the New York Times all I saw was a group of violent masked people destroying cars and looting stores. This is how I assume a lot of people have and will continue to view them.<br/>It is terrible when protests turn violent just as they did here. They should not hurt police officers when they are protesting. It is ridiculous. It is just not the right way to protest . The thing that violent protest does is shed negative light on the protesters and political parties can use these examples when they are saying that their opposing parties are just violent people. It also just sheds a bad light on the leaders (like Chancellor Merkel) even though they do not have any control in how people act.<br/>I feel bad for the police that are trying to contain the situation because they have done nothing that makes them deserve a beating. One wrong move and they will have a swarm of violent protesters attacking them. So they can not really do their job. Hopefully people will soon start to see that looting a store is not the proper way to protest.\n"
     ]
    }
   ],
   "source": [
    "worst = nyt_comments.sort_values(by='afinn_score').index[0]\n",
    "\n",
    "print(nyt_comments.iloc[worst]['commentBody'])\n"
   ]
  },
  {
   "cell_type": "markdown",
   "metadata": {
    "slideshow": {
     "slide_type": "skip"
    }
   },
   "source": [
    "By default, the sort is ascending, mean the lowest scoring, or most negative comments, are displayed by `head`. The comments with the highest score are shown with `tail`. "
   ]
  },
  {
   "cell_type": "code",
   "execution_count": 16,
   "metadata": {
    "slideshow": {
     "slide_type": "slide"
    }
   },
   "outputs": [
    {
     "data": {
      "text/html": [
       "<div>\n",
       "<style scoped>\n",
       "    .dataframe tbody tr th:only-of-type {\n",
       "        vertical-align: middle;\n",
       "    }\n",
       "\n",
       "    .dataframe tbody tr th {\n",
       "        vertical-align: top;\n",
       "    }\n",
       "\n",
       "    .dataframe thead th {\n",
       "        text-align: right;\n",
       "    }\n",
       "</style>\n",
       "<table border=\"1\" class=\"dataframe\">\n",
       "  <thead>\n",
       "    <tr style=\"text-align: right;\">\n",
       "      <th></th>\n",
       "      <th>commentBody</th>\n",
       "      <th>afinn_score</th>\n",
       "    </tr>\n",
       "  </thead>\n",
       "  <tbody>\n",
       "    <tr>\n",
       "      <th>20575</th>\n",
       "      <td>His lawyers are grasping at straws.... In the history of art I'm willing to bet one cannot find ...</td>\n",
       "      <td>38.0</td>\n",
       "    </tr>\n",
       "    <tr>\n",
       "      <th>13939</th>\n",
       "      <td>My goodness... This hit home for me in so many ways. I was (am) a Tomboy, who has grown into a s...</td>\n",
       "      <td>39.0</td>\n",
       "    </tr>\n",
       "    <tr>\n",
       "      <th>5547</th>\n",
       "      <td>I think the new production is a vast improvement over the 1969 one, which was well overdue for r...</td>\n",
       "      <td>40.0</td>\n",
       "    </tr>\n",
       "    <tr>\n",
       "      <th>1536</th>\n",
       "      <td>The Republican Party primarily stands for the massive redistribution of wealth from everyone to ...</td>\n",
       "      <td>41.0</td>\n",
       "    </tr>\n",
       "    <tr>\n",
       "      <th>5310</th>\n",
       "      <td>The Princess power,&lt;br/&gt;to go back to a time of innocence&lt;br/&gt;to strong female characters&lt;br/&gt;al...</td>\n",
       "      <td>42.0</td>\n",
       "    </tr>\n",
       "    <tr>\n",
       "      <th>21305</th>\n",
       "      <td>In addition, gentle readers, let me suggest that while IQ is important, it isn't necessarily des...</td>\n",
       "      <td>42.0</td>\n",
       "    </tr>\n",
       "    <tr>\n",
       "      <th>10639</th>\n",
       "      <td>\"Driven | 2017 Porsche 911 Turbo S\"&lt;br/&gt;&lt;br/&gt;  Since I was born my Favorite thing to do is watch...</td>\n",
       "      <td>42.0</td>\n",
       "    </tr>\n",
       "    <tr>\n",
       "      <th>23200</th>\n",
       "      <td>While scrolling through the many articles, \"The Triumph of 'Wonder Woman'\" caught my eye. Wonder...</td>\n",
       "      <td>43.0</td>\n",
       "    </tr>\n",
       "    <tr>\n",
       "      <th>3508</th>\n",
       "      <td>I may not always agree with the decisions made by the supreme court but up until now I've always...</td>\n",
       "      <td>46.0</td>\n",
       "    </tr>\n",
       "    <tr>\n",
       "      <th>15769</th>\n",
       "      <td>Family wealth is the most important determinate of all types of success. Over the last 20 years,...</td>\n",
       "      <td>48.0</td>\n",
       "    </tr>\n",
       "  </tbody>\n",
       "</table>\n",
       "</div>"
      ],
      "text/plain": [
       "                                                                                               commentBody  \\\n",
       "20575  His lawyers are grasping at straws.... In the history of art I'm willing to bet one cannot find ...   \n",
       "13939  My goodness... This hit home for me in so many ways. I was (am) a Tomboy, who has grown into a s...   \n",
       "5547   I think the new production is a vast improvement over the 1969 one, which was well overdue for r...   \n",
       "1536   The Republican Party primarily stands for the massive redistribution of wealth from everyone to ...   \n",
       "5310   The Princess power,<br/>to go back to a time of innocence<br/>to strong female characters<br/>al...   \n",
       "21305  In addition, gentle readers, let me suggest that while IQ is important, it isn't necessarily des...   \n",
       "10639  \"Driven | 2017 Porsche 911 Turbo S\"<br/><br/>  Since I was born my Favorite thing to do is watch...   \n",
       "23200  While scrolling through the many articles, \"The Triumph of 'Wonder Woman'\" caught my eye. Wonder...   \n",
       "3508   I may not always agree with the decisions made by the supreme court but up until now I've always...   \n",
       "15769  Family wealth is the most important determinate of all types of success. Over the last 20 years,...   \n",
       "\n",
       "       afinn_score  \n",
       "20575         38.0  \n",
       "13939         39.0  \n",
       "5547          40.0  \n",
       "1536          41.0  \n",
       "5310          42.0  \n",
       "21305         42.0  \n",
       "10639         42.0  \n",
       "23200         43.0  \n",
       "3508          46.0  \n",
       "15769         48.0  "
      ]
     },
     "execution_count": 16,
     "metadata": {},
     "output_type": "execute_result"
    }
   ],
   "source": [
    "nyt_comments.sort_values(by='afinn_score')[columns_to_display].tail(10)"
   ]
  },
  {
   "cell_type": "code",
   "execution_count": 28,
   "metadata": {
    "slideshow": {
     "slide_type": "slide"
    }
   },
   "outputs": [
    {
     "name": "stdout",
     "output_type": "stream",
     "text": [
      "In my town, we used to go looking for a field so my son and I could have a catch on a real field.  Often we found other fathers and sons already there.   The only fun that was rare, was the pickup game (we did see that occur but not as often as the sandlots of many years ago).   But the simple pleasure of catch is alive and well.<br/><br/>But joy of catch with Dad, for a rare kid obsessed with the game, would naturally lead for a desire for more as the kid grows.  The fun just morphs from joy of fresh air and family time, to joy of accomplishment.   A few lessons to enable the next level of enjoyment is how I looked at it.    There is lots of sorrow in the game, mostly coaches who care more about winning and playing their favorites.   But the joy of catch with Dad, can for some kids become joy of team, joy of results from progress.   Happy to say that after more than a decade of baseball, my son is very happily part of a college team, a dream he has worked towards.  He enjoys the camraderie of his new college teammates,<br/>and he would not be there without the joyful work he put in before.   Not much different from school work, studying itself does not appear fun, but good grades are enjoyable, camraderie of learning with other kids is enjoyable.  So if baseball lessons are a bad thing, so is school tuition and extra help after school.\n"
     ]
    }
   ],
   "source": [
    "best = nyt_comments.sort_values(by='afinn_score', ascending=False).index[0]\n",
    "\n",
    "print(nyt_comments.iloc[best]['commentBody'])\n",
    "\n"
   ]
  },
  {
   "cell_type": "markdown",
   "metadata": {
    "slideshow": {
     "slide_type": "skip"
    }
   },
   "source": [
    "One of the drawbacks to using the raw Afinn score is the that longer texts may yield higher values simply because they contain more words. To adjust for that, we can divide the score by the number of words in the text. \n",
    "\n",
    "The most straightforward way to count words in a Python string is to use the `split` method, which splits a string based on white spaces, and then count the length of the resulting list."
   ]
  },
  {
   "cell_type": "code",
   "execution_count": 17,
   "metadata": {
    "slideshow": {
     "slide_type": "slide"
    }
   },
   "outputs": [],
   "source": [
    "from pdtext.tf import word_count"
   ]
  },
  {
   "cell_type": "code",
   "execution_count": 18,
   "metadata": {
    "slideshow": {
     "slide_type": "slide"
    }
   },
   "outputs": [
    {
     "data": {
      "text/plain": [
       "7"
      ]
     },
     "execution_count": 18,
     "metadata": {},
     "output_type": "execute_result"
    }
   ],
   "source": [
    "word_count('This sentence has seven words in it.')"
   ]
  },
  {
   "cell_type": "markdown",
   "metadata": {
    "slideshow": {
     "slide_type": "skip"
    }
   },
   "source": [
    "You can employ that function on our dataframe to create a new column, `word_count` using `appply` to the text column, `commentBody`."
   ]
  },
  {
   "cell_type": "code",
   "execution_count": 19,
   "metadata": {
    "slideshow": {
     "slide_type": "slide"
    }
   },
   "outputs": [],
   "source": [
    "nyt_comments['word_count'] = nyt_comments['commentBody'].apply(word_count)"
   ]
  },
  {
   "cell_type": "code",
   "execution_count": 20,
   "metadata": {
    "slideshow": {
     "slide_type": "slide"
    }
   },
   "outputs": [
    {
     "data": {
      "text/plain": [
       "count    49000.000000\n",
       "mean        70.660449\n",
       "std         61.628161\n",
       "min          1.000000\n",
       "25%         24.000000\n",
       "50%         51.000000\n",
       "75%         97.000000\n",
       "max        295.000000\n",
       "Name: word_count, dtype: float64"
      ]
     },
     "execution_count": 20,
     "metadata": {},
     "output_type": "execute_result"
    }
   ],
   "source": [
    "nyt_comments['word_count'].describe()"
   ]
  },
  {
   "cell_type": "markdown",
   "metadata": {
    "slideshow": {
     "slide_type": "skip"
    }
   },
   "source": [
    "We can divide the original score by the word count to produce `afinn_adjusted`. This isn't exactly a percentage variable, since word scores in Afinn can range from -5 to 5, but it is a useful adjustment to control for variable comment length. To make it clearer that this isn't a percent score, and to make the results more readable, the adjustment is multiplied by 100."
   ]
  },
  {
   "cell_type": "code",
   "execution_count": 21,
   "metadata": {
    "slideshow": {
     "slide_type": "slide"
    }
   },
   "outputs": [],
   "source": [
    "nyt_comments['afinn_adjusted'] = nyt_comments['afinn_score'] / nyt_comments['word_count'] * 100"
   ]
  },
  {
   "cell_type": "code",
   "execution_count": 22,
   "metadata": {
    "slideshow": {
     "slide_type": "slide"
    }
   },
   "outputs": [
    {
     "data": {
      "text/plain": [
       "count    49000.000000\n",
       "mean         0.439222\n",
       "std         17.437913\n",
       "min       -300.000000\n",
       "25%         -5.882353\n",
       "50%          0.000000\n",
       "75%          5.929691\n",
       "max        500.000000\n",
       "Name: afinn_adjusted, dtype: float64"
      ]
     },
     "execution_count": 22,
     "metadata": {},
     "output_type": "execute_result"
    }
   ],
   "source": [
    "nyt_comments['afinn_adjusted'].describe()"
   ]
  },
  {
   "cell_type": "markdown",
   "metadata": {
    "slideshow": {
     "slide_type": "slide"
    }
   },
   "source": [
    "You can use `groupby` to see how the sentiment score varies by key characteristics."
   ]
  },
  {
   "cell_type": "code",
   "execution_count": 23,
   "metadata": {
    "slideshow": {
     "slide_type": "slide"
    }
   },
   "outputs": [
    {
     "data": {
      "text/html": [
       "<div>\n",
       "<style scoped>\n",
       "    .dataframe tbody tr th:only-of-type {\n",
       "        vertical-align: middle;\n",
       "    }\n",
       "\n",
       "    .dataframe tbody tr th {\n",
       "        vertical-align: top;\n",
       "    }\n",
       "\n",
       "    .dataframe thead tr th {\n",
       "        text-align: left;\n",
       "    }\n",
       "\n",
       "    .dataframe thead tr:last-of-type th {\n",
       "        text-align: right;\n",
       "    }\n",
       "</style>\n",
       "<table border=\"1\" class=\"dataframe\">\n",
       "  <thead>\n",
       "    <tr>\n",
       "      <th></th>\n",
       "      <th colspan=\"8\" halign=\"left\">afinn_adjusted</th>\n",
       "      <th colspan=\"8\" halign=\"left\">afinn_score</th>\n",
       "    </tr>\n",
       "    <tr>\n",
       "      <th></th>\n",
       "      <th>count</th>\n",
       "      <th>mean</th>\n",
       "      <th>std</th>\n",
       "      <th>min</th>\n",
       "      <th>25%</th>\n",
       "      <th>50%</th>\n",
       "      <th>75%</th>\n",
       "      <th>max</th>\n",
       "      <th>count</th>\n",
       "      <th>mean</th>\n",
       "      <th>std</th>\n",
       "      <th>min</th>\n",
       "      <th>25%</th>\n",
       "      <th>50%</th>\n",
       "      <th>75%</th>\n",
       "      <th>max</th>\n",
       "    </tr>\n",
       "    <tr>\n",
       "      <th>editorsSelection</th>\n",
       "      <th></th>\n",
       "      <th></th>\n",
       "      <th></th>\n",
       "      <th></th>\n",
       "      <th></th>\n",
       "      <th></th>\n",
       "      <th></th>\n",
       "      <th></th>\n",
       "      <th></th>\n",
       "      <th></th>\n",
       "      <th></th>\n",
       "      <th></th>\n",
       "      <th></th>\n",
       "      <th></th>\n",
       "      <th></th>\n",
       "      <th></th>\n",
       "    </tr>\n",
       "  </thead>\n",
       "  <tbody>\n",
       "    <tr>\n",
       "      <th>False</th>\n",
       "      <td>47874.0</td>\n",
       "      <td>0.458633</td>\n",
       "      <td>17.560210</td>\n",
       "      <td>-300.000000</td>\n",
       "      <td>-5.920079</td>\n",
       "      <td>0.0</td>\n",
       "      <td>5.970149</td>\n",
       "      <td>500.000000</td>\n",
       "      <td>47874.0</td>\n",
       "      <td>-0.204161</td>\n",
       "      <td>6.895753</td>\n",
       "      <td>-67.0</td>\n",
       "      <td>-3.0</td>\n",
       "      <td>0.0</td>\n",
       "      <td>3.0</td>\n",
       "      <td>48.0</td>\n",
       "    </tr>\n",
       "    <tr>\n",
       "      <th>True</th>\n",
       "      <td>1126.0</td>\n",
       "      <td>-0.386079</td>\n",
       "      <td>11.023481</td>\n",
       "      <td>-133.333333</td>\n",
       "      <td>-5.714286</td>\n",
       "      <td>0.0</td>\n",
       "      <td>5.068393</td>\n",
       "      <td>85.714286</td>\n",
       "      <td>1126.0</td>\n",
       "      <td>-0.548845</td>\n",
       "      <td>9.190082</td>\n",
       "      <td>-38.0</td>\n",
       "      <td>-5.0</td>\n",
       "      <td>0.0</td>\n",
       "      <td>4.0</td>\n",
       "      <td>39.0</td>\n",
       "    </tr>\n",
       "  </tbody>\n",
       "</table>\n",
       "</div>"
      ],
      "text/plain": [
       "                 afinn_adjusted                                             \\\n",
       "                          count      mean        std         min       25%   \n",
       "editorsSelection                                                             \n",
       "False                   47874.0  0.458633  17.560210 -300.000000 -5.920079   \n",
       "True                     1126.0 -0.386079  11.023481 -133.333333 -5.714286   \n",
       "\n",
       "                                            afinn_score                      \\\n",
       "                  50%       75%         max       count      mean       std   \n",
       "editorsSelection                                                              \n",
       "False             0.0  5.970149  500.000000     47874.0 -0.204161  6.895753   \n",
       "True              0.0  5.068393   85.714286      1126.0 -0.548845  9.190082   \n",
       "\n",
       "                                             \n",
       "                   min  25%  50%  75%   max  \n",
       "editorsSelection                             \n",
       "False            -67.0 -3.0  0.0  3.0  48.0  \n",
       "True             -38.0 -5.0  0.0  4.0  39.0  "
      ]
     },
     "execution_count": 23,
     "metadata": {},
     "output_type": "execute_result"
    }
   ],
   "source": [
    "nyt_comments.groupby('editorsSelection')[['afinn_adjusted','afinn_score']].describe()"
   ]
  },
  {
   "cell_type": "markdown",
   "metadata": {
    "slideshow": {
     "slide_type": "skip"
    }
   },
   "source": [
    "Since the syntax in the command line above may be difficult to decipher, some descriptions are provided below.\n",
    "\n",
    "\n",
    "- **nyt_comments**: The dataframe we want to use.\n",
    "\n",
    "\n",
    "- **.groupby('editorsSelection')**: This creates a pandas `groupby` object split by `rating` values.\n",
    "\n",
    "\n",
    "- **['afinn_adjusted','afinn_score']**: These are the specific column wes want to focus on.\n",
    "\n",
    "\n",
    "- **.describe( )**: This produces descriptive statistics for each of the groups.\n",
    "\n",
    "\n",
    "Pandas can also be used to create the absolute value of a variable using the `abs` method. This is useful for exploring to what extent, in this case, editors embrace or avoid comments that are extreme, either positive or negative."
   ]
  },
  {
   "cell_type": "code",
   "execution_count": 52,
   "metadata": {},
   "outputs": [],
   "source": [
    "nyt_comments['abs_afinn_adjusted'] = nyt_comments['afinn_adjusted'].abs()"
   ]
  },
  {
   "cell_type": "code",
   "execution_count": 50,
   "metadata": {},
   "outputs": [],
   "source": [
    "nyt_comments['abs_afinn_score'] = nyt_comments['afinn_score'].abs()"
   ]
  },
  {
   "cell_type": "code",
   "execution_count": 53,
   "metadata": {},
   "outputs": [
    {
     "data": {
      "text/html": [
       "<div>\n",
       "<style scoped>\n",
       "    .dataframe tbody tr th:only-of-type {\n",
       "        vertical-align: middle;\n",
       "    }\n",
       "\n",
       "    .dataframe tbody tr th {\n",
       "        vertical-align: top;\n",
       "    }\n",
       "\n",
       "    .dataframe thead tr th {\n",
       "        text-align: left;\n",
       "    }\n",
       "\n",
       "    .dataframe thead tr:last-of-type th {\n",
       "        text-align: right;\n",
       "    }\n",
       "</style>\n",
       "<table border=\"1\" class=\"dataframe\">\n",
       "  <thead>\n",
       "    <tr>\n",
       "      <th></th>\n",
       "      <th colspan=\"8\" halign=\"left\">abs_afinn_adjusted</th>\n",
       "      <th colspan=\"8\" halign=\"left\">abs_afinn_score</th>\n",
       "    </tr>\n",
       "    <tr>\n",
       "      <th></th>\n",
       "      <th>count</th>\n",
       "      <th>mean</th>\n",
       "      <th>std</th>\n",
       "      <th>min</th>\n",
       "      <th>25%</th>\n",
       "      <th>50%</th>\n",
       "      <th>75%</th>\n",
       "      <th>max</th>\n",
       "      <th>count</th>\n",
       "      <th>mean</th>\n",
       "      <th>std</th>\n",
       "      <th>min</th>\n",
       "      <th>25%</th>\n",
       "      <th>50%</th>\n",
       "      <th>75%</th>\n",
       "      <th>max</th>\n",
       "    </tr>\n",
       "    <tr>\n",
       "      <th>editorsSelection</th>\n",
       "      <th></th>\n",
       "      <th></th>\n",
       "      <th></th>\n",
       "      <th></th>\n",
       "      <th></th>\n",
       "      <th></th>\n",
       "      <th></th>\n",
       "      <th></th>\n",
       "      <th></th>\n",
       "      <th></th>\n",
       "      <th></th>\n",
       "      <th></th>\n",
       "      <th></th>\n",
       "      <th></th>\n",
       "      <th></th>\n",
       "      <th></th>\n",
       "    </tr>\n",
       "  </thead>\n",
       "  <tbody>\n",
       "    <tr>\n",
       "      <th>False</th>\n",
       "      <td>47874.0</td>\n",
       "      <td>9.570725</td>\n",
       "      <td>14.729923</td>\n",
       "      <td>0.0</td>\n",
       "      <td>2.173913</td>\n",
       "      <td>5.952381</td>\n",
       "      <td>12.0</td>\n",
       "      <td>500.000000</td>\n",
       "      <td>47874.0</td>\n",
       "      <td>4.572586</td>\n",
       "      <td>5.165666</td>\n",
       "      <td>0.0</td>\n",
       "      <td>1.0</td>\n",
       "      <td>3.0</td>\n",
       "      <td>6.0</td>\n",
       "      <td>67.0</td>\n",
       "    </tr>\n",
       "    <tr>\n",
       "      <th>True</th>\n",
       "      <td>1126.0</td>\n",
       "      <td>7.326648</td>\n",
       "      <td>8.242502</td>\n",
       "      <td>0.0</td>\n",
       "      <td>2.325581</td>\n",
       "      <td>5.405405</td>\n",
       "      <td>10.0</td>\n",
       "      <td>133.333333</td>\n",
       "      <td>1126.0</td>\n",
       "      <td>6.664298</td>\n",
       "      <td>6.348760</td>\n",
       "      <td>0.0</td>\n",
       "      <td>2.0</td>\n",
       "      <td>5.0</td>\n",
       "      <td>9.0</td>\n",
       "      <td>39.0</td>\n",
       "    </tr>\n",
       "  </tbody>\n",
       "</table>\n",
       "</div>"
      ],
      "text/plain": [
       "                 abs_afinn_adjusted                                      \\\n",
       "                              count      mean        std  min       25%   \n",
       "editorsSelection                                                          \n",
       "False                       47874.0  9.570725  14.729923  0.0  2.173913   \n",
       "True                         1126.0  7.326648   8.242502  0.0  2.325581   \n",
       "\n",
       "                                             abs_afinn_score            \\\n",
       "                       50%   75%         max           count      mean   \n",
       "editorsSelection                                                         \n",
       "False             5.952381  12.0  500.000000         47874.0  4.572586   \n",
       "True              5.405405  10.0  133.333333          1126.0  6.664298   \n",
       "\n",
       "                                                      \n",
       "                       std  min  25%  50%  75%   max  \n",
       "editorsSelection                                      \n",
       "False             5.165666  0.0  1.0  3.0  6.0  67.0  \n",
       "True              6.348760  0.0  2.0  5.0  9.0  39.0  "
      ]
     },
     "execution_count": 53,
     "metadata": {},
     "output_type": "execute_result"
    }
   ],
   "source": [
    "nyt_comments.groupby('editorsSelection')[['abs_afinn_adjusted','abs_afinn_score']].describe()"
   ]
  },
  {
   "cell_type": "markdown",
   "metadata": {
    "slideshow": {
     "slide_type": "slide"
    }
   },
   "source": [
    "### AFINN Exercise 2\n",
    "\n",
    "Make a histogram of the sentiment of UN general election speeches\n"
   ]
  },
  {
   "cell_type": "code",
   "execution_count": null,
   "metadata": {},
   "outputs": [],
   "source": [
    "# load the data\n",
    "\n",
    "# Apply afinn.score to text column\n",
    "\n",
    "# Histogram feature"
   ]
  },
  {
   "cell_type": "markdown",
   "metadata": {
    "slideshow": {
     "slide_type": "slide"
    }
   },
   "source": [
    "#### Vader\n",
    "\n",
    "A second method for sentiment analysis is [vader](https://github.com/cjhutto/vaderSentiment) (Valence Aware Dictionary and sEntiment Reasoner). According to the authors, it is, \"a lexicon and rule-based sentiment analysis tool that is specifically attuned to sentiments expressed in social media.\" \n",
    "\n",
    "As with Afinn, Vader measures both the strength and direction of sentiment. Based on the work of 10 coders, the Vader dictionary includes approximately 7,500 words, emoticons, emojis, acronyms, and commonly used slang. \n",
    "\n",
    "Unlike Afinn, Vader scores an entire text, not just words. Looking at the whole text allows for the algorithm to adjust for negations, such as \"not\", booster words, such as \"remarkably\". It also scores words written in all caps as more intense. Vader returns the proportion of a text that is negative, positive, and neutral, along with a combined score. \n",
    "\n",
    "There is a version included with nltk (`from nltk.sentiment.vader import SentimentIntensityAnalyzer`) but a more recent version can be separately installed:\n",
    "\n"
   ]
  },
  {
   "cell_type": "code",
   "execution_count": null,
   "metadata": {},
   "outputs": [],
   "source": [
    "%pip install vaderSentiment"
   ]
  },
  {
   "cell_type": "code",
   "execution_count": 24,
   "metadata": {
    "slideshow": {
     "slide_type": "slide"
    }
   },
   "outputs": [],
   "source": [
    "from vaderSentiment.vaderSentiment import SentimentIntensityAnalyzer"
   ]
  },
  {
   "cell_type": "markdown",
   "metadata": {
    "slideshow": {
     "slide_type": "skip"
    }
   },
   "source": [
    "Vader requires that you set up an analyzer."
   ]
  },
  {
   "cell_type": "code",
   "execution_count": 25,
   "metadata": {
    "slideshow": {
     "slide_type": "slide"
    }
   },
   "outputs": [],
   "source": [
    "analyzer = SentimentIntensityAnalyzer()"
   ]
  },
  {
   "cell_type": "markdown",
   "metadata": {
    "slideshow": {
     "slide_type": "slide"
    }
   },
   "source": [
    "The `polarity_scores` method returns a dictionary with four items. \n",
    "- **pos**, **neu**, and **neg**: These are the proportions of text that fall into positive, neutral, and negative categories.\n",
    "\n",
    "\n",
    "- **compound**: This is the normalized, weighted composite sentiment score for a text. "
   ]
  },
  {
   "cell_type": "code",
   "execution_count": 26,
   "metadata": {
    "slideshow": {
     "slide_type": "slide"
    }
   },
   "outputs": [
    {
     "data": {
      "text/plain": [
       "{'neg': 0.875, 'neu': 0.125, 'pos': 0.0, 'compound': -0.7906}"
      ]
     },
     "execution_count": 26,
     "metadata": {},
     "output_type": "execute_result"
    }
   ],
   "source": [
    "analyzer.polarity_scores('Horrible bad day.')"
   ]
  },
  {
   "cell_type": "markdown",
   "metadata": {
    "slideshow": {
     "slide_type": "skip"
    }
   },
   "source": [
    "One useful feature of Vader is that it is able to look at works in context and score appropriately. "
   ]
  },
  {
   "cell_type": "code",
   "execution_count": 27,
   "metadata": {
    "slideshow": {
     "slide_type": "slide"
    }
   },
   "outputs": [
    {
     "data": {
      "text/plain": [
       "{'neg': 0.0, 'neu': 0.678, 'pos': 0.322, 'compound': 0.431}"
      ]
     },
     "execution_count": 27,
     "metadata": {},
     "output_type": "execute_result"
    }
   ],
   "source": [
    "analyzer.polarity_scores(\"At least it isn't a horrible book.\")"
   ]
  },
  {
   "cell_type": "markdown",
   "metadata": {},
   "source": [
    "It also scores contemporary lingo and emojis."
   ]
  },
  {
   "cell_type": "code",
   "execution_count": 28,
   "metadata": {
    "slideshow": {
     "slide_type": "slide"
    }
   },
   "outputs": [
    {
     "data": {
      "text/plain": [
       "{'neg': 0.779, 'neu': 0.221, 'pos': 0.0, 'compound': -0.5461}"
      ]
     },
     "execution_count": 28,
     "metadata": {},
     "output_type": "execute_result"
    }
   ],
   "source": [
    "analyzer.polarity_scores('Today SUX!')"
   ]
  },
  {
   "cell_type": "code",
   "execution_count": 29,
   "metadata": {
    "slideshow": {
     "slide_type": "slide"
    }
   },
   "outputs": [
    {
     "data": {
      "text/plain": [
       "{'neg': 0.0, 'neu': 0.263, 'pos': 0.737, 'compound': 0.4215}"
      ]
     },
     "execution_count": 29,
     "metadata": {},
     "output_type": "execute_result"
    }
   ],
   "source": [
    "analyzer.polarity_scores('💋')"
   ]
  },
  {
   "cell_type": "markdown",
   "metadata": {},
   "source": [
    "### Vader Exercise 1\n",
    "\n",
    "Rerun the positive and negative sentences you created earlier. How do they score now?\n"
   ]
  },
  {
   "cell_type": "code",
   "execution_count": null,
   "metadata": {},
   "outputs": [],
   "source": []
  },
  {
   "cell_type": "markdown",
   "metadata": {},
   "source": [
    "unlike AFINN, which returns a single value, Vader returns a dictionary. This makes it is slightly more complicated to use on an entire pandas dataframe. With this in mind, we'll walk through how we can look at a pandas dataframe using Vader.\n",
    "\n",
    "First, apply the analyzer on the text column. "
   ]
  },
  {
   "cell_type": "code",
   "execution_count": 30,
   "metadata": {
    "slideshow": {
     "slide_type": "slide"
    }
   },
   "outputs": [],
   "source": [
    "sentiment = nyt_comments['commentBody'].apply(analyzer.polarity_scores)"
   ]
  },
  {
   "cell_type": "markdown",
   "metadata": {},
   "source": [
    "Our new object `sentiment` is a series, where each item is a dictionary. This series can be unpacked into a dataframe."
   ]
  },
  {
   "cell_type": "code",
   "execution_count": 31,
   "metadata": {
    "slideshow": {
     "slide_type": "slide"
    }
   },
   "outputs": [
    {
     "data": {
      "text/plain": [
       "0         {'neg': 0.137, 'neu': 0.632, 'pos': 0.231, 'compound': 0.6705}\n",
       "1           {'neg': 0.0, 'neu': 0.185, 'pos': 0.815, 'compound': 0.6588}\n",
       "2          {'neg': 0.243, 'neu': 0.757, 'pos': 0.0, 'compound': -0.5889}\n",
       "3        {'neg': 0.121, 'neu': 0.839, 'pos': 0.039, 'compound': -0.8248}\n",
       "4         {'neg': 0.039, 'neu': 0.839, 'pos': 0.122, 'compound': 0.9429}\n",
       "                                      ...                               \n",
       "48995              {'neg': 0.0, 'neu': 1.0, 'pos': 0.0, 'compound': 0.0}\n",
       "48996    {'neg': 0.202, 'neu': 0.724, 'pos': 0.074, 'compound': -0.9857}\n",
       "48997    {'neg': 0.088, 'neu': 0.829, 'pos': 0.083, 'compound': -0.3926}\n",
       "48998       {'neg': 0.0, 'neu': 0.791, 'pos': 0.209, 'compound': 0.5719}\n",
       "48999      {'neg': 0.235, 'neu': 0.765, 'pos': 0.0, 'compound': -0.9652}\n",
       "Name: commentBody, Length: 49000, dtype: object"
      ]
     },
     "execution_count": 31,
     "metadata": {},
     "output_type": "execute_result"
    }
   ],
   "source": [
    "sentiment"
   ]
  },
  {
   "cell_type": "code",
   "execution_count": 32,
   "metadata": {
    "slideshow": {
     "slide_type": "slide"
    }
   },
   "outputs": [
    {
     "data": {
      "text/html": [
       "<div>\n",
       "<style scoped>\n",
       "    .dataframe tbody tr th:only-of-type {\n",
       "        vertical-align: middle;\n",
       "    }\n",
       "\n",
       "    .dataframe tbody tr th {\n",
       "        vertical-align: top;\n",
       "    }\n",
       "\n",
       "    .dataframe thead th {\n",
       "        text-align: right;\n",
       "    }\n",
       "</style>\n",
       "<table border=\"1\" class=\"dataframe\">\n",
       "  <thead>\n",
       "    <tr style=\"text-align: right;\">\n",
       "      <th></th>\n",
       "      <th>neg</th>\n",
       "      <th>neu</th>\n",
       "      <th>pos</th>\n",
       "      <th>compound</th>\n",
       "    </tr>\n",
       "  </thead>\n",
       "  <tbody>\n",
       "    <tr>\n",
       "      <th>0</th>\n",
       "      <td>0.137</td>\n",
       "      <td>0.632</td>\n",
       "      <td>0.231</td>\n",
       "      <td>0.6705</td>\n",
       "    </tr>\n",
       "    <tr>\n",
       "      <th>1</th>\n",
       "      <td>0.000</td>\n",
       "      <td>0.185</td>\n",
       "      <td>0.815</td>\n",
       "      <td>0.6588</td>\n",
       "    </tr>\n",
       "    <tr>\n",
       "      <th>2</th>\n",
       "      <td>0.243</td>\n",
       "      <td>0.757</td>\n",
       "      <td>0.000</td>\n",
       "      <td>-0.5889</td>\n",
       "    </tr>\n",
       "    <tr>\n",
       "      <th>3</th>\n",
       "      <td>0.121</td>\n",
       "      <td>0.839</td>\n",
       "      <td>0.039</td>\n",
       "      <td>-0.8248</td>\n",
       "    </tr>\n",
       "    <tr>\n",
       "      <th>4</th>\n",
       "      <td>0.039</td>\n",
       "      <td>0.839</td>\n",
       "      <td>0.122</td>\n",
       "      <td>0.9429</td>\n",
       "    </tr>\n",
       "  </tbody>\n",
       "</table>\n",
       "</div>"
      ],
      "text/plain": [
       "     neg    neu    pos  compound\n",
       "0  0.137  0.632  0.231    0.6705\n",
       "1  0.000  0.185  0.815    0.6588\n",
       "2  0.243  0.757  0.000   -0.5889\n",
       "3  0.121  0.839  0.039   -0.8248\n",
       "4  0.039  0.839  0.122    0.9429"
      ]
     },
     "execution_count": 32,
     "metadata": {},
     "output_type": "execute_result"
    }
   ],
   "source": [
    "sentiment_df = pd.DataFrame(sentiment.tolist())\n",
    "\n",
    "sentiment_df.head()"
   ]
  },
  {
   "cell_type": "markdown",
   "metadata": {
    "slideshow": {
     "slide_type": "slide"
    }
   },
   "source": [
    "The new sentiment dataframe can be merged with the original dataframe."
   ]
  },
  {
   "cell_type": "code",
   "execution_count": 33,
   "metadata": {
    "slideshow": {
     "slide_type": "fragment"
    }
   },
   "outputs": [],
   "source": [
    "nyt_comments_sentiment = pd.concat([nyt_comments,sentiment_df], axis = 1)"
   ]
  },
  {
   "cell_type": "code",
   "execution_count": 34,
   "metadata": {
    "slideshow": {
     "slide_type": "slide"
    }
   },
   "outputs": [
    {
     "data": {
      "text/html": [
       "<div>\n",
       "<style scoped>\n",
       "    .dataframe tbody tr th:only-of-type {\n",
       "        vertical-align: middle;\n",
       "    }\n",
       "\n",
       "    .dataframe tbody tr th {\n",
       "        vertical-align: top;\n",
       "    }\n",
       "\n",
       "    .dataframe thead th {\n",
       "        text-align: right;\n",
       "    }\n",
       "</style>\n",
       "<table border=\"1\" class=\"dataframe\">\n",
       "  <thead>\n",
       "    <tr style=\"text-align: right;\">\n",
       "      <th></th>\n",
       "      <th>Unnamed: 0</th>\n",
       "      <th>commentBody</th>\n",
       "      <th>commentSequence</th>\n",
       "      <th>commentType</th>\n",
       "      <th>editorsSelection</th>\n",
       "      <th>userLocation</th>\n",
       "      <th>sectionName</th>\n",
       "      <th>newDesk</th>\n",
       "      <th>articleWordCount</th>\n",
       "      <th>printPage</th>\n",
       "      <th>typeOfMaterial</th>\n",
       "      <th>afinn_score</th>\n",
       "      <th>word_count</th>\n",
       "      <th>afinn_adjusted</th>\n",
       "      <th>neg</th>\n",
       "      <th>neu</th>\n",
       "      <th>pos</th>\n",
       "      <th>compound</th>\n",
       "    </tr>\n",
       "  </thead>\n",
       "  <tbody>\n",
       "    <tr>\n",
       "      <th>0</th>\n",
       "      <td>39843</td>\n",
       "      <td>Purple is NOT a feminine color. I've always loved a deep blue purple. I now wear it in honor of ...</td>\n",
       "      <td>22204231</td>\n",
       "      <td>userReply</td>\n",
       "      <td>False</td>\n",
       "      <td>MA. RESISTANCE IS NOT FUTILE</td>\n",
       "      <td>Unknown</td>\n",
       "      <td>OpEd</td>\n",
       "      <td>819.0</td>\n",
       "      <td>25</td>\n",
       "      <td>Op-Ed</td>\n",
       "      <td>4.0</td>\n",
       "      <td>43</td>\n",
       "      <td>9.302326</td>\n",
       "      <td>0.137</td>\n",
       "      <td>0.632</td>\n",
       "      <td>0.231</td>\n",
       "      <td>0.6705</td>\n",
       "    </tr>\n",
       "    <tr>\n",
       "      <th>1</th>\n",
       "      <td>42222</td>\n",
       "      <td>Great comment!</td>\n",
       "      <td>22156682</td>\n",
       "      <td>userReply</td>\n",
       "      <td>False</td>\n",
       "      <td>Tucson</td>\n",
       "      <td>Unknown</td>\n",
       "      <td>National</td>\n",
       "      <td>1433.0</td>\n",
       "      <td>1</td>\n",
       "      <td>News</td>\n",
       "      <td>3.0</td>\n",
       "      <td>2</td>\n",
       "      <td>150.000000</td>\n",
       "      <td>0.000</td>\n",
       "      <td>0.185</td>\n",
       "      <td>0.815</td>\n",
       "      <td>0.6588</td>\n",
       "    </tr>\n",
       "    <tr>\n",
       "      <th>2</th>\n",
       "      <td>119624</td>\n",
       "      <td>Then how come the 50,000 illegal Irish aren't picking vegetables (number found elsewhere here), ...</td>\n",
       "      <td>22104623</td>\n",
       "      <td>userReply</td>\n",
       "      <td>False</td>\n",
       "      <td>MA. RESISTANCE IS NOT FUTILE</td>\n",
       "      <td>Unknown</td>\n",
       "      <td>National</td>\n",
       "      <td>1249.0</td>\n",
       "      <td>16</td>\n",
       "      <td>News</td>\n",
       "      <td>-3.0</td>\n",
       "      <td>17</td>\n",
       "      <td>-17.647059</td>\n",
       "      <td>0.243</td>\n",
       "      <td>0.757</td>\n",
       "      <td>0.000</td>\n",
       "      <td>-0.5889</td>\n",
       "    </tr>\n",
       "    <tr>\n",
       "      <th>3</th>\n",
       "      <td>18606</td>\n",
       "      <td>Psychiatrists are not scientists - they do not follow the scientific method, and certainly not t...</td>\n",
       "      <td>22180867</td>\n",
       "      <td>comment</td>\n",
       "      <td>False</td>\n",
       "      <td>montreal</td>\n",
       "      <td>Unknown</td>\n",
       "      <td>National</td>\n",
       "      <td>1081.0</td>\n",
       "      <td>0</td>\n",
       "      <td>News</td>\n",
       "      <td>-8.0</td>\n",
       "      <td>106</td>\n",
       "      <td>-7.547170</td>\n",
       "      <td>0.121</td>\n",
       "      <td>0.839</td>\n",
       "      <td>0.039</td>\n",
       "      <td>-0.8248</td>\n",
       "    </tr>\n",
       "    <tr>\n",
       "      <th>4</th>\n",
       "      <td>4570</td>\n",
       "      <td>We've been having this same conversation for decades.&lt;br/&gt;The Democrats are Charlie Brown and th...</td>\n",
       "      <td>22291060</td>\n",
       "      <td>comment</td>\n",
       "      <td>False</td>\n",
       "      <td>Brooklyn</td>\n",
       "      <td>Politics</td>\n",
       "      <td>National</td>\n",
       "      <td>1134.0</td>\n",
       "      <td>1</td>\n",
       "      <td>News</td>\n",
       "      <td>1.0</td>\n",
       "      <td>164</td>\n",
       "      <td>0.609756</td>\n",
       "      <td>0.039</td>\n",
       "      <td>0.839</td>\n",
       "      <td>0.122</td>\n",
       "      <td>0.9429</td>\n",
       "    </tr>\n",
       "  </tbody>\n",
       "</table>\n",
       "</div>"
      ],
      "text/plain": [
       "   Unnamed: 0  \\\n",
       "0       39843   \n",
       "1       42222   \n",
       "2      119624   \n",
       "3       18606   \n",
       "4        4570   \n",
       "\n",
       "                                                                                           commentBody  \\\n",
       "0  Purple is NOT a feminine color. I've always loved a deep blue purple. I now wear it in honor of ...   \n",
       "1                                                                                     Great comment!     \n",
       "2  Then how come the 50,000 illegal Irish aren't picking vegetables (number found elsewhere here), ...   \n",
       "3  Psychiatrists are not scientists - they do not follow the scientific method, and certainly not t...   \n",
       "4  We've been having this same conversation for decades.<br/>The Democrats are Charlie Brown and th...   \n",
       "\n",
       "   commentSequence commentType  editorsSelection  \\\n",
       "0         22204231   userReply             False   \n",
       "1         22156682   userReply             False   \n",
       "2         22104623   userReply             False   \n",
       "3         22180867     comment             False   \n",
       "4         22291060     comment             False   \n",
       "\n",
       "                   userLocation sectionName   newDesk  articleWordCount  \\\n",
       "0  MA. RESISTANCE IS NOT FUTILE     Unknown      OpEd             819.0   \n",
       "1                        Tucson     Unknown  National            1433.0   \n",
       "2  MA. RESISTANCE IS NOT FUTILE     Unknown  National            1249.0   \n",
       "3                      montreal     Unknown  National            1081.0   \n",
       "4                      Brooklyn    Politics  National            1134.0   \n",
       "\n",
       "   printPage typeOfMaterial  afinn_score  word_count  afinn_adjusted    neg  \\\n",
       "0         25          Op-Ed          4.0          43        9.302326  0.137   \n",
       "1          1           News          3.0           2      150.000000  0.000   \n",
       "2         16           News         -3.0          17      -17.647059  0.243   \n",
       "3          0           News         -8.0         106       -7.547170  0.121   \n",
       "4          1           News          1.0         164        0.609756  0.039   \n",
       "\n",
       "     neu    pos  compound  \n",
       "0  0.632  0.231    0.6705  \n",
       "1  0.185  0.815    0.6588  \n",
       "2  0.757  0.000   -0.5889  \n",
       "3  0.839  0.039   -0.8248  \n",
       "4  0.839  0.122    0.9429  "
      ]
     },
     "execution_count": 34,
     "metadata": {},
     "output_type": "execute_result"
    }
   ],
   "source": [
    "nyt_comments_sentiment.head()"
   ]
  },
  {
   "cell_type": "markdown",
   "metadata": {},
   "source": [
    "If you intend to do this more than once, it can be useful to *wrap* the entire process into a single function that 1) takes a dataframe, and 2) returns the datframe with the polarity columns appended. To clarify where the sentiment information comes from, the prefix `vader_` is added to each of the polarity scores."
   ]
  },
  {
   "cell_type": "code",
   "execution_count": 54,
   "metadata": {
    "slideshow": {
     "slide_type": "slide"
    }
   },
   "outputs": [],
   "source": [
    "def vaderize(df, textfield):\n",
    "    '''Compute the Vader polarity scores for a textfield. \n",
    "    Returns scores and original dataframe.'''\n",
    "\n",
    "    analyzer = SentimentIntensityAnalyzer()\n",
    "\n",
    "    print('Estimating polarity scores for %d cases.' % len(df))\n",
    "    sentiment = df[textfield].apply(analyzer.polarity_scores)\n",
    "\n",
    "    # convert to dataframe\n",
    "    sdf = pd.DataFrame(sentiment.tolist()).add_prefix('vader_')\n",
    "\n",
    "    # merge dataframes\n",
    "    df_combined = pd.concat([df, sdf], axis=1)\n",
    "    return df_combined"
   ]
  },
  {
   "cell_type": "code",
   "execution_count": 55,
   "metadata": {},
   "outputs": [
    {
     "name": "stdout",
     "output_type": "stream",
     "text": [
      "Estimating polarity scores for 49000 cases.\n"
     ]
    }
   ],
   "source": [
    "df_vaderized = vaderize(nyt_comments, 'commentBody')"
   ]
  },
  {
   "cell_type": "code",
   "execution_count": 56,
   "metadata": {},
   "outputs": [
    {
     "data": {
      "text/html": [
       "<div>\n",
       "<style scoped>\n",
       "    .dataframe tbody tr th:only-of-type {\n",
       "        vertical-align: middle;\n",
       "    }\n",
       "\n",
       "    .dataframe tbody tr th {\n",
       "        vertical-align: top;\n",
       "    }\n",
       "\n",
       "    .dataframe thead th {\n",
       "        text-align: right;\n",
       "    }\n",
       "</style>\n",
       "<table border=\"1\" class=\"dataframe\">\n",
       "  <thead>\n",
       "    <tr style=\"text-align: right;\">\n",
       "      <th></th>\n",
       "      <th>Unnamed: 0</th>\n",
       "      <th>commentBody</th>\n",
       "      <th>commentSequence</th>\n",
       "      <th>commentType</th>\n",
       "      <th>editorsSelection</th>\n",
       "      <th>userLocation</th>\n",
       "      <th>sectionName</th>\n",
       "      <th>newDesk</th>\n",
       "      <th>articleWordCount</th>\n",
       "      <th>printPage</th>\n",
       "      <th>typeOfMaterial</th>\n",
       "      <th>afinn_score</th>\n",
       "      <th>word_count</th>\n",
       "      <th>afinn_adjusted</th>\n",
       "      <th>abs_afinn_score</th>\n",
       "      <th>abs_afinn_adjusted</th>\n",
       "      <th>vader_neg</th>\n",
       "      <th>vader_neu</th>\n",
       "      <th>vader_pos</th>\n",
       "      <th>vader_compound</th>\n",
       "    </tr>\n",
       "  </thead>\n",
       "  <tbody>\n",
       "    <tr>\n",
       "      <th>0</th>\n",
       "      <td>39843</td>\n",
       "      <td>Purple is NOT a feminine color. I've always loved a deep blue purple. I now wear it in honor of ...</td>\n",
       "      <td>22204231</td>\n",
       "      <td>userReply</td>\n",
       "      <td>False</td>\n",
       "      <td>MA. RESISTANCE IS NOT FUTILE</td>\n",
       "      <td>Unknown</td>\n",
       "      <td>OpEd</td>\n",
       "      <td>819.0</td>\n",
       "      <td>25</td>\n",
       "      <td>Op-Ed</td>\n",
       "      <td>4.0</td>\n",
       "      <td>43</td>\n",
       "      <td>9.302326</td>\n",
       "      <td>4.0</td>\n",
       "      <td>9.302326</td>\n",
       "      <td>0.137</td>\n",
       "      <td>0.632</td>\n",
       "      <td>0.231</td>\n",
       "      <td>0.6705</td>\n",
       "    </tr>\n",
       "    <tr>\n",
       "      <th>1</th>\n",
       "      <td>42222</td>\n",
       "      <td>Great comment!</td>\n",
       "      <td>22156682</td>\n",
       "      <td>userReply</td>\n",
       "      <td>False</td>\n",
       "      <td>Tucson</td>\n",
       "      <td>Unknown</td>\n",
       "      <td>National</td>\n",
       "      <td>1433.0</td>\n",
       "      <td>1</td>\n",
       "      <td>News</td>\n",
       "      <td>3.0</td>\n",
       "      <td>2</td>\n",
       "      <td>150.000000</td>\n",
       "      <td>3.0</td>\n",
       "      <td>150.000000</td>\n",
       "      <td>0.000</td>\n",
       "      <td>0.185</td>\n",
       "      <td>0.815</td>\n",
       "      <td>0.6588</td>\n",
       "    </tr>\n",
       "    <tr>\n",
       "      <th>2</th>\n",
       "      <td>119624</td>\n",
       "      <td>Then how come the 50,000 illegal Irish aren't picking vegetables (number found elsewhere here), ...</td>\n",
       "      <td>22104623</td>\n",
       "      <td>userReply</td>\n",
       "      <td>False</td>\n",
       "      <td>MA. RESISTANCE IS NOT FUTILE</td>\n",
       "      <td>Unknown</td>\n",
       "      <td>National</td>\n",
       "      <td>1249.0</td>\n",
       "      <td>16</td>\n",
       "      <td>News</td>\n",
       "      <td>-3.0</td>\n",
       "      <td>17</td>\n",
       "      <td>-17.647059</td>\n",
       "      <td>3.0</td>\n",
       "      <td>17.647059</td>\n",
       "      <td>0.243</td>\n",
       "      <td>0.757</td>\n",
       "      <td>0.000</td>\n",
       "      <td>-0.5889</td>\n",
       "    </tr>\n",
       "    <tr>\n",
       "      <th>3</th>\n",
       "      <td>18606</td>\n",
       "      <td>Psychiatrists are not scientists - they do not follow the scientific method, and certainly not t...</td>\n",
       "      <td>22180867</td>\n",
       "      <td>comment</td>\n",
       "      <td>False</td>\n",
       "      <td>montreal</td>\n",
       "      <td>Unknown</td>\n",
       "      <td>National</td>\n",
       "      <td>1081.0</td>\n",
       "      <td>0</td>\n",
       "      <td>News</td>\n",
       "      <td>-8.0</td>\n",
       "      <td>106</td>\n",
       "      <td>-7.547170</td>\n",
       "      <td>8.0</td>\n",
       "      <td>7.547170</td>\n",
       "      <td>0.121</td>\n",
       "      <td>0.839</td>\n",
       "      <td>0.039</td>\n",
       "      <td>-0.8248</td>\n",
       "    </tr>\n",
       "    <tr>\n",
       "      <th>4</th>\n",
       "      <td>4570</td>\n",
       "      <td>We've been having this same conversation for decades.&lt;br/&gt;The Democrats are Charlie Brown and th...</td>\n",
       "      <td>22291060</td>\n",
       "      <td>comment</td>\n",
       "      <td>False</td>\n",
       "      <td>Brooklyn</td>\n",
       "      <td>Politics</td>\n",
       "      <td>National</td>\n",
       "      <td>1134.0</td>\n",
       "      <td>1</td>\n",
       "      <td>News</td>\n",
       "      <td>1.0</td>\n",
       "      <td>164</td>\n",
       "      <td>0.609756</td>\n",
       "      <td>1.0</td>\n",
       "      <td>0.609756</td>\n",
       "      <td>0.039</td>\n",
       "      <td>0.839</td>\n",
       "      <td>0.122</td>\n",
       "      <td>0.9429</td>\n",
       "    </tr>\n",
       "  </tbody>\n",
       "</table>\n",
       "</div>"
      ],
      "text/plain": [
       "   Unnamed: 0  \\\n",
       "0       39843   \n",
       "1       42222   \n",
       "2      119624   \n",
       "3       18606   \n",
       "4        4570   \n",
       "\n",
       "                                                                                           commentBody  \\\n",
       "0  Purple is NOT a feminine color. I've always loved a deep blue purple. I now wear it in honor of ...   \n",
       "1                                                                                     Great comment!     \n",
       "2  Then how come the 50,000 illegal Irish aren't picking vegetables (number found elsewhere here), ...   \n",
       "3  Psychiatrists are not scientists - they do not follow the scientific method, and certainly not t...   \n",
       "4  We've been having this same conversation for decades.<br/>The Democrats are Charlie Brown and th...   \n",
       "\n",
       "   commentSequence commentType  editorsSelection  \\\n",
       "0         22204231   userReply             False   \n",
       "1         22156682   userReply             False   \n",
       "2         22104623   userReply             False   \n",
       "3         22180867     comment             False   \n",
       "4         22291060     comment             False   \n",
       "\n",
       "                   userLocation sectionName   newDesk  articleWordCount  \\\n",
       "0  MA. RESISTANCE IS NOT FUTILE     Unknown      OpEd             819.0   \n",
       "1                        Tucson     Unknown  National            1433.0   \n",
       "2  MA. RESISTANCE IS NOT FUTILE     Unknown  National            1249.0   \n",
       "3                      montreal     Unknown  National            1081.0   \n",
       "4                      Brooklyn    Politics  National            1134.0   \n",
       "\n",
       "   printPage typeOfMaterial  afinn_score  word_count  afinn_adjusted  \\\n",
       "0         25          Op-Ed          4.0          43        9.302326   \n",
       "1          1           News          3.0           2      150.000000   \n",
       "2         16           News         -3.0          17      -17.647059   \n",
       "3          0           News         -8.0         106       -7.547170   \n",
       "4          1           News          1.0         164        0.609756   \n",
       "\n",
       "   abs_afinn_score  abs_afinn_adjusted  vader_neg  vader_neu  vader_pos  \\\n",
       "0              4.0            9.302326      0.137      0.632      0.231   \n",
       "1              3.0          150.000000      0.000      0.185      0.815   \n",
       "2              3.0           17.647059      0.243      0.757      0.000   \n",
       "3              8.0            7.547170      0.121      0.839      0.039   \n",
       "4              1.0            0.609756      0.039      0.839      0.122   \n",
       "\n",
       "   vader_compound  \n",
       "0          0.6705  \n",
       "1          0.6588  \n",
       "2         -0.5889  \n",
       "3         -0.8248  \n",
       "4          0.9429  "
      ]
     },
     "execution_count": 56,
     "metadata": {},
     "output_type": "execute_result"
    }
   ],
   "source": [
    "df_vaderized.head()"
   ]
  },
  {
   "cell_type": "code",
   "execution_count": 57,
   "metadata": {
    "slideshow": {
     "slide_type": "slide"
    }
   },
   "outputs": [
    {
     "data": {
      "text/plain": [
       "<matplotlib.axes._subplots.AxesSubplot at 0x11f75a520>"
      ]
     },
     "execution_count": 57,
     "metadata": {},
     "output_type": "execute_result"
    },
    {
     "data": {
      "image/png": "[encoded data removed]",
      "text/plain": [
       "<Figure size 432x288 with 1 Axes>"
      ]
     },
     "metadata": {
      "needs_background": "light"
     },
     "output_type": "display_data"
    }
   ],
   "source": [
    "df_vaderized['vader_compound'].plot(kind='hist')"
   ]
  },
  {
   "cell_type": "code",
   "execution_count": 58,
   "metadata": {
    "slideshow": {
     "slide_type": "slide"
    }
   },
   "outputs": [
    {
     "data": {
      "text/html": [
       "<div>\n",
       "<style scoped>\n",
       "    .dataframe tbody tr th:only-of-type {\n",
       "        vertical-align: middle;\n",
       "    }\n",
       "\n",
       "    .dataframe tbody tr th {\n",
       "        vertical-align: top;\n",
       "    }\n",
       "\n",
       "    .dataframe thead th {\n",
       "        text-align: right;\n",
       "    }\n",
       "</style>\n",
       "<table border=\"1\" class=\"dataframe\">\n",
       "  <thead>\n",
       "    <tr style=\"text-align: right;\">\n",
       "      <th></th>\n",
       "      <th>afinn_adjusted</th>\n",
       "      <th>vader_neg</th>\n",
       "      <th>vader_neu</th>\n",
       "      <th>vader_pos</th>\n",
       "    </tr>\n",
       "    <tr>\n",
       "      <th>editorsSelection</th>\n",
       "      <th></th>\n",
       "      <th></th>\n",
       "      <th></th>\n",
       "      <th></th>\n",
       "    </tr>\n",
       "  </thead>\n",
       "  <tbody>\n",
       "    <tr>\n",
       "      <th>False</th>\n",
       "      <td>0.458633</td>\n",
       "      <td>0.094343</td>\n",
       "      <td>0.79529</td>\n",
       "      <td>0.110364</td>\n",
       "    </tr>\n",
       "    <tr>\n",
       "      <th>True</th>\n",
       "      <td>-0.386079</td>\n",
       "      <td>0.099682</td>\n",
       "      <td>0.79524</td>\n",
       "      <td>0.105070</td>\n",
       "    </tr>\n",
       "  </tbody>\n",
       "</table>\n",
       "</div>"
      ],
      "text/plain": [
       "                  afinn_adjusted  vader_neg  vader_neu  vader_pos\n",
       "editorsSelection                                                 \n",
       "False                   0.458633   0.094343    0.79529   0.110364\n",
       "True                   -0.386079   0.099682    0.79524   0.105070"
      ]
     },
     "execution_count": 58,
     "metadata": {},
     "output_type": "execute_result"
    }
   ],
   "source": [
    "sentiment_variables = ['afinn_adjusted', 'vader_neg', 'vader_neu', 'vader_pos']\n",
    "\n",
    "df_vaderized.groupby('editorsSelection')[sentiment_variables].mean()"
   ]
  },
  {
   "cell_type": "markdown",
   "metadata": {
    "slideshow": {
     "slide_type": "slide"
    }
   },
   "source": [
    "#### Word List\n",
    "\n",
    "Occasionally, you'll want to use a sentiment list from a different source. More generally, you'll have a word list about any subject, not just attitudes, and you'll want to count the frequency with which those words occur in a collection of texts. Examples of other subjects you might want to look at include words associated with politics or hypothesis testing. \n",
    "\n",
    "The final section of this chapter goes through the steps necessary to build a function analyzing texts for the presence of words on *any* given list. In this case, the sample list will be words associated with men that were assembled by [Danielle Sucher](https://github.com/DanielleSucher/Jailbreak-the-Patriarchy). "
   ]
  },
  {
   "cell_type": "markdown",
   "metadata": {},
   "source": [
    "The list is stored as a csv file. Pandas can be used to read the word list and turn it into a Python list."
   ]
  },
  {
   "cell_type": "code",
   "execution_count": 40,
   "metadata": {
    "slideshow": {
     "slide_type": "slide"
    }
   },
   "outputs": [
    {
     "data": {
      "text/html": [
       "<div>\n",
       "<style scoped>\n",
       "    .dataframe tbody tr th:only-of-type {\n",
       "        vertical-align: middle;\n",
       "    }\n",
       "\n",
       "    .dataframe tbody tr th {\n",
       "        vertical-align: top;\n",
       "    }\n",
       "\n",
       "    .dataframe thead th {\n",
       "        text-align: right;\n",
       "    }\n",
       "</style>\n",
       "<table border=\"1\" class=\"dataframe\">\n",
       "  <thead>\n",
       "    <tr style=\"text-align: right;\">\n",
       "      <th></th>\n",
       "      <th>term</th>\n",
       "    </tr>\n",
       "  </thead>\n",
       "  <tbody>\n",
       "    <tr>\n",
       "      <th>28</th>\n",
       "      <td>fathers</td>\n",
       "    </tr>\n",
       "    <tr>\n",
       "      <th>25</th>\n",
       "      <td>dads</td>\n",
       "    </tr>\n",
       "    <tr>\n",
       "      <th>9</th>\n",
       "      <td>waiter</td>\n",
       "    </tr>\n",
       "    <tr>\n",
       "      <th>42</th>\n",
       "      <td>mr</td>\n",
       "    </tr>\n",
       "    <tr>\n",
       "      <th>13</th>\n",
       "      <td>himself</td>\n",
       "    </tr>\n",
       "    <tr>\n",
       "      <th>43</th>\n",
       "      <td>father</td>\n",
       "    </tr>\n",
       "    <tr>\n",
       "      <th>22</th>\n",
       "      <td>boyfriend</td>\n",
       "    </tr>\n",
       "    <tr>\n",
       "      <th>3</th>\n",
       "      <td>gentlemen</td>\n",
       "    </tr>\n",
       "    <tr>\n",
       "      <th>33</th>\n",
       "      <td>dude</td>\n",
       "    </tr>\n",
       "    <tr>\n",
       "      <th>6</th>\n",
       "      <td>groom</td>\n",
       "    </tr>\n",
       "  </tbody>\n",
       "</table>\n",
       "</div>"
      ],
      "text/plain": [
       "         term\n",
       "28    fathers\n",
       "25       dads\n",
       "9      waiter\n",
       "42         mr\n",
       "13    himself\n",
       "43     father\n",
       "22  boyfriend\n",
       "3   gentlemen\n",
       "33       dude\n",
       "6       groom"
      ]
     },
     "execution_count": 40,
     "metadata": {},
     "output_type": "execute_result"
    }
   ],
   "source": [
    "\n",
    "male_csv_location = 'https://raw.githubusercontent.com/nealcaren/KULeuvenBigData/master/notebooks/data/male_words.csv'\n",
    "\n",
    "\n",
    "male_words_df = pd.read_csv(male_csv_location)\n",
    "\n",
    "male_words_df.sample(10)"
   ]
  },
  {
   "cell_type": "code",
   "execution_count": 41,
   "metadata": {
    "slideshow": {
     "slide_type": "slide"
    }
   },
   "outputs": [],
   "source": [
    "male_words_list = male_words_df['term'].values"
   ]
  },
  {
   "cell_type": "markdown",
   "metadata": {
    "slideshow": {
     "slide_type": "slide"
    }
   },
   "source": [
    "The function that looks for cooccurences has two parts. A preliminary helper function transforms the original text string into a list of lower case words stripping out any punctuation. "
   ]
  },
  {
   "cell_type": "code",
   "execution_count": 42,
   "metadata": {
    "slideshow": {
     "slide_type": "slide"
    }
   },
   "outputs": [],
   "source": [
    "def text_to_words(text):\n",
    "    '''Transform a string to a list of words,\n",
    "    removing all punctuation.'''\n",
    "    text = text.lower()\n",
    "\n",
    "    p = '!\"#$%&\\'()*+,-./:;<=>?@[\\\\]^_`{|}~'\n",
    "    text = ''.join([ch for ch in text if ch not in p])\n",
    "\n",
    "    return text.split()"
   ]
  },
  {
   "cell_type": "code",
   "execution_count": 43,
   "metadata": {
    "slideshow": {
     "slide_type": "slide"
    }
   },
   "outputs": [
    {
     "data": {
      "text/plain": [
       "['make', 'this', 'lower', 'case', 'and', 'remove', 'all', 'punctuation']"
      ]
     },
     "execution_count": 43,
     "metadata": {},
     "output_type": "execute_result"
    }
   ],
   "source": [
    "text_to_words('Make this lower case and remove! All? Punctuation.')"
   ]
  },
  {
   "cell_type": "markdown",
   "metadata": {
    "slideshow": {
     "slide_type": "slide"
    }
   },
   "source": [
    "The main function takes two arguments, the text and the word list. First, the text string is transformed to a list using `text_to_words`. Second, a new list `intersection` is created which contains only those elements from the text list that are in the word list. Finally, the function returns the length of the intersection. "
   ]
  },
  {
   "cell_type": "code",
   "execution_count": 44,
   "metadata": {
    "slideshow": {
     "slide_type": "slide"
    }
   },
   "outputs": [],
   "source": [
    "def count_occurences(text, word_list):\n",
    "    '''Count occurences of words from a list in a text string.'''\n",
    "    text_list = text_to_words(text)\n",
    "\n",
    "    intersection = [w for w in text_list if w in word_list]\n",
    "\n",
    "    return len(intersection)"
   ]
  },
  {
   "cell_type": "code",
   "execution_count": 45,
   "metadata": {
    "slideshow": {
     "slide_type": "slide"
    }
   },
   "outputs": [
    {
     "data": {
      "text/plain": [
       "1"
      ]
     },
     "execution_count": 45,
     "metadata": {},
     "output_type": "execute_result"
    }
   ],
   "source": [
    "count_occurences('He went to the store.', male_words_list)"
   ]
  },
  {
   "cell_type": "markdown",
   "metadata": {
    "slideshow": {
     "slide_type": "slide"
    }
   },
   "source": [
    "The function can now be applied on the Times dataframe to count ocurrences of male words in the comments. Since the function takes a second arguement, the word list, this is passed to the `apply` method as a tuple."
   ]
  },
  {
   "cell_type": "code",
   "execution_count": null,
   "metadata": {
    "slideshow": {
     "slide_type": "slide"
    }
   },
   "outputs": [],
   "source": [
    "un_df['male_words'] = un_df['text'].apply(count_occurences, \n",
    "                                                   args=(male_words_list, ))"
   ]
  },
  {
   "cell_type": "code",
   "execution_count": null,
   "metadata": {},
   "outputs": [],
   "source": []
  }
 ],
 "metadata": {
  "kernelspec": {
   "display_name": "Python 3",
   "language": "python",
   "name": "python3"
  },
  "language_info": {
   "codemirror_mode": {
    "name": "ipython",
    "version": 3
   },
   "file_extension": ".py",
   "mimetype": "text/x-python",
   "name": "python",
   "nbconvert_exporter": "python",
   "pygments_lexer": "ipython3",
   "version": "3.8.3"
  },
  "toc": {
   "base_numbering": 1,
   "nav_menu": {},
   "number_sections": true,
   "sideBar": true,
   "skip_h1_title": false,
   "title_cell": "Table of Contents",
   "title_sidebar": "Contents",
   "toc_cell": true,
   "toc_position": {},
   "toc_section_display": true,
   "toc_window_display": false
  }
 },
 "nbformat": 4,
 "nbformat_minor": 2
}
