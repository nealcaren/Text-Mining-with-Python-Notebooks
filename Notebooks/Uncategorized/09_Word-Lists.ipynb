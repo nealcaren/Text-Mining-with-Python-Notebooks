{
 "cells": [
  {
   "cell_type": "markdown",
   "metadata": {},
   "source": [
    "# Word Lists and Sentiment Analysis\n"
   ]
  },
  {
   "cell_type": "markdown",
   "metadata": {
    "slideshow": {
     "slide_type": "skip"
    }
   },
   "source": [
    "***Some conflicts going on with data set names and descriptions.***\n",
    "\n",
    "\n",
    "A traditional method of analyzing texts involes computing the proportion of words with positive connotations, the proportion of words with negative connotations, and the proportion of words that are neutral. This method is commonly referred to as *sentiment analysis*. The typical approach to sentiment analysis is to see how many words within a given text are also contained within a predefined list of words associated with a sentiment. So, the text \"I am having a bad day\" might score a \"1\" on a negative sentiment scale because it contains one negative word, \"bad,\" or it might score a \".17\" because one of six words in the text is negative. Some sentiment systems rank words on a scale, so that \"terrific\" might be a 5 while \"fine\" scores a 1. \n",
    "\n",
    "Some systems go beyond positive and negative. The proprietary LIWC program, for example, extends this to measure dozens of other word attributes, such as \"tone\", \"analytic thinking\", and \"clout.\" More generally, these methods can be used whenever you have a list of words, and you want to count their occurrences in a set of texts. They are commonly referred to as \"dictionary methods.\"\n",
    "\n",
    "This lesson introduces two different dictionaries that are available in Python, AFINN and Vader. It concludes by showing how to analyze a text corpus for occurrences of words contained in any arbitrary word list."
   ]
  },
  {
   "cell_type": "markdown",
   "metadata": {
    "slideshow": {
     "slide_type": "skip"
    }
   },
   "source": [
    "This lesson assumes your computer has an Anaconda Python 3.7 distribution installed."
   ]
  },
  {
   "cell_type": "markdown",
   "metadata": {
    "slideshow": {
     "slide_type": "slide"
    }
   },
   "source": [
    "# AFINN\n",
    "\n",
    "[AFINN](http://www2.imm.dtu.dk/pubdb/views/publication_details.php?id=6010) is an English word list developed by Finn Årup Nielsen. Words scores range from minus five (negative) to plus five (positive). The English language dictionary consists of 2,477 coded words.\n",
    "\n",
    "If this is your first time running this notebook, you may need to install it:\n"
   ]
  },
  {
   "cell_type": "code",
   "execution_count": 1,
   "metadata": {},
   "outputs": [
    {
     "name": "stdout",
     "output_type": "stream",
     "text": [],
   "source": [
    "%pip install afinn"
   ]
  },
  {
   "cell_type": "markdown",
   "metadata": {},
   "source": [
    "We'll also need to install `matplotlib`for the exercises in this chapter. Don't forget to import `Afinn` and `pandas` as well. Finally, setting the maximum column width in `pandas` to 100 characters will dataframes that are more user-friendly than if we left the column width maximum at 50.  "
   ]
  },
  {
   "cell_type": "code",
   "execution_count": 9,
   "metadata": {
    "slideshow": {
     "slide_type": "slide"
    }
   },
   "outputs": [],
   "source": [
    "%matplotlib inline\n",
    "\n",
    "from afinn import Afinn\n",
    "\n",
    "import pandas as pd\n",
    "pd.set_option('max_colwidth', 100)"
   ]
  },
  {
   "cell_type": "markdown",
   "metadata": {
    "slideshow": {
     "slide_type": "slide"
    }
   },
   "source": [
    "After importing `Afinn`, you need to set the language. Available languages include English (`en`), Danish (`da`), Swedish (`sv`),  Norwegian (`no`), french (`fr`), or emoticon (`emoticons`). \n",
    "\n",
    "For our purposes we'll set the language to English."
   ]
  },
  {
   "cell_type": "code",
   "execution_count": 10,
   "metadata": {
    "slideshow": {
     "slide_type": "fragment"
    }
   },
   "outputs": [],
   "source": [
    "afinn = Afinn(language='en')"
   ]
  },
  {
   "cell_type": "markdown",
   "metadata": {
    "slideshow": {
     "slide_type": "slide"
    }
   },
   "source": [
    "The `score` method returns the sum of word valence scores for a text string. We can look at the score for a number of phrases we know intuitively to carry positive or negative sentiment:"
   ]
  },
  {
   "cell_type": "code",
   "execution_count": 11,
   "metadata": {
    "slideshow": {
     "slide_type": "fragment"
    }
   },
   "outputs": [
    {
     "data": {
      "text/plain": [
       "-3.0"
      ]
     },
     "execution_count": 11,
     "metadata": {},
     "output_type": "execute_result"
    }
   ],
   "source": [
    "afinn.score('Bad day.')"
   ]
  },
  {
   "cell_type": "code",
   "execution_count": 12,
   "metadata": {
    "slideshow": {
     "slide_type": "slide"
    }
   },
   "outputs": [
    {
     "data": {
      "text/plain": [
       "3.0"
      ]
     },
     "execution_count": 12,
     "metadata": {},
     "output_type": "execute_result"
    }
   ],
   "source": [
    "afinn.score('Good day.')"
   ]
  },
  {
   "cell_type": "code",
   "execution_count": 13,
   "metadata": {
    "slideshow": {
     "slide_type": "slide"
    }
   },
   "outputs": [
    {
     "data": {
      "text/plain": [
       "-6.0"
      ]
     },
     "execution_count": 13,
     "metadata": {},
     "output_type": "execute_result"
    }
   ],
   "source": [
    "afinn.score('Horrible, bad day.')"
   ]
  },
  {
   "cell_type": "code",
   "execution_count": 14,
   "metadata": {},
   "outputs": [
    {
     "data": {
      "text/plain": [
       "6.0"
      ]
     },
     "execution_count": 14,
     "metadata": {},
     "output_type": "execute_result"
    }
   ],
   "source": [
    "afinn.score('Excellent, good day.')"
   ]
  },
  {
   "cell_type": "code",
   "execution_count": 15,
   "metadata": {},
   "outputs": [],
   "source": [
    "afinn_no = Afinn(language='no')\n"
   ]
  },
  {
   "cell_type": "code",
   "execution_count": 16,
   "metadata": {},
   "outputs": [
    {
     "data": {
      "text/plain": [
       "4.0"
      ]
     },
     "execution_count": 16,
     "metadata": {},
     "output_type": "execute_result"
    }
   ],
   "source": [
    "afinn_no.score('Google translate er min beste venn!')"
   ]
  },
  {
   "cell_type": "markdown",
   "metadata": {
    "slideshow": {
     "slide_type": "skip"
    }
   },
   "source": [
    "Conveniently, `afinn` preprocesses text strings by removing the punctuation and converting all the words to lower case before analyzing it. "
   ]
  },
  {
   "cell_type": "markdown",
   "metadata": {},
   "source": [
    "### AFINN Exercise\n",
    "Create a sentence with a score of +10 or greater and one of -10 or lower.\n"
   ]
  },
  {
   "cell_type": "code",
   "execution_count": null,
   "metadata": {},
   "outputs": [],
   "source": []
  },
  {
   "cell_type": "markdown",
   "metadata": {},
   "source": [
    "## Behind the scenes"
   ]
  },
  {
   "cell_type": "markdown",
   "metadata": {
    "slideshow": {
     "slide_type": "skip"
    }
   },
   "source": [
    " Before using a sentiment dictionary, it is useful to see whether it has any face validity.  To do that, we can look at a sample of the words from the list.\n",
    "\n",
    "Since we've imported `pandas`, the cell below will load the  word list from the tab-delimited version on Afinn's GitHub page as a pandas dataframe and display a sample of 10 words."
   ]
  },
  {
   "cell_type": "code",
   "execution_count": 18,
   "metadata": {
    "slideshow": {
     "slide_type": "skip"
    }
   },
   "outputs": [
    {
     "data": {
      "text/html": [
       "<div>\n",
       "<style scoped>\n",
       "    .dataframe tbody tr th:only-of-type {\n",
       "        vertical-align: middle;\n",
       "    }\n",
       "\n",
       "    .dataframe tbody tr th {\n",
       "        vertical-align: top;\n",
       "    }\n",
       "\n",
       "    .dataframe thead th {\n",
       "        text-align: right;\n",
       "    }\n",
       "</style>\n",
       "<table border=\"1\" class=\"dataframe\">\n",
       "  <thead>\n",
       "    <tr style=\"text-align: right;\">\n",
       "      <th></th>\n",
       "      <th>term</th>\n",
       "      <th>value</th>\n",
       "    </tr>\n",
       "  </thead>\n",
       "  <tbody>\n",
       "    <tr>\n",
       "      <th>1852</th>\n",
       "      <td>regret</td>\n",
       "      <td>-2</td>\n",
       "    </tr>\n",
       "    <tr>\n",
       "      <th>1285</th>\n",
       "      <td>indifferent</td>\n",
       "      <td>-2</td>\n",
       "    </tr>\n",
       "    <tr>\n",
       "      <th>681</th>\n",
       "      <td>disappoints</td>\n",
       "      <td>-2</td>\n",
       "    </tr>\n",
       "    <tr>\n",
       "      <th>770</th>\n",
       "      <td>doubts</td>\n",
       "      <td>-1</td>\n",
       "    </tr>\n",
       "    <tr>\n",
       "      <th>1644</th>\n",
       "      <td>outmaneuvered</td>\n",
       "      <td>-2</td>\n",
       "    </tr>\n",
       "    <tr>\n",
       "      <th>55</th>\n",
       "      <td>admit</td>\n",
       "      <td>-1</td>\n",
       "    </tr>\n",
       "    <tr>\n",
       "      <th>1133</th>\n",
       "      <td>haha</td>\n",
       "      <td>3</td>\n",
       "    </tr>\n",
       "    <tr>\n",
       "      <th>1160</th>\n",
       "      <td>haunt</td>\n",
       "      <td>-1</td>\n",
       "    </tr>\n",
       "    <tr>\n",
       "      <th>2435</th>\n",
       "      <td>wishing</td>\n",
       "      <td>1</td>\n",
       "    </tr>\n",
       "    <tr>\n",
       "      <th>21</th>\n",
       "      <td>abused</td>\n",
       "      <td>-3</td>\n",
       "    </tr>\n",
       "  </tbody>\n",
       "</table>\n",
       "</div>"
      ],
      "text/plain": [
       "               term  value\n",
       "1852         regret     -2\n",
       "1285    indifferent     -2\n",
       "681     disappoints     -2\n",
       "770          doubts     -1\n",
       "1644  outmaneuvered     -2\n",
       "55            admit     -1\n",
       "1133           haha      3\n",
       "1160          haunt     -1\n",
       "2435        wishing      1\n",
       "21           abused     -3"
      ]
     },
     "execution_count": 18,
     "metadata": {},
     "output_type": "execute_result"
    }
   ],
   "source": [
    "\n",
    "\n",
    "afinn_wl_url = ('https://raw.githubusercontent.com'\n",
    "                '/fnielsen/afinn/master/afinn/data/AFINN-111.txt')\n",
    "\n",
    "afinn_wl_df = pd.read_csv(afinn_wl_url, \n",
    "                          header=None, # no column names\n",
    "                          sep='\\t',  # tab sepeated\n",
    "                          names=['term', 'value']) #new column names\n",
    "\n",
    "seed = 808 # seed for sample so results are stable\n",
    "afinn_wl_df.sample(10, random_state = seed)"
   ]
  },
  {
   "cell_type": "markdown",
   "metadata": {
    "slideshow": {
     "slide_type": "skip"
    }
   },
   "source": [
    "We can get a sense of the distribution of word values by plotting them:"
   ]
  },
  {
   "cell_type": "code",
   "execution_count": 19,
   "metadata": {
    "slideshow": {
     "slide_type": "slide"
    }
   },
   "outputs": [
    {
     "data": {
      "text/plain": [
       "<matplotlib.axes._subplots.AxesSubplot at 0x11d18ec90>"
      ]
     },
     "execution_count": 19,
     "metadata": {},
     "output_type": "execute_result"
    },
    {
     "data": {
      "image/png": "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\n",
      "text/plain": [
       "<Figure size 432x288 with 1 Axes>"
      ]
     },
     "metadata": {
      "needs_background": "light"
     },
     "output_type": "display_data"
    }
   ],
   "source": [
    "%matplotlib inline\n",
    "\n",
    "afinn_wl_df['value'].hist(bins=20)"
   ]
  },
  {
   "cell_type": "markdown",
   "metadata": {
    "slideshow": {
     "slide_type": "skip"
    }
   },
   "source": [
    "Overall, the dictionary appears to have more negative words than positive words, but the values for both positive and negative words are rarely extreme, with both two and negative two as the most common values."
   ]
  },
  {
   "cell_type": "markdown",
   "metadata": {
    "slideshow": {
     "slide_type": "skip"
    }
   },
   "source": [
    "## Applying the dictionary\n",
    "\n",
    "We can use Afinn to analyze a more extensive text database.  Aashita Kesarwani put together a [corpus](https://www.kaggle.com/aashita/nyt-comments/home) of comments made to New York Times articles. I sampled 10,000 of these from April 2017 and stored them as a JSON file.\n"
   ]
  },
  {
   "cell_type": "code",
   "execution_count": 19,
   "metadata": {
    "slideshow": {
     "slide_type": "slide"
    }
   },
   "outputs": [],
   "source": [
    "nyt_comments = pd.read_csv('CommentsApril2017.csv', low_memory = False)"
   ]
  },
  {
   "cell_type": "code",
   "execution_count": 20,
   "metadata": {},
   "outputs": [
    {
     "data": {
      "text/plain": [
       "121916"
      ]
     },
     "execution_count": 20,
     "metadata": {},
     "output_type": "execute_result"
    }
   ],
   "source": [
    "len(nyt_comments)"
   ]
  },
  {
   "cell_type": "markdown",
   "metadata": {
    "slideshow": {
     "slide_type": "skip"
    }
   },
   "source": [
    "The `head` method provides an overview of the dataframe."
   ]
  },
  {
   "cell_type": "code",
   "execution_count": 21,
   "metadata": {
    "slideshow": {
     "slide_type": "slide"
    }
   },
   "outputs": [
    {
     "data": {
      "text/html": [
       "<div>\n",
       "<style scoped>\n",
       "    .dataframe tbody tr th:only-of-type {\n",
       "        vertical-align: middle;\n",
       "    }\n",
       "\n",
       "    .dataframe tbody tr th {\n",
       "        vertical-align: top;\n",
       "    }\n",
       "\n",
       "    .dataframe thead th {\n",
       "        text-align: right;\n",
       "    }\n",
       "</style>\n",
       "<table border=\"1\" class=\"dataframe\">\n",
       "  <thead>\n",
       "    <tr style=\"text-align: right;\">\n",
       "      <th></th>\n",
       "      <th>approveDate</th>\n",
       "      <th>commentBody</th>\n",
       "      <th>commentID</th>\n",
       "      <th>commentSequence</th>\n",
       "      <th>commentTitle</th>\n",
       "      <th>commentType</th>\n",
       "      <th>createDate</th>\n",
       "      <th>depth</th>\n",
       "      <th>editorsSelection</th>\n",
       "      <th>parentID</th>\n",
       "      <th>...</th>\n",
       "      <th>userLocation</th>\n",
       "      <th>userTitle</th>\n",
       "      <th>userURL</th>\n",
       "      <th>inReplyTo</th>\n",
       "      <th>articleID</th>\n",
       "      <th>sectionName</th>\n",
       "      <th>newDesk</th>\n",
       "      <th>articleWordCount</th>\n",
       "      <th>printPage</th>\n",
       "      <th>typeOfMaterial</th>\n",
       "    </tr>\n",
       "  </thead>\n",
       "  <tbody>\n",
       "    <tr>\n",
       "      <th>0</th>\n",
       "      <td>1492266286</td>\n",
       "      <td>As a woman, I can tell you, Scott, that \"every single thing\" is most certainly a \"woman's issue....</td>\n",
       "      <td>22162248.0</td>\n",
       "      <td>22162248</td>\n",
       "      <td>&lt;br/&gt;</td>\n",
       "      <td>userReply</td>\n",
       "      <td>1.492266e+09</td>\n",
       "      <td>2</td>\n",
       "      <td>False</td>\n",
       "      <td>22162001.0</td>\n",
       "      <td>...</td>\n",
       "      <td>Malone, NY</td>\n",
       "      <td>NaN</td>\n",
       "      <td>NaN</td>\n",
       "      <td>22162001</td>\n",
       "      <td>58f16ba67c459f24986da4db</td>\n",
       "      <td>Unknown</td>\n",
       "      <td>OpEd</td>\n",
       "      <td>830.0</td>\n",
       "      <td>19</td>\n",
       "      <td>Op-Ed</td>\n",
       "    </tr>\n",
       "    <tr>\n",
       "      <th>1</th>\n",
       "      <td>1492194976</td>\n",
       "      <td>Nope. Deplorables wanted isolationism, not internationalism. They didn't want Bush-Obama-Clinton...</td>\n",
       "      <td>22156834.0</td>\n",
       "      <td>22156834</td>\n",
       "      <td>&lt;br/&gt;</td>\n",
       "      <td>userReply</td>\n",
       "      <td>1.492194e+09</td>\n",
       "      <td>2</td>\n",
       "      <td>False</td>\n",
       "      <td>22156469.0</td>\n",
       "      <td>...</td>\n",
       "      <td>Abroad</td>\n",
       "      <td>NaN</td>\n",
       "      <td>NaN</td>\n",
       "      <td>22156469</td>\n",
       "      <td>58f0b9257c459f24986da342</td>\n",
       "      <td>Asia Pacific</td>\n",
       "      <td>Foreign</td>\n",
       "      <td>1506.0</td>\n",
       "      <td>1</td>\n",
       "      <td>News</td>\n",
       "    </tr>\n",
       "    <tr>\n",
       "      <th>2</th>\n",
       "      <td>1492256301</td>\n",
       "      <td>Let The New York Times tell us about the very rich.&lt;br/&gt;&lt;br/&gt;They are different from you and me....</td>\n",
       "      <td>22160057.0</td>\n",
       "      <td>22160057</td>\n",
       "      <td>&lt;br/&gt;</td>\n",
       "      <td>comment</td>\n",
       "      <td>1.492234e+09</td>\n",
       "      <td>1</td>\n",
       "      <td>False</td>\n",
       "      <td>0.0</td>\n",
       "      <td>...</td>\n",
       "      <td>Cascadia</td>\n",
       "      <td>NaN</td>\n",
       "      <td>NaN</td>\n",
       "      <td>0</td>\n",
       "      <td>58f08fc37c459f24986da2fa</td>\n",
       "      <td>Unknown</td>\n",
       "      <td>RealEstate</td>\n",
       "      <td>1930.0</td>\n",
       "      <td>1</td>\n",
       "      <td>News</td>\n",
       "    </tr>\n",
       "    <tr>\n",
       "      <th>3</th>\n",
       "      <td>1491397850</td>\n",
       "      <td>It's amateur hour, with a great big helping of delusion and corruption. &lt;br/&gt;&lt;br/&gt;Sigh.</td>\n",
       "      <td>22041308.0</td>\n",
       "      <td>22041308</td>\n",
       "      <td>&lt;br/&gt;</td>\n",
       "      <td>comment</td>\n",
       "      <td>1.491391e+09</td>\n",
       "      <td>1</td>\n",
       "      <td>False</td>\n",
       "      <td>0.0</td>\n",
       "      <td>...</td>\n",
       "      <td>Maine</td>\n",
       "      <td>NaN</td>\n",
       "      <td>NaN</td>\n",
       "      <td>0</td>\n",
       "      <td>58e49b077c459f24986d8719</td>\n",
       "      <td>Unknown</td>\n",
       "      <td>OpEd</td>\n",
       "      <td>793.0</td>\n",
       "      <td>23</td>\n",
       "      <td>Op-Ed</td>\n",
       "    </tr>\n",
       "    <tr>\n",
       "      <th>4</th>\n",
       "      <td>1492871514</td>\n",
       "      <td>Wow, the fault of doing things on the spur of the moment thinking.&lt;br/&gt;Just think what she could...</td>\n",
       "      <td>22236066.0</td>\n",
       "      <td>22236066</td>\n",
       "      <td>&lt;br/&gt;</td>\n",
       "      <td>comment</td>\n",
       "      <td>1.492871e+09</td>\n",
       "      <td>1</td>\n",
       "      <td>False</td>\n",
       "      <td>0.0</td>\n",
       "      <td>...</td>\n",
       "      <td>Chicago, IL</td>\n",
       "      <td>NaN</td>\n",
       "      <td>NaN</td>\n",
       "      <td>0</td>\n",
       "      <td>58fa7fd97c459f24986db77b</td>\n",
       "      <td>Unknown</td>\n",
       "      <td>Metro</td>\n",
       "      <td>1113.0</td>\n",
       "      <td>1</td>\n",
       "      <td>News</td>\n",
       "    </tr>\n",
       "  </tbody>\n",
       "</table>\n",
       "<p>5 rows × 34 columns</p>\n",
       "</div>"
      ],
      "text/plain": [
       "   approveDate  \\\n",
       "0   1492266286   \n",
       "1   1492194976   \n",
       "2   1492256301   \n",
       "3   1491397850   \n",
       "4   1492871514   \n",
       "\n",
       "                                                                                           commentBody  \\\n",
       "0  As a woman, I can tell you, Scott, that \"every single thing\" is most certainly a \"woman's issue....   \n",
       "1  Nope. Deplorables wanted isolationism, not internationalism. They didn't want Bush-Obama-Clinton...   \n",
       "2  Let The New York Times tell us about the very rich.<br/><br/>They are different from you and me....   \n",
       "3              It's amateur hour, with a great big helping of delusion and corruption. <br/><br/>Sigh.   \n",
       "4  Wow, the fault of doing things on the spur of the moment thinking.<br/>Just think what she could...   \n",
       "\n",
       "    commentID  commentSequence commentTitle commentType    createDate  depth  \\\n",
       "0  22162248.0         22162248        <br/>   userReply  1.492266e+09      2   \n",
       "1  22156834.0         22156834        <br/>   userReply  1.492194e+09      2   \n",
       "2  22160057.0         22160057        <br/>     comment  1.492234e+09      1   \n",
       "3  22041308.0         22041308        <br/>     comment  1.491391e+09      1   \n",
       "4  22236066.0         22236066        <br/>     comment  1.492871e+09      1   \n",
       "\n",
       "   editorsSelection    parentID  ... userLocation userTitle userURL  \\\n",
       "0             False  22162001.0  ...   Malone, NY       NaN     NaN   \n",
       "1             False  22156469.0  ...       Abroad       NaN     NaN   \n",
       "2             False         0.0  ...     Cascadia       NaN     NaN   \n",
       "3             False         0.0  ...        Maine       NaN     NaN   \n",
       "4             False         0.0  ...  Chicago, IL       NaN     NaN   \n",
       "\n",
       "   inReplyTo                 articleID   sectionName     newDesk  \\\n",
       "0   22162001  58f16ba67c459f24986da4db       Unknown        OpEd   \n",
       "1   22156469  58f0b9257c459f24986da342  Asia Pacific     Foreign   \n",
       "2          0  58f08fc37c459f24986da2fa       Unknown  RealEstate   \n",
       "3          0  58e49b077c459f24986d8719       Unknown        OpEd   \n",
       "4          0  58fa7fd97c459f24986db77b       Unknown       Metro   \n",
       "\n",
       "   articleWordCount printPage  typeOfMaterial  \n",
       "0             830.0        19           Op-Ed  \n",
       "1            1506.0         1            News  \n",
       "2            1930.0         1            News  \n",
       "3             793.0        23           Op-Ed  \n",
       "4            1113.0         1            News  \n",
       "\n",
       "[5 rows x 34 columns]"
      ]
     },
     "execution_count": 21,
     "metadata": {},
     "output_type": "execute_result"
    }
   ],
   "source": [
    "nyt_comments.head()"
   ]
  },
  {
   "cell_type": "markdown",
   "metadata": {
    "slideshow": {
     "slide_type": "slide"
    }
   },
   "source": [
    "The column of interest is *commentBody.* \n",
    "\n",
    "To estimate the Afinn sentiment score for all of the responses in the dataframe, we can `apply` the scorer to the commentBody column to create a new column. Applying this function takes a couple of seconds."
   ]
  },
  {
   "cell_type": "code",
   "execution_count": 22,
   "metadata": {
    "slideshow": {
     "slide_type": "fragment"
    }
   },
   "outputs": [],
   "source": [
    "nyt_comments['afinn_score'] = nyt_comments['commentBody'].apply(afinn.score)"
   ]
  },
  {
   "cell_type": "markdown",
   "metadata": {
    "slideshow": {
     "slide_type": "slide"
    }
   },
   "source": [
    "`describe` gives a sense of the distribution. "
   ]
  },
  {
   "cell_type": "code",
   "execution_count": 24,
   "metadata": {
    "slideshow": {
     "slide_type": "fragment"
    }
   },
   "outputs": [
    {
     "data": {
      "text/plain": [
       "count    121916.000000\n",
       "mean         -0.193748\n",
       "std           6.928518\n",
       "min        -112.000000\n",
       "25%          -3.000000\n",
       "50%           0.000000\n",
       "75%           3.000000\n",
       "max          63.000000\n",
       "Name: afinn_score, dtype: float64"
      ]
     },
     "execution_count": 24,
     "metadata": {},
     "output_type": "execute_result"
    }
   ],
   "source": [
    "nyt_comments['afinn_score'].describe()"
   ]
  },
  {
   "cell_type": "markdown",
   "metadata": {
    "slideshow": {
     "slide_type": "skip"
    }
   },
   "source": [
    "It is also useful to sort by `afinn_score` to get a sense of what is in the extreme scoring comments. In this case, I subset the dataframe to display just the two relevant columns. "
   ]
  },
  {
   "cell_type": "code",
   "execution_count": 25,
   "metadata": {
    "scrolled": true,
    "slideshow": {
     "slide_type": "slide"
    }
   },
   "outputs": [
    {
     "data": {
      "text/html": [
       "<div>\n",
       "<style scoped>\n",
       "    .dataframe tbody tr th:only-of-type {\n",
       "        vertical-align: middle;\n",
       "    }\n",
       "\n",
       "    .dataframe tbody tr th {\n",
       "        vertical-align: top;\n",
       "    }\n",
       "\n",
       "    .dataframe thead th {\n",
       "        text-align: right;\n",
       "    }\n",
       "</style>\n",
       "<table border=\"1\" class=\"dataframe\">\n",
       "  <thead>\n",
       "    <tr style=\"text-align: right;\">\n",
       "      <th></th>\n",
       "      <th>commentBody</th>\n",
       "      <th>afinn_score</th>\n",
       "    </tr>\n",
       "  </thead>\n",
       "  <tbody>\n",
       "    <tr>\n",
       "      <th>109485</th>\n",
       "      <td>Ms Goldberg says, correctly, that \"anti-Semitism is only part of the tapestry' of the various st...</td>\n",
       "      <td>-112.0</td>\n",
       "    </tr>\n",
       "    <tr>\n",
       "      <th>60937</th>\n",
       "      <td>In our justifiable focus on the treatment of punishment for individual prisoners we may not cons...</td>\n",
       "      <td>-83.0</td>\n",
       "    </tr>\n",
       "    <tr>\n",
       "      <th>108437</th>\n",
       "      <td>Black life.&lt;br/&gt;&lt;br/&gt;a week from hell.&lt;br/&gt;black pain, black loss&lt;br/&gt;black crime, black violenc...</td>\n",
       "      <td>-82.0</td>\n",
       "    </tr>\n",
       "    <tr>\n",
       "      <th>118553</th>\n",
       "      <td>Ross, you are cruel &amp;amp; ignorant &amp;amp; have no idea what you are talking about.&lt;br/&gt;1) You con...</td>\n",
       "      <td>-72.0</td>\n",
       "    </tr>\n",
       "    <tr>\n",
       "      <th>73303</th>\n",
       "      <td>Dozens of Police Injured in G20 Protests as Merkel Seeks Consensus&lt;br/&gt;By Reuters&lt;br/&gt;&lt;br/&gt;This ...</td>\n",
       "      <td>-67.0</td>\n",
       "    </tr>\n",
       "    <tr>\n",
       "      <th>25596</th>\n",
       "      <td>Said to be brought to tears upon learning about the daily plight and maltreatment of babies and ...</td>\n",
       "      <td>-65.0</td>\n",
       "    </tr>\n",
       "    <tr>\n",
       "      <th>22220</th>\n",
       "      <td>It might be helpful, to put the issue into some sort of perspective,&lt;br/&gt;if we look back at the ...</td>\n",
       "      <td>-65.0</td>\n",
       "    </tr>\n",
       "    <tr>\n",
       "      <th>116837</th>\n",
       "      <td>20 Minutes of Action&lt;br/&gt;&lt;br/&gt;Attacker.&lt;br/&gt;Student, Swimmer, Achievement, Intoxicated.&lt;br/&gt;Viol...</td>\n",
       "      <td>-64.0</td>\n",
       "    </tr>\n",
       "    <tr>\n",
       "      <th>85024</th>\n",
       "      <td>I am opposed to the death penalty &amp;amp; as a proud resident of the Commonwealth of Massachusetts...</td>\n",
       "      <td>-61.0</td>\n",
       "    </tr>\n",
       "    <tr>\n",
       "      <th>19092</th>\n",
       "      <td>&lt;a href=\"http://www.cbsnews.com/news/death-penalty-deters-murders-studies-say/\" title=\"http://ww...</td>\n",
       "      <td>-60.0</td>\n",
       "    </tr>\n",
       "  </tbody>\n",
       "</table>\n",
       "</div>"
      ],
      "text/plain": [
       "                                                                                                commentBody  \\\n",
       "109485  Ms Goldberg says, correctly, that \"anti-Semitism is only part of the tapestry' of the various st...   \n",
       "60937   In our justifiable focus on the treatment of punishment for individual prisoners we may not cons...   \n",
       "108437  Black life.<br/><br/>a week from hell.<br/>black pain, black loss<br/>black crime, black violenc...   \n",
       "118553  Ross, you are cruel &amp; ignorant &amp; have no idea what you are talking about.<br/>1) You con...   \n",
       "73303   Dozens of Police Injured in G20 Protests as Merkel Seeks Consensus<br/>By Reuters<br/><br/>This ...   \n",
       "25596   Said to be brought to tears upon learning about the daily plight and maltreatment of babies and ...   \n",
       "22220   It might be helpful, to put the issue into some sort of perspective,<br/>if we look back at the ...   \n",
       "116837  20 Minutes of Action<br/><br/>Attacker.<br/>Student, Swimmer, Achievement, Intoxicated.<br/>Viol...   \n",
       "85024   I am opposed to the death penalty &amp; as a proud resident of the Commonwealth of Massachusetts...   \n",
       "19092   <a href=\"http://www.cbsnews.com/news/death-penalty-deters-murders-studies-say/\" title=\"http://ww...   \n",
       "\n",
       "        afinn_score  \n",
       "109485       -112.0  \n",
       "60937         -83.0  \n",
       "108437        -82.0  \n",
       "118553        -72.0  \n",
       "73303         -67.0  \n",
       "25596         -65.0  \n",
       "22220         -65.0  \n",
       "116837        -64.0  \n",
       "85024         -61.0  \n",
       "19092         -60.0  "
      ]
     },
     "execution_count": 25,
     "metadata": {},
     "output_type": "execute_result"
    }
   ],
   "source": [
    "columns_to_display = ['commentBody', 'afinn_score']\n",
    "\n",
    "nyt_comments.sort_values(by='afinn_score')[columns_to_display].head(10)"
   ]
  },
  {
   "cell_type": "code",
   "execution_count": 26,
   "metadata": {
    "slideshow": {
     "slide_type": "slide"
    }
   },
   "outputs": [
    {
     "name": "stdout",
     "output_type": "stream",
     "text": [
      "Ms Goldberg says, correctly, that \"anti-Semitism is only part of the tapestry' of the various strands of renascent bigotry in contemporary America; but she neglects to mention it is a very large part of religious bigotry in contemporary America. There were more victims of anti-Semitic bigotry than all others put together.<br/>According to FBI 2015 Hate Crime Statistics, of the 1,402 victims of anti-religious hate crimes:<br/>52.1 percent were victims of crimes motivated by their offenders’ anti-Jewish bias.<br/>21.9 percent were victims of anti-Islamic (Muslim) bias.<br/>4.3 percent were victims of anti-Catholic bias.<br/>4.1 percent were victims of bias against groups of individuals of varying religions (anti-multiple religions, group).<br/>3.6 percent were victims of anti-Eastern Orthodox (Russian, Greek, Other) bias.<br/>3.4 percent were victims of anti-Protestant bias.<br/>1.3 percent were victims of anti-Other Christian bias.<br/>0.6 percent were victims of anti-Mormon bias.<br/>0.4 percent were victims of anti-Hindu bias.<br/>0.4 percent were victims of anti-Sikh bias.<br/>0.1 percent were victims of anti-Jehovah’s Witness bias.<br/>0.1 percent were victims of anti-Buddhist bias.<br/>0.1 percent were victims of anti-Atheist/Agnostic bias.<br/>7.6 percent were victims of bias against other religions (anti-other religion).<br/><a href=\"https://ucr.fbi.gov/hate-crime/2015/topic-pages/victims_final\" title=\"https://ucr.fbi.gov/hate-crime/2015/topic-pages/victims_final\" target=\"_blank\">https://ucr.fbi.gov/hate-crime/2015/topic-pages/victims_final</a>\n"
     ]
    }
   ],
   "source": [
    "worst = nyt_comments.sort_values(by='afinn_score').index[0]\n",
    "\n",
    "print(nyt_comments.iloc[worst]['commentBody'])\n"
   ]
  },
  {
   "cell_type": "markdown",
   "metadata": {
    "slideshow": {
     "slide_type": "skip"
    }
   },
   "source": [
    "By default, the sort is ascending, mean the lowest scoring, or most negative comments, are displayed by `head`. The comments with the highest score are shown with `tail`. "
   ]
  },
  {
   "cell_type": "code",
   "execution_count": 27,
   "metadata": {
    "slideshow": {
     "slide_type": "slide"
    }
   },
   "outputs": [
    {
     "data": {
      "text/html": [
       "<div>\n",
       "<style scoped>\n",
       "    .dataframe tbody tr th:only-of-type {\n",
       "        vertical-align: middle;\n",
       "    }\n",
       "\n",
       "    .dataframe tbody tr th {\n",
       "        vertical-align: top;\n",
       "    }\n",
       "\n",
       "    .dataframe thead th {\n",
       "        text-align: right;\n",
       "    }\n",
       "</style>\n",
       "<table border=\"1\" class=\"dataframe\">\n",
       "  <thead>\n",
       "    <tr style=\"text-align: right;\">\n",
       "      <th></th>\n",
       "      <th>commentBody</th>\n",
       "      <th>afinn_score</th>\n",
       "    </tr>\n",
       "  </thead>\n",
       "  <tbody>\n",
       "    <tr>\n",
       "      <th>73845</th>\n",
       "      <td>What I've found helpful in the everyday is early exercise, good food, and a list of things to be...</td>\n",
       "      <td>47.0</td>\n",
       "    </tr>\n",
       "    <tr>\n",
       "      <th>81799</th>\n",
       "      <td>Family wealth is the most important determinate of all types of success. Over the last 20 years,...</td>\n",
       "      <td>48.0</td>\n",
       "    </tr>\n",
       "    <tr>\n",
       "      <th>49840</th>\n",
       "      <td>Reminds me of my daughter's answer to a question on Stanford's app and I thought back then (2015...</td>\n",
       "      <td>49.0</td>\n",
       "    </tr>\n",
       "    <tr>\n",
       "      <th>110406</th>\n",
       "      <td>ANNE KAIER Has shared a story of great courage, rare beauty and the ecstatic rejoining of her vo...</td>\n",
       "      <td>49.0</td>\n",
       "    </tr>\n",
       "    <tr>\n",
       "      <th>83446</th>\n",
       "      <td>When you leave the Shubert Theatre you will be in a state of ecstasy and exhilaration This reviv...</td>\n",
       "      <td>50.0</td>\n",
       "    </tr>\n",
       "    <tr>\n",
       "      <th>78358</th>\n",
       "      <td>A Monkey and A Pigeon&lt;br/&gt;&lt;br/&gt;Things that don’t seem to go together.&lt;br/&gt;Monkeys and Pigeons. P...</td>\n",
       "      <td>50.0</td>\n",
       "    </tr>\n",
       "    <tr>\n",
       "      <th>89755</th>\n",
       "      <td>The collective goodness and strength of a Nation and People are measured by how well it scores i...</td>\n",
       "      <td>53.0</td>\n",
       "    </tr>\n",
       "    <tr>\n",
       "      <th>99945</th>\n",
       "      <td>Nicholas--your 3rd from last question that asks President Carter whether one needs to have a per...</td>\n",
       "      <td>58.0</td>\n",
       "    </tr>\n",
       "    <tr>\n",
       "      <th>5227</th>\n",
       "      <td>“I love you” are three words I have heard millions of times. When I wake up, before I go to sch...</td>\n",
       "      <td>61.0</td>\n",
       "    </tr>\n",
       "    <tr>\n",
       "      <th>54267</th>\n",
       "      <td>In my town, we used to go looking for a field so my son and I could have a catch on a real field...</td>\n",
       "      <td>63.0</td>\n",
       "    </tr>\n",
       "  </tbody>\n",
       "</table>\n",
       "</div>"
      ],
      "text/plain": [
       "                                                                                                commentBody  \\\n",
       "73845   What I've found helpful in the everyday is early exercise, good food, and a list of things to be...   \n",
       "81799   Family wealth is the most important determinate of all types of success. Over the last 20 years,...   \n",
       "49840   Reminds me of my daughter's answer to a question on Stanford's app and I thought back then (2015...   \n",
       "110406  ANNE KAIER Has shared a story of great courage, rare beauty and the ecstatic rejoining of her vo...   \n",
       "83446   When you leave the Shubert Theatre you will be in a state of ecstasy and exhilaration This reviv...   \n",
       "78358   A Monkey and A Pigeon<br/><br/>Things that don’t seem to go together.<br/>Monkeys and Pigeons. P...   \n",
       "89755   The collective goodness and strength of a Nation and People are measured by how well it scores i...   \n",
       "99945   Nicholas--your 3rd from last question that asks President Carter whether one needs to have a per...   \n",
       "5227     “I love you” are three words I have heard millions of times. When I wake up, before I go to sch...   \n",
       "54267   In my town, we used to go looking for a field so my son and I could have a catch on a real field...   \n",
       "\n",
       "        afinn_score  \n",
       "73845          47.0  \n",
       "81799          48.0  \n",
       "49840          49.0  \n",
       "110406         49.0  \n",
       "83446          50.0  \n",
       "78358          50.0  \n",
       "89755          53.0  \n",
       "99945          58.0  \n",
       "5227           61.0  \n",
       "54267          63.0  "
      ]
     },
     "execution_count": 27,
     "metadata": {},
     "output_type": "execute_result"
    }
   ],
   "source": [
    "nyt_comments.sort_values(by='afinn_score')[columns_to_display].tail(10)"
   ]
  },
  {
   "cell_type": "code",
   "execution_count": 28,
   "metadata": {
    "slideshow": {
     "slide_type": "slide"
    }
   },
   "outputs": [
    {
     "name": "stdout",
     "output_type": "stream",
     "text": [
      "In my town, we used to go looking for a field so my son and I could have a catch on a real field.  Often we found other fathers and sons already there.   The only fun that was rare, was the pickup game (we did see that occur but not as often as the sandlots of many years ago).   But the simple pleasure of catch is alive and well.<br/><br/>But joy of catch with Dad, for a rare kid obsessed with the game, would naturally lead for a desire for more as the kid grows.  The fun just morphs from joy of fresh air and family time, to joy of accomplishment.   A few lessons to enable the next level of enjoyment is how I looked at it.    There is lots of sorrow in the game, mostly coaches who care more about winning and playing their favorites.   But the joy of catch with Dad, can for some kids become joy of team, joy of results from progress.   Happy to say that after more than a decade of baseball, my son is very happily part of a college team, a dream he has worked towards.  He enjoys the camraderie of his new college teammates,<br/>and he would not be there without the joyful work he put in before.   Not much different from school work, studying itself does not appear fun, but good grades are enjoyable, camraderie of learning with other kids is enjoyable.  So if baseball lessons are a bad thing, so is school tuition and extra help after school.\n"
     ]
    }
   ],
   "source": [
    "best = nyt_comments.sort_values(by='afinn_score', ascending=False).index[0]\n",
    "\n",
    "print(nyt_comments.iloc[best]['commentBody'])\n",
    "\n"
   ]
  },
  {
   "cell_type": "markdown",
   "metadata": {
    "slideshow": {
     "slide_type": "skip"
    }
   },
   "source": [
    "One of the drawbacks to using the raw Afinn score is the that longer texts may yield higher values simply because they contain more words. To adjust for that, we can divide the score by the number of words in the text. \n",
    "\n",
    "The most straightforward way to count words in a Python string is to use the `split` method, which splits a string based on white spaces, and then count the length of the resulting list."
   ]
  },
  {
   "cell_type": "code",
   "execution_count": 29,
   "metadata": {
    "slideshow": {
     "slide_type": "slide"
    }
   },
   "outputs": [],
   "source": [
    "from pdtext.tf import word_count"
   ]
  },
  {
   "cell_type": "code",
   "execution_count": 30,
   "metadata": {
    "slideshow": {
     "slide_type": "slide"
    }
   },
   "outputs": [
    {
     "data": {
      "text/plain": [
       "7"
      ]
     },
     "execution_count": 30,
     "metadata": {},
     "output_type": "execute_result"
    }
   ],
   "source": [
    "word_count('This sentence has seven words in it.')"
   ]
  },
  {
   "cell_type": "markdown",
   "metadata": {
    "slideshow": {
     "slide_type": "skip"
    }
   },
   "source": [
    "You can employ that function on our dataframe to create a new column, `word_count` using `appply` to the text column, `commentBody`."
   ]
  },
  {
   "cell_type": "code",
   "execution_count": 32,
   "metadata": {
    "slideshow": {
     "slide_type": "slide"
    }
   },
   "outputs": [],
   "source": [
    "nyt_comments['word_count'] = nyt_comments['commentBody'].apply(word_count)"
   ]
  },
  {
   "cell_type": "code",
   "execution_count": 34,
   "metadata": {
    "slideshow": {
     "slide_type": "slide"
    }
   },
   "outputs": [
    {
     "data": {
      "text/plain": [
       "count    121916.000000\n",
       "mean         70.703189\n",
       "std          61.691807\n",
       "min           1.000000\n",
       "25%          24.000000\n",
       "50%          51.000000\n",
       "75%          97.000000\n",
       "max         301.000000\n",
       "Name: word_count, dtype: float64"
      ]
     },
     "execution_count": 34,
     "metadata": {},
     "output_type": "execute_result"
    }
   ],
   "source": [
    "nyt_comments['word_count'].describe()"
   ]
  },
  {
   "cell_type": "markdown",
   "metadata": {
    "slideshow": {
     "slide_type": "skip"
    }
   },
   "source": [
    "We can divide the original score by the word count to produce `afinn_adjusted`. This isn't exactly a percentage variable, since word scores in Afinn can range from -5 to 5, but it is a useful adjustment to control for variable comment length. To make it clearer that this isn't a percent score, and to make the results more readable, the adjustment is multiplied by 100."
   ]
  },
  {
   "cell_type": "code",
   "execution_count": 35,
   "metadata": {
    "slideshow": {
     "slide_type": "slide"
    }
   },
   "outputs": [],
   "source": [
    "nyt_comments['afinn_adjusted'] = nyt_comments['afinn_score'] / nyt_comments['word_count'] * 100"
   ]
  },
  {
   "cell_type": "code",
   "execution_count": 36,
   "metadata": {
    "slideshow": {
     "slide_type": "slide"
    }
   },
   "outputs": [
    {
     "data": {
      "text/plain": [
       "count    121916.000000\n",
       "mean          0.496514\n",
       "std          17.972426\n",
       "min        -600.000000\n",
       "25%          -5.882353\n",
       "50%           0.000000\n",
       "75%           5.882353\n",
       "max         500.000000\n",
       "Name: afinn_adjusted, dtype: float64"
      ]
     },
     "execution_count": 36,
     "metadata": {},
     "output_type": "execute_result"
    }
   ],
   "source": [
    "nyt_comments['afinn_adjusted'].describe()"
   ]
  },
  {
   "cell_type": "markdown",
   "metadata": {
    "slideshow": {
     "slide_type": "slide"
    }
   },
   "source": [
    "You can use `groupby` to see how the sentiment score varies by key characteristics."
   ]
  },
  {
   "cell_type": "code",
   "execution_count": 39,
   "metadata": {
    "slideshow": {
     "slide_type": "slide"
    }
   },
   "outputs": [
    {
     "data": {
      "text/html": [
       "<div>\n",
       "<style scoped>\n",
       "    .dataframe tbody tr th:only-of-type {\n",
       "        vertical-align: middle;\n",
       "    }\n",
       "\n",
       "    .dataframe tbody tr th {\n",
       "        vertical-align: top;\n",
       "    }\n",
       "\n",
       "    .dataframe thead tr th {\n",
       "        text-align: left;\n",
       "    }\n",
       "\n",
       "    .dataframe thead tr:last-of-type th {\n",
       "        text-align: right;\n",
       "    }\n",
       "</style>\n",
       "<table border=\"1\" class=\"dataframe\">\n",
       "  <thead>\n",
       "    <tr>\n",
       "      <th></th>\n",
       "      <th colspan=\"8\" halign=\"left\">afinn_adjusted</th>\n",
       "      <th colspan=\"8\" halign=\"left\">afinn_score</th>\n",
       "    </tr>\n",
       "    <tr>\n",
       "      <th></th>\n",
       "      <th>count</th>\n",
       "      <th>mean</th>\n",
       "      <th>std</th>\n",
       "      <th>min</th>\n",
       "      <th>25%</th>\n",
       "      <th>50%</th>\n",
       "      <th>75%</th>\n",
       "      <th>max</th>\n",
       "      <th>count</th>\n",
       "      <th>mean</th>\n",
       "      <th>std</th>\n",
       "      <th>min</th>\n",
       "      <th>25%</th>\n",
       "      <th>50%</th>\n",
       "      <th>75%</th>\n",
       "      <th>max</th>\n",
       "    </tr>\n",
       "    <tr>\n",
       "      <th>editorsSelection</th>\n",
       "      <th></th>\n",
       "      <th></th>\n",
       "      <th></th>\n",
       "      <th></th>\n",
       "      <th></th>\n",
       "      <th></th>\n",
       "      <th></th>\n",
       "      <th></th>\n",
       "      <th></th>\n",
       "      <th></th>\n",
       "      <th></th>\n",
       "      <th></th>\n",
       "      <th></th>\n",
       "      <th></th>\n",
       "      <th></th>\n",
       "      <th></th>\n",
       "    </tr>\n",
       "  </thead>\n",
       "  <tbody>\n",
       "    <tr>\n",
       "      <th>False</th>\n",
       "      <td>119072.0</td>\n",
       "      <td>0.518383</td>\n",
       "      <td>18.112684</td>\n",
       "      <td>-600.0</td>\n",
       "      <td>-5.917160</td>\n",
       "      <td>0.0</td>\n",
       "      <td>5.921053</td>\n",
       "      <td>500.000000</td>\n",
       "      <td>119072.0</td>\n",
       "      <td>-0.188701</td>\n",
       "      <td>6.874332</td>\n",
       "      <td>-112.0</td>\n",
       "      <td>-3.0</td>\n",
       "      <td>0.0</td>\n",
       "      <td>3.0</td>\n",
       "      <td>63.0</td>\n",
       "    </tr>\n",
       "    <tr>\n",
       "      <th>True</th>\n",
       "      <td>2844.0</td>\n",
       "      <td>-0.419093</td>\n",
       "      <td>10.501862</td>\n",
       "      <td>-150.0</td>\n",
       "      <td>-5.457029</td>\n",
       "      <td>0.0</td>\n",
       "      <td>5.000000</td>\n",
       "      <td>85.714286</td>\n",
       "      <td>2844.0</td>\n",
       "      <td>-0.405063</td>\n",
       "      <td>8.905084</td>\n",
       "      <td>-38.0</td>\n",
       "      <td>-5.0</td>\n",
       "      <td>0.0</td>\n",
       "      <td>4.0</td>\n",
       "      <td>39.0</td>\n",
       "    </tr>\n",
       "  </tbody>\n",
       "</table>\n",
       "</div>"
      ],
      "text/plain": [
       "                 afinn_adjusted                                             \\\n",
       "                          count      mean        std    min       25%  50%   \n",
       "editorsSelection                                                             \n",
       "False                  119072.0  0.518383  18.112684 -600.0 -5.917160  0.0   \n",
       "True                     2844.0 -0.419093  10.501862 -150.0 -5.457029  0.0   \n",
       "\n",
       "                                       afinn_score                             \\\n",
       "                       75%         max       count      mean       std    min   \n",
       "editorsSelection                                                                \n",
       "False             5.921053  500.000000    119072.0 -0.188701  6.874332 -112.0   \n",
       "True              5.000000   85.714286      2844.0 -0.405063  8.905084  -38.0   \n",
       "\n",
       "                                       \n",
       "                  25%  50%  75%   max  \n",
       "editorsSelection                       \n",
       "False            -3.0  0.0  3.0  63.0  \n",
       "True             -5.0  0.0  4.0  39.0  "
      ]
     },
     "execution_count": 39,
     "metadata": {},
     "output_type": "execute_result"
    }
   ],
   "source": [
    "nyt_comments.groupby('editorsSelection')[['afinn_adjusted','afinn_score']].describe()"
   ]
  },
  {
   "cell_type": "markdown",
   "metadata": {
    "slideshow": {
     "slide_type": "skip"
    }
   },
   "source": [
    "The above syntax maybe a little complex to decipher.\n",
    "* `wine_df` is the dataframe we want to use;\n",
    "* `.groupby('editorsSelection')` creates a pandas `groupby` object split by the values of `rating`;\n",
    "* `['afinn_adjusted','afinn_score']` are the specific column wes want to focus on;\n",
    "* `.describe()` produces descriptive statistics for each of the groups.\n",
    "\n",
    "Pandas can also be used to create the absolute value of a variable using the `abs` method. This is useful for exploring to what extent, in this case, editors embrace or avoid comments that are extreme, either positive or negative."
   ]
  },
  {
   "cell_type": "markdown",
   "metadata": {
    "slideshow": {
     "slide_type": "slide"
    }
   },
   "source": [
    "<div class=\"alert alert-info\">\n",
    "<h3>Your turn</h3>\n",
    "<p>Group project. Make a histogram of the sentiment of UN general election speeches.</div>\n",
    "\n"
   ]
  },
  {
   "cell_type": "code",
   "execution_count": null,
   "metadata": {},
   "outputs": [],
   "source": [
    "# load the data\n",
    "\n",
    "# Apply afinn.score to text column\n",
    "\n",
    "# Histogram feature"
   ]
  },
  {
   "cell_type": "markdown",
   "metadata": {
    "slideshow": {
     "slide_type": "slide"
    }
   },
   "source": [
    "#### Vader\n",
    "\n",
    "A second method for sentiment analysis is [vader](https://github.com/cjhutto/vaderSentiment)(Valence Aware Dictionary and sEntiment Reasoner). According to the authors, it is, \"a lexicon and rule-based sentiment analysis tool that is specifically attuned to sentiments expressed in social media.\" \n",
    "\n",
    "As with Afinn, Vader measures both the strength and direction of sentiment. Based on the work of 10 coders, the Vader dictionary includes approximately 7,500 words, emoticons, emojis, acronyms, and commonly used slang. \n",
    "\n",
    "Unlike Afinn, Vader scores an entire text, not just words. Looking at the whole text allows for the algorithm to adjust for negations, such as \"not\", booster words, such as \"remarkably\". It also scores words written in all caps as more intense. Vader returns the proportion of a text that is negative, positive, and neutral, along with a combined score. \n",
    "\n",
    "There is a version included with nltk (`from nltk.sentiment.vader import SentimentIntensityAnalyzer`) but a more recent version can be separately installed:\n",
    "\n",
    "\n",
    "```\n",
    "%pip install vaderSentiment\n",
    "```\n"
   ]
  },
  {
   "cell_type": "code",
   "execution_count": 40,
   "metadata": {
    "slideshow": {
     "slide_type": "slide"
    }
   },
   "outputs": [],
   "source": [
    "from vaderSentiment.vaderSentiment import SentimentIntensityAnalyzer"
   ]
  },
  {
   "cell_type": "markdown",
   "metadata": {
    "slideshow": {
     "slide_type": "skip"
    }
   },
   "source": [
    "Vader requires that you set up an analyzer."
   ]
  },
  {
   "cell_type": "code",
   "execution_count": 41,
   "metadata": {
    "slideshow": {
     "slide_type": "slide"
    }
   },
   "outputs": [],
   "source": [
    "analyzer = SentimentIntensityAnalyzer()"
   ]
  },
  {
   "cell_type": "markdown",
   "metadata": {
    "slideshow": {
     "slide_type": "slide"
    }
   },
   "source": [
    "The `polarity_scores` method returns a dictionary with four items. \n",
    "* `pos`, `neu`, and `neg`  are the proportions of text that fall in each category.\n",
    "* `compound` is the normalized, weighted composite score. "
   ]
  },
  {
   "cell_type": "code",
   "execution_count": 42,
   "metadata": {
    "slideshow": {
     "slide_type": "slide"
    }
   },
   "outputs": [
    {
     "data": {
      "text/plain": [
       "{'neg': 0.875, 'neu': 0.125, 'pos': 0.0, 'compound': -0.7906}"
      ]
     },
     "execution_count": 42,
     "metadata": {},
     "output_type": "execute_result"
    }
   ],
   "source": [
    "analyzer.polarity_scores('Horrible bad day.')"
   ]
  },
  {
   "cell_type": "markdown",
   "metadata": {
    "slideshow": {
     "slide_type": "skip"
    }
   },
   "source": [
    "One useful feature of Vader is that it is able to look at works in context and score appropriately. "
   ]
  },
  {
   "cell_type": "code",
   "execution_count": 43,
   "metadata": {
    "slideshow": {
     "slide_type": "slide"
    }
   },
   "outputs": [
    {
     "data": {
      "text/plain": [
       "{'neg': 0.0, 'neu': 0.678, 'pos': 0.322, 'compound': 0.431}"
      ]
     },
     "execution_count": 43,
     "metadata": {},
     "output_type": "execute_result"
    }
   ],
   "source": [
    "analyzer.polarity_scores(\"At least it isn't a horrible book.\")"
   ]
  },
  {
   "cell_type": "markdown",
   "metadata": {},
   "source": [
    "It also scores contemporary lingo and emojis."
   ]
  },
  {
   "cell_type": "code",
   "execution_count": 44,
   "metadata": {
    "slideshow": {
     "slide_type": "slide"
    }
   },
   "outputs": [
    {
     "data": {
      "text/plain": [
       "{'neg': 0.779, 'neu': 0.221, 'pos': 0.0, 'compound': -0.5461}"
      ]
     },
     "execution_count": 44,
     "metadata": {},
     "output_type": "execute_result"
    }
   ],
   "source": [
    "analyzer.polarity_scores('Today SUX!')"
   ]
  },
  {
   "cell_type": "code",
   "execution_count": 45,
   "metadata": {
    "slideshow": {
     "slide_type": "slide"
    }
   },
   "outputs": [
    {
     "data": {
      "text/plain": [
       "{'neg': 0.0, 'neu': 0.263, 'pos': 0.737, 'compound': 0.4215}"
      ]
     },
     "execution_count": 45,
     "metadata": {},
     "output_type": "execute_result"
    }
   ],
   "source": [
    "analyzer.polarity_scores('💋')"
   ]
  },
  {
   "cell_type": "markdown",
   "metadata": {},
   "source": [
    "<div class=\"alert alert-info\">\n",
    "<h3>Your turn</h3>\n",
    "<p>Rerun your positive and negative sentences from before. How do they score now?</div>\n",
    "\n",
    "\n",
    "\n"
   ]
  },
  {
   "cell_type": "code",
   "execution_count": null,
   "metadata": {},
   "outputs": [],
   "source": []
  },
  {
   "cell_type": "markdown",
   "metadata": {},
   "source": [
    "Since Vader returns a dictionary (unlike Afinn which returns a single value), it is slightly more complicated to use it on an entire pandas dataframe.\n",
    "\n",
    "First, apply the analyzer on the text column. "
   ]
  },
  {
   "cell_type": "code",
   "execution_count": 46,
   "metadata": {
    "slideshow": {
     "slide_type": "slide"
    }
   },
   "outputs": [],
   "source": [
    "sentiment = nyt_comments['commentBody'].apply(analyzer.polarity_scores)"
   ]
  },
  {
   "cell_type": "markdown",
   "metadata": {},
   "source": [
    "Our new object `sentiment` is a series, where each item is a dictionary. This series can be unpacked into a dataframe."
   ]
  },
  {
   "cell_type": "code",
   "execution_count": 47,
   "metadata": {
    "slideshow": {
     "slide_type": "slide"
    }
   },
   "outputs": [
    {
     "data": {
      "text/plain": [
       "0          {'neg': 0.044, 'neu': 0.784, 'pos': 0.172, 'compound': 0.9072}\n",
       "1          {'neg': 0.074, 'neu': 0.773, 'pos': 0.153, 'compound': 0.7637}\n",
       "2                   {'neg': 0.0, 'neu': 1.0, 'pos': 0.0, 'compound': 0.0}\n",
       "3             {'neg': 0.0, 'neu': 0.636, 'pos': 0.364, 'compound': 0.743}\n",
       "4         {'neg': 0.208, 'neu': 0.674, 'pos': 0.118, 'compound': -0.7506}\n",
       "                                       ...                               \n",
       "121911      {'neg': 0.04, 'neu': 0.772, 'pos': 0.189, 'compound': 0.9831}\n",
       "121912    {'neg': 0.114, 'neu': 0.822, 'pos': 0.064, 'compound': -0.4767}\n",
       "121913     {'neg': 0.235, 'neu': 0.643, 'pos': 0.121, 'compound': -0.658}\n",
       "121914    {'neg': 0.049, 'neu': 0.927, 'pos': 0.024, 'compound': -0.2732}\n",
       "121915      {'neg': 0.109, 'neu': 0.891, 'pos': 0.0, 'compound': -0.6124}\n",
       "Name: commentBody, Length: 121916, dtype: object"
      ]
     },
     "execution_count": 47,
     "metadata": {},
     "output_type": "execute_result"
    }
   ],
   "source": [
    "sentiment"
   ]
  },
  {
   "cell_type": "code",
   "execution_count": 48,
   "metadata": {
    "slideshow": {
     "slide_type": "slide"
    }
   },
   "outputs": [
    {
     "data": {
      "text/html": [
       "<div>\n",
       "<style scoped>\n",
       "    .dataframe tbody tr th:only-of-type {\n",
       "        vertical-align: middle;\n",
       "    }\n",
       "\n",
       "    .dataframe tbody tr th {\n",
       "        vertical-align: top;\n",
       "    }\n",
       "\n",
       "    .dataframe thead th {\n",
       "        text-align: right;\n",
       "    }\n",
       "</style>\n",
       "<table border=\"1\" class=\"dataframe\">\n",
       "  <thead>\n",
       "    <tr style=\"text-align: right;\">\n",
       "      <th></th>\n",
       "      <th>neg</th>\n",
       "      <th>neu</th>\n",
       "      <th>pos</th>\n",
       "      <th>compound</th>\n",
       "    </tr>\n",
       "  </thead>\n",
       "  <tbody>\n",
       "    <tr>\n",
       "      <th>0</th>\n",
       "      <td>0.044</td>\n",
       "      <td>0.784</td>\n",
       "      <td>0.172</td>\n",
       "      <td>0.9072</td>\n",
       "    </tr>\n",
       "    <tr>\n",
       "      <th>1</th>\n",
       "      <td>0.074</td>\n",
       "      <td>0.773</td>\n",
       "      <td>0.153</td>\n",
       "      <td>0.7637</td>\n",
       "    </tr>\n",
       "    <tr>\n",
       "      <th>2</th>\n",
       "      <td>0.000</td>\n",
       "      <td>1.000</td>\n",
       "      <td>0.000</td>\n",
       "      <td>0.0000</td>\n",
       "    </tr>\n",
       "    <tr>\n",
       "      <th>3</th>\n",
       "      <td>0.000</td>\n",
       "      <td>0.636</td>\n",
       "      <td>0.364</td>\n",
       "      <td>0.7430</td>\n",
       "    </tr>\n",
       "    <tr>\n",
       "      <th>4</th>\n",
       "      <td>0.208</td>\n",
       "      <td>0.674</td>\n",
       "      <td>0.118</td>\n",
       "      <td>-0.7506</td>\n",
       "    </tr>\n",
       "  </tbody>\n",
       "</table>\n",
       "</div>"
      ],
      "text/plain": [
       "     neg    neu    pos  compound\n",
       "0  0.044  0.784  0.172    0.9072\n",
       "1  0.074  0.773  0.153    0.7637\n",
       "2  0.000  1.000  0.000    0.0000\n",
       "3  0.000  0.636  0.364    0.7430\n",
       "4  0.208  0.674  0.118   -0.7506"
      ]
     },
     "execution_count": 48,
     "metadata": {},
     "output_type": "execute_result"
    }
   ],
   "source": [
    "sentiment_df = pd.DataFrame(sentiment.tolist())\n",
    "\n",
    "sentiment_df.head()"
   ]
  },
  {
   "cell_type": "markdown",
   "metadata": {
    "slideshow": {
     "slide_type": "slide"
    }
   },
   "source": [
    "The new sentiment dataframe can be merged with the original dataframe."
   ]
  },
  {
   "cell_type": "code",
   "execution_count": 49,
   "metadata": {
    "slideshow": {
     "slide_type": "fragment"
    }
   },
   "outputs": [],
   "source": [
    "nyt_comments_sentiment = pd.concat([nyt_comments,sentiment_df], axis = 1)"
   ]
  },
  {
   "cell_type": "code",
   "execution_count": 50,
   "metadata": {
    "slideshow": {
     "slide_type": "slide"
    }
   },
   "outputs": [
    {
     "data": {
      "text/html": [
       "<div>\n",
       "<style scoped>\n",
       "    .dataframe tbody tr th:only-of-type {\n",
       "        vertical-align: middle;\n",
       "    }\n",
       "\n",
       "    .dataframe tbody tr th {\n",
       "        vertical-align: top;\n",
       "    }\n",
       "\n",
       "    .dataframe thead th {\n",
       "        text-align: right;\n",
       "    }\n",
       "</style>\n",
       "<table border=\"1\" class=\"dataframe\">\n",
       "  <thead>\n",
       "    <tr style=\"text-align: right;\">\n",
       "      <th></th>\n",
       "      <th>approveDate</th>\n",
       "      <th>commentBody</th>\n",
       "      <th>commentID</th>\n",
       "      <th>commentSequence</th>\n",
       "      <th>commentTitle</th>\n",
       "      <th>commentType</th>\n",
       "      <th>createDate</th>\n",
       "      <th>depth</th>\n",
       "      <th>editorsSelection</th>\n",
       "      <th>parentID</th>\n",
       "      <th>...</th>\n",
       "      <th>articleWordCount</th>\n",
       "      <th>printPage</th>\n",
       "      <th>typeOfMaterial</th>\n",
       "      <th>afinn_score</th>\n",
       "      <th>word_count</th>\n",
       "      <th>afinn_adjusted</th>\n",
       "      <th>neg</th>\n",
       "      <th>neu</th>\n",
       "      <th>pos</th>\n",
       "      <th>compound</th>\n",
       "    </tr>\n",
       "  </thead>\n",
       "  <tbody>\n",
       "    <tr>\n",
       "      <th>0</th>\n",
       "      <td>1492266286</td>\n",
       "      <td>As a woman, I can tell you, Scott, that \"every single thing\" is most certainly a \"woman's issue....</td>\n",
       "      <td>22162248.0</td>\n",
       "      <td>22162248</td>\n",
       "      <td>&lt;br/&gt;</td>\n",
       "      <td>userReply</td>\n",
       "      <td>1.492266e+09</td>\n",
       "      <td>2</td>\n",
       "      <td>False</td>\n",
       "      <td>22162001.0</td>\n",
       "      <td>...</td>\n",
       "      <td>830.0</td>\n",
       "      <td>19</td>\n",
       "      <td>Op-Ed</td>\n",
       "      <td>7.0</td>\n",
       "      <td>88</td>\n",
       "      <td>7.954545</td>\n",
       "      <td>0.044</td>\n",
       "      <td>0.784</td>\n",
       "      <td>0.172</td>\n",
       "      <td>0.9072</td>\n",
       "    </tr>\n",
       "    <tr>\n",
       "      <th>1</th>\n",
       "      <td>1492194976</td>\n",
       "      <td>Nope. Deplorables wanted isolationism, not internationalism. They didn't want Bush-Obama-Clinton...</td>\n",
       "      <td>22156834.0</td>\n",
       "      <td>22156834</td>\n",
       "      <td>&lt;br/&gt;</td>\n",
       "      <td>userReply</td>\n",
       "      <td>1.492194e+09</td>\n",
       "      <td>2</td>\n",
       "      <td>False</td>\n",
       "      <td>22156469.0</td>\n",
       "      <td>...</td>\n",
       "      <td>1506.0</td>\n",
       "      <td>1</td>\n",
       "      <td>News</td>\n",
       "      <td>3.0</td>\n",
       "      <td>51</td>\n",
       "      <td>5.882353</td>\n",
       "      <td>0.074</td>\n",
       "      <td>0.773</td>\n",
       "      <td>0.153</td>\n",
       "      <td>0.7637</td>\n",
       "    </tr>\n",
       "    <tr>\n",
       "      <th>2</th>\n",
       "      <td>1492256301</td>\n",
       "      <td>Let The New York Times tell us about the very rich.&lt;br/&gt;&lt;br/&gt;They are different from you and me....</td>\n",
       "      <td>22160057.0</td>\n",
       "      <td>22160057</td>\n",
       "      <td>&lt;br/&gt;</td>\n",
       "      <td>comment</td>\n",
       "      <td>1.492234e+09</td>\n",
       "      <td>1</td>\n",
       "      <td>False</td>\n",
       "      <td>0.0</td>\n",
       "      <td>...</td>\n",
       "      <td>1930.0</td>\n",
       "      <td>1</td>\n",
       "      <td>News</td>\n",
       "      <td>2.0</td>\n",
       "      <td>20</td>\n",
       "      <td>10.000000</td>\n",
       "      <td>0.000</td>\n",
       "      <td>1.000</td>\n",
       "      <td>0.000</td>\n",
       "      <td>0.0000</td>\n",
       "    </tr>\n",
       "    <tr>\n",
       "      <th>3</th>\n",
       "      <td>1491397850</td>\n",
       "      <td>It's amateur hour, with a great big helping of delusion and corruption. &lt;br/&gt;&lt;br/&gt;Sigh.</td>\n",
       "      <td>22041308.0</td>\n",
       "      <td>22041308</td>\n",
       "      <td>&lt;br/&gt;</td>\n",
       "      <td>comment</td>\n",
       "      <td>1.491391e+09</td>\n",
       "      <td>1</td>\n",
       "      <td>False</td>\n",
       "      <td>0.0</td>\n",
       "      <td>...</td>\n",
       "      <td>793.0</td>\n",
       "      <td>23</td>\n",
       "      <td>Op-Ed</td>\n",
       "      <td>1.0</td>\n",
       "      <td>13</td>\n",
       "      <td>7.692308</td>\n",
       "      <td>0.000</td>\n",
       "      <td>0.636</td>\n",
       "      <td>0.364</td>\n",
       "      <td>0.7430</td>\n",
       "    </tr>\n",
       "    <tr>\n",
       "      <th>4</th>\n",
       "      <td>1492871514</td>\n",
       "      <td>Wow, the fault of doing things on the spur of the moment thinking.&lt;br/&gt;Just think what she could...</td>\n",
       "      <td>22236066.0</td>\n",
       "      <td>22236066</td>\n",
       "      <td>&lt;br/&gt;</td>\n",
       "      <td>comment</td>\n",
       "      <td>1.492871e+09</td>\n",
       "      <td>1</td>\n",
       "      <td>False</td>\n",
       "      <td>0.0</td>\n",
       "      <td>...</td>\n",
       "      <td>1113.0</td>\n",
       "      <td>1</td>\n",
       "      <td>News</td>\n",
       "      <td>0.0</td>\n",
       "      <td>56</td>\n",
       "      <td>0.000000</td>\n",
       "      <td>0.208</td>\n",
       "      <td>0.674</td>\n",
       "      <td>0.118</td>\n",
       "      <td>-0.7506</td>\n",
       "    </tr>\n",
       "  </tbody>\n",
       "</table>\n",
       "<p>5 rows × 41 columns</p>\n",
       "</div>"
      ],
      "text/plain": [
       "   approveDate  \\\n",
       "0   1492266286   \n",
       "1   1492194976   \n",
       "2   1492256301   \n",
       "3   1491397850   \n",
       "4   1492871514   \n",
       "\n",
       "                                                                                           commentBody  \\\n",
       "0  As a woman, I can tell you, Scott, that \"every single thing\" is most certainly a \"woman's issue....   \n",
       "1  Nope. Deplorables wanted isolationism, not internationalism. They didn't want Bush-Obama-Clinton...   \n",
       "2  Let The New York Times tell us about the very rich.<br/><br/>They are different from you and me....   \n",
       "3              It's amateur hour, with a great big helping of delusion and corruption. <br/><br/>Sigh.   \n",
       "4  Wow, the fault of doing things on the spur of the moment thinking.<br/>Just think what she could...   \n",
       "\n",
       "    commentID  commentSequence commentTitle commentType    createDate  depth  \\\n",
       "0  22162248.0         22162248        <br/>   userReply  1.492266e+09      2   \n",
       "1  22156834.0         22156834        <br/>   userReply  1.492194e+09      2   \n",
       "2  22160057.0         22160057        <br/>     comment  1.492234e+09      1   \n",
       "3  22041308.0         22041308        <br/>     comment  1.491391e+09      1   \n",
       "4  22236066.0         22236066        <br/>     comment  1.492871e+09      1   \n",
       "\n",
       "   editorsSelection    parentID  ... articleWordCount printPage  \\\n",
       "0             False  22162001.0  ...            830.0        19   \n",
       "1             False  22156469.0  ...           1506.0         1   \n",
       "2             False         0.0  ...           1930.0         1   \n",
       "3             False         0.0  ...            793.0        23   \n",
       "4             False         0.0  ...           1113.0         1   \n",
       "\n",
       "  typeOfMaterial  afinn_score  word_count  afinn_adjusted    neg    neu  \\\n",
       "0          Op-Ed          7.0          88        7.954545  0.044  0.784   \n",
       "1           News          3.0          51        5.882353  0.074  0.773   \n",
       "2           News          2.0          20       10.000000  0.000  1.000   \n",
       "3          Op-Ed          1.0          13        7.692308  0.000  0.636   \n",
       "4           News          0.0          56        0.000000  0.208  0.674   \n",
       "\n",
       "     pos  compound  \n",
       "0  0.172    0.9072  \n",
       "1  0.153    0.7637  \n",
       "2  0.000    0.0000  \n",
       "3  0.364    0.7430  \n",
       "4  0.118   -0.7506  \n",
       "\n",
       "[5 rows x 41 columns]"
      ]
     },
     "execution_count": 50,
     "metadata": {},
     "output_type": "execute_result"
    }
   ],
   "source": [
    "nyt_comments_sentiment.head()"
   ]
  },
  {
   "cell_type": "markdown",
   "metadata": {},
   "source": [
    "If you intend to do this more than once, it can be useful to wrap the entire process into a single function that takes a dataframe and returns the datframe with the polarity columns appended. To clarify where the sentiment information comes from, the prefix `vader_` is added to each of the polarity scores."
   ]
  },
  {
   "cell_type": "code",
   "execution_count": 51,
   "metadata": {
    "slideshow": {
     "slide_type": "slide"
    }
   },
   "outputs": [],
   "source": [
    "def vaderize(df, textfield):\n",
    "    '''Compute the Vader polarity scores for a textfield. \n",
    "    Returns scores and original dataframe.'''\n",
    "\n",
    "    analyzer = SentimentIntensityAnalyzer()\n",
    "\n",
    "    print('Estimating polarity scores for %d cases.' % len(df))\n",
    "    sentiment = df[textfield].apply(analyzer.polarity_scores)\n",
    "\n",
    "    # convert to dataframe\n",
    "    sdf = pd.DataFrame(sentiment.tolist()).add_prefix('vader_')\n",
    "\n",
    "    # merge dataframes\n",
    "    df_combined = pd.concat([df, sdf], axis=1)\n",
    "    return df_combined"
   ]
  },
  {
   "cell_type": "code",
   "execution_count": 54,
   "metadata": {},
   "outputs": [
    {
     "name": "stdout",
     "output_type": "stream",
     "text": [
      "Estimating polarity scores for 121916 cases.\n"
     ]
    }
   ],
   "source": [
    "df_vaderized = vaderize(nyt_comments, 'commentBody')"
   ]
  },
  {
   "cell_type": "code",
   "execution_count": 56,
   "metadata": {},
   "outputs": [
    {
     "data": {
      "text/html": [
       "<div>\n",
       "<style scoped>\n",
       "    .dataframe tbody tr th:only-of-type {\n",
       "        vertical-align: middle;\n",
       "    }\n",
       "\n",
       "    .dataframe tbody tr th {\n",
       "        vertical-align: top;\n",
       "    }\n",
       "\n",
       "    .dataframe thead th {\n",
       "        text-align: right;\n",
       "    }\n",
       "</style>\n",
       "<table border=\"1\" class=\"dataframe\">\n",
       "  <thead>\n",
       "    <tr style=\"text-align: right;\">\n",
       "      <th></th>\n",
       "      <th>approveDate</th>\n",
       "      <th>commentBody</th>\n",
       "      <th>commentID</th>\n",
       "      <th>commentSequence</th>\n",
       "      <th>commentTitle</th>\n",
       "      <th>commentType</th>\n",
       "      <th>createDate</th>\n",
       "      <th>depth</th>\n",
       "      <th>editorsSelection</th>\n",
       "      <th>parentID</th>\n",
       "      <th>...</th>\n",
       "      <th>articleWordCount</th>\n",
       "      <th>printPage</th>\n",
       "      <th>typeOfMaterial</th>\n",
       "      <th>afinn_score</th>\n",
       "      <th>word_count</th>\n",
       "      <th>afinn_adjusted</th>\n",
       "      <th>vader_neg</th>\n",
       "      <th>vader_neu</th>\n",
       "      <th>vader_pos</th>\n",
       "      <th>vader_compound</th>\n",
       "    </tr>\n",
       "  </thead>\n",
       "  <tbody>\n",
       "    <tr>\n",
       "      <th>0</th>\n",
       "      <td>1492266286</td>\n",
       "      <td>As a woman, I can tell you, Scott, that \"every single thing\" is most certainly a \"woman's issue....</td>\n",
       "      <td>22162248.0</td>\n",
       "      <td>22162248</td>\n",
       "      <td>&lt;br/&gt;</td>\n",
       "      <td>userReply</td>\n",
       "      <td>1.492266e+09</td>\n",
       "      <td>2</td>\n",
       "      <td>False</td>\n",
       "      <td>22162001.0</td>\n",
       "      <td>...</td>\n",
       "      <td>830.0</td>\n",
       "      <td>19</td>\n",
       "      <td>Op-Ed</td>\n",
       "      <td>7.0</td>\n",
       "      <td>88</td>\n",
       "      <td>7.954545</td>\n",
       "      <td>0.044</td>\n",
       "      <td>0.784</td>\n",
       "      <td>0.172</td>\n",
       "      <td>0.9072</td>\n",
       "    </tr>\n",
       "    <tr>\n",
       "      <th>1</th>\n",
       "      <td>1492194976</td>\n",
       "      <td>Nope. Deplorables wanted isolationism, not internationalism. They didn't want Bush-Obama-Clinton...</td>\n",
       "      <td>22156834.0</td>\n",
       "      <td>22156834</td>\n",
       "      <td>&lt;br/&gt;</td>\n",
       "      <td>userReply</td>\n",
       "      <td>1.492194e+09</td>\n",
       "      <td>2</td>\n",
       "      <td>False</td>\n",
       "      <td>22156469.0</td>\n",
       "      <td>...</td>\n",
       "      <td>1506.0</td>\n",
       "      <td>1</td>\n",
       "      <td>News</td>\n",
       "      <td>3.0</td>\n",
       "      <td>51</td>\n",
       "      <td>5.882353</td>\n",
       "      <td>0.074</td>\n",
       "      <td>0.773</td>\n",
       "      <td>0.153</td>\n",
       "      <td>0.7637</td>\n",
       "    </tr>\n",
       "    <tr>\n",
       "      <th>2</th>\n",
       "      <td>1492256301</td>\n",
       "      <td>Let The New York Times tell us about the very rich.&lt;br/&gt;&lt;br/&gt;They are different from you and me....</td>\n",
       "      <td>22160057.0</td>\n",
       "      <td>22160057</td>\n",
       "      <td>&lt;br/&gt;</td>\n",
       "      <td>comment</td>\n",
       "      <td>1.492234e+09</td>\n",
       "      <td>1</td>\n",
       "      <td>False</td>\n",
       "      <td>0.0</td>\n",
       "      <td>...</td>\n",
       "      <td>1930.0</td>\n",
       "      <td>1</td>\n",
       "      <td>News</td>\n",
       "      <td>2.0</td>\n",
       "      <td>20</td>\n",
       "      <td>10.000000</td>\n",
       "      <td>0.000</td>\n",
       "      <td>1.000</td>\n",
       "      <td>0.000</td>\n",
       "      <td>0.0000</td>\n",
       "    </tr>\n",
       "    <tr>\n",
       "      <th>3</th>\n",
       "      <td>1491397850</td>\n",
       "      <td>It's amateur hour, with a great big helping of delusion and corruption. &lt;br/&gt;&lt;br/&gt;Sigh.</td>\n",
       "      <td>22041308.0</td>\n",
       "      <td>22041308</td>\n",
       "      <td>&lt;br/&gt;</td>\n",
       "      <td>comment</td>\n",
       "      <td>1.491391e+09</td>\n",
       "      <td>1</td>\n",
       "      <td>False</td>\n",
       "      <td>0.0</td>\n",
       "      <td>...</td>\n",
       "      <td>793.0</td>\n",
       "      <td>23</td>\n",
       "      <td>Op-Ed</td>\n",
       "      <td>1.0</td>\n",
       "      <td>13</td>\n",
       "      <td>7.692308</td>\n",
       "      <td>0.000</td>\n",
       "      <td>0.636</td>\n",
       "      <td>0.364</td>\n",
       "      <td>0.7430</td>\n",
       "    </tr>\n",
       "    <tr>\n",
       "      <th>4</th>\n",
       "      <td>1492871514</td>\n",
       "      <td>Wow, the fault of doing things on the spur of the moment thinking.&lt;br/&gt;Just think what she could...</td>\n",
       "      <td>22236066.0</td>\n",
       "      <td>22236066</td>\n",
       "      <td>&lt;br/&gt;</td>\n",
       "      <td>comment</td>\n",
       "      <td>1.492871e+09</td>\n",
       "      <td>1</td>\n",
       "      <td>False</td>\n",
       "      <td>0.0</td>\n",
       "      <td>...</td>\n",
       "      <td>1113.0</td>\n",
       "      <td>1</td>\n",
       "      <td>News</td>\n",
       "      <td>0.0</td>\n",
       "      <td>56</td>\n",
       "      <td>0.000000</td>\n",
       "      <td>0.208</td>\n",
       "      <td>0.674</td>\n",
       "      <td>0.118</td>\n",
       "      <td>-0.7506</td>\n",
       "    </tr>\n",
       "  </tbody>\n",
       "</table>\n",
       "<p>5 rows × 41 columns</p>\n",
       "</div>"
      ],
      "text/plain": [
       "   approveDate  \\\n",
       "0   1492266286   \n",
       "1   1492194976   \n",
       "2   1492256301   \n",
       "3   1491397850   \n",
       "4   1492871514   \n",
       "\n",
       "                                                                                           commentBody  \\\n",
       "0  As a woman, I can tell you, Scott, that \"every single thing\" is most certainly a \"woman's issue....   \n",
       "1  Nope. Deplorables wanted isolationism, not internationalism. They didn't want Bush-Obama-Clinton...   \n",
       "2  Let The New York Times tell us about the very rich.<br/><br/>They are different from you and me....   \n",
       "3              It's amateur hour, with a great big helping of delusion and corruption. <br/><br/>Sigh.   \n",
       "4  Wow, the fault of doing things on the spur of the moment thinking.<br/>Just think what she could...   \n",
       "\n",
       "    commentID  commentSequence commentTitle commentType    createDate  depth  \\\n",
       "0  22162248.0         22162248        <br/>   userReply  1.492266e+09      2   \n",
       "1  22156834.0         22156834        <br/>   userReply  1.492194e+09      2   \n",
       "2  22160057.0         22160057        <br/>     comment  1.492234e+09      1   \n",
       "3  22041308.0         22041308        <br/>     comment  1.491391e+09      1   \n",
       "4  22236066.0         22236066        <br/>     comment  1.492871e+09      1   \n",
       "\n",
       "   editorsSelection    parentID  ... articleWordCount printPage  \\\n",
       "0             False  22162001.0  ...            830.0        19   \n",
       "1             False  22156469.0  ...           1506.0         1   \n",
       "2             False         0.0  ...           1930.0         1   \n",
       "3             False         0.0  ...            793.0        23   \n",
       "4             False         0.0  ...           1113.0         1   \n",
       "\n",
       "  typeOfMaterial  afinn_score  word_count  afinn_adjusted  vader_neg  \\\n",
       "0          Op-Ed          7.0          88        7.954545      0.044   \n",
       "1           News          3.0          51        5.882353      0.074   \n",
       "2           News          2.0          20       10.000000      0.000   \n",
       "3          Op-Ed          1.0          13        7.692308      0.000   \n",
       "4           News          0.0          56        0.000000      0.208   \n",
       "\n",
       "   vader_neu vader_pos  vader_compound  \n",
       "0      0.784     0.172          0.9072  \n",
       "1      0.773     0.153          0.7637  \n",
       "2      1.000     0.000          0.0000  \n",
       "3      0.636     0.364          0.7430  \n",
       "4      0.674     0.118         -0.7506  \n",
       "\n",
       "[5 rows x 41 columns]"
      ]
     },
     "execution_count": 56,
     "metadata": {},
     "output_type": "execute_result"
    }
   ],
   "source": [
    "df_vaderized.head()"
   ]
  },
  {
   "cell_type": "code",
   "execution_count": 57,
   "metadata": {
    "slideshow": {
     "slide_type": "slide"
    }
   },
   "outputs": [
    {
     "data": {
      "text/plain": [
       "<matplotlib.axes._subplots.AxesSubplot at 0x12c833670>"
      ]
     },
     "execution_count": 57,
     "metadata": {},
     "output_type": "execute_result"
    },
    {
     "data": {
      "image/png": "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\n",
      "text/plain": [
       "<Figure size 432x288 with 1 Axes>"
      ]
     },
     "metadata": {
      "needs_background": "light"
     },
     "output_type": "display_data"
    }
   ],
   "source": [
    "df_vaderized['vader_compound'].plot(kind='hist')"
   ]
  },
  {
   "cell_type": "code",
   "execution_count": 59,
   "metadata": {
    "slideshow": {
     "slide_type": "slide"
    }
   },
   "outputs": [
    {
     "data": {
      "text/html": [
       "<div>\n",
       "<style scoped>\n",
       "    .dataframe tbody tr th:only-of-type {\n",
       "        vertical-align: middle;\n",
       "    }\n",
       "\n",
       "    .dataframe tbody tr th {\n",
       "        vertical-align: top;\n",
       "    }\n",
       "\n",
       "    .dataframe thead th {\n",
       "        text-align: right;\n",
       "    }\n",
       "</style>\n",
       "<table border=\"1\" class=\"dataframe\">\n",
       "  <thead>\n",
       "    <tr style=\"text-align: right;\">\n",
       "      <th></th>\n",
       "      <th>afinn_adjusted</th>\n",
       "      <th>vader_neg</th>\n",
       "      <th>vader_neu</th>\n",
       "      <th>vader_pos</th>\n",
       "    </tr>\n",
       "    <tr>\n",
       "      <th>editorsSelection</th>\n",
       "      <th></th>\n",
       "      <th></th>\n",
       "      <th></th>\n",
       "      <th></th>\n",
       "    </tr>\n",
       "  </thead>\n",
       "  <tbody>\n",
       "    <tr>\n",
       "      <th>False</th>\n",
       "      <td>0.518383</td>\n",
       "      <td>0.094178</td>\n",
       "      <td>0.795002</td>\n",
       "      <td>0.110818</td>\n",
       "    </tr>\n",
       "    <tr>\n",
       "      <th>True</th>\n",
       "      <td>-0.419093</td>\n",
       "      <td>0.097363</td>\n",
       "      <td>0.796422</td>\n",
       "      <td>0.106213</td>\n",
       "    </tr>\n",
       "  </tbody>\n",
       "</table>\n",
       "</div>"
      ],
      "text/plain": [
       "                  afinn_adjusted  vader_neg  vader_neu  vader_pos\n",
       "editorsSelection                                                 \n",
       "False                   0.518383   0.094178   0.795002   0.110818\n",
       "True                   -0.419093   0.097363   0.796422   0.106213"
      ]
     },
     "execution_count": 59,
     "metadata": {},
     "output_type": "execute_result"
    }
   ],
   "source": [
    "sentiment_variables = ['afinn_adjusted', 'vader_neg', 'vader_neu', 'vader_pos']\n",
    "\n",
    "df_vaderized.groupby('editorsSelection')[sentiment_variables].mean()"
   ]
  },
  {
   "cell_type": "markdown",
   "metadata": {
    "slideshow": {
     "slide_type": "slide"
    }
   },
   "source": [
    "#### Word List\n",
    "\n",
    "Occasionally, you will have a sentiment list from a different source that you would like to use. Or, more generally, you have a word list about any subject, not just attitudes, and you want to count their occurrences in texts, such as the use of words associated with politics or hypothesis testing. \n",
    "\n",
    "The final section of the lesson shows the steps for building a function that can analyze texts for the presence of words on any given list. In this case, the sample list will be words associated with men that were assembled by [Danielle Sucher](https://github.com/DanielleSucher/Jailbreak-the-Patriarchy). "
   ]
  },
  {
   "cell_type": "markdown",
   "metadata": {},
   "source": [
    "The list is stored as a csv file. Pandas can be used to read the word list and turn it into a Python list."
   ]
  },
  {
   "cell_type": "code",
   "execution_count": null,
   "metadata": {
    "slideshow": {
     "slide_type": "slide"
    }
   },
   "outputs": [],
   "source": [
    "\n",
    "male_csv_location = 'https://raw.githubusercontent.com/nealcaren/KULeuvenBigData/master/notebooks/data/male_words.csv'\n",
    "\n",
    "\n",
    "male_words_df = pd.read_csv(male_csv_location)\n",
    "\n",
    "male_words_df.sample(10)"
   ]
  },
  {
   "cell_type": "code",
   "execution_count": null,
   "metadata": {
    "slideshow": {
     "slide_type": "slide"
    }
   },
   "outputs": [],
   "source": [
    "male_words_list = male_words_df['term'].values"
   ]
  },
  {
   "cell_type": "markdown",
   "metadata": {
    "slideshow": {
     "slide_type": "slide"
    }
   },
   "source": [
    "The function that looks for cooccurences has two parts. A preliminary helper function transforms the original text string into a list of lower case words stripping out any punctuation. "
   ]
  },
  {
   "cell_type": "code",
   "execution_count": null,
   "metadata": {
    "slideshow": {
     "slide_type": "slide"
    }
   },
   "outputs": [],
   "source": [
    "def text_to_words(text):\n",
    "    '''Transform a string to a list of words,\n",
    "    removing all punctuation.'''\n",
    "    text = text.lower()\n",
    "\n",
    "    p = '!\"#$%&\\'()*+,-./:;<=>?@[\\\\]^_`{|}~'\n",
    "    text = ''.join([ch for ch in text if ch not in p])\n",
    "\n",
    "    return text.split()"
   ]
  },
  {
   "cell_type": "code",
   "execution_count": null,
   "metadata": {
    "slideshow": {
     "slide_type": "slide"
    }
   },
   "outputs": [],
   "source": [
    "text_to_words('Make this lower case and remove! All? Punctuation.')"
   ]
  },
  {
   "cell_type": "markdown",
   "metadata": {
    "slideshow": {
     "slide_type": "slide"
    }
   },
   "source": [
    "The main function takes two arguments, the text and the word list. First, the text string is transformed to a list using `text_to_words`. Second, a new list `intersection` is created which contains only those elements from the text list that are in the word list. Finally, the function returns the length of the intersection. "
   ]
  },
  {
   "cell_type": "code",
   "execution_count": null,
   "metadata": {
    "slideshow": {
     "slide_type": "slide"
    }
   },
   "outputs": [],
   "source": [
    "def count_occurences(text, word_list):\n",
    "    '''Count occurences of words from a list in a text string.'''\n",
    "    text_list = text_to_words(text)\n",
    "\n",
    "    intersection = [w for w in text_list if w in word_list]\n",
    "\n",
    "    return len(intersection)"
   ]
  },
  {
   "cell_type": "code",
   "execution_count": null,
   "metadata": {
    "slideshow": {
     "slide_type": "slide"
    }
   },
   "outputs": [],
   "source": [
    "count_occurences('He went to the store.', male_words_list)"
   ]
  },
  {
   "cell_type": "markdown",
   "metadata": {
    "slideshow": {
     "slide_type": "slide"
    }
   },
   "source": [
    "The function can now be applied on the Times dataframe to count ocurrences of male words in the comments. Since the function takes a second arguement, the word list, this is passed to the `apply` method as a tuple."
   ]
  },
  {
   "cell_type": "code",
   "execution_count": null,
   "metadata": {
    "slideshow": {
     "slide_type": "slide"
    }
   },
   "outputs": [],
   "source": [
    "un_df['male_words'] = un_df['text'].apply(count_occurences, \n",
    "                                                   args=(male_words_list, ))"
   ]
  },
  {
   "cell_type": "code",
   "execution_count": null,
   "metadata": {},
   "outputs": [],
   "source": []
  }
 ],
 "metadata": {
  "kernelspec": {
   "display_name": "Python 3",
   "language": "python",
   "name": "python3"
  },
  "language_info": {
   "codemirror_mode": {
    "name": "ipython",
    "version": 3
   },
   "file_extension": ".py",
   "mimetype": "text/x-python",
   "name": "python",
   "nbconvert_exporter": "python",
   "pygments_lexer": "ipython3",
   "version": "3.8.3"
  },
  "toc": {
   "base_numbering": 1,
   "nav_menu": {},
   "number_sections": true,
   "sideBar": true,
   "skip_h1_title": false,
   "title_cell": "Table of Contents",
   "title_sidebar": "Contents",
   "toc_cell": true,
   "toc_position": {},
   "toc_section_display": true,
   "toc_window_display": false
  }
 },
 "nbformat": 4,
 "nbformat_minor": 2
}
