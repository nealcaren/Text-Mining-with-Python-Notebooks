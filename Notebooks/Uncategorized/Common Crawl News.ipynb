{
 "cells": [
  {
   "cell_type": "code",
   "execution_count": 53,
   "metadata": {},
   "outputs": [
    {
     "name": "stdout",
     "output_type": "stream",
     "text": [
      "Requirement already satisfied: warcio in /Users/nealcaren/anaconda3/envs/tmwp/lib/python3.8/site-packages (1.7.3)\n",
      "Requirement already satisfied: six in /Users/nealcaren/anaconda3/envs/tmwp/lib/python3.8/site-packages (from warcio) (1.14.0)\n",
      "Collecting tinysegmenter==0.3\n",
      "  Using cached tinysegmenter-0.3.tar.gz (16 kB)\n",
      "Building wheels for collected packages: tinysegmenter\n",
      "  Building wheel for tinysegmenter (setup.py) ... \u001b[?25ldone\n",
      "\u001b[?25h  Created wheel for tinysegmenter: filename=tinysegmenter-0.3-py3-none-any.whl size=13538 sha256=1294c6af35f5412e369eccc996fc6690df464081001ec23c80b3fa17468ffd58\n",
      "  Stored in directory: /Users/nealcaren/Library/Caches/pip/wheels/99/74/83/8fac1c8d9c648cfabebbbffe97a889f6624817f3aa0bbe6c09\n",
      "Successfully built tinysegmenter\n",
      "Installing collected packages: tinysegmenter\n",
      "  Attempting uninstall: tinysegmenter\n",
      "    Found existing installation: tinysegmenter 0.4\n",
      "    Uninstalling tinysegmenter-0.4:\n",
      "      Successfully uninstalled tinysegmenter-0.4\n",
      "Successfully installed tinysegmenter-0.3\n"
     ]
    }
   ],
   "source": [
    "#https://www.kaggle.com/gabrielaltay/common-crawl-news-intro\n",
    "# https://stackoverflow.com/questions/56677636/how-to-use-newspaper3k-library-without-downloading-articles\n",
    "!pip install warcio\n",
    "!pip install tinysegmenter==0.3\n",
    "\n"
   ]
  },
  {
   "cell_type": "markdown",
   "metadata": {},
   "source": [
    "https://commoncrawl.s3.amazonaws.com/crawl-data/CC-NEWS/2020/05/CC-NEWS-20200524163630-00230.warc.gz\n",
    "\n",
    "https://commoncrawl.s3.amazonaws.com/crawl-data/CC-MAIN-2019-26/warc.paths.gz"
   ]
  },
  {
   "cell_type": "code",
   "execution_count": 4,
   "metadata": {},
   "outputs": [],
   "source": [
    "import os\n",
    "from bs4 import BeautifulSoup                                                                            \n",
    "from warcio.archiveiterator import ArchiveIterator \n",
    "from newspaper import Article\n",
    "import pandas as pd"
   ]
  },
  {
   "cell_type": "code",
   "execution_count": 5,
   "metadata": {},
   "outputs": [],
   "source": [
    "fl = '/Users/nealcaren/Downloads/CC-NEWS-20200524163630-00230.warc.gz'"
   ]
  },
  {
   "cell_type": "code",
   "execution_count": 26,
   "metadata": {},
   "outputs": [],
   "source": [
    "fields = ['meta_description', 'meta_lang', 'meta_favicon', 'meta_data',\n",
    "       'canonical_link', 'source_url', 'url', 'title', 'text', 'keywords','meta_keywords', 'tags', 'authors', 'publish_date', 'summary', 'html',\n",
    "         ]\n",
    "\n",
    "def get_article_info(record):\n",
    "    \"\"\"Extract and parse a newspaper article from Common Crawl.\"\"\"\n",
    "    article = Article(record.rec_headers.get_header('WARC-Target-URI'))\n",
    "    article.download_state = 2\n",
    "    article.html = record.content_stream().read()\n",
    "    article.parse()\n",
    "\n",
    "    article_dict = { f: article.__dict__[f] for f in fields }\n",
    "    \n",
    "    return article_dict "
   ]
  },
  {
   "cell_type": "code",
   "execution_count": 54,
   "metadata": {},
   "outputs": [
    {
     "name": "stderr",
     "output_type": "stream",
     "text": [
      "Some characters could not be decoded, and were replaced with REPLACEMENT CHARACTER.\n",
      "Some characters could not be decoded, and were replaced with REPLACEMENT CHARACTER.\n",
      "Some characters could not be decoded, and were replaced with REPLACEMENT CHARACTER.\n",
      "Some characters could not be decoded, and were replaced with REPLACEMENT CHARACTER.\n",
      "Some characters could not be decoded, and were replaced with REPLACEMENT CHARACTER.\n",
      "Some characters could not be decoded, and were replaced with REPLACEMENT CHARACTER.\n",
      "Some characters could not be decoded, and were replaced with REPLACEMENT CHARACTER.\n",
      "Some characters could not be decoded, and were replaced with REPLACEMENT CHARACTER.\n",
      "Some characters could not be decoded, and were replaced with REPLACEMENT CHARACTER.\n",
      "Some characters could not be decoded, and were replaced with REPLACEMENT CHARACTER.\n",
      "Some characters could not be decoded, and were replaced with REPLACEMENT CHARACTER.\n",
      "Some characters could not be decoded, and were replaced with REPLACEMENT CHARACTER.\n",
      "Some characters could not be decoded, and were replaced with REPLACEMENT CHARACTER.\n",
      "Some characters could not be decoded, and were replaced with REPLACEMENT CHARACTER.\n",
      "Some characters could not be decoded, and were replaced with REPLACEMENT CHARACTER.\n",
      "Some characters could not be decoded, and were replaced with REPLACEMENT CHARACTER.\n",
      "Some characters could not be decoded, and were replaced with REPLACEMENT CHARACTER.\n",
      "Some characters could not be decoded, and were replaced with REPLACEMENT CHARACTER.\n",
      "/Users/nealcaren/anaconda3/envs/tmwp/lib/python3.8/site-packages/dateutil/parser/_parser.py:1213: UnknownTimezoneWarning: tzname IST identified but not understood.  Pass `tzinfos` argument in order to correctly return a timezone-aware datetime.  In a future version, this will raise an exception.\n",
      "  warnings.warn(\"tzname {tzname} identified but not understood.  \"\n"
     ]
    }
   ],
   "source": [
    "articles = []\n",
    "with open(fl, 'rb') as stream:\n",
    "    for record in ArchiveIterator(stream):\n",
    "        \n",
    "        if record.rec_type == 'request':\n",
    "            pass        \n",
    "        if record.rec_type == 'response':\n",
    "            \n",
    "            article_info = get_article_info(record)\n",
    "            if article_info['meta_lang'] == 'en':\n",
    "                articles.append(article_info)"
   ]
  },
  {
   "cell_type": "code",
   "execution_count": 55,
   "metadata": {},
   "outputs": [],
   "source": [
    "\n",
    "df = pd.DataFrame(articles)"
   ]
  },
  {
   "cell_type": "code",
   "execution_count": 56,
   "metadata": {},
   "outputs": [
    {
     "data": {
      "text/plain": [
       "11242"
      ]
     },
     "execution_count": 56,
     "metadata": {},
     "output_type": "execute_result"
    }
   ],
   "source": [
    "len(df)"
   ]
  },
  {
   "cell_type": "code",
   "execution_count": 57,
   "metadata": {},
   "outputs": [
    {
     "ename": "OverflowError",
     "evalue": "Maximum recursion level reached",
     "output_type": "error",
     "traceback": [
      "\u001b[0;31m---------------------------------------------------------------------------\u001b[0m",
      "\u001b[0;31mOverflowError\u001b[0m                             Traceback (most recent call last)",
      "\u001b[0;32m<ipython-input-57-61109ca710e7>\u001b[0m in \u001b[0;36m<module>\u001b[0;34m\u001b[0m\n\u001b[0;32m----> 1\u001b[0;31m \u001b[0mdf\u001b[0m\u001b[0;34m.\u001b[0m\u001b[0mto_json\u001b[0m\u001b[0;34m(\u001b[0m\u001b[0;34m'cc.json'\u001b[0m\u001b[0;34m)\u001b[0m\u001b[0;34m\u001b[0m\u001b[0;34m\u001b[0m\u001b[0m\n\u001b[0m",
      "\u001b[0;32m~/anaconda3/envs/tmwp/lib/python3.8/site-packages/pandas/core/generic.py\u001b[0m in \u001b[0;36mto_json\u001b[0;34m(self, path_or_buf, orient, date_format, double_precision, force_ascii, date_unit, default_handler, lines, compression, index, indent)\u001b[0m\n\u001b[1;32m   2350\u001b[0m         \u001b[0mindent\u001b[0m \u001b[0;34m=\u001b[0m \u001b[0mindent\u001b[0m \u001b[0;32mor\u001b[0m \u001b[0;36m0\u001b[0m\u001b[0;34m\u001b[0m\u001b[0;34m\u001b[0m\u001b[0m\n\u001b[1;32m   2351\u001b[0m \u001b[0;34m\u001b[0m\u001b[0m\n\u001b[0;32m-> 2352\u001b[0;31m         return json.to_json(\n\u001b[0m\u001b[1;32m   2353\u001b[0m             \u001b[0mpath_or_buf\u001b[0m\u001b[0;34m=\u001b[0m\u001b[0mpath_or_buf\u001b[0m\u001b[0;34m,\u001b[0m\u001b[0;34m\u001b[0m\u001b[0;34m\u001b[0m\u001b[0m\n\u001b[1;32m   2354\u001b[0m             \u001b[0mobj\u001b[0m\u001b[0;34m=\u001b[0m\u001b[0mself\u001b[0m\u001b[0;34m,\u001b[0m\u001b[0;34m\u001b[0m\u001b[0;34m\u001b[0m\u001b[0m\n",
      "\u001b[0;32m~/anaconda3/envs/tmwp/lib/python3.8/site-packages/pandas/io/json/_json.py\u001b[0m in \u001b[0;36mto_json\u001b[0;34m(path_or_buf, obj, orient, date_format, double_precision, force_ascii, date_unit, default_handler, lines, compression, index, indent)\u001b[0m\n\u001b[1;32m     74\u001b[0m         \u001b[0;32mraise\u001b[0m \u001b[0mNotImplementedError\u001b[0m\u001b[0;34m(\u001b[0m\u001b[0;34m\"'obj' should be a Series or a DataFrame\"\u001b[0m\u001b[0;34m)\u001b[0m\u001b[0;34m\u001b[0m\u001b[0;34m\u001b[0m\u001b[0m\n\u001b[1;32m     75\u001b[0m \u001b[0;34m\u001b[0m\u001b[0m\n\u001b[0;32m---> 76\u001b[0;31m     s = writer(\n\u001b[0m\u001b[1;32m     77\u001b[0m         \u001b[0mobj\u001b[0m\u001b[0;34m,\u001b[0m\u001b[0;34m\u001b[0m\u001b[0;34m\u001b[0m\u001b[0m\n\u001b[1;32m     78\u001b[0m         \u001b[0morient\u001b[0m\u001b[0;34m=\u001b[0m\u001b[0morient\u001b[0m\u001b[0;34m,\u001b[0m\u001b[0;34m\u001b[0m\u001b[0;34m\u001b[0m\u001b[0m\n",
      "\u001b[0;32m~/anaconda3/envs/tmwp/lib/python3.8/site-packages/pandas/io/json/_json.py\u001b[0m in \u001b[0;36mwrite\u001b[0;34m(self)\u001b[0m\n\u001b[1;32m    135\u001b[0m \u001b[0;34m\u001b[0m\u001b[0m\n\u001b[1;32m    136\u001b[0m     \u001b[0;32mdef\u001b[0m \u001b[0mwrite\u001b[0m\u001b[0;34m(\u001b[0m\u001b[0mself\u001b[0m\u001b[0;34m)\u001b[0m\u001b[0;34m:\u001b[0m\u001b[0;34m\u001b[0m\u001b[0;34m\u001b[0m\u001b[0m\n\u001b[0;32m--> 137\u001b[0;31m         return self._write(\n\u001b[0m\u001b[1;32m    138\u001b[0m             \u001b[0mself\u001b[0m\u001b[0;34m.\u001b[0m\u001b[0mobj\u001b[0m\u001b[0;34m,\u001b[0m\u001b[0;34m\u001b[0m\u001b[0;34m\u001b[0m\u001b[0m\n\u001b[1;32m    139\u001b[0m             \u001b[0mself\u001b[0m\u001b[0;34m.\u001b[0m\u001b[0morient\u001b[0m\u001b[0;34m,\u001b[0m\u001b[0;34m\u001b[0m\u001b[0;34m\u001b[0m\u001b[0m\n",
      "\u001b[0;32m~/anaconda3/envs/tmwp/lib/python3.8/site-packages/pandas/io/json/_json.py\u001b[0m in \u001b[0;36m_write\u001b[0;34m(self, obj, orient, double_precision, ensure_ascii, date_unit, iso_dates, default_handler, indent)\u001b[0m\n\u001b[1;32m    235\u001b[0m             \u001b[0mobj\u001b[0m \u001b[0;34m=\u001b[0m \u001b[0mobj\u001b[0m\u001b[0;34m.\u001b[0m\u001b[0mto_dict\u001b[0m\u001b[0;34m(\u001b[0m\u001b[0morient\u001b[0m\u001b[0;34m=\u001b[0m\u001b[0;34m\"split\"\u001b[0m\u001b[0;34m)\u001b[0m\u001b[0;34m\u001b[0m\u001b[0;34m\u001b[0m\u001b[0m\n\u001b[1;32m    236\u001b[0m             \u001b[0;32mdel\u001b[0m \u001b[0mobj\u001b[0m\u001b[0;34m[\u001b[0m\u001b[0;34m\"index\"\u001b[0m\u001b[0;34m]\u001b[0m\u001b[0;34m\u001b[0m\u001b[0;34m\u001b[0m\u001b[0m\n\u001b[0;32m--> 237\u001b[0;31m         return super()._write(\n\u001b[0m\u001b[1;32m    238\u001b[0m             \u001b[0mobj\u001b[0m\u001b[0;34m,\u001b[0m\u001b[0;34m\u001b[0m\u001b[0;34m\u001b[0m\u001b[0m\n\u001b[1;32m    239\u001b[0m             \u001b[0morient\u001b[0m\u001b[0;34m,\u001b[0m\u001b[0;34m\u001b[0m\u001b[0;34m\u001b[0m\u001b[0m\n",
      "\u001b[0;32m~/anaconda3/envs/tmwp/lib/python3.8/site-packages/pandas/io/json/_json.py\u001b[0m in \u001b[0;36m_write\u001b[0;34m(self, obj, orient, double_precision, ensure_ascii, date_unit, iso_dates, default_handler, indent)\u001b[0m\n\u001b[1;32m    157\u001b[0m         \u001b[0mindent\u001b[0m\u001b[0;34m:\u001b[0m \u001b[0mint\u001b[0m\u001b[0;34m,\u001b[0m\u001b[0;34m\u001b[0m\u001b[0;34m\u001b[0m\u001b[0m\n\u001b[1;32m    158\u001b[0m     ):\n\u001b[0;32m--> 159\u001b[0;31m         return dumps(\n\u001b[0m\u001b[1;32m    160\u001b[0m             \u001b[0mobj\u001b[0m\u001b[0;34m,\u001b[0m\u001b[0;34m\u001b[0m\u001b[0;34m\u001b[0m\u001b[0m\n\u001b[1;32m    161\u001b[0m             \u001b[0morient\u001b[0m\u001b[0;34m=\u001b[0m\u001b[0morient\u001b[0m\u001b[0;34m,\u001b[0m\u001b[0;34m\u001b[0m\u001b[0;34m\u001b[0m\u001b[0m\n",
      "\u001b[0;31mOverflowError\u001b[0m: Maximum recursion level reached"
     ]
    }
   ],
   "source": [
    "df.to_json('cc.json')"
   ]
  },
  {
   "cell_type": "code",
   "execution_count": 60,
   "metadata": {},
   "outputs": [
    {
     "data": {
      "text/plain": [
       "https://www.tiktok.com              1300\n",
       "https://www.nexttv.com              1049\n",
       "https://coleofduty.com              1000\n",
       "https://jewishlifenews.com           308\n",
       "https://www.goal.com                 167\n",
       "https://www.latestly.com             161\n",
       "https://www.thehindu.com             101\n",
       "https://thedailyripple.org            99\n",
       "https://www.livemint.com              82\n",
       "https://www.dailymail.co.uk           71\n",
       "https://www.reuters.com               67\n",
       "https://www.com-unik.info             57\n",
       "http://usweekly.com                   55\n",
       "https://news.yam.ro                   55\n",
       "https://clarion.causeaction.com       52\n",
       "https://365project.org                48\n",
       "https://www.express.co.uk             48\n",
       "https://nysenewstimes.com             47\n",
       "https://ca.sports.yahoo.com           47\n",
       "https://www.si.com                    45\n",
       "https://www.legacy.com                45\n",
       "https://www.sfchronicle.com           44\n",
       "https://www.timesunion.com            43\n",
       "https://www.houstonchronicle.com      43\n",
       "https://www.onenewspage.com           40\n",
       "https://www.wkrb13.com                38\n",
       "https://www.seattletimes.com          37\n",
       "https://www.westernjournal.com        37\n",
       "https://www.channelnewsasia.com       35\n",
       "https://www.indiatoday.in             34\n",
       "https://www.vanguardngr.com           32\n",
       "https://www.hindustantimes.com        31\n",
       "https://www.theguardian.com           31\n",
       "https://www.expressnews.com           31\n",
       "https://www.abc27.com                 31\n",
       "https://www.wyomingnews.com           30\n",
       "https://www.arklatexhomepage.com      30\n",
       "https://www.the-sun.com               30\n",
       "https://www.bbc.co.uk                 29\n",
       "https://m.hindustantimes.com          29\n",
       "Name: source_url, dtype: int64"
      ]
     },
     "execution_count": 60,
     "metadata": {},
     "output_type": "execute_result"
    }
   ],
   "source": [
    "df['source_url'].value_counts()[:40]"
   ]
  },
  {
   "cell_type": "code",
   "execution_count": null,
   "metadata": {},
   "outputs": [],
   "source": []
  }
 ],
 "metadata": {
  "kernelspec": {
   "display_name": "Python 3",
   "language": "python",
   "name": "python3"
  },
  "language_info": {
   "codemirror_mode": {
    "name": "ipython",
    "version": 3
   },
   "file_extension": ".py",
   "mimetype": "text/x-python",
   "name": "python",
   "nbconvert_exporter": "python",
   "pygments_lexer": "ipython3",
   "version": "3.8.2"
  }
 },
 "nbformat": 4,
 "nbformat_minor": 4
}
