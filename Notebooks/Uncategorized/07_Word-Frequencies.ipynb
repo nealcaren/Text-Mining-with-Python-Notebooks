{
 "cells": [
  {
   "cell_type": "markdown",
   "metadata": {
    "slideshow": {
     "slide_type": "slide"
    }
   },
   "source": [
    "### Counting Words"
   ]
  },
  {
   "cell_type": "markdown",
   "metadata": {
    "slideshow": {
     "slide_type": "skip"
    }
   },
   "source": [
    "Begin by enabling plots to be displayed in the Jupyter notebook and importing the pandas library. "
   ]
  },
  {
   "cell_type": "code",
   "execution_count": 1,
   "metadata": {
    "slideshow": {
     "slide_type": "slide"
    }
   },
   "outputs": [
    {
     "name": "stdout",
     "output_type": "stream",
     "text": [
      "Requirement already up-to-date: pdtext in /Users/nealcaren/anaconda3/lib/python3.6/site-packages (0.1.4)\n",
      "Requirement already satisfied, skipping upgrade: pandas in /Users/nealcaren/anaconda3/lib/python3.6/site-packages (from pdtext) (0.24.2)\n",
      "Requirement already satisfied, skipping upgrade: python-dateutil>=2.5.0 in /Users/nealcaren/anaconda3/lib/python3.6/site-packages (from pandas->pdtext) (2.8.0)\n",
      "Requirement already satisfied, skipping upgrade: numpy>=1.12.0 in /Users/nealcaren/anaconda3/lib/python3.6/site-packages (from pandas->pdtext) (1.16.4)\n",
      "Requirement already satisfied, skipping upgrade: pytz>=2011k in /Users/nealcaren/anaconda3/lib/python3.6/site-packages (from pandas->pdtext) (2019.1)\n",
      "Requirement already satisfied, skipping upgrade: six>=1.5 in /Users/nealcaren/anaconda3/lib/python3.6/site-packages (from python-dateutil>=2.5.0->pandas->pdtext) (1.12.0)\n",
      "Note: you may need to restart the kernel to use updated packages.\n"
     ]
    }
   ],
   "source": [
    "%matplotlib inline\n",
    "%pip install pdtext --upgrade\n",
    "\n",
    "\n",
    "import pandas as pd\n",
    "import seaborn as sns"
   ]
  },
  {
   "cell_type": "markdown",
   "metadata": {
    "slideshow": {
     "slide_type": "subslide"
    }
   },
   "source": [
    "The sample text for this section is from the UN General Debate Corpus. These were released on [kaggle](https://www.kaggle.com/unitednations/un-general-debates/home). Since CSV files aren't really well-designed to hold long text fields with line-breaks, quotation marks and commas (which might interpretated by a csv reader as the start of a new field), the addresses are in the json file format."
   ]
  },
  {
   "cell_type": "code",
   "execution_count": 2,
   "metadata": {
    "slideshow": {
     "slide_type": "slide"
    }
   },
   "outputs": [],
   "source": [
    "un_df = pd.read_json('data/un-general-debates.json')"
   ]
  },
  {
   "cell_type": "markdown",
   "metadata": {
    "slideshow": {
     "slide_type": "subslide"
    }
   },
   "source": [
    "I use `info`, `describe`, and `sample` to get a sense of the data."
   ]
  },
  {
   "cell_type": "code",
   "execution_count": 3,
   "metadata": {
    "slideshow": {
     "slide_type": "slide"
    }
   },
   "outputs": [
    {
     "name": "stdout",
     "output_type": "stream",
     "text": [
      "<class 'pandas.core.frame.DataFrame'>\n",
      "RangeIndex: 7507 entries, 0 to 7506\n",
      "Data columns (total 3 columns):\n",
      "country_code    7507 non-null object\n",
      "speech_text     7507 non-null object\n",
      "speech_year     7507 non-null int64\n",
      "dtypes: int64(1), object(2)\n",
      "memory usage: 176.0+ KB\n"
     ]
    }
   ],
   "source": [
    "un_df.info()"
   ]
  },
  {
   "cell_type": "code",
   "execution_count": 4,
   "metadata": {},
   "outputs": [
    {
     "data": {
      "text/html": [
       "<div>\n",
       "<style scoped>\n",
       "    .dataframe tbody tr th:only-of-type {\n",
       "        vertical-align: middle;\n",
       "    }\n",
       "\n",
       "    .dataframe tbody tr th {\n",
       "        vertical-align: top;\n",
       "    }\n",
       "\n",
       "    .dataframe thead th {\n",
       "        text-align: right;\n",
       "    }\n",
       "</style>\n",
       "<table border=\"1\" class=\"dataframe\">\n",
       "  <thead>\n",
       "    <tr style=\"text-align: right;\">\n",
       "      <th></th>\n",
       "      <th>speech_year</th>\n",
       "    </tr>\n",
       "  </thead>\n",
       "  <tbody>\n",
       "    <tr>\n",
       "      <th>count</th>\n",
       "      <td>7507.000000</td>\n",
       "    </tr>\n",
       "    <tr>\n",
       "      <th>mean</th>\n",
       "      <td>1994.610763</td>\n",
       "    </tr>\n",
       "    <tr>\n",
       "      <th>std</th>\n",
       "      <td>12.892155</td>\n",
       "    </tr>\n",
       "    <tr>\n",
       "      <th>min</th>\n",
       "      <td>1970.000000</td>\n",
       "    </tr>\n",
       "    <tr>\n",
       "      <th>25%</th>\n",
       "      <td>1984.000000</td>\n",
       "    </tr>\n",
       "    <tr>\n",
       "      <th>50%</th>\n",
       "      <td>1996.000000</td>\n",
       "    </tr>\n",
       "    <tr>\n",
       "      <th>75%</th>\n",
       "      <td>2006.000000</td>\n",
       "    </tr>\n",
       "    <tr>\n",
       "      <th>max</th>\n",
       "      <td>2015.000000</td>\n",
       "    </tr>\n",
       "  </tbody>\n",
       "</table>\n",
       "</div>"
      ],
      "text/plain": [
       "       speech_year\n",
       "count  7507.000000\n",
       "mean   1994.610763\n",
       "std      12.892155\n",
       "min    1970.000000\n",
       "25%    1984.000000\n",
       "50%    1996.000000\n",
       "75%    2006.000000\n",
       "max    2015.000000"
      ]
     },
     "execution_count": 4,
     "metadata": {},
     "output_type": "execute_result"
    }
   ],
   "source": [
    "un_df.describe()"
   ]
  },
  {
   "cell_type": "code",
   "execution_count": 5,
   "metadata": {
    "slideshow": {
     "slide_type": "slide"
    }
   },
   "outputs": [
    {
     "data": {
      "text/html": [
       "<div>\n",
       "<style scoped>\n",
       "    .dataframe tbody tr th:only-of-type {\n",
       "        vertical-align: middle;\n",
       "    }\n",
       "\n",
       "    .dataframe tbody tr th {\n",
       "        vertical-align: top;\n",
       "    }\n",
       "\n",
       "    .dataframe thead th {\n",
       "        text-align: right;\n",
       "    }\n",
       "</style>\n",
       "<table border=\"1\" class=\"dataframe\">\n",
       "  <thead>\n",
       "    <tr style=\"text-align: right;\">\n",
       "      <th></th>\n",
       "      <th>country_code</th>\n",
       "      <th>speech_text</th>\n",
       "      <th>speech_year</th>\n",
       "    </tr>\n",
       "  </thead>\n",
       "  <tbody>\n",
       "    <tr>\n",
       "      <th>4688</th>\n",
       "      <td>VUT</td>\n",
       "      <td>I bring to this\\ngathering a warm greeting fro...</td>\n",
       "      <td>2004</td>\n",
       "    </tr>\n",
       "    <tr>\n",
       "      <th>3430</th>\n",
       "      <td>PRT</td>\n",
       "      <td>﻿Mr. President, allow me first of all to congr...</td>\n",
       "      <td>1979</td>\n",
       "    </tr>\n",
       "    <tr>\n",
       "      <th>523</th>\n",
       "      <td>YDYE</td>\n",
       "      <td>It gives me great pleasure to extend to Mr. Ja...</td>\n",
       "      <td>1985</td>\n",
       "    </tr>\n",
       "    <tr>\n",
       "      <th>4879</th>\n",
       "      <td>UKR</td>\n",
       "      <td>Ukraine, as a co-founder \\nof the United Natio...</td>\n",
       "      <td>2014</td>\n",
       "    </tr>\n",
       "    <tr>\n",
       "      <th>3827</th>\n",
       "      <td>CHL</td>\n",
       "      <td>I am\\npleased to commend the President, and th...</td>\n",
       "      <td>2005</td>\n",
       "    </tr>\n",
       "  </tbody>\n",
       "</table>\n",
       "</div>"
      ],
      "text/plain": [
       "     country_code                                        speech_text  \\\n",
       "4688          VUT  I bring to this\\ngathering a warm greeting fro...   \n",
       "3430          PRT  ﻿Mr. President, allow me first of all to congr...   \n",
       "523          YDYE  It gives me great pleasure to extend to Mr. Ja...   \n",
       "4879          UKR  Ukraine, as a co-founder \\nof the United Natio...   \n",
       "3827          CHL  I am\\npleased to commend the President, and th...   \n",
       "\n",
       "      speech_year  \n",
       "4688         2004  \n",
       "3430         1979  \n",
       "523          1985  \n",
       "4879         2014  \n",
       "3827         2005  "
      ]
     },
     "execution_count": 5,
     "metadata": {},
     "output_type": "execute_result"
    }
   ],
   "source": [
    "un_df.sample(5)"
   ]
  },
  {
   "cell_type": "markdown",
   "metadata": {
    "slideshow": {
     "slide_type": "slide"
    }
   },
   "source": [
    "A specific row can be referenced using its index through `iloc`. Here's what the first 800 characters of the variable `sotu_text` look like from a random row."
   ]
  },
  {
   "cell_type": "code",
   "execution_count": 6,
   "metadata": {
    "slideshow": {
     "slide_type": "fragment"
    }
   },
   "outputs": [
    {
     "data": {
      "text/plain": [
       "country_code                                                  ISL\n",
       "speech_text     Let me start by \\ncongratulating His Excellenc...\n",
       "speech_year                                                  2010\n",
       "Name: 2305, dtype: object"
      ]
     },
     "execution_count": 6,
     "metadata": {},
     "output_type": "execute_result"
    }
   ],
   "source": [
    "un_df.iloc[2305]"
   ]
  },
  {
   "cell_type": "code",
   "execution_count": 7,
   "metadata": {
    "slideshow": {
     "slide_type": "slide"
    }
   },
   "outputs": [
    {
     "name": "stdout",
     "output_type": "stream",
     "text": [
      "On behalf of His Majesty the Sultan and \n",
      "the people of Brunei Darussalam, I wish to congratulate \n",
      "you, Sir, on your election as President of the General \n",
      "Assembly at its sixty-eighth session. We thank our \n",
      "former President, Mr. Vuk Jeremi., for his efforts and \n",
      "contributions over\n"
     ]
    }
   ],
   "source": [
    "print(un_df.iloc[235]['speech_text'][:280])"
   ]
  },
  {
   "cell_type": "markdown",
   "metadata": {
    "slideshow": {
     "slide_type": "slide"
    }
   },
   "source": [
    "### Word Count"
   ]
  },
  {
   "cell_type": "markdown",
   "metadata": {
    "slideshow": {
     "slide_type": "slide"
    }
   },
   "source": [
    "One the simplest things one might want to know about text is how long is it. This could be useful for basic descriptive questions, such as \"Have UN speeches increased in length over time?\" Word counts are also useful for normalized texts. A 200 word essay with 10 exclamation marks is quite different from a 20,000 word essay with 10 exclamation marks "
   ]
  },
  {
   "cell_type": "code",
   "execution_count": 8,
   "metadata": {
    "slideshow": {
     "slide_type": "skip"
    }
   },
   "outputs": [],
   "source": [
    "from pdtext.tf import word_count"
   ]
  },
  {
   "cell_type": "code",
   "execution_count": 9,
   "metadata": {
    "slideshow": {
     "slide_type": "slide"
    }
   },
   "outputs": [],
   "source": [
    "sentence = \"I wish to congratulate  you, Sir, on your election as President of the General  Assembly\""
   ]
  },
  {
   "cell_type": "code",
   "execution_count": 10,
   "metadata": {
    "slideshow": {
     "slide_type": "slide"
    }
   },
   "outputs": [
    {
     "data": {
      "text/plain": [
       "15"
      ]
     },
     "execution_count": 10,
     "metadata": {},
     "output_type": "execute_result"
    }
   ],
   "source": [
    "word_count(sentence)"
   ]
  },
  {
   "cell_type": "markdown",
   "metadata": {
    "slideshow": {
     "slide_type": "slide"
    }
   },
   "source": [
    "<div class=\"alert alert-info\">\n",
    "<h3> Your turn</h3>\n",
    "<p> Create a new sentence stored as a string. Count the words.  \n",
    "\n",
    "</div>\n",
    "\n"
   ]
  },
  {
   "cell_type": "code",
   "execution_count": null,
   "metadata": {},
   "outputs": [],
   "source": []
  },
  {
   "cell_type": "markdown",
   "metadata": {
    "slideshow": {
     "slide_type": "slide"
    }
   },
   "source": [
    "Now that the function has been imported, it can applied to our text variable, `sotu_text` to create a new variable with the number of words in the address."
   ]
  },
  {
   "cell_type": "code",
   "execution_count": 11,
   "metadata": {
    "slideshow": {
     "slide_type": "slide"
    }
   },
   "outputs": [],
   "source": [
    "un_df['speech_word_count'] = un_df['speech_text'].apply(word_count)"
   ]
  },
  {
   "cell_type": "markdown",
   "metadata": {
    "slideshow": {
     "slide_type": "skip"
    }
   },
   "source": [
    "`describe`, `hist`, and `scatter` can provide some information on the new variable."
   ]
  },
  {
   "cell_type": "code",
   "execution_count": 12,
   "metadata": {
    "slideshow": {
     "slide_type": "slide"
    }
   },
   "outputs": [
    {
     "data": {
      "text/plain": [
       "count     7507.000000\n",
       "mean      2863.695617\n",
       "std       1277.299138\n",
       "min        423.000000\n",
       "25%       1905.500000\n",
       "50%       2608.000000\n",
       "75%       3591.500000\n",
       "max      11473.000000\n",
       "Name: speech_word_count, dtype: float64"
      ]
     },
     "execution_count": 12,
     "metadata": {},
     "output_type": "execute_result"
    }
   ],
   "source": [
    "un_df['speech_word_count'].describe()"
   ]
  },
  {
   "cell_type": "code",
   "execution_count": 13,
   "metadata": {
    "slideshow": {
     "slide_type": "slide"
    }
   },
   "outputs": [
    {
     "data": {
      "text/plain": [
       "<matplotlib.axes._subplots.AxesSubplot at 0x1a18d0ddd8>"
      ]
     },
     "execution_count": 13,
     "metadata": {},
     "output_type": "execute_result"
    },
    {
     "data": {
      "image/png": "[encoded data removed]",
      "text/plain": [
       "<Figure size 432x288 with 1 Axes>"
      ]
     },
     "metadata": {
      "needs_background": "light"
     },
     "output_type": "display_data"
    }
   ],
   "source": [
    "un_df['speech_word_count'].hist(bins = 25)"
   ]
  },
  {
   "cell_type": "code",
   "execution_count": 14,
   "metadata": {},
   "outputs": [
    {
     "data": {
      "text/plain": [
       "<matplotlib.axes._subplots.AxesSubplot at 0x1a18ec0b38>"
      ]
     },
     "execution_count": 14,
     "metadata": {},
     "output_type": "execute_result"
    },
    {
     "data": {
      "image/png": "[encoded data removed]",
      "text/plain": [
       "<Figure size 432x288 with 1 Axes>"
      ]
     },
     "metadata": {
      "needs_background": "light"
     },
     "output_type": "display_data"
    }
   ],
   "source": [
    "sns.boxplot(x = \"speech_year\", \n",
    "            y = \"speech_word_count\",\n",
    "            data =un_df)"
   ]
  },
  {
   "cell_type": "markdown",
   "metadata": {
    "slideshow": {
     "slide_type": "skip"
    }
   },
   "source": [
    "The dataset can be subset to just a few informative columns and then the `sort_values` and `head`/`tail` methods can list the longest and shortest addresses."
   ]
  },
  {
   "cell_type": "code",
   "execution_count": 15,
   "metadata": {
    "slideshow": {
     "slide_type": "fragment"
    }
   },
   "outputs": [
    {
     "data": {
      "text/html": [
       "<div>\n",
       "<style scoped>\n",
       "    .dataframe tbody tr th:only-of-type {\n",
       "        vertical-align: middle;\n",
       "    }\n",
       "\n",
       "    .dataframe tbody tr th {\n",
       "        vertical-align: top;\n",
       "    }\n",
       "\n",
       "    .dataframe thead th {\n",
       "        text-align: right;\n",
       "    }\n",
       "</style>\n",
       "<table border=\"1\" class=\"dataframe\">\n",
       "  <thead>\n",
       "    <tr style=\"text-align: right;\">\n",
       "      <th></th>\n",
       "      <th>country_code</th>\n",
       "      <th>speech_text</th>\n",
       "      <th>speech_year</th>\n",
       "      <th>speech_word_count</th>\n",
       "    </tr>\n",
       "  </thead>\n",
       "  <tbody>\n",
       "    <tr>\n",
       "      <th>6610</th>\n",
       "      <td>EGY</td>\n",
       "      <td>﻿78.\\tBecause we are determined not to neglect...</td>\n",
       "      <td>1973</td>\n",
       "      <td>423</td>\n",
       "    </tr>\n",
       "    <tr>\n",
       "      <th>993</th>\n",
       "      <td>VCT</td>\n",
       "      <td>On behalf of the Government and people of Sai...</td>\n",
       "      <td>1986</td>\n",
       "      <td>462</td>\n",
       "    </tr>\n",
       "    <tr>\n",
       "      <th>6434</th>\n",
       "      <td>DDR</td>\n",
       "      <td>﻿Mr. President, I wish to thank you on behalf ...</td>\n",
       "      <td>1990</td>\n",
       "      <td>493</td>\n",
       "    </tr>\n",
       "    <tr>\n",
       "      <th>5010</th>\n",
       "      <td>RWA</td>\n",
       "      <td>I want to start by congratulating \\nyou, Sir, ...</td>\n",
       "      <td>2014</td>\n",
       "      <td>523</td>\n",
       "    </tr>\n",
       "    <tr>\n",
       "      <th>5541</th>\n",
       "      <td>RWA</td>\n",
       "      <td>The adoption of the Sustainable Development Go...</td>\n",
       "      <td>2015</td>\n",
       "      <td>539</td>\n",
       "    </tr>\n",
       "    <tr>\n",
       "      <th>2238</th>\n",
       "      <td>JOR</td>\n",
       "      <td>More than ever before, our \\nworld is confront...</td>\n",
       "      <td>2010</td>\n",
       "      <td>563</td>\n",
       "    </tr>\n",
       "    <tr>\n",
       "      <th>603</th>\n",
       "      <td>QAT</td>\n",
       "      <td>I should like \\nat the outset to congratulate ...</td>\n",
       "      <td>2008</td>\n",
       "      <td>567</td>\n",
       "    </tr>\n",
       "    <tr>\n",
       "      <th>6951</th>\n",
       "      <td>JOR</td>\n",
       "      <td>May I extend \\nthe warmest congratulations to ...</td>\n",
       "      <td>2006</td>\n",
       "      <td>571</td>\n",
       "    </tr>\n",
       "    <tr>\n",
       "      <th>1892</th>\n",
       "      <td>SYC</td>\n",
       "      <td>﻿I take this opportunity to congratulate you, ...</td>\n",
       "      <td>1997</td>\n",
       "      <td>597</td>\n",
       "    </tr>\n",
       "    <tr>\n",
       "      <th>6576</th>\n",
       "      <td>YDYE</td>\n",
       "      <td>﻿1.\\tI have the pleasure to congratulate Ambas...</td>\n",
       "      <td>1973</td>\n",
       "      <td>620</td>\n",
       "    </tr>\n",
       "  </tbody>\n",
       "</table>\n",
       "</div>"
      ],
      "text/plain": [
       "     country_code                                        speech_text  \\\n",
       "6610          EGY  ﻿78.\\tBecause we are determined not to neglect...   \n",
       "993           VCT   On behalf of the Government and people of Sai...   \n",
       "6434          DDR  ﻿Mr. President, I wish to thank you on behalf ...   \n",
       "5010          RWA  I want to start by congratulating \\nyou, Sir, ...   \n",
       "5541          RWA  The adoption of the Sustainable Development Go...   \n",
       "2238          JOR  More than ever before, our \\nworld is confront...   \n",
       "603           QAT  I should like \\nat the outset to congratulate ...   \n",
       "6951          JOR  May I extend \\nthe warmest congratulations to ...   \n",
       "1892          SYC  ﻿I take this opportunity to congratulate you, ...   \n",
       "6576         YDYE  ﻿1.\\tI have the pleasure to congratulate Ambas...   \n",
       "\n",
       "      speech_year  speech_word_count  \n",
       "6610         1973                423  \n",
       "993          1986                462  \n",
       "6434         1990                493  \n",
       "5010         2014                523  \n",
       "5541         2015                539  \n",
       "2238         2010                563  \n",
       "603          2008                567  \n",
       "6951         2006                571  \n",
       "1892         1997                597  \n",
       "6576         1973                620  "
      ]
     },
     "execution_count": 15,
     "metadata": {},
     "output_type": "execute_result"
    }
   ],
   "source": [
    "un_df.sort_values(by='speech_word_count').head(10)"
   ]
  },
  {
   "cell_type": "code",
   "execution_count": 16,
   "metadata": {
    "slideshow": {
     "slide_type": "slide"
    }
   },
   "outputs": [
    {
     "data": {
      "text/html": [
       "<div>\n",
       "<style scoped>\n",
       "    .dataframe tbody tr th:only-of-type {\n",
       "        vertical-align: middle;\n",
       "    }\n",
       "\n",
       "    .dataframe tbody tr th {\n",
       "        vertical-align: top;\n",
       "    }\n",
       "\n",
       "    .dataframe thead th {\n",
       "        text-align: right;\n",
       "    }\n",
       "</style>\n",
       "<table border=\"1\" class=\"dataframe\">\n",
       "  <thead>\n",
       "    <tr style=\"text-align: right;\">\n",
       "      <th></th>\n",
       "      <th>country_code</th>\n",
       "      <th>speech_text</th>\n",
       "      <th>speech_year</th>\n",
       "      <th>speech_word_count</th>\n",
       "    </tr>\n",
       "  </thead>\n",
       "  <tbody>\n",
       "    <tr>\n",
       "      <th>3433</th>\n",
       "      <td>CUB</td>\n",
       "      <td>﻿I have not come to speak about Cuba, I have n...</td>\n",
       "      <td>1979</td>\n",
       "      <td>11473</td>\n",
       "    </tr>\n",
       "    <tr>\n",
       "      <th>2800</th>\n",
       "      <td>LBY</td>\n",
       "      <td>In the \\nname of the African Union, I would li...</td>\n",
       "      <td>2009</td>\n",
       "      <td>10342</td>\n",
       "    </tr>\n",
       "    <tr>\n",
       "      <th>5327</th>\n",
       "      <td>BFA</td>\n",
       "      <td>Taking the floor for the first time before thi...</td>\n",
       "      <td>1974</td>\n",
       "      <td>10244</td>\n",
       "    </tr>\n",
       "    <tr>\n",
       "      <th>4054</th>\n",
       "      <td>PAN</td>\n",
       "      <td>Mr. President, your many years of association ...</td>\n",
       "      <td>1982</td>\n",
       "      <td>10007</td>\n",
       "    </tr>\n",
       "    <tr>\n",
       "      <th>6581</th>\n",
       "      <td>CUB</td>\n",
       "      <td>﻿177.\\t Mr. President, I am extremely happy to...</td>\n",
       "      <td>1973</td>\n",
       "      <td>9820</td>\n",
       "    </tr>\n",
       "    <tr>\n",
       "      <th>2471</th>\n",
       "      <td>IRL</td>\n",
       "      <td>﻿104. I have the honour of addressing the Gene...</td>\n",
       "      <td>1984</td>\n",
       "      <td>9612</td>\n",
       "    </tr>\n",
       "    <tr>\n",
       "      <th>1263</th>\n",
       "      <td>UGA</td>\n",
       "      <td>71.\\tAs a true African I do not want to speak ...</td>\n",
       "      <td>1975</td>\n",
       "      <td>9298</td>\n",
       "    </tr>\n",
       "    <tr>\n",
       "      <th>6565</th>\n",
       "      <td>COD</td>\n",
       "      <td>﻿88.\\t Mr. President, first of all may I thank...</td>\n",
       "      <td>1973</td>\n",
       "      <td>9218</td>\n",
       "    </tr>\n",
       "    <tr>\n",
       "      <th>3308</th>\n",
       "      <td>PRY</td>\n",
       "      <td>﻿238.\\tMr. President, my first words will\\nbe ...</td>\n",
       "      <td>1983</td>\n",
       "      <td>9115</td>\n",
       "    </tr>\n",
       "    <tr>\n",
       "      <th>6546</th>\n",
       "      <td>ALB</td>\n",
       "      <td>﻿86.\\tMr. President, on behalf of the People's...</td>\n",
       "      <td>1973</td>\n",
       "      <td>8813</td>\n",
       "    </tr>\n",
       "  </tbody>\n",
       "</table>\n",
       "</div>"
      ],
      "text/plain": [
       "     country_code                                        speech_text  \\\n",
       "3433          CUB  ﻿I have not come to speak about Cuba, I have n...   \n",
       "2800          LBY  In the \\nname of the African Union, I would li...   \n",
       "5327          BFA  Taking the floor for the first time before thi...   \n",
       "4054          PAN  Mr. President, your many years of association ...   \n",
       "6581          CUB  ﻿177.\\t Mr. President, I am extremely happy to...   \n",
       "2471          IRL  ﻿104. I have the honour of addressing the Gene...   \n",
       "1263          UGA  71.\\tAs a true African I do not want to speak ...   \n",
       "6565          COD  ﻿88.\\t Mr. President, first of all may I thank...   \n",
       "3308          PRY  ﻿238.\\tMr. President, my first words will\\nbe ...   \n",
       "6546          ALB  ﻿86.\\tMr. President, on behalf of the People's...   \n",
       "\n",
       "      speech_year  speech_word_count  \n",
       "3433         1979              11473  \n",
       "2800         2009              10342  \n",
       "5327         1974              10244  \n",
       "4054         1982              10007  \n",
       "6581         1973               9820  \n",
       "2471         1984               9612  \n",
       "1263         1975               9298  \n",
       "6565         1973               9218  \n",
       "3308         1983               9115  \n",
       "6546         1973               8813  "
      ]
     },
     "execution_count": 16,
     "metadata": {},
     "output_type": "execute_result"
    }
   ],
   "source": [
    "un_df.sort_values(by='speech_word_count', ascending=False).head(10)"
   ]
  },
  {
   "cell_type": "code",
   "execution_count": 17,
   "metadata": {},
   "outputs": [
    {
     "name": "stdout",
     "output_type": "stream",
     "text": [
      "﻿I have not come to speak about Cuba, I have not come to denounce in this Assembly the attacks to which our small but worthy country has been subjected for 20 years. Nor have I come to wound with unne\n"
     ]
    }
   ],
   "source": [
    "print(un_df.iloc[3433]['speech_text'][:200])"
   ]
  },
  {
   "cell_type": "markdown",
   "metadata": {
    "slideshow": {
     "slide_type": "skip"
    }
   },
   "source": [
    "Cuba and Libyan leaders are the longwinded."
   ]
  },
  {
   "cell_type": "markdown",
   "metadata": {
    "slideshow": {
     "slide_type": "slide"
    }
   },
   "source": [
    "<div class=\"alert alert-info\">\n",
    "<h3> Your turn</h3>\n",
    "<p> Work as a team. Open a new notebook. In the `files` folder, there is a file called \"wine_reviews.csv\" which contains written reviews (`description`) and scores (`points`, `rating`).\n",
    "What is the average (median) number of words in a review? Make a plot or two.\n",
    "\n",
    "\n",
    "</div>\n"
   ]
  },
  {
   "cell_type": "code",
   "execution_count": null,
   "metadata": {},
   "outputs": [],
   "source": []
  },
  {
   "cell_type": "markdown",
   "metadata": {
    "slideshow": {
     "slide_type": "slide"
    }
   },
   "source": [
    "#### Word frequencies"
   ]
  },
  {
   "cell_type": "markdown",
   "metadata": {
    "slideshow": {
     "slide_type": "slide"
    }
   },
   "source": [
    "```Oz is strong, Oz is proud, and Oz is free.```\n",
    "\n",
    "into something like:\n",
    "\n",
    "| oz | and | free | is | proud | strong |\n",
    "|:-------:|-----|------|----|-------|--------|\n",
    "| 3       | 1   | 1    | 3  | 1     |    1   |\n",
    "\n"
   ]
  },
  {
   "cell_type": "markdown",
   "metadata": {
    "slideshow": {
     "slide_type": "slide"
    }
   },
   "source": [
    "```Oz is strong, Oz is proud, and Oz is free.```\n",
    "\n",
    "\n",
    "|word|freq|\n",
    "|---|---|\n",
    "|america|3|\n",
    "|and|1|\n",
    "|free|1|\n",
    "|is|3|\n",
    "|proud|1|\n",
    "|strong|1|"
   ]
  },
  {
   "cell_type": "markdown",
   "metadata": {
    "slideshow": {
     "slide_type": "skip"
    }
   },
   "source": [
    "Word frequencies are the backbone of almost all text analysis. From topic models to text classification, counting how often certain words occur is a critical step in quantifying texts. While it is certainly possible to compute word frequencies using your own functions, that is usually unnecessary, as many Python libraries can compute words frequencies. \n",
    "\n",
    "\n",
    "If you don't really care about which specific words are in a text, but are mostly using them for subsequent statistical analysis, you'll likely need them in the first, wide format. Here each text is a row and each word a variable. This is the modal format for how text is interpreted as numbers. \n",
    "\n",
    "Alternatively, if you want to know about which specific words, or types of words, are most common, you might favor the second, long approach. \n",
    "\n",
    "In either case, note that the ordering of words in the original sentence. With few notable exceptions, analysts take what is called a bag-of-words approach. This simplifying assumption, that word order doesn't really matter, has two things going for it. First, it is computationally much easier to assume that order of words in a sentence doesn't matter. Second, the results, as you will see, are often pretty solid. Fields like sociology, which is based on the idea that individuals are shaped by their surroundings, analyze individual survey data frequently to great success. Bag-of-words is like that. We know context matters, but modeling strategies that ignore this can still provide fairly good estimates.\n"
   ]
  },
  {
   "cell_type": "code",
   "execution_count": 18,
   "metadata": {
    "slideshow": {
     "slide_type": "slide"
    }
   },
   "outputs": [],
   "source": [
    "from pdtext.tf import make_wf_df"
   ]
  },
  {
   "cell_type": "markdown",
   "metadata": {
    "slideshow": {
     "slide_type": "slide"
    }
   },
   "source": [
    "We start off with some sample sentences."
   ]
  },
  {
   "cell_type": "code",
   "execution_count": 19,
   "metadata": {
    "slideshow": {
     "slide_type": "fragment"
    }
   },
   "outputs": [],
   "source": [
    "sentences = ['Unequal exchange is ruining and impoverishing our peoples and must cease.',\n",
    "            'Arms expenditures are irrational.', \n",
    "             'They must cease and the funds thus released must be used to finance development.']"
   ]
  },
  {
   "cell_type": "code",
   "execution_count": 21,
   "metadata": {},
   "outputs": [],
   "source": [
    "wf_df = make_wf_df(sentences)"
   ]
  },
  {
   "cell_type": "code",
   "execution_count": 22,
   "metadata": {},
   "outputs": [
    {
     "data": {
      "text/html": [
       "<div>\n",
       "<style scoped>\n",
       "    .dataframe tbody tr th:only-of-type {\n",
       "        vertical-align: middle;\n",
       "    }\n",
       "\n",
       "    .dataframe tbody tr th {\n",
       "        vertical-align: top;\n",
       "    }\n",
       "\n",
       "    .dataframe thead th {\n",
       "        text-align: right;\n",
       "    }\n",
       "</style>\n",
       "<table border=\"1\" class=\"dataframe\">\n",
       "  <thead>\n",
       "    <tr style=\"text-align: right;\">\n",
       "      <th></th>\n",
       "      <th>and</th>\n",
       "      <th>are</th>\n",
       "      <th>arms</th>\n",
       "      <th>be</th>\n",
       "      <th>cease</th>\n",
       "      <th>development</th>\n",
       "      <th>exchange</th>\n",
       "      <th>expenditures</th>\n",
       "      <th>finance</th>\n",
       "      <th>funds</th>\n",
       "      <th>...</th>\n",
       "      <th>our</th>\n",
       "      <th>peoples</th>\n",
       "      <th>released</th>\n",
       "      <th>ruining</th>\n",
       "      <th>the</th>\n",
       "      <th>they</th>\n",
       "      <th>thus</th>\n",
       "      <th>to</th>\n",
       "      <th>unequal</th>\n",
       "      <th>used</th>\n",
       "    </tr>\n",
       "  </thead>\n",
       "  <tbody>\n",
       "    <tr>\n",
       "      <th>0</th>\n",
       "      <td>2</td>\n",
       "      <td>0</td>\n",
       "      <td>0</td>\n",
       "      <td>0</td>\n",
       "      <td>1</td>\n",
       "      <td>0</td>\n",
       "      <td>1</td>\n",
       "      <td>0</td>\n",
       "      <td>0</td>\n",
       "      <td>0</td>\n",
       "      <td>...</td>\n",
       "      <td>1</td>\n",
       "      <td>1</td>\n",
       "      <td>0</td>\n",
       "      <td>1</td>\n",
       "      <td>0</td>\n",
       "      <td>0</td>\n",
       "      <td>0</td>\n",
       "      <td>0</td>\n",
       "      <td>1</td>\n",
       "      <td>0</td>\n",
       "    </tr>\n",
       "    <tr>\n",
       "      <th>1</th>\n",
       "      <td>0</td>\n",
       "      <td>1</td>\n",
       "      <td>1</td>\n",
       "      <td>0</td>\n",
       "      <td>0</td>\n",
       "      <td>0</td>\n",
       "      <td>0</td>\n",
       "      <td>1</td>\n",
       "      <td>0</td>\n",
       "      <td>0</td>\n",
       "      <td>...</td>\n",
       "      <td>0</td>\n",
       "      <td>0</td>\n",
       "      <td>0</td>\n",
       "      <td>0</td>\n",
       "      <td>0</td>\n",
       "      <td>0</td>\n",
       "      <td>0</td>\n",
       "      <td>0</td>\n",
       "      <td>0</td>\n",
       "      <td>0</td>\n",
       "    </tr>\n",
       "    <tr>\n",
       "      <th>2</th>\n",
       "      <td>1</td>\n",
       "      <td>0</td>\n",
       "      <td>0</td>\n",
       "      <td>1</td>\n",
       "      <td>1</td>\n",
       "      <td>1</td>\n",
       "      <td>0</td>\n",
       "      <td>0</td>\n",
       "      <td>1</td>\n",
       "      <td>1</td>\n",
       "      <td>...</td>\n",
       "      <td>0</td>\n",
       "      <td>0</td>\n",
       "      <td>1</td>\n",
       "      <td>0</td>\n",
       "      <td>1</td>\n",
       "      <td>1</td>\n",
       "      <td>1</td>\n",
       "      <td>1</td>\n",
       "      <td>0</td>\n",
       "      <td>1</td>\n",
       "    </tr>\n",
       "  </tbody>\n",
       "</table>\n",
       "<p>3 rows × 24 columns</p>\n",
       "</div>"
      ],
      "text/plain": [
       "   and  are  arms  be  cease  development  exchange  expenditures  finance  \\\n",
       "0    2    0     0   0      1            0         1             0        0   \n",
       "1    0    1     1   0      0            0         0             1        0   \n",
       "2    1    0     0   1      1            1         0             0        1   \n",
       "\n",
       "   funds  ...  our  peoples  released  ruining  the  they  thus  to  unequal  \\\n",
       "0      0  ...    1        1         0        1    0     0     0   0        1   \n",
       "1      0  ...    0        0         0        0    0     0     0   0        0   \n",
       "2      1  ...    0        0         1        0    1     1     1   1        0   \n",
       "\n",
       "   used  \n",
       "0     0  \n",
       "1     0  \n",
       "2     1  \n",
       "\n",
       "[3 rows x 24 columns]"
      ]
     },
     "execution_count": 22,
     "metadata": {},
     "output_type": "execute_result"
    }
   ],
   "source": [
    "wf_df"
   ]
  },
  {
   "cell_type": "markdown",
   "metadata": {},
   "source": [
    "We can create a variable in the dataframe with the original texts. Since `sentences` is a list of two items, and because we know the the order of `sentences` matches the order of `df`, it is fairly straightfoward to add the new column."
   ]
  },
  {
   "cell_type": "code",
   "execution_count": 23,
   "metadata": {},
   "outputs": [],
   "source": [
    "wf_df['sentence'] = sentences"
   ]
  },
  {
   "cell_type": "code",
   "execution_count": 24,
   "metadata": {},
   "outputs": [
    {
     "data": {
      "text/html": [
       "<div>\n",
       "<style scoped>\n",
       "    .dataframe tbody tr th:only-of-type {\n",
       "        vertical-align: middle;\n",
       "    }\n",
       "\n",
       "    .dataframe tbody tr th {\n",
       "        vertical-align: top;\n",
       "    }\n",
       "\n",
       "    .dataframe thead th {\n",
       "        text-align: right;\n",
       "    }\n",
       "</style>\n",
       "<table border=\"1\" class=\"dataframe\">\n",
       "  <thead>\n",
       "    <tr style=\"text-align: right;\">\n",
       "      <th></th>\n",
       "      <th>and</th>\n",
       "      <th>are</th>\n",
       "      <th>arms</th>\n",
       "      <th>be</th>\n",
       "      <th>cease</th>\n",
       "      <th>development</th>\n",
       "      <th>exchange</th>\n",
       "      <th>expenditures</th>\n",
       "      <th>finance</th>\n",
       "      <th>funds</th>\n",
       "      <th>...</th>\n",
       "      <th>peoples</th>\n",
       "      <th>released</th>\n",
       "      <th>ruining</th>\n",
       "      <th>the</th>\n",
       "      <th>they</th>\n",
       "      <th>thus</th>\n",
       "      <th>to</th>\n",
       "      <th>unequal</th>\n",
       "      <th>used</th>\n",
       "      <th>sentence</th>\n",
       "    </tr>\n",
       "  </thead>\n",
       "  <tbody>\n",
       "    <tr>\n",
       "      <th>0</th>\n",
       "      <td>2</td>\n",
       "      <td>0</td>\n",
       "      <td>0</td>\n",
       "      <td>0</td>\n",
       "      <td>1</td>\n",
       "      <td>0</td>\n",
       "      <td>1</td>\n",
       "      <td>0</td>\n",
       "      <td>0</td>\n",
       "      <td>0</td>\n",
       "      <td>...</td>\n",
       "      <td>1</td>\n",
       "      <td>0</td>\n",
       "      <td>1</td>\n",
       "      <td>0</td>\n",
       "      <td>0</td>\n",
       "      <td>0</td>\n",
       "      <td>0</td>\n",
       "      <td>1</td>\n",
       "      <td>0</td>\n",
       "      <td>Unequal exchange is ruining and impoverishing ...</td>\n",
       "    </tr>\n",
       "    <tr>\n",
       "      <th>1</th>\n",
       "      <td>0</td>\n",
       "      <td>1</td>\n",
       "      <td>1</td>\n",
       "      <td>0</td>\n",
       "      <td>0</td>\n",
       "      <td>0</td>\n",
       "      <td>0</td>\n",
       "      <td>1</td>\n",
       "      <td>0</td>\n",
       "      <td>0</td>\n",
       "      <td>...</td>\n",
       "      <td>0</td>\n",
       "      <td>0</td>\n",
       "      <td>0</td>\n",
       "      <td>0</td>\n",
       "      <td>0</td>\n",
       "      <td>0</td>\n",
       "      <td>0</td>\n",
       "      <td>0</td>\n",
       "      <td>0</td>\n",
       "      <td>Arms expenditures are irrational.</td>\n",
       "    </tr>\n",
       "    <tr>\n",
       "      <th>2</th>\n",
       "      <td>1</td>\n",
       "      <td>0</td>\n",
       "      <td>0</td>\n",
       "      <td>1</td>\n",
       "      <td>1</td>\n",
       "      <td>1</td>\n",
       "      <td>0</td>\n",
       "      <td>0</td>\n",
       "      <td>1</td>\n",
       "      <td>1</td>\n",
       "      <td>...</td>\n",
       "      <td>0</td>\n",
       "      <td>1</td>\n",
       "      <td>0</td>\n",
       "      <td>1</td>\n",
       "      <td>1</td>\n",
       "      <td>1</td>\n",
       "      <td>1</td>\n",
       "      <td>0</td>\n",
       "      <td>1</td>\n",
       "      <td>They must cease and the funds thus released mu...</td>\n",
       "    </tr>\n",
       "  </tbody>\n",
       "</table>\n",
       "<p>3 rows × 25 columns</p>\n",
       "</div>"
      ],
      "text/plain": [
       "   and  are  arms  be  cease  development  exchange  expenditures  finance  \\\n",
       "0    2    0     0   0      1            0         1             0        0   \n",
       "1    0    1     1   0      0            0         0             1        0   \n",
       "2    1    0     0   1      1            1         0             0        1   \n",
       "\n",
       "   funds  ...  peoples  released  ruining  the  they  thus  to  unequal  used  \\\n",
       "0      0  ...        1         0        1    0     0     0   0        1     0   \n",
       "1      0  ...        0         0        0    0     0     0   0        0     0   \n",
       "2      1  ...        0         1        0    1     1     1   1        0     1   \n",
       "\n",
       "                                            sentence  \n",
       "0  Unequal exchange is ruining and impoverishing ...  \n",
       "1                  Arms expenditures are irrational.  \n",
       "2  They must cease and the funds thus released mu...  \n",
       "\n",
       "[3 rows x 25 columns]"
      ]
     },
     "execution_count": 24,
     "metadata": {},
     "output_type": "execute_result"
    }
   ],
   "source": [
    "wf_df"
   ]
  },
  {
   "cell_type": "markdown",
   "metadata": {
    "slideshow": {
     "slide_type": "slide"
    }
   },
   "source": [
    "<div class=\"alert alert-info\">\n",
    "<h3> Your turn</h3>\n",
    "<p> Create a word frequency dataframe based on the following sentences.\n",
    "</div>"
   ]
  },
  {
   "cell_type": "code",
   "execution_count": 25,
   "metadata": {},
   "outputs": [],
   "source": [
    "seuss_sen = ['This one has a little star.', \n",
    "            'This one has a little car.', \n",
    "            'Say!',\n",
    "            'What a lot of fish there are.']"
   ]
  },
  {
   "cell_type": "code",
   "execution_count": null,
   "metadata": {},
   "outputs": [],
   "source": []
  },
  {
   "cell_type": "markdown",
   "metadata": {
    "slideshow": {
     "slide_type": "slide"
    }
   },
   "source": [
    "If instead, we wanted the most frequent words, we could use the summary option."
   ]
  },
  {
   "cell_type": "code",
   "execution_count": 26,
   "metadata": {
    "slideshow": {
     "slide_type": "fragment"
    }
   },
   "outputs": [
    {
     "data": {
      "text/plain": [
       "and              3\n",
       "must             3\n",
       "cease            2\n",
       "impoverishing    1\n",
       "are              1\n",
       "arms             1\n",
       "be               1\n",
       "development      1\n",
       "exchange         1\n",
       "expenditures     1\n",
       "finance          1\n",
       "funds            1\n",
       "used             1\n",
       "unequal          1\n",
       "is               1\n",
       "our              1\n",
       "peoples          1\n",
       "released         1\n",
       "ruining          1\n",
       "the              1\n",
       "they             1\n",
       "thus             1\n",
       "to               1\n",
       "irrational       1\n",
       "dtype: int64"
      ]
     },
     "execution_count": 26,
     "metadata": {},
     "output_type": "execute_result"
    }
   ],
   "source": [
    "make_wf_df(sentences, summary = True)"
   ]
  },
  {
   "cell_type": "markdown",
   "metadata": {
    "slideshow": {
     "slide_type": "-"
    }
   },
   "source": [
    "<div class=\"alert alert-info\">\n",
    "<h3> Your turn</h3>\n",
    "<p> Create a word frequency datframe from our Suess sentences.\n",
    "</div>"
   ]
  },
  {
   "cell_type": "code",
   "execution_count": null,
   "metadata": {
    "slideshow": {
     "slide_type": "slide"
    }
   },
   "outputs": [],
   "source": []
  },
  {
   "cell_type": "markdown",
   "metadata": {
    "slideshow": {
     "slide_type": "slide"
    }
   },
   "source": [
    "We can now create a new dataframe based on the UN texts"
   ]
  },
  {
   "cell_type": "code",
   "execution_count": 27,
   "metadata": {
    "slideshow": {
     "slide_type": "slide"
    }
   },
   "outputs": [],
   "source": [
    "un_wf = make_wf_df(un_df['speech_text'])"
   ]
  },
  {
   "cell_type": "markdown",
   "metadata": {
    "slideshow": {
     "slide_type": "slide"
    }
   },
   "source": [
    "This rebuilt our vocabulary list, which is now much longer."
   ]
  },
  {
   "cell_type": "code",
   "execution_count": 28,
   "metadata": {
    "slideshow": {
     "slide_type": "fragment"
    }
   },
   "outputs": [
    {
     "data": {
      "text/plain": [
       "54980"
      ]
     },
     "execution_count": 28,
     "metadata": {},
     "output_type": "execute_result"
    }
   ],
   "source": [
    "len(un_wf.keys())"
   ]
  },
  {
   "cell_type": "markdown",
   "metadata": {
    "slideshow": {
     "slide_type": "slide"
    }
   },
   "source": [
    "We can use slice to examine an arbitrary section of the vocabulary."
   ]
  },
  {
   "cell_type": "code",
   "execution_count": 29,
   "metadata": {
    "slideshow": {
     "slide_type": "fragment"
    }
   },
   "outputs": [
    {
     "data": {
      "text/plain": [
       "Index(['colonizing', 'colons', 'colony', 'color', 'colorado', 'coloration',\n",
       "       'colored', 'coloreds', 'colorful', 'coloring'],\n",
       "      dtype='object')"
      ]
     },
     "execution_count": 29,
     "metadata": {},
     "output_type": "execute_result"
    }
   ],
   "source": [
    "un_wf.keys()[11510:11520]"
   ]
  },
  {
   "cell_type": "code",
   "execution_count": 30,
   "metadata": {
    "slideshow": {
     "slide_type": "slide"
    }
   },
   "outputs": [
    {
     "data": {
      "text/html": [
       "<div>\n",
       "<style scoped>\n",
       "    .dataframe tbody tr th:only-of-type {\n",
       "        vertical-align: middle;\n",
       "    }\n",
       "\n",
       "    .dataframe tbody tr th {\n",
       "        vertical-align: top;\n",
       "    }\n",
       "\n",
       "    .dataframe thead th {\n",
       "        text-align: right;\n",
       "    }\n",
       "</style>\n",
       "<table border=\"1\" class=\"dataframe\">\n",
       "  <thead>\n",
       "    <tr style=\"text-align: right;\">\n",
       "      <th></th>\n",
       "      <th>0</th>\n",
       "      <th>00</th>\n",
       "      <th>000</th>\n",
       "      <th>0001</th>\n",
       "      <th>000yearlong</th>\n",
       "      <th>001</th>\n",
       "      <th>003</th>\n",
       "      <th>005</th>\n",
       "      <th>006</th>\n",
       "      <th>007</th>\n",
       "      <th>...</th>\n",
       "      <th>у</th>\n",
       "      <th>хxi24</th>\n",
       "      <th>ч</th>\n",
       "      <th>ш</th>\n",
       "      <th>ш1оп</th>\n",
       "      <th>ш1ь1а</th>\n",
       "      <th>щ</th>\n",
       "      <th>ь</th>\n",
       "      <th>ьо1л</th>\n",
       "      <th>ю</th>\n",
       "    </tr>\n",
       "  </thead>\n",
       "  <tbody>\n",
       "    <tr>\n",
       "      <th>0</th>\n",
       "      <td>2</td>\n",
       "      <td>0</td>\n",
       "      <td>0</td>\n",
       "      <td>0</td>\n",
       "      <td>0</td>\n",
       "      <td>0</td>\n",
       "      <td>0</td>\n",
       "      <td>0</td>\n",
       "      <td>0</td>\n",
       "      <td>0</td>\n",
       "      <td>...</td>\n",
       "      <td>0</td>\n",
       "      <td>0</td>\n",
       "      <td>0</td>\n",
       "      <td>0</td>\n",
       "      <td>0</td>\n",
       "      <td>0</td>\n",
       "      <td>0</td>\n",
       "      <td>0</td>\n",
       "      <td>0</td>\n",
       "      <td>0</td>\n",
       "    </tr>\n",
       "    <tr>\n",
       "      <th>1</th>\n",
       "      <td>1</td>\n",
       "      <td>0</td>\n",
       "      <td>2</td>\n",
       "      <td>0</td>\n",
       "      <td>0</td>\n",
       "      <td>0</td>\n",
       "      <td>0</td>\n",
       "      <td>0</td>\n",
       "      <td>0</td>\n",
       "      <td>0</td>\n",
       "      <td>...</td>\n",
       "      <td>0</td>\n",
       "      <td>0</td>\n",
       "      <td>0</td>\n",
       "      <td>0</td>\n",
       "      <td>0</td>\n",
       "      <td>0</td>\n",
       "      <td>0</td>\n",
       "      <td>0</td>\n",
       "      <td>0</td>\n",
       "      <td>0</td>\n",
       "    </tr>\n",
       "    <tr>\n",
       "      <th>2</th>\n",
       "      <td>0</td>\n",
       "      <td>0</td>\n",
       "      <td>0</td>\n",
       "      <td>0</td>\n",
       "      <td>0</td>\n",
       "      <td>0</td>\n",
       "      <td>0</td>\n",
       "      <td>0</td>\n",
       "      <td>0</td>\n",
       "      <td>0</td>\n",
       "      <td>...</td>\n",
       "      <td>0</td>\n",
       "      <td>0</td>\n",
       "      <td>0</td>\n",
       "      <td>0</td>\n",
       "      <td>0</td>\n",
       "      <td>0</td>\n",
       "      <td>0</td>\n",
       "      <td>0</td>\n",
       "      <td>0</td>\n",
       "      <td>0</td>\n",
       "    </tr>\n",
       "    <tr>\n",
       "      <th>3</th>\n",
       "      <td>0</td>\n",
       "      <td>0</td>\n",
       "      <td>0</td>\n",
       "      <td>0</td>\n",
       "      <td>0</td>\n",
       "      <td>0</td>\n",
       "      <td>0</td>\n",
       "      <td>0</td>\n",
       "      <td>0</td>\n",
       "      <td>0</td>\n",
       "      <td>...</td>\n",
       "      <td>0</td>\n",
       "      <td>0</td>\n",
       "      <td>0</td>\n",
       "      <td>0</td>\n",
       "      <td>0</td>\n",
       "      <td>0</td>\n",
       "      <td>0</td>\n",
       "      <td>0</td>\n",
       "      <td>0</td>\n",
       "      <td>0</td>\n",
       "    </tr>\n",
       "    <tr>\n",
       "      <th>4</th>\n",
       "      <td>0</td>\n",
       "      <td>0</td>\n",
       "      <td>0</td>\n",
       "      <td>0</td>\n",
       "      <td>0</td>\n",
       "      <td>0</td>\n",
       "      <td>0</td>\n",
       "      <td>0</td>\n",
       "      <td>0</td>\n",
       "      <td>0</td>\n",
       "      <td>...</td>\n",
       "      <td>0</td>\n",
       "      <td>0</td>\n",
       "      <td>0</td>\n",
       "      <td>0</td>\n",
       "      <td>0</td>\n",
       "      <td>0</td>\n",
       "      <td>0</td>\n",
       "      <td>0</td>\n",
       "      <td>0</td>\n",
       "      <td>0</td>\n",
       "    </tr>\n",
       "  </tbody>\n",
       "</table>\n",
       "<p>5 rows × 54980 columns</p>\n",
       "</div>"
      ],
      "text/plain": [
       "   0  00  000  0001  000yearlong  001  003  005  006  007  ...  у  хxi24  ч  \\\n",
       "0  2   0    0     0            0    0    0    0    0    0  ...  0      0  0   \n",
       "1  1   0    2     0            0    0    0    0    0    0  ...  0      0  0   \n",
       "2  0   0    0     0            0    0    0    0    0    0  ...  0      0  0   \n",
       "3  0   0    0     0            0    0    0    0    0    0  ...  0      0  0   \n",
       "4  0   0    0     0            0    0    0    0    0    0  ...  0      0  0   \n",
       "\n",
       "   ш  ш1оп  ш1ь1а  щ  ь  ьо1л  ю  \n",
       "0  0     0      0  0  0     0  0  \n",
       "1  0     0      0  0  0     0  0  \n",
       "2  0     0      0  0  0     0  0  \n",
       "3  0     0      0  0  0     0  0  \n",
       "4  0     0      0  0  0     0  0  \n",
       "\n",
       "[5 rows x 54980 columns]"
      ]
     },
     "execution_count": 30,
     "metadata": {},
     "output_type": "execute_result"
    }
   ],
   "source": [
    "un_wf.head()"
   ]
  },
  {
   "cell_type": "code",
   "execution_count": 39,
   "metadata": {
    "slideshow": {
     "slide_type": "slide"
    }
   },
   "outputs": [
    {
     "data": {
      "text/plain": [
       "the        1899856\n",
       "of         1157672\n",
       "and         797094\n",
       "to          735169\n",
       "in          523852\n",
       "a           340669\n",
       "that        314683\n",
       "is          241832\n",
       "for         230472\n",
       "we          220360\n",
       "on          164270\n",
       "this        140718\n",
       "our         139917\n",
       "be          138408\n",
       "it          138368\n",
       "as          135677\n",
       "with        128166\n",
       "by          127714\n",
       "nations     124783\n",
       "are         121995\n",
       "dtype: int64"
      ]
     },
     "execution_count": 39,
     "metadata": {},
     "output_type": "execute_result"
    }
   ],
   "source": [
    "un_wf.sum().sort_values(ascending=False)[:20]"
   ]
  },
  {
   "cell_type": "markdown",
   "metadata": {
    "slideshow": {
     "slide_type": "skip"
    }
   },
   "source": [
    "We can create a new dataframe that merges our better word frequencies with the original UN dataframe. pandas `concat` takes a list of dataframes and merges them. The value of `axis=1` means that datasets should be merged sided by side -- each data set is providing new columns, not new rows. Critically, `concat` assumes that the cases are in the same order in each of the dataframes. If this is not the case (or you are not sure), and you are merging based on a the value of column, you should use `merge`."
   ]
  },
  {
   "cell_type": "code",
   "execution_count": 40,
   "metadata": {
    "slideshow": {
     "slide_type": "slide"
    }
   },
   "outputs": [],
   "source": [
    "df_combined = pd.concat([un_df, un_wf], axis=1)"
   ]
  },
  {
   "cell_type": "code",
   "execution_count": 41,
   "metadata": {
    "slideshow": {
     "slide_type": "fragment"
    }
   },
   "outputs": [
    {
     "data": {
      "text/html": [
       "<div>\n",
       "<style scoped>\n",
       "    .dataframe tbody tr th:only-of-type {\n",
       "        vertical-align: middle;\n",
       "    }\n",
       "\n",
       "    .dataframe tbody tr th {\n",
       "        vertical-align: top;\n",
       "    }\n",
       "\n",
       "    .dataframe thead th {\n",
       "        text-align: right;\n",
       "    }\n",
       "</style>\n",
       "<table border=\"1\" class=\"dataframe\">\n",
       "  <thead>\n",
       "    <tr style=\"text-align: right;\">\n",
       "      <th></th>\n",
       "      <th>country_code</th>\n",
       "      <th>speech_text</th>\n",
       "      <th>speech_year</th>\n",
       "      <th>speech_word_count</th>\n",
       "      <th>0</th>\n",
       "      <th>00</th>\n",
       "      <th>000</th>\n",
       "      <th>0001</th>\n",
       "      <th>000yearlong</th>\n",
       "      <th>001</th>\n",
       "      <th>...</th>\n",
       "      <th>у</th>\n",
       "      <th>хxi24</th>\n",
       "      <th>ч</th>\n",
       "      <th>ш</th>\n",
       "      <th>ш1оп</th>\n",
       "      <th>ш1ь1а</th>\n",
       "      <th>щ</th>\n",
       "      <th>ь</th>\n",
       "      <th>ьо1л</th>\n",
       "      <th>ю</th>\n",
       "    </tr>\n",
       "  </thead>\n",
       "  <tbody>\n",
       "    <tr>\n",
       "      <th>0</th>\n",
       "      <td>MDV</td>\n",
       "      <td>﻿It is indeed a pleasure for me and the member...</td>\n",
       "      <td>1989</td>\n",
       "      <td>3008</td>\n",
       "      <td>2</td>\n",
       "      <td>0</td>\n",
       "      <td>0</td>\n",
       "      <td>0</td>\n",
       "      <td>0</td>\n",
       "      <td>0</td>\n",
       "      <td>...</td>\n",
       "      <td>0</td>\n",
       "      <td>0</td>\n",
       "      <td>0</td>\n",
       "      <td>0</td>\n",
       "      <td>0</td>\n",
       "      <td>0</td>\n",
       "      <td>0</td>\n",
       "      <td>0</td>\n",
       "      <td>0</td>\n",
       "      <td>0</td>\n",
       "    </tr>\n",
       "    <tr>\n",
       "      <th>1</th>\n",
       "      <td>FIN</td>\n",
       "      <td>﻿\\nMay I begin by congratulating you. Sir, on ...</td>\n",
       "      <td>1989</td>\n",
       "      <td>2723</td>\n",
       "      <td>1</td>\n",
       "      <td>0</td>\n",
       "      <td>2</td>\n",
       "      <td>0</td>\n",
       "      <td>0</td>\n",
       "      <td>0</td>\n",
       "      <td>...</td>\n",
       "      <td>0</td>\n",
       "      <td>0</td>\n",
       "      <td>0</td>\n",
       "      <td>0</td>\n",
       "      <td>0</td>\n",
       "      <td>0</td>\n",
       "      <td>0</td>\n",
       "      <td>0</td>\n",
       "      <td>0</td>\n",
       "      <td>0</td>\n",
       "    </tr>\n",
       "    <tr>\n",
       "      <th>2</th>\n",
       "      <td>NER</td>\n",
       "      <td>﻿\\nMr. President, it is a particular pleasure ...</td>\n",
       "      <td>1989</td>\n",
       "      <td>4850</td>\n",
       "      <td>0</td>\n",
       "      <td>0</td>\n",
       "      <td>0</td>\n",
       "      <td>0</td>\n",
       "      <td>0</td>\n",
       "      <td>0</td>\n",
       "      <td>...</td>\n",
       "      <td>0</td>\n",
       "      <td>0</td>\n",
       "      <td>0</td>\n",
       "      <td>0</td>\n",
       "      <td>0</td>\n",
       "      <td>0</td>\n",
       "      <td>0</td>\n",
       "      <td>0</td>\n",
       "      <td>0</td>\n",
       "      <td>0</td>\n",
       "    </tr>\n",
       "    <tr>\n",
       "      <th>3</th>\n",
       "      <td>URY</td>\n",
       "      <td>﻿\\nDuring the debate at the fortieth session o...</td>\n",
       "      <td>1989</td>\n",
       "      <td>2699</td>\n",
       "      <td>0</td>\n",
       "      <td>0</td>\n",
       "      <td>0</td>\n",
       "      <td>0</td>\n",
       "      <td>0</td>\n",
       "      <td>0</td>\n",
       "      <td>...</td>\n",
       "      <td>0</td>\n",
       "      <td>0</td>\n",
       "      <td>0</td>\n",
       "      <td>0</td>\n",
       "      <td>0</td>\n",
       "      <td>0</td>\n",
       "      <td>0</td>\n",
       "      <td>0</td>\n",
       "      <td>0</td>\n",
       "      <td>0</td>\n",
       "    </tr>\n",
       "    <tr>\n",
       "      <th>4</th>\n",
       "      <td>ZWE</td>\n",
       "      <td>﻿I should like at the outset to express my del...</td>\n",
       "      <td>1989</td>\n",
       "      <td>4541</td>\n",
       "      <td>0</td>\n",
       "      <td>0</td>\n",
       "      <td>0</td>\n",
       "      <td>0</td>\n",
       "      <td>0</td>\n",
       "      <td>0</td>\n",
       "      <td>...</td>\n",
       "      <td>0</td>\n",
       "      <td>0</td>\n",
       "      <td>0</td>\n",
       "      <td>0</td>\n",
       "      <td>0</td>\n",
       "      <td>0</td>\n",
       "      <td>0</td>\n",
       "      <td>0</td>\n",
       "      <td>0</td>\n",
       "      <td>0</td>\n",
       "    </tr>\n",
       "  </tbody>\n",
       "</table>\n",
       "<p>5 rows × 54984 columns</p>\n",
       "</div>"
      ],
      "text/plain": [
       "  country_code                                        speech_text  \\\n",
       "0          MDV  ﻿It is indeed a pleasure for me and the member...   \n",
       "1          FIN  ﻿\\nMay I begin by congratulating you. Sir, on ...   \n",
       "2          NER  ﻿\\nMr. President, it is a particular pleasure ...   \n",
       "3          URY  ﻿\\nDuring the debate at the fortieth session o...   \n",
       "4          ZWE  ﻿I should like at the outset to express my del...   \n",
       "\n",
       "   speech_year  speech_word_count  0  00  000  0001  000yearlong  001  ...  у  \\\n",
       "0         1989               3008  2   0    0     0            0    0  ...  0   \n",
       "1         1989               2723  1   0    2     0            0    0  ...  0   \n",
       "2         1989               4850  0   0    0     0            0    0  ...  0   \n",
       "3         1989               2699  0   0    0     0            0    0  ...  0   \n",
       "4         1989               4541  0   0    0     0            0    0  ...  0   \n",
       "\n",
       "   хxi24  ч  ш  ш1оп  ш1ь1а  щ  ь  ьо1л  ю  \n",
       "0      0  0  0     0      0  0  0     0  0  \n",
       "1      0  0  0     0      0  0  0     0  0  \n",
       "2      0  0  0     0      0  0  0     0  0  \n",
       "3      0  0  0     0      0  0  0     0  0  \n",
       "4      0  0  0     0      0  0  0     0  0  \n",
       "\n",
       "[5 rows x 54984 columns]"
      ]
     },
     "execution_count": 41,
     "metadata": {},
     "output_type": "execute_result"
    }
   ],
   "source": [
    "df_combined.head()"
   ]
  },
  {
   "cell_type": "markdown",
   "metadata": {
    "slideshow": {
     "slide_type": "skip"
    }
   },
   "source": [
    "If you wanted to stop here, either to pick up your analysis on a different day or to complete your work in a different program, you could export the combined dataframe. if you wanted to keep the address text in your file, I would recommend storing it as JSON to avoid potential issues with that long text field. `orient='records'` ensures that each item in the JSON will be a case. "
   ]
  },
  {
   "cell_type": "code",
   "execution_count": null,
   "metadata": {
    "slideshow": {
     "slide_type": "slide"
    }
   },
   "outputs": [],
   "source": [
    "# df_combined.to_json('un_wf.json', orient='records')"
   ]
  },
  {
   "cell_type": "markdown",
   "metadata": {
    "slideshow": {
     "slide_type": "skip"
    }
   },
   "source": [
    "Alternatively, if you didn't care about the text, or new you already had it saved in the original json file, you can drop the text field and export to a csv file. `axis=1` tells pandas that you want to drop a column, rather than a row."
   ]
  },
  {
   "cell_type": "code",
   "execution_count": null,
   "metadata": {
    "slideshow": {
     "slide_type": "slide"
    }
   },
   "outputs": [],
   "source": [
    "# df_combined.drop('speech_text', axis=1).to_csv('sotu_wf.csv')"
   ]
  },
  {
   "cell_type": "markdown",
   "metadata": {
    "slideshow": {
     "slide_type": "slide"
    }
   },
   "source": [
    "<div class=\"alert alert-info\">\n",
    "<h3> Your turn</h3>\n",
    "<p> Back in your team. What were the most common words used in wine reviews?\n",
    "\n",
    "</div>"
   ]
  },
  {
   "cell_type": "code",
   "execution_count": null,
   "metadata": {},
   "outputs": [],
   "source": []
  },
  {
   "cell_type": "markdown",
   "metadata": {
    "slideshow": {
     "slide_type": "skip"
    }
   },
   "source": [
    "An alternate strategy to removing words entirely is construct weights that are based on how frequently a word occurs in a particular document compared to how frequently it appears in other documents. So a word like \"of\" would score low in every document if it commonly found and used in similar frequencies. A word like \"America\" might be used in every text, but some addresses might use it more frequently, it which case it would score high in just those instances. Finally, the highest scores would be associated with a word like \"terrorism\" might be not only rare, but also appear frequently in the few addresses that include it.  \n",
    "\n",
    "The most common algorithm for this sort of word weight is called term-frequency/inverse document frequency, or TF-IDF. The numerator, term frequency, is how frequently a word occurs in a document divided by the number of words in the document. The denominator is the natural log of the fraction of the total number of documents divided by the number of documents with term in it. \n",
    "\n",
    "Returning to our two sample sentences:\n",
    "\n",
    "Scikit-learn's `TfidfVectorizer` can be used to compute tf-idfs with identical syntax to the `CountVectorizer`."
   ]
  },
  {
   "cell_type": "markdown",
   "metadata": {
    "slideshow": {
     "slide_type": "slide"
    }
   },
   "source": [
    "![](http://dovgalecs.com/blog/wp-content/uploads/2012/03/img131.gif)"
   ]
  },
  {
   "cell_type": "code",
   "execution_count": 31,
   "metadata": {
    "slideshow": {
     "slide_type": "fragment"
    }
   },
   "outputs": [
    {
     "data": {
      "text/html": [
       "<div>\n",
       "<style scoped>\n",
       "    .dataframe tbody tr th:only-of-type {\n",
       "        vertical-align: middle;\n",
       "    }\n",
       "\n",
       "    .dataframe tbody tr th {\n",
       "        vertical-align: top;\n",
       "    }\n",
       "\n",
       "    .dataframe thead th {\n",
       "        text-align: right;\n",
       "    }\n",
       "</style>\n",
       "<table border=\"1\" class=\"dataframe\">\n",
       "  <thead>\n",
       "    <tr style=\"text-align: right;\">\n",
       "      <th></th>\n",
       "      <th>and</th>\n",
       "      <th>are</th>\n",
       "      <th>arms</th>\n",
       "      <th>be</th>\n",
       "      <th>cease</th>\n",
       "      <th>development</th>\n",
       "      <th>exchange</th>\n",
       "      <th>expenditures</th>\n",
       "      <th>finance</th>\n",
       "      <th>funds</th>\n",
       "      <th>...</th>\n",
       "      <th>our</th>\n",
       "      <th>peoples</th>\n",
       "      <th>released</th>\n",
       "      <th>ruining</th>\n",
       "      <th>the</th>\n",
       "      <th>they</th>\n",
       "      <th>thus</th>\n",
       "      <th>to</th>\n",
       "      <th>unequal</th>\n",
       "      <th>used</th>\n",
       "    </tr>\n",
       "  </thead>\n",
       "  <tbody>\n",
       "    <tr>\n",
       "      <th>0</th>\n",
       "      <td>0.470070</td>\n",
       "      <td>0.0</td>\n",
       "      <td>0.0</td>\n",
       "      <td>0.000000</td>\n",
       "      <td>0.235035</td>\n",
       "      <td>0.000000</td>\n",
       "      <td>0.309043</td>\n",
       "      <td>0.0</td>\n",
       "      <td>0.000000</td>\n",
       "      <td>0.000000</td>\n",
       "      <td>...</td>\n",
       "      <td>0.309043</td>\n",
       "      <td>0.309043</td>\n",
       "      <td>0.000000</td>\n",
       "      <td>0.309043</td>\n",
       "      <td>0.000000</td>\n",
       "      <td>0.000000</td>\n",
       "      <td>0.000000</td>\n",
       "      <td>0.000000</td>\n",
       "      <td>0.309043</td>\n",
       "      <td>0.000000</td>\n",
       "    </tr>\n",
       "    <tr>\n",
       "      <th>1</th>\n",
       "      <td>0.000000</td>\n",
       "      <td>0.5</td>\n",
       "      <td>0.5</td>\n",
       "      <td>0.000000</td>\n",
       "      <td>0.000000</td>\n",
       "      <td>0.000000</td>\n",
       "      <td>0.000000</td>\n",
       "      <td>0.5</td>\n",
       "      <td>0.000000</td>\n",
       "      <td>0.000000</td>\n",
       "      <td>...</td>\n",
       "      <td>0.000000</td>\n",
       "      <td>0.000000</td>\n",
       "      <td>0.000000</td>\n",
       "      <td>0.000000</td>\n",
       "      <td>0.000000</td>\n",
       "      <td>0.000000</td>\n",
       "      <td>0.000000</td>\n",
       "      <td>0.000000</td>\n",
       "      <td>0.000000</td>\n",
       "      <td>0.000000</td>\n",
       "    </tr>\n",
       "    <tr>\n",
       "      <th>2</th>\n",
       "      <td>0.207216</td>\n",
       "      <td>0.0</td>\n",
       "      <td>0.0</td>\n",
       "      <td>0.272464</td>\n",
       "      <td>0.207216</td>\n",
       "      <td>0.272464</td>\n",
       "      <td>0.000000</td>\n",
       "      <td>0.0</td>\n",
       "      <td>0.272464</td>\n",
       "      <td>0.272464</td>\n",
       "      <td>...</td>\n",
       "      <td>0.000000</td>\n",
       "      <td>0.000000</td>\n",
       "      <td>0.272464</td>\n",
       "      <td>0.000000</td>\n",
       "      <td>0.272464</td>\n",
       "      <td>0.272464</td>\n",
       "      <td>0.272464</td>\n",
       "      <td>0.272464</td>\n",
       "      <td>0.000000</td>\n",
       "      <td>0.272464</td>\n",
       "    </tr>\n",
       "  </tbody>\n",
       "</table>\n",
       "<p>3 rows × 24 columns</p>\n",
       "</div>"
      ],
      "text/plain": [
       "        and  are  arms        be     cease  development  exchange  \\\n",
       "0  0.470070  0.0   0.0  0.000000  0.235035     0.000000  0.309043   \n",
       "1  0.000000  0.5   0.5  0.000000  0.000000     0.000000  0.000000   \n",
       "2  0.207216  0.0   0.0  0.272464  0.207216     0.272464  0.000000   \n",
       "\n",
       "   expenditures   finance     funds  ...       our   peoples  released  \\\n",
       "0           0.0  0.000000  0.000000  ...  0.309043  0.309043  0.000000   \n",
       "1           0.5  0.000000  0.000000  ...  0.000000  0.000000  0.000000   \n",
       "2           0.0  0.272464  0.272464  ...  0.000000  0.000000  0.272464   \n",
       "\n",
       "    ruining       the      they      thus        to   unequal      used  \n",
       "0  0.309043  0.000000  0.000000  0.000000  0.000000  0.309043  0.000000  \n",
       "1  0.000000  0.000000  0.000000  0.000000  0.000000  0.000000  0.000000  \n",
       "2  0.000000  0.272464  0.272464  0.272464  0.272464  0.000000  0.272464  \n",
       "\n",
       "[3 rows x 24 columns]"
      ]
     },
     "execution_count": 31,
     "metadata": {},
     "output_type": "execute_result"
    }
   ],
   "source": [
    "make_wf_df(sentences, tfidf = True)\n"
   ]
  },
  {
   "cell_type": "markdown",
   "metadata": {},
   "source": [
    "As before, we can create apply the vectorizer to the UN addresses. "
   ]
  },
  {
   "cell_type": "code",
   "execution_count": 32,
   "metadata": {
    "slideshow": {
     "slide_type": "slide"
    }
   },
   "outputs": [],
   "source": [
    "un_tfidf_df = make_wf_df(un_df['speech_text'], tfidf = True)\n",
    "\n"
   ]
  },
  {
   "cell_type": "markdown",
   "metadata": {
    "slideshow": {
     "slide_type": "slide"
    }
   },
   "source": [
    "As before, the original dataframe and the tf-idf dataframe can be combined with `concat`."
   ]
  },
  {
   "cell_type": "code",
   "execution_count": null,
   "metadata": {
    "slideshow": {
     "slide_type": "fragment"
    }
   },
   "outputs": [],
   "source": [
    "un_df_combo2 = pd.concat([un_df, un_tfidf_df], axis=1)"
   ]
  },
  {
   "cell_type": "code",
   "execution_count": null,
   "metadata": {
    "slideshow": {
     "slide_type": "slide"
    }
   },
   "outputs": [],
   "source": [
    "un_df_combo2.info()"
   ]
  },
  {
   "cell_type": "markdown",
   "metadata": {},
   "source": [
    "<div class=\"alert alert-info\">\n",
    "<h3> Your turn</h3>\n",
    "<p> Group project again. Create a tf-idf dataframe from the wine speeches. Do it!\n",
    "\n",
    "</div>\n",
    "\n"
   ]
  },
  {
   "cell_type": "code",
   "execution_count": null,
   "metadata": {},
   "outputs": [],
   "source": []
  }
 ],
 "metadata": {
  "kernelspec": {
   "display_name": "Python 3",
   "language": "python",
   "name": "python3"
  },
  "language_info": {
   "codemirror_mode": {
    "name": "ipython",
    "version": 3
   },
   "file_extension": ".py",
   "mimetype": "text/x-python",
   "name": "python",
   "nbconvert_exporter": "python",
   "pygments_lexer": "ipython3",
   "version": "3.6.7"
  }
 },
 "nbformat": 4,
 "nbformat_minor": 2
}
