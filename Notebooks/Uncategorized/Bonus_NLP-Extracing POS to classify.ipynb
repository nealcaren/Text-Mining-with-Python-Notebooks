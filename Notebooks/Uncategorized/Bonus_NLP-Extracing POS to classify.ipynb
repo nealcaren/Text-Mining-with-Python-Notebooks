{
 "cells": [
  {
   "cell_type": "markdown",
   "metadata": {
    "slideshow": {
     "slide_type": "slide"
    }
   },
   "source": [
    "# NLP - POS & NER"
   ]
  },
  {
   "cell_type": "markdown",
   "metadata": {
    "slideshow": {
     "slide_type": "slide"
    }
   },
   "source": [
    "```\n",
    "%conda install spacy  spacy-model-en_core_web_sm -c conda-forge\n",
    "```\n"
   ]
  },
  {
   "cell_type": "markdown",
   "metadata": {
    "slideshow": {
     "slide_type": "fragment"
    }
   },
   "source": [
    "~~~\n",
    "import spacy\n",
    "spacy.cli.download(\"en\") \n",
    "~~~"
   ]
  },
  {
   "cell_type": "code",
   "execution_count": 1,
   "metadata": {},
   "outputs": [],
   "source": [
    "# Import the English language class\n",
    "from spacy.lang.en import English\n",
    "\n",
    "# Create the nlp object\n",
    "nlp = English()"
   ]
  },
  {
   "cell_type": "code",
   "execution_count": 1,
   "metadata": {
    "slideshow": {
     "slide_type": "slide"
    }
   },
   "outputs": [],
   "source": [
    "import spacy\n",
    "from spacy import displacy"
   ]
  },
  {
   "cell_type": "code",
   "execution_count": 6,
   "metadata": {
    "slideshow": {
     "slide_type": "slide"
    }
   },
   "outputs": [],
   "source": [
    "import spacy\n",
    "from spacy import displacy\n",
    "nlp = spacy.load(\"en_core_web_sm\")"
   ]
  },
  {
   "cell_type": "code",
   "execution_count": 7,
   "metadata": {
    "slideshow": {
     "slide_type": "slide"
    }
   },
   "outputs": [],
   "source": [
    "wp = ('President Trump is questioning his administration’s aggressive strategy '\n",
    "      'in Venezuela following the failure of a US-backed effort to oust '\n",
    "      'President Nicolás Maduro, complaining he was misled about how easy '\n",
    "      'it would be to replace the socialist strongman with a young opposition '\n",
    "      'figure, according to administration officials and White House advisers.')"
   ]
  },
  {
   "cell_type": "code",
   "execution_count": 8,
   "metadata": {
    "slideshow": {
     "slide_type": "slide"
    }
   },
   "outputs": [],
   "source": [
    "doc = nlp(wp)"
   ]
  },
  {
   "cell_type": "code",
   "execution_count": 10,
   "metadata": {},
   "outputs": [
    {
     "name": "stdout",
     "output_type": "stream",
     "text": [
      "Hello\n",
      "world\n",
      "!\n"
     ]
    }
   ],
   "source": [
    "# Created by processing a string of text with the nlp object\n",
    "doc = nlp(\"Hello world!\")\n",
    "\n",
    "# Iterate over tokens in a Doc\n",
    "for token in doc:\n",
    "    print(token.text)"
   ]
  },
  {
   "cell_type": "code",
   "execution_count": 11,
   "metadata": {},
   "outputs": [
    {
     "name": "stdout",
     "output_type": "stream",
     "text": [
      "She PRON\n",
      "ate VERB\n",
      "the DET\n",
      "pizza NOUN\n"
     ]
    }
   ],
   "source": [
    "# Process a text\n",
    "doc = nlp(\"She ate the pizza\")\n",
    "\n",
    "# Iterate over the tokens\n",
    "for token in doc:\n",
    "    # Print the text and the predicted part-of-speech tag\n",
    "    print(token.text, token.pos_)"
   ]
  },
  {
   "cell_type": "markdown",
   "metadata": {},
   "source": [
    "[https://course.spacy.io/en/chapter1]\n",
    "In addition to the part-of-speech tags, we can also predict how the words are related. For example, whether a word is the subject of the sentence or an object.\n",
    "\n",
    "The .dep_ attribute returns the predicted dependency label.\n",
    "\n",
    "The .head attribute returns the syntactic head token. You can also think of it as the parent token this word is attached to."
   ]
  },
  {
   "cell_type": "code",
   "execution_count": 12,
   "metadata": {},
   "outputs": [
    {
     "name": "stdout",
     "output_type": "stream",
     "text": [
      "She PRON nsubj ate\n",
      "ate VERB ROOT ate\n",
      "the DET det pizza\n",
      "pizza NOUN dobj ate\n"
     ]
    }
   ],
   "source": [
    "for token in doc:\n",
    "    print(token.text, token.pos_, token.dep_, token.head.text)"
   ]
  },
  {
   "cell_type": "code",
   "execution_count": 13,
   "metadata": {},
   "outputs": [
    {
     "name": "stdout",
     "output_type": "stream",
     "text": [
      "Apple ORG\n",
      "U.K. GPE\n",
      "$1 billion MONEY\n"
     ]
    }
   ],
   "source": [
    "# Process a text\n",
    "doc = nlp(\"Apple is looking at buying U.K. startup for $1 billion\")\n",
    "\n",
    "# Iterate over the predicted entities\n",
    "for ent in doc.ents:\n",
    "    # Print the entity text and its label\n",
    "    print(ent.text, ent.label_)"
   ]
  },
  {
   "cell_type": "code",
   "execution_count": 9,
   "metadata": {
    "slideshow": {
     "slide_type": "slide"
    }
   },
   "outputs": [
    {
     "name": "stdout",
     "output_type": "stream",
     "text": [
      "Trump \t President \t PROPN\n",
      "questioning \t Trump \t PROPN\n",
      "in \t Venezuela \t PROPN\n",
      "backed \t US \t PROPN\n",
      "Maduro \t President \t PROPN\n",
      "Maduro \t Nicolás \t PROPN\n",
      "oust \t Maduro \t PROPN\n",
      "House \t White \t PROPN\n",
      "advisers \t House \t PROPN\n"
     ]
    }
   ],
   "source": [
    "for token in doc:\n",
    "    if token.pos_ == 'PROPN':\n",
    "        print(token.head.text, '\\t', token.text, '\\t', token.pos_)"
   ]
  },
  {
   "cell_type": "code",
   "execution_count": 5,
   "metadata": {
    "slideshow": {
     "slide_type": "slide"
    }
   },
   "outputs": [],
   "source": [
    "for e in doc.ents:\n",
    "    print(e)"
   ]
  },
  {
   "cell_type": "code",
   "execution_count": 8,
   "metadata": {
    "slideshow": {
     "slide_type": "slide"
    }
   },
   "outputs": [],
   "source": [
    "import pandas as pd\n",
    "\n",
    "df_full = pd.read_csv('data/wine_reviews.csv')\n",
    "\n"
   ]
  },
  {
   "cell_type": "code",
   "execution_count": 9,
   "metadata": {
    "slideshow": {
     "slide_type": "slide"
    }
   },
   "outputs": [],
   "source": [
    "df = df_full.sample(10000)\n",
    "# df = df_full.copy()"
   ]
  },
  {
   "cell_type": "code",
   "execution_count": 10,
   "metadata": {},
   "outputs": [
    {
     "data": {
      "text/html": [
       "<div>\n",
       "<style scoped>\n",
       "    .dataframe tbody tr th:only-of-type {\n",
       "        vertical-align: middle;\n",
       "    }\n",
       "\n",
       "    .dataframe tbody tr th {\n",
       "        vertical-align: top;\n",
       "    }\n",
       "\n",
       "    .dataframe thead th {\n",
       "        text-align: right;\n",
       "    }\n",
       "</style>\n",
       "<table border=\"1\" class=\"dataframe\">\n",
       "  <thead>\n",
       "    <tr style=\"text-align: right;\">\n",
       "      <th></th>\n",
       "      <th>Unnamed: 0</th>\n",
       "      <th>country</th>\n",
       "      <th>description</th>\n",
       "      <th>designation</th>\n",
       "      <th>points</th>\n",
       "      <th>price</th>\n",
       "      <th>province</th>\n",
       "      <th>region_1</th>\n",
       "      <th>region_2</th>\n",
       "      <th>taster_name</th>\n",
       "      <th>taster_twitter_handle</th>\n",
       "      <th>title</th>\n",
       "      <th>variety</th>\n",
       "      <th>winery</th>\n",
       "      <th>rating</th>\n",
       "    </tr>\n",
       "  </thead>\n",
       "  <tbody>\n",
       "    <tr>\n",
       "      <th>62378</th>\n",
       "      <td>62378</td>\n",
       "      <td>Spain</td>\n",
       "      <td>Dusty white-fruit aromas are grassy and smell ...</td>\n",
       "      <td>Brut</td>\n",
       "      <td>84</td>\n",
       "      <td>14.0</td>\n",
       "      <td>Catalonia</td>\n",
       "      <td>Cava</td>\n",
       "      <td>NaN</td>\n",
       "      <td>Michael Schachner</td>\n",
       "      <td>@wineschach</td>\n",
       "      <td>Conde de Subirats NV Brut Sparkling (Cava)</td>\n",
       "      <td>Sparkling Blend</td>\n",
       "      <td>Conde de Subirats</td>\n",
       "      <td>Low</td>\n",
       "    </tr>\n",
       "    <tr>\n",
       "      <th>77849</th>\n",
       "      <td>77849</td>\n",
       "      <td>US</td>\n",
       "      <td>A blend of Cabernet Sauvignon, Cabernet Franc ...</td>\n",
       "      <td>Anne Martin McCool</td>\n",
       "      <td>91</td>\n",
       "      <td>40.0</td>\n",
       "      <td>Washington</td>\n",
       "      <td>Columbia Valley (WA)</td>\n",
       "      <td>Columbia Valley</td>\n",
       "      <td>Sean P. Sullivan</td>\n",
       "      <td>@wawinereport</td>\n",
       "      <td>àMaurice 2013 Anne Martin McCool Red (Columbia...</td>\n",
       "      <td>Bordeaux-style Red Blend</td>\n",
       "      <td>àMaurice</td>\n",
       "      <td>High</td>\n",
       "    </tr>\n",
       "    <tr>\n",
       "      <th>69730</th>\n",
       "      <td>69730</td>\n",
       "      <td>Israel</td>\n",
       "      <td>Always a good value, Recanati's Yasmin line is...</td>\n",
       "      <td>Yasmin</td>\n",
       "      <td>85</td>\n",
       "      <td>11.0</td>\n",
       "      <td>Shomron</td>\n",
       "      <td>NaN</td>\n",
       "      <td>NaN</td>\n",
       "      <td>Lauren Buzzeo</td>\n",
       "      <td>@laurbuzz</td>\n",
       "      <td>Recanati 2011 Yasmin White (Shomron)</td>\n",
       "      <td>White Blend</td>\n",
       "      <td>Recanati</td>\n",
       "      <td>Low</td>\n",
       "    </tr>\n",
       "    <tr>\n",
       "      <th>16704</th>\n",
       "      <td>16704</td>\n",
       "      <td>Portugal</td>\n",
       "      <td>Lightly fizzy, this young fruity wine is an ea...</td>\n",
       "      <td>Rotas de Portugal Branco</td>\n",
       "      <td>85</td>\n",
       "      <td>9.0</td>\n",
       "      <td>Vinho Verde</td>\n",
       "      <td>NaN</td>\n",
       "      <td>NaN</td>\n",
       "      <td>Roger Voss</td>\n",
       "      <td>@vossroger</td>\n",
       "      <td>Santos &amp; Seixo NV Rotas de Portugal Branco Whi...</td>\n",
       "      <td>Portuguese White</td>\n",
       "      <td>Santos &amp; Seixo</td>\n",
       "      <td>Low</td>\n",
       "    </tr>\n",
       "    <tr>\n",
       "      <th>63143</th>\n",
       "      <td>63143</td>\n",
       "      <td>US</td>\n",
       "      <td>One of the “12 Zins of Lodi 2014,” it was chos...</td>\n",
       "      <td>Old Vine</td>\n",
       "      <td>92</td>\n",
       "      <td>15.0</td>\n",
       "      <td>California</td>\n",
       "      <td>Lodi</td>\n",
       "      <td>Central Valley</td>\n",
       "      <td>Jim Gordon</td>\n",
       "      <td>@gordone_cellars</td>\n",
       "      <td>Za Zin 2010 Old Vine Zinfandel (Lodi)</td>\n",
       "      <td>Zinfandel</td>\n",
       "      <td>Za Zin</td>\n",
       "      <td>High</td>\n",
       "    </tr>\n",
       "  </tbody>\n",
       "</table>\n",
       "</div>"
      ],
      "text/plain": [
       "       Unnamed: 0   country  \\\n",
       "62378       62378     Spain   \n",
       "77849       77849        US   \n",
       "69730       69730    Israel   \n",
       "16704       16704  Portugal   \n",
       "63143       63143        US   \n",
       "\n",
       "                                             description  \\\n",
       "62378  Dusty white-fruit aromas are grassy and smell ...   \n",
       "77849  A blend of Cabernet Sauvignon, Cabernet Franc ...   \n",
       "69730  Always a good value, Recanati's Yasmin line is...   \n",
       "16704  Lightly fizzy, this young fruity wine is an ea...   \n",
       "63143  One of the “12 Zins of Lodi 2014,” it was chos...   \n",
       "\n",
       "                    designation  points  price     province  \\\n",
       "62378                      Brut      84   14.0    Catalonia   \n",
       "77849        Anne Martin McCool      91   40.0   Washington   \n",
       "69730                    Yasmin      85   11.0      Shomron   \n",
       "16704  Rotas de Portugal Branco      85    9.0  Vinho Verde   \n",
       "63143                  Old Vine      92   15.0   California   \n",
       "\n",
       "                   region_1         region_2        taster_name  \\\n",
       "62378                  Cava              NaN  Michael Schachner   \n",
       "77849  Columbia Valley (WA)  Columbia Valley   Sean P. Sullivan   \n",
       "69730                   NaN              NaN      Lauren Buzzeo   \n",
       "16704                   NaN              NaN         Roger Voss   \n",
       "63143                  Lodi   Central Valley         Jim Gordon   \n",
       "\n",
       "      taster_twitter_handle  \\\n",
       "62378           @wineschach   \n",
       "77849         @wawinereport   \n",
       "69730             @laurbuzz   \n",
       "16704            @vossroger   \n",
       "63143      @gordone_cellars   \n",
       "\n",
       "                                                   title  \\\n",
       "62378         Conde de Subirats NV Brut Sparkling (Cava)   \n",
       "77849  àMaurice 2013 Anne Martin McCool Red (Columbia...   \n",
       "69730               Recanati 2011 Yasmin White (Shomron)   \n",
       "16704  Santos & Seixo NV Rotas de Portugal Branco Whi...   \n",
       "63143              Za Zin 2010 Old Vine Zinfandel (Lodi)   \n",
       "\n",
       "                        variety             winery rating  \n",
       "62378           Sparkling Blend  Conde de Subirats    Low  \n",
       "77849  Bordeaux-style Red Blend           àMaurice   High  \n",
       "69730               White Blend           Recanati    Low  \n",
       "16704          Portuguese White     Santos & Seixo    Low  \n",
       "63143                 Zinfandel             Za Zin   High  "
      ]
     },
     "execution_count": 10,
     "metadata": {},
     "output_type": "execute_result"
    }
   ],
   "source": [
    "df.head()"
   ]
  },
  {
   "cell_type": "code",
   "execution_count": 11,
   "metadata": {
    "slideshow": {
     "slide_type": "slide"
    }
   },
   "outputs": [],
   "source": [
    "df['spacy_doc'] = df['description'].apply(nlp)"
   ]
  },
  {
   "cell_type": "code",
   "execution_count": 12,
   "metadata": {
    "slideshow": {
     "slide_type": "slide"
    }
   },
   "outputs": [],
   "source": [
    "def extract_adjectives(doc):\n",
    "    adjectives = [t.text for t in doc if t.pos_ == 'ADJ']\n",
    "    adjectives = ', '.join(adjectives)\n",
    "    return adjectives"
   ]
  },
  {
   "cell_type": "code",
   "execution_count": 13,
   "metadata": {},
   "outputs": [],
   "source": [
    "df['adj'] = df['spacy_doc'].apply(extract_adjectives)"
   ]
  },
  {
   "cell_type": "code",
   "execution_count": 14,
   "metadata": {},
   "outputs": [
    {
     "data": {
      "text/plain": [
       "62378         Dusty, white, grassy, plump, little, Generic\n",
       "77849                 reserved, assorted, black, immediate\n",
       "69730                      good, easy, green, short, clean\n",
       "16704    fizzy, young, easygoing, dry, soft, lively, fl...\n",
       "63143    finest, deep, red, black, Deep, evocative, rip...\n",
       "21155                  its, fresh, crisp, lively, fragrant\n",
       "28127         which, salva, imminent, wonderful, asparagus\n",
       "176      local, tight, crisp, green, Its, fresh, good, ...\n",
       "40279    plush, straightforward, that, upfront, medium,...\n",
       "1495      lean, green, grippy, spicy, herbal, green, basic\n",
       "11610                                  dark, molten, hefty\n",
       "18241    good, pure, excellent, muscular, aromatic, den...\n",
       "84964                     black, bright, full, great, good\n",
       "71386    standard, rich, opulent, ripe, black, fragrant...\n",
       "84904    shy, closed, all, firm, bright, dense, firm, j...\n",
       "56809    New, ripe, complex, baked, complete, melted, c...\n",
       "12421              rich, rewarding, black, pleasing, black\n",
       "52388     dark, purple, tannic, bodied, Its, stewed, rough\n",
       "64959    Soft, round, robust, luxurious, rich, red, bla...\n",
       "42820    classic, Austrian, red, its, best, its, outer,...\n",
       "28335            hot, your, other, dry, wild, tannic, fine\n",
       "56035    tart, short, sharp, light, youthful, bright, f...\n",
       "84034        ripe, soft, that, smooth, creamy, that, crisp\n",
       "7167     lovely, northern, enticing, creamy, smooth, el...\n",
       "61196                     green, more, same, advanced, its\n",
       "78162                     grassy, hard, lean, jammy, green\n",
       "39427    extra, ripe, rich, gorgeous, mid, sweet, which...\n",
       "2438     elegant, fresh, ripe, light, overall, soft, sw...\n",
       "32676    Beautiful, aromatic, dense, that, wonderful, c...\n",
       "47263    young, soft, juicy, black, ready, smoky, tanni...\n",
       "                               ...                        \n",
       "34382                     single, soft, warm, yeasty, ripe\n",
       "18898                                    wild, white, thin\n",
       "66183    mellow, ripe, appetizing, rich, fresh, tart, s...\n",
       "56727    nice, rich, classic, dry, crisp, zippy, citrus...\n",
       "38676               Simple, soft, creamy, playful, Italian\n",
       "24796            new, fresh, green, dark, full, red, black\n",
       "62534      approachable, crisp, cut, fresh, smooth, creamy\n",
       "39194    smooth, tannic, Black, dense, rich, concentrat...\n",
       "20440                                    soft, like, brown\n",
       "6012            Easy, fresh, informal, bright, wild, tight\n",
       "28353                       organic, happy, redolent, pink\n",
       "42235                 Light, spicy, first, varietal, quick\n",
       "28554                             good, oaky, creamy, rich\n",
       "53005    big, ripe, voluptuous, deliciousness, dark, hi...\n",
       "71315    Powerful, rich, concentrated, opulent, huge, r...\n",
       "77708                      closed, lean, firm, its, strong\n",
       "61787                              Rich, its, green, great\n",
       "83771    rare, top, dry, that, its, intense, crushed, soft\n",
       "21368    single, such, neutral, French, delicate, pure,...\n",
       "32916    straightforward, pleasant, yellow, that, zippy...\n",
       "3574     consistent, easy, that, informal, territorial,...\n",
       "61131                  fresh, bright, green, creamy, crisp\n",
       "55072    heavy, dense, rewarding, soft, full, bodied, ripe\n",
       "23292    green, enough, present, elegant, same, bright,...\n",
       "63956      mature, superripe, soft, creamy, its, own, best\n",
       "18920                       underbrush, roasted, hot, dark\n",
       "36007                           bodied, fine, simple, soft\n",
       "83569    Smoky, blocky, ripe, chewy, full, Bold, ripe, ...\n",
       "3420          ripe, that, black, edgy, green, that, bitter\n",
       "72251    fragrant, blue, new, polished, structured, won...\n",
       "Name: adj, Length: 10000, dtype: object"
      ]
     },
     "execution_count": 14,
     "metadata": {},
     "output_type": "execute_result"
    }
   ],
   "source": [
    "df['adj']"
   ]
  },
  {
   "cell_type": "code",
   "execution_count": 15,
   "metadata": {},
   "outputs": [],
   "source": [
    "def extract_pos(doc, pos):\n",
    "    adjectives = [t.text for t in doc if t.pos_ == pos]\n",
    "    adjectives = ', '.join(adjectives)\n",
    "    return adjectives"
   ]
  },
  {
   "cell_type": "code",
   "execution_count": 16,
   "metadata": {
    "slideshow": {
     "slide_type": "slide"
    }
   },
   "outputs": [],
   "source": [
    "def extract_people(doc):\n",
    "    people = [e for e in doc.ents if e.label_ == \"PERSON\"]\n",
    "    return people"
   ]
  },
  {
   "cell_type": "code",
   "execution_count": 17,
   "metadata": {
    "slideshow": {
     "slide_type": "slide"
    }
   },
   "outputs": [],
   "source": [
    "df['verb'] = df['spacy_doc'].apply(extract_pos, pos='VERB')"
   ]
  },
  {
   "cell_type": "code",
   "execution_count": 18,
   "metadata": {},
   "outputs": [],
   "source": [
    "%matplotlib inline\n",
    "\n",
    "import pandas as pd\n",
    "import seaborn as sns\n",
    "\n",
    "from vaderSentiment.vaderSentiment import SentimentIntensityAnalyzer\n",
    "from afinn import Afinn\n",
    "\n",
    "from sklearn.metrics import classification_report, confusion_matrix, accuracy_score\n",
    "from sklearn.feature_extraction.text import CountVectorizer, TfidfVectorizer\n",
    "from sklearn.naive_bayes import MultinomialNB\n",
    "from sklearn.linear_model import LogisticRegression\n",
    "from sklearn.model_selection import train_test_split\n",
    "from sklearn.pipeline import Pipeline\n",
    "from sklearn.model_selection import GridSearchCV\n",
    "from sklearn.decomposition import LatentDirichletAllocation\n",
    "\n",
    "\n"
   ]
  },
  {
   "cell_type": "code",
   "execution_count": 19,
   "metadata": {},
   "outputs": [],
   "source": [
    "lr_classifier = LogisticRegression(solver = 'lbfgs', max_iter= 5000)\n",
    "\n"
   ]
  },
  {
   "cell_type": "code",
   "execution_count": 20,
   "metadata": {},
   "outputs": [],
   "source": [
    "vectorizer = CountVectorizer(lowercase   = True,\n",
    "                             max_features = 100)"
   ]
  },
  {
   "cell_type": "code",
   "execution_count": 30,
   "metadata": {},
   "outputs": [
    {
     "data": {
      "text/plain": [
       "CountVectorizer(analyzer='word', binary=False, decode_error='strict',\n",
       "        dtype=<class 'numpy.int64'>, encoding='utf-8', input='content',\n",
       "        lowercase=True, max_df=1.0, max_features=100, min_df=1,\n",
       "        ngram_range=(1, 1), preprocessor=None, stop_words=None,\n",
       "        strip_accents=None, token_pattern='(?u)\\\\b\\\\w\\\\w+\\\\b',\n",
       "        tokenizer=None, vocabulary=None)"
      ]
     },
     "execution_count": 30,
     "metadata": {},
     "output_type": "execute_result"
    }
   ],
   "source": [
    "vectorizer.fit(df['adj'])"
   ]
  },
  {
   "cell_type": "code",
   "execution_count": 31,
   "metadata": {},
   "outputs": [],
   "source": [
    "word_counts = vectorizer.transform(df['description'])"
   ]
  },
  {
   "cell_type": "code",
   "execution_count": 32,
   "metadata": {},
   "outputs": [],
   "source": [
    "lr_classifier = LogisticRegression(solver = 'lbfgs', max_iter= 5000)\n",
    "\n"
   ]
  },
  {
   "cell_type": "code",
   "execution_count": 33,
   "metadata": {},
   "outputs": [
    {
     "data": {
      "text/plain": [
       "<10000x100 sparse matrix of type '<class 'numpy.int64'>'\n",
       "\twith 48288 stored elements in Compressed Sparse Row format>"
      ]
     },
     "execution_count": 33,
     "metadata": {},
     "output_type": "execute_result"
    }
   ],
   "source": [
    "word_counts + word_counts"
   ]
  },
  {
   "cell_type": "code",
   "execution_count": 34,
   "metadata": {},
   "outputs": [
    {
     "data": {
      "text/plain": [
       "LogisticRegression(C=1.0, class_weight=None, dual=False, fit_intercept=True,\n",
       "          intercept_scaling=1, max_iter=5000, multi_class='warn',\n",
       "          n_jobs=None, penalty='l2', random_state=None, solver='lbfgs',\n",
       "          tol=0.0001, verbose=0, warm_start=False)"
      ]
     },
     "execution_count": 34,
     "metadata": {},
     "output_type": "execute_result"
    }
   ],
   "source": [
    "lr_classifier.fit(word_counts, df['rating'])"
   ]
  },
  {
   "cell_type": "code",
   "execution_count": 35,
   "metadata": {},
   "outputs": [],
   "source": [
    "prediction = lr_classifier.predict(word_counts)"
   ]
  },
  {
   "cell_type": "code",
   "execution_count": 36,
   "metadata": {},
   "outputs": [
    {
     "name": "stdout",
     "output_type": "stream",
     "text": [
      "0.8048\n"
     ]
    }
   ],
   "source": [
    "print(accuracy_score(df['rating'], prediction))"
   ]
  },
  {
   "cell_type": "code",
   "execution_count": 37,
   "metadata": {},
   "outputs": [],
   "source": [
    "coeficients = pd.Series(lr_classifier.coef_[0],\n",
    "                        index = vectorizer.get_feature_names())"
   ]
  },
  {
   "cell_type": "code",
   "execution_count": 38,
   "metadata": {},
   "outputs": [
    {
     "data": {
      "text/plain": [
       "beautiful      -3.010947\n",
       "lovely         -2.445937\n",
       "impressive     -2.301826\n",
       "complex        -2.135415\n",
       "powerful       -1.755412\n",
       "polished       -1.748744\n",
       "long           -1.748496\n",
       "elegant        -1.508430\n",
       "deep           -1.281375\n",
       "pure           -1.280541\n",
       "great          -1.182156\n",
       "lush           -1.134629\n",
       "delicious      -1.112672\n",
       "generous       -1.076086\n",
       "concentrated   -1.038677\n",
       "silky          -1.002609\n",
       "new            -1.000521\n",
       "structured     -0.995696\n",
       "best           -0.983826\n",
       "vibrant        -0.943164\n",
       "aromatic       -0.915793\n",
       "exotic         -0.880467\n",
       "rich           -0.832525\n",
       "fine           -0.757293\n",
       "dark           -0.754106\n",
       "dense          -0.746692\n",
       "balanced       -0.720734\n",
       "french         -0.695804\n",
       "intense        -0.666481\n",
       "yellow         -0.587220\n",
       "                  ...   \n",
       "warm            0.161018\n",
       "oaky            0.197185\n",
       "light           0.237068\n",
       "much            0.240855\n",
       "green           0.291665\n",
       "hard            0.292264\n",
       "dry             0.302795\n",
       "sharp           0.306992\n",
       "solid           0.307573\n",
       "clean           0.321533\n",
       "tropical        0.335553\n",
       "sweet           0.345400\n",
       "tannic          0.346116\n",
       "round           0.389079\n",
       "crisp           0.424195\n",
       "ready           0.469290\n",
       "herbal          0.500964\n",
       "jammy           0.541148\n",
       "medium          0.596006\n",
       "good            0.656843\n",
       "soft            0.740503\n",
       "sour            0.815732\n",
       "little          0.918963\n",
       "attractive      0.951450\n",
       "nice            1.007831\n",
       "heavy           1.031758\n",
       "bitter          1.187459\n",
       "lean            1.274177\n",
       "easy            1.721466\n",
       "simple          3.031182\n",
       "Length: 100, dtype: float64"
      ]
     },
     "execution_count": 38,
     "metadata": {},
     "output_type": "execute_result"
    }
   ],
   "source": [
    "coeficients.sort_values()"
   ]
  },
  {
   "cell_type": "code",
   "execution_count": null,
   "metadata": {},
   "outputs": [],
   "source": []
  },
  {
   "cell_type": "code",
   "execution_count": null,
   "metadata": {},
   "outputs": [],
   "source": []
  }
 ],
 "metadata": {
  "celltoolbar": "Slideshow",
  "kernelspec": {
   "display_name": "Python 3",
   "language": "python",
   "name": "python3"
  },
  "language_info": {
   "codemirror_mode": {
    "name": "ipython",
    "version": 3
   },
   "file_extension": ".py",
   "mimetype": "text/x-python",
   "name": "python",
   "nbconvert_exporter": "python",
   "pygments_lexer": "ipython3",
   "version": "3.8.3"
  }
 },
 "nbformat": 4,
 "nbformat_minor": 2
}
