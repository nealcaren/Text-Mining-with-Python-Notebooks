{
 "cells": [
  {
   "cell_type": "code",
   "execution_count": 1,
   "metadata": {},
   "outputs": [],
   "source": [
    "from sklearn.decomposition import LatentDirichletAllocation\n",
    "from sklearn.datasets import fetch_20newsgroups\n",
    "from sklearn.feature_extraction.text import CountVectorizer\n",
    "from sklearn.model_selection import GridSearchCV\n",
    "from sklearn.pipeline import Pipeline\n",
    "\n",
    "\n",
    "import pandas as pd"
   ]
  },
  {
   "cell_type": "code",
   "execution_count": 2,
   "metadata": {},
   "outputs": [],
   "source": [
    "\n",
    "\n",
    "newsgroups = fetch_20newsgroups(remove=('headers', 'footers', 'quotes'))\n",
    "\n"
   ]
  },
  {
   "cell_type": "code",
   "execution_count": 3,
   "metadata": {},
   "outputs": [
    {
     "data": {
      "text/html": [
       "<div>\n",
       "<style scoped>\n",
       "    .dataframe tbody tr th:only-of-type {\n",
       "        vertical-align: middle;\n",
       "    }\n",
       "\n",
       "    .dataframe tbody tr th {\n",
       "        vertical-align: top;\n",
       "    }\n",
       "\n",
       "    .dataframe thead th {\n",
       "        text-align: right;\n",
       "    }\n",
       "</style>\n",
       "<table border=\"1\" class=\"dataframe\">\n",
       "  <thead>\n",
       "    <tr style=\"text-align: right;\">\n",
       "      <th></th>\n",
       "      <th>text</th>\n",
       "      <th>newsgroup</th>\n",
       "    </tr>\n",
       "  </thead>\n",
       "  <tbody>\n",
       "    <tr>\n",
       "      <th>3289</th>\n",
       "      <td>\\n(Deletion)\\n \\nSince this drivel is also cr...</td>\n",
       "      <td>talk.religion.misc</td>\n",
       "    </tr>\n",
       "    <tr>\n",
       "      <th>8997</th>\n",
       "      <td>This is fascinating. Atheists argue for aborti...</td>\n",
       "      <td>alt.atheism</td>\n",
       "    </tr>\n",
       "    <tr>\n",
       "      <th>1286</th>\n",
       "      <td>\\n\\nI won't even recommend books from my congr...</td>\n",
       "      <td>soc.religion.christian</td>\n",
       "    </tr>\n",
       "    <tr>\n",
       "      <th>2481</th>\n",
       "      <td>\\n\\nNo, VL-bus IDE is no faster than ISA IDE. ...</td>\n",
       "      <td>comp.sys.ibm.pc.hardware</td>\n",
       "    </tr>\n",
       "    <tr>\n",
       "      <th>290</th>\n",
       "      <td>I have an applicationShell which uses a colorm...</td>\n",
       "      <td>comp.windows.x</td>\n",
       "    </tr>\n",
       "  </tbody>\n",
       "</table>\n",
       "</div>"
      ],
      "text/plain": [
       "                                                   text  \\\n",
       "3289   \\n(Deletion)\\n \\nSince this drivel is also cr...   \n",
       "8997  This is fascinating. Atheists argue for aborti...   \n",
       "1286  \\n\\nI won't even recommend books from my congr...   \n",
       "2481  \\n\\nNo, VL-bus IDE is no faster than ISA IDE. ...   \n",
       "290   I have an applicationShell which uses a colorm...   \n",
       "\n",
       "                     newsgroup  \n",
       "3289        talk.religion.misc  \n",
       "8997               alt.atheism  \n",
       "1286    soc.religion.christian  \n",
       "2481  comp.sys.ibm.pc.hardware  \n",
       "290             comp.windows.x  "
      ]
     },
     "execution_count": 3,
     "metadata": {},
     "output_type": "execute_result"
    }
   ],
   "source": [
    "target_dict = dict(enumerate(newsgroups['target_names']))\n",
    "\n",
    "df = pd.DataFrame(zip(newsgroups['data'], newsgroups['target']),  \n",
    "                  columns = ['text','newsgroup'])\n",
    "\n",
    "df['newsgroup'].replace(target_dict, inplace = True)\n",
    "\n",
    "df.sample(5)"
   ]
  },
  {
   "cell_type": "code",
   "execution_count": 5,
   "metadata": {},
   "outputs": [],
   "source": [
    "# https://stackoverflow.com/questions/52986253/scoring-strategy-of-sklearn-model-selection-gridsearchcv-for-latentdirichletallo\n",
    "\n",
    "class LDAp(LatentDirichletAllocation):\n",
    "\n",
    "    def score(self, X, y=None):\n",
    "\n",
    "        # You can change the options passed to perplexity here\n",
    "        score = super(LDAp, self).perplexity(X, sub_sampling=False)\n",
    "\n",
    "        # Since perplexity is lower for better, so we do negative\n",
    "        return -1*score\n",
    "    "
   ]
  },
  {
   "cell_type": "code",
   "execution_count": 6,
   "metadata": {},
   "outputs": [],
   "source": [
    "vectorizer = CountVectorizer(stop_words='english')"
   ]
  },
  {
   "cell_type": "code",
   "execution_count": 7,
   "metadata": {},
   "outputs": [],
   "source": [
    "tm = LDAp(verbose=1, evaluate_every = 5, perp_tol = 1, max_iter = 100, )"
   ]
  },
  {
   "cell_type": "code",
   "execution_count": 8,
   "metadata": {},
   "outputs": [],
   "source": [
    "pipe = Pipeline(steps=[('vectorizer', vectorizer), \n",
    "                       ('tm', tm)])"
   ]
  },
  {
   "cell_type": "code",
   "execution_count": 9,
   "metadata": {},
   "outputs": [],
   "source": [
    "param_grid = {'tm__n_components': [15,16,17],\n",
    "             'vectorizer__max_features' : [500, 750, 1000]}"
   ]
  },
  {
   "cell_type": "code",
   "execution_count": 10,
   "metadata": {
    "scrolled": false
   },
   "outputs": [
    {
     "name": "stdout",
     "output_type": "stream",
     "text": [
      "Fitting 3 folds for each of 9 candidates, totalling 27 fits\n"
     ]
    },
    {
     "name": "stderr",
     "output_type": "stream",
     "text": [
      "[Parallel(n_jobs=-1)]: Using backend LokyBackend with 8 concurrent workers.\n",
      "[Parallel(n_jobs=-1)]: Done  27 out of  27 | elapsed: 12.8min finished\n"
     ]
    },
    {
     "name": "stdout",
     "output_type": "stream",
     "text": [
      "iteration: 1 of max_iter: 100\n",
      "iteration: 2 of max_iter: 100\n",
      "iteration: 3 of max_iter: 100\n",
      "iteration: 4 of max_iter: 100\n",
      "iteration: 5 of max_iter: 100, perplexity: 126.2721\n",
      "iteration: 6 of max_iter: 100\n",
      "iteration: 7 of max_iter: 100\n",
      "iteration: 8 of max_iter: 100\n",
      "iteration: 9 of max_iter: 100\n",
      "iteration: 10 of max_iter: 100, perplexity: 123.3526\n",
      "iteration: 11 of max_iter: 100\n",
      "iteration: 12 of max_iter: 100\n",
      "iteration: 13 of max_iter: 100\n",
      "iteration: 14 of max_iter: 100\n",
      "iteration: 15 of max_iter: 100, perplexity: 122.5060\n"
     ]
    },
    {
     "data": {
      "text/plain": [
       "GridSearchCV(cv=3,\n",
       "             estimator=Pipeline(steps=[('vectorizer',\n",
       "                                        CountVectorizer(stop_words='english')),\n",
       "                                       ('tm',\n",
       "                                        LDAp(evaluate_every=5, max_iter=100,\n",
       "                                             perp_tol=1, verbose=1))]),\n",
       "             n_jobs=-1,\n",
       "             param_grid={'tm__n_components': [15, 16, 17],\n",
       "                         'vectorizer__max_features': [500, 750, 1000]},\n",
       "             verbose=1)"
      ]
     },
     "execution_count": 10,
     "metadata": {},
     "output_type": "execute_result"
    }
   ],
   "source": [
    "search = GridSearchCV(pipe, param_grid, n_jobs=-1, cv=3, verbose=1)\n",
    "search.fit(df['text'])"
   ]
  },
  {
   "cell_type": "code",
   "execution_count": 11,
   "metadata": {
    "scrolled": true
   },
   "outputs": [],
   "source": [
    "gs_df = pd.DataFrame(search.cv_results_)"
   ]
  },
  {
   "cell_type": "code",
   "execution_count": 12,
   "metadata": {},
   "outputs": [
    {
     "data": {
      "text/html": [
       "<div>\n",
       "<style scoped>\n",
       "    .dataframe tbody tr th:only-of-type {\n",
       "        vertical-align: middle;\n",
       "    }\n",
       "\n",
       "    .dataframe tbody tr th {\n",
       "        vertical-align: top;\n",
       "    }\n",
       "\n",
       "    .dataframe thead th {\n",
       "        text-align: right;\n",
       "    }\n",
       "</style>\n",
       "<table border=\"1\" class=\"dataframe\">\n",
       "  <thead>\n",
       "    <tr style=\"text-align: right;\">\n",
       "      <th></th>\n",
       "      <th>mean_fit_time</th>\n",
       "      <th>std_fit_time</th>\n",
       "      <th>mean_score_time</th>\n",
       "      <th>std_score_time</th>\n",
       "      <th>param_tm__n_components</th>\n",
       "      <th>param_vectorizer__max_features</th>\n",
       "      <th>params</th>\n",
       "      <th>split0_test_score</th>\n",
       "      <th>split1_test_score</th>\n",
       "      <th>split2_test_score</th>\n",
       "      <th>mean_test_score</th>\n",
       "      <th>std_test_score</th>\n",
       "      <th>rank_test_score</th>\n",
       "    </tr>\n",
       "  </thead>\n",
       "  <tbody>\n",
       "    <tr>\n",
       "      <th>3</th>\n",
       "      <td>197.734406</td>\n",
       "      <td>1.230575</td>\n",
       "      <td>5.450848</td>\n",
       "      <td>0.118037</td>\n",
       "      <td>16</td>\n",
       "      <td>500</td>\n",
       "      <td>{'tm__n_components': 16, 'vectorizer__max_feat...</td>\n",
       "      <td>-165.160821</td>\n",
       "      <td>-110.524642</td>\n",
       "      <td>-139.244856</td>\n",
       "      <td>-138.310107</td>\n",
       "      <td>22.314918</td>\n",
       "      <td>1</td>\n",
       "    </tr>\n",
       "    <tr>\n",
       "      <th>0</th>\n",
       "      <td>174.010780</td>\n",
       "      <td>20.709833</td>\n",
       "      <td>7.016777</td>\n",
       "      <td>1.475241</td>\n",
       "      <td>15</td>\n",
       "      <td>500</td>\n",
       "      <td>{'tm__n_components': 15, 'vectorizer__max_feat...</td>\n",
       "      <td>-166.123953</td>\n",
       "      <td>-111.560702</td>\n",
       "      <td>-139.224190</td>\n",
       "      <td>-138.969615</td>\n",
       "      <td>22.276081</td>\n",
       "      <td>2</td>\n",
       "    </tr>\n",
       "    <tr>\n",
       "      <th>6</th>\n",
       "      <td>188.166911</td>\n",
       "      <td>15.163499</td>\n",
       "      <td>5.148619</td>\n",
       "      <td>0.113398</td>\n",
       "      <td>17</td>\n",
       "      <td>500</td>\n",
       "      <td>{'tm__n_components': 17, 'vectorizer__max_feat...</td>\n",
       "      <td>-168.291225</td>\n",
       "      <td>-110.933535</td>\n",
       "      <td>-140.001662</td>\n",
       "      <td>-139.742141</td>\n",
       "      <td>23.416898</td>\n",
       "      <td>3</td>\n",
       "    </tr>\n",
       "    <tr>\n",
       "      <th>4</th>\n",
       "      <td>219.519567</td>\n",
       "      <td>13.366801</td>\n",
       "      <td>5.406644</td>\n",
       "      <td>0.360835</td>\n",
       "      <td>16</td>\n",
       "      <td>750</td>\n",
       "      <td>{'tm__n_components': 16, 'vectorizer__max_feat...</td>\n",
       "      <td>-257.140948</td>\n",
       "      <td>-175.215892</td>\n",
       "      <td>-216.554260</td>\n",
       "      <td>-216.303700</td>\n",
       "      <td>33.446233</td>\n",
       "      <td>4</td>\n",
       "    </tr>\n",
       "    <tr>\n",
       "      <th>1</th>\n",
       "      <td>200.441769</td>\n",
       "      <td>4.279808</td>\n",
       "      <td>5.342746</td>\n",
       "      <td>0.043774</td>\n",
       "      <td>15</td>\n",
       "      <td>750</td>\n",
       "      <td>{'tm__n_components': 15, 'vectorizer__max_feat...</td>\n",
       "      <td>-257.311484</td>\n",
       "      <td>-173.333908</td>\n",
       "      <td>-220.263989</td>\n",
       "      <td>-216.969794</td>\n",
       "      <td>34.362743</td>\n",
       "      <td>5</td>\n",
       "    </tr>\n",
       "    <tr>\n",
       "      <th>7</th>\n",
       "      <td>202.673157</td>\n",
       "      <td>31.004225</td>\n",
       "      <td>3.043595</td>\n",
       "      <td>0.710157</td>\n",
       "      <td>17</td>\n",
       "      <td>750</td>\n",
       "      <td>{'tm__n_components': 17, 'vectorizer__max_feat...</td>\n",
       "      <td>-261.169550</td>\n",
       "      <td>-173.450057</td>\n",
       "      <td>-217.664495</td>\n",
       "      <td>-217.428034</td>\n",
       "      <td>35.811723</td>\n",
       "      <td>6</td>\n",
       "    </tr>\n",
       "    <tr>\n",
       "      <th>8</th>\n",
       "      <td>145.945184</td>\n",
       "      <td>6.601908</td>\n",
       "      <td>1.663417</td>\n",
       "      <td>0.383754</td>\n",
       "      <td>17</td>\n",
       "      <td>1000</td>\n",
       "      <td>{'tm__n_components': 17, 'vectorizer__max_feat...</td>\n",
       "      <td>-342.497679</td>\n",
       "      <td>-237.903164</td>\n",
       "      <td>-286.501286</td>\n",
       "      <td>-288.967376</td>\n",
       "      <td>42.736124</td>\n",
       "      <td>7</td>\n",
       "    </tr>\n",
       "    <tr>\n",
       "      <th>2</th>\n",
       "      <td>270.528371</td>\n",
       "      <td>26.404119</td>\n",
       "      <td>5.212269</td>\n",
       "      <td>0.085502</td>\n",
       "      <td>15</td>\n",
       "      <td>1000</td>\n",
       "      <td>{'tm__n_components': 15, 'vectorizer__max_feat...</td>\n",
       "      <td>-344.446326</td>\n",
       "      <td>-236.000742</td>\n",
       "      <td>-293.386041</td>\n",
       "      <td>-291.277703</td>\n",
       "      <td>44.297818</td>\n",
       "      <td>8</td>\n",
       "    </tr>\n",
       "    <tr>\n",
       "      <th>5</th>\n",
       "      <td>245.811773</td>\n",
       "      <td>22.945225</td>\n",
       "      <td>5.499825</td>\n",
       "      <td>1.028813</td>\n",
       "      <td>16</td>\n",
       "      <td>1000</td>\n",
       "      <td>{'tm__n_components': 16, 'vectorizer__max_feat...</td>\n",
       "      <td>-347.713260</td>\n",
       "      <td>-236.745088</td>\n",
       "      <td>-295.470062</td>\n",
       "      <td>-293.309470</td>\n",
       "      <td>45.328320</td>\n",
       "      <td>9</td>\n",
       "    </tr>\n",
       "  </tbody>\n",
       "</table>\n",
       "</div>"
      ],
      "text/plain": [
       "   mean_fit_time  std_fit_time  mean_score_time  std_score_time  \\\n",
       "3     197.734406      1.230575         5.450848        0.118037   \n",
       "0     174.010780     20.709833         7.016777        1.475241   \n",
       "6     188.166911     15.163499         5.148619        0.113398   \n",
       "4     219.519567     13.366801         5.406644        0.360835   \n",
       "1     200.441769      4.279808         5.342746        0.043774   \n",
       "7     202.673157     31.004225         3.043595        0.710157   \n",
       "8     145.945184      6.601908         1.663417        0.383754   \n",
       "2     270.528371     26.404119         5.212269        0.085502   \n",
       "5     245.811773     22.945225         5.499825        1.028813   \n",
       "\n",
       "  param_tm__n_components param_vectorizer__max_features  \\\n",
       "3                     16                            500   \n",
       "0                     15                            500   \n",
       "6                     17                            500   \n",
       "4                     16                            750   \n",
       "1                     15                            750   \n",
       "7                     17                            750   \n",
       "8                     17                           1000   \n",
       "2                     15                           1000   \n",
       "5                     16                           1000   \n",
       "\n",
       "                                              params  split0_test_score  \\\n",
       "3  {'tm__n_components': 16, 'vectorizer__max_feat...        -165.160821   \n",
       "0  {'tm__n_components': 15, 'vectorizer__max_feat...        -166.123953   \n",
       "6  {'tm__n_components': 17, 'vectorizer__max_feat...        -168.291225   \n",
       "4  {'tm__n_components': 16, 'vectorizer__max_feat...        -257.140948   \n",
       "1  {'tm__n_components': 15, 'vectorizer__max_feat...        -257.311484   \n",
       "7  {'tm__n_components': 17, 'vectorizer__max_feat...        -261.169550   \n",
       "8  {'tm__n_components': 17, 'vectorizer__max_feat...        -342.497679   \n",
       "2  {'tm__n_components': 15, 'vectorizer__max_feat...        -344.446326   \n",
       "5  {'tm__n_components': 16, 'vectorizer__max_feat...        -347.713260   \n",
       "\n",
       "   split1_test_score  split2_test_score  mean_test_score  std_test_score  \\\n",
       "3        -110.524642        -139.244856      -138.310107       22.314918   \n",
       "0        -111.560702        -139.224190      -138.969615       22.276081   \n",
       "6        -110.933535        -140.001662      -139.742141       23.416898   \n",
       "4        -175.215892        -216.554260      -216.303700       33.446233   \n",
       "1        -173.333908        -220.263989      -216.969794       34.362743   \n",
       "7        -173.450057        -217.664495      -217.428034       35.811723   \n",
       "8        -237.903164        -286.501286      -288.967376       42.736124   \n",
       "2        -236.000742        -293.386041      -291.277703       44.297818   \n",
       "5        -236.745088        -295.470062      -293.309470       45.328320   \n",
       "\n",
       "   rank_test_score  \n",
       "3                1  \n",
       "0                2  \n",
       "6                3  \n",
       "4                4  \n",
       "1                5  \n",
       "7                6  \n",
       "8                7  \n",
       "2                8  \n",
       "5                9  "
      ]
     },
     "execution_count": 12,
     "metadata": {},
     "output_type": "execute_result"
    }
   ],
   "source": [
    "gs_df.sort_values(by='rank_test_score')"
   ]
  },
  {
   "cell_type": "code",
   "execution_count": 24,
   "metadata": {},
   "outputs": [
    {
     "data": {
      "image/png": "[encoded data removed]",
      "text/plain": [
       "<Figure size 432x288 with 1 Axes>"
      ]
     },
     "metadata": {
      "needs_background": "light"
     },
     "output_type": "display_data"
    }
   ],
   "source": [
    "%matplotlib inline\n",
    "\n",
    "df = gs_df.copy()\n",
    "\n",
    "df.set_index('param_tm__n_components', inplace=True)\n",
    "df.groupby('param_vectorizer__max_features')['mean_test_score'].plot(legend=True);\n",
    "\n"
   ]
  },
  {
   "cell_type": "code",
   "execution_count": 20,
   "metadata": {},
   "outputs": [
    {
     "data": {
      "text/plain": [
       "<matplotlib.axes._subplots.AxesSubplot at 0x11d2a6580>"
      ]
     },
     "execution_count": 20,
     "metadata": {},
     "output_type": "execute_result"
    },
    {
     "data": {
      "image/png": "[encoded data removed]",
      "text/plain": [
       "<Figure size 432x288 with 1 Axes>"
      ]
     },
     "metadata": {
      "needs_background": "light"
     },
     "output_type": "display_data"
    }
   ],
   "source": [
    "gs_df.set_index('param_tm__n_components').plot.line(x='', y='')"
   ]
  },
  {
   "cell_type": "code",
   "execution_count": 12,
   "metadata": {},
   "outputs": [
    {
     "data": {
      "text/plain": [
       "2419"
      ]
     },
     "execution_count": 12,
     "metadata": {},
     "output_type": "execute_result"
    }
   ],
   "source": [
    "cvectorizer = CountVectorizer(stop_words='english', min_df = .005 )\n",
    "cvectorizer.fit(df['text'])\n",
    "len(cvectorizer.get_feature_names())"
   ]
  },
  {
   "cell_type": "code",
   "execution_count": 13,
   "metadata": {},
   "outputs": [],
   "source": [
    "CountVectorizer?"
   ]
  },
  {
   "cell_type": "code",
   "execution_count": null,
   "metadata": {},
   "outputs": [],
   "source": []
  }
 ],
 "metadata": {
  "kernelspec": {
   "display_name": "Python 3",
   "language": "python",
   "name": "python3"
  },
  "language_info": {
   "codemirror_mode": {
    "name": "ipython",
    "version": 3
   },
   "file_extension": ".py",
   "mimetype": "text/x-python",
   "name": "python",
   "nbconvert_exporter": "python",
   "pygments_lexer": "ipython3",
   "version": "3.8.2"
  }
 },
 "nbformat": 4,
 "nbformat_minor": 4
}
