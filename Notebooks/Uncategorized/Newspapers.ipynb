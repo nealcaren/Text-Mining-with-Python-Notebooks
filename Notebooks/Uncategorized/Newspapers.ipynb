{
 "cells": [
  {
   "cell_type": "markdown",
   "metadata": {},
   "source": [
    "## Downloading newspaper articles  \n",
    "\n",
    "[**Neal Caren**](mailto:neal.caren@gmail.com)  \n",
    "University of North Carolina, Chapel Hill"
   ]
  },
  {
   "cell_type": "markdown",
   "metadata": {},
   "source": [
    "If you are interested in scrapping newspaper data, you might not need to build your own scraper. The [Newspaper](https://newspaper.readthedocs.io/en/latest/) library is a powerful tool for scraping the text and relevant meta data, such as author and title from newspaper articles and other online media sources. \n",
    "\n",
    "Newspaper works by looking for commonly occurring  tags, such as \"byline\" or \"author\", to identify the relevant components of a newspaper article, including title, author, publication date, and text. Even when it doesn't work completely, by for example, extracting everything but the author, it can greatly reduce the amount of time you spend inspecting the parsing the HTML by hand.  "
   ]
  },
  {
   "cell_type": "markdown",
   "metadata": {},
   "source": [
    "If this is your first time running this notebook, you may need to install Newspaper:\n",
    "\n",
    "```\n",
    "!pip install newspaper3k\n",
    "```"
   ]
  },
  {
   "cell_type": "markdown",
   "metadata": {},
   "source": [
    "Newspaper has the ability to scan the front page of a media source and identify all the articles on the page using the `build` method. A more common scenario for researchers is to have a list of articles URLs, created either from the paper's API or scrapped using the paper's search function. In this case, Newspaper's `Article` method is used to download, parse and extract the relevant information."
   ]
  },
  {
   "cell_type": "code",
   "execution_count": 1,
   "metadata": {},
   "outputs": [],
   "source": [
    "from newspaper import Article"
   ]
  },
  {
   "cell_type": "markdown",
   "metadata": {},
   "source": [
    "On February 25th, 2019, the Associated Press published, \"[Worker visas in doubt as Trump immigration crackdown widens\n",
    "](https://apnews.com/af878855969c4b48bc8b083b91c67018)\".\n",
    "\n",
    "![visas](images\\visas.png)"
   ]
  },
  {
   "cell_type": "markdown",
   "metadata": {},
   "source": [
    "I save the URL as a variable."
   ]
  },
  {
   "cell_type": "code",
   "execution_count": 2,
   "metadata": {},
   "outputs": [],
   "source": [
    "url = \"https://apnews.com/af878855969c4b48bc8b083b91c67018\""
   ]
  },
  {
   "cell_type": "markdown",
   "metadata": {},
   "source": [
    "Article is a three step process. First, create an Article object, which I'll call article. The page then needs to be download and parsed."
   ]
  },
  {
   "cell_type": "code",
   "execution_count": 3,
   "metadata": {},
   "outputs": [],
   "source": [
    "article = Article(url)\n",
    "article.download()\n",
    "article.parse()"
   ]
  },
  {
   "cell_type": "markdown",
   "metadata": {},
   "source": [
    "The article object stores the results of the parse as different properties of the object. The most relevant of these are title, authors, publish_date and text. I check these four to make sure that page was able to be parsed."
   ]
  },
  {
   "cell_type": "code",
   "execution_count": 4,
   "metadata": {},
   "outputs": [
    {
     "data": {
      "text/plain": [
       "'Worker visas in doubt as Trump immigration crackdown widens'"
      ]
     },
     "execution_count": 4,
     "metadata": {},
     "output_type": "execute_result"
    }
   ],
   "source": [
    "article.title"
   ]
  },
  {
   "cell_type": "code",
   "execution_count": 5,
   "metadata": {},
   "outputs": [
    {
     "data": {
      "text/plain": [
       "['Matt Sedensky']"
      ]
     },
     "execution_count": 5,
     "metadata": {},
     "output_type": "execute_result"
    }
   ],
   "source": [
    "article.authors"
   ]
  },
  {
   "cell_type": "markdown",
   "metadata": {},
   "source": [
    "Authors returns a list. In this case, it only has one item. "
   ]
  },
  {
   "cell_type": "code",
   "execution_count": 6,
   "metadata": {},
   "outputs": [
    {
     "data": {
      "text/plain": [
       "datetime.datetime(2019, 2, 25, 21, 13, 33, tzinfo=tzutc())"
      ]
     },
     "execution_count": 6,
     "metadata": {},
     "output_type": "execute_result"
    }
   ],
   "source": [
    "article.publish_date"
   ]
  },
  {
   "cell_type": "markdown",
   "metadata": {},
   "source": [
    "In this case, publish_date returns the publication date and time converted into a Python datetime object. "
   ]
  },
  {
   "cell_type": "code",
   "execution_count": 7,
   "metadata": {},
   "outputs": [
    {
     "name": "stdout",
     "output_type": "stream",
     "text": [
      "In this Monday, Feb. 4, 2019, photo, Leo Wang packs a suitcase at his home in San Jose, Calif. Wang has found himself trapped in an obstacle course regarding H-1B work visas for foreigners. His visa denied and his days in the United States numbered, Wang is looking for work outside the country. “I still believe in the American dream,” he says. “It’s just that I personally have to pursue it somewhere else.” (AP Photo/Ben Margot)\n",
      "\n",
      "NEW YORK (AP) — Immigrants with specialized skills are being denied work visas or seeing applications get caught up in lengthy bureaucratic tangles under federal changes that some consider a contradiction to President Donald Trump’s promise of a continued pathway to the U.S. for the most talented foreigners.\n",
      "\n",
      "Getting what’s known as an H-1B visa has never been a sure thing — the number issued annually is capped at 85,000 and applicants need to enter a lottery to even be considered. But some immigration attorneys, as well as those who hire such workers, say they’ve seen unprecedented disruptions in the approval process since Trump took office in 2017.\n",
      "\n",
      "“You see all these arguments that we want the best and the brightest coming here,” said John Goslow, an immigration attorney in Ann Arbor, Michigan. “Yet we’re seeing a full-frontal assault on just all aspects of immigration.”\n",
      "\n",
      "For American businesses, there is a bottom-line impact.\n",
      "\n",
      "Link Wilson, an architect who co-founded a firm in Bloomington, Minnesota, said finding enough qualified workers within the U.S. has been a problem for years. That’s due to a shortage of architects, but also because his firm needs people with experience developing senior housing. He said employers who turn to international applicants do so as a last resort, putting up with legal fees and ever-expanding visa approval times because they have no other choice.\n",
      "\n",
      "“We’re just at the point where there’s no one else to hire,” said Wilson, who hired an architect under an H-1B visa last year after enduring a long wait. He estimates his firm turned away about $1 million in projects in 2018 because it didn’t have enough staff to handle them.\n",
      "\n",
      "Three months after taking office, Trump issued his “Buy American and Hire American” executive order , directing Cabinet officials to suggest reforms to ensure that H-1B visas are awarded to the “most-skilled or highest-paid” applicants to help promote the hiring of Americans for jobs that might otherwise go to immigrants.\n",
      "\n",
      "Subsequent memos have allowed for greater discretion in denying applications without first requesting additional information from an applicant, tossed the deference given to people seeking to renew their H-1Bs, and raised concern that the government would revoke work permits for the spouses of H-1B holders. One order restricted companies’ ability to use H-1B workers off-site at a customer’s place of business, while another temporarily rescinded the option of paying for faster application processing.\n",
      "\n",
      "Attorneys who handle these applications say one of the biggest shifts is an increase in “requests for evidence,” or RFEs, from U.S. Citizenship and Immigration Services. An RFE can delay a visa for months or longer as applicants and employers are forced to submit additional documentation over things such as the applicability of a college degree to a prospective job or whether the wage being offered is appropriate. If the responses are unsatisfactory, a visa may be denied.\n",
      "\n",
      "“They’re just blocking the avenues so that employers will get frustrated and they won’t employ foreign nationals,” said Dakshini Sen, an immigration lawyer in Houston whose caseload is mostly H-1B applications. “We have to write and write and write and explain and explain and explain each and every point.”\n",
      "\n",
      "USCIS data released on Friday shows an increase in the number of completed H-1B applications receiving an RFE, from about 21 percent in the 2016 fiscal year to 38 percent last fiscal year. The number continued to rise in the first quarter of this fiscal year, to 60 percent.\n",
      "\n",
      "A growing number of applications with such requests were ultimately denied, while the approval rate among all applicants has fallen. Approvals also dipped in two other visa programs for foreign workers, including one for individuals with extraordinary abilities in areas such as science, sports and the arts.\n",
      "\n",
      "Jessica Collins, a spokeswoman for USCIS, linked the changes to the president’s executive order, saying the goal was to reduce “frivolous” petitions and that “it is incumbent upon the petitioner, not the government” to prove eligibility.\n",
      "\n",
      "Some employers note traditional three-year renewable terms of H-1Bs have also been changing; one lawsuit by an organization representing information technology companies claims some visas were valid for only a few days or had expired before they were even received.\n",
      "\n",
      "Meantime, a vague entry published in the Federal Register last fall advised that the Department of Homeland Security would propose additional revisions to focus on attracting “the best and the brightest” and to “ensure employers pay appropriate wages” to H-1B visa holders, which has raised alarms that the administration will move to narrow the definition of who qualifies.\n",
      "\n",
      "Caught in the crosshairs of all this are workers like Leo Wang.\n",
      "\n",
      "Wang, 32, spent six years after college in his native China learning all he could about data and analytics. He got into the University of Southern California, interned at a major venture capital firm and wasted no time after finishing his master’s before starting on another degree. He couch-surfed, passed up an enticing foreign job offer and amassed educational debt all in pursuit of the dream that ultimately came true: A six-figure Silicon Valley job.\n",
      "\n",
      "As long as it took Wang to achieve his goal, it disappeared in record time.\n",
      "\n",
      "Wang was working at Seagate Technology under an immigration provision known as Optional Practical Training, which gives those on student visas permission to work. But that expired last year, and because his H-1B application was in flux, he was forced to take a leave from Seagate and withdraw from the master’s program he was pursuing at Berkeley. He says he and his company dutifully responded to an RFE, compiling examples of his work at Seagate. But on Jan. 11, Wang got a final answer: He was denied an H-1B.\n",
      "\n",
      "“All I wanted was to be able to see my American dream,” he said.\n",
      "\n",
      "Sandra Feist, an immigration attorney in Minneapolis, said talented foreigners discouraged by the visa process are beginning to look at opportunities in other countries, and she questions what that means for America’s future, especially if top-tier researchers who could contribute to science and medicine are turned away.\n",
      "\n",
      "One of her clients, a computer systems analyst from India with a master’s degree from a U.S. college, filed his petition for an H-1B in April 2017 with 101 pages of documentation. He received an RFE, and a 176-page response was filed, with additional paperwork attempting to prove just how complicated the position was. He was denied. Feist filed a 282-page appeal, requesting that the file be reopened. Though the appeal was approved, there was a second RFE, which Feist said raises the same issues she already responded to.\n",
      "\n",
      "With a U.S. work visa unlikely, that client is applying for permanent residency in Canada with his wife and U.S. citizen child.\n",
      "\n",
      "CEOs for companies including Apple, Ford and Coca-Cola penned a letter to Homeland Security Secretary Kirstjen Nielsen in August, saying immigration policy changes were undermining economic growth. “At a time when the number of job vacancies are reaching historic highs due to labor shortages,” they said, “now is not the time to restrict access to talent.”\n",
      "\n",
      "A provision for immigration based on skills, education and employer needs dates back to the Immigration and Nationality Act of 1952, and the visa now known as the H-1B has until recently enjoyed wide support among politicians on both the left and the right. A Pew Research Center survey last year found broad approval for high-skilled immigrants among the public, as well, with support at 83 percent among Democrats polled and 73 percent of Republicans.\n",
      "\n",
      "Trump has vacillated on the issue. During a March 2016 presidential debate, then-candidate Trump was asked about his opposition to visas for skilled workers, to which he said “I’m changing” and that he saw such policies as a way to keep top international students in the U.S. “We absolutely have to be able to keep the brain power in this country,” he said.\n",
      "\n",
      "His campaign followed that with a statement saying: “The H-1B program is neither high-skilled nor immigration: these are temporary foreign workers, imported from abroad, for the explicit purpose of substituting for American workers at lower pay.”\n",
      "\n",
      "Last month, Trump again reverted to a more conciliatory note, tweeting that H1-B holders “can rest assured that changes are soon coming which will bring both simplicity and certainty to your stay, including a potential path to citizenship.”\n",
      "\n",
      "Back in China now, Wang isn’t sure what to make of Trump’s words. He’s talked to a friend from Seagate, now at a Swedish firm, about openings there, and a former boss in Singapore has some prospects for him as well.\n",
      "\n",
      "“I still believe in the American dream,” he says. “It’s just that I personally have to pursue it somewhere else.”\n",
      "\n",
      "___\n",
      "\n",
      "Sedensky can be reached at msedensky@ap.org and https://twitter.com/sedensky\n"
     ]
    }
   ],
   "source": [
    "print(article.text)"
   ]
  },
  {
   "cell_type": "markdown",
   "metadata": {},
   "source": [
    "In this case, the full-text of the article has been returned. It also returned the image caption (at the top) and author contact information (at the bottom). These might need to be trimmed later on. "
   ]
  },
  {
   "cell_type": "markdown",
   "metadata": {},
   "source": [
    "Anytime I'm using Newspaper, I want to store data on many different newspaper articles. To automate this process, I created a function that takes a URL and returns a dictionary containing the extracted meta data along with the html code, in case I want to extract additional information later on by hand. It also good to always have the data you are collecting in the original format, rather than just the parsed information. Note that one limitation of Newspaper is that it does not work on HTML files you have downloaded elsewhere. "
   ]
  },
  {
   "cell_type": "code",
   "execution_count": 8,
   "metadata": {},
   "outputs": [],
   "source": [
    "def get_article_info(url):\n",
    "    \"\"\"Download and parse a newspaper url.\"\"\"\n",
    "    article = Article(url)\n",
    "    article.download()\n",
    "    article.parse()\n",
    "\n",
    "    article_details = {\n",
    "        \"title\": article.title,\n",
    "        \"text\": article.text,\n",
    "        \"webUrl\": article.url,\n",
    "        \"authors\": article.authors,\n",
    "        \"html\": article.html,\n",
    "        \"date\": article.publish_date,\n",
    "        \"description\": article.meta_description,\n",
    "    }\n",
    "    return article_details"
   ]
  },
  {
   "cell_type": "markdown",
   "metadata": {},
   "source": [
    "I confirm that it works."
   ]
  },
  {
   "cell_type": "code",
   "execution_count": 9,
   "metadata": {},
   "outputs": [
    {
     "name": "stdout",
     "output_type": "stream",
     "text": [
      "Worker visas in doubt as Trump immigration crackdown widens\n"
     ]
    }
   ],
   "source": [
    "a = get_article_info(url)\n",
    "print(a[\"title\"])"
   ]
  },
  {
   "cell_type": "markdown",
   "metadata": {},
   "source": [
    "One of the many uses of the pandas library is to convert and store different types of data. In this case, pandas can be used to convert the dictionary returned by `get_article_info` into a dataframe, which can be subsequntly stored as a JSON file."
   ]
  },
  {
   "cell_type": "code",
   "execution_count": 10,
   "metadata": {},
   "outputs": [],
   "source": [
    "import pandas as pd"
   ]
  },
  {
   "cell_type": "code",
   "execution_count": 11,
   "metadata": {},
   "outputs": [],
   "source": [
    "df = pd.DataFrame.from_records(a)"
   ]
  },
  {
   "cell_type": "code",
   "execution_count": 12,
   "metadata": {},
   "outputs": [
    {
     "data": {
      "text/html": [
       "<div>\n",
       "<style scoped>\n",
       "    .dataframe tbody tr th:only-of-type {\n",
       "        vertical-align: middle;\n",
       "    }\n",
       "\n",
       "    .dataframe tbody tr th {\n",
       "        vertical-align: top;\n",
       "    }\n",
       "\n",
       "    .dataframe thead th {\n",
       "        text-align: right;\n",
       "    }\n",
       "</style>\n",
       "<table border=\"1\" class=\"dataframe\">\n",
       "  <thead>\n",
       "    <tr style=\"text-align: right;\">\n",
       "      <th></th>\n",
       "      <th>authors</th>\n",
       "      <th>date</th>\n",
       "      <th>description</th>\n",
       "      <th>html</th>\n",
       "      <th>text</th>\n",
       "      <th>title</th>\n",
       "      <th>webUrl</th>\n",
       "    </tr>\n",
       "  </thead>\n",
       "  <tbody>\n",
       "    <tr>\n",
       "      <th>0</th>\n",
       "      <td>Matt Sedensky</td>\n",
       "      <td>2019-02-25 21:13:33+00:00</td>\n",
       "      <td>NEW YORK (AP) — Immigrants with specialized sk...</td>\n",
       "      <td>&lt;!DOCTYPE html&gt;&lt;html&gt;&lt;head&gt;&lt;meta charset=\"UTF-...</td>\n",
       "      <td>In this Monday, Feb. 4, 2019, photo, Leo Wang ...</td>\n",
       "      <td>Worker visas in doubt as Trump immigration cra...</td>\n",
       "      <td>https://apnews.com/af878855969c4b48bc8b083b91c...</td>\n",
       "    </tr>\n",
       "  </tbody>\n",
       "</table>\n",
       "</div>"
      ],
      "text/plain": [
       "         authors                      date  \\\n",
       "0  Matt Sedensky 2019-02-25 21:13:33+00:00   \n",
       "\n",
       "                                         description  \\\n",
       "0  NEW YORK (AP) — Immigrants with specialized sk...   \n",
       "\n",
       "                                                html  \\\n",
       "0  <!DOCTYPE html><html><head><meta charset=\"UTF-...   \n",
       "\n",
       "                                                text  \\\n",
       "0  In this Monday, Feb. 4, 2019, photo, Leo Wang ...   \n",
       "\n",
       "                                               title  \\\n",
       "0  Worker visas in doubt as Trump immigration cra...   \n",
       "\n",
       "                                              webUrl  \n",
       "0  https://apnews.com/af878855969c4b48bc8b083b91c...  "
      ]
     },
     "execution_count": 12,
     "metadata": {},
     "output_type": "execute_result"
    }
   ],
   "source": [
    "df.head()"
   ]
  },
  {
   "cell_type": "code",
   "execution_count": 13,
   "metadata": {},
   "outputs": [],
   "source": [
    "df.to_json(\"ap_articles.json\", orient=\"records\")"
   ]
  },
  {
   "cell_type": "markdown",
   "metadata": {},
   "source": [
    "While this might seem like overkill for one article, it scales up quite nicely if you have a longer list of URLs."
   ]
  },
  {
   "cell_type": "code",
   "execution_count": 14,
   "metadata": {},
   "outputs": [],
   "source": [
    "urls = [\n",
    "    \"https://apnews.com/43bcb090972f4cc48999e8cc32de38a3\",\n",
    "    \"https://apnews.com/1cc6b8d081154945addfd71fadb88561\",\n",
    "    \"https://apnews.com/7820c2fdb5b14ef9baef8b1e5cad3c0b\",\n",
    "]"
   ]
  },
  {
   "cell_type": "code",
   "execution_count": 15,
   "metadata": {},
   "outputs": [],
   "source": [
    "article_data = []  # Blank list to store results\n",
    "\n",
    "# Loop over each URL\n",
    "for url in urls:\n",
    "    a = get_article_info(url)\n",
    "    article_data.append(a)\n",
    "\n",
    "# convert list of dictionaries to dataframe\n",
    "df = pd.DataFrame.from_records(article_data)"
   ]
  },
  {
   "cell_type": "code",
   "execution_count": 16,
   "metadata": {},
   "outputs": [
    {
     "data": {
      "text/html": [
       "<div>\n",
       "<style scoped>\n",
       "    .dataframe tbody tr th:only-of-type {\n",
       "        vertical-align: middle;\n",
       "    }\n",
       "\n",
       "    .dataframe tbody tr th {\n",
       "        vertical-align: top;\n",
       "    }\n",
       "\n",
       "    .dataframe thead th {\n",
       "        text-align: right;\n",
       "    }\n",
       "</style>\n",
       "<table border=\"1\" class=\"dataframe\">\n",
       "  <thead>\n",
       "    <tr style=\"text-align: right;\">\n",
       "      <th></th>\n",
       "      <th>authors</th>\n",
       "      <th>date</th>\n",
       "      <th>description</th>\n",
       "      <th>html</th>\n",
       "      <th>text</th>\n",
       "      <th>title</th>\n",
       "      <th>webUrl</th>\n",
       "    </tr>\n",
       "  </thead>\n",
       "  <tbody>\n",
       "    <tr>\n",
       "      <th>0</th>\n",
       "      <td>[Nomaan Merchant, Julie Watson]</td>\n",
       "      <td>2019-02-22 02:16:01+00:00</td>\n",
       "      <td>SAN DIEGO (AP) — Months after the Trump admini...</td>\n",
       "      <td>&lt;!DOCTYPE html&gt;&lt;html&gt;&lt;head&gt;&lt;meta charset=\"UTF-...</td>\n",
       "      <td>FILE - This Aug. 9, 2018, file photo, provided...</td>\n",
       "      <td>Judge considers expanding child separation case</td>\n",
       "      <td>https://apnews.com/43bcb090972f4cc48999e8cc32d...</td>\n",
       "    </tr>\n",
       "    <tr>\n",
       "      <th>1</th>\n",
       "      <td>[Catherine Lucey]</td>\n",
       "      <td>2019-02-20 02:24:06+00:00</td>\n",
       "      <td>WASHINGTON (AP) — President Donald Trump decla...</td>\n",
       "      <td>&lt;!DOCTYPE html&gt;&lt;html&gt;&lt;head&gt;&lt;meta charset=\"UTF-...</td>\n",
       "      <td>FILE - In this March 13, 2018, file photo, Pre...</td>\n",
       "      <td>Trump says he has ‘absolute right’ to declare ...</td>\n",
       "      <td>https://apnews.com/1cc6b8d081154945addfd71fadb...</td>\n",
       "    </tr>\n",
       "    <tr>\n",
       "      <th>2</th>\n",
       "      <td>[Garance Burke, Martha Mendoza]</td>\n",
       "      <td>2019-02-20 00:05:30+00:00</td>\n",
       "      <td>Nearly 50 Democratic lawmakers called for a wa...</td>\n",
       "      <td>&lt;!DOCTYPE html&gt;&lt;html&gt;&lt;head&gt;&lt;meta charset=\"UTF-...</td>\n",
       "      <td>FILE - In this June 2018 file photo, protester...</td>\n",
       "      <td>Lawmakers seek probe of ICE force-feeding of i...</td>\n",
       "      <td>https://apnews.com/7820c2fdb5b14ef9baef8b1e5ca...</td>\n",
       "    </tr>\n",
       "  </tbody>\n",
       "</table>\n",
       "</div>"
      ],
      "text/plain": [
       "                           authors                      date  \\\n",
       "0  [Nomaan Merchant, Julie Watson] 2019-02-22 02:16:01+00:00   \n",
       "1                [Catherine Lucey] 2019-02-20 02:24:06+00:00   \n",
       "2  [Garance Burke, Martha Mendoza] 2019-02-20 00:05:30+00:00   \n",
       "\n",
       "                                         description  \\\n",
       "0  SAN DIEGO (AP) — Months after the Trump admini...   \n",
       "1  WASHINGTON (AP) — President Donald Trump decla...   \n",
       "2  Nearly 50 Democratic lawmakers called for a wa...   \n",
       "\n",
       "                                                html  \\\n",
       "0  <!DOCTYPE html><html><head><meta charset=\"UTF-...   \n",
       "1  <!DOCTYPE html><html><head><meta charset=\"UTF-...   \n",
       "2  <!DOCTYPE html><html><head><meta charset=\"UTF-...   \n",
       "\n",
       "                                                text  \\\n",
       "0  FILE - This Aug. 9, 2018, file photo, provided...   \n",
       "1  FILE - In this March 13, 2018, file photo, Pre...   \n",
       "2  FILE - In this June 2018 file photo, protester...   \n",
       "\n",
       "                                               title  \\\n",
       "0    Judge considers expanding child separation case   \n",
       "1  Trump says he has ‘absolute right’ to declare ...   \n",
       "2  Lawmakers seek probe of ICE force-feeding of i...   \n",
       "\n",
       "                                              webUrl  \n",
       "0  https://apnews.com/43bcb090972f4cc48999e8cc32d...  \n",
       "1  https://apnews.com/1cc6b8d081154945addfd71fadb...  \n",
       "2  https://apnews.com/7820c2fdb5b14ef9baef8b1e5ca...  "
      ]
     },
     "execution_count": 16,
     "metadata": {},
     "output_type": "execute_result"
    }
   ],
   "source": [
    "df.head()"
   ]
  },
  {
   "cell_type": "markdown",
   "metadata": {},
   "source": [
    "I have some suggests on best practices for [downloading a lot of files](https://github.com/nealcaren/Lessons/blob/master/Notebooks/Downloading.ipynb), which are relevant here, since you want to avoid downloading each article more than once. \n",
    "\n",
    "I have found that the most common issue with newspaper is that it missing the author information. A second issue is that it sometimes only retrieves part of the text with articles ending, \"Click here to continue.\" In either of those cases, I usually start by using Newspaper to download and parse all the information and supplement the columns it creates with additional ones based on parsing the article text store in the HTML column. "
   ]
  }
 ],
 "metadata": {
  "kernelspec": {
   "display_name": "Python 3",
   "language": "python",
   "name": "python3"
  },
  "language_info": {
   "codemirror_mode": {
    "name": "ipython",
    "version": 3
   },
   "file_extension": ".py",
   "mimetype": "text/x-python",
   "name": "python",
   "nbconvert_exporter": "python",
   "pygments_lexer": "ipython3",
   "version": "3.6.9"
  }
 },
 "nbformat": 4,
 "nbformat_minor": 2
}
