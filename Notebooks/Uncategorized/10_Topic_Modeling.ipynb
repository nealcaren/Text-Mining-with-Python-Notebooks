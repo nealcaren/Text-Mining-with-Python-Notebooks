{
 "cells": [
  {
   "cell_type": "markdown",
   "metadata": {
    "slideshow": {
     "slide_type": "slide"
    }
   },
   "source": [
    "# Topic Models"
   ]
  },
  {
   "cell_type": "markdown",
   "metadata": {
    "slideshow": {
     "slide_type": "slide"
    }
   },
   "source": [
    "As you've likely realized by this point in the book, there is an abundance of information available online suited to social science research. The breadth of available data means there's more information out there than any individual researcher--or even teams of researchers--would be able to efficiently analyze without the assistance of some additional tools. \n",
    "\n",
    "Luckily, topic modeling allows us to quickly and systematically analyze vast quantities of unstructured text. With topic modelling, we are able to uncover some of the more abstract, underlying themes aross large collections of text without putting in the hours of manpower necessary to read through the texts at a human pace. \n",
    "\n",
    "This lesson will go over what, exactly, topic modeling does, walk through how to run Latent Dirichlet allocation (LDA) topic models in Python, and introduce a number of fit statistics to help us better understand the topic models we'll be generating. We'll end with a discussion of several useful visualization tools for topic modeling. "
   ]
  },
  {
   "cell_type": "markdown",
   "metadata": {
    "slideshow": {
     "slide_type": "slide"
    }
   },
   "source": [
    "# What is Topic Modeling?\n",
    "\n",
    "\n",
    "As a form of unsupervised machine learning, *topic modeling* allows for the classification of large collections of textual documents into natural groups, without the need for extensive human supervision. Employed in text mining and natural language processing, topic models can uncover the hidden, or *latent*, meanings of language patterns within texts.  \n",
    "\n",
    "\n",
    "> In text mining, we often have collections of documents, such as blog posts or news articles, that we’d like to divide into natural groups so that we can understand them separately. Topic modeling is a method for unsupervised classification of such documents, similar to clustering on numeric data, which finds natural groups of items even when we’re not sure what we’re looking for.\n",
    "\n",
    "[Source](https://www.tidytextmining.com/topicmodeling.html)\n"
   ]
  },
  {
   "cell_type": "markdown",
   "metadata": {
    "slideshow": {
     "slide_type": "slide"
    }
   },
   "source": [
    "## Setup\n",
    "\n",
    "In addition to `matplotlib inline` and `pandas`, we'll also be importing `CountVectorizer` from [scikit-learn](https://scikit-learn.org/stable/), a machine learning library for Python. We'll discuss the role of `CountVectorizer` in topic modeling in more detail later in the chapter. \n",
    "\n",
    "We'll also want to use `pandas` to increase our maximum column width to 120 characters, over the default 50-character column width. This will help us more easily glance over text in the dataframe. \n",
    "\n"
   ]
  },
  {
   "cell_type": "code",
   "execution_count": 1,
   "metadata": {
    "slideshow": {
     "slide_type": "slide"
    }
   },
   "outputs": [],
   "source": [
    "%matplotlib inline\n",
    "\n",
    "import pandas as pd\n",
    "\n",
    "from sklearn.feature_extraction.text import CountVectorizer\n",
    "\n",
    "\n",
    "pd.set_option('display.max_colwidth', 120)"
   ]
  },
  {
   "cell_type": "markdown",
   "metadata": {
    "slideshow": {
     "slide_type": "slide"
    }
   },
   "source": [
    "In this chapter we'll be looking at [transcriptions](https://www.kaggle.com/unitednations/un-general-debates) of United Nations General Debates, from 1970 to 2016."
   ]
  },
  {
   "cell_type": "code",
   "execution_count": 2,
   "metadata": {
    "slideshow": {
     "slide_type": "slide"
    }
   },
   "outputs": [
    {
     "ename": "ValueError",
     "evalue": "Expected object or value",
     "output_type": "error",
     "traceback": [
      "\u001b[0;31m---------------------------------------------------------------------------\u001b[0m",
      "\u001b[0;31mValueError\u001b[0m                                Traceback (most recent call last)",
      "\u001b[0;32m<ipython-input-2-56f6fdd2bcbb>\u001b[0m in \u001b[0;36m<module>\u001b[0;34m\u001b[0m\n\u001b[0;32m----> 1\u001b[0;31m \u001b[0mun_df\u001b[0m \u001b[0;34m=\u001b[0m \u001b[0mpd\u001b[0m\u001b[0;34m.\u001b[0m\u001b[0mread_json\u001b[0m\u001b[0;34m(\u001b[0m\u001b[0;34m'data/un-general-debates.json'\u001b[0m\u001b[0;34m)\u001b[0m\u001b[0;34m\u001b[0m\u001b[0;34m\u001b[0m\u001b[0m\n\u001b[0m\u001b[1;32m      2\u001b[0m \u001b[0mprint\u001b[0m\u001b[0;34m(\u001b[0m\u001b[0mlen\u001b[0m\u001b[0;34m(\u001b[0m\u001b[0mun_df\u001b[0m\u001b[0;34m)\u001b[0m\u001b[0;34m)\u001b[0m\u001b[0;34m\u001b[0m\u001b[0;34m\u001b[0m\u001b[0m\n",
      "\u001b[0;32m~/anaconda3/envs/tmwp/lib/python3.8/site-packages/pandas/util/_decorators.py\u001b[0m in \u001b[0;36mwrapper\u001b[0;34m(*args, **kwargs)\u001b[0m\n\u001b[1;32m    212\u001b[0m                 \u001b[0;32melse\u001b[0m\u001b[0;34m:\u001b[0m\u001b[0;34m\u001b[0m\u001b[0;34m\u001b[0m\u001b[0m\n\u001b[1;32m    213\u001b[0m                     \u001b[0mkwargs\u001b[0m\u001b[0;34m[\u001b[0m\u001b[0mnew_arg_name\u001b[0m\u001b[0;34m]\u001b[0m \u001b[0;34m=\u001b[0m \u001b[0mnew_arg_value\u001b[0m\u001b[0;34m\u001b[0m\u001b[0;34m\u001b[0m\u001b[0m\n\u001b[0;32m--> 214\u001b[0;31m             \u001b[0;32mreturn\u001b[0m \u001b[0mfunc\u001b[0m\u001b[0;34m(\u001b[0m\u001b[0;34m*\u001b[0m\u001b[0margs\u001b[0m\u001b[0;34m,\u001b[0m \u001b[0;34m**\u001b[0m\u001b[0mkwargs\u001b[0m\u001b[0;34m)\u001b[0m\u001b[0;34m\u001b[0m\u001b[0;34m\u001b[0m\u001b[0m\n\u001b[0m\u001b[1;32m    215\u001b[0m \u001b[0;34m\u001b[0m\u001b[0m\n\u001b[1;32m    216\u001b[0m         \u001b[0;32mreturn\u001b[0m \u001b[0mcast\u001b[0m\u001b[0;34m(\u001b[0m\u001b[0mF\u001b[0m\u001b[0;34m,\u001b[0m \u001b[0mwrapper\u001b[0m\u001b[0;34m)\u001b[0m\u001b[0;34m\u001b[0m\u001b[0;34m\u001b[0m\u001b[0m\n",
      "\u001b[0;32m~/anaconda3/envs/tmwp/lib/python3.8/site-packages/pandas/io/json/_json.py\u001b[0m in \u001b[0;36mread_json\u001b[0;34m(path_or_buf, orient, typ, dtype, convert_axes, convert_dates, keep_default_dates, numpy, precise_float, date_unit, encoding, lines, chunksize, compression)\u001b[0m\n\u001b[1;32m    606\u001b[0m         \u001b[0;32mreturn\u001b[0m \u001b[0mjson_reader\u001b[0m\u001b[0;34m\u001b[0m\u001b[0;34m\u001b[0m\u001b[0m\n\u001b[1;32m    607\u001b[0m \u001b[0;34m\u001b[0m\u001b[0m\n\u001b[0;32m--> 608\u001b[0;31m     \u001b[0mresult\u001b[0m \u001b[0;34m=\u001b[0m \u001b[0mjson_reader\u001b[0m\u001b[0;34m.\u001b[0m\u001b[0mread\u001b[0m\u001b[0;34m(\u001b[0m\u001b[0;34m)\u001b[0m\u001b[0;34m\u001b[0m\u001b[0;34m\u001b[0m\u001b[0m\n\u001b[0m\u001b[1;32m    609\u001b[0m     \u001b[0;32mif\u001b[0m \u001b[0mshould_close\u001b[0m\u001b[0;34m:\u001b[0m\u001b[0;34m\u001b[0m\u001b[0;34m\u001b[0m\u001b[0m\n\u001b[1;32m    610\u001b[0m         \u001b[0mfilepath_or_buffer\u001b[0m\u001b[0;34m.\u001b[0m\u001b[0mclose\u001b[0m\u001b[0;34m(\u001b[0m\u001b[0;34m)\u001b[0m\u001b[0;34m\u001b[0m\u001b[0;34m\u001b[0m\u001b[0m\n",
      "\u001b[0;32m~/anaconda3/envs/tmwp/lib/python3.8/site-packages/pandas/io/json/_json.py\u001b[0m in \u001b[0;36mread\u001b[0;34m(self)\u001b[0m\n\u001b[1;32m    729\u001b[0m             \u001b[0mobj\u001b[0m \u001b[0;34m=\u001b[0m \u001b[0mself\u001b[0m\u001b[0;34m.\u001b[0m\u001b[0m_get_object_parser\u001b[0m\u001b[0;34m(\u001b[0m\u001b[0mself\u001b[0m\u001b[0;34m.\u001b[0m\u001b[0m_combine_lines\u001b[0m\u001b[0;34m(\u001b[0m\u001b[0mdata\u001b[0m\u001b[0;34m.\u001b[0m\u001b[0msplit\u001b[0m\u001b[0;34m(\u001b[0m\u001b[0;34m\"\\n\"\u001b[0m\u001b[0;34m)\u001b[0m\u001b[0;34m)\u001b[0m\u001b[0;34m)\u001b[0m\u001b[0;34m\u001b[0m\u001b[0;34m\u001b[0m\u001b[0m\n\u001b[1;32m    730\u001b[0m         \u001b[0;32melse\u001b[0m\u001b[0;34m:\u001b[0m\u001b[0;34m\u001b[0m\u001b[0;34m\u001b[0m\u001b[0m\n\u001b[0;32m--> 731\u001b[0;31m             \u001b[0mobj\u001b[0m \u001b[0;34m=\u001b[0m \u001b[0mself\u001b[0m\u001b[0;34m.\u001b[0m\u001b[0m_get_object_parser\u001b[0m\u001b[0;34m(\u001b[0m\u001b[0mself\u001b[0m\u001b[0;34m.\u001b[0m\u001b[0mdata\u001b[0m\u001b[0;34m)\u001b[0m\u001b[0;34m\u001b[0m\u001b[0;34m\u001b[0m\u001b[0m\n\u001b[0m\u001b[1;32m    732\u001b[0m         \u001b[0mself\u001b[0m\u001b[0;34m.\u001b[0m\u001b[0mclose\u001b[0m\u001b[0;34m(\u001b[0m\u001b[0;34m)\u001b[0m\u001b[0;34m\u001b[0m\u001b[0;34m\u001b[0m\u001b[0m\n\u001b[1;32m    733\u001b[0m         \u001b[0;32mreturn\u001b[0m \u001b[0mobj\u001b[0m\u001b[0;34m\u001b[0m\u001b[0;34m\u001b[0m\u001b[0m\n",
      "\u001b[0;32m~/anaconda3/envs/tmwp/lib/python3.8/site-packages/pandas/io/json/_json.py\u001b[0m in \u001b[0;36m_get_object_parser\u001b[0;34m(self, json)\u001b[0m\n\u001b[1;32m    751\u001b[0m         \u001b[0mobj\u001b[0m \u001b[0;34m=\u001b[0m \u001b[0;32mNone\u001b[0m\u001b[0;34m\u001b[0m\u001b[0;34m\u001b[0m\u001b[0m\n\u001b[1;32m    752\u001b[0m         \u001b[0;32mif\u001b[0m \u001b[0mtyp\u001b[0m \u001b[0;34m==\u001b[0m \u001b[0;34m\"frame\"\u001b[0m\u001b[0;34m:\u001b[0m\u001b[0;34m\u001b[0m\u001b[0;34m\u001b[0m\u001b[0m\n\u001b[0;32m--> 753\u001b[0;31m             \u001b[0mobj\u001b[0m \u001b[0;34m=\u001b[0m \u001b[0mFrameParser\u001b[0m\u001b[0;34m(\u001b[0m\u001b[0mjson\u001b[0m\u001b[0;34m,\u001b[0m \u001b[0;34m**\u001b[0m\u001b[0mkwargs\u001b[0m\u001b[0;34m)\u001b[0m\u001b[0;34m.\u001b[0m\u001b[0mparse\u001b[0m\u001b[0;34m(\u001b[0m\u001b[0;34m)\u001b[0m\u001b[0;34m\u001b[0m\u001b[0;34m\u001b[0m\u001b[0m\n\u001b[0m\u001b[1;32m    754\u001b[0m \u001b[0;34m\u001b[0m\u001b[0m\n\u001b[1;32m    755\u001b[0m         \u001b[0;32mif\u001b[0m \u001b[0mtyp\u001b[0m \u001b[0;34m==\u001b[0m \u001b[0;34m\"series\"\u001b[0m \u001b[0;32mor\u001b[0m \u001b[0mobj\u001b[0m \u001b[0;32mis\u001b[0m \u001b[0;32mNone\u001b[0m\u001b[0;34m:\u001b[0m\u001b[0;34m\u001b[0m\u001b[0;34m\u001b[0m\u001b[0m\n",
      "\u001b[0;32m~/anaconda3/envs/tmwp/lib/python3.8/site-packages/pandas/io/json/_json.py\u001b[0m in \u001b[0;36mparse\u001b[0;34m(self)\u001b[0m\n\u001b[1;32m    855\u001b[0m \u001b[0;34m\u001b[0m\u001b[0m\n\u001b[1;32m    856\u001b[0m         \u001b[0;32melse\u001b[0m\u001b[0;34m:\u001b[0m\u001b[0;34m\u001b[0m\u001b[0;34m\u001b[0m\u001b[0m\n\u001b[0;32m--> 857\u001b[0;31m             \u001b[0mself\u001b[0m\u001b[0;34m.\u001b[0m\u001b[0m_parse_no_numpy\u001b[0m\u001b[0;34m(\u001b[0m\u001b[0;34m)\u001b[0m\u001b[0;34m\u001b[0m\u001b[0;34m\u001b[0m\u001b[0m\n\u001b[0m\u001b[1;32m    858\u001b[0m \u001b[0;34m\u001b[0m\u001b[0m\n\u001b[1;32m    859\u001b[0m         \u001b[0;32mif\u001b[0m \u001b[0mself\u001b[0m\u001b[0;34m.\u001b[0m\u001b[0mobj\u001b[0m \u001b[0;32mis\u001b[0m \u001b[0;32mNone\u001b[0m\u001b[0;34m:\u001b[0m\u001b[0;34m\u001b[0m\u001b[0;34m\u001b[0m\u001b[0m\n",
      "\u001b[0;32m~/anaconda3/envs/tmwp/lib/python3.8/site-packages/pandas/io/json/_json.py\u001b[0m in \u001b[0;36m_parse_no_numpy\u001b[0;34m(self)\u001b[0m\n\u001b[1;32m   1087\u001b[0m         \u001b[0;32mif\u001b[0m \u001b[0morient\u001b[0m \u001b[0;34m==\u001b[0m \u001b[0;34m\"columns\"\u001b[0m\u001b[0;34m:\u001b[0m\u001b[0;34m\u001b[0m\u001b[0;34m\u001b[0m\u001b[0m\n\u001b[1;32m   1088\u001b[0m             self.obj = DataFrame(\n\u001b[0;32m-> 1089\u001b[0;31m                 \u001b[0mloads\u001b[0m\u001b[0;34m(\u001b[0m\u001b[0mjson\u001b[0m\u001b[0;34m,\u001b[0m \u001b[0mprecise_float\u001b[0m\u001b[0;34m=\u001b[0m\u001b[0mself\u001b[0m\u001b[0;34m.\u001b[0m\u001b[0mprecise_float\u001b[0m\u001b[0;34m)\u001b[0m\u001b[0;34m,\u001b[0m \u001b[0mdtype\u001b[0m\u001b[0;34m=\u001b[0m\u001b[0;32mNone\u001b[0m\u001b[0;34m\u001b[0m\u001b[0;34m\u001b[0m\u001b[0m\n\u001b[0m\u001b[1;32m   1090\u001b[0m             )\n\u001b[1;32m   1091\u001b[0m         \u001b[0;32melif\u001b[0m \u001b[0morient\u001b[0m \u001b[0;34m==\u001b[0m \u001b[0;34m\"split\"\u001b[0m\u001b[0;34m:\u001b[0m\u001b[0;34m\u001b[0m\u001b[0;34m\u001b[0m\u001b[0m\n",
      "\u001b[0;31mValueError\u001b[0m: Expected object or value"
     ]
    }
   ],
   "source": [
    "un_df = pd.read_json('data/un-general-debates.json')\n",
    "print(len(un_df))"
   ]
  },
  {
   "cell_type": "markdown",
   "metadata": {
    "slideshow": {
     "slide_type": "slide"
    }
   },
   "source": [
    "With 7,507 complete transcriptions of UN members' statements to work with, this is an ideal dataset to use as we begin playing around with topic models. \n",
    "\n",
    "Let's look at a small random sample of 5 texts from the dataframe to get a feel for what we're dealing with:"
   ]
  },
  {
   "cell_type": "code",
   "execution_count": 108,
   "metadata": {},
   "outputs": [
    {
     "data": {
      "text/html": [
       "<div>\n",
       "<style scoped>\n",
       "    .dataframe tbody tr th:only-of-type {\n",
       "        vertical-align: middle;\n",
       "    }\n",
       "\n",
       "    .dataframe tbody tr th {\n",
       "        vertical-align: top;\n",
       "    }\n",
       "\n",
       "    .dataframe thead th {\n",
       "        text-align: right;\n",
       "    }\n",
       "</style>\n",
       "<table border=\"1\" class=\"dataframe\">\n",
       "  <thead>\n",
       "    <tr style=\"text-align: right;\">\n",
       "      <th></th>\n",
       "      <th>country_code</th>\n",
       "      <th>speech_text</th>\n",
       "      <th>speech_year</th>\n",
       "    </tr>\n",
       "  </thead>\n",
       "  <tbody>\n",
       "    <tr>\n",
       "      <th>1716</th>\n",
       "      <td>SWZ</td>\n",
       "      <td>﻿It is an immense pleasure for me\\nto join other Heads of State and Government at this\\nsixty-seventh session of the...</td>\n",
       "      <td>2012</td>\n",
       "    </tr>\n",
       "    <tr>\n",
       "      <th>1669</th>\n",
       "      <td>AGO</td>\n",
       "      <td>﻿On behalf\\nof the Government of the Republic of Angola, I avail\\nmyself of this opportunity to congratulate Mr. Vuk...</td>\n",
       "      <td>2012</td>\n",
       "    </tr>\n",
       "    <tr>\n",
       "      <th>1416</th>\n",
       "      <td>NIC</td>\n",
       "      <td>﻿Allow me to begin by congratulating the President on his\\nelection to preside over the Assembly this session. We ar...</td>\n",
       "      <td>1996</td>\n",
       "    </tr>\n",
       "    <tr>\n",
       "      <th>6092</th>\n",
       "      <td>LCA</td>\n",
       "      <td>Humanity, our greatest\\nconcern, is the reason why we are gathered here today.\\nHumanity stands at a defining moment...</td>\n",
       "      <td>2000</td>\n",
       "    </tr>\n",
       "    <tr>\n",
       "      <th>3073</th>\n",
       "      <td>BEL</td>\n",
       "      <td>Mr. President, I hope that you will convey to the President of the Assembly that we are extremely honored at his ele...</td>\n",
       "      <td>1976</td>\n",
       "    </tr>\n",
       "  </tbody>\n",
       "</table>\n",
       "</div>"
      ],
      "text/plain": [
       "     country_code  \\\n",
       "1716          SWZ   \n",
       "1669          AGO   \n",
       "1416          NIC   \n",
       "6092          LCA   \n",
       "3073          BEL   \n",
       "\n",
       "                                                                                                                  speech_text  \\\n",
       "1716  ﻿It is an immense pleasure for me\\nto join other Heads of State and Government at this\\nsixty-seventh session of the...   \n",
       "1669  ﻿On behalf\\nof the Government of the Republic of Angola, I avail\\nmyself of this opportunity to congratulate Mr. Vuk...   \n",
       "1416  ﻿Allow me to begin by congratulating the President on his\\nelection to preside over the Assembly this session. We ar...   \n",
       "6092  Humanity, our greatest\\nconcern, is the reason why we are gathered here today.\\nHumanity stands at a defining moment...   \n",
       "3073  Mr. President, I hope that you will convey to the President of the Assembly that we are extremely honored at his ele...   \n",
       "\n",
       "      speech_year  \n",
       "1716         2012  \n",
       "1669         2012  \n",
       "1416         1996  \n",
       "6092         2000  \n",
       "3073         1976  "
      ]
     },
     "execution_count": 108,
     "metadata": {},
     "output_type": "execute_result"
    }
   ],
   "source": [
    "un_df.sample(5)"
   ]
  },
  {
   "cell_type": "markdown",
   "metadata": {
    "slideshow": {
     "slide_type": "slide"
    }
   },
   "source": [
    "### Topic Modeling Exercise 1\n",
    "\n",
    "\n",
    "Take a look at the text of the UN speeches. When delivering an address, what are the different topics that are covered? Make a list of four topics and provide three example words from each topic.\n",
    "\n",
    "\n"
   ]
  },
  {
   "cell_type": "markdown",
   "metadata": {
    "slideshow": {
     "slide_type": "slide"
    }
   },
   "source": [
    "![](images/lda.jpg)"
   ]
  },
  {
   "cell_type": "markdown",
   "metadata": {
    "slideshow": {
     "slide_type": "slide"
    }
   },
   "source": [
    "## Latent Dirichlet allocation (LDA) \n",
    "\n",
    "We'll narrow our focus for the time being to one particular form of topic modeling, *Latent Dirichlet allocation*, or *LDA* for short. With LDA topic modeling, we'll be able to treat every document in our corpus as a mixture of topics. Each document in our corpus can contain words associated with any number of topics in varying proportions. At the same time, each topic can be treated as a mixture of words. Any given word can be associated with any number of topics. Considering our documents and topics as these sorts of \"mixtures\" helps us to mimic the thematic subtleties inherent in natural language.\n",
    "\n",
    "\n",
    "> Latent Dirichlet allocation (LDA) is a particularly popular method for fitting a topic model. It treats each document as a mixture of topics, and each topic as a mixture of words.  > This allows documents to “overlap” each other in terms of content, rather than being separated into discrete groups, in a way that mirrors typical use of natural language.\n",
    "Latent Dirichlet allocation is one of the most common algorithms for topic modeling. Without diving into the math behind the model, we can understand it as being guided by two principles.\n",
    "> * **Every document is a mixture of topics.** We imagine that each document may contain words from several topics in particular proportions. For example, in a two-topic model we could say “Document 1 is 90% topic A and 10% topic B, while Document 2 is 30% topic A and 70% topic B.”\n",
    "> * **Every topic is a mixture of words.** For example, we could imagine a two-topic model of American news, with one topic for “politics” and one for “entertainment.” The most common words in the politics topic might be “President”, “Congress”, and “government”, while the entertainment topic may be made up of words such as “movies”, “television”, and “actor”. Importantly, words can be shared between topics; a word like “budget” might appear in both equally.\n",
    "\n",
    "> LDA is a mathematical method for estimating both of these at the same time: finding the mixture of words that is associated with each topic, while also determining the mixture of topics that describes each document. There are a number of existing implementations of this algorithm, and we’ll explore one of them in depth.\n",
    "\n",
    "[Source](https://www.tidytextmining.com/topicmodeling.html#latent-dirichlet-allocation)"
   ]
  },
  {
   "cell_type": "markdown",
   "metadata": {
    "slideshow": {
     "slide_type": "slide"
    }
   },
   "source": [
    "![](images/lda.jpg)"
   ]
  },
  {
   "cell_type": "markdown",
   "metadata": {
    "slideshow": {
     "slide_type": "slide"
    }
   },
   "source": [
    "We can import `LatentDirichletAllocation` from scikit-learn to run our own LDA topic models in Python. "
   ]
  },
  {
   "cell_type": "code",
   "execution_count": 105,
   "metadata": {
    "slideshow": {
     "slide_type": "slide"
    }
   },
   "outputs": [],
   "source": [
    "from sklearn.decomposition import LatentDirichletAllocation"
   ]
  },
  {
   "cell_type": "markdown",
   "metadata": {
    "slideshow": {
     "slide_type": "slide"
    }
   },
   "source": [
    "### Converting Documents to Vectors\n",
    "\n",
    "In order to run our topic models, we'll need to convert each document in the corpus into a fixed-length *vector*. We can accomplish this using the [CountVectorizer](https://scikit-learn.org/stable/modules/generated/sklearn.feature_extraction.text.CountVectorizer.html?highlight=vectorizer#sklearn.feature_extraction.text.CountVectorizer) function we imported earlier in the chapter. Using `CountVectorizer`, we'll be able to transform our dataset from a collection of text documents into a matrix of token counts.\n",
    "\n",
    "`CountVectorizer` can take a number of parameters; while not an exhaustive list, some important parameters are described below. "
   ]
  },
  {
   "cell_type": "markdown",
   "metadata": {
    "slideshow": {
     "slide_type": "slide"
    }
   },
   "source": [
    "#### `CountVectorizer` Parameters\n",
    "\n",
    "- **lowercase**: Converts all text to lower case. By default, `lowercase` is set to True.\n",
    "\n",
    "\n",
    "- **ngram_range**: This allows us to restrict the range of n-values for our n-grams. Formatted as a tuple, the first sets the minimum n-value, and the second sets the maximum n-value. By default, `n-gram range` is set to (1,1). (If we leave it alone, we'll only be looking at unigrams.) \n",
    "\n",
    "\n",
    "- **stop_words**: We can use this parameter to rule out words that occur 1) too frequently, 2) not frequently enough, and/or 3) fall outside of a threshold term frequency. This can be set the 'english' to use a pre-determined set of stopwords often found in texts written in the English language. We can also provide our own list of stopwords if we so choose. \n",
    "\n",
    "> - **max_df**: Allows us to set a maximum threshold on document frequency for our terms incorporated into our vocabulary. By default, `max_df` is set to 1.0. \n",
    "> - **min_df**: Allows us to set a minimum threshold on document frequency for our terms incorporated into our vocabulary. By default, `max_df` is set to 1.0. \n",
    "> - **max_features**: Allows us to build a vocabulary exclusively from high-frequency terms occuring throughout our corpus. "
   ]
  },
  {
   "cell_type": "markdown",
   "metadata": {
    "slideshow": {
     "slide_type": "slide"
    }
   },
   "source": [
    "For now, let's set our parameters so that we convert all text to lower case, only look at unigrams, only look at terms with a document frequency of .90 or below, use the default 'english' stopwords list, and only consider the top 1,000 terms in our corpus.  "
   ]
  },
  {
   "cell_type": "code",
   "execution_count": 112,
   "metadata": {
    "slideshow": {
     "slide_type": "slide"
    }
   },
   "outputs": [],
   "source": [
    "vectorizer = CountVectorizer(lowercase   = True,\n",
    "                             ngram_range = (1,1),\n",
    "                             max_df      = .90,\n",
    "                             stop_words   = 'english',\n",
    "                             max_features = 1000)"
   ]
  },
  {
   "cell_type": "markdown",
   "metadata": {
    "slideshow": {
     "slide_type": "slide"
    }
   },
   "source": [
    "After setting our parameters, we can `fit` the vectorizer to the `speech_text` key in our UN General Debate dataframe to build a vocabulary out of the raw documents."
   ]
  },
  {
   "cell_type": "markdown",
   "metadata": {
    "slideshow": {
     "slide_type": "slide"
    }
   },
   "source": [
    "*Note*: You'll run into an Attribute Error if the key you plan to fit the vectorizer to contains any missing values. While we don't have to worry about this with our UN dataframe, if you encounter such an error in the future, be sure to [clean your dataframe](https://pandas.pydata.org/pandas-docs/stable/user_guide/missing_data.html#missing-data) before attempting to fit the vectorizer. "
   ]
  },
  {
   "cell_type": "code",
   "execution_count": 113,
   "metadata": {
    "slideshow": {
     "slide_type": "slide"
    }
   },
   "outputs": [
    {
     "data": {
      "text/plain": [
       "CountVectorizer(analyzer='word', binary=False, decode_error='strict',\n",
       "                dtype=<class 'numpy.int64'>, encoding='utf-8', input='content',\n",
       "                lowercase=True, max_df=0.9, max_features=1000, min_df=1,\n",
       "                ngram_range=(1, 1), preprocessor=None, stop_words='english',\n",
       "                strip_accents=None, token_pattern='(?u)\\\\b\\\\w\\\\w+\\\\b',\n",
       "                tokenizer=None, vocabulary=None)"
      ]
     },
     "execution_count": 113,
     "metadata": {},
     "output_type": "execute_result"
    }
   ],
   "source": [
    "vectorizer.fit(un_df['speech_text'])"
   ]
  },
  {
   "cell_type": "markdown",
   "metadata": {
    "slideshow": {
     "slide_type": "slide"
    }
   },
   "source": [
    "We can use the `len` function, along with `get_feature_names`, to ensure we're dealing with a vocabulary composed of the top 1,000 highest-frequency terms in our corpus. "
   ]
  },
  {
   "cell_type": "code",
   "execution_count": 114,
   "metadata": {},
   "outputs": [
    {
     "data": {
      "text/plain": [
       "1000"
      ]
     },
     "execution_count": 114,
     "metadata": {},
     "output_type": "execute_result"
    }
   ],
   "source": [
    "len(vectorizer.get_feature_names())"
   ]
  },
  {
   "cell_type": "markdown",
   "metadata": {
    "slideshow": {
     "slide_type": "slide"
    }
   },
   "source": [
    "Now we'll want to use the vectorizor to `transform` the raw documents into a document-term matrix. "
   ]
  },
  {
   "cell_type": "code",
   "execution_count": 115,
   "metadata": {
    "slideshow": {
     "slide_type": "slide"
    }
   },
   "outputs": [],
   "source": [
    "un_word_counts = vectorizer.transform(un_df['speech_text'])"
   ]
  },
  {
   "cell_type": "markdown",
   "metadata": {
    "slideshow": {
     "slide_type": "slide"
    }
   },
   "source": [
    "### Running the LDA Model\n",
    "\n",
    "Now that we've vectorized our dataset, we're just about ready to run our first LDA model in Python. Before we do, though, we'll want to set our parameters. Below is some information on the parameters we'll set. "
   ]
  },
  {
   "cell_type": "markdown",
   "metadata": {},
   "source": [
    "#### `LatentDirichletAllocation` Parameters\n",
    "\n",
    "- **n_components**: Sets the number of topics generated. We can set this as high or as low as we like, depending on the size and character of the texts in our corpus. \n",
    "\n",
    "\n",
    "- **max_iter**: Sets the maximum number of iterations. By default, `max_iter` is set to 10.\n",
    "\n",
    "\n",
    "- **n_jobs**: Sets the number of concurrently running processes. When set to -1, we'll use all processors. To use all processors but one, set `n_jobs` to -2. \n",
    "\n",
    "\n",
    "- **verbose**: Lets us determine whether or not every step of the process is logged. If > 0, we'll be able to see what's going on with our LDA model through the output in real time. "
   ]
  },
  {
   "cell_type": "code",
   "execution_count": 117,
   "metadata": {
    "slideshow": {
     "slide_type": "slide"
    }
   },
   "outputs": [],
   "source": [
    "lda_model = LatentDirichletAllocation(n_components = 10,\n",
    "                                      max_iter     = 50,\n",
    "                                      n_jobs       = -1,\n",
    "                                      verbose      = 1)"
   ]
  },
  {
   "cell_type": "markdown",
   "metadata": {
    "slideshow": {
     "slide_type": "slide"
    }
   },
   "source": [
    "With our parameters set, we can `fit` the LDA model to our document-term matrix of the UN General Debate transcripts.\n",
    "\n",
    "*Note*: It's going to take a while to work our way through up to 50 iterations. That's alright."
   ]
  },
  {
   "cell_type": "code",
   "execution_count": 118,
   "metadata": {
    "slideshow": {
     "slide_type": "slide"
    }
   },
   "outputs": [
    {
     "name": "stdout",
     "output_type": "stream",
     "text": [
      "iteration: 1 of max_iter: 50\n",
      "iteration: 2 of max_iter: 50\n",
      "iteration: 3 of max_iter: 50\n",
      "iteration: 4 of max_iter: 50\n",
      "iteration: 5 of max_iter: 50\n",
      "iteration: 6 of max_iter: 50\n",
      "iteration: 7 of max_iter: 50\n",
      "iteration: 8 of max_iter: 50\n",
      "iteration: 9 of max_iter: 50\n",
      "iteration: 10 of max_iter: 50\n",
      "iteration: 11 of max_iter: 50\n",
      "iteration: 12 of max_iter: 50\n",
      "iteration: 13 of max_iter: 50\n",
      "iteration: 14 of max_iter: 50\n",
      "iteration: 15 of max_iter: 50\n",
      "iteration: 16 of max_iter: 50\n",
      "iteration: 17 of max_iter: 50\n",
      "iteration: 18 of max_iter: 50\n",
      "iteration: 19 of max_iter: 50\n",
      "iteration: 20 of max_iter: 50\n",
      "iteration: 21 of max_iter: 50\n",
      "iteration: 22 of max_iter: 50\n",
      "iteration: 23 of max_iter: 50\n",
      "iteration: 24 of max_iter: 50\n",
      "iteration: 25 of max_iter: 50\n",
      "iteration: 26 of max_iter: 50\n",
      "iteration: 27 of max_iter: 50\n",
      "iteration: 28 of max_iter: 50\n",
      "iteration: 29 of max_iter: 50\n",
      "iteration: 30 of max_iter: 50\n",
      "iteration: 31 of max_iter: 50\n",
      "iteration: 32 of max_iter: 50\n",
      "iteration: 33 of max_iter: 50\n",
      "iteration: 34 of max_iter: 50\n",
      "iteration: 35 of max_iter: 50\n",
      "iteration: 36 of max_iter: 50\n",
      "iteration: 37 of max_iter: 50\n",
      "iteration: 38 of max_iter: 50\n",
      "iteration: 39 of max_iter: 50\n",
      "iteration: 40 of max_iter: 50\n",
      "iteration: 41 of max_iter: 50\n",
      "iteration: 42 of max_iter: 50\n",
      "iteration: 43 of max_iter: 50\n",
      "iteration: 44 of max_iter: 50\n",
      "iteration: 45 of max_iter: 50\n",
      "iteration: 46 of max_iter: 50\n",
      "iteration: 47 of max_iter: 50\n",
      "iteration: 48 of max_iter: 50\n",
      "iteration: 49 of max_iter: 50\n",
      "iteration: 50 of max_iter: 50\n"
     ]
    },
    {
     "data": {
      "text/plain": [
       "LatentDirichletAllocation(batch_size=128, doc_topic_prior=None,\n",
       "                          evaluate_every=-1, learning_decay=0.7,\n",
       "                          learning_method='batch', learning_offset=10.0,\n",
       "                          max_doc_update_iter=100, max_iter=50,\n",
       "                          mean_change_tol=0.001, n_components=10, n_jobs=-1,\n",
       "                          perp_tol=0.1, random_state=None,\n",
       "                          topic_word_prior=None, total_samples=1000000.0,\n",
       "                          verbose=1)"
      ]
     },
     "execution_count": 118,
     "metadata": {},
     "output_type": "execute_result"
    }
   ],
   "source": [
    "lda_model.fit(un_word_counts)"
   ]
  },
  {
   "cell_type": "markdown",
   "metadata": {},
   "source": [
    "Congrats, you've run your first topic model on Python!"
   ]
  },
  {
   "cell_type": "markdown",
   "metadata": {
    "slideshow": {
     "slide_type": "slide"
    }
   },
   "source": [
    "## Some fit statistics\n",
    "\n",
    "While we can intuitively \"eyeball\" topic quality as a first step, it's hard to do so objectively.  Calculating some fit statistics can help us to evaluate our topics' quality numerically.\n",
    "\n",
    "\n",
    "`LatentDirichletAllocation` includes a few handy methods for calculating fit statistics:\n",
    "\n",
    "- **`score()`** lets us calculate the approximate logged likelihood of the model parameters we've set, given our data. The higher this number is, the better our topic fit. \n",
    "- **`perplexity()`**, another (normalized) form of logged likelihood, calculates the amount of \"surprise\" our model experiences if we introduce some previously unseen data. The lower this number is, the better our topic fit.\n",
    "\n",
    "To learn more about evaluating fit for LDA topic models in Python, see [here](https://towardsdatascience.com/evaluate-topic-model-in-python-latent-dirichlet-allocation-lda-7d57484bb5d0)."
   ]
  },
  {
   "cell_type": "code",
   "execution_count": 120,
   "metadata": {},
   "outputs": [
    {
     "name": "stdout",
     "output_type": "stream",
     "text": [
      "Log Likelihood:  -36142963.39734339\n",
      "Perplexity:  685.2293725427917\n"
     ]
    }
   ],
   "source": [
    "# Log Likelihood: Higher the better\n",
    "print(\"Log Likelihood: \", lda_model.score(un_word_counts))\n",
    "\n",
    "# Perplexity: Lower the better. Perplexity = exp(-1. * log-likelihood per word)\n",
    "print(\"Perplexity: \", lda_model.perplexity(un_word_counts))"
   ]
  },
  {
   "cell_type": "markdown",
   "metadata": {
    "slideshow": {
     "slide_type": "slide"
    }
   },
   "source": [
    "### Guidelines on topic fit\n",
    "1. Low perplexity on test data.\n",
    "    - Remeber that the lower our perplexity score, the better our topic fit to our data.\n",
    "1. **Topical coherence**\n",
    "2. Best fit in a classification task.\n",
    "    - We'll discuss classification tasks in more detail in another chapter. \n",
    "3. Extract more and then bin them yourself. \n",
    "    - When all else fails, "
   ]
  },
  {
   "cell_type": "code",
   "execution_count": 121,
   "metadata": {
    "slideshow": {
     "slide_type": "skip"
    }
   },
   "outputs": [
    {
     "name": "stdout",
     "output_type": "stream",
     "text": [
      "{'batch_size': 128, 'doc_topic_prior': None, 'evaluate_every': -1, 'learning_decay': 0.7, 'learning_method': 'batch', 'learning_offset': 10.0, 'max_doc_update_iter': 100, 'max_iter': 50, 'mean_change_tol': 0.001, 'n_components': 10, 'n_jobs': -1, 'perp_tol': 0.1, 'random_state': None, 'topic_word_prior': None, 'total_samples': 1000000.0, 'verbose': 1}\n"
     ]
    }
   ],
   "source": [
    "print(lda_model.get_params())"
   ]
  },
  {
   "cell_type": "markdown",
   "metadata": {
    "slideshow": {
     "slide_type": "slide"
    }
   },
   "source": [
    "## Visualizing Topics"
   ]
  },
  {
   "cell_type": "markdown",
   "metadata": {
    "slideshow": {
     "slide_type": "slide"
    }
   },
   "source": [
    "In this section we'll discuss some of the ways we can visualize the topics we've created with our LDA model. "
   ]
  },
  {
   "cell_type": "markdown",
   "metadata": {
    "slideshow": {
     "slide_type": "slide"
    }
   },
   "source": [
    "First, we can import `topic_words` from the `pdtext` package in order to create a easily interpretable matrix of our topics. Below, we'll look at the first 10:"
   ]
  },
  {
   "cell_type": "code",
   "execution_count": 198,
   "metadata": {},
   "outputs": [
    {
     "data": {
      "text/html": [
       "<div>\n",
       "<style scoped>\n",
       "    .dataframe tbody tr th:only-of-type {\n",
       "        vertical-align: middle;\n",
       "    }\n",
       "\n",
       "    .dataframe tbody tr th {\n",
       "        vertical-align: top;\n",
       "    }\n",
       "\n",
       "    .dataframe thead th {\n",
       "        text-align: right;\n",
       "    }\n",
       "</style>\n",
       "<table border=\"1\" class=\"dataframe\">\n",
       "  <thead>\n",
       "    <tr style=\"text-align: right;\">\n",
       "      <th></th>\n",
       "      <th>1</th>\n",
       "      <th>2</th>\n",
       "      <th>3</th>\n",
       "      <th>4</th>\n",
       "      <th>5</th>\n",
       "      <th>6</th>\n",
       "      <th>7</th>\n",
       "      <th>8</th>\n",
       "      <th>9</th>\n",
       "      <th>10</th>\n",
       "    </tr>\n",
       "  </thead>\n",
       "  <tbody>\n",
       "    <tr>\n",
       "      <th>Topic 1</th>\n",
       "      <td>developing</td>\n",
       "      <td>south</td>\n",
       "      <td>trade</td>\n",
       "      <td>developed</td>\n",
       "      <td>problems</td>\n",
       "      <td>resources</td>\n",
       "      <td>debt</td>\n",
       "      <td>growth</td>\n",
       "      <td>global</td>\n",
       "      <td>africa</td>\n",
       "    </tr>\n",
       "    <tr>\n",
       "      <th>Topic 2</th>\n",
       "      <td>human</td>\n",
       "      <td>today</td>\n",
       "      <td>war</td>\n",
       "      <td>years</td>\n",
       "      <td>time</td>\n",
       "      <td>terrorism</td>\n",
       "      <td>let</td>\n",
       "      <td>rights</td>\n",
       "      <td>future</td>\n",
       "      <td>freedom</td>\n",
       "    </tr>\n",
       "    <tr>\n",
       "      <th>Topic 3</th>\n",
       "      <td>peoples</td>\n",
       "      <td>social</td>\n",
       "      <td>government</td>\n",
       "      <td>america</td>\n",
       "      <td>order</td>\n",
       "      <td>republic</td>\n",
       "      <td>american</td>\n",
       "      <td>national</td>\n",
       "      <td>rights</td>\n",
       "      <td>respect</td>\n",
       "    </tr>\n",
       "    <tr>\n",
       "      <th>Topic 4</th>\n",
       "      <td>nuclear</td>\n",
       "      <td>weapons</td>\n",
       "      <td>soviet</td>\n",
       "      <td>disarmament</td>\n",
       "      <td>republic</td>\n",
       "      <td>relations</td>\n",
       "      <td>war</td>\n",
       "      <td>arms</td>\n",
       "      <td>treaty</td>\n",
       "      <td>union</td>\n",
       "    </tr>\n",
       "    <tr>\n",
       "      <th>Topic 5</th>\n",
       "      <td>global</td>\n",
       "      <td>change</td>\n",
       "      <td>climate</td>\n",
       "      <td>small</td>\n",
       "      <td>sustainable</td>\n",
       "      <td>developing</td>\n",
       "      <td>goals</td>\n",
       "      <td>challenges</td>\n",
       "      <td>island</td>\n",
       "      <td>government</td>\n",
       "    </tr>\n",
       "    <tr>\n",
       "      <th>Topic 6</th>\n",
       "      <td>africa</td>\n",
       "      <td>south</td>\n",
       "      <td>independence</td>\n",
       "      <td>peoples</td>\n",
       "      <td>namibia</td>\n",
       "      <td>struggle</td>\n",
       "      <td>african</td>\n",
       "      <td>government</td>\n",
       "      <td>regime</td>\n",
       "      <td>non</td>\n",
       "    </tr>\n",
       "    <tr>\n",
       "      <th>Topic 7</th>\n",
       "      <td>israel</td>\n",
       "      <td>arab</td>\n",
       "      <td>palestinian</td>\n",
       "      <td>region</td>\n",
       "      <td>iraq</td>\n",
       "      <td>resolutions</td>\n",
       "      <td>council</td>\n",
       "      <td>lebanon</td>\n",
       "      <td>israeli</td>\n",
       "      <td>middle</td>\n",
       "    </tr>\n",
       "    <tr>\n",
       "      <th>Topic 8</th>\n",
       "      <td>human</td>\n",
       "      <td>rights</td>\n",
       "      <td>council</td>\n",
       "      <td>cooperation</td>\n",
       "      <td>process</td>\n",
       "      <td>member</td>\n",
       "      <td>role</td>\n",
       "      <td>important</td>\n",
       "      <td>reform</td>\n",
       "      <td>global</td>\n",
       "    </tr>\n",
       "    <tr>\n",
       "      <th>Topic 9</th>\n",
       "      <td>africa</td>\n",
       "      <td>african</td>\n",
       "      <td>government</td>\n",
       "      <td>republic</td>\n",
       "      <td>situation</td>\n",
       "      <td>like</td>\n",
       "      <td>national</td>\n",
       "      <td>mr</td>\n",
       "      <td>conflict</td>\n",
       "      <td>president</td>\n",
       "    </tr>\n",
       "    <tr>\n",
       "      <th>Topic 10</th>\n",
       "      <td>problems</td>\n",
       "      <td>operation</td>\n",
       "      <td>government</td>\n",
       "      <td>time</td>\n",
       "      <td>great</td>\n",
       "      <td>human</td>\n",
       "      <td>rights</td>\n",
       "      <td>hope</td>\n",
       "      <td>charter</td>\n",
       "      <td>conference</td>\n",
       "    </tr>\n",
       "  </tbody>\n",
       "</table>\n",
       "</div>"
      ],
      "text/plain": [
       "                  1          2             3            4            5   \\\n",
       "Topic 1   developing      south         trade    developed     problems   \n",
       "Topic 2        human      today           war        years         time   \n",
       "Topic 3      peoples     social    government      america        order   \n",
       "Topic 4      nuclear    weapons        soviet  disarmament     republic   \n",
       "Topic 5       global     change       climate        small  sustainable   \n",
       "Topic 6       africa      south  independence      peoples      namibia   \n",
       "Topic 7       israel       arab   palestinian       region         iraq   \n",
       "Topic 8        human     rights       council  cooperation      process   \n",
       "Topic 9       africa    african    government     republic    situation   \n",
       "Topic 10    problems  operation    government         time        great   \n",
       "\n",
       "                   6         7           8         9           10  \n",
       "Topic 1     resources      debt      growth    global      africa  \n",
       "Topic 2     terrorism       let      rights    future     freedom  \n",
       "Topic 3      republic  american    national    rights     respect  \n",
       "Topic 4     relations       war        arms    treaty       union  \n",
       "Topic 5    developing     goals  challenges    island  government  \n",
       "Topic 6      struggle   african  government    regime         non  \n",
       "Topic 7   resolutions   council     lebanon   israeli      middle  \n",
       "Topic 8        member      role   important    reform      global  \n",
       "Topic 9          like  national          mr  conflict   president  \n",
       "Topic 10        human    rights        hope   charter  conference  "
      ]
     },
     "execution_count": 198,
     "metadata": {},
     "output_type": "execute_result"
    }
   ],
   "source": [
    "from pdtext.tm import topic_words\n",
    "\n",
    "topic_words(lda_model, vectorizer).head(10)\n"
   ]
  },
  {
   "cell_type": "markdown",
   "metadata": {},
   "source": [
    "The [pyLDAvis](https://pyldavis.readthedocs.io/en/latest/readme.html) library, a port of the [LDAvis](https://github.com/cpsievert/LDAvis) package for R, provides a variety of tools for interactive topic model visualization. "
   ]
  },
  {
   "cell_type": "code",
   "execution_count": 1,
   "metadata": {},
   "outputs": [
    {
     "name": "stdout",
     "output_type": "stream",
     "text": []
    }
   ],
   "source": [
    "pip install pyldavis"
   ]
  },
  {
   "cell_type": "markdown",
   "metadata": {
    "slideshow": {
     "slide_type": "slide"
    }
   },
   "source": [
    "`pyLDAvis` is conveniently compatible with `LatentDirichletAllocation` from scikit-learn."
   ]
  },
  {
   "cell_type": "code",
   "execution_count": 25,
   "metadata": {
    "slideshow": {
     "slide_type": "slide"
    }
   },
   "outputs": [],
   "source": [
    "import pyLDAvis\n",
    "import pyLDAvis.sklearn"
   ]
  },
  {
   "cell_type": "markdown",
   "metadata": {
    "slideshow": {
     "slide_type": "slide"
    }
   },
   "source": [
    "We'll also import `pyplot` from matplotlib to allow for the generation of interactive plots in Python. "
   ]
  },
  {
   "cell_type": "code",
   "execution_count": 27,
   "metadata": {
    "slideshow": {
     "slide_type": "slide"
    }
   },
   "outputs": [],
   "source": [
    "import matplotlib.pyplot as plt"
   ]
  },
  {
   "cell_type": "markdown",
   "metadata": {
    "slideshow": {
     "slide_type": "slide"
    }
   },
   "source": [
    "Now we'll want to use the `enable_notebook()` function to allow us to display visualizations in our notebook."
   ]
  },
  {
   "cell_type": "code",
   "execution_count": 28,
   "metadata": {
    "slideshow": {
     "slide_type": "slide"
    }
   },
   "outputs": [],
   "source": [
    "pyLDAvis.enable_notebook()"
   ]
  },
  {
   "cell_type": "markdown",
   "metadata": {
    "slideshow": {
     "slide_type": "slide"
    }
   },
   "source": [
    "Finally, we can use the `prepare()` function to transform the data from our LDA model into interactive visualizations!"
   ]
  },
  {
   "cell_type": "code",
   "execution_count": 29,
   "metadata": {
    "slideshow": {
     "slide_type": "slide"
    }
   },
   "outputs": [
    {
     "data": {
      "text/html": [
       "\n",
       "<link rel=\"stylesheet\" type=\"text/css\" href=\"https://cdn.rawgit.com/bmabey/pyLDAvis/files/ldavis.v1.0.0.css\">\n",
       "\n",
       "\n",
       "<div id=\"ldavis_el83681123032670246581279818\"></div>\n",
       "<script type=\"text/javascript\">\n",
       "\n",
       "var ldavis_el83681123032670246581279818_data = {\"mdsDat\": {\"x\": [32.42095184326172, 0.648955225944519, 71.01968383789062, 3.7859814167022705, -42.666500091552734, -3.6216893196105957, -3.632401704788208, -36.58440017700195, 44.391380310058594, 40.235809326171875], \"y\": [8.115229606628418, 71.70709991455078, 9.971006393432617, 33.18513488769531, -9.22206974029541, -43.52651596069336, -4.171707630157471, 35.804412841796875, 50.61538314819336, -31.591665267944336], \"topics\": [1, 2, 3, 4, 5, 6, 7, 8, 9, 10], \"cluster\": [1, 1, 1, 1, 1, 1, 1, 1, 1, 1], \"Freq\": [15.685445236134052, 11.938680647859963, 11.476570916824498, 11.001188571619188, 10.038386357834055, 9.753629703593074, 9.742900674365176, 7.274696519739904, 7.024010617535469, 6.064490754494631]}, \"tinfo\": {\"Term\": [\"africa\", \"nuclear\", \"african\", \"republic\", \"terrorism\", \"arab\", \"israel\", \"south\", \"global\", \"palestinian\", \"human\", \"peoples\", \"council\", \"soviet\", \"weapons\", \"developing\", \"independence\", \"cooperation\", \"disarmament\", \"war\", \"relations\", \"rights\", \"namibia\", \"democratic\", \"iraq\", \"operation\", \"lebanon\", \"europe\", \"union\", \"struggle\", \"latin\", \"american\", \"sea\", \"satisfaction\", \"industrialized\", \"discrimination\", \"subject\", \"constant\", \"coexistence\", \"mankind\", \"conviction\", \"understanding\", \"expression\", \"factors\", \"attitude\", \"operation\", \"interdependence\", \"opinion\", \"balance\", \"instrument\", \"detente\", \"america\", \"constitute\", \"extent\", \"negotiation\", \"concerning\", \"legal\", \"matters\", \"reasons\", \"essential\", \"certain\", \"possible\", \"relations\", \"problems\", \"principles\", \"respect\", \"present\", \"fundamental\", \"law\", \"order\", \"peoples\", \"social\", \"charter\", \"necessary\", \"solution\", \"means\", \"government\", \"rights\", \"great\", \"problem\", \"interests\", \"human\", \"situation\", \"developing\", \"progress\", \"policy\", \"time\", \"action\", \"make\", \"state\", \"national\", \"work\", \"weapon\", \"conventional\", \"nuclear\", \"india\", \"pakistan\", \"chemical\", \"disarmament\", \"cyprus\", \"test\", \"treaty\", \"weapons\", \"geneva\", \"talks\", \"arms\", \"early\", \"ban\", \"proliferation\", \"negotiations\", \"developments\", \"space\", \"comprehensive\", \"control\", \"elimination\", \"reduction\", \"substantial\", \"prospects\", \"proposal\", \"asian\", \"wide\", \"practical\", \"settlement\", \"conference\", \"issues\", \"operation\", \"step\", \"south\", \"agreement\", \"parties\", \"year\", \"problems\", \"developing\", \"east\", \"problem\", \"progress\", \"hope\", \"secretary\", \"non\", \"major\", \"measures\", \"important\", \"peaceful\", \"recent\", \"years\", \"continue\", \"africa\", \"government\", \"bosnia\", \"japan\", \"operations\", \"ethnic\", \"peacekeeping\", \"cooperation\", \"european\", \"reform\", \"integration\", \"reforms\", \"eastern\", \"mechanisms\", \"actively\", \"protection\", \"membership\", \"prevention\", \"cold\", \"globalization\", \"keeping\", \"activities\", \"enhance\", \"contributions\", \"transition\", \"regional\", \"effectiveness\", \"structures\", \"century\", \"humanitarian\", \"role\", \"strengthening\", \"council\", \"member\", \"organizations\", \"rights\", \"human\", \"process\", \"europe\", \"important\", \"stability\", \"conflicts\", \"issues\", \"social\", \"global\", \"secretary\", \"challenges\", \"non\", \"work\", \"conflict\", \"effective\", \"like\", \"region\", \"need\", \"order\", \"members\", \"time\", \"year\", \"know\", \"want\", \"speak\", \"earth\", \"france\", \"think\", \"say\", \"said\", \"words\", \"fear\", \"men\", \"understand\", \"old\", \"powerful\", \"let\", \"death\", \"did\", \"history\", \"moment\", \"longer\", \"000\", \"wars\", \"wealth\", \"man\", \"days\", \"come\", \"left\", \"planet\", \"millions\", \"does\", \"million\", \"century\", \"day\", \"nation\", \"today\", \"democracy\", \"war\", \"ago\", \"freedom\", \"power\", \"years\", \"life\", \"time\", \"future\", \"live\", \"human\", \"america\", \"way\", \"great\", \"long\", \"make\", \"president\", \"past\", \"right\", \"just\", \"end\", \"peoples\", \"state\", \"need\", \"rights\", \"caribbean\", \"island\", \"vulnerable\", \"pacific\", \"islands\", \"climate\", \"sustainable\", \"small\", \"2015\", \"sector\", \"change\", \"water\", \"investment\", \"governance\", \"food\", \"health\", \"global\", \"environmental\", \"millennium\", \"access\", \"goals\", \"impact\", \"addressing\", \"partnership\", \"education\", \"energy\", \"globalization\", \"address\", \"critical\", \"markets\", \"challenges\", \"poverty\", \"developing\", \"agenda\", \"trade\", \"financial\", \"cent\", \"growth\", \"developed\", \"resources\", \"level\", \"issues\", \"need\", \"year\", \"commitment\", \"government\", \"national\", \"continue\", \"cooperation\", \"action\", \"social\", \"zimbabwe\", \"racist\", \"namibia\", \"apartheid\", \"indian\", \"colonial\", \"aligned\", \"liberation\", \"colonialism\", \"domination\", \"thirty\", \"regime\", \"southern\", \"oau\", \"decolonization\", \"independence\", \"ocean\", \"inalienable\", \"struggle\", \"angola\", \"exploitation\", \"south\", \"africa\", \"sahara\", \"movement\", \"illegal\", \"racial\", \"western\", \"majority\", \"kampuchea\", \"delegation\", \"self\", \"territory\", \"african\", \"powers\", \"determination\", \"non\", \"developing\", \"situation\", \"government\", \"right\", \"peoples\", \"foreign\", \"resolution\", \"freedom\", \"problem\", \"state\", \"order\", \"charter\", \"continue\", \"developed\", \"conference\", \"somalia\", \"sudan\", \"african\", \"reconciliation\", \"debt\", \"elections\", \"continent\", \"guinea\", \"recovery\", \"sahara\", \"angola\", \"appeal\", \"connection\", \"oau\", \"africa\", \"tribute\", \"unity\", \"predecessor\", \"commend\", \"burden\", \"reconstruction\", \"july\", \"gratitude\", \"thanks\", \"restore\", \"undertaken\", \"programme\", \"welcomes\", \"neighbouring\", \"refugees\", \"dialogue\", \"lasting\", \"republic\", \"government\", \"parties\", \"democratic\", \"delegation\", \"mr\", \"conflicts\", \"situation\", \"solidarity\", \"conflict\", \"hope\", \"national\", \"president\", \"like\", \"process\", \"secretary\", \"crisis\", \"assistance\", \"regard\", \"social\", \"order\", \"south\", \"agreement\", \"end\", \"continue\", \"conference\", \"terrorist\", \"terrorism\", \"crimes\", \"criminal\", \"attacks\", \"court\", \"fight\", \"syria\", \"11\", \"humankind\", \"crime\", \"innocent\", \"combat\", \"2015\", \"women\", \"protect\", \"governance\", \"humanitarian\", \"acts\", \"rule\", \"violence\", \"afghanistan\", \"groups\", \"millennium\", \"september\", \"children\", \"committed\", \"victims\", \"persons\", \"threats\", \"law\", \"goals\", \"human\", \"rights\", \"council\", \"challenges\", \"commitment\", \"conflict\", \"union\", \"state\", \"government\", \"weapons\", \"work\", \"need\", \"global\", \"respect\", \"year\", \"continue\", \"president\", \"resolution\", \"islamic\", \"israeli\", \"arab\", \"lebanon\", \"israel\", \"iran\", \"iraq\", \"palestinian\", \"occupied\", \"gulf\", \"palestine\", \"occupation\", \"palestinians\", \"1967\", \"resolutions\", \"territories\", \"syria\", \"aggression\", \"withdrawal\", \"land\", \"middle\", \"practices\", \"return\", \"kingdom\", \"region\", \"legitimate\", \"imposed\", \"pleasure\", \"violation\", \"accordance\", \"stability\", \"east\", \"settlement\", \"sovereignty\", \"council\", \"state\", \"resolution\", \"principles\", \"right\", \"just\", \"war\", \"role\", \"peoples\", \"order\", \"solution\", \"charter\", \"socialist\", \"viet\", \"nam\", \"soviet\", \"korea\", \"china\", \"korean\", \"cambodia\", \"detente\", \"cuba\", \"kampuchea\", \"republic\", \"germany\", \"asia\", \"party\", \"military\", \"union\", \"europe\", \"anti\", \"friendship\", \"aggression\", \"democratic\", \"interference\", \"space\", \"forces\", \"super\", \"asian\", \"troops\", \"struggle\", \"policy\", \"relations\", \"peoples\", \"war\", \"independence\", \"nuclear\", \"national\", \"peaceful\", \"foreign\", \"weapons\", \"interests\", \"situation\", \"state\", \"government\", \"east\"], \"Freq\": [31399.0, 22925.0, 18214.0, 23371.0, 11763.0, 11260.0, 11949.0, 26872.0, 21880.0, 10271.0, 36649.0, 25186.0, 29585.0, 7049.0, 16940.0, 26004.0, 14082.0, 17520.0, 13278.0, 21441.0, 18909.0, 33671.0, 7802.0, 13997.0, 7075.0, 15663.0, 5459.0, 9208.0, 10681.0, 9600.0, 3330.8683043928568, 3395.3934241992274, 2894.4550882520475, 1457.2696796063053, 1743.7423970468171, 1376.2886061001107, 1561.8978981895652, 1060.1634845385322, 1259.8002836031364, 3942.1492600780816, 1056.1055866887004, 2627.0807974812656, 918.0812112760626, 964.3722120972486, 945.2534224624536, 6897.8176686375, 1046.6127111349883, 1440.629108941283, 1504.6873070219917, 1177.8200835268658, 1557.3848663666706, 3754.48872353336, 1116.2408759647474, 887.7030373539869, 897.6550984325967, 1009.5185097256762, 1572.6040993493484, 971.8392385411817, 829.7186589596906, 2456.2846165781034, 2769.1469679835836, 4502.0754537572875, 7000.491678245114, 8392.430194604367, 5966.177632126496, 6127.432470792529, 4060.7618331282906, 2916.17538077587, 4698.037156696857, 7198.416385104736, 7572.143949141634, 6171.58851608874, 4842.956630179283, 3645.4824450113842, 4531.444177489756, 3724.6337501470207, 8778.633881971495, 7871.710565411563, 5247.64487882167, 4180.103122651727, 3330.2042013175046, 6424.710995147667, 4872.302180744821, 5070.40793398968, 4168.263493428952, 3576.448235420503, 4334.937413531468, 3780.804634875561, 3780.0137336950165, 3922.066214701172, 3868.0430589246744, 3757.689388299455, 2202.3099714369137, 1558.1590612884656, 16949.601596559467, 1625.2173250711717, 1685.1588966901154, 1607.9885920453482, 8581.727498823826, 2620.406760666307, 1316.375481501348, 4885.54621064276, 9211.797751826878, 1372.0847230781355, 1878.7770884797842, 5701.099872897738, 1712.0782165524306, 1300.7782179888716, 2179.454070353512, 5373.503674743878, 1907.7231050435973, 816.1134911752213, 2909.9646167251785, 1795.032752323762, 1070.4823504849335, 1173.7320240460986, 718.129706375654, 766.5593757424145, 1220.873223228036, 736.1670866518659, 944.148710388459, 1013.2205352073228, 3484.4734955273807, 6907.717998071335, 3677.4890479860214, 4863.750011512573, 1785.4914332587377, 7069.195172155529, 3578.814494002583, 3240.258105018039, 5930.341912571157, 5557.569479117584, 5885.578708459879, 4480.190842965964, 3677.373839836775, 4062.491100693322, 4247.487543885173, 3949.845287685589, 3745.81710062804, 2953.0029118255684, 3084.448197414316, 3541.3442189288294, 3236.4494834473303, 2737.335881729216, 3267.5694841971986, 3101.5982567915057, 3132.2859182295333, 3166.245130255254, 1996.0958675927916, 2035.3332102435793, 2831.9647567509273, 1665.7355674602638, 1876.869363435541, 10266.655164021544, 5106.845966230389, 5127.066593450178, 1551.0559684231216, 1477.792371264044, 941.9748979578728, 1181.7429712171254, 1305.567403246598, 2133.5468811112046, 2166.111946750616, 1008.4907268035639, 1367.7719421497911, 1266.1137280238972, 2121.56914927432, 2585.776125384196, 913.9734046380956, 903.8202881967048, 901.2448578593783, 5079.488974487673, 1048.2931442925342, 766.9497340261045, 2392.07587371499, 2129.133575734085, 5571.212505758209, 2369.78553938176, 10344.262078828642, 5416.5677462241, 2163.1695724404217, 9938.803135820779, 10439.877215123612, 5633.913541918381, 2952.558770788809, 4960.6565113784, 3281.693890866674, 3106.3471412925787, 3077.2254611171034, 4479.742021442619, 4284.756473334659, 3682.244278530017, 2749.757367029549, 3076.2258923724166, 3235.108948224861, 2986.13676670827, 2658.746310090017, 3052.6162214156884, 2999.7571475359105, 2884.334580181664, 2852.258491556553, 2609.1138149406825, 2729.6179411320477, 2656.229856709386, 2940.4433019383405, 2975.031505153889, 1447.066399982867, 1513.2634558740997, 1355.5383942373371, 1388.7533710121136, 3213.9188230274867, 2762.0693015063252, 2071.191228387054, 1218.9137141925273, 1914.349050402729, 1136.032132639821, 1504.4275854066254, 1248.2694562678032, 4048.002511348825, 1019.0257009656187, 1776.2642632588804, 4046.6656857653334, 976.5392477935094, 1797.1514291694718, 1408.165502645595, 1379.814764756474, 962.4013290061026, 2040.913528288006, 1105.1082634397399, 3533.6908270234776, 963.5580577886418, 1383.3427429339836, 1328.835604132226, 2863.327038435711, 1902.9349827186538, 2849.6230992302117, 2320.7585619738607, 3094.201426467798, 7629.018589632976, 3993.307370093675, 7683.398947379862, 3067.9751670659293, 4033.533329838974, 3627.826969803888, 7148.258837832008, 3534.4069183948736, 7005.162471947864, 4199.65911279841, 2439.9100315499336, 6556.5765699215635, 2837.4325058506247, 3671.8318024742944, 4168.655109139601, 3358.800324015903, 3662.8092492840565, 3624.287907206737, 2969.0492991974324, 3366.717223627716, 3293.8906230080224, 3305.7034433205267, 3514.2053408946867, 3323.048514275307, 3082.5213185904367, 3006.464275594002, 2933.2794573579836, 3701.415303550886, 1574.5953909938673, 2985.4717408316133, 2600.3274814775186, 6216.6766273994, 4755.794428629223, 6274.931353733986, 1594.7548021364798, 1168.5173834047089, 6403.144861302011, 1166.5594670748928, 1413.7056743940364, 1507.6041783762034, 2652.18804358909, 1928.0736080832382, 10837.487818683609, 1716.9111266375403, 2681.829469841077, 1547.9327856079142, 3457.1872756322514, 1506.0729401398537, 934.2470973870878, 1361.7681186911839, 1468.7816838691458, 2356.5579090737433, 1301.2565908786814, 2542.5907764574886, 1312.3534227398022, 981.396669929451, 3890.423758636169, 3860.028445200184, 8281.05327434316, 3132.3432407297864, 4302.959876085699, 3509.351399129231, 2510.5162909899136, 2791.935779677454, 3709.4963961668063, 4015.5410111405345, 2696.434836215932, 2959.1703067988205, 3580.0487890867375, 3722.31433867008, 2664.5376140309363, 3865.735323491733, 3281.6350823546068, 3086.8210353923296, 3001.2826235326315, 2935.0793285172726, 2993.2638917332547, 2403.204790218387, 3048.4279717666127, 6142.656804595738, 4306.658695176398, 1497.34172903519, 2505.01414799831, 3348.0711136397895, 3058.771536803717, 2114.7689458089, 1554.5826290253244, 1658.8629763023612, 5137.50374265849, 3408.6537832323097, 1554.4028188865193, 1131.1139409637406, 7556.7638799284105, 1619.0006338321382, 1036.270744418668, 4575.286208397656, 1724.3265616790345, 1154.0322841198763, 12593.475995549514, 14557.938021443373, 955.57831466941, 2320.441546533416, 1226.8296811045088, 1102.092832809236, 1892.5235667260993, 2109.9664399420835, 1289.364121841269, 5214.498207736953, 3567.180180098758, 2443.430818985859, 5756.450582528602, 3463.368014499325, 3145.2953617947082, 4208.092989551082, 4613.256420918641, 4032.877045596645, 4996.535904069725, 3368.4336888067096, 3771.7632909957374, 2955.3120704758066, 2974.6435357024025, 2602.38475213999, 2889.3375132004226, 3060.505105538826, 3053.122459525158, 2719.6714726966607, 2730.3321922659316, 2631.928388260755, 2639.30951064077, 2178.4581563478487, 1527.3399426113945, 11707.086414926738, 1929.6159752077824, 3289.317432478985, 2076.0709083900315, 3422.8217385935413, 1869.8525461929262, 1097.1466386850066, 986.5509919696791, 1694.7795981028871, 1898.6015262304948, 1118.8363313961486, 1168.455221807521, 12684.72155395905, 1595.4376288309707, 2278.9239918211983, 1022.6951712386818, 716.8797831215617, 865.7521351526559, 802.8449585891677, 831.4947954737315, 849.1776042668425, 956.7313882911052, 730.2263782778151, 983.6757238334401, 2312.2928305171513, 1090.4558098960506, 641.3787798220587, 1423.073367462858, 3041.2652498318485, 1939.8810163107341, 6077.522534585749, 8705.06083519485, 3052.0122304366632, 3621.5185124019513, 3418.805228669849, 3633.265395546004, 2872.9872608379187, 4874.843588342218, 2061.6470114806175, 3744.2123721624416, 3828.548103762139, 4313.644776535474, 3585.9514183512397, 3794.753926687447, 3586.859183469817, 3294.3164888827396, 2719.958776863732, 2601.298493146823, 2545.9733493392905, 3014.4869070487675, 3043.335037860461, 2996.817592749653, 2466.4646250337705, 2543.814213032101, 2480.61152814551, 2375.6849697024018, 2916.8202952670254, 10143.381058107141, 1763.3891521031685, 1540.1779562798993, 1285.62010586437, 1688.9812027826222, 2524.1698515029993, 1266.7292335727993, 1452.0632113748898, 979.7109756829567, 1227.571343835722, 1036.8889730001035, 1043.6018927812956, 1139.394165115931, 2671.4208965275902, 1167.3372510633192, 1075.6049195705068, 2168.388250990119, 1849.2370035007718, 1802.5747021266675, 2489.2043065382377, 2169.928403023785, 1301.3002513666286, 1961.3664648043698, 1434.65037528046, 1911.9133395434392, 2112.71279585958, 1034.011830354547, 778.1620732507307, 1363.0773749840544, 4268.028715723357, 2180.0287703358067, 6778.346532661923, 5860.327778345201, 5180.880781509317, 2415.0387317283116, 2213.9841624448027, 2806.707127457259, 2209.1754067261368, 3045.156590252924, 3298.593952488746, 2368.339429183636, 2344.182626731605, 2235.191616607052, 2213.5182690631577, 2090.767743801824, 2157.7941974971786, 2095.5835568782118, 2027.5999847793141, 1864.2356999059346, 2750.399917382085, 4430.643199878107, 9224.80922056946, 4374.9921878623345, 9273.973416361032, 3005.53341804215, 4954.819782642458, 7159.04209805033, 2634.750199469376, 1530.2975176499056, 3372.8051325538704, 2792.2370233618103, 1201.2902477469934, 1252.5893930642455, 4687.813430922499, 2482.1415349342083, 987.5145412908887, 2663.1569223317006, 1418.0298440063996, 1340.0738169674526, 4197.089253113046, 658.6685228571674, 1153.8322063280725, 915.5034936619685, 5771.865835068783, 1604.6530643103868, 643.324520682406, 566.0146774275038, 565.1577623845875, 1083.3915575121976, 2647.345268771563, 4246.901954357547, 2176.526831470859, 1778.463982427136, 4357.100223301577, 3597.89818379073, 2589.9838113149763, 2734.1633437574096, 2384.8337105297383, 2289.2510147348853, 2438.195436865717, 2155.9190118565616, 2462.941963268355, 2319.4461140976896, 2052.5157402831583, 2070.517282931515, 2584.88100754578, 2906.658168107761, 2708.71362310171, 5095.202405255735, 3153.3651703087094, 2636.7362365802874, 1731.3747569685115, 1263.091596329451, 1784.58815737152, 923.7973204803253, 1494.607352927608, 9528.801656446838, 774.8635527211005, 2192.1233408697367, 983.831253090564, 4201.272578198509, 3573.013500415113, 3062.8373290591057, 676.9604626584693, 632.0937805327202, 2203.4804195336815, 4160.611076421017, 1152.2777244737536, 644.0971804608769, 3156.05838598653, 777.3714269222166, 598.3679867414547, 1011.3311268346133, 2674.451591290175, 3693.0460328105532, 4613.961157646863, 5529.513525837387, 4219.521651907525, 2700.2171846838914, 3382.688783700963, 3264.2892804581115, 2432.502918289095, 2134.564492109085, 2342.918195436515, 1881.821461226826, 2351.176662204667, 2178.857983694025, 2289.4527058532103, 2024.2003029688956], \"Total\": [31399.0, 22925.0, 18214.0, 23371.0, 11763.0, 11260.0, 11949.0, 26872.0, 21880.0, 10271.0, 36649.0, 25186.0, 29585.0, 7049.0, 16940.0, 26004.0, 14082.0, 17520.0, 13278.0, 21441.0, 18909.0, 33671.0, 7802.0, 13997.0, 7075.0, 15663.0, 5459.0, 9208.0, 10681.0, 9600.0, 5125.164787922603, 6353.744215097011, 5704.236777030235, 2877.053633027631, 3450.3226910219987, 2902.2574048068113, 3324.5600497625796, 2266.1983591882827, 2711.9704839494207, 8514.952041217997, 2283.3258372764703, 5679.860066168931, 2039.4585820915247, 2142.8547250246197, 2115.8499221399115, 15663.080607020045, 2394.285909683342, 3301.6255865431394, 3462.1293235383264, 2718.4783843999803, 3595.7330607856015, 8687.661977551912, 2732.14152422561, 2182.432036824913, 2240.4969305307754, 2528.8978108126225, 3960.090171409719, 2467.2237593732075, 2110.8800753001665, 6251.290214015048, 7134.652036066628, 11891.415922527744, 18909.100655954026, 23196.53464941648, 16370.81469866304, 17361.281451104882, 11212.376884482324, 7980.802646506371, 14005.433197875294, 23613.865582161085, 25186.540829671627, 21300.402068776966, 16158.407870672674, 11250.410894598577, 14994.316609499887, 11658.869626046177, 37628.62275665509, 33671.19262579249, 19696.350710832423, 14590.764098286127, 10638.953928684514, 36649.951080202, 22625.844439112963, 26004.492163153278, 17568.958524884376, 13570.087473162488, 25418.877574792787, 16493.521950826213, 16961.500584761427, 23912.14224940762, 23571.711811462475, 20528.73139464657, 2729.9246089273265, 1999.695547303345, 22925.314555941513, 2245.932747587064, 2354.5514130132933, 2464.761355975779, 13278.881124044747, 4392.017263932838, 2237.893611129711, 8521.067263657673, 16940.427061500206, 2579.991688999991, 3672.6422752673143, 11211.281335251078, 3513.5382918837554, 2876.479639500885, 5053.156074386237, 13233.274432883945, 5051.462670237166, 2204.722647714584, 8066.621536687543, 4982.933369630846, 3009.978782023913, 3327.6892535752086, 2050.7704680810684, 2209.6046186407543, 3523.6920990188623, 2135.167416148268, 2769.1392635747316, 3035.574220178707, 10468.065067038004, 21722.097763527185, 11453.636583466949, 15663.080607020045, 5452.013430768811, 26872.24138088775, 12317.611868508495, 11253.05271890662, 23590.046413358665, 23196.53464941648, 26004.492163153278, 18718.615343844125, 14590.764098286127, 17568.958524884376, 19411.499293393616, 18214.644531581504, 16964.75468853356, 10584.813996903804, 12393.508088265136, 18868.418438991688, 15092.773579504177, 11182.251271104142, 22414.69836207076, 19220.383552423806, 31399.948150289943, 37628.62275665509, 1996.9962948709517, 2683.4161788355227, 3920.265666176193, 2639.3651436018213, 3157.0071914447035, 17520.771085794993, 8772.684569179284, 9303.5460560989, 3277.312840788641, 3126.9977425901316, 2002.7348113974138, 2604.514445032214, 2967.7627818518095, 4858.390510247512, 5176.244945471565, 2419.226868292995, 3295.646232334753, 3053.004452595042, 5140.702319426682, 6461.827483061827, 2296.79534876583, 2313.916233928061, 2330.1266808974965, 13196.35025882706, 2741.920642188058, 2056.606398755229, 6451.9849357108615, 5811.322702399153, 15381.792337209863, 6556.391368022197, 29585.534887142676, 15540.192373170546, 6030.398002935431, 33671.19262579249, 36649.951080202, 19477.38211975445, 9208.96925958241, 18868.418438991688, 11315.858650166849, 11447.135603361035, 11453.636583466949, 21300.402068776966, 21880.279981756034, 18214.644531581504, 10165.403883662002, 16964.75468853356, 20528.73139464657, 16732.0921987747, 11478.962763630081, 20786.46649154118, 21535.5912371136, 18584.222197890256, 23613.865582161085, 13626.437772876841, 25418.877574792787, 23590.046413358665, 4399.136317305302, 4593.67399786946, 2250.3963792960462, 2383.304028201296, 2196.466776365034, 2294.8425789068738, 5345.005379711293, 4628.929228813341, 3507.807238691824, 2070.5167358737476, 3310.636943262618, 2058.033766884344, 2774.7508124699802, 2386.0500125229105, 7815.546274665169, 2050.561693354108, 3577.1400383166706, 8210.28055033351, 2007.3356105809496, 3720.073864488414, 2916.0667800683786, 2872.629168016127, 2013.0217280718925, 4327.119207596871, 2408.084884156916, 7723.701947787649, 2107.7094430533716, 3039.2492332013026, 2920.553634315713, 6337.980922730617, 4223.96927142948, 6451.9849357108615, 5233.071780843707, 7106.975052315016, 18726.707613101906, 9523.273402243265, 21441.825701446047, 7464.024540552857, 10408.59237006623, 9215.58876676402, 22414.69836207076, 9492.530716876445, 25418.877574792787, 15549.161696441075, 6257.43106450633, 36649.951080202, 8687.661977551912, 14446.742911662355, 19696.350710832423, 13717.100374843918, 16961.500584761427, 18838.415925826353, 10914.827864746636, 16116.936725360643, 15233.001130765053, 15813.845431709693, 25186.540829671627, 23912.14224940762, 18584.222197890256, 33671.19262579249, 3731.851040798942, 4776.341708789982, 2107.459476673677, 4089.3332575011223, 3693.867324285208, 9033.235792747568, 7618.785687079622, 10151.803451260803, 2734.948800579102, 2010.749907469239, 11301.512205863277, 2077.6019275323256, 2613.6296675908143, 2790.216339264591, 4961.875567885995, 3765.27859983468, 21880.279981756034, 3607.2675677933007, 5638.4557516090545, 3287.0198690929915, 7572.759107604432, 3340.804565189473, 2079.9204925800186, 3074.504831418609, 3321.1872534020717, 5455.750464762887, 3053.004452595042, 6054.070816839345, 3230.6203828518132, 2511.9732185972684, 10165.403883662002, 10384.128792199326, 26004.492163153278, 8414.455590313493, 12823.388667868838, 10355.997861206617, 6718.393921621966, 7785.674132936401, 12424.815130102243, 15025.524430498182, 9271.241876589334, 11453.636583466949, 18584.222197890256, 23590.046413358665, 10327.284759639579, 37628.62275665509, 23571.711811462475, 19220.383552423806, 17520.771085794993, 16493.521950826213, 21300.402068776966, 2489.404914109601, 3322.473253047156, 7802.156593108109, 6235.11473461056, 2171.8532182527233, 3639.734368023811, 4977.822206081877, 4746.611112840153, 3376.250070274499, 2495.4010111606713, 2690.395972465385, 8399.561130524458, 5808.469169458338, 2723.6581482341367, 2003.5562849790215, 14082.814464227153, 3040.3009521425956, 2005.8443378534002, 9600.180628606122, 3641.1081444091938, 2461.9479830953796, 26872.24138088775, 31399.948150289943, 2072.9950676859953, 5070.8884681649415, 2792.0251286975868, 2580.3834692887267, 4582.937220114546, 5329.986702415616, 3295.967611963915, 13463.061641540124, 9500.158371275962, 6307.697980562989, 18214.989598342534, 10046.943844490874, 10124.001116376392, 16964.75468853356, 26004.492163153278, 22625.844439112963, 37628.62275665509, 16116.936725360643, 25186.540829671627, 13291.616908153519, 14949.698247558867, 10408.59237006623, 14590.764098286127, 23912.14224940762, 23613.865582161085, 16158.407870672674, 19220.383552423806, 12424.815130102243, 21722.097763527185, 2729.4751389241537, 2322.6144285850737, 18214.989598342534, 3394.9945029207097, 6136.99994313678, 3889.3305687777533, 6494.4343598498035, 3678.4577643763137, 2287.1399059110463, 2072.9950676859953, 3641.1081444091938, 4278.38127337368, 2541.9877494399934, 2723.6581482341367, 31399.948150289943, 4246.671481981953, 6217.408098709802, 2873.044565838815, 2031.4708980475032, 2454.965066763352, 2294.4414238933377, 2406.311970125381, 2481.3860864892226, 2816.096157197494, 2168.6191961851478, 2970.885977942579, 7026.647470136557, 3358.4986450577544, 2039.5789150675666, 4615.240005491011, 9874.710756411272, 6348.125725130182, 23371.139956354848, 37628.62275665509, 11253.05271890662, 13997.41179793148, 13463.061641540124, 15013.699307292365, 11447.135603361035, 22625.844439112963, 7542.922138124348, 16732.0921987747, 19411.499293393616, 23571.711811462475, 18838.415925826353, 20786.46649154118, 19477.38211975445, 18214.644531581504, 12493.270508216037, 11553.649814844568, 11446.89059388595, 21300.402068776966, 23613.865582161085, 26872.24138088775, 12317.611868508495, 15813.845431709693, 19220.383552423806, 21722.097763527185, 3031.030443869222, 11763.252780692736, 2521.0604818143042, 2419.207128212774, 2040.4548090827182, 2931.807607283886, 4397.627656637853, 2292.672520357467, 2886.0725857022044, 2092.2313749561495, 2690.3364412552114, 2324.122993914674, 2398.4518709341296, 2734.948800579102, 6473.203193701723, 2946.2525004945187, 2790.216339264591, 5811.322702399153, 4986.104386595335, 4864.005606062953, 6854.07605441095, 6146.958780412648, 3738.7869869180213, 5638.4557516090545, 4188.793051511109, 5602.514262755912, 6194.646600170664, 3075.8896640550784, 2328.2938650749443, 4130.57986006467, 14005.433197875294, 7572.759107604432, 36649.951080202, 33671.19262579249, 29585.534887142676, 10165.403883662002, 10327.284759639579, 16732.0921987747, 10681.080135409184, 23912.14224940762, 37628.62275665509, 16940.427061500206, 20528.73139464657, 18584.222197890256, 21880.279981756034, 17361.281451104882, 23590.046413358665, 19220.383552423806, 18838.415925826353, 14949.698247558867, 3039.7399695166087, 5116.542633683123, 11260.501717214465, 5459.35235841463, 11949.885718650945, 3940.1076912890717, 7075.050154387855, 10271.917595794888, 4072.0305491875515, 2435.868468095532, 5425.616061599721, 4714.891457670474, 2092.9583013707115, 2406.716042778409, 10077.309076351481, 5519.005848465828, 2292.672520357467, 7187.866484905342, 3989.8707066218826, 4032.5096073325944, 12994.057005714318, 2052.1286459301805, 4157.831273284003, 3303.6127467197643, 21535.5912371136, 6294.295708956973, 2529.025826013208, 2225.84407768139, 2246.264905195213, 4429.184954794785, 11315.858650166849, 18718.615343844125, 10468.065067038004, 8305.43715505539, 29585.534887142676, 23912.14224940762, 14949.698247558867, 16370.81469866304, 16116.936725360643, 15233.001130765053, 21441.825701446047, 15381.792337209863, 25186.540829671627, 23613.865582161085, 14994.316609499887, 16158.407870672674, 2785.8800279206785, 3390.356901998692, 3185.301211674183, 7049.449272554942, 4654.020326022011, 4502.534578904345, 2958.686890084758, 2308.657983542849, 3595.7330607856015, 2023.1223439504479, 3295.967611963915, 23371.139956354848, 2055.192768443721, 6002.130698529403, 2749.9146073803927, 12340.72663955777, 10681.080135409184, 9208.96925958241, 2179.2561184869505, 2042.1907541219257, 7187.866484905342, 13997.41179793148, 3908.7565727040646, 2204.722647714584, 10813.104840078788, 2670.1415801520193, 2135.167416148268, 3630.2163705258235, 9600.180628606122, 13570.087473162488, 18909.100655954026, 25186.540829671627, 21441.825701446047, 14082.814464227153, 22925.314555941513, 23571.711811462475, 15092.773579504177, 13291.616908153519, 16940.427061500206, 10638.953928684514, 22625.844439112963, 23912.14224940762, 37628.62275665509, 18718.615343844125], \"Category\": [\"Default\", \"Default\", \"Default\", \"Default\", \"Default\", \"Default\", \"Default\", \"Default\", \"Default\", \"Default\", \"Default\", \"Default\", \"Default\", \"Default\", \"Default\", \"Default\", \"Default\", \"Default\", \"Default\", \"Default\", \"Default\", \"Default\", \"Default\", \"Default\", \"Default\", \"Default\", \"Default\", \"Default\", \"Default\", \"Default\", \"Topic1\", \"Topic1\", \"Topic1\", \"Topic1\", \"Topic1\", \"Topic1\", \"Topic1\", \"Topic1\", \"Topic1\", \"Topic1\", \"Topic1\", \"Topic1\", \"Topic1\", \"Topic1\", \"Topic1\", \"Topic1\", \"Topic1\", \"Topic1\", \"Topic1\", \"Topic1\", \"Topic1\", \"Topic1\", \"Topic1\", \"Topic1\", \"Topic1\", \"Topic1\", \"Topic1\", \"Topic1\", \"Topic1\", \"Topic1\", \"Topic1\", \"Topic1\", \"Topic1\", \"Topic1\", \"Topic1\", \"Topic1\", \"Topic1\", \"Topic1\", \"Topic1\", \"Topic1\", \"Topic1\", \"Topic1\", \"Topic1\", \"Topic1\", \"Topic1\", \"Topic1\", \"Topic1\", \"Topic1\", \"Topic1\", \"Topic1\", \"Topic1\", \"Topic1\", \"Topic1\", \"Topic1\", \"Topic1\", \"Topic1\", \"Topic1\", \"Topic1\", \"Topic1\", \"Topic1\", \"Topic1\", \"Topic1\", \"Topic2\", \"Topic2\", \"Topic2\", \"Topic2\", \"Topic2\", \"Topic2\", \"Topic2\", \"Topic2\", \"Topic2\", \"Topic2\", \"Topic2\", \"Topic2\", \"Topic2\", \"Topic2\", \"Topic2\", \"Topic2\", \"Topic2\", \"Topic2\", \"Topic2\", \"Topic2\", \"Topic2\", \"Topic2\", \"Topic2\", \"Topic2\", \"Topic2\", \"Topic2\", \"Topic2\", \"Topic2\", \"Topic2\", \"Topic2\", \"Topic2\", \"Topic2\", \"Topic2\", \"Topic2\", \"Topic2\", \"Topic2\", \"Topic2\", \"Topic2\", \"Topic2\", \"Topic2\", \"Topic2\", \"Topic2\", \"Topic2\", \"Topic2\", \"Topic2\", \"Topic2\", \"Topic2\", \"Topic2\", \"Topic2\", \"Topic2\", \"Topic2\", \"Topic2\", \"Topic2\", \"Topic2\", \"Topic2\", \"Topic2\", \"Topic3\", \"Topic3\", \"Topic3\", \"Topic3\", \"Topic3\", \"Topic3\", \"Topic3\", \"Topic3\", \"Topic3\", \"Topic3\", \"Topic3\", \"Topic3\", \"Topic3\", \"Topic3\", \"Topic3\", \"Topic3\", \"Topic3\", \"Topic3\", \"Topic3\", \"Topic3\", \"Topic3\", \"Topic3\", \"Topic3\", \"Topic3\", \"Topic3\", \"Topic3\", \"Topic3\", \"Topic3\", \"Topic3\", \"Topic3\", \"Topic3\", \"Topic3\", \"Topic3\", \"Topic3\", \"Topic3\", \"Topic3\", \"Topic3\", \"Topic3\", \"Topic3\", \"Topic3\", \"Topic3\", \"Topic3\", \"Topic3\", \"Topic3\", \"Topic3\", \"Topic3\", \"Topic3\", \"Topic3\", \"Topic3\", \"Topic3\", \"Topic3\", \"Topic3\", \"Topic3\", \"Topic3\", \"Topic3\", \"Topic3\", \"Topic4\", \"Topic4\", \"Topic4\", \"Topic4\", \"Topic4\", \"Topic4\", \"Topic4\", \"Topic4\", \"Topic4\", \"Topic4\", \"Topic4\", \"Topic4\", \"Topic4\", \"Topic4\", \"Topic4\", \"Topic4\", \"Topic4\", \"Topic4\", \"Topic4\", \"Topic4\", \"Topic4\", \"Topic4\", \"Topic4\", \"Topic4\", \"Topic4\", \"Topic4\", \"Topic4\", \"Topic4\", \"Topic4\", \"Topic4\", \"Topic4\", \"Topic4\", \"Topic4\", \"Topic4\", \"Topic4\", \"Topic4\", \"Topic4\", \"Topic4\", \"Topic4\", \"Topic4\", \"Topic4\", \"Topic4\", \"Topic4\", \"Topic4\", \"Topic4\", \"Topic4\", \"Topic4\", \"Topic4\", \"Topic4\", \"Topic4\", \"Topic4\", \"Topic4\", \"Topic4\", \"Topic4\", \"Topic4\", \"Topic4\", \"Topic4\", \"Topic4\", \"Topic4\", \"Topic4\", \"Topic5\", \"Topic5\", \"Topic5\", \"Topic5\", \"Topic5\", \"Topic5\", \"Topic5\", \"Topic5\", \"Topic5\", \"Topic5\", \"Topic5\", \"Topic5\", \"Topic5\", \"Topic5\", \"Topic5\", \"Topic5\", \"Topic5\", \"Topic5\", \"Topic5\", \"Topic5\", \"Topic5\", \"Topic5\", \"Topic5\", \"Topic5\", \"Topic5\", \"Topic5\", \"Topic5\", \"Topic5\", \"Topic5\", \"Topic5\", \"Topic5\", \"Topic5\", \"Topic5\", \"Topic5\", \"Topic5\", \"Topic5\", \"Topic5\", \"Topic5\", \"Topic5\", \"Topic5\", \"Topic5\", \"Topic5\", \"Topic5\", \"Topic5\", \"Topic5\", \"Topic5\", \"Topic5\", \"Topic5\", \"Topic5\", \"Topic5\", \"Topic5\", \"Topic6\", \"Topic6\", \"Topic6\", \"Topic6\", \"Topic6\", \"Topic6\", \"Topic6\", \"Topic6\", \"Topic6\", \"Topic6\", \"Topic6\", \"Topic6\", \"Topic6\", \"Topic6\", \"Topic6\", \"Topic6\", \"Topic6\", \"Topic6\", \"Topic6\", \"Topic6\", \"Topic6\", \"Topic6\", \"Topic6\", \"Topic6\", \"Topic6\", \"Topic6\", \"Topic6\", \"Topic6\", \"Topic6\", \"Topic6\", \"Topic6\", \"Topic6\", \"Topic6\", \"Topic6\", \"Topic6\", \"Topic6\", \"Topic6\", \"Topic6\", \"Topic6\", \"Topic6\", \"Topic6\", \"Topic6\", \"Topic6\", \"Topic6\", \"Topic6\", \"Topic6\", \"Topic6\", \"Topic6\", \"Topic6\", \"Topic6\", \"Topic6\", \"Topic6\", \"Topic7\", \"Topic7\", \"Topic7\", \"Topic7\", \"Topic7\", \"Topic7\", \"Topic7\", \"Topic7\", \"Topic7\", \"Topic7\", \"Topic7\", \"Topic7\", \"Topic7\", \"Topic7\", \"Topic7\", \"Topic7\", \"Topic7\", \"Topic7\", \"Topic7\", \"Topic7\", \"Topic7\", \"Topic7\", \"Topic7\", \"Topic7\", \"Topic7\", \"Topic7\", \"Topic7\", \"Topic7\", \"Topic7\", \"Topic7\", \"Topic7\", \"Topic7\", \"Topic7\", \"Topic7\", \"Topic7\", \"Topic7\", \"Topic7\", \"Topic7\", \"Topic7\", \"Topic7\", \"Topic7\", \"Topic7\", \"Topic7\", \"Topic7\", \"Topic7\", \"Topic7\", \"Topic7\", \"Topic7\", \"Topic7\", \"Topic7\", \"Topic7\", \"Topic7\", \"Topic7\", \"Topic7\", \"Topic7\", \"Topic7\", \"Topic7\", \"Topic7\", \"Topic8\", \"Topic8\", \"Topic8\", \"Topic8\", \"Topic8\", \"Topic8\", \"Topic8\", \"Topic8\", \"Topic8\", \"Topic8\", \"Topic8\", \"Topic8\", \"Topic8\", \"Topic8\", \"Topic8\", \"Topic8\", \"Topic8\", \"Topic8\", \"Topic8\", \"Topic8\", \"Topic8\", \"Topic8\", \"Topic8\", \"Topic8\", \"Topic8\", \"Topic8\", \"Topic8\", \"Topic8\", \"Topic8\", \"Topic8\", \"Topic8\", \"Topic8\", \"Topic8\", \"Topic8\", \"Topic8\", \"Topic8\", \"Topic8\", \"Topic8\", \"Topic8\", \"Topic8\", \"Topic8\", \"Topic8\", \"Topic8\", \"Topic8\", \"Topic8\", \"Topic8\", \"Topic8\", \"Topic8\", \"Topic8\", \"Topic8\", \"Topic9\", \"Topic9\", \"Topic9\", \"Topic9\", \"Topic9\", \"Topic9\", \"Topic9\", \"Topic9\", \"Topic9\", \"Topic9\", \"Topic9\", \"Topic9\", \"Topic9\", \"Topic9\", \"Topic9\", \"Topic9\", \"Topic9\", \"Topic9\", \"Topic9\", \"Topic9\", \"Topic9\", \"Topic9\", \"Topic9\", \"Topic9\", \"Topic9\", \"Topic9\", \"Topic9\", \"Topic9\", \"Topic9\", \"Topic9\", \"Topic9\", \"Topic9\", \"Topic9\", \"Topic9\", \"Topic9\", \"Topic9\", \"Topic9\", \"Topic9\", \"Topic9\", \"Topic9\", \"Topic9\", \"Topic9\", \"Topic9\", \"Topic9\", \"Topic9\", \"Topic9\", \"Topic10\", \"Topic10\", \"Topic10\", \"Topic10\", \"Topic10\", \"Topic10\", \"Topic10\", \"Topic10\", \"Topic10\", \"Topic10\", \"Topic10\", \"Topic10\", \"Topic10\", \"Topic10\", \"Topic10\", \"Topic10\", \"Topic10\", \"Topic10\", \"Topic10\", \"Topic10\", \"Topic10\", \"Topic10\", \"Topic10\", \"Topic10\", \"Topic10\", \"Topic10\", \"Topic10\", \"Topic10\", \"Topic10\", \"Topic10\", \"Topic10\", \"Topic10\", \"Topic10\", \"Topic10\", \"Topic10\", \"Topic10\", \"Topic10\", \"Topic10\", \"Topic10\", \"Topic10\", \"Topic10\", \"Topic10\", \"Topic10\", \"Topic10\"], \"logprob\": [30.0, 29.0, 28.0, 27.0, 26.0, 25.0, 24.0, 23.0, 22.0, 21.0, 20.0, 19.0, 18.0, 17.0, 16.0, 15.0, 14.0, 13.0, 12.0, 11.0, 10.0, 9.0, 8.0, 7.0, 6.0, 5.0, 4.0, 3.0, 2.0, 1.0, -5.5632, -5.544, -5.7036, -6.3899, -6.2104, -6.447, -6.3205, -6.708, -6.5355, -5.3947, -6.7118, -5.8006, -6.8519, -6.8027, -6.8227, -4.8352, -6.7209, -6.4014, -6.3578, -6.6028, -6.3234, -5.4435, -6.6565, -6.8855, -6.8744, -6.757, -6.3137, -6.795, -6.9531, -5.8678, -5.7479, -5.2619, -4.8205, -4.6391, -4.9803, -4.9537, -5.3651, -5.6962, -5.2193, -4.7926, -4.742, -4.9465, -5.1889, -5.4729, -5.2554, -5.4515, -4.5941, -4.7032, -5.1087, -5.3361, -5.5634, -4.9063, -5.1829, -5.143, -5.3389, -5.4921, -5.2997, -5.4365, -5.4367, -5.3998, -5.4137, -5.4426, -5.704, -6.05, -3.6632, -6.0078, -5.9716, -6.0185, -4.3438, -5.5302, -6.2186, -4.9072, -4.273, -6.1772, -5.8629, -4.7528, -5.9558, -6.2305, -5.7144, -4.812, -5.8476, -6.6967, -5.4253, -5.9085, -6.4254, -6.3333, -6.8246, -6.7593, -6.2939, -6.7998, -6.551, -6.4803, -5.2452, -4.5608, -5.1913, -4.9117, -5.9138, -4.5377, -5.2185, -5.3178, -4.7134, -4.7783, -4.721, -4.9938, -5.1913, -5.0917, -5.0472, -5.1198, -5.1728, -5.4107, -5.3671, -5.229, -5.319, -5.4865, -5.3094, -5.3616, -5.3517, -5.3409, -5.7628, -5.7433, -5.413, -5.9437, -5.8244, -4.1251, -4.8234, -4.8195, -6.0151, -6.0635, -6.5138, -6.287, -6.1874, -5.6962, -5.6811, -6.4456, -6.1408, -6.2181, -5.7018, -5.504, -6.544, -6.5551, -6.558, -4.8288, -6.4068, -6.7193, -5.5818, -5.6983, -4.7364, -5.5912, -4.1176, -4.7645, -5.6824, -4.1576, -4.1084, -4.7252, -5.3713, -4.8525, -5.2656, -5.3206, -5.33, -4.9544, -4.9989, -5.1505, -5.4425, -5.3303, -5.2799, -5.36, -5.4762, -5.338, -5.3555, -5.3947, -5.4059, -5.495, -5.4498, -5.4771, -5.3331, -5.3214, -6.0422, -5.9974, -6.1075, -6.0833, -5.2442, -5.3957, -5.6836, -6.2137, -5.7623, -6.2842, -6.0033, -6.1899, -5.0135, -6.3929, -5.8372, -5.0138, -6.4354, -5.8255, -6.0694, -6.0898, -6.45, -5.6983, -6.3118, -5.1494, -6.4488, -6.0872, -6.1274, -5.3597, -5.7683, -5.3645, -5.5698, -5.2822, -4.3797, -5.0271, -4.3726, -5.2907, -5.0171, -5.1231, -4.4448, -5.1492, -4.4651, -4.9767, -5.5197, -4.5312, -5.3688, -5.111, -4.9841, -5.2001, -5.1135, -5.124, -5.3235, -5.1978, -5.2196, -5.2161, -5.1549, -5.2108, -5.286, -5.3109, -5.244, -5.0114, -5.8661, -5.2264, -5.3645, -4.4929, -4.7608, -4.4836, -5.8534, -6.1644, -4.4633, -6.1661, -5.9739, -5.9096, -5.3447, -5.6636, -3.9371, -5.7796, -5.3336, -5.8832, -5.0797, -5.9106, -6.3881, -6.0113, -5.9357, -5.4629, -6.0568, -5.3869, -6.0483, -6.3389, -4.9616, -4.9694, -4.2061, -5.1783, -4.8608, -5.0647, -5.3996, -5.2934, -5.0092, -4.9299, -5.3282, -5.2352, -5.0447, -5.0058, -5.3401, -4.968, -5.1318, -5.193, -5.2211, -5.2434, -5.2238, -5.4145, -5.1767, -4.4761, -4.8312, -5.8876, -5.373, -5.083, -5.1733, -5.5424, -5.8501, -5.7852, -4.6548, -5.065, -5.8502, -6.1681, -4.2689, -5.8095, -6.2557, -4.7707, -5.7465, -6.1481, -3.7582, -3.6132, -6.3368, -5.4496, -6.0869, -6.1941, -5.6534, -5.5447, -6.0372, -4.6399, -5.0196, -5.3979, -4.541, -5.0491, -5.1454, -4.8543, -4.7624, -4.8969, -4.6826, -5.0769, -4.9638, -5.2077, -5.2012, -5.3349, -5.2303, -5.1728, -5.1752, -5.2908, -5.2869, -5.3236, -5.3208, -5.5116, -5.8667, -3.83, -5.6329, -5.0996, -5.5598, -5.0598, -5.6644, -6.1975, -6.3038, -5.7627, -5.6491, -6.1779, -6.1346, -3.7498, -5.8231, -5.4665, -6.2678, -6.6231, -6.4344, -6.5098, -6.4748, -6.4537, -6.3345, -6.6046, -6.3067, -5.452, -6.2036, -6.7344, -5.9374, -5.178, -5.6276, -4.4856, -4.1263, -5.1744, -5.0033, -5.0609, -5.0001, -5.2349, -4.7061, -5.5667, -4.97, -4.9478, -4.8285, -5.0132, -4.9566, -5.013, -5.098, -5.2896, -5.3342, -5.3557, -5.1868, -5.1773, -5.1927, -5.3875, -5.3566, -5.3817, -5.425, -4.9276, -3.6813, -5.4309, -5.5662, -5.7469, -5.474, -5.0722, -5.7617, -5.6251, -6.0186, -5.7931, -5.9619, -5.9554, -5.8676, -5.0155, -5.8434, -5.9252, -5.2241, -5.3833, -5.4089, -5.0861, -5.2234, -5.7347, -5.3245, -5.6372, -5.35, -5.2501, -5.9647, -6.2489, -5.6884, -4.5469, -5.2188, -4.0844, -4.2299, -4.3531, -5.1164, -5.2033, -4.9661, -5.2055, -4.8845, -4.8046, -5.1359, -5.1462, -5.1938, -5.2035, -5.2606, -5.229, -5.2583, -5.2912, -5.3752, -4.9513, -4.4745, -3.7411, -4.4871, -3.7358, -4.8626, -4.3627, -3.9947, -4.9942, -5.5376, -4.7473, -4.9362, -5.7796, -5.7378, -4.4181, -5.0539, -5.9756, -4.9835, -5.6138, -5.6703, -4.5286, -6.3806, -5.8199, -6.0513, -4.21, -5.4901, -6.4041, -6.5322, -6.5337, -5.8829, -4.9895, -4.5168, -5.1853, -5.3873, -4.4912, -4.6827, -5.0114, -4.9572, -5.0939, -5.1348, -5.0718, -5.1948, -5.0617, -5.1217, -5.244, -5.2352, -4.8665, -4.7491, -4.8197, -4.1878, -4.6677, -4.8466, -5.2672, -5.5826, -5.237, -5.8954, -5.4143, -3.5618, -6.0712, -5.0313, -5.8324, -4.3808, -4.5427, -4.6968, -6.2063, -6.2749, -5.0261, -4.3905, -5.6744, -6.2561, -4.6668, -6.068, -6.3297, -5.8049, -4.8324, -4.5097, -4.2871, -4.106, -4.3764, -4.8228, -4.5975, -4.6331, -4.9272, -5.0579, -4.9648, -5.1839, -4.9612, -5.0373, -4.9878, -5.111], \"loglift\": [30.0, 29.0, 28.0, 27.0, 26.0, 25.0, 24.0, 23.0, 22.0, 21.0, 20.0, 19.0, 18.0, 17.0, 16.0, 15.0, 14.0, 13.0, 12.0, 11.0, 10.0, 9.0, 8.0, 7.0, 6.0, 5.0, 4.0, 3.0, 2.0, 1.0, 1.4215, 1.2258, 1.174, 1.1722, 1.17, 1.1063, 1.097, 1.0928, 1.0857, 1.0823, 1.0814, 1.0814, 1.0543, 1.054, 1.0467, 1.0323, 1.0249, 1.0231, 1.0191, 1.016, 1.0157, 1.0135, 0.9573, 0.9529, 0.9378, 0.9341, 0.9289, 0.9208, 0.9187, 0.9183, 0.906, 0.8812, 0.8588, 0.8358, 0.843, 0.811, 0.8368, 0.8457, 0.7601, 0.6645, 0.6506, 0.6137, 0.6475, 0.7255, 0.6558, 0.7113, 0.397, 0.3991, 0.5298, 0.6024, 0.6909, 0.1112, 0.3169, 0.2176, 0.4138, 0.5189, 0.0837, 0.3794, 0.3512, 0.0447, 0.0451, 0.1544, 1.9106, 1.8759, 1.8234, 1.8019, 1.7909, 1.6983, 1.6888, 1.6089, 1.5947, 1.5691, 1.5162, 1.4939, 1.4551, 1.4491, 1.4065, 1.3318, 1.2844, 1.2241, 1.1516, 1.1316, 1.1058, 1.1044, 1.0916, 1.0833, 1.0761, 1.0667, 1.0654, 1.0605, 1.0494, 1.0281, 1.0254, 0.9797, 0.9893, 0.9559, 1.0091, 0.79, 0.8894, 0.8804, 0.7446, 0.6965, 0.6396, 0.6955, 0.7472, 0.661, 0.6058, 0.5968, 0.6149, 0.8488, 0.7346, 0.4524, 0.5856, 0.718, 0.1997, 0.3013, -0.1797, -0.3498, 2.1644, 1.8884, 1.8397, 1.7046, 1.6448, 1.6304, 1.6238, 1.569, 1.4168, 1.4153, 1.4106, 1.3746, 1.3437, 1.3419, 1.2937, 1.2899, 1.2854, 1.2847, 1.2798, 1.249, 1.2434, 1.2248, 1.215, 1.2101, 1.2034, 1.1785, 1.1726, 1.1608, 1.1493, 1.1472, 1.114, 1.1109, 1.1396, 0.9447, 0.9091, 0.9244, 1.0274, 0.8289, 0.927, 0.8606, 0.8506, 0.6057, 0.5343, 0.5662, 0.8574, 0.4574, 0.3171, 0.4415, 0.7022, 0.2466, 0.1937, 0.3018, 0.0511, 0.5119, -0.0665, -0.0191, 1.8043, 1.7727, 1.7656, 1.7529, 1.7245, 1.7049, 1.6985, 1.6908, 1.6803, 1.6773, 1.6594, 1.613, 1.595, 1.5593, 1.5493, 1.5079, 1.5071, 1.4997, 1.4866, 1.4796, 1.4792, 1.4739, 1.4692, 1.4557, 1.4283, 1.4252, 1.4244, 1.4201, 1.4197, 1.4126, 1.4098, 1.39, 1.3941, 1.3756, 1.3092, 1.338, 1.1809, 1.3181, 1.2592, 1.2749, 1.0643, 1.2192, 0.9183, 0.8982, 1.2654, 0.4862, 1.0882, 0.8374, 0.6543, 0.8001, 0.6745, 0.5589, 0.9053, 0.6412, 0.6758, 0.6419, 0.2377, 0.2337, 0.4106, -0.2087, 2.058, 2.0438, 2.0073, 1.9841, 1.9477, 1.9251, 1.8275, 1.8177, 1.7594, 1.756, 1.7306, 1.7216, 1.6842, 1.6832, 1.6724, 1.6295, 1.5962, 1.5563, 1.5556, 1.5457, 1.5147, 1.502, 1.4984, 1.4844, 1.4829, 1.4593, 1.446, 1.4312, 1.3979, 1.3589, 1.3383, 1.3091, 1.1545, 1.3106, 1.2068, 1.2166, 1.3144, 1.2732, 1.09, 0.9792, 1.0638, 0.9454, 0.6518, 0.4523, 0.944, 0.0231, 0.327, 0.4699, 0.5344, 0.5725, 0.3364, 2.2923, 2.2414, 2.0884, 1.9575, 1.9556, 1.9539, 1.9309, 1.8881, 1.8597, 1.8543, 1.844, 1.8359, 1.7945, 1.7666, 1.7558, 1.705, 1.6974, 1.6671, 1.5864, 1.5801, 1.5698, 1.5696, 1.5589, 1.5531, 1.5458, 1.5052, 1.4768, 1.4431, 1.4009, 1.389, 1.379, 1.348, 1.3792, 1.1756, 1.2625, 1.1585, 0.9334, 0.5982, 0.6029, 0.3085, 0.7621, 0.4288, 0.824, 0.713, 0.9413, 0.7082, 0.2717, 0.2819, 0.5456, 0.376, 0.7756, 0.2197, 2.1031, 1.9095, 1.8866, 1.7637, 1.705, 1.7009, 1.6882, 1.652, 1.594, 1.5861, 1.5639, 1.5162, 1.508, 1.4823, 1.4222, 1.3496, 1.325, 1.2957, 1.287, 1.2864, 1.2785, 1.266, 1.2563, 1.249, 1.2401, 1.2233, 1.2172, 1.2037, 1.1718, 1.1521, 1.1509, 1.1431, 0.9817, 0.8648, 1.0238, 0.9767, 0.958, 0.9098, 0.9462, 0.7936, 1.0315, 0.8315, 0.7053, 0.6304, 0.6698, 0.6279, 0.6367, 0.6186, 0.8041, 0.8376, 0.8254, 0.3733, 0.2798, 0.1351, 0.7204, 0.5014, 0.2812, 0.1156, 2.5824, 2.4726, 2.2633, 2.1692, 2.1588, 2.0693, 2.0656, 2.0275, 1.9339, 1.862, 1.8361, 1.8137, 1.7886, 1.7452, 1.7357, 1.695, 1.6675, 1.6349, 1.6289, 1.6281, 1.6079, 1.5795, 1.5654, 1.5648, 1.5493, 1.5457, 1.5451, 1.5306, 1.5248, 1.5121, 1.4325, 1.3755, 0.9331, 0.8723, 0.8785, 1.1835, 1.0808, 0.8355, 1.0449, 0.5599, 0.1865, 0.6533, 0.4509, 0.5028, 0.3298, 0.5041, 0.229, 0.4046, 0.3917, 0.5389, 2.5558, 2.5119, 2.4564, 2.4344, 2.4023, 2.3851, 2.2996, 2.2948, 2.2205, 2.191, 2.1804, 2.132, 2.1007, 2.0028, 1.8905, 1.8568, 1.8136, 1.663, 1.6213, 1.5542, 1.5257, 1.5194, 1.3739, 1.3725, 1.3391, 1.2891, 1.2869, 1.2866, 1.2759, 1.2477, 1.2032, 1.1725, 1.0852, 1.1147, 0.7404, 0.7618, 0.9028, 0.8662, 0.7451, 0.7606, 0.4818, 0.6909, 0.3309, 0.3353, 0.6672, 0.6012, 2.7278, 2.6488, 2.6406, 2.4781, 2.4135, 2.2676, 2.2669, 2.1996, 2.1022, 2.0188, 2.0119, 1.9055, 1.8273, 1.7955, 1.7748, 1.7252, 1.7077, 1.7019, 1.6336, 1.63, 1.6204, 1.5895, 1.5812, 1.5722, 1.5713, 1.5688, 1.5306, 1.5247, 1.5247, 1.5013, 1.3922, 1.2865, 1.1771, 1.1511, 0.8891, 0.8257, 0.9774, 0.9738, 0.8244, 1.0704, 0.5385, 0.4071, 0.0033, 0.5784]}, \"token.table\": {\"Topic\": [2, 4, 5, 6, 7, 8, 10, 1, 4, 5, 6, 7, 8, 9, 10, 1, 2, 6, 9, 10, 5, 8, 1, 2, 3, 4, 5, 6, 7, 8, 1, 2, 3, 5, 6, 7, 8, 9, 10, 1, 2, 3, 4, 5, 6, 7, 8, 9, 10, 1, 2, 3, 5, 6, 7, 8, 10, 1, 2, 3, 5, 6, 7, 8, 9, 10, 1, 2, 3, 4, 5, 6, 7, 8, 9, 10, 1, 2, 3, 4, 5, 6, 7, 8, 9, 2, 3, 4, 5, 6, 7, 8, 9, 2, 6, 7, 8, 9, 10, 2, 3, 4, 5, 6, 7, 8, 10, 2, 5, 6, 7, 8, 10, 1, 2, 3, 4, 5, 6, 7, 8, 9, 10, 1, 3, 4, 6, 8, 9, 10, 1, 2, 3, 4, 5, 6, 7, 8, 9, 10, 1, 2, 3, 4, 5, 7, 8, 9, 10, 1, 2, 4, 5, 6, 7, 9, 10, 1, 2, 4, 5, 6, 7, 9, 10, 1, 4, 6, 7, 8, 9, 10, 3, 6, 7, 10, 2, 3, 4, 5, 6, 7, 8, 10, 1, 2, 4, 6, 7, 10, 1, 2, 3, 4, 5, 6, 7, 8, 9, 10, 6, 9, 10, 1, 2, 3, 4, 5, 6, 7, 8, 9, 10, 2, 3, 4, 5, 6, 10, 2, 3, 4, 5, 6, 10, 1, 2, 3, 4, 5, 6, 7, 8, 9, 10, 2, 4, 6, 8, 9, 10, 1, 2, 3, 4, 6, 7, 9, 10, 1, 2, 3, 4, 5, 6, 7, 9, 10, 2, 3, 5, 7, 8, 10, 3, 1, 2, 3, 4, 5, 6, 7, 9, 10, 2, 3, 7, 10, 1, 4, 5, 6, 10, 1, 2, 3, 4, 5, 6, 7, 8, 10, 1, 3, 4, 5, 6, 7, 8, 9, 10, 1, 2, 3, 4, 6, 7, 8, 9, 10, 2, 3, 4, 5, 7, 8, 9, 1, 2, 3, 4, 5, 6, 7, 8, 9, 10, 1, 2, 3, 4, 5, 6, 7, 8, 9, 10, 2, 3, 4, 8, 9, 10, 2, 3, 4, 5, 6, 7, 8, 9, 1, 2, 4, 5, 6, 7, 10, 1, 2, 3, 4, 5, 7, 8, 9, 10, 1, 3, 4, 5, 7, 8, 9, 10, 2, 3, 4, 6, 7, 9, 10, 1, 4, 6, 10, 1, 4, 6, 9, 10, 1, 2, 3, 4, 5, 6, 7, 8, 9, 10, 1, 2, 3, 4, 5, 6, 7, 8, 9, 10, 2, 3, 5, 6, 7, 8, 9, 1, 2, 3, 4, 5, 6, 7, 8, 9, 1, 2, 3, 4, 5, 6, 7, 8, 9, 10, 2, 3, 5, 7, 8, 9, 10, 1, 2, 3, 5, 6, 7, 8, 9, 10, 1, 2, 3, 5, 6, 7, 8, 9, 10, 1, 2, 3, 4, 5, 6, 7, 8, 9, 10, 1, 2, 3, 4, 5, 7, 8, 9, 10, 1, 2, 3, 5, 6, 7, 9, 10, 1, 3, 4, 5, 6, 7, 8, 9, 10, 1, 2, 3, 5, 6, 7, 8, 9, 10, 1, 3, 4, 6, 7, 8, 10, 1, 2, 3, 4, 5, 6, 7, 8, 9, 10, 1, 2, 3, 4, 5, 6, 7, 8, 9, 1, 2, 3, 4, 5, 6, 7, 8, 9, 10, 1, 2, 3, 4, 5, 10, 1, 2, 3, 4, 5, 6, 7, 8, 9, 10, 1, 3, 4, 5, 6, 7, 8, 9, 10, 1, 2, 3, 4, 5, 6, 7, 8, 9, 10, 1, 3, 4, 5, 6, 8, 1, 3, 4, 5, 6, 7, 8, 10, 3, 4, 5, 6, 8, 9, 10, 3, 4, 5, 6, 8, 10, 1, 2, 3, 4, 5, 6, 7, 8, 9, 10, 1, 2, 3, 4, 5, 6, 7, 8, 9, 4, 5, 6, 7, 10, 1, 2, 3, 6, 9, 10, 1, 2, 3, 4, 5, 6, 7, 8, 9, 10, 1, 2, 3, 4, 5, 6, 7, 8, 9, 10, 1, 2, 4, 6, 7, 8, 1, 2, 4, 5, 7, 1, 2, 4, 5, 6, 1, 2, 3, 5, 6, 7, 10, 1, 3, 4, 5, 7, 8, 10, 1, 3, 4, 5, 6, 7, 8, 10, 1, 2, 6, 10, 1, 2, 3, 4, 5, 6, 7, 8, 9, 10, 1, 2, 3, 4, 5, 6, 7, 9, 10, 1, 2, 3, 4, 5, 6, 7, 9, 10, 1, 2, 3, 5, 6, 7, 8, 9, 10, 1, 2, 3, 4, 5, 7, 8, 9, 10, 1, 2, 4, 5, 6, 7, 8, 9, 10, 1, 2, 3, 6, 7, 10, 1, 2, 3, 4, 5, 6, 8, 9, 10, 1, 2, 3, 4, 5, 6, 7, 8, 9, 10, 1, 4, 6, 9, 10, 1, 2, 3, 4, 5, 6, 7, 8, 9, 10, 1, 2, 3, 4, 5, 7, 10, 1, 2, 3, 4, 5, 6, 7, 8, 9, 10, 2, 3, 4, 5, 6, 7, 8, 9, 10, 1, 3, 4, 5, 7, 8, 10, 1, 2, 3, 4, 5, 6, 7, 8, 9, 10, 1, 2, 3, 5, 6, 7, 8, 9, 10, 2, 3, 4, 5, 6, 7, 8, 9, 1, 2, 3, 5, 6, 7, 8, 9, 10, 1, 2, 3, 4, 5, 6, 7, 8, 9, 10, 1, 2, 3, 4, 5, 6, 8, 9, 2, 3, 5, 7, 8, 9, 2, 3, 4, 5, 7, 1, 2, 3, 4, 5, 6, 7, 8, 9, 10, 3, 4, 6, 7, 8, 1, 2, 3, 4, 10, 1, 2, 3, 4, 5, 8, 10, 1, 3, 4, 5, 6, 8, 10, 1, 2, 3, 4, 6, 7, 8, 9, 10, 1, 2, 3, 4, 5, 6, 7, 9, 10, 1, 2, 3, 4, 5, 6, 7, 9, 10, 1, 2, 4, 5, 6, 7, 8, 9, 3, 4, 5, 6, 7, 8, 10, 1, 2, 3, 4, 5, 6, 7, 8, 9, 1, 2, 4, 5, 6, 7, 8, 9, 1, 2, 3, 4, 6, 7, 8, 9, 10, 1, 2, 3, 4, 5, 6, 7, 8, 9, 10, 2, 4, 5, 6, 7, 8, 10, 1, 2, 3, 4, 5, 6, 7, 8, 9, 10, 1, 2, 4, 5, 6, 7, 9, 10, 1, 2, 3, 4, 5, 6, 7, 8, 10, 1, 2, 3, 4, 5, 6, 7, 8, 9, 10, 1, 2, 3, 6, 7, 8, 9, 10, 1, 2, 3, 4, 5, 6, 7, 10, 1, 2, 3, 4, 5, 6, 7, 8, 9, 3, 4, 5, 8, 1, 2, 3, 4, 5, 6, 7, 8, 9, 10, 3, 5, 8, 1, 2, 3, 4, 5, 6, 7, 8, 9, 10, 1, 3, 4, 5, 6, 7, 8, 9, 10, 1, 2, 3, 4, 5, 6, 7, 8, 9, 10, 1, 2, 3, 4, 5, 6, 7, 8, 10, 1, 2, 3, 4, 5, 7, 9, 1, 5, 6, 7, 2, 3, 4, 7, 9, 10, 1, 3, 4, 5, 7, 8, 10, 1, 2, 3, 4, 5, 6, 7, 8, 9, 10, 1, 2, 3, 4, 5, 6, 7, 8, 9, 10, 1, 2, 3, 4, 5, 6, 7, 8, 9, 1, 2, 3, 4, 5, 6, 7, 8, 9, 3, 4, 5, 8, 1, 2, 3, 4, 5, 6, 8, 9, 1, 2, 3, 4, 5, 7, 8, 9, 10, 1, 2, 3, 4, 5, 6, 7, 8, 9, 10, 1, 3, 4, 5, 6, 7, 8, 9, 10, 1, 2, 4, 5, 6, 7, 8, 9, 10, 1, 2, 3, 4, 5, 6, 7, 8, 9, 10, 2, 4, 5, 8, 10, 2, 5, 6, 9, 10, 1, 2, 4, 5, 6, 7, 9, 1, 2, 4, 5, 6, 7, 8, 9, 1, 2, 3, 4, 5, 6, 7, 8, 10, 1, 3, 4, 5, 7, 1, 2, 3, 4, 5, 6, 7, 1, 2, 3, 4, 5, 6, 7, 8, 9, 10, 1, 2, 6, 7, 8, 9, 10, 1, 2, 3, 4, 5, 7, 2, 4, 6, 8, 9, 2, 3, 4, 7, 8, 9, 8, 9, 1, 2, 5, 6, 1, 2, 5, 6, 9, 10, 1, 2, 4, 6, 7, 8, 9, 10, 2, 6, 7, 8, 9, 10, 1, 2, 3, 4, 5, 6, 7, 8, 9, 10, 2, 3, 4, 5, 10, 1, 2, 3, 5, 6, 7, 8, 9, 10, 1, 2, 3, 4, 5, 6, 7, 8, 9, 10, 2, 6, 10, 1, 2, 3, 4, 6, 7, 9, 10, 1, 2, 3, 4, 5, 6, 7, 8, 9, 1, 2, 4, 5, 6, 7, 8, 9, 10, 1, 2, 3, 4, 5, 6, 7, 8, 10, 2, 6, 7, 10, 1, 2, 3, 4, 5, 6, 7, 8, 9, 10, 1, 2, 3, 4, 5, 6, 7, 8, 9, 10, 1, 3, 4, 10, 1, 2, 3, 4, 5, 6, 7, 8, 9, 10, 1, 2, 6, 8, 9, 10, 1, 2, 3, 4, 5, 6, 7, 8, 9, 10, 1, 2, 3, 4, 5, 6, 8, 9, 10, 1, 2, 3, 4, 5, 6, 7, 8, 9, 10, 2, 3, 4, 5, 6, 7, 8, 1, 2, 3, 4, 5, 6, 7, 8, 9, 10, 1, 4, 6, 7, 9, 10, 1, 2, 3, 4, 5, 6, 7, 8, 9, 10, 1, 2, 3, 4, 5, 6, 7, 8, 9, 10, 1, 2, 3, 4, 5, 6, 7, 8, 9, 10, 1, 2, 3, 4, 5, 6, 7, 8, 9, 10, 1, 2, 3, 4, 5, 6, 7, 8, 9, 10, 1, 2, 3, 4, 5, 6, 7, 8, 9, 10, 1, 2, 3, 4, 5, 6, 7, 8, 9, 10, 1, 2, 3, 4, 5, 6, 7, 8, 9, 10, 1, 2, 4, 6, 10, 1, 2, 4, 6, 7, 9, 10, 1, 2, 3, 4, 5, 7, 9, 1, 2, 3, 4, 5, 6, 7, 8, 9, 10, 1, 2, 3, 4, 5, 6, 7, 8, 9, 10, 1, 2, 3, 5, 6, 7, 8, 9, 10, 1, 3, 4, 5, 7, 8, 9, 1, 2, 3, 4, 5, 6, 7, 8, 9, 10, 1, 2, 3, 4, 5, 6, 7, 8, 9, 10, 1, 2, 3, 4, 5, 6, 8, 9, 10, 1, 2, 4, 6, 7, 8, 1, 2, 3, 4, 5, 6, 7, 8, 9, 10, 1, 2, 3, 4, 6, 7, 8, 9, 10, 3, 5, 8, 1, 2, 4, 5, 6, 7, 8, 9, 10, 1, 2, 3, 4, 5, 6, 7, 8, 9, 10, 1, 2, 3, 4, 5, 6, 7, 8, 10, 1, 2, 3, 4, 5, 6, 7, 8, 9, 10, 1, 2, 3, 4, 5, 6, 7, 8, 9, 10, 6, 10, 1, 2, 6, 7, 1, 2, 3, 4, 5, 6, 7, 8, 9, 10, 1, 2, 3, 4, 5, 6, 7, 8, 9, 10, 1, 2, 3, 4, 5, 6, 7, 8, 9, 10, 1, 2, 3, 4, 5, 6, 7, 8, 9, 1, 2, 3, 4, 5, 6, 7, 8, 9, 10, 1, 2, 3, 5, 6, 7, 8, 9, 10, 2, 3, 5, 6, 7, 8, 9, 10, 1, 2, 3, 4, 5, 6, 7, 8, 9, 10, 2, 3, 4, 5, 6, 8, 9, 10, 6, 7, 1, 2, 6, 9, 10, 1, 2, 6, 9, 10, 1, 2, 5, 6, 10, 1, 2, 3, 4, 5, 6, 7, 8, 9, 10, 1, 2, 6, 7, 9, 10, 1, 2, 3, 4, 5, 6, 7, 8, 9, 1, 2, 3, 4, 6, 7, 8, 9, 10, 1, 2, 3, 4, 5, 6, 7, 8, 9, 10, 1, 2, 3, 4, 5, 6, 7, 8, 9, 10, 1, 2, 5, 10, 2, 8, 9, 10, 2, 4, 5, 6, 7, 8, 9, 10, 1, 2, 6, 7, 8, 9, 10, 2, 4, 6, 7, 8, 9, 1, 2, 3, 5, 6, 7, 8, 9, 10, 2, 3, 5, 7, 8, 9, 1, 2, 3, 4, 5, 6, 7, 8, 9, 10, 1, 2, 3, 4, 5, 6, 7, 8, 9, 10, 1, 2, 3, 4, 5, 6, 7, 8, 9, 10, 3, 5, 8, 1, 3, 4, 5, 6, 7, 8, 9, 10, 1, 2, 3, 4, 5, 6, 7, 8, 9, 10, 1, 2, 3, 4, 5, 6, 7, 8, 10, 1, 2, 3, 4, 5, 6, 7, 9, 1, 2, 3, 4, 5, 6, 7, 8, 9, 10, 1, 2, 3, 4, 5, 6, 7, 8, 9, 10, 1, 2, 3, 4, 5, 6, 7, 8, 1, 2, 3, 4, 5, 6, 7, 8, 9, 10, 1, 2, 3, 4, 5, 6, 8, 10, 1, 2, 4, 6, 9, 10, 1, 2, 3, 4, 5, 6, 8, 9, 10, 1, 2, 3, 4, 5, 6, 7, 8, 9, 10, 1, 2, 3, 4, 5, 6, 7, 8, 9, 1, 2, 3, 4, 5, 6, 7, 8, 9, 10, 1, 2, 3, 4, 5, 6, 7, 8, 9, 10, 2, 3, 5, 7, 8, 10, 1, 2, 3, 4, 5, 6, 7, 8, 9, 10, 1, 2, 3, 4, 5, 6, 7, 8, 9, 10, 1, 2, 3, 4, 5, 6, 7, 9, 10, 1, 2, 3, 4, 5, 6, 7, 8, 9, 10, 1, 2, 3, 4, 5, 6, 7, 8, 9, 10, 1, 2, 3, 4, 5, 6, 7, 8, 9, 10, 2, 3, 5, 6, 8, 9, 10, 1, 2, 3, 4, 5, 6, 7, 8, 9, 10, 1, 2, 3, 4, 5, 6, 7, 9, 10, 1, 2, 3, 4, 5, 6, 8, 9, 10, 1, 2, 3, 4, 5, 7, 8, 9, 10, 1, 2, 4, 6, 7, 9, 10, 6, 9, 10, 1, 2, 3, 4, 5, 6, 7, 8, 9, 10, 1, 2, 3, 4, 5, 6, 7, 8, 9, 10, 1, 2, 3, 4, 7, 8, 9, 10, 1, 3, 4, 5, 6, 7, 8, 9, 10, 1, 2, 4, 5, 6, 7, 10, 1, 2, 3, 4, 5, 7, 10, 1, 2, 3, 4, 5, 6, 7, 8, 9, 1, 2, 3, 4, 5, 7, 8, 9, 2, 3, 4, 6, 7, 8, 9, 1, 2, 3, 5, 6, 7, 8, 9, 10, 1, 2, 3, 4, 5, 6, 7, 8, 9, 10, 1, 2, 3, 4, 5, 6, 7, 8, 9, 10, 1, 2, 3, 4, 5, 6, 7, 8, 9, 10, 1, 2, 3, 4, 5, 6, 7, 9, 10, 1, 3, 4, 5, 6, 7, 8, 9, 10, 1, 2, 3, 5, 6, 7, 8, 9, 10, 1, 2, 3, 5, 6, 7, 8, 9, 10, 1, 2, 3, 4, 5, 6, 7, 8, 9, 1, 2, 3, 4, 5, 6, 7, 8, 9, 10, 1, 2, 3, 4, 5, 6, 7, 8, 9, 10, 1, 2, 3, 4, 5, 6, 7, 8, 9, 10, 1, 2, 3, 4, 5, 6, 7, 8, 9, 10, 1, 2, 3, 4, 5, 6, 7, 8, 9, 10, 1, 2, 3, 4, 5, 6, 7, 8, 9, 10, 1, 2, 3, 4, 5, 6, 8, 9, 1, 3, 6, 7, 9, 1, 2, 4, 5, 6, 7, 8, 9, 10, 1, 2, 3, 6, 7, 9, 10, 1, 2, 3, 4, 5, 6, 7, 8, 9, 10, 1, 2, 3, 4, 5, 6, 9, 10, 1, 2, 3, 4, 5, 6, 7, 8, 9, 10, 1, 3, 4, 5, 7, 8, 9, 1, 2, 3, 4, 5, 6, 7, 8, 9, 10, 1, 2, 3, 4, 5, 6, 7, 8, 9, 10, 1, 2, 3, 6, 7, 8, 9, 10, 1, 2, 3, 4, 5, 6, 7, 8, 9, 10, 1, 2, 3, 4, 5, 6, 7, 9, 10, 1, 2, 3, 4, 5, 6, 7, 8, 9, 10, 6, 10, 1, 3, 4, 5, 6, 7, 8, 9, 10, 1, 2, 3, 4, 5, 6, 7, 8, 9, 10, 3, 7, 8, 9, 10, 1, 2, 3, 4, 5, 6, 7, 9, 10, 1, 2, 3, 6, 7, 9, 10, 1, 3, 4, 5, 6, 7, 8, 9, 10, 2, 4, 9, 10, 1, 2, 3, 4, 5, 8, 10, 1, 2, 4, 5, 6, 7, 8, 10, 1, 2, 3, 4, 5, 6, 7, 8, 9, 10, 1, 2, 3, 4, 5, 6, 7, 8, 9, 10, 1, 2, 3, 4, 5, 6, 7, 8, 9, 10, 1, 2, 3, 5, 7, 8, 9, 10, 1, 3, 4, 5, 6, 7, 8, 1, 4, 5, 6, 7, 8, 9, 10, 1, 2, 3, 4, 5, 6, 7, 8, 9, 10, 1, 2, 3, 4, 5, 6, 7, 8, 9, 10, 5, 7, 8, 9, 1, 2, 4, 6, 9, 10, 3, 5, 8, 5, 8, 9, 10, 1, 2, 3, 4, 5, 6, 7, 8, 9, 10, 1, 2, 3, 4, 5, 6, 9, 10, 1, 2, 3, 4, 6, 7, 8, 9, 10, 1, 2, 3, 4, 5, 8, 9, 10, 6, 8, 9, 10, 2, 3, 4, 5, 6, 8, 9, 1, 3, 4, 5, 6, 7, 8, 9, 10, 1, 2, 3, 4, 5, 6, 8, 10, 1, 2, 5, 6, 9, 10, 1, 2, 3, 4, 5, 6, 8, 9, 10, 1, 2, 3, 4, 5, 6, 7, 8, 9, 10, 1, 2, 3, 4, 5, 6, 7, 8, 9, 10, 1, 2, 3, 4, 5, 6, 7, 9, 1, 2, 3, 4, 5, 7, 8, 1, 2, 3, 4, 5, 8, 9, 10, 1, 2, 3, 4, 5, 6, 7, 8, 9, 2, 3, 4, 6, 7, 8, 9, 10, 1, 3, 4, 5, 6, 7, 8, 9, 10, 1, 2, 3, 4, 5, 6, 7, 8, 9, 10, 1, 2, 3, 4, 5, 6, 7, 8, 9, 10, 2, 3, 4, 5, 7, 8, 9, 10, 1, 3, 4, 6, 7, 8, 9, 10, 1, 2, 3, 4, 5, 6, 7, 8, 9, 10, 6, 10, 1, 2, 3, 4, 6, 8, 9, 10, 1, 2, 3, 4, 5, 7, 8, 9, 1, 2, 3, 4, 5, 7, 8, 1, 2, 3, 4, 5, 6, 7, 8, 9, 10, 1, 2, 3, 4, 6, 7, 8, 9, 10, 2, 3, 4, 5, 6, 7, 8, 9, 10, 1, 4, 5, 6, 7, 8, 9, 10, 1, 2, 3, 4, 5, 6, 7, 8, 9, 10, 1, 4, 5, 6, 7, 8, 9, 10, 2, 3, 4, 6, 9, 10, 1, 2, 3, 4, 5, 6, 7, 8, 9, 10, 1, 2, 3, 5, 6, 7, 8, 9, 10, 1, 2, 3, 4, 5, 6, 7, 8, 9, 10, 1, 2, 3, 4, 5, 6, 7, 8, 9, 10, 2, 6, 7, 9, 10, 1, 2, 3, 4, 5, 6, 7, 8, 1, 2, 3, 4, 5, 6, 7, 8, 10, 1, 2, 3, 4, 5, 6, 7, 8, 9, 10, 1, 2, 3, 4, 5, 6, 7, 8, 9, 10, 1, 2, 3, 4, 5, 6, 7, 8, 9, 10, 1, 2, 6, 10], \"Freq\": [0.051096223522187685, 0.48284216590094137, 0.03052056304345439, 0.06515625818265544, 0.07338652237414876, 0.22461762689283848, 0.07270066702485765, 0.07380271759456646, 0.13651770296835297, 0.1171141715819881, 0.06895183474797524, 0.0540526945763022, 0.5031058495178897, 0.030144771975245455, 0.016285106699270534, 0.13794730832338908, 0.11717211128673409, 0.16246204082664195, 0.5206264377385739, 0.061494583228498746, 0.5831919046024818, 0.4164611782709886, 0.13446830795153175, 0.027380424696013254, 0.008822581290937605, 0.1505923358280729, 0.470943304771428, 0.0030422694106681395, 0.06632147315256544, 0.13872748512646715, 0.2912499733395687, 0.04221995737558089, 0.12101549279845646, 0.0024835269044459346, 0.06479747468872575, 0.10159882790915188, 0.050122088435181594, 0.24451451250135886, 0.08195638784671584, 0.22924151744379845, 0.1442384475003429, 0.10695108087036775, 0.030193672490614026, 0.177948652128418, 0.11416603473860686, 0.08124401834823855, 0.11071013246558477, 0.004971648883996687, 0.0003637791866339039, 0.14219465335321801, 0.13579252441077455, 0.4400621262542718, 0.08053204301284148, 0.022238974221119406, 0.01213034957515604, 0.09636888829151742, 0.07076037252174355, 0.17487313038951155, 0.08217489578480587, 0.4001963851214839, 0.08991264491708514, 0.0329628113035097, 0.04503369994986536, 0.05803311849209454, 0.01563025324720413, 0.10120975865021288, 0.12976062068403493, 0.006217278579915121, 0.00020055737354564905, 0.012434557159830242, 0.0006016721206369472, 0.19032894749482096, 0.01484124564237803, 0.3708305836859051, 0.15783865298042582, 0.1169249487771134, 0.00016517811407466671, 0.06425428637504535, 0.13577640976937605, 0.08275423515140802, 0.42004794409187746, 0.03666954132457601, 0.041294528518666676, 0.19127625609846405, 0.02774992316454401, 0.038463008699320386, 0.1774106276256153, 0.033655132611905336, 0.4490556265645655, 0.01298126543602063, 0.043270884786735436, 0.17644905240813227, 0.06827184044129368, 0.2967321020294127, 0.038881015561968, 0.000976092440886226, 0.3530200994538517, 0.18204124022528115, 0.1283561559765387, 0.09974538763596906, 0.001656053689996932, 0.018630604012465486, 0.004585994833837658, 0.46363133882644875, 0.40398155880021314, 0.007388547232294004, 0.000414013422499233, 0.0024704927640526765, 0.003239090512869065, 0.31600347444193794, 0.6427124175281042, 0.020971738574847167, 0.014548457388310206, 0.049914102640638246, 0.06298684380842445, 0.26264325437097746, 0.014617701487615486, 0.3722165939773309, 0.03173110810726289, 0.05038947504673957, 0.1243098841954943, 0.00986397742660232, 0.02139175827455925, 0.01961639108017695, 0.0045910702528073714, 0.03255486179263409, 0.25501308404230033, 0.010990743938538858, 0.37048545706745545, 0.30648872021014056, 0.06578220601129373, 0.14214851441544327, 0.060959070743663225, 0.4110383055858435, 0.08025161181418522, 0.04635568896111533, 0.032556163056505855, 0.14121068255784844, 0.0018756637151896378, 0.017684829314645156, 0.11999079170360048, 0.29055956935533567, 0.06851977550598025, 0.05130864706135014, 0.048791925449163664, 0.2002011450210276, 0.05374418410540157, 0.0898713169254978, 0.07696297059202521, 0.04178534133779762, 0.09863751248489727, 0.001004455320620135, 0.004419603410728595, 0.6725832826872424, 0.01004455320620135, 0.0379684111194411, 0.13359255764247796, 0.4321070513217454, 0.017035653594996886, 0.3265550624932849, 0.0225607304366175, 0.023711788111955127, 0.046387624316106386, 0.015309067081990447, 0.11625682520910038, 0.5343306065002121, 0.24725578286062835, 0.0006295500518411925, 0.00031477502592059623, 0.012748388549784148, 0.016368301347871005, 0.18823546550051654, 0.01208423322102108, 0.47348222893273506, 0.4655176206734257, 0.04888621621231255, 0.0009177443546142675, 0.24044902090893808, 0.12160112698639045, 0.03579202982995643, 0.049558195149170446, 0.026155714106506623, 0.21521105115704572, 0.31065646403692954, 0.02149118431713503, 0.23544073565338972, 0.0011226738076115313, 0.6907651556261236, 0.050680703315034846, 0.0004811459175477991, 0.14374595453365172, 0.10214143435968423, 0.008648130597959535, 0.07198984389652802, 0.03132025676017777, 0.13579902371390512, 0.443859459608788, 0.02945039068494328, 0.01869866075234494, 0.014491462083067327, 0.08267837645073452, 0.81923525537919, 0.09804181267627379, 0.06306148056217399, 0.5085056586774455, 0.015698473237542608, 0.046560244488620686, 0.03835422438717796, 0.0850036647464665, 0.024885647916331747, 0.057620532451434794, 0.0015163298013535472, 0.15885784565945105, 0.2537432249472931, 0.1452817414012079, 0.06431049562025945, 0.0879687608484378, 0.08347035830505178, 0.3652036435223024, 0.34470364920035457, 0.18406050833660237, 0.03840448265547428, 0.15174454122406913, 0.00046834734945700346, 0.2800717149752881, 0.06820355581381285, 0.07841677863872391, 0.17258615519383608, 0.022244053101713075, 0.20461066744143855, 0.12394351767180203, 0.225123665827065, 0.06015415138401006, 0.015579492444779585, 0.029168271966059558, 0.007351302235771257, 0.05537981017614347, 0.1396747424796539, 0.6302516450134558, 0.12056135666664862, 0.04606816067749988, 0.44662903077939164, 0.03686461841353709, 0.014651322702816022, 0.10350450554570029, 0.25285347245182493, 0.0014178699389821958, 0.060495784063240354, 0.08365432639994955, 0.43470357671731247, 0.11120324055559157, 0.08462999865659306, 0.19641091838390198, 0.013286620949499253, 0.03668262740405228, 0.03726030657576964, 0.05141344628284493, 0.034371910717182846, 0.4522889653499318, 0.20233065167844758, 0.17869064426584547, 0.017034711223786823, 0.1470547519930985, 0.0027811773426590736, 0.9995011032952287, 0.03421637282633368, 0.24725402744743505, 0.05417592364169499, 0.1344214646748823, 0.09979775407680656, 0.00692474211961515, 0.35275451032863053, 0.06069332798956807, 0.01018344429355169, 0.1386086645493199, 0.13817551247260326, 0.1758597431469496, 0.547071072893097, 0.10611356017983542, 0.06725884748772397, 0.7859370505238821, 0.0184894839707289, 0.021973009936228548, 0.043016233250316636, 0.0704037312366774, 0.00014884509775196068, 0.3304361170093527, 0.3737500404551733, 0.02813172347512057, 0.12651833308916657, 0.016819496045971556, 0.010716847038141169, 0.03285810523620549, 0.3707386213443563, 0.4417245279395549, 0.05750168416335961, 0.007284579934441783, 0.035337962235164395, 0.012709267119664388, 0.006199642497397262, 0.03564794436003426, 0.3881058229612785, 0.00378434713613381, 0.0557840800067132, 0.11409105810418227, 0.19328202595290828, 0.09236610232267337, 0.00378434713613381, 0.05718569005713313, 0.0915251362924214, 0.0007869829956149334, 0.27052540474263337, 0.007476338458341867, 0.38267048161776135, 0.07240243559657387, 0.237570491801258, 0.028528133591041335, 0.0247754455244259, 0.06760157278807638, 0.04123342005136596, 0.19510663350485397, 0.5665613489032109, 0.047427281432472435, 0.0004424186700790339, 0.047692732634519855, 0.008582922199533258, 0.0007078698721264542, 0.2997201233414828, 0.09289281543166748, 0.14054602521340231, 0.03051043171739645, 0.02685908187697781, 0.1683334163718425, 0.008231008962299651, 0.05340872732680149, 0.12816856812723743, 0.05142833419301511, 0.6523958175916004, 0.05436631813263336, 0.00608578188051866, 0.18906495708811305, 0.0215030959778326, 0.07668085169453512, 0.006247195162477513, 0.021418954842780044, 0.3500214203890972, 0.12333748163634176, 0.011780425163529024, 0.14190057583341778, 0.3412753471616287, 0.003926808387843008, 0.03398086062833332, 0.0173235760066013, 0.04886136822374726, 0.269625913743769, 0.000888388513159041, 0.04353103714479301, 0.5856701273000978, 0.06509295378651382, 0.056900983412020587, 0.008191970374493237, 0.02025852133151706, 0.6882362137597898, 0.09298993398073403, 0.01583042923719639, 0.023026078890467476, 0.02966821703194848, 0.46460682645965684, 0.022124134593316993, 0.06305378359095343, 0.0029498846124422656, 0.010324596143547929, 0.061578841284732296, 0.12610756718190685, 0.24963398532792672, 0.04217685704133585, 0.415093096637032, 0.33802171758308014, 0.00788919628111318, 0.05249349833202232, 0.03459109138641933, 0.10984188668319121, 0.14561502197968443, 0.016484719469398237, 0.6882370378473763, 0.14973620184703398, 0.10781191926651502, 0.026656793225237233, 0.626434640793075, 0.012736023429835567, 0.22658274241451648, 0.07755002393588087, 0.0037524205130264935, 0.05170001595725391, 0.0587879213707484, 0.15676779032199573, 0.006254034188377489, 0.18011618462527168, 0.43528077951107325, 0.00583709857581899, 0.02376532991583446, 0.09231324626712574, 0.13283785507723844, 0.04207826793382309, 0.4575526119327102, 0.060333762637420185, 0.08687543933413937, 0.04751607486680946, 0.05994534785649259, 0.00945142633590488, 0.01100508545961527, 0.05907049917147962, 0.03199652038455146, 0.3642680782241243, 0.009352829035484274, 0.35294623254959073, 0.06448529492886526, 0.11764874418319692, 0.03389080558404346, 0.08191891864028791, 0.14272870694537163, 0.03679573177696147, 0.25805427680421666, 0.033503482091654394, 0.15996460235668516, 0.21438355303734924, 0.03892601098510135, 0.00532718040752976, 0.058276125064189194, 0.11865083634952647, 0.06828476704197238, 0.1695011947850378, 0.09814926326600285, 0.06683189965810063, 0.3411009757912237, 0.058437554773508274, 0.01565868180395111, 0.36074581989065957, 0.232935187482663, 0.0955790471256696, 0.031487779468119426, 0.07896738394170108, 0.20008376402182976, 0.00024793527140251517, 0.39938347673900354, 0.05021950648104302, 0.10913845502966829, 0.0035588626640109225, 0.07710869105356999, 0.06722296143131742, 0.02688918457252697, 0.12890991427417342, 0.13760935634175567, 0.17102399779443617, 0.3180171673658049, 0.09271664375719904, 0.0748546488327734, 0.12148918712773002, 0.10938170087741059, 0.0013350460123926376, 0.049764991013670386, 0.061412116570061334, 0.06801301274704526, 0.1614860812324396, 0.17845945172467234, 0.07626063643693298, 0.005737477349487121, 0.015240174209575167, 0.22376161662999774, 0.16776144708344115, 0.09413048776502309, 0.0091441045257451, 0.11531269006828485, 0.10972177176194377, 0.2713342540546157, 0.10666423831316349, 0.008124303163901888, 0.2509798170955927, 0.08674659184682337, 0.022276315126827755, 0.028740814418534634, 0.06097590361485688, 0.10149537504924565, 0.1998436066861116, 0.0586155460555721, 0.007474465604401811, 0.4402066848066119, 0.11329716284566956, 0.01809607462118333, 0.4677436975903891, 0.011031690980905402, 0.09707888063196754, 0.0026476058354172965, 0.14208817983406158, 0.1478246591441324, 0.007060282227779458, 0.04765690503751134, 0.07678056922710161, 0.40847078751395055, 0.032209166040526566, 0.08308500785454012, 0.032209166040526566, 0.17532034697059345, 0.0666144115838163, 0.004758172255986879, 0.13542490267039578, 0.061856239327829424, 0.13657848410689205, 0.018939293737483338, 0.08761348078559365, 0.12133466231818595, 0.5270666866943534, 0.003849449946642955, 0.10455106055082265, 0.07403598352336477, 0.16139116014720836, 0.08751126091798983, 0.07013387616970886, 0.16061073867647718, 0.14203670767307505, 0.12908171125893744, 0.10905089351017044, 0.041258281752655133, 0.02492145896534907, 0.06482516428235727, 0.1547160587538927, 0.39067965674167315, 0.035869924236237694, 0.1975006671802485, 0.06223215771106298, 0.034141253188708164, 0.0332769176649434, 0.026794401236707673, 0.1091726418248899, 0.36022958102146574, 0.10535962676115293, 0.18784116313988408, 0.027694530462931626, 0.08328427639214946, 0.01605480026836616, 0.04696029078497102, 0.035721930597114704, 0.02749384545957705, 0.004000608998098867, 0.7791186023797543, 0.10801644294866941, 0.05200791697528527, 0.0045006851228612255, 0.05200791697528527, 0.46248327013177715, 0.0573724511243019, 0.07007322274723896, 0.046861467712216054, 0.00875915284340487, 0.05562062055562092, 0.11693469045945501, 0.09591272363528332, 0.0705111803894092, 0.015766475118128766, 0.04457566371797401, 0.5859901912835329, 0.0012556524990978595, 0.1712824158996671, 0.0033674317021260775, 0.040352105311917574, 0.07522499971868085, 0.042749260082922576, 0.035215345088335424, 0.03589592022084838, 0.08057991883851463, 0.3496303189872464, 0.001284411457996458, 0.0502948486710192, 0.08534576135371201, 0.06499797983492603, 0.17511936220735919, 0.1472679137497518, 0.009599285633447212, 0.14359741715454072, 0.19169061387375744, 0.031038871641480295, 0.010573681548196583, 0.04672885071299781, 0.5760951011259364, 0.018213335421029504, 0.13975947180218556, 0.09998749445422318, 0.14384817975384526, 0.12228953782691238, 0.0018585036143907655, 0.456448487694372, 0.017098233252395043, 0.11503095704840006, 0.019832923629034493, 0.0003966584725806899, 0.041252481148391744, 0.6993088871597563, 0.06465533103065245, 0.05910211241452279, 0.11243353114660509, 0.02397479708273197, 0.045882801313504286, 0.11326024828738895, 0.6365721984035729, 0.06737744697388467, 0.1748941559028169, 0.04850611371949979, 0.1008542958524253, 0.1292695934933864, 0.1644085108578425, 0.05538981962688754, 0.21771721009412445, 0.021611634825519706, 0.07956283339469107, 0.00776417991879782, 0.047978400935852004, 0.14764965965420263, 0.08326574097899477, 0.05788361919357629, 0.4061139485666957, 0.0848134313317642, 0.11174324346995208, 0.050454705500283074, 0.009905218257724285, 0.1645970650246331, 0.32227413332150384, 0.011368566052752436, 0.04497997873045529, 0.4567197840323153, 0.03961733061226436, 0.5965368172651301, 0.0031876013136304658, 0.3205816178279783, 0.02754998278209188, 0.01229503363828894, 0.12115255179965882, 0.017962681181652885, 0.006688232354870755, 0.4435253513044292, 0.04165813295319499, 0.10510079414796901, 0.05025728883802882, 0.11217121120883237, 0.02465091353652364, 0.07681912590451553, 0.08596042496752429, 0.05896802099221473, 0.03903516882583229, 0.4588708675802625, 0.037789365565433386, 0.009135890576258621, 0.018271781152517243, 0.1739971887023801, 0.06187489526647884, 0.05564587896448433, 0.055106852120681955, 0.07510137368659311, 0.4969370116015479, 0.15459178869253257, 0.032673974266245055, 0.18482740667025188, 0.006191950521768657, 0.18934332911303103, 0.1587094686369124, 0.10966270266185016, 0.5359296122657135, 0.3623556799691313, 0.03194320043805014, 0.00848491261635707, 0.03244231294489468, 0.5644962452411674, 0.13719019114501432, 0.08586457009401005, 0.0008913277172388587, 0.08319058694229348, 0.3872818931402841, 0.2539541221033048, 0.05154845298031399, 0.0008400472885841491, 0.2258677147180631, 0.41928860291456344, 0.03864217527487086, 0.14637824003578798, 0.1617091030524487, 0.007140401952965268, 0.016360167387076612, 0.1341676609298248, 0.13366756847694472, 0.028648153372129788, 0.002571904043383223, 0.25876212347594535, 0.12859520216916115, 0.29726924234771085, 0.4330132336519508, 0.02781074076120429, 0.04282854077225461, 0.4964217225874966, 0.2575068858677787, 0.08089686978354844, 0.03427498634296863, 0.05807980394716298, 0.01758198146699832, 0.3106479309758972, 0.09818252572020408, 0.03792966788386154, 0.08820623286533426, 0.01669300487597031, 0.182779379509473, 0.16483142634760048, 0.008772766343695533, 0.03299847890747861, 0.29851550797033705, 0.21183413776703344, 0.0948102637878288, 0.005150982073362515, 0.0002414522846888679, 0.19496631459636307, 0.22634550842489015, 0.0026918426078393325, 0.00023072936638622848, 0.318444980507393, 0.177392427856612, 0.0428772072534408, 0.02153474086271466, 0.015458867547877309, 0.053251902975533706, 0.37771238244356253, 0.1500555481615411, 0.041968042493729166, 0.02335957082198133, 0.17262326912515016, 0.00019796246459306211, 0.16173533357253175, 0.019004396600933962, 0.13387733905437949, 0.12719359898056024, 0.12618091109058763, 0.032507281268120886, 0.0665335943712007, 0.3079583873406717, 0.10967409848403403, 0.08840765279460915, 0.007696427963791862, 0.10007995106852667, 0.041653387455895176, 0.49648601423939487, 0.0019568705516192367, 0.11573491548148056, 0.051158187278045754, 0.050039975534263335, 0.12607837411146794, 0.016773176156736312, 0.12086861724319112, 0.6462893913900725, 0.035018010603167525, 0.040891999478537555, 0.025981104641059773, 0.13088452135119388, 0.4741137011903303, 0.057541415769465955, 0.014816053162197822, 0.04996110950043452, 0.004479271886245853, 0.14368125973573237, 0.14781597224611315, 0.045826396990053725, 0.06133156890398168, 0.1659834595315826, 0.06879162391232892, 0.03234468555510878, 0.4517211450940314, 0.020353485056629428, 0.10366077273027545, 0.007731168742440635, 0.04007585429754942, 0.07478722416156859, 0.03439581195616446, 0.12783516499884137, 0.037669296269251064, 0.6231463372200574, 0.02725012921605396, 0.18393837220836423, 0.009107628077917847, 0.48725810216860477, 0.2097600591695454, 0.026753657478883672, 0.11640687137088747, 0.05066118118341802, 0.01366144211687677, 0.06603030356490439, 0.0011384535097397309, 0.01906909628814049, 0.07132954838678333, 0.10993142163139549, 0.004615441366203628, 0.6348329806423717, 0.09398716963905569, 0.01258756736237353, 0.0725883051230207, 0.036861700896424265, 0.23933394205214595, 0.07853144973586039, 0.06346623284775656, 0.009402404866334306, 0.13745674841521685, 0.07313575148870263, 0.02676480021609936, 0.22688644015523748, 0.10812765596284452, 0.04194264738494697, 0.4703568313883339, 0.2201988987709716, 0.01647746861551488, 0.0009986344615463565, 0.1627774172320561, 0.011983613538556277, 0.01997268923092713, 0.05592352984659596, 0.03281958880467983, 0.0024087771599765016, 0.22672615018278822, 0.4423117060006851, 0.055401874679459534, 0.21588665296289394, 0.024689965889759143, 0.24305331914132777, 0.16029322839428067, 0.23164113820673496, 0.0025263606649098586, 0.14043080661498938, 0.04016042298356706, 0.03693713523868207, 0.10131577425138502, 0.029880748553933845, 0.013677193944511994, 0.22174237672860395, 0.10321232337861005, 0.38221383357167255, 0.062365043454919854, 0.028082504947537012, 0.06601212201953505, 0.02881192066046005, 0.07549452628753456, 0.03136487565569069, 0.05296541303372338, 0.09847453005784493, 0.0997600983353625, 0.02931095672740032, 0.0010284546220140462, 0.53376794882529, 0.17226614918735275, 0.012598569119672068, 0.17740988846470798, 0.35548423344051977, 0.10431967224329271, 0.02392043439973591, 0.02093038009976892, 0.05481766216606146, 0.028571629977462334, 0.03255836904408499, 0.2016625511199958, 0.11230664974369806, 0.09611830383469654, 0.09523300366779801, 0.20905731084046494, 0.018654539231075972, 0.06563868380290461, 0.1608716874707026, 0.06039011852772052, 0.12710380967614476, 0.054572431716673094, 0.13233743087466868, 0.21280298787464036, 0.05315492375852343, 0.10575996899540696, 0.43202122516841285, 0.009897813389518156, 0.012830498838264277, 0.041240889122992314, 0.16152941105499657, 0.3979457727877813, 0.2268377982739979, 0.03700808609076741, 0.027864911880107226, 0.148903122859323, 0.11282778234523284, 0.35844305300340557, 0.01746474272174366, 0.4759835437021248, 0.03520670358192769, 0.39287889634267553, 0.16844522713714874, 0.15852727454217894, 0.05422880531765757, 0.05806801277377493, 0.009757985617631599, 0.04719025831477577, 0.09997936083638934, 0.0030393725694262356, 0.007838381889572924, 0.6312123974352734, 0.16632787663510504, 0.02917368223440339, 0.028037045264231827, 0.14511065319190256, 0.01064179901545723, 0.15419749593825782, 0.3206656376800531, 0.18188789133562103, 0.3326105141259745, 0.047191939563687196, 0.06303657627709908, 0.5821479114776582, 0.10293314354108583, 0.0023937940358392056, 0.06508839973638983, 0.13724419138811444, 0.28392151450785535, 0.011779290301470393, 0.04427388423656113, 0.02396476302712942, 0.4687345175136839, 0.038587330297920254, 0.12875982846779704, 0.4501194621263473, 0.044619685243461445, 0.042168054186128394, 0.2118209233535752, 0.022555005727464026, 0.04020674934026196, 0.07845219383465749, 0.08874904427545627, 0.021084027093064197, 0.40688552267217304, 0.12050776178241161, 0.08889165698018195, 0.1525820710020649, 0.024284834123451768, 0.07147988911808445, 0.06094118751734123, 0.05635914334310505, 0.01878638111436835, 0.44986717426162637, 0.018200020535480733, 0.09753344338244803, 0.04106671300313602, 0.09986677934853531, 0.04526671774209311, 0.16333351762610915, 0.013066681410088732, 0.07186674775548803, 0.06616705753995593, 0.10094098559015176, 0.588741920738732, 0.05795654675032637, 0.06520111509411716, 0.0009659424458387727, 0.09321344602344157, 0.02656341726056625, 0.00841362727564067, 0.18987510203135025, 0.09414166735446587, 0.042750322373525565, 0.04866260099965144, 0.5739458173977581, 0.04206813637820335, 0.09723833603444473, 0.0660486810800002, 0.17902668819052686, 0.08883740730058506, 0.3388374589323402, 0.025975285395497153, 0.18723449212590698, 0.0016415607870760283, 0.015063734281403554, 0.09008690239897413, 0.022370573078939884, 0.13361882839042472, 0.5344753135616989, 0.08283158140039903, 0.12454967714220584, 0.0016122935552389107, 0.010479908109052919, 0.03273805306019956, 0.12771539908512877, 0.05141908898720608, 0.1110689314274002, 0.15277758094759794, 0.06464378273751269, 0.05363861800823656, 0.1141207838313171, 0.29186806626550793, 0.226684234192134, 0.08366175520134517, 0.06981844318961179, 0.0656804966643654, 0.024978149934214565, 0.22232058149278325, 0.041830877600672584, 0.024752443760110213, 0.07967427945883501, 0.160627560570928, 0.1629890348682895, 0.6173551153111748, 0.020487448516963765, 0.07056787822509741, 0.1156402649624177, 0.0018211065348412237, 0.011381915842757648, 0.1282594180399732, 0.0025940107019320423, 0.0028822341132578246, 0.3875644137627355, 0.000192148940883855, 0.24998577208989534, 0.009031000221541184, 0.10097426843446579, 0.05514674603366638, 0.06340915049167214, 0.3814531029619435, 0.001958680888122945, 0.11507250217722301, 0.01028307466264546, 0.04798768175901215, 0.07736789508085633, 0.0568017457555654, 0.3094715803234253, 0.3653767834086827, 0.09610562169906023, 0.19847627740718565, 0.0674117659375416, 0.03195167344623254, 0.0894646856494511, 0.017792696585745178, 0.10700678087483369, 0.026313142838073855, 0.1690123269218753, 0.11601911634971956, 0.1407792936194768, 0.2701110247609879, 0.09640391098017163, 0.02353824644345752, 0.04919879379575137, 0.0644407730501214, 0.053121834869660954, 0.01729996801445375, 0.09844992954161447, 0.5317846587838387, 0.011240346286247321, 0.04457378699718765, 0.08604678881196225, 0.04418618884938602, 0.11821743507949768, 0.0647288906828725, 0.040872078419976324, 0.12358937998421411, 0.11191164329279231, 0.3080003052362501, 0.017030032674990134, 0.0024328618107128763, 0.018976322123560433, 0.3770935806604958, 0.0026964920032647986, 0.11540071708887487, 0.19583844464389258, 0.05868297851172884, 0.4952861667691631, 0.02947859901874229, 0.0012796911201934638, 0.10118700500386889, 9.140650858524741e-05, 0.4146734862846023, 0.00949883973321759, 0.42613760320400285, 0.14936106614990416, 0.07474158255366035, 0.00977186768369411, 0.07434542575567277, 0.005678247437822253, 0.45650468354771, 0.008583397289731313, 0.017562951377450228, 0.2878739398709887, 0.04819907708849122, 0.01677063778147503, 0.07382940064579178, 0.5404598843390972, 0.385633180072194, 0.23330643953603977, 0.08413807809216332, 0.00959376064158906, 0.039225459022120365, 0.10274093806200361, 0.13279784467041697, 0.23133985148208522, 0.08767262148643298, 0.01836368034165662, 0.060831352101377724, 0.18094725461899624, 0.13379618827061637, 0.01773202495152747, 0.10518314800792432, 0.08785412362347701, 0.34214748145106416, 0.04030005670801698, 0.06689809413530819, 0.024986035158970528, 0.26644529624027014, 0.052547805184580715, 0.06173732473859918, 0.21166357470001643, 0.0317825372420749, 0.10037392352648895, 0.11997146246489297, 0.02040987215864874, 0.051735471964335984, 0.083365696727615, 0.13961747535403135, 0.04065489703795549, 0.12838388538301734, 0.16128225601241553, 0.033165837057279476, 0.021129847802621605, 0.09762524617666944, 0.34797382267355326, 0.029956239922704048, 0.06974347894974191, 0.21590937037664115, 0.02645885205091498, 0.15001912230810047, 0.35860735401045934, 0.17647797435901544, 0.0026972616168408473, 0.014136359129521405, 0.14734435861924233, 0.3303014681224713, 0.5083652225424043, 0.16831779111642914, 0.00451584317629444, 0.05090586853277369, 0.12315935935348474, 0.6281127327027721, 0.024221340672851997, 0.014872737438992898, 0.00504610734537259, 0.1938767559011574, 0.5120471032567555, 0.12509034524581528, 0.13199554477106196, 0.016997414215991883, 0.16040864766143736, 0.005359134773806564, 0.057123504748074504, 0.49291860067261734, 0.019244165778669022, 0.07490608831570537, 0.02509049462282164, 0.041411495979414355, 0.06016846768773733, 0.06333522914498665, 0.15418695664680668, 0.21878783991947476, 0.06552816867849585, 0.13821704132421728, 0.052340109573389776, 0.06594029552553042, 0.19725421216191874, 0.01828812883715883, 0.08943152580650064, 5.151585587932065e-05, 0.17530719170511339, 0.07372451859723213, 0.28485713329204415, 0.17890883362030016, 0.043983687630917166, 0.045484371762244985, 0.010941351575681007, 0.1849388553116356, 0.001855391289641667, 0.01892856508460414, 0.06504543274527605, 0.3663537733192929, 0.006711036711814196, 0.023574667423552433, 0.005334413796570258, 0.06556166633849253, 0.3730648100311071, 0.07537010460960558, 0.0865105084296872, 0.17063122380883056, 0.2743482422024334, 0.46839943790659366, 0.06375300786889149, 0.06733463752444718, 0.041188741038890565, 0.023280592761112058, 0.12177540828889384, 0.43946595873668454, 0.19734779402111913, 0.04584485959111297, 0.08800275330781758, 0.11554102985312105, 0.09907792974451572, 0.0035919491146047993, 0.45078961388290234, 0.14158266093400584, 0.04669533848986239, 0.05268192034753706, 0.0023946327430698663, 0.16800560207257106, 0.1876680873624524, 0.26292611731294163, 0.033071134288102315, 0.1040892752272964, 0.0214114395070406, 0.04939470698158872, 0.05877546141907928, 0.03540307324431466, 0.07928592451121966, 0.08659460798992104, 0.01897964010737995, 0.2332914096532119, 0.01621177592505371, 0.1613269409127296, 0.1281125707248147, 0.05377564697090986, 0.25424809560511064, 0.04705369109954613, 0.12563287950334348, 0.002492715863161577, 0.0004985431726323154, 0.01844609738739567, 0.5164907268470788, 0.04287471284637912, 0.011466492970543253, 0.20240852808872004, 0.07876982127590583, 0.12028845542935047, 0.034439138655982866, 0.0020592474660278415, 0.031030729057040234, 0.01207145066292183, 0.536611486233531, 0.012497501862789659, 0.007739930130932232, 0.051552195184007346, 0.19172303994052317, 0.7235301242861487, 0.05521091409937381, 0.08593311629983182, 0.1068598337407235, 0.028495955664192933, 0.20213152358112843, 0.04558319096704263, 0.6892730997743719, 0.009669161720281769, 0.05295017132535255, 0.5054599688713233, 0.13563948705950649, 0.06318249610891541, 0.04956058181020429, 0.18548989683351313, 0.059704560543287044, 0.0008694838914070929, 0.021083221554237135, 0.07615775949183617, 0.172968470710272, 0.002581618965824955, 0.11100961553047307, 0.06841290259436131, 0.4461898112600798, 0.10154367932244823, 0.4333306480419218, 0.13831266864495975, 0.17767292275403074, 0.029796080213408883, 0.029796080213408883, 0.031267491581972284, 0.025381846107718677, 0.10447020716800151, 0.029796080213408883, 0.23189730029468786, 0.4732535694171853, 0.06346662955433562, 0.1232717227882288, 0.10801532145305197, 0.4372911337637499, 0.2668854197469305, 0.08269689062580944, 0.03383054616510386, 0.04260142850420486, 0.09815034998517787, 0.03884247893030443, 0.3130006974672319, 0.06278812790033361, 0.07763921204442449, 0.12209847027325353, 0.03740969297055805, 0.09719000636069604, 0.00206787247575949, 0.006015629020391244, 0.1048035368396287, 0.17689709088088001, 0.19392356262176189, 0.02788610597067552, 0.3410291675129401, 0.0002558358345933534, 0.002814194180526887, 0.1394305298533776, 0.29472288145154313, 0.010330461248891469, 0.014539167683625032, 0.07231322874224029, 0.1717917444723063, 0.5410100817012051, 0.19015700891478002, 0.17004611358244331, 0.03121742085170228, 0.0027918018647863827, 0.03299402203838452, 0.7629233095952607, 0.055547309407590055, 0.000706708771088932, 0.01809174453987666, 0.014416858930214212, 0.2110232390471551, 0.7003483921491316, 0.0950739217492863, 0.9046826464032435, 0.016958585657917722, 0.07997752742376012, 0.7748608088883147, 0.128131536082045, 0.14700040697998668, 0.0016243138892816208, 0.7038693520220357, 0.06361896066353015, 0.07038693520220357, 0.013265230095799904, 0.0005020968519084178, 0.027196912811705963, 0.006610941883460834, 0.11958273356285483, 0.02736427842900877, 0.008284598056488894, 0.7760743674331111, 0.034393634355726614, 0.009772223858908352, 0.022280670398311046, 0.026189559941874385, 0.01133577967633369, 0.8660144783764583, 0.06449667746879513, 0.0006111596041124906, 0.321033409188804, 0.26864830026487624, 0.005413127922139203, 0.2583458955098371, 0.033963012285679835, 0.006984681189857036, 0.03562187406827088, 0.06844987566059894, 0.0008730851487321295, 0.07229590457496121, 0.7583616794332272, 0.008943823246386954, 0.1054625824469795, 0.054780917384120095, 0.087270479724646, 0.14337293097620413, 0.05901146724237967, 0.08560818487274797, 0.09932211740090663, 0.3453417554818134, 0.088101627150595, 0.049037698130991556, 0.04280409243637399, 0.1885380284125114, 0.05448696503564919, 0.01838114483130334, 0.2162410395511186, 0.03262653207556343, 0.12440096234042797, 0.07569092853747411, 0.06183942296817053, 0.1502658589959048, 0.07759468996643053, 0.15503793124214552, 0.39108394006091113, 0.4535845542211498, 0.16515253116128398, 0.2419902812304326, 0.4127840649284389, 0.06185925195440319, 0.01789638735787765, 0.08578594374808744, 0.0040850449403851165, 0.010698927224818161, 0.1801058555034302, 0.04752372993956057, 0.009080967504374631, 0.02875639709718633, 0.12864703964530727, 0.12350115805949499, 0.15891693132655604, 0.046918332105935594, 0.27727220780023876, 0.05751128897841828, 0.03705272768174774, 0.668313002357904, 0.03500687155208069, 0.08569864009827545, 0.014548310255410157, 0.0852440054027939, 0.0027278081728894046, 0.013639040864447022, 0.014611023424154764, 0.11559897944404798, 0.010528531585052698, 0.007305511712077382, 0.007090643720545694, 0.12183015119846693, 0.03760189851804535, 0.007950115686672445, 0.6774787772994113, 0.1368850490253796, 0.1902871175340462, 0.08753883382116869, 0.5850568391677335, 0.07365140543247414, 0.0071915513721944446, 0.0007439535902270115, 0.2740229057336159, 0.09125830706784674, 0.17954079977478543, 0.026286360188021073, 0.000991938120302682, 0.33229927030139844, 0.013887133684237548, 0.16083487382081774, 0.18367626138596815, 0.0822289952345415, 0.03182041578041644, 0.031347835348034016, 0.03402579113153441, 0.3056020129406331, 0.05056610626491919, 0.06537362647956843, 0.054661803345566855, 0.649930321820962, 0.004682776260493272, 0.23921182064019797, 0.10614292857118084, 0.33544124866574737, 0.014922780113056875, 0.13694685290355543, 0.07125806006139121, 0.02913155160826414, 0.03205898694144754, 0.00042840517070976677, 0.3047388780982141, 0.07290027988244531, 0.002213426715333795, 0.025094551698763068, 0.12437372703255564, 0.044510774181017704, 0.0021980629225193927, 0.8013771071685286, 0.0025644067429392917, 0.04270038277648928, 0.0678461637448663, 0.012810114832946784, 0.4573685444059518, 0.08967080383062749, 0.16558259543327508, 0.011386768740397141, 0.09061970122566058, 0.038904793196356896, 0.024196883573343923, 0.3972131774565227, 0.018181404181099575, 0.2189344086807407, 0.03560524985465333, 0.01338353363330941, 0.01489865064840104, 0.23029778629392797, 0.04015060089992823, 0.031312418311893714, 0.21368554357654732, 0.024625471564583522, 0.020812495322325427, 0.02637308567561848, 0.0004766220302822617, 0.23672227504018997, 0.06561496616885802, 0.059101131755000445, 0.25499278620101, 0.09754864219776956, 0.13895381868832016, 0.04401483759556366, 0.5179420424036096, 0.10338368830585883, 0.045038438469879094, 0.0011515509836048632, 0.1495736777593428, 0.20083609345817055, 0.07970884697400002, 0.17009587507171586, 0.0257786392784655, 0.29079167989432214, 0.0044222770310338305, 0.12101938606877946, 0.06784420128098242, 0.010786041539106903, 0.028798730909415433, 0.012851274003675523, 0.020014279186052045, 0.6444597897908758, 0.05077306614566887, 0.08195320635130784, 0.18981963733297783, 0.23534293084016553, 0.05878305971746301, 0.021806618927445953, 0.3722927115439324, 0.06373432101982997, 0.027073918185283142, 0.05351576045962582, 0.07068715604017506, 0.030866373650925916, 0.06594658670812158, 0.144517106898493, 0.04652065325261077, 0.14687440990715686, 0.13816682124250065, 0.09568725886188502, 0.08649858795056273, 0.18257071260978064, 0.06884286949791728, 0.05426607742393479, 0.03612927672462325, 0.11570243324080771, 0.0685584859948985, 0.007351259570548557, 0.3899363772204017, 0.08757587488392629, 0.08933378478123137, 0.024930358543599453, 0.12193502287670759, 0.06312494631231913, 0.031482568160827513, 0.05737364154914956, 0.18414970591251814, 0.06983983304203974, 0.24487682587495982, 0.08908588306615091, 0.16949646328052442, 0.07508875577588824, 0.05708203473060242, 0.02391175912086538, 0.029087780150077094, 0.12311583497629941, 0.09919157883461677, 0.04435395801547905, 0.48305492456858085, 0.040321780014071856, 0.13951335884868862, 0.015591088272107785, 0.03575197827914371, 0.005107425468449102, 0.01424702893830539, 0.10203296914956787, 0.27898459064692027, 0.14690858058109077, 0.07935897600521946, 0.1372721334947427, 0.07539102720495848, 0.1365163337232644, 0.009636447086348077, 0.024752442515913686, 0.009258547200608936, 0.16210171774132656, 0.12101343511939308, 0.026078864312551377, 0.1592874518083174, 0.042964459910606226, 0.39587340790995257, 0.040713047164198914, 0.01013135735883291, 0.02363983383727679, 0.018386537428993058, 0.22285764052008655, 0.10494354500681324, 0.1305898607809502, 0.21595966593256008, 0.06962827340058789, 0.04351030124439785, 0.08784600115738862, 0.07098428549899054, 0.006308404109960122, 0.04734250934857923, 0.27662746103654756, 0.02565217057231143, 0.47167639764042907, 0.22439871734877834, 0.0013866038147195366, 0.46295034674512714, 0.11755791402635014, 0.11779279497345574, 0.18426410300433904, 0.024075297078323458, 0.003053452312372731, 0.09031172416210116, 0.1345555746763675, 0.07523965566222916, 0.013933269567079475, 0.2798596715901963, 0.3905296412944276, 0.10270810138018585, 0.003184747329618166, 0.3939650776737552, 0.10335503580947282, 0.10578691900498982, 0.14388642240142294, 0.11105599926194334, 0.06160770761976419, 0.009727532782068029, 0.023913518089250574, 0.025534773552928578, 0.021481634893733566, 0.31949924130537205, 0.06064052714171759, 0.08199765763434515, 0.14452516016095351, 0.03448018657845894, 0.053778798469387455, 0.0693034595905344, 0.05566577385427824, 0.09554957176219717, 0.08457080588646895, 0.19921720165235432, 0.2488399554053709, 0.09972963193289183, 0.07939640600482652, 0.06051555335733728, 0.13563552692491196, 0.042038137732230293, 0.05995074152600213, 0.07463584914071598, 0.13975733584211233, 0.45382739276202416, 0.04108251355798358, 0.203876772890554, 0.05567256510194036, 0.10366615570706135, 0.002303692349045808, 0.10379536889033453, 0.10424581376462612, 0.3485799834339381, 0.00939499309236754, 0.14986944460358903, 0.12329319702038496, 0.019690875933318266, 0.09736044211474032, 0.024066626140722327, 0.01975522520107421, 0.14802107738053147, 0.132756633109262, 0.19146603415260616, 0.14075578900141764, 0.08549556526936994, 0.12563811823275653, 0.05335216819813901, 0.05570054423987278, 0.03317081158948945, 0.03361113209731453, 0.020671355611486062, 0.11552776313709032, 0.418450058453073, 0.008693560771185726, 0.2146343559286076, 0.14682458191335893, 0.013136936276458431, 0.05525240845686929, 0.006761658377588899, 0.1543509628985206, 0.005134963540655285, 0.5781364833420126, 0.1283740885163821, 0.021446024199207363, 0.11266714121555418, 0.07580388477338774, 0.17492612191869072, 0.02616580794208308, 0.04063396056888196, 0.042327042259252046, 0.14606677492374615, 0.0649527703032886, 0.04086483534484152, 0.3229938115674197, 0.0654145198552077, 0.01960986634484532, 0.11984707571911665, 0.07171376741813268, 0.12957097638598208, 0.17697499213695117, 0.00786015303904957, 0.049429828389899365, 0.0845979358017294, 0.3404175558458479, 0.17646675682717833, 0.4756621525733591, 0.3477902614453233, 0.00047348829299678075, 0.05421440954813139, 0.4505241107864369, 0.15554090424944247, 0.07481115029349136, 0.06794557004503804, 0.13731160496906641, 0.010416742445929177, 0.04876929417866842, 0.002054405003729987, 0.07635538597196452, 0.006848016679099957, 0.4550507083261921, 0.08936661766225444, 0.16606440446817394, 0.02396805837684985, 0.15271077194392904, 0.006163215011189961, 0.021228851705209866, 0.17436047971006968, 0.03537026874118556, 0.04334103352793161, 0.48671482479068023, 0.027399503954439523, 0.0737295742774009, 0.03487209594201394, 0.09315831344509437, 0.03138488634781254, 0.028397390497549413, 0.09426356012380985, 0.014198695248774706, 0.12995750234642403, 0.018537185463678087, 0.4575135135716294, 0.06803541473371214, 0.008085368127774484, 0.08598098789535794, 0.09524958062719699, 0.18696258280839556, 0.05428375667575432, 0.10370528729343495, 0.04995437730897637, 0.09484671105064314, 0.10989963007974801, 0.24197900368468156, 0.051020070691567866, 0.08145893793183748, 0.025909670364255746, 0.1494364169565666, 0.8504690200322246, 0.039219925458853194, 0.16495439237105902, 0.78734641207103, 0.008459199608772257, 0.12719898316028735, 0.008864530906081972, 0.004361912033151447, 0.4353469622764702, 0.1481643022873701, 0.0907559116575059, 0.009708771944756446, 0.0700720062099813, 0.033769641546978944, 0.07176048828733025, 0.1640949978914584, 0.0023333052957678936, 0.07288397269325893, 0.05714476787998823, 0.13923469055836776, 0.10126544983632658, 0.1830159826535035, 0.059520496908406446, 0.0820474989457292, 0.1384710633706619, 0.3239881666677612, 0.08061927768660065, 0.1647050954280827, 0.06684200310950793, 0.05830898143595373, 0.039465225240188195, 0.1340395487887473, 0.044531706858861, 0.044709478143726715, 0.042753994010203876, 0.10385153489066118, 0.1464145214702016, 0.15518540239620043, 0.16589341039788003, 0.19263652585936117, 0.03922682328253472, 0.05214100378707289, 0.12026330594851178, 0.024429324787751387, 0.40080394119855506, 0.23566200551540875, 0.04507928514593993, 0.09372920673908303, 0.007587602450306721, 0.012050898009310675, 0.1071190934160949, 0.014282545788812651, 0.06918108116456129, 0.014282545788812651, 0.19360287682340915, 0.40609752538993005, 0.04277097122640499, 0.0337784878766838, 0.08138575266932539, 0.08440843614822327, 0.023123528613568773, 0.10534051923959108, 0.02947116391925432, 0.03971407990228054, 0.15885631960912217, 0.02206337772348919, 0.1049236185072597, 0.3142805582390349, 0.10688480763823652, 0.17944880548437875, 0.07305429512888643, 0.06820021988187154, 0.2208107378370707, 0.1813170927887959, 0.009726046914873642, 0.07061699517587045, 0.24804366919871687, 0.005540899454534075, 0.05004493230744074, 0.049160746224270406, 0.09655312028220016, 0.7393573579389382, 0.06202750224124898, 0.00514714856854246, 0.003969411184214949, 0.00034895922498592955, 0.0017011762218064066, 0.03991221135776569, 0.14756613226592497, 0.5705561841553148, 0.4288350212956292, 0.01654332887623634, 0.028420590633534228, 0.32768516812545057, 0.5921663361852803, 0.03499550339203841, 0.02897817159636567, 0.002701354979322223, 0.24164848178664253, 0.647097306410369, 0.07981276075270205, 0.10985754543957883, 0.09439854952442853, 0.2151102835852831, 0.5325130720559226, 0.04769264697227225, 0.0709973663633737, 0.05946479923835868, 0.07748443537119463, 0.5420306548757058, 0.012974138015641894, 0.08505268254698574, 0.0018019636132835962, 0.027029454199253945, 0.02775023964456738, 0.0955040715040306, 0.44039867846357, 0.3105391667217751, 0.1449267903903021, 0.006192906902140663, 0.0008299772136889548, 0.09710733400160772, 0.015305085192995017, 0.0903000026386706, 0.7224000211093649, 0.0140296614269121, 0.03647711970997146, 0.01632542420586135, 0.01632542420586135, 0.07346440892637608, 0.0155601699462116, 0.4364516697087851, 0.04967250092452515, 0.07753756241877097, 0.04422064106695532, 0.18415171074458106, 0.010600838611941344, 0.021807439430279338, 0.053307074162905047, 0.12236396569212295, 0.3048209101959856, 0.0036419280740281695, 0.12077649845498069, 0.08821088579303113, 0.047260368960644616, 0.12928844662800001, 0.1288649666193921, 0.03375135668605176, 0.0982050139961782, 0.045142968917604984, 0.10148583886206107, 0.0009949592045300105, 0.3586827932330688, 0.09418947136217433, 0.06550148096489236, 0.035486878294903705, 0.11193291050962619, 0.17046967704280847, 0.039798368181200416, 0.021391622897395227, 0.02078578453934594, 0.21568308192591906, 0.7299478452935015, 0.033257255262953506, 0.7156352546337398, 0.2518526445090847, 0.010193024398344068, 0.021660176846481145, 0.00018431086694054683, 0.0005529326008216405, 0.025803521371676557, 0.1937107211545147, 0.06487742516307249, 0.021748682298984526, 0.6216805541904644, 0.07151261637293217, 0.007982930084404991, 0.012071747932514865, 0.169491235084745, 0.05626992181446445, 0.03300260120260112, 0.6969487374909187, 0.024240848670937107, 0.11801477355675734, 0.09316955807112422, 0.13855985559295395, 0.007644681687887115, 0.06880213519098403, 0.5738289191970266, 0.12938711266798983, 0.28792187159635096, 0.07215819744945587, 0.0402557431583787, 0.001777295503681179, 0.2712152938617479, 0.046031953545342535, 0.13009803086946228, 0.02114981649380603, 0.008131390702178451, 0.2764672838740673, 0.442998165454682, 0.06700265938595043, 0.20068272252976416, 0.004228323165132795, 0.0640019873808591, 0.01309131560063027, 0.05054702412465577, 0.029091812445845047, 0.04363771866876757, 0.08618449437081595, 0.14036799505120234, 0.11745819275009937, 0.09745757169358091, 0.35782929308389405, 0.07045461545790953, 0.20870691029014032, 0.11415663310865445, 0.27201528386805385, 0.09235143352610248, 0.053688432585611165, 0.026935834778446556, 0.05423814349945701, 0.058544212324582824, 0.04892427133228048, 0.19247621947664798, 0.2144072448283762, 0.02796040090159912, 0.013118861086532289, 0.028689226517517583, 0.07732177216153122, 0.09647000879793441, 0.08951303700962183, 0.09885525626821301, 0.1612029748663286, 0.5945504353257589, 0.1301865897276968, 0.2749439413227271, 0.30063675878346974, 0.004526226954743205, 0.13951896069269842, 0.024417803308483078, 0.1497625269586962, 0.05788806052645257, 0.005876154292122757, 0.09779032446958345, 0.21956171105026248, 0.0987847811868012, 0.05626437537161286, 0.18683208615764574, 0.030494432453316893, 0.048962891544762334, 0.0721558401712287, 0.13615119841833034, 0.334150259840571, 0.03564842103697608, 0.00042949904863826607, 0.08225715655990146, 0.04376080728986757, 0.040799549653711124, 0.45504659008937487, 0.2372296395187558, 0.012832116423344628, 0.07534755540886974, 0.013161145049584233, 0.0394834351487527, 0.2547348242787207, 0.06828870068847538, 0.08176673371909553, 0.019767781778242875, 0.05391213212248057, 0.13522959807388876, 0.13163545593239007, 0.25428555651103335, 0.26352077737687707, 0.038909108069069095, 0.08725072718518524, 0.02004408597497499, 0.05932165150681936, 0.13809785704817326, 0.011053723883258265, 0.02630786284215467, 0.08341876957232237, 0.2721426820058185, 0.37859242577422314, 0.12050709598721941, 0.11016350016975396, 0.11941387041301574, 0.006979824819915709, 0.013455083990198957, 0.11167719711865134, 0.045579097016798964, 0.016062006513300003, 0.0775349214935215, 0.007896666310764492, 0.003755731538046527, 0.06538824908547672, 0.19327572299639434, 0.3717211214579383, 0.013963617256839651, 0.17950470735689042, 0.16438548039603645, 0.12999712013198567, 0.06282832433757905, 0.00954903720502065, 0.3936807611342604, 0.016927838681627515, 0.22809177505628872, 0.012695879011220637, 0.04383876171395844, 0.033638653790413656, 0.06879647259071696, 0.10351836663257215, 0.06118899404192523, 0.003352821591338369, 0.5230401682487855, 0.09597451805206081, 0.1081284963206624, 0.026403470031789656, 0.07837220469753438, 0.20324588567494653, 0.14312810166531495, 0.12989024525259807, 0.3446819305055533, 0.029262629964953126, 0.14969726349418197, 0.2019387290632321, 0.3337095147488648, 0.12946479693613414, 0.03162498856455185, 0.09355725783679922, 0.018118483031774494, 0.015483067318061842, 0.07708590962609513, 0.0991575162284386, 0.20125443929603012, 0.01364436876583255, 0.06773454494466874, 0.09209948916936972, 0.16958001180391885, 0.06968374048264481, 0.018517357610772747, 0.033623623030087355, 0.321129964881559, 0.012669770996844512, 0.038286910446126116, 0.0616071195360393, 0.08631957991490252, 0.0045248166890876325, 0.18238491885245534, 0.11138010311600326, 0.3560682671489729, 0.010093821844887794, 0.1496670135621294, 0.36218903822438686, 0.13716984506011007, 0.06234182164955587, 0.09837343244557958, 0.02693452094158208, 0.14840742664500856, 0.034604616309052476, 0.00026756146630710673, 0.019175238418675983, 0.11041369842939938, 0.16975949637122786, 0.0413516721929914, 0.05807282333649884, 0.1923728626795903, 0.0857821595171683, 0.06338112528681866, 0.19035570793846876, 0.10765236355248596, 0.05467551008829415, 0.03657420043770356, 0.0938316298380776, 0.4166620391047675, 0.05993650364106278, 0.05745637245591536, 0.29926916300778933, 0.07316386996184905, 0.3644290226122483, 0.04165950275252319, 0.12253513566211366, 0.015698668925804193, 0.03695601050627057, 0.10463743140039916, 0.0032985530038654727, 0.06853660130253815, 0.16700451689941115, 0.0751947916251555, 0.28648259761056616, 0.2520087347880507, 0.010211939484204393, 0.07963942067547318, 0.010691695030442183, 0.19800196758299657, 0.0688791891384256, 0.0001370730132107972, 0.06250529402412353, 0.03145825653187796, 0.36177817621612307, 0.2396047549343675, 0.07082954522439111, 0.0918240604552362, 0.011639669635170786, 0.0895392364157397, 0.07048466612408975, 0.03664340440701914, 0.027676547799183868, 0.148223204856259, 0.13579853718212853, 0.28925858543822763, 0.031934476418632875, 0.09200415071091657, 0.0009241488352659031, 0.18416232622771078, 0.0671034737606964, 0.034860947730308234, 0.015761871801479567, 0.01608163786218863, 0.11797944944915376, 0.1497157790355968, 0.0034155691034736912, 0.30057008110568484, 0.013946907172517573, 0.3290331569679656, 0.04184072151755272, 0.0034155691034736912, 0.023766668345004436, 0.2372366007977374, 0.2312032323513458, 0.08697157534043731, 0.061528974439144464, 0.12823753877094587, 0.03164672505843138, 0.10877138774579563, 0.05338961889354071, 0.02367812522357456, 0.03722474494283116, 0.43121565372679765, 0.33662130655772504, 0.02948652244391595, 0.01207166355086492, 0.1701906664548169, 0.018206443388189712, 0.001978961237846708, 0.1288421312765698, 0.3465115468913914, 0.11323350303821882, 0.02866311731042632, 0.045974504992961025, 0.02866311731042632, 0.006811037776734967, 0.016176214719745546, 0.021568286292994062, 0.2636439206077827, 0.19053182476554542, 0.3471209254042122, 0.06200204273843164, 0.08100996824948369, 0.05657120687813106, 0.012671950340701357, 0.20591919303639705, 0.03167987585175339, 0.012671950340701357, 0.0794229279264842, 0.04649974840140314, 0.07501054304167952, 0.19821790559430244, 0.12931681854696786, 0.021383095980207285, 0.3960963969666968, 0.04785740528903535, 0.006109455994344938, 0.15025552154777488, 0.06812955840042943, 0.43924011367527616, 0.05948472017439307, 0.10373805871243635, 0.010703133041759306, 0.14757973828733506, 0.004939907557735064, 0.01605469956263896, 0.29220463120074064, 0.1441646191069967, 0.06433152358000391, 0.42706830713954397, 0.041079165659520564, 0.02519005441385695, 0.005813089480120835, 0.91738887505101, 0.02738923478662792, 0.0550794501753067, 0.39320092586594446, 0.02795042726035027, 0.0620594232390828, 0.28566284132188496, 0.006158568718382262, 0.07579776884162785, 0.07437656067584732, 0.03316152386821218, 0.02463427487352905, 0.016107025878845917, 0.09899616572385377, 0.24476287767496635, 0.16409933523330772, 0.04721768338048309, 0.11840191817378716, 0.07789129209166813, 0.14290503417047726, 0.05678641845948251, 0.024860825719269508, 0.02423483370475553, 0.0008836538608292602, 0.10073654013453566, 0.08983814251764145, 0.052430129075869435, 0.5684839838001573, 0.11399134804697456, 0.05920480867556043, 0.014727564347154335, 0.03748188953722355, 0.21399543910205537, 0.013946749595245972, 0.02440681179168045, 0.07888630239811004, 0.3499762476557036, 0.19351115063403787, 0.05753034208038964, 0.030508514739600565, 0.060337367051024306, 0.158276281684571, 0.04372272974711906, 0.16483469114663887, 0.09269218706389241, 0.4796383453258961, 0.00043722729747119063, 0.08654654267689751, 0.35279736493985303, 0.02704579458653047, 0.01652798558065751, 0.22177551560954986, 0.1391355877062623, 0.1562645909443983, 0.00601921027340854, 0.0021497179547887643, 0.5510801977100998, 0.009458759001070563, 0.23227702501492598, 0.0007524012841760675, 0.0587947860634727, 0.1389792657770936, 0.00042994359095775285, 0.003837546742218064, 0.045730765344765265, 0.4726578404165249, 0.06779665911251913, 0.15893839424019815, 0.22961321340938085, 0.016949164778129782, 0.00479693342777258, 0.21580676168845014, 0.11678699252015524, 0.02145067209553872, 0.05265164968904958, 0.30832632719143027, 0.12242050236342804, 0.16250509163286908, 0.19289081011915535, 0.051367661390427234, 0.14868666613351558, 0.13977594936170676, 0.07486749287686419, 0.2224184794218159, 0.06071517800399138, 0.07757565189574725, 0.031711668511437224, 0.010595791686850067, 0.08857605634849942, 0.018334291233425958, 0.03714479782356428, 0.008333768742466344, 0.6116986256970297, 0.00023810767835618127, 0.06702731145726502, 0.12083964676576199, 0.03738290550192046, 0.08613647889096099, 0.11223281373555402, 0.13930427852985605, 0.025771291528023366, 0.1152510731037009, 0.06180466490774613, 0.10192429712434467, 0.041605544520917005, 0.268021431891443, 0.04796710657378043, 0.10101277806781114, 0.13291553843281376, 0.38487914464096984, 0.006062282254632327, 0.16155982208595152, 0.0017429061482067939, 0.08282593130391416, 0.03167542478045391, 0.09366226083406945, 0.003637369352779396, 0.37019211687340964, 0.08477399476401082, 0.0838220721777649, 0.006134612222473646, 0.0004759612931229553, 0.0482307443697928, 0.055581702119136225, 0.10682686801204107, 0.24400948960770175, 0.1184366704050032, 0.06525141704032872, 4.278781445267457e-05, 0.04257387538041119, 0.05284295084905309, 0.260064336243356, 0.04402866107180213, 0.009028228849514333, 0.40772508391953594, 0.10929986498334945, 0.16033768443395877, 0.07759353940066424, 0.058128263568256226, 0.199000672169807, 0.07545302796892177, 0.1246847908989984, 0.1732476440066555, 0.02227469708656999, 0.1207663663761138, 0.05904353984699073, 0.03274683722606209, 0.0033739165626851843, 0.2097782239269553, 0.03274683722606209, 0.062119757889438985, 0.4652035542902396, 0.014289528971372546, 0.2095101581686108, 0.09397342545555225, 0.061295697481985566, 0.11826542282897758, 0.26727852452514006, 0.12691736709896467, 0.11047867298598918, 0.0006655341746143927, 0.011646848055751871, 0.3529117373769708, 0.010252699404782241, 0.14405618658067634, 0.07689524553586681, 0.02269417733418092, 0.04533075523350351, 0.10241179517810577, 0.12044041828876217, 0.07942962066963322, 0.045561152972936815, 0.060868224459233455, 0.05717924115867385, 0.0539513807706842, 0.11666409688019745, 0.030434112229616728, 0.055795872420963996, 0.3366197261760638, 0.0677850681477827, 0.1793768129897107, 0.04196218504386549, 0.047139960021800556, 0.038000580017573914, 0.03487395001612796, 0.20130687009309725, 0.005050710002335774, 0.060608520028029286, 0.24099102011144977, 0.08562156003959692, 0.27754854012835634, 0.008658360004004183, 0.20717336407643458, 0.04529396698885812, 0.013588190096657436, 0.20891066691984284, 0.024260193277593867, 0.20897271344996457, 0.016318237422013267, 0.06136401829038449, 0.1479809743403104, 0.0661416011097572, 0.23379035270553392, 0.058922771820093915, 0.2951781396773757, 0.08927512706209793, 0.009087887185962066, 0.07163393428934804, 0.0010988621760803805, 0.17403600950894674, 0.05096344578794413, 0.015978050019763372, 0.09966328802213398, 0.12384772582006864, 0.3621814596029409, 0.004810882787761196, 0.11715149707494157, 0.03809699072470353, 0.05519512820012508, 0.03393622723258574, 0.1401657201407181, 0.02489956902314241, 0.05242592641795973, 0.058388090598825736, 0.1515212069413189, 0.13342912253041517, 0.0655838059895261, 0.15583863617573912, 0.37068213855522114, 0.012335512098343465, 0.03521474852397362, 0.013989420646510068, 0.46116848751943534, 0.4761226957967392, 0.01350702683111317, 0.15014271457724754, 0.05897692241667421, 0.5966822700177808, 0.011881797556472826, 0.08835736728358884, 0.006048915119658893, 0.051199745834255635, 0.009937503410868182, 0.02657201998993014, 0.506420868653305, 0.07055829535801024, 0.06673493945191117, 0.07333891783517321, 0.21654097540906592, 0.03162958067772873, 0.03475778096453706, 0.13451810595536506, 0.0671655077023311, 0.0022450866084344654, 0.601309029959031, 0.0228250471857504, 0.06660423605022248, 0.042469555009551976, 0.02731522040261933, 0.007296531477412013, 0.028437763706836563, 0.5073421937275694, 0.06837023343253355, 0.02577031875533957, 0.011044422323716958, 0.2129995733859699, 0.16163424416614341, 0.004207398980463603, 0.008414797960927206, 0.09854707825276168, 0.21685847303532513, 0.2021450373964727, 0.03030528534569607, 0.07966117579095108, 0.04628144120728585, 0.18084349624768634, 0.08015528370419613, 0.06330071377461516, 0.0018666298944812797, 0.06365784204416688, 0.06912843784483748, 0.05967922691640646, 0.5813751355439929, 0.175556392512429, 0.04376476640536474, 0.0069625764735807534, 0.20399659924192487, 0.11031395046725348, 0.02810479463240141, 0.10441931189266741, 0.04294665247198418, 0.3754674249205088, 0.018736529754934273, 0.00673672979952693, 0.0926300347434953, 0.016631301692582107, 0.0849886818522994, 0.006923235319428883, 0.05729574057458386, 0.039629553897420504, 0.045836592459667085, 0.04870137948839628, 0.23085408806509414, 0.3425807821855327, 0.09286684618130467, 0.05037250525515498, 0.14166897038782192, 0.33282177534131596, 0.04365658763805436, 0.05168099324329849, 0.1339311506970508, 0.014520352999965564, 0.20796584526924364, 0.07374810865771984, 0.2153289797917043, 0.10350994882433733, 0.05206435513026019, 0.008088095915821405, 0.017590503685775513, 0.17824749086616243, 0.21546157152802922, 0.02240800343891504, 0.08340020214838793, 0.10390772403331215, 0.049350837258160106, 0.04107644538254045, 0.017336821072726903, 0.18804540583997534, 0.6181167740418257, 0.0556551358300608, 0.00029551399555784494, 0.002167102634090863, 0.027876820247623373, 0.2897597885744692, 0.009624231474038592, 0.21032466831069702, 0.11009181856888046, 0.14051377952096344, 0.01342697659304896, 0.14149967640366984, 0.0020656887066229173, 0.00990591629766899, 0.07281552690845783, 0.07179060045499365, 0.927893510880793, 0.3193722480342388, 0.022405109970023394, 0.16996065669568042, 0.0022537684585230634, 0.07397663528563937, 0.27336885655732684, 0.0808705152764158, 0.0010605969216579121, 0.05660936069349106, 0.3021811609026125, 0.1863372684974397, 0.02727700172349779, 0.016339524259796966, 0.0008669951648055533, 0.12144601500853174, 0.11230921981019629, 0.050885946980510556, 0.13691854410352317, 0.04541720824866014, 0.13262623089605624, 0.797955610197819, 0.037736192768767385, 0.030408776697162066, 0.0010991124107407977, 0.002493279181678242, 0.26305956022811183, 0.03021705515705571, 0.04882361621435602, 0.03494312166560999, 0.46862484678916566, 0.11152772697745808, 0.00029770497691680503, 0.039966893151081075, 0.05733007962768502, 0.14719885309811018, 0.015666778516874886, 0.5869016259783131, 0.13618045941591247, 0.04476222433392824, 0.011879205688619419, 0.242250945066188, 0.03804736512967963, 0.05971991488709207, 0.0019264488673255507, 0.2268393541275836, 0.0012040305420784692, 0.05141210414675063, 0.21407663038155184, 0.16435016899371105, 0.2675386299100858, 0.0001418550529745948, 0.009362433496323257, 0.7227514949055605, 0.12155723999016785, 0.3701145814626006, 0.000453571791008089, 0.15466798073375834, 0.04807860984685743, 0.012700010148226493, 0.2921002334092093, 0.08487393676830716, 0.04754717923669563, 0.6429978350981176, 0.050657742364329926, 0.07065421961340752, 0.012886618671627789, 0.07420914890213244, 0.015997181799262083, 0.02659983738799723, 0.08598552085887476, 0.29003543623723227, 0.013697590681526811, 0.07317164570518839, 0.0001767431055680879, 0.16039436830303977, 0.07264141638848413, 0.23391950021936433, 0.04339043241696558, 0.16401709052634797, 0.0010454939477712135, 0.07431370980757786, 0.1389670555377497, 0.034375841002717504, 0.1280102789651074, 0.09033067708743285, 0.1273411628385338, 0.15046748896323306, 0.09112525248773896, 0.13224472190970535, 0.3274019814269404, 0.15847356411925856, 0.06841509191722621, 0.03631685844399675, 0.025128331347613914, 0.04585461924747065, 0.06272911913053984, 0.07831968967467987, 0.06493014085441844, 0.18882338324678985, 0.03386008972599947, 0.36147933626404843, 0.0895309579691968, 0.0754988487133772, 0.02425114534429692, 0.014947246815981748, 0.21154929932414984, 0.24749509692670155, 0.37294447808011805, 0.19789882995907176, 0.01750456481210463, 0.037926557092893366, 0.10502738887262777, 0.020908230192236085, 0.06822788292631338, 0.09406073020223049, 0.0016666353081236855, 0.4765535334166163, 0.03062442378677272, 0.040520070928757104, 0.00958315302171119, 0.2785364258701709, 0.4698366029248137, 0.08301850346174686, 0.06106071087947323, 0.15911879830168146, 0.00782058365943992, 0.05173616882398717, 0.07760425323598075, 0.014137208922833704, 0.05233775218240563, 0.02376254265752899, 0.21796686023973394, 0.3501123168951431, 0.11312821381570083, 0.007314324169118589, 0.08533378197305021, 0.027306810231376065, 0.15165032110639207, 0.039984972124514954, 0.006339080946569444, 0.00048762161127457256, 0.009902633737624499, 0.6574487703196787, 0.3000928571793164, 0.03229119697051467, 0.03333156588458241, 0.24305827257408966, 0.0820181227946466, 0.2913703175079226, 0.05879838026830829, 0.29099580553169135, 0.17535602848964058, 0.6242464607011456, 0.20029438583472417, 0.008723443850969896, 0.5526301679589429, 0.4309381262379129, 0.007851099465872906, 0.0490110352462516, 0.5116207512650375, 0.008440789403521108, 0.004628819995479317, 0.014703310573875479, 0.02505008468141748, 0.08604159521008614, 0.038936544667855434, 0.04302079760504307, 0.21891595743325712, 0.08606622515756898, 0.030077880791908315, 0.00036238410592660624, 0.004167417218155971, 0.007066490065568821, 0.32759523175765204, 0.44971867545491834, 0.09476344369980752, 0.1875486118145454, 0.0006341457711396295, 0.033451189427615456, 0.06040238470104971, 0.3873045297235287, 0.043438985323064616, 0.04153654800964573, 0.1788291074613755, 0.06658530596966108, 0.007055871496379775, 0.0033154094982989304, 0.012581553993544659, 0.012751574993457424, 0.046330722476228645, 0.862261501057591, 0.045225585976795664, 0.010456291494635088, 0.0029692872330609682, 0.9623789843154271, 0.03266215956367065, 0.0019795248220406455, 0.5880529768953896, 0.23951093891787903, 0.10188151879342616, 0.04111008653068073, 0.003127941366464838, 0.02547037969835654, 0.000446848766637834, 0.15730996928771854, 0.035865252591556596, 0.19068951130362272, 0.029118323886214267, 0.011363248345839714, 0.33983214584276894, 0.04296728280770642, 0.10439984417740238, 0.08842027619106528, 0.21090771299465289, 0.07015731775235354, 0.03398925953219613, 0.6052702755156464, 0.00217879868796129, 0.006100636326291612, 0.03398925953219613, 0.037039577695341934, 0.23602473632091717, 0.06430280217876956, 0.004088617479574943, 0.61663785441953, 0.006318772468434003, 0.07248003713791944, 0.021788708377276336, 0.0179151602213161, 0.17019402210250295, 0.0995017682562286, 0.17406757025846317, 0.08182870479466002, 0.3299778835358627, 0.047208868150765394, 0.05786112557965605, 0.17054254214194345, 0.11526866170147504, 0.10740049366724466, 0.275582585398919, 0.06939724206191193, 0.0781702494200788, 0.05834246597381825, 0.03792456992499042, 0.033636418346334865, 0.05377892851396463, 0.1133140989778347, 0.038821559828881164, 0.11438209237065124, 0.4073860796898685, 0.06221061513156335, 0.06856517581882175, 0.039302156855648605, 0.09825539213912152, 0.014257711794100784, 0.04352073075727393, 0.18567634980650605, 0.18692406992280344, 0.054899685117085366, 0.10964340521963356, 0.3355587287767306, 0.02651405247131964, 0.10075339939101463, 7.798250726858717e-05, 0.0055790958090711105, 0.11158191618142221, 0.3866742556902362, 0.11029443253317503, 0.0875488880808082, 0.19569751453357126, 0.10214036942760957, 0.046825120334601025, 0.5734023507640617, 0.1971584014088464, 0.0018776990610366326, 0.028165485915549487, 0.0014082742957774745, 0.021241470627976905, 0.1300306599767868, 0.1610673212896544, 0.07511765422719263, 0.05675032811521449, 0.04144422302189938, 0.03273151704570462, 0.1961536237343306, 0.37558827113596316, 0.03249603850580747, 0.028492903327555823, 0.16941138963320787, 0.04324811084945306, 0.03994252275904901, 0.34102650466001844, 0.08511889332790444, 0.02313911663282839, 0.01928259719402366, 0.2784957966165417, 0.18124095240899982, 0.030611742632083078, 0.5519831687308948, 0.03158354398548254, 0.08697622112925192, 0.04907596834667287, 0.0417874581961769, 0.007774410827195702, 0.018950126391289523, 0.46251139454073087, 0.09084730855843819, 0.0769385151938711, 0.10123488841298829, 0.04542365427921909, 0.00862697309954161, 0.06197335777629892, 0.02447243389461804, 0.0776427578958745, 0.05035335319324287, 0.23965914723293413, 0.06664678532601258, 0.14372816835458269, 0.0003365999258889524, 0.0686663848813463, 0.04981678903156496, 0.3312143270747292, 0.04005539118078534, 0.04274819058789696, 0.01783979607211448, 0.07658401487769224, 0.2046609492941751, 0.035108808776448154, 0.02125253224600995, 0.12049343172077007, 0.20681428956579725, 0.0006553644304936989, 0.334516730021998, 0.07366413668342622, 0.004664323065107774, 0.07366413668342622, 0.2105378928353819, 0.3665514574269178, 0.02621671240043335, 0.16083872638302668, 0.08379697644555689, 0.06762271170864582, 0.0035762010999764613, 0.014629913590812798, 0.30852862217069654, 0.016580568736254502, 0.13036878555368736, 0.07249934957225009, 0.33616290339778737, 0.02470829850892828, 0.025033407699835232, 0.14246287749683834, 0.8574318527604742, 0.20745549597566365, 0.05386719959883112, 0.023149540323464612, 0.008013302419660827, 0.2693359979941556, 0.1175284354883588, 0.2515286592837982, 0.06855825403487596, 0.12693176922659186, 0.06536256622242892, 0.0035015660476301206, 0.2960282296100631, 0.012693176922659187, 0.09439638470069533, 0.3631415788563071, 0.03793363218265964, 0.0009490099440283017, 0.008066584524240564, 0.035587872901061315, 0.019929208824594334, 0.7473453309222876, 0.04602698228537263, 0.14140248166021696, 0.002176906764528346, 0.07401482999396376, 0.004571504205509527, 0.647629762447183, 0.0509396182899633, 0.04353813529056692, 0.0008707627058113385, 0.13823357954754997, 0.0013061440587170078, 0.03678972432052905, 0.004057490309425129, 0.10045786352300837, 0.05242090928498672, 0.3583183683599226, 0.0717289666194925, 0.0680445788672559, 0.034465348720289314, 0.11370300430320074, 0.19681159891694303, 0.02053867608701687, 0.03829244694189586, 0.4803961525437844, 0.0003481131540172351, 0.06823017818737809, 0.04838772840839568, 0.055698104642757616, 0.15421412722963515, 0.13367545114261828, 0.0033692691112942215, 0.27387344633234456, 0.5617052932686223, 0.009626483175126347, 0.03128607031916063, 0.042356525970555926, 0.053426981621951225, 0.024066207937815866, 0.20295232066690258, 0.12244974599582219, 0.0859709352893223, 0.2541749391162572, 0.04478518126585469, 0.02104280541703219, 0.10798281727161255, 0.061813240912532055, 0.04250092936203212, 0.05641410004895143, 0.21509951629520413, 0.4778885327389985, 0.10332725032194563, 0.0993531253095631, 0.04421214076275558, 0.030799468845964562, 0.018380328182269173, 0.010432078157504125, 0.8066156819126354, 0.03296794340242379, 0.020147076523703428, 0.0018315524112457661, 0.013919798325467823, 0.1245455639647121, 0.00035418233425979837, 0.5437879438668771, 0.07668047536724634, 0.023317003672103393, 0.011274804307270249, 0.003010549841208286, 5.903038904329973e-05, 0.13978396125453377, 0.0635166986105905, 0.13830820152845127, 0.002977520927309481, 0.15244907147824543, 0.21021297746804934, 0.16733667611479283, 0.05895491436072772, 0.32454978107673343, 0.06103917900984436, 0.0154831088220093, 0.007146050225542754, 0.018328856793264233, 0.0606597879586602, 0.05542297173201328, 0.10844573602681339, 0.003054809465544039, 0.4130538798767761, 0.17936095576265715, 0.0013092040566617309, 0.034475706825425584, 0.12633819146785705, 0.2527861307691537, 0.3409001534944015, 0.1440880945384176, 0.07330797792305456, 0.07403022401096643, 0.009750322186810214, 0.03683455048350525, 0.0003611230439559338, 0.024195243945047566, 0.043334765274712056, 0.12732242154034862, 0.30151352975007756, 0.03208124007315871, 0.3553999876854613, 0.18371522635644794, 0.0046344906999349735, 0.018846928846402225, 0.08311186655216718, 0.1566457856578021, 0.20376310777380766, 0.055304922352557344, 0.06488286979908962, 0.41262415531754376, 0.13313160279986183, 0.055875362202939864, 0.011403135143457116, 0.5903973220524922, 0.014538997307907822, 0.05730075409587201, 0.005131410814555702, 0.08153241627571838, 0.05045887300979774, 0.18306050811206004, 0.13736844940819834, 0.15758401909061048, 0.09649890009845422, 0.1260672152724884, 0.02815566090707044, 0.10619263110279162, 0.11418143454355209, 0.02864278306809242, 0.02231019497480668, 0.09398031530554973, 0.25137720783126294, 0.1125898590218945, 0.12395058274850132, 0.15777840936727835, 0.08974123928815914, 0.043069012336688556, 0.09147926045528929, 0.014370467698954155, 0.02161928768869209, 0.085881146777215, 0.14579718839892916, 0.09239472985746093, 0.3188978894356015, 0.08061674401372859, 0.06473430855778649, 0.07526311408475934, 0.06062985894557673, 0.036092388437801014, 0.03970608863985525, 0.0020085121434687842, 0.023700443292931656, 0.9652909361510977, 0.008435751002568895], \"Term\": [\"000\", \"000\", \"000\", \"000\", \"000\", \"000\", \"000\", \"11\", \"11\", \"11\", \"11\", \"11\", \"11\", \"11\", \"11\", \"1967\", \"1967\", \"1967\", \"1967\", \"1967\", \"2015\", \"2015\", \"access\", \"access\", \"access\", \"access\", \"access\", \"access\", \"access\", \"access\", \"accordance\", \"accordance\", \"accordance\", \"accordance\", \"accordance\", \"accordance\", \"accordance\", \"accordance\", \"accordance\", \"action\", \"action\", \"action\", \"action\", \"action\", \"action\", \"action\", \"action\", \"action\", \"action\", \"actively\", \"actively\", \"actively\", \"actively\", \"actively\", \"actively\", \"actively\", \"actively\", \"activities\", \"activities\", \"activities\", \"activities\", \"activities\", \"activities\", \"activities\", \"activities\", \"activities\", \"acts\", \"acts\", \"acts\", \"acts\", \"acts\", \"acts\", \"acts\", \"acts\", \"acts\", \"acts\", \"address\", \"address\", \"address\", \"address\", \"address\", \"address\", \"address\", \"address\", \"address\", \"addressing\", \"addressing\", \"addressing\", \"addressing\", \"addressing\", \"addressing\", \"addressing\", \"addressing\", \"afghanistan\", \"afghanistan\", \"afghanistan\", \"afghanistan\", \"afghanistan\", \"afghanistan\", \"africa\", \"africa\", \"africa\", \"africa\", \"africa\", \"africa\", \"africa\", \"africa\", \"african\", \"african\", \"african\", \"african\", \"african\", \"african\", \"agenda\", \"agenda\", \"agenda\", \"agenda\", \"agenda\", \"agenda\", \"agenda\", \"agenda\", \"agenda\", \"agenda\", \"aggression\", \"aggression\", \"aggression\", \"aggression\", \"aggression\", \"aggression\", \"aggression\", \"ago\", \"ago\", \"ago\", \"ago\", \"ago\", \"ago\", \"ago\", \"ago\", \"ago\", \"ago\", \"agreement\", \"agreement\", \"agreement\", \"agreement\", \"agreement\", \"agreement\", \"agreement\", \"agreement\", \"agreement\", \"aligned\", \"aligned\", \"aligned\", \"aligned\", \"aligned\", \"aligned\", \"aligned\", \"aligned\", \"america\", \"america\", \"america\", \"america\", \"america\", \"america\", \"america\", \"america\", \"american\", \"american\", \"american\", \"american\", \"american\", \"american\", \"american\", \"angola\", \"angola\", \"angola\", \"angola\", \"anti\", \"anti\", \"anti\", \"anti\", \"anti\", \"anti\", \"anti\", \"anti\", \"apartheid\", \"apartheid\", \"apartheid\", \"apartheid\", \"apartheid\", \"apartheid\", \"appeal\", \"appeal\", \"appeal\", \"appeal\", \"appeal\", \"appeal\", \"appeal\", \"appeal\", \"appeal\", \"appeal\", \"arab\", \"arab\", \"arab\", \"arms\", \"arms\", \"arms\", \"arms\", \"arms\", \"arms\", \"arms\", \"arms\", \"arms\", \"arms\", \"asia\", \"asia\", \"asia\", \"asia\", \"asia\", \"asia\", \"asian\", \"asian\", \"asian\", \"asian\", \"asian\", \"asian\", \"assistance\", \"assistance\", \"assistance\", \"assistance\", \"assistance\", \"assistance\", \"assistance\", \"assistance\", \"assistance\", \"assistance\", \"attacks\", \"attacks\", \"attacks\", \"attacks\", \"attacks\", \"attacks\", \"attitude\", \"attitude\", \"attitude\", \"attitude\", \"attitude\", \"attitude\", \"attitude\", \"attitude\", \"balance\", \"balance\", \"balance\", \"balance\", \"balance\", \"balance\", \"balance\", \"balance\", \"balance\", \"ban\", \"ban\", \"ban\", \"ban\", \"ban\", \"ban\", \"bosnia\", \"burden\", \"burden\", \"burden\", \"burden\", \"burden\", \"burden\", \"burden\", \"burden\", \"burden\", \"cambodia\", \"cambodia\", \"cambodia\", \"cambodia\", \"caribbean\", \"caribbean\", \"caribbean\", \"caribbean\", \"caribbean\", \"cent\", \"cent\", \"cent\", \"cent\", \"cent\", \"cent\", \"cent\", \"cent\", \"cent\", \"century\", \"century\", \"century\", \"century\", \"century\", \"century\", \"century\", \"century\", \"century\", \"certain\", \"certain\", \"certain\", \"certain\", \"certain\", \"certain\", \"certain\", \"certain\", \"certain\", \"challenges\", \"challenges\", \"challenges\", \"challenges\", \"challenges\", \"challenges\", \"challenges\", \"change\", \"change\", \"change\", \"change\", \"change\", \"change\", \"change\", \"change\", \"change\", \"change\", \"charter\", \"charter\", \"charter\", \"charter\", \"charter\", \"charter\", \"charter\", \"charter\", \"charter\", \"charter\", \"chemical\", \"chemical\", \"chemical\", \"chemical\", \"chemical\", \"chemical\", \"children\", \"children\", \"children\", \"children\", \"children\", \"children\", \"children\", \"children\", \"china\", \"china\", \"china\", \"china\", \"china\", \"china\", \"china\", \"climate\", \"climate\", \"climate\", \"climate\", \"climate\", \"climate\", \"climate\", \"climate\", \"climate\", \"coexistence\", \"coexistence\", \"coexistence\", \"coexistence\", \"coexistence\", \"coexistence\", \"coexistence\", \"coexistence\", \"cold\", \"cold\", \"cold\", \"cold\", \"cold\", \"cold\", \"cold\", \"colonial\", \"colonial\", \"colonial\", \"colonial\", \"colonialism\", \"colonialism\", \"colonialism\", \"colonialism\", \"colonialism\", \"combat\", \"combat\", \"combat\", \"combat\", \"combat\", \"combat\", \"combat\", \"combat\", \"combat\", \"combat\", \"come\", \"come\", \"come\", \"come\", \"come\", \"come\", \"come\", \"come\", \"come\", \"come\", \"commend\", \"commend\", \"commend\", \"commend\", \"commend\", \"commend\", \"commend\", \"commitment\", \"commitment\", \"commitment\", \"commitment\", \"commitment\", \"commitment\", \"commitment\", \"commitment\", \"commitment\", \"committed\", \"committed\", \"committed\", \"committed\", \"committed\", \"committed\", \"committed\", \"committed\", \"committed\", \"committed\", \"comprehensive\", \"comprehensive\", \"comprehensive\", \"comprehensive\", \"comprehensive\", \"comprehensive\", \"comprehensive\", \"concerning\", \"concerning\", \"concerning\", \"concerning\", \"concerning\", \"concerning\", \"concerning\", \"concerning\", \"concerning\", \"conference\", \"conference\", \"conference\", \"conference\", \"conference\", \"conference\", \"conference\", \"conference\", \"conference\", \"conflict\", \"conflict\", \"conflict\", \"conflict\", \"conflict\", \"conflict\", \"conflict\", \"conflict\", \"conflict\", \"conflict\", \"conflicts\", \"conflicts\", \"conflicts\", \"conflicts\", \"conflicts\", \"conflicts\", \"conflicts\", \"conflicts\", \"conflicts\", \"connection\", \"connection\", \"connection\", \"connection\", \"connection\", \"connection\", \"connection\", \"connection\", \"constant\", \"constant\", \"constant\", \"constant\", \"constant\", \"constant\", \"constant\", \"constant\", \"constant\", \"constitute\", \"constitute\", \"constitute\", \"constitute\", \"constitute\", \"constitute\", \"constitute\", \"constitute\", \"constitute\", \"continent\", \"continent\", \"continent\", \"continent\", \"continent\", \"continent\", \"continent\", \"continue\", \"continue\", \"continue\", \"continue\", \"continue\", \"continue\", \"continue\", \"continue\", \"continue\", \"continue\", \"contributions\", \"contributions\", \"contributions\", \"contributions\", \"contributions\", \"contributions\", \"contributions\", \"contributions\", \"contributions\", \"control\", \"control\", \"control\", \"control\", \"control\", \"control\", \"control\", \"control\", \"control\", \"control\", \"conventional\", \"conventional\", \"conventional\", \"conventional\", \"conventional\", \"conventional\", \"conviction\", \"conviction\", \"conviction\", \"conviction\", \"conviction\", \"conviction\", \"conviction\", \"conviction\", \"conviction\", \"conviction\", \"cooperation\", \"cooperation\", \"cooperation\", \"cooperation\", \"cooperation\", \"cooperation\", \"cooperation\", \"cooperation\", \"cooperation\", \"council\", \"council\", \"council\", \"council\", \"council\", \"council\", \"council\", \"council\", \"council\", \"council\", \"court\", \"court\", \"court\", \"court\", \"court\", \"court\", \"crime\", \"crime\", \"crime\", \"crime\", \"crime\", \"crime\", \"crime\", \"crime\", \"crimes\", \"crimes\", \"crimes\", \"crimes\", \"crimes\", \"crimes\", \"crimes\", \"criminal\", \"criminal\", \"criminal\", \"criminal\", \"criminal\", \"criminal\", \"crisis\", \"crisis\", \"crisis\", \"crisis\", \"crisis\", \"crisis\", \"crisis\", \"crisis\", \"crisis\", \"crisis\", \"critical\", \"critical\", \"critical\", \"critical\", \"critical\", \"critical\", \"critical\", \"critical\", \"critical\", \"cuba\", \"cuba\", \"cuba\", \"cuba\", \"cuba\", \"cyprus\", \"cyprus\", \"cyprus\", \"cyprus\", \"cyprus\", \"cyprus\", \"day\", \"day\", \"day\", \"day\", \"day\", \"day\", \"day\", \"day\", \"day\", \"day\", \"days\", \"days\", \"days\", \"days\", \"days\", \"days\", \"days\", \"days\", \"days\", \"days\", \"death\", \"death\", \"death\", \"death\", \"death\", \"death\", \"debt\", \"debt\", \"debt\", \"debt\", \"debt\", \"decolonization\", \"decolonization\", \"decolonization\", \"decolonization\", \"decolonization\", \"delegation\", \"delegation\", \"delegation\", \"delegation\", \"delegation\", \"delegation\", \"delegation\", \"democracy\", \"democracy\", \"democracy\", \"democracy\", \"democracy\", \"democracy\", \"democracy\", \"democratic\", \"democratic\", \"democratic\", \"democratic\", \"democratic\", \"democratic\", \"democratic\", \"democratic\", \"detente\", \"detente\", \"detente\", \"detente\", \"determination\", \"determination\", \"determination\", \"determination\", \"determination\", \"determination\", \"determination\", \"determination\", \"determination\", \"determination\", \"developed\", \"developed\", \"developed\", \"developed\", \"developed\", \"developed\", \"developed\", \"developed\", \"developed\", \"developing\", \"developing\", \"developing\", \"developing\", \"developing\", \"developing\", \"developing\", \"developing\", \"developing\", \"developments\", \"developments\", \"developments\", \"developments\", \"developments\", \"developments\", \"developments\", \"developments\", \"developments\", \"dialogue\", \"dialogue\", \"dialogue\", \"dialogue\", \"dialogue\", \"dialogue\", \"dialogue\", \"dialogue\", \"dialogue\", \"did\", \"did\", \"did\", \"did\", \"did\", \"did\", \"did\", \"did\", \"did\", \"disarmament\", \"disarmament\", \"disarmament\", \"disarmament\", \"disarmament\", \"disarmament\", \"discrimination\", \"discrimination\", \"discrimination\", \"discrimination\", \"discrimination\", \"discrimination\", \"discrimination\", \"discrimination\", \"discrimination\", \"does\", \"does\", \"does\", \"does\", \"does\", \"does\", \"does\", \"does\", \"does\", \"does\", \"domination\", \"domination\", \"domination\", \"domination\", \"domination\", \"early\", \"early\", \"early\", \"early\", \"early\", \"early\", \"early\", \"early\", \"early\", \"early\", \"earth\", \"earth\", \"earth\", \"earth\", \"earth\", \"earth\", \"earth\", \"east\", \"east\", \"east\", \"east\", \"east\", \"east\", \"east\", \"east\", \"east\", \"east\", \"eastern\", \"eastern\", \"eastern\", \"eastern\", \"eastern\", \"eastern\", \"eastern\", \"eastern\", \"eastern\", \"education\", \"education\", \"education\", \"education\", \"education\", \"education\", \"education\", \"effective\", \"effective\", \"effective\", \"effective\", \"effective\", \"effective\", \"effective\", \"effective\", \"effective\", \"effective\", \"effectiveness\", \"effectiveness\", \"effectiveness\", \"effectiveness\", \"effectiveness\", \"effectiveness\", \"effectiveness\", \"effectiveness\", \"effectiveness\", \"elections\", \"elections\", \"elections\", \"elections\", \"elections\", \"elections\", \"elections\", \"elections\", \"elimination\", \"elimination\", \"elimination\", \"elimination\", \"elimination\", \"elimination\", \"elimination\", \"elimination\", \"elimination\", \"end\", \"end\", \"end\", \"end\", \"end\", \"end\", \"end\", \"end\", \"end\", \"end\", \"energy\", \"energy\", \"energy\", \"energy\", \"energy\", \"energy\", \"energy\", \"energy\", \"enhance\", \"enhance\", \"enhance\", \"enhance\", \"enhance\", \"enhance\", \"environmental\", \"environmental\", \"environmental\", \"environmental\", \"environmental\", \"essential\", \"essential\", \"essential\", \"essential\", \"essential\", \"essential\", \"essential\", \"essential\", \"essential\", \"essential\", \"ethnic\", \"ethnic\", \"ethnic\", \"ethnic\", \"ethnic\", \"europe\", \"europe\", \"europe\", \"europe\", \"europe\", \"european\", \"european\", \"european\", \"european\", \"european\", \"european\", \"european\", \"exploitation\", \"exploitation\", \"exploitation\", \"exploitation\", \"exploitation\", \"exploitation\", \"exploitation\", \"expression\", \"expression\", \"expression\", \"expression\", \"expression\", \"expression\", \"expression\", \"expression\", \"expression\", \"extent\", \"extent\", \"extent\", \"extent\", \"extent\", \"extent\", \"extent\", \"extent\", \"extent\", \"factors\", \"factors\", \"factors\", \"factors\", \"factors\", \"factors\", \"factors\", \"factors\", \"factors\", \"fear\", \"fear\", \"fear\", \"fear\", \"fear\", \"fear\", \"fear\", \"fear\", \"fight\", \"fight\", \"fight\", \"fight\", \"fight\", \"fight\", \"fight\", \"financial\", \"financial\", \"financial\", \"financial\", \"financial\", \"financial\", \"financial\", \"financial\", \"financial\", \"food\", \"food\", \"food\", \"food\", \"food\", \"food\", \"food\", \"food\", \"forces\", \"forces\", \"forces\", \"forces\", \"forces\", \"forces\", \"forces\", \"forces\", \"forces\", \"foreign\", \"foreign\", \"foreign\", \"foreign\", \"foreign\", \"foreign\", \"foreign\", \"foreign\", \"foreign\", \"foreign\", \"france\", \"france\", \"france\", \"france\", \"france\", \"france\", \"france\", \"freedom\", \"freedom\", \"freedom\", \"freedom\", \"freedom\", \"freedom\", \"freedom\", \"freedom\", \"freedom\", \"freedom\", \"friendship\", \"friendship\", \"friendship\", \"friendship\", \"friendship\", \"friendship\", \"friendship\", \"friendship\", \"fundamental\", \"fundamental\", \"fundamental\", \"fundamental\", \"fundamental\", \"fundamental\", \"fundamental\", \"fundamental\", \"fundamental\", \"future\", \"future\", \"future\", \"future\", \"future\", \"future\", \"future\", \"future\", \"future\", \"future\", \"geneva\", \"geneva\", \"geneva\", \"geneva\", \"geneva\", \"geneva\", \"geneva\", \"geneva\", \"germany\", \"germany\", \"germany\", \"germany\", \"germany\", \"germany\", \"germany\", \"germany\", \"global\", \"global\", \"global\", \"global\", \"global\", \"global\", \"global\", \"global\", \"global\", \"globalization\", \"globalization\", \"globalization\", \"globalization\", \"goals\", \"goals\", \"goals\", \"goals\", \"goals\", \"goals\", \"goals\", \"goals\", \"goals\", \"goals\", \"governance\", \"governance\", \"governance\", \"government\", \"government\", \"government\", \"government\", \"government\", \"government\", \"government\", \"government\", \"government\", \"government\", \"gratitude\", \"gratitude\", \"gratitude\", \"gratitude\", \"gratitude\", \"gratitude\", \"gratitude\", \"gratitude\", \"gratitude\", \"great\", \"great\", \"great\", \"great\", \"great\", \"great\", \"great\", \"great\", \"great\", \"great\", \"groups\", \"groups\", \"groups\", \"groups\", \"groups\", \"groups\", \"groups\", \"groups\", \"groups\", \"growth\", \"growth\", \"growth\", \"growth\", \"growth\", \"growth\", \"growth\", \"guinea\", \"guinea\", \"guinea\", \"guinea\", \"gulf\", \"gulf\", \"gulf\", \"gulf\", \"gulf\", \"gulf\", \"health\", \"health\", \"health\", \"health\", \"health\", \"health\", \"health\", \"history\", \"history\", \"history\", \"history\", \"history\", \"history\", \"history\", \"history\", \"history\", \"history\", \"hope\", \"hope\", \"hope\", \"hope\", \"hope\", \"hope\", \"hope\", \"hope\", \"hope\", \"hope\", \"human\", \"human\", \"human\", \"human\", \"human\", \"human\", \"human\", \"human\", \"human\", \"humanitarian\", \"humanitarian\", \"humanitarian\", \"humanitarian\", \"humanitarian\", \"humanitarian\", \"humanitarian\", \"humanitarian\", \"humanitarian\", \"humankind\", \"humankind\", \"humankind\", \"humankind\", \"illegal\", \"illegal\", \"illegal\", \"illegal\", \"illegal\", \"illegal\", \"illegal\", \"illegal\", \"impact\", \"impact\", \"impact\", \"impact\", \"impact\", \"impact\", \"impact\", \"impact\", \"impact\", \"important\", \"important\", \"important\", \"important\", \"important\", \"important\", \"important\", \"important\", \"important\", \"important\", \"imposed\", \"imposed\", \"imposed\", \"imposed\", \"imposed\", \"imposed\", \"imposed\", \"imposed\", \"imposed\", \"inalienable\", \"inalienable\", \"inalienable\", \"inalienable\", \"inalienable\", \"inalienable\", \"inalienable\", \"inalienable\", \"inalienable\", \"independence\", \"independence\", \"independence\", \"independence\", \"independence\", \"independence\", \"independence\", \"independence\", \"independence\", \"independence\", \"india\", \"india\", \"india\", \"india\", \"india\", \"indian\", \"indian\", \"indian\", \"indian\", \"indian\", \"industrialized\", \"industrialized\", \"industrialized\", \"industrialized\", \"industrialized\", \"industrialized\", \"industrialized\", \"innocent\", \"innocent\", \"innocent\", \"innocent\", \"innocent\", \"innocent\", \"innocent\", \"innocent\", \"instrument\", \"instrument\", \"instrument\", \"instrument\", \"instrument\", \"instrument\", \"instrument\", \"instrument\", \"instrument\", \"integration\", \"integration\", \"integration\", \"integration\", \"integration\", \"interdependence\", \"interdependence\", \"interdependence\", \"interdependence\", \"interdependence\", \"interdependence\", \"interdependence\", \"interests\", \"interests\", \"interests\", \"interests\", \"interests\", \"interests\", \"interests\", \"interests\", \"interests\", \"interests\", \"interference\", \"interference\", \"interference\", \"interference\", \"interference\", \"interference\", \"interference\", \"investment\", \"investment\", \"investment\", \"investment\", \"investment\", \"investment\", \"iran\", \"iran\", \"iran\", \"iran\", \"iran\", \"iraq\", \"iraq\", \"iraq\", \"iraq\", \"iraq\", \"iraq\", \"islamic\", \"islamic\", \"island\", \"island\", \"island\", \"island\", \"islands\", \"islands\", \"islands\", \"islands\", \"islands\", \"islands\", \"israel\", \"israel\", \"israel\", \"israel\", \"israel\", \"israel\", \"israel\", \"israel\", \"israeli\", \"israeli\", \"israeli\", \"israeli\", \"israeli\", \"israeli\", \"issues\", \"issues\", \"issues\", \"issues\", \"issues\", \"issues\", \"issues\", \"issues\", \"issues\", \"issues\", \"japan\", \"japan\", \"japan\", \"japan\", \"japan\", \"july\", \"july\", \"july\", \"july\", \"july\", \"july\", \"july\", \"july\", \"july\", \"just\", \"just\", \"just\", \"just\", \"just\", \"just\", \"just\", \"just\", \"just\", \"just\", \"kampuchea\", \"kampuchea\", \"kampuchea\", \"keeping\", \"keeping\", \"keeping\", \"keeping\", \"keeping\", \"keeping\", \"keeping\", \"keeping\", \"kingdom\", \"kingdom\", \"kingdom\", \"kingdom\", \"kingdom\", \"kingdom\", \"kingdom\", \"kingdom\", \"kingdom\", \"know\", \"know\", \"know\", \"know\", \"know\", \"know\", \"know\", \"know\", \"know\", \"korea\", \"korea\", \"korea\", \"korea\", \"korea\", \"korea\", \"korea\", \"korea\", \"korea\", \"korean\", \"korean\", \"korean\", \"korean\", \"land\", \"land\", \"land\", \"land\", \"land\", \"land\", \"land\", \"land\", \"land\", \"land\", \"lasting\", \"lasting\", \"lasting\", \"lasting\", \"lasting\", \"lasting\", \"lasting\", \"lasting\", \"lasting\", \"lasting\", \"latin\", \"latin\", \"latin\", \"latin\", \"law\", \"law\", \"law\", \"law\", \"law\", \"law\", \"law\", \"law\", \"law\", \"law\", \"lebanon\", \"lebanon\", \"lebanon\", \"lebanon\", \"lebanon\", \"lebanon\", \"left\", \"left\", \"left\", \"left\", \"left\", \"left\", \"left\", \"left\", \"left\", \"left\", \"legal\", \"legal\", \"legal\", \"legal\", \"legal\", \"legal\", \"legal\", \"legal\", \"legal\", \"legitimate\", \"legitimate\", \"legitimate\", \"legitimate\", \"legitimate\", \"legitimate\", \"legitimate\", \"legitimate\", \"legitimate\", \"legitimate\", \"let\", \"let\", \"let\", \"let\", \"let\", \"let\", \"let\", \"level\", \"level\", \"level\", \"level\", \"level\", \"level\", \"level\", \"level\", \"level\", \"level\", \"liberation\", \"liberation\", \"liberation\", \"liberation\", \"liberation\", \"liberation\", \"life\", \"life\", \"life\", \"life\", \"life\", \"life\", \"life\", \"life\", \"life\", \"life\", \"like\", \"like\", \"like\", \"like\", \"like\", \"like\", \"like\", \"like\", \"like\", \"like\", \"live\", \"live\", \"live\", \"live\", \"live\", \"live\", \"live\", \"live\", \"live\", \"live\", \"long\", \"long\", \"long\", \"long\", \"long\", \"long\", \"long\", \"long\", \"long\", \"long\", \"longer\", \"longer\", \"longer\", \"longer\", \"longer\", \"longer\", \"longer\", \"longer\", \"longer\", \"longer\", \"major\", \"major\", \"major\", \"major\", \"major\", \"major\", \"major\", \"major\", \"major\", \"major\", \"majority\", \"majority\", \"majority\", \"majority\", \"majority\", \"majority\", \"majority\", \"majority\", \"majority\", \"majority\", \"make\", \"make\", \"make\", \"make\", \"make\", \"make\", \"make\", \"make\", \"make\", \"make\", \"man\", \"man\", \"man\", \"man\", \"man\", \"mankind\", \"mankind\", \"mankind\", \"mankind\", \"mankind\", \"mankind\", \"mankind\", \"markets\", \"markets\", \"markets\", \"markets\", \"markets\", \"markets\", \"markets\", \"matters\", \"matters\", \"matters\", \"matters\", \"matters\", \"matters\", \"matters\", \"matters\", \"matters\", \"matters\", \"means\", \"means\", \"means\", \"means\", \"means\", \"means\", \"means\", \"means\", \"means\", \"means\", \"measures\", \"measures\", \"measures\", \"measures\", \"measures\", \"measures\", \"measures\", \"measures\", \"measures\", \"mechanisms\", \"mechanisms\", \"mechanisms\", \"mechanisms\", \"mechanisms\", \"mechanisms\", \"mechanisms\", \"member\", \"member\", \"member\", \"member\", \"member\", \"member\", \"member\", \"member\", \"member\", \"member\", \"members\", \"members\", \"members\", \"members\", \"members\", \"members\", \"members\", \"members\", \"members\", \"members\", \"membership\", \"membership\", \"membership\", \"membership\", \"membership\", \"membership\", \"membership\", \"membership\", \"membership\", \"men\", \"men\", \"men\", \"men\", \"men\", \"men\", \"middle\", \"middle\", \"middle\", \"middle\", \"middle\", \"middle\", \"middle\", \"middle\", \"middle\", \"middle\", \"military\", \"military\", \"military\", \"military\", \"military\", \"military\", \"military\", \"military\", \"military\", \"millennium\", \"millennium\", \"millennium\", \"million\", \"million\", \"million\", \"million\", \"million\", \"million\", \"million\", \"million\", \"million\", \"millions\", \"millions\", \"millions\", \"millions\", \"millions\", \"millions\", \"millions\", \"millions\", \"millions\", \"millions\", \"moment\", \"moment\", \"moment\", \"moment\", \"moment\", \"moment\", \"moment\", \"moment\", \"moment\", \"movement\", \"movement\", \"movement\", \"movement\", \"movement\", \"movement\", \"movement\", \"movement\", \"movement\", \"movement\", \"mr\", \"mr\", \"mr\", \"mr\", \"mr\", \"mr\", \"mr\", \"mr\", \"mr\", \"mr\", \"nam\", \"nam\", \"namibia\", \"namibia\", \"namibia\", \"namibia\", \"nation\", \"nation\", \"nation\", \"nation\", \"nation\", \"nation\", \"nation\", \"nation\", \"nation\", \"nation\", \"national\", \"national\", \"national\", \"national\", \"national\", \"national\", \"national\", \"national\", \"national\", \"national\", \"necessary\", \"necessary\", \"necessary\", \"necessary\", \"necessary\", \"necessary\", \"necessary\", \"necessary\", \"necessary\", \"necessary\", \"need\", \"need\", \"need\", \"need\", \"need\", \"need\", \"need\", \"need\", \"need\", \"negotiation\", \"negotiation\", \"negotiation\", \"negotiation\", \"negotiation\", \"negotiation\", \"negotiation\", \"negotiation\", \"negotiation\", \"negotiation\", \"negotiations\", \"negotiations\", \"negotiations\", \"negotiations\", \"negotiations\", \"negotiations\", \"negotiations\", \"negotiations\", \"negotiations\", \"neighbouring\", \"neighbouring\", \"neighbouring\", \"neighbouring\", \"neighbouring\", \"neighbouring\", \"neighbouring\", \"neighbouring\", \"non\", \"non\", \"non\", \"non\", \"non\", \"non\", \"non\", \"non\", \"non\", \"non\", \"nuclear\", \"nuclear\", \"nuclear\", \"nuclear\", \"nuclear\", \"nuclear\", \"nuclear\", \"nuclear\", \"oau\", \"oau\", \"occupation\", \"occupation\", \"occupation\", \"occupation\", \"occupation\", \"occupied\", \"occupied\", \"occupied\", \"occupied\", \"occupied\", \"ocean\", \"ocean\", \"ocean\", \"ocean\", \"ocean\", \"old\", \"old\", \"old\", \"old\", \"old\", \"old\", \"old\", \"old\", \"old\", \"old\", \"operation\", \"operation\", \"operation\", \"operation\", \"operation\", \"operation\", \"operations\", \"operations\", \"operations\", \"operations\", \"operations\", \"operations\", \"operations\", \"operations\", \"operations\", \"opinion\", \"opinion\", \"opinion\", \"opinion\", \"opinion\", \"opinion\", \"opinion\", \"opinion\", \"opinion\", \"order\", \"order\", \"order\", \"order\", \"order\", \"order\", \"order\", \"order\", \"order\", \"order\", \"organizations\", \"organizations\", \"organizations\", \"organizations\", \"organizations\", \"organizations\", \"organizations\", \"organizations\", \"organizations\", \"organizations\", \"pacific\", \"pacific\", \"pacific\", \"pacific\", \"pakistan\", \"pakistan\", \"pakistan\", \"pakistan\", \"palestine\", \"palestine\", \"palestine\", \"palestine\", \"palestine\", \"palestine\", \"palestine\", \"palestine\", \"palestinian\", \"palestinian\", \"palestinian\", \"palestinian\", \"palestinian\", \"palestinian\", \"palestinian\", \"palestinians\", \"palestinians\", \"palestinians\", \"palestinians\", \"palestinians\", \"palestinians\", \"parties\", \"parties\", \"parties\", \"parties\", \"parties\", \"parties\", \"parties\", \"parties\", \"parties\", \"partnership\", \"partnership\", \"partnership\", \"partnership\", \"partnership\", \"partnership\", \"party\", \"party\", \"party\", \"party\", \"party\", \"party\", \"party\", \"party\", \"party\", \"party\", \"past\", \"past\", \"past\", \"past\", \"past\", \"past\", \"past\", \"past\", \"past\", \"past\", \"peaceful\", \"peaceful\", \"peaceful\", \"peaceful\", \"peaceful\", \"peaceful\", \"peaceful\", \"peaceful\", \"peaceful\", \"peaceful\", \"peacekeeping\", \"peacekeeping\", \"peacekeeping\", \"peoples\", \"peoples\", \"peoples\", \"peoples\", \"peoples\", \"peoples\", \"peoples\", \"peoples\", \"peoples\", \"persons\", \"persons\", \"persons\", \"persons\", \"persons\", \"persons\", \"persons\", \"persons\", \"persons\", \"persons\", \"planet\", \"planet\", \"planet\", \"planet\", \"planet\", \"planet\", \"planet\", \"planet\", \"planet\", \"pleasure\", \"pleasure\", \"pleasure\", \"pleasure\", \"pleasure\", \"pleasure\", \"pleasure\", \"pleasure\", \"policy\", \"policy\", \"policy\", \"policy\", \"policy\", \"policy\", \"policy\", \"policy\", \"policy\", \"policy\", \"possible\", \"possible\", \"possible\", \"possible\", \"possible\", \"possible\", \"possible\", \"possible\", \"possible\", \"possible\", \"poverty\", \"poverty\", \"poverty\", \"poverty\", \"poverty\", \"poverty\", \"poverty\", \"poverty\", \"power\", \"power\", \"power\", \"power\", \"power\", \"power\", \"power\", \"power\", \"power\", \"power\", \"powerful\", \"powerful\", \"powerful\", \"powerful\", \"powerful\", \"powerful\", \"powerful\", \"powerful\", \"powers\", \"powers\", \"powers\", \"powers\", \"powers\", \"powers\", \"practical\", \"practical\", \"practical\", \"practical\", \"practical\", \"practical\", \"practical\", \"practical\", \"practical\", \"practices\", \"practices\", \"practices\", \"practices\", \"practices\", \"practices\", \"practices\", \"practices\", \"practices\", \"practices\", \"predecessor\", \"predecessor\", \"predecessor\", \"predecessor\", \"predecessor\", \"predecessor\", \"predecessor\", \"predecessor\", \"predecessor\", \"present\", \"present\", \"present\", \"present\", \"present\", \"present\", \"present\", \"present\", \"present\", \"present\", \"president\", \"president\", \"president\", \"president\", \"president\", \"president\", \"president\", \"president\", \"president\", \"president\", \"prevention\", \"prevention\", \"prevention\", \"prevention\", \"prevention\", \"prevention\", \"principles\", \"principles\", \"principles\", \"principles\", \"principles\", \"principles\", \"principles\", \"principles\", \"principles\", \"principles\", \"problem\", \"problem\", \"problem\", \"problem\", \"problem\", \"problem\", \"problem\", \"problem\", \"problem\", \"problem\", \"problems\", \"problems\", \"problems\", \"problems\", \"problems\", \"problems\", \"problems\", \"problems\", \"problems\", \"process\", \"process\", \"process\", \"process\", \"process\", \"process\", \"process\", \"process\", \"process\", \"process\", \"programme\", \"programme\", \"programme\", \"programme\", \"programme\", \"programme\", \"programme\", \"programme\", \"programme\", \"programme\", \"progress\", \"progress\", \"progress\", \"progress\", \"progress\", \"progress\", \"progress\", \"progress\", \"progress\", \"progress\", \"proliferation\", \"proliferation\", \"proliferation\", \"proliferation\", \"proliferation\", \"proliferation\", \"proliferation\", \"proposal\", \"proposal\", \"proposal\", \"proposal\", \"proposal\", \"proposal\", \"proposal\", \"proposal\", \"proposal\", \"proposal\", \"prospects\", \"prospects\", \"prospects\", \"prospects\", \"prospects\", \"prospects\", \"prospects\", \"prospects\", \"prospects\", \"protect\", \"protect\", \"protect\", \"protect\", \"protect\", \"protect\", \"protect\", \"protect\", \"protect\", \"protection\", \"protection\", \"protection\", \"protection\", \"protection\", \"protection\", \"protection\", \"protection\", \"protection\", \"racial\", \"racial\", \"racial\", \"racial\", \"racial\", \"racial\", \"racial\", \"racist\", \"racist\", \"racist\", \"reasons\", \"reasons\", \"reasons\", \"reasons\", \"reasons\", \"reasons\", \"reasons\", \"reasons\", \"reasons\", \"reasons\", \"recent\", \"recent\", \"recent\", \"recent\", \"recent\", \"recent\", \"recent\", \"recent\", \"recent\", \"recent\", \"reconciliation\", \"reconciliation\", \"reconciliation\", \"reconciliation\", \"reconciliation\", \"reconciliation\", \"reconciliation\", \"reconciliation\", \"reconstruction\", \"reconstruction\", \"reconstruction\", \"reconstruction\", \"reconstruction\", \"reconstruction\", \"reconstruction\", \"reconstruction\", \"reconstruction\", \"recovery\", \"recovery\", \"recovery\", \"recovery\", \"recovery\", \"recovery\", \"recovery\", \"reduction\", \"reduction\", \"reduction\", \"reduction\", \"reduction\", \"reduction\", \"reduction\", \"reform\", \"reform\", \"reform\", \"reform\", \"reform\", \"reform\", \"reform\", \"reform\", \"reform\", \"reforms\", \"reforms\", \"reforms\", \"reforms\", \"reforms\", \"reforms\", \"reforms\", \"reforms\", \"refugees\", \"refugees\", \"refugees\", \"refugees\", \"refugees\", \"refugees\", \"refugees\", \"regard\", \"regard\", \"regard\", \"regard\", \"regard\", \"regard\", \"regard\", \"regard\", \"regard\", \"regime\", \"regime\", \"regime\", \"regime\", \"regime\", \"regime\", \"regime\", \"regime\", \"regime\", \"regime\", \"region\", \"region\", \"region\", \"region\", \"region\", \"region\", \"region\", \"region\", \"region\", \"region\", \"regional\", \"regional\", \"regional\", \"regional\", \"regional\", \"regional\", \"regional\", \"regional\", \"regional\", \"regional\", \"relations\", \"relations\", \"relations\", \"relations\", \"relations\", \"relations\", \"relations\", \"relations\", \"relations\", \"republic\", \"republic\", \"republic\", \"republic\", \"republic\", \"republic\", \"republic\", \"republic\", \"republic\", \"resolution\", \"resolution\", \"resolution\", \"resolution\", \"resolution\", \"resolution\", \"resolution\", \"resolution\", \"resolution\", \"resolutions\", \"resolutions\", \"resolutions\", \"resolutions\", \"resolutions\", \"resolutions\", \"resolutions\", \"resolutions\", \"resolutions\", \"resources\", \"resources\", \"resources\", \"resources\", \"resources\", \"resources\", \"resources\", \"resources\", \"resources\", \"respect\", \"respect\", \"respect\", \"respect\", \"respect\", \"respect\", \"respect\", \"respect\", \"respect\", \"respect\", \"restore\", \"restore\", \"restore\", \"restore\", \"restore\", \"restore\", \"restore\", \"restore\", \"restore\", \"restore\", \"return\", \"return\", \"return\", \"return\", \"return\", \"return\", \"return\", \"return\", \"return\", \"return\", \"right\", \"right\", \"right\", \"right\", \"right\", \"right\", \"right\", \"right\", \"right\", \"right\", \"rights\", \"rights\", \"rights\", \"rights\", \"rights\", \"rights\", \"rights\", \"rights\", \"rights\", \"rights\", \"role\", \"role\", \"role\", \"role\", \"role\", \"role\", \"role\", \"role\", \"role\", \"role\", \"rule\", \"rule\", \"rule\", \"rule\", \"rule\", \"rule\", \"rule\", \"rule\", \"sahara\", \"sahara\", \"sahara\", \"sahara\", \"sahara\", \"said\", \"said\", \"said\", \"said\", \"said\", \"said\", \"said\", \"said\", \"said\", \"satisfaction\", \"satisfaction\", \"satisfaction\", \"satisfaction\", \"satisfaction\", \"satisfaction\", \"satisfaction\", \"say\", \"say\", \"say\", \"say\", \"say\", \"say\", \"say\", \"say\", \"say\", \"say\", \"sea\", \"sea\", \"sea\", \"sea\", \"sea\", \"sea\", \"sea\", \"sea\", \"secretary\", \"secretary\", \"secretary\", \"secretary\", \"secretary\", \"secretary\", \"secretary\", \"secretary\", \"secretary\", \"secretary\", \"sector\", \"sector\", \"sector\", \"sector\", \"sector\", \"sector\", \"sector\", \"self\", \"self\", \"self\", \"self\", \"self\", \"self\", \"self\", \"self\", \"self\", \"self\", \"september\", \"september\", \"september\", \"september\", \"september\", \"september\", \"september\", \"september\", \"september\", \"september\", \"settlement\", \"settlement\", \"settlement\", \"settlement\", \"settlement\", \"settlement\", \"settlement\", \"settlement\", \"situation\", \"situation\", \"situation\", \"situation\", \"situation\", \"situation\", \"situation\", \"situation\", \"situation\", \"situation\", \"small\", \"small\", \"small\", \"small\", \"small\", \"small\", \"small\", \"small\", \"small\", \"social\", \"social\", \"social\", \"social\", \"social\", \"social\", \"social\", \"social\", \"social\", \"social\", \"socialist\", \"socialist\", \"solidarity\", \"solidarity\", \"solidarity\", \"solidarity\", \"solidarity\", \"solidarity\", \"solidarity\", \"solidarity\", \"solidarity\", \"solution\", \"solution\", \"solution\", \"solution\", \"solution\", \"solution\", \"solution\", \"solution\", \"solution\", \"solution\", \"somalia\", \"somalia\", \"somalia\", \"somalia\", \"somalia\", \"south\", \"south\", \"south\", \"south\", \"south\", \"south\", \"south\", \"south\", \"south\", \"southern\", \"southern\", \"southern\", \"southern\", \"southern\", \"southern\", \"southern\", \"sovereignty\", \"sovereignty\", \"sovereignty\", \"sovereignty\", \"sovereignty\", \"sovereignty\", \"sovereignty\", \"sovereignty\", \"sovereignty\", \"soviet\", \"soviet\", \"soviet\", \"soviet\", \"space\", \"space\", \"space\", \"space\", \"space\", \"space\", \"space\", \"speak\", \"speak\", \"speak\", \"speak\", \"speak\", \"speak\", \"speak\", \"speak\", \"stability\", \"stability\", \"stability\", \"stability\", \"stability\", \"stability\", \"stability\", \"stability\", \"stability\", \"stability\", \"state\", \"state\", \"state\", \"state\", \"state\", \"state\", \"state\", \"state\", \"state\", \"state\", \"step\", \"step\", \"step\", \"step\", \"step\", \"step\", \"step\", \"step\", \"step\", \"step\", \"strengthening\", \"strengthening\", \"strengthening\", \"strengthening\", \"strengthening\", \"strengthening\", \"strengthening\", \"strengthening\", \"structures\", \"structures\", \"structures\", \"structures\", \"structures\", \"structures\", \"structures\", \"struggle\", \"struggle\", \"struggle\", \"struggle\", \"struggle\", \"struggle\", \"struggle\", \"struggle\", \"subject\", \"subject\", \"subject\", \"subject\", \"subject\", \"subject\", \"subject\", \"subject\", \"subject\", \"subject\", \"substantial\", \"substantial\", \"substantial\", \"substantial\", \"substantial\", \"substantial\", \"substantial\", \"substantial\", \"substantial\", \"substantial\", \"sudan\", \"sudan\", \"sudan\", \"sudan\", \"super\", \"super\", \"super\", \"super\", \"super\", \"super\", \"sustainable\", \"sustainable\", \"sustainable\", \"syria\", \"syria\", \"syria\", \"syria\", \"talks\", \"talks\", \"talks\", \"talks\", \"talks\", \"talks\", \"talks\", \"talks\", \"talks\", \"talks\", \"territories\", \"territories\", \"territories\", \"territories\", \"territories\", \"territories\", \"territories\", \"territories\", \"territory\", \"territory\", \"territory\", \"territory\", \"territory\", \"territory\", \"territory\", \"territory\", \"territory\", \"terrorism\", \"terrorism\", \"terrorism\", \"terrorism\", \"terrorism\", \"terrorism\", \"terrorism\", \"terrorism\", \"terrorist\", \"terrorist\", \"terrorist\", \"terrorist\", \"test\", \"test\", \"test\", \"test\", \"test\", \"test\", \"test\", \"thanks\", \"thanks\", \"thanks\", \"thanks\", \"thanks\", \"thanks\", \"thanks\", \"thanks\", \"thanks\", \"think\", \"think\", \"think\", \"think\", \"think\", \"think\", \"think\", \"think\", \"thirty\", \"thirty\", \"thirty\", \"thirty\", \"thirty\", \"thirty\", \"threats\", \"threats\", \"threats\", \"threats\", \"threats\", \"threats\", \"threats\", \"threats\", \"threats\", \"time\", \"time\", \"time\", \"time\", \"time\", \"time\", \"time\", \"time\", \"time\", \"time\", \"today\", \"today\", \"today\", \"today\", \"today\", \"today\", \"today\", \"today\", \"today\", \"today\", \"trade\", \"trade\", \"trade\", \"trade\", \"trade\", \"trade\", \"trade\", \"trade\", \"transition\", \"transition\", \"transition\", \"transition\", \"transition\", \"transition\", \"transition\", \"treaty\", \"treaty\", \"treaty\", \"treaty\", \"treaty\", \"treaty\", \"treaty\", \"treaty\", \"tribute\", \"tribute\", \"tribute\", \"tribute\", \"tribute\", \"tribute\", \"tribute\", \"tribute\", \"tribute\", \"troops\", \"troops\", \"troops\", \"troops\", \"troops\", \"troops\", \"troops\", \"troops\", \"understand\", \"understand\", \"understand\", \"understand\", \"understand\", \"understand\", \"understand\", \"understand\", \"understand\", \"understanding\", \"understanding\", \"understanding\", \"understanding\", \"understanding\", \"understanding\", \"understanding\", \"understanding\", \"understanding\", \"understanding\", \"undertaken\", \"undertaken\", \"undertaken\", \"undertaken\", \"undertaken\", \"undertaken\", \"undertaken\", \"undertaken\", \"undertaken\", \"undertaken\", \"union\", \"union\", \"union\", \"union\", \"union\", \"union\", \"union\", \"union\", \"unity\", \"unity\", \"unity\", \"unity\", \"unity\", \"unity\", \"unity\", \"unity\", \"victims\", \"victims\", \"victims\", \"victims\", \"victims\", \"victims\", \"victims\", \"victims\", \"victims\", \"victims\", \"viet\", \"viet\", \"violation\", \"violation\", \"violation\", \"violation\", \"violation\", \"violation\", \"violation\", \"violation\", \"violence\", \"violence\", \"violence\", \"violence\", \"violence\", \"violence\", \"violence\", \"violence\", \"vulnerable\", \"vulnerable\", \"vulnerable\", \"vulnerable\", \"vulnerable\", \"vulnerable\", \"vulnerable\", \"want\", \"want\", \"want\", \"want\", \"want\", \"want\", \"want\", \"want\", \"want\", \"want\", \"war\", \"war\", \"war\", \"war\", \"war\", \"war\", \"war\", \"war\", \"war\", \"wars\", \"wars\", \"wars\", \"wars\", \"wars\", \"wars\", \"wars\", \"wars\", \"wars\", \"water\", \"water\", \"water\", \"water\", \"water\", \"water\", \"water\", \"water\", \"way\", \"way\", \"way\", \"way\", \"way\", \"way\", \"way\", \"way\", \"way\", \"way\", \"wealth\", \"wealth\", \"wealth\", \"wealth\", \"wealth\", \"wealth\", \"wealth\", \"wealth\", \"weapon\", \"weapon\", \"weapon\", \"weapon\", \"weapon\", \"weapon\", \"weapons\", \"weapons\", \"weapons\", \"weapons\", \"weapons\", \"weapons\", \"weapons\", \"weapons\", \"weapons\", \"weapons\", \"welcomes\", \"welcomes\", \"welcomes\", \"welcomes\", \"welcomes\", \"welcomes\", \"welcomes\", \"welcomes\", \"welcomes\", \"western\", \"western\", \"western\", \"western\", \"western\", \"western\", \"western\", \"western\", \"western\", \"western\", \"wide\", \"wide\", \"wide\", \"wide\", \"wide\", \"wide\", \"wide\", \"wide\", \"wide\", \"wide\", \"withdrawal\", \"withdrawal\", \"withdrawal\", \"withdrawal\", \"withdrawal\", \"women\", \"women\", \"women\", \"women\", \"women\", \"women\", \"women\", \"women\", \"words\", \"words\", \"words\", \"words\", \"words\", \"words\", \"words\", \"words\", \"words\", \"work\", \"work\", \"work\", \"work\", \"work\", \"work\", \"work\", \"work\", \"work\", \"work\", \"year\", \"year\", \"year\", \"year\", \"year\", \"year\", \"year\", \"year\", \"year\", \"year\", \"years\", \"years\", \"years\", \"years\", \"years\", \"years\", \"years\", \"years\", \"years\", \"years\", \"zimbabwe\", \"zimbabwe\", \"zimbabwe\", \"zimbabwe\"]}, \"R\": 30, \"lambda.step\": 0.01, \"plot.opts\": {\"xlab\": \"PC1\", \"ylab\": \"PC2\"}, \"topic.order\": [10, 9, 6, 1, 3, 4, 5, 8, 7, 2]};\n",
       "\n",
       "function LDAvis_load_lib(url, callback){\n",
       "  var s = document.createElement('script');\n",
       "  s.src = url;\n",
       "  s.async = true;\n",
       "  s.onreadystatechange = s.onload = callback;\n",
       "  s.onerror = function(){console.warn(\"failed to load library \" + url);};\n",
       "  document.getElementsByTagName(\"head\")[0].appendChild(s);\n",
       "}\n",
       "\n",
       "if(typeof(LDAvis) !== \"undefined\"){\n",
       "   // already loaded: just create the visualization\n",
       "   !function(LDAvis){\n",
       "       new LDAvis(\"#\" + \"ldavis_el83681123032670246581279818\", ldavis_el83681123032670246581279818_data);\n",
       "   }(LDAvis);\n",
       "}else if(typeof define === \"function\" && define.amd){\n",
       "   // require.js is available: use it to load d3/LDAvis\n",
       "   require.config({paths: {d3: \"https://cdnjs.cloudflare.com/ajax/libs/d3/3.5.5/d3.min\"}});\n",
       "   require([\"d3\"], function(d3){\n",
       "      window.d3 = d3;\n",
       "      LDAvis_load_lib(\"https://cdn.rawgit.com/bmabey/pyLDAvis/files/ldavis.v1.0.0.js\", function(){\n",
       "        new LDAvis(\"#\" + \"ldavis_el83681123032670246581279818\", ldavis_el83681123032670246581279818_data);\n",
       "      });\n",
       "    });\n",
       "}else{\n",
       "    // require.js not available: dynamically load d3 & LDAvis\n",
       "    LDAvis_load_lib(\"https://cdnjs.cloudflare.com/ajax/libs/d3/3.5.5/d3.min.js\", function(){\n",
       "         LDAvis_load_lib(\"https://cdn.rawgit.com/bmabey/pyLDAvis/files/ldavis.v1.0.0.js\", function(){\n",
       "                 new LDAvis(\"#\" + \"ldavis_el83681123032670246581279818\", ldavis_el83681123032670246581279818_data);\n",
       "            })\n",
       "         });\n",
       "}\n",
       "</script>"
      ],
      "text/plain": [
       "PreparedData(topic_coordinates=               x          y  topics  cluster       Freq\n",
       "topic                                                  \n",
       "9      32.420952   8.115230       1        1  15.685445\n",
       "8       0.648955  71.707100       2        1  11.938681\n",
       "5      71.019684   9.971006       3        1  11.476571\n",
       "0       3.785981  33.185135       4        1  11.001189\n",
       "2     -42.666500  -9.222070       5        1  10.038386\n",
       "3      -3.621689 -43.526516       6        1   9.753630\n",
       "4      -3.632402  -4.171708       7        1   9.742901\n",
       "7     -36.584400  35.804413       8        1   7.274697\n",
       "6      44.391380  50.615383       9        1   7.024011\n",
       "1      40.235809 -31.591665      10        1   6.064491, topic_info=           Term          Freq         Total Category  logprob  loglift\n",
       "39       africa  31399.000000  31399.000000  Default  30.0000  30.0000\n",
       "611     nuclear  22925.000000  22925.000000  Default  29.0000  29.0000\n",
       "40      african  18214.000000  18214.000000  Default  28.0000  28.0000\n",
       "780    republic  23371.000000  23371.000000  Default  27.0000  27.0000\n",
       "921   terrorism  11763.000000  11763.000000  Default  26.0000  26.0000\n",
       "..          ...           ...           ...      ...      ...      ...\n",
       "484   interests   1881.821461  10638.953929  Topic10  -5.1839   1.0704\n",
       "845   situation   2351.176662  22625.844439  Topic10  -4.9612   0.5385\n",
       "876       state   2178.857984  23912.142249  Topic10  -5.0373   0.4071\n",
       "408  government   2289.452706  37628.622757  Topic10  -4.9878   0.0033\n",
       "292        east   2024.200303  18718.615344  Topic10  -5.1110   0.5784\n",
       "\n",
       "[565 rows x 6 columns], token_table=      Topic      Freq      Term\n",
       "term                           \n",
       "0         2  0.051096       000\n",
       "0         4  0.482842       000\n",
       "0         5  0.030521       000\n",
       "0         6  0.065156       000\n",
       "0         7  0.073387       000\n",
       "...     ...       ...       ...\n",
       "997      10  0.039706     years\n",
       "998       1  0.002009  zimbabwe\n",
       "998       2  0.023700  zimbabwe\n",
       "998       6  0.965291  zimbabwe\n",
       "998      10  0.008436  zimbabwe\n",
       "\n",
       "[3127 rows x 3 columns], R=30, lambda_step=0.01, plot_opts={'xlab': 'PC1', 'ylab': 'PC2'}, topic_order=[10, 9, 6, 1, 3, 4, 5, 8, 7, 2])"
      ]
     },
     "execution_count": 29,
     "metadata": {},
     "output_type": "execute_result"
    }
   ],
   "source": [
    "pyLDAvis.sklearn.prepare(lda_model, un_word_counts, vectorizer, mds='tsne')"
   ]
  },
  {
   "cell_type": "code",
   "execution_count": 197,
   "metadata": {
    "slideshow": {
     "slide_type": "slide"
    }
   },
   "outputs": [],
   "source": [
    "#pyLDAvis.enable_notebook()\n",
    "#panel = pyLDAvis.sklearn.prepare(lda_model, un_word_counts, vectorizer, mds='tsne')\n",
    "#panel"
   ]
  },
  {
   "cell_type": "markdown",
   "metadata": {
    "slideshow": {
     "slide_type": "skip"
    }
   },
   "source": [
    "### Topic Modeling Exercise 2\n",
    "\n",
    "In your group, do 1 and 2 in 10_Topic_Modeling_group\n",
    "\n"
   ]
  },
  {
   "cell_type": "code",
   "execution_count": null,
   "metadata": {},
   "outputs": [],
   "source": []
  },
  {
   "cell_type": "markdown",
   "metadata": {
    "slideshow": {
     "slide_type": "slide"
    }
   },
   "source": [
    "## What documents are associated with what topics?"
   ]
  },
  {
   "cell_type": "code",
   "execution_count": 126,
   "metadata": {},
   "outputs": [],
   "source": [
    "from pdtext.tm import topic_pred"
   ]
  },
  {
   "cell_type": "code",
   "execution_count": 130,
   "metadata": {
    "slideshow": {
     "slide_type": "slide"
    }
   },
   "outputs": [],
   "source": [
    "un_topics = topic_pred(lda_model, un_word_counts, vectorizer)"
   ]
  },
  {
   "cell_type": "code",
   "execution_count": 131,
   "metadata": {
    "slideshow": {
     "slide_type": "fragment"
    }
   },
   "outputs": [
    {
     "data": {
      "text/html": [
       "<div>\n",
       "<style scoped>\n",
       "    .dataframe tbody tr th:only-of-type {\n",
       "        vertical-align: middle;\n",
       "    }\n",
       "\n",
       "    .dataframe tbody tr th {\n",
       "        vertical-align: top;\n",
       "    }\n",
       "\n",
       "    .dataframe thead th {\n",
       "        text-align: right;\n",
       "    }\n",
       "</style>\n",
       "<table border=\"1\" class=\"dataframe\">\n",
       "  <thead>\n",
       "    <tr style=\"text-align: right;\">\n",
       "      <th></th>\n",
       "      <th>developing_south_trade</th>\n",
       "      <th>human_today_war</th>\n",
       "      <th>peoples_social_government</th>\n",
       "      <th>nuclear_weapons_soviet</th>\n",
       "      <th>global_change_climate</th>\n",
       "      <th>africa_south_independence</th>\n",
       "      <th>israel_arab_palestinian</th>\n",
       "      <th>human_rights_council</th>\n",
       "      <th>africa_african_government</th>\n",
       "      <th>problems_operation_government</th>\n",
       "    </tr>\n",
       "  </thead>\n",
       "  <tbody>\n",
       "    <tr>\n",
       "      <th>0</th>\n",
       "      <td>0.301417</td>\n",
       "      <td>0.000126</td>\n",
       "      <td>0.000126</td>\n",
       "      <td>0.123103</td>\n",
       "      <td>0.125208</td>\n",
       "      <td>0.098048</td>\n",
       "      <td>0.172829</td>\n",
       "      <td>0.005017</td>\n",
       "      <td>0.078136</td>\n",
       "      <td>0.095991</td>\n",
       "    </tr>\n",
       "    <tr>\n",
       "      <th>1</th>\n",
       "      <td>0.270243</td>\n",
       "      <td>0.000132</td>\n",
       "      <td>0.000132</td>\n",
       "      <td>0.030607</td>\n",
       "      <td>0.072022</td>\n",
       "      <td>0.000132</td>\n",
       "      <td>0.025798</td>\n",
       "      <td>0.276099</td>\n",
       "      <td>0.000132</td>\n",
       "      <td>0.324704</td>\n",
       "    </tr>\n",
       "    <tr>\n",
       "      <th>2</th>\n",
       "      <td>0.107989</td>\n",
       "      <td>0.031339</td>\n",
       "      <td>0.102842</td>\n",
       "      <td>0.078691</td>\n",
       "      <td>0.000076</td>\n",
       "      <td>0.161911</td>\n",
       "      <td>0.065419</td>\n",
       "      <td>0.000076</td>\n",
       "      <td>0.328185</td>\n",
       "      <td>0.123472</td>\n",
       "    </tr>\n",
       "    <tr>\n",
       "      <th>3</th>\n",
       "      <td>0.293397</td>\n",
       "      <td>0.067417</td>\n",
       "      <td>0.414592</td>\n",
       "      <td>0.006980</td>\n",
       "      <td>0.000144</td>\n",
       "      <td>0.028637</td>\n",
       "      <td>0.049319</td>\n",
       "      <td>0.022536</td>\n",
       "      <td>0.006639</td>\n",
       "      <td>0.110339</td>\n",
       "    </tr>\n",
       "    <tr>\n",
       "      <th>4</th>\n",
       "      <td>0.251379</td>\n",
       "      <td>0.030322</td>\n",
       "      <td>0.000089</td>\n",
       "      <td>0.060589</td>\n",
       "      <td>0.000089</td>\n",
       "      <td>0.317255</td>\n",
       "      <td>0.000089</td>\n",
       "      <td>0.000089</td>\n",
       "      <td>0.214598</td>\n",
       "      <td>0.125502</td>\n",
       "    </tr>\n",
       "    <tr>\n",
       "      <th>5</th>\n",
       "      <td>0.487231</td>\n",
       "      <td>0.290527</td>\n",
       "      <td>0.000218</td>\n",
       "      <td>0.038260</td>\n",
       "      <td>0.000218</td>\n",
       "      <td>0.000218</td>\n",
       "      <td>0.000218</td>\n",
       "      <td>0.000218</td>\n",
       "      <td>0.078582</td>\n",
       "      <td>0.104311</td>\n",
       "    </tr>\n",
       "    <tr>\n",
       "      <th>6</th>\n",
       "      <td>0.219159</td>\n",
       "      <td>0.000121</td>\n",
       "      <td>0.000121</td>\n",
       "      <td>0.050204</td>\n",
       "      <td>0.000121</td>\n",
       "      <td>0.184625</td>\n",
       "      <td>0.240189</td>\n",
       "      <td>0.000121</td>\n",
       "      <td>0.264310</td>\n",
       "      <td>0.041030</td>\n",
       "    </tr>\n",
       "    <tr>\n",
       "      <th>7</th>\n",
       "      <td>0.067663</td>\n",
       "      <td>0.205348</td>\n",
       "      <td>0.071820</td>\n",
       "      <td>0.434893</td>\n",
       "      <td>0.000081</td>\n",
       "      <td>0.000081</td>\n",
       "      <td>0.000081</td>\n",
       "      <td>0.043781</td>\n",
       "      <td>0.000081</td>\n",
       "      <td>0.176169</td>\n",
       "    </tr>\n",
       "    <tr>\n",
       "      <th>8</th>\n",
       "      <td>0.078400</td>\n",
       "      <td>0.000091</td>\n",
       "      <td>0.068496</td>\n",
       "      <td>0.503846</td>\n",
       "      <td>0.000091</td>\n",
       "      <td>0.055677</td>\n",
       "      <td>0.116371</td>\n",
       "      <td>0.000091</td>\n",
       "      <td>0.067810</td>\n",
       "      <td>0.109128</td>\n",
       "    </tr>\n",
       "    <tr>\n",
       "      <th>9</th>\n",
       "      <td>0.181515</td>\n",
       "      <td>0.000075</td>\n",
       "      <td>0.100028</td>\n",
       "      <td>0.088061</td>\n",
       "      <td>0.000075</td>\n",
       "      <td>0.024280</td>\n",
       "      <td>0.066087</td>\n",
       "      <td>0.157928</td>\n",
       "      <td>0.120831</td>\n",
       "      <td>0.261120</td>\n",
       "    </tr>\n",
       "    <tr>\n",
       "      <th>10</th>\n",
       "      <td>0.270534</td>\n",
       "      <td>0.000110</td>\n",
       "      <td>0.081117</td>\n",
       "      <td>0.172568</td>\n",
       "      <td>0.000110</td>\n",
       "      <td>0.000110</td>\n",
       "      <td>0.032992</td>\n",
       "      <td>0.034264</td>\n",
       "      <td>0.171418</td>\n",
       "      <td>0.236778</td>\n",
       "    </tr>\n",
       "    <tr>\n",
       "      <th>11</th>\n",
       "      <td>0.223835</td>\n",
       "      <td>0.216902</td>\n",
       "      <td>0.221116</td>\n",
       "      <td>0.013816</td>\n",
       "      <td>0.000116</td>\n",
       "      <td>0.032746</td>\n",
       "      <td>0.018100</td>\n",
       "      <td>0.000116</td>\n",
       "      <td>0.000116</td>\n",
       "      <td>0.273139</td>\n",
       "    </tr>\n",
       "    <tr>\n",
       "      <th>12</th>\n",
       "      <td>0.102112</td>\n",
       "      <td>0.105866</td>\n",
       "      <td>0.402661</td>\n",
       "      <td>0.000102</td>\n",
       "      <td>0.000102</td>\n",
       "      <td>0.000102</td>\n",
       "      <td>0.000102</td>\n",
       "      <td>0.000102</td>\n",
       "      <td>0.162878</td>\n",
       "      <td>0.225970</td>\n",
       "    </tr>\n",
       "    <tr>\n",
       "      <th>13</th>\n",
       "      <td>0.352131</td>\n",
       "      <td>0.000082</td>\n",
       "      <td>0.000082</td>\n",
       "      <td>0.249246</td>\n",
       "      <td>0.000082</td>\n",
       "      <td>0.060548</td>\n",
       "      <td>0.110378</td>\n",
       "      <td>0.112450</td>\n",
       "      <td>0.032574</td>\n",
       "      <td>0.082428</td>\n",
       "    </tr>\n",
       "    <tr>\n",
       "      <th>14</th>\n",
       "      <td>0.214703</td>\n",
       "      <td>0.017751</td>\n",
       "      <td>0.000094</td>\n",
       "      <td>0.183905</td>\n",
       "      <td>0.112329</td>\n",
       "      <td>0.140497</td>\n",
       "      <td>0.088818</td>\n",
       "      <td>0.095409</td>\n",
       "      <td>0.043307</td>\n",
       "      <td>0.103186</td>\n",
       "    </tr>\n",
       "    <tr>\n",
       "      <th>15</th>\n",
       "      <td>0.093075</td>\n",
       "      <td>0.000105</td>\n",
       "      <td>0.248948</td>\n",
       "      <td>0.046088</td>\n",
       "      <td>0.000105</td>\n",
       "      <td>0.000105</td>\n",
       "      <td>0.000105</td>\n",
       "      <td>0.154740</td>\n",
       "      <td>0.148114</td>\n",
       "      <td>0.308617</td>\n",
       "    </tr>\n",
       "    <tr>\n",
       "      <th>16</th>\n",
       "      <td>0.395844</td>\n",
       "      <td>0.387290</td>\n",
       "      <td>0.154646</td>\n",
       "      <td>0.036583</td>\n",
       "      <td>0.000137</td>\n",
       "      <td>0.000137</td>\n",
       "      <td>0.000137</td>\n",
       "      <td>0.000137</td>\n",
       "      <td>0.000137</td>\n",
       "      <td>0.024950</td>\n",
       "    </tr>\n",
       "    <tr>\n",
       "      <th>17</th>\n",
       "      <td>0.157715</td>\n",
       "      <td>0.020027</td>\n",
       "      <td>0.075238</td>\n",
       "      <td>0.308507</td>\n",
       "      <td>0.000105</td>\n",
       "      <td>0.000105</td>\n",
       "      <td>0.000105</td>\n",
       "      <td>0.234775</td>\n",
       "      <td>0.000105</td>\n",
       "      <td>0.203319</td>\n",
       "    </tr>\n",
       "    <tr>\n",
       "      <th>18</th>\n",
       "      <td>0.116411</td>\n",
       "      <td>0.000103</td>\n",
       "      <td>0.000103</td>\n",
       "      <td>0.107101</td>\n",
       "      <td>0.000103</td>\n",
       "      <td>0.066615</td>\n",
       "      <td>0.265658</td>\n",
       "      <td>0.000103</td>\n",
       "      <td>0.239071</td>\n",
       "      <td>0.204733</td>\n",
       "    </tr>\n",
       "    <tr>\n",
       "      <th>19</th>\n",
       "      <td>0.399845</td>\n",
       "      <td>0.136777</td>\n",
       "      <td>0.100532</td>\n",
       "      <td>0.069169</td>\n",
       "      <td>0.088296</td>\n",
       "      <td>0.028641</td>\n",
       "      <td>0.030760</td>\n",
       "      <td>0.000134</td>\n",
       "      <td>0.000134</td>\n",
       "      <td>0.145712</td>\n",
       "    </tr>\n",
       "    <tr>\n",
       "      <th>20</th>\n",
       "      <td>0.250176</td>\n",
       "      <td>0.000093</td>\n",
       "      <td>0.037069</td>\n",
       "      <td>0.000093</td>\n",
       "      <td>0.000093</td>\n",
       "      <td>0.153535</td>\n",
       "      <td>0.223641</td>\n",
       "      <td>0.026643</td>\n",
       "      <td>0.184434</td>\n",
       "      <td>0.124222</td>\n",
       "    </tr>\n",
       "    <tr>\n",
       "      <th>21</th>\n",
       "      <td>0.298819</td>\n",
       "      <td>0.056452</td>\n",
       "      <td>0.289709</td>\n",
       "      <td>0.034458</td>\n",
       "      <td>0.011932</td>\n",
       "      <td>0.000140</td>\n",
       "      <td>0.000140</td>\n",
       "      <td>0.104124</td>\n",
       "      <td>0.000140</td>\n",
       "      <td>0.204087</td>\n",
       "    </tr>\n",
       "    <tr>\n",
       "      <th>22</th>\n",
       "      <td>0.238441</td>\n",
       "      <td>0.117630</td>\n",
       "      <td>0.037088</td>\n",
       "      <td>0.204179</td>\n",
       "      <td>0.000152</td>\n",
       "      <td>0.000152</td>\n",
       "      <td>0.000152</td>\n",
       "      <td>0.074073</td>\n",
       "      <td>0.069852</td>\n",
       "      <td>0.258282</td>\n",
       "    </tr>\n",
       "    <tr>\n",
       "      <th>23</th>\n",
       "      <td>0.093209</td>\n",
       "      <td>0.000249</td>\n",
       "      <td>0.000249</td>\n",
       "      <td>0.011145</td>\n",
       "      <td>0.000249</td>\n",
       "      <td>0.259470</td>\n",
       "      <td>0.290397</td>\n",
       "      <td>0.000249</td>\n",
       "      <td>0.239130</td>\n",
       "      <td>0.105651</td>\n",
       "    </tr>\n",
       "    <tr>\n",
       "      <th>24</th>\n",
       "      <td>0.288128</td>\n",
       "      <td>0.000060</td>\n",
       "      <td>0.168409</td>\n",
       "      <td>0.034340</td>\n",
       "      <td>0.000060</td>\n",
       "      <td>0.155457</td>\n",
       "      <td>0.010771</td>\n",
       "      <td>0.000060</td>\n",
       "      <td>0.289834</td>\n",
       "      <td>0.052881</td>\n",
       "    </tr>\n",
       "    <tr>\n",
       "      <th>25</th>\n",
       "      <td>0.309646</td>\n",
       "      <td>0.221076</td>\n",
       "      <td>0.000105</td>\n",
       "      <td>0.138814</td>\n",
       "      <td>0.000105</td>\n",
       "      <td>0.012882</td>\n",
       "      <td>0.022345</td>\n",
       "      <td>0.180003</td>\n",
       "      <td>0.000105</td>\n",
       "      <td>0.114919</td>\n",
       "    </tr>\n",
       "    <tr>\n",
       "      <th>26</th>\n",
       "      <td>0.041057</td>\n",
       "      <td>0.058011</td>\n",
       "      <td>0.233239</td>\n",
       "      <td>0.209801</td>\n",
       "      <td>0.000126</td>\n",
       "      <td>0.180574</td>\n",
       "      <td>0.065938</td>\n",
       "      <td>0.000126</td>\n",
       "      <td>0.000126</td>\n",
       "      <td>0.211002</td>\n",
       "    </tr>\n",
       "    <tr>\n",
       "      <th>27</th>\n",
       "      <td>0.009622</td>\n",
       "      <td>0.000090</td>\n",
       "      <td>0.000090</td>\n",
       "      <td>0.143527</td>\n",
       "      <td>0.000090</td>\n",
       "      <td>0.083024</td>\n",
       "      <td>0.112966</td>\n",
       "      <td>0.252836</td>\n",
       "      <td>0.115971</td>\n",
       "      <td>0.281783</td>\n",
       "    </tr>\n",
       "    <tr>\n",
       "      <th>28</th>\n",
       "      <td>0.193858</td>\n",
       "      <td>0.181530</td>\n",
       "      <td>0.001449</td>\n",
       "      <td>0.000181</td>\n",
       "      <td>0.042204</td>\n",
       "      <td>0.191812</td>\n",
       "      <td>0.045324</td>\n",
       "      <td>0.072168</td>\n",
       "      <td>0.271293</td>\n",
       "      <td>0.000181</td>\n",
       "    </tr>\n",
       "    <tr>\n",
       "      <th>29</th>\n",
       "      <td>0.555281</td>\n",
       "      <td>0.000118</td>\n",
       "      <td>0.013046</td>\n",
       "      <td>0.103990</td>\n",
       "      <td>0.000118</td>\n",
       "      <td>0.046533</td>\n",
       "      <td>0.034432</td>\n",
       "      <td>0.091404</td>\n",
       "      <td>0.000118</td>\n",
       "      <td>0.154959</td>\n",
       "    </tr>\n",
       "    <tr>\n",
       "      <th>...</th>\n",
       "      <td>...</td>\n",
       "      <td>...</td>\n",
       "      <td>...</td>\n",
       "      <td>...</td>\n",
       "      <td>...</td>\n",
       "      <td>...</td>\n",
       "      <td>...</td>\n",
       "      <td>...</td>\n",
       "      <td>...</td>\n",
       "      <td>...</td>\n",
       "    </tr>\n",
       "    <tr>\n",
       "      <th>7477</th>\n",
       "      <td>0.053651</td>\n",
       "      <td>0.668805</td>\n",
       "      <td>0.000270</td>\n",
       "      <td>0.000270</td>\n",
       "      <td>0.000270</td>\n",
       "      <td>0.000270</td>\n",
       "      <td>0.096918</td>\n",
       "      <td>0.086491</td>\n",
       "      <td>0.092783</td>\n",
       "      <td>0.000270</td>\n",
       "    </tr>\n",
       "    <tr>\n",
       "      <th>7478</th>\n",
       "      <td>0.000147</td>\n",
       "      <td>0.198307</td>\n",
       "      <td>0.038278</td>\n",
       "      <td>0.000147</td>\n",
       "      <td>0.048294</td>\n",
       "      <td>0.000147</td>\n",
       "      <td>0.025634</td>\n",
       "      <td>0.465167</td>\n",
       "      <td>0.050826</td>\n",
       "      <td>0.173055</td>\n",
       "    </tr>\n",
       "    <tr>\n",
       "      <th>7479</th>\n",
       "      <td>0.000221</td>\n",
       "      <td>0.124784</td>\n",
       "      <td>0.051915</td>\n",
       "      <td>0.000221</td>\n",
       "      <td>0.114501</td>\n",
       "      <td>0.000221</td>\n",
       "      <td>0.000221</td>\n",
       "      <td>0.000221</td>\n",
       "      <td>0.707475</td>\n",
       "      <td>0.000221</td>\n",
       "    </tr>\n",
       "    <tr>\n",
       "      <th>7480</th>\n",
       "      <td>0.118236</td>\n",
       "      <td>0.503820</td>\n",
       "      <td>0.014823</td>\n",
       "      <td>0.000200</td>\n",
       "      <td>0.206134</td>\n",
       "      <td>0.000200</td>\n",
       "      <td>0.000200</td>\n",
       "      <td>0.016031</td>\n",
       "      <td>0.000200</td>\n",
       "      <td>0.140154</td>\n",
       "    </tr>\n",
       "    <tr>\n",
       "      <th>7481</th>\n",
       "      <td>0.000261</td>\n",
       "      <td>0.132779</td>\n",
       "      <td>0.000261</td>\n",
       "      <td>0.045064</td>\n",
       "      <td>0.000261</td>\n",
       "      <td>0.000261</td>\n",
       "      <td>0.000261</td>\n",
       "      <td>0.353997</td>\n",
       "      <td>0.387570</td>\n",
       "      <td>0.079284</td>\n",
       "    </tr>\n",
       "    <tr>\n",
       "      <th>7482</th>\n",
       "      <td>0.178941</td>\n",
       "      <td>0.149484</td>\n",
       "      <td>0.095690</td>\n",
       "      <td>0.097302</td>\n",
       "      <td>0.096201</td>\n",
       "      <td>0.000113</td>\n",
       "      <td>0.013201</td>\n",
       "      <td>0.368842</td>\n",
       "      <td>0.000113</td>\n",
       "      <td>0.000113</td>\n",
       "    </tr>\n",
       "    <tr>\n",
       "      <th>7483</th>\n",
       "      <td>0.230898</td>\n",
       "      <td>0.361087</td>\n",
       "      <td>0.000324</td>\n",
       "      <td>0.023942</td>\n",
       "      <td>0.332354</td>\n",
       "      <td>0.000324</td>\n",
       "      <td>0.000324</td>\n",
       "      <td>0.050101</td>\n",
       "      <td>0.000324</td>\n",
       "      <td>0.000324</td>\n",
       "    </tr>\n",
       "    <tr>\n",
       "      <th>7484</th>\n",
       "      <td>0.076637</td>\n",
       "      <td>0.104113</td>\n",
       "      <td>0.191002</td>\n",
       "      <td>0.000162</td>\n",
       "      <td>0.000162</td>\n",
       "      <td>0.000162</td>\n",
       "      <td>0.223006</td>\n",
       "      <td>0.157240</td>\n",
       "      <td>0.247357</td>\n",
       "      <td>0.000162</td>\n",
       "    </tr>\n",
       "    <tr>\n",
       "      <th>7485</th>\n",
       "      <td>0.038375</td>\n",
       "      <td>0.298646</td>\n",
       "      <td>0.068586</td>\n",
       "      <td>0.000137</td>\n",
       "      <td>0.000137</td>\n",
       "      <td>0.000137</td>\n",
       "      <td>0.021559</td>\n",
       "      <td>0.446689</td>\n",
       "      <td>0.125596</td>\n",
       "      <td>0.000137</td>\n",
       "    </tr>\n",
       "    <tr>\n",
       "      <th>7486</th>\n",
       "      <td>0.000158</td>\n",
       "      <td>0.133071</td>\n",
       "      <td>0.000158</td>\n",
       "      <td>0.000158</td>\n",
       "      <td>0.143062</td>\n",
       "      <td>0.269027</td>\n",
       "      <td>0.023505</td>\n",
       "      <td>0.159728</td>\n",
       "      <td>0.270977</td>\n",
       "      <td>0.000158</td>\n",
       "    </tr>\n",
       "    <tr>\n",
       "      <th>7487</th>\n",
       "      <td>0.279970</td>\n",
       "      <td>0.115969</td>\n",
       "      <td>0.108914</td>\n",
       "      <td>0.000210</td>\n",
       "      <td>0.493888</td>\n",
       "      <td>0.000210</td>\n",
       "      <td>0.000210</td>\n",
       "      <td>0.000210</td>\n",
       "      <td>0.000210</td>\n",
       "      <td>0.000210</td>\n",
       "    </tr>\n",
       "    <tr>\n",
       "      <th>7488</th>\n",
       "      <td>0.038846</td>\n",
       "      <td>0.246574</td>\n",
       "      <td>0.015719</td>\n",
       "      <td>0.084993</td>\n",
       "      <td>0.130535</td>\n",
       "      <td>0.000151</td>\n",
       "      <td>0.021856</td>\n",
       "      <td>0.461025</td>\n",
       "      <td>0.000151</td>\n",
       "      <td>0.000151</td>\n",
       "    </tr>\n",
       "    <tr>\n",
       "      <th>7489</th>\n",
       "      <td>0.036554</td>\n",
       "      <td>0.575203</td>\n",
       "      <td>0.000227</td>\n",
       "      <td>0.000227</td>\n",
       "      <td>0.000227</td>\n",
       "      <td>0.000227</td>\n",
       "      <td>0.000227</td>\n",
       "      <td>0.313892</td>\n",
       "      <td>0.000227</td>\n",
       "      <td>0.072987</td>\n",
       "    </tr>\n",
       "    <tr>\n",
       "      <th>7490</th>\n",
       "      <td>0.000264</td>\n",
       "      <td>0.116528</td>\n",
       "      <td>0.000264</td>\n",
       "      <td>0.000264</td>\n",
       "      <td>0.137465</td>\n",
       "      <td>0.000264</td>\n",
       "      <td>0.000264</td>\n",
       "      <td>0.084141</td>\n",
       "      <td>0.554760</td>\n",
       "      <td>0.105786</td>\n",
       "    </tr>\n",
       "    <tr>\n",
       "      <th>7491</th>\n",
       "      <td>0.000104</td>\n",
       "      <td>0.188960</td>\n",
       "      <td>0.000104</td>\n",
       "      <td>0.094206</td>\n",
       "      <td>0.000104</td>\n",
       "      <td>0.054771</td>\n",
       "      <td>0.249903</td>\n",
       "      <td>0.254946</td>\n",
       "      <td>0.149618</td>\n",
       "      <td>0.007284</td>\n",
       "    </tr>\n",
       "    <tr>\n",
       "      <th>7492</th>\n",
       "      <td>0.000274</td>\n",
       "      <td>0.326905</td>\n",
       "      <td>0.000274</td>\n",
       "      <td>0.000274</td>\n",
       "      <td>0.000274</td>\n",
       "      <td>0.000274</td>\n",
       "      <td>0.000274</td>\n",
       "      <td>0.593043</td>\n",
       "      <td>0.000274</td>\n",
       "      <td>0.078134</td>\n",
       "    </tr>\n",
       "    <tr>\n",
       "      <th>7493</th>\n",
       "      <td>0.000138</td>\n",
       "      <td>0.000138</td>\n",
       "      <td>0.000138</td>\n",
       "      <td>0.190683</td>\n",
       "      <td>0.071588</td>\n",
       "      <td>0.000138</td>\n",
       "      <td>0.024387</td>\n",
       "      <td>0.566320</td>\n",
       "      <td>0.109739</td>\n",
       "      <td>0.036731</td>\n",
       "    </tr>\n",
       "    <tr>\n",
       "      <th>7494</th>\n",
       "      <td>0.140410</td>\n",
       "      <td>0.160624</td>\n",
       "      <td>0.008332</td>\n",
       "      <td>0.000221</td>\n",
       "      <td>0.144575</td>\n",
       "      <td>0.000221</td>\n",
       "      <td>0.047464</td>\n",
       "      <td>0.380246</td>\n",
       "      <td>0.117686</td>\n",
       "      <td>0.000221</td>\n",
       "    </tr>\n",
       "    <tr>\n",
       "      <th>7495</th>\n",
       "      <td>0.000227</td>\n",
       "      <td>0.141506</td>\n",
       "      <td>0.208968</td>\n",
       "      <td>0.000227</td>\n",
       "      <td>0.000227</td>\n",
       "      <td>0.000227</td>\n",
       "      <td>0.093380</td>\n",
       "      <td>0.394520</td>\n",
       "      <td>0.013317</td>\n",
       "      <td>0.147399</td>\n",
       "    </tr>\n",
       "    <tr>\n",
       "      <th>7496</th>\n",
       "      <td>0.069954</td>\n",
       "      <td>0.000204</td>\n",
       "      <td>0.080016</td>\n",
       "      <td>0.134016</td>\n",
       "      <td>0.366539</td>\n",
       "      <td>0.000204</td>\n",
       "      <td>0.054806</td>\n",
       "      <td>0.088584</td>\n",
       "      <td>0.205473</td>\n",
       "      <td>0.000204</td>\n",
       "    </tr>\n",
       "    <tr>\n",
       "      <th>7497</th>\n",
       "      <td>0.040715</td>\n",
       "      <td>0.033154</td>\n",
       "      <td>0.041002</td>\n",
       "      <td>0.000117</td>\n",
       "      <td>0.300586</td>\n",
       "      <td>0.026113</td>\n",
       "      <td>0.000117</td>\n",
       "      <td>0.217817</td>\n",
       "      <td>0.340261</td>\n",
       "      <td>0.000117</td>\n",
       "    </tr>\n",
       "    <tr>\n",
       "      <th>7498</th>\n",
       "      <td>0.000195</td>\n",
       "      <td>0.138907</td>\n",
       "      <td>0.060328</td>\n",
       "      <td>0.000195</td>\n",
       "      <td>0.000195</td>\n",
       "      <td>0.000195</td>\n",
       "      <td>0.046418</td>\n",
       "      <td>0.127864</td>\n",
       "      <td>0.563710</td>\n",
       "      <td>0.061994</td>\n",
       "    </tr>\n",
       "    <tr>\n",
       "      <th>7499</th>\n",
       "      <td>0.000145</td>\n",
       "      <td>0.132511</td>\n",
       "      <td>0.000145</td>\n",
       "      <td>0.000145</td>\n",
       "      <td>0.000145</td>\n",
       "      <td>0.000145</td>\n",
       "      <td>0.726788</td>\n",
       "      <td>0.075182</td>\n",
       "      <td>0.000145</td>\n",
       "      <td>0.064646</td>\n",
       "    </tr>\n",
       "    <tr>\n",
       "      <th>7500</th>\n",
       "      <td>0.000168</td>\n",
       "      <td>0.043956</td>\n",
       "      <td>0.134958</td>\n",
       "      <td>0.000168</td>\n",
       "      <td>0.105437</td>\n",
       "      <td>0.000168</td>\n",
       "      <td>0.115766</td>\n",
       "      <td>0.466934</td>\n",
       "      <td>0.029186</td>\n",
       "      <td>0.103259</td>\n",
       "    </tr>\n",
       "    <tr>\n",
       "      <th>7501</th>\n",
       "      <td>0.000207</td>\n",
       "      <td>0.171963</td>\n",
       "      <td>0.045885</td>\n",
       "      <td>0.000207</td>\n",
       "      <td>0.007767</td>\n",
       "      <td>0.000207</td>\n",
       "      <td>0.000207</td>\n",
       "      <td>0.688625</td>\n",
       "      <td>0.084724</td>\n",
       "      <td>0.000207</td>\n",
       "    </tr>\n",
       "    <tr>\n",
       "      <th>7502</th>\n",
       "      <td>0.000237</td>\n",
       "      <td>0.000237</td>\n",
       "      <td>0.013457</td>\n",
       "      <td>0.167371</td>\n",
       "      <td>0.183090</td>\n",
       "      <td>0.000237</td>\n",
       "      <td>0.038529</td>\n",
       "      <td>0.596367</td>\n",
       "      <td>0.000237</td>\n",
       "      <td>0.000237</td>\n",
       "    </tr>\n",
       "    <tr>\n",
       "      <th>7503</th>\n",
       "      <td>0.000165</td>\n",
       "      <td>0.389429</td>\n",
       "      <td>0.034710</td>\n",
       "      <td>0.000165</td>\n",
       "      <td>0.081668</td>\n",
       "      <td>0.000165</td>\n",
       "      <td>0.000165</td>\n",
       "      <td>0.195540</td>\n",
       "      <td>0.171255</td>\n",
       "      <td>0.126738</td>\n",
       "    </tr>\n",
       "    <tr>\n",
       "      <th>7504</th>\n",
       "      <td>0.024723</td>\n",
       "      <td>0.126857</td>\n",
       "      <td>0.000153</td>\n",
       "      <td>0.049430</td>\n",
       "      <td>0.085642</td>\n",
       "      <td>0.000153</td>\n",
       "      <td>0.000153</td>\n",
       "      <td>0.044405</td>\n",
       "      <td>0.576876</td>\n",
       "      <td>0.091607</td>\n",
       "    </tr>\n",
       "    <tr>\n",
       "      <th>7505</th>\n",
       "      <td>0.000201</td>\n",
       "      <td>0.255510</td>\n",
       "      <td>0.000201</td>\n",
       "      <td>0.000201</td>\n",
       "      <td>0.000201</td>\n",
       "      <td>0.000201</td>\n",
       "      <td>0.000201</td>\n",
       "      <td>0.574872</td>\n",
       "      <td>0.000201</td>\n",
       "      <td>0.168209</td>\n",
       "    </tr>\n",
       "    <tr>\n",
       "      <th>7506</th>\n",
       "      <td>0.168186</td>\n",
       "      <td>0.163799</td>\n",
       "      <td>0.114396</td>\n",
       "      <td>0.000158</td>\n",
       "      <td>0.000158</td>\n",
       "      <td>0.000158</td>\n",
       "      <td>0.350618</td>\n",
       "      <td>0.195445</td>\n",
       "      <td>0.006924</td>\n",
       "      <td>0.000158</td>\n",
       "    </tr>\n",
       "  </tbody>\n",
       "</table>\n",
       "<p>7507 rows × 10 columns</p>\n",
       "</div>"
      ],
      "text/plain": [
       "      developing_south_trade  human_today_war  peoples_social_government  \\\n",
       "0                   0.301417         0.000126                   0.000126   \n",
       "1                   0.270243         0.000132                   0.000132   \n",
       "2                   0.107989         0.031339                   0.102842   \n",
       "3                   0.293397         0.067417                   0.414592   \n",
       "4                   0.251379         0.030322                   0.000089   \n",
       "5                   0.487231         0.290527                   0.000218   \n",
       "6                   0.219159         0.000121                   0.000121   \n",
       "7                   0.067663         0.205348                   0.071820   \n",
       "8                   0.078400         0.000091                   0.068496   \n",
       "9                   0.181515         0.000075                   0.100028   \n",
       "10                  0.270534         0.000110                   0.081117   \n",
       "11                  0.223835         0.216902                   0.221116   \n",
       "12                  0.102112         0.105866                   0.402661   \n",
       "13                  0.352131         0.000082                   0.000082   \n",
       "14                  0.214703         0.017751                   0.000094   \n",
       "15                  0.093075         0.000105                   0.248948   \n",
       "16                  0.395844         0.387290                   0.154646   \n",
       "17                  0.157715         0.020027                   0.075238   \n",
       "18                  0.116411         0.000103                   0.000103   \n",
       "19                  0.399845         0.136777                   0.100532   \n",
       "20                  0.250176         0.000093                   0.037069   \n",
       "21                  0.298819         0.056452                   0.289709   \n",
       "22                  0.238441         0.117630                   0.037088   \n",
       "23                  0.093209         0.000249                   0.000249   \n",
       "24                  0.288128         0.000060                   0.168409   \n",
       "25                  0.309646         0.221076                   0.000105   \n",
       "26                  0.041057         0.058011                   0.233239   \n",
       "27                  0.009622         0.000090                   0.000090   \n",
       "28                  0.193858         0.181530                   0.001449   \n",
       "29                  0.555281         0.000118                   0.013046   \n",
       "...                      ...              ...                        ...   \n",
       "7477                0.053651         0.668805                   0.000270   \n",
       "7478                0.000147         0.198307                   0.038278   \n",
       "7479                0.000221         0.124784                   0.051915   \n",
       "7480                0.118236         0.503820                   0.014823   \n",
       "7481                0.000261         0.132779                   0.000261   \n",
       "7482                0.178941         0.149484                   0.095690   \n",
       "7483                0.230898         0.361087                   0.000324   \n",
       "7484                0.076637         0.104113                   0.191002   \n",
       "7485                0.038375         0.298646                   0.068586   \n",
       "7486                0.000158         0.133071                   0.000158   \n",
       "7487                0.279970         0.115969                   0.108914   \n",
       "7488                0.038846         0.246574                   0.015719   \n",
       "7489                0.036554         0.575203                   0.000227   \n",
       "7490                0.000264         0.116528                   0.000264   \n",
       "7491                0.000104         0.188960                   0.000104   \n",
       "7492                0.000274         0.326905                   0.000274   \n",
       "7493                0.000138         0.000138                   0.000138   \n",
       "7494                0.140410         0.160624                   0.008332   \n",
       "7495                0.000227         0.141506                   0.208968   \n",
       "7496                0.069954         0.000204                   0.080016   \n",
       "7497                0.040715         0.033154                   0.041002   \n",
       "7498                0.000195         0.138907                   0.060328   \n",
       "7499                0.000145         0.132511                   0.000145   \n",
       "7500                0.000168         0.043956                   0.134958   \n",
       "7501                0.000207         0.171963                   0.045885   \n",
       "7502                0.000237         0.000237                   0.013457   \n",
       "7503                0.000165         0.389429                   0.034710   \n",
       "7504                0.024723         0.126857                   0.000153   \n",
       "7505                0.000201         0.255510                   0.000201   \n",
       "7506                0.168186         0.163799                   0.114396   \n",
       "\n",
       "      nuclear_weapons_soviet  global_change_climate  \\\n",
       "0                   0.123103               0.125208   \n",
       "1                   0.030607               0.072022   \n",
       "2                   0.078691               0.000076   \n",
       "3                   0.006980               0.000144   \n",
       "4                   0.060589               0.000089   \n",
       "5                   0.038260               0.000218   \n",
       "6                   0.050204               0.000121   \n",
       "7                   0.434893               0.000081   \n",
       "8                   0.503846               0.000091   \n",
       "9                   0.088061               0.000075   \n",
       "10                  0.172568               0.000110   \n",
       "11                  0.013816               0.000116   \n",
       "12                  0.000102               0.000102   \n",
       "13                  0.249246               0.000082   \n",
       "14                  0.183905               0.112329   \n",
       "15                  0.046088               0.000105   \n",
       "16                  0.036583               0.000137   \n",
       "17                  0.308507               0.000105   \n",
       "18                  0.107101               0.000103   \n",
       "19                  0.069169               0.088296   \n",
       "20                  0.000093               0.000093   \n",
       "21                  0.034458               0.011932   \n",
       "22                  0.204179               0.000152   \n",
       "23                  0.011145               0.000249   \n",
       "24                  0.034340               0.000060   \n",
       "25                  0.138814               0.000105   \n",
       "26                  0.209801               0.000126   \n",
       "27                  0.143527               0.000090   \n",
       "28                  0.000181               0.042204   \n",
       "29                  0.103990               0.000118   \n",
       "...                      ...                    ...   \n",
       "7477                0.000270               0.000270   \n",
       "7478                0.000147               0.048294   \n",
       "7479                0.000221               0.114501   \n",
       "7480                0.000200               0.206134   \n",
       "7481                0.045064               0.000261   \n",
       "7482                0.097302               0.096201   \n",
       "7483                0.023942               0.332354   \n",
       "7484                0.000162               0.000162   \n",
       "7485                0.000137               0.000137   \n",
       "7486                0.000158               0.143062   \n",
       "7487                0.000210               0.493888   \n",
       "7488                0.084993               0.130535   \n",
       "7489                0.000227               0.000227   \n",
       "7490                0.000264               0.137465   \n",
       "7491                0.094206               0.000104   \n",
       "7492                0.000274               0.000274   \n",
       "7493                0.190683               0.071588   \n",
       "7494                0.000221               0.144575   \n",
       "7495                0.000227               0.000227   \n",
       "7496                0.134016               0.366539   \n",
       "7497                0.000117               0.300586   \n",
       "7498                0.000195               0.000195   \n",
       "7499                0.000145               0.000145   \n",
       "7500                0.000168               0.105437   \n",
       "7501                0.000207               0.007767   \n",
       "7502                0.167371               0.183090   \n",
       "7503                0.000165               0.081668   \n",
       "7504                0.049430               0.085642   \n",
       "7505                0.000201               0.000201   \n",
       "7506                0.000158               0.000158   \n",
       "\n",
       "      africa_south_independence  israel_arab_palestinian  \\\n",
       "0                      0.098048                 0.172829   \n",
       "1                      0.000132                 0.025798   \n",
       "2                      0.161911                 0.065419   \n",
       "3                      0.028637                 0.049319   \n",
       "4                      0.317255                 0.000089   \n",
       "5                      0.000218                 0.000218   \n",
       "6                      0.184625                 0.240189   \n",
       "7                      0.000081                 0.000081   \n",
       "8                      0.055677                 0.116371   \n",
       "9                      0.024280                 0.066087   \n",
       "10                     0.000110                 0.032992   \n",
       "11                     0.032746                 0.018100   \n",
       "12                     0.000102                 0.000102   \n",
       "13                     0.060548                 0.110378   \n",
       "14                     0.140497                 0.088818   \n",
       "15                     0.000105                 0.000105   \n",
       "16                     0.000137                 0.000137   \n",
       "17                     0.000105                 0.000105   \n",
       "18                     0.066615                 0.265658   \n",
       "19                     0.028641                 0.030760   \n",
       "20                     0.153535                 0.223641   \n",
       "21                     0.000140                 0.000140   \n",
       "22                     0.000152                 0.000152   \n",
       "23                     0.259470                 0.290397   \n",
       "24                     0.155457                 0.010771   \n",
       "25                     0.012882                 0.022345   \n",
       "26                     0.180574                 0.065938   \n",
       "27                     0.083024                 0.112966   \n",
       "28                     0.191812                 0.045324   \n",
       "29                     0.046533                 0.034432   \n",
       "...                         ...                      ...   \n",
       "7477                   0.000270                 0.096918   \n",
       "7478                   0.000147                 0.025634   \n",
       "7479                   0.000221                 0.000221   \n",
       "7480                   0.000200                 0.000200   \n",
       "7481                   0.000261                 0.000261   \n",
       "7482                   0.000113                 0.013201   \n",
       "7483                   0.000324                 0.000324   \n",
       "7484                   0.000162                 0.223006   \n",
       "7485                   0.000137                 0.021559   \n",
       "7486                   0.269027                 0.023505   \n",
       "7487                   0.000210                 0.000210   \n",
       "7488                   0.000151                 0.021856   \n",
       "7489                   0.000227                 0.000227   \n",
       "7490                   0.000264                 0.000264   \n",
       "7491                   0.054771                 0.249903   \n",
       "7492                   0.000274                 0.000274   \n",
       "7493                   0.000138                 0.024387   \n",
       "7494                   0.000221                 0.047464   \n",
       "7495                   0.000227                 0.093380   \n",
       "7496                   0.000204                 0.054806   \n",
       "7497                   0.026113                 0.000117   \n",
       "7498                   0.000195                 0.046418   \n",
       "7499                   0.000145                 0.726788   \n",
       "7500                   0.000168                 0.115766   \n",
       "7501                   0.000207                 0.000207   \n",
       "7502                   0.000237                 0.038529   \n",
       "7503                   0.000165                 0.000165   \n",
       "7504                   0.000153                 0.000153   \n",
       "7505                   0.000201                 0.000201   \n",
       "7506                   0.000158                 0.350618   \n",
       "\n",
       "      human_rights_council  africa_african_government  \\\n",
       "0                 0.005017                   0.078136   \n",
       "1                 0.276099                   0.000132   \n",
       "2                 0.000076                   0.328185   \n",
       "3                 0.022536                   0.006639   \n",
       "4                 0.000089                   0.214598   \n",
       "5                 0.000218                   0.078582   \n",
       "6                 0.000121                   0.264310   \n",
       "7                 0.043781                   0.000081   \n",
       "8                 0.000091                   0.067810   \n",
       "9                 0.157928                   0.120831   \n",
       "10                0.034264                   0.171418   \n",
       "11                0.000116                   0.000116   \n",
       "12                0.000102                   0.162878   \n",
       "13                0.112450                   0.032574   \n",
       "14                0.095409                   0.043307   \n",
       "15                0.154740                   0.148114   \n",
       "16                0.000137                   0.000137   \n",
       "17                0.234775                   0.000105   \n",
       "18                0.000103                   0.239071   \n",
       "19                0.000134                   0.000134   \n",
       "20                0.026643                   0.184434   \n",
       "21                0.104124                   0.000140   \n",
       "22                0.074073                   0.069852   \n",
       "23                0.000249                   0.239130   \n",
       "24                0.000060                   0.289834   \n",
       "25                0.180003                   0.000105   \n",
       "26                0.000126                   0.000126   \n",
       "27                0.252836                   0.115971   \n",
       "28                0.072168                   0.271293   \n",
       "29                0.091404                   0.000118   \n",
       "...                    ...                        ...   \n",
       "7477              0.086491                   0.092783   \n",
       "7478              0.465167                   0.050826   \n",
       "7479              0.000221                   0.707475   \n",
       "7480              0.016031                   0.000200   \n",
       "7481              0.353997                   0.387570   \n",
       "7482              0.368842                   0.000113   \n",
       "7483              0.050101                   0.000324   \n",
       "7484              0.157240                   0.247357   \n",
       "7485              0.446689                   0.125596   \n",
       "7486              0.159728                   0.270977   \n",
       "7487              0.000210                   0.000210   \n",
       "7488              0.461025                   0.000151   \n",
       "7489              0.313892                   0.000227   \n",
       "7490              0.084141                   0.554760   \n",
       "7491              0.254946                   0.149618   \n",
       "7492              0.593043                   0.000274   \n",
       "7493              0.566320                   0.109739   \n",
       "7494              0.380246                   0.117686   \n",
       "7495              0.394520                   0.013317   \n",
       "7496              0.088584                   0.205473   \n",
       "7497              0.217817                   0.340261   \n",
       "7498              0.127864                   0.563710   \n",
       "7499              0.075182                   0.000145   \n",
       "7500              0.466934                   0.029186   \n",
       "7501              0.688625                   0.084724   \n",
       "7502              0.596367                   0.000237   \n",
       "7503              0.195540                   0.171255   \n",
       "7504              0.044405                   0.576876   \n",
       "7505              0.574872                   0.000201   \n",
       "7506              0.195445                   0.006924   \n",
       "\n",
       "      problems_operation_government  \n",
       "0                          0.095991  \n",
       "1                          0.324704  \n",
       "2                          0.123472  \n",
       "3                          0.110339  \n",
       "4                          0.125502  \n",
       "5                          0.104311  \n",
       "6                          0.041030  \n",
       "7                          0.176169  \n",
       "8                          0.109128  \n",
       "9                          0.261120  \n",
       "10                         0.236778  \n",
       "11                         0.273139  \n",
       "12                         0.225970  \n",
       "13                         0.082428  \n",
       "14                         0.103186  \n",
       "15                         0.308617  \n",
       "16                         0.024950  \n",
       "17                         0.203319  \n",
       "18                         0.204733  \n",
       "19                         0.145712  \n",
       "20                         0.124222  \n",
       "21                         0.204087  \n",
       "22                         0.258282  \n",
       "23                         0.105651  \n",
       "24                         0.052881  \n",
       "25                         0.114919  \n",
       "26                         0.211002  \n",
       "27                         0.281783  \n",
       "28                         0.000181  \n",
       "29                         0.154959  \n",
       "...                             ...  \n",
       "7477                       0.000270  \n",
       "7478                       0.173055  \n",
       "7479                       0.000221  \n",
       "7480                       0.140154  \n",
       "7481                       0.079284  \n",
       "7482                       0.000113  \n",
       "7483                       0.000324  \n",
       "7484                       0.000162  \n",
       "7485                       0.000137  \n",
       "7486                       0.000158  \n",
       "7487                       0.000210  \n",
       "7488                       0.000151  \n",
       "7489                       0.072987  \n",
       "7490                       0.105786  \n",
       "7491                       0.007284  \n",
       "7492                       0.078134  \n",
       "7493                       0.036731  \n",
       "7494                       0.000221  \n",
       "7495                       0.147399  \n",
       "7496                       0.000204  \n",
       "7497                       0.000117  \n",
       "7498                       0.061994  \n",
       "7499                       0.064646  \n",
       "7500                       0.103259  \n",
       "7501                       0.000207  \n",
       "7502                       0.000237  \n",
       "7503                       0.126738  \n",
       "7504                       0.091607  \n",
       "7505                       0.168209  \n",
       "7506                       0.000158  \n",
       "\n",
       "[7507 rows x 10 columns]"
      ]
     },
     "execution_count": 131,
     "metadata": {},
     "output_type": "execute_result"
    }
   ],
   "source": [
    "un_topics"
   ]
  },
  {
   "cell_type": "markdown",
   "metadata": {
    "slideshow": {
     "slide_type": "slide"
    }
   },
   "source": [
    "We can now use our topics as features"
   ]
  },
  {
   "cell_type": "code",
   "execution_count": 176,
   "metadata": {},
   "outputs": [],
   "source": [
    "un_df['post_soviet'] = un_df['speech_year'] > 1991\n",
    "\n"
   ]
  },
  {
   "cell_type": "code",
   "execution_count": 184,
   "metadata": {},
   "outputs": [
    {
     "data": {
      "text/html": [
       "<div>\n",
       "<style scoped>\n",
       "    .dataframe tbody tr th:only-of-type {\n",
       "        vertical-align: middle;\n",
       "    }\n",
       "\n",
       "    .dataframe tbody tr th {\n",
       "        vertical-align: top;\n",
       "    }\n",
       "\n",
       "    .dataframe thead th {\n",
       "        text-align: right;\n",
       "    }\n",
       "</style>\n",
       "<table border=\"1\" class=\"dataframe\">\n",
       "  <thead>\n",
       "    <tr style=\"text-align: right;\">\n",
       "      <th></th>\n",
       "      <th>developing_south_trade</th>\n",
       "      <th>human_today_war</th>\n",
       "      <th>peoples_social_government</th>\n",
       "      <th>nuclear_weapons_soviet</th>\n",
       "      <th>global_change_climate</th>\n",
       "      <th>africa_south_independence</th>\n",
       "      <th>israel_arab_palestinian</th>\n",
       "      <th>human_rights_council</th>\n",
       "      <th>africa_african_government</th>\n",
       "      <th>problems_operation_government</th>\n",
       "    </tr>\n",
       "    <tr>\n",
       "      <th>post_soviet</th>\n",
       "      <th></th>\n",
       "      <th></th>\n",
       "      <th></th>\n",
       "      <th></th>\n",
       "      <th></th>\n",
       "      <th></th>\n",
       "      <th></th>\n",
       "      <th></th>\n",
       "      <th></th>\n",
       "      <th></th>\n",
       "    </tr>\n",
       "  </thead>\n",
       "  <tbody>\n",
       "    <tr>\n",
       "      <th>False</th>\n",
       "      <td>0.120467</td>\n",
       "      <td>0.052985</td>\n",
       "      <td>0.097623</td>\n",
       "      <td>0.109515</td>\n",
       "      <td>0.013278</td>\n",
       "      <td>0.181575</td>\n",
       "      <td>0.081684</td>\n",
       "      <td>0.043870</td>\n",
       "      <td>0.058654</td>\n",
       "      <td>0.240350</td>\n",
       "    </tr>\n",
       "    <tr>\n",
       "      <th>True</th>\n",
       "      <td>0.066035</td>\n",
       "      <td>0.153496</td>\n",
       "      <td>0.083330</td>\n",
       "      <td>0.033451</td>\n",
       "      <td>0.169678</td>\n",
       "      <td>0.013872</td>\n",
       "      <td>0.064622</td>\n",
       "      <td>0.238635</td>\n",
       "      <td>0.122577</td>\n",
       "      <td>0.054304</td>\n",
       "    </tr>\n",
       "  </tbody>\n",
       "</table>\n",
       "</div>"
      ],
      "text/plain": [
       "             developing_south_trade  human_today_war  \\\n",
       "post_soviet                                            \n",
       "False                      0.120467         0.052985   \n",
       "True                       0.066035         0.153496   \n",
       "\n",
       "             peoples_social_government  nuclear_weapons_soviet  \\\n",
       "post_soviet                                                      \n",
       "False                         0.097623                0.109515   \n",
       "True                          0.083330                0.033451   \n",
       "\n",
       "             global_change_climate  africa_south_independence  \\\n",
       "post_soviet                                                     \n",
       "False                     0.013278                   0.181575   \n",
       "True                      0.169678                   0.013872   \n",
       "\n",
       "             israel_arab_palestinian  human_rights_council  \\\n",
       "post_soviet                                                  \n",
       "False                       0.081684              0.043870   \n",
       "True                        0.064622              0.238635   \n",
       "\n",
       "             africa_african_government  problems_operation_government  \n",
       "post_soviet                                                            \n",
       "False                         0.058654                       0.240350  \n",
       "True                          0.122577                       0.054304  "
      ]
     },
     "execution_count": 184,
     "metadata": {},
     "output_type": "execute_result"
    }
   ],
   "source": [
    "un_topics.groupby(un_df['post_soviet']).mean()"
   ]
  },
  {
   "cell_type": "code",
   "execution_count": 185,
   "metadata": {},
   "outputs": [
    {
     "data": {
      "text/html": [
       "<div>\n",
       "<style scoped>\n",
       "    .dataframe tbody tr th:only-of-type {\n",
       "        vertical-align: middle;\n",
       "    }\n",
       "\n",
       "    .dataframe tbody tr th {\n",
       "        vertical-align: top;\n",
       "    }\n",
       "\n",
       "    .dataframe thead th {\n",
       "        text-align: right;\n",
       "    }\n",
       "</style>\n",
       "<table border=\"1\" class=\"dataframe\">\n",
       "  <thead>\n",
       "    <tr style=\"text-align: right;\">\n",
       "      <th>post_soviet</th>\n",
       "      <th>False</th>\n",
       "      <th>True</th>\n",
       "    </tr>\n",
       "  </thead>\n",
       "  <tbody>\n",
       "    <tr>\n",
       "      <th>developing_south_trade</th>\n",
       "      <td>0.120467</td>\n",
       "      <td>0.066035</td>\n",
       "    </tr>\n",
       "    <tr>\n",
       "      <th>human_today_war</th>\n",
       "      <td>0.052985</td>\n",
       "      <td>0.153496</td>\n",
       "    </tr>\n",
       "    <tr>\n",
       "      <th>peoples_social_government</th>\n",
       "      <td>0.097623</td>\n",
       "      <td>0.083330</td>\n",
       "    </tr>\n",
       "    <tr>\n",
       "      <th>nuclear_weapons_soviet</th>\n",
       "      <td>0.109515</td>\n",
       "      <td>0.033451</td>\n",
       "    </tr>\n",
       "    <tr>\n",
       "      <th>global_change_climate</th>\n",
       "      <td>0.013278</td>\n",
       "      <td>0.169678</td>\n",
       "    </tr>\n",
       "    <tr>\n",
       "      <th>africa_south_independence</th>\n",
       "      <td>0.181575</td>\n",
       "      <td>0.013872</td>\n",
       "    </tr>\n",
       "    <tr>\n",
       "      <th>israel_arab_palestinian</th>\n",
       "      <td>0.081684</td>\n",
       "      <td>0.064622</td>\n",
       "    </tr>\n",
       "    <tr>\n",
       "      <th>human_rights_council</th>\n",
       "      <td>0.043870</td>\n",
       "      <td>0.238635</td>\n",
       "    </tr>\n",
       "    <tr>\n",
       "      <th>africa_african_government</th>\n",
       "      <td>0.058654</td>\n",
       "      <td>0.122577</td>\n",
       "    </tr>\n",
       "    <tr>\n",
       "      <th>problems_operation_government</th>\n",
       "      <td>0.240350</td>\n",
       "      <td>0.054304</td>\n",
       "    </tr>\n",
       "  </tbody>\n",
       "</table>\n",
       "</div>"
      ],
      "text/plain": [
       "post_soviet                       False     True \n",
       "developing_south_trade         0.120467  0.066035\n",
       "human_today_war                0.052985  0.153496\n",
       "peoples_social_government      0.097623  0.083330\n",
       "nuclear_weapons_soviet         0.109515  0.033451\n",
       "global_change_climate          0.013278  0.169678\n",
       "africa_south_independence      0.181575  0.013872\n",
       "israel_arab_palestinian        0.081684  0.064622\n",
       "human_rights_council           0.043870  0.238635\n",
       "africa_african_government      0.058654  0.122577\n",
       "problems_operation_government  0.240350  0.054304"
      ]
     },
     "execution_count": 185,
     "metadata": {},
     "output_type": "execute_result"
    }
   ],
   "source": [
    "un_topics.groupby(un_df['post_soviet']).mean().T"
   ]
  },
  {
   "cell_type": "code",
   "execution_count": 186,
   "metadata": {
    "slideshow": {
     "slide_type": "slide"
    }
   },
   "outputs": [],
   "source": [
    "%matplotlib inline\n",
    "\n",
    "import pandas as pd\n",
    "import seaborn as sns\n",
    "\n",
    "from vaderSentiment.vaderSentiment import SentimentIntensityAnalyzer\n",
    "from afinn import Afinn\n",
    "\n",
    "from sklearn.metrics import classification_report, confusion_matrix, accuracy_score\n",
    "from sklearn.feature_extraction.text import CountVectorizer, TfidfVectorizer\n",
    "from sklearn.naive_bayes import MultinomialNB\n",
    "from sklearn.linear_model import LogisticRegression\n",
    "from sklearn.model_selection import train_test_split\n",
    "from sklearn.pipeline import Pipeline\n",
    "from sklearn.model_selection import GridSearchCV\n",
    "from sklearn.decomposition import LatentDirichletAllocation\n",
    "\n"
   ]
  },
  {
   "cell_type": "code",
   "execution_count": 189,
   "metadata": {},
   "outputs": [],
   "source": [
    "lr_classifier = LogisticRegression(solver = 'lbfgs', max_iter= 5000)\n"
   ]
  },
  {
   "cell_type": "code",
   "execution_count": 191,
   "metadata": {
    "slideshow": {
     "slide_type": "slide"
    }
   },
   "outputs": [
    {
     "data": {
      "text/plain": [
       "LogisticRegression(C=1.0, class_weight=None, dual=False, fit_intercept=True,\n",
       "                   intercept_scaling=1, l1_ratio=None, max_iter=5000,\n",
       "                   multi_class='warn', n_jobs=None, penalty='l2',\n",
       "                   random_state=None, solver='lbfgs', tol=0.0001, verbose=0,\n",
       "                   warm_start=False)"
      ]
     },
     "execution_count": 191,
     "metadata": {},
     "output_type": "execute_result"
    }
   ],
   "source": [
    "lr_classifier.fit(un_topics, un_df['post_soviet'])"
   ]
  },
  {
   "cell_type": "code",
   "execution_count": 192,
   "metadata": {
    "slideshow": {
     "slide_type": "slide"
    }
   },
   "outputs": [],
   "source": [
    "prediction = lr_classifier.predict(un_topics)"
   ]
  },
  {
   "cell_type": "code",
   "execution_count": 193,
   "metadata": {
    "slideshow": {
     "slide_type": "slide"
    }
   },
   "outputs": [
    {
     "name": "stdout",
     "output_type": "stream",
     "text": [
      "0.9641667776741708\n"
     ]
    }
   ],
   "source": [
    "print(accuracy_score(un_df['post_soviet'], prediction))\n",
    "\n"
   ]
  },
  {
   "cell_type": "code",
   "execution_count": 195,
   "metadata": {
    "slideshow": {
     "slide_type": "slide"
    }
   },
   "outputs": [
    {
     "name": "stdout",
     "output_type": "stream",
     "text": [
      "              precision    recall  f1-score   support\n",
      "\n",
      "       False       0.96      0.95      0.96      3048\n",
      "        True       0.97      0.97      0.97      4459\n",
      "\n",
      "    accuracy                           0.96      7507\n",
      "   macro avg       0.96      0.96      0.96      7507\n",
      "weighted avg       0.96      0.96      0.96      7507\n",
      "\n"
     ]
    }
   ],
   "source": [
    "print(classification_report(un_df['post_soviet'], prediction))"
   ]
  },
  {
   "cell_type": "code",
   "execution_count": 196,
   "metadata": {},
   "outputs": [
    {
     "data": {
      "text/plain": [
       "<matplotlib.axes._subplots.AxesSubplot at 0x1a308db9e8>"
      ]
     },
     "execution_count": 196,
     "metadata": {},
     "output_type": "execute_result"
    },
    {
     "data": {
      "image/png": "[encoded data removed]",
      "text/plain": [
       "<Figure size 432x288 with 2 Axes>"
      ]
     },
     "metadata": {
      "needs_background": "light"
     },
     "output_type": "display_data"
    }
   ],
   "source": [
    "import seaborn as sns\n",
    "\n",
    "cm = confusion_matrix(un_df['post_soviet'], prediction)\n",
    "sns.heatmap(cm, annot=True, cmap=\"Greens\", fmt='g')"
   ]
  },
  {
   "cell_type": "markdown",
   "metadata": {
    "slideshow": {
     "slide_type": "slide"
    }
   },
   "source": [
    "<div class=\"alert alert-info\">\n",
    "<h3> Your turn</h3>\n",
    "<p> In your group, do the rest of 10_Topic_Modeling_group\n",
    "</div> \n",
    "\n",
    "\n",
    "\n"
   ]
  }
 ],
 "metadata": {
  "celltoolbar": "Slideshow",
  "kernelspec": {
   "display_name": "Python 3",
   "language": "python",
   "name": "python3"
  },
  "language_info": {
   "codemirror_mode": {
    "name": "ipython",
    "version": 3
   },
   "file_extension": ".py",
   "mimetype": "text/x-python",
   "name": "python",
   "nbconvert_exporter": "python",
   "pygments_lexer": "ipython3",
   "version": "3.8.2"
  }
 },
 "nbformat": 4,
 "nbformat_minor": 2
}
