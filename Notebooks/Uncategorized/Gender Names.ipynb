{
 "cells": [
  {
   "cell_type": "markdown",
   "metadata": {},
   "source": [
    "## Assigning gender based on first name\n",
    "\n",
    "A straightforward task in natural language processing is to assign gender based on first name. Social scientists are often interested in gender inequalities and may have a dataset that lists name but not gender, such as a list of journal articles with authors in a study of gendered citation practices. \n",
    "\n",
    "Assigning gender based on name is usually done by comparing a given name with the name's gender distribution on official records, such as the US Social Security baby name list. While this works for most names, some names, such as Gershun or Hunna, are too rare to have reliable estimates based on most available official records. Other names, such as Jian or Blake, are common among both men and women. A fourth category of names are those which are dispropriately one gender or another, but do have non-trivial numbers of a different gender, such as Cody or Kyle. For both these names and androgynous names, their are often generational differences in the gendered distribution. \n",
    "\n",
    "The most efficient way to gender names in Python is with the `gender_guesser` library, which is based on Jörg Michael's multinational list of more than 48,000 names. The first time you use the library, you may need to install it:\n",
    "\n",
    "`!pip install gender_guesser`"
   ]
  },
  {
   "cell_type": "markdown",
   "metadata": {},
   "source": [
    "The `gender_guesser` library is set up so that first you import the gender function and then create a detector. In my case, the detector is named `d` and one parameter is passed, which instructors the detector to ignore capitalization."
   ]
  },
  {
   "cell_type": "code",
   "execution_count": 1,
   "metadata": {},
   "outputs": [],
   "source": [
    "import gender_guesser.detector as gender"
   ]
  },
  {
   "cell_type": "code",
   "execution_count": 2,
   "metadata": {},
   "outputs": [],
   "source": [
    "d = gender.Detector(case_sensitive=False)"
   ]
  },
  {
   "cell_type": "markdown",
   "metadata": {},
   "source": [
    "When passed a name, the detector's `get_gender` returns either 'male', 'female', 'mostly_male', 'mostly_female', 'andy' (for androgenous names), or 'unknown' (for names not in the dataset)."
   ]
  },
  {
   "cell_type": "code",
   "execution_count": 3,
   "metadata": {},
   "outputs": [
    {
     "data": {
      "text/plain": [
       "'male'"
      ]
     },
     "execution_count": 3,
     "metadata": {},
     "output_type": "execute_result"
    }
   ],
   "source": [
    "d.get_gender(\"Barack\")"
   ]
  },
  {
   "cell_type": "code",
   "execution_count": 4,
   "metadata": {},
   "outputs": [
    {
     "data": {
      "text/plain": [
       "'female'"
      ]
     },
     "execution_count": 4,
     "metadata": {},
     "output_type": "execute_result"
    }
   ],
   "source": [
    "d.get_gender(\"Theresa\")"
   ]
  },
  {
   "cell_type": "code",
   "execution_count": 5,
   "metadata": {},
   "outputs": [
    {
     "data": {
      "text/plain": [
       "'mostly_female'"
      ]
     },
     "execution_count": 5,
     "metadata": {},
     "output_type": "execute_result"
    }
   ],
   "source": [
    "d.get_gender(\"JAMIE\")"
   ]
  },
  {
   "cell_type": "code",
   "execution_count": 6,
   "metadata": {},
   "outputs": [
    {
     "data": {
      "text/plain": [
       "'mostly_male'"
      ]
     },
     "execution_count": 6,
     "metadata": {},
     "output_type": "execute_result"
    }
   ],
   "source": [
    "d.get_gender(\"sidney\")"
   ]
  },
  {
   "cell_type": "code",
   "execution_count": 7,
   "metadata": {},
   "outputs": [
    {
     "data": {
      "text/plain": [
       "'andy'"
      ]
     },
     "execution_count": 7,
     "metadata": {},
     "output_type": "execute_result"
    }
   ],
   "source": [
    "d.get_gender(\"Tal\")"
   ]
  },
  {
   "cell_type": "markdown",
   "metadata": {},
   "source": [
    "In almost all cases, you will want to analyze a large list of names, rather than a single name. For example, the University of North Carolina, Chapel Hill makes available salary information on employees. The dataset includes name, department, position salary and years of employment, but not gender.  "
   ]
  },
  {
   "cell_type": "code",
   "execution_count": 8,
   "metadata": {},
   "outputs": [],
   "source": [
    "import pandas as pd\n",
    "\n",
    "df = pd.read_csv(\"data/unc_salaries.csv\")"
   ]
  },
  {
   "cell_type": "code",
   "execution_count": 9,
   "metadata": {},
   "outputs": [
    {
     "data": {
      "text/html": [
       "<div>\n",
       "<style scoped>\n",
       "    .dataframe tbody tr th:only-of-type {\n",
       "        vertical-align: middle;\n",
       "    }\n",
       "\n",
       "    .dataframe tbody tr th {\n",
       "        vertical-align: top;\n",
       "    }\n",
       "\n",
       "    .dataframe thead th {\n",
       "        text-align: right;\n",
       "    }\n",
       "</style>\n",
       "<table border=\"1\" class=\"dataframe\">\n",
       "  <thead>\n",
       "    <tr style=\"text-align: right;\">\n",
       "      <th></th>\n",
       "      <th>First Name</th>\n",
       "      <th>Last Name</th>\n",
       "      <th>Full Name</th>\n",
       "      <th>Department</th>\n",
       "      <th>Position</th>\n",
       "      <th>Salary</th>\n",
       "      <th>Service (yrs)</th>\n",
       "    </tr>\n",
       "  </thead>\n",
       "  <tbody>\n",
       "    <tr>\n",
       "      <th>0</th>\n",
       "      <td>YASMINA</td>\n",
       "      <td>ABAJAS</td>\n",
       "      <td>ABAJAS, YASMINA L</td>\n",
       "      <td>Peds-Hematology/Oncology</td>\n",
       "      <td>Assistant Professor</td>\n",
       "      <td>146361</td>\n",
       "      <td>3</td>\n",
       "    </tr>\n",
       "    <tr>\n",
       "      <th>1</th>\n",
       "      <td>JEFFERY</td>\n",
       "      <td>ABARBANELL</td>\n",
       "      <td>ABARBANELL, JEFFERY S</td>\n",
       "      <td>Kenan-Flagler Bus Sch</td>\n",
       "      <td>Associate Professor</td>\n",
       "      <td>186430</td>\n",
       "      <td>20</td>\n",
       "    </tr>\n",
       "    <tr>\n",
       "      <th>2</th>\n",
       "      <td>PENELOPE</td>\n",
       "      <td>ABERNATHY</td>\n",
       "      <td>ABERNATHY, PENELOPE M</td>\n",
       "      <td>School of Media and Journalism</td>\n",
       "      <td>Professor</td>\n",
       "      <td>175490</td>\n",
       "      <td>10</td>\n",
       "    </tr>\n",
       "    <tr>\n",
       "      <th>3</th>\n",
       "      <td>BLANCHE</td>\n",
       "      <td>ABLE</td>\n",
       "      <td>ABLE, BLANCHE H</td>\n",
       "      <td>School of Education Deans Ofc</td>\n",
       "      <td>Associate Professor</td>\n",
       "      <td>115183</td>\n",
       "      <td>25</td>\n",
       "    </tr>\n",
       "    <tr>\n",
       "      <th>4</th>\n",
       "      <td>JONATHAN</td>\n",
       "      <td>ABRAMOWITZ</td>\n",
       "      <td>ABRAMOWITZ, JONATHAN S</td>\n",
       "      <td>Psychology and Neuroscience</td>\n",
       "      <td>Professor</td>\n",
       "      <td>127834</td>\n",
       "      <td>12</td>\n",
       "    </tr>\n",
       "    <tr>\n",
       "      <th>5</th>\n",
       "      <td>JACOB</td>\n",
       "      <td>ACTON</td>\n",
       "      <td>ACTON, JACOB D</td>\n",
       "      <td>General Anesthesia</td>\n",
       "      <td>Assistant Professor</td>\n",
       "      <td>231266</td>\n",
       "      <td>3</td>\n",
       "    </tr>\n",
       "    <tr>\n",
       "      <th>6</th>\n",
       "      <td>LINDA</td>\n",
       "      <td>ADAIR</td>\n",
       "      <td>ADAIR, LINDA S</td>\n",
       "      <td>Nutrition - Ops</td>\n",
       "      <td>Professor</td>\n",
       "      <td>199610</td>\n",
       "      <td>30</td>\n",
       "    </tr>\n",
       "    <tr>\n",
       "      <th>7</th>\n",
       "      <td>DAVID</td>\n",
       "      <td>ADALSTEINSSON</td>\n",
       "      <td>ADALSTEINSSON, DAVID</td>\n",
       "      <td>Mathematics</td>\n",
       "      <td>Associate Professor</td>\n",
       "      <td>102404</td>\n",
       "      <td>19</td>\n",
       "    </tr>\n",
       "    <tr>\n",
       "      <th>8</th>\n",
       "      <td>KIRKWOOD</td>\n",
       "      <td>ADAMS</td>\n",
       "      <td>ADAMS, KIRKWOOD F</td>\n",
       "      <td>Medicine - Cardiology</td>\n",
       "      <td>Associate Professor</td>\n",
       "      <td>145886</td>\n",
       "      <td>35</td>\n",
       "    </tr>\n",
       "    <tr>\n",
       "      <th>9</th>\n",
       "      <td>MUKHTAR</td>\n",
       "      <td>ADEM</td>\n",
       "      <td>ADEM, MUKHTAR</td>\n",
       "      <td>Medicine Hospitalist</td>\n",
       "      <td>Assistant Professor</td>\n",
       "      <td>212529</td>\n",
       "      <td>11</td>\n",
       "    </tr>\n",
       "  </tbody>\n",
       "</table>\n",
       "</div>"
      ],
      "text/plain": [
       "  First Name      Last Name               Full Name  \\\n",
       "0    YASMINA         ABAJAS       ABAJAS, YASMINA L   \n",
       "1    JEFFERY     ABARBANELL   ABARBANELL, JEFFERY S   \n",
       "2   PENELOPE      ABERNATHY   ABERNATHY, PENELOPE M   \n",
       "3    BLANCHE           ABLE         ABLE, BLANCHE H   \n",
       "4   JONATHAN     ABRAMOWITZ  ABRAMOWITZ, JONATHAN S   \n",
       "5      JACOB          ACTON          ACTON, JACOB D   \n",
       "6      LINDA          ADAIR          ADAIR, LINDA S   \n",
       "7      DAVID  ADALSTEINSSON    ADALSTEINSSON, DAVID   \n",
       "8   KIRKWOOD          ADAMS       ADAMS, KIRKWOOD F   \n",
       "9    MUKHTAR           ADEM           ADEM, MUKHTAR   \n",
       "\n",
       "                       Department             Position  Salary  Service (yrs)  \n",
       "0        Peds-Hematology/Oncology  Assistant Professor  146361              3  \n",
       "1           Kenan-Flagler Bus Sch  Associate Professor  186430             20  \n",
       "2  School of Media and Journalism            Professor  175490             10  \n",
       "3   School of Education Deans Ofc  Associate Professor  115183             25  \n",
       "4     Psychology and Neuroscience            Professor  127834             12  \n",
       "5              General Anesthesia  Assistant Professor  231266              3  \n",
       "6                 Nutrition - Ops            Professor  199610             30  \n",
       "7                     Mathematics  Associate Professor  102404             19  \n",
       "8           Medicine - Cardiology  Associate Professor  145886             35  \n",
       "9            Medicine Hospitalist  Assistant Professor  212529             11  "
      ]
     },
     "execution_count": 9,
     "metadata": {},
     "output_type": "execute_result"
    }
   ],
   "source": [
    "df.head(10)"
   ]
  },
  {
   "cell_type": "markdown",
   "metadata": {},
   "source": [
    "A column with name-based gender assignment can be created by applying `d.get_gender` to the first name column."
   ]
  },
  {
   "cell_type": "code",
   "execution_count": 10,
   "metadata": {},
   "outputs": [],
   "source": [
    "df[\"Gender\"] = df[\"First Name\"].apply(d.get_gender)"
   ]
  },
  {
   "cell_type": "code",
   "execution_count": 11,
   "metadata": {},
   "outputs": [
    {
     "data": {
      "text/plain": [
       "male             1501\n",
       "female           1165\n",
       "unknown           249\n",
       "mostly_female     126\n",
       "andy              116\n",
       "mostly_male        62\n",
       "Name: Gender, dtype: int64"
      ]
     },
     "execution_count": 11,
     "metadata": {},
     "output_type": "execute_result"
    }
   ],
   "source": [
    "df[\"Gender\"].value_counts()"
   ]
  },
  {
   "cell_type": "code",
   "execution_count": 12,
   "metadata": {},
   "outputs": [
    {
     "data": {
      "text/plain": [
       "0.07735321528424977"
      ]
     },
     "execution_count": 12,
     "metadata": {},
     "output_type": "execute_result"
    }
   ],
   "source": [
    "249 / 3219"
   ]
  },
  {
   "cell_type": "markdown",
   "metadata": {},
   "source": [
    "For this dataset, 83% of names are assigned male or female, while 8% of names are unknown. "
   ]
  },
  {
   "cell_type": "markdown",
   "metadata": {},
   "source": [
    "Selecting the rows in the dataframe where gender is unknown and the listing the values can be useful for inspecting cases and evaluating the gender-name assignment process."
   ]
  },
  {
   "cell_type": "code",
   "execution_count": 13,
   "metadata": {},
   "outputs": [
    {
     "data": {
      "text/plain": [
       "array(['KIRKWOOD', 'DURGA', 'ADAORA', 'SUMITHA', 'SUKRIYE', 'HARENDRA',\n",
       "       'SHIFALI', 'SARAVANAN', 'SREEJA', 'GERSHUN', 'HEMANTH', 'SUN-YUNG',\n",
       "       'SRIDHAR', 'SAYAN', 'MOHIT', 'HUNNA', 'AYSENIL', 'SOUMYA',\n",
       "       'SREEKALYANI', 'AADRA', 'NISHANT', 'MONTIKA', 'MIRNELA', 'JAYE',\n",
       "       'MUGE', 'SHANNELLE', 'YAIZA', 'DELESHA', 'MAGANIZO', 'JEN-YEA',\n",
       "       'ANUSHA', 'DING-GENG', 'BHISHAMJIT', 'D.', 'LAMECK', 'YAMNIA',\n",
       "       'FULTON', 'CHARNA', 'JAMA', 'SAYAMINDU', 'GAURAV', 'SUJA',\n",
       "       'LEISHA', 'VIMAL', 'CHIRAG', 'SREEDHARI', 'MOHANISH', 'VINAYAK',\n",
       "       'ARAVINDA', 'PRASUN', 'VISHAL', 'KIMON', 'DUSTINE', 'THURSTON',\n",
       "       'NIANBO', 'RAGHUVAR', 'JOAQUIN', 'SHUFA', 'SWATHI', 'SEYEDMORTEZA',\n",
       "       'TEMITOPE', 'ACHILLES', 'MARTILIAS', 'KETURAH', 'LISIANE', 'JODON',\n",
       "       'M', 'JAN-MICHAEL', 'HELYNE', 'DEEN', 'KRISTALYN', 'MARILIE',\n",
       "       'YANZHE', 'DOREY', 'TRENETTE', 'NILUKSHI', 'MARIAELISA',\n",
       "       'BIKRAMJIT', 'RAJDEEP', 'JUNEKO', 'ISIN', 'GAORAV', 'ZONGCHAO',\n",
       "       'SUDHANSHU', 'SHENGHUI', 'AKHIL', 'REYCO', 'JIUZU', 'LIESBET',\n",
       "       'MARTINETTE', 'LEAF', 'SHERICK', 'FOLAMI', 'RUMEY', 'ONYINYE',\n",
       "       'JORDYNN', 'JERMA', 'ANIMESH', 'EISHA', 'KOYAL', 'CHUAN-WEI',\n",
       "       'CHUANSHU', 'PRANAV', 'DARYHL', 'KENNITA', 'PUNEET', 'TONU',\n",
       "       'LOREE', 'MYUNGSA', 'MOHIT', 'JASLEEN', 'HENGMING', 'TEMITOPE',\n",
       "       'SARAVANAN', 'I', 'TRIPURANENI', 'J', \"O'RESE\", 'CHING-CHANG',\n",
       "       'ABHIJIT', 'VIDYADHAR', 'SHRAWAN', 'JAYDEEP', 'HOLNING',\n",
       "       'KUO-HSIUNG', 'YUEH', 'HENDREE', 'QUEFENG', 'WENDAN', 'ZIBO',\n",
       "       'FENG-CHANG', 'PENGDA', 'RIHE', 'AUNCHALEE', 'SRIRAM', 'UGWUJI',\n",
       "       'MACARY', 'BRYTE', 'RAHSAAN', 'KETAN', 'LUKASZ', 'TREVY', 'PATIA',\n",
       "       'CHINA', 'ABHISHEK', 'MARIJEL', 'SHIMUL', 'PREMA', 'ECHO', 'JOHNA',\n",
       "       'SAJAD', 'MAHKA', 'NEWMAN', 'TRIFFIN', 'MOSI', 'A', 'PRITHIMA',\n",
       "       'MERRIE', 'WEIPENG', 'DEEPANJAN', 'IEVGEN', 'TISUNGANE',\n",
       "       'YUN-DONG', 'VENKATA', 'EHSSAN', 'S', 'LUCIANNE', 'SONDA',\n",
       "       'CRISTEN', 'M.', 'MARY-ROSE', 'GROESBECK', 'GABOR', 'KUNAL',\n",
       "       'MEHUL', 'SAMIP', 'SHETAL', 'WEERAPPULIGE', 'TAMLIN', 'CEIB',\n",
       "       'LUIZ', 'LU-CHANG', 'ROCIO', 'CHRISTENA', 'ARCOT', 'ENIKO',\n",
       "       'ROHIT', 'SHABBAR', 'MAE-LYNN', 'APOENA', 'KARENE', 'SHIELDA',\n",
       "       'TESSA-JONNE', 'JOAQUIN', 'SIGURDUR', 'LATTICE', 'PETAL', 'KEIA',\n",
       "       'ALIESE', 'EIZABURO', 'OVUL', 'RISHMA', 'RUPALI', 'SAAME',\n",
       "       'PASCHAL', 'SAIRA', 'SHEHZAD', 'DINGGANG', 'YEN-YU', 'KUMARINI',\n",
       "       'MONTEK', 'H.', 'J', 'KERIAYN', 'CONGHE', 'JULEA', 'DELISHA',\n",
       "       'LACLAIRE', 'CHIRAYATH', 'TAISEER', 'XUEZHENG', 'KAWAN',\n",
       "       'JAYASHANKAR', 'AFROZ', 'HUNG-JUI', 'GAURAV', 'ALAINNA', 'RAHELEH',\n",
       "       'BOONE', 'HERICA', 'RAJAT', 'SRIRAMAN', 'VENKATA', 'JULEE',\n",
       "       'QUNZHAO', 'MARCEY', 'THELSA', 'ERIANNE', 'DARRYN', 'LYNEISE',\n",
       "       'TAUCHIANA', 'JEYHAN', 'PEW', 'SEONAE', 'ADEEL', 'LINGWEN',\n",
       "       'MAIMOONA', 'ZHENFA', 'RUIHAI'], dtype=object)"
      ]
     },
     "execution_count": 13,
     "metadata": {},
     "output_type": "execute_result"
    }
   ],
   "source": [
    "cases = df[\"Gender\"] == \"unknown\"\n",
    "\n",
    "df[cases][\"First Name\"].values"
   ]
  },
  {
   "cell_type": "markdown",
   "metadata": {},
   "source": [
    "My quick interpreation of this list is that it names that are certainly rare in the US, and some are likely transliterated using a non-common English spelling. The name with missing gender are not-random and the process of creating missingness is likely correlated with other variables of interest, such as salary. This might impact a full-analysis of gender patterns, but I'll ignore that in the preliminary analysis."
   ]
  },
  {
   "cell_type": "markdown",
   "metadata": {},
   "source": [
    "If you were conducted your analysis in another statistical package, you could export your dataframe with the new gender column."
   ]
  },
  {
   "cell_type": "code",
   "execution_count": 14,
   "metadata": {},
   "outputs": [],
   "source": [
    "df.to_csv(\"unc_salaries_gendered.csv\")"
   ]
  },
  {
   "cell_type": "markdown",
   "metadata": {},
   "source": [
    "You could also produce some summary statistics in your notebook. For example, the pandas `groupby` method can be used to estimate median salary by gender."
   ]
  },
  {
   "cell_type": "code",
   "execution_count": 15,
   "metadata": {},
   "outputs": [
    {
     "data": {
      "text/plain": [
       "Gender\n",
       "andy             119863.0\n",
       "female           126477.0\n",
       "male             160793.0\n",
       "mostly_female    134076.5\n",
       "mostly_male      144457.5\n",
       "unknown          139217.0\n",
       "Name: Salary, dtype: float64"
      ]
     },
     "execution_count": 15,
     "metadata": {},
     "output_type": "execute_result"
    }
   ],
   "source": [
    "df.groupby(\"Gender\")[\"Salary\"].median()"
   ]
  },
  {
   "cell_type": "markdown",
   "metadata": {},
   "source": [
    "Comparing the male and female-coded names, this shows evidence of a large salary gap based on gender. The \"mostly\" and unknown categories are in the middle, but interesting the androgynous names are associated with the lowest salaries. "
   ]
  },
  {
   "cell_type": "markdown",
   "metadata": {},
   "source": [
    "Grouping by gender and position may be useful in understanding the mechanisms that produce the gender gap. I also focus on just the individuals with names that are coded as male or female. "
   ]
  },
  {
   "cell_type": "code",
   "execution_count": 16,
   "metadata": {},
   "outputs": [
    {
     "data": {
      "text/plain": [
       "Position             Gender\n",
       "Assistant Professor  female    107055.0\n",
       "                     male      125419.5\n",
       "Associate Professor  female    120829.0\n",
       "                     male      135972.5\n",
       "Professor            female    165648.0\n",
       "                     male      190000.0\n",
       "Name: Salary, dtype: float64"
      ]
     },
     "execution_count": 16,
     "metadata": {},
     "output_type": "execute_result"
    }
   ],
   "source": [
    "subset = df[\"Gender\"].isin([\"male\", \"female\"])\n",
    "\n",
    "df[subset].groupby([\"Position\", \"Gender\"])[\"Salary\"].median()"
   ]
  },
  {
   "cell_type": "markdown",
   "metadata": {},
   "source": [
    "This summary dataframe can also be plotted, which clearly shows that the median salary for male Assistant Professors is higher than the median salary of the higher ranked female Associate Professors."
   ]
  },
  {
   "cell_type": "code",
   "execution_count": 17,
   "metadata": {},
   "outputs": [
    {
     "data": {
      "text/plain": [
       "<matplotlib.axes._subplots.AxesSubplot at 0x1123c6f28>"
      ]
     },
     "execution_count": 17,
     "metadata": {},
     "output_type": "execute_result"
    },
    {
     "data": {
      "image/png": "[encoded data removed]",
      "text/plain": [
       "<Figure size 432x288 with 1 Axes>"
      ]
     },
     "metadata": {
      "needs_background": "light"
     },
     "output_type": "display_data"
    }
   ],
   "source": [
    "%matplotlib inline\n",
    "\n",
    "df[subset].groupby(['Position','Gender'])['Salary'].median().plot(kind='barh')"
   ]
  },
  {
   "cell_type": "markdown",
   "metadata": {},
   "source": [
    "Sometimes the first name will not be it's own field, but included as part of the name column that includes the full name. In that case, you will need to create a function that extracts the first name. \n",
    "\n",
    "In this dataframe, the `name` column is the last name, followed by a comma, and then the first name and possibly a middle name or initial. A brief function extracts the first name,"
   ]
  },
  {
   "cell_type": "code",
   "execution_count": 18,
   "metadata": {},
   "outputs": [],
   "source": [
    "def gender_name(name):\n",
    "    \"\"\"\n",
    "    Extracts and genders first name when the original name is formatted \"Last, First M\". \n",
    "    Assumes a gender.Detector named `d` is already declared. \n",
    "    \"\"\"\n",
    "\n",
    "    first_name = name.split(\", \")[-1]  # grab the slide after the comma\n",
    "    first_name = first_name.split(\" \")[0]  # remove middle name/initial\n",
    "    gender = d.get_gender(first_name)\n",
    "    return gender"
   ]
  },
  {
   "cell_type": "markdown",
   "metadata": {},
   "source": [
    "This function can now be applied to the full name column."
   ]
  },
  {
   "cell_type": "code",
   "execution_count": 19,
   "metadata": {},
   "outputs": [],
   "source": [
    "df[\"Gender\"] = df[\"Full Name\"].apply(gender_name)"
   ]
  },
  {
   "cell_type": "code",
   "execution_count": 20,
   "metadata": {},
   "outputs": [
    {
     "data": {
      "text/plain": [
       "male             1501\n",
       "female           1165\n",
       "unknown           249\n",
       "mostly_female     126\n",
       "andy              116\n",
       "mostly_male        62\n",
       "Name: Gender, dtype: int64"
      ]
     },
     "execution_count": 20,
     "metadata": {},
     "output_type": "execute_result"
    }
   ],
   "source": [
    "df[\"Gender\"].value_counts()"
   ]
  },
  {
   "cell_type": "markdown",
   "metadata": {},
   "source": [
    "The results are the same as original gender column."
   ]
  }
 ],
 "metadata": {
  "kernelspec": {
   "display_name": "Python 3",
   "language": "python",
   "name": "python3"
  },
  "language_info": {
   "codemirror_mode": {
    "name": "ipython",
    "version": 3
   },
   "file_extension": ".py",
   "mimetype": "text/x-python",
   "name": "python",
   "nbconvert_exporter": "python",
   "pygments_lexer": "ipython3",
   "version": "3.6.8"
  }
 },
 "nbformat": 4,
 "nbformat_minor": 2
}
