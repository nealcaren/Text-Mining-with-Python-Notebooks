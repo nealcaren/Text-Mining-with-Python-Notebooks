{
 "cells": [
  {
   "cell_type": "markdown",
   "metadata": {},
   "source": [
    "# Scraping Twitter with Twint"
   ]
  },
  {
   "cell_type": "markdown",
   "metadata": {},
   "source": [
    "Twitter's [official API](https://developer.twitter.com/en/docs) is powerful is some ways, but fairly restrictive in the volume and pace of data collection. While social scientists are often interested in data from months or years ago, Twitter's [Standard Search API](https://developer.twitter.com/en/docs/tweets/search/overview) only goes back seven days. The cost of [purchasing historical Twitter data](https://developer.twitter.com/en/docs/tutorials/choosing-historical-api) is often out of reach of the average social scientist and even aquiring an API key has become increasingly difficult.\n",
    "\n",
    "However, all of public Twitter is still available through its standard web interface. The Python library [twint](https://github.com/twintproject/twint) takes advantage of this so you can collect data from Twitter without using the API. While it's pretty powerful, one major limitation is that while it gives the count of times something has been liked or retweeted, it does not return who liked or retweeted it.\n",
    "\n",
    "In this notebook, I walk through the basics of twint."
   ]
  },
  {
   "cell_type": "markdown",
   "metadata": {},
   "source": [
    "## Installation"
   ]
  },
  {
   "cell_type": "markdown",
   "metadata": {},
   "source": [
    "I used a two-step process to install twint. First, I used conda to install the required packages that were available through the conda-forge. In my experience, conda packages always work, but the same isn't true for pip. In this specific case, I couldn't get one of the twint dependencies (cchardet) to build through pip, so I had to use conda. \n",
    "\n",
    "Before installation, it is helpful to make sure you have the most up-to-date version of conda. Unfortunately, one of the consequences of conda's careful package management is that it can be slow."
   ]
  },
  {
   "cell_type": "code",
   "execution_count": 202,
   "metadata": {},
   "outputs": [
    {
     "name": "stdout",
     "output_type": "stream",
     "text": [
      "Collecting package metadata (repodata.json): done\n",
      "Solving environment: done\n",
      "\n",
      "## Package Plan ##\n",
      "\n",
      "  environment location: /Users/nealcaren/anaconda3\n",
      "\n",
      "  added / updated specs:\n",
      "    - conda\n",
      "\n",
      "\n",
      "The following packages will be downloaded:\n",
      "\n",
      "    package                    |            build\n",
      "    ---------------------------|-----------------\n",
      "    cffi-1.14.0                |   py36hb5b8e2f_0         218 KB\n",
      "    cloudpickle-1.3.0          |             py_0          29 KB\n",
      "    cython-0.29.15             |   py36h0a44026_0         2.1 MB\n",
      "    intel-openmp-2020.0        |              166         1.1 MB\n",
      "    json5-0.9.1                |             py_0          26 KB\n",
      "    parso-0.6.1                |             py_0          69 KB\n",
      "    pyodbc-4.0.30              |   py36h0a44026_0          66 KB\n",
      "    setuptools-45.2.0          |           py36_0         655 KB\n",
      "    sphinx-2.4.0               |             py_0         1.4 MB\n",
      "    sphinxcontrib-websupport-1.2.0|             py_0          35 KB\n",
      "    tornado-6.0.3              |   py36h1de35cc_3         643 KB\n",
      "    tqdm-4.42.1                |             py_0          56 KB\n",
      "    watchdog-0.10.2            |   py36h1de35cc_0          98 KB\n",
      "    werkzeug-1.0.0             |             py_0         243 KB\n",
      "    zipp-2.2.0                 |             py_0          12 KB\n",
      "    ------------------------------------------------------------\n",
      "                                           Total:         6.7 MB\n",
      "\n",
      "The following packages will be REMOVED:\n",
      "\n",
      "  inflect-4.1.0-py36_0\n",
      "  jaraco.itertools-5.0.0-py_0\n",
      "  pyobjc-core-6.1-py36_0\n",
      "  pyobjc-framework-cocoa-6.1-py36_0\n",
      "  pyobjc-framework-fsevents-6.1-py36_0\n",
      "\n",
      "The following packages will be UPDATED:\n",
      "\n",
      "  cffi                                1.13.2-py36hb5b8e2f_0 --> 1.14.0-py36hb5b8e2f_0\n",
      "  cloudpickle                                    1.2.2-py_0 --> 1.3.0-py_0\n",
      "  cython                             0.29.14-py36h0a44026_0 --> 0.29.15-py36h0a44026_0\n",
      "  intel-openmp                                   2019.4-233 --> 2020.0-166\n",
      "  json5                                          0.9.0-py_0 --> 0.9.1-py_0\n",
      "  parso                                          0.6.0-py_0 --> 0.6.1-py_0\n",
      "  pyodbc                              4.0.28-py36h0a44026_0 --> 4.0.30-py36h0a44026_0\n",
      "  setuptools                                  45.1.0-py36_0 --> 45.2.0-py36_0\n",
      "  sphinx                                         2.3.1-py_0 --> 2.4.0-py_0\n",
      "  sphinxcontrib-web~                             1.1.2-py_0 --> 1.2.0-py_0\n",
      "  tornado                              6.0.3-py36h1de35cc_0 --> 6.0.3-py36h1de35cc_3\n",
      "  tqdm                                          4.42.0-py_0 --> 4.42.1-py_0\n",
      "  watchdog                            0.10.1-py36h1de35cc_0 --> 0.10.2-py36h1de35cc_0\n",
      "  werkzeug                                      0.16.1-py_0 --> 1.0.0-py_0\n",
      "  zipp                                           2.1.0-py_0 --> 2.2.0-py_0\n",
      "\n",
      "\n",
      "\n",
      "Downloading and Extracting Packages\n",
      "watchdog-0.10.2      | 98 KB     | ##################################### | 100% \n",
      "cffi-1.14.0          | 218 KB    | ##################################### | 100% \n",
      "parso-0.6.1          | 69 KB     | ##################################### | 100% \n",
      "zipp-2.2.0           | 12 KB     | ##################################### | 100% \n",
      "cython-0.29.15       | 2.1 MB    | ##################################### | 100% \n",
      "pyodbc-4.0.30        | 66 KB     | ##################################### | 100% \n",
      "setuptools-45.2.0    | 655 KB    | ##################################### | 100% \n",
      "tornado-6.0.3        | 643 KB    | ##################################### | 100% \n",
      "json5-0.9.1          | 26 KB     | ##################################### | 100% \n",
      "tqdm-4.42.1          | 56 KB     | ##################################### | 100% \n",
      "sphinx-2.4.0         | 1.4 MB    | ##################################### | 100% \n",
      "sphinxcontrib-websup | 35 KB     | ##################################### | 100% \n",
      "intel-openmp-2020.0  | 1.1 MB    | ##################################### | 100% \n",
      "werkzeug-1.0.0       | 243 KB    | ##################################### | 100% \n",
      "cloudpickle-1.3.0    | 29 KB     | ##################################### | 100% \n",
      "Preparing transaction: done\n",
      "Verifying transaction: done\n",
      "Executing transaction: done\n",
      "\n",
      "Note: you may need to restart the kernel to use updated packages.\n"
     ]
    }
   ],
   "source": [
    "%conda update -n base -c defaults conda"
   ]
  },
  {
   "cell_type": "code",
   "execution_count": 203,
   "metadata": {},
   "outputs": [
    {
     "name": "stdout",
     "output_type": "stream",
     "text": [
      "Collecting package metadata (repodata.json): done\n",
      "Solving environment: - \n",
      "Warning: 4 possible package resolutions (only showing differing packages):\n",
      "  - anaconda/osx-64::ca-certificates-2019.8.28-0, anaconda/osx-64::openssl-1.1.1d-h1de35cc_2\n",
      "  - anaconda/osx-64::openssl-1.1.1d-h1de35cc_2, defaults/osx-64::ca-certificates-2019.8.28-0\n",
      "  - anaconda/osx-64::ca-certificates-2019.8.28-0, defaults/osx-64::openssl-1.1.1d-h1de35cc_2\n",
      "  - defaults/osx-64::ca-certificates-2019.8.28-0, defaults/osx-64::openssl-1.1.1d-h1de35ccdone\n",
      "\n",
      "# All requested packages already installed.\n",
      "\n",
      "\n",
      "Note: you may need to restart the kernel to use updated packages.\n"
     ]
    }
   ],
   "source": [
    "%conda install -c conda-forge aiohttp  pysocks geopy googletrans cchardet nest-asyncio"
   ]
  },
  {
   "cell_type": "markdown",
   "metadata": {},
   "source": [
    "The second step is to `%pip` install twint. "
   ]
  },
  {
   "cell_type": "code",
   "execution_count": 155,
   "metadata": {},
   "outputs": [
    {
     "name": "stdout",
     "output_type": "stream",
     "text": [
      "Requirement already satisfied: twint in /Users/nealcaren/anaconda3/envs/twint/lib/python3.7/site-packages (2.1.12)\n",
      "Requirement already satisfied: googletransx in /Users/nealcaren/anaconda3/envs/twint/lib/python3.7/site-packages (from twint) (2.4.2)\n",
      "Requirement already satisfied: fake-useragent in /Users/nealcaren/anaconda3/envs/twint/lib/python3.7/site-packages (from twint) (0.1.11)\n",
      "Requirement already satisfied: cchardet in /Users/nealcaren/anaconda3/envs/twint/lib/python3.7/site-packages (from twint) (2.1.4)\n",
      "Requirement already satisfied: pandas in /Users/nealcaren/anaconda3/envs/twint/lib/python3.7/site-packages (from twint) (0.25.1)\n",
      "Requirement already satisfied: geopy in /Users/nealcaren/anaconda3/envs/twint/lib/python3.7/site-packages (from twint) (1.21.0)\n",
      "Requirement already satisfied: pysocks in /Users/nealcaren/anaconda3/envs/twint/lib/python3.7/site-packages (from twint) (1.7.1)\n",
      "Requirement already satisfied: schedule in /Users/nealcaren/anaconda3/envs/twint/lib/python3.7/site-packages (from twint) (0.6.0)\n",
      "Requirement already satisfied: aiodns in /Users/nealcaren/anaconda3/envs/twint/lib/python3.7/site-packages (from twint) (2.0.0)\n",
      "Requirement already satisfied: elasticsearch in /Users/nealcaren/anaconda3/envs/twint/lib/python3.7/site-packages (from twint) (7.5.1)\n",
      "Requirement already satisfied: aiohttp in /Users/nealcaren/anaconda3/envs/twint/lib/python3.7/site-packages (from twint) (3.6.2)\n",
      "Requirement already satisfied: aiohttp-socks in /Users/nealcaren/anaconda3/envs/twint/lib/python3.7/site-packages (from twint) (0.3.4)\n",
      "Requirement already satisfied: beautifulsoup4 in /Users/nealcaren/anaconda3/envs/twint/lib/python3.7/site-packages (from twint) (4.8.0)\n",
      "Requirement already satisfied: requests in /Users/nealcaren/anaconda3/envs/twint/lib/python3.7/site-packages (from googletransx->twint) (2.22.0)\n",
      "Requirement already satisfied: numpy>=1.13.3 in /Users/nealcaren/anaconda3/envs/twint/lib/python3.7/site-packages (from pandas->twint) (1.17.2)\n",
      "Requirement already satisfied: pytz>=2017.2 in /Users/nealcaren/anaconda3/envs/twint/lib/python3.7/site-packages (from pandas->twint) (2019.3)\n",
      "Requirement already satisfied: python-dateutil>=2.6.1 in /Users/nealcaren/anaconda3/envs/twint/lib/python3.7/site-packages (from pandas->twint) (2.8.0)\n",
      "Requirement already satisfied: geographiclib<2,>=1.49 in /Users/nealcaren/anaconda3/envs/twint/lib/python3.7/site-packages (from geopy->twint) (1.50)\n",
      "Requirement already satisfied: pycares>=3.0.0 in /Users/nealcaren/anaconda3/envs/twint/lib/python3.7/site-packages (from aiodns->twint) (3.1.1)\n",
      "Requirement already satisfied: urllib3>=1.21.1 in /Users/nealcaren/anaconda3/envs/twint/lib/python3.7/site-packages (from elasticsearch->twint) (1.24.2)\n",
      "Requirement already satisfied: multidict<5.0,>=4.5 in /Users/nealcaren/anaconda3/envs/twint/lib/python3.7/site-packages (from aiohttp->twint) (4.7.4)\n",
      "Requirement already satisfied: async-timeout<4.0,>=3.0 in /Users/nealcaren/anaconda3/envs/twint/lib/python3.7/site-packages (from aiohttp->twint) (3.0.1)\n",
      "Requirement already satisfied: yarl<2.0,>=1.0 in /Users/nealcaren/anaconda3/envs/twint/lib/python3.7/site-packages (from aiohttp->twint) (1.3.0)\n",
      "Requirement already satisfied: chardet<4.0,>=2.0 in /Users/nealcaren/anaconda3/envs/twint/lib/python3.7/site-packages (from aiohttp->twint) (3.0.4)\n",
      "Requirement already satisfied: attrs>=17.3.0 in /Users/nealcaren/anaconda3/envs/twint/lib/python3.7/site-packages (from aiohttp->twint) (19.2.0)\n",
      "Requirement already satisfied: soupsieve>=1.2 in /Users/nealcaren/anaconda3/envs/twint/lib/python3.7/site-packages (from beautifulsoup4->twint) (1.9.3)\n",
      "Requirement already satisfied: certifi>=2017.4.17 in /Users/nealcaren/anaconda3/envs/twint/lib/python3.7/site-packages (from requests->googletransx->twint) (2019.9.11)\n",
      "Requirement already satisfied: idna<2.9,>=2.5 in /Users/nealcaren/anaconda3/envs/twint/lib/python3.7/site-packages (from requests->googletransx->twint) (2.8)\n",
      "Requirement already satisfied: six>=1.5 in /Users/nealcaren/anaconda3/envs/twint/lib/python3.7/site-packages (from python-dateutil>=2.6.1->pandas->twint) (1.12.0)\n",
      "Requirement already satisfied: cffi>=1.5.0 in /Users/nealcaren/anaconda3/envs/twint/lib/python3.7/site-packages (from pycares>=3.0.0->aiodns->twint) (1.12.3)\n",
      "Requirement already satisfied: pycparser in /Users/nealcaren/anaconda3/envs/twint/lib/python3.7/site-packages (from cffi>=1.5.0->pycares>=3.0.0->aiodns->twint) (2.19)\n",
      "Note: you may need to restart the kernel to use updated packages.\n"
     ]
    }
   ],
   "source": [
    "%pip install twint"
   ]
  },
  {
   "cell_type": "markdown",
   "metadata": {},
   "source": [
    "The `%conda` and `%pip` commands only need to be run once."
   ]
  },
  {
   "cell_type": "markdown",
   "metadata": {},
   "source": [
    "## Basic search usage"
   ]
  },
  {
   "cell_type": "markdown",
   "metadata": {},
   "source": [
    "In addition to the `twint` library, `nest_asyncio` needs to be imported when `twint` is employed in a notebook. `nest_asyncio` is used once to enable concurrent actions within a Jupyter notebook. "
   ]
  },
  {
   "cell_type": "code",
   "execution_count": 1,
   "metadata": {},
   "outputs": [],
   "source": [
    "import twint\n",
    "import nest_asyncio\n",
    "\n",
    "nest_asyncio.apply()"
   ]
  },
  {
   "cell_type": "markdown",
   "metadata": {},
   "source": [
    "Before searching, you need to configure the search parameters. A straightforward search might ask for the twenty most recent mentions of #blacklivesmatter. "
   ]
  },
  {
   "cell_type": "code",
   "execution_count": 2,
   "metadata": {},
   "outputs": [],
   "source": [
    "c = twint.Config()\n",
    "\n",
    "c.Search = '#blacklivesmatter'\n",
    "c.Limit = 20"
   ]
  },
  {
   "cell_type": "markdown",
   "metadata": {},
   "source": [
    "The configuration parameters are passed to the `Search' function."
   ]
  },
  {
   "cell_type": "code",
   "execution_count": 3,
   "metadata": {},
   "outputs": [
    {
     "name": "stdout",
     "output_type": "stream",
     "text": [
      "1231975589361274881 2020-02-24 11:14:04 EST <PuterGeek7> The best picture #Bernie2020 #BernieSanders #BernieSanders2020 #Bernie #BernieBeatsTrump #DemocraticSocialism #Progressive #Progressives #BlackLivesMatter @Latinos4Bernie @BerniePride @LGBT4Bernie @LGBTforBernie @BlacksForBernie @LostDiva #Road2Bernie https://twitter.com/breandad512/status/1231839419654688770 …\n",
      "1231975472621346817 2020-02-24 11:13:36 EST <titi_babydoll> #MLK #BlackHistoryMonth2020 #illkneel #BlackLivesMatter #berniesanders #VoteBlue #whitemoderate #inspirational #leader #PoorPeoplesCampaign  Order vs Justice Negative Peace vs Positive Peace https://twitter.com/revdrbarber/status/1231953273852219394 …\n",
      "1231974971641147393 2020-02-24 11:11:36 EST <Trumpagainstds> #Resist #MondayMood #KAGA2020 #ImpeachTrumpAgain #MondayVibes #mondaythoughts #DemocratsAreCorrupt #BlackLivesMatter #Trump2020 #TrumpIsARussianAsset #WalkAway  Based on New York Times article. https://www.businessinsider.com/the-clintons-putin-and-uranium-2015-4?op=1 …\n",
      "1231974085619601409 2020-02-24 11:08:05 EST <KnockMf> How many did Bloomberg march in ? Does Bloomberg support #BlackLivesMatter ? How did the NYPD treat minorities under his leadership in NYC ? I’ll wait on those answers\n",
      "1231973537499533312 2020-02-24 11:05:54 EST <hottargets2020> #BlackLivesMatter DONT SHOOT NYLA ‼️‼️‼️  https://twitter.com/nerfwhs/status/1231647403650027520 …\n",
      "1231973377633505280 2020-02-24 11:05:16 EST <PuterGeek7> #Bernie2020 #BernieSanders #BernieSanders2020 #Bernie #BernieBeatsTrump #DemocraticSocialism #Progressive #Progressives #BlackLivesMatter @Latinos4Bernie @BerniePride @LGBT4Bernie @LGBTforBernie @BlacksForBernie @LostDiva #Road2Bernie https://twitter.com/exrayfusion/status/1231970394556395520 …\n",
      "1231972590559756288 2020-02-24 11:02:09 EST <leet_tees> My Black Life Matters. All lives matter, but the ones really hurting right now is the African American community.  Support all human life, no matter the shade. #BlackLivesMatter #BlackHistoryMonth #BlackOwned #BlackGirlMagic  https://teespring.com/my-black-life-matters?cid=2397&page=1&pid=2&tsmac=store&tsmic=leet-tees … pic.twitter.com/4P71WK3lF7\n",
      "1231972175395115008 2020-02-24 11:00:30 EST <EvolvingManLBV> Y'all get my man @Kaepernick7 fired and blacklisted for kneeling for his 1st Amendment rights in the name of #BlackLivesMatter GTFO!  pic.twitter.com/xdEEh2IHLb\n",
      "1231972099893288962 2020-02-24 11:00:12 EST <PuterGeek7> #Bernie2020 #BernieSanders #BernieSanders2020 #Bernie #BernieBeatsTrump #DemocraticSocialism #Progressive #Progressives #BlackLivesMatter @Latinos4Bernie @BerniePride @LGBT4Bernie @LGBTforBernie @BlacksForBernie @LostDiva #Road2Bernie https://twitter.com/benjaminpdixon/status/1231925614447398919 …\n",
      "1231971842866532352 2020-02-24 10:59:10 EST <ToadOff> Can you imagine if it had been group of black youths who pushed a white boy into the river? Why is it not in the public intetest; I'm a member of the public and I'm interested to see justice done!  #interestedpublic #justiceforchristopher #blacklivesmatter  https://twitter.com/ToadOff/status/1231942955017134080 …\n",
      "1231971676478308352 2020-02-24 10:58:31 EST <Smedley_Butler> #BlackLivesMatter #BernieWon https://abc11.com/5961078/?fbclid=IwAR0BT-mNdwyrXSvL7NDdR3r3UkLc8Yj06vbjIgg6Dn0lIVCwJzUTqa-punE …\n",
      "1231970636169240576 2020-02-24 10:54:23 EST <PuterGeek7> #Bernie2020 #BernieSanders #BernieSanders2020 #Bernie #BernieBeatsTrump #DemocraticSocialism #Progressive #Progressives #BlackLivesMatter @Latinos4Bernie @BerniePride @LGBT4Bernie @LGBTforBernie @BlacksForBernie @LostDiva #Road2Bernie https://twitter.com/people4bernie/status/1231748253923733504 …\n",
      "1231970549653372929 2020-02-24 10:54:02 EST <jdawncarlson> @profjournalista's study traces post-#Ferguson shifts in journalism: less typecasting of protesters, more analysis of structural racism, & more diverse voices.  Confirms @j_cobbina's analysis that #BlackLivesMatter transformed US racial politics.     https://link.springer.com/chapter/10.1007/978-3-030-35221-9_3 …\n",
      "1231970478635413504 2020-02-24 10:53:45 EST <CathesComicz> Black History matters. #blacklivesmatter  https://twitter.com/NPR/status/1231965410435780608 …\n",
      "1231970136208347137 2020-02-24 10:52:24 EST <hollywoodcurry> #Rip: Katherine Johnson, one of the women profiled in the hit film \"Hidden Figures,\" died today at 101.  She was a black mathematician who calculated the flight path for America's first space mission and the first landing on the moon. #BlackHistoryMonth #BlackLivesMatter  pic.twitter.com/JO3flIaHKS\n",
      "1231969603804442626 2020-02-24 10:50:17 EST <Thecheekygenius> Dear #BlackTwitter & #blackpeopletwitter remember in South Carolina that #BlackLivesMatter #Obama wanted what #BernieSanders is trying to give you😑 #MedicareForAll #Obamacare is what the #GOP gave you. #JoeBiden2020 wants your kids to pay for college. Don't be stupid. #NotMeUs\n",
      "1231969179688984577 2020-02-24 10:48:35 EST <Lifeskills0> 'Hidden Figures' scientist Johnson dies at 101 #blacklivesmatter #blacktwitter http://a.msn.com/01/en-us/BB10kABC?ocid=st2 …\n",
      "1231968927657447424 2020-02-24 10:47:35 EST <Faithslayer202> #Liberals #LiberalsForBernie #Progressives #ProgressivesForBernie #WomenForBernie #MenForBernie #BlackLivesMatter. #UnionsForBernie #UnionWorkersForBernie #StudentsForBernie #PeopleForBernie #MillennialsForBernie #LatinosForBernie #LaborForBernie #SunriseMovement #OurRevolution\n",
      "1231968786787524611 2020-02-24 10:47:02 EST <Trumpagainstds> #Resist #MondayMood #KAGA2020 #ImpeachTrumpAgain #DonaldTrump #mondaythoughts #DemocratsAreCorrupt #BlackLivesMatter #Trump2020 #TrumpIsARussianAsset @SenateGOP #WalkAway https://www.redstate.com/streiff/2017/03/03/nancy-pelosi-caught-lying-nation-russian-intelligence-contacts/ …\n",
      "1231967800048091140 2020-02-24 10:43:07 EST <1person9neurons> #BlackLivesMatter\n"
     ]
    }
   ],
   "source": [
    "twint.run.Search(c)"
   ]
  },
  {
   "cell_type": "markdown",
   "metadata": {},
   "source": [
    "The function displays the tweet id, date, time, user, and content of the tweets matching the search parameters. While this display is useful for making sure the results match what you expected, they aren't stored anywhere. \n",
    "\n",
    "One storage solution is to output the results to a pandas dataframe. This setting update is done with the Pandas parameter of your search object."
   ]
  },
  {
   "cell_type": "code",
   "execution_count": 4,
   "metadata": {},
   "outputs": [],
   "source": [
    "import pandas as pd \n",
    "\n",
    "c = twint.Config()\n",
    "\n",
    "c.Search = '#blacklivesmatter'\n",
    "c.Limit = 20\n",
    "c.Pandas = True"
   ]
  },
  {
   "cell_type": "markdown",
   "metadata": {},
   "source": [
    "Run the search again with the new setting."
   ]
  },
  {
   "cell_type": "code",
   "execution_count": 5,
   "metadata": {},
   "outputs": [
    {
     "name": "stdout",
     "output_type": "stream",
     "text": [
      "1231975589361274881 2020-02-24 11:14:04 EST <PuterGeek7> The best picture #Bernie2020 #BernieSanders #BernieSanders2020 #Bernie #BernieBeatsTrump #DemocraticSocialism #Progressive #Progressives #BlackLivesMatter @Latinos4Bernie @BerniePride @LGBT4Bernie @LGBTforBernie @BlacksForBernie @LostDiva #Road2Bernie https://twitter.com/breandad512/status/1231839419654688770 …\n",
      "1231975472621346817 2020-02-24 11:13:36 EST <titi_babydoll> #MLK #BlackHistoryMonth2020 #illkneel #BlackLivesMatter #berniesanders #VoteBlue #whitemoderate #inspirational #leader #PoorPeoplesCampaign  Order vs Justice Negative Peace vs Positive Peace https://twitter.com/revdrbarber/status/1231953273852219394 …\n",
      "1231974971641147393 2020-02-24 11:11:36 EST <Trumpagainstds> #Resist #MondayMood #KAGA2020 #ImpeachTrumpAgain #MondayVibes #mondaythoughts #DemocratsAreCorrupt #BlackLivesMatter #Trump2020 #TrumpIsARussianAsset #WalkAway  Based on New York Times article. https://www.businessinsider.com/the-clintons-putin-and-uranium-2015-4?op=1 …\n",
      "1231974085619601409 2020-02-24 11:08:05 EST <KnockMf> How many did Bloomberg march in ? Does Bloomberg support #BlackLivesMatter ? How did the NYPD treat minorities under his leadership in NYC ? I’ll wait on those answers\n",
      "1231973537499533312 2020-02-24 11:05:54 EST <hottargets2020> #BlackLivesMatter DONT SHOOT NYLA ‼️‼️‼️  https://twitter.com/nerfwhs/status/1231647403650027520 …\n",
      "1231973377633505280 2020-02-24 11:05:16 EST <PuterGeek7> #Bernie2020 #BernieSanders #BernieSanders2020 #Bernie #BernieBeatsTrump #DemocraticSocialism #Progressive #Progressives #BlackLivesMatter @Latinos4Bernie @BerniePride @LGBT4Bernie @LGBTforBernie @BlacksForBernie @LostDiva #Road2Bernie https://twitter.com/exrayfusion/status/1231970394556395520 …\n",
      "1231972590559756288 2020-02-24 11:02:09 EST <leet_tees> My Black Life Matters. All lives matter, but the ones really hurting right now is the African American community.  Support all human life, no matter the shade. #BlackLivesMatter #BlackHistoryMonth #BlackOwned #BlackGirlMagic  https://teespring.com/my-black-life-matters?cid=2397&page=1&pid=2&tsmac=store&tsmic=leet-tees … pic.twitter.com/4P71WK3lF7\n",
      "1231972175395115008 2020-02-24 11:00:30 EST <EvolvingManLBV> Y'all get my man @Kaepernick7 fired and blacklisted for kneeling for his 1st Amendment rights in the name of #BlackLivesMatter GTFO!  pic.twitter.com/xdEEh2IHLb\n",
      "1231972099893288962 2020-02-24 11:00:12 EST <PuterGeek7> #Bernie2020 #BernieSanders #BernieSanders2020 #Bernie #BernieBeatsTrump #DemocraticSocialism #Progressive #Progressives #BlackLivesMatter @Latinos4Bernie @BerniePride @LGBT4Bernie @LGBTforBernie @BlacksForBernie @LostDiva #Road2Bernie https://twitter.com/benjaminpdixon/status/1231925614447398919 …\n",
      "1231971842866532352 2020-02-24 10:59:10 EST <ToadOff> Can you imagine if it had been group of black youths who pushed a white boy into the river? Why is it not in the public intetest; I'm a member of the public and I'm interested to see justice done!  #interestedpublic #justiceforchristopher #blacklivesmatter  https://twitter.com/ToadOff/status/1231942955017134080 …\n",
      "1231971676478308352 2020-02-24 10:58:31 EST <Smedley_Butler> #BlackLivesMatter #BernieWon https://abc11.com/5961078/?fbclid=IwAR0BT-mNdwyrXSvL7NDdR3r3UkLc8Yj06vbjIgg6Dn0lIVCwJzUTqa-punE …\n",
      "1231970636169240576 2020-02-24 10:54:23 EST <PuterGeek7> #Bernie2020 #BernieSanders #BernieSanders2020 #Bernie #BernieBeatsTrump #DemocraticSocialism #Progressive #Progressives #BlackLivesMatter @Latinos4Bernie @BerniePride @LGBT4Bernie @LGBTforBernie @BlacksForBernie @LostDiva #Road2Bernie https://twitter.com/people4bernie/status/1231748253923733504 …\n",
      "1231970549653372929 2020-02-24 10:54:02 EST <jdawncarlson> @profjournalista's study traces post-#Ferguson shifts in journalism: less typecasting of protesters, more analysis of structural racism, & more diverse voices.  Confirms @j_cobbina's analysis that #BlackLivesMatter transformed US racial politics.     https://link.springer.com/chapter/10.1007/978-3-030-35221-9_3 …\n",
      "1231970478635413504 2020-02-24 10:53:45 EST <CathesComicz> Black History matters. #blacklivesmatter  https://twitter.com/NPR/status/1231965410435780608 …\n",
      "1231970136208347137 2020-02-24 10:52:24 EST <hollywoodcurry> #Rip: Katherine Johnson, one of the women profiled in the hit film \"Hidden Figures,\" died today at 101.  She was a black mathematician who calculated the flight path for America's first space mission and the first landing on the moon. #BlackHistoryMonth #BlackLivesMatter  pic.twitter.com/JO3flIaHKS\n",
      "1231969603804442626 2020-02-24 10:50:17 EST <Thecheekygenius> Dear #BlackTwitter & #blackpeopletwitter remember in South Carolina that #BlackLivesMatter #Obama wanted what #BernieSanders is trying to give you😑 #MedicareForAll #Obamacare is what the #GOP gave you. #JoeBiden2020 wants your kids to pay for college. Don't be stupid. #NotMeUs\n",
      "1231969179688984577 2020-02-24 10:48:35 EST <Lifeskills0> 'Hidden Figures' scientist Johnson dies at 101 #blacklivesmatter #blacktwitter http://a.msn.com/01/en-us/BB10kABC?ocid=st2 …\n",
      "1231968927657447424 2020-02-24 10:47:35 EST <Faithslayer202> #Liberals #LiberalsForBernie #Progressives #ProgressivesForBernie #WomenForBernie #MenForBernie #BlackLivesMatter. #UnionsForBernie #UnionWorkersForBernie #StudentsForBernie #PeopleForBernie #MillennialsForBernie #LatinosForBernie #LaborForBernie #SunriseMovement #OurRevolution\n",
      "1231968786787524611 2020-02-24 10:47:02 EST <Trumpagainstds> #Resist #MondayMood #KAGA2020 #ImpeachTrumpAgain #DonaldTrump #mondaythoughts #DemocratsAreCorrupt #BlackLivesMatter #Trump2020 #TrumpIsARussianAsset @SenateGOP #WalkAway https://www.redstate.com/streiff/2017/03/03/nancy-pelosi-caught-lying-nation-russian-intelligence-contacts/ …\n",
      "1231967800048091140 2020-02-24 10:43:07 EST <1person9neurons> #BlackLivesMatter\n"
     ]
    }
   ],
   "source": [
    "twint.run.Search(c)\n"
   ]
  },
  {
   "cell_type": "markdown",
   "metadata": {},
   "source": [
    "If someone tweeted about #blacklivesmatter in between the two searches, your results will differ. You can store the results in a dataframe and display a sample of the responses."
   ]
  },
  {
   "cell_type": "code",
   "execution_count": 6,
   "metadata": {},
   "outputs": [
    {
     "data": {
      "text/html": [
       "<div>\n",
       "<style scoped>\n",
       "    .dataframe tbody tr th:only-of-type {\n",
       "        vertical-align: middle;\n",
       "    }\n",
       "\n",
       "    .dataframe tbody tr th {\n",
       "        vertical-align: top;\n",
       "    }\n",
       "\n",
       "    .dataframe thead th {\n",
       "        text-align: right;\n",
       "    }\n",
       "</style>\n",
       "<table border=\"1\" class=\"dataframe\">\n",
       "  <thead>\n",
       "    <tr style=\"text-align: right;\">\n",
       "      <th></th>\n",
       "      <th>id</th>\n",
       "      <th>conversation_id</th>\n",
       "      <th>created_at</th>\n",
       "      <th>date</th>\n",
       "      <th>timezone</th>\n",
       "      <th>place</th>\n",
       "      <th>tweet</th>\n",
       "      <th>hashtags</th>\n",
       "      <th>cashtags</th>\n",
       "      <th>user_id</th>\n",
       "      <th>...</th>\n",
       "      <th>geo</th>\n",
       "      <th>source</th>\n",
       "      <th>user_rt_id</th>\n",
       "      <th>user_rt</th>\n",
       "      <th>retweet_id</th>\n",
       "      <th>reply_to</th>\n",
       "      <th>retweet_date</th>\n",
       "      <th>translate</th>\n",
       "      <th>trans_src</th>\n",
       "      <th>trans_dest</th>\n",
       "    </tr>\n",
       "  </thead>\n",
       "  <tbody>\n",
       "    <tr>\n",
       "      <th>5</th>\n",
       "      <td>1231973377633505280</td>\n",
       "      <td>1231973377633505280</td>\n",
       "      <td>1582560316000</td>\n",
       "      <td>2020-02-24 11:05:16</td>\n",
       "      <td>EST</td>\n",
       "      <td></td>\n",
       "      <td>#Bernie2020 #BernieSanders #BernieSanders2020 ...</td>\n",
       "      <td>[#bernie2020, #berniesanders, #berniesanders20...</td>\n",
       "      <td>[]</td>\n",
       "      <td>1213716872945795073</td>\n",
       "      <td>...</td>\n",
       "      <td></td>\n",
       "      <td></td>\n",
       "      <td></td>\n",
       "      <td></td>\n",
       "      <td></td>\n",
       "      <td>[{'user_id': '1213716872945795073', 'username'...</td>\n",
       "      <td></td>\n",
       "      <td></td>\n",
       "      <td></td>\n",
       "      <td></td>\n",
       "    </tr>\n",
       "    <tr>\n",
       "      <th>7</th>\n",
       "      <td>1231972175395115008</td>\n",
       "      <td>1231797010820403200</td>\n",
       "      <td>1582560030000</td>\n",
       "      <td>2020-02-24 11:00:30</td>\n",
       "      <td>EST</td>\n",
       "      <td></td>\n",
       "      <td>Y'all get my man @Kaepernick7 fired and blackl...</td>\n",
       "      <td>[#blacklivesmatter]</td>\n",
       "      <td>[]</td>\n",
       "      <td>701208785331875840</td>\n",
       "      <td>...</td>\n",
       "      <td></td>\n",
       "      <td></td>\n",
       "      <td></td>\n",
       "      <td></td>\n",
       "      <td></td>\n",
       "      <td>[{'user_id': '701208785331875840', 'username':...</td>\n",
       "      <td></td>\n",
       "      <td></td>\n",
       "      <td></td>\n",
       "      <td></td>\n",
       "    </tr>\n",
       "    <tr>\n",
       "      <th>8</th>\n",
       "      <td>1231972099893288962</td>\n",
       "      <td>1231972099893288962</td>\n",
       "      <td>1582560012000</td>\n",
       "      <td>2020-02-24 11:00:12</td>\n",
       "      <td>EST</td>\n",
       "      <td></td>\n",
       "      <td>#Bernie2020 #BernieSanders #BernieSanders2020 ...</td>\n",
       "      <td>[#bernie2020, #berniesanders, #berniesanders20...</td>\n",
       "      <td>[]</td>\n",
       "      <td>1213716872945795073</td>\n",
       "      <td>...</td>\n",
       "      <td></td>\n",
       "      <td></td>\n",
       "      <td></td>\n",
       "      <td></td>\n",
       "      <td></td>\n",
       "      <td>[{'user_id': '1213716872945795073', 'username'...</td>\n",
       "      <td></td>\n",
       "      <td></td>\n",
       "      <td></td>\n",
       "      <td></td>\n",
       "    </tr>\n",
       "    <tr>\n",
       "      <th>15</th>\n",
       "      <td>1231969603804442626</td>\n",
       "      <td>1231969603804442626</td>\n",
       "      <td>1582559417000</td>\n",
       "      <td>2020-02-24 10:50:17</td>\n",
       "      <td>EST</td>\n",
       "      <td></td>\n",
       "      <td>Dear #BlackTwitter &amp; #blackpeopletwitter remem...</td>\n",
       "      <td>[#blacktwitter, #blackpeopletwitter, #blackliv...</td>\n",
       "      <td>[]</td>\n",
       "      <td>996857178400219137</td>\n",
       "      <td>...</td>\n",
       "      <td></td>\n",
       "      <td></td>\n",
       "      <td></td>\n",
       "      <td></td>\n",
       "      <td></td>\n",
       "      <td>[{'user_id': '996857178400219137', 'username':...</td>\n",
       "      <td></td>\n",
       "      <td></td>\n",
       "      <td></td>\n",
       "      <td></td>\n",
       "    </tr>\n",
       "    <tr>\n",
       "      <th>17</th>\n",
       "      <td>1231968927657447424</td>\n",
       "      <td>1231968924796903434</td>\n",
       "      <td>1582559255000</td>\n",
       "      <td>2020-02-24 10:47:35</td>\n",
       "      <td>EST</td>\n",
       "      <td></td>\n",
       "      <td>#Liberals #LiberalsForBernie #Progressives #Pr...</td>\n",
       "      <td>[#liberals, #liberalsforbernie, #progressives,...</td>\n",
       "      <td>[]</td>\n",
       "      <td>2717187818</td>\n",
       "      <td>...</td>\n",
       "      <td></td>\n",
       "      <td></td>\n",
       "      <td></td>\n",
       "      <td></td>\n",
       "      <td></td>\n",
       "      <td>[{'user_id': '2717187818', 'username': 'Faiths...</td>\n",
       "      <td></td>\n",
       "      <td></td>\n",
       "      <td></td>\n",
       "      <td></td>\n",
       "    </tr>\n",
       "  </tbody>\n",
       "</table>\n",
       "<p>5 rows × 33 columns</p>\n",
       "</div>"
      ],
      "text/plain": [
       "                     id      conversation_id     created_at  \\\n",
       "5   1231973377633505280  1231973377633505280  1582560316000   \n",
       "7   1231972175395115008  1231797010820403200  1582560030000   \n",
       "8   1231972099893288962  1231972099893288962  1582560012000   \n",
       "15  1231969603804442626  1231969603804442626  1582559417000   \n",
       "17  1231968927657447424  1231968924796903434  1582559255000   \n",
       "\n",
       "                   date timezone place  \\\n",
       "5   2020-02-24 11:05:16      EST         \n",
       "7   2020-02-24 11:00:30      EST         \n",
       "8   2020-02-24 11:00:12      EST         \n",
       "15  2020-02-24 10:50:17      EST         \n",
       "17  2020-02-24 10:47:35      EST         \n",
       "\n",
       "                                                tweet  \\\n",
       "5   #Bernie2020 #BernieSanders #BernieSanders2020 ...   \n",
       "7   Y'all get my man @Kaepernick7 fired and blackl...   \n",
       "8   #Bernie2020 #BernieSanders #BernieSanders2020 ...   \n",
       "15  Dear #BlackTwitter & #blackpeopletwitter remem...   \n",
       "17  #Liberals #LiberalsForBernie #Progressives #Pr...   \n",
       "\n",
       "                                             hashtags cashtags  \\\n",
       "5   [#bernie2020, #berniesanders, #berniesanders20...       []   \n",
       "7                                 [#blacklivesmatter]       []   \n",
       "8   [#bernie2020, #berniesanders, #berniesanders20...       []   \n",
       "15  [#blacktwitter, #blackpeopletwitter, #blackliv...       []   \n",
       "17  [#liberals, #liberalsforbernie, #progressives,...       []   \n",
       "\n",
       "                user_id  ... geo source user_rt_id  user_rt retweet_id  \\\n",
       "5   1213716872945795073  ...                                             \n",
       "7    701208785331875840  ...                                             \n",
       "8   1213716872945795073  ...                                             \n",
       "15   996857178400219137  ...                                             \n",
       "17           2717187818  ...                                             \n",
       "\n",
       "                                             reply_to  retweet_date  \\\n",
       "5   [{'user_id': '1213716872945795073', 'username'...                 \n",
       "7   [{'user_id': '701208785331875840', 'username':...                 \n",
       "8   [{'user_id': '1213716872945795073', 'username'...                 \n",
       "15  [{'user_id': '996857178400219137', 'username':...                 \n",
       "17  [{'user_id': '2717187818', 'username': 'Faiths...                 \n",
       "\n",
       "    translate  trans_src  trans_dest  \n",
       "5                                     \n",
       "7                                     \n",
       "8                                     \n",
       "15                                    \n",
       "17                                    \n",
       "\n",
       "[5 rows x 33 columns]"
      ]
     },
     "execution_count": 6,
     "metadata": {},
     "output_type": "execute_result"
    }
   ],
   "source": [
    "df = twint.storage.panda.Tweets_df\n",
    "\n",
    "df.sample(5)"
   ]
  },
  {
   "cell_type": "markdown",
   "metadata": {},
   "source": [
    "The dataframe includes more information than was displayed. "
   ]
  },
  {
   "cell_type": "code",
   "execution_count": 7,
   "metadata": {},
   "outputs": [
    {
     "name": "stdout",
     "output_type": "stream",
     "text": [
      "<class 'pandas.core.frame.DataFrame'>\n",
      "RangeIndex: 20 entries, 0 to 19\n",
      "Data columns (total 33 columns):\n",
      "id                 20 non-null object\n",
      "conversation_id    20 non-null object\n",
      "created_at         20 non-null int64\n",
      "date               20 non-null object\n",
      "timezone           20 non-null object\n",
      "place              20 non-null object\n",
      "tweet              20 non-null object\n",
      "hashtags           20 non-null object\n",
      "cashtags           20 non-null object\n",
      "user_id            20 non-null int64\n",
      "user_id_str        20 non-null object\n",
      "username           20 non-null object\n",
      "name               20 non-null object\n",
      "day                20 non-null int64\n",
      "hour               20 non-null object\n",
      "link               20 non-null object\n",
      "retweet            20 non-null bool\n",
      "nlikes             20 non-null int64\n",
      "nreplies           20 non-null int64\n",
      "nretweets          20 non-null int64\n",
      "quote_url          20 non-null object\n",
      "search             20 non-null object\n",
      "near               20 non-null object\n",
      "geo                20 non-null object\n",
      "source             20 non-null object\n",
      "user_rt_id         20 non-null object\n",
      "user_rt            20 non-null object\n",
      "retweet_id         20 non-null object\n",
      "reply_to           20 non-null object\n",
      "retweet_date       20 non-null object\n",
      "translate          20 non-null object\n",
      "trans_src          20 non-null object\n",
      "trans_dest         20 non-null object\n",
      "dtypes: bool(1), int64(6), object(26)\n",
      "memory usage: 5.1+ KB\n"
     ]
    }
   ],
   "source": [
    "df.info()"
   ]
  },
  {
   "cell_type": "markdown",
   "metadata": {},
   "source": [
    "Like any other dataframe, this one can be stored in csv or json format for later analysis."
   ]
  },
  {
   "cell_type": "code",
   "execution_count": 8,
   "metadata": {},
   "outputs": [],
   "source": [
    "df.to_csv('blm_20.csv', index=False)"
   ]
  },
  {
   "cell_type": "markdown",
   "metadata": {},
   "source": [
    "### Twint Exercise 1"
   ]
  },
  {
   "cell_type": "markdown",
   "metadata": {},
   "source": [
    "Look under the `hashtags` header in the sample of your dataframe of the 20 latest tweets containing #blacklivesmatter.  Most likely, you'll encounter other hashtags co-occurring with #blacklivesmatter; for example, my sample also includes  #wearetired.  Choose one of the other hashtags you see (or, if you'd like, #wearetired), and search for the last 50 tweets containing the hashtag.  Look at a sample of 10 of these tweets, then store the dataframe in csv format.  "
   ]
  },
  {
   "cell_type": "markdown",
   "metadata": {},
   "source": [
    "  <details>\n",
    "      <summary>Sample answer code</summary>\n",
    "    <code>c = twint.Config()\n",
    "c.Search = '#wearetired'\n",
    "c.Limit = 50\n",
    "c.Pandas = True\n",
    "twint.run.Search(c)\n",
    "df = twint.storage.panda.Tweets_df\n",
    "df.sample(10)\n",
    "df.to_wearetired('blm_50.csv', index=False)</code></details>"
   ]
  },
  {
   "cell_type": "markdown",
   "metadata": {},
   "source": [
    "### An Example: #womensmarch"
   ]
  },
  {
   "cell_type": "markdown",
   "metadata": {},
   "source": [
    "For most social science projects, you would not be interested in the most recent tweets, but rather those from a fixed time period. Gathering historical data is also a particular strength of twint. \n",
    "\n",
    "To study the early days of the Women's March on Twitter, you can use the `Since` and `Until` parameters to select a date range. These should be of the \"YYYY-MM-DD\" format and the search includes up to, but not including the `Until` date. \n",
    "\n",
    "The `Hide_output` can be set to `True` to hide the tweet scroll. Notebooks don't handle massive text displays well, so hiding the output is important in large scale data collection.\n",
    "\n",
    "Finally, the results can be stored directly to a file in the JSON format using the `Store_json` and `Output` parameters. The file is updated after every call to Twitter. \n"
   ]
  },
  {
   "cell_type": "code",
   "execution_count": 9,
   "metadata": {},
   "outputs": [],
   "source": [
    "c = twint.Config()\n",
    "\n",
    "c.Search = '#womensmarch'\n",
    "\n",
    "c.Since = '2016-11-01'\n",
    "c.Until = '2017-01-01'\n",
    "\n",
    "c.Hide_output = True\n",
    "\n",
    "c.Store_json = True\n",
    "c.Output = 'womensmarch_2016.json'\n"
   ]
  },
  {
   "cell_type": "markdown",
   "metadata": {},
   "source": [
    "Running the search takes about 5 minutes."
   ]
  },
  {
   "cell_type": "code",
   "execution_count": 10,
   "metadata": {},
   "outputs": [],
   "source": [
    "twint.run.Search(c)"
   ]
  },
  {
   "cell_type": "markdown",
   "metadata": {},
   "source": [
    "The resulting file is 5.5 MBs of tweet meta data. The information can be read back into Python as a dataframe. Since the tweets are line seperated, the `lines` parameter needs to set to `True` in the `read_json` command."
   ]
  },
  {
   "cell_type": "code",
   "execution_count": 11,
   "metadata": {},
   "outputs": [
    {
     "name": "stdout",
     "output_type": "stream",
     "text": [
      "<class 'pandas.core.frame.DataFrame'>\n",
      "RangeIndex: 5313 entries, 0 to 5312\n",
      "Data columns (total 34 columns):\n",
      "id                 5313 non-null int64\n",
      "conversation_id    5313 non-null int64\n",
      "created_at         5313 non-null datetime64[ns]\n",
      "date               5313 non-null datetime64[ns]\n",
      "time               5313 non-null object\n",
      "timezone           5313 non-null object\n",
      "user_id            5313 non-null int64\n",
      "username           5313 non-null object\n",
      "name               5313 non-null object\n",
      "place              5313 non-null object\n",
      "tweet              5313 non-null object\n",
      "mentions           5313 non-null object\n",
      "urls               5313 non-null object\n",
      "photos             5313 non-null object\n",
      "replies_count      5313 non-null int64\n",
      "retweets_count     5313 non-null int64\n",
      "likes_count        5313 non-null int64\n",
      "hashtags           5313 non-null object\n",
      "cashtags           5313 non-null object\n",
      "link               5313 non-null object\n",
      "retweet            5313 non-null bool\n",
      "quote_url          5313 non-null object\n",
      "video              5313 non-null int64\n",
      "near               5313 non-null object\n",
      "geo                5313 non-null object\n",
      "source             5313 non-null object\n",
      "user_rt_id         5313 non-null object\n",
      "user_rt            5313 non-null object\n",
      "retweet_id         5313 non-null object\n",
      "reply_to           5313 non-null object\n",
      "retweet_date       5313 non-null object\n",
      "translate          5313 non-null object\n",
      "trans_src          5313 non-null object\n",
      "trans_dest         5313 non-null object\n",
      "dtypes: bool(1), datetime64[ns](2), int64(7), object(24)\n",
      "memory usage: 1.3+ MB\n"
     ]
    }
   ],
   "source": [
    "df = pd.read_json('womensmarch_2016.json' , lines = True)\n",
    "\n",
    "df.info()"
   ]
  },
  {
   "cell_type": "markdown",
   "metadata": {},
   "source": [
    "The dataframe contains information on 5,370 tweets. Plotting the frequency by day, it appears that December 9th contained the greatest number of tweets with the hashtag."
   ]
  },
  {
   "cell_type": "code",
   "execution_count": 12,
   "metadata": {},
   "outputs": [
    {
     "data": {
      "text/plain": [
       "<matplotlib.axes._subplots.AxesSubplot at 0x114911790>"
      ]
     },
     "execution_count": 12,
     "metadata": {},
     "output_type": "execute_result"
    },
    {
     "data": {
      "image/png": "[encoded data removed]",
      "text/plain": [
       "<Figure size 432x288 with 1 Axes>"
      ]
     },
     "metadata": {
      "needs_background": "light"
     },
     "output_type": "display_data"
    }
   ],
   "source": [
    "%matplotlib inline\n",
    "\n",
    "df['date'].value_counts().plot()"
   ]
  },
  {
   "cell_type": "markdown",
   "metadata": {},
   "source": [
    "You can also count frequency including retweets by constructing a new variable that is the number of retweets plus one (the original tweet). This shows a slightly different trend, with several new peaks."
   ]
  },
  {
   "cell_type": "code",
   "execution_count": 13,
   "metadata": {},
   "outputs": [
    {
     "data": {
      "text/plain": [
       "<matplotlib.axes._subplots.AxesSubplot at 0x1140ea690>"
      ]
     },
     "execution_count": 13,
     "metadata": {},
     "output_type": "execute_result"
    },
    {
     "data": {
      "image/png": "[encoded data removed]",
      "text/plain": [
       "<Figure size 432x288 with 1 Axes>"
      ]
     },
     "metadata": {
      "needs_background": "light"
     },
     "output_type": "display_data"
    }
   ],
   "source": [
    "df['tweet_counts'] = df['retweets_count'] + 1\n",
    "\n",
    "df.groupby(df[\"date\"]).sum()[\"tweet_counts\"].plot()"
   ]
  },
  {
   "cell_type": "markdown",
   "metadata": {},
   "source": [
    "### Twint Exercise 2"
   ]
  },
  {
   "cell_type": "markdown",
   "metadata": {},
   "source": [
    "Let's use the same set of tools to look at the tweet and retweet frequencies associated with the #womensmarch in 2018, over a smaller period of time. Use `Since` and `Until` to set the date parameters so that we're scraping tweets from the period between January 18th, 2018 to January 22nd, 2018. What's the day with the highest tweet frequency? Is there anything different going on with the retweet frequency? How do the frequencies we with the 2018 #womensmarch compare to the frequencies we saw for the #womensmarch from 2016 to 2017? (Hint: Don't forget to hide the tweet scroll and store the file in JSON format.)"
   ]
  },
  {
   "cell_type": "markdown",
   "metadata": {},
   "source": [
    "<details>\n",
    "<summary>Sample answer code</summary> \n",
    "<code style=\"background-color: white\">\n",
    "c = twint.Config()\n",
    "\n",
    "c.Search = '#womensmarch'\n",
    "\n",
    "c.Since = '2018-01-18'\n",
    "c.Until = '2018-01-22'\n",
    "\n",
    "\n",
    "c.Hide_output = True\n",
    "\n",
    "c.Store_json = True\n",
    "c.Output = 'womensmarch_2018.json'\n",
    "    \n",
    "df1 = pd.read_json('womensmarch_2018.json' , lines = True)\n",
    "\n",
    "df1.info()\n",
    "    \n",
    "%matplotlib inline\n",
    "\n",
    "df1['date'].value_counts().plot()\n",
    "    \n",
    "df1['tweet_counts'] = df1['retweets_count'] + 1\n",
    "\n",
    "df1.groupby(df1[\"date\"]).sum()[\"tweet_counts\"].plot()\n",
    "</code>\n",
    "</details>"
   ]
  },
  {
   "cell_type": "code",
   "execution_count": 73,
   "metadata": {},
   "outputs": [],
   "source": [
    "import pandas as pd\n",
    "c = twint.Config()\n",
    "\n",
    "c.Search = '#womensmarch'\n",
    "\n",
    "c.Since = '2018-01-18'\n",
    "c.Until = '2017-01-22'\n",
    "\n",
    "\n",
    "c.Hide_output = True\n",
    "\n",
    "c.Store_json = True\n",
    "c.Output = 'womensmarch_2018.json'"
   ]
  },
  {
   "cell_type": "code",
   "execution_count": 74,
   "metadata": {},
   "outputs": [],
   "source": [
    "twint.run.Search(c)"
   ]
  },
  {
   "cell_type": "code",
   "execution_count": 75,
   "metadata": {},
   "outputs": [
    {
     "name": "stdout",
     "output_type": "stream",
     "text": [
      "<class 'pandas.core.frame.DataFrame'>\n",
      "RangeIndex: 125584 entries, 0 to 125583\n",
      "Data columns (total 34 columns):\n",
      " #   Column           Non-Null Count   Dtype         \n",
      "---  ------           --------------   -----         \n",
      " 0   id               125584 non-null  int64         \n",
      " 1   conversation_id  125584 non-null  int64         \n",
      " 2   created_at       125584 non-null  datetime64[ns]\n",
      " 3   date             125584 non-null  datetime64[ns]\n",
      " 4   time             125584 non-null  object        \n",
      " 5   timezone         125584 non-null  object        \n",
      " 6   user_id          125584 non-null  int64         \n",
      " 7   username         125584 non-null  object        \n",
      " 8   name             125584 non-null  object        \n",
      " 9   place            125584 non-null  object        \n",
      " 10  tweet            125584 non-null  object        \n",
      " 11  mentions         125584 non-null  object        \n",
      " 12  urls             125584 non-null  object        \n",
      " 13  photos           125584 non-null  object        \n",
      " 14  replies_count    125584 non-null  int64         \n",
      " 15  retweets_count   125584 non-null  int64         \n",
      " 16  likes_count      125584 non-null  int64         \n",
      " 17  hashtags         125584 non-null  object        \n",
      " 18  cashtags         125584 non-null  object        \n",
      " 19  link             125584 non-null  object        \n",
      " 20  retweet          125584 non-null  bool          \n",
      " 21  quote_url        125584 non-null  object        \n",
      " 22  video            125584 non-null  int64         \n",
      " 23  near             125584 non-null  object        \n",
      " 24  geo              125584 non-null  object        \n",
      " 25  source           125584 non-null  object        \n",
      " 26  user_rt_id       125584 non-null  object        \n",
      " 27  user_rt          125584 non-null  object        \n",
      " 28  retweet_id       125584 non-null  object        \n",
      " 29  reply_to         125584 non-null  object        \n",
      " 30  retweet_date     125584 non-null  object        \n",
      " 31  translate        125584 non-null  object        \n",
      " 32  trans_src        125584 non-null  object        \n",
      " 33  trans_dest       125584 non-null  object        \n",
      "dtypes: bool(1), datetime64[ns](2), int64(7), object(24)\n",
      "memory usage: 31.7+ MB\n"
     ]
    }
   ],
   "source": [
    "df1 = pd.read_json('womensmarch_2018.json' , lines = True)\n",
    "\n",
    "df1.info()"
   ]
  },
  {
   "cell_type": "code",
   "execution_count": 76,
   "metadata": {},
   "outputs": [
    {
     "data": {
      "text/plain": [
       "<matplotlib.axes._subplots.AxesSubplot at 0x1ed69c710>"
      ]
     },
     "execution_count": 76,
     "metadata": {},
     "output_type": "execute_result"
    },
    {
     "data": {
      "image/png": "[encoded data removed]",
      "text/plain": [
       "<Figure size 432x288 with 1 Axes>"
      ]
     },
     "metadata": {
      "needs_background": "light"
     },
     "output_type": "display_data"
    }
   ],
   "source": [
    "%matplotlib inline\n",
    "\n",
    "df1['date'].value_counts().plot()"
   ]
  },
  {
   "cell_type": "code",
   "execution_count": 77,
   "metadata": {},
   "outputs": [
    {
     "data": {
      "text/plain": [
       "<matplotlib.axes._subplots.AxesSubplot at 0x12e505550>"
      ]
     },
     "execution_count": 77,
     "metadata": {},
     "output_type": "execute_result"
    },
    {
     "data": {
      "image/png": "[encoded data removed]",
      "text/plain": [
       "<Figure size 432x288 with 1 Axes>"
      ]
     },
     "metadata": {
      "needs_background": "light"
     },
     "output_type": "display_data"
    }
   ],
   "source": [
    "df1['tweet_counts'] = df1['retweets_count'] + 1\n",
    "\n",
    "df1.groupby(df1[\"date\"]).sum()[\"tweet_counts\"].plot()"
   ]
  },
  {
   "cell_type": "markdown",
   "metadata": {},
   "source": [
    "## Visulaizing Tweets"
   ]
  },
  {
   "cell_type": "markdown",
   "metadata": {},
   "source": [
    "You can take advantage of the fact that the tweet meta data provides a link to the original tweet and that Python can display HTML to visualize the tweets in your notebook. First, a small function to get and display the tweet based on the link url."
   ]
  },
  {
   "cell_type": "code",
   "execution_count": 14,
   "metadata": {
    "scrolled": false
   },
   "outputs": [],
   "source": [
    "from IPython.display import HTML\n",
    "import requests\n",
    "\n",
    "def show_tweet(link):\n",
    "    '''Display the contents of a tweet. '''\n",
    "    url = 'https://publish.twitter.com/oembed?url=%s' % link\n",
    "    response = requests.get(url)\n",
    "    html = response.json()[\"html\"]\n",
    "    display(HTML(html))\n"
   ]
  },
  {
   "cell_type": "markdown",
   "metadata": {},
   "source": [
    "The function can be tested on a sample link."
   ]
  },
  {
   "cell_type": "code",
   "execution_count": 20,
   "metadata": {},
   "outputs": [
    {
     "data": {
      "text/plain": [
       "'https://twitter.com/EndHateRadio/status/800472193943552000'"
      ]
     },
     "metadata": {},
     "output_type": "display_data"
    },
    {
     "data": {
      "text/html": [
       "<blockquote class=\"twitter-tweet\"><p lang=\"en\" dir=\"ltr\">MA tweeps, there is a big <a href=\"https://twitter.com/hashtag/WomensMarch?src=hash&amp;ref_src=twsrc%5Etfw\">#WomensMarch</a> in Boston starting to take shape! If you have one in your state, DM me! <a href=\"https://t.co/8uEKu7KUxW\">https://t.co/8uEKu7KUxW</a></p>&mdash; end hate radio (@EndHateRadio) <a href=\"https://twitter.com/EndHateRadio/status/800472193943552000?ref_src=twsrc%5Etfw\">November 20, 2016</a></blockquote>\n",
       "<script async src=\"https://platform.twitter.com/widgets.js\" charset=\"utf-8\"></script>\n"
      ],
      "text/plain": [
       "<IPython.core.display.HTML object>"
      ]
     },
     "metadata": {},
     "output_type": "display_data"
    }
   ],
   "source": [
    "sample_tweet_link = df.sample(1)['link'].values[0]\n",
    "display(sample_tweet_link)\n",
    "show_tweet(sample_tweet_link)"
   ]
  },
  {
   "cell_type": "markdown",
   "metadata": {},
   "source": [
    "The top few can be displayed using a loop, with 🔥 as a seperator."
   ]
  },
  {
   "cell_type": "code",
   "execution_count": 21,
   "metadata": {
    "scrolled": false
   },
   "outputs": [
    {
     "name": "stdout",
     "output_type": "stream",
     "text": [
      "🔥 🔥 🔥 🔥 🔥 🔥 🔥 🔥 🔥 🔥 🔥 🔥 🔥 🔥 🔥 🔥 🔥 🔥 🔥 \n"
     ]
    },
    {
     "data": {
      "text/html": [
       "<blockquote class=\"twitter-tweet\"><p lang=\"en\" dir=\"ltr\">1.21.17 in Washington, D.C. LET&#39;S DO THIS. <a href=\"https://twitter.com/hashtag/WomensMarch?src=hash&amp;ref_src=twsrc%5Etfw\">#WomensMarch</a> <a href=\"https://t.co/uzUjMFLWsm\">pic.twitter.com/uzUjMFLWsm</a></p>&mdash; Women&#39;s March (@womensmarch) <a href=\"https://twitter.com/womensmarch/status/808714345081405440?ref_src=twsrc%5Etfw\">December 13, 2016</a></blockquote>\n",
       "<script async src=\"https://platform.twitter.com/widgets.js\" charset=\"utf-8\"></script>\n"
      ],
      "text/plain": [
       "<IPython.core.display.HTML object>"
      ]
     },
     "metadata": {},
     "output_type": "display_data"
    },
    {
     "name": "stdout",
     "output_type": "stream",
     "text": [
      "🔥 🔥 🔥 🔥 🔥 🔥 🔥 🔥 🔥 🔥 🔥 🔥 🔥 🔥 🔥 🔥 🔥 🔥 🔥 \n"
     ]
    },
    {
     "data": {
      "text/html": [
       "<blockquote class=\"twitter-tweet\"><p lang=\"en\" dir=\"ltr\">Come march with me in Washington, DC on January 21st, 2017! <a href=\"https://twitter.com/hashtag/whyIMarch?src=hash&amp;ref_src=twsrc%5Etfw\">#whyIMarch</a> <a href=\"https://twitter.com/hashtag/WomensMarch?src=hash&amp;ref_src=twsrc%5Etfw\">#WomensMarch</a> <a href=\"https://twitter.com/hashtag/wmw?src=hash&amp;ref_src=twsrc%5Etfw\">#wmw</a> <a href=\"https://twitter.com/hashtag/protest?src=hash&amp;ref_src=twsrc%5Etfw\">#protest</a> <a href=\"https://twitter.com/womensmarch?ref_src=twsrc%5Etfw\">@womensmarch</a> ❤️ <a href=\"https://t.co/zw84iEmm0N\">pic.twitter.com/zw84iEmm0N</a></p>&mdash; Amee Vanderpool (@girlsreallyrule) <a href=\"https://twitter.com/girlsreallyrule/status/809501619872092160?ref_src=twsrc%5Etfw\">December 15, 2016</a></blockquote>\n",
       "<script async src=\"https://platform.twitter.com/widgets.js\" charset=\"utf-8\"></script>\n"
      ],
      "text/plain": [
       "<IPython.core.display.HTML object>"
      ]
     },
     "metadata": {},
     "output_type": "display_data"
    },
    {
     "name": "stdout",
     "output_type": "stream",
     "text": [
      "🔥 🔥 🔥 🔥 🔥 🔥 🔥 🔥 🔥 🔥 🔥 🔥 🔥 🔥 🔥 🔥 🔥 🔥 🔥 \n"
     ]
    },
    {
     "data": {
      "text/html": [
       "<blockquote class=\"twitter-tweet\"><p lang=\"en\" dir=\"ltr\">We want EVERYONE who cares about women&#39;s rights to march with us on 1.21.17 in Washington, D.C. Who&#39;s coming? <a href=\"https://twitter.com/hashtag/WomensMarch?src=hash&amp;ref_src=twsrc%5Etfw\">#WomensMarch</a> <a href=\"https://t.co/4DJDNUtasU\">pic.twitter.com/4DJDNUtasU</a></p>&mdash; Women&#39;s March (@womensmarch) <a href=\"https://twitter.com/womensmarch/status/812688858768936960?ref_src=twsrc%5Etfw\">December 24, 2016</a></blockquote>\n",
       "<script async src=\"https://platform.twitter.com/widgets.js\" charset=\"utf-8\"></script>\n"
      ],
      "text/plain": [
       "<IPython.core.display.HTML object>"
      ]
     },
     "metadata": {},
     "output_type": "display_data"
    },
    {
     "name": "stdout",
     "output_type": "stream",
     "text": [
      "🔥 🔥 🔥 🔥 🔥 🔥 🔥 🔥 🔥 🔥 🔥 🔥 🔥 🔥 🔥 🔥 🔥 🔥 🔥 \n"
     ]
    },
    {
     "data": {
      "text/html": [
       "<blockquote class=\"twitter-tweet\"><p lang=\"en\" dir=\"ltr\">I had 5 white men in last week email asking to change name of <a href=\"https://twitter.com/hashtag/WomensMarch?src=hash&amp;ref_src=twsrc%5Etfw\">#WomensMarch</a> to People&#39;s March. Can&#39;t bring themselves to follow women. 🤔🤔</p>&mdash; Linda Sarsour (@lsarsour) <a href=\"https://twitter.com/lsarsour/status/815024878759899136?ref_src=twsrc%5Etfw\">December 31, 2016</a></blockquote>\n",
       "<script async src=\"https://platform.twitter.com/widgets.js\" charset=\"utf-8\"></script>\n"
      ],
      "text/plain": [
       "<IPython.core.display.HTML object>"
      ]
     },
     "metadata": {},
     "output_type": "display_data"
    },
    {
     "name": "stdout",
     "output_type": "stream",
     "text": [
      "🔥 🔥 🔥 🔥 🔥 🔥 🔥 🔥 🔥 🔥 🔥 🔥 🔥 🔥 🔥 🔥 🔥 🔥 🔥 \n"
     ]
    },
    {
     "data": {
      "text/html": [
       "<blockquote class=\"twitter-tweet\"><p lang=\"en\" dir=\"ltr\">Trump administration so far:<br>Men: 13 of 18<br>Accused of rape: 1<br>Accused of domestic violence: 3<br>Voted against VAWA: 3<a href=\"https://twitter.com/hashtag/womensmarch?src=hash&amp;ref_src=twsrc%5Etfw\">#womensmarch</a> <a href=\"https://twitter.com/hashtag/whyimarch?src=hash&amp;ref_src=twsrc%5Etfw\">#whyimarch</a> <a href=\"https://t.co/npImmMbIgI\">pic.twitter.com/npImmMbIgI</a></p>&mdash; Shannon Watts (@shannonrwatts) <a href=\"https://twitter.com/shannonrwatts/status/807328281531977728?ref_src=twsrc%5Etfw\">December 9, 2016</a></blockquote>\n",
       "<script async src=\"https://platform.twitter.com/widgets.js\" charset=\"utf-8\"></script>\n"
      ],
      "text/plain": [
       "<IPython.core.display.HTML object>"
      ]
     },
     "metadata": {},
     "output_type": "display_data"
    }
   ],
   "source": [
    "# A list of the tweet urls, sorted by retweet count.\n",
    "rt_links = df.sort_values(by= 'retweets_count', ascending = False)['link'].values\n",
    "\n",
    "for url in rt_links[:5]:\n",
    "    print('🔥 ' * 19)\n",
    "    show_tweet(url)"
   ]
  },
  {
   "cell_type": "markdown",
   "metadata": {},
   "source": [
    "### Twint Exercise 3"
   ]
  },
  {
   "cell_type": "markdown",
   "metadata": {},
   "source": [
    "Let's display 5 tweets from the 2018 #womensmarch dataframe we created in the last exercise. This time, we'll sort by `likes_count` rather than `retweets_count`. Feel free to continue using 🔥 as a seperator, or [search](https://emojipedia.org/) for a seperator of your choice. "
   ]
  },
  {
   "cell_type": "code",
   "execution_count": 43,
   "metadata": {},
   "outputs": [
    {
     "name": "stdout",
     "output_type": "stream",
     "text": [
      "✨ ✨ ✨ ✨ ✨ ✨ ✨ ✨ ✨ ✨ ✨ ✨ ✨ ✨ ✨ ✨ ✨ ✨ ✨ \n"
     ]
    },
    {
     "data": {
      "text/html": [
       "<blockquote class=\"twitter-tweet\"><p lang=\"en\" dir=\"ltr\">United We Stand! <a href=\"https://twitter.com/hashtag/womensmarch?src=hash&amp;ref_src=twsrc%5Etfw\">#womensmarch</a> <a href=\"https://twitter.com/hashtag/TogetherWeRise?src=hash&amp;ref_src=twsrc%5Etfw\">#TogetherWeRise</a> <a href=\"https://t.co/Nq7PRuKjmH\">pic.twitter.com/Nq7PRuKjmH</a></p>&mdash; Gal Gadot (@GalGadot) <a href=\"https://twitter.com/GalGadot/status/954899532394844160?ref_src=twsrc%5Etfw\">January 21, 2018</a></blockquote>\n",
       "<script async src=\"https://platform.twitter.com/widgets.js\" charset=\"utf-8\"></script>\n"
      ],
      "text/plain": [
       "<IPython.core.display.HTML object>"
      ]
     },
     "metadata": {},
     "output_type": "display_data"
    },
    {
     "name": "stdout",
     "output_type": "stream",
     "text": [
      "✨ ✨ ✨ ✨ ✨ ✨ ✨ ✨ ✨ ✨ ✨ ✨ ✨ ✨ ✨ ✨ ✨ ✨ ✨ \n"
     ]
    },
    {
     "data": {
      "text/html": [
       "<blockquote class=\"twitter-tweet\"><p lang=\"en\" dir=\"ltr\">United We Stand! <a href=\"https://twitter.com/hashtag/womensmarch?src=hash&amp;ref_src=twsrc%5Etfw\">#womensmarch</a> <a href=\"https://twitter.com/hashtag/TogetherWeRise?src=hash&amp;ref_src=twsrc%5Etfw\">#TogetherWeRise</a> <a href=\"https://t.co/Nq7PRuKjmH\">pic.twitter.com/Nq7PRuKjmH</a></p>&mdash; Gal Gadot (@GalGadot) <a href=\"https://twitter.com/GalGadot/status/954899532394844160?ref_src=twsrc%5Etfw\">January 21, 2018</a></blockquote>\n",
       "<script async src=\"https://platform.twitter.com/widgets.js\" charset=\"utf-8\"></script>\n"
      ],
      "text/plain": [
       "<IPython.core.display.HTML object>"
      ]
     },
     "metadata": {},
     "output_type": "display_data"
    },
    {
     "name": "stdout",
     "output_type": "stream",
     "text": [
      "✨ ✨ ✨ ✨ ✨ ✨ ✨ ✨ ✨ ✨ ✨ ✨ ✨ ✨ ✨ ✨ ✨ ✨ ✨ \n"
     ]
    },
    {
     "data": {
      "text/html": [
       "<blockquote class=\"twitter-tweet\"><p lang=\"en\" dir=\"ltr\">Jordan, 23, is from Atlanta and she has a message: <a href=\"https://twitter.com/hashtag/WomensMarch?src=hash&amp;ref_src=twsrc%5Etfw\">#WomensMarch</a> <a href=\"https://t.co/WoYSInyYrn\">pic.twitter.com/WoYSInyYrn</a></p>&mdash; philip lewis (@Phil_Lewis_) <a href=\"https://twitter.com/Phil_Lewis_/status/954777450164248577?ref_src=twsrc%5Etfw\">January 20, 2018</a></blockquote>\n",
       "<script async src=\"https://platform.twitter.com/widgets.js\" charset=\"utf-8\"></script>\n"
      ],
      "text/plain": [
       "<IPython.core.display.HTML object>"
      ]
     },
     "metadata": {},
     "output_type": "display_data"
    },
    {
     "name": "stdout",
     "output_type": "stream",
     "text": [
      "✨ ✨ ✨ ✨ ✨ ✨ ✨ ✨ ✨ ✨ ✨ ✨ ✨ ✨ ✨ ✨ ✨ ✨ ✨ \n"
     ]
    },
    {
     "data": {
      "text/html": [
       "<blockquote class=\"twitter-tweet\"><p lang=\"en\" dir=\"ltr\">Jordan, 23, is from Atlanta and she has a message: <a href=\"https://twitter.com/hashtag/WomensMarch?src=hash&amp;ref_src=twsrc%5Etfw\">#WomensMarch</a> <a href=\"https://t.co/WoYSInyYrn\">pic.twitter.com/WoYSInyYrn</a></p>&mdash; philip lewis (@Phil_Lewis_) <a href=\"https://twitter.com/Phil_Lewis_/status/954777450164248577?ref_src=twsrc%5Etfw\">January 20, 2018</a></blockquote>\n",
       "<script async src=\"https://platform.twitter.com/widgets.js\" charset=\"utf-8\"></script>\n"
      ],
      "text/plain": [
       "<IPython.core.display.HTML object>"
      ]
     },
     "metadata": {},
     "output_type": "display_data"
    },
    {
     "name": "stdout",
     "output_type": "stream",
     "text": [
      "✨ ✨ ✨ ✨ ✨ ✨ ✨ ✨ ✨ ✨ ✨ ✨ ✨ ✨ ✨ ✨ ✨ ✨ ✨ \n"
     ]
    },
    {
     "data": {
      "text/html": [
       "<blockquote class=\"twitter-tweet\"><p lang=\"en\" dir=\"ltr\">I imagine tomorrow’s <a href=\"https://twitter.com/nytimes?ref_src=twsrc%5Etfw\">@nytimes</a> editorial page will be filled with letters from people who were at the <a href=\"https://twitter.com/hashtag/WomensMarch?src=hash&amp;ref_src=twsrc%5Etfw\">#WomensMarch</a>, right?</p>&mdash; Jon Favreau (@jonfavs) <a href=\"https://twitter.com/jonfavs/status/955139897874030592?ref_src=twsrc%5Etfw\">January 21, 2018</a></blockquote>\n",
       "<script async src=\"https://platform.twitter.com/widgets.js\" charset=\"utf-8\"></script>\n"
      ],
      "text/plain": [
       "<IPython.core.display.HTML object>"
      ]
     },
     "metadata": {},
     "output_type": "display_data"
    }
   ],
   "source": [
    "rt_links1 = df1.sort_values(by= 'likes_count', ascending = False)['link'].values\n",
    "\n",
    "for url in rt_links1[:5]:\n",
    "    print('✨ ' * 19)\n",
    "    show_tweet(url)"
   ]
  },
  {
   "cell_type": "markdown",
   "metadata": {},
   "source": [
    "### Production\n",
    "\n",
    "If you are collecting a large number of tweets, something is likely to go wrong along the way. Two options can help minimize the damage. \n",
    "\n",
    "First, the `Resume` option allows you to store the ID of the most recent tweet that was collected. If your search gets interrupted,  you can run `twint.run.Search(c)` a second time, and the search will resume where it left off. This option is particularly useful if you lose internet access.  \n",
    "\n",
    "Second, the `Debug` option allows you a behind-the-scenes look at what your Twitter scraper is doing. It creates two files in your current working directory. `twint-request_urls.log` lists the URL for each of the requests being made. If the results are not what you expected, you can copy and paste a URL into your browser window to manual inspect the results. `twint-last-request.log` contains what was returned by the most recent URL. "
   ]
  },
  {
   "cell_type": "code",
   "execution_count": 25,
   "metadata": {},
   "outputs": [],
   "source": [
    "c = twint.Config()\n",
    "\n",
    "c.Search = '#womensmarch'\n",
    "c.Since = '2017-01-01'\n",
    "c.Until = '2017-01-02'\n",
    "c.Hide_output = True\n",
    "c.Store_json = True\n",
    "c.Output = 'womensmarch_2017.json'\n",
    "c.Resume = 'wm_last.csv'\n",
    "c.Debug = True\n",
    "\n"
   ]
  },
  {
   "cell_type": "code",
   "execution_count": 26,
   "metadata": {},
   "outputs": [],
   "source": [
    "twint.run.Search(c)"
   ]
  },
  {
   "cell_type": "markdown",
   "metadata": {},
   "source": [
    "If the resulting json or other file is likley to be massive, you can split your search by date and create seperate files for each date. This also has the advantage that if something goes wrong, you can focus on a specific date.\n",
    "\n",
    "The cell below creates several functions to automate the process of searching over several days and storing each day's results as distinct json file: `twint_loop` splits the date range into a series of days and calls `twint_search` to do the searching for each date. Each json is named after the date and stored in a directory based on the search term, using `clean_name` to ensure that it is a valide directory name. The date loop"
   ]
  },
  {
   "cell_type": "code",
   "execution_count": 19,
   "metadata": {},
   "outputs": [
    {
     "name": "stdout",
     "output_type": "stream",
     "text": [
      "Directory womensmarch already exists\n",
      "Getting 2018-01-01 \n"
     ]
    },
    {
     "name": "stderr",
     "output_type": "stream",
     "text": [
      "CRITICAL:root:twint.output:checkData:copyrightedTweet\n"
     ]
    },
    {
     "name": "stdout",
     "output_type": "stream",
     "text": [
      "Getting 2018-01-02 \n",
      "Getting 2018-01-03 \n",
      "Getting 2018-01-04 \n",
      "Getting 2018-01-05 \n",
      "Getting 2018-01-06 \n",
      "Getting 2018-01-07 \n",
      "Getting 2018-01-08 \n"
     ]
    }
   ],
   "source": [
    "from datetime import timedelta\n",
    "from string import ascii_letters, digits\n",
    "from os import mkdir, path\n",
    "\n",
    "def clean_name(dirname):\n",
    "    valid = set(ascii_letters + digits)\n",
    "    return ''.join(a for a in dirname if a in valid)\n",
    "\n",
    "\n",
    "def twint_search(searchterm, since, until, json_name):\n",
    "    '''\n",
    "    Twint search for a specific date range.\n",
    "    Stores results to json.\n",
    "    '''\n",
    "    c = twint.Config()\n",
    "    c.Search = searchterm\n",
    "    c.Since = since\n",
    "    c.Until = until\n",
    "    c.Hide_output = True\n",
    "    c.Store_json = True\n",
    "    c.Output = json_name\n",
    "    c.Debug = True\n",
    "    \n",
    "    try:\n",
    "        twint.run.Search(c)    \n",
    "    except (KeyboardInterrupt, SystemExit):\n",
    "        raise\n",
    "    except:\n",
    "        print(\"Problem with %s.\" % since)\n",
    "    \n",
    "\n",
    "\n",
    "\n",
    "def twint_loop(searchterm, since, until):\n",
    "    \n",
    "    dirname = clean_name(searchterm)\n",
    "    try:\n",
    "    # Create target Directory\n",
    "        mkdir(dirname)\n",
    "        print(\"Directory\" , dirname ,  \"Created \") \n",
    "    except FileExistsError:\n",
    "        print(\"Directory\" , dirname ,  \"already exists\")\n",
    "\n",
    "    daterange = pd.date_range(since, until)\n",
    "    \n",
    "    for start_date in daterange:\n",
    "\n",
    "        since= start_date.strftime(\"%Y-%m-%d\")\n",
    "        until = (start_date + timedelta(days=1)).strftime(\"%Y-%m-%d\")\n",
    "\n",
    "        json_name = '%s.json' % since\n",
    "        json_name = path.join(dirname, json_name)\n",
    "        \n",
    "        print('Getting %s ' % since )\n",
    "        twint_search(searchterm, since, until, json_name)\n",
    "        \n",
    "        \n",
    "\n",
    "\n",
    "twint_loop('#womensmarch', '01-01-2018', '01-08-2018')\n"
   ]
  },
  {
   "cell_type": "markdown",
   "metadata": {},
   "source": [
    "List the contents of the new directory confirms that it worked."
   ]
  },
  {
   "cell_type": "code",
   "execution_count": 31,
   "metadata": {},
   "outputs": [
    {
     "data": {
      "text/plain": [
       "['womensmarch/2018-01-08.json',\n",
       " 'womensmarch/2018-01-04.json',\n",
       " 'womensmarch/2018-01-05.json',\n",
       " 'womensmarch/2018-01-02.json',\n",
       " 'womensmarch/2018-01-03.json',\n",
       " 'womensmarch/2018-01-01.json',\n",
       " 'womensmarch/2018-01-06.json',\n",
       " 'womensmarch/2018-01-07.json']"
      ]
     },
     "execution_count": 31,
     "metadata": {},
     "output_type": "execute_result"
    }
   ],
   "source": [
    "from glob import glob\n",
    "\n",
    "glob(path.join('womensmarch','*.json'))"
   ]
  },
  {
   "cell_type": "markdown",
   "metadata": {},
   "source": [
    "Finally, the separate data files can be combined into a single dataframe."
   ]
  },
  {
   "cell_type": "code",
   "execution_count": 38,
   "metadata": {},
   "outputs": [
    {
     "name": "stdout",
     "output_type": "stream",
     "text": [
      "<class 'pandas.core.frame.DataFrame'>\n",
      "Int64Index: 1482 entries, 0 to 133\n",
      "Data columns (total 34 columns):\n",
      "id                 1482 non-null int64\n",
      "conversation_id    1482 non-null int64\n",
      "created_at         1482 non-null datetime64[ns]\n",
      "date               1482 non-null datetime64[ns]\n",
      "time               1482 non-null object\n",
      "timezone           1482 non-null object\n",
      "user_id            1482 non-null int64\n",
      "username           1482 non-null object\n",
      "name               1482 non-null object\n",
      "place              1482 non-null object\n",
      "tweet              1482 non-null object\n",
      "mentions           1482 non-null object\n",
      "urls               1482 non-null object\n",
      "photos             1482 non-null object\n",
      "replies_count      1482 non-null int64\n",
      "retweets_count     1482 non-null int64\n",
      "likes_count        1482 non-null int64\n",
      "hashtags           1482 non-null object\n",
      "cashtags           1482 non-null object\n",
      "link               1482 non-null object\n",
      "retweet            1482 non-null bool\n",
      "quote_url          1482 non-null object\n",
      "video              1482 non-null int64\n",
      "near               1482 non-null object\n",
      "geo                1482 non-null object\n",
      "source             1482 non-null object\n",
      "user_rt_id         1482 non-null object\n",
      "user_rt            1482 non-null object\n",
      "retweet_id         1482 non-null object\n",
      "reply_to           1482 non-null object\n",
      "retweet_date       1482 non-null object\n",
      "translate          1482 non-null object\n",
      "trans_src          1482 non-null object\n",
      "trans_dest         1482 non-null object\n",
      "dtypes: bool(1), datetime64[ns](2), int64(7), object(24)\n",
      "memory usage: 395.1+ KB\n"
     ]
    }
   ],
   "source": [
    "file_names = glob(path.join('womensmarch','*.json'))\n",
    "dfs = [pd.read_json(fn, lines = True) for fn in file_names]\n",
    "wm2018_df = pd.concat(dfs)\n",
    "\n",
    "wm2018_df.info()"
   ]
  },
  {
   "cell_type": "markdown",
   "metadata": {},
   "source": [
    "Twint has many more capabilities, such as the ability to search a user's timeline, friends or followers, and has additional search options, such as other search or storing options, but hopefully this notebook has provided an introduction to some of its capabilities."
   ]
  }
 ],
 "metadata": {
  "kernelspec": {
   "display_name": "Python 3",
   "language": "python",
   "name": "python3"
  },
  "language_info": {
   "codemirror_mode": {
    "name": "ipython",
    "version": 3
   },
   "file_extension": ".py",
   "mimetype": "text/x-python",
   "name": "python",
   "nbconvert_exporter": "python",
   "pygments_lexer": "ipython3",
   "version": "3.7.6"
  }
 },
 "nbformat": 4,
 "nbformat_minor": 4
}
