{
 "cells": [
  {
   "cell_type": "markdown",
   "metadata": {
    "slideshow": {
     "slide_type": "slide"
    }
   },
   "source": [
    "### Counting Words"
   ]
  },
  {
   "cell_type": "markdown",
   "metadata": {
    "slideshow": {
     "slide_type": "skip"
    }
   },
   "source": [
    "Begin by enabling plots to be displayed in the Jupyter notebook, making them look nice with seaborn, and importing the pandas library for data management."
   ]
  },
  {
   "cell_type": "code",
   "execution_count": 1,
   "metadata": {
    "slideshow": {
     "slide_type": "slide"
    }
   },
   "outputs": [],
   "source": [
    "%matplotlib inline\n",
    "\n",
    "import pandas as pd\n",
    "import seaborn as sns"
   ]
  },
  {
   "cell_type": "markdown",
   "metadata": {
    "slideshow": {
     "slide_type": "subslide"
    }
   },
   "source": [
    "The sample text for this section is from the UN General Debate Corpus. These were released on [kaggle](https://www.kaggle.com/unitednations/un-general-debates/home). Since CSV files aren't really well-designed to hold long text fields with line-breaks, quotation marks and commas (which might interpretated by a csv reader as the start of a new field), the addresses are in the json file format."
   ]
  },
  {
   "cell_type": "code",
   "execution_count": 2,
   "metadata": {
    "slideshow": {
     "slide_type": "slide"
    }
   },
   "outputs": [],
   "source": [
    "un_df = pd.read_json('data/un-general-debates.json')"
   ]
  },
  {
   "cell_type": "markdown",
   "metadata": {
    "slideshow": {
     "slide_type": "subslide"
    }
   },
   "source": [
    "We can use `info`, `describe`, and `sample` to get a sense of the data."
   ]
  },
  {
   "cell_type": "code",
   "execution_count": 3,
   "metadata": {
    "slideshow": {
     "slide_type": "slide"
    }
   },
   "outputs": [
    {
     "name": "stdout",
     "output_type": "stream",
     "text": [
      "<class 'pandas.core.frame.DataFrame'>\n",
      "Int64Index: 3214 entries, 0 to 3213\n",
      "Data columns (total 4 columns):\n",
      " #   Column        Non-Null Count  Dtype \n",
      "---  ------        --------------  ----- \n",
      " 0   index         3214 non-null   int64 \n",
      " 1   speech_year   3214 non-null   int64 \n",
      " 2   country_code  3214 non-null   object\n",
      " 3   speech_text   3214 non-null   object\n",
      "dtypes: int64(2), object(2)\n",
      "memory usage: 125.5+ KB\n"
     ]
    }
   ],
   "source": [
    "un_df.info()"
   ]
  },
  {
   "cell_type": "code",
   "execution_count": 4,
   "metadata": {},
   "outputs": [
    {
     "data": {
      "text/html": [
       "<div>\n",
       "<style scoped>\n",
       "    .dataframe tbody tr th:only-of-type {\n",
       "        vertical-align: middle;\n",
       "    }\n",
       "\n",
       "    .dataframe tbody tr th {\n",
       "        vertical-align: top;\n",
       "    }\n",
       "\n",
       "    .dataframe thead th {\n",
       "        text-align: right;\n",
       "    }\n",
       "</style>\n",
       "<table border=\"1\" class=\"dataframe\">\n",
       "  <thead>\n",
       "    <tr style=\"text-align: right;\">\n",
       "      <th></th>\n",
       "      <th>index</th>\n",
       "      <th>speech_year</th>\n",
       "    </tr>\n",
       "  </thead>\n",
       "  <tbody>\n",
       "    <tr>\n",
       "      <th>count</th>\n",
       "      <td>3214.000000</td>\n",
       "      <td>3214.000000</td>\n",
       "    </tr>\n",
       "    <tr>\n",
       "      <th>mean</th>\n",
       "      <td>3417.843808</td>\n",
       "      <td>1989.961419</td>\n",
       "    </tr>\n",
       "    <tr>\n",
       "      <th>std</th>\n",
       "      <td>2048.354531</td>\n",
       "      <td>5.787857</td>\n",
       "    </tr>\n",
       "    <tr>\n",
       "      <th>min</th>\n",
       "      <td>0.000000</td>\n",
       "      <td>1980.000000</td>\n",
       "    </tr>\n",
       "    <tr>\n",
       "      <th>25%</th>\n",
       "      <td>1767.250000</td>\n",
       "      <td>1985.000000</td>\n",
       "    </tr>\n",
       "    <tr>\n",
       "      <th>50%</th>\n",
       "      <td>3487.500000</td>\n",
       "      <td>1990.000000</td>\n",
       "    </tr>\n",
       "    <tr>\n",
       "      <th>75%</th>\n",
       "      <td>5566.750000</td>\n",
       "      <td>1995.000000</td>\n",
       "    </tr>\n",
       "    <tr>\n",
       "      <th>max</th>\n",
       "      <td>6808.000000</td>\n",
       "      <td>1999.000000</td>\n",
       "    </tr>\n",
       "  </tbody>\n",
       "</table>\n",
       "</div>"
      ],
      "text/plain": [
       "             index  speech_year\n",
       "count  3214.000000  3214.000000\n",
       "mean   3417.843808  1989.961419\n",
       "std    2048.354531     5.787857\n",
       "min       0.000000  1980.000000\n",
       "25%    1767.250000  1985.000000\n",
       "50%    3487.500000  1990.000000\n",
       "75%    5566.750000  1995.000000\n",
       "max    6808.000000  1999.000000"
      ]
     },
     "execution_count": 4,
     "metadata": {},
     "output_type": "execute_result"
    }
   ],
   "source": [
    "un_df.describe()"
   ]
  },
  {
   "cell_type": "code",
   "execution_count": 5,
   "metadata": {
    "slideshow": {
     "slide_type": "slide"
    }
   },
   "outputs": [
    {
     "data": {
      "text/html": [
       "<div>\n",
       "<style scoped>\n",
       "    .dataframe tbody tr th:only-of-type {\n",
       "        vertical-align: middle;\n",
       "    }\n",
       "\n",
       "    .dataframe tbody tr th {\n",
       "        vertical-align: top;\n",
       "    }\n",
       "\n",
       "    .dataframe thead th {\n",
       "        text-align: right;\n",
       "    }\n",
       "</style>\n",
       "<table border=\"1\" class=\"dataframe\">\n",
       "  <thead>\n",
       "    <tr style=\"text-align: right;\">\n",
       "      <th></th>\n",
       "      <th>index</th>\n",
       "      <th>speech_year</th>\n",
       "      <th>country_code</th>\n",
       "      <th>speech_text</th>\n",
       "    </tr>\n",
       "  </thead>\n",
       "  <tbody>\n",
       "    <tr>\n",
       "      <th>2891</th>\n",
       "      <td>6366</td>\n",
       "      <td>1990</td>\n",
       "      <td>YEM</td>\n",
       "      <td>﻿\\nIt gives me great pleasure to extend to the...</td>\n",
       "    </tr>\n",
       "    <tr>\n",
       "      <th>2436</th>\n",
       "      <td>5593</td>\n",
       "      <td>1993</td>\n",
       "      <td>WSM</td>\n",
       "      <td>It is always an honour and\\na great pleasure t...</td>\n",
       "    </tr>\n",
       "    <tr>\n",
       "      <th>639</th>\n",
       "      <td>1408</td>\n",
       "      <td>1996</td>\n",
       "      <td>LIE</td>\n",
       "      <td>﻿At the outset I should like\\nto congratulate ...</td>\n",
       "    </tr>\n",
       "    <tr>\n",
       "      <th>2665</th>\n",
       "      <td>5962</td>\n",
       "      <td>1981</td>\n",
       "      <td>WSM</td>\n",
       "      <td>Mr. President, my delegation is pleased indeed...</td>\n",
       "    </tr>\n",
       "    <tr>\n",
       "      <th>536</th>\n",
       "      <td>991</td>\n",
       "      <td>1986</td>\n",
       "      <td>NER</td>\n",
       "      <td>On 24 October 1985, the community of nations c...</td>\n",
       "    </tr>\n",
       "  </tbody>\n",
       "</table>\n",
       "</div>"
      ],
      "text/plain": [
       "      index  speech_year country_code  \\\n",
       "2891   6366         1990          YEM   \n",
       "2436   5593         1993          WSM   \n",
       "639    1408         1996          LIE   \n",
       "2665   5962         1981          WSM   \n",
       "536     991         1986          NER   \n",
       "\n",
       "                                            speech_text  \n",
       "2891  ﻿\\nIt gives me great pleasure to extend to the...  \n",
       "2436  It is always an honour and\\na great pleasure t...  \n",
       "639   ﻿At the outset I should like\\nto congratulate ...  \n",
       "2665  Mr. President, my delegation is pleased indeed...  \n",
       "536   On 24 October 1985, the community of nations c...  "
      ]
     },
     "execution_count": 5,
     "metadata": {},
     "output_type": "execute_result"
    }
   ],
   "source": [
    "un_df.sample(5)"
   ]
  },
  {
   "cell_type": "markdown",
   "metadata": {
    "slideshow": {
     "slide_type": "slide"
    }
   },
   "source": [
    "### Word Count"
   ]
  },
  {
   "cell_type": "markdown",
   "metadata": {
    "slideshow": {
     "slide_type": "slide"
    }
   },
   "source": [
    "One the simplest things one might want to know about text is how long is it. This could be useful for basic descriptive questions, such as \"Have UN speeches increased in length over time?\" Word counts are also useful for normalized texts. A 200 word essay with 10 exclamation marks is quite different from a 20,000 word essay with 10 exclamation marks.\n",
    "\n",
    "A function to count words is not included in any of the standard Python data analsyis libraries. You could write your own by using `.split()` to turn a text string into a list based on white-spaces and then `len()` to compute the length of the newly-created list. We saved you a bit of this hassle by including a word counter as part of our `pdtext` package. You might need to install `pip` install it first."
   ]
  },
  {
   "cell_type": "code",
   "execution_count": 6,
   "metadata": {
    "slideshow": {
     "slide_type": "skip"
    }
   },
   "outputs": [],
   "source": [
    "from pdtext.tf import word_count"
   ]
  },
  {
   "cell_type": "code",
   "execution_count": 7,
   "metadata": {
    "slideshow": {
     "slide_type": "slide"
    }
   },
   "outputs": [],
   "source": [
    "sentence = \"Protesters were met with force outside the Waffle House.\""
   ]
  },
  {
   "cell_type": "code",
   "execution_count": 8,
   "metadata": {
    "slideshow": {
     "slide_type": "slide"
    }
   },
   "outputs": [
    {
     "data": {
      "text/plain": [
       "9"
      ]
     },
     "execution_count": 8,
     "metadata": {},
     "output_type": "execute_result"
    }
   ],
   "source": [
    "word_count(sentence)"
   ]
  },
  {
   "cell_type": "markdown",
   "metadata": {
    "slideshow": {
     "slide_type": "slide"
    }
   },
   "source": [
    "### Word Count Excercise 1\n",
    "\n",
    "Create a new sentence stored as a string. Count the words.  \n",
    "\n"
   ]
  },
  {
   "cell_type": "code",
   "execution_count": null,
   "metadata": {},
   "outputs": [],
   "source": []
  },
  {
   "cell_type": "markdown",
   "metadata": {
    "slideshow": {
     "slide_type": "slide"
    }
   },
   "source": [
    "Now that the function has been imported, it can applied to our text variable, such as `speech_text` to create a new variable with the number of words in the address."
   ]
  },
  {
   "cell_type": "code",
   "execution_count": 9,
   "metadata": {
    "slideshow": {
     "slide_type": "slide"
    }
   },
   "outputs": [],
   "source": [
    "un_df['speech_word_count'] = un_df['speech_text'].apply(word_count)"
   ]
  },
  {
   "cell_type": "markdown",
   "metadata": {
    "slideshow": {
     "slide_type": "skip"
    }
   },
   "source": [
    "We can use the `describe`, `hist`, and `scatter` to provide some information on the new variable."
   ]
  },
  {
   "cell_type": "code",
   "execution_count": 10,
   "metadata": {
    "slideshow": {
     "slide_type": "slide"
    }
   },
   "outputs": [
    {
     "data": {
      "text/plain": [
       "count     3214.000000\n",
       "mean      3273.919726\n",
       "std       1117.532078\n",
       "min        462.000000\n",
       "25%       2500.750000\n",
       "50%       3148.500000\n",
       "75%       3898.500000\n",
       "max      10007.000000\n",
       "Name: speech_word_count, dtype: float64"
      ]
     },
     "execution_count": 10,
     "metadata": {},
     "output_type": "execute_result"
    }
   ],
   "source": [
    "un_df['speech_word_count'].describe()"
   ]
  },
  {
   "cell_type": "code",
   "execution_count": 11,
   "metadata": {
    "slideshow": {
     "slide_type": "slide"
    }
   },
   "outputs": [
    {
     "data": {
      "text/plain": [
       "<matplotlib.axes._subplots.AxesSubplot at 0x11db7f6a0>"
      ]
     },
     "execution_count": 11,
     "metadata": {},
     "output_type": "execute_result"
    },
    {
     "data": {
      "image/png": "[encoded data removed]",
      "text/plain": [
       "<Figure size 432x288 with 1 Axes>"
      ]
     },
     "metadata": {
      "needs_background": "light"
     },
     "output_type": "display_data"
    }
   ],
   "source": [
    "un_df['speech_word_count'].hist(bins = 25)"
   ]
  },
  {
   "cell_type": "code",
   "execution_count": 12,
   "metadata": {},
   "outputs": [
    {
     "data": {
      "image/png": "[encoded data removed]",
      "text/plain": [
       "<Figure size 432x288 with 1 Axes>"
      ]
     },
     "metadata": {
      "needs_background": "light"
     },
     "output_type": "display_data"
    }
   ],
   "source": [
    "sns.boxplot(x = \"speech_year\", \n",
    "            y = \"speech_word_count\",\n",
    "            data =un_df);"
   ]
  },
  {
   "cell_type": "markdown",
   "metadata": {
    "slideshow": {
     "slide_type": "skip"
    }
   },
   "source": [
    "The dataset can be subset to just a few informative columns and then the `sort_values` and `head`/`tail` methods can list the longest and shortest addresses."
   ]
  },
  {
   "cell_type": "code",
   "execution_count": 13,
   "metadata": {
    "slideshow": {
     "slide_type": "fragment"
    }
   },
   "outputs": [
    {
     "data": {
      "text/html": [
       "<div>\n",
       "<style scoped>\n",
       "    .dataframe tbody tr th:only-of-type {\n",
       "        vertical-align: middle;\n",
       "    }\n",
       "\n",
       "    .dataframe tbody tr th {\n",
       "        vertical-align: top;\n",
       "    }\n",
       "\n",
       "    .dataframe thead th {\n",
       "        text-align: right;\n",
       "    }\n",
       "</style>\n",
       "<table border=\"1\" class=\"dataframe\">\n",
       "  <thead>\n",
       "    <tr style=\"text-align: right;\">\n",
       "      <th></th>\n",
       "      <th>index</th>\n",
       "      <th>speech_year</th>\n",
       "      <th>country_code</th>\n",
       "      <th>speech_text</th>\n",
       "      <th>speech_word_count</th>\n",
       "    </tr>\n",
       "  </thead>\n",
       "  <tbody>\n",
       "    <tr>\n",
       "      <th>538</th>\n",
       "      <td>993</td>\n",
       "      <td>1986</td>\n",
       "      <td>VCT</td>\n",
       "      <td>On behalf of the Government and people of Sai...</td>\n",
       "      <td>462</td>\n",
       "    </tr>\n",
       "    <tr>\n",
       "      <th>2959</th>\n",
       "      <td>6434</td>\n",
       "      <td>1990</td>\n",
       "      <td>DDR</td>\n",
       "      <td>﻿Mr. President, I wish to thank you on behalf ...</td>\n",
       "      <td>493</td>\n",
       "    </tr>\n",
       "    <tr>\n",
       "      <th>928</th>\n",
       "      <td>1892</td>\n",
       "      <td>1997</td>\n",
       "      <td>SYC</td>\n",
       "      <td>﻿I take this opportunity to congratulate you, ...</td>\n",
       "      <td>597</td>\n",
       "    </tr>\n",
       "    <tr>\n",
       "      <th>1175</th>\n",
       "      <td>2469</td>\n",
       "      <td>1984</td>\n",
       "      <td>STP</td>\n",
       "      <td>﻿The established practice in the United Nation...</td>\n",
       "      <td>713</td>\n",
       "    </tr>\n",
       "    <tr>\n",
       "      <th>2064</th>\n",
       "      <td>4130</td>\n",
       "      <td>1998</td>\n",
       "      <td>BRN</td>\n",
       "      <td>I\\nextend my congratulations to Mr. Opertti on...</td>\n",
       "      <td>735</td>\n",
       "    </tr>\n",
       "    <tr>\n",
       "      <th>648</th>\n",
       "      <td>1417</td>\n",
       "      <td>1996</td>\n",
       "      <td>PLW</td>\n",
       "      <td>﻿It is my distinct honour to\\naddress the Unit...</td>\n",
       "      <td>779</td>\n",
       "    </tr>\n",
       "    <tr>\n",
       "      <th>1839</th>\n",
       "      <td>3905</td>\n",
       "      <td>1987</td>\n",
       "      <td>BGD</td>\n",
       "      <td>﻿Mr. President, it is a marvellous feeling, on...</td>\n",
       "      <td>781</td>\n",
       "    </tr>\n",
       "    <tr>\n",
       "      <th>1733</th>\n",
       "      <td>3614</td>\n",
       "      <td>1999</td>\n",
       "      <td>PER</td>\n",
       "      <td>The\\ndelegation of Peru is greatly pleased, Si...</td>\n",
       "      <td>787</td>\n",
       "    </tr>\n",
       "    <tr>\n",
       "      <th>2631</th>\n",
       "      <td>5928</td>\n",
       "      <td>1981</td>\n",
       "      <td>STP</td>\n",
       "      <td>147.\\t Once a year the great family of Members...</td>\n",
       "      <td>794</td>\n",
       "    </tr>\n",
       "    <tr>\n",
       "      <th>2413</th>\n",
       "      <td>5570</td>\n",
       "      <td>1993</td>\n",
       "      <td>MCO</td>\n",
       "      <td>For me this is a very special occasion, for it...</td>\n",
       "      <td>860</td>\n",
       "    </tr>\n",
       "  </tbody>\n",
       "</table>\n",
       "</div>"
      ],
      "text/plain": [
       "      index  speech_year country_code  \\\n",
       "538     993         1986          VCT   \n",
       "2959   6434         1990          DDR   \n",
       "928    1892         1997          SYC   \n",
       "1175   2469         1984          STP   \n",
       "2064   4130         1998          BRN   \n",
       "648    1417         1996          PLW   \n",
       "1839   3905         1987          BGD   \n",
       "1733   3614         1999          PER   \n",
       "2631   5928         1981          STP   \n",
       "2413   5570         1993          MCO   \n",
       "\n",
       "                                            speech_text  speech_word_count  \n",
       "538    On behalf of the Government and people of Sai...                462  \n",
       "2959  ﻿Mr. President, I wish to thank you on behalf ...                493  \n",
       "928   ﻿I take this opportunity to congratulate you, ...                597  \n",
       "1175  ﻿The established practice in the United Nation...                713  \n",
       "2064  I\\nextend my congratulations to Mr. Opertti on...                735  \n",
       "648   ﻿It is my distinct honour to\\naddress the Unit...                779  \n",
       "1839  ﻿Mr. President, it is a marvellous feeling, on...                781  \n",
       "1733  The\\ndelegation of Peru is greatly pleased, Si...                787  \n",
       "2631  147.\\t Once a year the great family of Members...                794  \n",
       "2413  For me this is a very special occasion, for it...                860  "
      ]
     },
     "execution_count": 13,
     "metadata": {},
     "output_type": "execute_result"
    }
   ],
   "source": [
    "un_df.sort_values(by='speech_word_count').head(10)"
   ]
  },
  {
   "cell_type": "code",
   "execution_count": 14,
   "metadata": {
    "slideshow": {
     "slide_type": "slide"
    }
   },
   "outputs": [
    {
     "data": {
      "text/html": [
       "<div>\n",
       "<style scoped>\n",
       "    .dataframe tbody tr th:only-of-type {\n",
       "        vertical-align: middle;\n",
       "    }\n",
       "\n",
       "    .dataframe tbody tr th {\n",
       "        vertical-align: top;\n",
       "    }\n",
       "\n",
       "    .dataframe thead th {\n",
       "        text-align: right;\n",
       "    }\n",
       "</style>\n",
       "<table border=\"1\" class=\"dataframe\">\n",
       "  <thead>\n",
       "    <tr style=\"text-align: right;\">\n",
       "      <th></th>\n",
       "      <th>index</th>\n",
       "      <th>speech_year</th>\n",
       "      <th>country_code</th>\n",
       "      <th>speech_text</th>\n",
       "      <th>speech_word_count</th>\n",
       "    </tr>\n",
       "  </thead>\n",
       "  <tbody>\n",
       "    <tr>\n",
       "      <th>1988</th>\n",
       "      <td>4054</td>\n",
       "      <td>1982</td>\n",
       "      <td>PAN</td>\n",
       "      <td>Mr. President, your many years of association ...</td>\n",
       "      <td>10007</td>\n",
       "    </tr>\n",
       "    <tr>\n",
       "      <th>1177</th>\n",
       "      <td>2471</td>\n",
       "      <td>1984</td>\n",
       "      <td>IRL</td>\n",
       "      <td>﻿104. I have the honour of addressing the Gene...</td>\n",
       "      <td>9612</td>\n",
       "    </tr>\n",
       "    <tr>\n",
       "      <th>1571</th>\n",
       "      <td>3308</td>\n",
       "      <td>1983</td>\n",
       "      <td>PRY</td>\n",
       "      <td>﻿238.\\tMr. President, my first words will\\nbe ...</td>\n",
       "      <td>9115</td>\n",
       "    </tr>\n",
       "    <tr>\n",
       "      <th>1801</th>\n",
       "      <td>3867</td>\n",
       "      <td>1987</td>\n",
       "      <td>IRN</td>\n",
       "      <td>﻿O Lord, with Thy holy name I begin and from T...</td>\n",
       "      <td>8271</td>\n",
       "    </tr>\n",
       "    <tr>\n",
       "      <th>1156</th>\n",
       "      <td>2450</td>\n",
       "      <td>1984</td>\n",
       "      <td>RUS</td>\n",
       "      <td>﻿Mr. Lusaka, I congratulate you on your electi...</td>\n",
       "      <td>8069</td>\n",
       "    </tr>\n",
       "    <tr>\n",
       "      <th>1047</th>\n",
       "      <td>2152</td>\n",
       "      <td>1988</td>\n",
       "      <td>GRC</td>\n",
       "      <td>﻿On behalf of the European Community and its m...</td>\n",
       "      <td>8050</td>\n",
       "    </tr>\n",
       "    <tr>\n",
       "      <th>2284</th>\n",
       "      <td>4731</td>\n",
       "      <td>1980</td>\n",
       "      <td>LUX</td>\n",
       "      <td>﻿Since Luxembourg is President of the Council ...</td>\n",
       "      <td>8043</td>\n",
       "    </tr>\n",
       "    <tr>\n",
       "      <th>572</th>\n",
       "      <td>1027</td>\n",
       "      <td>1986</td>\n",
       "      <td>IRN</td>\n",
       "      <td>I have great pleasure in extending to Mr. Cho...</td>\n",
       "      <td>7814</td>\n",
       "    </tr>\n",
       "    <tr>\n",
       "      <th>1549</th>\n",
       "      <td>3286</td>\n",
       "      <td>1983</td>\n",
       "      <td>COD</td>\n",
       "      <td>﻿173.\\tFirst of all, Sir, on behalf of the del...</td>\n",
       "      <td>7809</td>\n",
       "    </tr>\n",
       "    <tr>\n",
       "      <th>1565</th>\n",
       "      <td>3302</td>\n",
       "      <td>1983</td>\n",
       "      <td>IRN</td>\n",
       "      <td>﻿ 'Those not following the true path of God ex...</td>\n",
       "      <td>7768</td>\n",
       "    </tr>\n",
       "  </tbody>\n",
       "</table>\n",
       "</div>"
      ],
      "text/plain": [
       "      index  speech_year country_code  \\\n",
       "1988   4054         1982          PAN   \n",
       "1177   2471         1984          IRL   \n",
       "1571   3308         1983          PRY   \n",
       "1801   3867         1987          IRN   \n",
       "1156   2450         1984          RUS   \n",
       "1047   2152         1988          GRC   \n",
       "2284   4731         1980          LUX   \n",
       "572    1027         1986          IRN   \n",
       "1549   3286         1983          COD   \n",
       "1565   3302         1983          IRN   \n",
       "\n",
       "                                            speech_text  speech_word_count  \n",
       "1988  Mr. President, your many years of association ...              10007  \n",
       "1177  ﻿104. I have the honour of addressing the Gene...               9612  \n",
       "1571  ﻿238.\\tMr. President, my first words will\\nbe ...               9115  \n",
       "1801  ﻿O Lord, with Thy holy name I begin and from T...               8271  \n",
       "1156  ﻿Mr. Lusaka, I congratulate you on your electi...               8069  \n",
       "1047  ﻿On behalf of the European Community and its m...               8050  \n",
       "2284  ﻿Since Luxembourg is President of the Council ...               8043  \n",
       "572    I have great pleasure in extending to Mr. Cho...               7814  \n",
       "1549  ﻿173.\\tFirst of all, Sir, on behalf of the del...               7809  \n",
       "1565  ﻿ 'Those not following the true path of God ex...               7768  "
      ]
     },
     "execution_count": 14,
     "metadata": {},
     "output_type": "execute_result"
    }
   ],
   "source": [
    "un_df.sort_values(by='speech_word_count', ascending=False).head(10)"
   ]
  },
  {
   "cell_type": "markdown",
   "metadata": {},
   "source": [
    "We can also display the first four hundred characters of the longest speech, using the index value from the table above."
   ]
  },
  {
   "cell_type": "code",
   "execution_count": 15,
   "metadata": {},
   "outputs": [
    {
     "name": "stdout",
     "output_type": "stream",
     "text": [
      "Mr. President, your many years of association \n",
      "with the United Nations, during which you have \n",
      "demonstrated your wisdom, spirit of co-operation \n",
      "and human qualities, have earned you your \n",
      "election, which guarantees the successful outcome \n",
      "of our work for all States Members of the United \n",
      "Nations. We welcome your presidency of the \n",
      "General Assembly and should like to pledge the \n",
      "determined co-opera\n"
     ]
    }
   ],
   "source": [
    "print(un_df.iloc[1988]['speech_text'][:400])"
   ]
  },
  {
   "cell_type": "markdown",
   "metadata": {
    "slideshow": {
     "slide_type": "slide"
    }
   },
   "source": [
    "## Word Count Excercise 2\n",
    "\n",
    "In the \"data\" folder, there is a file called \"wine_reviews.csv\" which contains written reviews (`description`) and scores (`points`, `rating`).\n",
    "What is the average (median) number of words in a review? Make a histogram of the length distribution.\n",
    "\n"
   ]
  },
  {
   "cell_type": "code",
   "execution_count": null,
   "metadata": {},
   "outputs": [],
   "source": []
  },
  {
   "cell_type": "markdown",
   "metadata": {
    "slideshow": {
     "slide_type": "slide"
    }
   },
   "source": [
    "# Word frequencies"
   ]
  },
  {
   "cell_type": "markdown",
   "metadata": {
    "slideshow": {
     "slide_type": "slide"
    }
   },
   "source": []
  },
  {
   "cell_type": "markdown",
   "metadata": {
    "slideshow": {
     "slide_type": "skip"
    }
   },
   "source": [
    "Word frequencies are the backbone of almost all text analysis. From topic models to text classification, counting how often certain words occur is a critical step in quantifying texts. While it is certainly possible to compute word frequencies using your own functions, that is usually unnecessary, as many Python libraries can compute words frequencies. \n",
    "\n",
    "\n",
    "Like all frequency tables, it is possible to create word frequency tables in either wide or long form. If you don't really care about which specific words are in a text, but are mostly using them for subsequent statistical analysis, you'll likely need them in the first, wide format. Here, each text is a row and each word a variable. This is the modal format for how text is interpreted as numbers. \n",
    "\n",
    "*The paper and pencil sat idle on the desk.*\n",
    "\n",
    "| and | desk | idle | on | paper | pencil | sat | the |\n",
    "|----:|-----:|-----:|---:|------:|-------:|----:|----:|\n",
    "| 1   | 1    | 1    | 1  | 1     | 1      | 1   | 2   |\n",
    "\n",
    "Alternatively, if you want to know about which specific words, or types of words, are most common, you might favor the second, long approach. \n",
    "\n",
    "| word   | freq |\n",
    "|--------|------|\n",
    "| the    | 2    |\n",
    "| sat    | 1    |\n",
    "| pencil | 1    |\n",
    "| paper  | 1    |\n",
    "| on     | 1    |\n",
    "| idle   | 1    |\n",
    "| desk   | 1    |\n",
    "| and    | 1    |\n",
    "\n",
    "In either case, we are disregarding the word order in the original sentence. With few notable exceptions, analysts take what is called a *bag-of-words* approach. This simplifying assumption, that word order doesn't really matter, has two things going for it. First, it is computationally much easier to assume that order of words in a sentence doesn't matter. Second, the results, as you will see, are often pretty solid. Fields like sociology, which are based on the idea that individuals are shaped by their surroundings, analyze individual survey data frequently to great success. Bag-of-words is like that. We know context matters, but modeling strategies that ignore this can still provide fairly good estimates.\n",
    "\n",
    "In your analysis, you will likely use the [CountVectorizer](https://scikit-learn.org/stable/modules/generated/sklearn.feature_extraction.text.CountVectorizer.html?highlight=count%20vectorizer#sklearn.feature_extraction.text.CountVectorizer) included with scikit-learn. We'll discuss how to make use of the `CountVectorizer` later on the the Analysis section of the book. For now, we'll import the `make_wf_df` function from `pdtext` to make the logic of turning word counts into datasets a little more straightforward. "
   ]
  },
  {
   "cell_type": "code",
   "execution_count": 16,
   "metadata": {
    "slideshow": {
     "slide_type": "slide"
    }
   },
   "outputs": [],
   "source": [
    "from pdtext.tf import make_wf_df"
   ]
  },
  {
   "cell_type": "markdown",
   "metadata": {
    "slideshow": {
     "slide_type": "slide"
    }
   },
   "source": [
    "We start off with some sample sentences."
   ]
  },
  {
   "cell_type": "code",
   "execution_count": 17,
   "metadata": {
    "slideshow": {
     "slide_type": "fragment"
    }
   },
   "outputs": [],
   "source": [
    "sentences = [\n",
    "    \"Unequal exchange is ruining and impoverishing our peoples and must cease.\",\n",
    "    \"Arms expenditures are irrational.\",\n",
    "    \"They must cease and the funds thus released must be used to finance development.\",\n",
    "]"
   ]
  },
  {
   "cell_type": "code",
   "execution_count": 18,
   "metadata": {},
   "outputs": [
    {
     "data": {
      "text/html": [
       "<div>\n",
       "<style scoped>\n",
       "    .dataframe tbody tr th:only-of-type {\n",
       "        vertical-align: middle;\n",
       "    }\n",
       "\n",
       "    .dataframe tbody tr th {\n",
       "        vertical-align: top;\n",
       "    }\n",
       "\n",
       "    .dataframe thead th {\n",
       "        text-align: right;\n",
       "    }\n",
       "</style>\n",
       "<table border=\"1\" class=\"dataframe\">\n",
       "  <thead>\n",
       "    <tr style=\"text-align: right;\">\n",
       "      <th></th>\n",
       "      <th>and</th>\n",
       "      <th>are</th>\n",
       "      <th>arms</th>\n",
       "      <th>be</th>\n",
       "      <th>cease</th>\n",
       "      <th>development</th>\n",
       "      <th>exchange</th>\n",
       "      <th>expenditures</th>\n",
       "      <th>finance</th>\n",
       "      <th>funds</th>\n",
       "      <th>...</th>\n",
       "      <th>our</th>\n",
       "      <th>peoples</th>\n",
       "      <th>released</th>\n",
       "      <th>ruining</th>\n",
       "      <th>the</th>\n",
       "      <th>they</th>\n",
       "      <th>thus</th>\n",
       "      <th>to</th>\n",
       "      <th>unequal</th>\n",
       "      <th>used</th>\n",
       "    </tr>\n",
       "  </thead>\n",
       "  <tbody>\n",
       "    <tr>\n",
       "      <th>Unequal exchange is ruining and impoverishing our peoples and must cease.</th>\n",
       "      <td>2</td>\n",
       "      <td>0</td>\n",
       "      <td>0</td>\n",
       "      <td>0</td>\n",
       "      <td>1</td>\n",
       "      <td>0</td>\n",
       "      <td>1</td>\n",
       "      <td>0</td>\n",
       "      <td>0</td>\n",
       "      <td>0</td>\n",
       "      <td>...</td>\n",
       "      <td>1</td>\n",
       "      <td>1</td>\n",
       "      <td>0</td>\n",
       "      <td>1</td>\n",
       "      <td>0</td>\n",
       "      <td>0</td>\n",
       "      <td>0</td>\n",
       "      <td>0</td>\n",
       "      <td>1</td>\n",
       "      <td>0</td>\n",
       "    </tr>\n",
       "    <tr>\n",
       "      <th>Arms expenditures are irrational.</th>\n",
       "      <td>0</td>\n",
       "      <td>1</td>\n",
       "      <td>1</td>\n",
       "      <td>0</td>\n",
       "      <td>0</td>\n",
       "      <td>0</td>\n",
       "      <td>0</td>\n",
       "      <td>1</td>\n",
       "      <td>0</td>\n",
       "      <td>0</td>\n",
       "      <td>...</td>\n",
       "      <td>0</td>\n",
       "      <td>0</td>\n",
       "      <td>0</td>\n",
       "      <td>0</td>\n",
       "      <td>0</td>\n",
       "      <td>0</td>\n",
       "      <td>0</td>\n",
       "      <td>0</td>\n",
       "      <td>0</td>\n",
       "      <td>0</td>\n",
       "    </tr>\n",
       "    <tr>\n",
       "      <th>They must cease and the funds thus released must be used to finance development.</th>\n",
       "      <td>1</td>\n",
       "      <td>0</td>\n",
       "      <td>0</td>\n",
       "      <td>1</td>\n",
       "      <td>1</td>\n",
       "      <td>1</td>\n",
       "      <td>0</td>\n",
       "      <td>0</td>\n",
       "      <td>1</td>\n",
       "      <td>1</td>\n",
       "      <td>...</td>\n",
       "      <td>0</td>\n",
       "      <td>0</td>\n",
       "      <td>1</td>\n",
       "      <td>0</td>\n",
       "      <td>1</td>\n",
       "      <td>1</td>\n",
       "      <td>1</td>\n",
       "      <td>1</td>\n",
       "      <td>0</td>\n",
       "      <td>1</td>\n",
       "    </tr>\n",
       "  </tbody>\n",
       "</table>\n",
       "<p>3 rows × 24 columns</p>\n",
       "</div>"
      ],
      "text/plain": [
       "                                                    and  are  arms  be  cease  \\\n",
       "Unequal exchange is ruining and impoverishing o...    2    0     0   0      1   \n",
       "Arms expenditures are irrational.                     0    1     1   0      0   \n",
       "They must cease and the funds thus released mus...    1    0     0   1      1   \n",
       "\n",
       "                                                    development  exchange  \\\n",
       "Unequal exchange is ruining and impoverishing o...            0         1   \n",
       "Arms expenditures are irrational.                             0         0   \n",
       "They must cease and the funds thus released mus...            1         0   \n",
       "\n",
       "                                                    expenditures  finance  \\\n",
       "Unequal exchange is ruining and impoverishing o...             0        0   \n",
       "Arms expenditures are irrational.                              1        0   \n",
       "They must cease and the funds thus released mus...             0        1   \n",
       "\n",
       "                                                    funds  ...  our  peoples  \\\n",
       "Unequal exchange is ruining and impoverishing o...      0  ...    1        1   \n",
       "Arms expenditures are irrational.                       0  ...    0        0   \n",
       "They must cease and the funds thus released mus...      1  ...    0        0   \n",
       "\n",
       "                                                    released  ruining  the  \\\n",
       "Unequal exchange is ruining and impoverishing o...         0        1    0   \n",
       "Arms expenditures are irrational.                          0        0    0   \n",
       "They must cease and the funds thus released mus...         1        0    1   \n",
       "\n",
       "                                                    they  thus  to  unequal  \\\n",
       "Unequal exchange is ruining and impoverishing o...     0     0   0        1   \n",
       "Arms expenditures are irrational.                      0     0   0        0   \n",
       "They must cease and the funds thus released mus...     1     1   1        0   \n",
       "\n",
       "                                                    used  \n",
       "Unequal exchange is ruining and impoverishing o...     0  \n",
       "Arms expenditures are irrational.                      0  \n",
       "They must cease and the funds thus released mus...     1  \n",
       "\n",
       "[3 rows x 24 columns]"
      ]
     },
     "execution_count": 18,
     "metadata": {},
     "output_type": "execute_result"
    }
   ],
   "source": [
    "wf_df = make_wf_df(sentences)\n",
    "wf_df"
   ]
  },
  {
   "cell_type": "markdown",
   "metadata": {},
   "source": [
    "The resulting dataframe has a column for each unique word:"
   ]
  },
  {
   "cell_type": "markdown",
   "metadata": {},
   "source": [
    "We can create a variable in the dataframe with the original texts. Since `sentences` is a list of two items, and because we know the the order of `sentences` matches the order of `df`, it is fairly straightfoward to add the new column."
   ]
  },
  {
   "cell_type": "markdown",
   "metadata": {
    "slideshow": {
     "slide_type": "slide"
    }
   },
   "source": [
    "### Word Frequencies Exercise 1\n",
    "\n",
    "Create a word frequency dataframe based on the following sentences.\n"
   ]
  },
  {
   "cell_type": "code",
   "execution_count": 19,
   "metadata": {},
   "outputs": [],
   "source": [
    "seuss_sen = ['This one has a little star.', \n",
    "            'This one has a little car.', \n",
    "            'Say!',\n",
    "            'What a lot of fish there are.']"
   ]
  },
  {
   "cell_type": "code",
   "execution_count": null,
   "metadata": {},
   "outputs": [],
   "source": []
  },
  {
   "cell_type": "markdown",
   "metadata": {
    "slideshow": {
     "slide_type": "slide"
    }
   },
   "source": [
    "If, instead, we wanted the most frequent words, we could use the `summary` option."
   ]
  },
  {
   "cell_type": "code",
   "execution_count": 20,
   "metadata": {
    "slideshow": {
     "slide_type": "fragment"
    }
   },
   "outputs": [
    {
     "data": {
      "text/plain": [
       "the       2\n",
       "sat       1\n",
       "pencil    1\n",
       "paper     1\n",
       "on        1\n",
       "idle      1\n",
       "desk      1\n",
       "and       1\n",
       "dtype: int64"
      ]
     },
     "execution_count": 20,
     "metadata": {},
     "output_type": "execute_result"
    }
   ],
   "source": [
    "make_wf_df(['The paper and pencil sat idle on the desk'], summary = True)"
   ]
  },
  {
   "cell_type": "markdown",
   "metadata": {
    "slideshow": {
     "slide_type": "-"
    }
   },
   "source": [
    "### Word Frequencies Exercise 2\n",
    "\n",
    "Create a word frequency datframe from our Suess sentences.\n"
   ]
  },
  {
   "cell_type": "code",
   "execution_count": null,
   "metadata": {
    "slideshow": {
     "slide_type": "slide"
    }
   },
   "outputs": [],
   "source": []
  },
  {
   "cell_type": "markdown",
   "metadata": {
    "slideshow": {
     "slide_type": "slide"
    }
   },
   "source": [
    "We can now create a new dataframe based on the UN texts. We'll start by using `make_wf_df` to convert the `speech_text` in the UN speeches dataframe into its own dataset. "
   ]
  },
  {
   "cell_type": "code",
   "execution_count": 21,
   "metadata": {
    "slideshow": {
     "slide_type": "slide"
    }
   },
   "outputs": [],
   "source": [
    "un_wf = make_wf_df(un_df['speech_text'])"
   ]
  },
  {
   "cell_type": "markdown",
   "metadata": {
    "slideshow": {
     "slide_type": "slide"
    }
   },
   "source": [
    "This rebuilt our vocabulary list, which is now much longer."
   ]
  },
  {
   "cell_type": "code",
   "execution_count": 22,
   "metadata": {
    "slideshow": {
     "slide_type": "fragment"
    }
   },
   "outputs": [
    {
     "data": {
      "text/plain": [
       "41133"
      ]
     },
     "execution_count": 22,
     "metadata": {},
     "output_type": "execute_result"
    }
   ],
   "source": [
    "len(un_wf.keys())"
   ]
  },
  {
   "cell_type": "markdown",
   "metadata": {
    "slideshow": {
     "slide_type": "slide"
    }
   },
   "source": [
    "We can use slice to examine an arbitrary section of the vocabulary."
   ]
  },
  {
   "cell_type": "code",
   "execution_count": 23,
   "metadata": {
    "slideshow": {
     "slide_type": "fragment"
    }
   },
   "outputs": [
    {
     "data": {
      "text/plain": [
       "Index(['discontinuance', 'discontinuation', 'discontinue', 'discontinued',\n",
       "       'discontinuing', 'discontinuities', 'discontinuity', 'discord',\n",
       "       'discordant', 'discords'],\n",
       "      dtype='object')"
      ]
     },
     "execution_count": 23,
     "metadata": {},
     "output_type": "execute_result"
    }
   ],
   "source": [
    "un_wf.keys()[11510:11520]"
   ]
  },
  {
   "cell_type": "code",
   "execution_count": 24,
   "metadata": {
    "slideshow": {
     "slide_type": "slide"
    }
   },
   "outputs": [
    {
     "data": {
      "text/html": [
       "<div>\n",
       "<style scoped>\n",
       "    .dataframe tbody tr th:only-of-type {\n",
       "        vertical-align: middle;\n",
       "    }\n",
       "\n",
       "    .dataframe tbody tr th {\n",
       "        vertical-align: top;\n",
       "    }\n",
       "\n",
       "    .dataframe thead th {\n",
       "        text-align: right;\n",
       "    }\n",
       "</style>\n",
       "<table border=\"1\" class=\"dataframe\">\n",
       "  <thead>\n",
       "    <tr style=\"text-align: right;\">\n",
       "      <th></th>\n",
       "      <th>0</th>\n",
       "      <th>00</th>\n",
       "      <th>000</th>\n",
       "      <th>0001</th>\n",
       "      <th>000yearlong</th>\n",
       "      <th>001</th>\n",
       "      <th>006</th>\n",
       "      <th>007</th>\n",
       "      <th>009</th>\n",
       "      <th>00tmunity</th>\n",
       "      <th>...</th>\n",
       "      <th>у</th>\n",
       "      <th>хxi24</th>\n",
       "      <th>ч</th>\n",
       "      <th>ш</th>\n",
       "      <th>ш1оп</th>\n",
       "      <th>ш1ь1а</th>\n",
       "      <th>щ</th>\n",
       "      <th>ь</th>\n",
       "      <th>ьо1л</th>\n",
       "      <th>ю</th>\n",
       "    </tr>\n",
       "    <tr>\n",
       "      <th>speech_text</th>\n",
       "      <th></th>\n",
       "      <th></th>\n",
       "      <th></th>\n",
       "      <th></th>\n",
       "      <th></th>\n",
       "      <th></th>\n",
       "      <th></th>\n",
       "      <th></th>\n",
       "      <th></th>\n",
       "      <th></th>\n",
       "      <th></th>\n",
       "      <th></th>\n",
       "      <th></th>\n",
       "      <th></th>\n",
       "      <th></th>\n",
       "      <th></th>\n",
       "      <th></th>\n",
       "      <th></th>\n",
       "      <th></th>\n",
       "      <th></th>\n",
       "      <th></th>\n",
       "    </tr>\n",
       "  </thead>\n",
       "  <tbody>\n",
       "    <tr>\n",
       "      <th>﻿It is indeed a pleasure for me and the members of my delegation to extend to Ambassador Garba our sincere congratulations on his election to the presidency of the forty-fourth session of the General Assembly. His election to this high office is a well-deserved tribute to his personal qualities and experience. I am fully confident that under his able and wise leadership the Assembly will further consolidate the gains achieved during the past year.\\nMy delegation associates itself with previous speakers in expressing its appreciation of the dedicated efforts of his predecessor, His Excellency Mr. Dante Caputo, for the exemplary manner in which he discharged his duties as President of the forty-third session of the General Assembly.\\nAs in previous years, my delegation wishes to note its satisfaction with and gratitude for the assiduous and unrelenting efforts exerted by the Secretary-General of the United Nations in the cause of peace and international harmony. We pay a tribute to him for his untiring efforts to promote conditions conducive to the realization of the noble principles enshrined in the Charter of the United Nations, we praise and congratulate him on the successes the Organization has achieved in recent years. More particularly we praise him for the renewed faith and regeneration of confidence in the Organization and its ability to Play an instrumental role in the peaceful settlement of disputes.  \\nToday we find ourselves at an important crossroads. Recent years have witnessed a welcome positive change in the international political climate. The confrontational tone evident in super-Power relations not too long ago continues to show signs of thawing. At the same time,, a number of regional and sub regional conflicts have taken momentous strides towards resolution. Many more protracted conflicts show signs of hope and movement. Though one might argue that the present situation continues to be delicate, the process made can hardly escape notice and is indeed worthy of recognition. \\nDevelopments in southern Africa, and more particularly in Namibia with regard to the implementation of the United Nations independence plan, are welcome signals of hope, but amidst the hopes there are still dark reminders of the precariousness of global political reconciliation. A number of problems remain unsolved and several of these, such as the conflicts in the Middle East, continue to simmer.\\nWe are therefore at an important crossroads. We feel that there is enough good will to set in motion the process of evolution towards peace and stability. We see signs that the human intellect is resourceful enough to devise ideas that are conducive to our survival. Fresh concepts of peace and security have gained currency, but at the same time we continue to live under the dark shadow of nuclear devices. The proliferation of nuclear weapons, both horizontally and vertically, is a tragic reminder of the difficulties and obstacles which stand between mankind and lasting peace.\\nOn the economic front hard choices need to be made. The 1980s have witnessed one of the longest spells of growth for the industrialized countries, while the situation in the South, particularly in the least developed countries, continues to deteriorate. Benefits of trade continue to be disproportionate. Commodity prices have not regained their value in real terms. Aid flows continue to be inadequate. The debt burden borne by many third world countries is stifling economic growth and efforts for development, causing political instability. The link between economic development and the environment has recently been recognized and it is encouraging to note the high profile given to environmental issues at the Paris summit meeting of the Group of Seven in July this year, in this regard, it is of particular interest that there is an increasing awareness and acceptance of the fact that certain technologies have a deleterious effect on the environment. The question is how these technologies can be replaced through a global programme of co-operation.\\nNo single fact, no single object, defines our moment in civilization more than does the existence of large nuclear arsenals. we have the horrible capacity to destroy our planet several times other, either by accident or by design. Nuclear weapons instil fear and beget mistrust and insecurity. They have a remarkable tendency to set hostile relations in concrete. They aggravate the security dilemma of states and perpetuate a confliction mode of behaviour. This, therefore, fuels the arms race and defence budgets soar while expenditures that are benevolent tend to plummet. \\nThe UN Conference on the relationship between disarmament and development served as a timely reminder of the opportunity costs of armaments, both nuclear and conventional. However the opportunity cost of nuclear weaponry is not only development. The international political climate and the security perceptions of states, as well as the environment, are actual and potential sacrifices to\\nnuclear weapons. Furthermore. the potential horizontal proliferation of nuclear weapons issues the stark and grim warning that regional rivalries would be on an ever shorter fuse and that cataclysm would be that much closer.\\nIt is in view of these strong objections  to nuclear weapons and their Proliferation and deployment that my delegation has consistently and strongly supported United Nations calls for disarmament.\\nThe confidence that can he derived from genuine arms reduction has a pervasive effect on the security environment. The transition that many of the world's conflict, are making towards negotiations and understanding owes a great deal to improved relations between the super-Powers, which were themselves in part inspired by the historic arms reduction agreement of December 1987 for this reason -at Maldives has always supported all efforts with a view to general and complete disarmament, including the total elimination of chemical and bacteriological weapons and reduction in conventional armaments. We also believe that nuclear-weapon-free zones and zones of peace could inspire trust, good Will and operation among states, transforming into secure communities contributing to global peace and security. We therefore support calls for the establishment of nuclear-weapon-free zones and zones of peace. \\nI express my delegation's fullest support for the people of Namibia, with our Namibia achieved their independence.  Apartheid is an affront to mankind and a crime against humanity. No amount of tinkering with it can placate the sense of outrage and indignation felt by the world community for this immoral practice. No amount of cosmetic change can restore Justice and dignity to the oppressed majority in South Africa. Maldives express our solidarity with the oppressed majority in South Africa in their struggle against apartheid. We condemn unequivocally the system of apartheid and condemn Pretoria regime for its continued defiance of the UN resolutions.  \\nBy far the greatest conflict in our time has been and continues to be the conflict in the Middle East. At the heart of this conflict is the question of Palestine. However, it is only in recent years that the Palestinian issue has evoked even a reasoned amount of concern in some key States. The search for peace continues to be frustrated by the hard-line and obstinate policies of Israel. Meanwhile, the situation in the occupied territories continues to deteriorate. The 22 month long intifadah emphasizes the intensity of the situation posed by Zionist occupation of Palestine and other Arab territories, including Jerusalem.\\nThe Government of Maldives strongly condemns the use of brutal force and the blatant abuse of human rights by Israel against the Palestinian people in the occupied territories. We also deplore the continued defiance by Israel of United Nations resolutions and its violation of international law and all norms of civilized behaviour. We reiterate our full support and solidarity with the people of Palestine in their just struggle for self-determination and independence. We therefore welcome the overwhelming international support for the uprising, which is being viewed as the just and valiant struggle of the Palestinian people for the restoration of their inalienable rights. We extend our whole-hearted support to the proposal for an early convening of an international conference on the Middle East with the full and independent participation of Palestine.\\nThe situation in Lebanon remains volatile. The civil war, now in its fifteenth year, continues to take an increasing toll of human life. We fervently hope that, with the developments taking place in the region and elsewhere, the question of Lebanon will be solved in a manner which will restore its independence and national integrity, and alleviate the sufferings of its people. We welcome the efforts undertaken by the members of the Arab league, both past and present, to resolve the situation in Lebanon and we request the international community to give their support to the people of Lebanon in their efforts to solve their problems.\\nOn a more hopeful note, we are pleased that, contrary to some early pessimistic assessments, the cease-fire agreed on between Iran and Iraq in the Gulf has held firm, indicating the sincerity of the parties to the conflict. We welcome the commitments undertaken by them to resolve the conflict by peaceful means. In particular, we applaud the efforts of the United Nations Secretary-General for the resolution of this conflict and urge both parties to maintain the momentum of peace created and envisaged by the cease-fire. \\nWhile we welcome the positive developments in Afghanistan - I refer to the withdraw of foreign troops - we regret that the situation has not been completely settled. We reiterate our call upon all parties concerned to adhere to the provisions of the Geneva Agreements in order not to frustrate the prevailing opportunities for a just and lasting solution to the problem. We urge the international community to provide humanitarian and economic assistance for the relief and rehabilitation of refugees, as well as for the long-term reconstruction of that ravaged country.  \\nPositive strides have been taken towards the solution of the Kampuchean problem. We welcome the withdraw of the Vietnamese troops and we appreciate the diplomatic efforts to obtain a comprehensive and lasting solution to the dispute including the Jakarta informal meeting as well as the international conference in Paris. However, realizing the delicacy of the current situation, we call upon all parties concerned to exercise restraint. \\nThe process of reunification of peoples should be through peaceful means and by the creation of conditions conducive to reconciliation, peace and stability among those sharing the same aspirations. We remain optimistic about the prospects for peaceful national reconciliation in the Korean peninsula. The good office of the UN could be utilized in these peace negotiations.  \\nAnother issue that needs our attention is the situation in Cyprus. That prolonged inter-communal dispute should be solved urgently, with due regard to the national integrity of the nation and the aspirations of its peoples. We welcome the recent high-level contacts between the two communities and hope that the revived inter-communal dialogue will lead to inter-communal reconciliation on the basis of equality and integrity for both communities. We commend the tireless and sincere efforts of the Secretary-General in searching for a settlement to the conflict.\\nAs I have already noted, the world economic situation continues to be bleak for the developing countries. Their situation has been worsened by the limited of aid since the early 1980s, rampant domestic inflation, crippling debts and the exorbitant burden of debt-servicing. The situation is aggravated by their falling share in international trade, by persistent negative trends in the terms of trade, owing to protectionism, and by the upsurge in unilateralism and other practices that jeopardize the multilateral nature of trade. It is regrettable that, on the whole, despite recent measures whereby the resources of the international finance institutions have been increased by the plans of some of the most developed countries to recycle part of their surplus into the developing countries, the internationally agreed target of 0.7 per cent of gross national product (GNP) as official development assistance has not been met. Moreover, as regards the least developed countries, which continue to register negative growth rates, the official development assistance target of 0.15 per cent of GNP has not been met either.\\nEconomic insecurity is not the only visible threat facing many of us in the world today. Indeed, we consider the environment to be one of the most important aspects of the quality of life that we have to address now in our quest for economic and industrial development. We welcome the proposed United Nations conference on environment and development and regard the event as a valuable opportunity which should be fully utilized to promote a comprehensive approach to the environmental problems related to the development activities of mankind.\\nWhile serious efforts are being made at global, regional and national levels to protect the environment, my delegation is particularly concerned about the effects of the degradation of the environment, especially the depletion of the ozone layer and the consequent global warming and rise in sea level. Maldives is a low-lying archipelagic State, entirely dependent upon its surrounding seas. Any degradation of the marine ecosystem, or any rise in the mean sea level, is a matter of grave concern to the Maldives, it will be recalled that two years ago we witnessed the fury of tidal eruptions, which caused extensive damage, with the assistance of friendly countries, we have embarked upon a programme of protecting the populated islands from possible natural calamities. Tidal waves, hurricanes and typhoons are increasingly frequent phenomena, and today there is a greater awareness that man's tampering with the environment and certain technologies inimical to the environment do have a direct bearing on the behaviour of the global weather system.\\nMaldives therefore strongly supports the call for environmental preservation and is already a party to the Vienna Convention for the Protection of the Ozone Layer and the Montreal Protocol on Substances that Deplete the Ozone Layer. Our interest in the issue continues undiminished, and we welcome the universal interest that has been expressed in the preservation of the environment. I should like also to mention that in November this year the Maldives will host a conference of small States on sea-level rise. We are confident that the conference will contribute to the global efforts in addressing this important issue.\\nIt is an old and true maxim that the best indicator of the strength and stability of an international security system or political order is the survival of its weakest members. That being the case, and in view of the implications, the ever-increasing dangers of terrorism and mercenarism to the sovereignty of small and weak States are appalling.\\nTerrorism is not simply a minor irritant to anybody - least of all, to the small nations whose sovereignty is not only held hostage but can be easily usurped. The very existence of this possibility in the first place does not augur well for the security of the international community. The cherished principles that have so long contributed to the survival of the present State system and that are indispensable values of our global civilization are at stake. Today it may be we, the small States, whose sovereignty can be robbed by a handful of mercenaries or a gang of bounty hunters. Tomorrow it could be the larger countries, which, even at present, face some erosion of their sovereignty and security by similar acts. The difference is that when a small State is subjected to a terrorist onslaught or an invasion by mercenaries the consequences can be irreversible, both in political and in economic terms. We in the Maldives were close to becoming the victim of such a dastardly attempt last November.\\nIt is evident that peoples engaging in acts of terrorism and mercenarism, which endanger the sovereignty and territorial integrity of States, need to be deterred. The security of small States is too weak to be taken care of by mere self-help. The implications that efforts to strengthen their own security have for the prospects of economic development through the severe, if at all affordable, opportunity costs and the impact on social and political values, as well as the long-term implications for the sustenance of democracy in a militarised society, are negative. By requesting the inclusion on the agenda of the Assembly of an item related to the protection and security of small States, we sought to highlight the issue that I have just mentioned. We brought the issue to this forum not because we are unwilling to defend our values, nor have we taken it up here because our peoples lack valour. \\nSmall States do have as friends States that can assist, and have assisted, in strengthening their security. While we are grateful for the sense of duty that these friends have shown, it is with regret that we note that bilateral security arrangements in the international system have not yet evolved to a level of maturity whereby the interests of the weaker partner can be safeguarded. Nor are the socio-political identity of the weaker State and the principle of sovereign equality strong enough to be impervious to the possible vicissitudes of unequal relationships. Moreover, our political systems continue to be afflicted by misconceptions which can distort actions taken with the best of intentions. Consequently, the greater the power differential, the greater the propensity to misconceptions and the more hapless the predicament of the weaker parties. It is for this reason that we believe that multilateral frameworks are the most feasible nodes of a sound security mechanism for the weakest Members of the Organization, even if the actual support or assistance in a given situation is rendered at a regional or bilateral level.\\nAs I noted earlier, it is my humble opinion that we are at a pivotal point, an important crossroads in our global political development. It is our belief that we are at a particularly auspicious moment in history to forge ahead in strengthening the norms of our global political and security systems. Thus it is our sincere hope that the Organization will take a similar momentous step, a leap forward in ushering in a new era of security for the small States. We trust that this critical step will be taken to safeguard the principles which are espoused by the Organization and on which the survival of a large number of this community depends.\\n</th>\n",
       "      <td>2</td>\n",
       "      <td>0</td>\n",
       "      <td>0</td>\n",
       "      <td>0</td>\n",
       "      <td>0</td>\n",
       "      <td>0</td>\n",
       "      <td>0</td>\n",
       "      <td>0</td>\n",
       "      <td>0</td>\n",
       "      <td>0</td>\n",
       "      <td>...</td>\n",
       "      <td>0</td>\n",
       "      <td>0</td>\n",
       "      <td>0</td>\n",
       "      <td>0</td>\n",
       "      <td>0</td>\n",
       "      <td>0</td>\n",
       "      <td>0</td>\n",
       "      <td>0</td>\n",
       "      <td>0</td>\n",
       "      <td>0</td>\n",
       "    </tr>\n",
       "    <tr>\n",
       "      <th>﻿\\nMay I begin by congratulating you. Sir, on your election to the presidency of the General Assembly at its forty-fourth session. Your wide experience in the United Nations makes you especially qualified to guide the Assembly and its deliberations. You have my best wishes for the demanding task that lies ahead of you. May I also express my thanks to the outgoing President, Mr. Dante Caputo, who so ably fulfilled his role on behalf of the Assembly. It gives me particular pleasure to pay tribute to the Secretary-General. We owe a great deal to his authority and leadership.\\nAs we are assembled here for the annual general debate, every Member state needs to reflect on certain fundamental questions. Is the United Nations doing everything possible in order to meet its challenges? Are we making progress? Can we say that the United Nations enters the last decade of this century with determination and justified self-confidence? Is my own country doing everything it can in order to help the world Organization? The answers to these questions must be sought in the actual work of the Organization and of its Member States. For my part, I shall try to emphasize some of the challenges we in Finland regard as particularly imports at the present time. It seems to us that the main challenges can be expressed in two words -insecurity and poverty. Both produce fear  d suffering. Neither can be dealt with by any single remedy.\\nThe United Nations was created first and foremost in order to maintain international peace and security. In this respect, the past year represents a mixture of success and disappointment. We are encouraged by the high-level dialogues that have continued between the major Powers. we have witnessed with satisfaction such concrete achievements as the continuing progress in the verified dismantling and destruction of American and Soviet intermediate-range nuclear weapons. As one of the participating States in the process of the Conference on Security and cooperation in Europe, Finland follow, closely and with ,much hope the new efforts to achieve substantive conventional disarmament in Europe.\\nAt the same time we are concerned about the violence that has erupted and continues in many parts of the world. Most of the underlying problem are already on the agenda of the General Assembly, and we shall express our views on them in due course. Now I want to speak about the global challenges. As regards the process of disarmament on the global level our hopes in Finland are fastened particularly on the preparation of a chemical weapons convention. The political will is there, as was demonstrated again at the conferences held in Paris and in Canberra this year. During this year, as before, Finnish experts have continued their research in order to help to develop appropriate methods that could meet the complex verification requirements  global and comprehensive chemical weapons convention. We expect progress from the protracted negotiations with growing impatience. We welcome the impetus recently given them in the bilateral talks between the United States and the Soviet Union.\\nSecurity on the global level must take into account other factors in addition to armaments and military threats. Security requires confidence in the future. Such confidence must be felt both by Governments and by their peoples. Only a representative Government that respects human rights and that therefore enjoys the confidence of its own people can face the future with a sense of security and successfully maintain stable relations with other Governments. Some dramatic - in fact, tragic - events have recently illustrated the importance of respect for human rights. We hope that lessons have been learned.\\nConfidence in the future also requires that the other global challenge, that of poverty, be overcome. The sufferings of poverty may not be in evidence everywhere, but the challenge requires global co-operation for development. The Assembly will meet next year in a special session devoted to international economic co-operation. Soon thereafter a new international development strategy for the 1990s should be adopted. A successful special session and a new and realistic strategy should help to bring about a new spirit of international economic co-operation.\\nIn the process of preparing both the development strategy and the special session emphasis should be on the development of human resources in all forms, including the recognition of a well-functioning private sector in balance with an effective public sector. In that context funding generated by national and international sources should be well co-ordinated. The necessary investments in developing countries require increasing domestic and external financing.\\nThe debt overhang has resulted in the transfer of resources from developing countries, which exceeded $US 50 billion last year, a trend that should be reversed. This requires that a political solution, including a functioning debt strategy, be found. The debt overhang cannot be overcome by the international community at the upcoming special session of the General Assembly and in the new international development strategy. It would be important for the efforts to reverse the transfer of resources from the developing countries if the target of 0.7 per cent of gross national product as development-and transfer were generally reached. For its part, Finland will this year reach that target set by the General Assembly.\\nThe structure of the United Nations in the economic and social fields should respond to the tasks to be specified in the strategy for the 1990s, thus -consolidating the role of the world Organization. The Finnish Government finds that the Secretary-General has a major catalytic role to play in putting forward concrete proposals to improve the Organization's effectiveness in those fields. That would also help Governments in agreeing on the areas where they are to concentrate the activities of the United Nations in the economic and social fields. Today I wish to emphasize two issues that must, in my opinion, have a Prominent place in this respect. Development cannot be sustainable if the world population continues to grow at its present rate. Development cannot be sustainable if the natural resources of the Earth continue to be depleted at the present rate. There is a growing awareness of such problems in all parts of the world. That awareness is more and more strongly reflected in the work of the United Nations, it has prompted a number of positive measures. More is needed.\\nAccording to recent United Nations estimates the world population could stabilize in the twenty-first century at the level of 10 to 11 billion persons. An early stabilisation of population growth would, of course, facilitate the fight against poverty. To reach that goal, determined population policies, translated into national population plans as spelled out in the World Population Plan of Action, should be pursued vigorously.\\nWith regard to the protection of the environment, no problem has lately become\\nso apparent and widely recognized as the problem of climate change. Both industrialized and developing countries are directly affected by the depletion of the ozone layer through increasing emissions of carbon dioxides, which produce the so-called greenhouse effect in the climate of the Earth, and by the increasing presence of substances in the atmosphere that cause acid rain and direct dangers to health.\\nIt is therefore hardly a surprise that we have witnessed increasing international activity in this field. Several initiatives have been taken to launch concerted international action to combat atmospheric pollution in all its aspects, including climatic change. It is our view that effective strategies and policies should be developed by the international community as soon as possible in all fields relating to environment. That is a major undertaking that requires consolidated effort by the General Assembly and by the relevant United Nations specialized and other agencies. Environmental problems have a universal character. Any new activities should be streamlined with already ongoing action and well-established treaty-making procedures. The General Assembly must play a pivotal role in that effort.\\nFive months ago Finland hosted a Conference of the Parties to the Vienna Convention for the Protection of the Ozone Layer aid the Montreal Protocol on Substances that Deplete the Ozone Layer. Those instruments, of 1985 and 1987 respectively, have this year already been found inadequate in light of the latest advances in knowledge. At the Conference the representatives of the more than 80 States present agreed unanimously to the Helsinki Declaration on the Protection of  the Ozone Layer, which contains an ambitious undertaking to phase out completely the use of ozone-depleting chlorofluorocarbons by the year 2000, or sooner if possible, and to phase out other ozone-depleting substances as soon as possible. We expect that undertaking to be converted into a legally binding decision at next year's meeting of the Parties to the Montreal Protocol. Appropriate measures should also be undertaken to make environmentally sound substitutes widely available to developing countries as soon as possible.\\nIn the field of environment protection the problems that are typical in the industrialized countries are often also found in the big urban centres of the developing countries. The problems that are now typical in many developing countries - such as soil erosion and the destruction of forests - illustrate mistakes already committed by earlier generations, most of all in Europe. We can therefore all learn from each other. There is information available about the environment and its protection, and about earlier mistakes. The available knowledge needs to be applied and converted into practical programmes, not only on the level of global strategies, but also on the level of regional, national and local development.\\nIn our own development co-operation programmes, we in Finland have emphasized such activities as deforestation, where we feel that we have some experience and expertise. We see deforestation as urgent in order to help stop soil erosion, counteract the greenhouse effect and counterbalance the continued cutting of trees for fuel and for other immediate human needs. In this respect, the development of new and renewable soirees of energy is of crucial importance.\\nOn a broader scale, we look forward to the 1992 United Nations Conference on Environment and Development. We see it as representing probably the most important joint effort required of mankind during the remaining part of this century. This session of the General Assembly is called upon to take important decisions for the preparation of the Conference. In that connection, as in all our activities to face up to environmental problems, we in Finland will strongly emphasize the need to support the developing countries in order to ensure that their development is environmentally sustainable.\\nA large part of the burden, particularly for financing research and the introduction of new environmentally sound technologies, will have to be borne by the industrialized countries. We accept our part of this burden, knowing of course that all states will have to share in the efforts according to their capabilities. Since concern for the environment is global, this concern should in our opinion give a further incentive to all States without exception to involve themselves\\nactively in international co-operation for environmentally sound and sustainable development. We also think that the time is ripe for the preparation of structural reforms making the United Nations Organization more responsive to the problems of protecting the environment. My Government has an open mind regarding the various ideas that have been discussed. We would find it natural for this Assembly to take decisions ensuring environmental Questions a permanent and prominent place in the structure of the Organization.\\nOne of the activities of the United Nations which has rightly gained prominence during this year is peace-keeping. At the present time, Finland is the biggest contributor of personnel to the United Nations peace-keeping forces. Their total strength is close to 15,000, and the number of Finnish personnel is now almost 2,000. It is therefore with particular satisfaction that we in Finland share the pride felt in this house over the latest Nobel Peace Prize, which was awarded to the United Nations peace-keeping forces. In co-operation with the other Nordic countries, Finland has this year taken steps to share with other interested States its experiences concerning the training and preparation of national contingents for peace-keeping tasks.\\nWe are also satisfied at the reactivation of the United Nations Special Committee on Peace-keeping Operations. The accumulated experiences in this field have already grown to such an extent that it is high time indeed to make a thorough review of all practical proposals that may help to strengthen the role of the United Nations in peace-keeping.\\nIn this connection, I wish to emphasize the importance of finding a lasting solution to the financial difficulties that still affect current peace-keeping operations, thus indirectly undermining the financial basis of the whole Organization. The idea of having sufficient financial reserves for peacemaking and peace-keeping, particularly for the start-up phase of operations, which my   predecessor put forward in his address to the General Assembly last year, has received support in a number of Quarters. I note in particular that the Secretary-General, in his own report to the General Assembly, has referred to the possibility of establishing a special reserve fund for peace-keeping, to be supported by all Member States. We hope that this idea can soon be followed up in practice with full respect for the principle of collective responsibility. The first condition, in our view, is that Member states should accept the principle of financing all operations without exception through assessed contributions and that they should pay all their assessed contributions in full and on time.\\nThe principal factor explaining the recent growth in the participation of Finnish personnel in United Nations peace-keeping is the deployment of an enlarged battalion within the United Nations Transition Assistance Group (UNTAG) in Namibia. A sizable number of volunteer soldiers has thus been added to the two Finnish battalions and smaller units already serving in the Middle East and elsewhere.\\nNamibia is a major test for the United Nations. The beginnings of the UOTAG operations to implement Security Council resolution 435 on the independence of Namibia were unexpectedly rough and difficult. It is still too early to draw conclusions from the whole process of transition to independence, but we believe that the programme has been brought back on track thanks to the persistent efforts of the Secretary-General and the competent performance of the UNTAG personnel. Of course, many problems still remain to be solved and call for our unrelenting attention. We are looking forward with confidence to the moment when we can welcome independent Namibia into our midst as a Member State of the United Nations. For Finland, Namibia will be a major partner in our development co-operation.  The situation in the Middle East continues to pose a persistent threat to international security. The dangers of the absence of peace in the area are demonstrated almost daily. Repressive measures continue in the territories illegally occupied by Israel. The cycle of violence has not been broken. The\\neking turmoil in Lebanon gives cause for deep concern. There must be a way to or the suffering of the Lebanese people by the common endeavours of the Lebanese themselves, the Arab League and the international community.\\nIt is pressingly urgent that the way should be prepared towards an international peace conference and, further, to a comprehensive settlement in the Middle East. There is an almost universal recognition of the basic principles for a settlement. The right of all States in the region to live within secure and recognized boundaries, as well as the right of the Palestinians to national determination, should be recognised. Democratic elections in the occupied territories could facilitate this process. If such elections are properly mentored and take place within the framework of a structured effort, they could provide a link in a process leading to a comprehensive settlement. The momentum for achieving a solution to this long-standing conflict will be lost unless all possible avenues are pursued vigorously and with an open mind. In this respect, the proposals made by President Mubarak of Egypt are welcome and merit serious consideration.\\nThe United Nations has manifestly demonstrated its relevance and strengthened its role as a forum for co-ordinated international action. Yet the world Organization and its member States can do more. Serious global problems call for urgent global solutions. Only a re-invigorated United Nations can answer the challenges the world will inevitably face in the 1990s and beyond. Let us unite our forces to make the United Nations capable of meeting those challenges. \\n</th>\n",
       "      <td>1</td>\n",
       "      <td>0</td>\n",
       "      <td>2</td>\n",
       "      <td>0</td>\n",
       "      <td>0</td>\n",
       "      <td>0</td>\n",
       "      <td>0</td>\n",
       "      <td>0</td>\n",
       "      <td>0</td>\n",
       "      <td>0</td>\n",
       "      <td>...</td>\n",
       "      <td>0</td>\n",
       "      <td>0</td>\n",
       "      <td>0</td>\n",
       "      <td>0</td>\n",
       "      <td>0</td>\n",
       "      <td>0</td>\n",
       "      <td>0</td>\n",
       "      <td>0</td>\n",
       "      <td>0</td>\n",
       "      <td>0</td>\n",
       "    </tr>\n",
       "    <tr>\n",
       "      <th>﻿\\nMr. President, it is a particular pleasure for me, on behalf of the delegation of Niger, to congratulate you moat warmly on your brilliant election to the presidency of the General Assembly at its forty-fourth session. By unanimously entrusting you with the onerous task of guiding its work the Assembly has wished to testify to the active role played in the international arena by your great country, the Federal Republic of Nigeria, which is united by old, fruitful, strong and varied link with the Republic of Niger in promoting and defending the ideals of international peace, harmony and security and in striving for greater equity and justice in international economic relations.\\nYour election is thus a confirmation of your outstanding qualities, an eminent diplomat, you are an expert in your field, a man whose experience, talent and strong convictions compel admiration and promise a fruitful outcome to our work. Finally, it is a tribute paid to Africa as a whole. I wish to assure you of the complete availability and co-operation of my delegation in helping you to accomplish your task.\\nTo your predecessor, Mr. Dante Caputo, we would like to express out full appreciation and gratitude for the wisdom, skill and efficiency with which he presided over the work of the forty-third session.\\nlb the Secretary-General of the United Nations, Mr. Javier Perez de Cuellar, I should like to repeat the whole-hearted support and encouragement of General Ali Saibou, President of the Supreme Council of National Guidance, Head of State, for the tireless efforts he is making on behalf of peace. We commend the dynamic work the Secretary-General has carried out at the head of this Organization, which he has now rehabilitated and whose authority, prestige and credibility he has restored.\\nFinally, I welcome Mr. Ronald Spiers, the new Under-Secretary-General for Political and General Assembly Affairs, who succeeds Ambassador Reed. We wish him every success in the accomplishment of his new task.\\nThe sessions of the General Assembly are opportunities for the international community to make further progress in the quest for peace, justice and harmony among peoples in accordance with the ideals and principles of the Charter. It is in this spirit that the delegation of Niger intends once again to make its contribution to the bread discussion of problems of concern to humanity.\\nSwift and profound changes are taking place in the international arena. We are seeing political, economic, social, cultural and even ideological changes which are shaping and foreshadowing international relations and the new stakes and challenges of the next century. These changes are sure to have a decisive influence on the future of nations and peoples.\\nThe new dynamic in the feature of relations between the United States and the Soviet Union, particularly with the signature and entry into force of the Treaty on the Elimination of Their Inter mediate-Range and Shorter-Range Missiles, is grounds for hope. That agreement and the thaw in relations between the two super-Powers has created a general climate of co-operation and detente and has helped to prepare the way for the settlement of several regional and local conflicts.\\nThe treaties and agreements concluded between the Soviet Union and the United States are basic attainments} they testify to the political will of those two countries to curb the danger which the arms race represents for mankind. We must however note that the danger continues because the means of warfare are of necessity lethal, are still considerable and are increasingly sophisticated. For that reason the two super-Powers should intensify and pursue, with greater determination and will, their negotiations on the reduction of their stockpiles both nuclear and conventional.\\nIn this respect we are pleased with the constructive proposals made a few days ago from this rostrum, by the President of the United States of America and the Soviet Minister for Foreign Affairs respectively, with regard to the elimination of chemical weapons and of conventional weapons. These proposals, if accepted by both parties, would, we believe, help to promote substantial progress towards general and complete disarmament.\\nThe survival of mankind is our common responsibility and implies that we must avoid a nuclear disaster, which is still possible, by significantly reversing present trends. It is certainly frustrating to note the state of the world today and to see that today we have a striking if not repugnant paradox on the one hand there is the exponential increase in military budgets, and arsenals and on the other there is the chronic poverty and wretchedness of many in the world We must give full weight to the Action Programme adopted by the International Conference on the Relationship between Disarmament and Development, which provides for the creation of institutional financial mechanisms to facilitate the transfer of resources saved through disarmament measures to economic and social development activities.\\nThis session of the General Assembly is being held at a time when significant and encouraging progress has been noted in many regional conflicts, some of which have been controlled and virtually settled thanks to the merits of dialogue and negotiation, while others are on the right path with good chances of success. However, the persistence of stubborn hotbeds of tension or situations of injustice and the appearance or intensification of certain disputes still pose a dangerous threat to international peace and security in many regions of the world.\\nWe must work tirelessly, and persevere in the quest for and consolidation of peace. He must take advantage of this thaw in international relations to make significant advances towards the realization of our peoples' legitimate aspiration to peace, justice and human dignity.\\nIn Africa, the situation in Namibia and South Africa continues to centre on the long-awaited outcome of the Namibian people's heroic struggle for independence and on tine persistence of the despicable system of apartheid. The international community's tireless efforts are finally about to bear fruits the implementation of the independence plan for Namibia has been under way since 1 April 1989. Yet it is more indispensable than ever before to show determination, vigilance and solidarity to prevent the Pretoria racist regime from crushing our efforts.\\nUnfortunately, I must condemn yet again tine intimidation and harassment against the freedom-fighters of the South West Africa People's Organization (SHAFO), the reprisals perpetrated by the sinister Koevoet forces, the manipulation of electoral rolls, the assassination of Namibian patriots and SHAFO leaders, such as the 12 September murder of Anton Lubowski. All these acts testify to the disarray of the racist regime and remind us that there are still many real dangers that the process will be derailed, and that constant vigilance is required.\\nIt is the duty of the Organization, the permanent members of the Security Council and the entire international community to ensure that the spirit and the letter of Security Council resolutions 435 (1578) and 632 (1989) are scrupulously respected by all parties and that the Namibian people has the opportunity and means to elect a Government of Its choice next month freely, peacefully and without manoeuvres, intimidation or coercion.\\nIn South Africa itself, apartheid persists, The new political leadership of the country is aiming to win time through various subterfuges. He must not be Misled by recent declarations of purely superficial constitutional reforms or by the pseudo-elections of 6 September last. They leave untouched the real problem: the perpetuation of the apartheid system, which denies the black majority the right to participate fully in the political and democratic management of its country.\\nMr. President, as Chairman of the Special Committee against Apartheid you are very well aware that apartheid cannot be reformed. It is a disgrace to humanity and an anachronism of world civilization; it must be dismantled, pure and simple. But we note that the friends of the South African regime still hesitate to adopt bold sanctions against the apartheid regime. They must understand and weigh the danger to themselves of stubborn support - even passive support - for a system founded on inequality, exploitation and the denial of human rights.\\nFor that reason, Niger appeals again to the international community to maintain and indeed increase its pressure on the South African regime, so the comprehensive mandatory sanctions ordered by the Security Council and the General Assembly in the relevant resolutions can be effectively imposed against South Africa. Only such sanctions will make it see reason and lift its policy of internal repression and destabilization of neighbouring States, lift the bans that hobble the anti-apartheid movement, and immediately and unconditionally free all political prisoners, including Nelson Mandela, Today more than ever before, this is a matter of a true social pact and a duty of genuine solidarity for the international community vis-à-vis the South African people and all the peoples of southern Africa.\\nWe call on the international community to support fully the conclusions reached by the Ad Hoc Committee of the Organization of African Unity (OAU), which met at Harare on 21 August and adopted a declaration on the peace process in southern Africa. We call on it firmly to support the Gbadolite agreements of 22 June last and all the efforts to restore peace in Angola, and to encourage similar initiatives for national reconciliation and the restoration of peace in Mozambique,\\nA local conflict that has just exploded on our continent is causing us great concern and sadness, for it concerns two fraternal countries that are dear to us two countries that should stand united and cleave to one another; two countries members of the organization for the Development of the Senegal River, the Permanent Inter-State Committee on Drought Control in the Sahel, the West African Economic Community, the Economic Community of West African States, the OAU, the organization of the Islamic Conference and the Movement of Non-Aligned Countries.\\nAs a member of the ministerial mediation commission established by the organization of African Unity, Niger is working with the other member countries towards the prompt and final settlement of this unfortunate affair. We therefore take this opportunity to renew our appeal to Senegal and Mauritania to refrain from any action that could increase tension, and to co-operate fully with the African mediation commission in its efforts to restore as soon as possible between the two peoples the understanding, harmony, fraternity, solidarity and common destiny to which geography, history and the Islamic faith destine - I was about to say doom - them.\\nI am pleased to note that between Chad and Libya - two other fraternal countries that are neighbours of Niger - dialogue is continuing and strengthening ever time, thus promoting a comprehensive, final settlement of the dispute that has long set them against one another and that has cost their peoples so dearly. Niger welcomed the conclusion on 31 August of the Algiers agreement, which consolidated the cease-fire and ushered in a new era of peace, mutual trust and fraternal\\nco-operation for the two countries. We congratulate them and urge them to sustain this momentum in the interest of their peoples arid the entire sub region.\\nIn Western Sahara, the process begun by the Secretary-General's peace plan and conducted jointly with the current Chairman of the OAU is under way, and we support it. We urge the parties involved in this painful conflict to continue and indeed intensify their efforts to create conditions that would favour the organization under United Nations auspices of a referendum on self-determination.\\nIn the Middle East, the Palestinian people is heroically continuing its resistance to illegal occupation and repression. The conditions, the framework and the means for a just and lasting peace in the Middle East are well known. They include the total and unconditional withdrawal of Israel from all the occupied Arab territories, including Jerusalem, the strict implementation in that connection of Security Council resolutions 242 (1967) and 338 (1973), and the convoking under United Nations auspices of the International Peace Conference on the Middle East with the participation of the permanent members of the Security Council and, on an equal footing, of all the parties concerned, including the Palestine Liberation Organization (PLO). There is no possible alternative to those conditions and their complete implementation} otherwise there can be no fair and lasting solution to the Arab-Israeli conflict.\\nAlong with the rest of the international community, Niger welcomed the peace initiative announced on 13 December 1988 in Geneva, and the many peaceful overtures made by the PLO. We therefore regret the lack of a positive response from the Israeli Government to the Palestinian side's constructive position. None the less, we hope that both sides will show realism and responsibility by accepting the 10-point proposal put forward by the President of Egypt, Mr. Hosni Mubarak, we feel that proposal could create conditions for a constructive and satisfactory outcome. In the meantime, we urgently appeal for strict respect for the provisions of the Fourth Geneva Convention of 12 August 1949 on the Protection of Civilian Persons in Time of War, in order to protect civilians in the occupied Palestinian territories against the repression practised by the Israeli forces trying - vainly - to stifle the intifadah.\\nWe continue to be concerned by the tragedy the people of Lebanon has endured for the past 15 years. A State Member of this Organization is truly wasting away. Can we remain powerless and inactive in the face of that unacceptable situation? The international community must do everything in its power to preserve the identity, unity, territorial integrity and independence of Lebanon, and to achieve national reconciliation amongst all its sons. Niger is endeavouring to do this. We support fully the efforts made by the League of Arab States and the Tripartite Committee which it set up to find a solution to this tragedy.\\nWe are pleased to note that there has been a real abatement in the conflict between Iran and Iraq over the last year. My country again declares its support for the clear-sighted efforts made by the Secretary-General and urges the two parties to co-operate fully with him, not only to consolidate the cease-fire but also to make progress towards a comprehensive, just and lasting settlement to the conflict on the basis of Security Council resolution 598 (1987).\\nRegarding Afghanistan, Niger is pleased at the conclusion of the Geneva Agreements, which made possible the withdrawal of foreign troops from that country„ We reaffirm our support for the Secretary-General of the United Nations in his efforts to facilitate a comprehensive, political settlement in accordance with the provisions of the Geneva agreements and General Assembly resolution 43/20. The return to real peace in Afghanistan requires strict respect for the right of the Afghan people to decide independently its own fate, and requires respect for its sovereignty, its territorial integrity and of its status as a non-aligned State.\\nWe are also watching closely the development of the situation in Kampuchea, particularly the decision on the withdrawal of foreign troops from that country. The International Conference held in Paris from 30 July to 3 August 1989, offers, in my delegation's view, a timely opportunity for ail the parties involved and directly concerned to find, through dialogue and reflection, a comprehensive, honourable and definitive solution to the tragedy of Cambodia.\\nEven if the results of that Conference did not measure up to the hopes we had placed in them, the Conference is certainly an important step towards a peaceful solution. The Cambodian people must be able to determine freely their own destiny without any foreign interference. Dialogue amongst all the sons of Cambodia must continue and must be intensified. In this respect Niger welcomes and encourages the commendable efforts made by the French and Indonesian Co-Chairmen.\\nThe aspirations of the Korean people for peaceful reunification are yet to be realized. We strongly encourage the two parties to continue the contacts and the dialogue which they have begun with a view to the reunification of Korea without foreign interference. In regard to Cyprus we are pleased with the efforts made by the Secretary-General through his Special Representative. The independence, sovereignty and territorial integrity of the island must be guaranteed and its national unity and non-aligned status must be respected.\\nConcerning Central America we are following and we welcome the praiseworthy efforts made by the Presidents of Costa Rica, El Salvador, Guatemala, Honduras and Nicaragua to eliminate the combined impact of tension and violence and to establish the basis for true peace and co-operation. From the Contadora Agreements to those of Tesoro Beach and Tela, together with the Esquipulas II Agreements, we can gauge the determination with which the heads of State of the region are seeking means to establish a true peace. All of their initiatives and their efforts deserve the full support of this Assembly.\\nThey deserve it all the more since a terrible scourge which is afflicting all of humanity and jeopardizing the fabric of society, has over the last few months and in a brutal way, focused world attention on this region of the world. Indeed, the fight against drug trafficking in Latin America has become total war, the outcome of which will determine the capacity of the international community to display strength, determination and solidarity. This challenge involves, without any doubt, the fate and future of mankind as a whole.\\nNiger gives its support to Colombia and to all countries involved in this battle, world-wide, and urges the international community to set in motion a consistent strategy to win this struggle, which involves and challenges us all.\\nAnother problem, indeed another scourge, which is equally disturbing and whose innocent victims are increasing in numbers throughout the world, is that of international terrorism. Last year. Pan Am flight 103, from London to New York, crashed in Scotland, with several hundreds of victims, including the United Nations High Commissioner for Namibia. On behalf of Niger, we pay a tribute once again to his memory. A few months ago Colonel Higgins, a man working for peace, was assassinated in cold blood. Recently, an aircraft of the UTA company, on a flight between Brazzaville and Paris, exploded in mid-air over territory of my country, killing 171 innocent victims. These are only a few examples, but unfortunately there are many others. On behalf of President Ali Saibou and the people of Niger, I express here to all the States whose nationals perished in the tragedy of this UTA flight our deep sympathy and our sincere condolences.\\nTerrorism is the evil of our century. It strikes out blindly and indiscriminately. He must launch a real, unified crusade, a sacred union even, to combat terrorism, which today transcends national borders and political and ideological differences. Niger and its government are determined to make their contribution, however modest, to the struggle, which affects us all.\\nThe present climate of detente, which has prevailed for at least a year in international relations, should encourage the world to reflect further on the ways\\nand means of restoring peace wherever it has been disturbed, to preserve it everywhere it is threatened, and to strengthen it wherever it has been established.\\nThe period of calm in the political arena is contrasted, however, very sharply with the world economic situation characterized, unfortunately, by a profound structural imbalance. In fact, unequal development between North and South is the main contradiction in the world today. It is clear however that peace and security are directly linked with development. Thus the climate of detente which prevails at this time in the world would be vain and have no future if the developing countries continue to have to deal with difficulties which are constantly aggravated through imbalance, inequality and flagrant injustice in their economic relations with the industrialized countries.\\nThe gap between developed countries and developing countries is widening day by day. Whereas in the North there is talk of growth and expansion, in the South the talk is still about food self-sufficiency and structural adjustment. Men, women and children of Africa, of Asia, and of Latin America and the Caribbean, are living through the tragedy of hunger, poverty, illiteracy, natural disasters such as drought, desertification, plaques of locusts, cyclones, and so on. Societies that are just surviving, societies that are overwhelmed: that is the harsh reality of developing countries, of which, sadly, Africa has the greatest number.\\nThe causes of this trend are to be found essentially in the collapse in commodity prices, the deterioration in terms of trade and the crushing weight of external debt. These phenomena, which have led to a net transfer of resources from developing to developed countries, and the multilateral financial institutions, are stripping States in the South of every chance of development, thus making them incapable of creating the investments necessary for real and lasting growth.\\nGiven this situation, our Governments have undertaken profound economic reforms. These reforms, carried out at great social and political cost, have not enjoyed, as was hoped and promised, the full support of the international community. Less than two years from the time it was, theoretically, to come to an end, the five-year United Nations programme of Action for African Economic Recovery and Development has still not really started.\\nAs the Secretary-General stressed in his annual report on the work of the organization, failure to find a solution could lead to a collapse of the social and political structures in many developing countries.\\nWhatever the case, it is urgently necessary that particular attention be given to the most vulnerable countries: the least developed countries, countries affected by drought and desertification, countries suffering from natural scourges and countries suffering from being land-locked, for whom a revival of economic and social development is a necessity.\\nFirst, new and lasting solutions to the problem o£ debt must be found through continuing consideration by and co-operation between creditor and debtor countries in all appropriate forums. In this regard, Niger welcomes the plans and initiatives so far put forward and supports the idea of an international conference on Africa's external debt, as advocated by the organization of African Unity. We welcome the decisions first of Canada, in 1987, and then of France this year, followed by those of Belgium and Italy, to cancel all debt relating to development assistance. Niger hopes - and this is our interest in an international conference on the debt - that those unilateral actions will be followed by collective measures, the fruit of a general and formal agreement between debtor countries and their creditor partners, both bilateral and multilateral.\\nSecondly, we must make a methodical and determined search for a new, more just and balanced international economic order in which economic and social security is guaranteed to all peoples. That new international economic order can be sought and achieved only within the framework of the North-South dialogue, which must be resumed.\\nIn the same context we welcome and firmly support the proposal made in July 1989 by the Presidents of Egypt, Senegal and Venezuela and the Prime Minister of India concerning the organization of regular summit consultations between North and South on problems of common interest to the two hemispheres.\\nIn this connection, the special session of the General Assembly devoted to international economic co-operation, in particular the revitalisation of economic growth and development in developing countries, to be held in April 1990, will constitute, we believe, a propitious occasion and an appropriate framework for the reinvigoration of the North-South dialogue. This applies also to the Second United Nations Conference on the Least Developed Countries, to be held in Paris in 1990.\\nWe cherish the hope that these conferences and initiatives will contribute to the effective resumption of the North-South dialogue by offering the possibility of achieving an agreement on the nature of the problems facing developing countries and the approach to be taken towards solving them. Niger intends to participate actively and to make its contribution through concrete proposals that could lead to the emergence of a new era of healthy co-operation between North and South.\\nMoreover, we are particularly interested in the current negotiations on the new Lome convention, which in our view should serve as a model both as regards efforts to stabilize the export earnings of developing countries, assistance in the diversification of their exports and the opening of markets to their products, and as regards development assistance.\\n1 should like to conclude this section by expressing a concern that is widely shared by the countries represented here. I refer to the problem of children.\\nThe difficult economic situation in developing countries is the reason for the situation of children in those countries, and particularly in Africa being so worrying, despite the importance and priority which our Governments accord to the protection and well-being of children, since they represent the future.\\nThe results of efforts made by members of the international community, with the assistance of the United Nations Children's Fund (UNICEF) and other international organizations, to ensure the survival, protection and full development of the potential of children are encouraging. It is essential, however, to pursue and intensify our efforts collectively. That is why Niger firmly supports not only the idea of convening with urgency a world summit devoted to children, but also the conclusion and adoption as a top priority by the General Assembly at the present session of a draft convention on the rights of the child. The environment crisis, which is felt throughout the world and seriously threatens life on our planet, is a question to which the international community should pay urgent attention. Today, the degradation of the ozone layer, the heating of the atmosphere and climatic changes are as much a reality as deforestation, desertification of arable lands, pollution of water and the atmosphere, the disappearance of fauna and flora, toxic wastes, and the transfer of hazardous wastes to developing countries.\\nThe means of avoiding ecological disaster exist. We must use the available technology, improve it, and share it. To this end, it is imperative that Member States draw up co-ordinated plans of action to resolve the environmental crisis. That is a joint responsibility that calls for solidarity and it must be said that it is the duty of the industrialized countries to prevent or limit the damage caused to the world environment and to help our developing countries to achieve healthy development.\\nThe United Nations conference on environment and development proposed for 1992 will provide an excellent opportunity to work out agreed action at the world level and to define new principles of international law concerning the protection and conservation of the environment and, in particular, effective international measures to prohibit the transfer of hazardous wastes to the territories of other countries.\\nAs everybody knows and as is true of many African countries, the economic and social situation is the main and constant source of concern for the Government of Niger. Nevertheless, I am happy to inform the Assembly that President Ali Saibou has undertaken action aimed at the political evolution of our country with the ultimate objective of a return to constitutional life. Following the adoption by referendum of the National Charter in July 1987, the process of setting up apolitical system as the basis for the Second Republic of Niger entered its final, decisive phase with the establishment, in May 1989, of the National Movement for the Society in Development and the adoption by referendum on 24 September of a new Constitution.\\nAs the President, General Ali Saibou, said, the National Movement for the Society in Development will be the appropriate forum for political expression in which the women and men of Niger will strive to affirm and defend their political, economic and social rights. The goal is the realization of participatory democracy guaranteeing the free expression of ideological opinions and sentiments, in order to achieve a constructive political awareness and the consolidation of a stable and integrated regime involving all the components of our nation.\\nThe Constitution reaffirms the law character and republican nature of the State and makes Niger a State of law that respects the fundamental freedoms of individuals. It ensures the equality of all before the law and enshrines the principle of the sovereignty of the people.\\nIn that Constitution the people of Niger reaffirms its will to co-operate in friendship with all peoples that cherish peace, justice and freedom. It reiterates its total and permanent readiness to seek, with all the nations of the world, solutions to the innumerable ills that afflict the international community and to construct a world of peace, justice and progress in accordance with the ideals and principles of the Charter of the United Nations.\\nLegislative and presidential elections will take place on 10 December next, with direct universal suffrage, and will complete the process of a return to normal constitutional life in Niger.\\nThat is my delegation's contribution to the general debate at the forty-fourth session, which we wish the most outstanding success. We hope that it will  strengthen the unshakable faith of our Governments in the ideals and objectives of the United Nations. We hope that it will instil in each of our peoples a planetary patriotism thanks to which we shall be able to succeed in our. undertaking and build slowly but surely a single, indivisible world of peace, happiness and human dignity.  \\n</th>\n",
       "      <td>0</td>\n",
       "      <td>0</td>\n",
       "      <td>0</td>\n",
       "      <td>0</td>\n",
       "      <td>0</td>\n",
       "      <td>0</td>\n",
       "      <td>0</td>\n",
       "      <td>0</td>\n",
       "      <td>0</td>\n",
       "      <td>0</td>\n",
       "      <td>...</td>\n",
       "      <td>0</td>\n",
       "      <td>0</td>\n",
       "      <td>0</td>\n",
       "      <td>0</td>\n",
       "      <td>0</td>\n",
       "      <td>0</td>\n",
       "      <td>0</td>\n",
       "      <td>0</td>\n",
       "      <td>0</td>\n",
       "      <td>0</td>\n",
       "    </tr>\n",
       "    <tr>\n",
       "      <th>﻿\\nDuring the debate at the fortieth session of the General Assembly four years ago, President Sanguinetti announced to the world community from this very rostrum that Uruguay had resumed its traditional path of political democracy, and was determined to respect and to enforce respect domestically for all human rights as guaranteed by the Constitution of the Republic, and further announced his firm resolve to resume active participation on the global stage of international relations in the pursuit of peace, universal respect for human rights and the equality of all nations, based on respect for national sovereignty and non-intervention in the internal affairs of other States.\\nSix months prior to the conclusion of President Sanguinetti's constitutional term, I have the honour to mount the same rostrum to announce to this international community that today those intentions have been fully realized.\\nIndeed, within a few weeks, elections will be held in Uruguay to elect all the authorities who will be responsible for the destiny of the country for the next five years. This fact, commonplace in the political tradition of a democratic country, is particularly significant in out case, since it represents the culmination of a period of democratic recovery during which full respect for the Constitution has been restored? all individual rights have been scrupulously observed, and national reconciliation has been achieved, inter alia by a general amnesty ratified by popular mandate. Law and justice have been restored, and the country has been rescued from a declining economic situation through the vigorous revitalization of the external sector and the application of stabilizing policies which have allowed reasonable product growth, a decrease in unemployment and an increase in real earnings.\\nOn the international front, Uruguay has honoured all its commitments, including those of a financial nature which entailed - then and today - considerable sacrifices. It has actively contributed, at times beyond the power of its political weight and its material resources, to efforts aimed at reinforcing international peace, security and co-operation. It has embarked upon a firm policy of regional and sub regional integration and participates actively with other democracies in the hemisphere to co-ordinate positions in order to satisfy our common interests. In short, the Government of Uruguay is acting on the international scene, secure in the moral and political authority it derives from the right to represent a free, democratic, stable and peace-loving society. This task of democratic consolidation has been successful but also extremely difficult. As President Sanguinetti said to this Assembly in 1985:\\n'Democracy is a fragile flower; ... it only grows aid survives in the right soil and the right climate. A genuine democracy based on respect for the individual and an the periodical, free advice of the people can be preserved only within an economic context that allows its citizens to provide for their basic material and spiritual needs. ... When this condition is not fulfilled, and poverty and unemployment prevail, violence emerges and is unleashed, the powers of disorder take advantage of the fertile soil, the fabric of society disintegrates and, in the international sphere, political loyalties become erratic.' (A/40/PV.6, p. 12)\\nIndeed, democracy is never limited to a purely political dimension, nor is it a sufficient condition to ensure freedom for all the people.\\nThe economic and social component of a democratic society is what ultimately determines its feasibility aid stability. It is for this reason that the question posed by the foreign Ministers of the Group of 8 when considering the problem of foreign debt is a valid one today: How much poverty can freedom withstand?\\nLike democracy in other Latin American countries and other regions of the world, democracy in Uruguay has been constantly threatened by a severe economic crisis unprecedented in its history.\\nWe are aware - and this is always worth repeating - of our share of responsibility in the task of overcoming the crisis and promoting development and economic growth. We know that that is possible only through our own efforts, through the formulation and application of our own policies and, particularly, through our own sacrifices. But we are also aware that, despite the social and political cost of these adjustment processes, the expected benefits will not be obtained without greater participation and commitment by the industrialized countries, particularly in the areas of international finance and trade.\\nThe issue of underdevelopment, therefore, remains the major world problem faced by mankind. The growth achieved by a few Asian countries cannot hide the fact that there has been significant regression in the social indicators of many countries in Latin America and Africa. That bears eloquent testimony to the seriousness of the situation and the political risk to their governing institutions, and consequently to world peace.\\nThe vast foreign debt which weighs so heavily on many of our countries has reversed the flow of financial resources, which now runs from South to North. The task of turning the tide cannot be delayed, since this debt is paralysing all our efforts to achieve economic development and democratic stability.\\nIt is encouraging to note that creditor countries have new accepted the principle of shared responsibility in the foreign-debt problem, and have agreed that this problem is not simply financial but also political and social. It is also noteworthy and encouraging that creditor Governments appear willing to consider formulas to help the constrained economies of debtor nations.\\nIn this respect, the agreement between Mexico and its international bank creditors has set a precedent regarding the feasibility of the Brady philosophy and has aroused legitimate hopes and expectations in the rest of the debtor nations.\\nWithout a pragmatic approach to the debt problem there will be no development and no economic growth; without these prerequisites it will be very difficult to continue to believe in democracy, and without democracy world stability and peace will be very hard to maintain.\\nWhat we need today is a revolutionary change in our ideas and policies with respect to international economics, ultimately leading to the formulation of a new development strategy. The starting point of that strategy should be recognition of the interdependence of all States, whatever their size or economic or military power; and the objective should be to ensure that this interdependence is viewed as guaranteeing greater predictability and stability in world trade and economic relations and a more just distribution of the benefits.\\nThis new international strategy for development should be dynamic, flexible and, above all, concrete and precise in the formulation of measures designed to fight poverty, to eliminate protectionism and discrimination in international trade, and to facilitate access by all developing countries to technology and to the financial and economic markets of industrialized nations.\\nThe environmental dimension should be an essential ingredient in the new international development strategy. The deterioration of the environment has become a matter of concern to the entire international community and there is no doubt it will continue to be a matter of concern in the years to come.\\nThere can be no doubt that the environment must, be protected and that each State must assume responsibility and take action in this respect for its own well-being and for that of other peoples of the world. But it is also true that\\nthe correct solution to the problem requires sincere and broad international co-operation to ensure that the cost of protecting the environment is not borne by only a few countries which ate still struggling for full development of their un-exploited natural resources. In no case - and this is more important still - should protection of the environment become a new form of conditionality to which the sovereign decisions of countries still requiring international co-operation for their development would be subordinated.\\nIn summary, Uruguay is conscious of the urgent need to protect the environment-, but we are also aware that this is a task requiring the participation and efforts of the entire international community and that it should be carried out in a way compatible with the national sovereignty of all nations.\\nHowever, the implementation of a development policy that guarantees both the protection of the environment and the rational use of natural resources requires the provision of financial resources and appropriate technologies not available to all the countries in the world.\\nAs we stated last year and repeat today: the technological dependence of the developing countries is not only a factor inhibiting their economic development, but also as a serious threat to their political sovereignty as that posed by foreign aggression.\\nThe cost of transferring financial and technological resources to developing countries represents barely a marginal fraction of the funds used by the super-Powers in the arms race, for which they invoke reasons of national security. They forget that reasons of national survival would make it mandatory for them to allocate more than a marginal fraction of that overall expenditure to the transfer of resources and technology to developing countries, thereby facilitating their\\nparticipation in the common task of protecting both world peace and the quality of the environment.\\nIn dealing with the question of the environment, the international community must resort to the basic mechanism of co-operation between nations because we are faced with a common danger, affecting us all, and there is no political system or degree of development or military Power than can give any State the slightest immunity against it.\\nUnfortunately, it is not only dangers to the environment that indiscriminately affect all nations and peoples. There are other reasons forcing us to resort to and develop the mechanisms of global solidarity and co-operation. Terrorism and drug trafficking, which at times appear to be complementary phenomena, continue to wreak destruction and havoc, despite the universal revulsion they arouse.\\nUruguay unequivocally condemns terrorism. For us, any terrorist act is inhuman and cruel, violates the most sacred human rights and reveals the basest and most destructive feelings of men. There is no purpose, no cause, no issue, however noble, that can justify the commission of a terrorist act. For that reason, Uruguay will contribute, without qualifications based on motives or purposes, to efforts directed at establishing new legal measures and at strengthening existing ones providing for the eradication of this scourge from the face of the earth.\\nWith respect to drug trafficking, we are concerned at the rate at which it has expanded and at the vast power behind it, but at the same time we are encouraged to see that the governments of consumer nations have become aware of their responsibilities and that producer nations have shouldered the risks involved in an open war against drug traffickers. In this connection, it is my duty, and my pleasure, to express to the Government of President Virgilio Barco Vargas and to the people of Colombia the solidarity of the Government of Uruguay in respect of recent events in our sister Republic, and our admiration for the courage with which Colombians are tackling this problem.\\nThe political climate that now prevails is perhaps the most propitious in four decades for the successful initiation and implementation of undertakings necessitating the willingness of Governments to co-operate with each other. Ideological dogmatism and political inflexibility appear to be losing ground in the face of realism and common sense. Over the last few months, we have embarked on a new era of dialogue and collaboration, which has translated into a cessation of hostilities, the reaching of agreements, and the establishment of contacts and channels of communication. All of this has led to the solution, or imminent solution, of several regional conflicts.\\nThe cessation of hostilities between Iran and Iraq; the withdrawal of foreign troops from Afghanistan that has already taken place; the recent efforts to normalize the situation in Kampuchea; the December 1988 agreements on southern Africa and the beginning of the self-determination process in Namibia; the agreements on New Caledonia; the contacts concerning Western Sahara; the new surge in the Central American peace process following the regional presidential summit last August; and the promising resumption of dialogue between Argentina and the United Kingdom with a view to settling their differences directly - these are manifestations of this desire for peace, and proof of the sterility and futility of confrontation, intolerance and misguided nationalism.\\n\\nThis new spirit is evident also in the changes introduced by numerous countries in the principles and objectives of their domestic policies, which have led them to greater openness, both internally and externally, thereby strengthening the prospects for international peace and co-operation. 1 am referring to political evolution on the domestic front in the Soviet Union and other Eastern European countries, as well as to the steps taken towards democracy by the last authoritarian regimes in South America, which are evidence of a less dogmatic political vision that, fortunately, appears to be spreading in almost all regions of the world.\\nHowever, there remain areas in which the voices of peace go unheeded, First, the human-rights situation in the world is still far from satisfactory. The international community knows that the important progress made in the political field will remain precarious while vast sectors of the world's peoples are unable fully to enjoy their human rights.\\nThere can be no doubt whatsoever that no progress - whether economic, social, political or moral — will have a firm foundation so long as any vestiges of racism and racial discrimination remain, and in particular while practices such as apartheid continue. South Africa's persistence in disregarding the resolutions of the United Nations will not stifle the persistence of the rest of the world in reclaiming for that country the full force of the equality and dignity of the human race.\\nThe work of the United Nations in developing human rights and establishing the means of guaranteeing respect for them must continue, with the support of the international community. A very important step has been taken with the drafting of the convention on the rights of the child, which we trust will soon become, for every State, the appropriate ethical and legal framework for improving the status of children.\\nThe Middle East conflict continues to threaten world peace and to cost the parties involved a high price in human life and in moral and material damage. Nevertheless, signals are beginning to come from both sides - signals that are helping to generate the climate necessary for a negotiated solution. For Israel, this would mean lasting peace within safe borders, and, for the Palestinians, the possibility of exercising freely their right to self-determination.\\nIn this region, we are also particularly concerned about the tragic situation in Lebanon - a country with which we have many links, and whose long-suffering people are the victims of an unjust and senseless war, with the Resulting death and devastation with which we are all too familiar.\\nUruguay has raised its voice in the past, and does so again, to call on all the parties involved to intensify their efforts to achieve a final solution to the conflict. This implies the withdrawal of foreign troops from Lebanese territory and the harmonization, by democratic means, of domestic differences. In this regard, we wish every success for the mediation undertaken by several heads of State of the League of Arab States. We trust that the pursuit of peace in Lebanon will succeed and that this country will once again be as prosperous and peaceful as it once was.\\nThese problems, as well as other situations that threaten peace, are this year, as in previous years, difficult challenges to which the General Assembly should respond by trying to reconcile the specific interests of each nation with\\nthe general interests of the international community. We are aware that this is a task fraught with difficulties, but at the same time we are encouraged because we know, Mr. President, that under your enlightened and expert direction, we shall achieve the desired results.\\nI should like to conclude by expressing our sincere congratulations to Mr. Dante Caputo on his intelligent and effective presidency of the General Assembly at its forty-third session, and also to the Secretary-General, whose dynamism, tact and commitment have strengthened the role of his office within the Organization and have been an essential factor in enhancing its prestige through his successful intervention in the peaceful solution of a number of regional conflicts.\\n</th>\n",
       "      <td>0</td>\n",
       "      <td>0</td>\n",
       "      <td>0</td>\n",
       "      <td>0</td>\n",
       "      <td>0</td>\n",
       "      <td>0</td>\n",
       "      <td>0</td>\n",
       "      <td>0</td>\n",
       "      <td>0</td>\n",
       "      <td>0</td>\n",
       "      <td>...</td>\n",
       "      <td>0</td>\n",
       "      <td>0</td>\n",
       "      <td>0</td>\n",
       "      <td>0</td>\n",
       "      <td>0</td>\n",
       "      <td>0</td>\n",
       "      <td>0</td>\n",
       "      <td>0</td>\n",
       "      <td>0</td>\n",
       "      <td>0</td>\n",
       "    </tr>\n",
       "    <tr>\n",
       "      <th>﻿I should like at the outset to express my delegation's satisfaction and pleasure at your election, Sir, to the presidency of the General Assembly at its forty-fourth session. The unanimity of that decision reflects not only your own distinguished record as Foreign Minister and Permanent Representative of your country to the United Nations but also the prestige of your country, Nigeria, of which all of us in Africa are proud.\\nThe outgoing President of the General Assembly, Mr. Dante Caputo of Argentina, shouldered the responsibility of his office with distinction in a momentous and difficult year. We wish to acknowledge our debt to him.\\nOur Secretary-General, Mr. Javier Perez de Cuellar, has been at the head of our Organization during some of its roost troubled and also some of its most productive and successful years. The turnaround in the fortunes of the United Nations during his watch owes much to the skill of the helmsman and we want to reassure him of our continued confidence.\\nThe current session of the General Assembly must seriously address itself to problems affecting the world economy. In the vital field of international economic relations, the fresh breeze that has led to such excitement in international political relations has not even made a ripple. The direction of the world economy is still determined by a small circle of rich and powerful nations for which short-term expediency and the requirements of individual national economies have all too often taken precedence over the steps required for a healthier world economy from which all States would benefit in the long run. For the smaller countries the result has been a collapse in commodity prices causing severe prejudicial terms of trade, where several times the volume and quality of produce is now required to purchase the same amount of manufactured goods from the North than was required only a few years ago. In addition, the necessary borrowing on the part of the developing countries, coupled with high interest rates, has resulted in a debilitating debt-service burden for those countries that has culminated in a net reverse transfer of resources from South to North in the order of nearly $50 billion annually according to the calculations of international financial institutions. Fifty billion dollars annually is a very big amount to owe and we ate informed that more money is still continuing to flow from the developing countries to the developed countries. \\nHow can we, in all conscience, talk of kinder, gentler times and continue to countenance the continual transfer of such a phenomenal amount of resources from the poor and the hungry to the rich and the affluent? We welcome the positive developments on the international political stage and we believe that all peoples should enjoy political and civil rights. Conscience, however, enjoins us to submit that these rights are not enough. People have economic and social rights as well: the right to good health, the right to food and shelter, and above all the tight to a decent standard of living. It should be the lot of no one to suffer the degradations of illiteracy and poverty. Hunan rights are a package the elements of which are mutually reinforcing, and the denial of any of them weakens the entire package. A poor man, a sick man and an illiterate man are just as manacled as the man who is denied individual freedom or the right of free speech. It is the package that is important, for it goes beyond the selective, and at times cynical, championing of this or that right to the core of the purpose of existence·, the tight to a decent and meaningful life. Any attempt to separate one from the other or to compartmentalize these rights and champion one right at the expense of the other is to sow confusion and set the stage for futile recriminations.\\nAll States represented in the Assembly should subscribe to that view and attempt to pursue the objective of a good and decent existence for all human beings. The pursuit of a healthier world economy, of growth and development of the poorer countries and of fairer terms of trade between the North and the South is fundamentally a struggle for human rights and for the tight of people to a decent existence.\\nIn our interdependent world that struggle must involve a concerted approach, including greater recourse to multilateral mechanisms on the part of all States. Nations must act together to solve the global and interrelated problems of the world economy, as low commodity prices, high interest rates and acute external Indebtedness. The politics of inclusion that appear to be gaining ground in international political relations, particularly through professions by the big Powers of their readiness to give a larger role in the management of international affairs to the United Nations, should also be reflected in international economic relations.\\nThe initiative taken by the developing countries in urging the Assembly to hold a special session on economic co-operation, in particular for the revitalization of the growth and development of developing countries, in April 1990, is a timely development. The special session should focus on the need to renew the stalled North-South dialogue and on the direction of the world economy. I am pleased to note that the recent summit Conference of the Countries of the Non-Aligned Movement, held at Belgrade, endorsed this suggestion and all the member States of the Non-Aligned Movement will be co-operating in the exercise. In this era, when economic mega-blocs are in the process of being formed in North America and in Europe, and where East and West are drawing closer in many spheres, it is essential that developing countries are not left out of the discussions and the mechanisms that will affect the future course of international economic and political relations. We also note that preparations are under way for the elaboration of the international development strategy for the Fourth United Nations Development Decade. We wish to stress the complementarity we see between that process and next year's special session on economic co-operation, to which I have already referred.\\nFollowing the 1986 special session of the General Assembly on the critical economic situation in Africa, the Assembly adopted the United Nations Programme of Action for African Economic Recovery and Development 1986-1990. That Programme represented a compact between the African countries and the international community, especially the donor countries. The African countries were to take steps to redress their economies through structural adjustment programmes, which they have done - often at a significant social and political cost - and the international community undertook to create an international environment conducive to African recovery by facilitating an increase in commodity prices and resource 21ows to the continent. The mid-term review of the implementation of the Programme, annexed to resolution 43/27 of 1988, clearly states that the international community has not kept its side of the bargain. The African States have made the adjustments that were required of them. Let me echo the words of Mr. Michael Manley, Prime Minister of Jamaica, when he sand recently: ,We have done everything that was asked of us. But what has the other side done?, \\nCommodity prices have continued to fall and resource flows to Africa have not increased in any appreciable way. Given the sacrifices the African countries have made to keep their part of the bargain, it is important that the Programme be made o work. Since the review of the Programme will take place in 1991, and the programme itself is to run only up to 1990, it is important that the Programme be mandated to run until the final review, and we hope that decision will be taken at this session. \\nProblems of the environment affect the entire globe, which is our common abode, and many speakers have referred to this important factor. From the depletion of the ozone layer to the poisoning of the atmosphere and the rivers, the degradation of the environment affects all of us. The global warming of the general climate affects com tries in Europe, in the Americas, Africa and everywhere. For us in Africa the problem of the environment is important as we face what one representative has described here as the encroaching deserts. We have heard from many delegations of the encroachment of the desert on to their own fertile lands. We also have the related problem of the dumping of nuclear and toxic wastes which have been the subject of resolutions by the Organization of African Unity (OAU), the International Atomic Energy Agency and the General Assembly itself, last year. Greater responsibility is needed in the way the world uses its natural resources and disposes of the dangerous waste products of its factories. In the last year representatives will have read press reports about the very dangerous dumping of wastes in certain African countries, which action was rightly condemned by the OAU and other internal forums. We therefore welcome the intention to hold a special international conference on the environment in 1992. \\nWe are also aware that all too often the weak ate made to pay for the sins of the strong - if only because controlling the strong is so much more difficult. It is important that the burden attendant upon safeguarding the environment should be shared judiciously according to resource usage, waste production and need. Particularly, it is essential that no new obstacles are put in the path of the economic progress of the developing countries, which are already at the receiving end of the imbalances and inequities of the present international economic order and of the abuse and misuse of the international environment. \\nRespect for the right of peoples to self-determination and independence is not only just? it is also good politics and essential to the attainment and maintenance of world peace. The General Assembly clearly recognized that fact when it adopted the Declaration on the Granting of Independence to Colonial Countries and Peoples way back in December 1960. Yet today, nearly three decades later, colonialism is still very much in evidence. Again, that is a practical reality of our times. The right of peoples to decide their own destiny is being denied not only in the well-publicized cases of southern Africa and the Middle East, especially Palestine, but also in countries in the Pacific, the Caribbean basin and elsewhere. \\nHowever, the major issue facing the Organization this year is the decolonization of Namibia. That is as it should be. The birth of a new nation is a supreme event in international affairs. And when the United Nations is the appointed intermediary the event becomes even more special to all of us. We ate now entering the horns stretch in the implementation of the Namibian independence plan. Much ground has already been covered and much reference has been made to this phenomenon in speeches we have heard in the last two weeks. But a lot more still remains to be done in the remaining four-and-a-half weeks. Pretoria and its functionaries in Namibia are still refusing fully to comply with Security Council resolution 435 (1978)  the South West Africa Territory (SWATP) command structure has not been disbanded, end we are told that it has only been stood down  the so-called disbandment of Koevoet on 30 September has proved to be illusory  restrictive laws, in particular AG-23, continue to inhibit freedom of assembly and the registration, electoral and constituent Assembly proclamations leave much to be desired. These proclamations were affected only last week, end more information is still being given as to what exactly has been agreed to. Some improvements have been made, some changes have been recorded, and we commend the United Nations Transition Assistance Group (UNTAG) for this, but we need to be vigilant and to ensure that in the next four-and-a-half weeks nothing will be done to reverse the clock. Intimidation of followers of the South West Africa People's Organization (SWAPO) by the South-African-sponsored Democratic Turnhalle Alliance (DTA) end the South West African Police is regularly reported. In fact, if members read Namibian newspapers they will find they ate full of reports of attacks on SWAPO men and supporters, at times with the police just standing by. UNTAG police units are stretched to the breaking-point we are told, and the assassination of SWAPO leaders has actually taken place.\\nSo, while we ate on the home stretch, a grave situation still surrounds events in Namibia, and it is important that we should all keep our guard and remain vigilant. As we enter these final weeks of the election campaign the desperation of the anti-SWAPO forces in Namibia is becoming evident daily. It is important, therefore, that urgent action be taken to strengthen UNTAG police units and to increase the number of projected electoral monitors. We are very pleased that a number of States represented here have agreed and are going to send observers, monitors and guests to Namibia over the next few weeks to observe what will be happening. The more observers, the more guests, the more people we can have in that country, the better. We welcome the effort being made by many States around the globe.\\nMeanwhile, the United Nations must prepare well-thought-out plans for the post-election period in Namibia, assuming the election proceeds satisfactorily. For there can be no doubt that, as the decolonizing authority, the United Nations has a continuing responsibility to see that Namibia's independence is a success. A good mother does not give birth only to abandon the baby immediately. This session of the General Assembly must ensure that the United Nations prepares itself to be a good mother. My delegation is ready to contribute in the process of clarifying the united Nations role during the transition period following the elections and in the elaboration of a continuing United Nations responsibility to ensure that Namibian independence is a success. These are urgent tasks which require our immediate attention. Every effort has been made to draw the attention of the United Nations Secretary-General and of the United Nations generally to these natters, especially the question of convening the Assembly after the elections. Whoever wins the election, it is not yet clear how the Assembly will be convened and how it will proceed to draw up the constitution leading to independence. We would be pleased if the United Nations would remain seized of these problems and would continue to provide solutions until the time of independence itself.\\nIn South Africa itself, apartheid, the root cause of all the problems in southern Africa, continues to be firmly entrenched. The state of emergency still continues  Mandela and other political prisoners remain incarcerated j liberation and mass democratic movements ant still proscribed·, the Group Areas Pet and other obnoxious legislative acts continue to be on the apartheid statute books. That is the reality of the situation in South Africa itself.\\nPresident de Klerk's talk of reform so far remains only mere talk. It is important that the Pretoria regime be urged to go beyond rhetoric to concrete action. The liberation movements are ready to engage President de Klerk in serious negotiations. They have formulated an imaginative negotiating platform which was adopted by the OAU Ad Hoc Committee on Southern Africa, in Harare, on 21 August 1989, as well as by the ninth non-aligned summit conference in Belgrade, It is on the table for South Africa to take advantage of. This is an olive branch from the liberation movement. It outlines a number of confidence-building measures needed before negotiations can begin and sets out the fundamental human rights that should guide the formulation of a new constitutional dispensation for a future South Africa. It is quite obvious of course that negotiations, or any form of dialogue, cannot take place while the leaders are incarcerated in gaols or while the present restrictions emanating from the state of emergency remain. The international community has warmly welcomed this important initiative for peace to which I have just referred, taken by the liberation movement. So far Pretoria has remained mum on this proposal. We are told that certain of the seven leaders who are now incarcerated nay be released sooner or later. That might be a palliative, but what we need is a complete and full constitutional dispensation that can being peaceful conditions in which negotiations can truly take place for the future of an independent South Africa.\\nUntil Pretoria dismantles apartheid it is important that the international community intensifies its pressure on it and increases the sanctions against it. There is no secret about the fact that Pretoria is now talking reform is directly related to the impact of international sanctions and the pressure exerted by the liberation forces and other democratic forces in South Africa. There is no doubt whatsoever that sanctions are working and can continue to work. They have damaged the South African economy to a great extent, as has been admitted by the economic spokesmen for that regime. Therefore, more sanctions will certainly put more pressure on the regime. The medicine is slowly taking effect. We appeal to those friends of Pretoria who oppose sanctions to join the rest of the international community in bringing meaningful pressure to bear on Pretoria by applying sanctions and supporting the liberation movement.\\nTo the international banking community we say that 1990 will be a critical year for the apartheid regime, because in that year it has to reschedule its debt. Rescheduling the debt is not an automatic right for the racist regime let it be a favour, granted as an inducement to meaningful change in South Africa. The concatenation of events makes the coming rescheduling exercise a particularly potent force for positive political developments in South Africa. We urge the bankers to use it. We have given them adequate information to ensure that they ace quite clear about the choices before then.  \\nElsewhere in southern Africa, there are regional efforts to bring peace to Angola and to Mozambique. The Assembly has heard statements by the Foreign Ministers of both those countries, elaborating on those measures. We in Zimbabwe appeal to outsiders to stop supporting rebel elements in Mozambique and Angola, especially UNITA in Angola, which has created difficulties in the process of reconciliation. We are seeking African solutions to African problems. The Organization of African Unity (OAU), the Movement of Non-Aligned Countries and the United Nations can help as requested and as required, but we ask them to give these initiatives a chance.\\nWe also seek peace efforts in the dispute between Mauritania and Senegal, the situation in the Sudan and the situation in Ethiopia. African solutions, initiated by the OAU, are at work in those situations, and we again appeal to outsiders not to interfere in the processes of reconciliation that ate taking place. We are satisfied that the initiatives taken by the Organization of African Unity, if given time to mature, will provide solutions and bring peace to the three areas I have mentioned.\\nWe are also anxious to see Western Sahara's independence consolidated with speed and firmness. The Secretary-General's efforts to bring permanent peace to Western Sahara are commended. We also commend the meetings that took place earlier this year between the King of Morocco and the POLISARID Front. We hope these efforts will continue.\\nThe denial of the Palestinian people's right to self-determination is a continuing sore in international relations. We deplore the heavy-handed methods of the occupation forces against the aggrieved heroic Palestinian nation. We wish to reiterate our conviction that only an international peace conference under United Nations auspices, with the Palestine Liberation Organization (PLO) as an equal partner are addressing all aspects of the Middle East crisis, can bring peace to the region. The proclamation of a Palestinian State last year was an important development in this area. We commended, and commend, the PIO for the step it took, and we are pleased that over 85 countries have recognized the Palestinian State. From that strong position, the Palestinian leadership should be able to proceed to meaningful negotiations with big Powers, small Powers and others in the region that are seized of the problem of Palestine. The independence of Palestine has been long delayed, and we should like to see the Palestinian people take their place as equal citizens alongside the peoples of other nations.\\nIn Central America, we welcome the decision to disband the contras and the scheduled elections in Nicaragua, which are to be monitored by the Organization of American States, the United Nations and a host of other international observers. We are pleased that a dialogue has resumed between the Salvadorian Government and the Marti National Liberation Front aimed at bringing peace to El Salvador. We urge flexibility on both sides so that a peaceful solution can be found to their conflict. The only warning we as outsiders would issue regarding the Central American situation again takes the form of urging outsiders not to interfere in the processes that are taking place there. The effort being made by the leaders of Central America to corns together and produce plans that enable them to enjoy self-determination and full human rights and provide peace for their own territories is commendable - if only outsiders do not interfere. In that respect, the main instigator of problems that have arisen in Central America is, of course, the United States, which has continued to fail in troubled waters in Latin America. \\nIn Afghanistan, we again urge all outside Powers to stop supplying arms to the opposing sides, and we call upon the Afghan people to negotiate an end to their civil war in a spirit of national reconciliation. We are pleased to note the departure of Soviet troops, and we are also pleased to note the confidence and patriotism that act brought to the Afghan people themselves. We hope that sooner or later they will convene a shura - an assembly - that will make it possible for all Afghans inside and outside Afghanistan to get together to resolve their problems. We believe all Afghans can solve their problems in peace in a shura, their traditional assembly which had met periodically over the past 300 or 400 years.\\nOn the question of Kampuchea, we welcome the withdrawal of Vietnamese forces and urge the parties concerned to negotiate their differences among themselves in order to arrive at an acceptable solution. We noted with disappointment the failure of the recent Paris Conference. We also noted with disappointment that both the Vietnamese and the Phnom Penh delegations to that Conference refused to accept the international mechanism that was suggested a United Nations peace-keeping force. We have made it clear to them, and we make it clear now, that we do not see any possibility of disarming the rival forces, bringing peace to Cambodia and holding elections there without the active participation of the United Nations. The United Nations has much experience with peace-keeping forces around the world, and, in our view, is the only organization that can assist in the peace-making and peace-keeping process. \\nWith regard to the Korean peninsula, it is our view that the Korean people should be left alone to negotiate their reunification without outside interference. We urge that the military manoeuvres by outside forces that often take place on the peninsula or in waters near it be stopped.\\nWith regard to Cyprus we appeal again to both parties to co-operate with the Secretary-General in the search for a lasting solution. We commend the meetings that have taken place under the chairmanship of the Secretary-General between the President of Cyprus and the representative of the Turkish Cypriots. Again, we call on outside Powers to cease interfering in the internal affairs of Cyprus.\\nIn Belgrade the leaders of the non-aligned countries called for self-determination for the remaining colonies of New Caledonia, Malvinas, Diego Garcia, Mayotte and a dozen other territories scattered across the globe. The forty-third session of the General Assembly declared an International Decade for the eradication of the retrograde system of colonialism. We repeat that call from this rostrum.\\nAs can be seen from the problems I have just touched upon, we have not yet readied the Promised Land, the new detente notwithstanding. Much remains to be done, and in that the United Nations must play a central role. We therefore welcome the declarations that have be τ made from this podium by the great Powers, renewing their faith in the United Nations. These days of change also mean a period of uncertainty, a period of opportunities, yet also of danger. In such a period, recourse to and respect for the Organization and its agencies becomes more indispensable than ever before.\\nIt was in recognition of that fact, and motivated by the desire to strengthen peace and the rule of law, as well as to bring the age of reason to international relations, that the non-aligned countries convened at The Hague, from 26 to 30 June 1989 a Conference on Pace and the Rule of law in International Affairs. We were pleased by the wide attendance at that Conference, which included important countries not members of our Movement. The Conference was a landmark in the struggle to bring the rule of law and the role of the World Court to the centrality they should enjoy in the resolution of conflicts and in the management of international relations. An important initiative was taken at the Conference to have the General Assembly declare at its current session a decade of international law from 1990 to 1999, leading to a third Hague Peace Conference. That is one of the concrete acts that can be achieved at this session of the General Assembly in the cause of peace, justice and the rule of law. We urge all Member States to support that noble initiative by the non-aligned countries. I am informed that a concrete proposal has already been submitted to the Sixth Committee and that it is now being debated.\\nLast - but by no means least - is the all-important issue of nuclear disarmament, to which I have not referred extensively in my statement. We have all had the opportunity to welcome the signing of the Treaty on the Elimination of Intermediate-Range and Shorter-Range Missiles - INF Treaty - in 1987. That was a truly significant step in the right direction, but what remains to be achieved is even more formidable. In comparison to that, the INF Treaty is indeed only the tip of the iceberg. The super-Powers have a special responsibility in this regard. As the possessors of the largest arsenals of nuclear, chemical and other weapons of mass destruction, they have a duty to take the lead in the disarmament process.\\nBut of course we of the non-aligned movement, as well as the Organization of African Unity, can take some credit for the fact that at the special session of the General Assembly convened last year to discuss the question of disarmament we made our position abundantly clear. We indicated the hazards of war with which the road to disarmament is replete, and we are pleased that our call has been heeded in some quarters.\\nToday the world still has many problems, but in 1989 there is a window of opportunity to address some of them. History will judge us harshly if we miss that opportunity.\\n</th>\n",
       "      <td>0</td>\n",
       "      <td>0</td>\n",
       "      <td>0</td>\n",
       "      <td>0</td>\n",
       "      <td>0</td>\n",
       "      <td>0</td>\n",
       "      <td>0</td>\n",
       "      <td>0</td>\n",
       "      <td>0</td>\n",
       "      <td>0</td>\n",
       "      <td>...</td>\n",
       "      <td>0</td>\n",
       "      <td>0</td>\n",
       "      <td>0</td>\n",
       "      <td>0</td>\n",
       "      <td>0</td>\n",
       "      <td>0</td>\n",
       "      <td>0</td>\n",
       "      <td>0</td>\n",
       "      <td>0</td>\n",
       "      <td>0</td>\n",
       "    </tr>\n",
       "  </tbody>\n",
       "</table>\n",
       "<p>5 rows × 41133 columns</p>\n",
       "</div>"
      ],
      "text/plain": [
       "                                                    0  00  000  0001  \\\n",
       "speech_text                                                            \n",
       "﻿It is indeed a pleasure for me and the members...  2   0    0     0   \n",
       "﻿\\nMay I begin by congratulating you. Sir, on y...  1   0    2     0   \n",
       "﻿\\nMr. President, it is a particular pleasure f...  0   0    0     0   \n",
       "﻿\\nDuring the debate at the fortieth session of...  0   0    0     0   \n",
       "﻿I should like at the outset to express my dele...  0   0    0     0   \n",
       "\n",
       "                                                    000yearlong  001  006  \\\n",
       "speech_text                                                                 \n",
       "﻿It is indeed a pleasure for me and the members...            0    0    0   \n",
       "﻿\\nMay I begin by congratulating you. Sir, on y...            0    0    0   \n",
       "﻿\\nMr. President, it is a particular pleasure f...            0    0    0   \n",
       "﻿\\nDuring the debate at the fortieth session of...            0    0    0   \n",
       "﻿I should like at the outset to express my dele...            0    0    0   \n",
       "\n",
       "                                                    007  009  00tmunity  ...  \\\n",
       "speech_text                                                              ...   \n",
       "﻿It is indeed a pleasure for me and the members...    0    0          0  ...   \n",
       "﻿\\nMay I begin by congratulating you. Sir, on y...    0    0          0  ...   \n",
       "﻿\\nMr. President, it is a particular pleasure f...    0    0          0  ...   \n",
       "﻿\\nDuring the debate at the fortieth session of...    0    0          0  ...   \n",
       "﻿I should like at the outset to express my dele...    0    0          0  ...   \n",
       "\n",
       "                                                    у  хxi24  ч  ш  ш1оп  \\\n",
       "speech_text                                                                \n",
       "﻿It is indeed a pleasure for me and the members...  0      0  0  0     0   \n",
       "﻿\\nMay I begin by congratulating you. Sir, on y...  0      0  0  0     0   \n",
       "﻿\\nMr. President, it is a particular pleasure f...  0      0  0  0     0   \n",
       "﻿\\nDuring the debate at the fortieth session of...  0      0  0  0     0   \n",
       "﻿I should like at the outset to express my dele...  0      0  0  0     0   \n",
       "\n",
       "                                                    ш1ь1а  щ  ь  ьо1л  ю  \n",
       "speech_text                                                               \n",
       "﻿It is indeed a pleasure for me and the members...      0  0  0     0  0  \n",
       "﻿\\nMay I begin by congratulating you. Sir, on y...      0  0  0     0  0  \n",
       "﻿\\nMr. President, it is a particular pleasure f...      0  0  0     0  0  \n",
       "﻿\\nDuring the debate at the fortieth session of...      0  0  0     0  0  \n",
       "﻿I should like at the outset to express my dele...      0  0  0     0  0  \n",
       "\n",
       "[5 rows x 41133 columns]"
      ]
     },
     "execution_count": 24,
     "metadata": {},
     "output_type": "execute_result"
    }
   ],
   "source": [
    "un_wf.head()"
   ]
  },
  {
   "cell_type": "markdown",
   "metadata": {},
   "source": [
    "Using `sort_values`, we can take a look at the 20 most frequently occuring words in the vocabulary. "
   ]
  },
  {
   "cell_type": "code",
   "execution_count": 25,
   "metadata": {
    "slideshow": {
     "slide_type": "slide"
    }
   },
   "outputs": [
    {
     "data": {
      "text/plain": [
       "the              953974\n",
       "of               581983\n",
       "and              388253\n",
       "to               356527\n",
       "in               260725\n",
       "a                167747\n",
       "that             145924\n",
       "is               116177\n",
       "for              114432\n",
       "we               101063\n",
       "on                80242\n",
       "this              73210\n",
       "be                68613\n",
       "it                67062\n",
       "as                64444\n",
       "by                64424\n",
       "with              62555\n",
       "our               62228\n",
       "nations           60855\n",
       "international     59858\n",
       "dtype: int64"
      ]
     },
     "execution_count": 25,
     "metadata": {},
     "output_type": "execute_result"
    }
   ],
   "source": [
    "un_wf.sum().sort_values(ascending=False)[:20]"
   ]
  },
  {
   "cell_type": "markdown",
   "metadata": {
    "slideshow": {
     "slide_type": "skip"
    }
   },
   "source": [
    "We can create a new dataframe merging our better word frequencies with the original UN dataframe. The `concat` method from pandas takes a list of dataframes and merges them. The value of `axis=1` means that datasets should be merged sided by side -- each data set is providing new columns, not new rows. Critically, `concat` assumes that the cases are in the same order in each of the dataframes. If this is not the case (or you are not sure), and you are merging based on a the value of column, you should use `merge`."
   ]
  },
  {
   "cell_type": "code",
   "execution_count": 26,
   "metadata": {
    "slideshow": {
     "slide_type": "slide"
    }
   },
   "outputs": [],
   "source": [
    "df_combined = pd.concat([un_df, un_wf], axis=1)"
   ]
  },
  {
   "cell_type": "code",
   "execution_count": 27,
   "metadata": {
    "slideshow": {
     "slide_type": "fragment"
    }
   },
   "outputs": [
    {
     "data": {
      "text/html": [
       "<div>\n",
       "<style scoped>\n",
       "    .dataframe tbody tr th:only-of-type {\n",
       "        vertical-align: middle;\n",
       "    }\n",
       "\n",
       "    .dataframe tbody tr th {\n",
       "        vertical-align: top;\n",
       "    }\n",
       "\n",
       "    .dataframe thead th {\n",
       "        text-align: right;\n",
       "    }\n",
       "</style>\n",
       "<table border=\"1\" class=\"dataframe\">\n",
       "  <thead>\n",
       "    <tr style=\"text-align: right;\">\n",
       "      <th></th>\n",
       "      <th>index</th>\n",
       "      <th>speech_year</th>\n",
       "      <th>country_code</th>\n",
       "      <th>speech_text</th>\n",
       "      <th>speech_word_count</th>\n",
       "      <th>0</th>\n",
       "      <th>00</th>\n",
       "      <th>000</th>\n",
       "      <th>0001</th>\n",
       "      <th>000yearlong</th>\n",
       "      <th>...</th>\n",
       "      <th>у</th>\n",
       "      <th>хxi24</th>\n",
       "      <th>ч</th>\n",
       "      <th>ш</th>\n",
       "      <th>ш1оп</th>\n",
       "      <th>ш1ь1а</th>\n",
       "      <th>щ</th>\n",
       "      <th>ь</th>\n",
       "      <th>ьо1л</th>\n",
       "      <th>ю</th>\n",
       "    </tr>\n",
       "  </thead>\n",
       "  <tbody>\n",
       "    <tr>\n",
       "      <th>0</th>\n",
       "      <td>0.0</td>\n",
       "      <td>1989.0</td>\n",
       "      <td>MDV</td>\n",
       "      <td>﻿It is indeed a pleasure for me and the member...</td>\n",
       "      <td>3008.0</td>\n",
       "      <td>NaN</td>\n",
       "      <td>NaN</td>\n",
       "      <td>NaN</td>\n",
       "      <td>NaN</td>\n",
       "      <td>NaN</td>\n",
       "      <td>...</td>\n",
       "      <td>NaN</td>\n",
       "      <td>NaN</td>\n",
       "      <td>NaN</td>\n",
       "      <td>NaN</td>\n",
       "      <td>NaN</td>\n",
       "      <td>NaN</td>\n",
       "      <td>NaN</td>\n",
       "      <td>NaN</td>\n",
       "      <td>NaN</td>\n",
       "      <td>NaN</td>\n",
       "    </tr>\n",
       "    <tr>\n",
       "      <th>1</th>\n",
       "      <td>1.0</td>\n",
       "      <td>1989.0</td>\n",
       "      <td>FIN</td>\n",
       "      <td>﻿\\nMay I begin by congratulating you. Sir, on ...</td>\n",
       "      <td>2723.0</td>\n",
       "      <td>NaN</td>\n",
       "      <td>NaN</td>\n",
       "      <td>NaN</td>\n",
       "      <td>NaN</td>\n",
       "      <td>NaN</td>\n",
       "      <td>...</td>\n",
       "      <td>NaN</td>\n",
       "      <td>NaN</td>\n",
       "      <td>NaN</td>\n",
       "      <td>NaN</td>\n",
       "      <td>NaN</td>\n",
       "      <td>NaN</td>\n",
       "      <td>NaN</td>\n",
       "      <td>NaN</td>\n",
       "      <td>NaN</td>\n",
       "      <td>NaN</td>\n",
       "    </tr>\n",
       "    <tr>\n",
       "      <th>2</th>\n",
       "      <td>2.0</td>\n",
       "      <td>1989.0</td>\n",
       "      <td>NER</td>\n",
       "      <td>﻿\\nMr. President, it is a particular pleasure ...</td>\n",
       "      <td>4850.0</td>\n",
       "      <td>NaN</td>\n",
       "      <td>NaN</td>\n",
       "      <td>NaN</td>\n",
       "      <td>NaN</td>\n",
       "      <td>NaN</td>\n",
       "      <td>...</td>\n",
       "      <td>NaN</td>\n",
       "      <td>NaN</td>\n",
       "      <td>NaN</td>\n",
       "      <td>NaN</td>\n",
       "      <td>NaN</td>\n",
       "      <td>NaN</td>\n",
       "      <td>NaN</td>\n",
       "      <td>NaN</td>\n",
       "      <td>NaN</td>\n",
       "      <td>NaN</td>\n",
       "    </tr>\n",
       "    <tr>\n",
       "      <th>3</th>\n",
       "      <td>3.0</td>\n",
       "      <td>1989.0</td>\n",
       "      <td>URY</td>\n",
       "      <td>﻿\\nDuring the debate at the fortieth session o...</td>\n",
       "      <td>2699.0</td>\n",
       "      <td>NaN</td>\n",
       "      <td>NaN</td>\n",
       "      <td>NaN</td>\n",
       "      <td>NaN</td>\n",
       "      <td>NaN</td>\n",
       "      <td>...</td>\n",
       "      <td>NaN</td>\n",
       "      <td>NaN</td>\n",
       "      <td>NaN</td>\n",
       "      <td>NaN</td>\n",
       "      <td>NaN</td>\n",
       "      <td>NaN</td>\n",
       "      <td>NaN</td>\n",
       "      <td>NaN</td>\n",
       "      <td>NaN</td>\n",
       "      <td>NaN</td>\n",
       "    </tr>\n",
       "    <tr>\n",
       "      <th>4</th>\n",
       "      <td>4.0</td>\n",
       "      <td>1989.0</td>\n",
       "      <td>ZWE</td>\n",
       "      <td>﻿I should like at the outset to express my del...</td>\n",
       "      <td>4541.0</td>\n",
       "      <td>NaN</td>\n",
       "      <td>NaN</td>\n",
       "      <td>NaN</td>\n",
       "      <td>NaN</td>\n",
       "      <td>NaN</td>\n",
       "      <td>...</td>\n",
       "      <td>NaN</td>\n",
       "      <td>NaN</td>\n",
       "      <td>NaN</td>\n",
       "      <td>NaN</td>\n",
       "      <td>NaN</td>\n",
       "      <td>NaN</td>\n",
       "      <td>NaN</td>\n",
       "      <td>NaN</td>\n",
       "      <td>NaN</td>\n",
       "      <td>NaN</td>\n",
       "    </tr>\n",
       "  </tbody>\n",
       "</table>\n",
       "<p>5 rows × 41138 columns</p>\n",
       "</div>"
      ],
      "text/plain": [
       "   index  speech_year country_code  \\\n",
       "0    0.0       1989.0          MDV   \n",
       "1    1.0       1989.0          FIN   \n",
       "2    2.0       1989.0          NER   \n",
       "3    3.0       1989.0          URY   \n",
       "4    4.0       1989.0          ZWE   \n",
       "\n",
       "                                         speech_text  speech_word_count   0  \\\n",
       "0  ﻿It is indeed a pleasure for me and the member...             3008.0 NaN   \n",
       "1  ﻿\\nMay I begin by congratulating you. Sir, on ...             2723.0 NaN   \n",
       "2  ﻿\\nMr. President, it is a particular pleasure ...             4850.0 NaN   \n",
       "3  ﻿\\nDuring the debate at the fortieth session o...             2699.0 NaN   \n",
       "4  ﻿I should like at the outset to express my del...             4541.0 NaN   \n",
       "\n",
       "   00  000  0001  000yearlong  ...   у  хxi24   ч   ш  ш1оп  ш1ь1а   щ   ь  \\\n",
       "0 NaN  NaN   NaN          NaN  ... NaN    NaN NaN NaN   NaN    NaN NaN NaN   \n",
       "1 NaN  NaN   NaN          NaN  ... NaN    NaN NaN NaN   NaN    NaN NaN NaN   \n",
       "2 NaN  NaN   NaN          NaN  ... NaN    NaN NaN NaN   NaN    NaN NaN NaN   \n",
       "3 NaN  NaN   NaN          NaN  ... NaN    NaN NaN NaN   NaN    NaN NaN NaN   \n",
       "4 NaN  NaN   NaN          NaN  ... NaN    NaN NaN NaN   NaN    NaN NaN NaN   \n",
       "\n",
       "   ьо1л   ю  \n",
       "0   NaN NaN  \n",
       "1   NaN NaN  \n",
       "2   NaN NaN  \n",
       "3   NaN NaN  \n",
       "4   NaN NaN  \n",
       "\n",
       "[5 rows x 41138 columns]"
      ]
     },
     "execution_count": 27,
     "metadata": {},
     "output_type": "execute_result"
    }
   ],
   "source": [
    "df_combined.head()"
   ]
  },
  {
   "cell_type": "markdown",
   "metadata": {
    "slideshow": {
     "slide_type": "skip"
    }
   },
   "source": [
    "If you wanted to stop here, either to pick up your analysis on a different day or to complete your work in a different program, you could export the combined dataframe. If you wanted to keep the address text in your file, best practice would be to store the file in JSON format, to avoid potential issues with that particularly long text field. Using `orient='records'` ensures each item in the JSON is its own case. "
   ]
  },
  {
   "cell_type": "code",
   "execution_count": 28,
   "metadata": {
    "slideshow": {
     "slide_type": "slide"
    }
   },
   "outputs": [],
   "source": [
    "# df_combined.to_json('un_wf.json', orient='records')"
   ]
  },
  {
   "cell_type": "markdown",
   "metadata": {
    "slideshow": {
     "slide_type": "skip"
    }
   },
   "source": [
    "Alternatively, if you didn't care about the text, or you already had it saved in the original json file, you can drop the text field and export to a csv file. Setting `axis=1` tells pandas that you want to drop a column, rather than a row."
   ]
  },
  {
   "cell_type": "code",
   "execution_count": null,
   "metadata": {
    "slideshow": {
     "slide_type": "slide"
    }
   },
   "outputs": [],
   "source": [
    "# df_combined.drop('speech_text', axis=1).to_csv('sotu_wf.csv')"
   ]
  },
  {
   "cell_type": "markdown",
   "metadata": {
    "slideshow": {
     "slide_type": "slide"
    }
   },
   "source": [
    "### Word Frequency Exercise 3\n",
    "\n",
    "What were the most common words used in wine reviews?\n"
   ]
  },
  {
   "cell_type": "code",
   "execution_count": null,
   "metadata": {},
   "outputs": [],
   "source": []
  },
  {
   "cell_type": "markdown",
   "metadata": {
    "slideshow": {
     "slide_type": "skip"
    }
   },
   "source": [
    "An alternate strategy to remove words entirely involves constructing weights based on word frequency in a particular document versus word frequency in other documents. As an example, a word like \"of\" would score low in every document if it was commonly found, and used in similar frequencies, across documents. On the other hand, a word like \"America\" might be used in every text, but some addresses might use it more frequently, it which case it would score high in just those instances. Finally, the highest scores would be associated with a word like \"terrorism\", which would not only occur in a small proportion of addresses, but also appear frequently in the few addresses that include it.  \n",
    "\n",
    "The most common algorithm for this sort of word weight is called term-frequency/inverse document frequency, or TF-IDF. The numerator, term frequency, is how frequently a word occurs in a document divided by the number of words in the document. The denominator is the natural log of the fraction of the total number of documents divided by the number of documents with term in it. \n",
    "\n",
    "Returning to our two sample sentences:\n",
    "\n",
    "Using `pdtext`, we can generate TF-IDF word weights by setting `tfidf = True`. Scikit-learn's [TfidfVectorizer](https://scikit-learn.org/stable/modules/generated/sklearn.feature_extraction.text.TfidfVectorizer.html?highlight=tfidfvectorizer#sklearn.feature_extraction.text.TfidfVectorizer) can also be used to compute tf-idfs, with  syntax identical to that used for the `CountVectorizer`. We'll go over `TfidfVectorizer` in more detail in the chapter covering text classification."
   ]
  },
  {
   "cell_type": "markdown",
   "metadata": {
    "slideshow": {
     "slide_type": "slide"
    }
   },
   "source": [
    "![](http://dovgalecs.com/blog/wp-content/uploads/2012/03/img131.gif)"
   ]
  },
  {
   "cell_type": "code",
   "execution_count": 29,
   "metadata": {
    "slideshow": {
     "slide_type": "fragment"
    }
   },
   "outputs": [
    {
     "data": {
      "text/html": [
       "<div>\n",
       "<style scoped>\n",
       "    .dataframe tbody tr th:only-of-type {\n",
       "        vertical-align: middle;\n",
       "    }\n",
       "\n",
       "    .dataframe tbody tr th {\n",
       "        vertical-align: top;\n",
       "    }\n",
       "\n",
       "    .dataframe thead th {\n",
       "        text-align: right;\n",
       "    }\n",
       "</style>\n",
       "<table border=\"1\" class=\"dataframe\">\n",
       "  <thead>\n",
       "    <tr style=\"text-align: right;\">\n",
       "      <th></th>\n",
       "      <th>and</th>\n",
       "      <th>are</th>\n",
       "      <th>arms</th>\n",
       "      <th>be</th>\n",
       "      <th>cease</th>\n",
       "      <th>development</th>\n",
       "      <th>exchange</th>\n",
       "      <th>expenditures</th>\n",
       "      <th>finance</th>\n",
       "      <th>funds</th>\n",
       "      <th>...</th>\n",
       "      <th>our</th>\n",
       "      <th>peoples</th>\n",
       "      <th>released</th>\n",
       "      <th>ruining</th>\n",
       "      <th>the</th>\n",
       "      <th>they</th>\n",
       "      <th>thus</th>\n",
       "      <th>to</th>\n",
       "      <th>unequal</th>\n",
       "      <th>used</th>\n",
       "    </tr>\n",
       "  </thead>\n",
       "  <tbody>\n",
       "    <tr>\n",
       "      <th>Unequal exchange is ruining and impoverishing our peoples and must cease.</th>\n",
       "      <td>0.470070</td>\n",
       "      <td>0.0</td>\n",
       "      <td>0.0</td>\n",
       "      <td>0.000000</td>\n",
       "      <td>0.235035</td>\n",
       "      <td>0.000000</td>\n",
       "      <td>0.309043</td>\n",
       "      <td>0.0</td>\n",
       "      <td>0.000000</td>\n",
       "      <td>0.000000</td>\n",
       "      <td>...</td>\n",
       "      <td>0.309043</td>\n",
       "      <td>0.309043</td>\n",
       "      <td>0.000000</td>\n",
       "      <td>0.309043</td>\n",
       "      <td>0.000000</td>\n",
       "      <td>0.000000</td>\n",
       "      <td>0.000000</td>\n",
       "      <td>0.000000</td>\n",
       "      <td>0.309043</td>\n",
       "      <td>0.000000</td>\n",
       "    </tr>\n",
       "    <tr>\n",
       "      <th>Arms expenditures are irrational.</th>\n",
       "      <td>0.000000</td>\n",
       "      <td>0.5</td>\n",
       "      <td>0.5</td>\n",
       "      <td>0.000000</td>\n",
       "      <td>0.000000</td>\n",
       "      <td>0.000000</td>\n",
       "      <td>0.000000</td>\n",
       "      <td>0.5</td>\n",
       "      <td>0.000000</td>\n",
       "      <td>0.000000</td>\n",
       "      <td>...</td>\n",
       "      <td>0.000000</td>\n",
       "      <td>0.000000</td>\n",
       "      <td>0.000000</td>\n",
       "      <td>0.000000</td>\n",
       "      <td>0.000000</td>\n",
       "      <td>0.000000</td>\n",
       "      <td>0.000000</td>\n",
       "      <td>0.000000</td>\n",
       "      <td>0.000000</td>\n",
       "      <td>0.000000</td>\n",
       "    </tr>\n",
       "    <tr>\n",
       "      <th>They must cease and the funds thus released must be used to finance development.</th>\n",
       "      <td>0.207216</td>\n",
       "      <td>0.0</td>\n",
       "      <td>0.0</td>\n",
       "      <td>0.272464</td>\n",
       "      <td>0.207216</td>\n",
       "      <td>0.272464</td>\n",
       "      <td>0.000000</td>\n",
       "      <td>0.0</td>\n",
       "      <td>0.272464</td>\n",
       "      <td>0.272464</td>\n",
       "      <td>...</td>\n",
       "      <td>0.000000</td>\n",
       "      <td>0.000000</td>\n",
       "      <td>0.272464</td>\n",
       "      <td>0.000000</td>\n",
       "      <td>0.272464</td>\n",
       "      <td>0.272464</td>\n",
       "      <td>0.272464</td>\n",
       "      <td>0.272464</td>\n",
       "      <td>0.000000</td>\n",
       "      <td>0.272464</td>\n",
       "    </tr>\n",
       "  </tbody>\n",
       "</table>\n",
       "<p>3 rows × 24 columns</p>\n",
       "</div>"
      ],
      "text/plain": [
       "                                                         and  are  arms  \\\n",
       "Unequal exchange is ruining and impoverishing o...  0.470070  0.0   0.0   \n",
       "Arms expenditures are irrational.                   0.000000  0.5   0.5   \n",
       "They must cease and the funds thus released mus...  0.207216  0.0   0.0   \n",
       "\n",
       "                                                          be     cease  \\\n",
       "Unequal exchange is ruining and impoverishing o...  0.000000  0.235035   \n",
       "Arms expenditures are irrational.                   0.000000  0.000000   \n",
       "They must cease and the funds thus released mus...  0.272464  0.207216   \n",
       "\n",
       "                                                    development  exchange  \\\n",
       "Unequal exchange is ruining and impoverishing o...     0.000000  0.309043   \n",
       "Arms expenditures are irrational.                      0.000000  0.000000   \n",
       "They must cease and the funds thus released mus...     0.272464  0.000000   \n",
       "\n",
       "                                                    expenditures   finance  \\\n",
       "Unequal exchange is ruining and impoverishing o...           0.0  0.000000   \n",
       "Arms expenditures are irrational.                            0.5  0.000000   \n",
       "They must cease and the funds thus released mus...           0.0  0.272464   \n",
       "\n",
       "                                                       funds  ...       our  \\\n",
       "Unequal exchange is ruining and impoverishing o...  0.000000  ...  0.309043   \n",
       "Arms expenditures are irrational.                   0.000000  ...  0.000000   \n",
       "They must cease and the funds thus released mus...  0.272464  ...  0.000000   \n",
       "\n",
       "                                                     peoples  released  \\\n",
       "Unequal exchange is ruining and impoverishing o...  0.309043  0.000000   \n",
       "Arms expenditures are irrational.                   0.000000  0.000000   \n",
       "They must cease and the funds thus released mus...  0.000000  0.272464   \n",
       "\n",
       "                                                     ruining       the  \\\n",
       "Unequal exchange is ruining and impoverishing o...  0.309043  0.000000   \n",
       "Arms expenditures are irrational.                   0.000000  0.000000   \n",
       "They must cease and the funds thus released mus...  0.000000  0.272464   \n",
       "\n",
       "                                                        they      thus  \\\n",
       "Unequal exchange is ruining and impoverishing o...  0.000000  0.000000   \n",
       "Arms expenditures are irrational.                   0.000000  0.000000   \n",
       "They must cease and the funds thus released mus...  0.272464  0.272464   \n",
       "\n",
       "                                                          to   unequal  \\\n",
       "Unequal exchange is ruining and impoverishing o...  0.000000  0.309043   \n",
       "Arms expenditures are irrational.                   0.000000  0.000000   \n",
       "They must cease and the funds thus released mus...  0.272464  0.000000   \n",
       "\n",
       "                                                        used  \n",
       "Unequal exchange is ruining and impoverishing o...  0.000000  \n",
       "Arms expenditures are irrational.                   0.000000  \n",
       "They must cease and the funds thus released mus...  0.272464  \n",
       "\n",
       "[3 rows x 24 columns]"
      ]
     },
     "execution_count": 29,
     "metadata": {},
     "output_type": "execute_result"
    }
   ],
   "source": [
    "make_wf_df(sentences, tfidf = True)\n"
   ]
  },
  {
   "cell_type": "markdown",
   "metadata": {},
   "source": [
    "As before, we can create apply the vectorizer to the UN addresses. "
   ]
  },
  {
   "cell_type": "code",
   "execution_count": 30,
   "metadata": {
    "slideshow": {
     "slide_type": "slide"
    }
   },
   "outputs": [],
   "source": [
    "un_tfidf_df = make_wf_df(un_df['speech_text'], tfidf = True)\n",
    "\n"
   ]
  },
  {
   "cell_type": "code",
   "execution_count": 33,
   "metadata": {},
   "outputs": [
    {
     "data": {
      "text/html": [
       "<div>\n",
       "<style scoped>\n",
       "    .dataframe tbody tr th:only-of-type {\n",
       "        vertical-align: middle;\n",
       "    }\n",
       "\n",
       "    .dataframe tbody tr th {\n",
       "        vertical-align: top;\n",
       "    }\n",
       "\n",
       "    .dataframe thead th {\n",
       "        text-align: right;\n",
       "    }\n",
       "</style>\n",
       "<table border=\"1\" class=\"dataframe\">\n",
       "  <thead>\n",
       "    <tr style=\"text-align: right;\">\n",
       "      <th></th>\n",
       "      <th>0</th>\n",
       "      <th>00</th>\n",
       "      <th>000</th>\n",
       "      <th>0001</th>\n",
       "      <th>000yearlong</th>\n",
       "      <th>001</th>\n",
       "      <th>006</th>\n",
       "      <th>007</th>\n",
       "      <th>009</th>\n",
       "      <th>00tmunity</th>\n",
       "      <th>...</th>\n",
       "      <th>у</th>\n",
       "      <th>хxi24</th>\n",
       "      <th>ч</th>\n",
       "      <th>ш</th>\n",
       "      <th>ш1оп</th>\n",
       "      <th>ш1ь1а</th>\n",
       "      <th>щ</th>\n",
       "      <th>ь</th>\n",
       "      <th>ьо1л</th>\n",
       "      <th>ю</th>\n",
       "    </tr>\n",
       "    <tr>\n",
       "      <th>speech_text</th>\n",
       "      <th></th>\n",
       "      <th></th>\n",
       "      <th></th>\n",
       "      <th></th>\n",
       "      <th></th>\n",
       "      <th></th>\n",
       "      <th></th>\n",
       "      <th></th>\n",
       "      <th></th>\n",
       "      <th></th>\n",
       "      <th></th>\n",
       "      <th></th>\n",
       "      <th></th>\n",
       "      <th></th>\n",
       "      <th></th>\n",
       "      <th></th>\n",
       "      <th></th>\n",
       "      <th></th>\n",
       "      <th></th>\n",
       "      <th></th>\n",
       "      <th></th>\n",
       "    </tr>\n",
       "  </thead>\n",
       "  <tbody>\n",
       "    <tr>\n",
       "      <th>﻿It is indeed a pleasure for me and the members of my delegation to extend to Ambassador Garba our sincere congratulations on his election to the presidency of the forty-fourth session of the General Assembly. His election to this high office is a well-deserved tribute to his personal qualities and experience. I am fully confident that under his able and wise leadership the Assembly will further consolidate the gains achieved during the past year.\\nMy delegation associates itself with previous speakers in expressing its appreciation of the dedicated efforts of his predecessor, His Excellency Mr. Dante Caputo, for the exemplary manner in which he discharged his duties as President of the forty-third session of the General Assembly.\\nAs in previous years, my delegation wishes to note its satisfaction with and gratitude for the assiduous and unrelenting efforts exerted by the Secretary-General of the United Nations in the cause of peace and international harmony. We pay a tribute to him for his untiring efforts to promote conditions conducive to the realization of the noble principles enshrined in the Charter of the United Nations, we praise and congratulate him on the successes the Organization has achieved in recent years. More particularly we praise him for the renewed faith and regeneration of confidence in the Organization and its ability to Play an instrumental role in the peaceful settlement of disputes.  \\nToday we find ourselves at an important crossroads. Recent years have witnessed a welcome positive change in the international political climate. The confrontational tone evident in super-Power relations not too long ago continues to show signs of thawing. At the same time,, a number of regional and sub regional conflicts have taken momentous strides towards resolution. Many more protracted conflicts show signs of hope and movement. Though one might argue that the present situation continues to be delicate, the process made can hardly escape notice and is indeed worthy of recognition. \\nDevelopments in southern Africa, and more particularly in Namibia with regard to the implementation of the United Nations independence plan, are welcome signals of hope, but amidst the hopes there are still dark reminders of the precariousness of global political reconciliation. A number of problems remain unsolved and several of these, such as the conflicts in the Middle East, continue to simmer.\\nWe are therefore at an important crossroads. We feel that there is enough good will to set in motion the process of evolution towards peace and stability. We see signs that the human intellect is resourceful enough to devise ideas that are conducive to our survival. Fresh concepts of peace and security have gained currency, but at the same time we continue to live under the dark shadow of nuclear devices. The proliferation of nuclear weapons, both horizontally and vertically, is a tragic reminder of the difficulties and obstacles which stand between mankind and lasting peace.\\nOn the economic front hard choices need to be made. The 1980s have witnessed one of the longest spells of growth for the industrialized countries, while the situation in the South, particularly in the least developed countries, continues to deteriorate. Benefits of trade continue to be disproportionate. Commodity prices have not regained their value in real terms. Aid flows continue to be inadequate. The debt burden borne by many third world countries is stifling economic growth and efforts for development, causing political instability. The link between economic development and the environment has recently been recognized and it is encouraging to note the high profile given to environmental issues at the Paris summit meeting of the Group of Seven in July this year, in this regard, it is of particular interest that there is an increasing awareness and acceptance of the fact that certain technologies have a deleterious effect on the environment. The question is how these technologies can be replaced through a global programme of co-operation.\\nNo single fact, no single object, defines our moment in civilization more than does the existence of large nuclear arsenals. we have the horrible capacity to destroy our planet several times other, either by accident or by design. Nuclear weapons instil fear and beget mistrust and insecurity. They have a remarkable tendency to set hostile relations in concrete. They aggravate the security dilemma of states and perpetuate a confliction mode of behaviour. This, therefore, fuels the arms race and defence budgets soar while expenditures that are benevolent tend to plummet. \\nThe UN Conference on the relationship between disarmament and development served as a timely reminder of the opportunity costs of armaments, both nuclear and conventional. However the opportunity cost of nuclear weaponry is not only development. The international political climate and the security perceptions of states, as well as the environment, are actual and potential sacrifices to\\nnuclear weapons. Furthermore. the potential horizontal proliferation of nuclear weapons issues the stark and grim warning that regional rivalries would be on an ever shorter fuse and that cataclysm would be that much closer.\\nIt is in view of these strong objections  to nuclear weapons and their Proliferation and deployment that my delegation has consistently and strongly supported United Nations calls for disarmament.\\nThe confidence that can he derived from genuine arms reduction has a pervasive effect on the security environment. The transition that many of the world's conflict, are making towards negotiations and understanding owes a great deal to improved relations between the super-Powers, which were themselves in part inspired by the historic arms reduction agreement of December 1987 for this reason -at Maldives has always supported all efforts with a view to general and complete disarmament, including the total elimination of chemical and bacteriological weapons and reduction in conventional armaments. We also believe that nuclear-weapon-free zones and zones of peace could inspire trust, good Will and operation among states, transforming into secure communities contributing to global peace and security. We therefore support calls for the establishment of nuclear-weapon-free zones and zones of peace. \\nI express my delegation's fullest support for the people of Namibia, with our Namibia achieved their independence.  Apartheid is an affront to mankind and a crime against humanity. No amount of tinkering with it can placate the sense of outrage and indignation felt by the world community for this immoral practice. No amount of cosmetic change can restore Justice and dignity to the oppressed majority in South Africa. Maldives express our solidarity with the oppressed majority in South Africa in their struggle against apartheid. We condemn unequivocally the system of apartheid and condemn Pretoria regime for its continued defiance of the UN resolutions.  \\nBy far the greatest conflict in our time has been and continues to be the conflict in the Middle East. At the heart of this conflict is the question of Palestine. However, it is only in recent years that the Palestinian issue has evoked even a reasoned amount of concern in some key States. The search for peace continues to be frustrated by the hard-line and obstinate policies of Israel. Meanwhile, the situation in the occupied territories continues to deteriorate. The 22 month long intifadah emphasizes the intensity of the situation posed by Zionist occupation of Palestine and other Arab territories, including Jerusalem.\\nThe Government of Maldives strongly condemns the use of brutal force and the blatant abuse of human rights by Israel against the Palestinian people in the occupied territories. We also deplore the continued defiance by Israel of United Nations resolutions and its violation of international law and all norms of civilized behaviour. We reiterate our full support and solidarity with the people of Palestine in their just struggle for self-determination and independence. We therefore welcome the overwhelming international support for the uprising, which is being viewed as the just and valiant struggle of the Palestinian people for the restoration of their inalienable rights. We extend our whole-hearted support to the proposal for an early convening of an international conference on the Middle East with the full and independent participation of Palestine.\\nThe situation in Lebanon remains volatile. The civil war, now in its fifteenth year, continues to take an increasing toll of human life. We fervently hope that, with the developments taking place in the region and elsewhere, the question of Lebanon will be solved in a manner which will restore its independence and national integrity, and alleviate the sufferings of its people. We welcome the efforts undertaken by the members of the Arab league, both past and present, to resolve the situation in Lebanon and we request the international community to give their support to the people of Lebanon in their efforts to solve their problems.\\nOn a more hopeful note, we are pleased that, contrary to some early pessimistic assessments, the cease-fire agreed on between Iran and Iraq in the Gulf has held firm, indicating the sincerity of the parties to the conflict. We welcome the commitments undertaken by them to resolve the conflict by peaceful means. In particular, we applaud the efforts of the United Nations Secretary-General for the resolution of this conflict and urge both parties to maintain the momentum of peace created and envisaged by the cease-fire. \\nWhile we welcome the positive developments in Afghanistan - I refer to the withdraw of foreign troops - we regret that the situation has not been completely settled. We reiterate our call upon all parties concerned to adhere to the provisions of the Geneva Agreements in order not to frustrate the prevailing opportunities for a just and lasting solution to the problem. We urge the international community to provide humanitarian and economic assistance for the relief and rehabilitation of refugees, as well as for the long-term reconstruction of that ravaged country.  \\nPositive strides have been taken towards the solution of the Kampuchean problem. We welcome the withdraw of the Vietnamese troops and we appreciate the diplomatic efforts to obtain a comprehensive and lasting solution to the dispute including the Jakarta informal meeting as well as the international conference in Paris. However, realizing the delicacy of the current situation, we call upon all parties concerned to exercise restraint. \\nThe process of reunification of peoples should be through peaceful means and by the creation of conditions conducive to reconciliation, peace and stability among those sharing the same aspirations. We remain optimistic about the prospects for peaceful national reconciliation in the Korean peninsula. The good office of the UN could be utilized in these peace negotiations.  \\nAnother issue that needs our attention is the situation in Cyprus. That prolonged inter-communal dispute should be solved urgently, with due regard to the national integrity of the nation and the aspirations of its peoples. We welcome the recent high-level contacts between the two communities and hope that the revived inter-communal dialogue will lead to inter-communal reconciliation on the basis of equality and integrity for both communities. We commend the tireless and sincere efforts of the Secretary-General in searching for a settlement to the conflict.\\nAs I have already noted, the world economic situation continues to be bleak for the developing countries. Their situation has been worsened by the limited of aid since the early 1980s, rampant domestic inflation, crippling debts and the exorbitant burden of debt-servicing. The situation is aggravated by their falling share in international trade, by persistent negative trends in the terms of trade, owing to protectionism, and by the upsurge in unilateralism and other practices that jeopardize the multilateral nature of trade. It is regrettable that, on the whole, despite recent measures whereby the resources of the international finance institutions have been increased by the plans of some of the most developed countries to recycle part of their surplus into the developing countries, the internationally agreed target of 0.7 per cent of gross national product (GNP) as official development assistance has not been met. Moreover, as regards the least developed countries, which continue to register negative growth rates, the official development assistance target of 0.15 per cent of GNP has not been met either.\\nEconomic insecurity is not the only visible threat facing many of us in the world today. Indeed, we consider the environment to be one of the most important aspects of the quality of life that we have to address now in our quest for economic and industrial development. We welcome the proposed United Nations conference on environment and development and regard the event as a valuable opportunity which should be fully utilized to promote a comprehensive approach to the environmental problems related to the development activities of mankind.\\nWhile serious efforts are being made at global, regional and national levels to protect the environment, my delegation is particularly concerned about the effects of the degradation of the environment, especially the depletion of the ozone layer and the consequent global warming and rise in sea level. Maldives is a low-lying archipelagic State, entirely dependent upon its surrounding seas. Any degradation of the marine ecosystem, or any rise in the mean sea level, is a matter of grave concern to the Maldives, it will be recalled that two years ago we witnessed the fury of tidal eruptions, which caused extensive damage, with the assistance of friendly countries, we have embarked upon a programme of protecting the populated islands from possible natural calamities. Tidal waves, hurricanes and typhoons are increasingly frequent phenomena, and today there is a greater awareness that man's tampering with the environment and certain technologies inimical to the environment do have a direct bearing on the behaviour of the global weather system.\\nMaldives therefore strongly supports the call for environmental preservation and is already a party to the Vienna Convention for the Protection of the Ozone Layer and the Montreal Protocol on Substances that Deplete the Ozone Layer. Our interest in the issue continues undiminished, and we welcome the universal interest that has been expressed in the preservation of the environment. I should like also to mention that in November this year the Maldives will host a conference of small States on sea-level rise. We are confident that the conference will contribute to the global efforts in addressing this important issue.\\nIt is an old and true maxim that the best indicator of the strength and stability of an international security system or political order is the survival of its weakest members. That being the case, and in view of the implications, the ever-increasing dangers of terrorism and mercenarism to the sovereignty of small and weak States are appalling.\\nTerrorism is not simply a minor irritant to anybody - least of all, to the small nations whose sovereignty is not only held hostage but can be easily usurped. The very existence of this possibility in the first place does not augur well for the security of the international community. The cherished principles that have so long contributed to the survival of the present State system and that are indispensable values of our global civilization are at stake. Today it may be we, the small States, whose sovereignty can be robbed by a handful of mercenaries or a gang of bounty hunters. Tomorrow it could be the larger countries, which, even at present, face some erosion of their sovereignty and security by similar acts. The difference is that when a small State is subjected to a terrorist onslaught or an invasion by mercenaries the consequences can be irreversible, both in political and in economic terms. We in the Maldives were close to becoming the victim of such a dastardly attempt last November.\\nIt is evident that peoples engaging in acts of terrorism and mercenarism, which endanger the sovereignty and territorial integrity of States, need to be deterred. The security of small States is too weak to be taken care of by mere self-help. The implications that efforts to strengthen their own security have for the prospects of economic development through the severe, if at all affordable, opportunity costs and the impact on social and political values, as well as the long-term implications for the sustenance of democracy in a militarised society, are negative. By requesting the inclusion on the agenda of the Assembly of an item related to the protection and security of small States, we sought to highlight the issue that I have just mentioned. We brought the issue to this forum not because we are unwilling to defend our values, nor have we taken it up here because our peoples lack valour. \\nSmall States do have as friends States that can assist, and have assisted, in strengthening their security. While we are grateful for the sense of duty that these friends have shown, it is with regret that we note that bilateral security arrangements in the international system have not yet evolved to a level of maturity whereby the interests of the weaker partner can be safeguarded. Nor are the socio-political identity of the weaker State and the principle of sovereign equality strong enough to be impervious to the possible vicissitudes of unequal relationships. Moreover, our political systems continue to be afflicted by misconceptions which can distort actions taken with the best of intentions. Consequently, the greater the power differential, the greater the propensity to misconceptions and the more hapless the predicament of the weaker parties. It is for this reason that we believe that multilateral frameworks are the most feasible nodes of a sound security mechanism for the weakest Members of the Organization, even if the actual support or assistance in a given situation is rendered at a regional or bilateral level.\\nAs I noted earlier, it is my humble opinion that we are at a pivotal point, an important crossroads in our global political development. It is our belief that we are at a particularly auspicious moment in history to forge ahead in strengthening the norms of our global political and security systems. Thus it is our sincere hope that the Organization will take a similar momentous step, a leap forward in ushering in a new era of security for the small States. We trust that this critical step will be taken to safeguard the principles which are espoused by the Organization and on which the survival of a large number of this community depends.\\n</th>\n",
       "      <td>0.016978</td>\n",
       "      <td>0.0</td>\n",
       "      <td>0.000000</td>\n",
       "      <td>0.0</td>\n",
       "      <td>0.0</td>\n",
       "      <td>0.0</td>\n",
       "      <td>0.0</td>\n",
       "      <td>0.0</td>\n",
       "      <td>0.0</td>\n",
       "      <td>0.0</td>\n",
       "      <td>...</td>\n",
       "      <td>0.0</td>\n",
       "      <td>0.0</td>\n",
       "      <td>0.0</td>\n",
       "      <td>0.0</td>\n",
       "      <td>0.0</td>\n",
       "      <td>0.0</td>\n",
       "      <td>0.0</td>\n",
       "      <td>0.0</td>\n",
       "      <td>0.0</td>\n",
       "      <td>0.0</td>\n",
       "    </tr>\n",
       "    <tr>\n",
       "      <th>﻿\\nMay I begin by congratulating you. Sir, on your election to the presidency of the General Assembly at its forty-fourth session. Your wide experience in the United Nations makes you especially qualified to guide the Assembly and its deliberations. You have my best wishes for the demanding task that lies ahead of you. May I also express my thanks to the outgoing President, Mr. Dante Caputo, who so ably fulfilled his role on behalf of the Assembly. It gives me particular pleasure to pay tribute to the Secretary-General. We owe a great deal to his authority and leadership.\\nAs we are assembled here for the annual general debate, every Member state needs to reflect on certain fundamental questions. Is the United Nations doing everything possible in order to meet its challenges? Are we making progress? Can we say that the United Nations enters the last decade of this century with determination and justified self-confidence? Is my own country doing everything it can in order to help the world Organization? The answers to these questions must be sought in the actual work of the Organization and of its Member States. For my part, I shall try to emphasize some of the challenges we in Finland regard as particularly imports at the present time. It seems to us that the main challenges can be expressed in two words -insecurity and poverty. Both produce fear  d suffering. Neither can be dealt with by any single remedy.\\nThe United Nations was created first and foremost in order to maintain international peace and security. In this respect, the past year represents a mixture of success and disappointment. We are encouraged by the high-level dialogues that have continued between the major Powers. we have witnessed with satisfaction such concrete achievements as the continuing progress in the verified dismantling and destruction of American and Soviet intermediate-range nuclear weapons. As one of the participating States in the process of the Conference on Security and cooperation in Europe, Finland follow, closely and with ,much hope the new efforts to achieve substantive conventional disarmament in Europe.\\nAt the same time we are concerned about the violence that has erupted and continues in many parts of the world. Most of the underlying problem are already on the agenda of the General Assembly, and we shall express our views on them in due course. Now I want to speak about the global challenges. As regards the process of disarmament on the global level our hopes in Finland are fastened particularly on the preparation of a chemical weapons convention. The political will is there, as was demonstrated again at the conferences held in Paris and in Canberra this year. During this year, as before, Finnish experts have continued their research in order to help to develop appropriate methods that could meet the complex verification requirements  global and comprehensive chemical weapons convention. We expect progress from the protracted negotiations with growing impatience. We welcome the impetus recently given them in the bilateral talks between the United States and the Soviet Union.\\nSecurity on the global level must take into account other factors in addition to armaments and military threats. Security requires confidence in the future. Such confidence must be felt both by Governments and by their peoples. Only a representative Government that respects human rights and that therefore enjoys the confidence of its own people can face the future with a sense of security and successfully maintain stable relations with other Governments. Some dramatic - in fact, tragic - events have recently illustrated the importance of respect for human rights. We hope that lessons have been learned.\\nConfidence in the future also requires that the other global challenge, that of poverty, be overcome. The sufferings of poverty may not be in evidence everywhere, but the challenge requires global co-operation for development. The Assembly will meet next year in a special session devoted to international economic co-operation. Soon thereafter a new international development strategy for the 1990s should be adopted. A successful special session and a new and realistic strategy should help to bring about a new spirit of international economic co-operation.\\nIn the process of preparing both the development strategy and the special session emphasis should be on the development of human resources in all forms, including the recognition of a well-functioning private sector in balance with an effective public sector. In that context funding generated by national and international sources should be well co-ordinated. The necessary investments in developing countries require increasing domestic and external financing.\\nThe debt overhang has resulted in the transfer of resources from developing countries, which exceeded $US 50 billion last year, a trend that should be reversed. This requires that a political solution, including a functioning debt strategy, be found. The debt overhang cannot be overcome by the international community at the upcoming special session of the General Assembly and in the new international development strategy. It would be important for the efforts to reverse the transfer of resources from the developing countries if the target of 0.7 per cent of gross national product as development-and transfer were generally reached. For its part, Finland will this year reach that target set by the General Assembly.\\nThe structure of the United Nations in the economic and social fields should respond to the tasks to be specified in the strategy for the 1990s, thus -consolidating the role of the world Organization. The Finnish Government finds that the Secretary-General has a major catalytic role to play in putting forward concrete proposals to improve the Organization's effectiveness in those fields. That would also help Governments in agreeing on the areas where they are to concentrate the activities of the United Nations in the economic and social fields. Today I wish to emphasize two issues that must, in my opinion, have a Prominent place in this respect. Development cannot be sustainable if the world population continues to grow at its present rate. Development cannot be sustainable if the natural resources of the Earth continue to be depleted at the present rate. There is a growing awareness of such problems in all parts of the world. That awareness is more and more strongly reflected in the work of the United Nations, it has prompted a number of positive measures. More is needed.\\nAccording to recent United Nations estimates the world population could stabilize in the twenty-first century at the level of 10 to 11 billion persons. An early stabilisation of population growth would, of course, facilitate the fight against poverty. To reach that goal, determined population policies, translated into national population plans as spelled out in the World Population Plan of Action, should be pursued vigorously.\\nWith regard to the protection of the environment, no problem has lately become\\nso apparent and widely recognized as the problem of climate change. Both industrialized and developing countries are directly affected by the depletion of the ozone layer through increasing emissions of carbon dioxides, which produce the so-called greenhouse effect in the climate of the Earth, and by the increasing presence of substances in the atmosphere that cause acid rain and direct dangers to health.\\nIt is therefore hardly a surprise that we have witnessed increasing international activity in this field. Several initiatives have been taken to launch concerted international action to combat atmospheric pollution in all its aspects, including climatic change. It is our view that effective strategies and policies should be developed by the international community as soon as possible in all fields relating to environment. That is a major undertaking that requires consolidated effort by the General Assembly and by the relevant United Nations specialized and other agencies. Environmental problems have a universal character. Any new activities should be streamlined with already ongoing action and well-established treaty-making procedures. The General Assembly must play a pivotal role in that effort.\\nFive months ago Finland hosted a Conference of the Parties to the Vienna Convention for the Protection of the Ozone Layer aid the Montreal Protocol on Substances that Deplete the Ozone Layer. Those instruments, of 1985 and 1987 respectively, have this year already been found inadequate in light of the latest advances in knowledge. At the Conference the representatives of the more than 80 States present agreed unanimously to the Helsinki Declaration on the Protection of  the Ozone Layer, which contains an ambitious undertaking to phase out completely the use of ozone-depleting chlorofluorocarbons by the year 2000, or sooner if possible, and to phase out other ozone-depleting substances as soon as possible. We expect that undertaking to be converted into a legally binding decision at next year's meeting of the Parties to the Montreal Protocol. Appropriate measures should also be undertaken to make environmentally sound substitutes widely available to developing countries as soon as possible.\\nIn the field of environment protection the problems that are typical in the industrialized countries are often also found in the big urban centres of the developing countries. The problems that are now typical in many developing countries - such as soil erosion and the destruction of forests - illustrate mistakes already committed by earlier generations, most of all in Europe. We can therefore all learn from each other. There is information available about the environment and its protection, and about earlier mistakes. The available knowledge needs to be applied and converted into practical programmes, not only on the level of global strategies, but also on the level of regional, national and local development.\\nIn our own development co-operation programmes, we in Finland have emphasized such activities as deforestation, where we feel that we have some experience and expertise. We see deforestation as urgent in order to help stop soil erosion, counteract the greenhouse effect and counterbalance the continued cutting of trees for fuel and for other immediate human needs. In this respect, the development of new and renewable soirees of energy is of crucial importance.\\nOn a broader scale, we look forward to the 1992 United Nations Conference on Environment and Development. We see it as representing probably the most important joint effort required of mankind during the remaining part of this century. This session of the General Assembly is called upon to take important decisions for the preparation of the Conference. In that connection, as in all our activities to face up to environmental problems, we in Finland will strongly emphasize the need to support the developing countries in order to ensure that their development is environmentally sustainable.\\nA large part of the burden, particularly for financing research and the introduction of new environmentally sound technologies, will have to be borne by the industrialized countries. We accept our part of this burden, knowing of course that all states will have to share in the efforts according to their capabilities. Since concern for the environment is global, this concern should in our opinion give a further incentive to all States without exception to involve themselves\\nactively in international co-operation for environmentally sound and sustainable development. We also think that the time is ripe for the preparation of structural reforms making the United Nations Organization more responsive to the problems of protecting the environment. My Government has an open mind regarding the various ideas that have been discussed. We would find it natural for this Assembly to take decisions ensuring environmental Questions a permanent and prominent place in the structure of the Organization.\\nOne of the activities of the United Nations which has rightly gained prominence during this year is peace-keeping. At the present time, Finland is the biggest contributor of personnel to the United Nations peace-keeping forces. Their total strength is close to 15,000, and the number of Finnish personnel is now almost 2,000. It is therefore with particular satisfaction that we in Finland share the pride felt in this house over the latest Nobel Peace Prize, which was awarded to the United Nations peace-keeping forces. In co-operation with the other Nordic countries, Finland has this year taken steps to share with other interested States its experiences concerning the training and preparation of national contingents for peace-keeping tasks.\\nWe are also satisfied at the reactivation of the United Nations Special Committee on Peace-keeping Operations. The accumulated experiences in this field have already grown to such an extent that it is high time indeed to make a thorough review of all practical proposals that may help to strengthen the role of the United Nations in peace-keeping.\\nIn this connection, I wish to emphasize the importance of finding a lasting solution to the financial difficulties that still affect current peace-keeping operations, thus indirectly undermining the financial basis of the whole Organization. The idea of having sufficient financial reserves for peacemaking and peace-keeping, particularly for the start-up phase of operations, which my   predecessor put forward in his address to the General Assembly last year, has received support in a number of Quarters. I note in particular that the Secretary-General, in his own report to the General Assembly, has referred to the possibility of establishing a special reserve fund for peace-keeping, to be supported by all Member States. We hope that this idea can soon be followed up in practice with full respect for the principle of collective responsibility. The first condition, in our view, is that Member states should accept the principle of financing all operations without exception through assessed contributions and that they should pay all their assessed contributions in full and on time.\\nThe principal factor explaining the recent growth in the participation of Finnish personnel in United Nations peace-keeping is the deployment of an enlarged battalion within the United Nations Transition Assistance Group (UNTAG) in Namibia. A sizable number of volunteer soldiers has thus been added to the two Finnish battalions and smaller units already serving in the Middle East and elsewhere.\\nNamibia is a major test for the United Nations. The beginnings of the UOTAG operations to implement Security Council resolution 435 on the independence of Namibia were unexpectedly rough and difficult. It is still too early to draw conclusions from the whole process of transition to independence, but we believe that the programme has been brought back on track thanks to the persistent efforts of the Secretary-General and the competent performance of the UNTAG personnel. Of course, many problems still remain to be solved and call for our unrelenting attention. We are looking forward with confidence to the moment when we can welcome independent Namibia into our midst as a Member State of the United Nations. For Finland, Namibia will be a major partner in our development co-operation.  The situation in the Middle East continues to pose a persistent threat to international security. The dangers of the absence of peace in the area are demonstrated almost daily. Repressive measures continue in the territories illegally occupied by Israel. The cycle of violence has not been broken. The\\neking turmoil in Lebanon gives cause for deep concern. There must be a way to or the suffering of the Lebanese people by the common endeavours of the Lebanese themselves, the Arab League and the international community.\\nIt is pressingly urgent that the way should be prepared towards an international peace conference and, further, to a comprehensive settlement in the Middle East. There is an almost universal recognition of the basic principles for a settlement. The right of all States in the region to live within secure and recognized boundaries, as well as the right of the Palestinians to national determination, should be recognised. Democratic elections in the occupied territories could facilitate this process. If such elections are properly mentored and take place within the framework of a structured effort, they could provide a link in a process leading to a comprehensive settlement. The momentum for achieving a solution to this long-standing conflict will be lost unless all possible avenues are pursued vigorously and with an open mind. In this respect, the proposals made by President Mubarak of Egypt are welcome and merit serious consideration.\\nThe United Nations has manifestly demonstrated its relevance and strengthened its role as a forum for co-ordinated international action. Yet the world Organization and its member States can do more. Serious global problems call for urgent global solutions. Only a re-invigorated United Nations can answer the challenges the world will inevitably face in the 1990s and beyond. Let us unite our forces to make the United Nations capable of meeting those challenges. \\n</th>\n",
       "      <td>0.009820</td>\n",
       "      <td>0.0</td>\n",
       "      <td>0.014246</td>\n",
       "      <td>0.0</td>\n",
       "      <td>0.0</td>\n",
       "      <td>0.0</td>\n",
       "      <td>0.0</td>\n",
       "      <td>0.0</td>\n",
       "      <td>0.0</td>\n",
       "      <td>0.0</td>\n",
       "      <td>...</td>\n",
       "      <td>0.0</td>\n",
       "      <td>0.0</td>\n",
       "      <td>0.0</td>\n",
       "      <td>0.0</td>\n",
       "      <td>0.0</td>\n",
       "      <td>0.0</td>\n",
       "      <td>0.0</td>\n",
       "      <td>0.0</td>\n",
       "      <td>0.0</td>\n",
       "      <td>0.0</td>\n",
       "    </tr>\n",
       "    <tr>\n",
       "      <th>﻿\\nMr. President, it is a particular pleasure for me, on behalf of the delegation of Niger, to congratulate you moat warmly on your brilliant election to the presidency of the General Assembly at its forty-fourth session. By unanimously entrusting you with the onerous task of guiding its work the Assembly has wished to testify to the active role played in the international arena by your great country, the Federal Republic of Nigeria, which is united by old, fruitful, strong and varied link with the Republic of Niger in promoting and defending the ideals of international peace, harmony and security and in striving for greater equity and justice in international economic relations.\\nYour election is thus a confirmation of your outstanding qualities, an eminent diplomat, you are an expert in your field, a man whose experience, talent and strong convictions compel admiration and promise a fruitful outcome to our work. Finally, it is a tribute paid to Africa as a whole. I wish to assure you of the complete availability and co-operation of my delegation in helping you to accomplish your task.\\nTo your predecessor, Mr. Dante Caputo, we would like to express out full appreciation and gratitude for the wisdom, skill and efficiency with which he presided over the work of the forty-third session.\\nlb the Secretary-General of the United Nations, Mr. Javier Perez de Cuellar, I should like to repeat the whole-hearted support and encouragement of General Ali Saibou, President of the Supreme Council of National Guidance, Head of State, for the tireless efforts he is making on behalf of peace. We commend the dynamic work the Secretary-General has carried out at the head of this Organization, which he has now rehabilitated and whose authority, prestige and credibility he has restored.\\nFinally, I welcome Mr. Ronald Spiers, the new Under-Secretary-General for Political and General Assembly Affairs, who succeeds Ambassador Reed. We wish him every success in the accomplishment of his new task.\\nThe sessions of the General Assembly are opportunities for the international community to make further progress in the quest for peace, justice and harmony among peoples in accordance with the ideals and principles of the Charter. It is in this spirit that the delegation of Niger intends once again to make its contribution to the bread discussion of problems of concern to humanity.\\nSwift and profound changes are taking place in the international arena. We are seeing political, economic, social, cultural and even ideological changes which are shaping and foreshadowing international relations and the new stakes and challenges of the next century. These changes are sure to have a decisive influence on the future of nations and peoples.\\nThe new dynamic in the feature of relations between the United States and the Soviet Union, particularly with the signature and entry into force of the Treaty on the Elimination of Their Inter mediate-Range and Shorter-Range Missiles, is grounds for hope. That agreement and the thaw in relations between the two super-Powers has created a general climate of co-operation and detente and has helped to prepare the way for the settlement of several regional and local conflicts.\\nThe treaties and agreements concluded between the Soviet Union and the United States are basic attainments} they testify to the political will of those two countries to curb the danger which the arms race represents for mankind. We must however note that the danger continues because the means of warfare are of necessity lethal, are still considerable and are increasingly sophisticated. For that reason the two super-Powers should intensify and pursue, with greater determination and will, their negotiations on the reduction of their stockpiles both nuclear and conventional.\\nIn this respect we are pleased with the constructive proposals made a few days ago from this rostrum, by the President of the United States of America and the Soviet Minister for Foreign Affairs respectively, with regard to the elimination of chemical weapons and of conventional weapons. These proposals, if accepted by both parties, would, we believe, help to promote substantial progress towards general and complete disarmament.\\nThe survival of mankind is our common responsibility and implies that we must avoid a nuclear disaster, which is still possible, by significantly reversing present trends. It is certainly frustrating to note the state of the world today and to see that today we have a striking if not repugnant paradox on the one hand there is the exponential increase in military budgets, and arsenals and on the other there is the chronic poverty and wretchedness of many in the world We must give full weight to the Action Programme adopted by the International Conference on the Relationship between Disarmament and Development, which provides for the creation of institutional financial mechanisms to facilitate the transfer of resources saved through disarmament measures to economic and social development activities.\\nThis session of the General Assembly is being held at a time when significant and encouraging progress has been noted in many regional conflicts, some of which have been controlled and virtually settled thanks to the merits of dialogue and negotiation, while others are on the right path with good chances of success. However, the persistence of stubborn hotbeds of tension or situations of injustice and the appearance or intensification of certain disputes still pose a dangerous threat to international peace and security in many regions of the world.\\nWe must work tirelessly, and persevere in the quest for and consolidation of peace. He must take advantage of this thaw in international relations to make significant advances towards the realization of our peoples' legitimate aspiration to peace, justice and human dignity.\\nIn Africa, the situation in Namibia and South Africa continues to centre on the long-awaited outcome of the Namibian people's heroic struggle for independence and on tine persistence of the despicable system of apartheid. The international community's tireless efforts are finally about to bear fruits the implementation of the independence plan for Namibia has been under way since 1 April 1989. Yet it is more indispensable than ever before to show determination, vigilance and solidarity to prevent the Pretoria racist regime from crushing our efforts.\\nUnfortunately, I must condemn yet again tine intimidation and harassment against the freedom-fighters of the South West Africa People's Organization (SHAFO), the reprisals perpetrated by the sinister Koevoet forces, the manipulation of electoral rolls, the assassination of Namibian patriots and SHAFO leaders, such as the 12 September murder of Anton Lubowski. All these acts testify to the disarray of the racist regime and remind us that there are still many real dangers that the process will be derailed, and that constant vigilance is required.\\nIt is the duty of the Organization, the permanent members of the Security Council and the entire international community to ensure that the spirit and the letter of Security Council resolutions 435 (1578) and 632 (1989) are scrupulously respected by all parties and that the Namibian people has the opportunity and means to elect a Government of Its choice next month freely, peacefully and without manoeuvres, intimidation or coercion.\\nIn South Africa itself, apartheid persists, The new political leadership of the country is aiming to win time through various subterfuges. He must not be Misled by recent declarations of purely superficial constitutional reforms or by the pseudo-elections of 6 September last. They leave untouched the real problem: the perpetuation of the apartheid system, which denies the black majority the right to participate fully in the political and democratic management of its country.\\nMr. President, as Chairman of the Special Committee against Apartheid you are very well aware that apartheid cannot be reformed. It is a disgrace to humanity and an anachronism of world civilization; it must be dismantled, pure and simple. But we note that the friends of the South African regime still hesitate to adopt bold sanctions against the apartheid regime. They must understand and weigh the danger to themselves of stubborn support - even passive support - for a system founded on inequality, exploitation and the denial of human rights.\\nFor that reason, Niger appeals again to the international community to maintain and indeed increase its pressure on the South African regime, so the comprehensive mandatory sanctions ordered by the Security Council and the General Assembly in the relevant resolutions can be effectively imposed against South Africa. Only such sanctions will make it see reason and lift its policy of internal repression and destabilization of neighbouring States, lift the bans that hobble the anti-apartheid movement, and immediately and unconditionally free all political prisoners, including Nelson Mandela, Today more than ever before, this is a matter of a true social pact and a duty of genuine solidarity for the international community vis-à-vis the South African people and all the peoples of southern Africa.\\nWe call on the international community to support fully the conclusions reached by the Ad Hoc Committee of the Organization of African Unity (OAU), which met at Harare on 21 August and adopted a declaration on the peace process in southern Africa. We call on it firmly to support the Gbadolite agreements of 22 June last and all the efforts to restore peace in Angola, and to encourage similar initiatives for national reconciliation and the restoration of peace in Mozambique,\\nA local conflict that has just exploded on our continent is causing us great concern and sadness, for it concerns two fraternal countries that are dear to us two countries that should stand united and cleave to one another; two countries members of the organization for the Development of the Senegal River, the Permanent Inter-State Committee on Drought Control in the Sahel, the West African Economic Community, the Economic Community of West African States, the OAU, the organization of the Islamic Conference and the Movement of Non-Aligned Countries.\\nAs a member of the ministerial mediation commission established by the organization of African Unity, Niger is working with the other member countries towards the prompt and final settlement of this unfortunate affair. We therefore take this opportunity to renew our appeal to Senegal and Mauritania to refrain from any action that could increase tension, and to co-operate fully with the African mediation commission in its efforts to restore as soon as possible between the two peoples the understanding, harmony, fraternity, solidarity and common destiny to which geography, history and the Islamic faith destine - I was about to say doom - them.\\nI am pleased to note that between Chad and Libya - two other fraternal countries that are neighbours of Niger - dialogue is continuing and strengthening ever time, thus promoting a comprehensive, final settlement of the dispute that has long set them against one another and that has cost their peoples so dearly. Niger welcomed the conclusion on 31 August of the Algiers agreement, which consolidated the cease-fire and ushered in a new era of peace, mutual trust and fraternal\\nco-operation for the two countries. We congratulate them and urge them to sustain this momentum in the interest of their peoples arid the entire sub region.\\nIn Western Sahara, the process begun by the Secretary-General's peace plan and conducted jointly with the current Chairman of the OAU is under way, and we support it. We urge the parties involved in this painful conflict to continue and indeed intensify their efforts to create conditions that would favour the organization under United Nations auspices of a referendum on self-determination.\\nIn the Middle East, the Palestinian people is heroically continuing its resistance to illegal occupation and repression. The conditions, the framework and the means for a just and lasting peace in the Middle East are well known. They include the total and unconditional withdrawal of Israel from all the occupied Arab territories, including Jerusalem, the strict implementation in that connection of Security Council resolutions 242 (1967) and 338 (1973), and the convoking under United Nations auspices of the International Peace Conference on the Middle East with the participation of the permanent members of the Security Council and, on an equal footing, of all the parties concerned, including the Palestine Liberation Organization (PLO). There is no possible alternative to those conditions and their complete implementation} otherwise there can be no fair and lasting solution to the Arab-Israeli conflict.\\nAlong with the rest of the international community, Niger welcomed the peace initiative announced on 13 December 1988 in Geneva, and the many peaceful overtures made by the PLO. We therefore regret the lack of a positive response from the Israeli Government to the Palestinian side's constructive position. None the less, we hope that both sides will show realism and responsibility by accepting the 10-point proposal put forward by the President of Egypt, Mr. Hosni Mubarak, we feel that proposal could create conditions for a constructive and satisfactory outcome. In the meantime, we urgently appeal for strict respect for the provisions of the Fourth Geneva Convention of 12 August 1949 on the Protection of Civilian Persons in Time of War, in order to protect civilians in the occupied Palestinian territories against the repression practised by the Israeli forces trying - vainly - to stifle the intifadah.\\nWe continue to be concerned by the tragedy the people of Lebanon has endured for the past 15 years. A State Member of this Organization is truly wasting away. Can we remain powerless and inactive in the face of that unacceptable situation? The international community must do everything in its power to preserve the identity, unity, territorial integrity and independence of Lebanon, and to achieve national reconciliation amongst all its sons. Niger is endeavouring to do this. We support fully the efforts made by the League of Arab States and the Tripartite Committee which it set up to find a solution to this tragedy.\\nWe are pleased to note that there has been a real abatement in the conflict between Iran and Iraq over the last year. My country again declares its support for the clear-sighted efforts made by the Secretary-General and urges the two parties to co-operate fully with him, not only to consolidate the cease-fire but also to make progress towards a comprehensive, just and lasting settlement to the conflict on the basis of Security Council resolution 598 (1987).\\nRegarding Afghanistan, Niger is pleased at the conclusion of the Geneva Agreements, which made possible the withdrawal of foreign troops from that country„ We reaffirm our support for the Secretary-General of the United Nations in his efforts to facilitate a comprehensive, political settlement in accordance with the provisions of the Geneva agreements and General Assembly resolution 43/20. The return to real peace in Afghanistan requires strict respect for the right of the Afghan people to decide independently its own fate, and requires respect for its sovereignty, its territorial integrity and of its status as a non-aligned State.\\nWe are also watching closely the development of the situation in Kampuchea, particularly the decision on the withdrawal of foreign troops from that country. The International Conference held in Paris from 30 July to 3 August 1989, offers, in my delegation's view, a timely opportunity for ail the parties involved and directly concerned to find, through dialogue and reflection, a comprehensive, honourable and definitive solution to the tragedy of Cambodia.\\nEven if the results of that Conference did not measure up to the hopes we had placed in them, the Conference is certainly an important step towards a peaceful solution. The Cambodian people must be able to determine freely their own destiny without any foreign interference. Dialogue amongst all the sons of Cambodia must continue and must be intensified. In this respect Niger welcomes and encourages the commendable efforts made by the French and Indonesian Co-Chairmen.\\nThe aspirations of the Korean people for peaceful reunification are yet to be realized. We strongly encourage the two parties to continue the contacts and the dialogue which they have begun with a view to the reunification of Korea without foreign interference. In regard to Cyprus we are pleased with the efforts made by the Secretary-General through his Special Representative. The independence, sovereignty and territorial integrity of the island must be guaranteed and its national unity and non-aligned status must be respected.\\nConcerning Central America we are following and we welcome the praiseworthy efforts made by the Presidents of Costa Rica, El Salvador, Guatemala, Honduras and Nicaragua to eliminate the combined impact of tension and violence and to establish the basis for true peace and co-operation. From the Contadora Agreements to those of Tesoro Beach and Tela, together with the Esquipulas II Agreements, we can gauge the determination with which the heads of State of the region are seeking means to establish a true peace. All of their initiatives and their efforts deserve the full support of this Assembly.\\nThey deserve it all the more since a terrible scourge which is afflicting all of humanity and jeopardizing the fabric of society, has over the last few months and in a brutal way, focused world attention on this region of the world. Indeed, the fight against drug trafficking in Latin America has become total war, the outcome of which will determine the capacity of the international community to display strength, determination and solidarity. This challenge involves, without any doubt, the fate and future of mankind as a whole.\\nNiger gives its support to Colombia and to all countries involved in this battle, world-wide, and urges the international community to set in motion a consistent strategy to win this struggle, which involves and challenges us all.\\nAnother problem, indeed another scourge, which is equally disturbing and whose innocent victims are increasing in numbers throughout the world, is that of international terrorism. Last year. Pan Am flight 103, from London to New York, crashed in Scotland, with several hundreds of victims, including the United Nations High Commissioner for Namibia. On behalf of Niger, we pay a tribute once again to his memory. A few months ago Colonel Higgins, a man working for peace, was assassinated in cold blood. Recently, an aircraft of the UTA company, on a flight between Brazzaville and Paris, exploded in mid-air over territory of my country, killing 171 innocent victims. These are only a few examples, but unfortunately there are many others. On behalf of President Ali Saibou and the people of Niger, I express here to all the States whose nationals perished in the tragedy of this UTA flight our deep sympathy and our sincere condolences.\\nTerrorism is the evil of our century. It strikes out blindly and indiscriminately. He must launch a real, unified crusade, a sacred union even, to combat terrorism, which today transcends national borders and political and ideological differences. Niger and its government are determined to make their contribution, however modest, to the struggle, which affects us all.\\nThe present climate of detente, which has prevailed for at least a year in international relations, should encourage the world to reflect further on the ways\\nand means of restoring peace wherever it has been disturbed, to preserve it everywhere it is threatened, and to strengthen it wherever it has been established.\\nThe period of calm in the political arena is contrasted, however, very sharply with the world economic situation characterized, unfortunately, by a profound structural imbalance. In fact, unequal development between North and South is the main contradiction in the world today. It is clear however that peace and security are directly linked with development. Thus the climate of detente which prevails at this time in the world would be vain and have no future if the developing countries continue to have to deal with difficulties which are constantly aggravated through imbalance, inequality and flagrant injustice in their economic relations with the industrialized countries.\\nThe gap between developed countries and developing countries is widening day by day. Whereas in the North there is talk of growth and expansion, in the South the talk is still about food self-sufficiency and structural adjustment. Men, women and children of Africa, of Asia, and of Latin America and the Caribbean, are living through the tragedy of hunger, poverty, illiteracy, natural disasters such as drought, desertification, plaques of locusts, cyclones, and so on. Societies that are just surviving, societies that are overwhelmed: that is the harsh reality of developing countries, of which, sadly, Africa has the greatest number.\\nThe causes of this trend are to be found essentially in the collapse in commodity prices, the deterioration in terms of trade and the crushing weight of external debt. These phenomena, which have led to a net transfer of resources from developing to developed countries, and the multilateral financial institutions, are stripping States in the South of every chance of development, thus making them incapable of creating the investments necessary for real and lasting growth.\\nGiven this situation, our Governments have undertaken profound economic reforms. These reforms, carried out at great social and political cost, have not enjoyed, as was hoped and promised, the full support of the international community. Less than two years from the time it was, theoretically, to come to an end, the five-year United Nations programme of Action for African Economic Recovery and Development has still not really started.\\nAs the Secretary-General stressed in his annual report on the work of the organization, failure to find a solution could lead to a collapse of the social and political structures in many developing countries.\\nWhatever the case, it is urgently necessary that particular attention be given to the most vulnerable countries: the least developed countries, countries affected by drought and desertification, countries suffering from natural scourges and countries suffering from being land-locked, for whom a revival of economic and social development is a necessity.\\nFirst, new and lasting solutions to the problem o£ debt must be found through continuing consideration by and co-operation between creditor and debtor countries in all appropriate forums. In this regard, Niger welcomes the plans and initiatives so far put forward and supports the idea of an international conference on Africa's external debt, as advocated by the organization of African Unity. We welcome the decisions first of Canada, in 1987, and then of France this year, followed by those of Belgium and Italy, to cancel all debt relating to development assistance. Niger hopes - and this is our interest in an international conference on the debt - that those unilateral actions will be followed by collective measures, the fruit of a general and formal agreement between debtor countries and their creditor partners, both bilateral and multilateral.\\nSecondly, we must make a methodical and determined search for a new, more just and balanced international economic order in which economic and social security is guaranteed to all peoples. That new international economic order can be sought and achieved only within the framework of the North-South dialogue, which must be resumed.\\nIn the same context we welcome and firmly support the proposal made in July 1989 by the Presidents of Egypt, Senegal and Venezuela and the Prime Minister of India concerning the organization of regular summit consultations between North and South on problems of common interest to the two hemispheres.\\nIn this connection, the special session of the General Assembly devoted to international economic co-operation, in particular the revitalisation of economic growth and development in developing countries, to be held in April 1990, will constitute, we believe, a propitious occasion and an appropriate framework for the reinvigoration of the North-South dialogue. This applies also to the Second United Nations Conference on the Least Developed Countries, to be held in Paris in 1990.\\nWe cherish the hope that these conferences and initiatives will contribute to the effective resumption of the North-South dialogue by offering the possibility of achieving an agreement on the nature of the problems facing developing countries and the approach to be taken towards solving them. Niger intends to participate actively and to make its contribution through concrete proposals that could lead to the emergence of a new era of healthy co-operation between North and South.\\nMoreover, we are particularly interested in the current negotiations on the new Lome convention, which in our view should serve as a model both as regards efforts to stabilize the export earnings of developing countries, assistance in the diversification of their exports and the opening of markets to their products, and as regards development assistance.\\n1 should like to conclude this section by expressing a concern that is widely shared by the countries represented here. I refer to the problem of children.\\nThe difficult economic situation in developing countries is the reason for the situation of children in those countries, and particularly in Africa being so worrying, despite the importance and priority which our Governments accord to the protection and well-being of children, since they represent the future.\\nThe results of efforts made by members of the international community, with the assistance of the United Nations Children's Fund (UNICEF) and other international organizations, to ensure the survival, protection and full development of the potential of children are encouraging. It is essential, however, to pursue and intensify our efforts collectively. That is why Niger firmly supports not only the idea of convening with urgency a world summit devoted to children, but also the conclusion and adoption as a top priority by the General Assembly at the present session of a draft convention on the rights of the child. The environment crisis, which is felt throughout the world and seriously threatens life on our planet, is a question to which the international community should pay urgent attention. Today, the degradation of the ozone layer, the heating of the atmosphere and climatic changes are as much a reality as deforestation, desertification of arable lands, pollution of water and the atmosphere, the disappearance of fauna and flora, toxic wastes, and the transfer of hazardous wastes to developing countries.\\nThe means of avoiding ecological disaster exist. We must use the available technology, improve it, and share it. To this end, it is imperative that Member States draw up co-ordinated plans of action to resolve the environmental crisis. That is a joint responsibility that calls for solidarity and it must be said that it is the duty of the industrialized countries to prevent or limit the damage caused to the world environment and to help our developing countries to achieve healthy development.\\nThe United Nations conference on environment and development proposed for 1992 will provide an excellent opportunity to work out agreed action at the world level and to define new principles of international law concerning the protection and conservation of the environment and, in particular, effective international measures to prohibit the transfer of hazardous wastes to the territories of other countries.\\nAs everybody knows and as is true of many African countries, the economic and social situation is the main and constant source of concern for the Government of Niger. Nevertheless, I am happy to inform the Assembly that President Ali Saibou has undertaken action aimed at the political evolution of our country with the ultimate objective of a return to constitutional life. Following the adoption by referendum of the National Charter in July 1987, the process of setting up apolitical system as the basis for the Second Republic of Niger entered its final, decisive phase with the establishment, in May 1989, of the National Movement for the Society in Development and the adoption by referendum on 24 September of a new Constitution.\\nAs the President, General Ali Saibou, said, the National Movement for the Society in Development will be the appropriate forum for political expression in which the women and men of Niger will strive to affirm and defend their political, economic and social rights. The goal is the realization of participatory democracy guaranteeing the free expression of ideological opinions and sentiments, in order to achieve a constructive political awareness and the consolidation of a stable and integrated regime involving all the components of our nation.\\nThe Constitution reaffirms the law character and republican nature of the State and makes Niger a State of law that respects the fundamental freedoms of individuals. It ensures the equality of all before the law and enshrines the principle of the sovereignty of the people.\\nIn that Constitution the people of Niger reaffirms its will to co-operate in friendship with all peoples that cherish peace, justice and freedom. It reiterates its total and permanent readiness to seek, with all the nations of the world, solutions to the innumerable ills that afflict the international community and to construct a world of peace, justice and progress in accordance with the ideals and principles of the Charter of the United Nations.\\nLegislative and presidential elections will take place on 10 December next, with direct universal suffrage, and will complete the process of a return to normal constitutional life in Niger.\\nThat is my delegation's contribution to the general debate at the forty-fourth session, which we wish the most outstanding success. We hope that it will  strengthen the unshakable faith of our Governments in the ideals and objectives of the United Nations. We hope that it will instil in each of our peoples a planetary patriotism thanks to which we shall be able to succeed in our. undertaking and build slowly but surely a single, indivisible world of peace, happiness and human dignity.  \\n</th>\n",
       "      <td>0.000000</td>\n",
       "      <td>0.0</td>\n",
       "      <td>0.000000</td>\n",
       "      <td>0.0</td>\n",
       "      <td>0.0</td>\n",
       "      <td>0.0</td>\n",
       "      <td>0.0</td>\n",
       "      <td>0.0</td>\n",
       "      <td>0.0</td>\n",
       "      <td>0.0</td>\n",
       "      <td>...</td>\n",
       "      <td>0.0</td>\n",
       "      <td>0.0</td>\n",
       "      <td>0.0</td>\n",
       "      <td>0.0</td>\n",
       "      <td>0.0</td>\n",
       "      <td>0.0</td>\n",
       "      <td>0.0</td>\n",
       "      <td>0.0</td>\n",
       "      <td>0.0</td>\n",
       "      <td>0.0</td>\n",
       "    </tr>\n",
       "    <tr>\n",
       "      <th>﻿\\nDuring the debate at the fortieth session of the General Assembly four years ago, President Sanguinetti announced to the world community from this very rostrum that Uruguay had resumed its traditional path of political democracy, and was determined to respect and to enforce respect domestically for all human rights as guaranteed by the Constitution of the Republic, and further announced his firm resolve to resume active participation on the global stage of international relations in the pursuit of peace, universal respect for human rights and the equality of all nations, based on respect for national sovereignty and non-intervention in the internal affairs of other States.\\nSix months prior to the conclusion of President Sanguinetti's constitutional term, I have the honour to mount the same rostrum to announce to this international community that today those intentions have been fully realized.\\nIndeed, within a few weeks, elections will be held in Uruguay to elect all the authorities who will be responsible for the destiny of the country for the next five years. This fact, commonplace in the political tradition of a democratic country, is particularly significant in out case, since it represents the culmination of a period of democratic recovery during which full respect for the Constitution has been restored? all individual rights have been scrupulously observed, and national reconciliation has been achieved, inter alia by a general amnesty ratified by popular mandate. Law and justice have been restored, and the country has been rescued from a declining economic situation through the vigorous revitalization of the external sector and the application of stabilizing policies which have allowed reasonable product growth, a decrease in unemployment and an increase in real earnings.\\nOn the international front, Uruguay has honoured all its commitments, including those of a financial nature which entailed - then and today - considerable sacrifices. It has actively contributed, at times beyond the power of its political weight and its material resources, to efforts aimed at reinforcing international peace, security and co-operation. It has embarked upon a firm policy of regional and sub regional integration and participates actively with other democracies in the hemisphere to co-ordinate positions in order to satisfy our common interests. In short, the Government of Uruguay is acting on the international scene, secure in the moral and political authority it derives from the right to represent a free, democratic, stable and peace-loving society. This task of democratic consolidation has been successful but also extremely difficult. As President Sanguinetti said to this Assembly in 1985:\\n'Democracy is a fragile flower; ... it only grows aid survives in the right soil and the right climate. A genuine democracy based on respect for the individual and an the periodical, free advice of the people can be preserved only within an economic context that allows its citizens to provide for their basic material and spiritual needs. ... When this condition is not fulfilled, and poverty and unemployment prevail, violence emerges and is unleashed, the powers of disorder take advantage of the fertile soil, the fabric of society disintegrates and, in the international sphere, political loyalties become erratic.' (A/40/PV.6, p. 12)\\nIndeed, democracy is never limited to a purely political dimension, nor is it a sufficient condition to ensure freedom for all the people.\\nThe economic and social component of a democratic society is what ultimately determines its feasibility aid stability. It is for this reason that the question posed by the foreign Ministers of the Group of 8 when considering the problem of foreign debt is a valid one today: How much poverty can freedom withstand?\\nLike democracy in other Latin American countries and other regions of the world, democracy in Uruguay has been constantly threatened by a severe economic crisis unprecedented in its history.\\nWe are aware - and this is always worth repeating - of our share of responsibility in the task of overcoming the crisis and promoting development and economic growth. We know that that is possible only through our own efforts, through the formulation and application of our own policies and, particularly, through our own sacrifices. But we are also aware that, despite the social and political cost of these adjustment processes, the expected benefits will not be obtained without greater participation and commitment by the industrialized countries, particularly in the areas of international finance and trade.\\nThe issue of underdevelopment, therefore, remains the major world problem faced by mankind. The growth achieved by a few Asian countries cannot hide the fact that there has been significant regression in the social indicators of many countries in Latin America and Africa. That bears eloquent testimony to the seriousness of the situation and the political risk to their governing institutions, and consequently to world peace.\\nThe vast foreign debt which weighs so heavily on many of our countries has reversed the flow of financial resources, which now runs from South to North. The task of turning the tide cannot be delayed, since this debt is paralysing all our efforts to achieve economic development and democratic stability.\\nIt is encouraging to note that creditor countries have new accepted the principle of shared responsibility in the foreign-debt problem, and have agreed that this problem is not simply financial but also political and social. It is also noteworthy and encouraging that creditor Governments appear willing to consider formulas to help the constrained economies of debtor nations.\\nIn this respect, the agreement between Mexico and its international bank creditors has set a precedent regarding the feasibility of the Brady philosophy and has aroused legitimate hopes and expectations in the rest of the debtor nations.\\nWithout a pragmatic approach to the debt problem there will be no development and no economic growth; without these prerequisites it will be very difficult to continue to believe in democracy, and without democracy world stability and peace will be very hard to maintain.\\nWhat we need today is a revolutionary change in our ideas and policies with respect to international economics, ultimately leading to the formulation of a new development strategy. The starting point of that strategy should be recognition of the interdependence of all States, whatever their size or economic or military power; and the objective should be to ensure that this interdependence is viewed as guaranteeing greater predictability and stability in world trade and economic relations and a more just distribution of the benefits.\\nThis new international strategy for development should be dynamic, flexible and, above all, concrete and precise in the formulation of measures designed to fight poverty, to eliminate protectionism and discrimination in international trade, and to facilitate access by all developing countries to technology and to the financial and economic markets of industrialized nations.\\nThe environmental dimension should be an essential ingredient in the new international development strategy. The deterioration of the environment has become a matter of concern to the entire international community and there is no doubt it will continue to be a matter of concern in the years to come.\\nThere can be no doubt that the environment must, be protected and that each State must assume responsibility and take action in this respect for its own well-being and for that of other peoples of the world. But it is also true that\\nthe correct solution to the problem requires sincere and broad international co-operation to ensure that the cost of protecting the environment is not borne by only a few countries which ate still struggling for full development of their un-exploited natural resources. In no case - and this is more important still - should protection of the environment become a new form of conditionality to which the sovereign decisions of countries still requiring international co-operation for their development would be subordinated.\\nIn summary, Uruguay is conscious of the urgent need to protect the environment-, but we are also aware that this is a task requiring the participation and efforts of the entire international community and that it should be carried out in a way compatible with the national sovereignty of all nations.\\nHowever, the implementation of a development policy that guarantees both the protection of the environment and the rational use of natural resources requires the provision of financial resources and appropriate technologies not available to all the countries in the world.\\nAs we stated last year and repeat today: the technological dependence of the developing countries is not only a factor inhibiting their economic development, but also as a serious threat to their political sovereignty as that posed by foreign aggression.\\nThe cost of transferring financial and technological resources to developing countries represents barely a marginal fraction of the funds used by the super-Powers in the arms race, for which they invoke reasons of national security. They forget that reasons of national survival would make it mandatory for them to allocate more than a marginal fraction of that overall expenditure to the transfer of resources and technology to developing countries, thereby facilitating their\\nparticipation in the common task of protecting both world peace and the quality of the environment.\\nIn dealing with the question of the environment, the international community must resort to the basic mechanism of co-operation between nations because we are faced with a common danger, affecting us all, and there is no political system or degree of development or military Power than can give any State the slightest immunity against it.\\nUnfortunately, it is not only dangers to the environment that indiscriminately affect all nations and peoples. There are other reasons forcing us to resort to and develop the mechanisms of global solidarity and co-operation. Terrorism and drug trafficking, which at times appear to be complementary phenomena, continue to wreak destruction and havoc, despite the universal revulsion they arouse.\\nUruguay unequivocally condemns terrorism. For us, any terrorist act is inhuman and cruel, violates the most sacred human rights and reveals the basest and most destructive feelings of men. There is no purpose, no cause, no issue, however noble, that can justify the commission of a terrorist act. For that reason, Uruguay will contribute, without qualifications based on motives or purposes, to efforts directed at establishing new legal measures and at strengthening existing ones providing for the eradication of this scourge from the face of the earth.\\nWith respect to drug trafficking, we are concerned at the rate at which it has expanded and at the vast power behind it, but at the same time we are encouraged to see that the governments of consumer nations have become aware of their responsibilities and that producer nations have shouldered the risks involved in an open war against drug traffickers. In this connection, it is my duty, and my pleasure, to express to the Government of President Virgilio Barco Vargas and to the people of Colombia the solidarity of the Government of Uruguay in respect of recent events in our sister Republic, and our admiration for the courage with which Colombians are tackling this problem.\\nThe political climate that now prevails is perhaps the most propitious in four decades for the successful initiation and implementation of undertakings necessitating the willingness of Governments to co-operate with each other. Ideological dogmatism and political inflexibility appear to be losing ground in the face of realism and common sense. Over the last few months, we have embarked on a new era of dialogue and collaboration, which has translated into a cessation of hostilities, the reaching of agreements, and the establishment of contacts and channels of communication. All of this has led to the solution, or imminent solution, of several regional conflicts.\\nThe cessation of hostilities between Iran and Iraq; the withdrawal of foreign troops from Afghanistan that has already taken place; the recent efforts to normalize the situation in Kampuchea; the December 1988 agreements on southern Africa and the beginning of the self-determination process in Namibia; the agreements on New Caledonia; the contacts concerning Western Sahara; the new surge in the Central American peace process following the regional presidential summit last August; and the promising resumption of dialogue between Argentina and the United Kingdom with a view to settling their differences directly - these are manifestations of this desire for peace, and proof of the sterility and futility of confrontation, intolerance and misguided nationalism.\\n\\nThis new spirit is evident also in the changes introduced by numerous countries in the principles and objectives of their domestic policies, which have led them to greater openness, both internally and externally, thereby strengthening the prospects for international peace and co-operation. 1 am referring to political evolution on the domestic front in the Soviet Union and other Eastern European countries, as well as to the steps taken towards democracy by the last authoritarian regimes in South America, which are evidence of a less dogmatic political vision that, fortunately, appears to be spreading in almost all regions of the world.\\nHowever, there remain areas in which the voices of peace go unheeded, First, the human-rights situation in the world is still far from satisfactory. The international community knows that the important progress made in the political field will remain precarious while vast sectors of the world's peoples are unable fully to enjoy their human rights.\\nThere can be no doubt whatsoever that no progress - whether economic, social, political or moral — will have a firm foundation so long as any vestiges of racism and racial discrimination remain, and in particular while practices such as apartheid continue. South Africa's persistence in disregarding the resolutions of the United Nations will not stifle the persistence of the rest of the world in reclaiming for that country the full force of the equality and dignity of the human race.\\nThe work of the United Nations in developing human rights and establishing the means of guaranteeing respect for them must continue, with the support of the international community. A very important step has been taken with the drafting of the convention on the rights of the child, which we trust will soon become, for every State, the appropriate ethical and legal framework for improving the status of children.\\nThe Middle East conflict continues to threaten world peace and to cost the parties involved a high price in human life and in moral and material damage. Nevertheless, signals are beginning to come from both sides - signals that are helping to generate the climate necessary for a negotiated solution. For Israel, this would mean lasting peace within safe borders, and, for the Palestinians, the possibility of exercising freely their right to self-determination.\\nIn this region, we are also particularly concerned about the tragic situation in Lebanon - a country with which we have many links, and whose long-suffering people are the victims of an unjust and senseless war, with the Resulting death and devastation with which we are all too familiar.\\nUruguay has raised its voice in the past, and does so again, to call on all the parties involved to intensify their efforts to achieve a final solution to the conflict. This implies the withdrawal of foreign troops from Lebanese territory and the harmonization, by democratic means, of domestic differences. In this regard, we wish every success for the mediation undertaken by several heads of State of the League of Arab States. We trust that the pursuit of peace in Lebanon will succeed and that this country will once again be as prosperous and peaceful as it once was.\\nThese problems, as well as other situations that threaten peace, are this year, as in previous years, difficult challenges to which the General Assembly should respond by trying to reconcile the specific interests of each nation with\\nthe general interests of the international community. We are aware that this is a task fraught with difficulties, but at the same time we are encouraged because we know, Mr. President, that under your enlightened and expert direction, we shall achieve the desired results.\\nI should like to conclude by expressing our sincere congratulations to Mr. Dante Caputo on his intelligent and effective presidency of the General Assembly at its forty-third session, and also to the Secretary-General, whose dynamism, tact and commitment have strengthened the role of his office within the Organization and have been an essential factor in enhancing its prestige through his successful intervention in the peaceful solution of a number of regional conflicts.\\n</th>\n",
       "      <td>0.000000</td>\n",
       "      <td>0.0</td>\n",
       "      <td>0.000000</td>\n",
       "      <td>0.0</td>\n",
       "      <td>0.0</td>\n",
       "      <td>0.0</td>\n",
       "      <td>0.0</td>\n",
       "      <td>0.0</td>\n",
       "      <td>0.0</td>\n",
       "      <td>0.0</td>\n",
       "      <td>...</td>\n",
       "      <td>0.0</td>\n",
       "      <td>0.0</td>\n",
       "      <td>0.0</td>\n",
       "      <td>0.0</td>\n",
       "      <td>0.0</td>\n",
       "      <td>0.0</td>\n",
       "      <td>0.0</td>\n",
       "      <td>0.0</td>\n",
       "      <td>0.0</td>\n",
       "      <td>0.0</td>\n",
       "    </tr>\n",
       "    <tr>\n",
       "      <th>﻿I should like at the outset to express my delegation's satisfaction and pleasure at your election, Sir, to the presidency of the General Assembly at its forty-fourth session. The unanimity of that decision reflects not only your own distinguished record as Foreign Minister and Permanent Representative of your country to the United Nations but also the prestige of your country, Nigeria, of which all of us in Africa are proud.\\nThe outgoing President of the General Assembly, Mr. Dante Caputo of Argentina, shouldered the responsibility of his office with distinction in a momentous and difficult year. We wish to acknowledge our debt to him.\\nOur Secretary-General, Mr. Javier Perez de Cuellar, has been at the head of our Organization during some of its roost troubled and also some of its most productive and successful years. The turnaround in the fortunes of the United Nations during his watch owes much to the skill of the helmsman and we want to reassure him of our continued confidence.\\nThe current session of the General Assembly must seriously address itself to problems affecting the world economy. In the vital field of international economic relations, the fresh breeze that has led to such excitement in international political relations has not even made a ripple. The direction of the world economy is still determined by a small circle of rich and powerful nations for which short-term expediency and the requirements of individual national economies have all too often taken precedence over the steps required for a healthier world economy from which all States would benefit in the long run. For the smaller countries the result has been a collapse in commodity prices causing severe prejudicial terms of trade, where several times the volume and quality of produce is now required to purchase the same amount of manufactured goods from the North than was required only a few years ago. In addition, the necessary borrowing on the part of the developing countries, coupled with high interest rates, has resulted in a debilitating debt-service burden for those countries that has culminated in a net reverse transfer of resources from South to North in the order of nearly $50 billion annually according to the calculations of international financial institutions. Fifty billion dollars annually is a very big amount to owe and we ate informed that more money is still continuing to flow from the developing countries to the developed countries. \\nHow can we, in all conscience, talk of kinder, gentler times and continue to countenance the continual transfer of such a phenomenal amount of resources from the poor and the hungry to the rich and the affluent? We welcome the positive developments on the international political stage and we believe that all peoples should enjoy political and civil rights. Conscience, however, enjoins us to submit that these rights are not enough. People have economic and social rights as well: the right to good health, the right to food and shelter, and above all the tight to a decent standard of living. It should be the lot of no one to suffer the degradations of illiteracy and poverty. Hunan rights are a package the elements of which are mutually reinforcing, and the denial of any of them weakens the entire package. A poor man, a sick man and an illiterate man are just as manacled as the man who is denied individual freedom or the right of free speech. It is the package that is important, for it goes beyond the selective, and at times cynical, championing of this or that right to the core of the purpose of existence·, the tight to a decent and meaningful life. Any attempt to separate one from the other or to compartmentalize these rights and champion one right at the expense of the other is to sow confusion and set the stage for futile recriminations.\\nAll States represented in the Assembly should subscribe to that view and attempt to pursue the objective of a good and decent existence for all human beings. The pursuit of a healthier world economy, of growth and development of the poorer countries and of fairer terms of trade between the North and the South is fundamentally a struggle for human rights and for the tight of people to a decent existence.\\nIn our interdependent world that struggle must involve a concerted approach, including greater recourse to multilateral mechanisms on the part of all States. Nations must act together to solve the global and interrelated problems of the world economy, as low commodity prices, high interest rates and acute external Indebtedness. The politics of inclusion that appear to be gaining ground in international political relations, particularly through professions by the big Powers of their readiness to give a larger role in the management of international affairs to the United Nations, should also be reflected in international economic relations.\\nThe initiative taken by the developing countries in urging the Assembly to hold a special session on economic co-operation, in particular for the revitalization of the growth and development of developing countries, in April 1990, is a timely development. The special session should focus on the need to renew the stalled North-South dialogue and on the direction of the world economy. I am pleased to note that the recent summit Conference of the Countries of the Non-Aligned Movement, held at Belgrade, endorsed this suggestion and all the member States of the Non-Aligned Movement will be co-operating in the exercise. In this era, when economic mega-blocs are in the process of being formed in North America and in Europe, and where East and West are drawing closer in many spheres, it is essential that developing countries are not left out of the discussions and the mechanisms that will affect the future course of international economic and political relations. We also note that preparations are under way for the elaboration of the international development strategy for the Fourth United Nations Development Decade. We wish to stress the complementarity we see between that process and next year's special session on economic co-operation, to which I have already referred.\\nFollowing the 1986 special session of the General Assembly on the critical economic situation in Africa, the Assembly adopted the United Nations Programme of Action for African Economic Recovery and Development 1986-1990. That Programme represented a compact between the African countries and the international community, especially the donor countries. The African countries were to take steps to redress their economies through structural adjustment programmes, which they have done - often at a significant social and political cost - and the international community undertook to create an international environment conducive to African recovery by facilitating an increase in commodity prices and resource 21ows to the continent. The mid-term review of the implementation of the Programme, annexed to resolution 43/27 of 1988, clearly states that the international community has not kept its side of the bargain. The African States have made the adjustments that were required of them. Let me echo the words of Mr. Michael Manley, Prime Minister of Jamaica, when he sand recently: ,We have done everything that was asked of us. But what has the other side done?, \\nCommodity prices have continued to fall and resource flows to Africa have not increased in any appreciable way. Given the sacrifices the African countries have made to keep their part of the bargain, it is important that the Programme be made o work. Since the review of the Programme will take place in 1991, and the programme itself is to run only up to 1990, it is important that the Programme be mandated to run until the final review, and we hope that decision will be taken at this session. \\nProblems of the environment affect the entire globe, which is our common abode, and many speakers have referred to this important factor. From the depletion of the ozone layer to the poisoning of the atmosphere and the rivers, the degradation of the environment affects all of us. The global warming of the general climate affects com tries in Europe, in the Americas, Africa and everywhere. For us in Africa the problem of the environment is important as we face what one representative has described here as the encroaching deserts. We have heard from many delegations of the encroachment of the desert on to their own fertile lands. We also have the related problem of the dumping of nuclear and toxic wastes which have been the subject of resolutions by the Organization of African Unity (OAU), the International Atomic Energy Agency and the General Assembly itself, last year. Greater responsibility is needed in the way the world uses its natural resources and disposes of the dangerous waste products of its factories. In the last year representatives will have read press reports about the very dangerous dumping of wastes in certain African countries, which action was rightly condemned by the OAU and other internal forums. We therefore welcome the intention to hold a special international conference on the environment in 1992. \\nWe are also aware that all too often the weak ate made to pay for the sins of the strong - if only because controlling the strong is so much more difficult. It is important that the burden attendant upon safeguarding the environment should be shared judiciously according to resource usage, waste production and need. Particularly, it is essential that no new obstacles are put in the path of the economic progress of the developing countries, which are already at the receiving end of the imbalances and inequities of the present international economic order and of the abuse and misuse of the international environment. \\nRespect for the right of peoples to self-determination and independence is not only just? it is also good politics and essential to the attainment and maintenance of world peace. The General Assembly clearly recognized that fact when it adopted the Declaration on the Granting of Independence to Colonial Countries and Peoples way back in December 1960. Yet today, nearly three decades later, colonialism is still very much in evidence. Again, that is a practical reality of our times. The right of peoples to decide their own destiny is being denied not only in the well-publicized cases of southern Africa and the Middle East, especially Palestine, but also in countries in the Pacific, the Caribbean basin and elsewhere. \\nHowever, the major issue facing the Organization this year is the decolonization of Namibia. That is as it should be. The birth of a new nation is a supreme event in international affairs. And when the United Nations is the appointed intermediary the event becomes even more special to all of us. We ate now entering the horns stretch in the implementation of the Namibian independence plan. Much ground has already been covered and much reference has been made to this phenomenon in speeches we have heard in the last two weeks. But a lot more still remains to be done in the remaining four-and-a-half weeks. Pretoria and its functionaries in Namibia are still refusing fully to comply with Security Council resolution 435 (1978)  the South West Africa Territory (SWATP) command structure has not been disbanded, end we are told that it has only been stood down  the so-called disbandment of Koevoet on 30 September has proved to be illusory  restrictive laws, in particular AG-23, continue to inhibit freedom of assembly and the registration, electoral and constituent Assembly proclamations leave much to be desired. These proclamations were affected only last week, end more information is still being given as to what exactly has been agreed to. Some improvements have been made, some changes have been recorded, and we commend the United Nations Transition Assistance Group (UNTAG) for this, but we need to be vigilant and to ensure that in the next four-and-a-half weeks nothing will be done to reverse the clock. Intimidation of followers of the South West Africa People's Organization (SWAPO) by the South-African-sponsored Democratic Turnhalle Alliance (DTA) end the South West African Police is regularly reported. In fact, if members read Namibian newspapers they will find they ate full of reports of attacks on SWAPO men and supporters, at times with the police just standing by. UNTAG police units are stretched to the breaking-point we are told, and the assassination of SWAPO leaders has actually taken place.\\nSo, while we ate on the home stretch, a grave situation still surrounds events in Namibia, and it is important that we should all keep our guard and remain vigilant. As we enter these final weeks of the election campaign the desperation of the anti-SWAPO forces in Namibia is becoming evident daily. It is important, therefore, that urgent action be taken to strengthen UNTAG police units and to increase the number of projected electoral monitors. We are very pleased that a number of States represented here have agreed and are going to send observers, monitors and guests to Namibia over the next few weeks to observe what will be happening. The more observers, the more guests, the more people we can have in that country, the better. We welcome the effort being made by many States around the globe.\\nMeanwhile, the United Nations must prepare well-thought-out plans for the post-election period in Namibia, assuming the election proceeds satisfactorily. For there can be no doubt that, as the decolonizing authority, the United Nations has a continuing responsibility to see that Namibia's independence is a success. A good mother does not give birth only to abandon the baby immediately. This session of the General Assembly must ensure that the United Nations prepares itself to be a good mother. My delegation is ready to contribute in the process of clarifying the united Nations role during the transition period following the elections and in the elaboration of a continuing United Nations responsibility to ensure that Namibian independence is a success. These are urgent tasks which require our immediate attention. Every effort has been made to draw the attention of the United Nations Secretary-General and of the United Nations generally to these natters, especially the question of convening the Assembly after the elections. Whoever wins the election, it is not yet clear how the Assembly will be convened and how it will proceed to draw up the constitution leading to independence. We would be pleased if the United Nations would remain seized of these problems and would continue to provide solutions until the time of independence itself.\\nIn South Africa itself, apartheid, the root cause of all the problems in southern Africa, continues to be firmly entrenched. The state of emergency still continues  Mandela and other political prisoners remain incarcerated j liberation and mass democratic movements ant still proscribed·, the Group Areas Pet and other obnoxious legislative acts continue to be on the apartheid statute books. That is the reality of the situation in South Africa itself.\\nPresident de Klerk's talk of reform so far remains only mere talk. It is important that the Pretoria regime be urged to go beyond rhetoric to concrete action. The liberation movements are ready to engage President de Klerk in serious negotiations. They have formulated an imaginative negotiating platform which was adopted by the OAU Ad Hoc Committee on Southern Africa, in Harare, on 21 August 1989, as well as by the ninth non-aligned summit conference in Belgrade, It is on the table for South Africa to take advantage of. This is an olive branch from the liberation movement. It outlines a number of confidence-building measures needed before negotiations can begin and sets out the fundamental human rights that should guide the formulation of a new constitutional dispensation for a future South Africa. It is quite obvious of course that negotiations, or any form of dialogue, cannot take place while the leaders are incarcerated in gaols or while the present restrictions emanating from the state of emergency remain. The international community has warmly welcomed this important initiative for peace to which I have just referred, taken by the liberation movement. So far Pretoria has remained mum on this proposal. We are told that certain of the seven leaders who are now incarcerated nay be released sooner or later. That might be a palliative, but what we need is a complete and full constitutional dispensation that can being peaceful conditions in which negotiations can truly take place for the future of an independent South Africa.\\nUntil Pretoria dismantles apartheid it is important that the international community intensifies its pressure on it and increases the sanctions against it. There is no secret about the fact that Pretoria is now talking reform is directly related to the impact of international sanctions and the pressure exerted by the liberation forces and other democratic forces in South Africa. There is no doubt whatsoever that sanctions are working and can continue to work. They have damaged the South African economy to a great extent, as has been admitted by the economic spokesmen for that regime. Therefore, more sanctions will certainly put more pressure on the regime. The medicine is slowly taking effect. We appeal to those friends of Pretoria who oppose sanctions to join the rest of the international community in bringing meaningful pressure to bear on Pretoria by applying sanctions and supporting the liberation movement.\\nTo the international banking community we say that 1990 will be a critical year for the apartheid regime, because in that year it has to reschedule its debt. Rescheduling the debt is not an automatic right for the racist regime let it be a favour, granted as an inducement to meaningful change in South Africa. The concatenation of events makes the coming rescheduling exercise a particularly potent force for positive political developments in South Africa. We urge the bankers to use it. We have given them adequate information to ensure that they ace quite clear about the choices before then.  \\nElsewhere in southern Africa, there are regional efforts to bring peace to Angola and to Mozambique. The Assembly has heard statements by the Foreign Ministers of both those countries, elaborating on those measures. We in Zimbabwe appeal to outsiders to stop supporting rebel elements in Mozambique and Angola, especially UNITA in Angola, which has created difficulties in the process of reconciliation. We are seeking African solutions to African problems. The Organization of African Unity (OAU), the Movement of Non-Aligned Countries and the United Nations can help as requested and as required, but we ask them to give these initiatives a chance.\\nWe also seek peace efforts in the dispute between Mauritania and Senegal, the situation in the Sudan and the situation in Ethiopia. African solutions, initiated by the OAU, are at work in those situations, and we again appeal to outsiders not to interfere in the processes of reconciliation that ate taking place. We are satisfied that the initiatives taken by the Organization of African Unity, if given time to mature, will provide solutions and bring peace to the three areas I have mentioned.\\nWe are also anxious to see Western Sahara's independence consolidated with speed and firmness. The Secretary-General's efforts to bring permanent peace to Western Sahara are commended. We also commend the meetings that took place earlier this year between the King of Morocco and the POLISARID Front. We hope these efforts will continue.\\nThe denial of the Palestinian people's right to self-determination is a continuing sore in international relations. We deplore the heavy-handed methods of the occupation forces against the aggrieved heroic Palestinian nation. We wish to reiterate our conviction that only an international peace conference under United Nations auspices, with the Palestine Liberation Organization (PLO) as an equal partner are addressing all aspects of the Middle East crisis, can bring peace to the region. The proclamation of a Palestinian State last year was an important development in this area. We commended, and commend, the PIO for the step it took, and we are pleased that over 85 countries have recognized the Palestinian State. From that strong position, the Palestinian leadership should be able to proceed to meaningful negotiations with big Powers, small Powers and others in the region that are seized of the problem of Palestine. The independence of Palestine has been long delayed, and we should like to see the Palestinian people take their place as equal citizens alongside the peoples of other nations.\\nIn Central America, we welcome the decision to disband the contras and the scheduled elections in Nicaragua, which are to be monitored by the Organization of American States, the United Nations and a host of other international observers. We are pleased that a dialogue has resumed between the Salvadorian Government and the Marti National Liberation Front aimed at bringing peace to El Salvador. We urge flexibility on both sides so that a peaceful solution can be found to their conflict. The only warning we as outsiders would issue regarding the Central American situation again takes the form of urging outsiders not to interfere in the processes that are taking place there. The effort being made by the leaders of Central America to corns together and produce plans that enable them to enjoy self-determination and full human rights and provide peace for their own territories is commendable - if only outsiders do not interfere. In that respect, the main instigator of problems that have arisen in Central America is, of course, the United States, which has continued to fail in troubled waters in Latin America. \\nIn Afghanistan, we again urge all outside Powers to stop supplying arms to the opposing sides, and we call upon the Afghan people to negotiate an end to their civil war in a spirit of national reconciliation. We are pleased to note the departure of Soviet troops, and we are also pleased to note the confidence and patriotism that act brought to the Afghan people themselves. We hope that sooner or later they will convene a shura - an assembly - that will make it possible for all Afghans inside and outside Afghanistan to get together to resolve their problems. We believe all Afghans can solve their problems in peace in a shura, their traditional assembly which had met periodically over the past 300 or 400 years.\\nOn the question of Kampuchea, we welcome the withdrawal of Vietnamese forces and urge the parties concerned to negotiate their differences among themselves in order to arrive at an acceptable solution. We noted with disappointment the failure of the recent Paris Conference. We also noted with disappointment that both the Vietnamese and the Phnom Penh delegations to that Conference refused to accept the international mechanism that was suggested a United Nations peace-keeping force. We have made it clear to them, and we make it clear now, that we do not see any possibility of disarming the rival forces, bringing peace to Cambodia and holding elections there without the active participation of the United Nations. The United Nations has much experience with peace-keeping forces around the world, and, in our view, is the only organization that can assist in the peace-making and peace-keeping process. \\nWith regard to the Korean peninsula, it is our view that the Korean people should be left alone to negotiate their reunification without outside interference. We urge that the military manoeuvres by outside forces that often take place on the peninsula or in waters near it be stopped.\\nWith regard to Cyprus we appeal again to both parties to co-operate with the Secretary-General in the search for a lasting solution. We commend the meetings that have taken place under the chairmanship of the Secretary-General between the President of Cyprus and the representative of the Turkish Cypriots. Again, we call on outside Powers to cease interfering in the internal affairs of Cyprus.\\nIn Belgrade the leaders of the non-aligned countries called for self-determination for the remaining colonies of New Caledonia, Malvinas, Diego Garcia, Mayotte and a dozen other territories scattered across the globe. The forty-third session of the General Assembly declared an International Decade for the eradication of the retrograde system of colonialism. We repeat that call from this rostrum.\\nAs can be seen from the problems I have just touched upon, we have not yet readied the Promised Land, the new detente notwithstanding. Much remains to be done, and in that the United Nations must play a central role. We therefore welcome the declarations that have be τ made from this podium by the great Powers, renewing their faith in the United Nations. These days of change also mean a period of uncertainty, a period of opportunities, yet also of danger. In such a period, recourse to and respect for the Organization and its agencies becomes more indispensable than ever before.\\nIt was in recognition of that fact, and motivated by the desire to strengthen peace and the rule of law, as well as to bring the age of reason to international relations, that the non-aligned countries convened at The Hague, from 26 to 30 June 1989 a Conference on Pace and the Rule of law in International Affairs. We were pleased by the wide attendance at that Conference, which included important countries not members of our Movement. The Conference was a landmark in the struggle to bring the rule of law and the role of the World Court to the centrality they should enjoy in the resolution of conflicts and in the management of international relations. An important initiative was taken at the Conference to have the General Assembly declare at its current session a decade of international law from 1990 to 1999, leading to a third Hague Peace Conference. That is one of the concrete acts that can be achieved at this session of the General Assembly in the cause of peace, justice and the rule of law. We urge all Member States to support that noble initiative by the non-aligned countries. I am informed that a concrete proposal has already been submitted to the Sixth Committee and that it is now being debated.\\nLast - but by no means least - is the all-important issue of nuclear disarmament, to which I have not referred extensively in my statement. We have all had the opportunity to welcome the signing of the Treaty on the Elimination of Intermediate-Range and Shorter-Range Missiles - INF Treaty - in 1987. That was a truly significant step in the right direction, but what remains to be achieved is even more formidable. In comparison to that, the INF Treaty is indeed only the tip of the iceberg. The super-Powers have a special responsibility in this regard. As the possessors of the largest arsenals of nuclear, chemical and other weapons of mass destruction, they have a duty to take the lead in the disarmament process.\\nBut of course we of the non-aligned movement, as well as the Organization of African Unity, can take some credit for the fact that at the special session of the General Assembly convened last year to discuss the question of disarmament we made our position abundantly clear. We indicated the hazards of war with which the road to disarmament is replete, and we are pleased that our call has been heeded in some quarters.\\nToday the world still has many problems, but in 1989 there is a window of opportunity to address some of them. History will judge us harshly if we miss that opportunity.\\n</th>\n",
       "      <td>0.000000</td>\n",
       "      <td>0.0</td>\n",
       "      <td>0.000000</td>\n",
       "      <td>0.0</td>\n",
       "      <td>0.0</td>\n",
       "      <td>0.0</td>\n",
       "      <td>0.0</td>\n",
       "      <td>0.0</td>\n",
       "      <td>0.0</td>\n",
       "      <td>0.0</td>\n",
       "      <td>...</td>\n",
       "      <td>0.0</td>\n",
       "      <td>0.0</td>\n",
       "      <td>0.0</td>\n",
       "      <td>0.0</td>\n",
       "      <td>0.0</td>\n",
       "      <td>0.0</td>\n",
       "      <td>0.0</td>\n",
       "      <td>0.0</td>\n",
       "      <td>0.0</td>\n",
       "      <td>0.0</td>\n",
       "    </tr>\n",
       "    <tr>\n",
       "      <th>...</th>\n",
       "      <td>...</td>\n",
       "      <td>...</td>\n",
       "      <td>...</td>\n",
       "      <td>...</td>\n",
       "      <td>...</td>\n",
       "      <td>...</td>\n",
       "      <td>...</td>\n",
       "      <td>...</td>\n",
       "      <td>...</td>\n",
       "      <td>...</td>\n",
       "      <td>...</td>\n",
       "      <td>...</td>\n",
       "      <td>...</td>\n",
       "      <td>...</td>\n",
       "      <td>...</td>\n",
       "      <td>...</td>\n",
       "      <td>...</td>\n",
       "      <td>...</td>\n",
       "      <td>...</td>\n",
       "      <td>...</td>\n",
       "      <td>...</td>\n",
       "    </tr>\n",
       "    <tr>\n",
       "      <th>I should like to congratulate\\nMr. Essy on his election as President of this, the forty-\\nninth, session of the General Assembly. The Estonian\\npeople wish him all the best in this post.\\nToday is a day of national mourning in my country.\\nLate last night, amid stormy autumn winds, the passenger\\nand car ferry Estonia, sailing from Tallinn to Stockholm,\\nsank at high sea. Nearly 100 people have been saved, and\\nrescue efforts are continuing. But most of the over 850\\npeople who were aboard the Estonia are presumed to be\\ndead. I should like to thank the President and all those who\\nhave expressed their sorrow and sent condolences.\\nIn this painful loss, we can draw some solace from\\nthe global teamwork we have seen in the rescue efforts.\\nLast night demonstrated beyond a doubt that the Baltic\\nSea is a sea of cooperation. Swedish, Finnish, Danish\\nand Estonian rescue units worked together, and we had\\noffers of help from Russia, the North Atlantic Treaty\\nOrganization (NATO) and countless others. On behalf of\\nmy Government, I thank all of those who helped us with\\nthe rescue effort. The spirit of international cooperation\\nsets a fine example for all of us here today.\\nToday my country comes before this forum for the\\nfirst time in half a century unfettered by the problem of\\nthe presence of foreign troops on our soil. The role the\\nUnited Nations played in helping to remove the last\\nvestiges of the Second World War was not small. It is\\ntherefore a special privilege for me to speak here today.\\nIt is also not insignificant that this new era in the\\nhistory of Estonia, Latvia and Germany coincides with the\\nupcoming fiftieth anniversary of the founding of the\\nUnited Nations. These two events would seem to call for\\nsolemn reflection on the past or at least a joyous\\ncelebration of the moment. But most of all, this new era\\nrequires new approaches. Post-war security - be the war\\nhot or cold - still hangs in a delicate balance. Because it\\nis up to all of us, collectively, to decide which way the\\nscales tip, I wish to focus on the future, on how we in\\nEstonia are approaching this new era, and on some of the\\nideas enshrined in the Charter of the United Nations that\\nwe believe deserve special attention in the next few years.\\nOn 31 August, we marked the withdrawal of troops.\\nThe celebrations and commemorations of this event\\nsymbolized the end of one era and the beginning of\\nanother. The withdrawal of the troops has had a\\ntremendous effect in bringing us closer to normalization\\nof relations with the Russian Federation, and we sincerely\\nhope that the problem of officers who were demobilized\\non our territory against the spirit and the letter of the\\ntroop-withdrawal treaty will be solved. The troop\\nwithdrawal was also a major step towards achieving\\nsecurity in the Baltic region. But the problem of Baltic\\nsecurity has not yet been solved - far from it.\\nOne dimension of moving towards bona fide security\\nundoubtedly lies in trying to improve relations with the\\nRussian Federation. The potential for good will is in the\\nair, and it is our duty, on both sides of the 1920 Tartu\\nPeace Treaty, to seize the moment and make that peace\\nagain. We might call this policy towards Russia one of\\npositive engagement. This would involve, among other\\n24\\n\\n\\nqualities, mutual respect for sovereignty, mutual respect for\\nnational security interests, mutual refraining from verbal\\nand other confrontation, and mutual respect for international\\nnorms of behaviour, particularly in the area of human\\nrights.\\nWe are willing to expend considerable energy to repair\\na relationship that has been historically so complex. To do\\nso is not only in our own interest and in that of Russia, but\\nin the interest of regional, European and therefore global\\nsecurity as well. I would emphasize, however, that in order\\nfor this policy to be successful, it must be mutual. If, on\\nthe other hand, our efforts are not reciprocated, then we\\nmust be prepared to expend our energy in different ways.\\nLately, we have noted with great concern talk of\\ncreating new spheres of influence. We hear continuing use\\nof the phrase 'the near abroad'. We observe similar\\nattitudes in discussions about the enlargement of the North\\nAtlantic Treaty Organization and the European Union. We\\nare already well past the initial stages of building a\\nEuropean security structure. A viable framework, based on\\nshared values, that includes Central and East European\\nStates is nearly in place. It is not only late but unacceptable\\nto ponder the plans of architects who speak of spheres of\\ninfluence and to consult contractors who wish to build on\\nsand or, worse, on a slippery slope.\\nThere are some specific ways in which the United\\nNations can take advantage of the historic opportunity it\\nfaces to encourage principled behaviour. One of them is to\\nrender peace-keeping more effective by strengthening\\npeace-keeping mechanisms, including the dissemination of\\nbetter and more timely information to all Member States in\\norder to garner the support necessary for any collective\\naction. Rather than abdicating responsibility, whether due\\nto benign neglect, expediency or funding problems, and\\nallowing large States to act unilaterally, it means holding all\\nStates in all regions to the same standards. It goes without\\nsaying that in lending its name to any peacekeeping\\noperations, the United Nations must stand by the\\nfundamental principles of neutrality and multilateralism.\\nThe United Nations should never become a mask behind\\nwhich one country tries to assert dominance over another\\nby means of peace-keeping.\\nLet me add that Estonia is actively developing its own\\npeace-keeping force, to be put, perhaps next year, at the\\ndisposal of the Secretary-General of the United Nations.\\nAnother area in which more effective mechanisms and\\nmore stringent standards are needed is that of human rights,\\nas reflected in the Vienna Declaration and plan of action\\nof last year. I would stress the importance of the newly\\nestablished Office of the High Commissioner for Human\\nRights taking on this task. We wish High Commissioner\\nAyala Lasso success in this most important and\\nchallenging endeavour.\\nWe believe the High Commissioner can be\\ninstrumental not only in improving the effectiveness of\\nthe United Nations human rights mechanisms, but also in\\nholding this body to strict standards. We believe that all\\nStates should be measured according to the same human\\nrights standards. I could not agree more with the\\nobservation made by Russian Federation President Boris\\nYeltsin two days ago in this forum that\\n'neither a selective approach nor double standards\\nare permissible.' (Official Records of the General\\nAssembly, Forty-ninth Session, Plenary Meetings,\\n5th meeting, p. 2)\\nIndeed, exceptions cannot be made on the basis of the\\nsize of a nation, its cultural heritage or the political\\ndelicacy of the situation. The standards that are applied\\nto one country must be valid for all others - in other\\nwords, there should be no elastic rulers.\\nIn this regard, allow me to remind the Assembly of\\nan open letter - an appeal, really, to morality in foreign\\npolicy - which was signed by a host of political\\nluminaries and published in September of last year in The\\nWall Street Journal. I quote from the letter, entitled\\n'What the West Must Do In Bosnia':\\n'Even if, like Kuwait in August 1990, all\\nBosnia (and not just Sarajevo) were seized, it would\\nbe essential for the democracies to make clear, as\\nthey did in the case of Kuwait, that violent border\\nchanges and ethnic cleansing will not stand. If the\\nWest does not make that clear, it will have nothing\\npersuasive to say ...'.\\nSadly, the message in that letter remains applicable\\ntoday. If the world’s democracies, led by the United\\nNations, do not speak out for morality in the area of\\nhuman rights, we will lose our ability to influence the\\ncourse of events. Democracies must be willing to stand\\nby the principles upon which our States and societies are\\nbased. It is our sincere hope that non-selective\\napplication of human rights standards will become the\\nrule, not the exception.\\n25\\n\\n\\nA third way the United Nations can take advantage of\\nthis moment is to consider the global changes that have\\ntaken place since 1945. Then, in the immediate post-war\\nperiod, the composition of the Security Council was\\nestablished by drawing a sharp distinction between the\\nvictors and the vanquished. Times have changed. We\\nmust now take into account the positive role that some\\nStates in particular play in the international arena. And I\\nhave in mind here Germany and Japan, States that have\\nmore than demonstrated their commitment to democracy\\nduring the last 50 years. Estonia strongly supports granting\\nGermany and Japan permanent-member status in the\\nSecurity Council as a recognition of their accomplishments\\nand an acknowledgement of their stabilizing role in world\\naffairs.\\nI would turn now briefly to Estonia’s vision of its\\nfuture role in the United Nations. Now that the issues\\nwhich had hitherto demanded our intense attention have\\nbeen more or less solved, we are freer to devote more\\nenergy to wider issues that affect all of us. I am speaking\\nhere of global phenomena such as terrorism, organized\\ncrime, drug trafficking and smuggling of radioactive\\nmaterials as well as health and social issues and\\nenvironmental problems. These are issues that know no\\nborders, and dealing with them requires a collective effort\\non our part.\\nOn this, the eve of the fiftieth anniversary of the\\nUnited Nations, we face an enormous challenge. The war\\n- I mean the Second World War - is finally over. But the\\nreal battle - to safeguard human and civil rights for all\\npersons, to strengthen security for all States, to preserve a\\ncontinent undivided - this battle has only just begun. With\\nintelligence, perseverance, goodwill, and a little luck, the\\nnations gathered here can unite in the battle to make the\\nnext 50 years more constructive than the last.\\n</th>\n",
       "      <td>0.000000</td>\n",
       "      <td>0.0</td>\n",
       "      <td>0.000000</td>\n",
       "      <td>0.0</td>\n",
       "      <td>0.0</td>\n",
       "      <td>0.0</td>\n",
       "      <td>0.0</td>\n",
       "      <td>0.0</td>\n",
       "      <td>0.0</td>\n",
       "      <td>0.0</td>\n",
       "      <td>...</td>\n",
       "      <td>0.0</td>\n",
       "      <td>0.0</td>\n",
       "      <td>0.0</td>\n",
       "      <td>0.0</td>\n",
       "      <td>0.0</td>\n",
       "      <td>0.0</td>\n",
       "      <td>0.0</td>\n",
       "      <td>0.0</td>\n",
       "      <td>0.0</td>\n",
       "      <td>0.0</td>\n",
       "    </tr>\n",
       "    <tr>\n",
       "      <th>It is with pleasure that I begin this speech by conveying to you. Sir, our most sincere congratulations on your election to the presidency of the General Assembly at its forty-ninth session. Your election not only reflects the trust placed in you personally but also bespeaks the regard of the international community for your country,\\nCote d’Ivoire. We wish you success in the pursuit of your mission.\\nI take this opportunity to congratulate your predecessor, Mr. Samuel Insanally, on the effective manner in which he conducted the affairs of the General Assembly at its last session.\\nI also wish to note the sincere efforts by the Secretary-General of the United Nations, Mr. Boutros Boutros-Ghali, to consolidate peace and to reduce the tensions that beset many parts of the world.\\nIt is with great pleasure. Sir, that I convey to you the best wishes of the Custodian of the Two Holy Mosques, King Fahad bin Abdulaziz Al-Saud, and his hope that at this session the General Assembly will successfully deal with international developments, benefiting from the opportunities provided by the principles and other foundations upon which contemporary international relations rest.\\nThe Government of the Custodian of the Two Holy Mosques has always been willing to play a positive role in the international arena, and to contribute to achieving our common goals of security, stability and prosperity. The principles and other foundations of our present international order derive their legitimacy and strength from the tenets of the United Nations Charter, which are inherent in international legality. The most important of these principles are:\\trespect\\tfor\\tthe\\tsovereignty and\\nindependence of nations; the inviolability of international borders; the establishment of justice and equality between nations; rejection of the use of force in the settlement of conflicts; safeguarding human dignity; and ensuring security and prosperity for all mankind. Based on its adherence to Islamic shari'a, the Kingdom of Saudi Arabia is committed to the principles of the United Nations Charter, and has endeavored throughout the Organization's history to implement those principles in practice.\\nThe Gulf Cooperation Council, whose current session my country has the honor of chairing, bases itself on the principles of the United Nations Charter. We are convinced that the international community's success in serving the cause of international peace and security will depend on the commitment by its members to the United Nations Charter and on the strength of their political will to apply the resolutions of international legality.\\n\\nWhile the firm unified international stand in confronting Iraq's aggression against the State of Kuwait in 1990 was vindicated when the aggression was reversed and international legality was restored, the conflict in Bosnia and Herzegovina remains unresolved. Serb aggression against the Bosnian people continues. This is because the aggression has not been dealt with in accordance with the United Nations Charter and the principles of international legality. It is incumbent upon this Organization, and in particular the Security Council, to move swiftly and effectively to demonstrate that aggression is bound to fail, whether in Kuwait, in Bosnia or in any other part of the world.\\nEven a cursory glance at the current international situation would be sufficient to highlight the need for an effective United Nations role and for implementation of the Charter in order to deal with the chronic hotbeds of tension that are widespread and that continue to threaten security and stability in many parts of the world. This requires us to strengthen further the role of the United Nations as an effective vehicle for creating the proper conditions for world peace and stability.\\nWe in the Gulf Cooperation Council recognize the prominent role played by the Secretary-General in fashioning a new approach for the United Nations based on the principles of the United Nations Charter and the norms of international legality. We welcomed the Secretary- General's proposals in his 'An Agenda for Peace', and we look forward to his agenda for development. The ideas contained in those two reports are bound to make an important contribution to the efforts of the General Assembly to enhance the role and effectiveness of the United Nations. Success in achieving this aim will rely to a great extent on the degree of support by Member States for the principles and principles of the United Nations. The most important of these are: the\\tmaintenance of\\ninternational peace and security; peacemaking through the deterrence of aggression; the elimination of threats to the security, sovereignty and territorial integrity of nations; and the promotion of cooperation in the service of international development.\\nUnder the United Nations Charter, the Security Council, the body most directly concerned with the maintenance of international peace and security, has the primary responsibility for dealing with international problems. As we pursue reform of United Nations organs, it is therefore crucial that the Council be made more capable and better equipped to carry out its mandate under the Charter.\\n \\n\\nThe Gulf Cooperation Council attaches great importance to a number of regional and international issues. We greatly appreciated the important role played by the United Nations following the Iraqi aggression against Kuwait. That role clearly reflected the international community's expectations regarding the responsibilities of the United Nations. It also highlighted the ability of the Security Council to confront aggression and reverse its effects. We hope that this solidarity will help guarantee that no repetition of this aggression can occur. This can be achieved only through complete and total implementation of all Security Council resolutions on the matter. The Iraqi Government continues to defy international legality and to attempt to deceive international public opinion through limited implementation of some of the requirements of Security Council resolutions 661 (1990) and 687 (1991) pertaining to the issue of weapons of mass destruction. The true objective of these Iraqi efforts is to circumvent Security Council resolutions, which contain a number of requirements accepted by the Iraqi Government and which together form an interrelated legal structure. In its last review of the sanctions imposed on Iraq, the Security Council decided to continue the application of those sanctions; this demonstrates that the efforts of the Iraqi Government to deceive the world community have not borne fruit.\\nIraq has yet to meet the essence of its obligations, which lies in full and irrevocable recognition of the State of Kuwait and of its borders. To do this it must officially accept Security Council resolution 833 (1993), which demarcated the international borders between Kuwait and Iraq and provided international guarantees for those borders under the cease-fire agreements set out in Security Council resolution 687 (1991), which was accepted by the Iraqi Government. And in view of the fact that the Iraqi Government has repeatedly violated its international and legal obligations, we feel it is necessary to insist that Iraq's recognition of Kuwait and its borders should be irrevocably stated, in conformity with the constitutional measures applied in Iraq and based on the international guarantees contained in the United Nations Security Council resolution 833 (1993). Furthermore, Iraq must comply with its commitment to release all Kuwaiti and non-Kuwaiti prisoners and detainees. While we welcome Iraq's participation on the committee dealing with prisoners and detainees, we hope that its participation is a genuine attempt to settle this humanitarian issue and not merely a symbolic move to appease international public opinion.\\nThe Government of Iraq is also expected to pay full compensation for all the damage caused by its aggression. It must refrain from committing or sponsoring any acts of terrorism or subversion. All of the above requirements represent a series of interrelated international legal obligations, that must be complied with in their entirety.\\nThe States of the Gulf Cooperation Council (GCC), while reiterating their commitment to the unity, sovereignty and territorial integrity of Iraq, wish to voice their concern over the continuing suffering of the Iraqi people, the sole responsibility for which lies with the Iraqi Government which rejects the implementation of United Nations Security Council resolutions 706 (1991) and 712 (1991) which deal with the humanitarian needs of the Iraqi people.\\nThe GCC States have actively participated in the Middle East peace process since its inception at the Madrid Peace Conference. The GCC States contributed to advancing the bilateral talks between the Arab States and Israel. They have also participated effectively in the multilateral talks. The Arab delegations' commitment to and participation in this process gave a clear indication of their sincere intention to work towards a just and comprehensive peace in the region. The multilateral talks are an integral part of the peace process launched in Madrid and complement the bilateral talks and not a substitute thereto.\\nThe signing of the Declaration of Principles between the Palestine Liberation Organization and the Israeli Government in Washington in 1993, raised hopeful expectations, since it represented the first step towards the achievement of a just and permanent settlement of the Palestinian problem. While the Gulf Cooperation Council notes with satisfaction the concrete progress made on the Palestinian-Israeli track and the important steps taken to expand Palestinian self-rule and to transfer institutions to the Palestinian National Authority, it calls upon the international community, and in particular on the co-sponsors of the peace process, the United States of America and the Russian Federation, to ensure that Israel places no more obstacles in the path of the Palestinian National Authority as it assumes its responsibilities.\\nWhile we welcome the progress achieved on the Jordanian-Israeli track, we wish to voice our deep concern over the lack of clear progress in the Syrian and Lebanese tracks. The issue of the occupied Golan Heights is clear and governed by the principles of respect for international borders. Security is not attained by the occupation of another nation's territory by force, but through the establishment of peace, which can only be realized in this situation by the total Israeli withdrawal from the occupied Golan Heights. The Lebanese-Israeli track is governed by United Nations Security Council resolution 425 (1978), which clearly calls for the immediate and unconditional withdrawal of Israeli troops from the Lebanese territory. We call for the complete and unconditional implementation of the said resolution.\\nThe question of Al-Quds Al-Shareef is at the heart of the Arab-Israeli conflict, and permanent peace cannot be achieved in the Middle East without a just settlement of this issue. The settlement must take into account the resolutions of international legality, and in particular United Nations Security Council resolution 242 (1967), which calls for Israeli withdrawal from all territories occupied in 1967, and United Nations Security Council resolution 252 (1968) regarding Al-Quds Al-Shareef. Israel is thus required to refrain from taking any measures that would demographically change the status of the city of Al-Quds or prejudice future negotiations pertaining to its final status. Any permanent and comprehensive settlement must also address the issue of the return of Palestinian refugees and the issue of settlements erected by Israel in the occupied territories in violation of international law and the Geneva conventions.\\nConcrete progress on the various bilateral tracks on the various aspects of the Arab-Israeli conflict is bound to lead inevitably to similar progress with regard to the issues addressed in the multilateral talks and lay the groundwork for a just, comprehensive, and lasting peace in the Middle East.\\nWe in the GCC are convinced that the success of the Palestinian National Authority in implementing the Declaration of Principles depends on the support it receives from the Palestinian people, as well as on the political and economic support it receives from the international community. It was on the basis of this conviction that the GCC States participated in the international donors conference held in Washington, D C. in October of 1993 and pledged substantial financial assistance. The Gulf Cooperation Council States have also contributed financially to the establishment of a Palestinian police force and administration to enable it to assume its duties. We have also announced, along with our Arab brethren at the 102nd session of the League of Arab States, our full support for the Palestinian self-governing authority.\\nIn the context of their pursuit to help the Middle East region enjoy its legitimate share of security, peace and stability, the GCC States have focused great attention on efforts to rid the region of all weapons of mass destruction, whether nuclear, chemical or biological. To achieve this objective, we call on all countries in the region, including Israel, to refrain from producing, possessing or stockpiling any such weapons.\\nThe GCC States note with great concern the continued occupation of the three United Arab Emirates islands - Abu Moussa, the Greater and Lesser Tumbs - by the Islamic Republic of Iran. The GCC States, motivated by a desire to have the best possible ties with the Islamic Republic of Iran, have repeatedly urged the Islamic Republic of Iran to respond to the call of the United Arab Emirates to settle this problem by peaceful means through serious bilateral negotiations.\\nThe Government of Iran, however, has not responded to these calls so far. We therefore call for referring this matter to the International Court of Justice, which is responsible for settling disputes among nations.\\nThe current session of the General Assembly is taking place at a time when the plight of the Bosnian people is worsening as a result of the war of extermination and ethnic cleansing waged by the Serbian forces with the support of Serbia and Montenegro. In spite of the optimism generated by the Muslim-Croat agreement to establish a federation in Bosnia and Herzegovina, and their acceptance of the peace plan proposed by the international Contact Group, and welcomed by all of us the Serbian forces continue to challenge the international peace-keeping forces of the United Nations, in total disregard of United Nations resolutions. In so doing, the Serbian forces have been emboldened by the inability of the international community, and in particular the States of the European Community which have a special responsibility vis-a-vis this tragedy, to implement the necessary sanctions and impose the required punishment, to stop the Serb aggression. The Serb forces have rejected the proposed peace plan and escalated their attacks against Bosnia and Herzegovina, which makes it patently clear that their intention is to undermine all the peaceful efforts undertaken by the United Nations.\\nWe listened with keen interest to the speech by President Alija Izetbegovic, which gave a graphic description of the dangerous situation in his country. In the light of this we are concerned that the hasty adoption by the United Nations Security Council of its resolution 943 (1994), which provides for relaxing the United Nations sanctions imposed on Serbia and Montenegro, could preclude a just settlement and lead to rewarding the aggression. It is incumbent upon the international community, and the Security Council in particular, to take the necessary action to remedy this tragic situation. This action must include declaring the entirety of the Republic of Bosnia and Herzegovina a safe haven, and providing for the deployment of international observers equipped with a clear mandate, and sufficiently credible powers, in these safe havens and along the borders of Bosnia and Herzegovina. They should also include the recognition of the Republic of Bosnia and Herzegovina by Serbia and Montenegro before any consideration is given to the gradual lifting of the sanctions imposed on them. United Nations forces must also protect the areas of safe haven and provide for their defense. The failure of the United Nations to provide the required protection for the Republic of Bosnia and Herzegovina makes it necessary to lift the arms embargo so as to allow it to exercise its legitimate right to self-defense as enshrined in Article 51 of the United Nations Charter.\\nSomalia continues to be in the grip of a situation of instability and political chaos coupled with acts of violence and bloodshed. In spite of all the efforts deployed to extricate this nation from its plight, instability and lack of security still plague this troubled land. The Kingdom of Saudi Arabia, which has tried on a number of occasions to contain the conflict in Somalia, to bring about national reconciliation between the various factions and which has provided humanitarian assistance and relief to the fraternal Somali people, calls upon all factions to listen to the voice of reason and logic, to put the interests of the Somali people above all else and to work towards national reconciliation.\\nThe feelings of optimism and jubilation triggered by the victory of the Mujahideen in Afghanistan and the restoration of that country's independence and identity are now overshadowed by feelings of disappointment and bitterness as a result of the continued infighting between the various Mujahideen factions. The Kingdom of Saudi Arabia has endeavored, under the direction and guidance of the Custodian of the Two Holy Mosques, King Fahd bin Abdulaziz, to put an end to the fratricide among our Afghani brethren. These efforts were crowned when all factions were assembled in 1993 at the House of God in Makkah, and an agreement was signed to restore unity, security and stability to the nation of Afghanistan. We continue to urge all factions of the Afghani Mujahideen immediately to put an end to the infighting by complying with the 'Makkah Agreement' in letter and in spirit, so as to move in the direction of reconstruction and development and, thereby, to enable their nation to resume its proper place in the international community.\\nThe conflict over Jamu-Kashmir continues to cast its shadow over relations between the two neighbors, India and Pakistan, and represents one of the elements of instability in this part of the world. My Government continues to watch with concern the bloodshed there. We wish to voice the view that there is a need for a solution to this chronic problem. It has become clear that violence against the Kashmiri people, and the use of military force will achieve nothing but the further deterioration of the situation in Kashmir. It will also feed the flames of instability in the region. A peaceful solution to this problem lies in the implementation of the relevant United Nations resolutions and in dialog and understanding. It is in that way that an end may be put to yet another hotbed of tension and instability in the world.\\nAmong the other conflicts in Central Asia, the conflict between two Member States of the United Nations, the Republic of Azerbaijan and the Republic of Armenia, resulted at one stage in the occupation by Armenia of parts of Azerbaijan. As this occupation constitutes a violation of the principle of the inadmissibility of the use of force in the resolution of disputes, it is incumbent upon Armenian forces to withdraw from Azerbaijani territory and to transfer this issue to the negotiating table for the purpose of arriving at a peaceful and just settlement which would safeguard the legitimate rights of the Azerbaijani people.\\nSuch a review of the hotbeds of tension and crises in our world must not cause us to lose sight of the important and positive developments which the world witnessed over the past decade and which should give us cause for hope in a better future for mankind. We continue to have great expectations as a result of the positive developments in the aftermath of the cold war, and the emergence of solutions to pressing problems in Cambodia, the Middle East and Northern Ireland. The historic change in South Africa has brought down the curtain on the system of apartheid and brought forth a new South Africa based on justice and equality. We welcome these positive developments which are bound to contribute to the strengthening of the international tendency to move towards compliance with the principles of international law, respect for the resolutions of international legality, the renunciation of the use of force in favor\\nfavor of dialog as a means for resolving problems and disputes.\\nA general overview of international economic issues and the role played by the United Nations to strengthen international cooperation shows that the success of the Organization in dealing with economic issues and promoting international development, is also tied to the commitment of its Members to the United Nations Charter.\\nThe conclusion of the Uruguay Round of multilateral trade negotiations is a commendable example of the international community's success in addressing a number of sensitive issues with unprecedented results. We are witnessing the emergence of the World Trade Organization, which we hope will embody our vision of an institutionalized global economic system. The Marakesh conference of the contracting parties to the General Agreement on Tariffs and Trade (GATT) has succeeded in fulfilling the aims of the Bretton Woods Conference.\\nWhile we appreciate this important development, we must state our concerns over the increase in protectionism and the resulting tensions between trading partners. This development contradicts the premises of the Uruguay Round regarding the importance of allowing market forces to play their natural role in economic affairs in a manner which allows nations to benefit from comparative advantages and from the optimal utilization of resources. This can only be achieved through serious international efforts to ensure free trade. We also wish to state our concern over the increase in protectionism in the guise of protecting the environment, and in particular the increased taxation on petroleum.\\nAt this point, I wish to emphasize the importance the Gulf Cooperation Council attaches to the protection of the environment, which is reflected in the adoption by our emerging industries of the highest standards of environmental protection. We are concerned that petroleum, which is our principal export commodity, is already heavily burdened by taxation, and yet it is now being targeted for further taxation while other, more polluting fuels are receiving subsidies from Governments. Coal is a case in point: according to studies published by the Organization for Economic Cooperation and Development and the International Energy Agency, coal subsidies in industrial States amount to more than twice the cost of comparable energy provided by imported petroleum. Furthermore, according to the same sources, tax reforms that take into consideration the carbon content of fuel could produce more than double the reduction in\\ncarbon dioxide emissions targeted by the proposed carbon taxes without further taxation on petroleum.\\nWe, the member States of the Gulf Cooperation Council, are convinced that imposing additional taxes on petroleum will not contribute to the environment but will instead distort international trade. This would adversely affect not only the economies of oil-exporting nations, but also those of oil-importing nations. It would also undermine the development efforts of developing countries.\\nThe Kingdom of Saudi Arabia and its sister States in the Gulf Cooperation Council have great respect for the United Nations Charter, for international legality and for the resolutions deriving therefrom. We have not, and will not, hesitate to work towards strengthening the role of the United Nations and enhancing its effectiveness to ensure international peace and security and promote international cooperation. We hope with all sincerity that all other Member States will share this view when dealing with the various issues before the Assembly at this session.\\nWe are confident that the opportunity to achieve success still remains before us and that what is required is to heed the words of God Almighty:\\n'And say work; and soon Allah will observe your\\nwork, and his messenger, and the believer'.\\n\\n\\n\\n\\n</th>\n",
       "      <td>0.000000</td>\n",
       "      <td>0.0</td>\n",
       "      <td>0.000000</td>\n",
       "      <td>0.0</td>\n",
       "      <td>0.0</td>\n",
       "      <td>0.0</td>\n",
       "      <td>0.0</td>\n",
       "      <td>0.0</td>\n",
       "      <td>0.0</td>\n",
       "      <td>0.0</td>\n",
       "      <td>...</td>\n",
       "      <td>0.0</td>\n",
       "      <td>0.0</td>\n",
       "      <td>0.0</td>\n",
       "      <td>0.0</td>\n",
       "      <td>0.0</td>\n",
       "      <td>0.0</td>\n",
       "      <td>0.0</td>\n",
       "      <td>0.0</td>\n",
       "      <td>0.0</td>\n",
       "      <td>0.0</td>\n",
       "    </tr>\n",
       "    <tr>\n",
       "      <th>Allow me first of all, Sir, to congratulate you\\nwarmly on your noteworthy election as President of the\\nGeneral Assembly at its forty-ninth session. Your presence,\\ndear brother, at the head of the Assembly is clear proof of\\nthe commitment of your country, Côte d’Ivoire, to the\\ndefence of international ideals and the promotion of\\nmultilateral diplomacy. Furthermore, your personal\\ncompetence and the rich diplomatic experience you have\\nacquired over the years are a guarantee of the success of\\nour deliberations. My country, Guinea-Bissau, which holds\\none of the vice-presidencies, wishes to assure you of its\\ntotal availability and fullest cooperation.\\nOur thanks and congratulations also go to your\\nillustrious predecessor, Mr. Samuel Insanally, for the\\nwisdom with which he guided the work of the forty-eighth\\nsession.\\nWe would also like to express our congratulations to\\nthe Secretary-General, Mr. Boutros Boutros-Ghali, and to\\npay him a tribute for his tireless activity in the midst of\\nso many dramatic events.\\nThe general debate of the forty-ninth session reflects\\nthe logic of the post-cold-war period, in which the burden\\nof blocs, ideological confrontations and threats of nuclear\\nhas been lightened, thus creating favourable conditions for\\na new type of relationship between nations and peoples.\\nThe political and socio-economic changes that have\\ntaken place on the international scene undoubtedly will\\nhave repercussions on the structure and functioning of the\\nUnited Nations.\\nCreated 49 years ago, the United Nations has long\\nlived in the context of the bipolarization of blocs and of\\nideologies. Today more than ever, our Organization is\\ncalled upon to face the challenges of international politics\\nin a different way.\\nThe positive trend emerging on the international\\nlevel thanks to joint efforts by many parties to preserve\\nthis trend is nonetheless being thwarted by various\\nhotbeds of tension and conflict in different regions of the\\nworld.\\nGuinea-Bissau, aware of this fact and of its harmful\\nconsequences, is firmly committed to the promotion of a\\nnew international conscience, based on respect for human\\nvalues.\\n\\n\\nThe United Nations, in order to better respond to the\\nrequirements of our times, must take these new challenges\\ninto account and thus undertake the necessary reforms.\\nThe universally hailed end of bipolarization in\\ninternational relations has brought about a rebirth of hope\\nfor a new era of peace. Alas, the world is still the theatre\\nof tragic and unforeseeable events.\\nThe African continent is one of the regions of the\\nworld that is most affected. Drought and desertification,\\nwhich bring disorder to that continent, diminish its\\nproductive capacity and provoke famine, is now being\\ncompounded by fratricidal wars.\\nIt is no accident that in the course of recent years\\nmore than half of the peace-keeping operations of the\\nUnited Nations have taken place, unfortunately, in Africa.\\nIn Angola, the people continue to be victims of\\nsuffering and atrocities. Guinea-Bissau once again urges\\nthe parties to the conflict to fully respect the relevant\\nSecurity Council resolutions and hopes that the Lusaka talks\\nwill produce results.\\nIn Mozambique, significant progress has been\\nachieved in the efforts to establish a lasting peace. We\\nrepeat our congratulations to the Government and to the\\nResistência Nacional Moçambicana, and urge them to\\npersevere along this road, which should lead to the holding\\nof multiparty elections in the coming days.\\nIn Liberia, the situation remains virtually unchanged,\\ndespite numerous agreements concluded between the parties\\nconcerned. If it continues, this state of affairs may imperil\\nthe stability of the subregion.\\nThe situation in Rwanda and in Somalia continues to\\nbe of serious concern to my country. We urge all of the\\nparties concerned to end hostilities in favor of dialogue for\\nthe achievement of national reconciliation. My Government\\nwelcomes the international community’s unified actions on\\nbehalf of these two countries, in particular 'Operation\\nTurquoise,' undertaken by France.\\nWith regard to the situation in Western Sahara, my\\ncountry’s delegation welcomes the progress achieved and\\nsupports the efforts of the Secretary-General.\\nSimilarly, Guinea-Bissau is of the opinion that the\\nconflicts in the former Yugoslavia must be resolved through\\npeaceful negotiations.\\nThe end of apartheid and the holding of the first free\\nand democratic election in South Africa have turned a\\npage in the history of that country, which is called upon\\nto play an important role in Africa and in the world.\\nThe peace agreement signed between Israel and the\\nPalestine Liberation Organization, which provides for\\nmutual recognition by the two parties, and the agreement\\nbetween Israel and Jordan represent important steps\\ntoward the creation of lasting peace in the region.\\nConcerning the question of East Timor, we support\\nthe continuation of all initiatives undertaken under the\\nauspices of the Secretary-General with a view to bringing\\nabout a just and equitable solution.\\nRegarding Cuba, my country encourages dialogue\\nbetween the United States and that country to find a\\nsolution to the question of the embargo, the repercussions\\nof which have a major impact on the population.\\nIn the case of Haiti, we are pleased to note that after\\nmany efforts by the United Nations and the Organization\\nof American States, the fundamental rights of the Haitian\\npeople have finally been re-established and democracy\\nrestored with the return of the constitutionally elected\\nPresident, Jean-Bertrand Aristide. It is appropriate here\\nto pay tribute to the decisive role played by the United\\nStates in the implementation of Security Council\\nresolution 940 (1994).\\nRespect for human rights is a factor for peace and a\\nguarantee of international stability. The full exercise of\\nindividual rights presupposes the existence of objective\\nconditions of economic and social organization based on\\njustice and equity.\\nThe international community must promote more just\\nand constructive cooperation between States to combat the\\nperverse effects of poverty and improve material\\nconditions in the most needy countries and among the\\nmost handicapped populations.\\nWe are pleased at the results achieved by the World\\nConference on Human Rights and hope that the\\nresolutions and decisions agreed upon there will\\ncontribute to the protection and strengthening of human\\nrights.\\nLike many preceding speakers, I wish to emphasize,\\non behalf of Guinea-Bissau, that it is our firm conviction\\nthat the Republic of China in Taiwan should regain its\\n2\\n\\n\\nplace in the United Nations, on the basis of the principles\\nof parallel representation of divided countries. As a full-\\nfledged Member of the United Nations, the Republic of\\nChina in Taiwan, with its 20,000,000 inhabitants and its\\nhighly advanced stage of economic and technological\\ndevelopment, could play a preponderant role on the\\ninternational scene. We hope that at its next session, which\\nwill coincide with the celebration of the fiftieth anniversary\\nof the founding of our world Organization, the General\\nAssembly will decide to put this item on its agenda.\\nGuinea-Bissau has just carried out multiparty\\nlegislative and presidential elections, which were considered\\njust and transparent by our people and by international\\nobservers. These elections, which showed the good\\ncitizenship and maturity of the people of Guinea-Bissau,\\ntook place in a climate of exemplary civilian peace. Our\\ncountry is firmly committed to the preservation and the\\ndeepening of pluralistic democracy, a condition sine qua\\nnon for any type of lasting development.\\nAs emphasized by His Excellency João Bernardo\\nVieira, President of our Republic, at his inauguration on 29\\nSeptember this year, there were no losers in the elections in\\nGuinea-Bissau. All the people of Guinea-Bissau and our\\ncountry’s national unity, stability and development were\\nwinners.\\nAt this new stage in the history of our country we are\\nof course counting on our people’s determination, but also\\non the international community’s support.\\nWe welcome the success of the Uruguay Round and\\nthe prospects for international trade that were opened up\\nwith the signing of the Marrakesh Agreement and the\\nestablishment of the World Trade Organization. We\\nbelieve that the achievement of the objectives after more\\nthan eight years of negotiations, resulting in the Declaration\\nof Marrakesh, should have beneficial consequences for the\\ndeveloping countries, thus enabling trade to play its\\nefficient role as a motor for development.\\nWe believe that it is urgent to revise the current\\neconomic order, which strongly penalizes the developing\\ncountries. Indeed, these countries, and those of Africa in\\nparticular, are faced with the problems of the outflow of\\ncapital and the deterioration of the terms of trade, which\\nseriously compromise the economic and social development\\nof the countries of the South. This extremely painful\\nsituation is a significant cause of the developing countries’\\nexternal indebtedness.\\nThe external debt of the developing countries in\\ngeneral and of the African countries in particular remains\\nan unbearable burden for their economies and a major\\nobstacle to their development.\\nGuinea-Bissau, with the support of its principal\\neconomic partners, is continuing its efforts to find an\\nappropriate and lasting solution to the debt problem,\\nwhich has serious consequences for its socio-economic\\ndevelopment.\\nWe consider that the Organization should devote\\nspecial attention to the United Nations New Agenda for\\nthe Development of Agrica in the 1990s in order to speed\\nup the process of the socio-economic transformation of\\nthe continent. Similarly, we support the rapid\\nimplementation of the 'Agenda for Development'.\\nThe problem of desertification represents a major\\nconcern for the Government of Guinea-Bissau, a country\\nwhich, because it is located in the Sudano-Sahelian\\nregion, is faced with persistent irregularities in rainfall, as\\nwell as massive invasions of insects that destroy\\nagricultural production. In this context, our country\\nsupports the signing of an international convention to\\ncombat desertification in those countries experiencing\\nserious drought and/or desertification, particularly in\\nAfrica.\\nThe social and economic development activities of\\nthe United Nations are in our view aimed in particular at\\nthe most vulnerable groups - women, children, young\\npeople, the aged and the handicapped. The situation in\\nwhich the majority of people in the developing world are\\nnow living deserves special attention from our\\nOrganization.\\nIn fact, the solution of the problem lies in a better\\ndevelopment of North-South cooperation. If there is to be\\nprogress in the developing countries, health and education\\nsystems must be upgraded, and machinery must be\\nestablished to eradicate hunger and poverty and improve\\nliving conditions in the world.\\nWe repeat our support for the convening of the\\nWorld Summit for Social Development in 1995 and of the\\nFourth World Conference on Women, as well as the\\nPreparatory Conference in Dakar and Habitat II.\\nThe international community is capable of meeting\\nthe challenges facing it and of resolving complex\\nproblems. Our Organization has many, sometimes\\n3\\n\\n\\ndifficult, tasks to accomplish. It is our sincere wish that the\\nprocess of restructuring the United Nations system, so\\nnecessary for the revitalization of the Organization, can be\\ncompleted, so that the hopes that prevailed at the founding\\nof the United Nations will be seen in a new light when we\\ncelebrate the forthcoming fiftieth anniversary of the United\\nNations.\\n</th>\n",
       "      <td>0.000000</td>\n",
       "      <td>0.0</td>\n",
       "      <td>0.018160</td>\n",
       "      <td>0.0</td>\n",
       "      <td>0.0</td>\n",
       "      <td>0.0</td>\n",
       "      <td>0.0</td>\n",
       "      <td>0.0</td>\n",
       "      <td>0.0</td>\n",
       "      <td>0.0</td>\n",
       "      <td>...</td>\n",
       "      <td>0.0</td>\n",
       "      <td>0.0</td>\n",
       "      <td>0.0</td>\n",
       "      <td>0.0</td>\n",
       "      <td>0.0</td>\n",
       "      <td>0.0</td>\n",
       "      <td>0.0</td>\n",
       "      <td>0.0</td>\n",
       "      <td>0.0</td>\n",
       "      <td>0.0</td>\n",
       "    </tr>\n",
       "    <tr>\n",
       "      <th>It is a great pleasure to attend the beginning of\\nthis forty-ninth session of the General Assembly of the\\nUnited Nations. Now that the threat of global war is\\nreceding and local conflicts are proliferating, the untiring\\nefforts undertaken by Boutros Boutros-Ghali on behalf of\\npeace are increasingly arduous and deserve our deepest\\nappreciation.\\nMy congratulations go also to the Minister for Foreign\\nAffairs of Côte d’Ivoire, Amara Essy, who is serving as\\nPresident of this important session of the Assembly.\\nDuring its first half-century, the United Nations\\npromoted highly important diplomatic negotiations,\\nprevented disputes between nations, fostered the\\nsettlement of regional controversies and prevented global\\nconflicts. It also encountered serious limitations - and\\nwas, at times, close to paralysis - in the attainment of its\\nends. Its achievements and limitations alike have\\nreflected the world power structure prevailing since 1945,\\nas well as the efforts of its Members: countries that are\\nequal and sovereign but diverse in their beliefs, cultural\\nexpressions, geographical endowments and levels of\\ndevelopment.\\nThe United Nations is a child of its times, of the\\nperiod following the Second World War. It was born\\nwith a mission to work for world peace and security and\\nfor development. At that time, peace meant avoiding the\\nnuclear conflagration toward which the bipolar arms race\\nhad been sweeping us since the 1950s. Global security\\nthen meant avoiding the escalation of peripheral conflicts\\ninto which the nuclear Powers could be drawn. At that\\ntime also, world development depended on financing for\\nrecovery and, therefore, on the recycling of resources by\\nthe victorious Powers, which were net exporters of\\ncapital, in the form, very often, of 'international aid'.\\nThat peace, that security and that concept of development\\nare no longer with us.\\nToday, without the bipolar balance of power and\\nfaced with the intense financial competition and the\\nregional ethnic and religious conflicts of recent years, we\\nrecognize that there are other ways in which the United\\nNations should promote peace, security and development,\\nas set forth in its founding Charter. Now, at the end of\\nanother war - the cold war - it is time to recognize a new\\ncontent in the objectives of our world Organization and\\nnew conditions for providing deep-rooted, lasting\\nresponses to the aspirations for justice and well-being\\nshared by all mankind.\\nWhat kinds of peace, development and solidarity are\\nrequired at the end of this century? Today\\ninternationalization of the economy is increasingly\\npronounced and the cultural plurality of nations is being\\nmanifested by the heightening of tensions in relations\\nbetween groups, countries and regions. The major\\ndilemmas of our times therefore stem from profound\\ncomplexities in the economic and political spheres and in\\nthe opportunities open to all peoples to attain a decent\\nstandard of living. Thus, it is essential to find and apply\\nnew solutions to the problems resulting from the end of\\nthe bipolar confrontation and from the new economic\\n10\\n\\n\\ncontests between powerful regions, whose effects\\nsometimes have an even greater impact on nations remote\\nfrom these centres of finance and trade. Today the answers\\nlie not in weapons, but in the will to build consensus; not\\nin interference, but in the ability to coordinate development\\npolicies within a framework of fair competition, ruled by\\nstandards recognized by all participants.\\nIn building up new hope, we must unquestionably\\npersevere in our efforts to eradicate the nuclear threat and\\nthe risks posed by chemical and biological weapons and the\\narms race. Mexico has always taken part in contributing to\\nreducing those dangers. My country is pleased at the recent\\naccession by Argentina, Brazil and Chile to the Treaty of\\nTlatelolco, and by the forthcoming accession announced by\\nCuba, which fulfil the Latin American ideal of inhabiting\\na nuclear-weapon-free region. We should now continue the\\nnegotiations on, and put into effect, the comprehensive\\nnuclear-test-ban treaty and the Convention on chemical\\nweapons, signed in January 1993 and thus far ratified by a\\nmere 14 States.\\nBut this is not sufficient. In the political sphere, we\\nface the challenge of keeping the peace while maintaining\\nrespect for the sovereignty of nations and for their cultural\\ndiversity and political plurality, which, far from succumbing\\nto interference or being diluted into uniformity, demand\\ntheir own spaces, both within our countries and within the\\nUnited Nations. Faced with a painful experience in\\nChiapas, in the south of our country, Mexico turned the\\narmed challenge with which we were confronted on 1\\nJanuary into political dialogue 10 days later; it listened\\ncarefully to the voices of the neediest and committed itself\\nto finding a political way to solve their problems through\\ndialogue and in freedom, instead of attempting to crush the\\nuprising, as was the custom throughout the world during the\\ncold-war period. This is the spirit of political dialogue and\\npeace with honour required by the new era; this is the path\\nof new hope.\\nThe world has certainly seen many achievements in\\nrecent times. Mexico welcomes the progress made in\\nnegotiations leading to lasting peace in various parts of the\\nworld, especially in the Middle East. It would also like to\\nexpress, once again, its satisfaction at the end of apartheid\\nin South Africa and at the establishment of a democratic\\nGovernment in that country.\\nMexico will continue its enthusiastic and unwavering\\nsupport for the peace processes in Central America and\\ncongratulates the parties involved, which are making\\nprogress along the path of dialogue and negotiation. As a\\nmember of the group of countries that are friends of the\\nSecretary-General, Mexico has taken part in the efforts to\\narrange direct talks to put an end to conflicts between\\nLatin American sister countries. That is precisely the\\npath that might be followed, through the dialogue\\nreopened regarding illegal migration, to put an end to the\\nlongstanding differences in the hemisphere between the\\nUnited States and Cuba, within a framework of full\\nrespect for the sovereignty and the right to\\nself-determination of the Cuban people.\\nWith regard to the crisis in Haiti, Mexico reiterates\\nits commitment to the re-establishment of the\\nconstitutional and democratic order. It also reiterates the\\nneed to give preference to peaceful and diplomatic means\\nabove all others, as well as to foster specific forms of\\ncooperation to ensure better living standards for the\\nHaitian people, for without them democratic institutions\\nwill be weak and short-lived.\\nThe use of force and the threat of its use, when\\nworld peace is not in danger, are no longer valid means\\nfor sovereign nations to achieve their goals. What are\\nneeded instead are economic exchanges, political dialogue\\nand a common willingness to recognize and respect one\\nanother, unconditionally and without exception. With that\\nwillingness, which will benefit us all because it commits\\nus all, we can undertake thorough reforms of international\\norganizations, and in particular of the United Nations.\\nRecognition of plurality, respect for sovereignty and the\\nreaching of consensual accords are also bases on which\\nthe United Nations can construct new forms of\\ncooperation and technical assistance aimed at\\nconsolidating democracy and at achieving the effective\\nprotection of human rights.\\nAs a form of political organization of peoples,\\ndemocracy is certainly the best way to facilitate\\ndevelopment with justice; it is also the system which best\\nguarantees respect for human rights. For the civil and\\npolitical rights recognized by the vast majority of the\\nMembers of our Organization to be fully effective,\\neconomic conditions in which all individuals can develop\\ntheir potential are required. Hunger and unemployment,\\ndrug-trafficking and the depletion of natural resources,\\nforced migrations and new forms of trade protectionism\\nimpair development and the full exercise of human rights\\nand hinder the democratic participation of individuals in\\nshaping their own destinies. Therefore, coordinated\\naction by nations to deal with these grave problems of our\\ntimes can help to broaden political participation and\\n11\\n\\n\\nensure better conditions to improve well-being and provide\\nfor the protection of human rights.\\nThe efforts made thus far by the United Nations in\\nthis field - such as the creation of the post of High\\nCommissioner for human rights - are notable but still\\ninsufficient. Reconsidering the question of the defence of\\nhuman rights and the strengthening of democracy also\\ninvolves reconsidering the issue of development on the\\nbasis of fair access to markets, capital and new technolo-\\ngies. It is not by chance that democratic stability flourishes\\nwhere there is economic stability and growth; nor is it by\\nchance that more human rights violations occur where the\\npopulation is prey to poverty, illiteracy and disease.\\nMaking progress in democracy and respect for human rights\\nrequires new efforts to eradicate inequalities between\\nindividuals, groups, peoples and nations.\\nIn the economic sphere, we are facing both the\\nchallenges and the opportunities posed by interdependence\\nand globalization. We must now make progress in the\\nharmonization of financial, technological and production\\npolicies within the world economy in order to achieve\\ngeneralized growth. We are well aware that the\\ndevelopment of the most industrialized nations may prove\\nto be insufficient without sustained growth in the\\ndeveloping countries. In the coming years the most\\nimportant growth of markets for the products of\\nindustrialized nations will occur in the developing countries.\\nWe know, too, that aid may prove to be ineffective and\\ninsufficient, when the basic need is to move toward equality\\nof opportunities worldwide by opening markets to the\\nproducts of developing countries.\\nIn the past few years the world has undergone a\\ntransition toward a liberalization of trade that is\\nunprecedented in modern history. This movement toward\\ntrue globalization, in which a large number of developing\\ncountries are participating for the first time, is indicative of\\nthe renewed confidence of nations in their capacity to\\ncompete and gain integration into world markets. This new\\nliberalization is also a reason for us to feel optimistic that\\nfreer trade will contribute to the eradication of poverty.\\nMore trade will translate into more and better jobs.\\nNevertheless, there are still obstacles that must be\\novercome: we must be wary of new protectionist trends;\\nwe must recognize that the new financial resources are still\\ninsufficient for the needs of the developing countries and\\nthat many of those countries continue to experience less\\nfavourable terms of trade as well as instability in interest\\nrates. The challenge we face is to eliminate conditions that\\nimpede the free circulation of goods and services, that\\nlimit the creation of jobs and produce growing migration,\\nthat exacerbate xenophobic attitudes and that stand in the\\nway of world recovery.\\nTo that end, we must consolidate the present opening\\nof markets to competition. No instrument will be of\\ngreater assistance in attaining that goal than the launching\\nof the World Trade Organization, which will complement\\nthe Bretton Woods institutions. It is essential for us first\\nto guarantee that the results of the Uruguay Round are\\nratified by countries that have not yet done so, and\\nsubsequently to ensure the effective functioning of the\\nnew world-trade system.\\nToday, it is essential to maintain and expand large\\nfree-trade areas and, in the new organization of world\\ntrade, to build new forms of coordination and cooperation\\nso that free-trade areas will act as an impetus rather than\\nan obstacle to world trade. As progress is made in trade\\nagreements and treaties, it is imperative to recognize the\\nasymmetries between nations and to avoid conditioning\\ntrade on such matters as labour and environmental issues,\\nwhich, although legitimate aspects of trade, can be used\\nartificially to conceal new forms of protectionism. These\\nactions comprise the major tasks on our economic agenda\\nfor the end of this century.\\nIn the sphere of social justice - an element essential\\nto peace - there is in the world a long-standing social debt\\nstill to be paid. If we fail to pay it, it will be utopian to\\nthink of progress in democracy or any widespread and\\nenduring peace and security. To settle that debt, the\\nUnited Nations must grant clear priority to development\\nand cooperation within a framework of multilateral action,\\nrather than giving priority to actions backed by arms to\\nmaintain security. We have before us the opportunity to\\nreorder our priorities as we deal at this forty-ninth session\\nof the General Assembly with the topic of a new Agenda\\nfor Development, and thereby to move toward lasting\\npeace based on comprehensive, balanced worldwide de-\\nvelopment.\\nFully achieving development also presupposes the\\nsustainable use of natural resources and the maintenance\\nof the fragile balance of ecosystems that are frequently\\noverexploited, resulting in the impoverishment of those\\nliving under such systems. Here, the Agenda drawn up\\nby the United Nations at the historic summit in Rio de\\nJaneiro continues to be more an aspiration than a reality.\\nIt is imperative to move on from words to deeds. In next\\nyear’s summit on social development, there will be a new\\n12\\n\\n\\nopportunity to respond to this link between environment\\nand development, which is essentially one of justice.\\nIn brief, we need a major cultural change based on a\\nsimple truth: political pluralism within countries and\\namong nations is not a hypothesis; it is a reality that defines\\nand characterizes all human groups. Consequently, Mexico\\nstresses its opposition to illusory assumptions that\\nsovereignty is a vanishing concept. The globalization of\\nthe economy, an undeniable fact in our times, must be\\nreconciled with the existence of diverse and sovereign\\nnations whose status and will to exist cannot be denied,\\nmuch less violated, without seriously jeopardizing peace.\\nOnly on the basis of recognizing and respecting\\npluralism will we be able to implant new and better world\\nmechanisms for coordinating economic matters to achieve\\na better distribution of capital, technology and joint forms\\nof production. Only on the basis of respect for the\\nsovereignty of each nation and the right of all peoples to\\nself-determination will we be able to build a broader and\\nmore enduring political consensus. Only on the basis of\\nthis awareness and of renewed solidarity will we be able to\\nsustain action aimed at achieving effective justice in social\\nmatters.\\nWith this approach to the future, we will be able to\\naddress existing imbalances by taking shared responsibility\\nfor just and civilized coexistence. In brief, it is a question\\nof adopting and recognizing pluralism as an expression of\\nfreedom, and justice as an essential prerequisite for security\\nin the coexistence of nations.\\nIn Mexico, this approach is called social liberalism.\\nIt has served as a guide for the changes that we have\\nundertaken to respond appropriately to the challenges of our\\ntimes. A product of our history and of our shared universal\\naspiration to justice, social liberalism has led us to\\nundertake far-reaching democratic reform, changes in our\\neconomic structures, a frontal attack on poverty, and a new\\nlinkage between Mexico and the world. We are forging a\\nreformed State that depends not on its size but on its\\neffectiveness in achieving, with freedom, conditions of\\ngreater justice.\\nIn 1990 I spoke to this Assembly about the objectives\\nof Mexican change. Today we have results that strengthen\\nour hopes and give us a better understanding of world\\nchallenges. From social liberalism comes the difficult but\\ngratifying task of building new forms of political consensus\\nto make progress in democracy; from it come the enormous\\nefforts made to correct our macroeconomic imbalances and\\nimprove the competitiveness of our country; from it too\\nstems the consolidation of our Programme of Solidarity\\nto benefit those who have least; from it come our efforts\\nto make environmental protection a component of\\ndevelopment; and from it come our economic\\ndiversification abroad, our entry into organizations such\\nas the Asia-Pacific Economic Cooperation Council, the\\nestablishment of the North American Free Trade\\nAgreement and similar agreements within Latin America,\\nand our membership of the Organization for Economic\\nCooperation and Development, in which new forms of\\ninternational agreement and cooperation are being\\ndeveloped.\\nRecently, Mexico’s federal elections proved to be an\\nenriching democratic experience. More than 36 million\\ncitizens participated in the elections, which is to say,\\nmore than 77 per cent of registered voters. They were\\nthe elections most closely monitored by political parties,\\nnational observers and international visitors in our history.\\nThe Mexican people opted for legality and peace. Here,\\nI wish to express my gratitude for the technical support\\nprovided by the Secretariat of the United Nations, at the\\nrequest of the Mexican Government, in training and\\nadvising groups of Mexican election observers.\\nToday it is no longer possible to pursue peace,\\nsecurity and development as isolated goals, whether in the\\ninternational order or at the national level. The new\\nworld balance calls for new mentalities and new\\npriorities: a reordering of international realities in\\naccordance with rules agreed upon on the basis of respect\\nfor the sovereignty of each nation and recognition of the\\npluralities of peoples. The new vision turns differences\\ninto opportunities, opposing views into dialogue and\\ncooperation and demands for justice into a commitment\\nof solidarity among peoples.\\nOur times call for making development a priority for\\nworld peace and security by encouraging global policies\\nof financial coordination and free trade with clear and\\nequitable rules; by recognizing nature as an ally in the\\ndevelopment of each nation, and the equally shared\\nresponsibility of all nations in maintaining global\\nbalances; and by deploying information networks to\\neffectively combat drug-trafficking and terrorism, which\\nconstitute attacks on the security of all. Fundamentally,\\nour times call for the uniting of all our efforts, in\\ndemocracy and freedom, to reduce poverty in the world.\\nOtherwise there can be no possibility of peace and no\\nlasting security.\\n13\\n\\n\\nThese new imperatives express not only enormous\\nneeds but also the aspiration for the equality of nations in\\nthe building of a future that will hold promise only if it\\nbelongs to all of us. That is the meaning of 'international\\ncommunity' as embodied in the Charter of San Francisco:\\na future that no one has the right to deny to future\\ngenerations.\\nToday, as then, peace can be preserved only through\\nthe observance of law; today, more than in the past,\\nsecurity requires the greatest development of every nation,\\nevery country, so that together we can make a reality of the\\nhope for a common future. The United Nations - our\\nOrganization - continues to be the forum par excellence for\\nthe achievement of those noble goals.\\n</th>\n",
       "      <td>0.000000</td>\n",
       "      <td>0.0</td>\n",
       "      <td>0.000000</td>\n",
       "      <td>0.0</td>\n",
       "      <td>0.0</td>\n",
       "      <td>0.0</td>\n",
       "      <td>0.0</td>\n",
       "      <td>0.0</td>\n",
       "      <td>0.0</td>\n",
       "      <td>0.0</td>\n",
       "      <td>...</td>\n",
       "      <td>0.0</td>\n",
       "      <td>0.0</td>\n",
       "      <td>0.0</td>\n",
       "      <td>0.0</td>\n",
       "      <td>0.0</td>\n",
       "      <td>0.0</td>\n",
       "      <td>0.0</td>\n",
       "      <td>0.0</td>\n",
       "      <td>0.0</td>\n",
       "      <td>0.0</td>\n",
       "    </tr>\n",
       "    <tr>\n",
       "      <th>Your election,\\nSir, to the presidency of the forty-ninth session of the\\nAssembly marks an important moment for your country,\\nCôte d’Ivoire, and for the entire African continent. I have\\nthe honour to convey to you the warmest wishes of the\\npeople and Government of Andorra. I also take this\\nopportunity to express appreciation of the great\\naccomplishments of your predecessor, Ambassador\\nInsanally.\\n7\\n\\n\\nI am speaking before you here only a few hours\\nbefore the official opening of the Permanent Mission of the\\nPrincipality of Andorra to the United Nations, the first\\ndiplomatic Mission of Andorra anywhere in the world.\\nThis Permanent Mission is the embodiment of the will of\\nthe Andorran people to participate actively in the\\nimplementation of the ideals of the United Nations Charter.\\nOn the eve of the fiftieth anniversary of the founding\\nof this Organization, our Mission will work towards the\\nachievement of important goals. For one thing, it will\\nmake careful preparation for the World Summit on Social\\nDevelopment to be held in Copenhagen. The objectives of\\nthat Summit - namely, to find ways to reduce poverty,\\nenhance employment opportunities and strengthen social\\nintegration - are particularly important in relation to the\\nnew possibilities for development under consideration by\\nthe Secretary-General in his 'Agenda for Development'.\\nFor another thing, Andorra will take part, with the greatest\\ninterest, in the work of the Third Committee, whose\\nactivities support our historic devotion to respect for human\\nrights. I wish also to take this opportunity to acknowledge\\nthe commendable work of the new United Nations High\\nCommissioner for Human Rights, Ambassador Ayala Lasso.\\nAs president of the United States, John Fitzgerald\\nKennedy stood before the Berlin Wall and pronounced that\\nfamous phrase, 'Ich bin ein Berliner' ('I am a Berliner').\\nAnd for people everywhere in the world who listened to\\nhim on that historic occasion, the word 'Berliner' was\\nunderstood to mean 'a defender of freedom'.\\nFor those countries whose culture expresses itself in\\nthe Catalan language, a similar moment has become equally\\nhistoric. I speak of the day when the distinguished\\nmusician and universally recognized artist Paul 'Pablo'\\nCasals boldly affirmed, here at the General Assembly of the\\nUnited Nations, before Secretary-General U Thant: 'I am\\nCatalan'. Everyone understood immediately that, with\\nthese words, he was beginning a song of liberty and\\ndeclaring himself to be the son of a people filled with\\nrespect for others, a people who had created one of the\\noldest parliamentary and democratic systems in the world,\\nas he stated in his dedication to the cause of peace. Let us\\nremember that the hymn of the United Nations, the Hymn\\nto Peace, is his work, and that it was played for the first\\ntime, with lyrics by the poet W. H. Auden, on\\n27 October 1971.\\nAllow me today to humbly join two such important\\nand respected figures and proclaim, in the same spirit and\\nwith the same passion, 'I am an Andorran'. And I hope\\nthat this expression will have the same meaning for you\\nas the earlier assertions, and not seem to be a childish and\\nself-centred show of pride, for throughout the centuries\\nour ancient and small State has always demonstrated its\\nlove of freedom, its will to contribute to balance and\\nharmony, and its concern to maintain peace.\\nIt has been a little more than a year since Andorra\\nbecame a Member of the United Nations, following the\\napproval of our Constitution and the full adaptation of our\\nmodel of statehood to that befitting a State under modern\\nlaw. Because of this, and because of the fact that we are\\nthe last of the four small, historically independent\\nEuropean States - the others being Liechtenstein, San\\nMarino and Monaco - to have become Members of the\\nUnited Nations, it seems that this is an appropriate\\noccasion on which to reflect on the possible contributions\\nof micro-States to the family of nations.\\nIt is evident that in a world in which great\\noperations must be performed on a grand scale, the\\nsimple fact of our existence might appear anachronistic or\\nirrelevant. Indeed, at a time when the establishment of\\nthe World Trade Organization points towards the end of\\nprotectionism, and the North American Free Trade\\nAgreement, the Asia-Pacific Economic Cooperation\\nCouncil, and the European Union herald the creation of\\nlarge areas in which there is free circulation of goods and\\nservices, one might well question the need for the\\ncontinued existence of a number of small States which\\noften find themselves surrounded, as in our case, by large\\nsupranational entities such as the European Union.\\nYet I believe that as we move towards integration,\\nit becomes more than ever necessary to respect and\\npreserve the identities of micro-States. It is clear that\\nthese identities are not measured in terms of size, nor do\\nthey allow for the subordination of a minority within a\\nmajority, of a smaller collective identity within another\\nthat is demographically larger.\\nAs democracy consists of government by the\\nmajority and the respect of minorities, on the international\\nstage the politics of large blocs and of great Powers must\\nbe compatible with the recognition of groups which,\\nthough smaller, must not be relegated in any way to a\\nstatus that is discriminatory nor must they be considered\\nless than what they are.\\nIt is evident that all small States - and probably a\\nquarter of those represented here are small States in one\\nway or another - have clear limitations. It is evident also\\n8\\n\\n\\nthat the contribution of great Powers to the establishment\\nand the preservation of world order is, and must be,\\ndecisive. But it is also true that, beyond their limitations,\\nsmall States have qualities that humanity cannot do without,\\nespecially at the present time when many peace and\\nreconciliation processes have not been resolved and remain\\nin need of great generosity, comprehension, tolerance and\\na will to compromise.\\nBy their very nature, micro-States must, in an intrinsic\\nand essential way, have respect for diversity and mutual\\nharmony. Precisely because of their small size, they have\\nlearned in the long course of history that durable solutions\\ncannot be imposed, and that the core of the differences\\ncannot be eliminated. More powerful States can gain useful\\nknowledge from their experience, built upon a wisdom that\\nonly centuries can provide. This is even more pertinent\\ntoday, when the great Powers have begun to show a certain\\nself-restraint, having discovered that while the use of force\\nmight postpone a conflict, it cannot be the basis for a\\nlasting solution. May the great Powers of the world be\\nguided by the rules of conduct that micro-States have been\\ncompelled to adopt, and may the necessity of the small be\\nthe virtue of the large. To propose rather than impose, to\\nnegotiate rather than to compel, to discuss rather than\\ndictate, to reconcile rather than radicalize, to respect rather\\nthan humiliate, to cooperate rather than exploit, and to\\nrefrain rather than abuse: those are the rules of conduct\\ndear to the small States, characteristics which appear to be\\nincreasingly necessary in many regions of our planet, if\\nwhat we want is for the people of the world to live together\\nin dignity and fight together against hunger, poverty,\\ndisease and the negative effects of the demographic\\nexplosion.\\nIt is for this reason, that I venture to call the attention\\nof the members of the Assembly to the virtues of the\\nmicro-States and to ask them to consider whether they\\nmight not make them their own. It is simply a question of\\nthe great nations making an imaginative effort to put\\nthemselves in the place of those who possess neither\\nmilitary power nor human and economic resources to\\nimpose on others, and consequently to realize that problems\\nmay be approached in another way, with probably better\\nguarantees for a successful outcome.\\nThis approach finds its origin in the strictest respect\\nfor the identity of others, of their collective personality and\\nall the features that contribute to it, as well as their culture;\\nfor culture is always an element of integration. And it is\\nprecisely the balance of cultures and their interaction which\\nis the basis for peaceful coexistence, which is in itself\\nconsiderable, and even more for a cordial and fraternal\\nlife together. Let us therefore forget the worries of\\nassimilation and the belief in the superiority of the\\nmajority, and let us try to organize life together with\\nmutual respect, something that becomes increasingly\\nimportant in a world under great pressure from\\ndemographic change and immigration.\\nAllow me to refer to my country, the Principality of\\nAndorra, which with a population of only 61,000\\ninhabitants has three different educational systems -\\nAndorran, French, and Spanish - three quarters of its\\npopulation being immigrants, and a small territory stuck\\nlike an island in the middle of the European Union. And\\nI believe that a study of some of the balances that exist in\\nAndorra might be useful to efforts in southern Africa, in\\nthe Middle East, or in other parts of Europe and the\\nworld where people are struggling to bring about peace.\\nThink, likewise, of the great worries of our times,\\nwhere the drug trafficking and organized crime have led\\nto a dramatic deterioration in urban safety. Members\\nmight agree with me that the affirmation 'small is\\nbeautiful' might appear excessive, but it nevertheless\\nguarantees a level of security far greater than that which\\nexists in the enormous urban conurbations of more\\ndeveloped countries.\\nI should like further to call the Assembly’s attention\\nto the urgency of the task of protecting the environment,\\nand the defence of nature. Members might agree with me\\nthat a smaller territory is much easier to manage,\\naccording to environmental criteria, and consequently that\\nthere is less chance of environmental abuse. In the same\\nway, the scarcity of human resources probably makes us\\nmore inclined to consider the problems that we shall\\ndiscuss at the World Summit on Social Development in\\nCopenhagen, namely, individual problems of marginalized\\npeople, of those that cannot follow the competitive\\nmajority in the apparent flow of progress, of the disabled,\\nthe sick, and, in general, all those in need of solidarity.\\nI know that in a forum such as this Christian\\nindividualism is just a partial approach to these questions,\\nbut I am convinced that, with a translation into other\\ncultures or religions, on a small scale it is much easier to\\ngive a personal answer to the problems of the many. And\\nalso, in general terms, I think that this philosophy is the\\none that often inspires solidarity movements, as is the\\ncase today in Rwanda, where, for example, the spirit of\\ncollective life common to small communities might have\\nprevented conflict.\\n9\\n\\n\\nIn a world that is increasingly interdependent, and\\nincreasingly globalized, I sincerely believe that the\\nmicro-States, although indeed small, are not superfluous.\\nAnd we can even make useful contributions and be points\\nof reference in many cases. Sovereign States are\\nincreasingly affected by the sovereignty of others and by\\nnecessary international agreements; but freedom, and the\\nspirit of solidarity are more important than sovereignties or\\nborders.\\nI ask the Assembly therefore to consider the possibility\\nthat we all make an effort to act like micro-States: we who\\nare micro-States, and therefore have no alternative, and\\nthose who are not, because they have come to the\\nconclusion that this is the way we will all be able, together,\\nto contribute more positively to peace, progress and\\ncoexistence. And as from the sum of small streams of\\nwater the big rivers are born, perhaps from the sum of\\nsmall identities and from respect for others and minorities,\\nwe may be able to build together a more equitable, a more\\nsecure and a more livable world for us, for our children,\\nand for generations to come.\\n</th>\n",
       "      <td>0.000000</td>\n",
       "      <td>0.0</td>\n",
       "      <td>0.009331</td>\n",
       "      <td>0.0</td>\n",
       "      <td>0.0</td>\n",
       "      <td>0.0</td>\n",
       "      <td>0.0</td>\n",
       "      <td>0.0</td>\n",
       "      <td>0.0</td>\n",
       "      <td>0.0</td>\n",
       "      <td>...</td>\n",
       "      <td>0.0</td>\n",
       "      <td>0.0</td>\n",
       "      <td>0.0</td>\n",
       "      <td>0.0</td>\n",
       "      <td>0.0</td>\n",
       "      <td>0.0</td>\n",
       "      <td>0.0</td>\n",
       "      <td>0.0</td>\n",
       "      <td>0.0</td>\n",
       "      <td>0.0</td>\n",
       "    </tr>\n",
       "  </tbody>\n",
       "</table>\n",
       "<p>3214 rows × 41133 columns</p>\n",
       "</div>"
      ],
      "text/plain": [
       "                                                           0   00       000  \\\n",
       "speech_text                                                                   \n",
       "﻿It is indeed a pleasure for me and the members...  0.016978  0.0  0.000000   \n",
       "﻿\\nMay I begin by congratulating you. Sir, on y...  0.009820  0.0  0.014246   \n",
       "﻿\\nMr. President, it is a particular pleasure f...  0.000000  0.0  0.000000   \n",
       "﻿\\nDuring the debate at the fortieth session of...  0.000000  0.0  0.000000   \n",
       "﻿I should like at the outset to express my dele...  0.000000  0.0  0.000000   \n",
       "...                                                      ...  ...       ...   \n",
       "I should like to congratulate\\nMr. Essy on his ...  0.000000  0.0  0.000000   \n",
       "It is with pleasure that I begin this speech by...  0.000000  0.0  0.000000   \n",
       "Allow me first of all, Sir, to congratulate you...  0.000000  0.0  0.018160   \n",
       "It is a great pleasure to attend the beginning ...  0.000000  0.0  0.000000   \n",
       "Your election,\\nSir, to the presidency of the f...  0.000000  0.0  0.009331   \n",
       "\n",
       "                                                    0001  000yearlong  001  \\\n",
       "speech_text                                                                  \n",
       "﻿It is indeed a pleasure for me and the members...   0.0          0.0  0.0   \n",
       "﻿\\nMay I begin by congratulating you. Sir, on y...   0.0          0.0  0.0   \n",
       "﻿\\nMr. President, it is a particular pleasure f...   0.0          0.0  0.0   \n",
       "﻿\\nDuring the debate at the fortieth session of...   0.0          0.0  0.0   \n",
       "﻿I should like at the outset to express my dele...   0.0          0.0  0.0   \n",
       "...                                                  ...          ...  ...   \n",
       "I should like to congratulate\\nMr. Essy on his ...   0.0          0.0  0.0   \n",
       "It is with pleasure that I begin this speech by...   0.0          0.0  0.0   \n",
       "Allow me first of all, Sir, to congratulate you...   0.0          0.0  0.0   \n",
       "It is a great pleasure to attend the beginning ...   0.0          0.0  0.0   \n",
       "Your election,\\nSir, to the presidency of the f...   0.0          0.0  0.0   \n",
       "\n",
       "                                                    006  007  009  00tmunity  \\\n",
       "speech_text                                                                    \n",
       "﻿It is indeed a pleasure for me and the members...  0.0  0.0  0.0        0.0   \n",
       "﻿\\nMay I begin by congratulating you. Sir, on y...  0.0  0.0  0.0        0.0   \n",
       "﻿\\nMr. President, it is a particular pleasure f...  0.0  0.0  0.0        0.0   \n",
       "﻿\\nDuring the debate at the fortieth session of...  0.0  0.0  0.0        0.0   \n",
       "﻿I should like at the outset to express my dele...  0.0  0.0  0.0        0.0   \n",
       "...                                                 ...  ...  ...        ...   \n",
       "I should like to congratulate\\nMr. Essy on his ...  0.0  0.0  0.0        0.0   \n",
       "It is with pleasure that I begin this speech by...  0.0  0.0  0.0        0.0   \n",
       "Allow me first of all, Sir, to congratulate you...  0.0  0.0  0.0        0.0   \n",
       "It is a great pleasure to attend the beginning ...  0.0  0.0  0.0        0.0   \n",
       "Your election,\\nSir, to the presidency of the f...  0.0  0.0  0.0        0.0   \n",
       "\n",
       "                                                    ...    у  хxi24    ч    ш  \\\n",
       "speech_text                                         ...                         \n",
       "﻿It is indeed a pleasure for me and the members...  ...  0.0    0.0  0.0  0.0   \n",
       "﻿\\nMay I begin by congratulating you. Sir, on y...  ...  0.0    0.0  0.0  0.0   \n",
       "﻿\\nMr. President, it is a particular pleasure f...  ...  0.0    0.0  0.0  0.0   \n",
       "﻿\\nDuring the debate at the fortieth session of...  ...  0.0    0.0  0.0  0.0   \n",
       "﻿I should like at the outset to express my dele...  ...  0.0    0.0  0.0  0.0   \n",
       "...                                                 ...  ...    ...  ...  ...   \n",
       "I should like to congratulate\\nMr. Essy on his ...  ...  0.0    0.0  0.0  0.0   \n",
       "It is with pleasure that I begin this speech by...  ...  0.0    0.0  0.0  0.0   \n",
       "Allow me first of all, Sir, to congratulate you...  ...  0.0    0.0  0.0  0.0   \n",
       "It is a great pleasure to attend the beginning ...  ...  0.0    0.0  0.0  0.0   \n",
       "Your election,\\nSir, to the presidency of the f...  ...  0.0    0.0  0.0  0.0   \n",
       "\n",
       "                                                    ш1оп  ш1ь1а    щ    ь  \\\n",
       "speech_text                                                                 \n",
       "﻿It is indeed a pleasure for me and the members...   0.0    0.0  0.0  0.0   \n",
       "﻿\\nMay I begin by congratulating you. Sir, on y...   0.0    0.0  0.0  0.0   \n",
       "﻿\\nMr. President, it is a particular pleasure f...   0.0    0.0  0.0  0.0   \n",
       "﻿\\nDuring the debate at the fortieth session of...   0.0    0.0  0.0  0.0   \n",
       "﻿I should like at the outset to express my dele...   0.0    0.0  0.0  0.0   \n",
       "...                                                  ...    ...  ...  ...   \n",
       "I should like to congratulate\\nMr. Essy on his ...   0.0    0.0  0.0  0.0   \n",
       "It is with pleasure that I begin this speech by...   0.0    0.0  0.0  0.0   \n",
       "Allow me first of all, Sir, to congratulate you...   0.0    0.0  0.0  0.0   \n",
       "It is a great pleasure to attend the beginning ...   0.0    0.0  0.0  0.0   \n",
       "Your election,\\nSir, to the presidency of the f...   0.0    0.0  0.0  0.0   \n",
       "\n",
       "                                                    ьо1л    ю  \n",
       "speech_text                                                    \n",
       "﻿It is indeed a pleasure for me and the members...   0.0  0.0  \n",
       "﻿\\nMay I begin by congratulating you. Sir, on y...   0.0  0.0  \n",
       "﻿\\nMr. President, it is a particular pleasure f...   0.0  0.0  \n",
       "﻿\\nDuring the debate at the fortieth session of...   0.0  0.0  \n",
       "﻿I should like at the outset to express my dele...   0.0  0.0  \n",
       "...                                                  ...  ...  \n",
       "I should like to congratulate\\nMr. Essy on his ...   0.0  0.0  \n",
       "It is with pleasure that I begin this speech by...   0.0  0.0  \n",
       "Allow me first of all, Sir, to congratulate you...   0.0  0.0  \n",
       "It is a great pleasure to attend the beginning ...   0.0  0.0  \n",
       "Your election,\\nSir, to the presidency of the f...   0.0  0.0  \n",
       "\n",
       "[3214 rows x 41133 columns]"
      ]
     },
     "execution_count": 33,
     "metadata": {},
     "output_type": "execute_result"
    }
   ],
   "source": [
    "un_tfidf_df"
   ]
  },
  {
   "cell_type": "markdown",
   "metadata": {},
   "source": [
    "### Word Frequencies Exercise 4\n",
    "\n",
    "Create a tf-idf dataframe from the wine speeches.\n"
   ]
  },
  {
   "cell_type": "code",
   "execution_count": null,
   "metadata": {},
   "outputs": [],
   "source": []
  }
 ],
 "metadata": {
  "kernelspec": {
   "display_name": "Python 3",
   "language": "python",
   "name": "python3"
  },
  "language_info": {
   "codemirror_mode": {
    "name": "ipython",
    "version": 3
   },
   "file_extension": ".py",
   "mimetype": "text/x-python",
   "name": "python",
   "nbconvert_exporter": "python",
   "pygments_lexer": "ipython3",
   "version": "3.8.3"
  }
 },
 "nbformat": 4,
 "nbformat_minor": 2
}
