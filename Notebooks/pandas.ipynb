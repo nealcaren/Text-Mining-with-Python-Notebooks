{
 "cells": [
  {
   "cell_type": "markdown",
   "metadata": {
    "slideshow": {
     "slide_type": "skip"
    }
   },
   "source": [
    "# pandas\n",
    "\n",
    "This section provides a brief introduction to pandas. The pandas library is a key component for performing data science in Python for a number of reasons. First (and most importantly), it provides two data types, series and data frame, that allow you to store and manipulate data in a way that is useful for analysis. Second, it is incredibly useful for importing and exporting data in a wide variety of formats. Finally, it allows users to generate descriptive analyses, including both summary statistics and visualizations. This section provides an introduction to the main capabilities of pandas relevant to data analysis. "
   ]
  },
  {
   "cell_type": "markdown",
   "metadata": {
    "slideshow": {
     "slide_type": "skip"
    }
   },
   "source": [
    "Most of the things that you will want to do in Python require importing libraries. By convention, pandas is imported as `pd`. Additionally, we enable the ability for pandas graphics to be displayed within the notebook with `%matplotlib inline`. "
   ]
  },
  {
   "cell_type": "code",
   "execution_count": 3,
   "metadata": {
    "slideshow": {
     "slide_type": "slide"
    }
   },
   "outputs": [],
   "source": [
    "%matplotlib inline\n",
    "\n",
    "import pandas as pd"
   ]
  },
  {
   "cell_type": "markdown",
   "metadata": {
    "slideshow": {
     "slide_type": "slide"
    }
   },
   "source": [
    "# Reading data"
   ]
  },
  {
   "cell_type": "markdown",
   "metadata": {
    "slideshow": {
     "slide_type": "slide"
    }
   },
   "source": [
    "In the summer of 2017, the Washington Post produced a [report](https://www.washingtonpost.com/graphics/2018/investigations/unsolved-homicide-database/) on murder clearance rates in U.S. cities. The also released the [data](https://github.com/washingtonpost/data-homicides) they collected on Github as a csv file. We can create a new dataframe, called `df`, using the [pandas](https://pandas.pydata.org/pandas-docs/stable/generated/pandas.read_csv.html) `read_csv` method.  "
   ]
  },
  {
   "cell_type": "code",
   "execution_count": 4,
   "metadata": {
    "slideshow": {
     "slide_type": "fragment"
    }
   },
   "outputs": [],
   "source": [
    "df = pd.read_csv('data/homicide.csv')"
   ]
  },
  {
   "cell_type": "markdown",
   "metadata": {
    "slideshow": {
     "slide_type": "skip"
    }
   },
   "source": [
    "By default, `read_csv` assumes a comma separator, but this could be customized by adding the  `sep=` parameter. So a pipe-delimited version of the file could be read with:\n",
    "\n",
    "~~~python\n",
    "df = pd.read_csv('data/homicide.psv', sep='|')\n",
    "~~~\n",
    "\n",
    "Additionally, read_csv can access files directly from the web.\n",
    "\n",
    "```python\n",
    "csv_url = 'https://raw.githubusercontent.com/washingtonpost/data-homicides/master/homicide-data.csv'\n",
    "\n",
    "df = pd.read_csv(csv_url)\n",
    "```\n",
    "\n"
   ]
  },
  {
   "cell_type": "markdown",
   "metadata": {
    "slideshow": {
     "slide_type": "slide"
    }
   },
   "source": [
    "# Learning about your dataframe\n",
    "\n",
    "After loading a dataframe, best practice is to get a sense of the data with the `head`, `sample`, `info` and `describe` methods. `head` shows the first five rows of the dataframe."
   ]
  },
  {
   "cell_type": "code",
   "execution_count": 5,
   "metadata": {
    "slideshow": {
     "slide_type": "slide"
    }
   },
   "outputs": [
    {
     "data": {
      "text/html": [
       "<div>\n",
       "<style scoped>\n",
       "    .dataframe tbody tr th:only-of-type {\n",
       "        vertical-align: middle;\n",
       "    }\n",
       "\n",
       "    .dataframe tbody tr th {\n",
       "        vertical-align: top;\n",
       "    }\n",
       "\n",
       "    .dataframe thead th {\n",
       "        text-align: right;\n",
       "    }\n",
       "</style>\n",
       "<table border=\"1\" class=\"dataframe\">\n",
       "  <thead>\n",
       "    <tr style=\"text-align: right;\">\n",
       "      <th></th>\n",
       "      <th>uid</th>\n",
       "      <th>reported_date</th>\n",
       "      <th>victim_last</th>\n",
       "      <th>victim_first</th>\n",
       "      <th>victim_race</th>\n",
       "      <th>victim_age</th>\n",
       "      <th>victim_sex</th>\n",
       "      <th>city</th>\n",
       "      <th>state</th>\n",
       "      <th>lat</th>\n",
       "      <th>lon</th>\n",
       "      <th>disposition</th>\n",
       "    </tr>\n",
       "  </thead>\n",
       "  <tbody>\n",
       "    <tr>\n",
       "      <th>0</th>\n",
       "      <td>Alb-000001</td>\n",
       "      <td>20100504</td>\n",
       "      <td>GARCIA</td>\n",
       "      <td>JUAN</td>\n",
       "      <td>Hispanic</td>\n",
       "      <td>78.0</td>\n",
       "      <td>Male</td>\n",
       "      <td>Albuquerque</td>\n",
       "      <td>NM</td>\n",
       "      <td>35.095788</td>\n",
       "      <td>-106.538555</td>\n",
       "      <td>Closed without arrest</td>\n",
       "    </tr>\n",
       "    <tr>\n",
       "      <th>1</th>\n",
       "      <td>Alb-000002</td>\n",
       "      <td>20100216</td>\n",
       "      <td>MONTOYA</td>\n",
       "      <td>CAMERON</td>\n",
       "      <td>Hispanic</td>\n",
       "      <td>17.0</td>\n",
       "      <td>Male</td>\n",
       "      <td>Albuquerque</td>\n",
       "      <td>NM</td>\n",
       "      <td>35.056810</td>\n",
       "      <td>-106.715321</td>\n",
       "      <td>Closed by arrest</td>\n",
       "    </tr>\n",
       "    <tr>\n",
       "      <th>2</th>\n",
       "      <td>Alb-000003</td>\n",
       "      <td>20100601</td>\n",
       "      <td>SATTERFIELD</td>\n",
       "      <td>VIVIANA</td>\n",
       "      <td>White</td>\n",
       "      <td>15.0</td>\n",
       "      <td>Female</td>\n",
       "      <td>Albuquerque</td>\n",
       "      <td>NM</td>\n",
       "      <td>35.086092</td>\n",
       "      <td>-106.695568</td>\n",
       "      <td>Closed without arrest</td>\n",
       "    </tr>\n",
       "    <tr>\n",
       "      <th>3</th>\n",
       "      <td>Alb-000004</td>\n",
       "      <td>20100101</td>\n",
       "      <td>MENDIOLA</td>\n",
       "      <td>CARLOS</td>\n",
       "      <td>Hispanic</td>\n",
       "      <td>32.0</td>\n",
       "      <td>Male</td>\n",
       "      <td>Albuquerque</td>\n",
       "      <td>NM</td>\n",
       "      <td>35.078493</td>\n",
       "      <td>-106.556094</td>\n",
       "      <td>Closed by arrest</td>\n",
       "    </tr>\n",
       "    <tr>\n",
       "      <th>4</th>\n",
       "      <td>Alb-000005</td>\n",
       "      <td>20100102</td>\n",
       "      <td>MULA</td>\n",
       "      <td>VIVIAN</td>\n",
       "      <td>White</td>\n",
       "      <td>72.0</td>\n",
       "      <td>Female</td>\n",
       "      <td>Albuquerque</td>\n",
       "      <td>NM</td>\n",
       "      <td>35.130357</td>\n",
       "      <td>-106.580986</td>\n",
       "      <td>Closed without arrest</td>\n",
       "    </tr>\n",
       "  </tbody>\n",
       "</table>\n",
       "</div>"
      ],
      "text/plain": [
       "          uid  reported_date  victim_last victim_first victim_race  \\\n",
       "0  Alb-000001       20100504       GARCIA         JUAN    Hispanic   \n",
       "1  Alb-000002       20100216      MONTOYA      CAMERON    Hispanic   \n",
       "2  Alb-000003       20100601  SATTERFIELD      VIVIANA       White   \n",
       "3  Alb-000004       20100101     MENDIOLA       CARLOS    Hispanic   \n",
       "4  Alb-000005       20100102         MULA       VIVIAN       White   \n",
       "\n",
       "   victim_age victim_sex         city state        lat         lon  \\\n",
       "0        78.0       Male  Albuquerque    NM  35.095788 -106.538555   \n",
       "1        17.0       Male  Albuquerque    NM  35.056810 -106.715321   \n",
       "2        15.0     Female  Albuquerque    NM  35.086092 -106.695568   \n",
       "3        32.0       Male  Albuquerque    NM  35.078493 -106.556094   \n",
       "4        72.0     Female  Albuquerque    NM  35.130357 -106.580986   \n",
       "\n",
       "             disposition  \n",
       "0  Closed without arrest  \n",
       "1       Closed by arrest  \n",
       "2  Closed without arrest  \n",
       "3       Closed by arrest  \n",
       "4  Closed without arrest  "
      ]
     },
     "execution_count": 5,
     "metadata": {},
     "output_type": "execute_result"
    }
   ],
   "source": [
    "df.head()"
   ]
  },
  {
   "cell_type": "markdown",
   "metadata": {},
   "source": [
    "In addition to the data in the csv file, an index has been created to identifiy each row. By default, this is an interger starting with 0. "
   ]
  },
  {
   "cell_type": "markdown",
   "metadata": {},
   "source": [
    "It can also be useful to examine random rows from the data frame using `sample`. In this case, I'll look at four random rows."
   ]
  },
  {
   "cell_type": "code",
   "execution_count": 6,
   "metadata": {},
   "outputs": [
    {
     "data": {
      "text/html": [
       "<div>\n",
       "<style scoped>\n",
       "    .dataframe tbody tr th:only-of-type {\n",
       "        vertical-align: middle;\n",
       "    }\n",
       "\n",
       "    .dataframe tbody tr th {\n",
       "        vertical-align: top;\n",
       "    }\n",
       "\n",
       "    .dataframe thead th {\n",
       "        text-align: right;\n",
       "    }\n",
       "</style>\n",
       "<table border=\"1\" class=\"dataframe\">\n",
       "  <thead>\n",
       "    <tr style=\"text-align: right;\">\n",
       "      <th></th>\n",
       "      <th>uid</th>\n",
       "      <th>reported_date</th>\n",
       "      <th>victim_last</th>\n",
       "      <th>victim_first</th>\n",
       "      <th>victim_race</th>\n",
       "      <th>victim_age</th>\n",
       "      <th>victim_sex</th>\n",
       "      <th>city</th>\n",
       "      <th>state</th>\n",
       "      <th>lat</th>\n",
       "      <th>lon</th>\n",
       "      <th>disposition</th>\n",
       "    </tr>\n",
       "  </thead>\n",
       "  <tbody>\n",
       "    <tr>\n",
       "      <th>19322</th>\n",
       "      <td>For-000163</td>\n",
       "      <td>20090218</td>\n",
       "      <td>JACKSON</td>\n",
       "      <td>MICHAEL C</td>\n",
       "      <td>Black</td>\n",
       "      <td>37.0</td>\n",
       "      <td>Male</td>\n",
       "      <td>Fort Worth</td>\n",
       "      <td>TX</td>\n",
       "      <td>32.636000</td>\n",
       "      <td>-97.330200</td>\n",
       "      <td>Closed by arrest</td>\n",
       "    </tr>\n",
       "    <tr>\n",
       "      <th>29124</th>\n",
       "      <td>Los-000497</td>\n",
       "      <td>20110204</td>\n",
       "      <td>Unknown</td>\n",
       "      <td>Unknown</td>\n",
       "      <td>Hispanic</td>\n",
       "      <td>34.0</td>\n",
       "      <td>Male</td>\n",
       "      <td>Los Angeles</td>\n",
       "      <td>CA</td>\n",
       "      <td>33.984900</td>\n",
       "      <td>-118.403600</td>\n",
       "      <td>Open/No arrest</td>\n",
       "    </tr>\n",
       "    <tr>\n",
       "      <th>5591</th>\n",
       "      <td>Bos-000190</td>\n",
       "      <td>20110420</td>\n",
       "      <td>ANDRADE</td>\n",
       "      <td>EDMUND</td>\n",
       "      <td>Black</td>\n",
       "      <td>23.0</td>\n",
       "      <td>Male</td>\n",
       "      <td>Boston</td>\n",
       "      <td>MA</td>\n",
       "      <td>42.311924</td>\n",
       "      <td>-71.066319</td>\n",
       "      <td>Open/No arrest</td>\n",
       "    </tr>\n",
       "    <tr>\n",
       "      <th>52023</th>\n",
       "      <td>Was-001221</td>\n",
       "      <td>20071104</td>\n",
       "      <td>WILSON</td>\n",
       "      <td>LEONARD</td>\n",
       "      <td>Black</td>\n",
       "      <td>19.0</td>\n",
       "      <td>Male</td>\n",
       "      <td>Washington</td>\n",
       "      <td>DC</td>\n",
       "      <td>38.868754</td>\n",
       "      <td>-76.979630</td>\n",
       "      <td>Open/No arrest</td>\n",
       "    </tr>\n",
       "  </tbody>\n",
       "</table>\n",
       "</div>"
      ],
      "text/plain": [
       "              uid  reported_date victim_last victim_first victim_race  \\\n",
       "19322  For-000163       20090218     JACKSON    MICHAEL C       Black   \n",
       "29124  Los-000497       20110204     Unknown      Unknown    Hispanic   \n",
       "5591   Bos-000190       20110420     ANDRADE       EDMUND       Black   \n",
       "52023  Was-001221       20071104      WILSON      LEONARD       Black   \n",
       "\n",
       "       victim_age victim_sex         city state        lat         lon  \\\n",
       "19322        37.0       Male   Fort Worth    TX  32.636000  -97.330200   \n",
       "29124        34.0       Male  Los Angeles    CA  33.984900 -118.403600   \n",
       "5591         23.0       Male       Boston    MA  42.311924  -71.066319   \n",
       "52023        19.0       Male   Washington    DC  38.868754  -76.979630   \n",
       "\n",
       "            disposition  \n",
       "19322  Closed by arrest  \n",
       "29124    Open/No arrest  \n",
       "5591     Open/No arrest  \n",
       "52023    Open/No arrest  "
      ]
     },
     "execution_count": 6,
     "metadata": {},
     "output_type": "execute_result"
    }
   ],
   "source": [
    "df.sample(4)"
   ]
  },
  {
   "cell_type": "markdown",
   "metadata": {
    "slideshow": {
     "slide_type": "skip"
    }
   },
   "source": [
    "If the dataset is wide, middle columns will not be displayed. Also, if text fields are long, only the first few characters will be shown. These can both be adjusted using pandas [display settings](https://pandas.pydata.org/pandas-docs/stable/options.html). "
   ]
  },
  {
   "cell_type": "markdown",
   "metadata": {
    "slideshow": {
     "slide_type": "slide"
    }
   },
   "source": [
    "`info` can be used to explore the data types and the number of non-missing cases for each variable."
   ]
  },
  {
   "cell_type": "code",
   "execution_count": 7,
   "metadata": {
    "slideshow": {
     "slide_type": "fragment"
    }
   },
   "outputs": [
    {
     "name": "stdout",
     "output_type": "stream",
     "text": [
      "<class 'pandas.core.frame.DataFrame'>\n",
      "RangeIndex: 52179 entries, 0 to 52178\n",
      "Data columns (total 12 columns):\n",
      " #   Column         Non-Null Count  Dtype  \n",
      "---  ------         --------------  -----  \n",
      " 0   uid            52179 non-null  object \n",
      " 1   reported_date  52179 non-null  int64  \n",
      " 2   victim_last    52179 non-null  object \n",
      " 3   victim_first   52179 non-null  object \n",
      " 4   victim_race    52179 non-null  object \n",
      " 5   victim_age     49180 non-null  float64\n",
      " 6   victim_sex     52179 non-null  object \n",
      " 7   city           52179 non-null  object \n",
      " 8   state          52179 non-null  object \n",
      " 9   lat            52119 non-null  float64\n",
      " 10  lon            52119 non-null  float64\n",
      " 11  disposition    52179 non-null  object \n",
      "dtypes: float64(3), int64(1), object(8)\n",
      "memory usage: 4.8+ MB\n"
     ]
    }
   ],
   "source": [
    "df.info()"
   ]
  },
  {
   "cell_type": "markdown",
   "metadata": {
    "slideshow": {
     "slide_type": "slide"
    }
   },
   "source": [
    "`describe` provides summary statistics for all the numeric variables. "
   ]
  },
  {
   "cell_type": "code",
   "execution_count": 8,
   "metadata": {
    "slideshow": {
     "slide_type": "fragment"
    }
   },
   "outputs": [
    {
     "data": {
      "text/html": [
       "<div>\n",
       "<style scoped>\n",
       "    .dataframe tbody tr th:only-of-type {\n",
       "        vertical-align: middle;\n",
       "    }\n",
       "\n",
       "    .dataframe tbody tr th {\n",
       "        vertical-align: top;\n",
       "    }\n",
       "\n",
       "    .dataframe thead th {\n",
       "        text-align: right;\n",
       "    }\n",
       "</style>\n",
       "<table border=\"1\" class=\"dataframe\">\n",
       "  <thead>\n",
       "    <tr style=\"text-align: right;\">\n",
       "      <th></th>\n",
       "      <th>reported_date</th>\n",
       "      <th>victim_age</th>\n",
       "      <th>lat</th>\n",
       "      <th>lon</th>\n",
       "    </tr>\n",
       "  </thead>\n",
       "  <tbody>\n",
       "    <tr>\n",
       "      <th>count</th>\n",
       "      <td>5.217900e+04</td>\n",
       "      <td>49180.000000</td>\n",
       "      <td>52119.000000</td>\n",
       "      <td>52119.000000</td>\n",
       "    </tr>\n",
       "    <tr>\n",
       "      <th>mean</th>\n",
       "      <td>2.013090e+07</td>\n",
       "      <td>31.801220</td>\n",
       "      <td>37.026786</td>\n",
       "      <td>-91.471094</td>\n",
       "    </tr>\n",
       "    <tr>\n",
       "      <th>std</th>\n",
       "      <td>1.123420e+06</td>\n",
       "      <td>14.418692</td>\n",
       "      <td>4.348647</td>\n",
       "      <td>13.746378</td>\n",
       "    </tr>\n",
       "    <tr>\n",
       "      <th>min</th>\n",
       "      <td>2.007010e+07</td>\n",
       "      <td>0.000000</td>\n",
       "      <td>25.725214</td>\n",
       "      <td>-122.507779</td>\n",
       "    </tr>\n",
       "    <tr>\n",
       "      <th>25%</th>\n",
       "      <td>2.010032e+07</td>\n",
       "      <td>22.000000</td>\n",
       "      <td>33.765203</td>\n",
       "      <td>-95.997198</td>\n",
       "    </tr>\n",
       "    <tr>\n",
       "      <th>50%</th>\n",
       "      <td>2.012122e+07</td>\n",
       "      <td>28.000000</td>\n",
       "      <td>38.524973</td>\n",
       "      <td>-87.710286</td>\n",
       "    </tr>\n",
       "    <tr>\n",
       "      <th>75%</th>\n",
       "      <td>2.015091e+07</td>\n",
       "      <td>40.000000</td>\n",
       "      <td>40.027627</td>\n",
       "      <td>-81.755909</td>\n",
       "    </tr>\n",
       "    <tr>\n",
       "      <th>max</th>\n",
       "      <td>2.015111e+08</td>\n",
       "      <td>102.000000</td>\n",
       "      <td>45.051190</td>\n",
       "      <td>-71.011519</td>\n",
       "    </tr>\n",
       "  </tbody>\n",
       "</table>\n",
       "</div>"
      ],
      "text/plain": [
       "       reported_date    victim_age           lat           lon\n",
       "count   5.217900e+04  49180.000000  52119.000000  52119.000000\n",
       "mean    2.013090e+07     31.801220     37.026786    -91.471094\n",
       "std     1.123420e+06     14.418692      4.348647     13.746378\n",
       "min     2.007010e+07      0.000000     25.725214   -122.507779\n",
       "25%     2.010032e+07     22.000000     33.765203    -95.997198\n",
       "50%     2.012122e+07     28.000000     38.524973    -87.710286\n",
       "75%     2.015091e+07     40.000000     40.027627    -81.755909\n",
       "max     2.015111e+08    102.000000     45.051190    -71.011519"
      ]
     },
     "execution_count": 8,
     "metadata": {},
     "output_type": "execute_result"
    }
   ],
   "source": [
    "df.describe()"
   ]
  },
  {
   "cell_type": "markdown",
   "metadata": {
    "slideshow": {
     "slide_type": "slide"
    }
   },
   "source": [
    "The column headers can be extracted using `keys`."
   ]
  },
  {
   "cell_type": "markdown",
   "metadata": {
    "slideshow": {
     "slide_type": "fragment"
    }
   },
   "source": [
    "#### df.keys()"
   ]
  },
  {
   "cell_type": "markdown",
   "metadata": {
    "slideshow": {
     "slide_type": "slide"
    }
   },
   "source": [
    "If you wanted to look at the bottom of the dataframe, you can use `tail`. Both `head` and `tail` allow you to change the number of rows displayed from the default five."
   ]
  },
  {
   "cell_type": "code",
   "execution_count": 9,
   "metadata": {
    "slideshow": {
     "slide_type": "fragment"
    }
   },
   "outputs": [
    {
     "data": {
      "text/html": [
       "<div>\n",
       "<style scoped>\n",
       "    .dataframe tbody tr th:only-of-type {\n",
       "        vertical-align: middle;\n",
       "    }\n",
       "\n",
       "    .dataframe tbody tr th {\n",
       "        vertical-align: top;\n",
       "    }\n",
       "\n",
       "    .dataframe thead th {\n",
       "        text-align: right;\n",
       "    }\n",
       "</style>\n",
       "<table border=\"1\" class=\"dataframe\">\n",
       "  <thead>\n",
       "    <tr style=\"text-align: right;\">\n",
       "      <th></th>\n",
       "      <th>uid</th>\n",
       "      <th>reported_date</th>\n",
       "      <th>victim_last</th>\n",
       "      <th>victim_first</th>\n",
       "      <th>victim_race</th>\n",
       "      <th>victim_age</th>\n",
       "      <th>victim_sex</th>\n",
       "      <th>city</th>\n",
       "      <th>state</th>\n",
       "      <th>lat</th>\n",
       "      <th>lon</th>\n",
       "      <th>disposition</th>\n",
       "    </tr>\n",
       "  </thead>\n",
       "  <tbody>\n",
       "    <tr>\n",
       "      <th>52176</th>\n",
       "      <td>Was-001382</td>\n",
       "      <td>20161114</td>\n",
       "      <td>WASHINGTON</td>\n",
       "      <td>WILLIE</td>\n",
       "      <td>Black</td>\n",
       "      <td>23.0</td>\n",
       "      <td>Male</td>\n",
       "      <td>Washington</td>\n",
       "      <td>DC</td>\n",
       "      <td>38.828025</td>\n",
       "      <td>-77.002511</td>\n",
       "      <td>Open/No arrest</td>\n",
       "    </tr>\n",
       "    <tr>\n",
       "      <th>52177</th>\n",
       "      <td>Was-001383</td>\n",
       "      <td>20161130</td>\n",
       "      <td>BARNES</td>\n",
       "      <td>MARCUS</td>\n",
       "      <td>Black</td>\n",
       "      <td>24.0</td>\n",
       "      <td>Male</td>\n",
       "      <td>Washington</td>\n",
       "      <td>DC</td>\n",
       "      <td>38.820476</td>\n",
       "      <td>-77.008640</td>\n",
       "      <td>Open/No arrest</td>\n",
       "    </tr>\n",
       "    <tr>\n",
       "      <th>52178</th>\n",
       "      <td>Was-001384</td>\n",
       "      <td>20160901</td>\n",
       "      <td>JACKSON</td>\n",
       "      <td>KEVIN</td>\n",
       "      <td>Black</td>\n",
       "      <td>17.0</td>\n",
       "      <td>Male</td>\n",
       "      <td>Washington</td>\n",
       "      <td>DC</td>\n",
       "      <td>38.866689</td>\n",
       "      <td>-76.982409</td>\n",
       "      <td>Closed by arrest</td>\n",
       "    </tr>\n",
       "  </tbody>\n",
       "</table>\n",
       "</div>"
      ],
      "text/plain": [
       "              uid  reported_date victim_last victim_first victim_race  \\\n",
       "52176  Was-001382       20161114  WASHINGTON       WILLIE       Black   \n",
       "52177  Was-001383       20161130      BARNES       MARCUS       Black   \n",
       "52178  Was-001384       20160901     JACKSON        KEVIN       Black   \n",
       "\n",
       "       victim_age victim_sex        city state        lat        lon  \\\n",
       "52176        23.0       Male  Washington    DC  38.828025 -77.002511   \n",
       "52177        24.0       Male  Washington    DC  38.820476 -77.008640   \n",
       "52178        17.0       Male  Washington    DC  38.866689 -76.982409   \n",
       "\n",
       "            disposition  \n",
       "52176    Open/No arrest  \n",
       "52177    Open/No arrest  \n",
       "52178  Closed by arrest  "
      ]
     },
     "execution_count": 9,
     "metadata": {},
     "output_type": "execute_result"
    }
   ],
   "source": [
    "df.tail(3)"
   ]
  },
  {
   "cell_type": "markdown",
   "metadata": {
    "slideshow": {
     "slide_type": "slide"
    }
   },
   "source": [
    "`sample` displays random rows from the dataframe."
   ]
  },
  {
   "cell_type": "code",
   "execution_count": 10,
   "metadata": {
    "slideshow": {
     "slide_type": "fragment"
    }
   },
   "outputs": [
    {
     "data": {
      "text/html": [
       "<div>\n",
       "<style scoped>\n",
       "    .dataframe tbody tr th:only-of-type {\n",
       "        vertical-align: middle;\n",
       "    }\n",
       "\n",
       "    .dataframe tbody tr th {\n",
       "        vertical-align: top;\n",
       "    }\n",
       "\n",
       "    .dataframe thead th {\n",
       "        text-align: right;\n",
       "    }\n",
       "</style>\n",
       "<table border=\"1\" class=\"dataframe\">\n",
       "  <thead>\n",
       "    <tr style=\"text-align: right;\">\n",
       "      <th></th>\n",
       "      <th>uid</th>\n",
       "      <th>reported_date</th>\n",
       "      <th>victim_last</th>\n",
       "      <th>victim_first</th>\n",
       "      <th>victim_race</th>\n",
       "      <th>victim_age</th>\n",
       "      <th>victim_sex</th>\n",
       "      <th>city</th>\n",
       "      <th>state</th>\n",
       "      <th>lat</th>\n",
       "      <th>lon</th>\n",
       "      <th>disposition</th>\n",
       "    </tr>\n",
       "  </thead>\n",
       "  <tbody>\n",
       "    <tr>\n",
       "      <th>7341</th>\n",
       "      <td>Chi-003401</td>\n",
       "      <td>20070426</td>\n",
       "      <td>RUSSELL</td>\n",
       "      <td>JEROME</td>\n",
       "      <td>Black</td>\n",
       "      <td>22.0</td>\n",
       "      <td>Male</td>\n",
       "      <td>Chicago</td>\n",
       "      <td>IL</td>\n",
       "      <td>41.894900</td>\n",
       "      <td>-87.759246</td>\n",
       "      <td>Open/No arrest</td>\n",
       "    </tr>\n",
       "    <tr>\n",
       "      <th>14447</th>\n",
       "      <td>Col-700051</td>\n",
       "      <td>20170515</td>\n",
       "      <td>CHARLES</td>\n",
       "      <td>DAMECO</td>\n",
       "      <td>Black</td>\n",
       "      <td>22.0</td>\n",
       "      <td>Male</td>\n",
       "      <td>Columbus</td>\n",
       "      <td>OH</td>\n",
       "      <td>39.986965</td>\n",
       "      <td>-82.943833</td>\n",
       "      <td>Open/No arrest</td>\n",
       "    </tr>\n",
       "    <tr>\n",
       "      <th>39554</th>\n",
       "      <td>Okl-000595</td>\n",
       "      <td>20160807</td>\n",
       "      <td>SAYLES</td>\n",
       "      <td>DAZMEONTAE</td>\n",
       "      <td>Black</td>\n",
       "      <td>16.0</td>\n",
       "      <td>Male</td>\n",
       "      <td>Oklahoma City</td>\n",
       "      <td>OK</td>\n",
       "      <td>35.587162</td>\n",
       "      <td>-97.506769</td>\n",
       "      <td>Open/No arrest</td>\n",
       "    </tr>\n",
       "    <tr>\n",
       "      <th>12033</th>\n",
       "      <td>Chi-008093</td>\n",
       "      <td>20161126</td>\n",
       "      <td>BARNETT</td>\n",
       "      <td>DEQUAN M</td>\n",
       "      <td>Black</td>\n",
       "      <td>18.0</td>\n",
       "      <td>Male</td>\n",
       "      <td>Chicago</td>\n",
       "      <td>IL</td>\n",
       "      <td>41.734543</td>\n",
       "      <td>-87.553138</td>\n",
       "      <td>Open/No arrest</td>\n",
       "    </tr>\n",
       "    <tr>\n",
       "      <th>38556</th>\n",
       "      <td>Oak-000530</td>\n",
       "      <td>20090708</td>\n",
       "      <td>MARTINEZ</td>\n",
       "      <td>ROBERT</td>\n",
       "      <td>Hispanic</td>\n",
       "      <td>52.0</td>\n",
       "      <td>Male</td>\n",
       "      <td>Oakland</td>\n",
       "      <td>CA</td>\n",
       "      <td>37.783367</td>\n",
       "      <td>-122.233641</td>\n",
       "      <td>Open/No arrest</td>\n",
       "    </tr>\n",
       "  </tbody>\n",
       "</table>\n",
       "</div>"
      ],
      "text/plain": [
       "              uid  reported_date victim_last victim_first victim_race  \\\n",
       "7341   Chi-003401       20070426     RUSSELL       JEROME       Black   \n",
       "14447  Col-700051       20170515     CHARLES       DAMECO       Black   \n",
       "39554  Okl-000595       20160807      SAYLES   DAZMEONTAE       Black   \n",
       "12033  Chi-008093       20161126     BARNETT     DEQUAN M       Black   \n",
       "38556  Oak-000530       20090708    MARTINEZ       ROBERT    Hispanic   \n",
       "\n",
       "       victim_age victim_sex           city state        lat         lon  \\\n",
       "7341         22.0       Male        Chicago    IL  41.894900  -87.759246   \n",
       "14447        22.0       Male       Columbus    OH  39.986965  -82.943833   \n",
       "39554        16.0       Male  Oklahoma City    OK  35.587162  -97.506769   \n",
       "12033        18.0       Male        Chicago    IL  41.734543  -87.553138   \n",
       "38556        52.0       Male        Oakland    CA  37.783367 -122.233641   \n",
       "\n",
       "          disposition  \n",
       "7341   Open/No arrest  \n",
       "14447  Open/No arrest  \n",
       "39554  Open/No arrest  \n",
       "12033  Open/No arrest  \n",
       "38556  Open/No arrest  "
      ]
     },
     "execution_count": 10,
     "metadata": {},
     "output_type": "execute_result"
    }
   ],
   "source": [
    "df.sample(5)"
   ]
  },
  {
   "cell_type": "markdown",
   "metadata": {
    "slideshow": {
     "slide_type": "slide"
    }
   },
   "source": [
    "## Dataframe Exercise 1\n",
    "\n",
    "Display the first four rows of the dataframe `df`.  \n"
   ]
  },
  {
   "cell_type": "code",
   "execution_count": 11,
   "metadata": {
    "slideshow": {
     "slide_type": "fragment"
    }
   },
   "outputs": [],
   "source": [
    "# Type your answer here\n"
   ]
  },
  {
   "cell_type": "code",
   "execution_count": 12,
   "metadata": {
    "slideshow": {
     "slide_type": "slide"
    }
   },
   "outputs": [
    {
     "data": {
      "text/html": [
       "<div>\n",
       "<style scoped>\n",
       "    .dataframe tbody tr th:only-of-type {\n",
       "        vertical-align: middle;\n",
       "    }\n",
       "\n",
       "    .dataframe tbody tr th {\n",
       "        vertical-align: top;\n",
       "    }\n",
       "\n",
       "    .dataframe thead th {\n",
       "        text-align: right;\n",
       "    }\n",
       "</style>\n",
       "<table border=\"1\" class=\"dataframe\">\n",
       "  <thead>\n",
       "    <tr style=\"text-align: right;\">\n",
       "      <th></th>\n",
       "      <th>uid</th>\n",
       "      <th>reported_date</th>\n",
       "      <th>victim_last</th>\n",
       "      <th>victim_first</th>\n",
       "      <th>victim_race</th>\n",
       "      <th>victim_age</th>\n",
       "      <th>victim_sex</th>\n",
       "      <th>city</th>\n",
       "      <th>state</th>\n",
       "      <th>lat</th>\n",
       "      <th>lon</th>\n",
       "      <th>disposition</th>\n",
       "    </tr>\n",
       "  </thead>\n",
       "  <tbody>\n",
       "    <tr>\n",
       "      <th>0</th>\n",
       "      <td>Alb-000001</td>\n",
       "      <td>20100504</td>\n",
       "      <td>GARCIA</td>\n",
       "      <td>JUAN</td>\n",
       "      <td>Hispanic</td>\n",
       "      <td>78.0</td>\n",
       "      <td>Male</td>\n",
       "      <td>Albuquerque</td>\n",
       "      <td>NM</td>\n",
       "      <td>35.095788</td>\n",
       "      <td>-106.538555</td>\n",
       "      <td>Closed without arrest</td>\n",
       "    </tr>\n",
       "    <tr>\n",
       "      <th>1</th>\n",
       "      <td>Alb-000002</td>\n",
       "      <td>20100216</td>\n",
       "      <td>MONTOYA</td>\n",
       "      <td>CAMERON</td>\n",
       "      <td>Hispanic</td>\n",
       "      <td>17.0</td>\n",
       "      <td>Male</td>\n",
       "      <td>Albuquerque</td>\n",
       "      <td>NM</td>\n",
       "      <td>35.056810</td>\n",
       "      <td>-106.715321</td>\n",
       "      <td>Closed by arrest</td>\n",
       "    </tr>\n",
       "    <tr>\n",
       "      <th>2</th>\n",
       "      <td>Alb-000003</td>\n",
       "      <td>20100601</td>\n",
       "      <td>SATTERFIELD</td>\n",
       "      <td>VIVIANA</td>\n",
       "      <td>White</td>\n",
       "      <td>15.0</td>\n",
       "      <td>Female</td>\n",
       "      <td>Albuquerque</td>\n",
       "      <td>NM</td>\n",
       "      <td>35.086092</td>\n",
       "      <td>-106.695568</td>\n",
       "      <td>Closed without arrest</td>\n",
       "    </tr>\n",
       "    <tr>\n",
       "      <th>3</th>\n",
       "      <td>Alb-000004</td>\n",
       "      <td>20100101</td>\n",
       "      <td>MENDIOLA</td>\n",
       "      <td>CARLOS</td>\n",
       "      <td>Hispanic</td>\n",
       "      <td>32.0</td>\n",
       "      <td>Male</td>\n",
       "      <td>Albuquerque</td>\n",
       "      <td>NM</td>\n",
       "      <td>35.078493</td>\n",
       "      <td>-106.556094</td>\n",
       "      <td>Closed by arrest</td>\n",
       "    </tr>\n",
       "  </tbody>\n",
       "</table>\n",
       "</div>"
      ],
      "text/plain": [
       "          uid  reported_date  victim_last victim_first victim_race  \\\n",
       "0  Alb-000001       20100504       GARCIA         JUAN    Hispanic   \n",
       "1  Alb-000002       20100216      MONTOYA      CAMERON    Hispanic   \n",
       "2  Alb-000003       20100601  SATTERFIELD      VIVIANA       White   \n",
       "3  Alb-000004       20100101     MENDIOLA       CARLOS    Hispanic   \n",
       "\n",
       "   victim_age victim_sex         city state        lat         lon  \\\n",
       "0        78.0       Male  Albuquerque    NM  35.095788 -106.538555   \n",
       "1        17.0       Male  Albuquerque    NM  35.056810 -106.715321   \n",
       "2        15.0     Female  Albuquerque    NM  35.086092 -106.695568   \n",
       "3        32.0       Male  Albuquerque    NM  35.078493 -106.556094   \n",
       "\n",
       "             disposition  \n",
       "0  Closed without arrest  \n",
       "1       Closed by arrest  \n",
       "2  Closed without arrest  \n",
       "3       Closed by arrest  "
      ]
     },
     "execution_count": 12,
     "metadata": {},
     "output_type": "execute_result"
    }
   ],
   "source": [
    "df.head(4)"
   ]
  },
  {
   "cell_type": "markdown",
   "metadata": {
    "slideshow": {
     "slide_type": "slide"
    }
   },
   "source": [
    "# Working with variables\n"
   ]
  },
  {
   "cell_type": "markdown",
   "metadata": {},
   "source": [
    "As a reminder of the contents of the dataframe, here's a radom row."
   ]
  },
  {
   "cell_type": "code",
   "execution_count": 13,
   "metadata": {},
   "outputs": [
    {
     "data": {
      "text/html": [
       "<div>\n",
       "<style scoped>\n",
       "    .dataframe tbody tr th:only-of-type {\n",
       "        vertical-align: middle;\n",
       "    }\n",
       "\n",
       "    .dataframe tbody tr th {\n",
       "        vertical-align: top;\n",
       "    }\n",
       "\n",
       "    .dataframe thead th {\n",
       "        text-align: right;\n",
       "    }\n",
       "</style>\n",
       "<table border=\"1\" class=\"dataframe\">\n",
       "  <thead>\n",
       "    <tr style=\"text-align: right;\">\n",
       "      <th></th>\n",
       "      <th>uid</th>\n",
       "      <th>reported_date</th>\n",
       "      <th>victim_last</th>\n",
       "      <th>victim_first</th>\n",
       "      <th>victim_race</th>\n",
       "      <th>victim_age</th>\n",
       "      <th>victim_sex</th>\n",
       "      <th>city</th>\n",
       "      <th>state</th>\n",
       "      <th>lat</th>\n",
       "      <th>lon</th>\n",
       "      <th>disposition</th>\n",
       "    </tr>\n",
       "  </thead>\n",
       "  <tbody>\n",
       "    <tr>\n",
       "      <th>11102</th>\n",
       "      <td>Chi-007162</td>\n",
       "      <td>20150718</td>\n",
       "      <td>O'BRIEN</td>\n",
       "      <td>JEMEL</td>\n",
       "      <td>Black</td>\n",
       "      <td>29.0</td>\n",
       "      <td>Male</td>\n",
       "      <td>Chicago</td>\n",
       "      <td>IL</td>\n",
       "      <td>41.758892</td>\n",
       "      <td>-87.635723</td>\n",
       "      <td>Open/No arrest</td>\n",
       "    </tr>\n",
       "  </tbody>\n",
       "</table>\n",
       "</div>"
      ],
      "text/plain": [
       "              uid  reported_date victim_last victim_first victim_race  \\\n",
       "11102  Chi-007162       20150718     O'BRIEN        JEMEL       Black   \n",
       "\n",
       "       victim_age victim_sex     city state        lat        lon  \\\n",
       "11102        29.0       Male  Chicago    IL  41.758892 -87.635723   \n",
       "\n",
       "          disposition  \n",
       "11102  Open/No arrest  "
      ]
     },
     "execution_count": 13,
     "metadata": {},
     "output_type": "execute_result"
    }
   ],
   "source": [
    "df.sample(1)"
   ]
  },
  {
   "cell_type": "markdown",
   "metadata": {},
   "source": [
    "You can access the contents of a specific column (also knows as a feature or variable) by enclosing the name in brackets, similar to the process that returns the value of a dictionary key."
   ]
  },
  {
   "cell_type": "code",
   "execution_count": 14,
   "metadata": {},
   "outputs": [
    {
     "data": {
      "text/plain": [
       "0        78.0\n",
       "1        17.0\n",
       "2        15.0\n",
       "3        32.0\n",
       "4        72.0\n",
       "         ... \n",
       "52174    29.0\n",
       "52175    19.0\n",
       "52176    23.0\n",
       "52177    24.0\n",
       "52178    17.0\n",
       "Name: victim_age, Length: 52179, dtype: float64"
      ]
     },
     "execution_count": 14,
     "metadata": {},
     "output_type": "execute_result"
    }
   ],
   "source": [
    "df['victim_age']"
   ]
  },
  {
   "cell_type": "markdown",
   "metadata": {},
   "source": [
    "This returns a series containing the index and values for the column. As this has many values, pandas only displays the top and bottom 30 cases. \n",
    "\n",
    "The same `describe` method can be called on a single column."
   ]
  },
  {
   "cell_type": "code",
   "execution_count": 15,
   "metadata": {
    "slideshow": {
     "slide_type": "slide"
    }
   },
   "outputs": [
    {
     "data": {
      "text/plain": [
       "count    49180.000000\n",
       "mean        31.801220\n",
       "std         14.418692\n",
       "min          0.000000\n",
       "25%         22.000000\n",
       "50%         28.000000\n",
       "75%         40.000000\n",
       "max        102.000000\n",
       "Name: victim_age, dtype: float64"
      ]
     },
     "execution_count": 15,
     "metadata": {},
     "output_type": "execute_result"
    }
   ],
   "source": [
    "df['victim_age'].describe()"
   ]
  },
  {
   "cell_type": "markdown",
   "metadata": {},
   "source": [
    "`value_counts` methods returns the value frequencies in descending order."
   ]
  },
  {
   "cell_type": "code",
   "execution_count": 16,
   "metadata": {
    "slideshow": {
     "slide_type": "slide"
    }
   },
   "outputs": [
    {
     "data": {
      "text/plain": [
       "CA    6288\n",
       "TX    5891\n",
       "IL    5535\n",
       "PA    3668\n",
       "MO    2867\n",
       "MD    2827\n",
       "MI    2519\n",
       "TN    2281\n",
       "FL    2120\n",
       "LA    1858\n",
       "OH    1778\n",
       "NV    1381\n",
       "DC    1345\n",
       "IN    1322\n",
       "OK    1255\n",
       "GA    1219\n",
       "NY    1148\n",
       "wI    1115\n",
       "NC     963\n",
       "AZ     914\n",
       "AL     801\n",
       "MA     614\n",
       "KY     576\n",
       "VA     429\n",
       "NE     409\n",
       "NM     378\n",
       "MN     366\n",
       "CO     312\n",
       "Name: state, dtype: int64"
      ]
     },
     "execution_count": 16,
     "metadata": {},
     "output_type": "execute_result"
    }
   ],
   "source": [
    "df['state'].value_counts()"
   ]
  },
  {
   "cell_type": "markdown",
   "metadata": {
    "slideshow": {
     "slide_type": "slide"
    }
   },
   "source": [
    "## Dataframe Exercise 2\n",
    "Explore the `disposition` and `victim_race` columns in the dataframe.  "
   ]
  },
  {
   "cell_type": "code",
   "execution_count": 17,
   "metadata": {
    "slideshow": {
     "slide_type": "fragment"
    }
   },
   "outputs": [],
   "source": [
    "# Your answer here"
   ]
  },
  {
   "cell_type": "code",
   "execution_count": 18,
   "metadata": {},
   "outputs": [
    {
     "data": {
      "text/plain": [
       "Closed by arrest         25674\n",
       "Open/No arrest           23583\n",
       "Closed without arrest     2922\n",
       "Name: disposition, dtype: int64"
      ]
     },
     "metadata": {},
     "output_type": "display_data"
    },
    {
     "data": {
      "text/plain": [
       "Black       33361\n",
       "Hispanic     6901\n",
       "White        6333\n",
       "Unknown      4199\n",
       "Other         700\n",
       "Asian         685\n",
       "Name: victim_race, dtype: int64"
      ]
     },
     "metadata": {},
     "output_type": "display_data"
    }
   ],
   "source": [
    "display(df['disposition'].value_counts())\n",
    "\n",
    "display(df['victim_race'].value_counts())"
   ]
  },
  {
   "cell_type": "markdown",
   "metadata": {
    "slideshow": {
     "slide_type": "slide"
    }
   },
   "source": [
    "If you wanted to store the results, the `values` method can be used to produce an array containing all the values in order."
   ]
  },
  {
   "cell_type": "code",
   "execution_count": 19,
   "metadata": {
    "slideshow": {
     "slide_type": "fragment"
    }
   },
   "outputs": [
    {
     "data": {
      "text/plain": [
       "52179"
      ]
     },
     "execution_count": 19,
     "metadata": {},
     "output_type": "execute_result"
    }
   ],
   "source": [
    "ages = df['victim_age'].values\n",
    "len(ages)"
   ]
  },
  {
   "cell_type": "code",
   "execution_count": 20,
   "metadata": {
    "slideshow": {
     "slide_type": "fragment"
    }
   },
   "outputs": [
    {
     "data": {
      "text/plain": [
       "78.0"
      ]
     },
     "metadata": {},
     "output_type": "display_data"
    }
   ],
   "source": [
    "first_age = ages[0]\n",
    "display(first_age)"
   ]
  },
  {
   "cell_type": "markdown",
   "metadata": {
    "slideshow": {
     "slide_type": "slide"
    }
   },
   "source": [
    "## Dataframe Exercise 3\n",
    "Can you display seven values from somewhere in the middle of our age variable?\n"
   ]
  },
  {
   "cell_type": "code",
   "execution_count": 21,
   "metadata": {
    "slideshow": {
     "slide_type": "fragment"
    }
   },
   "outputs": [],
   "source": [
    "# Your answer here"
   ]
  },
  {
   "cell_type": "code",
   "execution_count": 22,
   "metadata": {},
   "outputs": [
    {
     "data": {
      "text/plain": [
       "array([ 9., 29., 41., 54., 48., 21., 20.])"
      ]
     },
     "execution_count": 22,
     "metadata": {},
     "output_type": "execute_result"
    }
   ],
   "source": [
    "ages[452:459]"
   ]
  },
  {
   "cell_type": "markdown",
   "metadata": {
    "slideshow": {
     "slide_type": "slide"
    }
   },
   "source": [
    "## Titanic Exercise 1\n",
    "\n",
    "A well-known data set is the list of Titanic passengers. A version can be found in the data folder called, \"titanic.csv\". Open the file as a new dataframe <code>titanic_df</code>. How many cases? How many columns? What can you find out about the data?\n",
    "\n"
   ]
  },
  {
   "cell_type": "code",
   "execution_count": null,
   "metadata": {},
   "outputs": [],
   "source": []
  },
  {
   "cell_type": "markdown",
   "metadata": {
    "slideshow": {
     "slide_type": "slide"
    }
   },
   "source": [
    "# Plots\n",
    "\n",
    "pandas also has plotting capabilies, such as histograms (`hist`) and a correlation matrix (`scatter_matrix`).  "
   ]
  },
  {
   "cell_type": "code",
   "execution_count": 23,
   "metadata": {
    "slideshow": {
     "slide_type": "slide"
    }
   },
   "outputs": [
    {
     "data": {
      "image/png": "[encoded data removed]",
      "text/plain": [
       "<Figure size 432x288 with 1 Axes>"
      ]
     },
     "metadata": {
      "needs_background": "light"
     },
     "output_type": "display_data"
    }
   ],
   "source": [
    "df['victim_age'].hist();"
   ]
  },
  {
   "cell_type": "code",
   "execution_count": 24,
   "metadata": {},
   "outputs": [
    {
     "data": {
      "image/png": "[encoded data removed]",
      "text/plain": [
       "<Figure size 432x288 with 1 Axes>"
      ]
     },
     "metadata": {
      "needs_background": "light"
     },
     "output_type": "display_data"
    }
   ],
   "source": [
    "df['victim_race'].hist();"
   ]
  },
  {
   "cell_type": "markdown",
   "metadata": {
    "slideshow": {
     "slide_type": "skip"
    }
   },
   "source": [
    "Plots of individual variables, or series in pandas terminology, are attributes of the data type. That is, you start with the thing you want to plot, in this case `df['victim_age']`, and append what you want to do, such as `.hist()`. \n",
    "\n",
    "A second type of plots, such as scatter plots, are methods of the dataframe. "
   ]
  },
  {
   "cell_type": "code",
   "execution_count": 25,
   "metadata": {
    "slideshow": {
     "slide_type": "skip"
    }
   },
   "outputs": [
    {
     "data": {
      "text/plain": [
       "<matplotlib.axes._subplots.AxesSubplot at 0x114819040>"
      ]
     },
     "execution_count": 25,
     "metadata": {},
     "output_type": "execute_result"
    },
    {
     "data": {
      "image/png": "[encoded data removed]",
      "text/plain": [
       "<Figure size 432x288 with 1 Axes>"
      ]
     },
     "metadata": {
      "needs_background": "light"
     },
     "output_type": "display_data"
    }
   ],
   "source": [
    "df.plot.scatter(x='lon', y='lat')"
   ]
  },
  {
   "cell_type": "markdown",
   "metadata": {
    "slideshow": {
     "slide_type": "slide"
    }
   },
   "source": [
    "You could look at the other dataframe plotting methods on the helpful [pandas visualizations page](https://pandas.pydata.org/pandas-docs/stable/visualization.html). Alternatively, typing tab after `df.plot.` also reveals your options.\n",
    "\n",
    "<img src=\"images/auto.png\"  width=\"150px\" align=\"left\" /><p>\n",
    "\n",
    "\n",
    "\n",
    "\n"
   ]
  },
  {
   "cell_type": "markdown",
   "metadata": {
    "slideshow": {
     "slide_type": "slide"
    }
   },
   "source": [
    "Want to know about `hexbin`? Again, the helpful webpage linked above is useful, but you can also append a question mark to the end of the command to bring up the documentation. \n",
    "\n",
    "\n",
    "```df.plot.hexbin?```\n",
    "\n",
    "<img src=\"images/docstring.png\" width = \"80%\" align=\"left\"/>"
   ]
  },
  {
   "cell_type": "markdown",
   "metadata": {
    "slideshow": {
     "slide_type": "skip"
    }
   },
   "source": [
    "A third group of plots are part of the pandas plotting library. In these cases, the thing you want to plot is the first, or only, parameter passed, as is the case with the correlation matrix. "
   ]
  },
  {
   "cell_type": "code",
   "execution_count": 26,
   "metadata": {
    "slideshow": {
     "slide_type": "skip"
    }
   },
   "outputs": [
    {
     "data": {
      "image/png": "[encoded data removed]",
      "text/plain": [
       "<Figure size 432x288 with 16 Axes>"
      ]
     },
     "metadata": {
      "needs_background": "light"
     },
     "output_type": "display_data"
    }
   ],
   "source": [
    "pd.plotting.scatter_matrix(df);"
   ]
  },
  {
   "cell_type": "markdown",
   "metadata": {
    "slideshow": {
     "slide_type": "skip"
    }
   },
   "source": [
    "Finally, you can also create subplots using the `by` option. Note that `by` accepts a series, or dataframe column, rather than a column name. "
   ]
  },
  {
   "cell_type": "code",
   "execution_count": 27,
   "metadata": {
    "slideshow": {
     "slide_type": "skip"
    }
   },
   "outputs": [
    {
     "data": {
      "image/png": "[encoded data removed]",
      "text/plain": [
       "<Figure size 432x288 with 4 Axes>"
      ]
     },
     "metadata": {
      "needs_background": "light"
     },
     "output_type": "display_data"
    }
   ],
   "source": [
    "df['victim_age'].hist(by = df['victim_sex'],\n",
    "                      bins = 20);"
   ]
  },
  {
   "cell_type": "markdown",
   "metadata": {
    "slideshow": {
     "slide_type": "skip"
    }
   },
   "source": [
    "By default, `by` produces separate x and y scales for each subgraph. This is why it appears to be a relatively large number of deaths of very young females. The numbers between men and women at this age are comparable, but the very large number of male deaths in their 20s results in very different xscales for the graphs. This option can be changed with the `sharex` or `sharey` option. "
   ]
  },
  {
   "cell_type": "code",
   "execution_count": 28,
   "metadata": {
    "slideshow": {
     "slide_type": "skip"
    }
   },
   "outputs": [
    {
     "data": {
      "image/png": "[encoded data removed]",
      "text/plain": [
       "<Figure size 432x288 with 4 Axes>"
      ]
     },
     "metadata": {
      "needs_background": "light"
     },
     "output_type": "display_data"
    }
   ],
   "source": [
    "df['victim_age'].hist(by = df['victim_sex'],\n",
    "                      bins   = 20,\n",
    "                      sharex = True,\n",
    "                      sharey = True);"
   ]
  },
  {
   "cell_type": "code",
   "execution_count": null,
   "metadata": {
    "slideshow": {
     "slide_type": "fragment"
    }
   },
   "outputs": [],
   "source": []
  },
  {
   "cell_type": "markdown",
   "metadata": {
    "slideshow": {
     "slide_type": "slide"
    }
   },
   "source": [
    "#### Other descriptives\n",
    "\n",
    "Pandas also has a method for producing crosstabs. "
   ]
  },
  {
   "cell_type": "code",
   "execution_count": 29,
   "metadata": {
    "slideshow": {
     "slide_type": "fragment"
    }
   },
   "outputs": [
    {
     "data": {
      "text/html": [
       "<div>\n",
       "<style scoped>\n",
       "    .dataframe tbody tr th:only-of-type {\n",
       "        vertical-align: middle;\n",
       "    }\n",
       "\n",
       "    .dataframe tbody tr th {\n",
       "        vertical-align: top;\n",
       "    }\n",
       "\n",
       "    .dataframe thead th {\n",
       "        text-align: right;\n",
       "    }\n",
       "</style>\n",
       "<table border=\"1\" class=\"dataframe\">\n",
       "  <thead>\n",
       "    <tr style=\"text-align: right;\">\n",
       "      <th>disposition</th>\n",
       "      <th>Closed by arrest</th>\n",
       "      <th>Closed without arrest</th>\n",
       "      <th>Open/No arrest</th>\n",
       "    </tr>\n",
       "    <tr>\n",
       "      <th>victim_race</th>\n",
       "      <th></th>\n",
       "      <th></th>\n",
       "      <th></th>\n",
       "    </tr>\n",
       "  </thead>\n",
       "  <tbody>\n",
       "    <tr>\n",
       "      <th>Asian</th>\n",
       "      <td>410</td>\n",
       "      <td>72</td>\n",
       "      <td>203</td>\n",
       "    </tr>\n",
       "    <tr>\n",
       "      <th>Black</th>\n",
       "      <td>15462</td>\n",
       "      <td>1496</td>\n",
       "      <td>16403</td>\n",
       "    </tr>\n",
       "    <tr>\n",
       "      <th>Hispanic</th>\n",
       "      <td>3332</td>\n",
       "      <td>401</td>\n",
       "      <td>3168</td>\n",
       "    </tr>\n",
       "    <tr>\n",
       "      <th>Other</th>\n",
       "      <td>366</td>\n",
       "      <td>30</td>\n",
       "      <td>304</td>\n",
       "    </tr>\n",
       "    <tr>\n",
       "      <th>Unknown</th>\n",
       "      <td>2145</td>\n",
       "      <td>320</td>\n",
       "      <td>1734</td>\n",
       "    </tr>\n",
       "    <tr>\n",
       "      <th>White</th>\n",
       "      <td>3959</td>\n",
       "      <td>603</td>\n",
       "      <td>1771</td>\n",
       "    </tr>\n",
       "  </tbody>\n",
       "</table>\n",
       "</div>"
      ],
      "text/plain": [
       "disposition  Closed by arrest  Closed without arrest  Open/No arrest\n",
       "victim_race                                                         \n",
       "Asian                     410                     72             203\n",
       "Black                   15462                   1496           16403\n",
       "Hispanic                 3332                    401            3168\n",
       "Other                     366                     30             304\n",
       "Unknown                  2145                    320            1734\n",
       "White                    3959                    603            1771"
      ]
     },
     "execution_count": 29,
     "metadata": {},
     "output_type": "execute_result"
    }
   ],
   "source": [
    "pd.crosstab(df['victim_race'], df['disposition'])"
   ]
  },
  {
   "cell_type": "markdown",
   "metadata": {
    "slideshow": {
     "slide_type": "notes"
    }
   },
   "source": [
    "Note that since this is a pandas method, and not one of a specific dataframe, you need to be explicit about which datatframe each variable is coming from. That is why the first parameter is not `'victim_race'` but `df['victim_race']`. "
   ]
  },
  {
   "cell_type": "markdown",
   "metadata": {
    "slideshow": {
     "slide_type": "notes"
    }
   },
   "source": [
    "`normalize` can be used to display percentages instead of frequencies. A value of `index` normalized by row, `columns` by column, and `all` by all values."
   ]
  },
  {
   "cell_type": "code",
   "execution_count": 30,
   "metadata": {
    "slideshow": {
     "slide_type": "slide"
    }
   },
   "outputs": [
    {
     "data": {
      "text/html": [
       "<div>\n",
       "<style scoped>\n",
       "    .dataframe tbody tr th:only-of-type {\n",
       "        vertical-align: middle;\n",
       "    }\n",
       "\n",
       "    .dataframe tbody tr th {\n",
       "        vertical-align: top;\n",
       "    }\n",
       "\n",
       "    .dataframe thead th {\n",
       "        text-align: right;\n",
       "    }\n",
       "</style>\n",
       "<table border=\"1\" class=\"dataframe\">\n",
       "  <thead>\n",
       "    <tr style=\"text-align: right;\">\n",
       "      <th>disposition</th>\n",
       "      <th>Closed by arrest</th>\n",
       "      <th>Closed without arrest</th>\n",
       "      <th>Open/No arrest</th>\n",
       "    </tr>\n",
       "    <tr>\n",
       "      <th>victim_race</th>\n",
       "      <th></th>\n",
       "      <th></th>\n",
       "      <th></th>\n",
       "    </tr>\n",
       "  </thead>\n",
       "  <tbody>\n",
       "    <tr>\n",
       "      <th>Asian</th>\n",
       "      <td>0.598540</td>\n",
       "      <td>0.105109</td>\n",
       "      <td>0.296350</td>\n",
       "    </tr>\n",
       "    <tr>\n",
       "      <th>Black</th>\n",
       "      <td>0.463475</td>\n",
       "      <td>0.044843</td>\n",
       "      <td>0.491682</td>\n",
       "    </tr>\n",
       "    <tr>\n",
       "      <th>Hispanic</th>\n",
       "      <td>0.482829</td>\n",
       "      <td>0.058108</td>\n",
       "      <td>0.459064</td>\n",
       "    </tr>\n",
       "    <tr>\n",
       "      <th>Other</th>\n",
       "      <td>0.522857</td>\n",
       "      <td>0.042857</td>\n",
       "      <td>0.434286</td>\n",
       "    </tr>\n",
       "    <tr>\n",
       "      <th>Unknown</th>\n",
       "      <td>0.510836</td>\n",
       "      <td>0.076209</td>\n",
       "      <td>0.412955</td>\n",
       "    </tr>\n",
       "    <tr>\n",
       "      <th>White</th>\n",
       "      <td>0.625138</td>\n",
       "      <td>0.095216</td>\n",
       "      <td>0.279646</td>\n",
       "    </tr>\n",
       "  </tbody>\n",
       "</table>\n",
       "</div>"
      ],
      "text/plain": [
       "disposition  Closed by arrest  Closed without arrest  Open/No arrest\n",
       "victim_race                                                         \n",
       "Asian                0.598540               0.105109        0.296350\n",
       "Black                0.463475               0.044843        0.491682\n",
       "Hispanic             0.482829               0.058108        0.459064\n",
       "Other                0.522857               0.042857        0.434286\n",
       "Unknown              0.510836               0.076209        0.412955\n",
       "White                0.625138               0.095216        0.279646"
      ]
     },
     "execution_count": 30,
     "metadata": {},
     "output_type": "execute_result"
    }
   ],
   "source": [
    "pd.crosstab(df['victim_race'], df['disposition'], normalize='index')"
   ]
  },
  {
   "cell_type": "markdown",
   "metadata": {
    "slideshow": {
     "slide_type": "skip"
    }
   },
   "source": [
    "Since this returns a dataframe, it can be saved or plotted."
   ]
  },
  {
   "cell_type": "code",
   "execution_count": 31,
   "metadata": {
    "slideshow": {
     "slide_type": "skip"
    }
   },
   "outputs": [
    {
     "data": {
      "text/html": [
       "<div>\n",
       "<style scoped>\n",
       "    .dataframe tbody tr th:only-of-type {\n",
       "        vertical-align: middle;\n",
       "    }\n",
       "\n",
       "    .dataframe tbody tr th {\n",
       "        vertical-align: top;\n",
       "    }\n",
       "\n",
       "    .dataframe thead th {\n",
       "        text-align: right;\n",
       "    }\n",
       "</style>\n",
       "<table border=\"1\" class=\"dataframe\">\n",
       "  <thead>\n",
       "    <tr style=\"text-align: right;\">\n",
       "      <th>disposition</th>\n",
       "      <th>Closed by arrest</th>\n",
       "      <th>Closed without arrest</th>\n",
       "      <th>Open/No arrest</th>\n",
       "    </tr>\n",
       "    <tr>\n",
       "      <th>victim_race</th>\n",
       "      <th></th>\n",
       "      <th></th>\n",
       "      <th></th>\n",
       "    </tr>\n",
       "  </thead>\n",
       "  <tbody>\n",
       "    <tr>\n",
       "      <th>Asian</th>\n",
       "      <td>0.598540</td>\n",
       "      <td>0.105109</td>\n",
       "      <td>0.296350</td>\n",
       "    </tr>\n",
       "    <tr>\n",
       "      <th>Black</th>\n",
       "      <td>0.463475</td>\n",
       "      <td>0.044843</td>\n",
       "      <td>0.491682</td>\n",
       "    </tr>\n",
       "    <tr>\n",
       "      <th>Hispanic</th>\n",
       "      <td>0.482829</td>\n",
       "      <td>0.058108</td>\n",
       "      <td>0.459064</td>\n",
       "    </tr>\n",
       "    <tr>\n",
       "      <th>Other</th>\n",
       "      <td>0.522857</td>\n",
       "      <td>0.042857</td>\n",
       "      <td>0.434286</td>\n",
       "    </tr>\n",
       "    <tr>\n",
       "      <th>Unknown</th>\n",
       "      <td>0.510836</td>\n",
       "      <td>0.076209</td>\n",
       "      <td>0.412955</td>\n",
       "    </tr>\n",
       "    <tr>\n",
       "      <th>White</th>\n",
       "      <td>0.625138</td>\n",
       "      <td>0.095216</td>\n",
       "      <td>0.279646</td>\n",
       "    </tr>\n",
       "  </tbody>\n",
       "</table>\n",
       "</div>"
      ],
      "text/plain": [
       "disposition  Closed by arrest  Closed without arrest  Open/No arrest\n",
       "victim_race                                                         \n",
       "Asian                0.598540               0.105109        0.296350\n",
       "Black                0.463475               0.044843        0.491682\n",
       "Hispanic             0.482829               0.058108        0.459064\n",
       "Other                0.522857               0.042857        0.434286\n",
       "Unknown              0.510836               0.076209        0.412955\n",
       "White                0.625138               0.095216        0.279646"
      ]
     },
     "execution_count": 31,
     "metadata": {},
     "output_type": "execute_result"
    }
   ],
   "source": [
    "cross_tab = pd.crosstab(df['victim_race'], df['disposition'], normalize='index')\n",
    "\n",
    "cross_tab"
   ]
  },
  {
   "cell_type": "code",
   "execution_count": 32,
   "metadata": {
    "slideshow": {
     "slide_type": "skip"
    }
   },
   "outputs": [],
   "source": [
    "cross_tab.to_csv('data/crosstab.csv')"
   ]
  },
  {
   "cell_type": "markdown",
   "metadata": {
    "slideshow": {
     "slide_type": "slide"
    }
   },
   "source": [
    "## Titanic Exercise 2\n",
    "\n",
    "In your Titanic dataframe, run a crosstab between sex and survived. Anything interesting?\n",
    "\n"
   ]
  },
  {
   "cell_type": "code",
   "execution_count": null,
   "metadata": {
    "slideshow": {
     "slide_type": "fragment"
    }
   },
   "outputs": [],
   "source": []
  },
  {
   "cell_type": "markdown",
   "metadata": {
    "slideshow": {
     "slide_type": "skip"
    }
   },
   "source": [
    "In order to highlight a meaningful characteristic of the data, you can sort before plotting. "
   ]
  },
  {
   "cell_type": "code",
   "execution_count": 33,
   "metadata": {
    "slideshow": {
     "slide_type": "skip"
    }
   },
   "outputs": [
    {
     "data": {
      "text/html": [
       "<div>\n",
       "<style scoped>\n",
       "    .dataframe tbody tr th:only-of-type {\n",
       "        vertical-align: middle;\n",
       "    }\n",
       "\n",
       "    .dataframe tbody tr th {\n",
       "        vertical-align: top;\n",
       "    }\n",
       "\n",
       "    .dataframe thead th {\n",
       "        text-align: right;\n",
       "    }\n",
       "</style>\n",
       "<table border=\"1\" class=\"dataframe\">\n",
       "  <thead>\n",
       "    <tr style=\"text-align: right;\">\n",
       "      <th>disposition</th>\n",
       "      <th>Closed by arrest</th>\n",
       "      <th>Closed without arrest</th>\n",
       "      <th>Open/No arrest</th>\n",
       "    </tr>\n",
       "    <tr>\n",
       "      <th>victim_race</th>\n",
       "      <th></th>\n",
       "      <th></th>\n",
       "      <th></th>\n",
       "    </tr>\n",
       "  </thead>\n",
       "  <tbody>\n",
       "    <tr>\n",
       "      <th>Black</th>\n",
       "      <td>0.463475</td>\n",
       "      <td>0.044843</td>\n",
       "      <td>0.491682</td>\n",
       "    </tr>\n",
       "    <tr>\n",
       "      <th>Hispanic</th>\n",
       "      <td>0.482829</td>\n",
       "      <td>0.058108</td>\n",
       "      <td>0.459064</td>\n",
       "    </tr>\n",
       "    <tr>\n",
       "      <th>Unknown</th>\n",
       "      <td>0.510836</td>\n",
       "      <td>0.076209</td>\n",
       "      <td>0.412955</td>\n",
       "    </tr>\n",
       "    <tr>\n",
       "      <th>Other</th>\n",
       "      <td>0.522857</td>\n",
       "      <td>0.042857</td>\n",
       "      <td>0.434286</td>\n",
       "    </tr>\n",
       "    <tr>\n",
       "      <th>Asian</th>\n",
       "      <td>0.598540</td>\n",
       "      <td>0.105109</td>\n",
       "      <td>0.296350</td>\n",
       "    </tr>\n",
       "    <tr>\n",
       "      <th>White</th>\n",
       "      <td>0.625138</td>\n",
       "      <td>0.095216</td>\n",
       "      <td>0.279646</td>\n",
       "    </tr>\n",
       "  </tbody>\n",
       "</table>\n",
       "</div>"
      ],
      "text/plain": [
       "disposition  Closed by arrest  Closed without arrest  Open/No arrest\n",
       "victim_race                                                         \n",
       "Black                0.463475               0.044843        0.491682\n",
       "Hispanic             0.482829               0.058108        0.459064\n",
       "Unknown              0.510836               0.076209        0.412955\n",
       "Other                0.522857               0.042857        0.434286\n",
       "Asian                0.598540               0.105109        0.296350\n",
       "White                0.625138               0.095216        0.279646"
      ]
     },
     "execution_count": 33,
     "metadata": {},
     "output_type": "execute_result"
    }
   ],
   "source": [
    "cross_tab.sort_values(by='Closed by arrest')"
   ]
  },
  {
   "cell_type": "code",
   "execution_count": 34,
   "metadata": {
    "slideshow": {
     "slide_type": "skip"
    }
   },
   "outputs": [
    {
     "data": {
      "text/plain": [
       "<matplotlib.axes._subplots.AxesSubplot at 0x116865640>"
      ]
     },
     "execution_count": 34,
     "metadata": {},
     "output_type": "execute_result"
    },
    {
     "data": {
      "image/png": "[encoded data removed]",
      "text/plain": [
       "<Figure size 432x288 with 1 Axes>"
      ]
     },
     "metadata": {
      "needs_background": "light"
     },
     "output_type": "display_data"
    }
   ],
   "source": [
    "cross_tab.sort_values(by='Closed by arrest').plot(kind   = 'barh',\n",
    "                                                  title  = 'Disposition by race')"
   ]
  },
  {
   "cell_type": "markdown",
   "metadata": {
    "slideshow": {
     "slide_type": "skip"
    }
   },
   "source": [
    "#### Subsets\n",
    "\n",
    "Similar to a list, a dataframe or series can be sliced to subset the data shown. For example, `df[:2]` will return the first two rows of the dataframe. (This is identical to `df.head(2)`.)"
   ]
  },
  {
   "cell_type": "code",
   "execution_count": 35,
   "metadata": {
    "slideshow": {
     "slide_type": "skip"
    }
   },
   "outputs": [
    {
     "data": {
      "text/html": [
       "<div>\n",
       "<style scoped>\n",
       "    .dataframe tbody tr th:only-of-type {\n",
       "        vertical-align: middle;\n",
       "    }\n",
       "\n",
       "    .dataframe tbody tr th {\n",
       "        vertical-align: top;\n",
       "    }\n",
       "\n",
       "    .dataframe thead th {\n",
       "        text-align: right;\n",
       "    }\n",
       "</style>\n",
       "<table border=\"1\" class=\"dataframe\">\n",
       "  <thead>\n",
       "    <tr style=\"text-align: right;\">\n",
       "      <th></th>\n",
       "      <th>uid</th>\n",
       "      <th>reported_date</th>\n",
       "      <th>victim_last</th>\n",
       "      <th>victim_first</th>\n",
       "      <th>victim_race</th>\n",
       "      <th>victim_age</th>\n",
       "      <th>victim_sex</th>\n",
       "      <th>city</th>\n",
       "      <th>state</th>\n",
       "      <th>lat</th>\n",
       "      <th>lon</th>\n",
       "      <th>disposition</th>\n",
       "    </tr>\n",
       "  </thead>\n",
       "  <tbody>\n",
       "    <tr>\n",
       "      <th>0</th>\n",
       "      <td>Alb-000001</td>\n",
       "      <td>20100504</td>\n",
       "      <td>GARCIA</td>\n",
       "      <td>JUAN</td>\n",
       "      <td>Hispanic</td>\n",
       "      <td>78.0</td>\n",
       "      <td>Male</td>\n",
       "      <td>Albuquerque</td>\n",
       "      <td>NM</td>\n",
       "      <td>35.095788</td>\n",
       "      <td>-106.538555</td>\n",
       "      <td>Closed without arrest</td>\n",
       "    </tr>\n",
       "    <tr>\n",
       "      <th>1</th>\n",
       "      <td>Alb-000002</td>\n",
       "      <td>20100216</td>\n",
       "      <td>MONTOYA</td>\n",
       "      <td>CAMERON</td>\n",
       "      <td>Hispanic</td>\n",
       "      <td>17.0</td>\n",
       "      <td>Male</td>\n",
       "      <td>Albuquerque</td>\n",
       "      <td>NM</td>\n",
       "      <td>35.056810</td>\n",
       "      <td>-106.715321</td>\n",
       "      <td>Closed by arrest</td>\n",
       "    </tr>\n",
       "  </tbody>\n",
       "</table>\n",
       "</div>"
      ],
      "text/plain": [
       "          uid  reported_date victim_last victim_first victim_race  victim_age  \\\n",
       "0  Alb-000001       20100504      GARCIA         JUAN    Hispanic        78.0   \n",
       "1  Alb-000002       20100216     MONTOYA      CAMERON    Hispanic        17.0   \n",
       "\n",
       "  victim_sex         city state        lat         lon            disposition  \n",
       "0       Male  Albuquerque    NM  35.095788 -106.538555  Closed without arrest  \n",
       "1       Male  Albuquerque    NM  35.056810 -106.715321       Closed by arrest  "
      ]
     },
     "execution_count": 35,
     "metadata": {},
     "output_type": "execute_result"
    }
   ],
   "source": [
    "df[:2]"
   ]
  },
  {
   "cell_type": "code",
   "execution_count": 36,
   "metadata": {
    "slideshow": {
     "slide_type": "skip"
    }
   },
   "outputs": [
    {
     "data": {
      "text/html": [
       "<div>\n",
       "<style scoped>\n",
       "    .dataframe tbody tr th:only-of-type {\n",
       "        vertical-align: middle;\n",
       "    }\n",
       "\n",
       "    .dataframe tbody tr th {\n",
       "        vertical-align: top;\n",
       "    }\n",
       "\n",
       "    .dataframe thead th {\n",
       "        text-align: right;\n",
       "    }\n",
       "</style>\n",
       "<table border=\"1\" class=\"dataframe\">\n",
       "  <thead>\n",
       "    <tr style=\"text-align: right;\">\n",
       "      <th></th>\n",
       "      <th>uid</th>\n",
       "      <th>reported_date</th>\n",
       "      <th>victim_last</th>\n",
       "      <th>victim_first</th>\n",
       "      <th>victim_race</th>\n",
       "      <th>victim_age</th>\n",
       "      <th>victim_sex</th>\n",
       "      <th>city</th>\n",
       "      <th>state</th>\n",
       "      <th>lat</th>\n",
       "      <th>lon</th>\n",
       "      <th>disposition</th>\n",
       "    </tr>\n",
       "  </thead>\n",
       "  <tbody>\n",
       "    <tr>\n",
       "      <th>0</th>\n",
       "      <td>Alb-000001</td>\n",
       "      <td>20100504</td>\n",
       "      <td>GARCIA</td>\n",
       "      <td>JUAN</td>\n",
       "      <td>Hispanic</td>\n",
       "      <td>78.0</td>\n",
       "      <td>Male</td>\n",
       "      <td>Albuquerque</td>\n",
       "      <td>NM</td>\n",
       "      <td>35.095788</td>\n",
       "      <td>-106.538555</td>\n",
       "      <td>Closed without arrest</td>\n",
       "    </tr>\n",
       "    <tr>\n",
       "      <th>1</th>\n",
       "      <td>Alb-000002</td>\n",
       "      <td>20100216</td>\n",
       "      <td>MONTOYA</td>\n",
       "      <td>CAMERON</td>\n",
       "      <td>Hispanic</td>\n",
       "      <td>17.0</td>\n",
       "      <td>Male</td>\n",
       "      <td>Albuquerque</td>\n",
       "      <td>NM</td>\n",
       "      <td>35.056810</td>\n",
       "      <td>-106.715321</td>\n",
       "      <td>Closed by arrest</td>\n",
       "    </tr>\n",
       "  </tbody>\n",
       "</table>\n",
       "</div>"
      ],
      "text/plain": [
       "          uid  reported_date victim_last victim_first victim_race  victim_age  \\\n",
       "0  Alb-000001       20100504      GARCIA         JUAN    Hispanic        78.0   \n",
       "1  Alb-000002       20100216     MONTOYA      CAMERON    Hispanic        17.0   \n",
       "\n",
       "  victim_sex         city state        lat         lon            disposition  \n",
       "0       Male  Albuquerque    NM  35.095788 -106.538555  Closed without arrest  \n",
       "1       Male  Albuquerque    NM  35.056810 -106.715321       Closed by arrest  "
      ]
     },
     "execution_count": 36,
     "metadata": {},
     "output_type": "execute_result"
    }
   ],
   "source": [
    "df.head(2)"
   ]
  },
  {
   "cell_type": "markdown",
   "metadata": {
    "slideshow": {
     "slide_type": "skip"
    }
   },
   "source": [
    "This also works for specific columns."
   ]
  },
  {
   "cell_type": "code",
   "execution_count": 37,
   "metadata": {
    "slideshow": {
     "slide_type": "skip"
    }
   },
   "outputs": [
    {
     "data": {
      "text/plain": [
       "0    20100504\n",
       "1    20100216\n",
       "2    20100601\n",
       "Name: reported_date, dtype: int64"
      ]
     },
     "execution_count": 37,
     "metadata": {},
     "output_type": "execute_result"
    }
   ],
   "source": [
    "df['reported_date'][:3]"
   ]
  },
  {
   "cell_type": "markdown",
   "metadata": {
    "slideshow": {
     "slide_type": "slide"
    }
   },
   "source": [
    "#### Dates\n",
    "\n",
    "Unfortunately, pandas does not automatically understand that the `reported_date` variable is a date variable. Luckily, we can use the `to_datetime` method to create a new variable from the `reported_date` variable that pandas is able to interpret as a set of dates. The format is `%Y%m%d` because the original date is in the \"YYYMMDD\" format, and `coerce` places missing values where the data can be translated, rather than stopping variable creation completely. "
   ]
  },
  {
   "cell_type": "code",
   "execution_count": 38,
   "metadata": {},
   "outputs": [
    {
     "data": {
      "text/plain": [
       "0    20100504\n",
       "1    20100216\n",
       "2    20100601\n",
       "3    20100101\n",
       "4    20100102\n",
       "Name: reported_date, dtype: int64"
      ]
     },
     "execution_count": 38,
     "metadata": {},
     "output_type": "execute_result"
    }
   ],
   "source": [
    "df['reported_date'].head()"
   ]
  },
  {
   "cell_type": "code",
   "execution_count": 39,
   "metadata": {
    "slideshow": {
     "slide_type": "slide"
    }
   },
   "outputs": [],
   "source": [
    "df['date'] = pd.to_datetime(df['reported_date'], \n",
    "                            format='%Y%m%d', \n",
    "                            errors='coerce')"
   ]
  },
  {
   "cell_type": "code",
   "execution_count": 40,
   "metadata": {
    "slideshow": {
     "slide_type": "skip"
    }
   },
   "outputs": [
    {
     "data": {
      "text/plain": [
       "0   2010-05-04\n",
       "1   2010-02-16\n",
       "2   2010-06-01\n",
       "Name: date, dtype: datetime64[ns]"
      ]
     },
     "execution_count": 40,
     "metadata": {},
     "output_type": "execute_result"
    }
   ],
   "source": [
    "df['date'][:3]"
   ]
  },
  {
   "cell_type": "markdown",
   "metadata": {
    "slideshow": {
     "slide_type": "slide"
    }
   },
   "source": [
    "From the new series, we can extract specific elements, such as the year."
   ]
  },
  {
   "cell_type": "code",
   "execution_count": 41,
   "metadata": {
    "slideshow": {
     "slide_type": "fragment"
    }
   },
   "outputs": [],
   "source": [
    "df['year'] = df['date'].dt.year"
   ]
  },
  {
   "cell_type": "markdown",
   "metadata": {
    "slideshow": {
     "slide_type": "skip"
    }
   },
   "source": [
    "As before, `value_counts` and plots can give some sense of the distribution of the values."
   ]
  },
  {
   "cell_type": "code",
   "execution_count": 42,
   "metadata": {
    "slideshow": {
     "slide_type": "slide"
    }
   },
   "outputs": [
    {
     "data": {
      "text/plain": [
       "2016.0    6290\n",
       "2015.0    5334\n",
       "2017.0    5048\n",
       "2012.0    4908\n",
       "2010.0    4610\n",
       "2014.0    4608\n",
       "2013.0    4599\n",
       "2011.0    4562\n",
       "2007.0    4268\n",
       "2008.0    4215\n",
       "2009.0    3735\n",
       "Name: year, dtype: int64"
      ]
     },
     "execution_count": 42,
     "metadata": {},
     "output_type": "execute_result"
    }
   ],
   "source": [
    "df['year'].value_counts()"
   ]
  },
  {
   "cell_type": "markdown",
   "metadata": {
    "slideshow": {
     "slide_type": "skip"
    }
   },
   "source": [
    "`value_counts` returns a pandas series with an index equal to the original values (in this case the year), and the series values based on the frequency. Since years have an inherent order, it makes sense to sort by the index before we plot them."
   ]
  },
  {
   "cell_type": "code",
   "execution_count": 43,
   "metadata": {
    "slideshow": {
     "slide_type": "skip"
    }
   },
   "outputs": [
    {
     "data": {
      "text/plain": [
       "<matplotlib.axes._subplots.AxesSubplot at 0x118146700>"
      ]
     },
     "execution_count": 43,
     "metadata": {},
     "output_type": "execute_result"
    },
    {
     "data": {
      "image/png": "[encoded data removed]",
      "text/plain": [
       "<Figure size 432x288 with 1 Axes>"
      ]
     },
     "metadata": {
      "needs_background": "light"
     },
     "output_type": "display_data"
    }
   ],
   "source": [
    "df['year'].value_counts().sort_index(ascending = False).plot(kind='barh')"
   ]
  },
  {
   "cell_type": "markdown",
   "metadata": {
    "slideshow": {
     "slide_type": "skip"
    }
   },
   "source": [
    "`crosstab` can also create groups based on more than one variable for the x or y axis. In that case, you pass a list rather than a single variable or series. To make this more clear, you can create the lists before creating the crosstab."
   ]
  },
  {
   "cell_type": "code",
   "execution_count": 44,
   "metadata": {
    "slideshow": {
     "slide_type": "skip"
    }
   },
   "outputs": [
    {
     "data": {
      "text/html": [
       "<div>\n",
       "<style scoped>\n",
       "    .dataframe tbody tr th:only-of-type {\n",
       "        vertical-align: middle;\n",
       "    }\n",
       "\n",
       "    .dataframe tbody tr th {\n",
       "        vertical-align: top;\n",
       "    }\n",
       "\n",
       "    .dataframe thead th {\n",
       "        text-align: right;\n",
       "    }\n",
       "</style>\n",
       "<table border=\"1\" class=\"dataframe\">\n",
       "  <thead>\n",
       "    <tr style=\"text-align: right;\">\n",
       "      <th></th>\n",
       "      <th>year</th>\n",
       "      <th>2007.0</th>\n",
       "      <th>2008.0</th>\n",
       "      <th>2009.0</th>\n",
       "      <th>2010.0</th>\n",
       "      <th>2011.0</th>\n",
       "      <th>2012.0</th>\n",
       "      <th>2013.0</th>\n",
       "      <th>2014.0</th>\n",
       "      <th>2015.0</th>\n",
       "      <th>2016.0</th>\n",
       "      <th>2017.0</th>\n",
       "    </tr>\n",
       "    <tr>\n",
       "      <th>state</th>\n",
       "      <th>city</th>\n",
       "      <th></th>\n",
       "      <th></th>\n",
       "      <th></th>\n",
       "      <th></th>\n",
       "      <th></th>\n",
       "      <th></th>\n",
       "      <th></th>\n",
       "      <th></th>\n",
       "      <th></th>\n",
       "      <th></th>\n",
       "      <th></th>\n",
       "    </tr>\n",
       "  </thead>\n",
       "  <tbody>\n",
       "    <tr>\n",
       "      <th rowspan=\"2\" valign=\"top\">AL</th>\n",
       "      <th>Birmingham</th>\n",
       "      <td>92</td>\n",
       "      <td>81</td>\n",
       "      <td>65</td>\n",
       "      <td>58</td>\n",
       "      <td>54</td>\n",
       "      <td>68</td>\n",
       "      <td>64</td>\n",
       "      <td>52</td>\n",
       "      <td>78</td>\n",
       "      <td>90</td>\n",
       "      <td>98</td>\n",
       "    </tr>\n",
       "    <tr>\n",
       "      <th>Tulsa</th>\n",
       "      <td>0</td>\n",
       "      <td>0</td>\n",
       "      <td>0</td>\n",
       "      <td>0</td>\n",
       "      <td>0</td>\n",
       "      <td>0</td>\n",
       "      <td>0</td>\n",
       "      <td>0</td>\n",
       "      <td>0</td>\n",
       "      <td>1</td>\n",
       "      <td>0</td>\n",
       "    </tr>\n",
       "    <tr>\n",
       "      <th>AZ</th>\n",
       "      <th>Phoenix</th>\n",
       "      <td>0</td>\n",
       "      <td>0</td>\n",
       "      <td>0</td>\n",
       "      <td>0</td>\n",
       "      <td>124</td>\n",
       "      <td>126</td>\n",
       "      <td>124</td>\n",
       "      <td>117</td>\n",
       "      <td>116</td>\n",
       "      <td>146</td>\n",
       "      <td>161</td>\n",
       "    </tr>\n",
       "    <tr>\n",
       "      <th rowspan=\"9\" valign=\"top\">CA</th>\n",
       "      <th>Fresno</th>\n",
       "      <td>52</td>\n",
       "      <td>40</td>\n",
       "      <td>42</td>\n",
       "      <td>45</td>\n",
       "      <td>35</td>\n",
       "      <td>51</td>\n",
       "      <td>39</td>\n",
       "      <td>49</td>\n",
       "      <td>39</td>\n",
       "      <td>39</td>\n",
       "      <td>56</td>\n",
       "    </tr>\n",
       "    <tr>\n",
       "      <th>Long Beach</th>\n",
       "      <td>39</td>\n",
       "      <td>41</td>\n",
       "      <td>42</td>\n",
       "      <td>33</td>\n",
       "      <td>28</td>\n",
       "      <td>34</td>\n",
       "      <td>37</td>\n",
       "      <td>26</td>\n",
       "      <td>40</td>\n",
       "      <td>37</td>\n",
       "      <td>21</td>\n",
       "    </tr>\n",
       "    <tr>\n",
       "      <th>Los Angeles</th>\n",
       "      <td>0</td>\n",
       "      <td>0</td>\n",
       "      <td>0</td>\n",
       "      <td>295</td>\n",
       "      <td>298</td>\n",
       "      <td>298</td>\n",
       "      <td>250</td>\n",
       "      <td>260</td>\n",
       "      <td>282</td>\n",
       "      <td>293</td>\n",
       "      <td>281</td>\n",
       "    </tr>\n",
       "    <tr>\n",
       "      <th>Oakland</th>\n",
       "      <td>0</td>\n",
       "      <td>119</td>\n",
       "      <td>103</td>\n",
       "      <td>91</td>\n",
       "      <td>101</td>\n",
       "      <td>126</td>\n",
       "      <td>89</td>\n",
       "      <td>78</td>\n",
       "      <td>83</td>\n",
       "      <td>85</td>\n",
       "      <td>72</td>\n",
       "    </tr>\n",
       "    <tr>\n",
       "      <th>Sacramento</th>\n",
       "      <td>44</td>\n",
       "      <td>49</td>\n",
       "      <td>31</td>\n",
       "      <td>34</td>\n",
       "      <td>36</td>\n",
       "      <td>34</td>\n",
       "      <td>34</td>\n",
       "      <td>27</td>\n",
       "      <td>45</td>\n",
       "      <td>40</td>\n",
       "      <td>2</td>\n",
       "    </tr>\n",
       "    <tr>\n",
       "      <th>San Bernardino</th>\n",
       "      <td>0</td>\n",
       "      <td>0</td>\n",
       "      <td>0</td>\n",
       "      <td>0</td>\n",
       "      <td>0</td>\n",
       "      <td>43</td>\n",
       "      <td>44</td>\n",
       "      <td>45</td>\n",
       "      <td>44</td>\n",
       "      <td>62</td>\n",
       "      <td>37</td>\n",
       "    </tr>\n",
       "    <tr>\n",
       "      <th>San Diego</th>\n",
       "      <td>60</td>\n",
       "      <td>53</td>\n",
       "      <td>41</td>\n",
       "      <td>29</td>\n",
       "      <td>38</td>\n",
       "      <td>48</td>\n",
       "      <td>39</td>\n",
       "      <td>31</td>\n",
       "      <td>38</td>\n",
       "      <td>50</td>\n",
       "      <td>34</td>\n",
       "    </tr>\n",
       "    <tr>\n",
       "      <th>San Francisco</th>\n",
       "      <td>99</td>\n",
       "      <td>96</td>\n",
       "      <td>45</td>\n",
       "      <td>49</td>\n",
       "      <td>52</td>\n",
       "      <td>69</td>\n",
       "      <td>46</td>\n",
       "      <td>44</td>\n",
       "      <td>51</td>\n",
       "      <td>57</td>\n",
       "      <td>55</td>\n",
       "    </tr>\n",
       "    <tr>\n",
       "      <th>Stockton</th>\n",
       "      <td>30</td>\n",
       "      <td>23</td>\n",
       "      <td>34</td>\n",
       "      <td>50</td>\n",
       "      <td>58</td>\n",
       "      <td>71</td>\n",
       "      <td>32</td>\n",
       "      <td>49</td>\n",
       "      <td>48</td>\n",
       "      <td>49</td>\n",
       "      <td>0</td>\n",
       "    </tr>\n",
       "    <tr>\n",
       "      <th>CO</th>\n",
       "      <th>Denver</th>\n",
       "      <td>0</td>\n",
       "      <td>0</td>\n",
       "      <td>0</td>\n",
       "      <td>38</td>\n",
       "      <td>43</td>\n",
       "      <td>40</td>\n",
       "      <td>42</td>\n",
       "      <td>31</td>\n",
       "      <td>53</td>\n",
       "      <td>57</td>\n",
       "      <td>8</td>\n",
       "    </tr>\n",
       "    <tr>\n",
       "      <th>DC</th>\n",
       "      <th>Washington</th>\n",
       "      <td>181</td>\n",
       "      <td>186</td>\n",
       "      <td>144</td>\n",
       "      <td>132</td>\n",
       "      <td>108</td>\n",
       "      <td>88</td>\n",
       "      <td>104</td>\n",
       "      <td>105</td>\n",
       "      <td>162</td>\n",
       "      <td>135</td>\n",
       "      <td>0</td>\n",
       "    </tr>\n",
       "    <tr>\n",
       "      <th rowspan=\"3\" valign=\"top\">FL</th>\n",
       "      <th>Jacksonville</th>\n",
       "      <td>131</td>\n",
       "      <td>120</td>\n",
       "      <td>99</td>\n",
       "      <td>90</td>\n",
       "      <td>75</td>\n",
       "      <td>100</td>\n",
       "      <td>103</td>\n",
       "      <td>101</td>\n",
       "      <td>103</td>\n",
       "      <td>114</td>\n",
       "      <td>132</td>\n",
       "    </tr>\n",
       "    <tr>\n",
       "      <th>Miami</th>\n",
       "      <td>79</td>\n",
       "      <td>64</td>\n",
       "      <td>60</td>\n",
       "      <td>69</td>\n",
       "      <td>71</td>\n",
       "      <td>54</td>\n",
       "      <td>69</td>\n",
       "      <td>82</td>\n",
       "      <td>75</td>\n",
       "      <td>59</td>\n",
       "      <td>60</td>\n",
       "    </tr>\n",
       "    <tr>\n",
       "      <th>Tampa</th>\n",
       "      <td>0</td>\n",
       "      <td>0</td>\n",
       "      <td>0</td>\n",
       "      <td>28</td>\n",
       "      <td>0</td>\n",
       "      <td>23</td>\n",
       "      <td>27</td>\n",
       "      <td>28</td>\n",
       "      <td>34</td>\n",
       "      <td>29</td>\n",
       "      <td>39</td>\n",
       "    </tr>\n",
       "    <tr>\n",
       "      <th rowspan=\"2\" valign=\"top\">GA</th>\n",
       "      <th>Atlanta</th>\n",
       "      <td>127</td>\n",
       "      <td>105</td>\n",
       "      <td>80</td>\n",
       "      <td>93</td>\n",
       "      <td>88</td>\n",
       "      <td>83</td>\n",
       "      <td>83</td>\n",
       "      <td>93</td>\n",
       "      <td>95</td>\n",
       "      <td>111</td>\n",
       "      <td>15</td>\n",
       "    </tr>\n",
       "    <tr>\n",
       "      <th>Savannah</th>\n",
       "      <td>17</td>\n",
       "      <td>22</td>\n",
       "      <td>20</td>\n",
       "      <td>15</td>\n",
       "      <td>25</td>\n",
       "      <td>18</td>\n",
       "      <td>21</td>\n",
       "      <td>25</td>\n",
       "      <td>42</td>\n",
       "      <td>37</td>\n",
       "      <td>4</td>\n",
       "    </tr>\n",
       "    <tr>\n",
       "      <th>IL</th>\n",
       "      <th>Chicago</th>\n",
       "      <td>445</td>\n",
       "      <td>510</td>\n",
       "      <td>457</td>\n",
       "      <td>434</td>\n",
       "      <td>437</td>\n",
       "      <td>505</td>\n",
       "      <td>423</td>\n",
       "      <td>418</td>\n",
       "      <td>487</td>\n",
       "      <td>765</td>\n",
       "      <td>654</td>\n",
       "    </tr>\n",
       "    <tr>\n",
       "      <th>IN</th>\n",
       "      <th>Indianapolis</th>\n",
       "      <td>113</td>\n",
       "      <td>114</td>\n",
       "      <td>99</td>\n",
       "      <td>92</td>\n",
       "      <td>96</td>\n",
       "      <td>96</td>\n",
       "      <td>125</td>\n",
       "      <td>138</td>\n",
       "      <td>144</td>\n",
       "      <td>150</td>\n",
       "      <td>155</td>\n",
       "    </tr>\n",
       "    <tr>\n",
       "      <th>KY</th>\n",
       "      <th>Louisville</th>\n",
       "      <td>0</td>\n",
       "      <td>0</td>\n",
       "      <td>0</td>\n",
       "      <td>52</td>\n",
       "      <td>53</td>\n",
       "      <td>62</td>\n",
       "      <td>48</td>\n",
       "      <td>58</td>\n",
       "      <td>81</td>\n",
       "      <td>117</td>\n",
       "      <td>105</td>\n",
       "    </tr>\n",
       "    <tr>\n",
       "      <th rowspan=\"2\" valign=\"top\">LA</th>\n",
       "      <th>Baton Rouge</th>\n",
       "      <td>0</td>\n",
       "      <td>0</td>\n",
       "      <td>0</td>\n",
       "      <td>0</td>\n",
       "      <td>64</td>\n",
       "      <td>67</td>\n",
       "      <td>49</td>\n",
       "      <td>52</td>\n",
       "      <td>61</td>\n",
       "      <td>44</td>\n",
       "      <td>87</td>\n",
       "    </tr>\n",
       "    <tr>\n",
       "      <th>New Orleans</th>\n",
       "      <td>0</td>\n",
       "      <td>2</td>\n",
       "      <td>2</td>\n",
       "      <td>186</td>\n",
       "      <td>211</td>\n",
       "      <td>206</td>\n",
       "      <td>157</td>\n",
       "      <td>163</td>\n",
       "      <td>168</td>\n",
       "      <td>176</td>\n",
       "      <td>163</td>\n",
       "    </tr>\n",
       "    <tr>\n",
       "      <th>MA</th>\n",
       "      <th>Boston</th>\n",
       "      <td>66</td>\n",
       "      <td>66</td>\n",
       "      <td>49</td>\n",
       "      <td>74</td>\n",
       "      <td>64</td>\n",
       "      <td>59</td>\n",
       "      <td>42</td>\n",
       "      <td>55</td>\n",
       "      <td>39</td>\n",
       "      <td>46</td>\n",
       "      <td>54</td>\n",
       "    </tr>\n",
       "    <tr>\n",
       "      <th>MD</th>\n",
       "      <th>Baltimore</th>\n",
       "      <td>280</td>\n",
       "      <td>234</td>\n",
       "      <td>236</td>\n",
       "      <td>220</td>\n",
       "      <td>197</td>\n",
       "      <td>216</td>\n",
       "      <td>231</td>\n",
       "      <td>211</td>\n",
       "      <td>342</td>\n",
       "      <td>320</td>\n",
       "      <td>340</td>\n",
       "    </tr>\n",
       "    <tr>\n",
       "      <th>MI</th>\n",
       "      <th>Detroit</th>\n",
       "      <td>0</td>\n",
       "      <td>0</td>\n",
       "      <td>0</td>\n",
       "      <td>310</td>\n",
       "      <td>346</td>\n",
       "      <td>386</td>\n",
       "      <td>337</td>\n",
       "      <td>294</td>\n",
       "      <td>280</td>\n",
       "      <td>300</td>\n",
       "      <td>266</td>\n",
       "    </tr>\n",
       "    <tr>\n",
       "      <th>MN</th>\n",
       "      <th>Minneapolis</th>\n",
       "      <td>41</td>\n",
       "      <td>35</td>\n",
       "      <td>15</td>\n",
       "      <td>35</td>\n",
       "      <td>35</td>\n",
       "      <td>42</td>\n",
       "      <td>41</td>\n",
       "      <td>33</td>\n",
       "      <td>48</td>\n",
       "      <td>34</td>\n",
       "      <td>7</td>\n",
       "    </tr>\n",
       "    <tr>\n",
       "      <th rowspan=\"2\" valign=\"top\">MO</th>\n",
       "      <th>Kansas City</th>\n",
       "      <td>87</td>\n",
       "      <td>119</td>\n",
       "      <td>103</td>\n",
       "      <td>101</td>\n",
       "      <td>111</td>\n",
       "      <td>105</td>\n",
       "      <td>100</td>\n",
       "      <td>81</td>\n",
       "      <td>112</td>\n",
       "      <td>121</td>\n",
       "      <td>150</td>\n",
       "    </tr>\n",
       "    <tr>\n",
       "      <th>St. Louis</th>\n",
       "      <td>140</td>\n",
       "      <td>167</td>\n",
       "      <td>146</td>\n",
       "      <td>142</td>\n",
       "      <td>113</td>\n",
       "      <td>112</td>\n",
       "      <td>121</td>\n",
       "      <td>160</td>\n",
       "      <td>186</td>\n",
       "      <td>188</td>\n",
       "      <td>202</td>\n",
       "    </tr>\n",
       "    <tr>\n",
       "      <th rowspan=\"2\" valign=\"top\">NC</th>\n",
       "      <th>Charlotte</th>\n",
       "      <td>72</td>\n",
       "      <td>83</td>\n",
       "      <td>55</td>\n",
       "      <td>61</td>\n",
       "      <td>56</td>\n",
       "      <td>51</td>\n",
       "      <td>54</td>\n",
       "      <td>42</td>\n",
       "      <td>60</td>\n",
       "      <td>68</td>\n",
       "      <td>85</td>\n",
       "    </tr>\n",
       "    <tr>\n",
       "      <th>Durham</th>\n",
       "      <td>26</td>\n",
       "      <td>24</td>\n",
       "      <td>22</td>\n",
       "      <td>23</td>\n",
       "      <td>27</td>\n",
       "      <td>21</td>\n",
       "      <td>28</td>\n",
       "      <td>24</td>\n",
       "      <td>37</td>\n",
       "      <td>40</td>\n",
       "      <td>4</td>\n",
       "    </tr>\n",
       "    <tr>\n",
       "      <th>NE</th>\n",
       "      <th>Omaha</th>\n",
       "      <td>41</td>\n",
       "      <td>44</td>\n",
       "      <td>33</td>\n",
       "      <td>33</td>\n",
       "      <td>39</td>\n",
       "      <td>39</td>\n",
       "      <td>40</td>\n",
       "      <td>32</td>\n",
       "      <td>50</td>\n",
       "      <td>29</td>\n",
       "      <td>29</td>\n",
       "    </tr>\n",
       "    <tr>\n",
       "      <th>NM</th>\n",
       "      <th>Albuquerque</th>\n",
       "      <td>0</td>\n",
       "      <td>0</td>\n",
       "      <td>0</td>\n",
       "      <td>45</td>\n",
       "      <td>38</td>\n",
       "      <td>46</td>\n",
       "      <td>33</td>\n",
       "      <td>28</td>\n",
       "      <td>50</td>\n",
       "      <td>63</td>\n",
       "      <td>75</td>\n",
       "    </tr>\n",
       "    <tr>\n",
       "      <th>NV</th>\n",
       "      <th>Las Vegas</th>\n",
       "      <td>119</td>\n",
       "      <td>133</td>\n",
       "      <td>121</td>\n",
       "      <td>112</td>\n",
       "      <td>88</td>\n",
       "      <td>81</td>\n",
       "      <td>97</td>\n",
       "      <td>124</td>\n",
       "      <td>131</td>\n",
       "      <td>158</td>\n",
       "      <td>217</td>\n",
       "    </tr>\n",
       "    <tr>\n",
       "      <th rowspan=\"2\" valign=\"top\">NY</th>\n",
       "      <th>Buffalo</th>\n",
       "      <td>56</td>\n",
       "      <td>37</td>\n",
       "      <td>61</td>\n",
       "      <td>54</td>\n",
       "      <td>36</td>\n",
       "      <td>50</td>\n",
       "      <td>47</td>\n",
       "      <td>63</td>\n",
       "      <td>41</td>\n",
       "      <td>45</td>\n",
       "      <td>31</td>\n",
       "    </tr>\n",
       "    <tr>\n",
       "      <th>New York</th>\n",
       "      <td>0</td>\n",
       "      <td>0</td>\n",
       "      <td>0</td>\n",
       "      <td>0</td>\n",
       "      <td>0</td>\n",
       "      <td>0</td>\n",
       "      <td>0</td>\n",
       "      <td>0</td>\n",
       "      <td>0</td>\n",
       "      <td>335</td>\n",
       "      <td>292</td>\n",
       "    </tr>\n",
       "    <tr>\n",
       "      <th rowspan=\"2\" valign=\"top\">OH</th>\n",
       "      <th>Cincinnati</th>\n",
       "      <td>67</td>\n",
       "      <td>76</td>\n",
       "      <td>56</td>\n",
       "      <td>70</td>\n",
       "      <td>66</td>\n",
       "      <td>53</td>\n",
       "      <td>75</td>\n",
       "      <td>62</td>\n",
       "      <td>36</td>\n",
       "      <td>62</td>\n",
       "      <td>71</td>\n",
       "    </tr>\n",
       "    <tr>\n",
       "      <th>Columbus</th>\n",
       "      <td>79</td>\n",
       "      <td>108</td>\n",
       "      <td>84</td>\n",
       "      <td>105</td>\n",
       "      <td>90</td>\n",
       "      <td>90</td>\n",
       "      <td>93</td>\n",
       "      <td>91</td>\n",
       "      <td>100</td>\n",
       "      <td>104</td>\n",
       "      <td>140</td>\n",
       "    </tr>\n",
       "    <tr>\n",
       "      <th rowspan=\"2\" valign=\"top\">OK</th>\n",
       "      <th>Oklahoma City</th>\n",
       "      <td>67</td>\n",
       "      <td>56</td>\n",
       "      <td>58</td>\n",
       "      <td>48</td>\n",
       "      <td>59</td>\n",
       "      <td>82</td>\n",
       "      <td>62</td>\n",
       "      <td>43</td>\n",
       "      <td>73</td>\n",
       "      <td>71</td>\n",
       "      <td>53</td>\n",
       "    </tr>\n",
       "    <tr>\n",
       "      <th>Tulsa</th>\n",
       "      <td>67</td>\n",
       "      <td>56</td>\n",
       "      <td>67</td>\n",
       "      <td>60</td>\n",
       "      <td>54</td>\n",
       "      <td>42</td>\n",
       "      <td>63</td>\n",
       "      <td>50</td>\n",
       "      <td>54</td>\n",
       "      <td>69</td>\n",
       "      <td>1</td>\n",
       "    </tr>\n",
       "    <tr>\n",
       "      <th rowspan=\"2\" valign=\"top\">PA</th>\n",
       "      <th>Philadelphia</th>\n",
       "      <td>389</td>\n",
       "      <td>332</td>\n",
       "      <td>304</td>\n",
       "      <td>304</td>\n",
       "      <td>322</td>\n",
       "      <td>333</td>\n",
       "      <td>249</td>\n",
       "      <td>249</td>\n",
       "      <td>277</td>\n",
       "      <td>277</td>\n",
       "      <td>1</td>\n",
       "    </tr>\n",
       "    <tr>\n",
       "      <th>Pittsburgh</th>\n",
       "      <td>64</td>\n",
       "      <td>79</td>\n",
       "      <td>44</td>\n",
       "      <td>61</td>\n",
       "      <td>46</td>\n",
       "      <td>43</td>\n",
       "      <td>46</td>\n",
       "      <td>71</td>\n",
       "      <td>60</td>\n",
       "      <td>59</td>\n",
       "      <td>58</td>\n",
       "    </tr>\n",
       "    <tr>\n",
       "      <th rowspan=\"2\" valign=\"top\">TN</th>\n",
       "      <th>Memphis</th>\n",
       "      <td>133</td>\n",
       "      <td>137</td>\n",
       "      <td>132</td>\n",
       "      <td>92</td>\n",
       "      <td>116</td>\n",
       "      <td>134</td>\n",
       "      <td>127</td>\n",
       "      <td>136</td>\n",
       "      <td>134</td>\n",
       "      <td>194</td>\n",
       "      <td>179</td>\n",
       "    </tr>\n",
       "    <tr>\n",
       "      <th>Nashville</th>\n",
       "      <td>77</td>\n",
       "      <td>74</td>\n",
       "      <td>80</td>\n",
       "      <td>56</td>\n",
       "      <td>55</td>\n",
       "      <td>63</td>\n",
       "      <td>40</td>\n",
       "      <td>44</td>\n",
       "      <td>82</td>\n",
       "      <td>85</td>\n",
       "      <td>111</td>\n",
       "    </tr>\n",
       "    <tr>\n",
       "      <th rowspan=\"4\" valign=\"top\">TX</th>\n",
       "      <th>Dallas</th>\n",
       "      <td>194</td>\n",
       "      <td>168</td>\n",
       "      <td>164</td>\n",
       "      <td>147</td>\n",
       "      <td>135</td>\n",
       "      <td>151</td>\n",
       "      <td>139</td>\n",
       "      <td>121</td>\n",
       "      <td>131</td>\n",
       "      <td>172</td>\n",
       "      <td>45</td>\n",
       "    </tr>\n",
       "    <tr>\n",
       "      <th>Fort Worth</th>\n",
       "      <td>58</td>\n",
       "      <td>48</td>\n",
       "      <td>44</td>\n",
       "      <td>64</td>\n",
       "      <td>50</td>\n",
       "      <td>45</td>\n",
       "      <td>56</td>\n",
       "      <td>53</td>\n",
       "      <td>57</td>\n",
       "      <td>65</td>\n",
       "      <td>9</td>\n",
       "    </tr>\n",
       "    <tr>\n",
       "      <th>Houston</th>\n",
       "      <td>350</td>\n",
       "      <td>293</td>\n",
       "      <td>286</td>\n",
       "      <td>268</td>\n",
       "      <td>198</td>\n",
       "      <td>217</td>\n",
       "      <td>214</td>\n",
       "      <td>241</td>\n",
       "      <td>303</td>\n",
       "      <td>302</td>\n",
       "      <td>270</td>\n",
       "    </tr>\n",
       "    <tr>\n",
       "      <th>San Antonio</th>\n",
       "      <td>127</td>\n",
       "      <td>119</td>\n",
       "      <td>100</td>\n",
       "      <td>76</td>\n",
       "      <td>0</td>\n",
       "      <td>0</td>\n",
       "      <td>77</td>\n",
       "      <td>99</td>\n",
       "      <td>94</td>\n",
       "      <td>141</td>\n",
       "      <td>0</td>\n",
       "    </tr>\n",
       "    <tr>\n",
       "      <th>VA</th>\n",
       "      <th>Richmond</th>\n",
       "      <td>56</td>\n",
       "      <td>31</td>\n",
       "      <td>39</td>\n",
       "      <td>41</td>\n",
       "      <td>37</td>\n",
       "      <td>44</td>\n",
       "      <td>37</td>\n",
       "      <td>42</td>\n",
       "      <td>42</td>\n",
       "      <td>60</td>\n",
       "      <td>0</td>\n",
       "    </tr>\n",
       "    <tr>\n",
       "      <th>wI</th>\n",
       "      <th>Milwaukee</th>\n",
       "      <td>103</td>\n",
       "      <td>71</td>\n",
       "      <td>72</td>\n",
       "      <td>95</td>\n",
       "      <td>89</td>\n",
       "      <td>93</td>\n",
       "      <td>101</td>\n",
       "      <td>87</td>\n",
       "      <td>146</td>\n",
       "      <td>139</td>\n",
       "      <td>119</td>\n",
       "    </tr>\n",
       "  </tbody>\n",
       "</table>\n",
       "</div>"
      ],
      "text/plain": [
       "year                  2007.0  2008.0  2009.0  2010.0  2011.0  2012.0  2013.0  \\\n",
       "state city                                                                     \n",
       "AL    Birmingham          92      81      65      58      54      68      64   \n",
       "      Tulsa                0       0       0       0       0       0       0   \n",
       "AZ    Phoenix              0       0       0       0     124     126     124   \n",
       "CA    Fresno              52      40      42      45      35      51      39   \n",
       "      Long Beach          39      41      42      33      28      34      37   \n",
       "      Los Angeles          0       0       0     295     298     298     250   \n",
       "      Oakland              0     119     103      91     101     126      89   \n",
       "      Sacramento          44      49      31      34      36      34      34   \n",
       "      San Bernardino       0       0       0       0       0      43      44   \n",
       "      San Diego           60      53      41      29      38      48      39   \n",
       "      San Francisco       99      96      45      49      52      69      46   \n",
       "      Stockton            30      23      34      50      58      71      32   \n",
       "CO    Denver               0       0       0      38      43      40      42   \n",
       "DC    Washington         181     186     144     132     108      88     104   \n",
       "FL    Jacksonville       131     120      99      90      75     100     103   \n",
       "      Miami               79      64      60      69      71      54      69   \n",
       "      Tampa                0       0       0      28       0      23      27   \n",
       "GA    Atlanta            127     105      80      93      88      83      83   \n",
       "      Savannah            17      22      20      15      25      18      21   \n",
       "IL    Chicago            445     510     457     434     437     505     423   \n",
       "IN    Indianapolis       113     114      99      92      96      96     125   \n",
       "KY    Louisville           0       0       0      52      53      62      48   \n",
       "LA    Baton Rouge          0       0       0       0      64      67      49   \n",
       "      New Orleans          0       2       2     186     211     206     157   \n",
       "MA    Boston              66      66      49      74      64      59      42   \n",
       "MD    Baltimore          280     234     236     220     197     216     231   \n",
       "MI    Detroit              0       0       0     310     346     386     337   \n",
       "MN    Minneapolis         41      35      15      35      35      42      41   \n",
       "MO    Kansas City         87     119     103     101     111     105     100   \n",
       "      St. Louis          140     167     146     142     113     112     121   \n",
       "NC    Charlotte           72      83      55      61      56      51      54   \n",
       "      Durham              26      24      22      23      27      21      28   \n",
       "NE    Omaha               41      44      33      33      39      39      40   \n",
       "NM    Albuquerque          0       0       0      45      38      46      33   \n",
       "NV    Las Vegas          119     133     121     112      88      81      97   \n",
       "NY    Buffalo             56      37      61      54      36      50      47   \n",
       "      New York             0       0       0       0       0       0       0   \n",
       "OH    Cincinnati          67      76      56      70      66      53      75   \n",
       "      Columbus            79     108      84     105      90      90      93   \n",
       "OK    Oklahoma City       67      56      58      48      59      82      62   \n",
       "      Tulsa               67      56      67      60      54      42      63   \n",
       "PA    Philadelphia       389     332     304     304     322     333     249   \n",
       "      Pittsburgh          64      79      44      61      46      43      46   \n",
       "TN    Memphis            133     137     132      92     116     134     127   \n",
       "      Nashville           77      74      80      56      55      63      40   \n",
       "TX    Dallas             194     168     164     147     135     151     139   \n",
       "      Fort Worth          58      48      44      64      50      45      56   \n",
       "      Houston            350     293     286     268     198     217     214   \n",
       "      San Antonio        127     119     100      76       0       0      77   \n",
       "VA    Richmond            56      31      39      41      37      44      37   \n",
       "wI    Milwaukee          103      71      72      95      89      93     101   \n",
       "\n",
       "year                  2014.0  2015.0  2016.0  2017.0  \n",
       "state city                                            \n",
       "AL    Birmingham          52      78      90      98  \n",
       "      Tulsa                0       0       1       0  \n",
       "AZ    Phoenix            117     116     146     161  \n",
       "CA    Fresno              49      39      39      56  \n",
       "      Long Beach          26      40      37      21  \n",
       "      Los Angeles        260     282     293     281  \n",
       "      Oakland             78      83      85      72  \n",
       "      Sacramento          27      45      40       2  \n",
       "      San Bernardino      45      44      62      37  \n",
       "      San Diego           31      38      50      34  \n",
       "      San Francisco       44      51      57      55  \n",
       "      Stockton            49      48      49       0  \n",
       "CO    Denver              31      53      57       8  \n",
       "DC    Washington         105     162     135       0  \n",
       "FL    Jacksonville       101     103     114     132  \n",
       "      Miami               82      75      59      60  \n",
       "      Tampa               28      34      29      39  \n",
       "GA    Atlanta             93      95     111      15  \n",
       "      Savannah            25      42      37       4  \n",
       "IL    Chicago            418     487     765     654  \n",
       "IN    Indianapolis       138     144     150     155  \n",
       "KY    Louisville          58      81     117     105  \n",
       "LA    Baton Rouge         52      61      44      87  \n",
       "      New Orleans        163     168     176     163  \n",
       "MA    Boston              55      39      46      54  \n",
       "MD    Baltimore          211     342     320     340  \n",
       "MI    Detroit            294     280     300     266  \n",
       "MN    Minneapolis         33      48      34       7  \n",
       "MO    Kansas City         81     112     121     150  \n",
       "      St. Louis          160     186     188     202  \n",
       "NC    Charlotte           42      60      68      85  \n",
       "      Durham              24      37      40       4  \n",
       "NE    Omaha               32      50      29      29  \n",
       "NM    Albuquerque         28      50      63      75  \n",
       "NV    Las Vegas          124     131     158     217  \n",
       "NY    Buffalo             63      41      45      31  \n",
       "      New York             0       0     335     292  \n",
       "OH    Cincinnati          62      36      62      71  \n",
       "      Columbus            91     100     104     140  \n",
       "OK    Oklahoma City       43      73      71      53  \n",
       "      Tulsa               50      54      69       1  \n",
       "PA    Philadelphia       249     277     277       1  \n",
       "      Pittsburgh          71      60      59      58  \n",
       "TN    Memphis            136     134     194     179  \n",
       "      Nashville           44      82      85     111  \n",
       "TX    Dallas             121     131     172      45  \n",
       "      Fort Worth          53      57      65       9  \n",
       "      Houston            241     303     302     270  \n",
       "      San Antonio         99      94     141       0  \n",
       "VA    Richmond            42      42      60       0  \n",
       "wI    Milwaukee           87     146     139     119  "
      ]
     },
     "execution_count": 44,
     "metadata": {},
     "output_type": "execute_result"
    }
   ],
   "source": [
    "y_vars = [df['state'], df['city']]\n",
    "x_vars = df['year']\n",
    "\n",
    "pd.crosstab(y_vars, x_vars)"
   ]
  },
  {
   "cell_type": "markdown",
   "metadata": {
    "slideshow": {
     "slide_type": "skip"
    }
   },
   "source": [
    "Crosstab returns a dataframe with the column and index names from the values in the original dataset. Since a list was passed, the datatframe has a `MultiIndex`. This can be useful for cases where you have nested data, like cities with states or annual data on multiple countries."
   ]
  },
  {
   "cell_type": "code",
   "execution_count": 45,
   "metadata": {
    "slideshow": {
     "slide_type": "skip"
    }
   },
   "outputs": [
    {
     "data": {
      "text/plain": [
       "FrozenList(['state', 'city'])"
      ]
     },
     "execution_count": 45,
     "metadata": {},
     "output_type": "execute_result"
    }
   ],
   "source": [
    "pd.crosstab(y_vars, x_vars).index.names"
   ]
  },
  {
   "cell_type": "markdown",
   "metadata": {
    "slideshow": {
     "slide_type": "slide"
    }
   },
   "source": [
    "### Index"
   ]
  },
  {
   "cell_type": "code",
   "execution_count": 46,
   "metadata": {
    "slideshow": {
     "slide_type": "fragment"
    }
   },
   "outputs": [
    {
     "data": {
      "text/html": [
       "<div>\n",
       "<style scoped>\n",
       "    .dataframe tbody tr th:only-of-type {\n",
       "        vertical-align: middle;\n",
       "    }\n",
       "\n",
       "    .dataframe tbody tr th {\n",
       "        vertical-align: top;\n",
       "    }\n",
       "\n",
       "    .dataframe thead th {\n",
       "        text-align: right;\n",
       "    }\n",
       "</style>\n",
       "<table border=\"1\" class=\"dataframe\">\n",
       "  <thead>\n",
       "    <tr style=\"text-align: right;\">\n",
       "      <th></th>\n",
       "      <th>uid</th>\n",
       "      <th>reported_date</th>\n",
       "      <th>victim_last</th>\n",
       "      <th>victim_first</th>\n",
       "      <th>victim_race</th>\n",
       "      <th>victim_age</th>\n",
       "      <th>victim_sex</th>\n",
       "      <th>city</th>\n",
       "      <th>state</th>\n",
       "      <th>lat</th>\n",
       "      <th>lon</th>\n",
       "      <th>disposition</th>\n",
       "      <th>date</th>\n",
       "      <th>year</th>\n",
       "    </tr>\n",
       "  </thead>\n",
       "  <tbody>\n",
       "    <tr>\n",
       "      <th>0</th>\n",
       "      <td>Alb-000001</td>\n",
       "      <td>20100504</td>\n",
       "      <td>GARCIA</td>\n",
       "      <td>JUAN</td>\n",
       "      <td>Hispanic</td>\n",
       "      <td>78.0</td>\n",
       "      <td>Male</td>\n",
       "      <td>Albuquerque</td>\n",
       "      <td>NM</td>\n",
       "      <td>35.095788</td>\n",
       "      <td>-106.538555</td>\n",
       "      <td>Closed without arrest</td>\n",
       "      <td>2010-05-04</td>\n",
       "      <td>2010.0</td>\n",
       "    </tr>\n",
       "    <tr>\n",
       "      <th>1</th>\n",
       "      <td>Alb-000002</td>\n",
       "      <td>20100216</td>\n",
       "      <td>MONTOYA</td>\n",
       "      <td>CAMERON</td>\n",
       "      <td>Hispanic</td>\n",
       "      <td>17.0</td>\n",
       "      <td>Male</td>\n",
       "      <td>Albuquerque</td>\n",
       "      <td>NM</td>\n",
       "      <td>35.056810</td>\n",
       "      <td>-106.715321</td>\n",
       "      <td>Closed by arrest</td>\n",
       "      <td>2010-02-16</td>\n",
       "      <td>2010.0</td>\n",
       "    </tr>\n",
       "    <tr>\n",
       "      <th>2</th>\n",
       "      <td>Alb-000003</td>\n",
       "      <td>20100601</td>\n",
       "      <td>SATTERFIELD</td>\n",
       "      <td>VIVIANA</td>\n",
       "      <td>White</td>\n",
       "      <td>15.0</td>\n",
       "      <td>Female</td>\n",
       "      <td>Albuquerque</td>\n",
       "      <td>NM</td>\n",
       "      <td>35.086092</td>\n",
       "      <td>-106.695568</td>\n",
       "      <td>Closed without arrest</td>\n",
       "      <td>2010-06-01</td>\n",
       "      <td>2010.0</td>\n",
       "    </tr>\n",
       "    <tr>\n",
       "      <th>3</th>\n",
       "      <td>Alb-000004</td>\n",
       "      <td>20100101</td>\n",
       "      <td>MENDIOLA</td>\n",
       "      <td>CARLOS</td>\n",
       "      <td>Hispanic</td>\n",
       "      <td>32.0</td>\n",
       "      <td>Male</td>\n",
       "      <td>Albuquerque</td>\n",
       "      <td>NM</td>\n",
       "      <td>35.078493</td>\n",
       "      <td>-106.556094</td>\n",
       "      <td>Closed by arrest</td>\n",
       "      <td>2010-01-01</td>\n",
       "      <td>2010.0</td>\n",
       "    </tr>\n",
       "    <tr>\n",
       "      <th>4</th>\n",
       "      <td>Alb-000005</td>\n",
       "      <td>20100102</td>\n",
       "      <td>MULA</td>\n",
       "      <td>VIVIAN</td>\n",
       "      <td>White</td>\n",
       "      <td>72.0</td>\n",
       "      <td>Female</td>\n",
       "      <td>Albuquerque</td>\n",
       "      <td>NM</td>\n",
       "      <td>35.130357</td>\n",
       "      <td>-106.580986</td>\n",
       "      <td>Closed without arrest</td>\n",
       "      <td>2010-01-02</td>\n",
       "      <td>2010.0</td>\n",
       "    </tr>\n",
       "  </tbody>\n",
       "</table>\n",
       "</div>"
      ],
      "text/plain": [
       "          uid  reported_date  victim_last victim_first victim_race  \\\n",
       "0  Alb-000001       20100504       GARCIA         JUAN    Hispanic   \n",
       "1  Alb-000002       20100216      MONTOYA      CAMERON    Hispanic   \n",
       "2  Alb-000003       20100601  SATTERFIELD      VIVIANA       White   \n",
       "3  Alb-000004       20100101     MENDIOLA       CARLOS    Hispanic   \n",
       "4  Alb-000005       20100102         MULA       VIVIAN       White   \n",
       "\n",
       "   victim_age victim_sex         city state        lat         lon  \\\n",
       "0        78.0       Male  Albuquerque    NM  35.095788 -106.538555   \n",
       "1        17.0       Male  Albuquerque    NM  35.056810 -106.715321   \n",
       "2        15.0     Female  Albuquerque    NM  35.086092 -106.695568   \n",
       "3        32.0       Male  Albuquerque    NM  35.078493 -106.556094   \n",
       "4        72.0     Female  Albuquerque    NM  35.130357 -106.580986   \n",
       "\n",
       "             disposition       date    year  \n",
       "0  Closed without arrest 2010-05-04  2010.0  \n",
       "1       Closed by arrest 2010-02-16  2010.0  \n",
       "2  Closed without arrest 2010-06-01  2010.0  \n",
       "3       Closed by arrest 2010-01-01  2010.0  \n",
       "4  Closed without arrest 2010-01-02  2010.0  "
      ]
     },
     "execution_count": 46,
     "metadata": {},
     "output_type": "execute_result"
    }
   ],
   "source": [
    "df.head()"
   ]
  },
  {
   "cell_type": "markdown",
   "metadata": {
    "slideshow": {
     "slide_type": "slide"
    }
   },
   "source": [
    "By default, the index is a series that starts with 0. If your data includes a set of unique identifiers, however, it is helpful to use this as the index, especially if you intend on merging your data with other data sources. In this dataframe, each row has a unique value for `uid`."
   ]
  },
  {
   "cell_type": "code",
   "execution_count": 47,
   "metadata": {
    "slideshow": {
     "slide_type": "fragment"
    }
   },
   "outputs": [],
   "source": [
    "df.set_index('uid', inplace=True)"
   ]
  },
  {
   "cell_type": "code",
   "execution_count": 48,
   "metadata": {
    "slideshow": {
     "slide_type": "slide"
    }
   },
   "outputs": [
    {
     "data": {
      "text/html": [
       "<div>\n",
       "<style scoped>\n",
       "    .dataframe tbody tr th:only-of-type {\n",
       "        vertical-align: middle;\n",
       "    }\n",
       "\n",
       "    .dataframe tbody tr th {\n",
       "        vertical-align: top;\n",
       "    }\n",
       "\n",
       "    .dataframe thead th {\n",
       "        text-align: right;\n",
       "    }\n",
       "</style>\n",
       "<table border=\"1\" class=\"dataframe\">\n",
       "  <thead>\n",
       "    <tr style=\"text-align: right;\">\n",
       "      <th></th>\n",
       "      <th>reported_date</th>\n",
       "      <th>victim_last</th>\n",
       "      <th>victim_first</th>\n",
       "      <th>victim_race</th>\n",
       "      <th>victim_age</th>\n",
       "      <th>victim_sex</th>\n",
       "      <th>city</th>\n",
       "      <th>state</th>\n",
       "      <th>lat</th>\n",
       "      <th>lon</th>\n",
       "      <th>disposition</th>\n",
       "      <th>date</th>\n",
       "      <th>year</th>\n",
       "    </tr>\n",
       "    <tr>\n",
       "      <th>uid</th>\n",
       "      <th></th>\n",
       "      <th></th>\n",
       "      <th></th>\n",
       "      <th></th>\n",
       "      <th></th>\n",
       "      <th></th>\n",
       "      <th></th>\n",
       "      <th></th>\n",
       "      <th></th>\n",
       "      <th></th>\n",
       "      <th></th>\n",
       "      <th></th>\n",
       "      <th></th>\n",
       "    </tr>\n",
       "  </thead>\n",
       "  <tbody>\n",
       "    <tr>\n",
       "      <th>Alb-000001</th>\n",
       "      <td>20100504</td>\n",
       "      <td>GARCIA</td>\n",
       "      <td>JUAN</td>\n",
       "      <td>Hispanic</td>\n",
       "      <td>78.0</td>\n",
       "      <td>Male</td>\n",
       "      <td>Albuquerque</td>\n",
       "      <td>NM</td>\n",
       "      <td>35.095788</td>\n",
       "      <td>-106.538555</td>\n",
       "      <td>Closed without arrest</td>\n",
       "      <td>2010-05-04</td>\n",
       "      <td>2010.0</td>\n",
       "    </tr>\n",
       "    <tr>\n",
       "      <th>Alb-000002</th>\n",
       "      <td>20100216</td>\n",
       "      <td>MONTOYA</td>\n",
       "      <td>CAMERON</td>\n",
       "      <td>Hispanic</td>\n",
       "      <td>17.0</td>\n",
       "      <td>Male</td>\n",
       "      <td>Albuquerque</td>\n",
       "      <td>NM</td>\n",
       "      <td>35.056810</td>\n",
       "      <td>-106.715321</td>\n",
       "      <td>Closed by arrest</td>\n",
       "      <td>2010-02-16</td>\n",
       "      <td>2010.0</td>\n",
       "    </tr>\n",
       "    <tr>\n",
       "      <th>Alb-000003</th>\n",
       "      <td>20100601</td>\n",
       "      <td>SATTERFIELD</td>\n",
       "      <td>VIVIANA</td>\n",
       "      <td>White</td>\n",
       "      <td>15.0</td>\n",
       "      <td>Female</td>\n",
       "      <td>Albuquerque</td>\n",
       "      <td>NM</td>\n",
       "      <td>35.086092</td>\n",
       "      <td>-106.695568</td>\n",
       "      <td>Closed without arrest</td>\n",
       "      <td>2010-06-01</td>\n",
       "      <td>2010.0</td>\n",
       "    </tr>\n",
       "    <tr>\n",
       "      <th>Alb-000004</th>\n",
       "      <td>20100101</td>\n",
       "      <td>MENDIOLA</td>\n",
       "      <td>CARLOS</td>\n",
       "      <td>Hispanic</td>\n",
       "      <td>32.0</td>\n",
       "      <td>Male</td>\n",
       "      <td>Albuquerque</td>\n",
       "      <td>NM</td>\n",
       "      <td>35.078493</td>\n",
       "      <td>-106.556094</td>\n",
       "      <td>Closed by arrest</td>\n",
       "      <td>2010-01-01</td>\n",
       "      <td>2010.0</td>\n",
       "    </tr>\n",
       "    <tr>\n",
       "      <th>Alb-000005</th>\n",
       "      <td>20100102</td>\n",
       "      <td>MULA</td>\n",
       "      <td>VIVIAN</td>\n",
       "      <td>White</td>\n",
       "      <td>72.0</td>\n",
       "      <td>Female</td>\n",
       "      <td>Albuquerque</td>\n",
       "      <td>NM</td>\n",
       "      <td>35.130357</td>\n",
       "      <td>-106.580986</td>\n",
       "      <td>Closed without arrest</td>\n",
       "      <td>2010-01-02</td>\n",
       "      <td>2010.0</td>\n",
       "    </tr>\n",
       "  </tbody>\n",
       "</table>\n",
       "</div>"
      ],
      "text/plain": [
       "            reported_date  victim_last victim_first victim_race  victim_age  \\\n",
       "uid                                                                           \n",
       "Alb-000001       20100504       GARCIA         JUAN    Hispanic        78.0   \n",
       "Alb-000002       20100216      MONTOYA      CAMERON    Hispanic        17.0   \n",
       "Alb-000003       20100601  SATTERFIELD      VIVIANA       White        15.0   \n",
       "Alb-000004       20100101     MENDIOLA       CARLOS    Hispanic        32.0   \n",
       "Alb-000005       20100102         MULA       VIVIAN       White        72.0   \n",
       "\n",
       "           victim_sex         city state        lat         lon  \\\n",
       "uid                                                               \n",
       "Alb-000001       Male  Albuquerque    NM  35.095788 -106.538555   \n",
       "Alb-000002       Male  Albuquerque    NM  35.056810 -106.715321   \n",
       "Alb-000003     Female  Albuquerque    NM  35.086092 -106.695568   \n",
       "Alb-000004       Male  Albuquerque    NM  35.078493 -106.556094   \n",
       "Alb-000005     Female  Albuquerque    NM  35.130357 -106.580986   \n",
       "\n",
       "                      disposition       date    year  \n",
       "uid                                                   \n",
       "Alb-000001  Closed without arrest 2010-05-04  2010.0  \n",
       "Alb-000002       Closed by arrest 2010-02-16  2010.0  \n",
       "Alb-000003  Closed without arrest 2010-06-01  2010.0  \n",
       "Alb-000004       Closed by arrest 2010-01-01  2010.0  \n",
       "Alb-000005  Closed without arrest 2010-01-02  2010.0  "
      ]
     },
     "execution_count": 48,
     "metadata": {},
     "output_type": "execute_result"
    }
   ],
   "source": [
    "df[:5]"
   ]
  },
  {
   "cell_type": "markdown",
   "metadata": {
    "slideshow": {
     "slide_type": "slide"
    }
   },
   "source": [
    "## Titanic Exercise 3\n",
    "\n",
    "In your Titanic dataframe, set the index to the <code>PassengerId</code> column. Confirm that it did want you wanted it to do.\n",
    "\n"
   ]
  },
  {
   "cell_type": "code",
   "execution_count": null,
   "metadata": {
    "slideshow": {
     "slide_type": "fragment"
    }
   },
   "outputs": [],
   "source": []
  },
  {
   "cell_type": "markdown",
   "metadata": {
    "slideshow": {
     "slide_type": "slide"
    }
   },
   "source": [
    "#### Subsetting\n",
    "\n",
    "You can view a subset of a dataframe based on the value of a column. \n",
    "\n",
    "Let's say that you wanted to look at the cases where the victim's first name was \"Juan\". You could create a new series which is either `True` or `False` for each case."
   ]
  },
  {
   "cell_type": "code",
   "execution_count": 49,
   "metadata": {
    "slideshow": {
     "slide_type": "slide"
    }
   },
   "outputs": [
    {
     "data": {
      "text/plain": [
       "uid\n",
       "Alb-000001     True\n",
       "Alb-000002    False\n",
       "Alb-000003    False\n",
       "Alb-000004    False\n",
       "Alb-000005    False\n",
       "              ...  \n",
       "Was-001380    False\n",
       "Was-001381    False\n",
       "Was-001382    False\n",
       "Was-001383    False\n",
       "Was-001384    False\n",
       "Name: victim_first, Length: 52179, dtype: bool"
      ]
     },
     "execution_count": 49,
     "metadata": {},
     "output_type": "execute_result"
    }
   ],
   "source": [
    "df['victim_first'] == 'JUAN'"
   ]
  },
  {
   "cell_type": "markdown",
   "metadata": {
    "slideshow": {
     "slide_type": "notes"
    }
   },
   "source": [
    "You could store this new true/false series. If you placed this in brackets after the name of the dataframe, pandas would display only the rows with a True value."
   ]
  },
  {
   "cell_type": "code",
   "execution_count": 50,
   "metadata": {
    "slideshow": {
     "slide_type": "slide"
    }
   },
   "outputs": [
    {
     "data": {
      "text/html": [
       "<div>\n",
       "<style scoped>\n",
       "    .dataframe tbody tr th:only-of-type {\n",
       "        vertical-align: middle;\n",
       "    }\n",
       "\n",
       "    .dataframe tbody tr th {\n",
       "        vertical-align: top;\n",
       "    }\n",
       "\n",
       "    .dataframe thead th {\n",
       "        text-align: right;\n",
       "    }\n",
       "</style>\n",
       "<table border=\"1\" class=\"dataframe\">\n",
       "  <thead>\n",
       "    <tr style=\"text-align: right;\">\n",
       "      <th></th>\n",
       "      <th>reported_date</th>\n",
       "      <th>victim_last</th>\n",
       "      <th>victim_first</th>\n",
       "      <th>victim_race</th>\n",
       "      <th>victim_age</th>\n",
       "      <th>victim_sex</th>\n",
       "      <th>city</th>\n",
       "      <th>state</th>\n",
       "      <th>lat</th>\n",
       "      <th>lon</th>\n",
       "      <th>disposition</th>\n",
       "      <th>date</th>\n",
       "      <th>year</th>\n",
       "    </tr>\n",
       "    <tr>\n",
       "      <th>uid</th>\n",
       "      <th></th>\n",
       "      <th></th>\n",
       "      <th></th>\n",
       "      <th></th>\n",
       "      <th></th>\n",
       "      <th></th>\n",
       "      <th></th>\n",
       "      <th></th>\n",
       "      <th></th>\n",
       "      <th></th>\n",
       "      <th></th>\n",
       "      <th></th>\n",
       "      <th></th>\n",
       "    </tr>\n",
       "  </thead>\n",
       "  <tbody>\n",
       "    <tr>\n",
       "      <th>Alb-000001</th>\n",
       "      <td>20100504</td>\n",
       "      <td>GARCIA</td>\n",
       "      <td>JUAN</td>\n",
       "      <td>Hispanic</td>\n",
       "      <td>78.0</td>\n",
       "      <td>Male</td>\n",
       "      <td>Albuquerque</td>\n",
       "      <td>NM</td>\n",
       "      <td>35.095788</td>\n",
       "      <td>-106.538555</td>\n",
       "      <td>Closed without arrest</td>\n",
       "      <td>2010-05-04</td>\n",
       "      <td>2010.0</td>\n",
       "    </tr>\n",
       "    <tr>\n",
       "      <th>Alb-000315</th>\n",
       "      <td>20170207</td>\n",
       "      <td>ROMERO</td>\n",
       "      <td>JUAN</td>\n",
       "      <td>White</td>\n",
       "      <td>26.0</td>\n",
       "      <td>Male</td>\n",
       "      <td>Albuquerque</td>\n",
       "      <td>NM</td>\n",
       "      <td>35.080584</td>\n",
       "      <td>-106.618029</td>\n",
       "      <td>Open/No arrest</td>\n",
       "      <td>2017-02-07</td>\n",
       "      <td>2017.0</td>\n",
       "    </tr>\n",
       "    <tr>\n",
       "      <th>Bal-002139</th>\n",
       "      <td>20090125</td>\n",
       "      <td>JOHNSON</td>\n",
       "      <td>JUAN</td>\n",
       "      <td>Black</td>\n",
       "      <td>14.0</td>\n",
       "      <td>Male</td>\n",
       "      <td>Baltimore</td>\n",
       "      <td>MD</td>\n",
       "      <td>39.339345</td>\n",
       "      <td>-76.662483</td>\n",
       "      <td>Closed by arrest</td>\n",
       "      <td>2009-01-25</td>\n",
       "      <td>2009.0</td>\n",
       "    </tr>\n",
       "    <tr>\n",
       "      <th>Bat-000099</th>\n",
       "      <td>20120701</td>\n",
       "      <td>LOPEZ</td>\n",
       "      <td>JUAN</td>\n",
       "      <td>Hispanic</td>\n",
       "      <td>26.0</td>\n",
       "      <td>Male</td>\n",
       "      <td>Baton Rouge</td>\n",
       "      <td>LA</td>\n",
       "      <td>30.479034</td>\n",
       "      <td>-91.104891</td>\n",
       "      <td>Open/No arrest</td>\n",
       "      <td>2012-07-01</td>\n",
       "      <td>2012.0</td>\n",
       "    </tr>\n",
       "    <tr>\n",
       "      <th>Bat-000219</th>\n",
       "      <td>20141116</td>\n",
       "      <td>JOSEPH</td>\n",
       "      <td>JUAN</td>\n",
       "      <td>Black</td>\n",
       "      <td>27.0</td>\n",
       "      <td>Male</td>\n",
       "      <td>Baton Rouge</td>\n",
       "      <td>LA</td>\n",
       "      <td>30.419692</td>\n",
       "      <td>-91.137286</td>\n",
       "      <td>Closed by arrest</td>\n",
       "      <td>2014-11-16</td>\n",
       "      <td>2014.0</td>\n",
       "    </tr>\n",
       "    <tr>\n",
       "      <th>...</th>\n",
       "      <td>...</td>\n",
       "      <td>...</td>\n",
       "      <td>...</td>\n",
       "      <td>...</td>\n",
       "      <td>...</td>\n",
       "      <td>...</td>\n",
       "      <td>...</td>\n",
       "      <td>...</td>\n",
       "      <td>...</td>\n",
       "      <td>...</td>\n",
       "      <td>...</td>\n",
       "      <td>...</td>\n",
       "      <td>...</td>\n",
       "    </tr>\n",
       "    <tr>\n",
       "      <th>Tul-000247</th>\n",
       "      <td>20080322</td>\n",
       "      <td>RODRIGUEZ</td>\n",
       "      <td>JUAN</td>\n",
       "      <td>Hispanic</td>\n",
       "      <td>19.0</td>\n",
       "      <td>Male</td>\n",
       "      <td>Tulsa</td>\n",
       "      <td>OK</td>\n",
       "      <td>36.186102</td>\n",
       "      <td>-95.984547</td>\n",
       "      <td>Closed by arrest</td>\n",
       "      <td>2008-03-22</td>\n",
       "      <td>2008.0</td>\n",
       "    </tr>\n",
       "    <tr>\n",
       "      <th>Tul-000253</th>\n",
       "      <td>20080509</td>\n",
       "      <td>CASTILLO</td>\n",
       "      <td>JUAN</td>\n",
       "      <td>White</td>\n",
       "      <td>NaN</td>\n",
       "      <td>Male</td>\n",
       "      <td>Tulsa</td>\n",
       "      <td>OK</td>\n",
       "      <td>36.058258</td>\n",
       "      <td>-95.917059</td>\n",
       "      <td>Open/No arrest</td>\n",
       "      <td>2008-05-09</td>\n",
       "      <td>2008.0</td>\n",
       "    </tr>\n",
       "    <tr>\n",
       "      <th>Tul-000605</th>\n",
       "      <td>20140211</td>\n",
       "      <td>MENDOZA</td>\n",
       "      <td>JUAN</td>\n",
       "      <td>White</td>\n",
       "      <td>34.0</td>\n",
       "      <td>Male</td>\n",
       "      <td>Tulsa</td>\n",
       "      <td>OK</td>\n",
       "      <td>36.096514</td>\n",
       "      <td>-95.896020</td>\n",
       "      <td>Closed by arrest</td>\n",
       "      <td>2014-02-11</td>\n",
       "      <td>2014.0</td>\n",
       "    </tr>\n",
       "    <tr>\n",
       "      <th>Tul-000741</th>\n",
       "      <td>20160529</td>\n",
       "      <td>GARCIALICEA</td>\n",
       "      <td>JUAN</td>\n",
       "      <td>Hispanic</td>\n",
       "      <td>35.0</td>\n",
       "      <td>Male</td>\n",
       "      <td>Tulsa</td>\n",
       "      <td>OK</td>\n",
       "      <td>36.129921</td>\n",
       "      <td>-95.850461</td>\n",
       "      <td>Open/No arrest</td>\n",
       "      <td>2016-05-29</td>\n",
       "      <td>2016.0</td>\n",
       "    </tr>\n",
       "    <tr>\n",
       "      <th>Was-000392</th>\n",
       "      <td>20120118</td>\n",
       "      <td>PAREDES</td>\n",
       "      <td>JUAN</td>\n",
       "      <td>Hispanic</td>\n",
       "      <td>45.0</td>\n",
       "      <td>Male</td>\n",
       "      <td>Washington</td>\n",
       "      <td>DC</td>\n",
       "      <td>38.930813</td>\n",
       "      <td>-77.032506</td>\n",
       "      <td>Closed by arrest</td>\n",
       "      <td>2012-01-18</td>\n",
       "      <td>2012.0</td>\n",
       "    </tr>\n",
       "  </tbody>\n",
       "</table>\n",
       "<p>183 rows × 13 columns</p>\n",
       "</div>"
      ],
      "text/plain": [
       "            reported_date  victim_last victim_first victim_race  victim_age  \\\n",
       "uid                                                                           \n",
       "Alb-000001       20100504       GARCIA         JUAN    Hispanic        78.0   \n",
       "Alb-000315       20170207       ROMERO         JUAN       White        26.0   \n",
       "Bal-002139       20090125      JOHNSON         JUAN       Black        14.0   \n",
       "Bat-000099       20120701        LOPEZ         JUAN    Hispanic        26.0   \n",
       "Bat-000219       20141116       JOSEPH         JUAN       Black        27.0   \n",
       "...                   ...          ...          ...         ...         ...   \n",
       "Tul-000247       20080322    RODRIGUEZ         JUAN    Hispanic        19.0   \n",
       "Tul-000253       20080509     CASTILLO         JUAN       White         NaN   \n",
       "Tul-000605       20140211      MENDOZA         JUAN       White        34.0   \n",
       "Tul-000741       20160529  GARCIALICEA         JUAN    Hispanic        35.0   \n",
       "Was-000392       20120118      PAREDES         JUAN    Hispanic        45.0   \n",
       "\n",
       "           victim_sex         city state        lat         lon  \\\n",
       "uid                                                               \n",
       "Alb-000001       Male  Albuquerque    NM  35.095788 -106.538555   \n",
       "Alb-000315       Male  Albuquerque    NM  35.080584 -106.618029   \n",
       "Bal-002139       Male    Baltimore    MD  39.339345  -76.662483   \n",
       "Bat-000099       Male  Baton Rouge    LA  30.479034  -91.104891   \n",
       "Bat-000219       Male  Baton Rouge    LA  30.419692  -91.137286   \n",
       "...               ...          ...   ...        ...         ...   \n",
       "Tul-000247       Male        Tulsa    OK  36.186102  -95.984547   \n",
       "Tul-000253       Male        Tulsa    OK  36.058258  -95.917059   \n",
       "Tul-000605       Male        Tulsa    OK  36.096514  -95.896020   \n",
       "Tul-000741       Male        Tulsa    OK  36.129921  -95.850461   \n",
       "Was-000392       Male   Washington    DC  38.930813  -77.032506   \n",
       "\n",
       "                      disposition       date    year  \n",
       "uid                                                   \n",
       "Alb-000001  Closed without arrest 2010-05-04  2010.0  \n",
       "Alb-000315         Open/No arrest 2017-02-07  2017.0  \n",
       "Bal-002139       Closed by arrest 2009-01-25  2009.0  \n",
       "Bat-000099         Open/No arrest 2012-07-01  2012.0  \n",
       "Bat-000219       Closed by arrest 2014-11-16  2014.0  \n",
       "...                           ...        ...     ...  \n",
       "Tul-000247       Closed by arrest 2008-03-22  2008.0  \n",
       "Tul-000253         Open/No arrest 2008-05-09  2008.0  \n",
       "Tul-000605       Closed by arrest 2014-02-11  2014.0  \n",
       "Tul-000741         Open/No arrest 2016-05-29  2016.0  \n",
       "Was-000392       Closed by arrest 2012-01-18  2012.0  \n",
       "\n",
       "[183 rows x 13 columns]"
      ]
     },
     "execution_count": 50,
     "metadata": {},
     "output_type": "execute_result"
    }
   ],
   "source": [
    "is_juan = df['victim_first'] == 'JUAN'\n",
    "df[is_juan]"
   ]
  },
  {
   "cell_type": "markdown",
   "metadata": {
    "slideshow": {
     "slide_type": "slide"
    }
   },
   "source": [
    "More commonly, the two statements are combined."
   ]
  },
  {
   "cell_type": "code",
   "execution_count": 51,
   "metadata": {
    "slideshow": {
     "slide_type": "fragment"
    }
   },
   "outputs": [
    {
     "data": {
      "text/html": [
       "<div>\n",
       "<style scoped>\n",
       "    .dataframe tbody tr th:only-of-type {\n",
       "        vertical-align: middle;\n",
       "    }\n",
       "\n",
       "    .dataframe tbody tr th {\n",
       "        vertical-align: top;\n",
       "    }\n",
       "\n",
       "    .dataframe thead th {\n",
       "        text-align: right;\n",
       "    }\n",
       "</style>\n",
       "<table border=\"1\" class=\"dataframe\">\n",
       "  <thead>\n",
       "    <tr style=\"text-align: right;\">\n",
       "      <th></th>\n",
       "      <th>reported_date</th>\n",
       "      <th>victim_last</th>\n",
       "      <th>victim_first</th>\n",
       "      <th>victim_race</th>\n",
       "      <th>victim_age</th>\n",
       "      <th>victim_sex</th>\n",
       "      <th>city</th>\n",
       "      <th>state</th>\n",
       "      <th>lat</th>\n",
       "      <th>lon</th>\n",
       "      <th>disposition</th>\n",
       "      <th>date</th>\n",
       "      <th>year</th>\n",
       "    </tr>\n",
       "    <tr>\n",
       "      <th>uid</th>\n",
       "      <th></th>\n",
       "      <th></th>\n",
       "      <th></th>\n",
       "      <th></th>\n",
       "      <th></th>\n",
       "      <th></th>\n",
       "      <th></th>\n",
       "      <th></th>\n",
       "      <th></th>\n",
       "      <th></th>\n",
       "      <th></th>\n",
       "      <th></th>\n",
       "      <th></th>\n",
       "    </tr>\n",
       "  </thead>\n",
       "  <tbody>\n",
       "    <tr>\n",
       "      <th>Alb-000001</th>\n",
       "      <td>20100504</td>\n",
       "      <td>GARCIA</td>\n",
       "      <td>JUAN</td>\n",
       "      <td>Hispanic</td>\n",
       "      <td>78.0</td>\n",
       "      <td>Male</td>\n",
       "      <td>Albuquerque</td>\n",
       "      <td>NM</td>\n",
       "      <td>35.095788</td>\n",
       "      <td>-106.538555</td>\n",
       "      <td>Closed without arrest</td>\n",
       "      <td>2010-05-04</td>\n",
       "      <td>2010.0</td>\n",
       "    </tr>\n",
       "    <tr>\n",
       "      <th>Alb-000315</th>\n",
       "      <td>20170207</td>\n",
       "      <td>ROMERO</td>\n",
       "      <td>JUAN</td>\n",
       "      <td>White</td>\n",
       "      <td>26.0</td>\n",
       "      <td>Male</td>\n",
       "      <td>Albuquerque</td>\n",
       "      <td>NM</td>\n",
       "      <td>35.080584</td>\n",
       "      <td>-106.618029</td>\n",
       "      <td>Open/No arrest</td>\n",
       "      <td>2017-02-07</td>\n",
       "      <td>2017.0</td>\n",
       "    </tr>\n",
       "    <tr>\n",
       "      <th>Bal-002139</th>\n",
       "      <td>20090125</td>\n",
       "      <td>JOHNSON</td>\n",
       "      <td>JUAN</td>\n",
       "      <td>Black</td>\n",
       "      <td>14.0</td>\n",
       "      <td>Male</td>\n",
       "      <td>Baltimore</td>\n",
       "      <td>MD</td>\n",
       "      <td>39.339345</td>\n",
       "      <td>-76.662483</td>\n",
       "      <td>Closed by arrest</td>\n",
       "      <td>2009-01-25</td>\n",
       "      <td>2009.0</td>\n",
       "    </tr>\n",
       "    <tr>\n",
       "      <th>Bat-000099</th>\n",
       "      <td>20120701</td>\n",
       "      <td>LOPEZ</td>\n",
       "      <td>JUAN</td>\n",
       "      <td>Hispanic</td>\n",
       "      <td>26.0</td>\n",
       "      <td>Male</td>\n",
       "      <td>Baton Rouge</td>\n",
       "      <td>LA</td>\n",
       "      <td>30.479034</td>\n",
       "      <td>-91.104891</td>\n",
       "      <td>Open/No arrest</td>\n",
       "      <td>2012-07-01</td>\n",
       "      <td>2012.0</td>\n",
       "    </tr>\n",
       "    <tr>\n",
       "      <th>Bat-000219</th>\n",
       "      <td>20141116</td>\n",
       "      <td>JOSEPH</td>\n",
       "      <td>JUAN</td>\n",
       "      <td>Black</td>\n",
       "      <td>27.0</td>\n",
       "      <td>Male</td>\n",
       "      <td>Baton Rouge</td>\n",
       "      <td>LA</td>\n",
       "      <td>30.419692</td>\n",
       "      <td>-91.137286</td>\n",
       "      <td>Closed by arrest</td>\n",
       "      <td>2014-11-16</td>\n",
       "      <td>2014.0</td>\n",
       "    </tr>\n",
       "    <tr>\n",
       "      <th>...</th>\n",
       "      <td>...</td>\n",
       "      <td>...</td>\n",
       "      <td>...</td>\n",
       "      <td>...</td>\n",
       "      <td>...</td>\n",
       "      <td>...</td>\n",
       "      <td>...</td>\n",
       "      <td>...</td>\n",
       "      <td>...</td>\n",
       "      <td>...</td>\n",
       "      <td>...</td>\n",
       "      <td>...</td>\n",
       "      <td>...</td>\n",
       "    </tr>\n",
       "    <tr>\n",
       "      <th>Tul-000247</th>\n",
       "      <td>20080322</td>\n",
       "      <td>RODRIGUEZ</td>\n",
       "      <td>JUAN</td>\n",
       "      <td>Hispanic</td>\n",
       "      <td>19.0</td>\n",
       "      <td>Male</td>\n",
       "      <td>Tulsa</td>\n",
       "      <td>OK</td>\n",
       "      <td>36.186102</td>\n",
       "      <td>-95.984547</td>\n",
       "      <td>Closed by arrest</td>\n",
       "      <td>2008-03-22</td>\n",
       "      <td>2008.0</td>\n",
       "    </tr>\n",
       "    <tr>\n",
       "      <th>Tul-000253</th>\n",
       "      <td>20080509</td>\n",
       "      <td>CASTILLO</td>\n",
       "      <td>JUAN</td>\n",
       "      <td>White</td>\n",
       "      <td>NaN</td>\n",
       "      <td>Male</td>\n",
       "      <td>Tulsa</td>\n",
       "      <td>OK</td>\n",
       "      <td>36.058258</td>\n",
       "      <td>-95.917059</td>\n",
       "      <td>Open/No arrest</td>\n",
       "      <td>2008-05-09</td>\n",
       "      <td>2008.0</td>\n",
       "    </tr>\n",
       "    <tr>\n",
       "      <th>Tul-000605</th>\n",
       "      <td>20140211</td>\n",
       "      <td>MENDOZA</td>\n",
       "      <td>JUAN</td>\n",
       "      <td>White</td>\n",
       "      <td>34.0</td>\n",
       "      <td>Male</td>\n",
       "      <td>Tulsa</td>\n",
       "      <td>OK</td>\n",
       "      <td>36.096514</td>\n",
       "      <td>-95.896020</td>\n",
       "      <td>Closed by arrest</td>\n",
       "      <td>2014-02-11</td>\n",
       "      <td>2014.0</td>\n",
       "    </tr>\n",
       "    <tr>\n",
       "      <th>Tul-000741</th>\n",
       "      <td>20160529</td>\n",
       "      <td>GARCIALICEA</td>\n",
       "      <td>JUAN</td>\n",
       "      <td>Hispanic</td>\n",
       "      <td>35.0</td>\n",
       "      <td>Male</td>\n",
       "      <td>Tulsa</td>\n",
       "      <td>OK</td>\n",
       "      <td>36.129921</td>\n",
       "      <td>-95.850461</td>\n",
       "      <td>Open/No arrest</td>\n",
       "      <td>2016-05-29</td>\n",
       "      <td>2016.0</td>\n",
       "    </tr>\n",
       "    <tr>\n",
       "      <th>Was-000392</th>\n",
       "      <td>20120118</td>\n",
       "      <td>PAREDES</td>\n",
       "      <td>JUAN</td>\n",
       "      <td>Hispanic</td>\n",
       "      <td>45.0</td>\n",
       "      <td>Male</td>\n",
       "      <td>Washington</td>\n",
       "      <td>DC</td>\n",
       "      <td>38.930813</td>\n",
       "      <td>-77.032506</td>\n",
       "      <td>Closed by arrest</td>\n",
       "      <td>2012-01-18</td>\n",
       "      <td>2012.0</td>\n",
       "    </tr>\n",
       "  </tbody>\n",
       "</table>\n",
       "<p>183 rows × 13 columns</p>\n",
       "</div>"
      ],
      "text/plain": [
       "            reported_date  victim_last victim_first victim_race  victim_age  \\\n",
       "uid                                                                           \n",
       "Alb-000001       20100504       GARCIA         JUAN    Hispanic        78.0   \n",
       "Alb-000315       20170207       ROMERO         JUAN       White        26.0   \n",
       "Bal-002139       20090125      JOHNSON         JUAN       Black        14.0   \n",
       "Bat-000099       20120701        LOPEZ         JUAN    Hispanic        26.0   \n",
       "Bat-000219       20141116       JOSEPH         JUAN       Black        27.0   \n",
       "...                   ...          ...          ...         ...         ...   \n",
       "Tul-000247       20080322    RODRIGUEZ         JUAN    Hispanic        19.0   \n",
       "Tul-000253       20080509     CASTILLO         JUAN       White         NaN   \n",
       "Tul-000605       20140211      MENDOZA         JUAN       White        34.0   \n",
       "Tul-000741       20160529  GARCIALICEA         JUAN    Hispanic        35.0   \n",
       "Was-000392       20120118      PAREDES         JUAN    Hispanic        45.0   \n",
       "\n",
       "           victim_sex         city state        lat         lon  \\\n",
       "uid                                                               \n",
       "Alb-000001       Male  Albuquerque    NM  35.095788 -106.538555   \n",
       "Alb-000315       Male  Albuquerque    NM  35.080584 -106.618029   \n",
       "Bal-002139       Male    Baltimore    MD  39.339345  -76.662483   \n",
       "Bat-000099       Male  Baton Rouge    LA  30.479034  -91.104891   \n",
       "Bat-000219       Male  Baton Rouge    LA  30.419692  -91.137286   \n",
       "...               ...          ...   ...        ...         ...   \n",
       "Tul-000247       Male        Tulsa    OK  36.186102  -95.984547   \n",
       "Tul-000253       Male        Tulsa    OK  36.058258  -95.917059   \n",
       "Tul-000605       Male        Tulsa    OK  36.096514  -95.896020   \n",
       "Tul-000741       Male        Tulsa    OK  36.129921  -95.850461   \n",
       "Was-000392       Male   Washington    DC  38.930813  -77.032506   \n",
       "\n",
       "                      disposition       date    year  \n",
       "uid                                                   \n",
       "Alb-000001  Closed without arrest 2010-05-04  2010.0  \n",
       "Alb-000315         Open/No arrest 2017-02-07  2017.0  \n",
       "Bal-002139       Closed by arrest 2009-01-25  2009.0  \n",
       "Bat-000099         Open/No arrest 2012-07-01  2012.0  \n",
       "Bat-000219       Closed by arrest 2014-11-16  2014.0  \n",
       "...                           ...        ...     ...  \n",
       "Tul-000247       Closed by arrest 2008-03-22  2008.0  \n",
       "Tul-000253         Open/No arrest 2008-05-09  2008.0  \n",
       "Tul-000605       Closed by arrest 2014-02-11  2014.0  \n",
       "Tul-000741         Open/No arrest 2016-05-29  2016.0  \n",
       "Was-000392       Closed by arrest 2012-01-18  2012.0  \n",
       "\n",
       "[183 rows x 13 columns]"
      ]
     },
     "execution_count": 51,
     "metadata": {},
     "output_type": "execute_result"
    }
   ],
   "source": [
    "df[df['victim_first'] == 'JUAN']"
   ]
  },
  {
   "cell_type": "markdown",
   "metadata": {
    "slideshow": {
     "slide_type": "slide"
    }
   },
   "source": [
    "With this method of subsetting, pandas isn't return a new dataframe; it is simply hiding some of the rows. If you want to create a new dataframe based on this subset, you'll need to append `copy()` to the end. "
   ]
  },
  {
   "cell_type": "code",
   "execution_count": 52,
   "metadata": {
    "slideshow": {
     "slide_type": "fragment"
    }
   },
   "outputs": [],
   "source": [
    "new_df = df[df['victim_first'] == 'JUAN'].copy()"
   ]
  },
  {
   "cell_type": "code",
   "execution_count": 53,
   "metadata": {
    "slideshow": {
     "slide_type": "slide"
    }
   },
   "outputs": [
    {
     "data": {
      "text/html": [
       "<div>\n",
       "<style scoped>\n",
       "    .dataframe tbody tr th:only-of-type {\n",
       "        vertical-align: middle;\n",
       "    }\n",
       "\n",
       "    .dataframe tbody tr th {\n",
       "        vertical-align: top;\n",
       "    }\n",
       "\n",
       "    .dataframe thead th {\n",
       "        text-align: right;\n",
       "    }\n",
       "</style>\n",
       "<table border=\"1\" class=\"dataframe\">\n",
       "  <thead>\n",
       "    <tr style=\"text-align: right;\">\n",
       "      <th></th>\n",
       "      <th>reported_date</th>\n",
       "      <th>victim_last</th>\n",
       "      <th>victim_first</th>\n",
       "      <th>victim_race</th>\n",
       "      <th>victim_age</th>\n",
       "      <th>victim_sex</th>\n",
       "      <th>city</th>\n",
       "      <th>state</th>\n",
       "      <th>lat</th>\n",
       "      <th>lon</th>\n",
       "      <th>disposition</th>\n",
       "      <th>date</th>\n",
       "      <th>year</th>\n",
       "    </tr>\n",
       "    <tr>\n",
       "      <th>uid</th>\n",
       "      <th></th>\n",
       "      <th></th>\n",
       "      <th></th>\n",
       "      <th></th>\n",
       "      <th></th>\n",
       "      <th></th>\n",
       "      <th></th>\n",
       "      <th></th>\n",
       "      <th></th>\n",
       "      <th></th>\n",
       "      <th></th>\n",
       "      <th></th>\n",
       "      <th></th>\n",
       "    </tr>\n",
       "  </thead>\n",
       "  <tbody>\n",
       "    <tr>\n",
       "      <th>Alb-000001</th>\n",
       "      <td>20100504</td>\n",
       "      <td>GARCIA</td>\n",
       "      <td>JUAN</td>\n",
       "      <td>Hispanic</td>\n",
       "      <td>78.0</td>\n",
       "      <td>Male</td>\n",
       "      <td>Albuquerque</td>\n",
       "      <td>NM</td>\n",
       "      <td>35.095788</td>\n",
       "      <td>-106.538555</td>\n",
       "      <td>Closed without arrest</td>\n",
       "      <td>2010-05-04</td>\n",
       "      <td>2010.0</td>\n",
       "    </tr>\n",
       "    <tr>\n",
       "      <th>Alb-000315</th>\n",
       "      <td>20170207</td>\n",
       "      <td>ROMERO</td>\n",
       "      <td>JUAN</td>\n",
       "      <td>White</td>\n",
       "      <td>26.0</td>\n",
       "      <td>Male</td>\n",
       "      <td>Albuquerque</td>\n",
       "      <td>NM</td>\n",
       "      <td>35.080584</td>\n",
       "      <td>-106.618029</td>\n",
       "      <td>Open/No arrest</td>\n",
       "      <td>2017-02-07</td>\n",
       "      <td>2017.0</td>\n",
       "    </tr>\n",
       "    <tr>\n",
       "      <th>Bal-002139</th>\n",
       "      <td>20090125</td>\n",
       "      <td>JOHNSON</td>\n",
       "      <td>JUAN</td>\n",
       "      <td>Black</td>\n",
       "      <td>14.0</td>\n",
       "      <td>Male</td>\n",
       "      <td>Baltimore</td>\n",
       "      <td>MD</td>\n",
       "      <td>39.339345</td>\n",
       "      <td>-76.662483</td>\n",
       "      <td>Closed by arrest</td>\n",
       "      <td>2009-01-25</td>\n",
       "      <td>2009.0</td>\n",
       "    </tr>\n",
       "    <tr>\n",
       "      <th>Bat-000099</th>\n",
       "      <td>20120701</td>\n",
       "      <td>LOPEZ</td>\n",
       "      <td>JUAN</td>\n",
       "      <td>Hispanic</td>\n",
       "      <td>26.0</td>\n",
       "      <td>Male</td>\n",
       "      <td>Baton Rouge</td>\n",
       "      <td>LA</td>\n",
       "      <td>30.479034</td>\n",
       "      <td>-91.104891</td>\n",
       "      <td>Open/No arrest</td>\n",
       "      <td>2012-07-01</td>\n",
       "      <td>2012.0</td>\n",
       "    </tr>\n",
       "    <tr>\n",
       "      <th>Bat-000219</th>\n",
       "      <td>20141116</td>\n",
       "      <td>JOSEPH</td>\n",
       "      <td>JUAN</td>\n",
       "      <td>Black</td>\n",
       "      <td>27.0</td>\n",
       "      <td>Male</td>\n",
       "      <td>Baton Rouge</td>\n",
       "      <td>LA</td>\n",
       "      <td>30.419692</td>\n",
       "      <td>-91.137286</td>\n",
       "      <td>Closed by arrest</td>\n",
       "      <td>2014-11-16</td>\n",
       "      <td>2014.0</td>\n",
       "    </tr>\n",
       "  </tbody>\n",
       "</table>\n",
       "</div>"
      ],
      "text/plain": [
       "            reported_date victim_last victim_first victim_race  victim_age  \\\n",
       "uid                                                                          \n",
       "Alb-000001       20100504      GARCIA         JUAN    Hispanic        78.0   \n",
       "Alb-000315       20170207      ROMERO         JUAN       White        26.0   \n",
       "Bal-002139       20090125     JOHNSON         JUAN       Black        14.0   \n",
       "Bat-000099       20120701       LOPEZ         JUAN    Hispanic        26.0   \n",
       "Bat-000219       20141116      JOSEPH         JUAN       Black        27.0   \n",
       "\n",
       "           victim_sex         city state        lat         lon  \\\n",
       "uid                                                               \n",
       "Alb-000001       Male  Albuquerque    NM  35.095788 -106.538555   \n",
       "Alb-000315       Male  Albuquerque    NM  35.080584 -106.618029   \n",
       "Bal-002139       Male    Baltimore    MD  39.339345  -76.662483   \n",
       "Bat-000099       Male  Baton Rouge    LA  30.479034  -91.104891   \n",
       "Bat-000219       Male  Baton Rouge    LA  30.419692  -91.137286   \n",
       "\n",
       "                      disposition       date    year  \n",
       "uid                                                   \n",
       "Alb-000001  Closed without arrest 2010-05-04  2010.0  \n",
       "Alb-000315         Open/No arrest 2017-02-07  2017.0  \n",
       "Bal-002139       Closed by arrest 2009-01-25  2009.0  \n",
       "Bat-000099         Open/No arrest 2012-07-01  2012.0  \n",
       "Bat-000219       Closed by arrest 2014-11-16  2014.0  "
      ]
     },
     "execution_count": 53,
     "metadata": {},
     "output_type": "execute_result"
    }
   ],
   "source": [
    "new_df.head()"
   ]
  },
  {
   "cell_type": "markdown",
   "metadata": {
    "slideshow": {
     "slide_type": "slide"
    }
   },
   "source": [
    "As this selection method returns a dataframe, it can be stored. The following creates two dataframes, containing just the cases from 2016 and 2017 respectively."
   ]
  },
  {
   "cell_type": "code",
   "execution_count": 54,
   "metadata": {
    "slideshow": {
     "slide_type": "slide"
    }
   },
   "outputs": [
    {
     "data": {
      "text/plain": [
       "2017.0    5048\n",
       "Name: year, dtype: int64"
      ]
     },
     "execution_count": 54,
     "metadata": {},
     "output_type": "execute_result"
    }
   ],
   "source": [
    "df_2017 = df[df['year'] == 2017].copy()\n",
    "df_2016 = df[df['year'] == 2016].copy()\n",
    "\n",
    "\n",
    "df_2017['year'].value_counts()"
   ]
  },
  {
   "cell_type": "code",
   "execution_count": 55,
   "metadata": {
    "slideshow": {
     "slide_type": "slide"
    }
   },
   "outputs": [
    {
     "data": {
      "text/plain": [
       "2016.0    6290\n",
       "Name: year, dtype: int64"
      ]
     },
     "execution_count": 55,
     "metadata": {},
     "output_type": "execute_result"
    }
   ],
   "source": [
    "df_2016['year'].value_counts()"
   ]
  },
  {
   "cell_type": "markdown",
   "metadata": {
    "slideshow": {
     "slide_type": "skip"
    }
   },
   "source": [
    "`value_counts` confirms that you've grabbed the correct cases.\n",
    "\n",
    "Alternatively, you may want to limit your dataset by column. In this case, you create a list of the columns you want. This list is also placed in brackets after the name of the dataframe."
   ]
  },
  {
   "cell_type": "markdown",
   "metadata": {
    "slideshow": {
     "slide_type": "slide"
    }
   },
   "source": [
    "## Titanic Exercise 4\n",
    "\n",
    "Create a new dataframe with just the female passengers. Check your work.\n",
    "\n"
   ]
  },
  {
   "cell_type": "code",
   "execution_count": null,
   "metadata": {
    "slideshow": {
     "slide_type": "fragment"
    }
   },
   "outputs": [],
   "source": []
  },
  {
   "cell_type": "markdown",
   "metadata": {
    "slideshow": {
     "slide_type": "slide"
    }
   },
   "source": [
    "#### More subsets"
   ]
  },
  {
   "cell_type": "code",
   "execution_count": 56,
   "metadata": {
    "slideshow": {
     "slide_type": "fragment"
    }
   },
   "outputs": [],
   "source": [
    "columns_to_keep = ['victim_last', 'victim_first', 'victim_race', 'victim_age', 'victim_sex']"
   ]
  },
  {
   "cell_type": "code",
   "execution_count": 57,
   "metadata": {
    "slideshow": {
     "slide_type": "fragment"
    }
   },
   "outputs": [
    {
     "data": {
      "text/html": [
       "<div>\n",
       "<style scoped>\n",
       "    .dataframe tbody tr th:only-of-type {\n",
       "        vertical-align: middle;\n",
       "    }\n",
       "\n",
       "    .dataframe tbody tr th {\n",
       "        vertical-align: top;\n",
       "    }\n",
       "\n",
       "    .dataframe thead th {\n",
       "        text-align: right;\n",
       "    }\n",
       "</style>\n",
       "<table border=\"1\" class=\"dataframe\">\n",
       "  <thead>\n",
       "    <tr style=\"text-align: right;\">\n",
       "      <th></th>\n",
       "      <th>victim_last</th>\n",
       "      <th>victim_first</th>\n",
       "      <th>victim_race</th>\n",
       "      <th>victim_age</th>\n",
       "      <th>victim_sex</th>\n",
       "    </tr>\n",
       "    <tr>\n",
       "      <th>uid</th>\n",
       "      <th></th>\n",
       "      <th></th>\n",
       "      <th></th>\n",
       "      <th></th>\n",
       "      <th></th>\n",
       "    </tr>\n",
       "  </thead>\n",
       "  <tbody>\n",
       "    <tr>\n",
       "      <th>Alb-000001</th>\n",
       "      <td>GARCIA</td>\n",
       "      <td>JUAN</td>\n",
       "      <td>Hispanic</td>\n",
       "      <td>78.0</td>\n",
       "      <td>Male</td>\n",
       "    </tr>\n",
       "    <tr>\n",
       "      <th>Alb-000002</th>\n",
       "      <td>MONTOYA</td>\n",
       "      <td>CAMERON</td>\n",
       "      <td>Hispanic</td>\n",
       "      <td>17.0</td>\n",
       "      <td>Male</td>\n",
       "    </tr>\n",
       "    <tr>\n",
       "      <th>Alb-000003</th>\n",
       "      <td>SATTERFIELD</td>\n",
       "      <td>VIVIANA</td>\n",
       "      <td>White</td>\n",
       "      <td>15.0</td>\n",
       "      <td>Female</td>\n",
       "    </tr>\n",
       "    <tr>\n",
       "      <th>Alb-000004</th>\n",
       "      <td>MENDIOLA</td>\n",
       "      <td>CARLOS</td>\n",
       "      <td>Hispanic</td>\n",
       "      <td>32.0</td>\n",
       "      <td>Male</td>\n",
       "    </tr>\n",
       "    <tr>\n",
       "      <th>Alb-000005</th>\n",
       "      <td>MULA</td>\n",
       "      <td>VIVIAN</td>\n",
       "      <td>White</td>\n",
       "      <td>72.0</td>\n",
       "      <td>Female</td>\n",
       "    </tr>\n",
       "    <tr>\n",
       "      <th>...</th>\n",
       "      <td>...</td>\n",
       "      <td>...</td>\n",
       "      <td>...</td>\n",
       "      <td>...</td>\n",
       "      <td>...</td>\n",
       "    </tr>\n",
       "    <tr>\n",
       "      <th>Was-001380</th>\n",
       "      <td>WILLIAMS</td>\n",
       "      <td>EVAN</td>\n",
       "      <td>Black</td>\n",
       "      <td>29.0</td>\n",
       "      <td>Male</td>\n",
       "    </tr>\n",
       "    <tr>\n",
       "      <th>Was-001381</th>\n",
       "      <td>SMITH</td>\n",
       "      <td>DEON</td>\n",
       "      <td>Black</td>\n",
       "      <td>19.0</td>\n",
       "      <td>Male</td>\n",
       "    </tr>\n",
       "    <tr>\n",
       "      <th>Was-001382</th>\n",
       "      <td>WASHINGTON</td>\n",
       "      <td>WILLIE</td>\n",
       "      <td>Black</td>\n",
       "      <td>23.0</td>\n",
       "      <td>Male</td>\n",
       "    </tr>\n",
       "    <tr>\n",
       "      <th>Was-001383</th>\n",
       "      <td>BARNES</td>\n",
       "      <td>MARCUS</td>\n",
       "      <td>Black</td>\n",
       "      <td>24.0</td>\n",
       "      <td>Male</td>\n",
       "    </tr>\n",
       "    <tr>\n",
       "      <th>Was-001384</th>\n",
       "      <td>JACKSON</td>\n",
       "      <td>KEVIN</td>\n",
       "      <td>Black</td>\n",
       "      <td>17.0</td>\n",
       "      <td>Male</td>\n",
       "    </tr>\n",
       "  </tbody>\n",
       "</table>\n",
       "<p>52179 rows × 5 columns</p>\n",
       "</div>"
      ],
      "text/plain": [
       "            victim_last victim_first victim_race  victim_age victim_sex\n",
       "uid                                                                    \n",
       "Alb-000001       GARCIA         JUAN    Hispanic        78.0       Male\n",
       "Alb-000002      MONTOYA      CAMERON    Hispanic        17.0       Male\n",
       "Alb-000003  SATTERFIELD      VIVIANA       White        15.0     Female\n",
       "Alb-000004     MENDIOLA       CARLOS    Hispanic        32.0       Male\n",
       "Alb-000005         MULA       VIVIAN       White        72.0     Female\n",
       "...                 ...          ...         ...         ...        ...\n",
       "Was-001380     WILLIAMS         EVAN       Black        29.0       Male\n",
       "Was-001381        SMITH         DEON       Black        19.0       Male\n",
       "Was-001382   WASHINGTON       WILLIE       Black        23.0       Male\n",
       "Was-001383       BARNES       MARCUS       Black        24.0       Male\n",
       "Was-001384      JACKSON        KEVIN       Black        17.0       Male\n",
       "\n",
       "[52179 rows x 5 columns]"
      ]
     },
     "execution_count": 57,
     "metadata": {},
     "output_type": "execute_result"
    }
   ],
   "source": [
    "df[columns_to_keep]"
   ]
  },
  {
   "cell_type": "markdown",
   "metadata": {
    "slideshow": {
     "slide_type": "slide"
    }
   },
   "source": [
    "As before, you can you use `copy` to create a new dataset."
   ]
  },
  {
   "cell_type": "code",
   "execution_count": 58,
   "metadata": {
    "slideshow": {
     "slide_type": "fragment"
    }
   },
   "outputs": [],
   "source": [
    "victim_df = df[columns_to_keep].copy()"
   ]
  },
  {
   "cell_type": "code",
   "execution_count": 59,
   "metadata": {
    "slideshow": {
     "slide_type": "fragment"
    }
   },
   "outputs": [
    {
     "data": {
      "text/html": [
       "<div>\n",
       "<style scoped>\n",
       "    .dataframe tbody tr th:only-of-type {\n",
       "        vertical-align: middle;\n",
       "    }\n",
       "\n",
       "    .dataframe tbody tr th {\n",
       "        vertical-align: top;\n",
       "    }\n",
       "\n",
       "    .dataframe thead th {\n",
       "        text-align: right;\n",
       "    }\n",
       "</style>\n",
       "<table border=\"1\" class=\"dataframe\">\n",
       "  <thead>\n",
       "    <tr style=\"text-align: right;\">\n",
       "      <th></th>\n",
       "      <th>victim_last</th>\n",
       "      <th>victim_first</th>\n",
       "      <th>victim_race</th>\n",
       "      <th>victim_age</th>\n",
       "      <th>victim_sex</th>\n",
       "    </tr>\n",
       "    <tr>\n",
       "      <th>uid</th>\n",
       "      <th></th>\n",
       "      <th></th>\n",
       "      <th></th>\n",
       "      <th></th>\n",
       "      <th></th>\n",
       "    </tr>\n",
       "  </thead>\n",
       "  <tbody>\n",
       "    <tr>\n",
       "      <th>Alb-000001</th>\n",
       "      <td>GARCIA</td>\n",
       "      <td>JUAN</td>\n",
       "      <td>Hispanic</td>\n",
       "      <td>78.0</td>\n",
       "      <td>Male</td>\n",
       "    </tr>\n",
       "    <tr>\n",
       "      <th>Alb-000002</th>\n",
       "      <td>MONTOYA</td>\n",
       "      <td>CAMERON</td>\n",
       "      <td>Hispanic</td>\n",
       "      <td>17.0</td>\n",
       "      <td>Male</td>\n",
       "    </tr>\n",
       "    <tr>\n",
       "      <th>Alb-000003</th>\n",
       "      <td>SATTERFIELD</td>\n",
       "      <td>VIVIANA</td>\n",
       "      <td>White</td>\n",
       "      <td>15.0</td>\n",
       "      <td>Female</td>\n",
       "    </tr>\n",
       "    <tr>\n",
       "      <th>Alb-000004</th>\n",
       "      <td>MENDIOLA</td>\n",
       "      <td>CARLOS</td>\n",
       "      <td>Hispanic</td>\n",
       "      <td>32.0</td>\n",
       "      <td>Male</td>\n",
       "    </tr>\n",
       "    <tr>\n",
       "      <th>Alb-000005</th>\n",
       "      <td>MULA</td>\n",
       "      <td>VIVIAN</td>\n",
       "      <td>White</td>\n",
       "      <td>72.0</td>\n",
       "      <td>Female</td>\n",
       "    </tr>\n",
       "  </tbody>\n",
       "</table>\n",
       "</div>"
      ],
      "text/plain": [
       "            victim_last victim_first victim_race  victim_age victim_sex\n",
       "uid                                                                    \n",
       "Alb-000001       GARCIA         JUAN    Hispanic        78.0       Male\n",
       "Alb-000002      MONTOYA      CAMERON    Hispanic        17.0       Male\n",
       "Alb-000003  SATTERFIELD      VIVIANA       White        15.0     Female\n",
       "Alb-000004     MENDIOLA       CARLOS    Hispanic        32.0       Male\n",
       "Alb-000005         MULA       VIVIAN       White        72.0     Female"
      ]
     },
     "execution_count": 59,
     "metadata": {},
     "output_type": "execute_result"
    }
   ],
   "source": [
    "victim_df.head()"
   ]
  },
  {
   "cell_type": "markdown",
   "metadata": {
    "slideshow": {
     "slide_type": "skip"
    }
   },
   "source": [
    "As with the row selection, you don't need to store the column names in a list first. By convention, these two steps are combined. However, combining the steps does create an awkward pair of double brackets."
   ]
  },
  {
   "cell_type": "code",
   "execution_count": 60,
   "metadata": {
    "slideshow": {
     "slide_type": "slide"
    }
   },
   "outputs": [],
   "source": [
    "place_df = df[['city', 'state', 'lat', 'lon']].copy()"
   ]
  },
  {
   "cell_type": "code",
   "execution_count": 61,
   "metadata": {
    "slideshow": {
     "slide_type": "fragment"
    }
   },
   "outputs": [
    {
     "data": {
      "text/html": [
       "<div>\n",
       "<style scoped>\n",
       "    .dataframe tbody tr th:only-of-type {\n",
       "        vertical-align: middle;\n",
       "    }\n",
       "\n",
       "    .dataframe tbody tr th {\n",
       "        vertical-align: top;\n",
       "    }\n",
       "\n",
       "    .dataframe thead th {\n",
       "        text-align: right;\n",
       "    }\n",
       "</style>\n",
       "<table border=\"1\" class=\"dataframe\">\n",
       "  <thead>\n",
       "    <tr style=\"text-align: right;\">\n",
       "      <th></th>\n",
       "      <th>city</th>\n",
       "      <th>state</th>\n",
       "      <th>lat</th>\n",
       "      <th>lon</th>\n",
       "    </tr>\n",
       "    <tr>\n",
       "      <th>uid</th>\n",
       "      <th></th>\n",
       "      <th></th>\n",
       "      <th></th>\n",
       "      <th></th>\n",
       "    </tr>\n",
       "  </thead>\n",
       "  <tbody>\n",
       "    <tr>\n",
       "      <th>Alb-000001</th>\n",
       "      <td>Albuquerque</td>\n",
       "      <td>NM</td>\n",
       "      <td>35.095788</td>\n",
       "      <td>-106.538555</td>\n",
       "    </tr>\n",
       "    <tr>\n",
       "      <th>Alb-000002</th>\n",
       "      <td>Albuquerque</td>\n",
       "      <td>NM</td>\n",
       "      <td>35.056810</td>\n",
       "      <td>-106.715321</td>\n",
       "    </tr>\n",
       "    <tr>\n",
       "      <th>Alb-000003</th>\n",
       "      <td>Albuquerque</td>\n",
       "      <td>NM</td>\n",
       "      <td>35.086092</td>\n",
       "      <td>-106.695568</td>\n",
       "    </tr>\n",
       "    <tr>\n",
       "      <th>Alb-000004</th>\n",
       "      <td>Albuquerque</td>\n",
       "      <td>NM</td>\n",
       "      <td>35.078493</td>\n",
       "      <td>-106.556094</td>\n",
       "    </tr>\n",
       "    <tr>\n",
       "      <th>Alb-000005</th>\n",
       "      <td>Albuquerque</td>\n",
       "      <td>NM</td>\n",
       "      <td>35.130357</td>\n",
       "      <td>-106.580986</td>\n",
       "    </tr>\n",
       "  </tbody>\n",
       "</table>\n",
       "</div>"
      ],
      "text/plain": [
       "                   city state        lat         lon\n",
       "uid                                                 \n",
       "Alb-000001  Albuquerque    NM  35.095788 -106.538555\n",
       "Alb-000002  Albuquerque    NM  35.056810 -106.715321\n",
       "Alb-000003  Albuquerque    NM  35.086092 -106.695568\n",
       "Alb-000004  Albuquerque    NM  35.078493 -106.556094\n",
       "Alb-000005  Albuquerque    NM  35.130357 -106.580986"
      ]
     },
     "execution_count": 61,
     "metadata": {},
     "output_type": "execute_result"
    }
   ],
   "source": [
    "place_df.head()"
   ]
  },
  {
   "cell_type": "markdown",
   "metadata": {
    "slideshow": {
     "slide_type": "skip"
    }
   },
   "source": [
    "#### Merging\n",
    "\n",
    "There are several different ways to combine datasets. The most straightforward is to merge two different datasets that share a common key. To merge `place_df` with  `victim_df`, for example, you can use the datframe `merge` method. "
   ]
  },
  {
   "cell_type": "code",
   "execution_count": 62,
   "metadata": {
    "slideshow": {
     "slide_type": "skip"
    }
   },
   "outputs": [
    {
     "data": {
      "text/html": [
       "<div>\n",
       "<style scoped>\n",
       "    .dataframe tbody tr th:only-of-type {\n",
       "        vertical-align: middle;\n",
       "    }\n",
       "\n",
       "    .dataframe tbody tr th {\n",
       "        vertical-align: top;\n",
       "    }\n",
       "\n",
       "    .dataframe thead th {\n",
       "        text-align: right;\n",
       "    }\n",
       "</style>\n",
       "<table border=\"1\" class=\"dataframe\">\n",
       "  <thead>\n",
       "    <tr style=\"text-align: right;\">\n",
       "      <th></th>\n",
       "      <th>city</th>\n",
       "      <th>state</th>\n",
       "      <th>lat</th>\n",
       "      <th>lon</th>\n",
       "      <th>victim_last</th>\n",
       "      <th>victim_first</th>\n",
       "      <th>victim_race</th>\n",
       "      <th>victim_age</th>\n",
       "      <th>victim_sex</th>\n",
       "    </tr>\n",
       "    <tr>\n",
       "      <th>uid</th>\n",
       "      <th></th>\n",
       "      <th></th>\n",
       "      <th></th>\n",
       "      <th></th>\n",
       "      <th></th>\n",
       "      <th></th>\n",
       "      <th></th>\n",
       "      <th></th>\n",
       "      <th></th>\n",
       "    </tr>\n",
       "  </thead>\n",
       "  <tbody>\n",
       "    <tr>\n",
       "      <th>Alb-000001</th>\n",
       "      <td>Albuquerque</td>\n",
       "      <td>NM</td>\n",
       "      <td>35.095788</td>\n",
       "      <td>-106.538555</td>\n",
       "      <td>GARCIA</td>\n",
       "      <td>JUAN</td>\n",
       "      <td>Hispanic</td>\n",
       "      <td>78.0</td>\n",
       "      <td>Male</td>\n",
       "    </tr>\n",
       "    <tr>\n",
       "      <th>Alb-000002</th>\n",
       "      <td>Albuquerque</td>\n",
       "      <td>NM</td>\n",
       "      <td>35.056810</td>\n",
       "      <td>-106.715321</td>\n",
       "      <td>MONTOYA</td>\n",
       "      <td>CAMERON</td>\n",
       "      <td>Hispanic</td>\n",
       "      <td>17.0</td>\n",
       "      <td>Male</td>\n",
       "    </tr>\n",
       "    <tr>\n",
       "      <th>Alb-000003</th>\n",
       "      <td>Albuquerque</td>\n",
       "      <td>NM</td>\n",
       "      <td>35.086092</td>\n",
       "      <td>-106.695568</td>\n",
       "      <td>SATTERFIELD</td>\n",
       "      <td>VIVIANA</td>\n",
       "      <td>White</td>\n",
       "      <td>15.0</td>\n",
       "      <td>Female</td>\n",
       "    </tr>\n",
       "    <tr>\n",
       "      <th>Alb-000004</th>\n",
       "      <td>Albuquerque</td>\n",
       "      <td>NM</td>\n",
       "      <td>35.078493</td>\n",
       "      <td>-106.556094</td>\n",
       "      <td>MENDIOLA</td>\n",
       "      <td>CARLOS</td>\n",
       "      <td>Hispanic</td>\n",
       "      <td>32.0</td>\n",
       "      <td>Male</td>\n",
       "    </tr>\n",
       "    <tr>\n",
       "      <th>Alb-000005</th>\n",
       "      <td>Albuquerque</td>\n",
       "      <td>NM</td>\n",
       "      <td>35.130357</td>\n",
       "      <td>-106.580986</td>\n",
       "      <td>MULA</td>\n",
       "      <td>VIVIAN</td>\n",
       "      <td>White</td>\n",
       "      <td>72.0</td>\n",
       "      <td>Female</td>\n",
       "    </tr>\n",
       "  </tbody>\n",
       "</table>\n",
       "</div>"
      ],
      "text/plain": [
       "                   city state        lat         lon  victim_last  \\\n",
       "uid                                                                 \n",
       "Alb-000001  Albuquerque    NM  35.095788 -106.538555       GARCIA   \n",
       "Alb-000002  Albuquerque    NM  35.056810 -106.715321      MONTOYA   \n",
       "Alb-000003  Albuquerque    NM  35.086092 -106.695568  SATTERFIELD   \n",
       "Alb-000004  Albuquerque    NM  35.078493 -106.556094     MENDIOLA   \n",
       "Alb-000005  Albuquerque    NM  35.130357 -106.580986         MULA   \n",
       "\n",
       "           victim_first victim_race  victim_age victim_sex  \n",
       "uid                                                         \n",
       "Alb-000001         JUAN    Hispanic        78.0       Male  \n",
       "Alb-000002      CAMERON    Hispanic        17.0       Male  \n",
       "Alb-000003      VIVIANA       White        15.0     Female  \n",
       "Alb-000004       CARLOS    Hispanic        32.0       Male  \n",
       "Alb-000005       VIVIAN       White        72.0     Female  "
      ]
     },
     "execution_count": 62,
     "metadata": {},
     "output_type": "execute_result"
    }
   ],
   "source": [
    "merged_df = place_df.merge(victim_df, left_index=True, right_index=True)\n",
    "\n",
    "merged_df.head()"
   ]
  },
  {
   "cell_type": "markdown",
   "metadata": {
    "slideshow": {
     "slide_type": "skip"
    }
   },
   "source": [
    "### Stacking dataframes"
   ]
  },
  {
   "cell_type": "code",
   "execution_count": 63,
   "metadata": {
    "slideshow": {
     "slide_type": "skip"
    }
   },
   "outputs": [
    {
     "data": {
      "text/plain": [
       "6290"
      ]
     },
     "execution_count": 63,
     "metadata": {},
     "output_type": "execute_result"
    }
   ],
   "source": [
    "df_2016 = df[df['year'] == 2016]\n",
    "len(df_2016)"
   ]
  },
  {
   "cell_type": "code",
   "execution_count": 64,
   "metadata": {
    "slideshow": {
     "slide_type": "skip"
    }
   },
   "outputs": [],
   "source": [
    "recent_df = pd.concat([df_2017, df_2016])"
   ]
  },
  {
   "cell_type": "code",
   "execution_count": 65,
   "metadata": {
    "slideshow": {
     "slide_type": "skip"
    }
   },
   "outputs": [
    {
     "data": {
      "text/plain": [
       "11338"
      ]
     },
     "execution_count": 65,
     "metadata": {},
     "output_type": "execute_result"
    }
   ],
   "source": [
    "len(recent_df)"
   ]
  },
  {
   "cell_type": "code",
   "execution_count": 66,
   "metadata": {
    "slideshow": {
     "slide_type": "skip"
    }
   },
   "outputs": [
    {
     "data": {
      "text/html": [
       "<div>\n",
       "<style scoped>\n",
       "    .dataframe tbody tr th:only-of-type {\n",
       "        vertical-align: middle;\n",
       "    }\n",
       "\n",
       "    .dataframe tbody tr th {\n",
       "        vertical-align: top;\n",
       "    }\n",
       "\n",
       "    .dataframe thead th {\n",
       "        text-align: right;\n",
       "    }\n",
       "</style>\n",
       "<table border=\"1\" class=\"dataframe\">\n",
       "  <thead>\n",
       "    <tr style=\"text-align: right;\">\n",
       "      <th></th>\n",
       "      <th>victim_last</th>\n",
       "      <th>victim_first</th>\n",
       "      <th>victim_race</th>\n",
       "      <th>victim_age</th>\n",
       "      <th>victim_sex</th>\n",
       "      <th>city</th>\n",
       "      <th>state</th>\n",
       "      <th>lat</th>\n",
       "      <th>lon</th>\n",
       "    </tr>\n",
       "    <tr>\n",
       "      <th>uid</th>\n",
       "      <th></th>\n",
       "      <th></th>\n",
       "      <th></th>\n",
       "      <th></th>\n",
       "      <th></th>\n",
       "      <th></th>\n",
       "      <th></th>\n",
       "      <th></th>\n",
       "      <th></th>\n",
       "    </tr>\n",
       "  </thead>\n",
       "  <tbody>\n",
       "    <tr>\n",
       "      <th>Alb-000001</th>\n",
       "      <td>GARCIA</td>\n",
       "      <td>JUAN</td>\n",
       "      <td>Hispanic</td>\n",
       "      <td>78.0</td>\n",
       "      <td>Male</td>\n",
       "      <td>Albuquerque</td>\n",
       "      <td>NM</td>\n",
       "      <td>35.095788</td>\n",
       "      <td>-106.538555</td>\n",
       "    </tr>\n",
       "    <tr>\n",
       "      <th>Alb-000002</th>\n",
       "      <td>MONTOYA</td>\n",
       "      <td>CAMERON</td>\n",
       "      <td>Hispanic</td>\n",
       "      <td>17.0</td>\n",
       "      <td>Male</td>\n",
       "      <td>Albuquerque</td>\n",
       "      <td>NM</td>\n",
       "      <td>35.056810</td>\n",
       "      <td>-106.715321</td>\n",
       "    </tr>\n",
       "    <tr>\n",
       "      <th>Alb-000003</th>\n",
       "      <td>SATTERFIELD</td>\n",
       "      <td>VIVIANA</td>\n",
       "      <td>White</td>\n",
       "      <td>15.0</td>\n",
       "      <td>Female</td>\n",
       "      <td>Albuquerque</td>\n",
       "      <td>NM</td>\n",
       "      <td>35.086092</td>\n",
       "      <td>-106.695568</td>\n",
       "    </tr>\n",
       "    <tr>\n",
       "      <th>Alb-000004</th>\n",
       "      <td>MENDIOLA</td>\n",
       "      <td>CARLOS</td>\n",
       "      <td>Hispanic</td>\n",
       "      <td>32.0</td>\n",
       "      <td>Male</td>\n",
       "      <td>Albuquerque</td>\n",
       "      <td>NM</td>\n",
       "      <td>35.078493</td>\n",
       "      <td>-106.556094</td>\n",
       "    </tr>\n",
       "    <tr>\n",
       "      <th>Alb-000005</th>\n",
       "      <td>MULA</td>\n",
       "      <td>VIVIAN</td>\n",
       "      <td>White</td>\n",
       "      <td>72.0</td>\n",
       "      <td>Female</td>\n",
       "      <td>Albuquerque</td>\n",
       "      <td>NM</td>\n",
       "      <td>35.130357</td>\n",
       "      <td>-106.580986</td>\n",
       "    </tr>\n",
       "    <tr>\n",
       "      <th>...</th>\n",
       "      <td>...</td>\n",
       "      <td>...</td>\n",
       "      <td>...</td>\n",
       "      <td>...</td>\n",
       "      <td>...</td>\n",
       "      <td>...</td>\n",
       "      <td>...</td>\n",
       "      <td>...</td>\n",
       "      <td>...</td>\n",
       "    </tr>\n",
       "    <tr>\n",
       "      <th>Was-001380</th>\n",
       "      <td>WILLIAMS</td>\n",
       "      <td>EVAN</td>\n",
       "      <td>Black</td>\n",
       "      <td>29.0</td>\n",
       "      <td>Male</td>\n",
       "      <td>Washington</td>\n",
       "      <td>DC</td>\n",
       "      <td>38.828704</td>\n",
       "      <td>-77.002075</td>\n",
       "    </tr>\n",
       "    <tr>\n",
       "      <th>Was-001381</th>\n",
       "      <td>SMITH</td>\n",
       "      <td>DEON</td>\n",
       "      <td>Black</td>\n",
       "      <td>19.0</td>\n",
       "      <td>Male</td>\n",
       "      <td>Washington</td>\n",
       "      <td>DC</td>\n",
       "      <td>38.822852</td>\n",
       "      <td>-77.001725</td>\n",
       "    </tr>\n",
       "    <tr>\n",
       "      <th>Was-001382</th>\n",
       "      <td>WASHINGTON</td>\n",
       "      <td>WILLIE</td>\n",
       "      <td>Black</td>\n",
       "      <td>23.0</td>\n",
       "      <td>Male</td>\n",
       "      <td>Washington</td>\n",
       "      <td>DC</td>\n",
       "      <td>38.828025</td>\n",
       "      <td>-77.002511</td>\n",
       "    </tr>\n",
       "    <tr>\n",
       "      <th>Was-001383</th>\n",
       "      <td>BARNES</td>\n",
       "      <td>MARCUS</td>\n",
       "      <td>Black</td>\n",
       "      <td>24.0</td>\n",
       "      <td>Male</td>\n",
       "      <td>Washington</td>\n",
       "      <td>DC</td>\n",
       "      <td>38.820476</td>\n",
       "      <td>-77.008640</td>\n",
       "    </tr>\n",
       "    <tr>\n",
       "      <th>Was-001384</th>\n",
       "      <td>JACKSON</td>\n",
       "      <td>KEVIN</td>\n",
       "      <td>Black</td>\n",
       "      <td>17.0</td>\n",
       "      <td>Male</td>\n",
       "      <td>Washington</td>\n",
       "      <td>DC</td>\n",
       "      <td>38.866689</td>\n",
       "      <td>-76.982409</td>\n",
       "    </tr>\n",
       "  </tbody>\n",
       "</table>\n",
       "<p>52179 rows × 9 columns</p>\n",
       "</div>"
      ],
      "text/plain": [
       "            victim_last victim_first victim_race  victim_age victim_sex  \\\n",
       "uid                                                                       \n",
       "Alb-000001       GARCIA         JUAN    Hispanic        78.0       Male   \n",
       "Alb-000002      MONTOYA      CAMERON    Hispanic        17.0       Male   \n",
       "Alb-000003  SATTERFIELD      VIVIANA       White        15.0     Female   \n",
       "Alb-000004     MENDIOLA       CARLOS    Hispanic        32.0       Male   \n",
       "Alb-000005         MULA       VIVIAN       White        72.0     Female   \n",
       "...                 ...          ...         ...         ...        ...   \n",
       "Was-001380     WILLIAMS         EVAN       Black        29.0       Male   \n",
       "Was-001381        SMITH         DEON       Black        19.0       Male   \n",
       "Was-001382   WASHINGTON       WILLIE       Black        23.0       Male   \n",
       "Was-001383       BARNES       MARCUS       Black        24.0       Male   \n",
       "Was-001384      JACKSON        KEVIN       Black        17.0       Male   \n",
       "\n",
       "                   city state        lat         lon  \n",
       "uid                                                   \n",
       "Alb-000001  Albuquerque    NM  35.095788 -106.538555  \n",
       "Alb-000002  Albuquerque    NM  35.056810 -106.715321  \n",
       "Alb-000003  Albuquerque    NM  35.086092 -106.695568  \n",
       "Alb-000004  Albuquerque    NM  35.078493 -106.556094  \n",
       "Alb-000005  Albuquerque    NM  35.130357 -106.580986  \n",
       "...                 ...   ...        ...         ...  \n",
       "Was-001380   Washington    DC  38.828704  -77.002075  \n",
       "Was-001381   Washington    DC  38.822852  -77.001725  \n",
       "Was-001382   Washington    DC  38.828025  -77.002511  \n",
       "Was-001383   Washington    DC  38.820476  -77.008640  \n",
       "Was-001384   Washington    DC  38.866689  -76.982409  \n",
       "\n",
       "[52179 rows x 9 columns]"
      ]
     },
     "execution_count": 66,
     "metadata": {},
     "output_type": "execute_result"
    }
   ],
   "source": [
    "pd.concat([victim_df, place_df], axis = 1)"
   ]
  },
  {
   "cell_type": "markdown",
   "metadata": {
    "slideshow": {
     "slide_type": "slide"
    }
   },
   "source": [
    "### New features"
   ]
  },
  {
   "cell_type": "code",
   "execution_count": 67,
   "metadata": {
    "slideshow": {
     "slide_type": "fragment"
    }
   },
   "outputs": [
    {
     "ename": "KeyError",
     "evalue": "'victim_age_numeric'",
     "output_type": "error",
     "traceback": [
      "\u001b[0;31m---------------------------------------------------------------------------\u001b[0m",
      "\u001b[0;31mKeyError\u001b[0m                                  Traceback (most recent call last)",
      "\u001b[0;32m~/opt/anaconda3/envs/tmwp/lib/python3.8/site-packages/pandas/core/indexes/base.py\u001b[0m in \u001b[0;36mget_loc\u001b[0;34m(self, key, method, tolerance)\u001b[0m\n\u001b[1;32m   2645\u001b[0m             \u001b[0;32mtry\u001b[0m\u001b[0;34m:\u001b[0m\u001b[0;34m\u001b[0m\u001b[0;34m\u001b[0m\u001b[0m\n\u001b[0;32m-> 2646\u001b[0;31m                 \u001b[0;32mreturn\u001b[0m \u001b[0mself\u001b[0m\u001b[0;34m.\u001b[0m\u001b[0m_engine\u001b[0m\u001b[0;34m.\u001b[0m\u001b[0mget_loc\u001b[0m\u001b[0;34m(\u001b[0m\u001b[0mkey\u001b[0m\u001b[0;34m)\u001b[0m\u001b[0;34m\u001b[0m\u001b[0;34m\u001b[0m\u001b[0m\n\u001b[0m\u001b[1;32m   2647\u001b[0m             \u001b[0;32mexcept\u001b[0m \u001b[0mKeyError\u001b[0m\u001b[0;34m:\u001b[0m\u001b[0;34m\u001b[0m\u001b[0;34m\u001b[0m\u001b[0m\n",
      "\u001b[0;32mpandas/_libs/index.pyx\u001b[0m in \u001b[0;36mpandas._libs.index.IndexEngine.get_loc\u001b[0;34m()\u001b[0m\n",
      "\u001b[0;32mpandas/_libs/index.pyx\u001b[0m in \u001b[0;36mpandas._libs.index.IndexEngine.get_loc\u001b[0;34m()\u001b[0m\n",
      "\u001b[0;32mpandas/_libs/hashtable_class_helper.pxi\u001b[0m in \u001b[0;36mpandas._libs.hashtable.PyObjectHashTable.get_item\u001b[0;34m()\u001b[0m\n",
      "\u001b[0;32mpandas/_libs/hashtable_class_helper.pxi\u001b[0m in \u001b[0;36mpandas._libs.hashtable.PyObjectHashTable.get_item\u001b[0;34m()\u001b[0m\n",
      "\u001b[0;31mKeyError\u001b[0m: 'victim_age_numeric'",
      "\nDuring handling of the above exception, another exception occurred:\n",
      "\u001b[0;31mKeyError\u001b[0m                                  Traceback (most recent call last)",
      "\u001b[0;32m<ipython-input-67-02943c018a37>\u001b[0m in \u001b[0;36m<module>\u001b[0;34m\u001b[0m\n\u001b[0;32m----> 1\u001b[0;31m \u001b[0mdf\u001b[0m\u001b[0;34m[\u001b[0m\u001b[0;34m'birth_year'\u001b[0m\u001b[0;34m]\u001b[0m \u001b[0;34m=\u001b[0m \u001b[0mdf\u001b[0m\u001b[0;34m[\u001b[0m\u001b[0;34m'year'\u001b[0m\u001b[0;34m]\u001b[0m \u001b[0;34m-\u001b[0m \u001b[0mdf\u001b[0m\u001b[0;34m[\u001b[0m\u001b[0;34m'victim_age_numeric'\u001b[0m\u001b[0;34m]\u001b[0m\u001b[0;34m\u001b[0m\u001b[0;34m\u001b[0m\u001b[0m\n\u001b[0m",
      "\u001b[0;32m~/opt/anaconda3/envs/tmwp/lib/python3.8/site-packages/pandas/core/frame.py\u001b[0m in \u001b[0;36m__getitem__\u001b[0;34m(self, key)\u001b[0m\n\u001b[1;32m   2798\u001b[0m             \u001b[0;32mif\u001b[0m \u001b[0mself\u001b[0m\u001b[0;34m.\u001b[0m\u001b[0mcolumns\u001b[0m\u001b[0;34m.\u001b[0m\u001b[0mnlevels\u001b[0m \u001b[0;34m>\u001b[0m \u001b[0;36m1\u001b[0m\u001b[0;34m:\u001b[0m\u001b[0;34m\u001b[0m\u001b[0;34m\u001b[0m\u001b[0m\n\u001b[1;32m   2799\u001b[0m                 \u001b[0;32mreturn\u001b[0m \u001b[0mself\u001b[0m\u001b[0;34m.\u001b[0m\u001b[0m_getitem_multilevel\u001b[0m\u001b[0;34m(\u001b[0m\u001b[0mkey\u001b[0m\u001b[0;34m)\u001b[0m\u001b[0;34m\u001b[0m\u001b[0;34m\u001b[0m\u001b[0m\n\u001b[0;32m-> 2800\u001b[0;31m             \u001b[0mindexer\u001b[0m \u001b[0;34m=\u001b[0m \u001b[0mself\u001b[0m\u001b[0;34m.\u001b[0m\u001b[0mcolumns\u001b[0m\u001b[0;34m.\u001b[0m\u001b[0mget_loc\u001b[0m\u001b[0;34m(\u001b[0m\u001b[0mkey\u001b[0m\u001b[0;34m)\u001b[0m\u001b[0;34m\u001b[0m\u001b[0;34m\u001b[0m\u001b[0m\n\u001b[0m\u001b[1;32m   2801\u001b[0m             \u001b[0;32mif\u001b[0m \u001b[0mis_integer\u001b[0m\u001b[0;34m(\u001b[0m\u001b[0mindexer\u001b[0m\u001b[0;34m)\u001b[0m\u001b[0;34m:\u001b[0m\u001b[0;34m\u001b[0m\u001b[0;34m\u001b[0m\u001b[0m\n\u001b[1;32m   2802\u001b[0m                 \u001b[0mindexer\u001b[0m \u001b[0;34m=\u001b[0m \u001b[0;34m[\u001b[0m\u001b[0mindexer\u001b[0m\u001b[0;34m]\u001b[0m\u001b[0;34m\u001b[0m\u001b[0;34m\u001b[0m\u001b[0m\n",
      "\u001b[0;32m~/opt/anaconda3/envs/tmwp/lib/python3.8/site-packages/pandas/core/indexes/base.py\u001b[0m in \u001b[0;36mget_loc\u001b[0;34m(self, key, method, tolerance)\u001b[0m\n\u001b[1;32m   2646\u001b[0m                 \u001b[0;32mreturn\u001b[0m \u001b[0mself\u001b[0m\u001b[0;34m.\u001b[0m\u001b[0m_engine\u001b[0m\u001b[0;34m.\u001b[0m\u001b[0mget_loc\u001b[0m\u001b[0;34m(\u001b[0m\u001b[0mkey\u001b[0m\u001b[0;34m)\u001b[0m\u001b[0;34m\u001b[0m\u001b[0;34m\u001b[0m\u001b[0m\n\u001b[1;32m   2647\u001b[0m             \u001b[0;32mexcept\u001b[0m \u001b[0mKeyError\u001b[0m\u001b[0;34m:\u001b[0m\u001b[0;34m\u001b[0m\u001b[0;34m\u001b[0m\u001b[0m\n\u001b[0;32m-> 2648\u001b[0;31m                 \u001b[0;32mreturn\u001b[0m \u001b[0mself\u001b[0m\u001b[0;34m.\u001b[0m\u001b[0m_engine\u001b[0m\u001b[0;34m.\u001b[0m\u001b[0mget_loc\u001b[0m\u001b[0;34m(\u001b[0m\u001b[0mself\u001b[0m\u001b[0;34m.\u001b[0m\u001b[0m_maybe_cast_indexer\u001b[0m\u001b[0;34m(\u001b[0m\u001b[0mkey\u001b[0m\u001b[0;34m)\u001b[0m\u001b[0;34m)\u001b[0m\u001b[0;34m\u001b[0m\u001b[0;34m\u001b[0m\u001b[0m\n\u001b[0m\u001b[1;32m   2649\u001b[0m         \u001b[0mindexer\u001b[0m \u001b[0;34m=\u001b[0m \u001b[0mself\u001b[0m\u001b[0;34m.\u001b[0m\u001b[0mget_indexer\u001b[0m\u001b[0;34m(\u001b[0m\u001b[0;34m[\u001b[0m\u001b[0mkey\u001b[0m\u001b[0;34m]\u001b[0m\u001b[0;34m,\u001b[0m \u001b[0mmethod\u001b[0m\u001b[0;34m=\u001b[0m\u001b[0mmethod\u001b[0m\u001b[0;34m,\u001b[0m \u001b[0mtolerance\u001b[0m\u001b[0;34m=\u001b[0m\u001b[0mtolerance\u001b[0m\u001b[0;34m)\u001b[0m\u001b[0;34m\u001b[0m\u001b[0;34m\u001b[0m\u001b[0m\n\u001b[1;32m   2650\u001b[0m         \u001b[0;32mif\u001b[0m \u001b[0mindexer\u001b[0m\u001b[0;34m.\u001b[0m\u001b[0mndim\u001b[0m \u001b[0;34m>\u001b[0m \u001b[0;36m1\u001b[0m \u001b[0;32mor\u001b[0m \u001b[0mindexer\u001b[0m\u001b[0;34m.\u001b[0m\u001b[0msize\u001b[0m \u001b[0;34m>\u001b[0m \u001b[0;36m1\u001b[0m\u001b[0;34m:\u001b[0m\u001b[0;34m\u001b[0m\u001b[0;34m\u001b[0m\u001b[0m\n",
      "\u001b[0;32mpandas/_libs/index.pyx\u001b[0m in \u001b[0;36mpandas._libs.index.IndexEngine.get_loc\u001b[0;34m()\u001b[0m\n",
      "\u001b[0;32mpandas/_libs/index.pyx\u001b[0m in \u001b[0;36mpandas._libs.index.IndexEngine.get_loc\u001b[0;34m()\u001b[0m\n",
      "\u001b[0;32mpandas/_libs/hashtable_class_helper.pxi\u001b[0m in \u001b[0;36mpandas._libs.hashtable.PyObjectHashTable.get_item\u001b[0;34m()\u001b[0m\n",
      "\u001b[0;32mpandas/_libs/hashtable_class_helper.pxi\u001b[0m in \u001b[0;36mpandas._libs.hashtable.PyObjectHashTable.get_item\u001b[0;34m()\u001b[0m\n",
      "\u001b[0;31mKeyError\u001b[0m: 'victim_age_numeric'"
     ]
    }
   ],
   "source": [
    "df['birth_year'] = df['year'] - df['victim_age_numeric']"
   ]
  },
  {
   "cell_type": "code",
   "execution_count": 68,
   "metadata": {
    "slideshow": {
     "slide_type": "slide"
    }
   },
   "outputs": [
    {
     "ename": "KeyError",
     "evalue": "'birth_year'",
     "output_type": "error",
     "traceback": [
      "\u001b[0;31m---------------------------------------------------------------------------\u001b[0m",
      "\u001b[0;31mKeyError\u001b[0m                                  Traceback (most recent call last)",
      "\u001b[0;32m~/opt/anaconda3/envs/tmwp/lib/python3.8/site-packages/pandas/core/indexes/base.py\u001b[0m in \u001b[0;36mget_loc\u001b[0;34m(self, key, method, tolerance)\u001b[0m\n\u001b[1;32m   2645\u001b[0m             \u001b[0;32mtry\u001b[0m\u001b[0;34m:\u001b[0m\u001b[0;34m\u001b[0m\u001b[0;34m\u001b[0m\u001b[0m\n\u001b[0;32m-> 2646\u001b[0;31m                 \u001b[0;32mreturn\u001b[0m \u001b[0mself\u001b[0m\u001b[0;34m.\u001b[0m\u001b[0m_engine\u001b[0m\u001b[0;34m.\u001b[0m\u001b[0mget_loc\u001b[0m\u001b[0;34m(\u001b[0m\u001b[0mkey\u001b[0m\u001b[0;34m)\u001b[0m\u001b[0;34m\u001b[0m\u001b[0;34m\u001b[0m\u001b[0m\n\u001b[0m\u001b[1;32m   2647\u001b[0m             \u001b[0;32mexcept\u001b[0m \u001b[0mKeyError\u001b[0m\u001b[0;34m:\u001b[0m\u001b[0;34m\u001b[0m\u001b[0;34m\u001b[0m\u001b[0m\n",
      "\u001b[0;32mpandas/_libs/index.pyx\u001b[0m in \u001b[0;36mpandas._libs.index.IndexEngine.get_loc\u001b[0;34m()\u001b[0m\n",
      "\u001b[0;32mpandas/_libs/index.pyx\u001b[0m in \u001b[0;36mpandas._libs.index.IndexEngine.get_loc\u001b[0;34m()\u001b[0m\n",
      "\u001b[0;32mpandas/_libs/hashtable_class_helper.pxi\u001b[0m in \u001b[0;36mpandas._libs.hashtable.PyObjectHashTable.get_item\u001b[0;34m()\u001b[0m\n",
      "\u001b[0;32mpandas/_libs/hashtable_class_helper.pxi\u001b[0m in \u001b[0;36mpandas._libs.hashtable.PyObjectHashTable.get_item\u001b[0;34m()\u001b[0m\n",
      "\u001b[0;31mKeyError\u001b[0m: 'birth_year'",
      "\nDuring handling of the above exception, another exception occurred:\n",
      "\u001b[0;31mKeyError\u001b[0m                                  Traceback (most recent call last)",
      "\u001b[0;32m<ipython-input-68-0b8b931b4bd8>\u001b[0m in \u001b[0;36m<module>\u001b[0;34m\u001b[0m\n\u001b[0;32m----> 1\u001b[0;31m \u001b[0mdf\u001b[0m\u001b[0;34m[\u001b[0m\u001b[0;34m'birth_year'\u001b[0m\u001b[0;34m]\u001b[0m\u001b[0;34m.\u001b[0m\u001b[0mdescribe\u001b[0m\u001b[0;34m(\u001b[0m\u001b[0;34m)\u001b[0m\u001b[0;34m\u001b[0m\u001b[0;34m\u001b[0m\u001b[0m\n\u001b[0m",
      "\u001b[0;32m~/opt/anaconda3/envs/tmwp/lib/python3.8/site-packages/pandas/core/frame.py\u001b[0m in \u001b[0;36m__getitem__\u001b[0;34m(self, key)\u001b[0m\n\u001b[1;32m   2798\u001b[0m             \u001b[0;32mif\u001b[0m \u001b[0mself\u001b[0m\u001b[0;34m.\u001b[0m\u001b[0mcolumns\u001b[0m\u001b[0;34m.\u001b[0m\u001b[0mnlevels\u001b[0m \u001b[0;34m>\u001b[0m \u001b[0;36m1\u001b[0m\u001b[0;34m:\u001b[0m\u001b[0;34m\u001b[0m\u001b[0;34m\u001b[0m\u001b[0m\n\u001b[1;32m   2799\u001b[0m                 \u001b[0;32mreturn\u001b[0m \u001b[0mself\u001b[0m\u001b[0;34m.\u001b[0m\u001b[0m_getitem_multilevel\u001b[0m\u001b[0;34m(\u001b[0m\u001b[0mkey\u001b[0m\u001b[0;34m)\u001b[0m\u001b[0;34m\u001b[0m\u001b[0;34m\u001b[0m\u001b[0m\n\u001b[0;32m-> 2800\u001b[0;31m             \u001b[0mindexer\u001b[0m \u001b[0;34m=\u001b[0m \u001b[0mself\u001b[0m\u001b[0;34m.\u001b[0m\u001b[0mcolumns\u001b[0m\u001b[0;34m.\u001b[0m\u001b[0mget_loc\u001b[0m\u001b[0;34m(\u001b[0m\u001b[0mkey\u001b[0m\u001b[0;34m)\u001b[0m\u001b[0;34m\u001b[0m\u001b[0;34m\u001b[0m\u001b[0m\n\u001b[0m\u001b[1;32m   2801\u001b[0m             \u001b[0;32mif\u001b[0m \u001b[0mis_integer\u001b[0m\u001b[0;34m(\u001b[0m\u001b[0mindexer\u001b[0m\u001b[0;34m)\u001b[0m\u001b[0;34m:\u001b[0m\u001b[0;34m\u001b[0m\u001b[0;34m\u001b[0m\u001b[0m\n\u001b[1;32m   2802\u001b[0m                 \u001b[0mindexer\u001b[0m \u001b[0;34m=\u001b[0m \u001b[0;34m[\u001b[0m\u001b[0mindexer\u001b[0m\u001b[0;34m]\u001b[0m\u001b[0;34m\u001b[0m\u001b[0;34m\u001b[0m\u001b[0m\n",
      "\u001b[0;32m~/opt/anaconda3/envs/tmwp/lib/python3.8/site-packages/pandas/core/indexes/base.py\u001b[0m in \u001b[0;36mget_loc\u001b[0;34m(self, key, method, tolerance)\u001b[0m\n\u001b[1;32m   2646\u001b[0m                 \u001b[0;32mreturn\u001b[0m \u001b[0mself\u001b[0m\u001b[0;34m.\u001b[0m\u001b[0m_engine\u001b[0m\u001b[0;34m.\u001b[0m\u001b[0mget_loc\u001b[0m\u001b[0;34m(\u001b[0m\u001b[0mkey\u001b[0m\u001b[0;34m)\u001b[0m\u001b[0;34m\u001b[0m\u001b[0;34m\u001b[0m\u001b[0m\n\u001b[1;32m   2647\u001b[0m             \u001b[0;32mexcept\u001b[0m \u001b[0mKeyError\u001b[0m\u001b[0;34m:\u001b[0m\u001b[0;34m\u001b[0m\u001b[0;34m\u001b[0m\u001b[0m\n\u001b[0;32m-> 2648\u001b[0;31m                 \u001b[0;32mreturn\u001b[0m \u001b[0mself\u001b[0m\u001b[0;34m.\u001b[0m\u001b[0m_engine\u001b[0m\u001b[0;34m.\u001b[0m\u001b[0mget_loc\u001b[0m\u001b[0;34m(\u001b[0m\u001b[0mself\u001b[0m\u001b[0;34m.\u001b[0m\u001b[0m_maybe_cast_indexer\u001b[0m\u001b[0;34m(\u001b[0m\u001b[0mkey\u001b[0m\u001b[0;34m)\u001b[0m\u001b[0;34m)\u001b[0m\u001b[0;34m\u001b[0m\u001b[0;34m\u001b[0m\u001b[0m\n\u001b[0m\u001b[1;32m   2649\u001b[0m         \u001b[0mindexer\u001b[0m \u001b[0;34m=\u001b[0m \u001b[0mself\u001b[0m\u001b[0;34m.\u001b[0m\u001b[0mget_indexer\u001b[0m\u001b[0;34m(\u001b[0m\u001b[0;34m[\u001b[0m\u001b[0mkey\u001b[0m\u001b[0;34m]\u001b[0m\u001b[0;34m,\u001b[0m \u001b[0mmethod\u001b[0m\u001b[0;34m=\u001b[0m\u001b[0mmethod\u001b[0m\u001b[0;34m,\u001b[0m \u001b[0mtolerance\u001b[0m\u001b[0;34m=\u001b[0m\u001b[0mtolerance\u001b[0m\u001b[0;34m)\u001b[0m\u001b[0;34m\u001b[0m\u001b[0;34m\u001b[0m\u001b[0m\n\u001b[1;32m   2650\u001b[0m         \u001b[0;32mif\u001b[0m \u001b[0mindexer\u001b[0m\u001b[0;34m.\u001b[0m\u001b[0mndim\u001b[0m \u001b[0;34m>\u001b[0m \u001b[0;36m1\u001b[0m \u001b[0;32mor\u001b[0m \u001b[0mindexer\u001b[0m\u001b[0;34m.\u001b[0m\u001b[0msize\u001b[0m \u001b[0;34m>\u001b[0m \u001b[0;36m1\u001b[0m\u001b[0;34m:\u001b[0m\u001b[0;34m\u001b[0m\u001b[0;34m\u001b[0m\u001b[0m\n",
      "\u001b[0;32mpandas/_libs/index.pyx\u001b[0m in \u001b[0;36mpandas._libs.index.IndexEngine.get_loc\u001b[0;34m()\u001b[0m\n",
      "\u001b[0;32mpandas/_libs/index.pyx\u001b[0m in \u001b[0;36mpandas._libs.index.IndexEngine.get_loc\u001b[0;34m()\u001b[0m\n",
      "\u001b[0;32mpandas/_libs/hashtable_class_helper.pxi\u001b[0m in \u001b[0;36mpandas._libs.hashtable.PyObjectHashTable.get_item\u001b[0;34m()\u001b[0m\n",
      "\u001b[0;32mpandas/_libs/hashtable_class_helper.pxi\u001b[0m in \u001b[0;36mpandas._libs.hashtable.PyObjectHashTable.get_item\u001b[0;34m()\u001b[0m\n",
      "\u001b[0;31mKeyError\u001b[0m: 'birth_year'"
     ]
    }
   ],
   "source": [
    "df['birth_year'].describe()"
   ]
  },
  {
   "cell_type": "code",
   "execution_count": 69,
   "metadata": {
    "slideshow": {
     "slide_type": "slide"
    }
   },
   "outputs": [],
   "source": [
    "df['minor'] = df['victim_age'] <= 18"
   ]
  },
  {
   "cell_type": "code",
   "execution_count": 70,
   "metadata": {
    "slideshow": {
     "slide_type": "fragment"
    }
   },
   "outputs": [
    {
     "data": {
      "text/plain": [
       "uid\n",
       "Alb-000001    False\n",
       "Alb-000002     True\n",
       "Alb-000003     True\n",
       "Alb-000004    False\n",
       "Alb-000005    False\n",
       "Alb-000006    False\n",
       "Alb-000007    False\n",
       "Alb-000008    False\n",
       "Alb-000009    False\n",
       "Alb-000010    False\n",
       "Name: minor, dtype: bool"
      ]
     },
     "execution_count": 70,
     "metadata": {},
     "output_type": "execute_result"
    }
   ],
   "source": [
    "df['minor'][:10]"
   ]
  },
  {
   "cell_type": "code",
   "execution_count": 71,
   "metadata": {
    "slideshow": {
     "slide_type": "slide"
    }
   },
   "outputs": [
    {
     "data": {
      "text/plain": [
       "0.10931600835585197"
      ]
     },
     "execution_count": 71,
     "metadata": {},
     "output_type": "execute_result"
    }
   ],
   "source": [
    "df['minor'].mean()"
   ]
  },
  {
   "cell_type": "markdown",
   "metadata": {
    "slideshow": {
     "slide_type": "slide"
    }
   },
   "source": [
    "## Titanic Exercise 5\n",
    "\n",
    "Create a new variable in your Titanic dataframe that identifies people who paid fares in the top 25% of all fares paid.\n",
    "\n"
   ]
  },
  {
   "cell_type": "code",
   "execution_count": null,
   "metadata": {
    "slideshow": {
     "slide_type": "fragment"
    }
   },
   "outputs": [],
   "source": []
  },
  {
   "cell_type": "markdown",
   "metadata": {
    "slideshow": {
     "slide_type": "slide"
    }
   },
   "source": [
    "### Back to some pandas string manipulation fun."
   ]
  },
  {
   "cell_type": "code",
   "execution_count": 72,
   "metadata": {
    "slideshow": {
     "slide_type": "fragment"
    }
   },
   "outputs": [],
   "source": [
    "def title_case(text):\n",
    "    return text.title()"
   ]
  },
  {
   "cell_type": "code",
   "execution_count": 73,
   "metadata": {
    "slideshow": {
     "slide_type": "fragment"
    }
   },
   "outputs": [
    {
     "data": {
      "text/plain": [
       "'Juan'"
      ]
     },
     "execution_count": 73,
     "metadata": {},
     "output_type": "execute_result"
    }
   ],
   "source": [
    "title_case('JUAN')"
   ]
  },
  {
   "cell_type": "markdown",
   "metadata": {
    "slideshow": {
     "slide_type": "slide"
    }
   },
   "source": [
    "### The apply magic"
   ]
  },
  {
   "cell_type": "code",
   "execution_count": 74,
   "metadata": {},
   "outputs": [
    {
     "data": {
      "text/plain": [
       "uid\n",
       "Alb-000001       Juan\n",
       "Alb-000002    Cameron\n",
       "Alb-000003    Viviana\n",
       "Alb-000004     Carlos\n",
       "Alb-000005     Vivian\n",
       "               ...   \n",
       "Was-001380       Evan\n",
       "Was-001381       Deon\n",
       "Was-001382     Willie\n",
       "Was-001383     Marcus\n",
       "Was-001384      Kevin\n",
       "Name: victim_first, Length: 52179, dtype: object"
      ]
     },
     "execution_count": 74,
     "metadata": {},
     "output_type": "execute_result"
    }
   ],
   "source": [
    "df['victim_first'].apply(title_case)"
   ]
  },
  {
   "cell_type": "code",
   "execution_count": 75,
   "metadata": {
    "slideshow": {
     "slide_type": "fragment"
    }
   },
   "outputs": [],
   "source": [
    "df['victim_first2'] = df['victim_first'].apply(title_case)"
   ]
  },
  {
   "cell_type": "code",
   "execution_count": 76,
   "metadata": {
    "slideshow": {
     "slide_type": "slide"
    }
   },
   "outputs": [
    {
     "data": {
      "text/plain": [
       "uid\n",
       "Alb-000001         Juan\n",
       "Alb-000002      Cameron\n",
       "Alb-000003      Viviana\n",
       "Alb-000004       Carlos\n",
       "Alb-000005       Vivian\n",
       "Alb-000006    Geraldine\n",
       "Alb-000007        David\n",
       "Alb-000008       Connie\n",
       "Alb-000009      Gustavo\n",
       "Alb-000010       Israel\n",
       "Name: victim_first2, dtype: object"
      ]
     },
     "execution_count": 76,
     "metadata": {},
     "output_type": "execute_result"
    }
   ],
   "source": [
    "df['victim_first2'].head(10)"
   ]
  },
  {
   "cell_type": "code",
   "execution_count": 77,
   "metadata": {
    "slideshow": {
     "slide_type": "slide"
    }
   },
   "outputs": [
    {
     "data": {
      "text/html": [
       "<div>\n",
       "<style scoped>\n",
       "    .dataframe tbody tr th:only-of-type {\n",
       "        vertical-align: middle;\n",
       "    }\n",
       "\n",
       "    .dataframe tbody tr th {\n",
       "        vertical-align: top;\n",
       "    }\n",
       "\n",
       "    .dataframe thead th {\n",
       "        text-align: right;\n",
       "    }\n",
       "</style>\n",
       "<table border=\"1\" class=\"dataframe\">\n",
       "  <thead>\n",
       "    <tr style=\"text-align: right;\">\n",
       "      <th></th>\n",
       "      <th>victim_first</th>\n",
       "      <th>victim_first2</th>\n",
       "    </tr>\n",
       "    <tr>\n",
       "      <th>uid</th>\n",
       "      <th></th>\n",
       "      <th></th>\n",
       "    </tr>\n",
       "  </thead>\n",
       "  <tbody>\n",
       "    <tr>\n",
       "      <th>Alb-000001</th>\n",
       "      <td>JUAN</td>\n",
       "      <td>Juan</td>\n",
       "    </tr>\n",
       "    <tr>\n",
       "      <th>Alb-000002</th>\n",
       "      <td>CAMERON</td>\n",
       "      <td>Cameron</td>\n",
       "    </tr>\n",
       "    <tr>\n",
       "      <th>Alb-000003</th>\n",
       "      <td>VIVIANA</td>\n",
       "      <td>Viviana</td>\n",
       "    </tr>\n",
       "    <tr>\n",
       "      <th>Alb-000004</th>\n",
       "      <td>CARLOS</td>\n",
       "      <td>Carlos</td>\n",
       "    </tr>\n",
       "    <tr>\n",
       "      <th>Alb-000005</th>\n",
       "      <td>VIVIAN</td>\n",
       "      <td>Vivian</td>\n",
       "    </tr>\n",
       "    <tr>\n",
       "      <th>Alb-000006</th>\n",
       "      <td>GERALDINE</td>\n",
       "      <td>Geraldine</td>\n",
       "    </tr>\n",
       "    <tr>\n",
       "      <th>Alb-000007</th>\n",
       "      <td>DAVID</td>\n",
       "      <td>David</td>\n",
       "    </tr>\n",
       "    <tr>\n",
       "      <th>Alb-000008</th>\n",
       "      <td>CONNIE</td>\n",
       "      <td>Connie</td>\n",
       "    </tr>\n",
       "    <tr>\n",
       "      <th>Alb-000009</th>\n",
       "      <td>GUSTAVO</td>\n",
       "      <td>Gustavo</td>\n",
       "    </tr>\n",
       "    <tr>\n",
       "      <th>Alb-000010</th>\n",
       "      <td>ISRAEL</td>\n",
       "      <td>Israel</td>\n",
       "    </tr>\n",
       "  </tbody>\n",
       "</table>\n",
       "</div>"
      ],
      "text/plain": [
       "           victim_first victim_first2\n",
       "uid                                  \n",
       "Alb-000001         JUAN          Juan\n",
       "Alb-000002      CAMERON       Cameron\n",
       "Alb-000003      VIVIANA       Viviana\n",
       "Alb-000004       CARLOS        Carlos\n",
       "Alb-000005       VIVIAN        Vivian\n",
       "Alb-000006    GERALDINE     Geraldine\n",
       "Alb-000007        DAVID         David\n",
       "Alb-000008       CONNIE        Connie\n",
       "Alb-000009      GUSTAVO       Gustavo\n",
       "Alb-000010       ISRAEL        Israel"
      ]
     },
     "execution_count": 77,
     "metadata": {},
     "output_type": "execute_result"
    }
   ],
   "source": [
    "df[['victim_first', 'victim_first2']].head(10)"
   ]
  },
  {
   "cell_type": "markdown",
   "metadata": {
    "slideshow": {
     "slide_type": "slide"
    }
   },
   "source": [
    "## Titanic Exercise 6\n",
    "\n",
    "Write a function that extracts the last name from the name field on your Titanic dataframe. \n",
    "Create a new variable called <code>Family Name</code> to store the results. What is the most common family name?\n",
    "\n"
   ]
  },
  {
   "cell_type": "code",
   "execution_count": null,
   "metadata": {
    "slideshow": {
     "slide_type": "fragment"
    }
   },
   "outputs": [],
   "source": []
  },
  {
   "cell_type": "markdown",
   "metadata": {
    "slideshow": {
     "slide_type": "slide"
    }
   },
   "source": [
    "Working on more than one column"
   ]
  },
  {
   "cell_type": "code",
   "execution_count": 98,
   "metadata": {
    "slideshow": {
     "slide_type": "fragment"
    }
   },
   "outputs": [],
   "source": [
    "def victim_name(row):\n",
    "    first_name = row['victim_first']\n",
    "    last_name  = row['victim_last']\n",
    "    name       = last_name + ', ' + first_name\n",
    "    name       = title_case(name)\n",
    "    return name"
   ]
  },
  {
   "cell_type": "code",
   "execution_count": 99,
   "metadata": {
    "slideshow": {
     "slide_type": "slide"
    }
   },
   "outputs": [
    {
     "data": {
      "text/plain": [
       "uid\n",
       "Alb-000001                  Garcia, Juan\n",
       "Alb-000002              Montoya, Cameron\n",
       "Alb-000003          Satterfield, Viviana\n",
       "Alb-000004              Mendiola, Carlos\n",
       "Alb-000005                  Mula, Vivian\n",
       "Alb-000006               Book, Geraldine\n",
       "Alb-000007              Maldonado, David\n",
       "Alb-000008             Maldonado, Connie\n",
       "Alb-000009         Martin-Leyva, Gustavo\n",
       "Alb-000010               Herrera, Israel\n",
       "Alb-000011    Barrius-Campanioni, Hector\n",
       "Alb-000012                  Lujan, Kevin\n",
       "Alb-000013               Collamore, John\n",
       "Alb-000014               Chiquito, Corin\n",
       "Alb-000015                Torres, Hector\n",
       "Alb-000016                Gray, Stefania\n",
       "Alb-000017                   Leyva, Joel\n",
       "Alb-000018                  David, Larry\n",
       "Alb-000019              Brito, Elizabeth\n",
       "Alb-000020              Chavez, Greg Sr.\n",
       "Alb-000021                  King, Tevion\n",
       "Alb-000022                Boykin, Cedric\n",
       "Alb-000023              Barragan, Miguel\n",
       "Alb-000024                  Ford, Luther\n",
       "Alb-000025                Wronski, Viola\n",
       "Alb-000026            Ashford, Guadalupe\n",
       "Alb-000027              Turner, Michelle\n",
       "Alb-000028            Cunningham, Sharon\n",
       "Alb-000029              Nguyen, Selenavi\n",
       "Alb-000030                  Valdez, Bill\n",
       "                         ...            \n",
       "Was-001353               Turner, Gabriel\n",
       "Was-001355               Meriedy, Thomas\n",
       "Was-001356                     Cook, Joe\n",
       "Was-001357             Phillips, Scorpio\n",
       "Was-001358                Harris, Zoruan\n",
       "Was-001359                 Pratt, Antina\n",
       "Was-001360               Silver, Orlando\n",
       "Was-001361                  Rezene, Noel\n",
       "Was-001362               Drayton, Javion\n",
       "Was-001363           Mccullough, Antoine\n",
       "Was-001365                Buie, Samuelle\n",
       "Was-001366             Jennings, Rassaan\n",
       "Was-001367               Tyler, Marquett\n",
       "Was-001368               Garris, Rudolph\n",
       "Was-001369              Dansbury, Aubrey\n",
       "Was-001370                 Haney, Jaquan\n",
       "Was-001371                Hamilton, Dana\n",
       "Was-001372               Wright, Rashawn\n",
       "Was-001373            Blackwell, Westley\n",
       "Was-001374               Dowtin, Herbert\n",
       "Was-001375             Medlay, Demetrius\n",
       "Was-001376             Stephens, Judonne\n",
       "Was-001377              Peoples, Darnell\n",
       "Was-001378                    Ivey, Paul\n",
       "Was-001379                Harris, Sharod\n",
       "Was-001380                Williams, Evan\n",
       "Was-001381                   Smith, Deon\n",
       "Was-001382            Washington, Willie\n",
       "Was-001383                Barnes, Marcus\n",
       "Was-001384                Jackson, Kevin\n",
       "Length: 52179, dtype: object"
      ]
     },
     "execution_count": 99,
     "metadata": {},
     "output_type": "execute_result"
    }
   ],
   "source": [
    "df.apply(victim_name, axis=1)"
   ]
  },
  {
   "cell_type": "code",
   "execution_count": 100,
   "metadata": {
    "slideshow": {
     "slide_type": "slide"
    }
   },
   "outputs": [],
   "source": [
    "df['victim_name'] = df.apply(victim_name, axis=1)"
   ]
  },
  {
   "cell_type": "code",
   "execution_count": 101,
   "metadata": {
    "slideshow": {
     "slide_type": "fragment"
    }
   },
   "outputs": [
    {
     "data": {
      "text/html": [
       "<div>\n",
       "<style scoped>\n",
       "    .dataframe tbody tr th:only-of-type {\n",
       "        vertical-align: middle;\n",
       "    }\n",
       "\n",
       "    .dataframe tbody tr th {\n",
       "        vertical-align: top;\n",
       "    }\n",
       "\n",
       "    .dataframe thead th {\n",
       "        text-align: right;\n",
       "    }\n",
       "</style>\n",
       "<table border=\"1\" class=\"dataframe\">\n",
       "  <thead>\n",
       "    <tr style=\"text-align: right;\">\n",
       "      <th></th>\n",
       "      <th>reported_date</th>\n",
       "      <th>victim_last</th>\n",
       "      <th>victim_first</th>\n",
       "      <th>victim_race</th>\n",
       "      <th>victim_age</th>\n",
       "      <th>victim_sex</th>\n",
       "      <th>city</th>\n",
       "      <th>state</th>\n",
       "      <th>lat</th>\n",
       "      <th>lon</th>\n",
       "      <th>disposition</th>\n",
       "      <th>victim_age_numeric</th>\n",
       "      <th>date</th>\n",
       "      <th>year</th>\n",
       "      <th>birth_year</th>\n",
       "      <th>minor</th>\n",
       "      <th>victim_first2</th>\n",
       "      <th>victim_name</th>\n",
       "    </tr>\n",
       "    <tr>\n",
       "      <th>uid</th>\n",
       "      <th></th>\n",
       "      <th></th>\n",
       "      <th></th>\n",
       "      <th></th>\n",
       "      <th></th>\n",
       "      <th></th>\n",
       "      <th></th>\n",
       "      <th></th>\n",
       "      <th></th>\n",
       "      <th></th>\n",
       "      <th></th>\n",
       "      <th></th>\n",
       "      <th></th>\n",
       "      <th></th>\n",
       "      <th></th>\n",
       "      <th></th>\n",
       "      <th></th>\n",
       "      <th></th>\n",
       "    </tr>\n",
       "  </thead>\n",
       "  <tbody>\n",
       "    <tr>\n",
       "      <th>Alb-000001</th>\n",
       "      <td>20100504</td>\n",
       "      <td>GARCIA</td>\n",
       "      <td>JUAN</td>\n",
       "      <td>Hispanic</td>\n",
       "      <td>78.0</td>\n",
       "      <td>Male</td>\n",
       "      <td>Albuquerque</td>\n",
       "      <td>NM</td>\n",
       "      <td>35.095788</td>\n",
       "      <td>-106.538555</td>\n",
       "      <td>Closed without arrest</td>\n",
       "      <td>78.0</td>\n",
       "      <td>2010-05-04</td>\n",
       "      <td>2010.0</td>\n",
       "      <td>1932.0</td>\n",
       "      <td>False</td>\n",
       "      <td>Juan</td>\n",
       "      <td>Garcia, Juan</td>\n",
       "    </tr>\n",
       "    <tr>\n",
       "      <th>Alb-000002</th>\n",
       "      <td>20100216</td>\n",
       "      <td>MONTOYA</td>\n",
       "      <td>CAMERON</td>\n",
       "      <td>Hispanic</td>\n",
       "      <td>17.0</td>\n",
       "      <td>Male</td>\n",
       "      <td>Albuquerque</td>\n",
       "      <td>NM</td>\n",
       "      <td>35.056810</td>\n",
       "      <td>-106.715321</td>\n",
       "      <td>Closed by arrest</td>\n",
       "      <td>17.0</td>\n",
       "      <td>2010-02-16</td>\n",
       "      <td>2010.0</td>\n",
       "      <td>1993.0</td>\n",
       "      <td>True</td>\n",
       "      <td>Cameron</td>\n",
       "      <td>Montoya, Cameron</td>\n",
       "    </tr>\n",
       "    <tr>\n",
       "      <th>Alb-000003</th>\n",
       "      <td>20100601</td>\n",
       "      <td>SATTERFIELD</td>\n",
       "      <td>VIVIANA</td>\n",
       "      <td>White</td>\n",
       "      <td>15.0</td>\n",
       "      <td>Female</td>\n",
       "      <td>Albuquerque</td>\n",
       "      <td>NM</td>\n",
       "      <td>35.086092</td>\n",
       "      <td>-106.695568</td>\n",
       "      <td>Closed without arrest</td>\n",
       "      <td>15.0</td>\n",
       "      <td>2010-06-01</td>\n",
       "      <td>2010.0</td>\n",
       "      <td>1995.0</td>\n",
       "      <td>True</td>\n",
       "      <td>Viviana</td>\n",
       "      <td>Satterfield, Viviana</td>\n",
       "    </tr>\n",
       "    <tr>\n",
       "      <th>Alb-000004</th>\n",
       "      <td>20100101</td>\n",
       "      <td>MENDIOLA</td>\n",
       "      <td>CARLOS</td>\n",
       "      <td>Hispanic</td>\n",
       "      <td>32.0</td>\n",
       "      <td>Male</td>\n",
       "      <td>Albuquerque</td>\n",
       "      <td>NM</td>\n",
       "      <td>35.078493</td>\n",
       "      <td>-106.556094</td>\n",
       "      <td>Closed by arrest</td>\n",
       "      <td>32.0</td>\n",
       "      <td>2010-01-01</td>\n",
       "      <td>2010.0</td>\n",
       "      <td>1978.0</td>\n",
       "      <td>False</td>\n",
       "      <td>Carlos</td>\n",
       "      <td>Mendiola, Carlos</td>\n",
       "    </tr>\n",
       "    <tr>\n",
       "      <th>Alb-000005</th>\n",
       "      <td>20100102</td>\n",
       "      <td>MULA</td>\n",
       "      <td>VIVIAN</td>\n",
       "      <td>White</td>\n",
       "      <td>72.0</td>\n",
       "      <td>Female</td>\n",
       "      <td>Albuquerque</td>\n",
       "      <td>NM</td>\n",
       "      <td>35.130357</td>\n",
       "      <td>-106.580986</td>\n",
       "      <td>Closed without arrest</td>\n",
       "      <td>72.0</td>\n",
       "      <td>2010-01-02</td>\n",
       "      <td>2010.0</td>\n",
       "      <td>1938.0</td>\n",
       "      <td>False</td>\n",
       "      <td>Vivian</td>\n",
       "      <td>Mula, Vivian</td>\n",
       "    </tr>\n",
       "  </tbody>\n",
       "</table>\n",
       "</div>"
      ],
      "text/plain": [
       "            reported_date  victim_last victim_first victim_race  victim_age  \\\n",
       "uid                                                                           \n",
       "Alb-000001       20100504       GARCIA         JUAN    Hispanic        78.0   \n",
       "Alb-000002       20100216      MONTOYA      CAMERON    Hispanic        17.0   \n",
       "Alb-000003       20100601  SATTERFIELD      VIVIANA       White        15.0   \n",
       "Alb-000004       20100101     MENDIOLA       CARLOS    Hispanic        32.0   \n",
       "Alb-000005       20100102         MULA       VIVIAN       White        72.0   \n",
       "\n",
       "           victim_sex         city state        lat         lon  \\\n",
       "uid                                                               \n",
       "Alb-000001       Male  Albuquerque    NM  35.095788 -106.538555   \n",
       "Alb-000002       Male  Albuquerque    NM  35.056810 -106.715321   \n",
       "Alb-000003     Female  Albuquerque    NM  35.086092 -106.695568   \n",
       "Alb-000004       Male  Albuquerque    NM  35.078493 -106.556094   \n",
       "Alb-000005     Female  Albuquerque    NM  35.130357 -106.580986   \n",
       "\n",
       "                      disposition  victim_age_numeric       date    year  \\\n",
       "uid                                                                        \n",
       "Alb-000001  Closed without arrest                78.0 2010-05-04  2010.0   \n",
       "Alb-000002       Closed by arrest                17.0 2010-02-16  2010.0   \n",
       "Alb-000003  Closed without arrest                15.0 2010-06-01  2010.0   \n",
       "Alb-000004       Closed by arrest                32.0 2010-01-01  2010.0   \n",
       "Alb-000005  Closed without arrest                72.0 2010-01-02  2010.0   \n",
       "\n",
       "            birth_year  minor victim_first2           victim_name  \n",
       "uid                                                                \n",
       "Alb-000001      1932.0  False          Juan          Garcia, Juan  \n",
       "Alb-000002      1993.0   True       Cameron      Montoya, Cameron  \n",
       "Alb-000003      1995.0   True       Viviana  Satterfield, Viviana  \n",
       "Alb-000004      1978.0  False        Carlos      Mendiola, Carlos  \n",
       "Alb-000005      1938.0  False        Vivian          Mula, Vivian  "
      ]
     },
     "execution_count": 101,
     "metadata": {},
     "output_type": "execute_result"
    }
   ],
   "source": [
    "df.head()"
   ]
  }
 ],
 "metadata": {
  "celltoolbar": "Slideshow",
  "kernelspec": {
   "display_name": "Python 3",
   "language": "python",
   "name": "python3"
  },
  "language_info": {
   "codemirror_mode": {
    "name": "ipython",
    "version": 3
   },
   "file_extension": ".py",
   "mimetype": "text/x-python",
   "name": "python",
   "nbconvert_exporter": "python",
   "pygments_lexer": "ipython3",
   "version": "3.8.2"
  },
  "toc": {
   "base_numbering": 1,
   "nav_menu": {},
   "number_sections": true,
   "sideBar": true,
   "skip_h1_title": false,
   "title_cell": "Table of Contents",
   "title_sidebar": "Contents",
   "toc_cell": true,
   "toc_position": {},
   "toc_section_display": true,
   "toc_window_display": false
  }
 },
 "nbformat": 4,
 "nbformat_minor": 2
}
