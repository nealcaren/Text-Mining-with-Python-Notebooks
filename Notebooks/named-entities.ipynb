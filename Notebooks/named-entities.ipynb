{
 "cells": [
  {
   "cell_type": "markdown",
   "metadata": {},
   "source": [
    "# Named Entities"
   ]
  },
  {
   "cell_type": "markdown",
   "metadata": {},
   "source": [
    "Beyond part of speech tagging and dependencies, spaCy also provides users with tools to analyze a variety of other linguistic features. In this chapter, we'll go over another the ways spaCy allows us to look at *named entities*."
   ]
  },
  {
   "cell_type": "markdown",
   "metadata": {},
   "source": [
    "## What's a Named Entity?"
   ]
  },
  {
   "cell_type": "markdown",
   "metadata": {},
   "source": [
    "When we talk about named entities, we're referring to any object existing in the real world that can be represented through a proper name. Named entities can include people, places and things, as well as organizations, dates and times.   "
   ]
  },
  {
   "cell_type": "markdown",
   "metadata": {},
   "source": [
    "Another way we can think about named entities is to consider them \"rigid designators.\" In this context, a \"rigid designator\" is any term referring to *the same thing* in all possible worlds (Kripke 1982; Nadeau & Sekine 2007). For example, let's look at the first sentence on the Wikipedia page for [Mars, Pennsylvania](https://en.wikipedia.org/wiki/Mars,_Pennsylvania):\n",
    "\n",
    "    \"Mars is a borough in Butler County, Pennsylvania, United States.\""
   ]
  },
  {
   "cell_type": "markdown",
   "metadata": {},
   "source": [
    "The sentence includes four named entities: \"Mars,\" \"Butler County,\" \"Pennsylvania,\" and \"United States.\" All of these can be considered rigid designators, since they will always be referring to the same location in any possible world.  In contrast, we would not consider \"borough\" in to be a named entity or a rigid designator, as it could refer to a number of other boroughs in other possible worlds."
   ]
  },
  {
   "cell_type": "markdown",
   "metadata": {},
   "source": [
    "### Types of Named Entities"
   ]
  },
  {
   "cell_type": "markdown",
   "metadata": {},
   "source": [
    "Below is a list of the [types of named entities](https://spacy.io/api/annotation#named-entities) supported by models trained on the [OntoNotes 5](https://catalog.ldc.upenn.edu/LDC2013T19) corpus."
   ]
  },
  {
   "cell_type": "markdown",
   "metadata": {},
   "source": [
    "\n",
    "| TYPE\t     | DESCRIPTION                                          | \n",
    "|:-----------|:-----------------------------------------------------|\n",
    "| PERSON     |\tPeople, including fictional.                        |\n",
    "| NORP\t     |Nationalities or religious or political groups.       |\n",
    "| FAC\t     |Buildings, airports, highways, bridges, etc.          |\n",
    "| ORG\t     |Companies, agencies, institutions, etc.               |\n",
    "| GPE\t     |Countries, cities, states.                            |\n",
    "| LOC\t     |Non-GPE locations, mountain ranges, bodies of water.  |\n",
    "| PRODUCT    |\tObjects, vehicles, foods, etc. (Not services.)      |\n",
    "| EVENT      |\tNamed hurricanes, battles, wars, sports events, etc.|\n",
    "| WORK_OF_ART|\tTitles of books, songs, etc.                        |\n",
    "| LAW        |\tNamed documents made into laws.                     |\n",
    "| LANGUAGE   |\tAny named language.                                 |\n",
    "| DATE       |\tAbsolute or relative dates or periods.              |\n",
    "| TIME       |\tTimes smaller than a day.                           |\n",
    "| PERCENT    |\tPercentage, including ”%“.                          |\n",
    "| MONEY      |\tMonetary values, including unit.                    |\n",
    "| QUANTITY   |\tMeasurements, as of weight or distance.             |\n",
    "| ORDINAL    |\t“first”, “second”, etc.                             |\n",
    "| CARDINAL   |\tNumerals that do not fall under another type.       |"
   ]
  },
  {
   "cell_type": "markdown",
   "metadata": {},
   "source": [
    "## References \n",
    "\n",
    "Kripke, Saul. (1982). *Naming and Necessity*. Boston: Harvard University Press.\n",
    "\n",
    "Nadeau, David and Satoshi Sekine. (2007). \"A Survey of Named Entity Recognition and Classification.\" *Lingvisticae Investigationes*, 30(1): 3-26.\n",
    "\n",
    "https://spacy.io/api/annotation#named-entities\n",
    "\n",
    "https://catalog.ldc.upenn.edu/LDC2013T19"
   ]
  }
 ],
 "metadata": {
  "kernelspec": {
   "display_name": "Python 3",
   "language": "python",
   "name": "python3"
  },
  "language_info": {
   "codemirror_mode": {
    "name": "ipython",
    "version": 3
   },
   "file_extension": ".py",
   "mimetype": "text/x-python",
   "name": "python",
   "nbconvert_exporter": "python",
   "pygments_lexer": "ipython3",
   "version": "3.8.3"
  }
 },
 "nbformat": 4,
 "nbformat_minor": 4
}
