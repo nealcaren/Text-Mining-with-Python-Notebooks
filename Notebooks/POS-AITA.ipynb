{
 "cells": [
  {
   "cell_type": "markdown",
   "metadata": {
    "slideshow": {
     "slide_type": "slide"
    }
   },
   "source": [
    "# NLP - POS"
   ]
  },
  {
   "cell_type": "code",
   "execution_count": 3,
   "metadata": {
    "slideshow": {
     "slide_type": "slide"
    }
   },
   "outputs": [],
   "source": [
    "import spacy\n"
   ]
  },
  {
   "cell_type": "code",
   "execution_count": 4,
   "metadata": {
    "slideshow": {
     "slide_type": "slide"
    }
   },
   "outputs": [],
   "source": [
    "nlp = spacy.load(\"en_core_web_md\")"
   ]
  },
  {
   "cell_type": "code",
   "execution_count": 5,
   "metadata": {},
   "outputs": [],
   "source": [
    "sentence = \"A riot is the language of the unheard.\""
   ]
  },
  {
   "cell_type": "code",
   "execution_count": 6,
   "metadata": {},
   "outputs": [],
   "source": [
    "doc = nlp(sentence)"
   ]
  },
  {
   "cell_type": "code",
   "execution_count": 7,
   "metadata": {},
   "outputs": [
    {
     "name": "stdout",
     "output_type": "stream",
     "text": [
      "DET \t A\n",
      "NOUN \t riot\n",
      "AUX \t is\n",
      "DET \t the\n",
      "NOUN \t language\n",
      "ADP \t of\n",
      "DET \t the\n",
      "ADJ \t unheard\n",
      "PUNCT \t .\n"
     ]
    }
   ],
   "source": [
    "for token in doc:\n",
    "    print(token.pos_, \"\\t\", token.text)"
   ]
  },
  {
   "cell_type": "markdown",
   "metadata": {},
   "source": [
    "https://universaldependencies.org/u/pos/\n",
    "\n",
    "\n",
    "| Tag      | Definition                  |\n",
    "|:------|:--------------------------|\n",
    "| ADJ   | adjective                 |\n",
    "| ADP   | adposition                |\n",
    "| ADV   | adverb                    |\n",
    "| AUX   | auxiliary                 |\n",
    "| CCONJ | coordinating conjunction  |\n",
    "| DET   | determiner                |\n",
    "| INTJ  | interjection              |\n",
    "| NOUN  | noun                      |\n",
    "| NUM   | numeral                   |\n",
    "| PART  | particle                  |\n",
    "| PRON  | pronoun                   |\n",
    "| PROPN | proper noun               |\n",
    "| PUNCT | punctuation               |\n",
    "| SCONJ | subordinating conjunction |\n",
    "| SPACE | space                     |\n",
    "| SYM   | symbol                    |\n",
    "| VERB  | verb                      |\n",
    "| X     | other                     |"
   ]
  },
  {
   "cell_type": "code",
   "execution_count": 8,
   "metadata": {},
   "outputs": [
    {
     "name": "stdout",
     "output_type": "stream",
     "text": [
      "A\tDT\tdeterminer\n",
      "riot\tNN\tnoun, singular or mass\n",
      "is\tVBZ\tverb, 3rd person singular present\n",
      "the\tDT\tdeterminer\n",
      "language\tNN\tnoun, singular or mass\n",
      "of\tIN\tconjunction, subordinating or preposition\n",
      "the\tDT\tdeterminer\n",
      "unheard\tJJ\tadjective\n",
      ".\t.\tpunctuation mark, sentence closer\n"
     ]
    }
   ],
   "source": [
    "for token in doc:\n",
    "    print(\"\\t\".join([token.text, token.tag_, spacy.explain(token.tag_),]))"
   ]
  },
  {
   "cell_type": "markdown",
   "metadata": {},
   "source": [
    "https://www.ling.upenn.edu/courses/Fall_2003/ling001/penn_treebank_pos.html\n",
    "\n",
    "| Tag      | Definition                  |\n",
    "|:------|:--------------------------|\n",
    "|CC|Coordinating conjunction|\n",
    "|CD|Cardinal number|\n",
    "|DT|Determiner|\n",
    "|EX|Existential there|\n",
    "|FW|Foreign word|\n",
    "|IN|Preposition or subordinating conjunction|\n",
    "|JJ|Adjective|\n",
    "|JJR|Adjective, comparative|\n",
    "|JJS|Adjective, superlative|\n",
    "|LS|List item marker|\n",
    "|MD|Modal|\n",
    "|NN|Noun, singular or mass|\n",
    "|NNS|Noun, plural|\n",
    "|NNP|Proper noun, singular|\n",
    "|NNPS|Proper noun, plural|\n",
    "|PDT|Predeterminer|\n",
    "|POS|Possessive ending|\n",
    "|PRP|Personal pronoun|\n",
    "|PRP\\$|Possessive pronoun|\n",
    "|RB|Adverb|\n",
    "|RBR|Adverb, comparative|\n",
    "|RBS|Adverb, superlative|\n",
    "|RP|Particle|\n",
    "|SYM|Symbol|\n",
    "|TO|to|\n",
    "|UH|Interjection|\n",
    "|VB|Verb, base form|\n",
    "|VBD|Verb, past tense|\n",
    "|VBG|Verb, gerund or present participle|\n",
    "|VBN|Verb, past participle|\n",
    "|VBP|Verb, non-3rd person singular present|\n",
    "|VBZ|Verb, 3rd person singular present|\n",
    "|WDT|Wh-determiner|\n",
    "|WP|Wh-pronoun|\n",
    "|WP$|Possessive wh-pronoun|\n",
    "|WRB|Wh-adverb|\n",
    "\n",
    "\n"
   ]
  },
  {
   "cell_type": "code",
   "execution_count": 9,
   "metadata": {
    "slideshow": {
     "slide_type": "slide"
    }
   },
   "outputs": [],
   "source": [
    "long_sentence = (\n",
    "    \"The strongest rain ever recorded in India shut down \"\n",
    "    \"the financial hub of Mumbai, snapped communication lines, \"\n",
    "    \"closed airports and forced thousands of people to sleep \"\n",
    "    \"in their offices or walk home during the night, \"\n",
    "    \"officials said today.\"\n",
    ")"
   ]
  },
  {
   "cell_type": "code",
   "execution_count": 10,
   "metadata": {},
   "outputs": [
    {
     "name": "stdout",
     "output_type": "stream",
     "text": [
      "DT \t The\n",
      "JJS \t strongest\n",
      "NN \t rain\n",
      "RB \t ever\n",
      "VBN \t recorded\n",
      "IN \t in\n",
      "NNP \t India\n",
      "VBD \t shut\n",
      "RP \t down\n",
      "DT \t the\n",
      "JJ \t financial\n",
      "NN \t hub\n",
      "IN \t of\n",
      "NNP \t Mumbai\n",
      ", \t ,\n",
      "VBD \t snapped\n",
      "NN \t communication\n",
      "NNS \t lines\n",
      ", \t ,\n",
      "JJ \t closed\n",
      "NNS \t airports\n",
      "CC \t and\n",
      "VBD \t forced\n",
      "NNS \t thousands\n",
      "IN \t of\n",
      "NNS \t people\n",
      "TO \t to\n",
      "VB \t sleep\n",
      "IN \t in\n",
      "PRP$ \t their\n",
      "NNS \t offices\n",
      "CC \t or\n",
      "VB \t walk\n",
      "RB \t home\n",
      "IN \t during\n",
      "DT \t the\n",
      "NN \t night\n",
      ", \t ,\n",
      "NNS \t officials\n",
      "VBD \t said\n",
      "NN \t today\n",
      ". \t .\n"
     ]
    }
   ],
   "source": [
    "doc = nlp(long_sentence)\n",
    "for token in doc:\n",
    "    print(token.tag_, \"\\t\", token.text)"
   ]
  },
  {
   "cell_type": "code",
   "execution_count": null,
   "metadata": {},
   "outputs": [],
   "source": []
  },
  {
   "cell_type": "code",
   "execution_count": 11,
   "metadata": {},
   "outputs": [],
   "source": [
    "import pandas as pd\n",
    "\n",
    "tokens = []\n",
    "\n",
    "for token in nlp(long_sentence):\n",
    "    t_attr = {\n",
    "        \"text\": token.text,\n",
    "        \"pos\": token.pos_,\n",
    "        \"tag\": token.tag_,\n",
    "    }\n",
    "    # print(t_attr)\n",
    "    tokens.append(t_attr)\n",
    "\n",
    "df = pd.DataFrame.from_records(tokens)"
   ]
  },
  {
   "cell_type": "code",
   "execution_count": 12,
   "metadata": {},
   "outputs": [
    {
     "data": {
      "text/html": [
       "<div>\n",
       "<style scoped>\n",
       "    .dataframe tbody tr th:only-of-type {\n",
       "        vertical-align: middle;\n",
       "    }\n",
       "\n",
       "    .dataframe tbody tr th {\n",
       "        vertical-align: top;\n",
       "    }\n",
       "\n",
       "    .dataframe thead th {\n",
       "        text-align: right;\n",
       "    }\n",
       "</style>\n",
       "<table border=\"1\" class=\"dataframe\">\n",
       "  <thead>\n",
       "    <tr style=\"text-align: right;\">\n",
       "      <th></th>\n",
       "      <th>text</th>\n",
       "      <th>pos</th>\n",
       "      <th>tag</th>\n",
       "    </tr>\n",
       "  </thead>\n",
       "  <tbody>\n",
       "    <tr>\n",
       "      <th>0</th>\n",
       "      <td>The</td>\n",
       "      <td>DET</td>\n",
       "      <td>DT</td>\n",
       "    </tr>\n",
       "    <tr>\n",
       "      <th>1</th>\n",
       "      <td>strongest</td>\n",
       "      <td>ADJ</td>\n",
       "      <td>JJS</td>\n",
       "    </tr>\n",
       "    <tr>\n",
       "      <th>2</th>\n",
       "      <td>rain</td>\n",
       "      <td>NOUN</td>\n",
       "      <td>NN</td>\n",
       "    </tr>\n",
       "    <tr>\n",
       "      <th>3</th>\n",
       "      <td>ever</td>\n",
       "      <td>ADV</td>\n",
       "      <td>RB</td>\n",
       "    </tr>\n",
       "    <tr>\n",
       "      <th>4</th>\n",
       "      <td>recorded</td>\n",
       "      <td>VERB</td>\n",
       "      <td>VBN</td>\n",
       "    </tr>\n",
       "    <tr>\n",
       "      <th>5</th>\n",
       "      <td>in</td>\n",
       "      <td>ADP</td>\n",
       "      <td>IN</td>\n",
       "    </tr>\n",
       "    <tr>\n",
       "      <th>6</th>\n",
       "      <td>India</td>\n",
       "      <td>PROPN</td>\n",
       "      <td>NNP</td>\n",
       "    </tr>\n",
       "    <tr>\n",
       "      <th>7</th>\n",
       "      <td>shut</td>\n",
       "      <td>VERB</td>\n",
       "      <td>VBD</td>\n",
       "    </tr>\n",
       "    <tr>\n",
       "      <th>8</th>\n",
       "      <td>down</td>\n",
       "      <td>ADP</td>\n",
       "      <td>RP</td>\n",
       "    </tr>\n",
       "    <tr>\n",
       "      <th>9</th>\n",
       "      <td>the</td>\n",
       "      <td>DET</td>\n",
       "      <td>DT</td>\n",
       "    </tr>\n",
       "    <tr>\n",
       "      <th>10</th>\n",
       "      <td>financial</td>\n",
       "      <td>ADJ</td>\n",
       "      <td>JJ</td>\n",
       "    </tr>\n",
       "    <tr>\n",
       "      <th>11</th>\n",
       "      <td>hub</td>\n",
       "      <td>NOUN</td>\n",
       "      <td>NN</td>\n",
       "    </tr>\n",
       "    <tr>\n",
       "      <th>12</th>\n",
       "      <td>of</td>\n",
       "      <td>ADP</td>\n",
       "      <td>IN</td>\n",
       "    </tr>\n",
       "    <tr>\n",
       "      <th>13</th>\n",
       "      <td>Mumbai</td>\n",
       "      <td>PROPN</td>\n",
       "      <td>NNP</td>\n",
       "    </tr>\n",
       "    <tr>\n",
       "      <th>14</th>\n",
       "      <td>,</td>\n",
       "      <td>PUNCT</td>\n",
       "      <td>,</td>\n",
       "    </tr>\n",
       "    <tr>\n",
       "      <th>15</th>\n",
       "      <td>snapped</td>\n",
       "      <td>VERB</td>\n",
       "      <td>VBD</td>\n",
       "    </tr>\n",
       "    <tr>\n",
       "      <th>16</th>\n",
       "      <td>communication</td>\n",
       "      <td>NOUN</td>\n",
       "      <td>NN</td>\n",
       "    </tr>\n",
       "    <tr>\n",
       "      <th>17</th>\n",
       "      <td>lines</td>\n",
       "      <td>NOUN</td>\n",
       "      <td>NNS</td>\n",
       "    </tr>\n",
       "    <tr>\n",
       "      <th>18</th>\n",
       "      <td>,</td>\n",
       "      <td>PUNCT</td>\n",
       "      <td>,</td>\n",
       "    </tr>\n",
       "    <tr>\n",
       "      <th>19</th>\n",
       "      <td>closed</td>\n",
       "      <td>ADJ</td>\n",
       "      <td>JJ</td>\n",
       "    </tr>\n",
       "    <tr>\n",
       "      <th>20</th>\n",
       "      <td>airports</td>\n",
       "      <td>NOUN</td>\n",
       "      <td>NNS</td>\n",
       "    </tr>\n",
       "    <tr>\n",
       "      <th>21</th>\n",
       "      <td>and</td>\n",
       "      <td>CCONJ</td>\n",
       "      <td>CC</td>\n",
       "    </tr>\n",
       "    <tr>\n",
       "      <th>22</th>\n",
       "      <td>forced</td>\n",
       "      <td>VERB</td>\n",
       "      <td>VBD</td>\n",
       "    </tr>\n",
       "    <tr>\n",
       "      <th>23</th>\n",
       "      <td>thousands</td>\n",
       "      <td>NOUN</td>\n",
       "      <td>NNS</td>\n",
       "    </tr>\n",
       "    <tr>\n",
       "      <th>24</th>\n",
       "      <td>of</td>\n",
       "      <td>ADP</td>\n",
       "      <td>IN</td>\n",
       "    </tr>\n",
       "    <tr>\n",
       "      <th>25</th>\n",
       "      <td>people</td>\n",
       "      <td>NOUN</td>\n",
       "      <td>NNS</td>\n",
       "    </tr>\n",
       "    <tr>\n",
       "      <th>26</th>\n",
       "      <td>to</td>\n",
       "      <td>PART</td>\n",
       "      <td>TO</td>\n",
       "    </tr>\n",
       "    <tr>\n",
       "      <th>27</th>\n",
       "      <td>sleep</td>\n",
       "      <td>VERB</td>\n",
       "      <td>VB</td>\n",
       "    </tr>\n",
       "    <tr>\n",
       "      <th>28</th>\n",
       "      <td>in</td>\n",
       "      <td>ADP</td>\n",
       "      <td>IN</td>\n",
       "    </tr>\n",
       "    <tr>\n",
       "      <th>29</th>\n",
       "      <td>their</td>\n",
       "      <td>DET</td>\n",
       "      <td>PRP$</td>\n",
       "    </tr>\n",
       "    <tr>\n",
       "      <th>30</th>\n",
       "      <td>offices</td>\n",
       "      <td>NOUN</td>\n",
       "      <td>NNS</td>\n",
       "    </tr>\n",
       "    <tr>\n",
       "      <th>31</th>\n",
       "      <td>or</td>\n",
       "      <td>CCONJ</td>\n",
       "      <td>CC</td>\n",
       "    </tr>\n",
       "    <tr>\n",
       "      <th>32</th>\n",
       "      <td>walk</td>\n",
       "      <td>VERB</td>\n",
       "      <td>VB</td>\n",
       "    </tr>\n",
       "    <tr>\n",
       "      <th>33</th>\n",
       "      <td>home</td>\n",
       "      <td>ADV</td>\n",
       "      <td>RB</td>\n",
       "    </tr>\n",
       "    <tr>\n",
       "      <th>34</th>\n",
       "      <td>during</td>\n",
       "      <td>ADP</td>\n",
       "      <td>IN</td>\n",
       "    </tr>\n",
       "    <tr>\n",
       "      <th>35</th>\n",
       "      <td>the</td>\n",
       "      <td>DET</td>\n",
       "      <td>DT</td>\n",
       "    </tr>\n",
       "    <tr>\n",
       "      <th>36</th>\n",
       "      <td>night</td>\n",
       "      <td>NOUN</td>\n",
       "      <td>NN</td>\n",
       "    </tr>\n",
       "    <tr>\n",
       "      <th>37</th>\n",
       "      <td>,</td>\n",
       "      <td>PUNCT</td>\n",
       "      <td>,</td>\n",
       "    </tr>\n",
       "    <tr>\n",
       "      <th>38</th>\n",
       "      <td>officials</td>\n",
       "      <td>NOUN</td>\n",
       "      <td>NNS</td>\n",
       "    </tr>\n",
       "    <tr>\n",
       "      <th>39</th>\n",
       "      <td>said</td>\n",
       "      <td>VERB</td>\n",
       "      <td>VBD</td>\n",
       "    </tr>\n",
       "    <tr>\n",
       "      <th>40</th>\n",
       "      <td>today</td>\n",
       "      <td>NOUN</td>\n",
       "      <td>NN</td>\n",
       "    </tr>\n",
       "    <tr>\n",
       "      <th>41</th>\n",
       "      <td>.</td>\n",
       "      <td>PUNCT</td>\n",
       "      <td>.</td>\n",
       "    </tr>\n",
       "  </tbody>\n",
       "</table>\n",
       "</div>"
      ],
      "text/plain": [
       "             text    pos   tag\n",
       "0             The    DET    DT\n",
       "1       strongest    ADJ   JJS\n",
       "2            rain   NOUN    NN\n",
       "3            ever    ADV    RB\n",
       "4        recorded   VERB   VBN\n",
       "5              in    ADP    IN\n",
       "6           India  PROPN   NNP\n",
       "7            shut   VERB   VBD\n",
       "8            down    ADP    RP\n",
       "9             the    DET    DT\n",
       "10      financial    ADJ    JJ\n",
       "11            hub   NOUN    NN\n",
       "12             of    ADP    IN\n",
       "13         Mumbai  PROPN   NNP\n",
       "14              ,  PUNCT     ,\n",
       "15        snapped   VERB   VBD\n",
       "16  communication   NOUN    NN\n",
       "17          lines   NOUN   NNS\n",
       "18              ,  PUNCT     ,\n",
       "19         closed    ADJ    JJ\n",
       "20       airports   NOUN   NNS\n",
       "21            and  CCONJ    CC\n",
       "22         forced   VERB   VBD\n",
       "23      thousands   NOUN   NNS\n",
       "24             of    ADP    IN\n",
       "25         people   NOUN   NNS\n",
       "26             to   PART    TO\n",
       "27          sleep   VERB    VB\n",
       "28             in    ADP    IN\n",
       "29          their    DET  PRP$\n",
       "30        offices   NOUN   NNS\n",
       "31             or  CCONJ    CC\n",
       "32           walk   VERB    VB\n",
       "33           home    ADV    RB\n",
       "34         during    ADP    IN\n",
       "35            the    DET    DT\n",
       "36          night   NOUN    NN\n",
       "37              ,  PUNCT     ,\n",
       "38      officials   NOUN   NNS\n",
       "39           said   VERB   VBD\n",
       "40          today   NOUN    NN\n",
       "41              .  PUNCT     ."
      ]
     },
     "execution_count": 12,
     "metadata": {},
     "output_type": "execute_result"
    }
   ],
   "source": [
    "df"
   ]
  },
  {
   "cell_type": "markdown",
   "metadata": {
    "slideshow": {
     "slide_type": "slide"
    }
   },
   "source": [
    "How can you use this?"
   ]
  },
  {
   "cell_type": "code",
   "execution_count": 13,
   "metadata": {
    "slideshow": {
     "slide_type": "slide"
    }
   },
   "outputs": [],
   "source": [
    "def extract_adjectives(text):\n",
    "    adjectives = []\n",
    "    doc = nlp(text)\n",
    "    for token in doc:\n",
    "        if token.pos_ == \"ADJ\":\n",
    "            adjectives.append(token.text)\n",
    "    return adjectives"
   ]
  },
  {
   "cell_type": "code",
   "execution_count": 14,
   "metadata": {},
   "outputs": [
    {
     "data": {
      "text/plain": [
       "['strongest', 'financial', 'closed']"
      ]
     },
     "execution_count": 14,
     "metadata": {},
     "output_type": "execute_result"
    }
   ],
   "source": [
    "extract_adjectives(long_sentence)"
   ]
  },
  {
   "cell_type": "code",
   "execution_count": null,
   "metadata": {},
   "outputs": [],
   "source": []
  },
  {
   "cell_type": "code",
   "execution_count": 15,
   "metadata": {
    "slideshow": {
     "slide_type": "slide"
    }
   },
   "outputs": [],
   "source": [
    "import pandas as pd\n",
    "\n",
    "wine_df = pd.read_csv(\"data/aita_20K.csv\")"
   ]
  },
  {
   "cell_type": "code",
   "execution_count": 16,
   "metadata": {},
   "outputs": [
    {
     "data": {
      "text/html": [
       "<div>\n",
       "<style scoped>\n",
       "    .dataframe tbody tr th:only-of-type {\n",
       "        vertical-align: middle;\n",
       "    }\n",
       "\n",
       "    .dataframe tbody tr th {\n",
       "        vertical-align: top;\n",
       "    }\n",
       "\n",
       "    .dataframe thead th {\n",
       "        text-align: right;\n",
       "    }\n",
       "</style>\n",
       "<table border=\"1\" class=\"dataframe\">\n",
       "  <thead>\n",
       "    <tr style=\"text-align: right;\">\n",
       "      <th></th>\n",
       "      <th>id</th>\n",
       "      <th>timestamp</th>\n",
       "      <th>title</th>\n",
       "      <th>body</th>\n",
       "      <th>edited</th>\n",
       "      <th>verdict</th>\n",
       "      <th>score</th>\n",
       "      <th>num_comments</th>\n",
       "      <th>is_asshole</th>\n",
       "    </tr>\n",
       "  </thead>\n",
       "  <tbody>\n",
       "    <tr>\n",
       "      <th>13657</th>\n",
       "      <td>duvw71</td>\n",
       "      <td>1.573494e+09</td>\n",
       "      <td>AITA for calling my partner an asshole?</td>\n",
       "      <td>Hey yall,\\n\\nDidn't know I would one day turn ...</td>\n",
       "      <td>1573494876.0</td>\n",
       "      <td>not the asshole</td>\n",
       "      <td>5</td>\n",
       "      <td>27.0</td>\n",
       "      <td>0</td>\n",
       "    </tr>\n",
       "    <tr>\n",
       "      <th>10273</th>\n",
       "      <td>b7vpd3</td>\n",
       "      <td>1.554083e+09</td>\n",
       "      <td>AITA Stopping a man from hiring staff</td>\n",
       "      <td>Some background, I live and work as a bartende...</td>\n",
       "      <td>False</td>\n",
       "      <td>not the asshole</td>\n",
       "      <td>6</td>\n",
       "      <td>18.0</td>\n",
       "      <td>0</td>\n",
       "    </tr>\n",
       "    <tr>\n",
       "      <th>17824</th>\n",
       "      <td>dthesg</td>\n",
       "      <td>1.573229e+09</td>\n",
       "      <td>AITA for \"acquaintance zoning\" a former friend...</td>\n",
       "      <td>&amp;#x200B;\\n\\nA coworker I work with is a notori...</td>\n",
       "      <td>False</td>\n",
       "      <td>not the asshole</td>\n",
       "      <td>10</td>\n",
       "      <td>37.0</td>\n",
       "      <td>0</td>\n",
       "    </tr>\n",
       "    <tr>\n",
       "      <th>1806</th>\n",
       "      <td>c98k3k</td>\n",
       "      <td>1.562279e+09</td>\n",
       "      <td>AITA for thinking my mom overreacted when I sa...</td>\n",
       "      <td>Lemme make this short. I( 15F) was by my broth...</td>\n",
       "      <td>False</td>\n",
       "      <td>asshole</td>\n",
       "      <td>10</td>\n",
       "      <td>26.0</td>\n",
       "      <td>1</td>\n",
       "    </tr>\n",
       "    <tr>\n",
       "      <th>1196</th>\n",
       "      <td>a8dex3</td>\n",
       "      <td>1.545420e+09</td>\n",
       "      <td>AITA for taking all of our presents away?</td>\n",
       "      <td>Edit: Dad and I have been texting about this (...</td>\n",
       "      <td>1545448574.0</td>\n",
       "      <td>asshole</td>\n",
       "      <td>26</td>\n",
       "      <td>115.0</td>\n",
       "      <td>1</td>\n",
       "    </tr>\n",
       "  </tbody>\n",
       "</table>\n",
       "</div>"
      ],
      "text/plain": [
       "           id     timestamp  \\\n",
       "13657  duvw71  1.573494e+09   \n",
       "10273  b7vpd3  1.554083e+09   \n",
       "17824  dthesg  1.573229e+09   \n",
       "1806   c98k3k  1.562279e+09   \n",
       "1196   a8dex3  1.545420e+09   \n",
       "\n",
       "                                                   title  \\\n",
       "13657            AITA for calling my partner an asshole?   \n",
       "10273              AITA Stopping a man from hiring staff   \n",
       "17824  AITA for \"acquaintance zoning\" a former friend...   \n",
       "1806   AITA for thinking my mom overreacted when I sa...   \n",
       "1196           AITA for taking all of our presents away?   \n",
       "\n",
       "                                                    body        edited  \\\n",
       "13657  Hey yall,\\n\\nDidn't know I would one day turn ...  1573494876.0   \n",
       "10273  Some background, I live and work as a bartende...         False   \n",
       "17824  &#x200B;\\n\\nA coworker I work with is a notori...         False   \n",
       "1806   Lemme make this short. I( 15F) was by my broth...         False   \n",
       "1196   Edit: Dad and I have been texting about this (...  1545448574.0   \n",
       "\n",
       "               verdict  score  num_comments  is_asshole  \n",
       "13657  not the asshole      5          27.0           0  \n",
       "10273  not the asshole      6          18.0           0  \n",
       "17824  not the asshole     10          37.0           0  \n",
       "1806           asshole     10          26.0           1  \n",
       "1196           asshole     26         115.0           1  "
      ]
     },
     "execution_count": 16,
     "metadata": {},
     "output_type": "execute_result"
    }
   ],
   "source": [
    "wine_df.sample(5)"
   ]
  },
  {
   "cell_type": "code",
   "execution_count": 18,
   "metadata": {},
   "outputs": [],
   "source": [
    "wine_df.dropna(inplace=True)"
   ]
  },
  {
   "cell_type": "code",
   "execution_count": 19,
   "metadata": {
    "slideshow": {
     "slide_type": "slide"
    }
   },
   "outputs": [],
   "source": [
    "wine_df[\"adjectives\"] = wine_df[\"body\"].apply(extract_adjectives)"
   ]
  },
  {
   "cell_type": "code",
   "execution_count": 20,
   "metadata": {},
   "outputs": [
    {
     "data": {
      "text/plain": [
       "1840     [best, female, rude, weird, happy, few, other,...\n",
       "11836    [annoyed, first, sure, okay, sure, other, free...\n",
       "5643     [creepy, low, more, higher, willing, more, muc...\n",
       "6885     [many, other, experienced, fine, fun, exact, n...\n",
       "13317    [long, respective, low, cheap, fine, perfect, ...\n",
       "Name: adjectives, dtype: object"
      ]
     },
     "execution_count": 20,
     "metadata": {},
     "output_type": "execute_result"
    }
   ],
   "source": [
    "wine_df[\"adjectives\"].sample(5)"
   ]
  },
  {
   "cell_type": "code",
   "execution_count": 21,
   "metadata": {
    "slideshow": {
     "slide_type": "slide"
    }
   },
   "outputs": [],
   "source": [
    "wine_df[\"adj_count\"] = wine_df[\"adjectives\"].str.len()"
   ]
  },
  {
   "cell_type": "code",
   "execution_count": 22,
   "metadata": {},
   "outputs": [
    {
     "data": {
      "text/plain": [
       "17.0"
      ]
     },
     "execution_count": 22,
     "metadata": {},
     "output_type": "execute_result"
    }
   ],
   "source": [
    "wine_df[\"adj_count\"].median()"
   ]
  },
  {
   "cell_type": "code",
   "execution_count": 23,
   "metadata": {},
   "outputs": [
    {
     "data": {
      "text/plain": [
       "is_asshole\n",
       "0    17.5\n",
       "1    16.0\n",
       "Name: adj_count, dtype: float64"
      ]
     },
     "execution_count": 23,
     "metadata": {},
     "output_type": "execute_result"
    }
   ],
   "source": [
    "wine_df.groupby(\"is_asshole\")[\"adj_count\"].median()"
   ]
  },
  {
   "cell_type": "code",
   "execution_count": 24,
   "metadata": {
    "slideshow": {
     "slide_type": "slide"
    }
   },
   "outputs": [],
   "source": [
    "wine_df_long = wine_df.explode(\"adjectives\")"
   ]
  },
  {
   "cell_type": "code",
   "execution_count": 25,
   "metadata": {},
   "outputs": [
    {
     "data": {
      "text/html": [
       "<div>\n",
       "<style scoped>\n",
       "    .dataframe tbody tr th:only-of-type {\n",
       "        vertical-align: middle;\n",
       "    }\n",
       "\n",
       "    .dataframe tbody tr th {\n",
       "        vertical-align: top;\n",
       "    }\n",
       "\n",
       "    .dataframe thead th {\n",
       "        text-align: right;\n",
       "    }\n",
       "</style>\n",
       "<table border=\"1\" class=\"dataframe\">\n",
       "  <thead>\n",
       "    <tr style=\"text-align: right;\">\n",
       "      <th></th>\n",
       "      <th>id</th>\n",
       "      <th>timestamp</th>\n",
       "      <th>title</th>\n",
       "      <th>body</th>\n",
       "      <th>edited</th>\n",
       "      <th>verdict</th>\n",
       "      <th>score</th>\n",
       "      <th>num_comments</th>\n",
       "      <th>is_asshole</th>\n",
       "      <th>adjectives</th>\n",
       "      <th>adj_count</th>\n",
       "    </tr>\n",
       "  </thead>\n",
       "  <tbody>\n",
       "    <tr>\n",
       "      <th>0</th>\n",
       "      <td>d115xx</td>\n",
       "      <td>1.567888e+09</td>\n",
       "      <td>AITA for hating a family friend’s son who has ...</td>\n",
       "      <td>Here’s some context. So ever since I was born ...</td>\n",
       "      <td>1567977353.0</td>\n",
       "      <td>asshole</td>\n",
       "      <td>8</td>\n",
       "      <td>27.0</td>\n",
       "      <td>1</td>\n",
       "      <td>few</td>\n",
       "      <td>29</td>\n",
       "    </tr>\n",
       "    <tr>\n",
       "      <th>0</th>\n",
       "      <td>d115xx</td>\n",
       "      <td>1.567888e+09</td>\n",
       "      <td>AITA for hating a family friend’s son who has ...</td>\n",
       "      <td>Here’s some context. So ever since I was born ...</td>\n",
       "      <td>1567977353.0</td>\n",
       "      <td>asshole</td>\n",
       "      <td>8</td>\n",
       "      <td>27.0</td>\n",
       "      <td>1</td>\n",
       "      <td>whole</td>\n",
       "      <td>29</td>\n",
       "    </tr>\n",
       "    <tr>\n",
       "      <th>0</th>\n",
       "      <td>d115xx</td>\n",
       "      <td>1.567888e+09</td>\n",
       "      <td>AITA for hating a family friend’s son who has ...</td>\n",
       "      <td>Here’s some context. So ever since I was born ...</td>\n",
       "      <td>1567977353.0</td>\n",
       "      <td>asshole</td>\n",
       "      <td>8</td>\n",
       "      <td>27.0</td>\n",
       "      <td>1</td>\n",
       "      <td>horrible</td>\n",
       "      <td>29</td>\n",
       "    </tr>\n",
       "    <tr>\n",
       "      <th>0</th>\n",
       "      <td>d115xx</td>\n",
       "      <td>1.567888e+09</td>\n",
       "      <td>AITA for hating a family friend’s son who has ...</td>\n",
       "      <td>Here’s some context. So ever since I was born ...</td>\n",
       "      <td>1567977353.0</td>\n",
       "      <td>asshole</td>\n",
       "      <td>8</td>\n",
       "      <td>27.0</td>\n",
       "      <td>1</td>\n",
       "      <td>single</td>\n",
       "      <td>29</td>\n",
       "    </tr>\n",
       "    <tr>\n",
       "      <th>0</th>\n",
       "      <td>d115xx</td>\n",
       "      <td>1.567888e+09</td>\n",
       "      <td>AITA for hating a family friend’s son who has ...</td>\n",
       "      <td>Here’s some context. So ever since I was born ...</td>\n",
       "      <td>1567977353.0</td>\n",
       "      <td>asshole</td>\n",
       "      <td>8</td>\n",
       "      <td>27.0</td>\n",
       "      <td>1</td>\n",
       "      <td>long</td>\n",
       "      <td>29</td>\n",
       "    </tr>\n",
       "  </tbody>\n",
       "</table>\n",
       "</div>"
      ],
      "text/plain": [
       "       id     timestamp                                              title  \\\n",
       "0  d115xx  1.567888e+09  AITA for hating a family friend’s son who has ...   \n",
       "0  d115xx  1.567888e+09  AITA for hating a family friend’s son who has ...   \n",
       "0  d115xx  1.567888e+09  AITA for hating a family friend’s son who has ...   \n",
       "0  d115xx  1.567888e+09  AITA for hating a family friend’s son who has ...   \n",
       "0  d115xx  1.567888e+09  AITA for hating a family friend’s son who has ...   \n",
       "\n",
       "                                                body        edited  verdict  \\\n",
       "0  Here’s some context. So ever since I was born ...  1567977353.0  asshole   \n",
       "0  Here’s some context. So ever since I was born ...  1567977353.0  asshole   \n",
       "0  Here’s some context. So ever since I was born ...  1567977353.0  asshole   \n",
       "0  Here’s some context. So ever since I was born ...  1567977353.0  asshole   \n",
       "0  Here’s some context. So ever since I was born ...  1567977353.0  asshole   \n",
       "\n",
       "   score  num_comments  is_asshole adjectives  adj_count  \n",
       "0      8          27.0           1        few         29  \n",
       "0      8          27.0           1      whole         29  \n",
       "0      8          27.0           1   horrible         29  \n",
       "0      8          27.0           1     single         29  \n",
       "0      8          27.0           1       long         29  "
      ]
     },
     "execution_count": 25,
     "metadata": {},
     "output_type": "execute_result"
    }
   ],
   "source": [
    "wine_df_long.head(5)"
   ]
  },
  {
   "cell_type": "code",
   "execution_count": 26,
   "metadata": {},
   "outputs": [
    {
     "data": {
      "text/plain": [
       "other            13639\n",
       "few               8094\n",
       "more              5990\n",
       "good              5950\n",
       "last              5533\n",
       "                 ...  \n",
       "grownup              1\n",
       "unsuited             1\n",
       "Wasteful             1\n",
       "infintie             1\n",
       "uncoordinated        1\n",
       "Name: adjectives, Length: 8600, dtype: int64"
      ]
     },
     "execution_count": 26,
     "metadata": {},
     "output_type": "execute_result"
    }
   ],
   "source": [
    "wine_df_long['adjectives'].value_counts()"
   ]
  },
  {
   "cell_type": "code",
   "execution_count": 27,
   "metadata": {
    "slideshow": {
     "slide_type": "fragment"
    }
   },
   "outputs": [
    {
     "data": {
      "text/plain": [
       "is_asshole        \n",
       "0           other     0.035723\n",
       "            few       0.022076\n",
       "            more      0.015644\n",
       "            last      0.015162\n",
       "            good      0.015006\n",
       "            bad       0.014539\n",
       "            new       0.013274\n",
       "            first     0.013180\n",
       "            same      0.013040\n",
       "            little    0.012962\n",
       "1           other     0.037000\n",
       "            few       0.021032\n",
       "            good      0.016752\n",
       "            more      0.016297\n",
       "            same      0.014467\n",
       "            last      0.014302\n",
       "            bad       0.014231\n",
       "            little    0.013579\n",
       "            first     0.013157\n",
       "            new       0.011694\n",
       "Name: adjectives, dtype: float64"
      ]
     },
     "execution_count": 27,
     "metadata": {},
     "output_type": "execute_result"
    }
   ],
   "source": [
    "ratings = wine_df_long.groupby(\"is_asshole\")[\"adjectives\"].apply(\n",
    "    lambda x: x.value_counts(normalize=True).head(10)\n",
    ")\n",
    "ratings"
   ]
  },
  {
   "cell_type": "code",
   "execution_count": 28,
   "metadata": {},
   "outputs": [],
   "source": [
    "common_adjs = wine_df_long[\"adjectives\"].value_counts().index[:100]"
   ]
  },
  {
   "cell_type": "code",
   "execution_count": 40,
   "metadata": {},
   "outputs": [],
   "source": [
    "ratio_df = (\n",
    "    wine_df_long.groupby(\"adjectives\")[\"is_asshole\"]\n",
    "    .apply(lambda x: x.value_counts(normalize=True))\n",
    "    .unstack(level=0)\n",
    ")"
   ]
  },
  {
   "cell_type": "code",
   "execution_count": 41,
   "metadata": {},
   "outputs": [
    {
     "data": {
      "text/html": [
       "<div>\n",
       "<style scoped>\n",
       "    .dataframe tbody tr th:only-of-type {\n",
       "        vertical-align: middle;\n",
       "    }\n",
       "\n",
       "    .dataframe tbody tr th {\n",
       "        vertical-align: top;\n",
       "    }\n",
       "\n",
       "    .dataframe thead th {\n",
       "        text-align: right;\n",
       "    }\n",
       "</style>\n",
       "<table border=\"1\" class=\"dataframe\">\n",
       "  <thead>\n",
       "    <tr style=\"text-align: right;\">\n",
       "      <th></th>\n",
       "      <th>0</th>\n",
       "      <th>1</th>\n",
       "    </tr>\n",
       "    <tr>\n",
       "      <th>adjectives</th>\n",
       "      <th></th>\n",
       "      <th></th>\n",
       "    </tr>\n",
       "  </thead>\n",
       "  <tbody>\n",
       "    <tr>\n",
       "      <th>honest</th>\n",
       "      <td>0.433584</td>\n",
       "      <td>0.566416</td>\n",
       "    </tr>\n",
       "    <tr>\n",
       "      <th>fair</th>\n",
       "      <td>0.453321</td>\n",
       "      <td>0.546679</td>\n",
       "    </tr>\n",
       "    <tr>\n",
       "      <th>clear</th>\n",
       "      <td>0.471669</td>\n",
       "      <td>0.528331</td>\n",
       "    </tr>\n",
       "    <tr>\n",
       "      <th>serious</th>\n",
       "      <td>0.474308</td>\n",
       "      <td>0.525692</td>\n",
       "    </tr>\n",
       "    <tr>\n",
       "      <th>interested</th>\n",
       "      <td>0.478972</td>\n",
       "      <td>0.521028</td>\n",
       "    </tr>\n",
       "    <tr>\n",
       "      <th>real</th>\n",
       "      <td>0.479927</td>\n",
       "      <td>0.520073</td>\n",
       "    </tr>\n",
       "    <tr>\n",
       "      <th>least</th>\n",
       "      <td>0.481714</td>\n",
       "      <td>0.518286</td>\n",
       "    </tr>\n",
       "    <tr>\n",
       "      <th>good</th>\n",
       "      <td>0.486218</td>\n",
       "      <td>0.513782</td>\n",
       "    </tr>\n",
       "    <tr>\n",
       "      <th>cool</th>\n",
       "      <td>0.486581</td>\n",
       "      <td>0.513419</td>\n",
       "    </tr>\n",
       "    <tr>\n",
       "      <th>important</th>\n",
       "      <td>0.487342</td>\n",
       "      <td>0.512658</td>\n",
       "    </tr>\n",
       "  </tbody>\n",
       "</table>\n",
       "</div>"
      ],
      "text/plain": [
       "                   0         1\n",
       "adjectives                    \n",
       "honest      0.433584  0.566416\n",
       "fair        0.453321  0.546679\n",
       "clear       0.471669  0.528331\n",
       "serious     0.474308  0.525692\n",
       "interested  0.478972  0.521028\n",
       "real        0.479927  0.520073\n",
       "least       0.481714  0.518286\n",
       "good        0.486218  0.513782\n",
       "cool        0.486581  0.513419\n",
       "important   0.487342  0.512658"
      ]
     },
     "execution_count": 41,
     "metadata": {},
     "output_type": "execute_result"
    }
   ],
   "source": [
    "ratio_df[common_adjs].T.sort_values(by=1, ascending=False).head(10)"
   ]
  },
  {
   "cell_type": "code",
   "execution_count": 33,
   "metadata": {
    "slideshow": {
     "slide_type": "slide"
    }
   },
   "outputs": [
    {
     "data": {
      "text/html": [
       "<div>\n",
       "<style scoped>\n",
       "    .dataframe tbody tr th:only-of-type {\n",
       "        vertical-align: middle;\n",
       "    }\n",
       "\n",
       "    .dataframe tbody tr th {\n",
       "        vertical-align: top;\n",
       "    }\n",
       "\n",
       "    .dataframe thead th {\n",
       "        text-align: right;\n",
       "    }\n",
       "</style>\n",
       "<table border=\"1\" class=\"dataframe\">\n",
       "  <thead>\n",
       "    <tr style=\"text-align: right;\">\n",
       "      <th></th>\n",
       "      <th>0</th>\n",
       "      <th>1</th>\n",
       "    </tr>\n",
       "    <tr>\n",
       "      <th>adjectives</th>\n",
       "      <th></th>\n",
       "      <th></th>\n",
       "    </tr>\n",
       "  </thead>\n",
       "  <tbody>\n",
       "    <tr>\n",
       "      <th>uncomfortable</th>\n",
       "      <td>0.583553</td>\n",
       "      <td>0.416447</td>\n",
       "    </tr>\n",
       "    <tr>\n",
       "      <th>comfortable</th>\n",
       "      <td>0.583408</td>\n",
       "      <td>0.416592</td>\n",
       "    </tr>\n",
       "    <tr>\n",
       "      <th>alone</th>\n",
       "      <td>0.582049</td>\n",
       "      <td>0.417951</td>\n",
       "    </tr>\n",
       "    <tr>\n",
       "      <th>selfish</th>\n",
       "      <td>0.576020</td>\n",
       "      <td>0.423980</td>\n",
       "    </tr>\n",
       "    <tr>\n",
       "      <th>tired</th>\n",
       "      <td>0.575569</td>\n",
       "      <td>0.424431</td>\n",
       "    </tr>\n",
       "    <tr>\n",
       "      <th>worse</th>\n",
       "      <td>0.571263</td>\n",
       "      <td>0.428737</td>\n",
       "    </tr>\n",
       "    <tr>\n",
       "      <th>mental</th>\n",
       "      <td>0.569106</td>\n",
       "      <td>0.430894</td>\n",
       "    </tr>\n",
       "    <tr>\n",
       "      <th>older</th>\n",
       "      <td>0.558030</td>\n",
       "      <td>0.441970</td>\n",
       "    </tr>\n",
       "    <tr>\n",
       "      <th>multiple</th>\n",
       "      <td>0.557171</td>\n",
       "      <td>0.442829</td>\n",
       "    </tr>\n",
       "    <tr>\n",
       "      <th>terrible</th>\n",
       "      <td>0.554785</td>\n",
       "      <td>0.445215</td>\n",
       "    </tr>\n",
       "  </tbody>\n",
       "</table>\n",
       "</div>"
      ],
      "text/plain": [
       "                      0         1\n",
       "adjectives                       \n",
       "uncomfortable  0.583553  0.416447\n",
       "comfortable    0.583408  0.416592\n",
       "alone          0.582049  0.417951\n",
       "selfish        0.576020  0.423980\n",
       "tired          0.575569  0.424431\n",
       "worse          0.571263  0.428737\n",
       "mental         0.569106  0.430894\n",
       "older          0.558030  0.441970\n",
       "multiple       0.557171  0.442829\n",
       "terrible       0.554785  0.445215"
      ]
     },
     "execution_count": 33,
     "metadata": {},
     "output_type": "execute_result"
    }
   ],
   "source": [
    "ratio_df[common_adjs].T.sort_values(by=0, ascending=False).head(10)"
   ]
  },
  {
   "cell_type": "code",
   "execution_count": 39,
   "metadata": {},
   "outputs": [
    {
     "data": {
      "text/html": [
       "<div>\n",
       "<style scoped>\n",
       "    .dataframe tbody tr th:only-of-type {\n",
       "        vertical-align: middle;\n",
       "    }\n",
       "\n",
       "    .dataframe tbody tr th {\n",
       "        vertical-align: top;\n",
       "    }\n",
       "\n",
       "    .dataframe thead th {\n",
       "        text-align: right;\n",
       "    }\n",
       "</style>\n",
       "<table border=\"1\" class=\"dataframe\">\n",
       "  <thead>\n",
       "    <tr style=\"text-align: right;\">\n",
       "      <th>adjectives</th>\n",
       "      <th>\"agriculture</th>\n",
       "      <th>-</th>\n",
       "      <th>-as</th>\n",
       "      <th>/</th>\n",
       "      <th>1$.</th>\n",
       "      <th>1-sided</th>\n",
       "      <th>10/20/30</th>\n",
       "      <th>100cc</th>\n",
       "      <th>100th</th>\n",
       "      <th>100yo</th>\n",
       "      <th>...</th>\n",
       "      <th>zany</th>\n",
       "      <th>zero</th>\n",
       "      <th>zippy</th>\n",
       "      <th>zombified</th>\n",
       "      <th>zoned</th>\n",
       "      <th>~1000$a</th>\n",
       "      <th>~£100</th>\n",
       "      <th>​</th>\n",
       "      <th>•her</th>\n",
       "      <th>😡</th>\n",
       "    </tr>\n",
       "  </thead>\n",
       "  <tbody>\n",
       "    <tr>\n",
       "      <th>0</th>\n",
       "      <td>1.0</td>\n",
       "      <td>0.509271</td>\n",
       "      <td>1.0</td>\n",
       "      <td>0.545455</td>\n",
       "      <td>1.0</td>\n",
       "      <td>1.0</td>\n",
       "      <td>1.0</td>\n",
       "      <td>NaN</td>\n",
       "      <td>0.4</td>\n",
       "      <td>NaN</td>\n",
       "      <td>...</td>\n",
       "      <td>NaN</td>\n",
       "      <td>1.0</td>\n",
       "      <td>1.0</td>\n",
       "      <td>1.0</td>\n",
       "      <td>1.0</td>\n",
       "      <td>1.0</td>\n",
       "      <td>1.0</td>\n",
       "      <td>0.4</td>\n",
       "      <td>1.0</td>\n",
       "      <td>1.0</td>\n",
       "    </tr>\n",
       "    <tr>\n",
       "      <th>1</th>\n",
       "      <td>NaN</td>\n",
       "      <td>0.490729</td>\n",
       "      <td>NaN</td>\n",
       "      <td>0.454545</td>\n",
       "      <td>NaN</td>\n",
       "      <td>NaN</td>\n",
       "      <td>NaN</td>\n",
       "      <td>1.0</td>\n",
       "      <td>0.6</td>\n",
       "      <td>1.0</td>\n",
       "      <td>...</td>\n",
       "      <td>1.0</td>\n",
       "      <td>NaN</td>\n",
       "      <td>NaN</td>\n",
       "      <td>NaN</td>\n",
       "      <td>NaN</td>\n",
       "      <td>NaN</td>\n",
       "      <td>NaN</td>\n",
       "      <td>0.6</td>\n",
       "      <td>NaN</td>\n",
       "      <td>NaN</td>\n",
       "    </tr>\n",
       "  </tbody>\n",
       "</table>\n",
       "<p>2 rows × 8600 columns</p>\n",
       "</div>"
      ],
      "text/plain": [
       "adjectives  \"agriculture         -  -as         /  1$.  1-sided  10/20/30  \\\n",
       "0                    1.0  0.509271  1.0  0.545455  1.0      1.0       1.0   \n",
       "1                    NaN  0.490729  NaN  0.454545  NaN      NaN       NaN   \n",
       "\n",
       "adjectives  100cc  100th  100yo  ...  zany  zero  zippy  zombified  zoned  \\\n",
       "0             NaN    0.4    NaN  ...   NaN   1.0    1.0        1.0    1.0   \n",
       "1             1.0    0.6    1.0  ...   1.0   NaN    NaN        NaN    NaN   \n",
       "\n",
       "adjectives  ~1000$a  ~£100    ​  •her    😡  \n",
       "0               1.0    1.0  0.4   1.0  1.0  \n",
       "1               NaN    NaN  0.6   NaN  NaN  \n",
       "\n",
       "[2 rows x 8600 columns]"
      ]
     },
     "execution_count": 39,
     "metadata": {},
     "output_type": "execute_result"
    }
   ],
   "source": [
    "ratio_df.T"
   ]
  },
  {
   "cell_type": "code",
   "execution_count": null,
   "metadata": {},
   "outputs": [],
   "source": []
  }
 ],
 "metadata": {
  "kernelspec": {
   "display_name": "Python 3",
   "language": "python",
   "name": "python3"
  },
  "language_info": {
   "codemirror_mode": {
    "name": "ipython",
    "version": 3
   },
   "file_extension": ".py",
   "mimetype": "text/x-python",
   "name": "python",
   "nbconvert_exporter": "python",
   "pygments_lexer": "ipython3",
   "version": "3.8.3"
  }
 },
 "nbformat": 4,
 "nbformat_minor": 2
}
