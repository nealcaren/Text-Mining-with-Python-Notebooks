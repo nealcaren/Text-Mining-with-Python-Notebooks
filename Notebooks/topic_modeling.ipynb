{
 "cells": [
  {
   "cell_type": "markdown",
   "metadata": {
    "slideshow": {
     "slide_type": "slide"
    }
   },
   "source": [
    "# Topic Models"
   ]
  },
  {
   "cell_type": "markdown",
   "metadata": {
    "slideshow": {
     "slide_type": "slide"
    }
   },
   "source": [
    "As you've likely realized by this point in the book, there is an abundance of information available online suited to social science research. The breadth of available data means there's more information out there than any individual researcher--or even teams of researchers--would be able to efficiently analyze without the assistance of some additional tools. \n",
    "\n",
    "Luckily, topic modeling allows us to quickly and systematically analyze vast quantities of unstructured text. With topic modelling, we are able to uncover some of the more abstract, underlying themes aross large collections of text without putting in the hours of manpower necessary to read through the texts at a human pace. \n",
    "\n",
    "This lesson will go over what, exactly, topic modeling does, walk through how to run Latent Dirichlet allocation (LDA) topic models in Python, and introduce a number of fit statistics to help us better understand the topic models we'll be generating. We'll end with a discussion of several useful visualization tools for topic modeling. "
   ]
  },
  {
   "cell_type": "markdown",
   "metadata": {
    "slideshow": {
     "slide_type": "slide"
    }
   },
   "source": [
    "# What is Topic Modeling?\n",
    "\n",
    "\n",
    "As a form of unsupervised machine learning, *topic modeling* allows for the classification of large collections of textual documents into natural groups, without the need for extensive human supervision. Employed in text mining and natural language processing, topic models can uncover the hidden, or *latent*, meanings of language patterns within texts.  \n",
    "\n",
    "\n",
    "> In text mining, we often have collections of documents, such as blog posts or news articles, that we’d like to divide into natural groups so that we can understand them separately. Topic modeling is a method for unsupervised classification of such documents, similar to clustering on numeric data, which finds natural groups of items even when we’re not sure what we’re looking for.\n",
    "\n",
    "[Source](https://www.tidytextmining.com/topicmodeling.html)\n"
   ]
  },
  {
   "cell_type": "markdown",
   "metadata": {
    "slideshow": {
     "slide_type": "slide"
    }
   },
   "source": [
    "## Setup\n",
    "\n",
    "In addition to `matplotlib inline` and `pandas`, we'll also be importing `CountVectorizer` from [scikit-learn](https://scikit-learn.org/stable/), a machine learning library for Python. We'll discuss the role of `CountVectorizer` in topic modeling in more detail later in the chapter. \n",
    "\n",
    "We'll also want to use `pandas` to increase our maximum column width to 120 characters, over the default 50-character column width. This will help us more easily glance over text in the dataframe. \n",
    "\n"
   ]
  },
  {
   "cell_type": "code",
   "execution_count": 1,
   "metadata": {
    "slideshow": {
     "slide_type": "slide"
    }
   },
   "outputs": [],
   "source": [
    "%matplotlib inline\n",
    "\n",
    "import pandas as pd\n",
    "\n",
    "from sklearn.feature_extraction.text import CountVectorizer\n",
    "\n",
    "\n",
    "pd.set_option('display.max_colwidth', 120)"
   ]
  },
  {
   "cell_type": "markdown",
   "metadata": {
    "slideshow": {
     "slide_type": "slide"
    }
   },
   "source": [
    "In this chapter we'll be looking at [transcriptions](https://www.kaggle.com/unitednations/un-general-debates) of United Nations General Debates, from 1970 to 2016."
   ]
  },
  {
   "cell_type": "code",
   "execution_count": 2,
   "metadata": {
    "slideshow": {
     "slide_type": "slide"
    }
   },
   "outputs": [
    {
     "name": "stdout",
     "output_type": "stream",
     "text": [
      "3214\n"
     ]
    }
   ],
   "source": [
    "un_df = pd.read_json('data/un-general-debates.json')\n",
    "print(len(un_df))"
   ]
  },
  {
   "cell_type": "markdown",
   "metadata": {
    "slideshow": {
     "slide_type": "slide"
    }
   },
   "source": [
    "With 3,214 complete transcriptions of UN members' statements to work with, this is an ideal dataset to use as we begin playing around with topic models. \n",
    "\n",
    "Let's look at a small random sample of 5 texts from the dataframe to get a feel for what we're dealing with:"
   ]
  },
  {
   "cell_type": "code",
   "execution_count": 3,
   "metadata": {},
   "outputs": [
    {
     "data": {
      "text/html": [
       "<div>\n",
       "<style scoped>\n",
       "    .dataframe tbody tr th:only-of-type {\n",
       "        vertical-align: middle;\n",
       "    }\n",
       "\n",
       "    .dataframe tbody tr th {\n",
       "        vertical-align: top;\n",
       "    }\n",
       "\n",
       "    .dataframe thead th {\n",
       "        text-align: right;\n",
       "    }\n",
       "</style>\n",
       "<table border=\"1\" class=\"dataframe\">\n",
       "  <thead>\n",
       "    <tr style=\"text-align: right;\">\n",
       "      <th></th>\n",
       "      <th>index</th>\n",
       "      <th>speech_year</th>\n",
       "      <th>country_code</th>\n",
       "      <th>speech_text</th>\n",
       "    </tr>\n",
       "  </thead>\n",
       "  <tbody>\n",
       "    <tr>\n",
       "      <th>355</th>\n",
       "      <td>810</td>\n",
       "      <td>1991</td>\n",
       "      <td>LVA</td>\n",
       "      <td>﻿Allow me to convey to the President, on behalf of the Government and people of Latvia and on my own behalf, our sin...</td>\n",
       "    </tr>\n",
       "    <tr>\n",
       "      <th>1720</th>\n",
       "      <td>3601</td>\n",
       "      <td>1999</td>\n",
       "      <td>AGO</td>\n",
       "      <td>Allow me, to begin, Sir,\\nby congratulating you on behalf of the Government of the\\nRepublic of Angola, and on my ow...</td>\n",
       "    </tr>\n",
       "    <tr>\n",
       "      <th>2001</th>\n",
       "      <td>4067</td>\n",
       "      <td>1982</td>\n",
       "      <td>BLZ</td>\n",
       "      <td>203.\\tThe delegation of the newly independent \\nCentral American and Caribbean nation of Belize \\nhas listened with ...</td>\n",
       "    </tr>\n",
       "    <tr>\n",
       "      <th>666</th>\n",
       "      <td>1435</td>\n",
       "      <td>1996</td>\n",
       "      <td>UGA</td>\n",
       "      <td>﻿It is a pleasure and an\\nhonour for me to address this Assembly. From this lofty\\nrostrum, the nations of the world...</td>\n",
       "    </tr>\n",
       "    <tr>\n",
       "      <th>2197</th>\n",
       "      <td>4263</td>\n",
       "      <td>1998</td>\n",
       "      <td>GRC</td>\n",
       "      <td>I wish first to extend to the\\nPresident my warm congratulations on his assumption of\\nthe conduct of the current se...</td>\n",
       "    </tr>\n",
       "  </tbody>\n",
       "</table>\n",
       "</div>"
      ],
      "text/plain": [
       "      index  speech_year country_code  \\\n",
       "355     810         1991          LVA   \n",
       "1720   3601         1999          AGO   \n",
       "2001   4067         1982          BLZ   \n",
       "666    1435         1996          UGA   \n",
       "2197   4263         1998          GRC   \n",
       "\n",
       "                                                                                                                  speech_text  \n",
       "355   ﻿Allow me to convey to the President, on behalf of the Government and people of Latvia and on my own behalf, our sin...  \n",
       "1720  Allow me, to begin, Sir,\\nby congratulating you on behalf of the Government of the\\nRepublic of Angola, and on my ow...  \n",
       "2001  203.\\tThe delegation of the newly independent \\nCentral American and Caribbean nation of Belize \\nhas listened with ...  \n",
       "666   ﻿It is a pleasure and an\\nhonour for me to address this Assembly. From this lofty\\nrostrum, the nations of the world...  \n",
       "2197  I wish first to extend to the\\nPresident my warm congratulations on his assumption of\\nthe conduct of the current se...  "
      ]
     },
     "execution_count": 3,
     "metadata": {},
     "output_type": "execute_result"
    }
   ],
   "source": [
    "un_df.sample(5)"
   ]
  },
  {
   "cell_type": "markdown",
   "metadata": {
    "slideshow": {
     "slide_type": "slide"
    }
   },
   "source": [
    "### Topic Modeling Exercise 1\n",
    "\n",
    "\n",
    "Take a look at the text of the UN speeches. When delivering an address, what are the different topics that are covered? Make a list of four topics and provide three example words from each topic.\n",
    "\n",
    "\n"
   ]
  },
  {
   "cell_type": "markdown",
   "metadata": {
    "slideshow": {
     "slide_type": "slide"
    }
   },
   "source": [
    "![](images/lda.jpg)"
   ]
  },
  {
   "cell_type": "markdown",
   "metadata": {
    "slideshow": {
     "slide_type": "slide"
    }
   },
   "source": [
    "## Latent Dirichlet allocation (LDA) \n",
    "\n",
    "We'll narrow our focus for the time being to one particular form of topic modeling, *Latent Dirichlet allocation*, or *LDA* for short. With LDA topic modeling, we'll be able to treat every document in our corpus as a mixture of topics. Each document in our corpus can contain words associated with any number of topics in varying proportions. At the same time, each topic can be treated as a mixture of words. Any given word can be associated with any number of topics. Considering our documents and topics as these sorts of \"mixtures\" helps us to mimic the thematic subtleties inherent in natural language.\n",
    "\n",
    "\n",
    "> Latent Dirichlet allocation (LDA) is a particularly popular method for fitting a topic model. It treats each document as a mixture of topics, and each topic as a mixture of words.  > This allows documents to “overlap” each other in terms of content, rather than being separated into discrete groups, in a way that mirrors typical use of natural language.\n",
    "Latent Dirichlet allocation is one of the most common algorithms for topic modeling. Without diving into the math behind the model, we can understand it as being guided by two principles.\n",
    "> * **Every document is a mixture of topics.** We imagine that each document may contain words from several topics in particular proportions. For example, in a two-topic model we could say “Document 1 is 90% topic A and 10% topic B, while Document 2 is 30% topic A and 70% topic B.”\n",
    "> * **Every topic is a mixture of words.** For example, we could imagine a two-topic model of American news, with one topic for “politics” and one for “entertainment.” The most common words in the politics topic might be “President”, “Congress”, and “government”, while the entertainment topic may be made up of words such as “movies”, “television”, and “actor”. Importantly, words can be shared between topics; a word like “budget” might appear in both equally.\n",
    "\n",
    "> LDA is a mathematical method for estimating both of these at the same time: finding the mixture of words that is associated with each topic, while also determining the mixture of topics that describes each document. There are a number of existing implementations of this algorithm, and we’ll explore one of them in depth.\n",
    "\n",
    "[Source](https://www.tidytextmining.com/topicmodeling.html#latent-dirichlet-allocation)"
   ]
  },
  {
   "cell_type": "markdown",
   "metadata": {
    "slideshow": {
     "slide_type": "slide"
    }
   },
   "source": [
    "![](images/lda.jpg)"
   ]
  },
  {
   "cell_type": "markdown",
   "metadata": {
    "slideshow": {
     "slide_type": "slide"
    }
   },
   "source": [
    "We can import `LatentDirichletAllocation` from scikit-learn to run our own LDA topic models in Python. "
   ]
  },
  {
   "cell_type": "code",
   "execution_count": 4,
   "metadata": {
    "slideshow": {
     "slide_type": "slide"
    }
   },
   "outputs": [],
   "source": [
    "from sklearn.decomposition import LatentDirichletAllocation"
   ]
  },
  {
   "cell_type": "markdown",
   "metadata": {
    "slideshow": {
     "slide_type": "slide"
    }
   },
   "source": [
    "### Converting Documents to Vectors\n",
    "\n",
    "In order to run our topic models, we'll need to convert each document in the corpus into a fixed-length *vector*. We can accomplish this using the [CountVectorizer](https://scikit-learn.org/stable/modules/generated/sklearn.feature_extraction.text.CountVectorizer.html?highlight=vectorizer#sklearn.feature_extraction.text.CountVectorizer) function we imported earlier in the chapter. Using `CountVectorizer`, we'll be able to transform our dataset from a collection of text documents into a matrix of token counts.\n",
    "\n",
    "`CountVectorizer` can take a number of parameters; while not an exhaustive list, some important parameters are described below. "
   ]
  },
  {
   "cell_type": "markdown",
   "metadata": {
    "slideshow": {
     "slide_type": "slide"
    }
   },
   "source": [
    "#### `CountVectorizer` Parameters\n",
    "\n",
    "- **lowercase**: Converts all text to lower case. By default, `lowercase` is set to True.\n",
    "\n",
    "\n",
    "- **ngram_range**: This allows us to restrict the range of n-values for our n-grams. Formatted as a tuple, the first sets the minimum n-value, and the second sets the maximum n-value. By default, `n-gram range` is set to (1,1). (If we leave it alone, we'll only be looking at unigrams.) \n",
    "\n",
    "\n",
    "- **stop_words**: We can use this parameter to rule out words that occur 1) too frequently, 2) not frequently enough, and/or 3) fall outside of a threshold term frequency. This can be set the 'english' to use a pre-determined set of stopwords often found in texts written in the English language. We can also provide our own list of stopwords if we so choose. \n",
    "\n",
    "> - **max_df**: Allows us to set a maximum threshold on document frequency for our terms incorporated into our vocabulary. By default, `max_df` is set to 1.0. \n",
    "> - **min_df**: Allows us to set a minimum threshold on document frequency for our terms incorporated into our vocabulary. By default, `max_df` is set to 1.0. \n",
    "> - **max_features**: Allows us to build a vocabulary exclusively from high-frequency terms occuring throughout our corpus. "
   ]
  },
  {
   "cell_type": "markdown",
   "metadata": {
    "slideshow": {
     "slide_type": "slide"
    }
   },
   "source": [
    "For now, let's set our parameters so that we convert all text to lower case, only look at unigrams, only look at terms with a document frequency of .90 or below, use the default 'english' stopwords list, and only consider the top 1,000 terms in our corpus.  "
   ]
  },
  {
   "cell_type": "code",
   "execution_count": 5,
   "metadata": {
    "slideshow": {
     "slide_type": "slide"
    }
   },
   "outputs": [],
   "source": [
    "vectorizer = CountVectorizer(lowercase   = True,\n",
    "                             ngram_range = (1,1),\n",
    "                             max_df      = .90,\n",
    "                             stop_words   = 'english',\n",
    "                             max_features = 1000)"
   ]
  },
  {
   "cell_type": "markdown",
   "metadata": {
    "slideshow": {
     "slide_type": "slide"
    }
   },
   "source": [
    "After setting our parameters, we can `fit` the vectorizer to the `speech_text` key in our UN General Debate dataframe to build a vocabulary out of the raw documents."
   ]
  },
  {
   "cell_type": "markdown",
   "metadata": {
    "slideshow": {
     "slide_type": "slide"
    }
   },
   "source": [
    "*Note*: You'll run into an Attribute Error if the key you plan to fit the vectorizer to contains any missing values. While we don't have to worry about this with our UN dataframe, if you encounter such an error in the future, be sure to [clean your dataframe](https://pandas.pydata.org/pandas-docs/stable/user_guide/missing_data.html#missing-data) before attempting to fit the vectorizer. "
   ]
  },
  {
   "cell_type": "code",
   "execution_count": 6,
   "metadata": {
    "slideshow": {
     "slide_type": "slide"
    }
   },
   "outputs": [
    {
     "data": {
      "text/plain": [
       "CountVectorizer(max_df=0.9, max_features=1000, stop_words='english')"
      ]
     },
     "execution_count": 6,
     "metadata": {},
     "output_type": "execute_result"
    }
   ],
   "source": [
    "vectorizer.fit(un_df['speech_text'])"
   ]
  },
  {
   "cell_type": "markdown",
   "metadata": {
    "slideshow": {
     "slide_type": "slide"
    }
   },
   "source": [
    "We can use the `len` function, along with `get_feature_names`, to ensure we're dealing with a vocabulary composed of the top 1,000 highest-frequency terms in our corpus. "
   ]
  },
  {
   "cell_type": "code",
   "execution_count": 7,
   "metadata": {},
   "outputs": [
    {
     "data": {
      "text/plain": [
       "1000"
      ]
     },
     "execution_count": 7,
     "metadata": {},
     "output_type": "execute_result"
    }
   ],
   "source": [
    "len(vectorizer.get_feature_names())"
   ]
  },
  {
   "cell_type": "markdown",
   "metadata": {
    "slideshow": {
     "slide_type": "slide"
    }
   },
   "source": [
    "Now we'll want to use the vectorizor to `transform` the raw documents into a document-term matrix. "
   ]
  },
  {
   "cell_type": "code",
   "execution_count": 8,
   "metadata": {
    "slideshow": {
     "slide_type": "slide"
    }
   },
   "outputs": [],
   "source": [
    "un_word_counts = vectorizer.transform(un_df['speech_text'])"
   ]
  },
  {
   "cell_type": "markdown",
   "metadata": {
    "slideshow": {
     "slide_type": "slide"
    }
   },
   "source": [
    "### Running the LDA Model\n",
    "\n",
    "Now that we've vectorized our dataset, we're just about ready to run our first LDA model in Python. Before we do, though, we'll want to set our parameters. Below is some information on the parameters we'll set. "
   ]
  },
  {
   "cell_type": "markdown",
   "metadata": {},
   "source": [
    "#### `LatentDirichletAllocation` Parameters\n",
    "\n",
    "- **n_components**: Sets the number of topics generated. We can set this as high or as low as we like, depending on the size and character of the texts in our corpus. \n",
    "\n",
    "\n",
    "- **max_iter**: Sets the maximum number of iterations. By default, `max_iter` is set to 10.\n",
    "> - ***Note***: In almost every case, we'll want to set `max_iter` above 10. It's highly unlikely our models will converge in 10 iterations or less. In the following example, we'll set `max_iter` to 50, a more reasonable maximum iteration threshold.\n",
    "\n",
    "- **evaluate_every**: Lets us adjust how frequently we gauge the perplexity of our model across iterations. By default, `evaluate_every` is set to 0.\n",
    "> - ***Note***: Leaving `evaluate_every` at 0 leaves our model without any built-in goodness of fit measure. We'll discuss other measurements of model fit later in the chapter, but for now it's useful to set `evaluate_every` to some positive number. In the following example, we'll `evaluate_every` 5 iterations.\n",
    "\n",
    "- **n_jobs**: Sets the number of concurrently running processes. When set to -1, we'll use all processors. To use all processors but one, set `n_jobs` to -2. \n",
    "\n",
    "\n",
    "- **verbose**: Lets us determine whether or not every step of the process is logged. If > 0, we'll be able to see what's going on with our LDA model through the output in real time. "
   ]
  },
  {
   "cell_type": "code",
   "execution_count": 11,
   "metadata": {
    "slideshow": {
     "slide_type": "slide"
    }
   },
   "outputs": [],
   "source": [
    "lda_model = LatentDirichletAllocation(n_components = 10,\n",
    "                                      max_iter     = 50,\n",
    "                                      evaluate_every = 5,\n",
    "                                      n_jobs       = -1,\n",
    "                                      verbose      = 1)"
   ]
  },
  {
   "cell_type": "markdown",
   "metadata": {
    "slideshow": {
     "slide_type": "slide"
    }
   },
   "source": [
    "With our parameters set, we can `fit` the LDA model to our document-term matrix of the UN General Debate transcripts.\n",
    "\n",
    "*Note*: It's going to take a while to work our way through up to 50 iterations. That's alright."
   ]
  },
  {
   "cell_type": "code",
   "execution_count": 12,
   "metadata": {
    "slideshow": {
     "slide_type": "slide"
    }
   },
   "outputs": [
    {
     "name": "stdout",
     "output_type": "stream",
     "text": [
      "iteration: 1 of max_iter: 50\n",
      "iteration: 2 of max_iter: 50\n",
      "iteration: 3 of max_iter: 50\n",
      "iteration: 4 of max_iter: 50\n",
      "iteration: 5 of max_iter: 50, perplexity: 710.8393\n",
      "iteration: 6 of max_iter: 50\n",
      "iteration: 7 of max_iter: 50\n",
      "iteration: 8 of max_iter: 50\n",
      "iteration: 9 of max_iter: 50\n",
      "iteration: 10 of max_iter: 50, perplexity: 703.7182\n",
      "iteration: 11 of max_iter: 50\n",
      "iteration: 12 of max_iter: 50\n",
      "iteration: 13 of max_iter: 50\n",
      "iteration: 14 of max_iter: 50\n",
      "iteration: 15 of max_iter: 50, perplexity: 702.0994\n",
      "iteration: 16 of max_iter: 50\n",
      "iteration: 17 of max_iter: 50\n",
      "iteration: 18 of max_iter: 50\n",
      "iteration: 19 of max_iter: 50\n",
      "iteration: 20 of max_iter: 50, perplexity: 701.4241\n",
      "iteration: 21 of max_iter: 50\n",
      "iteration: 22 of max_iter: 50\n",
      "iteration: 23 of max_iter: 50\n",
      "iteration: 24 of max_iter: 50\n",
      "iteration: 25 of max_iter: 50, perplexity: 701.0145\n",
      "iteration: 26 of max_iter: 50\n",
      "iteration: 27 of max_iter: 50\n",
      "iteration: 28 of max_iter: 50\n",
      "iteration: 29 of max_iter: 50\n",
      "iteration: 30 of max_iter: 50, perplexity: 700.7302\n",
      "iteration: 31 of max_iter: 50\n",
      "iteration: 32 of max_iter: 50\n",
      "iteration: 33 of max_iter: 50\n",
      "iteration: 34 of max_iter: 50\n",
      "iteration: 35 of max_iter: 50, perplexity: 700.4852\n",
      "iteration: 36 of max_iter: 50\n",
      "iteration: 37 of max_iter: 50\n",
      "iteration: 38 of max_iter: 50\n",
      "iteration: 39 of max_iter: 50\n",
      "iteration: 40 of max_iter: 50, perplexity: 700.2803\n",
      "iteration: 41 of max_iter: 50\n",
      "iteration: 42 of max_iter: 50\n",
      "iteration: 43 of max_iter: 50\n",
      "iteration: 44 of max_iter: 50\n",
      "iteration: 45 of max_iter: 50, perplexity: 700.1011\n",
      "iteration: 46 of max_iter: 50\n",
      "iteration: 47 of max_iter: 50\n",
      "iteration: 48 of max_iter: 50\n",
      "iteration: 49 of max_iter: 50\n",
      "iteration: 50 of max_iter: 50, perplexity: 699.9515\n"
     ]
    },
    {
     "data": {
      "text/plain": [
       "LatentDirichletAllocation(batch_size=128, doc_topic_prior=None,\n",
       "                          evaluate_every=5, learning_decay=0.7,\n",
       "                          learning_method='batch', learning_offset=10.0,\n",
       "                          max_doc_update_iter=100, max_iter=50,\n",
       "                          mean_change_tol=0.001, n_components=10, n_jobs=-1,\n",
       "                          perp_tol=0.1, random_state=None,\n",
       "                          topic_word_prior=None, total_samples=1000000.0,\n",
       "                          verbose=1)"
      ]
     },
     "execution_count": 12,
     "metadata": {},
     "output_type": "execute_result"
    }
   ],
   "source": [
    "lda_model.fit(un_word_counts)"
   ]
  },
  {
   "cell_type": "markdown",
   "metadata": {},
   "source": [
    "Congrats, you've run your first topic model on Python!"
   ]
  },
  {
   "cell_type": "markdown",
   "metadata": {
    "slideshow": {
     "slide_type": "slide"
    }
   },
   "source": [
    "## Some fit statistics\n",
    "\n",
    "While we can intuitively \"eyeball\" topic quality as a first step, it's hard to do so objectively.  Calculating some fit statistics can help us to evaluate our topics' quality numerically.\n",
    "\n",
    "\n",
    "`LatentDirichletAllocation` includes a few handy methods for calculating fit statistics:\n",
    "\n",
    "- **`score()`** lets us calculate the approximate logged likelihood of the model parameters we've set, given our data. The higher this number is, the better our topic fit. \n",
    "- **`perplexity()`**, another (normalized) form of logged likelihood, calculates the amount of \"surprise\" our model experiences if we introduce some previously unseen data. The lower this number is, the better our topic fit.\n",
    "\n",
    "To learn more about evaluating fit for LDA topic models in Python, see [here](https://towardsdatascience.com/evaluate-topic-model-in-python-latent-dirichlet-allocation-lda-7d57484bb5d0)."
   ]
  },
  {
   "cell_type": "code",
   "execution_count": 11,
   "metadata": {},
   "outputs": [
    {
     "name": "stdout",
     "output_type": "stream",
     "text": [
      "Log Likelihood:  -17541939.72397841\n",
      "Perplexity:  700.1354513027705\n"
     ]
    }
   ],
   "source": [
    "# Log Likelihood: Higher the better\n",
    "print(\"Log Likelihood: \", lda_model.score(un_word_counts))\n",
    "\n",
    "# Perplexity: Lower the better. Perplexity = exp(-1. * log-likelihood per word)\n",
    "print(\"Perplexity: \", lda_model.perplexity(un_word_counts))"
   ]
  },
  {
   "cell_type": "markdown",
   "metadata": {
    "slideshow": {
     "slide_type": "slide"
    }
   },
   "source": [
    "### Guidelines on topic fit\n",
    "1. Low perplexity on test data.\n",
    "    - Remeber that the lower our perplexity score, the better our topic fit to our data.\n",
    "1. **Topical coherence**\n",
    "2. Best fit in a classification task.\n",
    "    - We'll discuss classification tasks in more detail in another chapter. \n",
    "3. Extract more and then bin them yourself. \n",
    "    - When all else fails, "
   ]
  },
  {
   "cell_type": "code",
   "execution_count": 12,
   "metadata": {
    "slideshow": {
     "slide_type": "skip"
    }
   },
   "outputs": [
    {
     "name": "stdout",
     "output_type": "stream",
     "text": [
      "{'batch_size': 128, 'doc_topic_prior': None, 'evaluate_every': -1, 'learning_decay': 0.7, 'learning_method': 'batch', 'learning_offset': 10.0, 'max_doc_update_iter': 100, 'max_iter': 50, 'mean_change_tol': 0.001, 'n_components': 10, 'n_jobs': -1, 'perp_tol': 0.1, 'random_state': None, 'topic_word_prior': None, 'total_samples': 1000000.0, 'verbose': 1}\n"
     ]
    }
   ],
   "source": [
    "print(lda_model.get_params())"
   ]
  },
  {
   "cell_type": "markdown",
   "metadata": {
    "slideshow": {
     "slide_type": "slide"
    }
   },
   "source": [
    "## Visualizing Topics"
   ]
  },
  {
   "cell_type": "markdown",
   "metadata": {
    "slideshow": {
     "slide_type": "slide"
    }
   },
   "source": [
    "In this section we'll discuss some of the ways we can visualize the topics we've created with our LDA model. "
   ]
  },
  {
   "cell_type": "markdown",
   "metadata": {},
   "source": [
    "### pdtext"
   ]
  },
  {
   "cell_type": "markdown",
   "metadata": {
    "slideshow": {
     "slide_type": "slide"
    }
   },
   "source": [
    "First, we can import `topic_words` from the `pdtext` package in order to create a easily interpretable matrix of our topics. Below, we'll look at the first 10:"
   ]
  },
  {
   "cell_type": "code",
   "execution_count": 15,
   "metadata": {},
   "outputs": [
    {
     "data": {
      "text/html": [
       "<div>\n",
       "<style scoped>\n",
       "    .dataframe tbody tr th:only-of-type {\n",
       "        vertical-align: middle;\n",
       "    }\n",
       "\n",
       "    .dataframe tbody tr th {\n",
       "        vertical-align: top;\n",
       "    }\n",
       "\n",
       "    .dataframe thead th {\n",
       "        text-align: right;\n",
       "    }\n",
       "</style>\n",
       "<table border=\"1\" class=\"dataframe\">\n",
       "  <thead>\n",
       "    <tr style=\"text-align: right;\">\n",
       "      <th></th>\n",
       "      <th>1</th>\n",
       "      <th>2</th>\n",
       "      <th>3</th>\n",
       "      <th>4</th>\n",
       "      <th>5</th>\n",
       "      <th>6</th>\n",
       "      <th>7</th>\n",
       "      <th>8</th>\n",
       "      <th>9</th>\n",
       "      <th>10</th>\n",
       "    </tr>\n",
       "  </thead>\n",
       "  <tbody>\n",
       "    <tr>\n",
       "      <th>Topic 1</th>\n",
       "      <td>arab</td>\n",
       "      <td>israel</td>\n",
       "      <td>council</td>\n",
       "      <td>iraq</td>\n",
       "      <td>palestinian</td>\n",
       "      <td>region</td>\n",
       "      <td>resolutions</td>\n",
       "      <td>aggression</td>\n",
       "      <td>lebanon</td>\n",
       "      <td>war</td>\n",
       "    </tr>\n",
       "    <tr>\n",
       "      <th>Topic 2</th>\n",
       "      <td>cooperation</td>\n",
       "      <td>process</td>\n",
       "      <td>social</td>\n",
       "      <td>republic</td>\n",
       "      <td>region</td>\n",
       "      <td>rights</td>\n",
       "      <td>regional</td>\n",
       "      <td>order</td>\n",
       "      <td>important</td>\n",
       "      <td>relations</td>\n",
       "    </tr>\n",
       "    <tr>\n",
       "      <th>Topic 3</th>\n",
       "      <td>africa</td>\n",
       "      <td>african</td>\n",
       "      <td>south</td>\n",
       "      <td>situation</td>\n",
       "      <td>delegation</td>\n",
       "      <td>peoples</td>\n",
       "      <td>republic</td>\n",
       "      <td>namibia</td>\n",
       "      <td>unity</td>\n",
       "      <td>angola</td>\n",
       "    </tr>\n",
       "    <tr>\n",
       "      <th>Topic 4</th>\n",
       "      <td>peoples</td>\n",
       "      <td>rights</td>\n",
       "      <td>america</td>\n",
       "      <td>today</td>\n",
       "      <td>central</td>\n",
       "      <td>american</td>\n",
       "      <td>freedom</td>\n",
       "      <td>order</td>\n",
       "      <td>respect</td>\n",
       "      <td>state</td>\n",
       "    </tr>\n",
       "    <tr>\n",
       "      <th>Topic 5</th>\n",
       "      <td>nuclear</td>\n",
       "      <td>weapons</td>\n",
       "      <td>treaty</td>\n",
       "      <td>disarmament</td>\n",
       "      <td>non</td>\n",
       "      <td>council</td>\n",
       "      <td>rights</td>\n",
       "      <td>year</td>\n",
       "      <td>proliferation</td>\n",
       "      <td>global</td>\n",
       "    </tr>\n",
       "    <tr>\n",
       "      <th>Topic 6</th>\n",
       "      <td>operation</td>\n",
       "      <td>south</td>\n",
       "      <td>problems</td>\n",
       "      <td>developing</td>\n",
       "      <td>situation</td>\n",
       "      <td>conference</td>\n",
       "      <td>solution</td>\n",
       "      <td>negotiations</td>\n",
       "      <td>problem</td>\n",
       "      <td>africa</td>\n",
       "    </tr>\n",
       "    <tr>\n",
       "      <th>Topic 7</th>\n",
       "      <td>developing</td>\n",
       "      <td>global</td>\n",
       "      <td>small</td>\n",
       "      <td>trade</td>\n",
       "      <td>resources</td>\n",
       "      <td>south</td>\n",
       "      <td>environment</td>\n",
       "      <td>debt</td>\n",
       "      <td>developed</td>\n",
       "      <td>growth</td>\n",
       "    </tr>\n",
       "    <tr>\n",
       "      <th>Topic 8</th>\n",
       "      <td>council</td>\n",
       "      <td>rights</td>\n",
       "      <td>conflict</td>\n",
       "      <td>war</td>\n",
       "      <td>keeping</td>\n",
       "      <td>member</td>\n",
       "      <td>year</td>\n",
       "      <td>members</td>\n",
       "      <td>need</td>\n",
       "      <td>process</td>\n",
       "    </tr>\n",
       "    <tr>\n",
       "      <th>Topic 9</th>\n",
       "      <td>nuclear</td>\n",
       "      <td>soviet</td>\n",
       "      <td>europe</td>\n",
       "      <td>union</td>\n",
       "      <td>weapons</td>\n",
       "      <td>military</td>\n",
       "      <td>arms</td>\n",
       "      <td>war</td>\n",
       "      <td>relations</td>\n",
       "      <td>policy</td>\n",
       "    </tr>\n",
       "    <tr>\n",
       "      <th>Topic 10</th>\n",
       "      <td>republic</td>\n",
       "      <td>south</td>\n",
       "      <td>independence</td>\n",
       "      <td>national</td>\n",
       "      <td>kampuchea</td>\n",
       "      <td>democratic</td>\n",
       "      <td>asia</td>\n",
       "      <td>region</td>\n",
       "      <td>korea</td>\n",
       "      <td>forces</td>\n",
       "    </tr>\n",
       "  </tbody>\n",
       "</table>\n",
       "</div>"
      ],
      "text/plain": [
       "                    1        2             3            4            5  \\\n",
       "Topic 1          arab   israel       council         iraq  palestinian   \n",
       "Topic 2   cooperation  process        social     republic       region   \n",
       "Topic 3        africa  african         south    situation   delegation   \n",
       "Topic 4       peoples   rights       america        today      central   \n",
       "Topic 5       nuclear  weapons        treaty  disarmament          non   \n",
       "Topic 6     operation    south      problems   developing    situation   \n",
       "Topic 7    developing   global         small        trade    resources   \n",
       "Topic 8       council   rights      conflict          war      keeping   \n",
       "Topic 9       nuclear   soviet        europe        union      weapons   \n",
       "Topic 10     republic    south  independence     national    kampuchea   \n",
       "\n",
       "                   6            7             8              9         10  \n",
       "Topic 1       region  resolutions    aggression        lebanon        war  \n",
       "Topic 2       rights     regional         order      important  relations  \n",
       "Topic 3      peoples     republic       namibia          unity     angola  \n",
       "Topic 4     american      freedom         order        respect      state  \n",
       "Topic 5      council       rights          year  proliferation     global  \n",
       "Topic 6   conference     solution  negotiations        problem     africa  \n",
       "Topic 7        south  environment          debt      developed     growth  \n",
       "Topic 8       member         year       members           need    process  \n",
       "Topic 9     military         arms           war      relations     policy  \n",
       "Topic 10  democratic         asia        region          korea     forces  "
      ]
     },
     "execution_count": 15,
     "metadata": {},
     "output_type": "execute_result"
    }
   ],
   "source": [
    "from pdtext.tm import topic_words\n",
    "\n",
    "topic_words(lda_model, vectorizer).head(10)\n"
   ]
  },
  {
   "cell_type": "markdown",
   "metadata": {
    "slideshow": {
     "slide_type": "slide"
    }
   },
   "source": [
    "Also from `pdtext`, `topic_pred` will let us see which documents are associated with which topics."
   ]
  },
  {
   "cell_type": "code",
   "execution_count": 16,
   "metadata": {
    "slideshow": {
     "slide_type": "slide"
    }
   },
   "outputs": [],
   "source": [
    "from pdtext.tm import topic_pred"
   ]
  },
  {
   "cell_type": "code",
   "execution_count": 17,
   "metadata": {
    "slideshow": {
     "slide_type": "slide"
    }
   },
   "outputs": [],
   "source": [
    "un_topics = topic_pred(lda_model, un_word_counts, vectorizer)"
   ]
  },
  {
   "cell_type": "code",
   "execution_count": 18,
   "metadata": {
    "scrolled": true,
    "slideshow": {
     "slide_type": "fragment"
    }
   },
   "outputs": [
    {
     "data": {
      "text/html": [
       "<div>\n",
       "<style scoped>\n",
       "    .dataframe tbody tr th:only-of-type {\n",
       "        vertical-align: middle;\n",
       "    }\n",
       "\n",
       "    .dataframe tbody tr th {\n",
       "        vertical-align: top;\n",
       "    }\n",
       "\n",
       "    .dataframe thead th {\n",
       "        text-align: right;\n",
       "    }\n",
       "</style>\n",
       "<table border=\"1\" class=\"dataframe\">\n",
       "  <thead>\n",
       "    <tr style=\"text-align: right;\">\n",
       "      <th></th>\n",
       "      <th>arab_israel_council</th>\n",
       "      <th>cooperation_process_social</th>\n",
       "      <th>africa_african_south</th>\n",
       "      <th>peoples_rights_america</th>\n",
       "      <th>nuclear_weapons_treaty</th>\n",
       "      <th>operation_south_problems</th>\n",
       "      <th>developing_global_small</th>\n",
       "      <th>council_rights_conflict</th>\n",
       "      <th>nuclear_soviet_europe</th>\n",
       "      <th>republic_south_independence</th>\n",
       "    </tr>\n",
       "  </thead>\n",
       "  <tbody>\n",
       "    <tr>\n",
       "      <th>0</th>\n",
       "      <td>0.098997</td>\n",
       "      <td>0.059116</td>\n",
       "      <td>0.070022</td>\n",
       "      <td>0.000127</td>\n",
       "      <td>0.091401</td>\n",
       "      <td>0.451918</td>\n",
       "      <td>0.228039</td>\n",
       "      <td>0.000127</td>\n",
       "      <td>0.000127</td>\n",
       "      <td>0.000127</td>\n",
       "    </tr>\n",
       "    <tr>\n",
       "      <th>1</th>\n",
       "      <td>0.000135</td>\n",
       "      <td>0.128485</td>\n",
       "      <td>0.000135</td>\n",
       "      <td>0.000135</td>\n",
       "      <td>0.085147</td>\n",
       "      <td>0.322740</td>\n",
       "      <td>0.173677</td>\n",
       "      <td>0.265483</td>\n",
       "      <td>0.023930</td>\n",
       "      <td>0.000135</td>\n",
       "    </tr>\n",
       "    <tr>\n",
       "      <th>2</th>\n",
       "      <td>0.043744</td>\n",
       "      <td>0.153191</td>\n",
       "      <td>0.389507</td>\n",
       "      <td>0.114109</td>\n",
       "      <td>0.025540</td>\n",
       "      <td>0.190522</td>\n",
       "      <td>0.035219</td>\n",
       "      <td>0.000077</td>\n",
       "      <td>0.045517</td>\n",
       "      <td>0.002573</td>\n",
       "    </tr>\n",
       "    <tr>\n",
       "      <th>3</th>\n",
       "      <td>0.019855</td>\n",
       "      <td>0.196087</td>\n",
       "      <td>0.000147</td>\n",
       "      <td>0.412172</td>\n",
       "      <td>0.000147</td>\n",
       "      <td>0.211575</td>\n",
       "      <td>0.159578</td>\n",
       "      <td>0.000147</td>\n",
       "      <td>0.000147</td>\n",
       "      <td>0.000147</td>\n",
       "    </tr>\n",
       "    <tr>\n",
       "      <th>4</th>\n",
       "      <td>0.000089</td>\n",
       "      <td>0.000089</td>\n",
       "      <td>0.351063</td>\n",
       "      <td>0.060128</td>\n",
       "      <td>0.025106</td>\n",
       "      <td>0.314027</td>\n",
       "      <td>0.140074</td>\n",
       "      <td>0.075188</td>\n",
       "      <td>0.034147</td>\n",
       "      <td>0.000089</td>\n",
       "    </tr>\n",
       "    <tr>\n",
       "      <th>...</th>\n",
       "      <td>...</td>\n",
       "      <td>...</td>\n",
       "      <td>...</td>\n",
       "      <td>...</td>\n",
       "      <td>...</td>\n",
       "      <td>...</td>\n",
       "      <td>...</td>\n",
       "      <td>...</td>\n",
       "      <td>...</td>\n",
       "      <td>...</td>\n",
       "    </tr>\n",
       "    <tr>\n",
       "      <th>3209</th>\n",
       "      <td>0.000270</td>\n",
       "      <td>0.218501</td>\n",
       "      <td>0.000270</td>\n",
       "      <td>0.149425</td>\n",
       "      <td>0.097431</td>\n",
       "      <td>0.080663</td>\n",
       "      <td>0.000270</td>\n",
       "      <td>0.432282</td>\n",
       "      <td>0.020620</td>\n",
       "      <td>0.000270</td>\n",
       "    </tr>\n",
       "    <tr>\n",
       "      <th>3210</th>\n",
       "      <td>0.516275</td>\n",
       "      <td>0.216525</td>\n",
       "      <td>0.000097</td>\n",
       "      <td>0.000097</td>\n",
       "      <td>0.000097</td>\n",
       "      <td>0.085901</td>\n",
       "      <td>0.000097</td>\n",
       "      <td>0.180713</td>\n",
       "      <td>0.000097</td>\n",
       "      <td>0.000097</td>\n",
       "    </tr>\n",
       "    <tr>\n",
       "      <th>3211</th>\n",
       "      <td>0.000204</td>\n",
       "      <td>0.437315</td>\n",
       "      <td>0.261714</td>\n",
       "      <td>0.000204</td>\n",
       "      <td>0.000204</td>\n",
       "      <td>0.000204</td>\n",
       "      <td>0.033492</td>\n",
       "      <td>0.187718</td>\n",
       "      <td>0.000204</td>\n",
       "      <td>0.078740</td>\n",
       "    </tr>\n",
       "    <tr>\n",
       "      <th>3212</th>\n",
       "      <td>0.000121</td>\n",
       "      <td>0.268204</td>\n",
       "      <td>0.000121</td>\n",
       "      <td>0.393142</td>\n",
       "      <td>0.078871</td>\n",
       "      <td>0.000121</td>\n",
       "      <td>0.259057</td>\n",
       "      <td>0.000121</td>\n",
       "      <td>0.000121</td>\n",
       "      <td>0.000121</td>\n",
       "    </tr>\n",
       "    <tr>\n",
       "      <th>3213</th>\n",
       "      <td>0.000243</td>\n",
       "      <td>0.118575</td>\n",
       "      <td>0.000243</td>\n",
       "      <td>0.454088</td>\n",
       "      <td>0.000243</td>\n",
       "      <td>0.000243</td>\n",
       "      <td>0.207803</td>\n",
       "      <td>0.218073</td>\n",
       "      <td>0.000243</td>\n",
       "      <td>0.000243</td>\n",
       "    </tr>\n",
       "  </tbody>\n",
       "</table>\n",
       "<p>3214 rows × 10 columns</p>\n",
       "</div>"
      ],
      "text/plain": [
       "      arab_israel_council  cooperation_process_social  africa_african_south  \\\n",
       "0                0.098997                    0.059116              0.070022   \n",
       "1                0.000135                    0.128485              0.000135   \n",
       "2                0.043744                    0.153191              0.389507   \n",
       "3                0.019855                    0.196087              0.000147   \n",
       "4                0.000089                    0.000089              0.351063   \n",
       "...                   ...                         ...                   ...   \n",
       "3209             0.000270                    0.218501              0.000270   \n",
       "3210             0.516275                    0.216525              0.000097   \n",
       "3211             0.000204                    0.437315              0.261714   \n",
       "3212             0.000121                    0.268204              0.000121   \n",
       "3213             0.000243                    0.118575              0.000243   \n",
       "\n",
       "      peoples_rights_america  nuclear_weapons_treaty  \\\n",
       "0                   0.000127                0.091401   \n",
       "1                   0.000135                0.085147   \n",
       "2                   0.114109                0.025540   \n",
       "3                   0.412172                0.000147   \n",
       "4                   0.060128                0.025106   \n",
       "...                      ...                     ...   \n",
       "3209                0.149425                0.097431   \n",
       "3210                0.000097                0.000097   \n",
       "3211                0.000204                0.000204   \n",
       "3212                0.393142                0.078871   \n",
       "3213                0.454088                0.000243   \n",
       "\n",
       "      operation_south_problems  developing_global_small  \\\n",
       "0                     0.451918                 0.228039   \n",
       "1                     0.322740                 0.173677   \n",
       "2                     0.190522                 0.035219   \n",
       "3                     0.211575                 0.159578   \n",
       "4                     0.314027                 0.140074   \n",
       "...                        ...                      ...   \n",
       "3209                  0.080663                 0.000270   \n",
       "3210                  0.085901                 0.000097   \n",
       "3211                  0.000204                 0.033492   \n",
       "3212                  0.000121                 0.259057   \n",
       "3213                  0.000243                 0.207803   \n",
       "\n",
       "      council_rights_conflict  nuclear_soviet_europe  \\\n",
       "0                    0.000127               0.000127   \n",
       "1                    0.265483               0.023930   \n",
       "2                    0.000077               0.045517   \n",
       "3                    0.000147               0.000147   \n",
       "4                    0.075188               0.034147   \n",
       "...                       ...                    ...   \n",
       "3209                 0.432282               0.020620   \n",
       "3210                 0.180713               0.000097   \n",
       "3211                 0.187718               0.000204   \n",
       "3212                 0.000121               0.000121   \n",
       "3213                 0.218073               0.000243   \n",
       "\n",
       "      republic_south_independence  \n",
       "0                        0.000127  \n",
       "1                        0.000135  \n",
       "2                        0.002573  \n",
       "3                        0.000147  \n",
       "4                        0.000089  \n",
       "...                           ...  \n",
       "3209                     0.000270  \n",
       "3210                     0.000097  \n",
       "3211                     0.078740  \n",
       "3212                     0.000121  \n",
       "3213                     0.000243  \n",
       "\n",
       "[3214 rows x 10 columns]"
      ]
     },
     "execution_count": 18,
     "metadata": {},
     "output_type": "execute_result"
    }
   ],
   "source": [
    "un_topics"
   ]
  },
  {
   "cell_type": "markdown",
   "metadata": {
    "slideshow": {
     "slide_type": "slide"
    }
   },
   "source": [
    "We can now use our topics as features in order to get a better handle on topic patterns across texts."
   ]
  },
  {
   "cell_type": "markdown",
   "metadata": {
    "slideshow": {
     "slide_type": "slide"
    }
   },
   "source": [
    "One way to do this is to generate a new key in our United Nations dataframe. For exmaple, we can create a `post_soviet` key to divide our general debate speeches between those that occured prior to the fall of the Soviet Union (where `post_soviet` = False), and those that occured after the fall of the Soviet Union (where `post_soviet` = True)."
   ]
  },
  {
   "cell_type": "code",
   "execution_count": 19,
   "metadata": {
    "slideshow": {
     "slide_type": "slide"
    }
   },
   "outputs": [],
   "source": [
    "un_df['post_soviet'] = un_df['speech_year'] > 1991"
   ]
  },
  {
   "cell_type": "code",
   "execution_count": 20,
   "metadata": {
    "scrolled": true,
    "slideshow": {
     "slide_type": "slide"
    }
   },
   "outputs": [
    {
     "data": {
      "text/html": [
       "<div>\n",
       "<style scoped>\n",
       "    .dataframe tbody tr th:only-of-type {\n",
       "        vertical-align: middle;\n",
       "    }\n",
       "\n",
       "    .dataframe tbody tr th {\n",
       "        vertical-align: top;\n",
       "    }\n",
       "\n",
       "    .dataframe thead th {\n",
       "        text-align: right;\n",
       "    }\n",
       "</style>\n",
       "<table border=\"1\" class=\"dataframe\">\n",
       "  <thead>\n",
       "    <tr style=\"text-align: right;\">\n",
       "      <th></th>\n",
       "      <th>arab_israel_council</th>\n",
       "      <th>cooperation_process_social</th>\n",
       "      <th>africa_african_south</th>\n",
       "      <th>peoples_rights_america</th>\n",
       "      <th>nuclear_weapons_treaty</th>\n",
       "      <th>operation_south_problems</th>\n",
       "      <th>developing_global_small</th>\n",
       "      <th>council_rights_conflict</th>\n",
       "      <th>nuclear_soviet_europe</th>\n",
       "      <th>republic_south_independence</th>\n",
       "    </tr>\n",
       "    <tr>\n",
       "      <th>post_soviet</th>\n",
       "      <th></th>\n",
       "      <th></th>\n",
       "      <th></th>\n",
       "      <th></th>\n",
       "      <th></th>\n",
       "      <th></th>\n",
       "      <th></th>\n",
       "      <th></th>\n",
       "      <th></th>\n",
       "      <th></th>\n",
       "    </tr>\n",
       "  </thead>\n",
       "  <tbody>\n",
       "    <tr>\n",
       "      <th>False</th>\n",
       "      <td>0.093063</td>\n",
       "      <td>0.078689</td>\n",
       "      <td>0.118317</td>\n",
       "      <td>0.152372</td>\n",
       "      <td>0.035757</td>\n",
       "      <td>0.269663</td>\n",
       "      <td>0.086197</td>\n",
       "      <td>0.039165</td>\n",
       "      <td>0.079520</td>\n",
       "      <td>0.047258</td>\n",
       "    </tr>\n",
       "    <tr>\n",
       "      <th>True</th>\n",
       "      <td>0.054682</td>\n",
       "      <td>0.252532</td>\n",
       "      <td>0.067273</td>\n",
       "      <td>0.102223</td>\n",
       "      <td>0.111426</td>\n",
       "      <td>0.017594</td>\n",
       "      <td>0.126371</td>\n",
       "      <td>0.223457</td>\n",
       "      <td>0.019293</td>\n",
       "      <td>0.025149</td>\n",
       "    </tr>\n",
       "  </tbody>\n",
       "</table>\n",
       "</div>"
      ],
      "text/plain": [
       "             arab_israel_council  cooperation_process_social  \\\n",
       "post_soviet                                                    \n",
       "False                   0.093063                    0.078689   \n",
       "True                    0.054682                    0.252532   \n",
       "\n",
       "             africa_african_south  peoples_rights_america  \\\n",
       "post_soviet                                                 \n",
       "False                    0.118317                0.152372   \n",
       "True                     0.067273                0.102223   \n",
       "\n",
       "             nuclear_weapons_treaty  operation_south_problems  \\\n",
       "post_soviet                                                     \n",
       "False                      0.035757                  0.269663   \n",
       "True                       0.111426                  0.017594   \n",
       "\n",
       "             developing_global_small  council_rights_conflict  \\\n",
       "post_soviet                                                     \n",
       "False                       0.086197                 0.039165   \n",
       "True                        0.126371                 0.223457   \n",
       "\n",
       "             nuclear_soviet_europe  republic_south_independence  \n",
       "post_soviet                                                      \n",
       "False                     0.079520                     0.047258  \n",
       "True                      0.019293                     0.025149  "
      ]
     },
     "execution_count": 20,
     "metadata": {},
     "output_type": "execute_result"
    }
   ],
   "source": [
    "un_topics.groupby(un_df['post_soviet']).mean()"
   ]
  },
  {
   "cell_type": "code",
   "execution_count": 21,
   "metadata": {},
   "outputs": [
    {
     "data": {
      "text/html": [
       "<div>\n",
       "<style scoped>\n",
       "    .dataframe tbody tr th:only-of-type {\n",
       "        vertical-align: middle;\n",
       "    }\n",
       "\n",
       "    .dataframe tbody tr th {\n",
       "        vertical-align: top;\n",
       "    }\n",
       "\n",
       "    .dataframe thead th {\n",
       "        text-align: right;\n",
       "    }\n",
       "</style>\n",
       "<table border=\"1\" class=\"dataframe\">\n",
       "  <thead>\n",
       "    <tr style=\"text-align: right;\">\n",
       "      <th>post_soviet</th>\n",
       "      <th>False</th>\n",
       "      <th>True</th>\n",
       "    </tr>\n",
       "  </thead>\n",
       "  <tbody>\n",
       "    <tr>\n",
       "      <th>arab_israel_council</th>\n",
       "      <td>0.093063</td>\n",
       "      <td>0.054682</td>\n",
       "    </tr>\n",
       "    <tr>\n",
       "      <th>cooperation_process_social</th>\n",
       "      <td>0.078689</td>\n",
       "      <td>0.252532</td>\n",
       "    </tr>\n",
       "    <tr>\n",
       "      <th>africa_african_south</th>\n",
       "      <td>0.118317</td>\n",
       "      <td>0.067273</td>\n",
       "    </tr>\n",
       "    <tr>\n",
       "      <th>peoples_rights_america</th>\n",
       "      <td>0.152372</td>\n",
       "      <td>0.102223</td>\n",
       "    </tr>\n",
       "    <tr>\n",
       "      <th>nuclear_weapons_treaty</th>\n",
       "      <td>0.035757</td>\n",
       "      <td>0.111426</td>\n",
       "    </tr>\n",
       "    <tr>\n",
       "      <th>operation_south_problems</th>\n",
       "      <td>0.269663</td>\n",
       "      <td>0.017594</td>\n",
       "    </tr>\n",
       "    <tr>\n",
       "      <th>developing_global_small</th>\n",
       "      <td>0.086197</td>\n",
       "      <td>0.126371</td>\n",
       "    </tr>\n",
       "    <tr>\n",
       "      <th>council_rights_conflict</th>\n",
       "      <td>0.039165</td>\n",
       "      <td>0.223457</td>\n",
       "    </tr>\n",
       "    <tr>\n",
       "      <th>nuclear_soviet_europe</th>\n",
       "      <td>0.079520</td>\n",
       "      <td>0.019293</td>\n",
       "    </tr>\n",
       "    <tr>\n",
       "      <th>republic_south_independence</th>\n",
       "      <td>0.047258</td>\n",
       "      <td>0.025149</td>\n",
       "    </tr>\n",
       "  </tbody>\n",
       "</table>\n",
       "</div>"
      ],
      "text/plain": [
       "post_soviet                     False     True \n",
       "arab_israel_council          0.093063  0.054682\n",
       "cooperation_process_social   0.078689  0.252532\n",
       "africa_african_south         0.118317  0.067273\n",
       "peoples_rights_america       0.152372  0.102223\n",
       "nuclear_weapons_treaty       0.035757  0.111426\n",
       "operation_south_problems     0.269663  0.017594\n",
       "developing_global_small      0.086197  0.126371\n",
       "council_rights_conflict      0.039165  0.223457\n",
       "nuclear_soviet_europe        0.079520  0.019293\n",
       "republic_south_independence  0.047258  0.025149"
      ]
     },
     "execution_count": 21,
     "metadata": {},
     "output_type": "execute_result"
    }
   ],
   "source": [
    "un_topics.groupby(un_df['post_soviet']).mean().T"
   ]
  },
  {
   "cell_type": "markdown",
   "metadata": {
    "slideshow": {
     "slide_type": "slide"
    }
   },
   "source": [
    "### pyLDAvis"
   ]
  },
  {
   "cell_type": "markdown",
   "metadata": {},
   "source": [
    "The [pyLDAvis](https://pyldavis.readthedocs.io/en/latest/readme.html) library, a port of the [LDAvis](https://github.com/cpsievert/LDAvis) package for R, provides a variety of tools for interactive topic model visualization. "
   ]
  },
  {
   "cell_type": "code",
   "execution_count": null,
   "metadata": {},
   "outputs": [],
   "source": [
    "pip install pyldavis"
   ]
  },
  {
   "cell_type": "markdown",
   "metadata": {
    "slideshow": {
     "slide_type": "slide"
    }
   },
   "source": [
    "`pyLDAvis` is conveniently compatible with `LatentDirichletAllocation` from scikit-learn."
   ]
  },
  {
   "cell_type": "code",
   "execution_count": 23,
   "metadata": {
    "slideshow": {
     "slide_type": "slide"
    }
   },
   "outputs": [],
   "source": [
    "import pyLDAvis\n",
    "import pyLDAvis.sklearn"
   ]
  },
  {
   "cell_type": "markdown",
   "metadata": {
    "slideshow": {
     "slide_type": "slide"
    }
   },
   "source": [
    "We'll also import `pyplot` from matplotlib to allow for the generation of interactive plots in Python. "
   ]
  },
  {
   "cell_type": "code",
   "execution_count": 24,
   "metadata": {
    "slideshow": {
     "slide_type": "slide"
    }
   },
   "outputs": [],
   "source": [
    "import matplotlib.pyplot as plt"
   ]
  },
  {
   "cell_type": "markdown",
   "metadata": {
    "slideshow": {
     "slide_type": "slide"
    }
   },
   "source": [
    "Now we'll want to use the `enable_notebook()` function to allow us to display visualizations in our notebook."
   ]
  },
  {
   "cell_type": "code",
   "execution_count": 25,
   "metadata": {
    "slideshow": {
     "slide_type": "slide"
    }
   },
   "outputs": [],
   "source": [
    "pyLDAvis.enable_notebook()"
   ]
  },
  {
   "cell_type": "markdown",
   "metadata": {
    "slideshow": {
     "slide_type": "slide"
    }
   },
   "source": [
    "Finally, we can use the `prepare()` function to transform the data from our LDA model into interactive visualizations!"
   ]
  },
  {
   "cell_type": "code",
   "execution_count": 26,
   "metadata": {
    "slideshow": {
     "slide_type": "slide"
    }
   },
   "outputs": [
    {
     "data": {
      "text/html": [
       "\n",
       "<link rel=\"stylesheet\" type=\"text/css\" href=\"https://cdn.rawgit.com/bmabey/pyLDAvis/files/ldavis.v1.0.0.css\">\n",
       "\n",
       "\n",
       "<div id=\"ldavis_el104511121442112804845243473\"></div>\n",
       "<script type=\"text/javascript\">\n",
       "\n",
       "var ldavis_el104511121442112804845243473_data = {\"mdsDat\": {\"x\": [32.42095184326172, 0.648955225944519, 71.01968383789062, 3.7859814167022705, -42.666500091552734, -3.6216893196105957, -3.632401704788208, -36.58440017700195, 44.391380310058594, 40.235809326171875], \"y\": [8.115229606628418, 71.70709991455078, 9.971006393432617, 33.18513488769531, -9.22206974029541, -43.52651596069336, -4.171707630157471, 35.804412841796875, 50.61538314819336, -31.591665267944336], \"topics\": [1, 2, 3, 4, 5, 6, 7, 8, 9, 10], \"cluster\": [1, 1, 1, 1, 1, 1, 1, 1, 1, 1], \"Freq\": [17.775670661311267, 14.19610245932071, 12.973031132855775, 10.684720809067622, 10.01893244952833, 9.337698723700809, 8.217978677587368, 6.622507515744304, 6.294672618259033, 3.878684952624785]}, \"tinfo\": {\"Term\": [\"nuclear\", \"africa\", \"republic\", \"south\", \"african\", \"weapons\", \"arab\", \"soviet\", \"europe\", \"independence\", \"disarmament\", \"council\", \"israel\", \"peoples\", \"treaty\", \"cooperation\", \"operation\", \"union\", \"developing\", \"democratic\", \"military\", \"kampuchea\", \"region\", \"war\", \"national\", \"arms\", \"rights\", \"iraq\", \"palestinian\", \"lebanon\", \"cyprus\", \"dialog\", \"operation\", \"435\", \"rates\", \"namibia\", \"thirty\", \"super\", \"interdependence\", \"1978\", \"negotiations\", \"namibian\", \"solution\", \"problem\", \"negotiated\", \"aligned\", \"apartheid\", \"settlement\", \"substantial\", \"withdrawal\", \"kampuchea\", \"geneva\", \"detente\", \"race\", \"concerned\", \"disarmament\", \"concern\", \"prospects\", \"industrialized\", \"constitutes\", \"problems\", \"solutions\", \"south\", \"developing\", \"conference\", \"powers\", \"peaceful\", \"situation\", \"parties\", \"independence\", \"progress\", \"question\", \"hope\", \"special\", \"year\", \"arms\", \"resolution\", \"relations\", \"developed\", \"africa\", \"east\", \"principles\", \"continue\", \"charter\", \"region\", \"conflict\", \"cooperation\", \"integration\", \"changes\", \"mechanisms\", \"context\", \"strengthening\", \"restructuring\", \"transition\", \"millennium\", \"globalization\", \"signing\", \"promotion\", \"reforms\", \"boutros\", \"participation\", \"regional\", \"market\", \"satisfaction\", \"process\", \"framework\", \"stability\", \"freedoms\", \"challenges\", \"actively\", \"eastern\", \"positive\", \"ensuring\", \"aspects\", \"importance\", \"social\", \"aimed\", \"dialogue\", \"contribute\", \"express\", \"view\", \"environment\", \"role\", \"republic\", \"regard\", \"respect\", \"order\", \"various\", \"important\", \"region\", \"economy\", \"relations\", \"rights\", \"national\", \"like\", \"problems\", \"conflicts\", \"principles\", \"council\", \"conference\", \"situation\", \"state\", \"progress\", \"hope\", \"latin\", \"american\", \"el\", \"nicaragua\", \"america\", \"men\", \"man\", \"central\", \"freedom\", \"know\", \"values\", \"said\", \"words\", \"shall\", \"dignity\", \"true\", \"solidarity\", \"history\", \"kind\", \"death\", \"coexistence\", \"expression\", \"moral\", \"faith\", \"greatest\", \"powerful\", \"think\", \"say\", \"destiny\", \"want\", \"democracy\", \"power\", \"peoples\", \"reason\", \"today\", \"does\", \"justice\", \"society\", \"life\", \"mankind\", \"law\", \"rights\", \"respect\", \"right\", \"make\", \"great\", \"order\", \"president\", \"state\", \"way\", \"social\", \"future\", \"possible\", \"means\", \"war\", \"problems\", \"principles\", \"liberia\", \"somalia\", \"bosnia\", \"herzegovina\", \"yugoslavia\", \"operations\", \"humanitarian\", \"ethnic\", \"rwanda\", \"keeping\", \"boutros\", \"diplomacy\", \"personnel\", \"refugees\", \"eighth\", \"persons\", \"civil\", \"violations\", \"mandate\", \"fiftieth\", \"european\", \"elections\", \"post\", \"prevention\", \"cold\", \"agenda\", \"mission\", \"tasks\", \"management\", \"contributions\", \"authority\", \"council\", \"conflict\", \"organizations\", \"rights\", \"member\", \"members\", \"conflicts\", \"agreement\", \"war\", \"need\", \"assistance\", \"work\", \"role\", \"year\", \"process\", \"important\", \"reform\", \"like\", \"hope\", \"charter\", \"conference\", \"end\", \"cooperation\", \"president\", \"continue\", \"chad\", \"oau\", \"african\", \"angola\", \"sahara\", \"africa\", \"pretoria\", \"continent\", \"unity\", \"namibian\", \"racist\", \"southern\", \"heads\", \"western\", \"liberation\", \"apartheid\", \"recovery\", \"rwanda\", \"appeal\", \"namibia\", \"435\", \"tribute\", \"delegation\", \"deterioration\", \"solidarity\", \"regime\", \"food\", \"reaffirm\", \"constant\", \"spite\", \"committee\", \"south\", \"struggle\", \"debt\", \"situation\", \"peoples\", \"republic\", \"state\", \"national\", \"independence\", \"resolution\", \"order\", \"end\", \"like\", \"mr\", \"conference\", \"continue\", \"haiti\", \"caribbean\", \"island\", \"drug\", \"small\", \"markets\", \"drugs\", \"trafficking\", \"investment\", \"poor\", \"cent\", \"billion\", \"growth\", \"education\", \"environmental\", \"economies\", \"access\", \"poverty\", \"debt\", \"bank\", \"health\", \"environment\", \"trade\", \"opportunities\", \"technology\", \"globalization\", \"market\", \"body\", \"rich\", \"industrial\", \"developing\", \"resources\", \"global\", \"developed\", \"change\", \"children\", \"economy\", \"sustainable\", \"need\", \"year\", \"needs\", \"south\", \"continue\", \"long\", \"financial\", \"social\", \"war\", \"delegation\", \"assistance\", \"national\", \"action\", \"africa\", \"iraqi\", \"islamic\", \"arab\", \"lebanese\", \"israeli\", \"iraq\", \"kuwait\", \"israel\", \"lebanon\", \"iran\", \"gulf\", \"occupied\", \"palestinian\", \"aggression\", \"palestine\", \"resolutions\", \"pakistan\", \"territories\", \"afghan\", \"occupation\", \"land\", \"practices\", \"afghanistan\", \"imposed\", \"dispute\", \"kingdom\", \"violation\", \"acts\", \"middle\", \"regime\", \"legitimate\", \"region\", \"council\", \"resolution\", \"war\", \"state\", \"east\", \"peoples\", \"principles\", \"charter\", \"right\", \"order\", \"just\", \"stability\", \"end\", \"ban\", \"japan\", \"india\", \"proliferation\", \"test\", \"weapon\", \"treaty\", \"nuclear\", \"pakistan\", \"weapons\", \"france\", \"chemical\", \"personnel\", \"conventional\", \"pacific\", \"convention\", \"court\", \"reform\", \"anti\", \"mass\", \"fiftieth\", \"review\", \"terrorism\", \"comprehensive\", \"disarmament\", \"early\", \"asian\", \"forum\", \"crime\", \"arrangements\", \"non\", \"working\", \"issues\", \"issue\", \"global\", \"council\", \"year\", \"arms\", \"member\", \"rights\", \"important\", \"work\", \"need\", \"including\", \"conference\", \"use\", \"south\", \"regional\", \"soviet\", \"socialist\", \"europe\", \"union\", \"space\", \"armaments\", \"strategic\", \"detente\", \"range\", \"chemical\", \"european\", \"conventional\", \"military\", \"proposals\", \"talks\", \"systems\", \"reduction\", \"arms\", \"weapons\", \"proposal\", \"nuclear\", \"race\", \"danger\", \"anti\", \"weapon\", \"favour\", \"policy\", \"elimination\", \"idea\", \"constructive\", \"disarmament\", \"treaty\", \"mutual\", \"relations\", \"war\", \"forces\", \"republic\", \"operation\", \"use\", \"peoples\", \"peaceful\", \"afghanistan\", \"democratic\", \"situation\", \"basis\", \"measures\", \"conference\", \"east\", \"negotiations\", \"important\", \"state\", \"viet\", \"nam\", \"guinea\", \"china\", \"kampuchea\", \"korea\", \"islands\", \"reunification\", \"pacific\", \"korean\", \"asia\", \"cambodia\", \"asian\", \"ocean\", \"republic\", \"colonial\", \"friendship\", \"troops\", \"independence\", \"struggle\", \"independent\", \"party\", \"zone\", \"colonialism\", \"authorities\", \"democratic\", \"domination\", \"socialist\", \"forces\", \"000\", \"sovereignty\", \"aggression\", \"sovereign\", \"south\", \"national\", \"foreign\", \"region\", \"delegation\", \"military\", \"peoples\", \"east\", \"peaceful\", \"war\", \"non\"], \"Freq\": [13473.0, 16909.0, 10943.0, 16833.0, 8868.0, 9143.0, 5217.0, 4528.0, 4965.0, 7383.0, 7356.0, 14275.0, 5540.0, 11786.0, 4921.0, 8977.0, 8465.0, 4533.0, 12569.0, 7165.0, 7265.0, 2712.0, 12380.0, 12298.0, 11174.0, 6286.0, 16399.0, 3903.0, 4951.0, 3517.0, 1568.3015209148475, 788.8031495309403, 5861.437420601609, 598.8262755753781, 583.0459886839551, 2743.033908104889, 909.0528805723648, 855.6850316369399, 667.8727475008044, 687.0168048035578, 3433.3154426737447, 533.8257427192407, 3635.7603007650982, 3415.4837653504233, 496.6798331764763, 1220.5076439582156, 1809.6094283308114, 2527.2525765129303, 494.683653513731, 1124.7613305668453, 1142.8695618367283, 623.5442761472161, 485.76842019187364, 1386.7331641163128, 1826.4503230162154, 2904.0956892085865, 2182.588471522104, 529.486155850474, 746.8077730423175, 453.2176391686969, 4671.206505868043, 1367.3134230762244, 5796.05526752527, 4377.024293228858, 3637.0919692544544, 1691.4014540838302, 2633.9681178770406, 3853.588647147673, 2103.1277704797253, 2288.7892876979517, 2425.269127290629, 1999.6470285585551, 2805.1904109711713, 2024.557843522704, 2944.5483836151243, 1981.6055630299572, 2061.9953757200706, 2620.083982698888, 1857.8557292856651, 3362.626355132105, 2467.9468847463036, 2233.594505117238, 2280.8717799044316, 2197.439400295311, 2477.5620526249127, 2108.802732335795, 6523.5493937046995, 1212.7708507420414, 1494.1525198783654, 647.382556387332, 1949.6182628037616, 1559.5018685674877, 492.6311259366572, 556.8980109255954, 498.7702748241826, 561.6125425921633, 459.00431235420166, 770.7881834933482, 741.5669933927131, 527.4795216353917, 1171.5886854748335, 2981.9676536100505, 657.8720985589622, 623.8466462661021, 4336.2469081068575, 1605.1538660281503, 2373.856088614952, 443.5696424692959, 1269.390068147821, 547.4767474264396, 464.7123453334043, 1664.1808313421568, 524.3044381595021, 532.3074635278683, 1669.5294873707483, 4333.968125530785, 1097.4500624551245, 1820.2912582182712, 1106.9284604742975, 1455.1345703249985, 2031.27333856532, 1671.7196264519373, 2443.1311645382375, 3123.823663512336, 1713.5039063748757, 2462.0619834517815, 2955.6177972527134, 1366.7453876990787, 2477.8137678256658, 3014.1189912352984, 1460.2025640067545, 2476.602857250095, 3003.672336972404, 2379.9981397176653, 2101.733948688273, 2419.74415402106, 1709.1608896939726, 1849.5843021641856, 2150.170204448308, 1876.5330335859446, 1935.6458668851594, 1826.113926838083, 1708.7298459710628, 1680.4082462983426, 2294.982558000161, 2769.034865564728, 750.3619078976029, 717.5999105093762, 3261.7231217751973, 728.002736644477, 950.7994687568987, 2856.719031995747, 2543.747133442755, 930.8258112810018, 876.9668756813595, 930.8502135409215, 716.3563142539504, 1220.7973711708553, 906.4416568054725, 1179.661629344573, 1603.6003196116212, 1847.908711567597, 496.37511855560916, 429.8822756542419, 557.9108879974187, 445.4249441263009, 631.7251056865348, 694.2762237419181, 479.9286664211198, 484.32305830626933, 412.8438587542527, 955.0849743613178, 450.0711011136565, 733.8343886958473, 1988.5771797324771, 1664.502571827587, 4146.596052168421, 924.879344194587, 3020.3152719029845, 1148.6093543097477, 1699.6852573303984, 1112.266478574817, 1592.7589612884192, 1666.9936535954203, 1896.92219755134, 3860.647577707545, 2407.627644402084, 2290.5490016599783, 2137.487831196293, 2274.4222301877953, 2493.6999252186174, 1935.8950348340738, 2301.556270863606, 1776.5801276072687, 2149.4106889405098, 1710.1418146426913, 1553.124439170835, 1504.8202336195495, 1904.0994765194498, 1720.8047745709537, 1563.3051852615488, 973.2480438750164, 1249.6859960440502, 1352.7328227025291, 993.963572599994, 841.3923244968043, 1520.202961294477, 1564.890449211245, 944.7738179011607, 740.3184557359884, 2214.3190565198943, 691.513690966958, 576.4471914730373, 504.1349386359949, 1300.0906513956786, 682.6497230202875, 479.08731518284617, 772.5000094994786, 534.4133414434154, 476.2421087857375, 501.13180984169804, 1550.7187671463957, 763.539548639521, 512.9990928285945, 392.96151782300365, 868.8315593316065, 1287.2554080970444, 573.255800613634, 349.6871049061094, 447.74603468886454, 406.65593935845186, 549.4700073494182, 4464.232311573359, 2755.2272185227826, 950.2490682769823, 4416.9983042128315, 2025.3961742080082, 1713.8814263281795, 1623.9087750910467, 1513.6692926861288, 2222.6230155132826, 1691.190859985046, 1269.4297292225606, 1649.7638581635422, 1476.464233368746, 1714.6255286454202, 1667.48740217806, 1471.1868037533266, 1052.7143960471954, 1315.89436930703, 1317.6071320017063, 1218.1616722015913, 1277.8493921671125, 1189.8996736136733, 1167.00761195019, 1139.283890037165, 1141.1672812696506, 1307.605714371016, 1794.21886909127, 7546.331347775967, 1921.9710020235404, 972.8925763162599, 11017.112932687975, 884.420845808083, 1786.2249615934832, 1936.6802830170216, 626.2149422146096, 879.6356521599623, 1406.3233760614826, 738.2003715502746, 1207.7364493280759, 889.3103100008047, 1805.853423166062, 666.4487498079571, 541.9563624034471, 993.9547383768114, 1940.987985535343, 371.54928379575426, 804.6647488750367, 2303.227015144444, 398.1125690975211, 1228.0024437159166, 1590.7321642181942, 534.454893941743, 517.4322322041291, 411.6419663269202, 385.3498821044391, 779.3224134090688, 4731.423994114239, 1334.1606921081313, 1304.256019945813, 3090.345333332887, 2241.949281754057, 2065.4069940872337, 1882.8730905154705, 1815.447804194657, 1456.9800207920625, 1264.526549393166, 1529.1509707215237, 1249.9406954864048, 1264.0121782968029, 1159.8369007437561, 1190.6890658249688, 1155.8072238356317, 885.6416804867338, 1553.5872778541268, 1279.2669294207847, 1463.6234909166726, 2706.318838948622, 790.2445286544626, 724.2945564172531, 724.2903037678697, 662.1138811377039, 981.3502392450918, 1361.319073086959, 673.0012180023302, 1931.0772019334518, 492.9288060395771, 916.694507825423, 1179.99726208874, 517.7327001472958, 1688.4357713896977, 1983.7642681592022, 494.91293552275897, 538.4288205523605, 2103.871468353682, 2690.947509932614, 552.9836183217507, 641.2953130358442, 478.793640398661, 625.2824124955889, 689.351839395868, 554.2220791666284, 397.9743371023606, 4648.308068096703, 2604.805210804485, 2707.4517676330042, 1934.2463704516315, 1088.938514138696, 921.5972538843328, 1345.731263720374, 744.0391472997751, 1675.7966810094763, 1927.0917548443722, 967.5705819608804, 2166.6755255650537, 1445.4844326688703, 1274.991739642834, 1165.3178386752209, 1480.4216074655878, 1432.9097102469736, 1187.1800024185168, 1097.4459093304677, 1124.4713684626, 1066.3518092384052, 1102.1719001610122, 1068.856158847074, 1800.5980025060312, 4455.4843270131705, 930.8180128421096, 1971.622445571817, 2827.9560991251365, 994.6191277689406, 3848.218030317988, 2250.126637312415, 1655.2556255677403, 1124.5039364475274, 1158.0073645148107, 2722.871620913133, 2290.1282583957386, 1278.5145035158253, 2544.8854575665982, 482.1895666589464, 1110.5732215830994, 545.8764219265493, 1235.9719538505392, 742.2187952830003, 408.1489069546965, 1411.798008015739, 446.1106245637678, 385.9669875751821, 457.11849859019617, 399.04782327656125, 728.2634530276168, 1746.952805702943, 1332.1695010817696, 932.7412831153173, 2714.1589927645714, 2894.792303818478, 1461.6469454506364, 2136.589481042519, 1858.5753670319455, 1642.1083033942225, 1818.089141382336, 1427.5220622775212, 1413.0356740179427, 1396.1998811775486, 1372.0072192041846, 1218.9233020198972, 1131.1795736030463, 1128.129860062112, 1266.5797773868799, 1074.7768751975564, 844.1002466425836, 1688.1717023572062, 988.4340529163087, 1104.1931280103643, 2948.129042356499, 6985.868082525129, 511.08238663082943, 4328.598331646548, 529.0358711710533, 734.5254287186812, 421.99620857078963, 517.5283683667246, 693.1041358679888, 1265.812285194986, 421.00154096929055, 1424.5328967885512, 376.17924466309364, 566.3563818427866, 407.82384724244986, 474.73508071193936, 849.7433663060784, 1346.5564251711753, 2182.1662143122285, 565.922154212684, 310.15489224636383, 698.4992865689103, 283.9523584852748, 253.2331434785354, 2091.281169046958, 532.4895946192539, 1121.2009191604477, 735.6843238100308, 1502.8531776673663, 2014.3837296223378, 1717.9276412555748, 1155.8179830990925, 1166.4126275543574, 1781.1625174079857, 1134.5451677894646, 1089.800226983533, 1021.3220096713289, 845.4888422577023, 1037.7650892123972, 837.7845484580301, 1015.1066772247733, 855.8290763554586, 3664.8453630217227, 910.9467015718836, 3184.4983507978463, 2857.631444683345, 874.699629080649, 499.3115254669878, 736.949869784573, 534.2061118173705, 522.2569245232929, 629.6133626925904, 1411.138690857266, 503.2016599659943, 2540.0952240163815, 892.4760564594956, 655.914731402111, 465.3156499470045, 626.337358011772, 2088.354477343154, 2854.447112569373, 590.2437077262371, 4151.689411586152, 1047.0745263863398, 425.0331183702997, 295.1683542338621, 466.80636910270454, 266.85421481736927, 1789.5701374686323, 488.2337396155016, 296.8115532240415, 549.9603133570715, 1703.8531098331832, 1152.6068942144905, 639.9383417433019, 1918.2553527905036, 2023.7549123321203, 1169.4920533453242, 1769.7174884868587, 1399.3385824901854, 1012.4946477039441, 1323.7738583755172, 1034.7683419042564, 789.9430507080541, 965.5902874201762, 1153.9375353799635, 860.0876225868877, 909.5246187338815, 1040.7639789261332, 990.0032500269924, 902.8666186298872, 913.5578678947423, 923.6575318470522, 1148.8696700996722, 1131.7088011427036, 1132.6302055078513, 958.3291571697393, 1550.9517226078347, 1275.3595826659503, 721.130564599949, 503.6207648065004, 882.347323741686, 783.4217857139613, 1345.7610417618173, 634.0157272145763, 376.28659458993747, 435.9830810812584, 3123.128954264985, 343.8691916062812, 271.02410350732833, 608.8885175010541, 1840.6958082110018, 1049.837874785827, 650.045105287009, 323.7527059716785, 360.29300264592024, 246.76297288582512, 222.48337965418406, 1480.9470293279815, 197.2123963299878, 228.6257265646094, 1185.7130424821225, 215.58746100658234, 831.9193579361624, 749.7545821525447, 354.30857931613895, 2444.445671861982, 1627.0193014446672, 1095.0086732863433, 1304.0887123355906, 831.1636595031794, 856.5098148836832, 1079.5705696518799, 952.5735921380829, 817.972509766882, 885.4434653078641, 636.64683543029], \"Total\": [13473.0, 16909.0, 10943.0, 16833.0, 8868.0, 9143.0, 5217.0, 4528.0, 4965.0, 7383.0, 7356.0, 14275.0, 5540.0, 11786.0, 4921.0, 8977.0, 8465.0, 4533.0, 12569.0, 7165.0, 7265.0, 2712.0, 12380.0, 12298.0, 11174.0, 6286.0, 16399.0, 3903.0, 4951.0, 3517.0, 2033.2250494222362, 1105.2970626817223, 8465.252313145587, 971.1758111823953, 1040.0110614875048, 4948.837991177377, 1669.8988343340227, 1667.2215696453457, 1356.1521792678245, 1403.1076463777786, 7579.105214512538, 1179.9813382261543, 8071.40802925327, 7802.721408630342, 1145.2130270606526, 2814.9110508567155, 4180.630455595642, 5904.11135066604, 1159.019304023987, 2647.5890945205074, 2712.8860776733673, 1511.532126998421, 1197.7797978579054, 3486.339004231878, 4611.447889379429, 7356.666061551233, 5556.155490976098, 1351.2643686045092, 1941.6118420067041, 1191.2588672115317, 12672.162826131676, 3660.6011419805905, 16833.702933316265, 12569.911334535009, 11101.682438442996, 4667.337757038572, 7884.080881397958, 12832.324682147024, 6380.588349735619, 7383.357869639782, 8067.934148009411, 6226.241934211432, 10289.029793477832, 6379.781272843251, 11372.471339461143, 6286.898693502579, 6838.005580364148, 10359.238767786626, 5826.223166382161, 16909.74392963455, 9694.500641027022, 8381.62122767255, 9137.572007773138, 8324.234582508318, 12380.4840832041, 8996.604160203347, 8977.804689874116, 1726.4953005185191, 2824.3254559304346, 1259.0301912209245, 3796.2500425935677, 3040.695951087994, 1002.6845221497897, 1168.118017808385, 1047.7283669950384, 1212.6653731394917, 998.4068979845492, 1767.869491870522, 1710.999179911315, 1219.7929909082961, 2831.640125151586, 7293.647775571428, 1615.775237939472, 1534.667401355649, 10705.994639939827, 3964.3922423831373, 5892.609629131814, 1115.62830612724, 3221.248472108306, 1389.560997997649, 1181.757870633738, 4249.056779590903, 1339.9930681560375, 1367.167468576204, 4310.729820406177, 11294.53648947121, 2931.448664287215, 5245.122057467635, 3056.8447585346953, 4205.2305422669715, 6118.173239922753, 4945.637829197533, 7894.505374460843, 10943.194098545493, 5416.299267897688, 8779.810698738325, 11336.250061214241, 4052.123891886382, 9232.3622866075, 12380.4840832041, 4477.648558961101, 10359.238767786626, 16399.740028409564, 11174.707404787952, 9345.942875717908, 12672.162826131676, 6516.717466876189, 8381.62122767255, 14275.482170699457, 11101.682438442996, 12832.324682147024, 11189.365770036471, 8067.934148009411, 10289.029793477832, 2788.701388884243, 3483.339532785982, 984.2034854749348, 1026.4842013647963, 5170.146839795895, 1355.5294732848079, 1847.8712213983235, 5621.045056955505, 5054.92688181767, 1862.9239496168868, 1781.1449835973626, 1960.7932166765015, 1521.450840403458, 2605.2465421479837, 1934.881597956481, 2571.1799538193964, 3556.6672054210576, 4100.84417154327, 1121.459684665456, 973.430795065819, 1283.0833743648827, 1036.2594029038496, 1477.632278412494, 1625.256469931838, 1124.5327173726328, 1135.8669914279492, 970.6119067643965, 2280.5696661590546, 1078.879922992172, 1771.5608813884176, 5087.158817312689, 4247.318051884006, 11786.717001708557, 2309.1642173324244, 8623.042489665018, 2961.0391275907773, 4730.768426499142, 2901.853668612506, 4542.1627662171095, 4912.3034499076975, 5977.923171004644, 16399.740028409564, 8779.810698738325, 8213.16882639529, 8069.691217958538, 9160.77951420901, 11336.250061214241, 8017.085470888667, 11189.365770036471, 7164.277733129006, 11294.53648947121, 7434.341416980279, 6048.106335789214, 5872.826246952818, 12298.379078458389, 12672.162826131676, 8381.62122767255, 974.1481254071917, 1355.7225802337066, 1513.2391695833744, 1150.5427600734154, 1181.1620021400245, 2313.132011088536, 2618.577319415499, 1617.5374453148222, 1283.0752679007405, 3848.8171195253794, 1219.7929909082961, 1110.4868878132702, 1004.1818685774498, 2657.3741718549677, 1448.6549818637752, 1025.1190112056593, 1662.3446568892223, 1306.7923521269825, 1180.2762721677443, 1266.2005975439524, 3941.514749658449, 2006.5011362899277, 1371.4410255687847, 1081.8702678954098, 2407.0176266452195, 3610.1741153117828, 1650.0787976682868, 1028.6581070638733, 1329.1591292560843, 1231.3519900180545, 1668.7956252910608, 14275.482170699457, 8996.604160203347, 2951.180995730725, 16399.740028409564, 7538.909814881087, 6867.338510514758, 6516.717466876189, 6222.716408205197, 12298.379078458389, 8445.172159444373, 5610.166306719286, 9513.666496301563, 7894.505374460843, 11372.471339461143, 10705.994639939827, 9232.3622866075, 4048.800951450889, 9345.942875717908, 10289.029793477832, 8324.234582508318, 11101.682438442996, 8795.10571831071, 8977.804689874116, 8017.085470888667, 9137.572007773138, 1308.5060903269962, 1813.4454454588242, 8868.395948270552, 2328.6107832631956, 1280.0941161483452, 16909.74392963455, 1378.6393486301927, 3160.573358456434, 3594.3394902703913, 1179.9813382261543, 1703.5460138258527, 2790.9607216686504, 1596.1207542929146, 2647.6618940723806, 2015.0853153141732, 4180.630455595642, 1561.9032732233295, 1283.0752679007405, 2445.1277490567163, 4948.837991177377, 971.1758111823953, 2181.7950427761875, 6551.066749093447, 1141.2281504902498, 3556.6672054210576, 4678.2687378040055, 1597.1948033783844, 1546.5527999566161, 1242.0577142221864, 1185.1199371652579, 2486.2027457497397, 16833.702933316265, 4418.735800525696, 4493.59112026995, 12832.324682147024, 11786.717001708557, 10943.194098545493, 11189.365770036471, 11174.707404787952, 7383.357869639782, 6838.005580364148, 11336.250061214241, 8795.10571831071, 9345.942875717908, 6945.540827455083, 11101.682438442996, 9137.572007773138, 1006.2344420238471, 1921.717134522468, 1763.0621770833554, 2065.4495404843724, 4128.576769063671, 1295.340115921897, 1188.9216106214412, 1241.0478292212224, 1159.0788562763582, 1776.6714539399522, 2702.834502943808, 1369.4040901985793, 4034.4902867016694, 1033.8036892614007, 1929.8371776785127, 2534.1807696765873, 1115.0734241455539, 3777.7482220857255, 4493.59112026995, 1122.264333147257, 1258.3978241125476, 4945.637829197533, 6427.431726954956, 1324.1964526584648, 1575.2149789449809, 1212.6653731394917, 1615.775237939472, 1809.3243712819217, 1464.6196446326012, 1052.2397920431947, 12569.911334535009, 7009.501354421606, 8431.180303410007, 5826.223166382161, 3152.1692310315207, 2600.9104018483367, 4477.648558961101, 2008.1186638658783, 8445.172159444373, 11372.471339461143, 3376.5525689526444, 16833.702933316265, 9137.572007773138, 6747.468676365403, 5478.979566536668, 11294.53648947121, 12298.379078458389, 6551.066749093447, 5610.166306719286, 11174.707404787952, 7855.233001779643, 16909.74392963455, 1096.965547813893, 1889.1569170333823, 5217.71502926532, 1144.3840788426255, 2450.716528164122, 3903.560457188069, 1374.2392531482794, 5540.304880332164, 3517.917485629718, 2624.5278952883737, 1905.9379403320747, 1968.442616646678, 4951.198722204352, 4225.152799405126, 2511.58062571374, 5110.010611713474, 1010.5243739592258, 2387.1420667590546, 1184.0011668945176, 2711.378238400615, 1786.889736539654, 1010.9263150213161, 3964.3632944643805, 1322.1102608999208, 1158.70743460761, 1455.419990893397, 1283.658634475379, 2396.3967859447016, 6049.114057609865, 4678.2687378040055, 3285.588025356772, 12380.4840832041, 14275.482170699457, 6838.005580364148, 12298.379078458389, 11189.365770036471, 9694.500641027022, 11786.717001708557, 8381.62122767255, 8324.234582508318, 8213.16882639529, 11336.250061214241, 7221.211857129723, 5892.609629131814, 8795.10571831071, 1449.0314909977517, 1245.6043776168058, 1054.3710345611714, 2228.0399718763333, 1319.9916694576955, 1722.8897843789307, 4921.870268740504, 13473.261910142683, 1010.5243739592258, 9143.913599567137, 1157.323538838044, 1607.4375070153321, 1004.1818685774498, 1412.6650410299806, 1894.0176354368368, 3502.4730409986946, 1185.1474727868008, 4048.800951450889, 1079.3968747543847, 1676.8181400356223, 1266.2005975439524, 1537.6645634979777, 2752.656041895084, 4491.239464374845, 7356.666061551233, 1973.3000965885803, 1084.7798200243653, 2447.8547561976743, 1061.1330339777737, 989.9021748204884, 8759.83858672917, 2174.388707488215, 5517.300755732469, 3272.6932548886434, 8431.180303410007, 14275.482170699457, 11372.471339461143, 6286.898693502579, 7538.909814881087, 16399.740028409564, 9232.3622866075, 9513.666496301563, 8445.172159444373, 4948.614122835348, 11101.682438442996, 5509.73118896332, 16833.702933316265, 7293.647775571428, 4528.889498747326, 1167.9104074358177, 4965.608886580844, 4533.251838647696, 1427.6933269069218, 1001.089657629542, 1579.537750703792, 1197.7797978579054, 1288.7070022281928, 1607.4375070153321, 3941.514749658449, 1412.6650410299806, 7265.067511623361, 2609.0437159426056, 1925.1679063072875, 1374.4817842254859, 1865.0849932817066, 6286.898693502579, 9143.913599567137, 1905.1936196517788, 13473.261910142683, 3486.339004231878, 1549.4938612405037, 1079.3968747543847, 1722.8897843789307, 1005.1848752626254, 6758.901080957556, 1851.1240831331786, 1173.6658879566228, 2290.4789972566214, 7356.666061551233, 4921.870268740504, 2738.5695394329773, 10359.238767786626, 12298.379078458389, 6092.333765404325, 10943.194098545493, 8465.252313145587, 5509.73118896332, 11786.717001708557, 7884.080881397958, 3964.3632944643805, 7165.46642067068, 12832.324682147024, 5291.255992308127, 6546.784753500586, 11101.682438442996, 9694.500641027022, 7579.105214512538, 9232.3622866075, 11189.365770036471, 1149.768657821337, 1132.6077880482262, 1300.9557126571804, 1418.1671669690845, 2712.8860776733673, 2284.804717750616, 1505.514126697974, 1079.451205415735, 1894.0176354368368, 1684.3513272644082, 3068.279787214465, 1483.6948101816263, 1084.7798200243653, 1396.677671415915, 10943.194098545493, 1268.1533517278021, 1002.863758107063, 2331.3415200410573, 7383.357869639782, 4418.735800525696, 2764.2525067262295, 1384.4041628380473, 1548.79423905915, 1125.4189995276945, 1017.0573147367887, 7165.46642067068, 1002.8322333627314, 1167.9104074358177, 6092.333765404325, 1115.7026471635536, 4412.801987221375, 4225.152799405126, 1903.4847537726655, 16833.702933316265, 11174.707404787952, 7380.766927031242, 12380.4840832041, 6551.066749093447, 7265.067511623361, 11786.717001708557, 9694.500641027022, 7884.080881397958, 12298.379078458389, 8759.83858672917], \"Category\": [\"Default\", \"Default\", \"Default\", \"Default\", \"Default\", \"Default\", \"Default\", \"Default\", \"Default\", \"Default\", \"Default\", \"Default\", \"Default\", \"Default\", \"Default\", \"Default\", \"Default\", \"Default\", \"Default\", \"Default\", \"Default\", \"Default\", \"Default\", \"Default\", \"Default\", \"Default\", \"Default\", \"Default\", \"Default\", \"Default\", \"Topic1\", \"Topic1\", \"Topic1\", \"Topic1\", \"Topic1\", \"Topic1\", \"Topic1\", \"Topic1\", \"Topic1\", \"Topic1\", \"Topic1\", \"Topic1\", \"Topic1\", \"Topic1\", \"Topic1\", \"Topic1\", \"Topic1\", \"Topic1\", \"Topic1\", \"Topic1\", \"Topic1\", \"Topic1\", \"Topic1\", \"Topic1\", \"Topic1\", \"Topic1\", \"Topic1\", \"Topic1\", \"Topic1\", \"Topic1\", \"Topic1\", \"Topic1\", \"Topic1\", \"Topic1\", \"Topic1\", \"Topic1\", \"Topic1\", \"Topic1\", \"Topic1\", \"Topic1\", \"Topic1\", \"Topic1\", \"Topic1\", \"Topic1\", \"Topic1\", \"Topic1\", \"Topic1\", \"Topic1\", \"Topic1\", \"Topic1\", \"Topic1\", \"Topic1\", \"Topic1\", \"Topic1\", \"Topic1\", \"Topic1\", \"Topic2\", \"Topic2\", \"Topic2\", \"Topic2\", \"Topic2\", \"Topic2\", \"Topic2\", \"Topic2\", \"Topic2\", \"Topic2\", \"Topic2\", \"Topic2\", \"Topic2\", \"Topic2\", \"Topic2\", \"Topic2\", \"Topic2\", \"Topic2\", \"Topic2\", \"Topic2\", \"Topic2\", \"Topic2\", \"Topic2\", \"Topic2\", \"Topic2\", \"Topic2\", \"Topic2\", \"Topic2\", \"Topic2\", \"Topic2\", \"Topic2\", \"Topic2\", \"Topic2\", \"Topic2\", \"Topic2\", \"Topic2\", \"Topic2\", \"Topic2\", \"Topic2\", \"Topic2\", \"Topic2\", \"Topic2\", \"Topic2\", \"Topic2\", \"Topic2\", \"Topic2\", \"Topic2\", \"Topic2\", \"Topic2\", \"Topic2\", \"Topic2\", \"Topic2\", \"Topic2\", \"Topic2\", \"Topic2\", \"Topic2\", \"Topic2\", \"Topic2\", \"Topic3\", \"Topic3\", \"Topic3\", \"Topic3\", \"Topic3\", \"Topic3\", \"Topic3\", \"Topic3\", \"Topic3\", \"Topic3\", \"Topic3\", \"Topic3\", \"Topic3\", \"Topic3\", \"Topic3\", \"Topic3\", \"Topic3\", \"Topic3\", \"Topic3\", \"Topic3\", \"Topic3\", \"Topic3\", \"Topic3\", \"Topic3\", \"Topic3\", \"Topic3\", \"Topic3\", \"Topic3\", \"Topic3\", \"Topic3\", \"Topic3\", \"Topic3\", \"Topic3\", \"Topic3\", \"Topic3\", \"Topic3\", \"Topic3\", \"Topic3\", \"Topic3\", \"Topic3\", \"Topic3\", \"Topic3\", \"Topic3\", \"Topic3\", \"Topic3\", \"Topic3\", \"Topic3\", \"Topic3\", \"Topic3\", \"Topic3\", \"Topic3\", \"Topic3\", \"Topic3\", \"Topic3\", \"Topic3\", \"Topic3\", \"Topic3\", \"Topic4\", \"Topic4\", \"Topic4\", \"Topic4\", \"Topic4\", \"Topic4\", \"Topic4\", \"Topic4\", \"Topic4\", \"Topic4\", \"Topic4\", \"Topic4\", \"Topic4\", \"Topic4\", \"Topic4\", \"Topic4\", \"Topic4\", \"Topic4\", \"Topic4\", \"Topic4\", \"Topic4\", \"Topic4\", \"Topic4\", \"Topic4\", \"Topic4\", \"Topic4\", \"Topic4\", \"Topic4\", \"Topic4\", \"Topic4\", \"Topic4\", \"Topic4\", \"Topic4\", \"Topic4\", \"Topic4\", \"Topic4\", \"Topic4\", \"Topic4\", \"Topic4\", \"Topic4\", \"Topic4\", \"Topic4\", \"Topic4\", \"Topic4\", \"Topic4\", \"Topic4\", \"Topic4\", \"Topic4\", \"Topic4\", \"Topic4\", \"Topic4\", \"Topic4\", \"Topic4\", \"Topic4\", \"Topic4\", \"Topic4\", \"Topic5\", \"Topic5\", \"Topic5\", \"Topic5\", \"Topic5\", \"Topic5\", \"Topic5\", \"Topic5\", \"Topic5\", \"Topic5\", \"Topic5\", \"Topic5\", \"Topic5\", \"Topic5\", \"Topic5\", \"Topic5\", \"Topic5\", \"Topic5\", \"Topic5\", \"Topic5\", \"Topic5\", \"Topic5\", \"Topic5\", \"Topic5\", \"Topic5\", \"Topic5\", \"Topic5\", \"Topic5\", \"Topic5\", \"Topic5\", \"Topic5\", \"Topic5\", \"Topic5\", \"Topic5\", \"Topic5\", \"Topic5\", \"Topic5\", \"Topic5\", \"Topic5\", \"Topic5\", \"Topic5\", \"Topic5\", \"Topic5\", \"Topic5\", \"Topic5\", \"Topic5\", \"Topic5\", \"Topic6\", \"Topic6\", \"Topic6\", \"Topic6\", \"Topic6\", \"Topic6\", \"Topic6\", \"Topic6\", \"Topic6\", \"Topic6\", \"Topic6\", \"Topic6\", \"Topic6\", \"Topic6\", \"Topic6\", \"Topic6\", \"Topic6\", \"Topic6\", \"Topic6\", \"Topic6\", \"Topic6\", \"Topic6\", \"Topic6\", \"Topic6\", \"Topic6\", \"Topic6\", \"Topic6\", \"Topic6\", \"Topic6\", \"Topic6\", \"Topic6\", \"Topic6\", \"Topic6\", \"Topic6\", \"Topic6\", \"Topic6\", \"Topic6\", \"Topic6\", \"Topic6\", \"Topic6\", \"Topic6\", \"Topic6\", \"Topic6\", \"Topic6\", \"Topic6\", \"Topic6\", \"Topic6\", \"Topic6\", \"Topic6\", \"Topic6\", \"Topic6\", \"Topic6\", \"Topic7\", \"Topic7\", \"Topic7\", \"Topic7\", \"Topic7\", \"Topic7\", \"Topic7\", \"Topic7\", \"Topic7\", \"Topic7\", \"Topic7\", \"Topic7\", \"Topic7\", \"Topic7\", \"Topic7\", \"Topic7\", \"Topic7\", \"Topic7\", \"Topic7\", \"Topic7\", \"Topic7\", \"Topic7\", \"Topic7\", \"Topic7\", \"Topic7\", \"Topic7\", \"Topic7\", \"Topic7\", \"Topic7\", \"Topic7\", \"Topic7\", \"Topic7\", \"Topic7\", \"Topic7\", \"Topic7\", \"Topic7\", \"Topic7\", \"Topic7\", \"Topic7\", \"Topic7\", \"Topic7\", \"Topic7\", \"Topic7\", \"Topic7\", \"Topic7\", \"Topic8\", \"Topic8\", \"Topic8\", \"Topic8\", \"Topic8\", \"Topic8\", \"Topic8\", \"Topic8\", \"Topic8\", \"Topic8\", \"Topic8\", \"Topic8\", \"Topic8\", \"Topic8\", \"Topic8\", \"Topic8\", \"Topic8\", \"Topic8\", \"Topic8\", \"Topic8\", \"Topic8\", \"Topic8\", \"Topic8\", \"Topic8\", \"Topic8\", \"Topic8\", \"Topic8\", \"Topic8\", \"Topic8\", \"Topic8\", \"Topic8\", \"Topic8\", \"Topic8\", \"Topic8\", \"Topic8\", \"Topic8\", \"Topic8\", \"Topic8\", \"Topic8\", \"Topic8\", \"Topic8\", \"Topic8\", \"Topic8\", \"Topic8\", \"Topic8\", \"Topic8\", \"Topic8\", \"Topic8\", \"Topic9\", \"Topic9\", \"Topic9\", \"Topic9\", \"Topic9\", \"Topic9\", \"Topic9\", \"Topic9\", \"Topic9\", \"Topic9\", \"Topic9\", \"Topic9\", \"Topic9\", \"Topic9\", \"Topic9\", \"Topic9\", \"Topic9\", \"Topic9\", \"Topic9\", \"Topic9\", \"Topic9\", \"Topic9\", \"Topic9\", \"Topic9\", \"Topic9\", \"Topic9\", \"Topic9\", \"Topic9\", \"Topic9\", \"Topic9\", \"Topic9\", \"Topic9\", \"Topic9\", \"Topic9\", \"Topic9\", \"Topic9\", \"Topic9\", \"Topic9\", \"Topic9\", \"Topic9\", \"Topic9\", \"Topic9\", \"Topic9\", \"Topic9\", \"Topic9\", \"Topic9\", \"Topic9\", \"Topic9\", \"Topic9\", \"Topic9\", \"Topic9\", \"Topic10\", \"Topic10\", \"Topic10\", \"Topic10\", \"Topic10\", \"Topic10\", \"Topic10\", \"Topic10\", \"Topic10\", \"Topic10\", \"Topic10\", \"Topic10\", \"Topic10\", \"Topic10\", \"Topic10\", \"Topic10\", \"Topic10\", \"Topic10\", \"Topic10\", \"Topic10\", \"Topic10\", \"Topic10\", \"Topic10\", \"Topic10\", \"Topic10\", \"Topic10\", \"Topic10\", \"Topic10\", \"Topic10\", \"Topic10\", \"Topic10\", \"Topic10\", \"Topic10\", \"Topic10\", \"Topic10\", \"Topic10\", \"Topic10\", \"Topic10\", \"Topic10\", \"Topic10\", \"Topic10\", \"Topic10\", \"Topic10\", \"Topic10\"], \"logprob\": [30.0, 29.0, 28.0, 27.0, 26.0, 25.0, 24.0, 23.0, 22.0, 21.0, 20.0, 19.0, 18.0, 17.0, 16.0, 15.0, 14.0, 13.0, 12.0, 11.0, 10.0, 9.0, 8.0, 7.0, 6.0, 5.0, 4.0, 3.0, 2.0, 1.0, -5.7154, -6.4026, -4.397, -6.6781, -6.7048, -5.1563, -6.2607, -6.3212, -6.569, -6.5407, -4.9318, -6.793, -4.8745, -4.937, -6.8652, -5.9661, -5.5722, -5.2382, -6.8692, -6.0478, -6.0318, -6.6377, -6.8874, -5.8384, -5.563, -5.0992, -5.3848, -6.8012, -6.4573, -6.9567, -4.6239, -5.8525, -4.4082, -4.689, -4.8742, -5.6398, -5.1969, -4.8163, -5.4219, -5.3373, -5.2794, -5.4724, -5.1339, -5.46, -5.0854, -5.4814, -5.4417, -5.2021, -5.5459, -4.9526, -5.262, -5.3617, -5.3408, -5.3781, -5.2581, -5.4192, -4.0651, -5.7476, -5.5389, -6.3753, -5.2729, -5.4961, -6.6485, -6.5259, -6.6361, -6.5174, -6.7192, -6.2008, -6.2395, -6.5801, -5.7821, -4.8479, -6.3592, -6.4123, -4.4735, -5.4673, -5.076, -6.7534, -5.702, -6.5429, -6.7068, -5.4312, -6.5862, -6.571, -5.4279, -4.474, -5.8475, -5.3415, -5.8389, -5.5654, -5.2318, -5.4266, -5.0472, -4.8014, -5.4019, -5.0395, -4.8568, -5.6281, -5.0331, -4.8372, -5.5619, -5.0336, -4.8407, -5.0734, -5.1977, -5.0568, -5.4045, -5.3255, -5.1749, -5.3111, -5.28, -5.3383, -5.4047, -5.4215, -5.0197, -4.8319, -6.1376, -6.1822, -4.6681, -6.1678, -5.9008, -4.8007, -4.9168, -5.9221, -5.9817, -5.922, -6.184, -5.6509, -5.9486, -5.6852, -5.3781, -5.2363, -6.5508, -6.6946, -6.4339, -6.6591, -6.3097, -6.2153, -6.5845, -6.5754, -6.7351, -5.8963, -6.6487, -6.1599, -5.163, -5.3409, -4.4281, -5.9285, -4.745, -5.7118, -5.3199, -5.744, -5.3849, -5.3394, -5.2102, -4.4996, -4.9718, -5.0216, -5.0908, -5.0287, -4.9366, -5.1898, -5.0168, -5.2757, -5.0852, -5.3138, -5.4101, -5.4417, -5.2064, -5.3076, -5.4036, -5.6835, -5.4334, -5.3542, -5.6624, -5.829, -5.2375, -5.2085, -5.7131, -5.957, -4.8614, -6.0252, -6.2072, -6.3412, -5.3939, -6.0381, -6.3922, -5.9145, -6.2829, -6.3982, -6.3472, -5.2176, -5.9261, -6.3238, -6.5904, -5.7969, -5.4038, -6.2128, -6.7071, -6.4599, -6.5561, -6.2551, -4.1602, -4.6428, -5.7074, -4.1709, -4.9506, -5.1176, -5.1715, -5.2418, -4.8576, -5.1309, -5.4178, -5.1557, -5.2667, -5.1171, -5.145, -5.2703, -5.605, -5.3818, -5.3805, -5.459, -5.4112, -5.4825, -5.5019, -5.5259, -5.5243, -5.3238, -5.0074, -3.5709, -4.9386, -5.6195, -3.1925, -5.7148, -5.0119, -4.931, -6.0601, -5.7202, -5.251, -5.8955, -5.4032, -5.7093, -5.001, -5.9978, -6.2046, -5.5981, -4.9288, -6.5821, -5.8093, -4.7577, -6.513, -5.3866, -5.1278, -6.2185, -6.2509, -6.4796, -6.5456, -5.8413, -4.0378, -5.3037, -5.3264, -4.4637, -4.7847, -4.8667, -4.9592, -4.9957, -5.2156, -5.3573, -5.1673, -5.3689, -5.3577, -5.4437, -5.4175, -5.4472, -5.643, -5.081, -5.2753, -5.1407, -4.526, -5.757, -5.8441, -5.8441, -5.9339, -5.5404, -5.2131, -5.9176, -4.8635, -6.229, -5.6086, -5.3561, -6.1799, -4.9978, -4.8366, -6.225, -6.1407, -4.7778, -4.5317, -6.114, -5.9658, -6.2581, -5.9911, -5.8936, -6.1118, -6.4429, -3.9851, -4.5642, -4.5256, -4.8619, -5.4364, -5.6032, -5.2246, -5.8172, -5.0053, -4.8656, -5.5545, -4.7484, -5.1531, -5.2786, -5.3686, -5.1293, -5.1619, -5.35, -5.4286, -5.4043, -5.4573, -5.4243, -5.3273, -4.8057, -3.8997, -5.4655, -4.715, -4.3543, -5.3992, -4.0462, -4.5829, -4.8899, -5.2765, -5.2471, -4.3922, -4.5652, -5.1481, -4.4598, -6.1233, -5.289, -5.9992, -5.182, -5.692, -6.29, -5.049, -6.201, -6.3458, -6.1767, -6.3125, -5.7109, -4.836, -5.107, -5.4635, -4.3954, -4.3309, -5.0143, -4.6346, -4.774, -4.8979, -4.7961, -5.0379, -5.0481, -5.0601, -5.0776, -5.1959, -5.2706, -5.2733, -4.9417, -5.1059, -5.3475, -4.6543, -5.1896, -5.0789, -4.0968, -3.2341, -5.8492, -3.7128, -5.8147, -5.4865, -6.0408, -5.8367, -5.5446, -4.9423, -6.0431, -4.8242, -6.1557, -5.7465, -6.0749, -5.923, -5.3408, -4.8804, -4.3977, -5.7473, -6.3487, -5.5368, -6.4369, -6.5514, -4.4402, -5.8082, -5.0636, -5.4849, -4.7706, -4.4777, -4.6369, -5.0332, -5.0241, -4.6007, -5.0518, -5.092, -5.1569, -5.3458, -5.1409, -5.355, -5.163, -5.3337, -3.8284, -5.2205, -3.9689, -4.0772, -5.2611, -5.8217, -5.4325, -5.7542, -5.7768, -5.5899, -4.7828, -5.814, -4.195, -5.241, -5.5489, -5.8923, -5.5951, -4.3908, -4.0783, -5.6544, -3.7037, -5.0812, -5.9828, -6.3474, -5.8891, -6.4483, -4.5452, -5.8442, -6.3419, -5.7251, -4.5943, -4.9852, -5.5736, -4.4758, -4.4223, -4.9707, -4.5564, -4.7912, -5.1148, -4.8467, -5.093, -5.363, -5.1622, -4.984, -5.2779, -5.2221, -5.0873, -5.1373, -5.2294, -5.2176, -5.2066, -4.5042, -4.5193, -4.5185, -4.6856, -4.2041, -4.3998, -4.97, -5.3289, -4.7682, -4.8871, -4.3461, -5.0987, -5.6204, -5.4732, -3.5042, -5.7105, -5.9486, -5.1391, -4.0329, -4.5944, -5.0737, -5.7708, -5.6639, -6.0423, -6.1459, -4.2503, -6.2665, -6.1187, -4.4727, -6.1774, -4.827, -4.931, -5.6806, -3.7492, -4.1563, -4.5523, -4.3775, -4.8279, -4.7979, -4.5665, -4.6916, -4.8439, -4.7647, -5.0946], \"loglift\": [30.0, 29.0, 28.0, 27.0, 26.0, 25.0, 24.0, 23.0, 22.0, 21.0, 20.0, 19.0, 18.0, 17.0, 16.0, 15.0, 14.0, 13.0, 12.0, 11.0, 10.0, 9.0, 8.0, 7.0, 6.0, 5.0, 4.0, 3.0, 2.0, 1.0, 1.4677, 1.39, 1.3598, 1.2438, 1.1486, 1.1373, 1.1192, 1.0603, 1.019, 1.0133, 0.9355, 0.9342, 0.9298, 0.9012, 0.8919, 0.8917, 0.89, 0.8788, 0.8759, 0.8713, 0.8629, 0.8419, 0.8248, 0.8054, 0.8012, 0.7979, 0.7929, 0.7905, 0.7719, 0.7609, 0.7293, 0.7426, 0.6611, 0.6724, 0.6114, 0.7123, 0.631, 0.5244, 0.6175, 0.5561, 0.5254, 0.5915, 0.4277, 0.5796, 0.3761, 0.5728, 0.5285, 0.3527, 0.5844, 0.1122, 0.3592, 0.4049, 0.3395, 0.3955, 0.1185, 0.2766, 1.6329, 1.599, 1.3155, 1.287, 1.2858, 1.2845, 1.2415, 1.2114, 1.21, 1.1824, 1.1751, 1.1221, 1.1161, 1.1139, 1.0697, 1.0578, 1.0536, 1.052, 1.0484, 1.0481, 1.043, 1.0299, 1.021, 1.0208, 1.0189, 1.0148, 1.0139, 1.0089, 1.0036, 0.9944, 0.9697, 0.8939, 0.9364, 0.891, 0.8496, 0.8675, 0.7793, 0.6985, 0.8013, 0.6807, 0.6079, 0.8654, 0.6369, 0.5394, 0.8317, 0.5212, 0.2548, 0.4056, 0.46, 0.2965, 0.6138, 0.4411, 0.0592, 0.1745, 0.0607, 0.1394, 0.4001, 0.1402, 1.8474, 1.8128, 1.771, 1.6843, 1.5817, 1.4207, 1.3778, 1.3655, 1.3556, 1.3485, 1.3338, 1.2973, 1.2891, 1.2843, 1.284, 1.2632, 1.2457, 1.2452, 1.2272, 1.225, 1.2095, 1.198, 1.1926, 1.1917, 1.1908, 1.1899, 1.1874, 1.1719, 1.168, 1.161, 1.103, 1.1055, 0.9976, 1.1273, 0.9932, 1.0953, 1.0187, 1.0833, 0.9944, 0.9616, 0.8945, 0.5959, 0.7485, 0.7654, 0.7138, 0.6491, 0.5281, 0.6213, 0.4609, 0.6479, 0.3832, 0.5728, 0.6828, 0.6806, 0.1768, 0.0457, 0.3631, 2.2354, 2.1549, 2.1242, 2.0901, 1.8972, 1.8166, 1.7215, 1.6986, 1.6864, 1.6835, 1.6688, 1.5807, 1.5473, 1.5215, 1.4839, 1.4757, 1.47, 1.3422, 1.3288, 1.3094, 1.3035, 1.2702, 1.253, 1.2236, 1.2174, 1.2051, 1.1791, 1.1574, 1.1483, 1.1285, 1.1255, 1.0739, 1.053, 1.1031, 0.9246, 0.922, 0.8483, 0.8468, 0.8227, 0.5256, 0.6282, 0.7503, 0.4843, 0.5598, 0.3444, 0.3769, 0.3997, 0.8893, 0.2759, 0.1811, 0.3145, 0.0744, 0.236, 0.196, 0.2852, 0.156, 2.3, 2.29, 2.1393, 2.1088, 2.0263, 1.8723, 1.8568, 1.73, 1.6823, 1.6671, 1.6397, 1.6153, 1.5296, 1.5158, 1.4827, 1.4613, 1.449, 1.4389, 1.4005, 1.3647, 1.3399, 1.3032, 1.2554, 1.2476, 1.2373, 1.222, 1.2059, 1.2058, 1.1963, 1.1772, 1.1406, 1.0315, 1.1031, 1.0637, 0.877, 0.6411, 0.6333, 0.5185, 0.4834, 0.6778, 0.6129, 0.2974, 0.3496, 0.3, 0.5109, 0.0681, 0.2331, 2.2435, 2.1585, 2.0503, 2.0267, 1.9488, 1.8769, 1.8755, 1.8326, 1.8112, 1.7775, 1.6853, 1.6607, 1.6343, 1.6305, 1.6267, 1.6068, 1.6039, 1.5658, 1.5535, 1.5524, 1.5222, 1.5164, 1.5004, 1.4979, 1.4725, 1.4418, 1.4217, 1.4062, 1.3993, 1.3988, 1.3763, 1.3812, 1.2352, 1.2685, 1.3082, 1.3336, 1.1689, 1.3783, 0.7538, 0.5959, 1.1213, 0.3209, 0.5272, 0.7049, 0.8232, 0.3391, 0.2214, 0.6631, 0.7395, 0.0748, 0.3742, -0.3595, 2.4729, 2.4508, 2.3409, 2.2923, 2.2813, 2.1765, 2.1756, 2.1344, 2.052, 2.0379, 1.9712, 1.9683, 1.9009, 1.8864, 1.8236, 1.8017, 1.759, 1.7336, 1.7246, 1.7132, 1.6203, 1.5919, 1.4664, 1.4124, 1.3995, 1.3407, 1.3305, 1.3078, 1.2568, 1.2427, 1.2397, 0.9812, 0.9032, 0.9559, 0.7486, 0.7037, 0.7233, 0.6297, 0.7287, 0.7254, 0.7269, 0.3871, 0.7198, 0.8484, 0.4452, 2.5801, 2.5672, 2.4923, 2.4372, 2.4254, 2.2698, 2.2022, 2.0579, 2.033, 1.9669, 1.9319, 1.9315, 1.8478, 1.7105, 1.7094, 1.6969, 1.6797, 1.6701, 1.6606, 1.6293, 1.5818, 1.5394, 1.5393, 1.5101, 1.4994, 1.4657, 1.4626, 1.4607, 1.3964, 1.3514, 1.2823, 1.3078, 1.1212, 1.2221, 0.9901, 0.7565, 0.8246, 1.021, 0.8486, 0.4947, 0.6182, 0.548, 0.6022, 0.9477, 0.3447, 0.8312, -0.0937, 0.572, 2.5538, 2.517, 2.3212, 2.304, 2.2755, 2.0699, 2.0031, 1.958, 1.8622, 1.8282, 1.7383, 1.7332, 1.7146, 1.6927, 1.6887, 1.6824, 1.6743, 1.6634, 1.6013, 1.5937, 1.5883, 1.5626, 1.472, 1.4689, 1.4596, 1.4392, 1.4366, 1.4327, 1.3907, 1.3388, 1.3028, 1.3138, 1.3116, 1.079, 0.961, 1.115, 0.9436, 0.9655, 1.0714, 0.579, 0.7348, 1.1523, 0.7612, 0.3567, 0.9487, 0.7917, 0.3983, 0.4839, 0.6379, 0.4523, 0.2711, 3.2489, 3.2489, 3.1111, 2.8577, 2.6905, 2.6666, 2.5136, 2.4873, 2.4858, 2.4842, 2.4255, 2.3995, 2.1909, 2.0854, 1.9958, 1.9446, 1.9413, 1.9071, 1.8606, 1.8125, 1.8022, 1.7966, 1.7914, 1.7322, 1.7299, 1.6731, 1.6234, 1.6188, 1.613, 1.6058, 1.5811, 1.5206, 1.5684, 1.3201, 1.3228, 1.3416, 0.9991, 1.1851, 1.1117, 0.8593, 0.9295, 0.9839, 0.6185, 0.628]}, \"token.table\": {\"Topic\": [1, 3, 4, 5, 6, 7, 9, 10, 1, 5, 7, 9, 10, 1, 5, 1, 2, 3, 4, 5, 6, 8, 9, 1, 2, 3, 4, 5, 6, 7, 8, 9, 1, 2, 3, 4, 5, 8, 9, 10, 1, 2, 3, 4, 5, 6, 7, 8, 9, 10, 1, 7, 9, 10, 1, 5, 7, 8, 9, 10, 1, 4, 5, 6, 7, 8, 9, 10, 1, 2, 4, 5, 6, 7, 8, 9, 10, 1, 2, 3, 4, 5, 6, 7, 8, 9, 10, 1, 3, 4, 5, 7, 9, 10, 1, 2, 3, 4, 5, 6, 7, 8, 9, 10, 1, 2, 3, 4, 5, 6, 7, 9, 10, 1, 3, 5, 6, 7, 8, 9, 10, 1, 2, 3, 5, 6, 7, 8, 9, 10, 3, 6, 7, 9, 10, 1, 4, 5, 8, 9, 2, 3, 4, 5, 6, 8, 9, 10, 1, 5, 6, 7, 9, 10, 1, 2, 3, 4, 5, 6, 7, 8, 9, 1, 5, 7, 9, 1, 2, 3, 6, 7, 8, 9, 1, 3, 4, 5, 6, 7, 8, 9, 1, 2, 4, 6, 7, 8, 1, 2, 5, 6, 7, 8, 9, 10, 1, 2, 6, 8, 9, 10, 1, 2, 3, 4, 7, 8, 9, 1, 2, 3, 4, 5, 6, 7, 8, 9, 10, 1, 2, 3, 4, 5, 7, 10, 1, 2, 3, 4, 5, 6, 7, 8, 10, 1, 4, 8, 9, 1, 2, 4, 5, 6, 7, 8, 1, 2, 3, 4, 5, 6, 7, 8, 9, 10, 1, 3, 4, 5, 6, 7, 8, 9, 1, 2, 3, 4, 6, 7, 8, 10, 2, 4, 2, 4, 2, 4, 6, 8, 10, 3, 5, 6, 9, 10, 1, 2, 3, 4, 5, 6, 8, 9, 1, 2, 3, 4, 5, 6, 8, 9, 5, 1, 2, 4, 5, 6, 7, 8, 1, 2, 3, 4, 5, 6, 7, 8, 9, 10, 1, 2, 3, 4, 5, 6, 7, 8, 9, 10, 1, 2, 3, 4, 5, 6, 7, 8, 9, 10, 1, 2, 6, 7, 8, 9, 3, 4, 5, 6, 7, 8, 10, 2, 4, 6, 8, 9, 10, 1, 2, 3, 4, 5, 6, 7, 8, 10, 1, 2, 3, 5, 7, 9, 10, 2, 3, 4, 6, 7, 8, 9, 10, 1, 3, 5, 6, 7, 9, 10, 1, 3, 5, 6, 7, 9, 10, 1, 2, 3, 4, 5, 6, 7, 8, 9, 10, 1, 2, 4, 6, 7, 8, 9, 1, 2, 3, 4, 5, 6, 7, 8, 9, 10, 1, 2, 3, 4, 5, 6, 7, 8, 9, 10, 1, 2, 4, 5, 6, 7, 8, 9, 10, 1, 2, 3, 4, 5, 6, 7, 8, 9, 1, 2, 3, 4, 5, 6, 7, 8, 9, 1, 2, 3, 5, 7, 9, 10, 1, 2, 3, 4, 5, 7, 9, 10, 1, 2, 3, 4, 5, 7, 8, 9, 1, 2, 3, 4, 5, 6, 7, 8, 9, 2, 3, 4, 5, 9, 1, 2, 3, 4, 5, 6, 7, 8, 9, 10, 1, 2, 3, 4, 5, 7, 8, 9, 10, 1, 2, 3, 4, 5, 6, 8, 10, 1, 2, 3, 4, 5, 6, 8, 9, 10, 1, 2, 3, 4, 6, 8, 9, 2, 3, 4, 5, 6, 7, 8, 9, 10, 1, 2, 3, 4, 5, 6, 7, 8, 9, 10, 2, 3, 4, 5, 6, 7, 8, 2, 3, 4, 5, 6, 7, 8, 9, 1, 2, 4, 7, 9, 1, 2, 3, 4, 5, 6, 7, 8, 9, 10, 1, 3, 4, 5, 6, 7, 8, 9, 10, 1, 2, 3, 5, 6, 1, 2, 4, 5, 6, 7, 8, 9, 10, 2, 3, 4, 6, 10, 2, 3, 4, 5, 6, 9, 10, 1, 2, 3, 5, 6, 7, 9, 10, 1, 3, 5, 7, 9, 1, 2, 3, 5, 7, 9, 1, 2, 3, 5, 6, 7, 8, 9, 10, 1, 2, 3, 5, 6, 7, 8, 9, 10, 1, 3, 5, 9, 1, 2, 3, 4, 5, 6, 7, 8, 9, 10, 1, 2, 3, 4, 5, 6, 7, 8, 10, 1, 2, 3, 4, 6, 8, 9, 1, 2, 3, 5, 8, 9, 1, 2, 3, 4, 5, 6, 7, 8, 1, 3, 4, 5, 6, 7, 8, 9, 10, 1, 3, 5, 7, 9, 10, 2, 3, 6, 8, 2, 3, 6, 8, 1, 2, 4, 6, 8, 9, 10, 1, 2, 3, 4, 5, 6, 7, 8, 9, 10, 2, 3, 4, 6, 7, 9, 10, 1, 2, 3, 5, 6, 8, 1, 2, 3, 4, 5, 6, 7, 8, 9, 10, 2, 3, 4, 5, 6, 8, 9, 10, 1, 2, 3, 4, 5, 6, 7, 9, 10, 2, 3, 4, 5, 6, 7, 8, 9, 10, 1, 2, 3, 4, 5, 6, 7, 10, 1, 2, 3, 5, 6, 7, 8, 9, 1, 2, 3, 4, 5, 6, 7, 8, 9, 10, 1, 2, 3, 4, 5, 6, 7, 8, 9, 10, 1, 2, 4, 5, 6, 8, 2, 4, 6, 8, 2, 3, 4, 6, 7, 8, 10, 1, 2, 3, 4, 6, 9, 1, 2, 3, 4, 9, 1, 2, 3, 4, 5, 6, 7, 8, 9, 10, 1, 2, 3, 4, 5, 6, 7, 8, 9, 1, 3, 4, 5, 6, 7, 8, 10, 1, 2, 3, 4, 5, 6, 7, 9, 10, 2, 4, 6, 8, 1, 2, 3, 4, 5, 6, 7, 8, 1, 3, 4, 5, 6, 7, 8, 10, 1, 2, 3, 4, 5, 6, 7, 8, 9, 10, 1, 2, 3, 4, 5, 6, 7, 8, 9, 10, 1, 2, 3, 4, 6, 7, 8, 10, 1, 2, 3, 4, 5, 6, 7, 8, 9, 10, 3, 4, 5, 8, 10, 1, 2, 3, 4, 5, 6, 7, 8, 9, 10, 1, 2, 3, 4, 9, 1, 2, 3, 5, 7, 9, 10, 1, 2, 3, 4, 5, 6, 7, 8, 9, 10, 1, 4, 5, 7, 8, 9, 1, 2, 3, 4, 5, 6, 8, 9, 10, 2, 4, 6, 8, 1, 2, 3, 4, 5, 6, 7, 8, 9, 10, 1, 3, 4, 5, 6, 7, 8, 9, 10, 1, 2, 3, 4, 5, 6, 8, 9, 4, 5, 10, 1, 2, 5, 6, 7, 9, 3, 4, 6, 1, 2, 3, 5, 6, 7, 8, 9, 10, 2, 3, 4, 5, 6, 7, 8, 9, 2, 4, 1, 2, 3, 4, 5, 6, 7, 8, 9, 10, 1, 2, 3, 4, 5, 6, 7, 8, 9, 10, 1, 2, 3, 4, 7, 8, 9, 10, 1, 2, 3, 4, 5, 6, 8, 9, 1, 2, 3, 4, 5, 6, 7, 8, 9, 1, 2, 3, 4, 5, 6, 7, 8, 9, 10, 1, 2, 3, 4, 5, 6, 7, 10, 1, 2, 4, 5, 6, 7, 8, 9, 10, 1, 2, 3, 5, 6, 7, 9, 10, 1, 2, 3, 4, 5, 6, 7, 8, 9, 10, 1, 4, 7, 8, 9, 10, 1, 2, 3, 5, 6, 7, 9, 1, 3, 5, 6, 7, 2, 3, 4, 6, 1, 2, 3, 5, 6, 8, 2, 3, 4, 5, 6, 8, 1, 5, 7, 9, 1, 3, 5, 6, 7, 8, 9, 2, 7, 2, 5, 7, 1, 4, 6, 7, 10, 2, 3, 6, 7, 10, 1, 2, 4, 5, 6, 7, 9, 1, 2, 4, 5, 7, 9, 1, 2, 4, 5, 6, 7, 8, 9, 10, 1, 2, 4, 6, 7, 8, 9, 10, 2, 4, 6, 8, 10, 1, 2, 3, 4, 5, 6, 7, 8, 9, 10, 1, 2, 3, 4, 5, 6, 7, 8, 10, 1, 5, 9, 10, 1, 2, 3, 4, 5, 8, 9, 10, 1, 3, 4, 5, 6, 7, 8, 9, 10, 1, 2, 3, 4, 5, 6, 7, 8, 10, 1, 3, 4, 5, 6, 7, 8, 9, 10, 1, 3, 5, 6, 7, 8, 9, 10, 1, 5, 7, 8, 9, 10, 2, 4, 6, 7, 2, 3, 4, 5, 6, 7, 8, 9, 10, 1, 2, 3, 5, 6, 7, 8, 9, 10, 1, 2, 3, 4, 5, 6, 7, 8, 9, 10, 1, 7, 9, 1, 5, 7, 9, 1, 2, 3, 4, 5, 6, 7, 8, 9, 10, 1, 3, 4, 5, 6, 7, 9, 10, 4, 1, 2, 3, 4, 5, 6, 7, 8, 9, 10, 1, 2, 3, 4, 5, 6, 7, 8, 9, 10, 1, 2, 3, 4, 5, 6, 7, 8, 9, 10, 1, 2, 3, 4, 5, 6, 7, 8, 9, 10, 1, 3, 4, 5, 6, 7, 9, 10, 2, 4, 5, 6, 8, 1, 2, 3, 4, 5, 6, 8, 9, 1, 2, 3, 5, 6, 7, 9, 10, 2, 3, 4, 5, 6, 8, 10, 1, 2, 3, 5, 6, 7, 8, 2, 3, 4, 5, 6, 7, 8, 9, 1, 2, 3, 4, 5, 6, 7, 8, 9, 10, 1, 2, 3, 4, 5, 6, 7, 8, 9, 1, 2, 3, 4, 6, 8, 1, 2, 3, 4, 5, 6, 7, 8, 9, 10, 1, 2, 3, 4, 5, 6, 7, 8, 9, 10, 1, 3, 4, 5, 6, 7, 8, 10, 1, 2, 3, 4, 5, 6, 7, 8, 9, 10, 1, 2, 3, 4, 5, 6, 7, 8, 9, 10, 2, 4, 6, 8, 1, 2, 3, 4, 5, 6, 7, 8, 9, 10, 1, 3, 4, 5, 6, 7, 9, 1, 2, 3, 4, 5, 6, 7, 8, 9, 10, 1, 2, 3, 5, 6, 7, 8, 9, 10, 10, 1, 5, 6, 7, 9, 10, 1, 5, 9, 1, 2, 3, 4, 5, 6, 7, 8, 9, 10, 1, 2, 3, 4, 5, 6, 7, 8, 9, 1, 2, 3, 4, 5, 6, 7, 8, 9, 1, 3, 4, 5, 6, 8, 10, 1, 2, 3, 4, 5, 6, 7, 8, 9, 10, 3, 5, 9, 10, 1, 2, 3, 4, 5, 6, 7, 8, 9, 10, 1, 2, 3, 5, 6, 7, 8, 9, 10, 4, 5, 1, 5, 7, 9, 10, 1, 2, 4, 5, 7, 9, 1, 5, 6, 7, 8, 9, 10, 1, 3, 4, 5, 7, 8, 9, 10, 1, 2, 3, 4, 7, 8, 1, 2, 3, 4, 6, 8, 9, 1, 2, 3, 4, 5, 6, 7, 8, 9, 10, 1, 2, 3, 4, 5, 6, 7, 8, 9, 10, 6, 8, 10, 1, 7, 8, 9, 1, 2, 4, 5, 6, 7, 9, 1, 2, 5, 6, 7, 8, 9, 10, 1, 2, 3, 4, 5, 6, 7, 8, 9, 10, 1, 2, 3, 4, 5, 6, 7, 8, 9, 10, 2, 3, 4, 5, 7, 8, 9, 10, 1, 2, 3, 4, 5, 6, 7, 8, 9, 10, 1, 2, 3, 4, 5, 6, 7, 9, 10, 3, 4, 5, 6, 8, 9, 1, 2, 3, 4, 5, 6, 7, 8, 1, 2, 3, 4, 5, 6, 7, 8, 9, 10, 1, 2, 3, 4, 5, 6, 7, 10, 1, 2, 3, 4, 5, 6, 7, 8, 9, 10, 1, 2, 3, 4, 5, 6, 7, 8, 9, 10, 1, 2, 3, 4, 6, 7, 8, 9, 10, 2, 3, 4, 5, 6, 8, 1, 3, 4, 5, 6, 7, 8, 9, 10, 1, 3, 4, 5, 6, 7, 8, 9, 10, 1, 3, 5, 6, 7, 8, 9, 10, 1, 2, 3, 4, 5, 6, 7, 8, 9, 10, 1, 2, 3, 4, 5, 6, 7, 8, 9, 10, 1, 5, 7, 9, 1, 2, 3, 4, 8, 9, 1, 2, 3, 4, 5, 6, 7, 8, 9, 10, 1, 2, 3, 4, 5, 6, 7, 8, 9, 10, 1, 2, 3, 4, 5, 6, 7, 8, 9, 10, 1, 2, 3, 4, 5, 6, 7, 8, 9, 10, 1, 2, 3, 4, 5, 6, 7, 8, 9, 10, 1, 2, 4, 5, 7, 8, 9, 1, 2, 3, 4, 5, 6, 8, 1, 2, 3, 4, 6, 7, 8, 9, 10, 1, 2, 3, 4, 5, 6, 7, 8, 9, 10, 1, 2, 3, 4, 5, 6, 8, 9, 1, 2, 3, 4, 5, 6, 7, 8, 9, 10, 1, 3, 5, 6, 7, 8, 9, 10, 1, 5, 7, 9, 1, 4, 5, 6, 8, 9, 1, 3, 5, 6, 7, 8, 1, 2, 3, 4, 5, 7, 8, 9, 10, 1, 2, 3, 4, 5, 6, 7, 8, 9, 10, 1, 2, 3, 4, 5, 6, 8, 10, 1, 2, 3, 5, 6, 8, 9, 2, 4, 5, 6, 8, 1, 2, 3, 4, 5, 6, 8, 1, 2, 3, 4, 5, 7, 8, 10, 1, 2, 3, 4, 5, 6, 7, 8, 9, 10, 1, 3, 5, 6, 7, 8, 9, 10, 1, 2, 3, 4, 5, 6, 7, 8, 9, 10, 1, 2, 3, 4, 5, 6, 7, 8, 9, 10, 1, 2, 3, 5, 7, 9, 10, 2, 3, 4, 5, 7, 9, 10, 1, 2, 4, 5, 6, 7, 8, 9, 10, 1, 2, 3, 4, 5, 7, 9, 10, 1, 2, 3, 4, 5, 6, 7, 8, 9, 10, 1, 2, 3, 4, 5, 7, 8, 9, 10, 1, 2, 3, 4, 5, 6, 9, 10, 1, 3, 5, 9, 10, 1, 2, 4, 5, 6, 7, 8, 1, 2, 3, 4, 5, 6, 7, 9, 10, 1, 2, 3, 4, 5, 6, 7, 8, 9, 10, 1, 2, 3, 4, 5, 6, 7, 8, 9, 10, 1, 2, 3, 4, 5, 6, 7, 8, 9, 10, 4, 5, 1, 2, 3, 5, 6, 8, 1, 3, 4, 5, 6, 7, 8, 9, 10, 1, 2, 3, 4, 5, 7, 9, 1, 3, 4, 5, 6, 7, 8, 9, 10, 1, 2, 4, 5, 7, 9, 10, 1, 3, 4, 5, 6, 7, 8, 9, 10, 1, 2, 3, 4, 5, 6, 7, 8, 9, 10, 1, 2, 3, 4, 5, 6, 7, 8, 9, 10, 1, 3, 4, 6, 7, 8, 9, 10, 1, 2, 3, 4, 5, 6, 7, 8, 9, 5, 9, 10, 2, 3, 4, 5, 6, 7, 8, 9, 10, 2, 3, 5, 7, 9, 10, 1, 2, 3, 4, 5, 7, 9, 10, 1, 2, 3, 4, 5, 6, 7, 8, 9, 2, 4, 5, 7, 1, 2, 3, 4, 5, 6, 7, 8, 9, 10, 1, 2, 3, 4, 5, 6, 7, 8, 9, 10, 1, 2, 3, 4, 5, 6, 7, 9, 10, 1, 2, 3, 4, 5, 6, 7, 9, 10, 1, 7, 9, 10, 1, 3, 4, 6, 8, 9, 1, 2, 3, 4, 5, 6, 7, 8, 9, 10, 1, 2, 3, 4, 5, 6, 7, 9, 1, 2, 3, 4, 5, 6, 7, 8, 9, 10, 1, 2, 3, 4, 5, 6, 7, 8, 9, 10, 1, 2, 3, 5, 6, 7, 8, 9, 1, 2, 3, 4, 5, 8, 9, 1, 3, 5, 6, 7, 9, 10, 1, 2, 3, 4, 5, 6, 8, 9, 1, 3, 6, 7, 9, 10, 2, 4, 6, 8, 1, 2, 3, 4, 6, 7, 8, 9, 10, 1, 2, 4, 5, 6, 7, 8, 9, 10, 1, 2, 3, 4, 5, 7, 8, 9, 1, 2, 3, 5, 6, 7, 8, 9, 1, 2, 3, 5, 6, 7, 8, 9, 10, 1, 2, 3, 4, 6, 7, 8, 9, 1, 2, 3, 4, 6, 7, 8, 9, 1, 3, 4, 5, 6, 8, 9, 1, 3, 5, 7, 9, 10, 1, 2, 3, 4, 5, 6, 7, 8, 9, 10, 1, 2, 3, 4, 5, 6, 8, 9, 2, 3, 6, 8, 1, 2, 3, 4, 6, 8, 9, 10, 1, 2, 3, 4, 7, 8, 9, 10, 1, 2, 3, 4, 5, 6, 7, 8, 10, 1, 4, 5, 7, 9, 10, 1, 2, 3, 4, 5, 6, 7, 8, 9, 10, 1, 2, 3, 4, 6, 7, 8, 9, 10, 1, 2, 3, 4, 5, 7, 9, 10, 1, 2, 3, 4, 5, 6, 7, 8, 9, 10, 2, 3, 4, 5, 6, 7, 8, 1, 2, 3, 4, 5, 6, 7, 8, 9, 10, 10, 1, 2, 3, 4, 5, 6, 7, 8, 9, 10, 1, 2, 3, 4, 5, 7, 8, 9, 10, 1, 2, 3, 4, 7, 8, 9, 3, 4, 5, 6, 7, 8, 9, 10, 1, 2, 3, 4, 5, 6, 7, 8, 9, 10, 1, 2, 3, 4, 5, 6, 7, 8, 9, 10, 1, 5, 7, 8, 9, 10, 1, 2, 3, 4, 5, 6, 7, 8, 9, 1, 2, 3, 4, 5, 6, 7, 9, 10, 1, 5, 7, 9, 10, 1, 3, 4, 5, 6, 7, 8, 9, 10, 1, 2, 3, 4, 5, 6, 7, 8, 9, 10, 1, 2, 3, 4, 5, 6, 7, 8, 9, 10, 1, 2, 3, 4, 5, 6, 7, 8, 9, 10, 2, 4, 1, 2, 3, 5, 7, 8, 9, 10], \"Freq\": [0.0017925923229496605, 0.26530366379654974, 0.290399956317845, 0.03047406949014423, 0.12189627796057692, 0.05108888120406532, 0.04481480807374151, 0.19359997087856334, 0.48962743647897505, 0.28151795838310795, 0.1902918857931388, 0.0028508147684365363, 0.03492248091334757, 0.6167781292562512, 0.38304084154144485, 0.013452028965262116, 0.14169470510076096, 0.23047809627149093, 0.027800859861541707, 0.053808115861048465, 0.46454340026705176, 0.05918892744715331, 0.008968019310174744, 0.2486240700380928, 0.1124091417530138, 0.1271763676231719, 0.12246613178527664, 0.13239581814624501, 0.13570571359990113, 0.012093848772974305, 0.09318628738754937, 0.015912958911808297, 0.17271641931936696, 0.39364950569872387, 0.031664676875217276, 0.08779751315401153, 0.017991293679100726, 0.21445622065488065, 0.06620796073909067, 0.01511268669044461, 0.07761652873636098, 0.007928570139735799, 0.17442854307418756, 0.03546991904618647, 0.18736463119691438, 0.0012518794957477575, 0.30378942430145583, 0.050492472995159556, 0.07010525176187442, 0.0913872031895863, 0.21706059688613133, 0.4611481941627537, 0.20270250292868297, 0.11908772047060125, 0.3117776823647527, 0.014630344318087098, 0.35617320995067214, 0.013873602370599834, 0.19927537950497945, 0.10392589412158422, 0.19887941615167204, 0.045062775827408294, 0.6515178494626734, 0.0651695261965931, 0.006919087627043006, 0.02093467538438653, 0.01111785020413748, 0.0004139625076008636, 0.0734067359866756, 0.0018041594098107674, 0.026949631184048337, 0.8508866816520031, 0.012290835979335852, 0.00045103985245269185, 0.022664752585747766, 0.007667677491695761, 0.003608318819621535, 0.061769873938820045, 0.2013753289395613, 0.0038779293055761464, 0.35649250116260717, 0.01883565662708414, 0.14126742470313106, 0.004154924255974442, 0.17616878845331635, 0.01301876266871992, 0.02299058088305858, 0.006390301435678592, 0.06437637001868804, 0.013490636364210362, 0.11289532536365514, 0.5419922328779251, 0.08331059649477277, 0.17750837321329424, 0.21116180037826823, 0.15427346146357496, 0.08115426879073474, 0.24330210484984635, 0.031336796859788664, 0.022658914652462572, 0.06765534091267193, 0.07103007288218764, 0.0956174058029449, 0.021855407040673118, 0.13508679337432228, 0.37421770790816045, 0.03991200713332249, 0.011939489313387069, 0.1398625890996771, 0.0071636935880322414, 0.1258763301897094, 0.13952146083358033, 0.026266876489451554, 0.43376148586591745, 0.018828303645285524, 0.1726519919171465, 0.018828303645285524, 0.10550955061603397, 0.04405112550972462, 0.08774700000727405, 0.11794333604216592, 0.12359416856044773, 0.0030946896666152798, 0.6309298557811901, 0.03500867685358535, 0.07040418991549761, 0.030946896666152794, 0.0025144353541249145, 0.06769633645720924, 0.03636260358272953, 0.7949268148963211, 0.04679417509140496, 0.034162618625013436, 0.09932996675844244, 0.024688951275219796, 0.04466182186713906, 0.08159371302650405, 0.8253848233523199, 0.010736014871908428, 0.037790772349117666, 0.01204376286799805, 0.08337989677844804, 0.11302608229967401, 0.06021881433999025, 0.03613128860399415, 0.34834267987440515, 0.2733007727738019, 0.0722625772079883, 0.43294905379100707, 0.43199226030196614, 0.09065618308662524, 0.00047839674452044976, 0.029660598160267886, 0.014351902335613493, 0.20326136341617862, 0.11165060807367558, 0.08874791923804982, 0.07075294943862957, 0.40652272683235724, 0.04866821377570474, 0.025765524940078978, 0.00122692975905138, 0.043351518153148756, 0.04503887212734368, 0.05807139682802185, 0.8538220226694301, 0.042739014827224, 0.3666005309344731, 0.024972788210795172, 0.029967345852954207, 0.0019978230568636138, 0.01897931904020433, 0.0589357801774766, 0.4984568526874716, 0.3152587780758053, 0.06950962967665335, 0.028153785933106735, 0.039765234368794825, 0.014633606247716494, 0.016542337497418645, 0.18387444372130726, 0.33211923744817434, 0.12223430059838233, 0.02323461912200656, 0.24749920369093945, 0.26467261782459645, 0.08485686983689351, 0.25558081034207214, 0.07724197805805716, 0.07170141423110792, 0.03845803126941243, 0.060620286577209415, 0.01205887421159542, 0.19815663569324368, 0.10266338855817723, 0.4386822888866875, 0.10140306629001383, 0.098637528118468, 0.09126275966101245, 0.2857722777264026, 0.07559137668891941, 0.34661411750041093, 0.3050101831593991, 0.38912570129688323, 0.10386437891758914, 0.09435566817161267, 0.04169203942466606, 0.06217233949292308, 0.0036571964407601807, 0.11140489707968883, 0.12816019360047404, 0.004099700212532548, 0.22619650303060018, 0.1941118926716498, 0.19553787535426984, 0.024598201275195294, 0.07076439062501834, 0.013903331155545165, 0.03101512334698537, 0.05801049669975484, 0.10127256203516523, 0.13666879730959192, 0.14846754240106746, 0.13175265352147708, 0.20549481034319933, 0.21827678419229787, 0.13183160158490287, 0.0509349369759852, 0.14441552719073453, 0.32897976940959855, 0.016179332921783536, 0.07730125729296577, 0.12044614508438854, 0.10666375037323961, 0.02337014755368733, 0.022773832180332652, 0.016562787040241927, 0.8743771324994385, 0.08626451583459338, 0.15326157565539522, 0.11227301472430115, 0.021385336137962122, 0.11316407039671623, 0.4410725578454688, 0.14078679624158397, 0.01782111344830177, 0.22187548697447979, 0.24247551089289401, 0.09449552256153312, 0.07502944491385731, 0.020033050783045025, 0.008315605985414915, 0.10980379721650149, 0.029482603039198335, 0.16253229880583697, 0.036097289618505654, 0.002920978569167231, 0.08105715529439066, 0.030670274976255928, 0.22929681767962765, 0.4914546442623866, 0.02920978569167231, 0.04819614639125931, 0.08689911243272512, 0.08290387416476556, 0.019344237305111964, 0.10777503641419522, 0.20504891543418682, 0.3808051286634898, 0.03150347218261091, 0.11551273133624002, 0.05692732692647235, 0.10573345127198318, 0.8941084973187077, 0.4320405215704505, 0.5673093755725839, 0.13008065990092257, 0.3046448615296218, 0.0714432639870352, 0.06672531259166495, 0.42731159780924827, 0.14101971363612856, 0.0026018397349839217, 0.8086517896330029, 0.021335085826868157, 0.026538765296836003, 0.05993707710315107, 0.0284886107218681, 0.1183942263765947, 0.11876420833402156, 0.12024413616372899, 0.5035454440579543, 0.005549729361402877, 0.044767816848649875, 0.14801518073057957, 0.14908259789930972, 0.5082684751770022, 0.01725657756113728, 0.02828655497134874, 0.0071161144582009405, 0.027397040664073623, 0.11456944277703515, 0.9996132304383316, 0.007760966040486007, 0.3939466362150697, 0.2095460830931222, 0.04097790069376612, 0.1685681823993561, 0.022972459479838583, 0.1555297594513396, 0.11611051728978067, 0.040924198716889904, 0.18051061294504153, 0.1310208842641514, 0.019034511031111583, 0.3454763752146753, 0.02569658989200064, 0.11864845209392888, 0.014910366974370742, 0.007613804412444634, 0.06408609872489786, 0.5289758646132453, 0.08710044357085565, 0.08178944091409616, 0.010267938469735017, 0.15154060913953749, 0.02832534750271729, 0.012038272688654848, 0.013100473220006745, 0.022306211158389863, 0.2639281699985423, 0.08553338963994635, 0.13791057767789103, 0.14631975924361607, 0.06006558261232187, 0.012373510018138306, 0.1697453364624216, 0.07376053544793125, 0.03339646393245096, 0.016818363131450124, 0.08336249428993937, 0.012442163326856623, 0.0012442163326856623, 0.054123410471826304, 0.45724950226198086, 0.3919281447959836, 0.12457176524410431, 0.25414178032824986, 0.12303384221639932, 0.35449125788600055, 0.0457532100742235, 0.09496674696078322, 0.0030758460554099827, 0.11987303327810432, 0.027500284104976874, 0.1544246722817932, 0.0021154064696136056, 0.019743793716393652, 0.6755197992966114, 0.00300779984420114, 0.2063350693121982, 0.13715567289557198, 0.4650058559134962, 0.058351316977502114, 0.07699967601154918, 0.028273318535490713, 0.012632759345644787, 0.012632759345644787, 0.007793725801294815, 0.1550951434457668, 0.43488989971225067, 0.029616158044920293, 0.10755341605786845, 0.1426251821636951, 0.12236149508032859, 0.2530101953797462, 0.009555393257363157, 0.3610276843760254, 0.1674271079442327, 0.05317784073662975, 0.08433673179324874, 0.009139941376608238, 0.061902330232483066, 0.14588141075205596, 0.17190350023755782, 0.30201394766506723, 0.018136607823228578, 0.03233047481532051, 0.058352564300822383, 0.27126056918220137, 0.10751551204554052, 0.16171754704370558, 0.22391660359897694, 0.030210970326846096, 0.15638619933896802, 0.10129560639001338, 0.219473813845029, 0.1785855963513174, 0.020915430203307443, 0.021317650014909508, 0.09854385384250622, 0.31332923323800954, 0.059126312305503734, 0.07682398401599465, 0.08969501798726076, 0.10457715101653721, 0.03619978304418596, 0.27074931311177824, 0.15585897958737233, 0.05855844518782703, 0.006679670553744529, 0.1540777341063738, 0.2999172078631293, 0.0543279871704555, 0.3928975716294242, 0.1589228381808436, 0.06389310028788163, 0.06641282818655865, 0.11608746390333421, 0.07667172034545795, 0.040855588071406, 0.04193547145655329, 0.014218464571106051, 0.02807696801382967, 0.39597107975684576, 0.20384053393835433, 0.024070531135273757, 0.04206921657876674, 0.11948524914897153, 0.027757008876712078, 0.028841267035958643, 0.07091048361472539, 0.019299795234588867, 0.0676577091369857, 0.3276080017750973, 0.16907347245858062, 0.11511768662869794, 0.10728103659998375, 0.03936340301779421, 0.04395730131048872, 0.09349934172190019, 0.09376957103323517, 0.010358790267840581, 0.23442178431381946, 0.12026760105621273, 0.08036365578894807, 0.30622665518471914, 0.11104189783286185, 0.014227590513119436, 0.0682479732426198, 0.03723627204605477, 0.02801056882270389, 0.160203354726754, 0.2622485950459987, 0.1282854449727647, 0.24920521846383958, 0.08332415863661631, 0.01381063402816845, 0.011201958711736631, 0.05140624888262701, 0.040204290170890375, 0.07648597880130863, 0.12157245051576424, 0.37115827607792923, 0.3317076133277806, 0.04106089388280779, 0.028179044821534757, 0.028984160387864322, 0.3802699920802024, 0.17208686175814897, 0.11416494243467444, 0.013431169698196993, 0.10660990947943863, 0.14774286668016692, 0.029380683714805924, 0.03525682045776711, 0.36367938802220423, 0.24972942370792414, 0.00567566872063464, 0.01222451724444384, 0.00960497783492016, 0.07029097415555208, 0.04889806897777536, 0.24012444587300397, 0.19861705407710004, 0.5136647950269829, 0.06954231071134537, 0.04030293007134789, 0.10299637684900016, 0.012117220805764724, 0.039512676540537146, 0.01396114571098979, 0.009483042369728915, 0.11991495118629254, 0.17528465160212683, 0.0344874134018625, 0.5650873425296002, 0.10472783335794943, 0.24962867576415285, 0.0906148809876013, 0.06106655023077479, 0.12486905701310759, 0.12651063094404238, 0.158138288680053, 0.05537576060353413, 0.07759172780218516, 0.020683831529778558, 0.03556743517025413, 0.25745501069450777, 0.36213811542416785, 0.08898063902021107, 0.1095901252638629, 0.015702465709449012, 0.028787853800656522, 0.0615013240286753, 0.06967969158567999, 0.006215559343323567, 0.18028963432035788, 0.060908660243364145, 0.0056848082893806535, 0.3305309962539894, 0.002436346409734566, 0.14536866911416244, 0.24931944926283722, 0.02517557956725718, 0.17873085464820665, 0.14189973603859218, 0.0174162653890425, 0.08222761364006952, 0.0014275627368067624, 0.17016547822736608, 0.3614588849594722, 0.03997175663058935, 0.006852301136672459, 0.21802762229851444, 0.007078818905795923, 0.002123645671738777, 0.02477586617028573, 0.02406798427970614, 0.36668281932022884, 0.3560645909615349, 0.7266809899928306, 0.002784645117998278, 0.1299872341081596, 0.011361352081432973, 0.01102719466727318, 0.01492569783247077, 0.051683013390048035, 0.015594012660790356, 0.03586622911981782, 0.11572288629176697, 0.1506078725952173, 0.007705519063011118, 0.3127039736116512, 0.0589822459186851, 0.0023116557189033354, 0.2027952517037926, 0.14108104902640356, 0.006444615943609298, 0.0016812041592024257, 0.07172103215149063, 0.16200515497748472, 0.3256978636526515, 0.007593991639569596, 0.05147038777930504, 0.02615708231407305, 0.35523005336208885, 0.11120189101800369, 0.20167122608349822, 0.0706791680199176, 0.13947355822597074, 0.14324311385369967, 0.04240750081195056, 0.26763844956875465, 0.02261733376637363, 0.7711886101568367, 0.006393783119922753, 0.09393942891578815, 0.044756481839459274, 0.0831191805589958, 0.2232987226699931, 0.001936116092514391, 0.12197531382840662, 0.05808348277543173, 0.050339018405374164, 0.08260761994728068, 0.08067150385476629, 0.021297277017658302, 0.2742831131062054, 0.08583448010147134, 0.06471954690496537, 0.4417365899862715, 0.09040190678788813, 0.12327532743802927, 0.15203957050690275, 0.05341930855647935, 0.032873420650141136, 0.027736948673556586, 0.013354827139119837, 0.1624535878903343, 0.02536946441027138, 0.08055917646068632, 0.29019106658766564, 0.4415176964033195, 0.2257647581143434, 0.07723932901004582, 0.020759977757640772, 0.3515457998224022, 0.18119186469352647, 0.009922048192990076, 0.0006105875811070816, 0.005953228915794045, 0.1268495699749962, 0.24532357742651736, 0.390984451523512, 0.20659862169492768, 0.15391695602961786, 0.003145174069570735, 0.21408236532583166, 0.18435645671148868, 0.13537150871320516, 0.08875905107381286, 0.03600603015258447, 0.1348132756875837, 0.20668577773634728, 0.1418137428822189, 0.03800237554360114, 0.4170992437712321, 0.22059915559456272, 0.011122646500566189, 0.0834198487542464, 0.020391518584371344, 0.06766276621177765, 0.40575070715765654, 0.02504633994800349, 0.08599243382147866, 0.03756950992200524, 0.4458248510744621, 0.19803226892266435, 0.12004610992214608, 0.1752497955067826, 0.3487470930584974, 0.1480860772032313, 0.00876248977533913, 0.31890299203106903, 0.11568386255594215, 0.0029178422306394905, 0.15275762266289097, 0.3319474631798103, 0.015104124488016185, 0.02317110006684301, 0.003947668900276958, 0.03552902010249262, 0.3482124800653509, 0.09864826942678435, 0.0003977752799467111, 0.06849690320682365, 0.3697719002384626, 0.039220642602745714, 0.031106026891832807, 0.02617361342049359, 0.017899887597602, 0.7138352454187222, 0.19994624744935058, 0.01447574642167244, 0.07147399795700767, 0.280069745547397, 0.3469890652799609, 0.13822366611427012, 0.002478493323428292, 0.13383863946512775, 0.005338293311999398, 0.017349453263998043, 0.032983026534853424, 0.025356893231997142, 0.017349453263998043, 0.10956742791078437, 0.010853377293049395, 0.46824570607155963, 0.050649094034230506, 0.15918286696472445, 0.08217557093308828, 0.07442315858091014, 0.030492821918567347, 0.01395434223392065, 0.04862731887481788, 0.16569308653641648, 0.06033389564097774, 0.5186914013313907, 0.09275210822418967, 0.10625969680052796, 0.0072040472407137604, 0.3947440288444546, 0.014000907359152487, 0.005709107855188393, 0.057362940830702425, 0.29660174619097796, 0.23162666155335765, 0.21748371717778653, 0.0863030623721375, 0.18209946160521015, 0.020712734969313, 0.10787882796517188, 0.008630306237213751, 0.33312982075645076, 0.04401456180979013, 0.06686841729143272, 0.3880394518578596, 0.11482455494488447, 0.05369736540069597, 0.10671929224289263, 0.13441227314136478, 0.0645043823366851, 0.041201752068458546, 0.029381577294720438, 0.056839018635116714, 0.22436454724388177, 0.2722289839892432, 0.21040408652648468, 0.03888985485560617, 0.19644362580908759, 0.18785256787682617, 0.0498680785858585, 0.7088045344630761, 0.0537413274080611, 0.2556938971284249, 0.08831532631080465, 0.6089552023716435, 0.04626040901994529, 0.28125473715806226, 0.015202958765300662, 0.22145643268121298, 0.0902042220074506, 0.2868291553720058, 0.053717120970729004, 0.05118329450984556, 0.25457732083233364, 0.10077878543484195, 0.016091597264928707, 0.07808550724071173, 0.08107689391175617, 0.07334054907284814, 0.1693743763398265, 0.026303572452287306, 0.10211975187358602, 0.09830315508639138, 0.3934816188282594, 0.0033847881189527688, 0.26909065545674515, 0.22254981882114455, 0.02623210792188396, 0.06431097426010261, 0.021154925743454806, 0.20716754159057116, 0.15863114613220877, 0.018941032373995078, 0.14837142026296143, 0.46563371252737895, 0.0011838145233746924, 0.18402516167798205, 0.3260640000605022, 0.06967943014991554, 0.004466630137815099, 0.08419597809781461, 0.3006042082749561, 0.007593271234285668, 0.0033499726033613237, 0.015186542468571335, 0.0049132931515966085, 0.023215239265732122, 0.24569461556233163, 0.15476826177154748, 0.051266986711825106, 0.4768797065835807, 0.015476826177154748, 0.02611714417394864, 0.005803809816433031, 0.07524220836887292, 0.11044727833962997, 0.060746003086796486, 0.4714718194122955, 0.13391732498680134, 0.0006902954896226874, 0.06350718504528724, 0.016567091750944497, 0.06695866249340067, 0.10262105498565846, 0.7620375370222163, 0.010160500493629552, 0.011176550542992505, 0.019304950937896147, 0.0030481501480888653, 0.013208650641718417, 0.021337051036622055, 0.05791485281368844, 0.027410899004869947, 0.21280825227417216, 0.08771487681558383, 0.38076230617673895, 0.09867923641753182, 0.12060795562142777, 0.0019935199276269054, 0.07027157744884842, 0.18853409297624663, 0.1636843271398359, 0.05726250388390299, 0.06212441459102683, 0.024309553535619192, 0.024309553535619192, 0.21608492031661505, 0.26362360278627034, 0.09380216980023512, 0.1222270697397003, 0.16270412725349873, 0.13530252371185428, 0.14212449969732593, 0.1010789441847382, 0.12825314852686692, 0.04150035391161917, 0.04684423510023863, 0.026264607544065833, 0.06716452654777451, 0.39104679901148715, 0.050746531169429634, 0.05149280368662713, 0.07462725171974946, 0.02611953810191231, 0.09179151961529183, 0.12761260044077158, 0.10373187989045175, 0.015671722861147385, 0.022241822753496756, 0.33807570585315067, 0.07683538769389789, 0.014962680761443272, 0.42542540975779247, 0.12233002514423216, 0.2984707760127702, 0.06321776853048258, 0.4751696208397748, 0.1632262056319837, 0.29612915694002495, 0.014837369032485592, 0.5842214056541202, 0.07109572661399347, 0.001854671129060699, 0.012982697903424894, 0.01916493500029389, 0.000201385172058641, 0.1484208718072184, 0.008055406882345639, 0.193531150348354, 0.008458177226462922, 0.6412103878347128, 0.018774507949364506, 0.21083265008002572, 0.01902821751624781, 0.3935035382360047, 0.3579841988723421, 0.1712153454521092, 0.345997677267804, 0.13031390181632754, 0.020212922726985112, 0.14077706181617866, 0.005231579999925559, 0.10439380090760547, 0.00023779909090570722, 0.004755981818114144, 0.07680910636254343, 0.20072194222521278, 0.12062616720265192, 0.4294291552414408, 0.10132598045022762, 0.036670354829606185, 0.013510130726697014, 0.07044568164634872, 0.005790056025727292, 0.020265196090045522, 0.1433619888987563, 0.4270095291662527, 0.017843337674094132, 0.17535693921092507, 0.07629565074440249, 0.08060266328642521, 0.06645105064835055, 0.012305750120064919, 0.01392778616604454, 0.3690863334001803, 0.13529849418443268, 0.054716302795174976, 0.0905306100792895, 0.003979367476012726, 0.011938102428038177, 0.26562277902384945, 0.05571114466417816, 0.2543040973322734, 0.39567190299213967, 0.026851985432600294, 0.3222238251912036, 0.12958617410007972, 0.1772227817622217, 0.09016277465554842, 0.1268484380275428, 0.12301560752599117, 0.21263083496703222, 0.0021901888580295164, 0.1385294452703669, 0.127723931713589, 0.0920363625583215, 0.06636635667470801, 0.33433617419145356, 0.2948920188093158, 0.07012294290157828, 0.004382683931348642, 0.01001756327165404, 0.15576953537722313, 0.004924221350175652, 0.09306778351831982, 0.13640093139986556, 0.06467144039897356, 0.020189307535720173, 0.12294139304271878, 0.015593367608889564, 0.1918804919451779, 0.19467088404361077, 0.2654195721619903, 0.0852214961153098, 0.17694638144132685, 0.01598749847632203, 0.08887965254633264, 0.030755611475636446, 0.09402816900480922, 0.01449713844886828, 0.08007297965683322, 0.1483585663692595, 0.15074423801728282, 0.1127517877852847, 0.24347849826097712, 0.011030066196386547, 0.13440339920782127, 0.011438587166623085, 0.28514763722510406, 0.05065660030933081, 0.2524977193977817, 0.40485398564779185, 0.08021406070778679, 0.041368257723512686, 0.08601570660803552, 0.011351046326573603, 0.07870058786424365, 0.03279191161010152, 0.007315118743791878, 0.005044909478477157, 0.37154692319808963, 0.015553127017594448, 0.062212508070377794, 0.45708912179485905, 0.0933187621055667, 0.04055449362430448, 0.001978267981673389, 0.5032713745377102, 0.01681527784422381, 0.14421573586399006, 0.07695462448709484, 0.10840908539570172, 0.008308725523028235, 0.04352189559681456, 0.05598498388135691, 0.15596592435344223, 0.39798201386740434, 0.2796630367716895, 0.16582583911141846, 0.0008963558870887484, 0.09273443102135871, 0.13960021874183032, 0.26922899328781563, 0.07378868704925318, 0.06980010937091516, 0.08475727566468269, 0.2702261377074001, 0.1343763951596642, 0.1922160847679281, 0.2300136493723982, 0.13666308056278162, 0.04075680453791618, 0.10881932300717553, 0.060529907729578475, 0.057839689608263876, 0.03699049916807574, 0.0018831526849202192, 0.41282615754858637, 0.08402070834722832, 0.10056021786439924, 0.08137438682448096, 0.1283465938532464, 0.19251989077986958, 0.21206995173342932, 0.16972712580007682, 0.002490754466667794, 0.08468565186670499, 0.005930367777780461, 0.3210701114890342, 0.17826685540008066, 0.01660502977778529, 0.00925137373333752, 0.46344194569110836, 0.009895557559240748, 0.39499767257302654, 0.13194076745654332, 0.14463834632684175, 0.14911394798676667, 0.24823215060168916, 0.09136777047212569, 0.10937933812792108, 0.055672118208822105, 0.07630355025091501, 0.03154753365166586, 0.03383991498967618, 0.05982023682045983, 0.14228132052380413, 0.42684396157141236, 0.10226469912648421, 0.06313733598243808, 0.13427799624434014, 0.0008892582532737758, 0.08536879231428247, 0.0329025553711297, 0.01244961554583286, 0.22084574176244262, 0.1601193593474051, 0.008427334702495005, 0.015367492692785008, 0.08352975866884754, 0.4786230385446428, 0.03147857374167252, 0.001735039497572501, 0.009992653764860079, 0.11914317950410094, 0.8708982088912669, 0.12067549269727361, 0.10126247865466872, 0.02046236615301596, 0.08604687305370814, 0.5902605621062297, 0.0813247885568583, 0.019876083708458482, 0.09938041854229242, 0.8805105082847108, 0.12279772659608607, 0.06641101540400574, 0.1591358293643156, 0.4623710317750588, 0.05763974921857101, 0.03007291263577618, 0.041976773887437584, 0.018169051384114777, 0.04072373586094691, 0.08582341603790057, 0.15336962310476676, 0.10489528626854515, 0.12396715649918971, 0.4275277576702825, 0.011125257634542666, 0.08423409351868019, 0.007151951336491714, 0.1355881809990667, 0.863940076365848, 0.004145487926112148, 0.06705936351063768, 0.45063892279148526, 0.08047123621276522, 0.057305274272726754, 0.12802242124758104, 0.1099773561574458, 0.009754089237910936, 0.04730733280386804, 0.04535651495628586, 0.2726204565738624, 0.16328070126348979, 0.0850420319080676, 0.12809759777695212, 0.11118638228894781, 0.10117572024719815, 0.08047405990843426, 0.04062579352865401, 0.0026241541274489434, 0.014773015828601459, 0.05270037244147651, 0.13977055299695945, 0.011456602704668807, 0.5976527744268895, 0.09508980244875109, 0.08592452028501606, 0.01298414973195798, 0.003818867568222936, 0.06305031164263926, 0.17125827892122286, 0.24794109037848683, 0.1218404670932083, 0.07668281145726397, 0.007668281145726397, 0.058790155450569044, 0.2530532778089711, 0.25517720799684745, 0.38740539759521386, 0.06031461279925485, 0.09975109039876764, 0.00023197927999713406, 0.0004639585599942681, 0.026445637919673283, 0.09418358767883643, 0.07585722455906284, 0.21186343638587288, 0.2684036786115506, 0.05177439805339838, 0.15933083585052096, 0.0069321369778608715, 0.0417011365074443, 0.026212142947536418, 0.1229371167167514, 0.09899958121507557, 0.012131239711256524, 0.012101865081290028, 0.05521475943338575, 0.23598636908515555, 0.0847130555690302, 0.16261881202983475, 0.0763930233256433, 0.3373394891409595, 0.03630559524387008, 0.17317979917758772, 0.1165983011965789, 0.12165022065916897, 0.06325003167162772, 0.08426601663600243, 0.1101318442844636, 0.1707548778355445, 0.11558791730406089, 0.04405273771378544, 0.3100215430992884, 0.000541758921973418, 0.07381465311887819, 0.19733568732881748, 0.00839726329058798, 0.09264077565745447, 0.06771986524667725, 0.24934454383826563, 0.18920123929611676, 0.08646098698235546, 0.05317893341592575, 0.04087904405441911, 0.09984616069928916, 0.04377313566889126, 0.13059588410305575, 0.0007235229036180374, 0.11974304054878519, 0.23514494367586214, 0.04552477109728035, 0.03319514559176692, 0.02750454920460688, 0.8004772251271796, 0.0047421636559667035, 0.08820424400098067, 0.24994302818497077, 0.033262380176707136, 0.052269454563396926, 0.0636736991954108, 0.37824078029512687, 0.10834032400413182, 0.11309209260080427, 0.384731893285095, 0.2204354087363061, 0.12360864041288193, 0.23073612877071292, 0.040172808134186624, 0.702579381267762, 0.162178257835922, 0.05618318217887297, 0.0787722966631621, 0.49257008926582835, 0.25734575023020073, 0.05530352798643282, 0.03613163828446945, 0.1268294241822193, 0.030969975672402384, 0.3174934975366836, 0.015529573249076915, 0.010353048832717943, 0.057804522649341855, 0.5711431939382733, 0.027608130220581183, 0.3284400221264505, 0.004953271795410506, 0.6305896016464914, 0.03543494438255208, 0.19008287642469357, 0.021518816199021913, 0.019469405132448398, 0.019725581515770085, 0.7244668120337378, 0.00870999703293744, 0.016139112149266433, 0.024613352765551683, 0.97450644838425, 0.0058227031861777445, 0.04075892230324421, 0.9533353125732834, 0.09812472994355477, 0.061824251814147226, 0.7254423676173789, 0.0005671949707719929, 0.11343899415439858, 0.1142466861983192, 0.06907939165479765, 0.26568996790306787, 0.072400516253586, 0.4789061671452799, 0.15360165521233535, 0.005956350907176342, 0.02689382682331136, 0.07508612052682903, 0.021839953326313253, 0.6945466148731686, 0.021839953326313253, 0.07303986321669455, 0.011017186071791914, 0.038356129286979256, 0.04121243678707346, 0.8046626271693946, 0.032235470358205974, 0.18608526756679547, 0.1219179339230729, 0.14116813401618966, 0.00030555873163677416, 0.14758486738056192, 0.0971676766604942, 0.2248912264846658, 0.001833352389820645, 0.07913971149392451, 0.2642596560437891, 0.15877329128556877, 0.13412355656543481, 0.16348574057030027, 0.042774539661408935, 0.20317906339169245, 0.023199750324831965, 0.010149890767113985, 0.044155271921274546, 0.013647993139303042, 0.024887516901082016, 0.863034860279457, 0.05459197255721217, 0.17268569662151634, 0.04583718170146103, 0.20578263446637793, 0.07173311214911425, 0.14554343797050015, 0.046945028993339244, 0.16880823109994259, 0.031712128730013826, 0.055253883682425835, 0.055530845505395394, 0.03276423321246839, 0.07356098811573547, 0.35934965458836293, 0.06764228792251538, 0.13634148659382006, 0.0883577385987857, 0.19848783862263106, 0.01521951478256596, 0.028536590217311177, 0.42132252047246405, 0.0029488890321782263, 0.0036861112902227826, 0.5717158611135535, 0.12263508120599015, 0.05092473711096201, 0.08755936942037856, 0.5752416732840301, 0.033776611349107456, 0.10626641570603808, 0.017667765936456206, 0.005716041920618185, 0.055285090358371015, 0.4422807228669681, 0.08916950057801776, 0.04815153031212959, 0.11235357072830238, 0.043693055283228706, 0.014267120092482842, 0.16585527107511303, 0.02942593519074586, 0.003435434466535528, 0.011680477186220794, 0.13741737866142112, 0.20475189420551745, 0.09138255680984504, 0.10581138156929426, 0.31399871024134723, 0.012367564079527901, 0.11955311943543637, 0.0021471622611446946, 0.4997520162814277, 0.10252699796965917, 0.0756874697053505, 0.1712361903262894, 0.059046962181479104, 0.045090407484038586, 0.028449899960167203, 0.016103716958585212, 0.171568273189633, 0.06608879911131271, 0.06214973161461195, 0.007002786660801347, 0.004376741663000842, 0.014880921654202862, 0.11598365406952231, 0.5580345620326074, 0.2772580710690951, 0.17217310623134388, 0.0065307040294647675, 0.017811010989449365, 0.061151137730442826, 0.46486738682462847, 0.10405757197838564, 0.04074981839713004, 0.13098155913363227, 0.7240369518775783, 0.00447705296885982, 0.17348580254331802, 0.0721924791228646, 0.05876132021628514, 0.1796417503755003, 0.41524666286174833, 0.04029347671973838, 0.0005596316211074775, 0.054843898868532796, 0.014702183662770743, 0.019722441498838804, 0.8229636952697282, 0.0007171796908668655, 0.059167324496516405, 0.0010757695363002983, 0.002868718763467462, 0.030480136861841787, 0.048409629133513425, 0.11709752366763165, 0.2204779088484836, 0.3173342891392818, 0.15356503818126552, 0.005018465300041357, 0.021746682966845877, 0.11274818707426248, 0.04048228675366694, 0.005520311830045492, 0.006022158360049628, 0.17564033239896315, 0.8135380570320134, 0.010485989993967949, 0.3442377500173877, 0.0014212954170825256, 0.6395829376871365, 0.014497213254241761, 0.18839854395098263, 0.06269806147641747, 0.1500492442129797, 0.017957211782080734, 0.16618029886467933, 0.0006087190434603639, 0.28396743377425976, 0.005478471391143274, 0.06178498291122693, 0.06300242099814767, 0.10719149127754092, 0.052106974926582394, 0.00893262427312841, 0.44117238771173095, 0.007443853560940342, 0.18212628379100704, 0.09677009629222445, 0.1037176929491021, 0.99882140572132, 0.06406639633532027, 0.08784361559378964, 0.3507139840624233, 0.07793644090276074, 0.06142448308437923, 0.1798702605015693, 0.056140656582497145, 0.016291798380803094, 0.09246696378293646, 0.01320956625470521, 0.1429497288573332, 0.2249104266902054, 0.11577216064643303, 0.14080976285647492, 0.1352458512542434, 0.05617410752252989, 0.05157318062068458, 0.058956063323645655, 0.029745527411930112, 0.04386930301759477, 0.20718880917473897, 0.016302409877840693, 0.12893724176110366, 0.154428282661, 0.10952255363385702, 0.18895975085678984, 0.06239376871428119, 0.056021008489307106, 0.03586530173124952, 0.040459617242277354, 0.13222315094603193, 0.10607592990609496, 0.26481806332865065, 0.12986866184764898, 0.09777325782232352, 0.07174995726124882, 0.018464151350476812, 0.10297791793453846, 0.054772851657119134, 0.02119040188544654, 0.08225681434931291, 0.5146462529355038, 0.018399550578135783, 0.13312616006533537, 0.16830177146471262, 0.05411632522981113, 0.023811183101116896, 0.005411632522981113, 0.1865841301777033, 0.3370552029016576, 0.07222611490749806, 0.29642801326618995, 0.1075868169976273, 0.12454711110138113, 0.13810325924847022, 0.12454711110138113, 0.4032954073759008, 0.06439170369867324, 0.06693348147625244, 0.0711697777722178, 0.0059308148143514825, 0.20784546606524984, 0.04926405757863904, 0.33935199993219534, 0.15288143488247075, 0.060053293329332715, 0.033792700653116035, 0.13802078941453416, 0.018932055185179465, 0.40723485825857736, 0.15163000041542776, 0.029088204161326955, 0.00990236737406875, 0.3868112255495606, 0.008664571452310157, 0.006807877569672266, 0.04709187899780757, 0.13432765484620518, 0.1543996032715002, 0.031651918670657544, 0.6098784329224258, 0.012351968261720017, 0.010035974212647514, 0.08826240393418924, 0.0029818379707496367, 0.06738953813894179, 0.05367308347349346, 0.06679317054479186, 0.23019789134187196, 0.33754405828885886, 0.1526701041023814, 0.14643716054875974, 0.1571645339377968, 0.25626503096032954, 0.08479733250381669, 0.0899056055462153, 0.011578752229436818, 0.12021469226444696, 0.03797149628182956, 0.09211919053125468, 0.00374606689775897, 0.27433313719985575, 0.2271343958887447, 0.012066992115138422, 0.04475479354095642, 0.11532378540417099, 0.044449300069687094, 0.04307457944897512, 0.09989636510506997, 0.13899952942754384, 0.0524213005059057, 0.5138875973836513, 0.16600078493536805, 0.14852701810006616, 0.08419178566100007, 0.03415327154172644, 0.20122272811986516, 0.1421956259357254, 0.02599845399571099, 0.2686064762311977, 0.027722841250528554, 0.08542349170019325, 0.03316129336187626, 0.1546642722397909, 0.008091355580297808, 0.05279277903210701, 0.1789630725379631, 0.09348599883594166, 0.09683518571012649, 0.24958723053707788, 0.032618167818147865, 0.11227056869550003, 0.05780987778484243, 0.09304914837409146, 0.030433915508896896, 0.0548975413725078, 0.004426314675003272, 0.537059513900397, 0.13647803581260087, 0.1630359238626205, 0.1158219006625856, 0.011065786687508178, 0.015492101362511449, 0.01696753958751254, 0.2755775447650705, 0.08282204554727074, 0.013059763669130517, 0.05025529310652756, 0.1258035462304851, 0.05918222017150285, 0.28880262189836725, 0.020498869556609924, 0.07571356658812375, 0.008430986672476663, 0.07749411813438181, 0.0006882248502165347, 0.11933818902754711, 0.10929010621438572, 0.07460357376347236, 0.009635147903031487, 0.13379091088209435, 0.007708118322425189, 0.34961822390999964, 0.11796173932711405, 0.4762684830526909, 0.17084580854996329, 0.278698190483739, 0.07444677691003987, 0.012726664950592015, 0.20180854421653052, 0.09332887630434145, 0.34725614365186785, 0.15696220105730152, 0.012726664950592015, 0.05211872313099587, 0.06908760973178522, 0.013332696614905921, 0.04060412150903167, 0.08188776177114736, 0.4277112846228523, 0.1076045795174581, 0.09136237883557763, 0.138735464157729, 0.14008898088121904, 0.01218165051141035, 0.12382045133195377, 0.22446056235641387, 0.06493374831478041, 0.15679124593081123, 0.16701363202914696, 0.09776056564464722, 0.06810124823257457, 0.0213086358106153, 0.012957954209157952, 0.0629180665489114, 0.2636412877613072, 0.29248846467701806, 0.04491395899534734, 0.011319778283380225, 0.0007303082763471113, 0.062076203489504454, 0.01752739863233067, 0.2336986484310756, 0.07339598177288469, 0.9994633728863249, 0.5542715289710692, 0.39221328389823024, 0.011315787685884026, 0.0020206763724792904, 0.02040883136204083, 0.019600560813049114, 0.45254952998049364, 0.5305168647336873, 0.016101949568594343, 0.05512448583092803, 0.21298096798313101, 0.12358265411122014, 0.08268672874639205, 0.1624203600375558, 0.10058428908110893, 0.08358160676312788, 0.0017002682317981048, 0.03158919399077532, 0.14559665332292193, 0.18566821023849467, 0.11201666255460202, 0.11059573237420538, 0.20023274458756027, 0.02912906869813118, 0.19845658186206447, 0.024274223915109316, 0.12089747618208103, 0.018590503193522744, 0.09506737817488485, 0.05745505098419832, 0.12142562321402738, 0.23722420535228275, 0.06693217279602486, 0.2866829348077524, 0.0352430467377299, 0.09980593908079811, 0.000296160056619579, 0.43398039339075556, 0.1580491975930116, 0.1458243977791875, 0.17813279728715117, 0.011351599827122378, 0.05763119912231361, 0.014844399773929264, 0.45295584410498235, 0.10502559041874919, 0.038131150290224264, 0.05304056199539846, 0.07903307620707382, 0.002111067144095461, 0.06333201432286384, 0.07454705852587097, 0.11914335194488758, 0.012666402864572766, 0.6994749641985324, 0.05163255306757969, 0.19289142466756187, 0.05650354863999287, 0.21929627823396694, 0.0735173363782794, 0.06244407297968762, 0.048973505133978044, 0.08972768073498075, 0.023402257698054776, 0.08436228506762185, 0.2387030285201587, 0.08675958951473965, 0.07271823489590679, 0.14532486736014655, 7.422107628199517e-05, 0.0023750744410238455, 0.002523516593587836, 0.00022266322884598552, 0.011652708976273242, 0.5185084389060183, 0.30816590872284394, 0.011133161442299276, 0.009925856906848265, 0.9892770717158771, 0.34447425548083876, 0.06491163700709596, 0.4558567235271057, 0.00036881611935849976, 0.13424906744649392, 0.25908807078603374, 0.013208411451837014, 0.0030480949504239265, 0.09347491181300041, 0.5882823254318178, 0.04267332930593497, 0.35441248194236685, 0.05513083052436818, 0.09379401037262639, 0.08735014706458336, 0.0544148457123634, 0.04224310390828211, 0.3121693780340848, 0.6923597529276858, 0.0787926898486208, 0.014293726344352498, 0.03413956126874274, 0.012167386888167828, 0.0012994296676684088, 0.165263827733464, 0.0015356896072444832, 0.032423571002636285, 0.025074228242038726, 0.042799113723479894, 0.6571177056534286, 0.02031877116165207, 0.22220953993806733, 0.07476232080311573, 0.2847009590179256, 0.049841547202077154, 0.08986581995526033, 0.41761175155679797, 0.05059672215968439, 0.03247252317711088, 0.10797221245037494, 0.26075642157133033, 0.22000220412682606, 0.05072224032595228, 0.13487705297109745, 0.0326386589923519, 0.12102767604731571, 0.0007057007349697709, 0.022405998335290226, 0.04895798848852785, 0.024058165223587072, 0.2297385355153808, 0.14367129654649183, 0.32190502763954537, 0.07725720663349088, 0.027446639198740182, 0.058959447167664096, 0.07895144362106744, 0.002033084385091865, 0.03591782413662296, 0.16789706391865586, 0.3658888845774481, 0.4656767621894794, 0.0009895852349231405, 0.4769800832329537, 0.5056780550457248, 0.014843778523847108, 0.1676235258744124, 0.020704093457172078, 0.007564957224735952, 0.2058464676414993, 0.03782478612367976, 0.5092410679177517, 0.05136207799952304, 0.2290354444701273, 0.011108421028092593, 0.17268545416398487, 0.0022216842056185186, 0.5499678265362933, 0.0026256267884582495, 0.014541932982230305, 0.01777347364494815, 0.12642849521029273, 0.41389440331414273, 0.17410404508009586, 0.04520348432099852, 0.04308457099345171, 0.02648641659433507, 0.0381404398958425, 0.05014761541860773, 0.05579805095873255, 0.026839568815592872, 0.32959343006153, 0.22176638304187588, 0.004858486130246044, 0.14998616860146657, 0.1120586317137394, 0.0028210564627235094, 0.06723517902824364, 0.044980178044535954, 0.02868074070435568, 0.03792753688772718, 0.1278528371636413, 0.09679254338942335, 0.08812455442917648, 0.130019834403703, 0.130019834403703, 0.004333994480123433, 0.18925109229872325, 0.2340357019266654, 0.3340909409256282, 0.1769388240665343, 0.07293177336075786, 0.016615760539581356, 0.07927366669647594, 0.007102920536004244, 0.07483434136147328, 0.0031709466678590376, 0.13127719204936417, 0.10375337497234771, 0.022652618193963314, 0.049292775920197325, 0.3518367327729059, 0.0034784919324063516, 0.1902141198159766, 0.02443428479348852, 0.15424142275889627, 0.11232983703673194, 0.09162856797558194, 0.017925039839147134, 0.5019011154961198, 0.006970848826334997, 0.024895888665482133, 0.4202426006733384, 0.026887559758720703, 0.13656950897373732, 0.06438276851619044, 0.09364766329627701, 0.4672628199887155, 0.09657415277428567, 0.06926025097953821, 0.059505286052842686, 0.011705957912034626, 0.13907586288669682, 0.14277468902730048, 0.13167821060548954, 0.0038467791862277848, 0.09809286924880851, 0.014795304562414556, 0.11096478421810917, 0.00665788705308655, 0.26483595166722057, 0.08744024996387002, 0.027016812755985383, 0.001125700531499391, 0.1739207321166559, 0.025891112224485993, 0.15872377494141413, 0.5521561107004512, 0.043339470462726556, 0.016885507972490863, 0.31371668328902413, 0.3916163248259086, 0.004942273330134663, 0.049658079650400665, 0.04424511362215794, 0.026123444744997507, 0.08684280280093766, 0.005412966028242727, 0.06401420694269659, 0.013179395547025768, 0.1980785279701392, 0.17823760697146082, 0.25677458592456276, 0.0924256236521768, 0.09804721793513568, 0.0003306820166446397, 0.011077847557595432, 0.05786935291281195, 0.1015193791099044, 0.005621594282958876, 0.002187480135178102, 0.1852066514450793, 0.07364516455099611, 0.3740591031154555, 0.11010316680396447, 0.02260396139684039, 0.08312424513676787, 0.1254155277502112, 0.024062281486959124, 0.17311900146667827, 0.0934419075194762, 0.08444183710683544, 0.1204421187573985, 0.4468270251922828, 0.08126534166707987, 0.07934418752806022, 0.39201208378106905, 0.10194668605237411, 0.05627080361782312, 0.11842767455968632, 0.09865048835091167, 0.021896170445429082, 0.026134138918737934, 0.10547832644679815, 0.07395232068008231, 0.42610622868047426, 0.0035215390800039195, 0.024650773560027435, 0.33542659737037334, 0.008803847700009798, 0.04666039281005193, 0.04578000804005095, 0.03609577557004017, 0.36230504155176896, 0.20996980527541903, 0.05549201996564646, 0.038994392408292104, 0.15726309905322203, 0.033852274728077766, 0.07241815732968535, 0.0696328435862359, 0.08605968477352925, 0.08803806833154143, 0.1493679586299186, 0.043524438276267674, 0.023740602696146, 0.14541119151389426, 0.40359024583448205, 0.047481205392292, 0.004945958895030417, 0.007913534232048668, 0.08020371023046179, 0.1335896946451393, 0.24148426595050393, 0.14207158001943387, 0.13371442825358482, 0.09829008345506049, 0.0652356772170008, 0.03218127097894112, 0.037170615316761454, 0.03604801284075188, 0.30319749716655203, 0.6412119318067752, 0.03554229033770586, 0.019584527328939963, 0.024956781604252604, 0.15990826731613705, 0.04251896125168962, 0.3632598211285657, 0.25141646653172994, 0.15805961682693315, 0.266535547159335, 0.22072102159568924, 0.1864794360832769, 0.033525733550480365, 0.028276152496312622, 0.00035792598096598253, 0.17037276693980768, 0.02111763287699297, 0.022072102159568924, 0.05058687197652553, 0.4376678111591652, 0.07369223760366618, 0.10778290752118827, 0.0426774176035145, 0.09817087652940572, 0.06689973570280651, 0.07702440834748413, 0.009868351818230078, 0.05921011090938048, 0.027041847190214893, 0.3686032182578794, 0.1909697683973599, 0.13580949231894893, 0.054528971058915576, 0.054371144804041725, 0.06723398457626059, 0.04553287453110606, 0.019175889967172916, 0.06289376256722969, 0.0009469575292431069, 0.14132269358286395, 0.4050067411601441, 0.09228474637136126, 0.15570715809823807, 0.032598559193932265, 0.09891654494663114, 0.0038296301631840198, 0.04735664616425117, 0.020082206953282056, 0.0028021684120858683, 0.30057260700353094, 0.21182622077073585, 0.11725430359807847, 0.09469586463946295, 0.04920714432181517, 0.0736247952825144, 0.008800270143196164, 0.0913492830357123, 0.04982688165584307, 0.0029747392033339145, 0.02333889905763605, 0.08437909659299186, 0.052512522879681105, 0.018850649238859884, 0.013015924474450873, 0.7576165694094162, 0.050268397970293026, 0.16969578432092308, 0.4361181657047723, 0.05995917712672615, 0.13971619575756, 0.06561570327075693, 0.007919136601643078, 0.12161531209666154, 0.18528300554802377, 0.07610775015428738, 0.034642148346089426, 0.0824063225808491, 0.035691910417183045, 0.026768932812887284, 0.14014323649099814, 0.3096798109726176, 0.10865037435818957, 0.17822622026553625, 0.09620383072397763, 0.010731901435344119, 0.11958404456526303, 0.029129446753076892, 0.03679509063546555, 0.006132515105910925, 0.14986333790069822, 0.34188771715453403, 0.03142913991779349, 0.39148519881887656, 0.18649200397420965, 0.02368152431418535, 0.08066519219519384, 0.10212657360492433, 0.16503062256447917, 0.0014800952696365844, 0.048843143898007285, 0.32122105455147315, 0.09797242163819932, 0.033085768618801734, 0.07532633729232045, 0.16205602202121822, 0.023930968564084748, 0.1418190955844754, 0.017024715891228077, 0.06970496883766968, 0.057819789819265166, 0.39783853443867506, 0.10670218803978884, 0.07859247183575845, 0.01548902729609838, 0.06224294302321015, 0.0203652025559812, 0.3003150292410186, 0.018357365684264746, 0.16318901734603744, 0.5165695513111976, 0.2794171663910569, 0.04109075976339072, 0.33133986178527075, 0.045006351249521556, 0.001551943146535226, 0.0954445035119164, 0.12105156542974763, 0.40505716124569396, 0.5605709608185783, 0.07115308936633755, 0.07115308936633755, 0.27403554688386755, 0.021153621162965215, 0.0028845847040407115, 0.17199542104702914, 0.19268659951885217, 0.13901885535756114, 0.0006465993272444704, 0.3342918521853912, 0.08470451186902563, 0.027803771071512228, 0.01681158250835623, 0.03232996636222352, 0.16066419062589835, 0.0307470553488916, 0.40057783377077083, 0.08791059487077457, 0.10350065110401538, 0.05110073987562266, 0.03377845517202176, 0.040274311935872095, 0.07405276710789385, 0.01775534182119092, 0.35789668258161794, 0.04737809393745926, 0.03969515978543884, 0.014085379278704104, 0.4264028454371333, 0.10564034459028078, 0.0012804890253367367, 0.0057622006140153155, 0.19999088585431626, 0.0884678181393088, 0.03217011568702138, 0.07881678343320239, 0.1989185486647489, 0.06541256856361015, 0.33564154033458976, 0.30552255219084573, 0.26007699875259543, 0.011114401656093821, 0.0713791573024692, 0.351956052442971, 0.004675630528598301, 0.43366473152749235, 0.004091176712523513, 0.178842867718885, 0.11163067887028442, 0.1168907632149575, 0.1502046307312204, 0.27056784385697, 0.01731032102561978, 0.01542876439240024, 0.48920472463708076, 0.07977800124850855, 0.08429373716823546, 0.035373264704527375, 0.007902537859522074, 0.18536641908815685, 0.3164522333835666, 0.058342418756830244, 0.06517365133278821, 0.1731809771959075, 0.05132655827341395, 0.06461976761041324, 0.0321252558977483, 0.03064823263808171, 0.02289386052483212, 0.14236035536355754, 0.008977680067972097, 0.34008307114627634, 0.05258355468383657, 0.2847207107271151, 0.04104082316787244, 0.03911703458187842, 0.09127308069104965, 0.20015372447041563, 0.24344766971502532, 0.06049844214218778, 0.004442475724726739, 0.0476556486834323, 0.060902303571708394, 0.21921598394378855, 0.03319740950659436, 0.02520095320208623, 0.10532706081897579, 0.18029387221087395, 0.4088489178196396, 0.04839827900413574, 0.10680526726408426, 0.0001371056062440106, 0.0478498565791597, 0.0568988265912644, 0.11736239894487308, 0.0026050065186362017, 0.030711655798658376, 0.2529143365386291, 0.2391102334374749, 0.11825193216023688, 0.05927076436439628, 0.09595299638144936, 0.18514873949659946, 0.049327948843984525, 0.28547423831358565, 0.0422180211590514, 0.008041527839819314, 0.18870176124121457, 0.028510871432086658, 0.16174436677818393, 0.28538285731540586, 0.3015499147764941, 0.05981276195130266, 0.10236903023450333, 0.18499546178092388, 0.03860774854558412, 0.2138050317183484, 0.06346879874539207, 0.007750798003469539, 0.0276396381633159, 0.25655524021708426, 0.06320926208247003, 0.006653606534996846, 0.06242648484305864, 0.07788633532143367, 0.49804201857549923, 0.001956943098528484, 0.03326803267498423, 0.14109420199714165, 0.07589698226742098, 0.08559810030160261, 0.10414435536694984, 0.14209284650066034, 0.371638418809458, 0.034096576620138375, 0.03737783713169981, 0.006847848024128209, 0.001141308004021368, 0.15080051785060256, 0.2804160686919815, 0.27426559439898107, 0.08314530062759808, 0.07380569151600487, 0.07574195194157907, 0.008428427734852409, 0.02175445536968662, 0.03154965516965023, 0.08876171720411219, 0.49168007395086866, 0.0019946453304294873, 0.11768407449533975, 0.14261714112570836, 0.08576974920846796, 0.05385542392159616, 0.017951807973865388, 0.1695305902498114, 0.01760153669260337, 0.2918149504300033, 0.05373100674584187, 0.4669039206880052, 0.1723392775581438, 0.1242143472211527, 0.19380039514085604, 0.03967055068319536, 0.11641030446380278, 0.04487324585476197, 0.3089100258117672, 0.06213217222197459, 0.03550409841255691, 0.19732085463901822, 0.017069278082960052, 0.17342386532287413, 0.37825520231839477, 0.06622879896188501, 0.021165904822870465, 0.04915952087892495, 0.1978529888217582, 0.008644653665442974, 0.27894227531732185, 0.04699769457550687, 0.09594348011787412, 0.058686240376669196, 0.16997093685856887, 0.0170457959600284, 0.053816012959518225, 0.07220112145926315, 0.10707486807461884, 0.18317363536227507, 0.23543056129618642, 0.2693335377480589, 0.008353790960263544, 0.0056708216007628435, 0.06737911686927894, 0.10859928248342607, 0.01256117472857146, 0.0024390630540915455, 0.19279231918997145, 0.3094557396722078, 0.009373608160353408, 0.18696548168488691, 0.0010133630443625306, 0.05345490059012349, 0.11983017999586924, 0.09322940008135282, 0.027740813339424276, 0.006080178266175184, 0.5767393531096001, 0.422422607277572, 0.12186603940449779, 0.03827843545397687, 0.04218439825540308, 0.7601003611575406, 0.0351536652128359, 0.0015623851205704845, 0.07037968044070796, 0.4748078441326022, 0.12851941645694495, 0.05966972906929587, 0.09740955771141463, 0.04079981474823649, 0.043349803170001276, 0.038759824010824666, 0.045899791591766055, 0.25933958045139066, 0.40660275930067286, 0.13553425310022427, 0.031928742316879755, 0.15377924870986986, 0.0032580349302938527, 0.009774104790881559, 0.060072709916700766, 0.4187550216821112, 0.16311713933585903, 0.07454277872875278, 0.09076679527559897, 0.042094745635060396, 0.08287403046902515, 0.04823356270684003, 0.01973191201643456, 0.42800683285130287, 0.19732012673991606, 0.04962643530883726, 0.07029000222924048, 0.11737583504786422, 0.120593931535468, 0.016767976435409174, 0.18846584845485617, 0.46866965572989694, 0.0855965055100467, 0.011515224956508524, 0.055273079791240916, 0.08444498301439585, 0.02149508658548258, 0.06755598641151668, 0.01688899660287917, 0.055087760422155206, 0.4597324006139862, 0.05809254735427276, 0.13321222065721167, 0.13621700758932923, 0.026041486745018824, 0.015023934660587783, 0.06009573864235113, 0.034054251897332306, 0.024038295456940452, 0.30033529352338467, 0.15086900058673397, 0.07122637734311717, 0.038964101391201954, 0.24079814659762808, 0.003974338341902599, 0.06670654158173774, 0.0028833435029489447, 0.0899291460108941, 0.03436633742704012, 0.046020701715833785, 0.08768154747964121, 0.0777507644778034, 0.6554316781212959, 0.027612421029500272, 0.04384077373982061, 0.007024212367153578, 0.05425598518077246, 0.05560210466232261, 0.38372535287660225, 0.19026898554033644, 0.08871545998669945, 0.07764816208416708, 0.13103680716598323, 0.011332913052193144, 0.016025447362866867, 0.045508728975213096, 0.023974441722353378, 0.7800255860379974, 0.19607668408639012, 0.3201401952305171, 0.3832033337958396, 0.13474145999476014, 0.021710260817570052, 0.08925329447223243, 0.000689214629129208, 0.023088690075828467, 0.0062029316621628715, 0.020676438873876237, 0.13889407455582214, 0.45098399916505816, 0.3452670517298575, 0.02108715706819162, 0.017432049843038408, 0.026429236858800168, 0.4504790225970507, 0.12736315600378662, 0.11608879102679771, 0.04286736573668304, 0.11224807328738391, 0.0713630134807209, 0.040017800962279255, 0.0396461186004005, 0.37343593223608523, 0.18357640560544936, 0.16472704252988982, 0.03414739687601365, 0.12402334545368156, 0.04889907232645154, 0.04152323460123259, 0.004917225150145965, 0.024859304925737933, 0.014014666626504576, 0.9220175412174063, 0.021390806956243825, 0.042043999879513724, 0.34430927187914795, 0.003029636450282358, 0.0037424920856429125, 0.011583904074609014, 0.2810433342408987, 0.12872984681886018, 0.014435326616051234, 0.060295705824246926, 0.007603793443845918, 0.14518493106843297, 0.22250402708237274, 0.04622064330696632, 0.027230766599453025, 0.0007165991210382375, 0.503769182089881, 0.0025080969236338313, 0.10856476683729299, 0.0343967578098354, 0.04908703979111927, 0.004299594726229425, 0.1639099022892738, 0.04570564583066289, 0.28841838575901063, 0.0325718395574839, 0.10034227992708748, 0.0819549511446369, 0.026267612546357982, 0.07460001963165666, 0.1859746968282145, 0.17585198752338005, 0.06526465516331631, 0.21324319621069668, 0.008158081895414539, 0.08520663312988518, 0.004985494491642218, 0.238850508826859, 0.019941977966568873, 0.18854233713846932, 0.10399900464126512, 0.01678115573829331, 0.8092491550111182, 0.06999508380314447, 0.18701495269887677, 0.12257534352922635, 0.006303874810074498, 0.01050645801679083, 0.05953659542848137, 0.6128767176461317, 0.3174090009354704, 0.18370535757845496, 0.037462099369667864, 0.06410878092968267, 0.10940813958170782, 0.10956488476735497, 0.054860814976501054, 0.0819777320934573, 0.0379323349266093, 0.003605139269884355, 0.2219184672811105, 0.061597141108445115, 0.15441475099788296, 0.06075334465490478, 0.32486163461303247, 0.03122046878099273, 0.14091400774123747, 0.0033751858141613765, 0.16206741326944218, 0.40287752785513686, 0.006618459808909157, 0.0826458955625323, 0.0071275721019021685, 0.02901940070060169, 0.19193533445836555, 0.016461297473440724, 0.030886145774909397, 0.07025749643303567, 0.06899408026032236, 0.16319066134112517, 0.2057310527969716, 0.06550862801919209, 0.16828478384739248, 0.029849770475320815, 0.1661398901605431, 0.004647269654840366, 0.08257840694370189, 0.04522150856440818, 0.13864815823643376, 0.03861889339005689, 0.11522358355721891, 0.004431676290662266, 0.02469076790511834, 0.13231719210691623, 0.07913707661896904, 0.46659220374544147, 0.11642071607762523, 0.5130404437319078, 0.027625254662487345, 0.019403452679604204, 0.038149161200577764, 0.08616448478061528, 0.19929648006508727, 0.03349374270858024, 0.206393873988008, 0.3018963025219327, 0.023309834452593006, 0.10591264586226726, 0.09120255615917458, 0.23762452597303552, 0.42708520753831686, 0.10267300948900951, 0.006902387192538454, 0.19240404299200942, 0.049179508746836485, 0.09490782389740374, 0.044865516751499954, 0.08282864631046145, 0.5134290580118214, 0.0917694461165989, 0.1007664506378341, 0.19433529765868005, 0.06837723436138742, 0.031189615673615313, 0.21164087941985565, 0.23853172056967262, 0.37049603361970024, 0.17927227433211304, 0.12659316550931826, 0.09821883530895383, 0.23863539245434706, 0.010185656995002618, 0.11349732080145775, 0.006547922353930255, 0.06475167661108808, 0.3383093216197298, 0.0014550938564289455, 0.3443855457115514, 0.018699667640446227, 0.11843122838949278, 0.033243853583015515, 0.007272092971284645, 0.048826909950054044, 0.048826909950054044, 0.340749499225909, 0.03999651134206554, 0.13026680009598118, 0.20803802403388041, 0.12151753740296753, 0.34024910472830905, 0.003888561196894961, 0.007777122393789922, 0.07874336423712296, 0.1088797135130589, 0.11363528305189645, 0.04761254876476108, 0.18156251928962225, 0.060309228435364036, 0.4069285834428247, 0.023488857390615465, 0.11934878890366778, 0.04634288079770078, 0.25134658232327184, 0.036864165407413205, 0.02806703502609869, 0.06409337849243432, 0.01759426076262903, 0.4654100882685917, 0.0012567329116163592, 0.06660684431566703, 0.06870139916836097, 0.01634784706665329, 0.13041949104285624, 0.2553896997301614, 0.0029062839229605847, 0.021433843931834312, 0.22487371853907523, 0.30879266681456213, 0.03996140394070804, 0.07272773171321648, 0.005303063770755368, 0.012878869157548751, 0.1166674029566181, 0.01742435238962478, 0.006818224848114045, 0.7484895722151862, 0.018939513466983457, 0.09066445547052294, 0.4255047739696134, 0.22666113867630738, 0.00927250112766712, 0.07521028692441108, 0.05872584047522509, 0.11333056933815369, 0.5443443526700352, 0.04730825507253331, 0.2407331460652961, 0.03832567499547003, 0.06527341522665989, 0.06407573788305146, 0.051837851957211536, 0.09045531214010066, 0.35022441367064616, 0.1128372034773307, 0.08187365432168085, 0.10947412135930132, 0.0449957193722552, 0.07630717357459774, 0.07166843961869514, 0.010321183051883282, 0.18981142886102412, 0.19961316658089667, 0.07219057622255344, 0.000933498830464053, 0.04994218742982684, 0.4186742254631278, 0.06596725068612641, 0.002800496491392159, 0.2860486047687366, 0.08138284248349972, 0.583377999584691, 0.04834624305950478, 0.020545869196529162, 0.4768353809361143, 0.0042803894159435755, 0.2850739351018421, 0.15323794109077998, 0.03937958262668089, 0.0042803894159435755, 0.017121557663774302, 0.02072382944504175, 0.07964452100447417, 0.03982226050223708, 0.004876195163539235, 0.01097143911796328, 0.5989593059214027, 0.23426054264836407, 0.010768264319482477, 0.18791865961813836, 0.098542711750975, 0.05041720136096395, 0.1452932075584143, 0.368962246323418, 0.06737571454601546, 0.02383358609791023, 0.051333877749345114, 0.005958396524477557, 0.36373907156471263, 0.0896479551380011, 0.15870690622516942, 0.01587069062251694, 0.11066589677322625, 0.261222988894941, 0.05367185590997079, 0.011278868270935891, 0.4589332606794604, 0.0692289155940203, 0.18046189233497426, 0.060283606275691834, 0.07972993088075371, 0.028391633923390346, 0.04589332606794604, 0.012445647747239604, 0.0383830429442688, 0.11536972103363552, 0.00044118440165826205, 0.13676716451406123, 0.01500026965638091, 0.005514805020728275, 0.009485464635652634, 0.6304525099696565, 0.048530284182408824, 0.025317586234224733, 0.08179527860287991, 0.09514960980335009, 0.045349083034930016, 0.5389029069856407, 0.14495013657177017, 0.02142257296742093, 0.04729658966833192, 0.17060723432078453, 0.027406055725998368, 0.18167855484585674, 0.08076619071569055, 0.00544491173364206, 0.08584810833375647, 0.09691942885882866, 0.15209453442640153, 0.18367502248152548, 0.015427249911985836, 0.318334557389503, 0.4923799062267974, 0.04828354838712039, 0.01684309827457688, 0.014035915228814064, 0.06624951988000238, 0.043792055513899884, 0.1744764027120777, 0.3373539497983172, 0.10784467890407066, 0.07033348624178522, 0.12487278609945024, 0.005676035731793193, 0.09501190246697301, 0.019002380493394602, 0.034302998553011034, 0.030848020281484742, 0.9993314674077188, 0.2621697583738658, 0.3319618324546892, 0.03546810322140205, 0.05753351305960148, 0.08662716454996813, 0.03693913054394868, 0.07077275896252114, 0.03612189314253388, 0.06014867274412882, 0.02222885731848239, 0.28745960186744457, 0.002337069933881663, 0.19942996769123528, 0.028823862517873847, 0.06777502808256823, 0.3108303012062612, 0.016359489537171642, 0.007790233112938878, 0.07946037775197655, 0.2066127794217178, 0.0015304650327534653, 0.19589952419244355, 0.4086341637451752, 0.09259313448158464, 0.08264511176868712, 0.01147848774565099, 0.41432389239976075, 0.16595534654704314, 0.016934219035412566, 0.14619875767239512, 0.05531844884901438, 0.07225266788442694, 0.09765399643754578, 0.030481594263742615, 0.017319355554187368, 0.0016262305684682974, 0.1548171501181819, 0.18075552768525124, 0.09049973113526075, 0.1165194202307535, 0.17376273624083757, 0.028215100362924957, 0.16457453352899168, 0.07196070265472215, 0.1482354592548955, 0.12757741031918501, 0.2480361686402536, 0.12869406161300723, 0.07816559056755319, 0.069651124452159, 0.048155587046081874, 0.05038888963372625, 0.09044875479959726, 0.01060818729131079, 0.07081126204714175, 0.004643361445714212, 0.006384621987857043, 0.6407838795085614, 0.2710562243935672, 0.006384621987857043, 0.06889828880599042, 0.00798345251244016, 0.03412105731344287, 0.002077884900498124, 0.01848223937811489, 0.0022966096268663473, 0.08060006166669037, 0.4734296702240199, 0.312120184527455, 0.057031451160006776, 0.030215338362917496, 0.06911758650517377, 0.016240744370068155, 0.4562516092800542, 0.05816452634861618, 0.08762448125246074, 0.20357584222015662, 0.021906120313115184, 0.42491487909823994, 0.09782484772128369, 0.24286245978681625, 0.07289650814752027, 0.1616565051147082, 0.04798051837195205, 0.47060344047010505, 0.14854242674056387, 0.06112586587111699, 0.11107818636794378, 0.015117149624039686, 0.025633427623371643, 0.11830812749248451, 0.0013145347499164946, 0.15535545634005274, 0.15945482223806495, 0.15850881472313907, 0.17343471106974764, 0.0877684749959026, 0.07883395957715802, 0.029010897124394152, 0.11457202125213632, 0.03510738999836104, 0.00798850790381868, 0.0004598993715135544, 0.1756815599181778, 0.09611896864633288, 0.21523290586834345, 0.049669132123463876, 0.11451494350687505, 0.02391476731870483, 0.24466646564521094, 0.04507013840832833, 0.034492452863516584, 0.2589586653677636, 0.055045203572230895, 0.06674011104045248, 0.1508027541954888, 0.050208963641763325, 0.1694442608365638, 0.02110359242385849, 0.15106654910078704, 0.035788175485460025, 0.040976141956325235, 0.2870055076152138, 0.7120107135822856, 0.1620615532199265, 0.0606923745126418, 0.045196449105158784, 0.03615715928412703, 0.12784138461173486, 0.18917942268302176, 0.14591996425379836, 0.23243888111224517], \"Term\": [\"000\", \"000\", \"000\", \"000\", \"000\", \"000\", \"000\", \"000\", \"1978\", \"1978\", \"1978\", \"1978\", \"1978\", \"435\", \"435\", \"access\", \"access\", \"access\", \"access\", \"access\", \"access\", \"access\", \"access\", \"action\", \"action\", \"action\", \"action\", \"action\", \"action\", \"action\", \"action\", \"action\", \"actively\", \"actively\", \"actively\", \"actively\", \"actively\", \"actively\", \"actively\", \"actively\", \"acts\", \"acts\", \"acts\", \"acts\", \"acts\", \"acts\", \"acts\", \"acts\", \"acts\", \"acts\", \"afghan\", \"afghan\", \"afghan\", \"afghan\", \"afghanistan\", \"afghanistan\", \"afghanistan\", \"afghanistan\", \"afghanistan\", \"afghanistan\", \"africa\", \"africa\", \"africa\", \"africa\", \"africa\", \"africa\", \"africa\", \"africa\", \"african\", \"african\", \"african\", \"african\", \"african\", \"african\", \"african\", \"african\", \"african\", \"agenda\", \"agenda\", \"agenda\", \"agenda\", \"agenda\", \"agenda\", \"agenda\", \"agenda\", \"agenda\", \"agenda\", \"aggression\", \"aggression\", \"aggression\", \"aggression\", \"aggression\", \"aggression\", \"aggression\", \"agreement\", \"agreement\", \"agreement\", \"agreement\", \"agreement\", \"agreement\", \"agreement\", \"agreement\", \"agreement\", \"agreement\", \"aimed\", \"aimed\", \"aimed\", \"aimed\", \"aimed\", \"aimed\", \"aimed\", \"aimed\", \"aimed\", \"aligned\", \"aligned\", \"aligned\", \"aligned\", \"aligned\", \"aligned\", \"aligned\", \"aligned\", \"america\", \"america\", \"america\", \"america\", \"america\", \"america\", \"america\", \"america\", \"america\", \"american\", \"american\", \"american\", \"american\", \"american\", \"angola\", \"angola\", \"angola\", \"angola\", \"angola\", \"anti\", \"anti\", \"anti\", \"anti\", \"anti\", \"anti\", \"anti\", \"anti\", \"apartheid\", \"apartheid\", \"apartheid\", \"apartheid\", \"apartheid\", \"apartheid\", \"appeal\", \"appeal\", \"appeal\", \"appeal\", \"appeal\", \"appeal\", \"appeal\", \"appeal\", \"appeal\", \"arab\", \"arab\", \"arab\", \"arab\", \"armaments\", \"armaments\", \"armaments\", \"armaments\", \"armaments\", \"armaments\", \"armaments\", \"arms\", \"arms\", \"arms\", \"arms\", \"arms\", \"arms\", \"arms\", \"arms\", \"arrangements\", \"arrangements\", \"arrangements\", \"arrangements\", \"arrangements\", \"arrangements\", \"asia\", \"asia\", \"asia\", \"asia\", \"asia\", \"asia\", \"asia\", \"asia\", \"asian\", \"asian\", \"asian\", \"asian\", \"asian\", \"asian\", \"aspects\", \"aspects\", \"aspects\", \"aspects\", \"aspects\", \"aspects\", \"aspects\", \"assistance\", \"assistance\", \"assistance\", \"assistance\", \"assistance\", \"assistance\", \"assistance\", \"assistance\", \"assistance\", \"assistance\", \"authorities\", \"authorities\", \"authorities\", \"authorities\", \"authorities\", \"authorities\", \"authorities\", \"authority\", \"authority\", \"authority\", \"authority\", \"authority\", \"authority\", \"authority\", \"authority\", \"authority\", \"ban\", \"ban\", \"ban\", \"ban\", \"bank\", \"bank\", \"bank\", \"bank\", \"bank\", \"bank\", \"bank\", \"basis\", \"basis\", \"basis\", \"basis\", \"basis\", \"basis\", \"basis\", \"basis\", \"basis\", \"basis\", \"billion\", \"billion\", \"billion\", \"billion\", \"billion\", \"billion\", \"billion\", \"billion\", \"body\", \"body\", \"body\", \"body\", \"body\", \"body\", \"body\", \"body\", \"bosnia\", \"bosnia\", \"boutros\", \"boutros\", \"cambodia\", \"cambodia\", \"cambodia\", \"cambodia\", \"cambodia\", \"caribbean\", \"caribbean\", \"caribbean\", \"caribbean\", \"caribbean\", \"cent\", \"cent\", \"cent\", \"cent\", \"cent\", \"cent\", \"cent\", \"cent\", \"central\", \"central\", \"central\", \"central\", \"central\", \"central\", \"central\", \"central\", \"chad\", \"challenges\", \"challenges\", \"challenges\", \"challenges\", \"challenges\", \"challenges\", \"challenges\", \"change\", \"change\", \"change\", \"change\", \"change\", \"change\", \"change\", \"change\", \"change\", \"change\", \"changes\", \"changes\", \"changes\", \"changes\", \"changes\", \"changes\", \"changes\", \"changes\", \"changes\", \"changes\", \"charter\", \"charter\", \"charter\", \"charter\", \"charter\", \"charter\", \"charter\", \"charter\", \"charter\", \"charter\", \"chemical\", \"chemical\", \"chemical\", \"chemical\", \"chemical\", \"chemical\", \"children\", \"children\", \"children\", \"children\", \"children\", \"children\", \"children\", \"china\", \"china\", \"china\", \"china\", \"china\", \"china\", \"civil\", \"civil\", \"civil\", \"civil\", \"civil\", \"civil\", \"civil\", \"civil\", \"civil\", \"coexistence\", \"coexistence\", \"coexistence\", \"coexistence\", \"coexistence\", \"coexistence\", \"coexistence\", \"cold\", \"cold\", \"cold\", \"cold\", \"cold\", \"cold\", \"cold\", \"cold\", \"colonial\", \"colonial\", \"colonial\", \"colonial\", \"colonial\", \"colonial\", \"colonial\", \"colonialism\", \"colonialism\", \"colonialism\", \"colonialism\", \"colonialism\", \"colonialism\", \"colonialism\", \"committee\", \"committee\", \"committee\", \"committee\", \"committee\", \"committee\", \"committee\", \"committee\", \"committee\", \"committee\", \"comprehensive\", \"comprehensive\", \"comprehensive\", \"comprehensive\", \"comprehensive\", \"comprehensive\", \"comprehensive\", \"concern\", \"concern\", \"concern\", \"concern\", \"concern\", \"concern\", \"concern\", \"concern\", \"concern\", \"concern\", \"concerned\", \"concerned\", \"concerned\", \"concerned\", \"concerned\", \"concerned\", \"concerned\", \"concerned\", \"concerned\", \"concerned\", \"conference\", \"conference\", \"conference\", \"conference\", \"conference\", \"conference\", \"conference\", \"conference\", \"conference\", \"conflict\", \"conflict\", \"conflict\", \"conflict\", \"conflict\", \"conflict\", \"conflict\", \"conflict\", \"conflict\", \"conflicts\", \"conflicts\", \"conflicts\", \"conflicts\", \"conflicts\", \"conflicts\", \"conflicts\", \"conflicts\", \"conflicts\", \"constant\", \"constant\", \"constant\", \"constant\", \"constant\", \"constant\", \"constant\", \"constitutes\", \"constitutes\", \"constitutes\", \"constitutes\", \"constitutes\", \"constitutes\", \"constitutes\", \"constitutes\", \"constructive\", \"constructive\", \"constructive\", \"constructive\", \"constructive\", \"constructive\", \"constructive\", \"constructive\", \"context\", \"context\", \"context\", \"context\", \"context\", \"context\", \"context\", \"context\", \"context\", \"continent\", \"continent\", \"continent\", \"continent\", \"continent\", \"continue\", \"continue\", \"continue\", \"continue\", \"continue\", \"continue\", \"continue\", \"continue\", \"continue\", \"continue\", \"contribute\", \"contribute\", \"contribute\", \"contribute\", \"contribute\", \"contribute\", \"contribute\", \"contribute\", \"contribute\", \"contributions\", \"contributions\", \"contributions\", \"contributions\", \"contributions\", \"contributions\", \"contributions\", \"contributions\", \"convention\", \"convention\", \"convention\", \"convention\", \"convention\", \"convention\", \"convention\", \"convention\", \"convention\", \"conventional\", \"conventional\", \"conventional\", \"conventional\", \"conventional\", \"conventional\", \"conventional\", \"cooperation\", \"cooperation\", \"cooperation\", \"cooperation\", \"cooperation\", \"cooperation\", \"cooperation\", \"cooperation\", \"cooperation\", \"council\", \"council\", \"council\", \"council\", \"council\", \"council\", \"council\", \"council\", \"council\", \"council\", \"court\", \"court\", \"court\", \"court\", \"court\", \"court\", \"court\", \"crime\", \"crime\", \"crime\", \"crime\", \"crime\", \"crime\", \"crime\", \"crime\", \"cyprus\", \"cyprus\", \"cyprus\", \"cyprus\", \"cyprus\", \"danger\", \"danger\", \"danger\", \"danger\", \"danger\", \"danger\", \"danger\", \"danger\", \"danger\", \"danger\", \"death\", \"death\", \"death\", \"death\", \"death\", \"death\", \"death\", \"death\", \"death\", \"debt\", \"debt\", \"debt\", \"debt\", \"debt\", \"delegation\", \"delegation\", \"delegation\", \"delegation\", \"delegation\", \"delegation\", \"delegation\", \"delegation\", \"delegation\", \"democracy\", \"democracy\", \"democracy\", \"democracy\", \"democracy\", \"democratic\", \"democratic\", \"democratic\", \"democratic\", \"democratic\", \"democratic\", \"democratic\", \"destiny\", \"destiny\", \"destiny\", \"destiny\", \"destiny\", \"destiny\", \"destiny\", \"destiny\", \"detente\", \"detente\", \"detente\", \"detente\", \"detente\", \"deterioration\", \"deterioration\", \"deterioration\", \"deterioration\", \"deterioration\", \"deterioration\", \"developed\", \"developed\", \"developed\", \"developed\", \"developed\", \"developed\", \"developed\", \"developed\", \"developed\", \"developing\", \"developing\", \"developing\", \"developing\", \"developing\", \"developing\", \"developing\", \"developing\", \"developing\", \"dialog\", \"dialog\", \"dialog\", \"dialog\", \"dialogue\", \"dialogue\", \"dialogue\", \"dialogue\", \"dialogue\", \"dialogue\", \"dialogue\", \"dialogue\", \"dialogue\", \"dialogue\", \"dignity\", \"dignity\", \"dignity\", \"dignity\", \"dignity\", \"dignity\", \"dignity\", \"dignity\", \"dignity\", \"diplomacy\", \"diplomacy\", \"diplomacy\", \"diplomacy\", \"diplomacy\", \"diplomacy\", \"diplomacy\", \"disarmament\", \"disarmament\", \"disarmament\", \"disarmament\", \"disarmament\", \"disarmament\", \"dispute\", \"dispute\", \"dispute\", \"dispute\", \"dispute\", \"dispute\", \"dispute\", \"dispute\", \"does\", \"does\", \"does\", \"does\", \"does\", \"does\", \"does\", \"does\", \"does\", \"domination\", \"domination\", \"domination\", \"domination\", \"domination\", \"domination\", \"drug\", \"drug\", \"drug\", \"drug\", \"drugs\", \"drugs\", \"drugs\", \"drugs\", \"early\", \"early\", \"early\", \"early\", \"early\", \"early\", \"early\", \"east\", \"east\", \"east\", \"east\", \"east\", \"east\", \"east\", \"east\", \"east\", \"east\", \"eastern\", \"eastern\", \"eastern\", \"eastern\", \"eastern\", \"eastern\", \"eastern\", \"economies\", \"economies\", \"economies\", \"economies\", \"economies\", \"economies\", \"economy\", \"economy\", \"economy\", \"economy\", \"economy\", \"economy\", \"economy\", \"economy\", \"economy\", \"economy\", \"education\", \"education\", \"education\", \"education\", \"education\", \"education\", \"education\", \"education\", \"eighth\", \"eighth\", \"eighth\", \"eighth\", \"eighth\", \"eighth\", \"eighth\", \"eighth\", \"eighth\", \"el\", \"el\", \"el\", \"el\", \"el\", \"el\", \"el\", \"el\", \"el\", \"elections\", \"elections\", \"elections\", \"elections\", \"elections\", \"elections\", \"elections\", \"elections\", \"elimination\", \"elimination\", \"elimination\", \"elimination\", \"elimination\", \"elimination\", \"elimination\", \"elimination\", \"end\", \"end\", \"end\", \"end\", \"end\", \"end\", \"end\", \"end\", \"end\", \"end\", \"ensuring\", \"ensuring\", \"ensuring\", \"ensuring\", \"ensuring\", \"ensuring\", \"ensuring\", \"ensuring\", \"ensuring\", \"ensuring\", \"environment\", \"environment\", \"environment\", \"environment\", \"environment\", \"environment\", \"environmental\", \"environmental\", \"environmental\", \"environmental\", \"ethnic\", \"ethnic\", \"ethnic\", \"ethnic\", \"ethnic\", \"ethnic\", \"ethnic\", \"europe\", \"europe\", \"europe\", \"europe\", \"europe\", \"europe\", \"european\", \"european\", \"european\", \"european\", \"european\", \"express\", \"express\", \"express\", \"express\", \"express\", \"express\", \"express\", \"express\", \"express\", \"express\", \"expression\", \"expression\", \"expression\", \"expression\", \"expression\", \"expression\", \"expression\", \"expression\", \"expression\", \"faith\", \"faith\", \"faith\", \"faith\", \"faith\", \"faith\", \"faith\", \"faith\", \"favour\", \"favour\", \"favour\", \"favour\", \"favour\", \"favour\", \"favour\", \"favour\", \"favour\", \"fiftieth\", \"fiftieth\", \"fiftieth\", \"fiftieth\", \"financial\", \"financial\", \"financial\", \"financial\", \"financial\", \"financial\", \"financial\", \"financial\", \"food\", \"food\", \"food\", \"food\", \"food\", \"food\", \"food\", \"food\", \"forces\", \"forces\", \"forces\", \"forces\", \"forces\", \"forces\", \"forces\", \"forces\", \"forces\", \"forces\", \"foreign\", \"foreign\", \"foreign\", \"foreign\", \"foreign\", \"foreign\", \"foreign\", \"foreign\", \"foreign\", \"foreign\", \"forum\", \"forum\", \"forum\", \"forum\", \"forum\", \"forum\", \"forum\", \"forum\", \"framework\", \"framework\", \"framework\", \"framework\", \"framework\", \"framework\", \"framework\", \"framework\", \"framework\", \"framework\", \"france\", \"france\", \"france\", \"france\", \"france\", \"freedom\", \"freedom\", \"freedom\", \"freedom\", \"freedom\", \"freedom\", \"freedom\", \"freedom\", \"freedom\", \"freedom\", \"freedoms\", \"freedoms\", \"freedoms\", \"freedoms\", \"freedoms\", \"friendship\", \"friendship\", \"friendship\", \"friendship\", \"friendship\", \"friendship\", \"friendship\", \"future\", \"future\", \"future\", \"future\", \"future\", \"future\", \"future\", \"future\", \"future\", \"future\", \"geneva\", \"geneva\", \"geneva\", \"geneva\", \"geneva\", \"geneva\", \"global\", \"global\", \"global\", \"global\", \"global\", \"global\", \"global\", \"global\", \"global\", \"globalization\", \"globalization\", \"globalization\", \"globalization\", \"great\", \"great\", \"great\", \"great\", \"great\", \"great\", \"great\", \"great\", \"great\", \"great\", \"greatest\", \"greatest\", \"greatest\", \"greatest\", \"greatest\", \"greatest\", \"greatest\", \"greatest\", \"greatest\", \"growth\", \"growth\", \"growth\", \"growth\", \"growth\", \"growth\", \"growth\", \"growth\", \"guinea\", \"guinea\", \"guinea\", \"gulf\", \"gulf\", \"gulf\", \"gulf\", \"gulf\", \"gulf\", \"haiti\", \"haiti\", \"haiti\", \"heads\", \"heads\", \"heads\", \"heads\", \"heads\", \"heads\", \"heads\", \"heads\", \"heads\", \"health\", \"health\", \"health\", \"health\", \"health\", \"health\", \"health\", \"health\", \"herzegovina\", \"herzegovina\", \"history\", \"history\", \"history\", \"history\", \"history\", \"history\", \"history\", \"history\", \"history\", \"history\", \"hope\", \"hope\", \"hope\", \"hope\", \"hope\", \"hope\", \"hope\", \"hope\", \"hope\", \"hope\", \"humanitarian\", \"humanitarian\", \"humanitarian\", \"humanitarian\", \"humanitarian\", \"humanitarian\", \"humanitarian\", \"humanitarian\", \"idea\", \"idea\", \"idea\", \"idea\", \"idea\", \"idea\", \"idea\", \"idea\", \"importance\", \"importance\", \"importance\", \"importance\", \"importance\", \"importance\", \"importance\", \"importance\", \"importance\", \"important\", \"important\", \"important\", \"important\", \"important\", \"important\", \"important\", \"important\", \"important\", \"important\", \"imposed\", \"imposed\", \"imposed\", \"imposed\", \"imposed\", \"imposed\", \"imposed\", \"imposed\", \"including\", \"including\", \"including\", \"including\", \"including\", \"including\", \"including\", \"including\", \"including\", \"independence\", \"independence\", \"independence\", \"independence\", \"independence\", \"independence\", \"independence\", \"independence\", \"independent\", \"independent\", \"independent\", \"independent\", \"independent\", \"independent\", \"independent\", \"independent\", \"independent\", \"independent\", \"india\", \"india\", \"india\", \"india\", \"india\", \"india\", \"industrial\", \"industrial\", \"industrial\", \"industrial\", \"industrial\", \"industrial\", \"industrial\", \"industrialized\", \"industrialized\", \"industrialized\", \"industrialized\", \"industrialized\", \"integration\", \"integration\", \"integration\", \"integration\", \"interdependence\", \"interdependence\", \"interdependence\", \"interdependence\", \"interdependence\", \"interdependence\", \"investment\", \"investment\", \"investment\", \"investment\", \"investment\", \"investment\", \"iran\", \"iran\", \"iran\", \"iran\", \"iraq\", \"iraq\", \"iraq\", \"iraq\", \"iraq\", \"iraq\", \"iraq\", \"iraqi\", \"iraqi\", \"islamic\", \"islamic\", \"islamic\", \"island\", \"island\", \"island\", \"island\", \"island\", \"islands\", \"islands\", \"islands\", \"islands\", \"islands\", \"israel\", \"israel\", \"israel\", \"israel\", \"israel\", \"israel\", \"israel\", \"israeli\", \"israeli\", \"israeli\", \"israeli\", \"israeli\", \"israeli\", \"issue\", \"issue\", \"issue\", \"issue\", \"issue\", \"issue\", \"issue\", \"issue\", \"issue\", \"issues\", \"issues\", \"issues\", \"issues\", \"issues\", \"issues\", \"issues\", \"issues\", \"japan\", \"japan\", \"japan\", \"japan\", \"japan\", \"just\", \"just\", \"just\", \"just\", \"just\", \"just\", \"just\", \"just\", \"just\", \"just\", \"justice\", \"justice\", \"justice\", \"justice\", \"justice\", \"justice\", \"justice\", \"justice\", \"justice\", \"kampuchea\", \"kampuchea\", \"kampuchea\", \"kampuchea\", \"keeping\", \"keeping\", \"keeping\", \"keeping\", \"keeping\", \"keeping\", \"keeping\", \"keeping\", \"kind\", \"kind\", \"kind\", \"kind\", \"kind\", \"kind\", \"kind\", \"kind\", \"kind\", \"kingdom\", \"kingdom\", \"kingdom\", \"kingdom\", \"kingdom\", \"kingdom\", \"kingdom\", \"kingdom\", \"kingdom\", \"know\", \"know\", \"know\", \"know\", \"know\", \"know\", \"know\", \"know\", \"know\", \"korea\", \"korea\", \"korea\", \"korea\", \"korea\", \"korea\", \"korea\", \"korea\", \"korean\", \"korean\", \"korean\", \"korean\", \"korean\", \"korean\", \"kuwait\", \"kuwait\", \"kuwait\", \"kuwait\", \"land\", \"land\", \"land\", \"land\", \"land\", \"land\", \"land\", \"land\", \"land\", \"latin\", \"latin\", \"latin\", \"latin\", \"latin\", \"latin\", \"latin\", \"latin\", \"latin\", \"law\", \"law\", \"law\", \"law\", \"law\", \"law\", \"law\", \"law\", \"law\", \"law\", \"lebanese\", \"lebanese\", \"lebanese\", \"lebanon\", \"lebanon\", \"lebanon\", \"lebanon\", \"legitimate\", \"legitimate\", \"legitimate\", \"legitimate\", \"legitimate\", \"legitimate\", \"legitimate\", \"legitimate\", \"legitimate\", \"legitimate\", \"liberation\", \"liberation\", \"liberation\", \"liberation\", \"liberation\", \"liberation\", \"liberation\", \"liberation\", \"liberia\", \"life\", \"life\", \"life\", \"life\", \"life\", \"life\", \"life\", \"life\", \"life\", \"life\", \"like\", \"like\", \"like\", \"like\", \"like\", \"like\", \"like\", \"like\", \"like\", \"like\", \"long\", \"long\", \"long\", \"long\", \"long\", \"long\", \"long\", \"long\", \"long\", \"long\", \"make\", \"make\", \"make\", \"make\", \"make\", \"make\", \"make\", \"make\", \"make\", \"make\", \"man\", \"man\", \"man\", \"man\", \"man\", \"man\", \"man\", \"man\", \"management\", \"management\", \"management\", \"management\", \"management\", \"mandate\", \"mandate\", \"mandate\", \"mandate\", \"mandate\", \"mandate\", \"mandate\", \"mandate\", \"mankind\", \"mankind\", \"mankind\", \"mankind\", \"mankind\", \"mankind\", \"mankind\", \"mankind\", \"market\", \"market\", \"market\", \"market\", \"market\", \"market\", \"market\", \"markets\", \"markets\", \"markets\", \"markets\", \"markets\", \"markets\", \"markets\", \"mass\", \"mass\", \"mass\", \"mass\", \"mass\", \"mass\", \"mass\", \"mass\", \"means\", \"means\", \"means\", \"means\", \"means\", \"means\", \"means\", \"means\", \"means\", \"means\", \"measures\", \"measures\", \"measures\", \"measures\", \"measures\", \"measures\", \"measures\", \"measures\", \"measures\", \"mechanisms\", \"mechanisms\", \"mechanisms\", \"mechanisms\", \"mechanisms\", \"mechanisms\", \"member\", \"member\", \"member\", \"member\", \"member\", \"member\", \"member\", \"member\", \"member\", \"member\", \"members\", \"members\", \"members\", \"members\", \"members\", \"members\", \"members\", \"members\", \"members\", \"members\", \"men\", \"men\", \"men\", \"men\", \"men\", \"men\", \"men\", \"men\", \"middle\", \"middle\", \"middle\", \"middle\", \"middle\", \"middle\", \"middle\", \"middle\", \"middle\", \"middle\", \"military\", \"military\", \"military\", \"military\", \"military\", \"military\", \"military\", \"military\", \"military\", \"military\", \"millennium\", \"millennium\", \"millennium\", \"millennium\", \"mission\", \"mission\", \"mission\", \"mission\", \"mission\", \"mission\", \"mission\", \"mission\", \"mission\", \"mission\", \"moral\", \"moral\", \"moral\", \"moral\", \"moral\", \"moral\", \"moral\", \"mr\", \"mr\", \"mr\", \"mr\", \"mr\", \"mr\", \"mr\", \"mr\", \"mr\", \"mr\", \"mutual\", \"mutual\", \"mutual\", \"mutual\", \"mutual\", \"mutual\", \"mutual\", \"mutual\", \"mutual\", \"nam\", \"namibia\", \"namibia\", \"namibia\", \"namibia\", \"namibia\", \"namibia\", \"namibian\", \"namibian\", \"namibian\", \"national\", \"national\", \"national\", \"national\", \"national\", \"national\", \"national\", \"national\", \"national\", \"national\", \"need\", \"need\", \"need\", \"need\", \"need\", \"need\", \"need\", \"need\", \"need\", \"needs\", \"needs\", \"needs\", \"needs\", \"needs\", \"needs\", \"needs\", \"needs\", \"needs\", \"negotiated\", \"negotiated\", \"negotiated\", \"negotiated\", \"negotiated\", \"negotiated\", \"negotiated\", \"negotiations\", \"negotiations\", \"negotiations\", \"negotiations\", \"negotiations\", \"negotiations\", \"negotiations\", \"negotiations\", \"negotiations\", \"negotiations\", \"nicaragua\", \"nicaragua\", \"nicaragua\", \"nicaragua\", \"non\", \"non\", \"non\", \"non\", \"non\", \"non\", \"non\", \"non\", \"non\", \"non\", \"nuclear\", \"nuclear\", \"nuclear\", \"nuclear\", \"nuclear\", \"nuclear\", \"nuclear\", \"nuclear\", \"nuclear\", \"oau\", \"oau\", \"occupation\", \"occupation\", \"occupation\", \"occupation\", \"occupation\", \"occupied\", \"occupied\", \"occupied\", \"occupied\", \"occupied\", \"occupied\", \"ocean\", \"ocean\", \"ocean\", \"ocean\", \"ocean\", \"ocean\", \"ocean\", \"operation\", \"operation\", \"operation\", \"operation\", \"operation\", \"operation\", \"operation\", \"operation\", \"operations\", \"operations\", \"operations\", \"operations\", \"operations\", \"operations\", \"opportunities\", \"opportunities\", \"opportunities\", \"opportunities\", \"opportunities\", \"opportunities\", \"opportunities\", \"order\", \"order\", \"order\", \"order\", \"order\", \"order\", \"order\", \"order\", \"order\", \"order\", \"organizations\", \"organizations\", \"organizations\", \"organizations\", \"organizations\", \"organizations\", \"organizations\", \"organizations\", \"organizations\", \"organizations\", \"pacific\", \"pacific\", \"pacific\", \"pakistan\", \"pakistan\", \"pakistan\", \"pakistan\", \"palestine\", \"palestine\", \"palestine\", \"palestine\", \"palestine\", \"palestine\", \"palestine\", \"palestinian\", \"palestinian\", \"palestinian\", \"palestinian\", \"palestinian\", \"palestinian\", \"palestinian\", \"palestinian\", \"participation\", \"participation\", \"participation\", \"participation\", \"participation\", \"participation\", \"participation\", \"participation\", \"participation\", \"participation\", \"parties\", \"parties\", \"parties\", \"parties\", \"parties\", \"parties\", \"parties\", \"parties\", \"parties\", \"parties\", \"party\", \"party\", \"party\", \"party\", \"party\", \"party\", \"party\", \"party\", \"peaceful\", \"peaceful\", \"peaceful\", \"peaceful\", \"peaceful\", \"peaceful\", \"peaceful\", \"peaceful\", \"peaceful\", \"peaceful\", \"peoples\", \"peoples\", \"peoples\", \"peoples\", \"peoples\", \"peoples\", \"peoples\", \"peoples\", \"peoples\", \"personnel\", \"personnel\", \"personnel\", \"personnel\", \"personnel\", \"personnel\", \"persons\", \"persons\", \"persons\", \"persons\", \"persons\", \"persons\", \"persons\", \"persons\", \"policy\", \"policy\", \"policy\", \"policy\", \"policy\", \"policy\", \"policy\", \"policy\", \"policy\", \"policy\", \"poor\", \"poor\", \"poor\", \"poor\", \"poor\", \"poor\", \"poor\", \"poor\", \"positive\", \"positive\", \"positive\", \"positive\", \"positive\", \"positive\", \"positive\", \"positive\", \"positive\", \"positive\", \"possible\", \"possible\", \"possible\", \"possible\", \"possible\", \"possible\", \"possible\", \"possible\", \"possible\", \"possible\", \"post\", \"post\", \"post\", \"post\", \"post\", \"post\", \"post\", \"post\", \"post\", \"poverty\", \"poverty\", \"poverty\", \"poverty\", \"poverty\", \"poverty\", \"power\", \"power\", \"power\", \"power\", \"power\", \"power\", \"power\", \"power\", \"power\", \"powerful\", \"powerful\", \"powerful\", \"powerful\", \"powerful\", \"powerful\", \"powerful\", \"powerful\", \"powerful\", \"powers\", \"powers\", \"powers\", \"powers\", \"powers\", \"powers\", \"powers\", \"powers\", \"practices\", \"practices\", \"practices\", \"practices\", \"practices\", \"practices\", \"practices\", \"practices\", \"practices\", \"practices\", \"president\", \"president\", \"president\", \"president\", \"president\", \"president\", \"president\", \"president\", \"president\", \"president\", \"pretoria\", \"pretoria\", \"pretoria\", \"pretoria\", \"prevention\", \"prevention\", \"prevention\", \"prevention\", \"prevention\", \"prevention\", \"principles\", \"principles\", \"principles\", \"principles\", \"principles\", \"principles\", \"principles\", \"principles\", \"principles\", \"principles\", \"problem\", \"problem\", \"problem\", \"problem\", \"problem\", \"problem\", \"problem\", \"problem\", \"problem\", \"problem\", \"problems\", \"problems\", \"problems\", \"problems\", \"problems\", \"problems\", \"problems\", \"problems\", \"problems\", \"problems\", \"process\", \"process\", \"process\", \"process\", \"process\", \"process\", \"process\", \"process\", \"process\", \"process\", \"progress\", \"progress\", \"progress\", \"progress\", \"progress\", \"progress\", \"progress\", \"progress\", \"progress\", \"progress\", \"proliferation\", \"proliferation\", \"proliferation\", \"proliferation\", \"proliferation\", \"proliferation\", \"proliferation\", \"promotion\", \"promotion\", \"promotion\", \"promotion\", \"promotion\", \"promotion\", \"promotion\", \"proposal\", \"proposal\", \"proposal\", \"proposal\", \"proposal\", \"proposal\", \"proposal\", \"proposal\", \"proposal\", \"proposals\", \"proposals\", \"proposals\", \"proposals\", \"proposals\", \"proposals\", \"proposals\", \"proposals\", \"proposals\", \"proposals\", \"prospects\", \"prospects\", \"prospects\", \"prospects\", \"prospects\", \"prospects\", \"prospects\", \"prospects\", \"question\", \"question\", \"question\", \"question\", \"question\", \"question\", \"question\", \"question\", \"question\", \"question\", \"race\", \"race\", \"race\", \"race\", \"race\", \"race\", \"race\", \"race\", \"racist\", \"racist\", \"racist\", \"racist\", \"range\", \"range\", \"range\", \"range\", \"range\", \"range\", \"rates\", \"rates\", \"rates\", \"rates\", \"rates\", \"rates\", \"reaffirm\", \"reaffirm\", \"reaffirm\", \"reaffirm\", \"reaffirm\", \"reaffirm\", \"reaffirm\", \"reaffirm\", \"reaffirm\", \"reason\", \"reason\", \"reason\", \"reason\", \"reason\", \"reason\", \"reason\", \"reason\", \"reason\", \"reason\", \"recovery\", \"recovery\", \"recovery\", \"recovery\", \"recovery\", \"recovery\", \"recovery\", \"recovery\", \"reduction\", \"reduction\", \"reduction\", \"reduction\", \"reduction\", \"reduction\", \"reduction\", \"reform\", \"reform\", \"reform\", \"reform\", \"reform\", \"reforms\", \"reforms\", \"reforms\", \"reforms\", \"reforms\", \"reforms\", \"reforms\", \"refugees\", \"refugees\", \"refugees\", \"refugees\", \"refugees\", \"refugees\", \"refugees\", \"refugees\", \"regard\", \"regard\", \"regard\", \"regard\", \"regard\", \"regard\", \"regard\", \"regard\", \"regard\", \"regard\", \"regime\", \"regime\", \"regime\", \"regime\", \"regime\", \"regime\", \"regime\", \"regime\", \"region\", \"region\", \"region\", \"region\", \"region\", \"region\", \"region\", \"region\", \"region\", \"region\", \"regional\", \"regional\", \"regional\", \"regional\", \"regional\", \"regional\", \"regional\", \"regional\", \"regional\", \"regional\", \"relations\", \"relations\", \"relations\", \"relations\", \"relations\", \"relations\", \"relations\", \"republic\", \"republic\", \"republic\", \"republic\", \"republic\", \"republic\", \"republic\", \"resolution\", \"resolution\", \"resolution\", \"resolution\", \"resolution\", \"resolution\", \"resolution\", \"resolution\", \"resolution\", \"resolutions\", \"resolutions\", \"resolutions\", \"resolutions\", \"resolutions\", \"resolutions\", \"resolutions\", \"resolutions\", \"resources\", \"resources\", \"resources\", \"resources\", \"resources\", \"resources\", \"resources\", \"resources\", \"resources\", \"resources\", \"respect\", \"respect\", \"respect\", \"respect\", \"respect\", \"respect\", \"respect\", \"respect\", \"respect\", \"restructuring\", \"restructuring\", \"restructuring\", \"restructuring\", \"restructuring\", \"restructuring\", \"restructuring\", \"restructuring\", \"reunification\", \"reunification\", \"reunification\", \"reunification\", \"reunification\", \"review\", \"review\", \"review\", \"review\", \"review\", \"review\", \"review\", \"rich\", \"rich\", \"rich\", \"rich\", \"rich\", \"rich\", \"rich\", \"rich\", \"rich\", \"right\", \"right\", \"right\", \"right\", \"right\", \"right\", \"right\", \"right\", \"right\", \"right\", \"rights\", \"rights\", \"rights\", \"rights\", \"rights\", \"rights\", \"rights\", \"rights\", \"rights\", \"rights\", \"role\", \"role\", \"role\", \"role\", \"role\", \"role\", \"role\", \"role\", \"role\", \"role\", \"rwanda\", \"rwanda\", \"sahara\", \"sahara\", \"sahara\", \"sahara\", \"sahara\", \"sahara\", \"said\", \"said\", \"said\", \"said\", \"said\", \"said\", \"said\", \"said\", \"said\", \"satisfaction\", \"satisfaction\", \"satisfaction\", \"satisfaction\", \"satisfaction\", \"satisfaction\", \"satisfaction\", \"say\", \"say\", \"say\", \"say\", \"say\", \"say\", \"say\", \"say\", \"say\", \"settlement\", \"settlement\", \"settlement\", \"settlement\", \"settlement\", \"settlement\", \"settlement\", \"shall\", \"shall\", \"shall\", \"shall\", \"shall\", \"shall\", \"shall\", \"shall\", \"shall\", \"signing\", \"signing\", \"signing\", \"signing\", \"signing\", \"signing\", \"signing\", \"signing\", \"signing\", \"signing\", \"situation\", \"situation\", \"situation\", \"situation\", \"situation\", \"situation\", \"situation\", \"situation\", \"situation\", \"situation\", \"small\", \"small\", \"small\", \"small\", \"small\", \"small\", \"small\", \"small\", \"social\", \"social\", \"social\", \"social\", \"social\", \"social\", \"social\", \"social\", \"social\", \"socialist\", \"socialist\", \"socialist\", \"society\", \"society\", \"society\", \"society\", \"society\", \"society\", \"society\", \"society\", \"society\", \"solidarity\", \"solidarity\", \"solidarity\", \"solidarity\", \"solidarity\", \"solidarity\", \"solution\", \"solution\", \"solution\", \"solution\", \"solution\", \"solution\", \"solution\", \"solution\", \"solutions\", \"solutions\", \"solutions\", \"solutions\", \"solutions\", \"solutions\", \"solutions\", \"solutions\", \"solutions\", \"somalia\", \"somalia\", \"somalia\", \"somalia\", \"south\", \"south\", \"south\", \"south\", \"south\", \"south\", \"south\", \"south\", \"south\", \"south\", \"southern\", \"southern\", \"southern\", \"southern\", \"southern\", \"southern\", \"southern\", \"southern\", \"southern\", \"southern\", \"sovereign\", \"sovereign\", \"sovereign\", \"sovereign\", \"sovereign\", \"sovereign\", \"sovereign\", \"sovereign\", \"sovereign\", \"sovereignty\", \"sovereignty\", \"sovereignty\", \"sovereignty\", \"sovereignty\", \"sovereignty\", \"sovereignty\", \"sovereignty\", \"sovereignty\", \"soviet\", \"soviet\", \"soviet\", \"soviet\", \"space\", \"space\", \"space\", \"space\", \"space\", \"space\", \"special\", \"special\", \"special\", \"special\", \"special\", \"special\", \"special\", \"special\", \"special\", \"special\", \"spite\", \"spite\", \"spite\", \"spite\", \"spite\", \"spite\", \"spite\", \"spite\", \"stability\", \"stability\", \"stability\", \"stability\", \"stability\", \"stability\", \"stability\", \"stability\", \"stability\", \"stability\", \"state\", \"state\", \"state\", \"state\", \"state\", \"state\", \"state\", \"state\", \"state\", \"state\", \"strategic\", \"strategic\", \"strategic\", \"strategic\", \"strategic\", \"strategic\", \"strategic\", \"strategic\", \"strengthening\", \"strengthening\", \"strengthening\", \"strengthening\", \"strengthening\", \"strengthening\", \"strengthening\", \"struggle\", \"struggle\", \"struggle\", \"struggle\", \"struggle\", \"struggle\", \"struggle\", \"substantial\", \"substantial\", \"substantial\", \"substantial\", \"substantial\", \"substantial\", \"substantial\", \"substantial\", \"super\", \"super\", \"super\", \"super\", \"super\", \"super\", \"sustainable\", \"sustainable\", \"sustainable\", \"sustainable\", \"systems\", \"systems\", \"systems\", \"systems\", \"systems\", \"systems\", \"systems\", \"systems\", \"systems\", \"talks\", \"talks\", \"talks\", \"talks\", \"talks\", \"talks\", \"talks\", \"talks\", \"talks\", \"tasks\", \"tasks\", \"tasks\", \"tasks\", \"tasks\", \"tasks\", \"tasks\", \"tasks\", \"technology\", \"technology\", \"technology\", \"technology\", \"technology\", \"technology\", \"technology\", \"technology\", \"territories\", \"territories\", \"territories\", \"territories\", \"territories\", \"territories\", \"territories\", \"territories\", \"territories\", \"terrorism\", \"terrorism\", \"terrorism\", \"terrorism\", \"terrorism\", \"terrorism\", \"terrorism\", \"terrorism\", \"test\", \"test\", \"test\", \"test\", \"test\", \"test\", \"test\", \"test\", \"think\", \"think\", \"think\", \"think\", \"think\", \"think\", \"think\", \"thirty\", \"thirty\", \"thirty\", \"thirty\", \"thirty\", \"thirty\", \"today\", \"today\", \"today\", \"today\", \"today\", \"today\", \"today\", \"today\", \"today\", \"today\", \"trade\", \"trade\", \"trade\", \"trade\", \"trade\", \"trade\", \"trade\", \"trade\", \"trafficking\", \"trafficking\", \"trafficking\", \"trafficking\", \"transition\", \"transition\", \"transition\", \"transition\", \"transition\", \"transition\", \"transition\", \"transition\", \"treaty\", \"treaty\", \"treaty\", \"treaty\", \"treaty\", \"treaty\", \"treaty\", \"treaty\", \"tribute\", \"tribute\", \"tribute\", \"tribute\", \"tribute\", \"tribute\", \"tribute\", \"tribute\", \"tribute\", \"troops\", \"troops\", \"troops\", \"troops\", \"troops\", \"troops\", \"true\", \"true\", \"true\", \"true\", \"true\", \"true\", \"true\", \"true\", \"true\", \"true\", \"union\", \"union\", \"union\", \"union\", \"union\", \"union\", \"union\", \"union\", \"union\", \"unity\", \"unity\", \"unity\", \"unity\", \"unity\", \"unity\", \"unity\", \"unity\", \"use\", \"use\", \"use\", \"use\", \"use\", \"use\", \"use\", \"use\", \"use\", \"use\", \"values\", \"values\", \"values\", \"values\", \"values\", \"values\", \"values\", \"various\", \"various\", \"various\", \"various\", \"various\", \"various\", \"various\", \"various\", \"various\", \"various\", \"viet\", \"view\", \"view\", \"view\", \"view\", \"view\", \"view\", \"view\", \"view\", \"view\", \"view\", \"violation\", \"violation\", \"violation\", \"violation\", \"violation\", \"violation\", \"violation\", \"violation\", \"violation\", \"violations\", \"violations\", \"violations\", \"violations\", \"violations\", \"violations\", \"violations\", \"want\", \"want\", \"want\", \"want\", \"want\", \"want\", \"want\", \"want\", \"war\", \"war\", \"war\", \"war\", \"war\", \"war\", \"war\", \"war\", \"war\", \"war\", \"way\", \"way\", \"way\", \"way\", \"way\", \"way\", \"way\", \"way\", \"way\", \"way\", \"weapon\", \"weapon\", \"weapon\", \"weapon\", \"weapon\", \"weapon\", \"weapons\", \"weapons\", \"weapons\", \"weapons\", \"weapons\", \"weapons\", \"weapons\", \"weapons\", \"weapons\", \"western\", \"western\", \"western\", \"western\", \"western\", \"western\", \"western\", \"western\", \"western\", \"withdrawal\", \"withdrawal\", \"withdrawal\", \"withdrawal\", \"withdrawal\", \"words\", \"words\", \"words\", \"words\", \"words\", \"words\", \"words\", \"words\", \"words\", \"work\", \"work\", \"work\", \"work\", \"work\", \"work\", \"work\", \"work\", \"work\", \"work\", \"working\", \"working\", \"working\", \"working\", \"working\", \"working\", \"working\", \"working\", \"working\", \"working\", \"year\", \"year\", \"year\", \"year\", \"year\", \"year\", \"year\", \"year\", \"year\", \"year\", \"yugoslavia\", \"yugoslavia\", \"zone\", \"zone\", \"zone\", \"zone\", \"zone\", \"zone\", \"zone\", \"zone\"]}, \"R\": 30, \"lambda.step\": 0.01, \"plot.opts\": {\"xlab\": \"PC1\", \"ylab\": \"PC2\"}, \"topic.order\": [6, 2, 4, 8, 3, 7, 1, 5, 9, 10]};\n",
       "\n",
       "function LDAvis_load_lib(url, callback){\n",
       "  var s = document.createElement('script');\n",
       "  s.src = url;\n",
       "  s.async = true;\n",
       "  s.onreadystatechange = s.onload = callback;\n",
       "  s.onerror = function(){console.warn(\"failed to load library \" + url);};\n",
       "  document.getElementsByTagName(\"head\")[0].appendChild(s);\n",
       "}\n",
       "\n",
       "if(typeof(LDAvis) !== \"undefined\"){\n",
       "   // already loaded: just create the visualization\n",
       "   !function(LDAvis){\n",
       "       new LDAvis(\"#\" + \"ldavis_el104511121442112804845243473\", ldavis_el104511121442112804845243473_data);\n",
       "   }(LDAvis);\n",
       "}else if(typeof define === \"function\" && define.amd){\n",
       "   // require.js is available: use it to load d3/LDAvis\n",
       "   require.config({paths: {d3: \"https://cdnjs.cloudflare.com/ajax/libs/d3/3.5.5/d3.min\"}});\n",
       "   require([\"d3\"], function(d3){\n",
       "      window.d3 = d3;\n",
       "      LDAvis_load_lib(\"https://cdn.rawgit.com/bmabey/pyLDAvis/files/ldavis.v1.0.0.js\", function(){\n",
       "        new LDAvis(\"#\" + \"ldavis_el104511121442112804845243473\", ldavis_el104511121442112804845243473_data);\n",
       "      });\n",
       "    });\n",
       "}else{\n",
       "    // require.js not available: dynamically load d3 & LDAvis\n",
       "    LDAvis_load_lib(\"https://cdnjs.cloudflare.com/ajax/libs/d3/3.5.5/d3.min.js\", function(){\n",
       "         LDAvis_load_lib(\"https://cdn.rawgit.com/bmabey/pyLDAvis/files/ldavis.v1.0.0.js\", function(){\n",
       "                 new LDAvis(\"#\" + \"ldavis_el104511121442112804845243473\", ldavis_el104511121442112804845243473_data);\n",
       "            })\n",
       "         });\n",
       "}\n",
       "</script>"
      ],
      "text/plain": [
       "<IPython.core.display.HTML object>"
      ]
     },
     "execution_count": 26,
     "metadata": {},
     "output_type": "execute_result"
    }
   ],
   "source": [
    "pyLDAvis.display(pyLDAvis.sklearn.prepare(lda_model, un_word_counts, vectorizer, mds='tsne'))"
   ]
  },
  {
   "cell_type": "markdown",
   "metadata": {
    "slideshow": {
     "slide_type": "skip"
    }
   },
   "source": [
    "### Topic Modeling Exercise 2\n",
    "\n",
    "In your group, do 1 and 2 in 10_Topic_Modeling_group\n",
    "\n"
   ]
  },
  {
   "cell_type": "markdown",
   "metadata": {
    "slideshow": {
     "slide_type": "slide"
    }
   },
   "source": [
    "#### Text Classification and Sentiment Analysis "
   ]
  },
  {
   "cell_type": "markdown",
   "metadata": {
    "slideshow": {
     "slide_type": "slide"
    }
   },
   "source": [
    "We'll be using the following to apply classify texts and analyze sentiment within our corpus:\n",
    "- [seaborn](https://seaborn.pydata.org/), a data visualization library based on `matplotlib`. `seaborn` is also discussed in a previous chapter on text classification\n",
    "- The `SentimentIntensityAnalyzer` available through [vaderSentiment](https://github.com/cjhutto/vaderSentiment), a lexicon for sentiment analysis discussed in the previous chapter on Word Lists and Sentiment Analysis. With this, we'll be able to determine the intensity of positive, negative, and neutral sentiments contained within the documents in our corpus.\n",
    "- [Afinn](https://pypi.org/project/afinn/), another sentiment analysis tool discussed in the previous chapter on Word Lists and Sentiment Analysis. `Afinn` will produce a single numerical sentiment score, from -5 (negative sentiment) to 5 (positive sentiment)."
   ]
  },
  {
   "cell_type": "code",
   "execution_count": 18,
   "metadata": {
    "slideshow": {
     "slide_type": "slide"
    }
   },
   "outputs": [],
   "source": [
    "%matplotlib inline\n",
    "\n",
    "import pandas as pd\n",
    "import seaborn as sns\n",
    "\n"
   ]
  },
  {
   "cell_type": "code",
   "execution_count": null,
   "metadata": {},
   "outputs": [
    {
     "name": "stdout",
     "output_type": "stream",
     "text": []
    }
   ],
   "source": [
    "pip install vaderSentiment"
   ]
  },

  {
   "cell_type": "code",
   "execution_count": 21,
   "metadata": {},
   "outputs": [],
   "source": [
    "lr_classifier = LogisticRegression(solver = 'lbfgs', max_iter= 5000)\n"
   ]
  },
  {
   "cell_type": "code",
   "execution_count": null,
   "metadata": {
    "slideshow": {
     "slide_type": "slide"
    }
   },
   "outputs": [],
   "source": [
    "lr_classifier.fit(un_topics, un_df['post_soviet'])"
   ]
  },
  {
   "cell_type": "code",
   "execution_count": null,
   "metadata": {
    "slideshow": {
     "slide_type": "slide"
    }
   },
   "outputs": [],
   "source": [
    "prediction = lr_classifier.predict(un_topics)"
   ]
  },
  {
   "cell_type": "code",
   "execution_count": null,
   "metadata": {
    "slideshow": {
     "slide_type": "slide"
    }
   },
   "outputs": [],
   "source": [
    "print(accuracy_score(un_df['post_soviet'], prediction))\n",
    "\n"
   ]
  },
  {
   "cell_type": "code",
   "execution_count": null,
   "metadata": {
    "slideshow": {
     "slide_type": "slide"
    }
   },
   "outputs": [],
   "source": [
    "print(classification_report(un_df['post_soviet'], prediction))"
   ]
  },
  {
   "cell_type": "code",
   "execution_count": null,
   "metadata": {},
   "outputs": [],
   "source": [
    "import seaborn as sns\n",
    "\n",
    "cm = confusion_matrix(un_df['post_soviet'], prediction)\n",
    "sns.heatmap(cm, annot=True, cmap=\"Greens\", fmt='g')"
   ]
  },
  {
   "cell_type": "markdown",
   "metadata": {
    "slideshow": {
     "slide_type": "slide"
    }
   },
   "source": [
    "### Topic Modeling Exercise 3\n",
    "In your group, do the rest of 10_Topic_Modeling_group\n",
    "\n",
    "\n",
    "\n",
    "\n"
   ]
  },
  {
   "cell_type": "markdown",
   "metadata": {},
   "source": [
    "#### References:\n",
    "\n",
    "Finn Årup Nielsen. 2011. “A New ANEW: Evaluation of a Word List for Sentiment Analysis in Microblogs.” *Proceedings of the ESWC2011 Workshop on ‘Making Sense of Microposts’: Big Things Come in Small Packages.* Volume 718 in CEUR Workshop Proceedings: 93-98. Matthew Rowe, Milan Stankovic, Aba-Sah Dadzie, Mariann Hardey (editors).\n",
    "\n",
    "Hutto, C.J. and Eric Gilbert. 2014. VADER: A Parsimonious Rule-based Model for Sentiment Analysis of Social Media Text. Eighth International Conference on Weblogs and Social Media (ICWSM-14). Ann Arbor, MI, June 2014.\n",
    "\n",
    "Scikit-learn: Machine Learning in Python, Pedregosa et al., JMLR 12, pp. 2825-2830, 2011.\n",
    "\n",
    "Sievert, Carson and Kenneth Shirley. 2014. \"LDAvis: A Method for Visualizing and Interpreting Topics.\" In *Proceedings of the Workshop on Interactive Language Learning, Visualization, and Interfaces*, pp. 63-70. \n",
    "\n",
    "Silge, Julia. and David Robinson. 2017. *Text Mining with R: A Tidy Approach.* \"O'Reilly Media, Inc.\"."
   ]
  },
  {
   "cell_type": "code",
   "execution_count": null,
   "metadata": {},
   "outputs": [],
   "source": []
  }
 ],
 "metadata": {
  "celltoolbar": "Slideshow",
  "kernelspec": {
   "display_name": "Python 3",
   "language": "python",
   "name": "python3"
  },
  "language_info": {
   "codemirror_mode": {
    "name": "ipython",
    "version": 3
   },
   "file_extension": ".py",
   "mimetype": "text/x-python",
   "name": "python",
   "nbconvert_exporter": "python",
   "pygments_lexer": "ipython3",
   "version": "3.8.2"
  }
 },
 "nbformat": 4,
 "nbformat_minor": 2
}
