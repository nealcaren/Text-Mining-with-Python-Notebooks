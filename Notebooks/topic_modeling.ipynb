{
 "cells": [
  {
   "cell_type": "markdown",
   "metadata": {
    "slideshow": {
     "slide_type": "slide"
    }
   },
   "source": [
    "# Topic Models"
   ]
  },
  {
   "cell_type": "markdown",
   "metadata": {
    "slideshow": {
     "slide_type": "slide"
    }
   },
   "source": [
    "As you've likely realized by this point in the book, there is an abundance of information available online suited to social science research. The breadth of available data means there's more information out there than any individual researcher--or even teams of researchers--would be able to efficiently analyze without the assistance of some additional tools. \n",
    "\n",
    "Luckily, topic modeling allows us to quickly and systematically analyze vast quantities of unstructured text. With topic modelling, we are able to uncover some of the more abstract, underlying themes aross large collections of text without putting in the hours of manpower necessary to read through the texts at a human pace. \n",
    "\n",
    "This lesson will go over what, exactly, topic modeling does, walk through how to run Latent Dirichlet allocation (LDA) topic models in Python, and introduce a number of fit statistics to help us better understand the topic models we'll be generating. We'll end with a discussion of several useful visualization tools for topic modeling. "
   ]
  },
  {
   "cell_type": "markdown",
   "metadata": {
    "slideshow": {
     "slide_type": "slide"
    }
   },
   "source": [
    "# What is Topic Modeling?\n",
    "\n",
    "\n",
    "As a form of unsupervised machine learning, *topic modeling* allows for the classification of large collections of textual documents into natural groups, without the need for extensive human supervision. Employed in text mining and natural language processing, topic models can uncover the hidden, or *latent*, meanings of language patterns within texts.  \n",
    "\n",
    "\n",
    "> In text mining, we often have collections of documents, such as blog posts or news articles, that we’d like to divide into natural groups so that we can understand them separately. Topic modeling is a method for unsupervised classification of such documents, similar to clustering on numeric data, which finds natural groups of items even when we’re not sure what we’re looking for.\n",
    "\n",
    "[Source](https://www.tidytextmining.com/topicmodeling.html)\n"
   ]
  },
  {
   "cell_type": "markdown",
   "metadata": {
    "slideshow": {
     "slide_type": "slide"
    }
   },
   "source": [
    "## Setup\n",
    "\n",
    "In addition to `matplotlib inline` and `pandas`, we'll also be importing `CountVectorizer` from [scikit-learn](https://scikit-learn.org/stable/), a machine learning library for Python. We'll discuss the role of `CountVectorizer` in topic modeling in more detail later in the chapter. \n",
    "\n",
    "We'll also want to use `pandas` to increase our maximum column width to 120 characters, over the default 50-character column width. This will help us more easily glance over text in the dataframe. \n",
    "\n"
   ]
  },
  {
   "cell_type": "code",
   "execution_count": 1,
   "metadata": {
    "slideshow": {
     "slide_type": "slide"
    }
   },
   "outputs": [],
   "source": [
    "%matplotlib inline\n",
    "\n",
    "import pandas as pd\n",
    "\n",
    "from sklearn.feature_extraction.text import CountVectorizer\n",
    "\n",
    "\n",
    "pd.set_option('display.max_colwidth', 120)"
   ]
  },
  {
   "cell_type": "markdown",
   "metadata": {
    "slideshow": {
     "slide_type": "slide"
    }
   },
   "source": [
    "In this chapter we'll be looking at [transcriptions](https://www.kaggle.com/unitednations/un-general-debates) of United Nations General Debates, from 1970 to 2016."
   ]
  },
  {
   "cell_type": "code",
   "execution_count": 2,
   "metadata": {
    "slideshow": {
     "slide_type": "slide"
    }
   },
   "outputs": [
    {
     "name": "stdout",
     "output_type": "stream",
     "text": [
      "3214\n"
     ]
    }
   ],
   "source": [
    "un_df = pd.read_json('data/un-general-debates.json')\n",
    "print(len(un_df))"
   ]
  },
  {
   "cell_type": "markdown",
   "metadata": {
    "slideshow": {
     "slide_type": "slide"
    }
   },
   "source": [
    "With 7,507 complete transcriptions of UN members' statements to work with, this is an ideal dataset to use as we begin playing around with topic models. \n",
    "\n",
    "Let's look at a small random sample of 5 texts from the dataframe to get a feel for what we're dealing with:"
   ]
  },
  {
   "cell_type": "code",
   "execution_count": 3,
   "metadata": {},
   "outputs": [
    {
     "data": {
      "text/html": [
       "<div>\n",
       "<style scoped>\n",
       "    .dataframe tbody tr th:only-of-type {\n",
       "        vertical-align: middle;\n",
       "    }\n",
       "\n",
       "    .dataframe tbody tr th {\n",
       "        vertical-align: top;\n",
       "    }\n",
       "\n",
       "    .dataframe thead th {\n",
       "        text-align: right;\n",
       "    }\n",
       "</style>\n",
       "<table border=\"1\" class=\"dataframe\">\n",
       "  <thead>\n",
       "    <tr style=\"text-align: right;\">\n",
       "      <th></th>\n",
       "      <th>index</th>\n",
       "      <th>speech_year</th>\n",
       "      <th>country_code</th>\n",
       "      <th>speech_text</th>\n",
       "    </tr>\n",
       "  </thead>\n",
       "  <tbody>\n",
       "    <tr>\n",
       "      <th>355</th>\n",
       "      <td>810</td>\n",
       "      <td>1991</td>\n",
       "      <td>LVA</td>\n",
       "      <td>﻿Allow me to convey to the President, on behalf of the Government and people of Latvia and on my own behalf, our sin...</td>\n",
       "    </tr>\n",
       "    <tr>\n",
       "      <th>1720</th>\n",
       "      <td>3601</td>\n",
       "      <td>1999</td>\n",
       "      <td>AGO</td>\n",
       "      <td>Allow me, to begin, Sir,\\nby congratulating you on behalf of the Government of the\\nRepublic of Angola, and on my ow...</td>\n",
       "    </tr>\n",
       "    <tr>\n",
       "      <th>2001</th>\n",
       "      <td>4067</td>\n",
       "      <td>1982</td>\n",
       "      <td>BLZ</td>\n",
       "      <td>203.\\tThe delegation of the newly independent \\nCentral American and Caribbean nation of Belize \\nhas listened with ...</td>\n",
       "    </tr>\n",
       "    <tr>\n",
       "      <th>666</th>\n",
       "      <td>1435</td>\n",
       "      <td>1996</td>\n",
       "      <td>UGA</td>\n",
       "      <td>﻿It is a pleasure and an\\nhonour for me to address this Assembly. From this lofty\\nrostrum, the nations of the world...</td>\n",
       "    </tr>\n",
       "    <tr>\n",
       "      <th>2197</th>\n",
       "      <td>4263</td>\n",
       "      <td>1998</td>\n",
       "      <td>GRC</td>\n",
       "      <td>I wish first to extend to the\\nPresident my warm congratulations on his assumption of\\nthe conduct of the current se...</td>\n",
       "    </tr>\n",
       "  </tbody>\n",
       "</table>\n",
       "</div>"
      ],
      "text/plain": [
       "      index  speech_year country_code  \\\n",
       "355     810         1991          LVA   \n",
       "1720   3601         1999          AGO   \n",
       "2001   4067         1982          BLZ   \n",
       "666    1435         1996          UGA   \n",
       "2197   4263         1998          GRC   \n",
       "\n",
       "                                                                                                                  speech_text  \n",
       "355   ﻿Allow me to convey to the President, on behalf of the Government and people of Latvia and on my own behalf, our sin...  \n",
       "1720  Allow me, to begin, Sir,\\nby congratulating you on behalf of the Government of the\\nRepublic of Angola, and on my ow...  \n",
       "2001  203.\\tThe delegation of the newly independent \\nCentral American and Caribbean nation of Belize \\nhas listened with ...  \n",
       "666   ﻿It is a pleasure and an\\nhonour for me to address this Assembly. From this lofty\\nrostrum, the nations of the world...  \n",
       "2197  I wish first to extend to the\\nPresident my warm congratulations on his assumption of\\nthe conduct of the current se...  "
      ]
     },
     "execution_count": 3,
     "metadata": {},
     "output_type": "execute_result"
    }
   ],
   "source": [
    "un_df.sample(5)"
   ]
  },
  {
   "cell_type": "markdown",
   "metadata": {
    "slideshow": {
     "slide_type": "slide"
    }
   },
   "source": [
    "### Topic Modeling Exercise 1\n",
    "\n",
    "\n",
    "Take a look at the text of the UN speeches. When delivering an address, what are the different topics that are covered? Make a list of four topics and provide three example words from each topic.\n",
    "\n",
    "\n"
   ]
  },
  {
   "cell_type": "markdown",
   "metadata": {
    "slideshow": {
     "slide_type": "slide"
    }
   },
   "source": [
    "![](images/lda.jpg)"
   ]
  },
  {
   "cell_type": "markdown",
   "metadata": {
    "slideshow": {
     "slide_type": "slide"
    }
   },
   "source": [
    "## Latent Dirichlet allocation (LDA) \n",
    "\n",
    "We'll narrow our focus for the time being to one particular form of topic modeling, *Latent Dirichlet allocation*, or *LDA* for short. With LDA topic modeling, we'll be able to treat every document in our corpus as a mixture of topics. Each document in our corpus can contain words associated with any number of topics in varying proportions. At the same time, each topic can be treated as a mixture of words. Any given word can be associated with any number of topics. Considering our documents and topics as these sorts of \"mixtures\" helps us to mimic the thematic subtleties inherent in natural language.\n",
    "\n",
    "\n",
    "> Latent Dirichlet allocation (LDA) is a particularly popular method for fitting a topic model. It treats each document as a mixture of topics, and each topic as a mixture of words.  > This allows documents to “overlap” each other in terms of content, rather than being separated into discrete groups, in a way that mirrors typical use of natural language.\n",
    "Latent Dirichlet allocation is one of the most common algorithms for topic modeling. Without diving into the math behind the model, we can understand it as being guided by two principles.\n",
    "> * **Every document is a mixture of topics.** We imagine that each document may contain words from several topics in particular proportions. For example, in a two-topic model we could say “Document 1 is 90% topic A and 10% topic B, while Document 2 is 30% topic A and 70% topic B.”\n",
    "> * **Every topic is a mixture of words.** For example, we could imagine a two-topic model of American news, with one topic for “politics” and one for “entertainment.” The most common words in the politics topic might be “President”, “Congress”, and “government”, while the entertainment topic may be made up of words such as “movies”, “television”, and “actor”. Importantly, words can be shared between topics; a word like “budget” might appear in both equally.\n",
    "\n",
    "> LDA is a mathematical method for estimating both of these at the same time: finding the mixture of words that is associated with each topic, while also determining the mixture of topics that describes each document. There are a number of existing implementations of this algorithm, and we’ll explore one of them in depth.\n",
    "\n",
    "[Source](https://www.tidytextmining.com/topicmodeling.html#latent-dirichlet-allocation)"
   ]
  },
  {
   "cell_type": "markdown",
   "metadata": {
    "slideshow": {
     "slide_type": "slide"
    }
   },
   "source": [
    "![](images/lda.jpg)"
   ]
  },
  {
   "cell_type": "markdown",
   "metadata": {
    "slideshow": {
     "slide_type": "slide"
    }
   },
   "source": [
    "We can import `LatentDirichletAllocation` from scikit-learn to run our own LDA topic models in Python. "
   ]
  },
  {
   "cell_type": "code",
   "execution_count": 4,
   "metadata": {
    "slideshow": {
     "slide_type": "slide"
    }
   },
   "outputs": [],
   "source": [
    "from sklearn.decomposition import LatentDirichletAllocation"
   ]
  },
  {
   "cell_type": "markdown",
   "metadata": {
    "slideshow": {
     "slide_type": "slide"
    }
   },
   "source": [
    "### Converting Documents to Vectors\n",
    "\n",
    "In order to run our topic models, we'll need to convert each document in the corpus into a fixed-length *vector*. We can accomplish this using the [CountVectorizer](https://scikit-learn.org/stable/modules/generated/sklearn.feature_extraction.text.CountVectorizer.html?highlight=vectorizer#sklearn.feature_extraction.text.CountVectorizer) function we imported earlier in the chapter. Using `CountVectorizer`, we'll be able to transform our dataset from a collection of text documents into a matrix of token counts.\n",
    "\n",
    "`CountVectorizer` can take a number of parameters; while not an exhaustive list, some important parameters are described below. "
   ]
  },
  {
   "cell_type": "markdown",
   "metadata": {
    "slideshow": {
     "slide_type": "slide"
    }
   },
   "source": [
    "#### `CountVectorizer` Parameters\n",
    "\n",
    "- **lowercase**: Converts all text to lower case. By default, `lowercase` is set to True.\n",
    "\n",
    "\n",
    "- **ngram_range**: This allows us to restrict the range of n-values for our n-grams. Formatted as a tuple, the first sets the minimum n-value, and the second sets the maximum n-value. By default, `n-gram range` is set to (1,1). (If we leave it alone, we'll only be looking at unigrams.) \n",
    "\n",
    "\n",
    "- **stop_words**: We can use this parameter to rule out words that occur 1) too frequently, 2) not frequently enough, and/or 3) fall outside of a threshold term frequency. This can be set the 'english' to use a pre-determined set of stopwords often found in texts written in the English language. We can also provide our own list of stopwords if we so choose. \n",
    "\n",
    "> - **max_df**: Allows us to set a maximum threshold on document frequency for our terms incorporated into our vocabulary. By default, `max_df` is set to 1.0. \n",
    "> - **min_df**: Allows us to set a minimum threshold on document frequency for our terms incorporated into our vocabulary. By default, `max_df` is set to 1.0. \n",
    "> - **max_features**: Allows us to build a vocabulary exclusively from high-frequency terms occuring throughout our corpus. "
   ]
  },
  {
   "cell_type": "markdown",
   "metadata": {
    "slideshow": {
     "slide_type": "slide"
    }
   },
   "source": [
    "For now, let's set our parameters so that we convert all text to lower case, only look at unigrams, only look at terms with a document frequency of .90 or below, use the default 'english' stopwords list, and only consider the top 1,000 terms in our corpus.  "
   ]
  },
  {
   "cell_type": "code",
   "execution_count": 5,
   "metadata": {
    "slideshow": {
     "slide_type": "slide"
    }
   },
   "outputs": [],
   "source": [
    "vectorizer = CountVectorizer(lowercase   = True,\n",
    "                             ngram_range = (1,1),\n",
    "                             max_df      = .90,\n",
    "                             stop_words   = 'english',\n",
    "                             max_features = 1000)"
   ]
  },
  {
   "cell_type": "markdown",
   "metadata": {
    "slideshow": {
     "slide_type": "slide"
    }
   },
   "source": [
    "After setting our parameters, we can `fit` the vectorizer to the `speech_text` key in our UN General Debate dataframe to build a vocabulary out of the raw documents."
   ]
  },
  {
   "cell_type": "markdown",
   "metadata": {
    "slideshow": {
     "slide_type": "slide"
    }
   },
   "source": [
    "*Note*: You'll run into an Attribute Error if the key you plan to fit the vectorizer to contains any missing values. While we don't have to worry about this with our UN dataframe, if you encounter such an error in the future, be sure to [clean your dataframe](https://pandas.pydata.org/pandas-docs/stable/user_guide/missing_data.html#missing-data) before attempting to fit the vectorizer. "
   ]
  },
  {
   "cell_type": "code",
   "execution_count": 6,
   "metadata": {
    "slideshow": {
     "slide_type": "slide"
    }
   },
   "outputs": [
    {
     "data": {
      "text/plain": [
       "CountVectorizer(max_df=0.9, max_features=1000, stop_words='english')"
      ]
     },
     "execution_count": 6,
     "metadata": {},
     "output_type": "execute_result"
    }
   ],
   "source": [
    "vectorizer.fit(un_df['speech_text'])"
   ]
  },
  {
   "cell_type": "markdown",
   "metadata": {
    "slideshow": {
     "slide_type": "slide"
    }
   },
   "source": [
    "We can use the `len` function, along with `get_feature_names`, to ensure we're dealing with a vocabulary composed of the top 1,000 highest-frequency terms in our corpus. "
   ]
  },
  {
   "cell_type": "code",
   "execution_count": 7,
   "metadata": {},
   "outputs": [
    {
     "data": {
      "text/plain": [
       "1000"
      ]
     },
     "execution_count": 7,
     "metadata": {},
     "output_type": "execute_result"
    }
   ],
   "source": [
    "len(vectorizer.get_feature_names())"
   ]
  },
  {
   "cell_type": "markdown",
   "metadata": {
    "slideshow": {
     "slide_type": "slide"
    }
   },
   "source": [
    "Now we'll want to use the vectorizor to `transform` the raw documents into a document-term matrix. "
   ]
  },
  {
   "cell_type": "code",
   "execution_count": 8,
   "metadata": {
    "slideshow": {
     "slide_type": "slide"
    }
   },
   "outputs": [],
   "source": [
    "un_word_counts = vectorizer.transform(un_df['speech_text'])"
   ]
  },
  {
   "cell_type": "markdown",
   "metadata": {
    "slideshow": {
     "slide_type": "slide"
    }
   },
   "source": [
    "### Running the LDA Model\n",
    "\n",
    "Now that we've vectorized our dataset, we're just about ready to run our first LDA model in Python. Before we do, though, we'll want to set our parameters. Below is some information on the parameters we'll set. "
   ]
  },
  {
   "cell_type": "markdown",
   "metadata": {},
   "source": [
    "#### `LatentDirichletAllocation` Parameters\n",
    "\n",
    "- **n_components**: Sets the number of topics generated. We can set this as high or as low as we like, depending on the size and character of the texts in our corpus. \n",
    "\n",
    "\n",
    "- **max_iter**: Sets the maximum number of iterations. By default, `max_iter` is set to 10.\n",
    "> - ***Note***: In almost every case, we'll want to set `max_iter` above 10. It's highly unlikely our models will converge in 10 iterations or less. In the following example, we'll set `max_iter` to 50, a more reasonable maximum iteration threshold.\n",
    "\n",
    "- **evaluate_every**: Lets us adjust how frequently we gauge the perplexity of our model across iterations. By default, `evaluate_every` is set to 0.\n",
    "> - ***Note***: Leaving `evaluate_every` at 0 leaves our model without any built-in goodness of fit measure. We'll discuss other measurements of model fit later in the chapter, but for now it's useful to set `evaluate_every` to some positive number. In the following example, we'll `evaluate_every` 5 iterations.\n",
    "\n",
    "- **n_jobs**: Sets the number of concurrently running processes. When set to -1, we'll use all processors. To use all processors but one, set `n_jobs` to -2. \n",
    "\n",
    "\n",
    "- **verbose**: Lets us determine whether or not every step of the process is logged. If > 0, we'll be able to see what's going on with our LDA model through the output in real time. "
   ]
  },
  {
   "cell_type": "code",
   "execution_count": 9,
   "metadata": {
    "slideshow": {
     "slide_type": "slide"
    }
   },
   "outputs": [],
   "source": [
    "lda_model = LatentDirichletAllocation(n_components = 10,\n",
    "                                      max_iter     = 50,\n",
    "                                      n_jobs       = -1,\n",
    "                                      verbose      = 1)"
   ]
  },
  {
   "cell_type": "markdown",
   "metadata": {
    "slideshow": {
     "slide_type": "slide"
    }
   },
   "source": [
    "With our parameters set, we can `fit` the LDA model to our document-term matrix of the UN General Debate transcripts.\n",
    "\n",
    "*Note*: It's going to take a while to work our way through up to 50 iterations. That's alright."
   ]
  },
  {
   "cell_type": "code",
   "execution_count": 10,
   "metadata": {
    "slideshow": {
     "slide_type": "slide"
    }
   },
   "outputs": [
    {
     "name": "stdout",
     "output_type": "stream",
     "text": [
      "iteration: 1 of max_iter: 50\n",
      "iteration: 2 of max_iter: 50\n",
      "iteration: 3 of max_iter: 50\n",
      "iteration: 4 of max_iter: 50\n",
      "iteration: 5 of max_iter: 50\n",
      "iteration: 6 of max_iter: 50\n",
      "iteration: 7 of max_iter: 50\n",
      "iteration: 8 of max_iter: 50\n",
      "iteration: 9 of max_iter: 50\n",
      "iteration: 10 of max_iter: 50\n",
      "iteration: 11 of max_iter: 50\n",
      "iteration: 12 of max_iter: 50\n",
      "iteration: 13 of max_iter: 50\n",
      "iteration: 14 of max_iter: 50\n",
      "iteration: 15 of max_iter: 50\n",
      "iteration: 16 of max_iter: 50\n",
      "iteration: 17 of max_iter: 50\n",
      "iteration: 18 of max_iter: 50\n",
      "iteration: 19 of max_iter: 50\n",
      "iteration: 20 of max_iter: 50\n",
      "iteration: 21 of max_iter: 50\n",
      "iteration: 22 of max_iter: 50\n",
      "iteration: 23 of max_iter: 50\n",
      "iteration: 24 of max_iter: 50\n",
      "iteration: 25 of max_iter: 50\n",
      "iteration: 26 of max_iter: 50\n",
      "iteration: 27 of max_iter: 50\n",
      "iteration: 28 of max_iter: 50\n",
      "iteration: 29 of max_iter: 50\n",
      "iteration: 30 of max_iter: 50\n",
      "iteration: 31 of max_iter: 50\n",
      "iteration: 32 of max_iter: 50\n",
      "iteration: 33 of max_iter: 50\n",
      "iteration: 34 of max_iter: 50\n",
      "iteration: 35 of max_iter: 50\n",
      "iteration: 36 of max_iter: 50\n",
      "iteration: 37 of max_iter: 50\n",
      "iteration: 38 of max_iter: 50\n",
      "iteration: 39 of max_iter: 50\n",
      "iteration: 40 of max_iter: 50\n",
      "iteration: 41 of max_iter: 50\n",
      "iteration: 42 of max_iter: 50\n",
      "iteration: 43 of max_iter: 50\n",
      "iteration: 44 of max_iter: 50\n",
      "iteration: 45 of max_iter: 50\n",
      "iteration: 46 of max_iter: 50\n",
      "iteration: 47 of max_iter: 50\n",
      "iteration: 48 of max_iter: 50\n",
      "iteration: 49 of max_iter: 50\n",
      "iteration: 50 of max_iter: 50\n"
     ]
    },
    {
     "data": {
      "text/plain": [
       "LatentDirichletAllocation(max_iter=50, n_jobs=-1, verbose=1)"
      ]
     },
     "execution_count": 10,
     "metadata": {},
     "output_type": "execute_result"
    }
   ],
   "source": [
    "lda_model.fit(un_word_counts)"
   ]
  },
  {
   "cell_type": "markdown",
   "metadata": {},
   "source": [
    "Congrats, you've run your first topic model on Python!"
   ]
  },
  {
   "cell_type": "markdown",
   "metadata": {
    "slideshow": {
     "slide_type": "slide"
    }
   },
   "source": [
    "## Some fit statistics\n",
    "\n",
    "While we can intuitively \"eyeball\" topic quality as a first step, it's hard to do so objectively.  Calculating some fit statistics can help us to evaluate our topics' quality numerically.\n",
    "\n",
    "\n",
    "`LatentDirichletAllocation` includes a few handy methods for calculating fit statistics:\n",
    "\n",
    "- **`score()`** lets us calculate the approximate logged likelihood of the model parameters we've set, given our data. The higher this number is, the better our topic fit. \n",
    "- **`perplexity()`**, another (normalized) form of logged likelihood, calculates the amount of \"surprise\" our model experiences if we introduce some previously unseen data. The lower this number is, the better our topic fit.\n",
    "\n",
    "To learn more about evaluating fit for LDA topic models in Python, see [here](https://towardsdatascience.com/evaluate-topic-model-in-python-latent-dirichlet-allocation-lda-7d57484bb5d0)."
   ]
  },
  {
   "cell_type": "code",
   "execution_count": 11,
   "metadata": {},
   "outputs": [
    {
     "name": "stdout",
     "output_type": "stream",
     "text": [
      "Log Likelihood:  -17541939.72397841\n",
      "Perplexity:  700.1354513027705\n"
     ]
    }
   ],
   "source": [
    "# Log Likelihood: Higher the better\n",
    "print(\"Log Likelihood: \", lda_model.score(un_word_counts))\n",
    "\n",
    "# Perplexity: Lower the better. Perplexity = exp(-1. * log-likelihood per word)\n",
    "print(\"Perplexity: \", lda_model.perplexity(un_word_counts))"
   ]
  },
  {
   "cell_type": "markdown",
   "metadata": {
    "slideshow": {
     "slide_type": "slide"
    }
   },
   "source": [
    "### Guidelines on topic fit\n",
    "1. Low perplexity on test data.\n",
    "    - Remeber that the lower our perplexity score, the better our topic fit to our data.\n",
    "1. **Topical coherence**\n",
    "2. Best fit in a classification task.\n",
    "    - We'll discuss classification tasks in more detail in another chapter. \n",
    "3. Extract more and then bin them yourself. \n",
    "    - When all else fails, "
   ]
  },
  {
   "cell_type": "code",
   "execution_count": 12,
   "metadata": {
    "slideshow": {
     "slide_type": "skip"
    }
   },
   "outputs": [
    {
     "name": "stdout",
     "output_type": "stream",
     "text": [
      "{'batch_size': 128, 'doc_topic_prior': None, 'evaluate_every': -1, 'learning_decay': 0.7, 'learning_method': 'batch', 'learning_offset': 10.0, 'max_doc_update_iter': 100, 'max_iter': 50, 'mean_change_tol': 0.001, 'n_components': 10, 'n_jobs': -1, 'perp_tol': 0.1, 'random_state': None, 'topic_word_prior': None, 'total_samples': 1000000.0, 'verbose': 1}\n"
     ]
    }
   ],
   "source": [
    "print(lda_model.get_params())"
   ]
  },
  {
   "cell_type": "markdown",
   "metadata": {
    "slideshow": {
     "slide_type": "slide"
    }
   },
   "source": [
    "## Visualizing Topics"
   ]
  },
  {
   "cell_type": "markdown",
   "metadata": {
    "slideshow": {
     "slide_type": "slide"
    }
   },
   "source": [
    "In this section we'll discuss some of the ways we can visualize the topics we've created with our LDA model. "
   ]
  },
  {
   "cell_type": "markdown",
   "metadata": {},
   "source": [
    "### pdtext"
   ]
  },
  {
   "cell_type": "markdown",
   "metadata": {
    "slideshow": {
     "slide_type": "slide"
    }
   },
   "source": [
    "First, we can import `topic_words` from the `pdtext` package in order to create a easily interpretable matrix of our topics. Below, we'll look at the first 10:"
   ]
  },
  {
   "cell_type": "code",
   "execution_count": 13,
   "metadata": {},
   "outputs": [
    {
     "ename": "ModuleNotFoundError",
     "evalue": "No module named 'pdtext'",
     "output_type": "error",
     "traceback": [
      "\u001b[0;31m---------------------------------------------------------------------------\u001b[0m",
      "\u001b[0;31mModuleNotFoundError\u001b[0m                       Traceback (most recent call last)",
      "\u001b[0;32m<ipython-input-13-a663a4f2e2cb>\u001b[0m in \u001b[0;36m<module>\u001b[0;34m\u001b[0m\n\u001b[0;32m----> 1\u001b[0;31m \u001b[0;32mfrom\u001b[0m \u001b[0mpdtext\u001b[0m\u001b[0;34m.\u001b[0m\u001b[0mtm\u001b[0m \u001b[0;32mimport\u001b[0m \u001b[0mtopic_words\u001b[0m\u001b[0;34m\u001b[0m\u001b[0;34m\u001b[0m\u001b[0m\n\u001b[0m\u001b[1;32m      2\u001b[0m \u001b[0;34m\u001b[0m\u001b[0m\n\u001b[1;32m      3\u001b[0m \u001b[0mtopic_words\u001b[0m\u001b[0;34m(\u001b[0m\u001b[0mlda_model\u001b[0m\u001b[0;34m,\u001b[0m \u001b[0mvectorizer\u001b[0m\u001b[0;34m)\u001b[0m\u001b[0;34m.\u001b[0m\u001b[0mhead\u001b[0m\u001b[0;34m(\u001b[0m\u001b[0;36m10\u001b[0m\u001b[0;34m)\u001b[0m\u001b[0;34m\u001b[0m\u001b[0;34m\u001b[0m\u001b[0m\n",
      "\u001b[0;31mModuleNotFoundError\u001b[0m: No module named 'pdtext'"
     ]
    }
   ],
   "source": [
    "from pdtext.tm import topic_words\n",
    "\n",
    "topic_words(lda_model, vectorizer).head(10)\n"
   ]
  },
  {
   "cell_type": "markdown",
   "metadata": {
    "slideshow": {
     "slide_type": "slide"
    }
   },
   "source": [
    "Also from `pdtext`, `topic_pred` will let us see which documents are associated with which topics."
   ]
  },
  {
   "cell_type": "code",
   "execution_count": null,
   "metadata": {
    "slideshow": {
     "slide_type": "slide"
    }
   },
   "outputs": [],
   "source": [
    "from pdtext.tm import topic_pred"
   ]
  },
  {
   "cell_type": "code",
   "execution_count": null,
   "metadata": {
    "slideshow": {
     "slide_type": "slide"
    }
   },
   "outputs": [],
   "source": [
    "un_topics = topic_pred(lda_model, un_word_counts, vectorizer)"
   ]
  },
  {
   "cell_type": "code",
   "execution_count": null,
   "metadata": {
    "slideshow": {
     "slide_type": "fragment"
    }
   },
   "outputs": [],
   "source": [
    "un_topics"
   ]
  },
  {
   "cell_type": "markdown",
   "metadata": {
    "slideshow": {
     "slide_type": "slide"
    }
   },
   "source": [
    "We can now use our topics as features in order to get a better handle on topic patterns across texts."
   ]
  },
  {
   "cell_type": "markdown",
   "metadata": {
    "slideshow": {
     "slide_type": "slide"
    }
   },
   "source": [
    "One way to do this is to generate a new key in our United Nations dataframe. For exmaple, we can create a `post_soviet` key to divide our general debate speeches between those that occured prior to the fall of the Soviet Union (where `post_soviet` = False), and those that occured after the fall of the Soviet Union (where `post_soviet` = True)."
   ]
  },
  {
   "cell_type": "code",
   "execution_count": null,
   "metadata": {
    "slideshow": {
     "slide_type": "slide"
    }
   },
   "outputs": [],
   "source": [
    "un_df['post_soviet'] = un_df['speech_year'] > 1991"
   ]
  },
  {
   "cell_type": "code",
   "execution_count": null,
   "metadata": {
    "scrolled": true,
    "slideshow": {
     "slide_type": "slide"
    }
   },
   "outputs": [],
   "source": [
    "un_topics.groupby(un_df['post_soviet']).mean()"
   ]
  },
  {
   "cell_type": "code",
   "execution_count": null,
   "metadata": {},
   "outputs": [],
   "source": [
    "un_topics.groupby(un_df['post_soviet']).mean().T"
   ]
  },
  {
   "cell_type": "markdown",
   "metadata": {
    "slideshow": {
     "slide_type": "slide"
    }
   },
   "source": [
    "### pyLDAvis"
   ]
  },
  {
   "cell_type": "markdown",
   "metadata": {},
   "source": [
    "The [pyLDAvis](https://pyldavis.readthedocs.io/en/latest/readme.html) library, a port of the [LDAvis](https://github.com/cpsievert/LDAvis) package for R, provides a variety of tools for interactive topic model visualization. "
   ]
  },
  {
   "cell_type": "code",
   "execution_count": null,
   "metadata": {},
   "outputs": [],
   "source": [
    "pip install pyldavis"
   ]
  },
  {
   "cell_type": "markdown",
   "metadata": {
    "slideshow": {
     "slide_type": "slide"
    }
   },
   "source": [
    "`pyLDAvis` is conveniently compatible with `LatentDirichletAllocation` from scikit-learn."
   ]
  },
  {
   "cell_type": "code",
   "execution_count": 14,
   "metadata": {
    "slideshow": {
     "slide_type": "slide"
    }
   },
   "outputs": [],
   "source": [
    "import pyLDAvis\n",
    "import pyLDAvis.sklearn"
   ]
  },
  {
   "cell_type": "markdown",
   "metadata": {
    "slideshow": {
     "slide_type": "slide"
    }
   },
   "source": [
    "We'll also import `pyplot` from matplotlib to allow for the generation of interactive plots in Python. "
   ]
  },
  {
   "cell_type": "code",
   "execution_count": 15,
   "metadata": {
    "slideshow": {
     "slide_type": "slide"
    }
   },
   "outputs": [],
   "source": [
    "import matplotlib.pyplot as plt"
   ]
  },
  {
   "cell_type": "markdown",
   "metadata": {
    "slideshow": {
     "slide_type": "slide"
    }
   },
   "source": [
    "Now we'll want to use the `enable_notebook()` function to allow us to display visualizations in our notebook."
   ]
  },
  {
   "cell_type": "code",
   "execution_count": 16,
   "metadata": {
    "slideshow": {
     "slide_type": "slide"
    }
   },
   "outputs": [],
   "source": [
    "pyLDAvis.enable_notebook()"
   ]
  },
  {
   "cell_type": "markdown",
   "metadata": {
    "slideshow": {
     "slide_type": "slide"
    }
   },
   "source": [
    "Finally, we can use the `prepare()` function to transform the data from our LDA model into interactive visualizations!"
   ]
  },
  {
   "cell_type": "code",
   "execution_count": 17,
   "metadata": {
    "slideshow": {
     "slide_type": "slide"
    }
   },
   "outputs": [
    {
     "data": {
      "text/html": [
       "\n",
       "<link rel=\"stylesheet\" type=\"text/css\" href=\"https://cdn.rawgit.com/bmabey/pyLDAvis/files/ldavis.v1.0.0.css\">\n",
       "\n",
       "\n",
       "<div id=\"ldavis_el4673748904692004580331493\"></div>\n",
       "<script type=\"text/javascript\">\n",
       "\n",
       "var ldavis_el4673748904692004580331493_data = {\"mdsDat\": {\"x\": [32.42095184326172, 0.648955225944519, 71.01968383789062, 3.7859814167022705, -42.666500091552734, -3.6216893196105957, -3.632401704788208, -36.58440017700195, 44.391380310058594, 40.235809326171875], \"y\": [8.115229606628418, 71.70709991455078, 9.971006393432617, 33.18513488769531, -9.22206974029541, -43.52651596069336, -4.171707630157471, 35.804412841796875, 50.61538314819336, -31.591665267944336], \"topics\": [1, 2, 3, 4, 5, 6, 7, 8, 9, 10], \"cluster\": [1, 1, 1, 1, 1, 1, 1, 1, 1, 1], \"Freq\": [13.011076251705243, 12.808893018234238, 12.623543695172785, 11.405574316314352, 11.00699411044607, 10.55457230847633, 10.391145182271496, 6.9635390745221235, 6.262340521177166, 4.972321521680203]}, \"tinfo\": {\"Term\": [\"nuclear\", \"africa\", \"south\", \"african\", \"arab\", \"israel\", \"republic\", \"developing\", \"weapons\", \"council\", \"small\", \"soviet\", \"iraq\", \"europe\", \"democratic\", \"lebanon\", \"war\", \"aggression\", \"namibia\", \"military\", \"european\", \"palestinian\", \"afghanistan\", \"resolutions\", \"peoples\", \"global\", \"union\", \"cooperation\", \"reform\", \"debt\", \"globalization\", \"japan\", \"personnel\", \"fiftieth\", \"reform\", \"operations\", \"millennium\", \"sustainable\", \"proliferation\", \"court\", \"ban\", \"test\", \"bosnia\", \"criminal\", \"challenges\", \"prevention\", \"contributions\", \"agenda\", \"diplomacy\", \"membership\", \"enhance\", \"cold\", \"ethnic\", \"crime\", \"century\", \"humanitarian\", \"cooperation\", \"focus\", \"environmental\", \"vision\", \"permanent\", \"keeping\", \"treaty\", \"council\", \"global\", \"member\", \"weapons\", \"rights\", \"financial\", \"nuclear\", \"need\", \"role\", \"regional\", \"non\", \"issues\", \"social\", \"important\", \"year\", \"process\", \"work\", \"activities\", \"conflict\", \"effective\", \"action\", \"war\", \"debt\", \"rates\", \"prices\", \"recovery\", \"growth\", \"sustained\", \"structural\", \"apartheid\", \"external\", \"prospects\", \"bank\", \"developing\", \"decade\", \"burden\", \"encouraged\", \"multilateral\", \"urge\", \"super\", \"industrial\", \"critical\", \"fund\", \"interdependence\", \"round\", \"cent\", \"developed\", \"industrialized\", \"south\", \"economies\", \"substantial\", \"billion\", \"remains\", \"trade\", \"africa\", \"operation\", \"namibia\", \"continued\", \"disarmament\", \"problem\", \"major\", \"continue\", \"global\", \"year\", \"negotiations\", \"conference\", \"problems\", \"continues\", \"hope\", \"resources\", \"issues\", \"long\", \"financial\", \"progress\", \"measures\", \"recent\", \"action\", \"conflict\", \"situation\", \"need\", \"east\", \"nuclear\", \"latin\", \"american\", \"el\", \"nicaragua\", \"america\", \"men\", \"democracy\", \"central\", \"man\", \"powerful\", \"know\", \"freedom\", \"values\", \"death\", \"poor\", \"hunger\", \"history\", \"society\", \"societies\", \"words\", \"trafficking\", \"fight\", \"said\", \"dignity\", \"moral\", \"education\", \"want\", \"nation\", \"kind\", \"drugs\", \"power\", \"life\", \"true\", \"today\", \"shall\", \"solidarity\", \"governments\", \"justice\", \"mankind\", \"peoples\", \"social\", \"century\", \"democratic\", \"war\", \"order\", \"rights\", \"make\", \"president\", \"great\", \"right\", \"respect\", \"free\", \"way\", \"state\", \"future\", \"national\", \"problems\", \"end\", \"chad\", \"pretoria\", \"namibian\", \"racist\", \"thirty\", \"435\", \"colonial\", \"namibia\", \"oau\", \"domination\", \"sahara\", \"colonialism\", \"liberation\", \"1978\", \"indian\", \"ocean\", \"inalienable\", \"angola\", \"regime\", \"struggle\", \"independence\", \"heads\", \"african\", \"southern\", \"apartheid\", \"aligned\", \"africa\", \"western\", \"interference\", \"spite\", \"troops\", \"south\", \"situation\", \"peoples\", \"territory\", \"determination\", \"delegation\", \"state\", \"right\", \"self\", \"foreign\", \"question\", \"republic\", \"solution\", \"resolution\", \"order\", \"non\", \"national\", \"charter\", \"just\", \"operation\", \"policy\", \"relations\", \"european\", \"europe\", \"france\", \"eastern\", \"union\", \"yugoslavia\", \"field\", \"think\", \"idea\", \"specific\", \"violations\", \"freedoms\", \"ideas\", \"ready\", \"conventional\", \"tasks\", \"active\", \"decisive\", \"importance\", \"directly\", \"contribution\", \"final\", \"possible\", \"protection\", \"armaments\", \"cases\", \"actively\", \"concerning\", \"confidence\", \"consider\", \"results\", \"particular\", \"rights\", \"operation\", \"important\", \"fundamental\", \"relations\", \"course\", \"problems\", \"conference\", \"law\", \"way\", \"respect\", \"future\", \"negotiations\", \"like\", \"process\", \"agreement\", \"work\", \"disarmament\", \"necessary\", \"make\", \"progress\", \"role\", \"year\", \"situation\", \"solution\", \"conflict\", \"council\", \"kuwait\", \"disputes\", \"cyprus\", \"accordance\", \"achievement\", \"gulf\", \"principles\", \"constitutes\", \"resolutions\", \"conviction\", \"prevail\", \"dispute\", \"negative\", \"territorial\", \"appreciation\", \"practices\", \"positive\", \"stability\", \"achieving\", \"pleasure\", \"settlement\", \"integrity\", \"obstacles\", \"constitute\", \"kingdom\", \"provisions\", \"coexistence\", \"purposes\", \"prosperity\", \"palestinian\", \"relations\", \"sovereignty\", \"achieve\", \"based\", \"region\", \"peaceful\", \"order\", \"express\", \"charter\", \"role\", \"solution\", \"respect\", \"framework\", \"arab\", \"view\", \"problems\", \"peoples\", \"developing\", \"middle\", \"situation\", \"regional\", \"hope\", \"council\", \"problem\", \"rights\", \"basis\", \"cooperation\", \"just\", \"east\", \"liberia\", \"rwanda\", \"somalia\", \"boutros\", \"elections\", \"herzegovina\", \"reconciliation\", \"guinea\", \"cambodia\", \"eighth\", \"constitution\", \"reconstruction\", \"signing\", \"bosnia\", \"civil\", \"oau\", \"african\", \"september\", \"transition\", \"continent\", \"angola\", \"gratitude\", \"welcomes\", \"unity\", \"republic\", \"democratic\", \"refugees\", \"thanks\", \"ethnic\", \"neighbouring\", \"programme\", \"democracy\", \"mr\", \"africa\", \"national\", \"assistance\", \"president\", \"delegation\", \"process\", \"like\", \"social\", \"summit\", \"conflict\", \"conflicts\", \"cooperation\", \"agreement\", \"hope\", \"situation\", \"parties\", \"state\", \"order\", \"war\", \"rights\", \"end\", \"great\", \"council\", \"viet\", \"nam\", \"socialist\", \"pakistan\", \"india\", \"soviet\", \"space\", \"china\", \"korea\", \"kampuchea\", \"weapon\", \"asia\", \"nuclear\", \"korean\", \"asian\", \"strategic\", \"reunification\", \"proposal\", \"zone\", \"union\", \"race\", \"afghan\", \"indian\", \"weapons\", \"armaments\", \"arms\", \"anti\", \"military\", \"afghanistan\", \"detente\", \"proposals\", \"republic\", \"democratic\", \"forces\", \"treaty\", \"policy\", \"disarmament\", \"war\", \"non\", \"independence\", \"peaceful\", \"relations\", \"peoples\", \"south\", \"national\", \"east\", \"situation\", \"islamic\", \"lebanese\", \"iraqi\", \"lebanon\", \"iraq\", \"israeli\", \"iran\", \"israel\", \"arab\", \"aggression\", \"afghan\", \"occupation\", \"occupied\", \"land\", \"afghanistan\", \"gulf\", \"palestine\", \"kuwait\", \"super\", \"palestinian\", \"territories\", \"resolutions\", \"thousands\", \"imposed\", \"acts\", \"did\", \"regime\", \"authorities\", \"borders\", \"return\", \"withdrawal\", \"territory\", \"war\", \"council\", \"resolution\", \"middle\", \"region\", \"east\", \"military\", \"state\", \"forces\", \"powers\", \"right\", \"rights\", \"end\", \"island\", \"pacific\", \"caribbean\", \"islands\", \"haiti\", \"small\", \"sea\", \"guinea\", \"body\", \"forum\", \"france\", \"ocean\", \"look\", \"prime\", \"kingdom\", \"arrangements\", \"change\", \"china\", \"assist\", \"membership\", \"convention\", \"urge\", \"sustainable\", \"pleased\", \"environmental\", \"environment\", \"earth\", \"address\", \"constitution\", \"natural\", \"delegation\", \"resources\", \"developing\", \"members\", \"south\", \"global\", \"year\", \"region\", \"nation\", \"trade\", \"developed\", \"member\", \"issues\", \"continue\", \"need\", \"like\", \"hope\", \"work\", \"believe\"], \"Freq\": [13483.0, 16912.0, 16798.0, 8874.0, 5248.0, 5562.0, 10894.0, 12573.0, 9158.0, 14300.0, 4125.0, 4521.0, 3920.0, 4950.0, 7142.0, 3528.0, 12307.0, 4229.0, 4940.0, 7257.0, 3927.0, 4971.0, 3962.0, 5129.0, 11803.0, 8425.0, 4521.0, 8966.0, 4053.0, 4494.0, 1159.4133374830476, 1045.462684871761, 842.4480853759958, 1058.8154448754372, 3315.7216934245116, 1658.3127167638647, 733.64462032205, 1385.2540366525307, 1532.5053937392765, 774.3807840092616, 906.8299395271745, 791.557363319854, 863.2914877668061, 553.9467516539044, 1734.0028225286671, 570.6207784875202, 640.9825573381578, 1829.3101656593217, 558.0967500202588, 1226.262158391984, 588.1296753495071, 1174.1876109087461, 786.7754548346198, 514.9264505038136, 1722.657401549568, 1242.0675247952643, 4236.042757261302, 471.32907099167875, 896.5199193192642, 556.1398085297267, 1395.1274791439341, 1669.6891397525947, 2050.39028662723, 5340.947075309885, 3252.964224433965, 2775.2396189236906, 2863.819298975984, 4398.241628256512, 1909.0168014001877, 3620.496790614422, 2340.3589946478105, 2225.612005301069, 2103.456136815545, 2250.9105703923083, 1766.7541228852722, 2465.9380363348396, 2199.935174984775, 2253.9024374145997, 2092.753272537602, 1873.9852923025157, 1344.9079509409833, 1547.5629401984827, 1427.8525175894847, 1495.0711444124154, 1418.1746239166912, 2899.7462573543094, 649.9688419659104, 735.7097744548762, 827.4711530876465, 2084.1834512407604, 551.9773276070922, 637.9817660463561, 2028.1138870602786, 1063.7336124613782, 594.0127136341735, 491.3533683606422, 5458.513870543343, 863.2711986378897, 694.4267429665775, 487.0773198218828, 1123.9683436503217, 853.3807856629837, 685.1256216449945, 427.1978013322254, 618.9837780147086, 543.746109735308, 536.3651892687569, 408.7010293504118, 1058.470300975542, 2214.063029599412, 727.9958343197492, 6286.245751981377, 941.6716613044044, 427.2517462216011, 506.40475302150054, 1362.5972858387631, 2262.7211774184684, 5503.6369231267145, 2868.349313223757, 1667.303145780607, 1023.7435932702415, 2119.198620063913, 2170.3223453647865, 1632.3626734016648, 2388.2347165638175, 2208.2007508188203, 2682.227829594065, 2019.0623825388564, 2586.824336086344, 2778.4129286449006, 1362.5695093753004, 2282.841731381285, 1793.9463649126612, 1525.6816599419228, 1658.758218340144, 1478.8681363488583, 1736.1791090475256, 1579.6919387648784, 1494.0272547680886, 1580.5783362071272, 1627.443281893185, 1753.1178815558676, 1598.9514846611535, 1622.6399054999774, 1651.8400769002221, 2286.2061462836236, 2670.8904261139533, 741.7984762954906, 670.1497809223786, 3202.530363795958, 725.1424260142808, 2574.660548569161, 2835.906222654261, 921.7740030628411, 561.7862093932612, 915.8375264303231, 2380.118502103559, 794.5037455098735, 432.91092863457135, 782.7978739304591, 445.98799458809793, 1795.2968445663535, 1267.6039601855866, 443.20961226668584, 663.0606714557955, 526.5044483367604, 467.3131077816957, 824.1551400866482, 813.6220918642179, 615.9826197999623, 430.2982121737182, 732.2485660277963, 1332.7591673028874, 455.45944038148554, 476.91702823387504, 1686.6063436178677, 1730.6378963749935, 991.8879076056738, 2945.919103771018, 989.1721130706783, 1275.1501578139664, 1197.646725084977, 1563.9387862216643, 1577.9949059300236, 3114.5840936181194, 2926.028358570862, 1198.8394730168554, 1840.0504386726384, 2473.8981688766326, 2340.6106927682285, 2730.9047123405244, 1825.6247976111006, 1807.9414075279044, 1920.3155024488035, 1761.7640834044425, 1759.8059494489341, 1433.8469266909494, 1547.7404921329457, 1816.6766157626066, 1562.8947388643112, 1757.8188534245837, 1728.6846463891507, 1486.8284159964328, 1309.1041275850048, 1163.7167526718183, 958.9363721646167, 1369.2944272834552, 1247.5771252229845, 659.2464649553411, 802.9704419893146, 3083.9698013600782, 1078.1491326634107, 552.2731665190844, 665.3887258545408, 577.3500537231445, 1033.0704108829386, 712.7141804992243, 606.1619253740455, 696.5926349060354, 541.7226776765002, 1126.1954310425544, 2156.0655647494677, 2014.7831735520713, 3313.169206748195, 712.7934846336467, 3806.3329193637805, 1189.5076208679452, 1755.5709473010997, 1167.7401750457066, 6769.496165882845, 1041.3407445142032, 937.3475939645266, 460.52850758017433, 850.6274831797248, 5149.217009610875, 3383.8202347290935, 2899.7230382186985, 1150.4593472645477, 1611.3272863786437, 1756.788263475487, 2063.571137504557, 1750.9836683270926, 1373.7493165731232, 1585.9450887928954, 1460.8628801418272, 1744.089600120181, 1559.8331254659395, 1439.3426888483957, 1672.9872764982315, 1532.444609127943, 1509.6133658111812, 1403.822261549433, 1355.5531312852124, 1349.8139164735169, 1311.7912042639255, 1329.7456257326849, 3429.9006193181553, 4095.3598000383176, 605.8839507989267, 592.761855708937, 2069.3317772065484, 487.3608902960529, 1008.9158841694735, 375.26802737949714, 449.4103481418816, 537.8870518880002, 462.60554469521963, 385.3318829200361, 347.3466074645037, 487.11533022819555, 471.5695785799475, 339.8368572021001, 685.2580569605857, 348.4499101411375, 1375.0219916584065, 321.03011818659695, 991.2333859186907, 638.3589975406165, 1875.7068406093967, 775.3991476601325, 307.4848075759532, 293.3376910696404, 414.25730989782136, 374.78454070880144, 911.8089059547522, 634.3165729272457, 870.2500587840204, 1433.8519287158827, 3866.0843557633043, 2077.8676739697785, 2186.5843941328108, 1036.8285779957828, 2170.5776928294295, 820.3383737396753, 2322.563552436261, 2090.7118072999106, 1323.0410639088318, 1490.4310331820166, 1714.084776931617, 1476.07426168073, 1474.9587621624473, 1637.8691107229843, 1751.4916000936576, 1254.9241085604444, 1594.7229637661453, 1350.1391351504585, 1186.5338600679925, 1390.48064532997, 1338.2335909548476, 1322.1743080401388, 1475.1441888288564, 1457.6329510244736, 1272.5457069525694, 1246.8704277543184, 1286.4167914690454, 697.9612322649946, 1019.5267498147033, 976.9773844172062, 932.8488444865322, 697.978064218674, 745.8945398273994, 3265.6606510620227, 456.78290625178124, 1949.5463467129323, 441.5539179566034, 377.6370587630578, 429.9278445455202, 435.39561373344435, 1078.5902477494385, 773.5393956035377, 367.21600965771154, 1536.298636262417, 2104.555810552202, 572.820309759875, 422.82500197240927, 2045.425408594821, 958.6238041819751, 412.2983638004003, 477.91925934802265, 485.30282359591206, 466.63202839680173, 421.903574592935, 646.8060277032106, 626.5034204658392, 1570.588004392537, 3182.162722072586, 1356.2174333301696, 1389.8157898939974, 1564.258162196902, 3481.1828009064825, 2231.853607276355, 3090.5164477650123, 1221.2730280045207, 2175.73437187515, 2068.0546604518318, 2088.1173404399797, 2194.1925005443077, 1159.7590270073376, 1424.3733956112005, 1570.1413399660541, 2431.322124006059, 2309.3021020064357, 2357.629186546529, 1464.3483244377485, 2024.200333460793, 1544.0530403856665, 1730.0424784275808, 1922.2792356025059, 1470.9380835477884, 1790.675306671825, 1302.3170965636668, 1493.3637742723322, 1384.196016227312, 1390.6415521951815, 970.9965385713848, 1116.1120022386442, 1098.5151502127123, 873.3400950123048, 1257.6446192630897, 629.2517800506658, 1040.6910484704015, 676.4957504024592, 705.8000425396997, 680.6933145022821, 486.216505450957, 513.6282521849281, 449.84788733218204, 648.8259306523505, 674.2261855264062, 736.4063348653951, 3534.1405457226483, 679.6805114375329, 454.45796145817343, 1218.7768844409727, 883.9024458216186, 474.24899241739905, 644.7174121318429, 1342.340462175957, 4055.181882270848, 2629.6322542140124, 973.0753215274724, 480.63607876710955, 585.0539738171221, 429.3291095839568, 1257.4254950988275, 1621.6893694761197, 2064.3754690833434, 4180.690705389218, 2733.932896549035, 1512.4744532058019, 1853.9284501919362, 1613.3893365199542, 2206.585852068049, 1988.0052319630795, 2107.0063280207933, 972.8741903341052, 1703.7671265062668, 1421.770915168839, 1653.5310242675596, 1384.8048874504123, 1736.3030800484032, 1892.3760170651342, 1372.2772170852995, 1705.306300233203, 1673.1292195421206, 1525.7648629943762, 1576.9448457422445, 1412.148080384705, 1370.9946292176473, 1413.394152741409, 1134.8031097656472, 1117.852348292706, 1086.1572777002566, 746.8718512634088, 741.8666995015969, 3006.699623782966, 886.7718084529773, 818.0510803638703, 1258.4367255426603, 1480.3369420798192, 948.7555311065213, 1578.8767342902843, 6592.377016172913, 783.3452297237998, 487.8718364361254, 661.6317392569009, 423.9685069235428, 738.164484424697, 593.2706967728577, 1724.651201198608, 1307.8214431472923, 435.4585321447796, 444.08452957734636, 3294.8289469070214, 350.92655110077555, 2113.899200360956, 362.6816013735283, 2431.60829561577, 1315.8195366516477, 392.41917049544656, 850.9458329084887, 3167.0186233649974, 1914.3762081025272, 1629.650501797329, 1354.3797481434367, 1710.7623503578352, 1789.9193497612928, 2385.3443989430093, 1596.4420698550807, 1429.3026305377045, 1458.930128502969, 1619.0409436074851, 1659.4645225013064, 1433.1508601472844, 1286.111247638975, 1163.6089918764128, 1171.214302193048, 1754.5042817618464, 1025.8344152077843, 951.3865982063566, 2503.80319548647, 2688.305930941356, 1680.0202769048517, 1770.8214236086376, 3736.176724607234, 3429.7618727251725, 2216.8993207646954, 590.9017252436632, 1230.1950445135137, 889.8502619324244, 754.1420262015301, 1567.6440649560232, 720.006290661174, 911.5797160624763, 491.9923724984313, 585.6358636132454, 1744.8975789163019, 811.0255805432996, 1727.6712594487758, 363.07652135716484, 391.26817704651177, 671.0223343935586, 445.18714061363994, 1269.1065991115759, 274.73614181157484, 331.88499476608143, 572.25275202245, 670.505356722047, 753.6498720241058, 2350.836055496567, 2532.5228154546153, 1389.3024677213443, 1237.3552999316457, 1683.8167442412848, 1393.770298768536, 1176.4661654594931, 1465.0921755472814, 1046.2301146224431, 885.1862703113641, 964.2143240840968, 856.4251354594851, 822.9567510695838, 1548.4090705677581, 1574.1270615392013, 1542.7673920405405, 980.6758089140671, 646.6880908335648, 2644.947993884765, 841.0002321293598, 500.02716177802705, 611.4063342608845, 813.3349391455826, 349.06582662975114, 339.4315329292633, 491.6847577686069, 236.10593930001914, 340.34939562689294, 220.42029008126224, 681.5629229569789, 298.4749929998826, 220.71786655586064, 496.5240512725151, 709.7156108414924, 412.82536624070406, 398.899635752462, 292.0048102793907, 344.08924525169186, 866.9557739315071, 211.2954443746176, 374.35993876805, 177.0481702321596, 364.5627657698243, 1045.1814701678256, 1054.8521977268747, 1692.341417452769, 994.8252190317112, 1872.591624219968, 1054.8407276510206, 1258.4888887702646, 1307.2003010863168, 505.9528794860509, 779.1029654656452, 650.0759039311855, 716.513095237044, 624.5099366345537, 777.0445629585763, 688.6989664438406, 694.1489488683043, 704.5485265468267, 687.5752461401556, 594.1729595589479], \"Total\": [13483.0, 16912.0, 16798.0, 8874.0, 5248.0, 5562.0, 10894.0, 12573.0, 9158.0, 14300.0, 4125.0, 4521.0, 3920.0, 4950.0, 7142.0, 3528.0, 12307.0, 4229.0, 4940.0, 7257.0, 3927.0, 4971.0, 3962.0, 5129.0, 11803.0, 8425.0, 4521.0, 8966.0, 4053.0, 4494.0, 1213.161766519123, 1248.65804121483, 1006.4355124219087, 1267.5580950740966, 4053.344305588883, 2316.0261651462415, 1047.1476896215875, 2009.06881233454, 2233.990277596837, 1187.8479504537636, 1452.8420604694359, 1323.1842101612046, 1512.917314694517, 1024.2659719546439, 3223.2106325678938, 1082.0401616585534, 1232.0988776294616, 3609.877540823288, 1110.8723536433686, 2444.958806454177, 1197.069750914464, 2407.133307400908, 1615.46080632365, 1063.2322440354565, 3578.7603632215373, 2620.356623910443, 8966.140285317939, 1006.3733333748185, 1928.5889707246074, 1230.0831933219663, 3085.7842887638003, 3847.7641009983636, 4926.091190461567, 14300.915394816759, 8425.52731957793, 7534.527397998931, 9158.679338565456, 16407.27188835054, 5481.401246513199, 13483.011264247369, 8448.700760009247, 7901.485813625855, 7293.309544714411, 8764.953495253769, 5521.365434389219, 11296.103513164078, 9225.37901545719, 11362.581305399835, 10693.19422093238, 9514.228115282996, 3491.8084606186826, 8994.06524086905, 5237.910704327195, 7854.159659338963, 12307.607356385104, 4494.484977511215, 1039.7227326467928, 1290.4684521769668, 1560.9533890848163, 4032.945597716014, 1128.0605414729057, 1303.9417850218524, 4177.469896538857, 2242.7584271471674, 1349.1979958470338, 1122.5581700952548, 12573.993777669846, 2000.2506275484368, 1614.5459091016194, 1141.3892907698425, 2664.6230853416405, 2049.919264665157, 1667.4501716718923, 1052.3315481776453, 1557.4315756190292, 1369.7617769337041, 1355.416723065386, 1036.9851694714296, 2704.1325393019297, 5823.963675934467, 1943.0387232007704, 16798.841236928954, 2533.783091719207, 1156.9181229962069, 1371.4765062449865, 3710.254990229912, 6428.803390024324, 16912.908489001158, 8453.327257685129, 4940.868644644949, 2903.065914910592, 7353.073112101335, 7803.474654058046, 5531.749393083843, 9135.049113709176, 8425.52731957793, 11362.581305399835, 7574.287780461983, 11090.80490956374, 12670.738974099479, 4413.9453689552265, 10289.87694879478, 7011.504421797482, 5521.365434389219, 6744.8729940178955, 5481.401246513199, 8065.3445967755415, 6543.962230867847, 6017.73433982333, 7854.159659338963, 8994.06524086905, 12826.292765512811, 8448.700760009247, 9689.640828986172, 13483.011264247369, 2793.0500742270506, 3491.168761524549, 985.452098762711, 1027.75266402821, 5177.545189074162, 1357.6209983727824, 5086.49412025945, 5621.076992671101, 1850.368496957583, 1136.7811140338872, 1865.687532277089, 5061.455000644755, 1783.4112617237704, 974.6379999488918, 1778.846705912559, 1014.6987926007886, 4104.901574829291, 2901.0975776910973, 1015.3861134694218, 1522.5482359400469, 1241.7289647147745, 1110.885242613084, 1962.0902090607874, 1938.1507671511622, 1480.8072703134442, 1034.6389926035686, 1772.9272950664993, 3239.63892137526, 1121.8168055851347, 1189.309469325922, 4248.365393171332, 4546.656094516721, 2573.8367624859675, 8627.951568515966, 2606.1463288657365, 3559.137143528087, 3310.976797370613, 4744.43702936578, 4916.661162271919, 11803.974467796805, 11296.103513164078, 3578.7603632215373, 7142.243422511995, 12307.607356385104, 11350.595321776846, 16407.27188835054, 8068.876122762785, 8014.922005029898, 9159.4120539662, 8219.79506571797, 8783.438273221658, 5613.392436868022, 7163.580073283237, 11194.181594649926, 7435.626186199033, 11158.387833341949, 12670.738974099479, 8803.128242219826, 1310.0041420930227, 1378.0835940040322, 1178.7016348197621, 1704.135413674569, 1665.683655314051, 969.5363087230421, 1264.0851156894728, 4940.868644644949, 1815.355806793514, 1001.5679861763412, 1280.5170703587771, 1122.9415493464444, 2014.4452191872263, 1402.8379183942102, 1209.190082911779, 1389.8675793824357, 1088.1861490659262, 2330.2330371041717, 4679.682641494195, 4410.020053473439, 7363.653937925606, 1595.7520956503722, 8874.802686954781, 2792.132008382381, 4177.469896538857, 2810.8893757353326, 16912.908489001158, 2647.696408677515, 2397.476927200627, 1185.598738491902, 2321.2401894778486, 16798.841236928954, 12826.292765512811, 11803.974467796805, 3245.681377777699, 5536.405876251177, 6536.872063471831, 11194.181594649926, 8219.79506571797, 5269.152399590382, 7369.6677492082645, 6227.452362687081, 10894.55175259462, 8071.079591095992, 6842.622468651164, 11350.595321776846, 8764.953495253769, 11158.387833341949, 8338.472293437851, 7230.9117437380055, 8453.327257685129, 6754.504707279228, 10361.48535191845, 3927.4111419175106, 4950.6179056465535, 1155.3116608228943, 1177.1557631180226, 4521.725866586654, 1178.4352050521613, 2483.897530214495, 970.2972649938552, 1172.11659233142, 1488.595027026974, 1306.7768632460231, 1113.4024606911087, 1004.7361998928794, 1413.2360632867874, 1411.7203422090358, 1027.6363635770185, 2087.6175503003756, 1088.1198183241731, 4308.043903543282, 1015.489124578319, 3137.6389670610197, 2050.872797096785, 6042.791757861285, 2520.5058410967026, 999.804331681736, 977.6488920596172, 1387.1830784503154, 1277.5922453001056, 3124.126085179489, 2173.665952586277, 3019.6277608725572, 5366.0891417800485, 16407.27188835054, 8453.327257685129, 9225.37901545719, 4032.2831803802846, 10361.48535191845, 3139.226667503933, 12670.738974099479, 11090.80490956374, 5982.538603602311, 7163.580073283237, 8783.438273221658, 7435.626186199033, 7574.287780461983, 9335.474164718138, 10693.19422093238, 6214.820365584697, 9514.228115282996, 7353.073112101335, 5824.132202953032, 8068.876122762785, 8065.3445967755415, 7901.485813625855, 11362.581305399835, 12826.292765512811, 8071.079591095992, 8994.06524086905, 14300.915394816759, 1382.4918096676724, 2066.9904288048497, 2036.497611516847, 2246.6450059937097, 1787.197269433578, 1915.1367933719325, 8396.442105408805, 1192.7953219618223, 5129.355482717349, 1165.0756181659387, 1016.4222720362109, 1163.6120631177068, 1189.2922439142578, 2951.709071648647, 2120.9153423445514, 1015.0996444518894, 4249.905095222757, 5897.319794331402, 1610.4273206345633, 1208.350636148677, 5907.429462000325, 2807.5175596411386, 1210.8302636911444, 1421.8897962008882, 1458.9760566449204, 1408.1974826571895, 1285.5501153176353, 2013.693490825558, 1956.131013496461, 4971.023727993393, 10361.48535191845, 4416.296970759678, 4540.720463937094, 5173.882225265657, 12387.38905617394, 7881.148629914071, 11350.595321776846, 4205.07394046488, 8338.472293437851, 7901.485813625855, 8071.079591095992, 8783.438273221658, 3964.756282486935, 5248.253729439996, 6118.124120327353, 12670.738974099479, 11803.974467796805, 12573.993777669846, 6061.392244527378, 12826.292765512811, 7293.309544714411, 10289.87694879478, 14300.915394816759, 7803.474654058046, 16407.27188835054, 5292.591509954811, 8966.140285317939, 7230.9117437380055, 9689.640828986172, 971.896556874026, 1282.6229080482153, 1353.7810535675385, 1216.60175861465, 2001.7857329793405, 1149.5851850750341, 1966.4235693376568, 1287.4925491019017, 1474.4484082094402, 1446.7518310852063, 1045.5845054172091, 1125.4021666016702, 996.9201091836278, 1512.917314694517, 1660.6789953872942, 1815.355806793514, 8874.802686954781, 1724.909425898292, 1164.62362595221, 3160.052601897948, 2330.2330371041717, 1256.7224561958028, 1719.0365121755358, 3597.6513001030817, 10894.55175259462, 7142.243422511995, 2656.437422898349, 1314.129676771378, 1615.46080632365, 1224.7475967813732, 3707.0653402999337, 5086.49412025945, 6939.510883749135, 16912.908489001158, 11158.387833341949, 5605.109680591477, 8014.922005029898, 6536.872063471831, 10693.19422093238, 9335.474164718138, 11296.103513164078, 3115.519325008901, 8994.06524086905, 6513.520741043588, 8966.140285317939, 6214.820365584697, 10289.87694879478, 12826.292765512811, 6376.720866578131, 11194.181594649926, 11350.595321776846, 12307.607356385104, 16407.27188835054, 8803.128242219826, 9159.4120539662, 14300.915394816759, 1135.7030939637698, 1118.7523387345245, 1164.632167914892, 1011.4420876876516, 1054.1312841415167, 4521.092986434433, 1426.3436561454018, 1405.3776344266194, 2269.5243722696373, 2689.554302356135, 1724.5700156581297, 3052.775521354124, 13483.011264247369, 1674.5558758988143, 1080.4623422990119, 1579.308942357739, 1073.5099354313534, 1902.09345055018, 1546.7348697544878, 4521.725866586654, 3484.985128372525, 1184.1722140190711, 1209.190082911779, 9158.679338565456, 999.804331681736, 6284.023397813112, 1080.2715395290347, 7257.413993880496, 3962.92486749649, 1197.7706300792902, 2606.0231209253857, 10894.55175259462, 7142.243422511995, 6078.51575323488, 4926.091190461567, 6754.504707279228, 7353.073112101335, 12307.607356385104, 8764.953495253769, 7363.653937925606, 7881.148629914071, 10361.48535191845, 11803.974467796805, 16798.841236928954, 11158.387833341949, 9689.640828986172, 12826.292765512811, 1897.8047490726817, 1149.3894426181998, 1103.0166218444372, 3528.4849000787285, 3920.4919916426784, 2464.2999782262173, 2631.829762525561, 5562.555174427002, 5248.253729439996, 4229.290493815608, 1184.1722140190711, 2713.5371710773097, 1976.180586426837, 1791.0771133653272, 3962.92486749649, 1915.1367933719325, 2520.096281506364, 1382.4918096676724, 1667.4501716718923, 4971.023727993393, 2392.9356934644256, 5129.355482717349, 1098.361345426113, 1325.7411964173305, 2398.8082833089998, 1615.3490678413002, 4679.682641494195, 1014.7541912244694, 1258.654239757105, 2175.9825677014596, 2644.227228122811, 3245.681377777699, 12307.607356385104, 14300.915394816759, 6842.622468651164, 6061.392244527378, 12387.38905617394, 9689.640828986172, 7257.413993880496, 11194.181594649926, 6078.51575323488, 4665.386671467135, 8219.79506571797, 16407.27188835054, 8803.128242219826, 1758.59895498589, 1884.239489197509, 1919.961472147123, 1499.5975891580092, 1005.2975848588683, 4125.141275032518, 1901.874200071428, 1287.4925491019017, 1808.9042082855415, 2447.8917762120554, 1155.3116608228943, 1389.8675793824357, 2030.2205257169996, 1011.7586051326348, 1458.9760566449204, 991.0231403650906, 3152.962015245488, 1405.3776344266194, 1066.6493148953728, 2444.958806454177, 3501.24639929438, 2049.919264665157, 2009.06881233454, 1593.032546145374, 1928.5889707246074, 4939.665166565229, 1206.9619095523778, 2139.5954944821965, 1045.5845054172091, 2170.1764753460607, 6536.872063471831, 7011.504421797482, 12573.993777669846, 6862.346591635291, 16798.841236928954, 8425.52731957793, 11362.581305399835, 12387.38905617394, 3239.63892137526, 6428.803390024324, 5823.963675934467, 7534.527397998931, 5521.365434389219, 9135.049113709176, 8448.700760009247, 9335.474164718138, 10289.87694879478, 9514.228115282996, 6207.041490981658], \"Category\": [\"Default\", \"Default\", \"Default\", \"Default\", \"Default\", \"Default\", \"Default\", \"Default\", \"Default\", \"Default\", \"Default\", \"Default\", \"Default\", \"Default\", \"Default\", \"Default\", \"Default\", \"Default\", \"Default\", \"Default\", \"Default\", \"Default\", \"Default\", \"Default\", \"Default\", \"Default\", \"Default\", \"Default\", \"Default\", \"Default\", \"Topic1\", \"Topic1\", \"Topic1\", \"Topic1\", \"Topic1\", \"Topic1\", \"Topic1\", \"Topic1\", \"Topic1\", \"Topic1\", \"Topic1\", \"Topic1\", \"Topic1\", \"Topic1\", \"Topic1\", \"Topic1\", \"Topic1\", \"Topic1\", \"Topic1\", \"Topic1\", \"Topic1\", \"Topic1\", \"Topic1\", \"Topic1\", \"Topic1\", \"Topic1\", \"Topic1\", \"Topic1\", \"Topic1\", \"Topic1\", \"Topic1\", \"Topic1\", \"Topic1\", \"Topic1\", \"Topic1\", \"Topic1\", \"Topic1\", \"Topic1\", \"Topic1\", \"Topic1\", \"Topic1\", \"Topic1\", \"Topic1\", \"Topic1\", \"Topic1\", \"Topic1\", \"Topic1\", \"Topic1\", \"Topic1\", \"Topic1\", \"Topic1\", \"Topic1\", \"Topic1\", \"Topic1\", \"Topic1\", \"Topic2\", \"Topic2\", \"Topic2\", \"Topic2\", \"Topic2\", \"Topic2\", \"Topic2\", \"Topic2\", \"Topic2\", \"Topic2\", \"Topic2\", \"Topic2\", \"Topic2\", \"Topic2\", \"Topic2\", \"Topic2\", \"Topic2\", \"Topic2\", \"Topic2\", \"Topic2\", \"Topic2\", \"Topic2\", \"Topic2\", \"Topic2\", \"Topic2\", \"Topic2\", \"Topic2\", \"Topic2\", \"Topic2\", \"Topic2\", \"Topic2\", \"Topic2\", \"Topic2\", \"Topic2\", \"Topic2\", \"Topic2\", \"Topic2\", \"Topic2\", \"Topic2\", \"Topic2\", \"Topic2\", \"Topic2\", \"Topic2\", \"Topic2\", \"Topic2\", \"Topic2\", \"Topic2\", \"Topic2\", \"Topic2\", \"Topic2\", \"Topic2\", \"Topic2\", \"Topic2\", \"Topic2\", \"Topic2\", \"Topic2\", \"Topic2\", \"Topic2\", \"Topic2\", \"Topic2\", \"Topic3\", \"Topic3\", \"Topic3\", \"Topic3\", \"Topic3\", \"Topic3\", \"Topic3\", \"Topic3\", \"Topic3\", \"Topic3\", \"Topic3\", \"Topic3\", \"Topic3\", \"Topic3\", \"Topic3\", \"Topic3\", \"Topic3\", \"Topic3\", \"Topic3\", \"Topic3\", \"Topic3\", \"Topic3\", \"Topic3\", \"Topic3\", \"Topic3\", \"Topic3\", \"Topic3\", \"Topic3\", \"Topic3\", \"Topic3\", \"Topic3\", \"Topic3\", \"Topic3\", \"Topic3\", \"Topic3\", \"Topic3\", \"Topic3\", \"Topic3\", \"Topic3\", \"Topic3\", \"Topic3\", \"Topic3\", \"Topic3\", \"Topic3\", \"Topic3\", \"Topic3\", \"Topic3\", \"Topic3\", \"Topic3\", \"Topic3\", \"Topic3\", \"Topic3\", \"Topic3\", \"Topic3\", \"Topic3\", \"Topic3\", \"Topic3\", \"Topic3\", \"Topic4\", \"Topic4\", \"Topic4\", \"Topic4\", \"Topic4\", \"Topic4\", \"Topic4\", \"Topic4\", \"Topic4\", \"Topic4\", \"Topic4\", \"Topic4\", \"Topic4\", \"Topic4\", \"Topic4\", \"Topic4\", \"Topic4\", \"Topic4\", \"Topic4\", \"Topic4\", \"Topic4\", \"Topic4\", \"Topic4\", \"Topic4\", \"Topic4\", \"Topic4\", \"Topic4\", \"Topic4\", \"Topic4\", \"Topic4\", \"Topic4\", \"Topic4\", \"Topic4\", \"Topic4\", \"Topic4\", \"Topic4\", \"Topic4\", \"Topic4\", \"Topic4\", \"Topic4\", \"Topic4\", \"Topic4\", \"Topic4\", \"Topic4\", \"Topic4\", \"Topic4\", \"Topic4\", \"Topic4\", \"Topic4\", \"Topic4\", \"Topic4\", \"Topic4\", \"Topic4\", \"Topic5\", \"Topic5\", \"Topic5\", \"Topic5\", \"Topic5\", \"Topic5\", \"Topic5\", \"Topic5\", \"Topic5\", \"Topic5\", \"Topic5\", \"Topic5\", \"Topic5\", \"Topic5\", \"Topic5\", \"Topic5\", \"Topic5\", \"Topic5\", \"Topic5\", \"Topic5\", \"Topic5\", \"Topic5\", \"Topic5\", \"Topic5\", \"Topic5\", \"Topic5\", \"Topic5\", \"Topic5\", \"Topic5\", \"Topic5\", \"Topic5\", \"Topic5\", \"Topic5\", \"Topic5\", \"Topic5\", \"Topic5\", \"Topic5\", \"Topic5\", \"Topic5\", \"Topic5\", \"Topic5\", \"Topic5\", \"Topic5\", \"Topic5\", \"Topic5\", \"Topic5\", \"Topic5\", \"Topic5\", \"Topic5\", \"Topic5\", \"Topic5\", \"Topic5\", \"Topic5\", \"Topic5\", \"Topic5\", \"Topic5\", \"Topic5\", \"Topic5\", \"Topic5\", \"Topic6\", \"Topic6\", \"Topic6\", \"Topic6\", \"Topic6\", \"Topic6\", \"Topic6\", \"Topic6\", \"Topic6\", \"Topic6\", \"Topic6\", \"Topic6\", \"Topic6\", \"Topic6\", \"Topic6\", \"Topic6\", \"Topic6\", \"Topic6\", \"Topic6\", \"Topic6\", \"Topic6\", \"Topic6\", \"Topic6\", \"Topic6\", \"Topic6\", \"Topic6\", \"Topic6\", \"Topic6\", \"Topic6\", \"Topic6\", \"Topic6\", \"Topic6\", \"Topic6\", \"Topic6\", \"Topic6\", \"Topic6\", \"Topic6\", \"Topic6\", \"Topic6\", \"Topic6\", \"Topic6\", \"Topic6\", \"Topic6\", \"Topic6\", \"Topic6\", \"Topic6\", \"Topic6\", \"Topic6\", \"Topic6\", \"Topic6\", \"Topic6\", \"Topic6\", \"Topic6\", \"Topic6\", \"Topic6\", \"Topic6\", \"Topic6\", \"Topic6\", \"Topic6\", \"Topic7\", \"Topic7\", \"Topic7\", \"Topic7\", \"Topic7\", \"Topic7\", \"Topic7\", \"Topic7\", \"Topic7\", \"Topic7\", \"Topic7\", \"Topic7\", \"Topic7\", \"Topic7\", \"Topic7\", \"Topic7\", \"Topic7\", \"Topic7\", \"Topic7\", \"Topic7\", \"Topic7\", \"Topic7\", \"Topic7\", \"Topic7\", \"Topic7\", \"Topic7\", \"Topic7\", \"Topic7\", \"Topic7\", \"Topic7\", \"Topic7\", \"Topic7\", \"Topic7\", \"Topic7\", \"Topic7\", \"Topic7\", \"Topic7\", \"Topic7\", \"Topic7\", \"Topic7\", \"Topic7\", \"Topic7\", \"Topic7\", \"Topic7\", \"Topic7\", \"Topic7\", \"Topic7\", \"Topic7\", \"Topic7\", \"Topic7\", \"Topic7\", \"Topic7\", \"Topic7\", \"Topic7\", \"Topic7\", \"Topic7\", \"Topic8\", \"Topic8\", \"Topic8\", \"Topic8\", \"Topic8\", \"Topic8\", \"Topic8\", \"Topic8\", \"Topic8\", \"Topic8\", \"Topic8\", \"Topic8\", \"Topic8\", \"Topic8\", \"Topic8\", \"Topic8\", \"Topic8\", \"Topic8\", \"Topic8\", \"Topic8\", \"Topic8\", \"Topic8\", \"Topic8\", \"Topic8\", \"Topic8\", \"Topic8\", \"Topic8\", \"Topic8\", \"Topic8\", \"Topic8\", \"Topic8\", \"Topic8\", \"Topic8\", \"Topic8\", \"Topic8\", \"Topic8\", \"Topic8\", \"Topic8\", \"Topic8\", \"Topic8\", \"Topic8\", \"Topic8\", \"Topic8\", \"Topic8\", \"Topic8\", \"Topic8\", \"Topic8\", \"Topic9\", \"Topic9\", \"Topic9\", \"Topic9\", \"Topic9\", \"Topic9\", \"Topic9\", \"Topic9\", \"Topic9\", \"Topic9\", \"Topic9\", \"Topic9\", \"Topic9\", \"Topic9\", \"Topic9\", \"Topic9\", \"Topic9\", \"Topic9\", \"Topic9\", \"Topic9\", \"Topic9\", \"Topic9\", \"Topic9\", \"Topic9\", \"Topic9\", \"Topic9\", \"Topic9\", \"Topic9\", \"Topic9\", \"Topic9\", \"Topic9\", \"Topic9\", \"Topic9\", \"Topic9\", \"Topic9\", \"Topic9\", \"Topic9\", \"Topic9\", \"Topic9\", \"Topic9\", \"Topic9\", \"Topic9\", \"Topic9\", \"Topic9\", \"Topic9\", \"Topic10\", \"Topic10\", \"Topic10\", \"Topic10\", \"Topic10\", \"Topic10\", \"Topic10\", \"Topic10\", \"Topic10\", \"Topic10\", \"Topic10\", \"Topic10\", \"Topic10\", \"Topic10\", \"Topic10\", \"Topic10\", \"Topic10\", \"Topic10\", \"Topic10\", \"Topic10\", \"Topic10\", \"Topic10\", \"Topic10\", \"Topic10\", \"Topic10\", \"Topic10\", \"Topic10\", \"Topic10\", \"Topic10\", \"Topic10\", \"Topic10\", \"Topic10\", \"Topic10\", \"Topic10\", \"Topic10\", \"Topic10\", \"Topic10\", \"Topic10\", \"Topic10\", \"Topic10\", \"Topic10\", \"Topic10\", \"Topic10\", \"Topic10\", \"Topic10\", \"Topic10\", \"Topic10\", \"Topic10\", \"Topic10\"], \"logprob\": [30.0, 29.0, 28.0, 27.0, 26.0, 25.0, 24.0, 23.0, 22.0, 21.0, 20.0, 19.0, 18.0, 17.0, 16.0, 15.0, 14.0, 13.0, 12.0, 11.0, 10.0, 9.0, 8.0, 7.0, 6.0, 5.0, 4.0, 3.0, 2.0, 1.0, -5.7054, -5.8089, -6.0248, -5.7962, -4.6546, -5.3475, -6.1631, -5.5274, -5.4264, -6.109, -5.9511, -6.0871, -6.0003, -6.444, -5.3029, -6.4144, -6.2981, -5.2494, -6.4365, -5.6494, -6.3841, -5.6927, -6.0931, -6.5171, -5.3095, -5.6365, -4.4097, -6.6055, -5.9626, -6.4401, -5.5203, -5.3407, -5.1353, -4.1779, -4.6738, -4.8326, -4.8012, -4.3721, -5.2067, -4.5667, -5.003, -5.0533, -5.1097, -5.042, -5.2842, -4.9507, -5.0649, -5.0407, -5.1148, -5.2253, -5.557, -5.4166, -5.4971, -5.4511, -5.504, -4.773, -6.2685, -6.1446, -6.027, -5.1033, -6.4319, -6.2871, -5.1306, -5.7759, -6.3585, -6.5483, -4.1405, -5.9847, -6.2023, -6.557, -5.7208, -5.9962, -6.2158, -6.6882, -6.3173, -6.4469, -6.4606, -6.7324, -5.7808, -5.0428, -6.1551, -3.9993, -5.8978, -6.688, -6.5181, -5.5283, -5.0211, -4.1323, -4.7839, -5.3265, -5.8142, -5.0866, -5.0628, -5.3476, -4.9671, -5.0455, -4.851, -5.135, -4.8872, -4.8158, -5.5283, -5.0122, -5.2532, -5.4152, -5.3316, -5.4464, -5.286, -5.3804, -5.4362, -5.3799, -5.3506, -5.2763, -5.3683, -5.3536, -5.3358, -4.9962, -4.8407, -6.1218, -6.2233, -4.6591, -6.1445, -4.8774, -4.7807, -5.9045, -6.3997, -5.911, -4.9559, -6.0531, -6.6603, -6.068, -6.6305, -5.2379, -5.586, -6.6368, -6.234, -6.4646, -6.5838, -6.0165, -6.0293, -6.3076, -6.6664, -6.1347, -5.5358, -6.6095, -6.5635, -5.3004, -5.2746, -5.8312, -4.7427, -5.834, -5.58, -5.6427, -5.3759, -5.3669, -4.687, -4.7494, -5.6417, -5.2133, -4.9173, -4.9727, -4.8185, -5.2212, -5.2309, -5.1706, -5.2568, -5.2579, -5.4627, -5.3863, -5.2261, -5.3765, -5.259, -5.2757, -5.4264, -5.4523, -5.57, -5.7636, -5.4073, -5.5004, -6.1383, -5.9411, -4.5954, -5.6464, -6.3153, -6.129, -6.2709, -5.6891, -6.0603, -6.2222, -6.0832, -6.3346, -5.6028, -4.9533, -5.0211, -4.5237, -6.0602, -4.385, -5.5481, -5.1588, -5.5666, -3.8092, -5.6811, -5.7863, -6.497, -5.8834, -4.0828, -4.5026, -4.657, -5.5815, -5.2446, -5.1581, -4.9972, -5.1614, -5.4041, -5.2604, -5.3426, -5.1654, -5.277, -5.3574, -5.207, -5.2948, -5.3098, -5.3824, -5.4174, -5.4217, -5.4502, -5.4366, -4.4535, -4.2762, -6.1871, -6.209, -4.9588, -6.4048, -5.6772, -6.6662, -6.4859, -6.3062, -6.4569, -6.6397, -6.7435, -6.4053, -6.4377, -6.7653, -6.064, -6.7403, -5.3676, -6.8223, -5.6949, -6.1349, -5.0571, -5.9404, -6.8654, -6.9125, -6.5673, -6.6675, -5.7784, -6.1413, -5.825, -5.3257, -4.3338, -4.9547, -4.9037, -5.6499, -4.9111, -5.8841, -4.8434, -4.9485, -5.4061, -5.287, -5.1472, -5.2967, -5.2974, -5.1927, -5.1256, -5.459, -5.2194, -5.3858, -5.515, -5.3564, -5.3947, -5.4068, -5.2973, -5.3092, -5.445, -5.4654, -5.4342, -6.0037, -5.6247, -5.6674, -5.7136, -6.0036, -5.9373, -4.4606, -6.4276, -4.9765, -6.4615, -6.6179, -6.4882, -6.4756, -5.5684, -5.9009, -6.6459, -5.2147, -4.9, -6.2013, -6.5049, -4.9285, -5.6863, -6.5301, -6.3824, -6.3671, -6.4063, -6.5071, -6.0798, -6.1117, -5.1926, -4.4865, -5.3394, -5.3149, -5.1967, -4.3967, -4.8412, -4.5157, -5.4442, -4.8667, -4.9175, -4.9078, -4.8583, -5.4959, -5.2903, -5.1929, -4.7556, -4.8071, -4.7864, -5.2627, -4.9389, -5.2097, -5.0959, -4.9906, -5.2582, -5.0615, -5.3799, -5.243, -5.319, -5.3143, -5.6579, -5.5186, -5.5345, -5.7639, -5.3992, -6.0917, -5.5886, -6.0193, -5.9769, -6.0131, -6.3496, -6.2947, -6.4273, -6.0611, -6.0227, -5.9344, -4.366, -6.0146, -6.4171, -5.4306, -5.7519, -6.3745, -6.0674, -5.3341, -4.2285, -4.6616, -5.6558, -6.3611, -6.1645, -6.474, -5.3994, -5.145, -4.9036, -4.198, -4.6227, -5.2147, -5.0112, -5.1501, -4.837, -4.9413, -4.8832, -5.656, -5.0956, -5.2766, -5.1256, -5.3029, -5.0767, -4.9906, -5.312, -5.0947, -5.1138, -5.206, -5.173, -5.2834, -5.3129, -5.2825, -5.1017, -5.1168, -5.1456, -5.5201, -5.5268, -4.1274, -5.3484, -5.429, -4.9983, -4.8359, -5.2808, -4.7715, -3.3423, -5.4724, -5.9459, -5.6413, -6.0863, -5.5318, -5.7503, -4.6832, -4.9598, -6.0596, -6.0399, -4.0359, -6.2754, -4.4797, -6.2424, -4.3397, -4.9537, -6.1636, -5.3896, -4.0754, -4.5788, -4.7398, -4.9249, -4.6913, -4.646, -4.3589, -4.7604, -4.871, -4.8505, -4.7464, -4.7217, -4.8683, -4.9766, -5.0767, -5.0702, -4.5599, -5.0966, -5.1719, -4.2043, -4.1332, -4.6033, -4.5506, -3.804, -3.8896, -4.326, -5.6482, -4.9149, -5.2388, -5.4042, -4.6725, -5.4506, -5.2147, -5.8314, -5.6571, -4.5654, -5.3315, -4.5753, -6.1352, -6.0604, -5.521, -5.9313, -4.8838, -6.414, -6.225, -5.6802, -5.5218, -5.4049, -4.2673, -4.1929, -4.7933, -4.9091, -4.601, -4.7901, -4.9596, -4.7402, -5.0769, -5.244, -5.1585, -5.2771, -5.3169, -4.4542, -4.4377, -4.4578, -4.9109, -5.3273, -3.9188, -5.0646, -5.5845, -5.3834, -5.098, -5.9439, -5.9719, -5.6013, -6.3349, -5.9692, -6.4036, -5.2748, -6.1005, -6.4023, -5.5915, -5.2343, -5.7761, -5.8105, -6.1224, -5.9583, -5.0342, -6.4459, -5.8739, -6.6227, -5.9005, -4.8472, -4.838, -4.3653, -4.8966, -4.2641, -4.838, -4.6615, -4.6235, -5.5727, -5.141, -5.3221, -5.2248, -5.3622, -5.1437, -5.2644, -5.2565, -5.2416, -5.266, -5.412], \"loglift\": [30.0, 29.0, 28.0, 27.0, 26.0, 25.0, 24.0, 23.0, 22.0, 21.0, 20.0, 19.0, 18.0, 17.0, 16.0, 15.0, 14.0, 13.0, 12.0, 11.0, 10.0, 9.0, 8.0, 7.0, 6.0, 5.0, 4.0, 3.0, 2.0, 1.0, 1.9941, 1.8618, 1.8615, 1.8594, 1.8385, 1.7053, 1.6836, 1.6676, 1.6625, 1.6115, 1.568, 1.5256, 1.4783, 1.4247, 1.4194, 1.3995, 1.3859, 1.3596, 1.351, 1.3493, 1.3287, 1.3215, 1.3199, 1.3143, 1.3082, 1.2928, 1.2895, 1.2808, 1.2733, 1.2456, 1.2455, 1.2045, 1.1629, 1.0544, 1.0877, 1.0406, 0.8768, 0.7228, 0.9846, 0.7245, 0.7557, 0.7724, 0.796, 0.6799, 0.8999, 0.5175, 0.6058, 0.4217, 0.4082, 0.4146, 1.0853, 0.2795, 0.7396, 0.3805, -0.1215, 1.6168, 1.5852, 1.4931, 1.4204, 1.3949, 1.3403, 1.3402, 1.3324, 1.3091, 1.2347, 1.2288, 1.2206, 1.2147, 1.2113, 1.2035, 1.1918, 1.1787, 1.1656, 1.1535, 1.1323, 1.1311, 1.128, 1.1239, 1.1171, 1.0879, 1.0733, 1.0721, 1.0652, 1.0589, 1.0587, 1.0533, 1.0108, 0.9324, 0.9742, 0.9687, 1.0127, 0.811, 0.7753, 0.8346, 0.7135, 0.7159, 0.6114, 0.7329, 0.5993, 0.5376, 0.8796, 0.5493, 0.6919, 0.7688, 0.6523, 0.7449, 0.5191, 0.6337, 0.6618, 0.4518, 0.3455, 0.0649, 0.3904, 0.268, -0.0445, 1.8694, 1.8018, 1.7856, 1.642, 1.5892, 1.4425, 1.3887, 1.3854, 1.3728, 1.3648, 1.3581, 1.3151, 1.261, 1.2581, 1.2488, 1.2476, 1.2426, 1.2416, 1.2406, 1.2383, 1.2116, 1.2037, 1.2022, 1.2016, 1.1925, 1.1923, 1.1853, 1.1814, 1.1682, 1.1558, 1.1458, 1.1037, 1.1161, 0.995, 1.1008, 1.0432, 1.0527, 0.9598, 0.9331, 0.7373, 0.7188, 0.9759, 0.7134, 0.4652, 0.4907, 0.2765, 0.5835, 0.5805, 0.5073, 0.5294, 0.4619, 0.7048, 0.5374, 0.2512, 0.5099, 0.2215, 0.0777, 0.2911, 2.1704, 2.002, 1.9647, 1.9523, 1.882, 1.7853, 1.7173, 1.6997, 1.65, 1.5758, 1.5164, 1.5058, 1.5033, 1.4939, 1.4805, 1.4803, 1.4736, 1.4439, 1.3961, 1.3877, 1.3724, 1.3652, 1.3245, 1.3178, 1.3042, 1.2926, 1.2554, 1.2379, 1.2319, 1.2254, 1.1672, 0.9886, 0.8386, 0.7672, 1.1339, 0.9368, 0.8571, 0.4801, 0.6247, 0.8267, 0.6349, 0.7211, 0.339, 0.5274, 0.6121, 0.2564, 0.4272, 0.1707, 0.3894, 0.4969, 0.3365, 0.5323, 0.118, 2.0712, 2.017, 1.5612, 1.5206, 1.425, 1.3237, 1.3057, 1.2567, 1.248, 1.1887, 1.1682, 1.1456, 1.1445, 1.1415, 1.1101, 1.1001, 1.0927, 1.0679, 1.0646, 1.055, 1.0544, 1.0395, 1.0368, 1.0278, 1.0275, 1.0028, 0.9981, 0.9803, 0.9752, 0.975, 0.9625, 0.8869, 0.7612, 0.8034, 0.767, 0.8485, 0.6435, 0.8646, 0.51, 0.538, 0.6977, 0.6367, 0.5727, 0.5897, 0.5705, 0.4662, 0.3975, 0.6068, 0.4206, 0.5117, 0.6157, 0.4483, 0.4104, 0.4189, 0.1651, 0.032, 0.3594, 0.2307, -0.2018, 1.5651, 1.5419, 1.5141, 1.3697, 1.3084, 1.3057, 1.3043, 1.2888, 1.2812, 1.2784, 1.2585, 1.2529, 1.2438, 1.2419, 1.24, 1.2318, 1.2311, 1.2182, 1.2149, 1.1986, 1.188, 1.1741, 1.1713, 1.1583, 1.1479, 1.1441, 1.1344, 1.1129, 1.11, 1.0964, 1.0681, 1.068, 1.0647, 1.0524, 0.9793, 0.987, 0.9477, 1.0122, 0.9051, 0.9082, 0.8966, 0.8616, 1.0194, 0.9444, 0.8885, 0.5978, 0.6171, 0.5746, 0.8281, 0.4023, 0.6961, 0.4656, 0.2418, 0.5799, 0.0335, 0.8464, 0.4562, 0.5954, 0.3073, 2.2633, 2.1252, 2.0553, 1.9327, 1.7994, 1.6616, 1.6279, 1.6207, 1.5275, 1.5103, 1.4985, 1.4798, 1.4685, 1.4176, 1.3628, 1.362, 1.3435, 1.3329, 1.3232, 1.3115, 1.2948, 1.2897, 1.2835, 1.2783, 1.2759, 1.265, 1.2599, 1.2584, 1.2485, 1.2159, 1.183, 1.1211, 1.0518, 0.8666, 0.8578, 0.9543, 0.8002, 0.8651, 0.6861, 0.7175, 0.585, 1.1003, 0.6005, 0.7422, 0.5737, 0.7628, 0.4848, 0.3506, 0.728, 0.3826, 0.3496, 0.1765, -0.078, 0.4342, 0.365, -0.0501, 2.6637, 2.6637, 2.5947, 2.3612, 2.3132, 2.2566, 2.1892, 2.1233, 2.0748, 2.0674, 2.0669, 2.0051, 1.949, 1.9048, 1.8694, 1.7944, 1.7355, 1.7179, 1.7062, 1.7006, 1.6844, 1.6641, 1.6628, 1.6421, 1.6175, 1.575, 1.573, 1.571, 1.562, 1.5486, 1.5453, 1.429, 1.3478, 1.3481, 1.3733, 1.2912, 1.2515, 1.0236, 0.9615, 1.0251, 0.9777, 0.8082, 0.7025, 0.203, 0.5039, 0.545, 0.271, 2.6921, 2.6569, 2.6227, 2.4276, 2.3933, 2.3875, 2.3744, 2.3726, 2.3452, 2.1247, 2.0755, 1.9795, 1.9727, 1.9056, 1.8432, 1.7923, 1.7537, 1.7374, 1.7243, 1.7237, 1.6886, 1.6824, 1.6637, 1.5503, 1.4967, 1.4818, 1.4657, 1.464, 1.4376, 1.435, 1.3985, 1.3105, 1.1152, 1.0395, 1.1762, 1.1817, 0.775, 0.8316, 0.9511, 0.7371, 1.011, 1.1085, 0.6276, -0.1821, 0.4007, 2.874, 2.8215, 2.7826, 2.5766, 2.5601, 2.5568, 2.1853, 2.0555, 1.9166, 1.8994, 1.8044, 1.5916, 1.5832, 1.5461, 1.5458, 1.4981, 1.4696, 1.4519, 1.4259, 1.4071, 1.4053, 1.3988, 1.3846, 1.3047, 1.2776, 1.2612, 1.2587, 1.2581, 1.2254, 1.2174, 1.168, 1.1071, 0.9958, 1.07, 0.8073, 0.9234, 0.8009, 0.7525, 1.1445, 0.8909, 0.8086, 0.6484, 0.8219, 0.5369, 0.4943, 0.4024, 0.3199, 0.3739, 0.655]}, \"token.table\": {\"Topic\": [2, 4, 6, 8, 9, 2, 4, 1, 2, 3, 4, 5, 6, 7, 8, 9, 1, 2, 3, 4, 5, 6, 7, 8, 9, 10, 1, 2, 3, 4, 5, 6, 7, 8, 9, 10, 1, 2, 3, 4, 5, 6, 7, 8, 9, 10, 1, 2, 3, 4, 5, 6, 7, 8, 9, 10, 1, 2, 3, 4, 5, 6, 7, 8, 10, 1, 2, 3, 4, 5, 6, 7, 8, 10, 1, 2, 3, 4, 5, 6, 7, 8, 9, 10, 1, 2, 3, 4, 5, 6, 7, 8, 9, 1, 2, 3, 4, 5, 6, 7, 9, 10, 2, 4, 6, 8, 9, 2, 3, 4, 5, 6, 8, 9, 1, 2, 4, 7, 8, 9, 10, 2, 4, 7, 8, 1, 2, 3, 4, 5, 6, 7, 8, 9, 10, 1, 3, 4, 5, 6, 7, 8, 9, 1, 2, 3, 4, 5, 6, 7, 8, 9, 10, 1, 2, 3, 4, 6, 8, 9, 10, 2, 3, 4, 5, 6, 8, 9, 10, 2, 3, 5, 8, 9, 10, 1, 2, 4, 7, 8, 1, 3, 4, 7, 8, 9, 2, 3, 4, 5, 6, 8, 10, 1, 2, 3, 4, 5, 6, 7, 8, 9, 10, 4, 6, 7, 8, 9, 2, 3, 4, 5, 6, 8, 9, 10, 1, 2, 3, 4, 5, 6, 8, 9, 1, 2, 5, 6, 7, 9, 10, 1, 2, 3, 4, 6, 7, 8, 10, 1, 2, 6, 8, 10, 1, 2, 3, 4, 5, 6, 7, 8, 9, 10, 1, 2, 3, 4, 5, 6, 7, 8, 9, 10, 2, 3, 4, 5, 7, 8, 9, 10, 1, 2, 5, 8, 1, 2, 3, 7, 9, 10, 1, 2, 3, 4, 5, 6, 7, 8, 9, 1, 2, 3, 4, 5, 6, 7, 8, 9, 10, 1, 2, 3, 4, 5, 6, 7, 8, 9, 10, 1, 2, 3, 4, 8, 9, 1, 2, 3, 4, 5, 6, 7, 8, 9, 10, 1, 2, 3, 4, 5, 6, 7, 8, 9, 10, 1, 7, 1, 7, 1, 2, 3, 4, 5, 6, 7, 8, 9, 10, 1, 2, 5, 7, 8, 10, 3, 4, 8, 10, 1, 2, 3, 4, 5, 6, 7, 9, 10, 1, 2, 3, 4, 7, 8, 10, 1, 2, 3, 4, 5, 7, 8, 1, 3, 4, 5, 7, 8, 9, 10, 4, 1, 2, 3, 4, 5, 6, 7, 9, 10, 1, 2, 3, 4, 5, 6, 7, 8, 9, 10, 1, 2, 3, 4, 5, 6, 7, 8, 9, 10, 1, 7, 8, 10, 1, 2, 3, 4, 5, 7, 9, 3, 4, 5, 6, 7, 8, 1, 3, 5, 6, 7, 8, 9, 10, 2, 3, 4, 8, 9, 10, 2, 3, 4, 8, 9, 10, 1, 3, 4, 5, 6, 7, 8, 9, 10, 1, 2, 4, 5, 6, 7, 8, 9, 10, 1, 2, 3, 4, 5, 6, 7, 8, 9, 10, 1, 2, 3, 4, 5, 6, 7, 8, 9, 10, 1, 2, 3, 4, 5, 6, 7, 8, 9, 1, 2, 3, 4, 5, 6, 7, 8, 9, 10, 1, 2, 3, 4, 5, 6, 7, 8, 9, 1, 2, 3, 4, 5, 6, 7, 8, 9, 1, 2, 3, 4, 5, 6, 7, 8, 10, 2, 3, 4, 5, 7, 8, 1, 2, 3, 4, 5, 6, 7, 8, 9, 10, 1, 2, 3, 4, 6, 7, 8, 9, 10, 1, 2, 3, 4, 5, 6, 7, 8, 9, 10, 1, 2, 3, 4, 5, 6, 7, 8, 10, 1, 2, 3, 4, 5, 6, 7, 8, 10, 1, 2, 3, 4, 5, 6, 7, 8, 10, 1, 2, 5, 8, 1, 2, 3, 4, 5, 6, 7, 8, 9, 1, 3, 4, 5, 6, 7, 8, 10, 1, 2, 4, 5, 6, 7, 8, 9, 10, 1, 2, 3, 4, 5, 6, 7, 8, 9, 10, 1, 3, 4, 5, 7, 9, 10, 1, 2, 3, 4, 7, 8, 9, 1, 3, 4, 7, 8, 9, 1, 2, 3, 4, 5, 6, 7, 8, 9, 10, 2, 4, 5, 6, 8, 1, 2, 3, 4, 5, 7, 8, 9, 10, 2, 3, 6, 7, 1, 2, 3, 4, 5, 6, 8, 10, 1, 2, 3, 4, 5, 6, 7, 8, 9, 1, 2, 4, 6, 7, 8, 9, 10, 1, 3, 5, 7, 10, 1, 3, 4, 5, 7, 8, 3, 4, 5, 6, 8, 9, 1, 2, 3, 4, 5, 6, 7, 8, 9, 10, 1, 2, 3, 4, 6, 7, 8, 10, 1, 2, 3, 4, 6, 7, 8, 10, 1, 2, 3, 4, 5, 7, 8, 9, 10, 1, 2, 3, 4, 5, 6, 7, 9, 10, 1, 2, 3, 5, 6, 7, 10, 1, 2, 3, 4, 5, 6, 7, 8, 9, 10, 1, 2, 4, 5, 6, 8, 1, 2, 3, 4, 5, 6, 7, 9, 10, 1, 2, 3, 4, 5, 6, 8, 9, 10, 3, 4, 7, 8, 9, 10, 1, 2, 3, 7, 10, 1, 2, 3, 4, 5, 7, 8, 9, 10, 1, 2, 3, 4, 5, 6, 7, 8, 9, 10, 1, 2, 5, 7, 9, 10, 1, 2, 3, 4, 6, 7, 10, 1, 2, 3, 4, 7, 8, 10, 1, 2, 3, 4, 5, 6, 7, 8, 9, 10, 1, 2, 3, 4, 5, 6, 7, 8, 9, 10, 1, 3, 4, 7, 8, 9, 10, 1, 2, 3, 4, 5, 7, 9, 10, 1, 2, 3, 4, 5, 7, 8, 9, 10, 1, 2, 3, 4, 5, 6, 7, 8, 9, 10, 1, 2, 5, 6, 7, 8, 9, 10, 1, 2, 3, 5, 6, 7, 10, 1, 2, 5, 6, 7, 10, 1, 3, 5, 7, 9, 10, 1, 3, 5, 7, 8, 10, 1, 5, 7, 8, 9, 10, 1, 2, 3, 4, 5, 6, 7, 8, 9, 10, 2, 3, 4, 5, 6, 7, 8, 9, 10, 1, 2, 3, 4, 5, 6, 7, 8, 9, 1, 7, 10, 1, 2, 3, 4, 5, 7, 8, 9, 1, 2, 3, 4, 5, 6, 7, 8, 9, 10, 1, 2, 3, 4, 5, 6, 7, 9, 10, 1, 2, 3, 5, 6, 7, 8, 10, 1, 2, 3, 4, 5, 6, 7, 8, 9, 10, 1, 2, 3, 4, 5, 6, 7, 8, 9, 10, 1, 2, 3, 4, 5, 6, 7, 8, 9, 10, 1, 2, 3, 4, 5, 6, 7, 9, 10, 3, 4, 5, 7, 8, 9, 10, 1, 2, 3, 4, 5, 6, 7, 8, 9, 10, 1, 2, 3, 4, 5, 6, 7, 8, 9, 10, 1, 2, 3, 4, 5, 6, 7, 10, 1, 2, 3, 4, 7, 10, 1, 2, 3, 4, 5, 6, 7, 8, 10, 1, 2, 3, 4, 5, 6, 7, 8, 9, 10, 1, 2, 3, 4, 5, 6, 7, 8, 10, 1, 7, 1, 2, 3, 4, 5, 7, 8, 9, 10, 1, 2, 3, 4, 5, 6, 7, 8, 9, 10, 1, 2, 3, 4, 5, 6, 7, 8, 9, 10, 1, 2, 3, 4, 6, 7, 8, 10, 4, 7, 10, 2, 3, 5, 6, 8, 9, 1, 3, 7, 10, 1, 2, 3, 4, 7, 8, 9, 10, 1, 7, 1, 2, 3, 4, 5, 6, 7, 8, 9, 10, 1, 2, 3, 4, 5, 6, 7, 8, 9, 10, 1, 2, 3, 5, 6, 7, 8, 9, 1, 2, 3, 4, 5, 6, 7, 8, 1, 3, 4, 5, 7, 8, 10, 1, 2, 3, 4, 5, 7, 8, 9, 10, 1, 2, 3, 4, 5, 6, 7, 8, 9, 10, 1, 2, 3, 4, 5, 6, 7, 8, 9, 10, 1, 2, 3, 4, 6, 7, 8, 9, 10, 2, 3, 4, 6, 7, 8, 9, 10, 2, 3, 4, 5, 6, 7, 8, 9, 10, 1, 7, 8, 4, 6, 8, 9, 10, 1, 2, 3, 4, 5, 6, 8, 9, 10, 2, 3, 4, 5, 6, 9, 10, 1, 2, 3, 4, 5, 6, 7, 8, 9, 10, 1, 2, 3, 4, 5, 6, 2, 3, 4, 5, 6, 8, 9, 10, 2, 4, 6, 8, 9, 2, 3, 4, 5, 6, 8, 9, 6, 9, 4, 6, 7, 9, 2, 4, 5, 6, 10, 3, 4, 6, 8, 10, 2, 4, 6, 7, 8, 9, 10, 2, 6, 7, 8, 9, 1, 2, 5, 6, 7, 8, 9, 10, 1, 3, 7, 8, 10, 1, 2, 3, 4, 5, 6, 7, 8, 9, 10, 1, 2, 3, 4, 5, 6, 7, 9, 10, 2, 4, 8, 1, 2, 3, 4, 5, 6, 7, 8, 10, 1, 2, 3, 4, 5, 7, 8, 9, 10, 1, 3, 4, 6, 7, 8, 9, 10, 1, 2, 3, 4, 5, 7, 8, 9, 10, 2, 3, 4, 5, 6, 8, 10, 1, 2, 4, 6, 8, 6, 7, 9, 10, 1, 2, 3, 4, 6, 7, 8, 9, 10, 1, 3, 4, 5, 8, 1, 3, 4, 5, 6, 7, 9, 10, 4, 5, 6, 9, 2, 4, 5, 6, 8, 9, 2, 3, 4, 6, 7, 8, 9, 7, 1, 2, 3, 4, 5, 6, 7, 8, 9, 10, 1, 2, 3, 4, 5, 6, 7, 8, 9, 10, 1, 2, 3, 4, 5, 6, 7, 8, 9, 10, 1, 2, 3, 5, 6, 7, 8, 9, 10, 1, 2, 3, 4, 5, 6, 7, 8, 9, 10, 1, 2, 3, 4, 5, 6, 7, 8, 9, 10, 2, 3, 4, 5, 6, 7, 8, 9, 10, 2, 3, 4, 5, 6, 7, 8, 9, 10, 1, 2, 3, 4, 5, 6, 7, 8, 9, 10, 1, 2, 3, 4, 5, 6, 7, 8, 9, 10, 1, 2, 3, 4, 5, 6, 7, 8, 9, 10, 1, 2, 4, 5, 6, 7, 8, 9, 10, 1, 2, 3, 4, 5, 7, 9, 10, 1, 2, 3, 4, 5, 6, 7, 8, 9, 10, 1, 2, 3, 4, 5, 7, 8, 9, 10, 1, 3, 7, 10, 1, 2, 3, 4, 5, 6, 7, 8, 9, 10, 1, 2, 3, 4, 5, 6, 7, 8, 9, 10, 1, 2, 3, 5, 6, 7, 10, 8, 2, 4, 5, 6, 8, 9, 10, 2, 4, 8, 1, 2, 3, 4, 5, 6, 7, 8, 9, 10, 1, 2, 3, 4, 5, 6, 7, 8, 9, 10, 1, 2, 3, 4, 5, 6, 7, 8, 9, 10, 1, 2, 3, 4, 5, 6, 7, 8, 9, 10, 1, 2, 3, 4, 5, 6, 7, 8, 9, 10, 1, 2, 3, 4, 5, 6, 7, 8, 9, 1, 2, 3, 4, 5, 6, 7, 8, 9, 10, 1, 2, 4, 5, 6, 7, 8, 9, 10, 3, 4, 8, 1, 2, 3, 4, 5, 6, 7, 8, 9, 10, 1, 2, 4, 5, 6, 8, 9, 10, 4, 7, 1, 2, 3, 4, 5, 6, 7, 8, 9, 10, 2, 4, 5, 6, 8, 9, 2, 4, 5, 6, 8, 9, 4, 6, 8, 10, 2, 3, 4, 5, 6, 8, 9, 1, 2, 3, 4, 5, 7, 9, 1, 2, 3, 4, 5, 6, 7, 8, 9, 10, 1, 3, 8, 10, 1, 7, 8, 9, 2, 4, 6, 7, 8, 9, 10, 1, 2, 4, 6, 7, 8, 9, 1, 2, 3, 4, 5, 6, 7, 8, 9, 10, 1, 2, 3, 4, 5, 6, 7, 8, 9, 10, 1, 2, 3, 4, 5, 6, 7, 8, 9, 10, 3, 4, 5, 6, 7, 8, 9, 10, 1, 2, 3, 4, 5, 6, 7, 8, 9, 10, 1, 3, 4, 5, 7, 8, 10, 1, 2, 3, 4, 5, 6, 7, 10, 1, 2, 3, 4, 5, 6, 7, 9, 10, 1, 2, 3, 4, 5, 6, 7, 8, 9, 10, 1, 2, 3, 4, 6, 7, 10, 1, 2, 3, 4, 5, 6, 7, 8, 9, 10, 1, 2, 3, 4, 5, 6, 7, 8, 9, 10, 1, 2, 3, 4, 5, 6, 7, 8, 9, 10, 1, 2, 3, 4, 5, 8, 9, 10, 2, 3, 4, 5, 6, 8, 9, 10, 1, 2, 3, 4, 5, 6, 7, 9, 10, 1, 2, 3, 4, 5, 6, 7, 8, 9, 10, 2, 4, 8, 2, 3, 4, 5, 6, 7, 9, 10, 1, 2, 3, 5, 7, 8, 2, 3, 4, 6, 10, 1, 2, 4, 5, 6, 7, 8, 9, 10, 1, 2, 3, 4, 5, 6, 7, 8, 9, 10, 1, 2, 3, 4, 5, 6, 7, 8, 9, 10, 1, 2, 3, 4, 5, 6, 7, 8, 9, 10, 1, 2, 3, 4, 5, 6, 7, 8, 9, 10, 1, 2, 3, 4, 7, 8, 10, 1, 2, 3, 4, 5, 6, 7, 8, 9, 10, 1, 2, 4, 5, 6, 7, 8, 9, 1, 2, 3, 4, 5, 6, 7, 8, 9, 10, 1, 2, 3, 4, 5, 6, 7, 8, 9, 10, 1, 2, 3, 4, 5, 6, 7, 8, 9, 10, 1, 2, 3, 4, 5, 6, 7, 8, 9, 10, 1, 2, 3, 4, 5, 6, 7, 9, 10, 1, 2, 4, 5, 6, 7, 8, 9, 10, 1, 2, 3, 4, 5, 6, 7, 8, 9, 1, 2, 3, 4, 5, 6, 7, 8, 9, 10, 2, 3, 4, 5, 6, 8, 9, 10, 2, 4, 8, 9, 1, 2, 3, 4, 6, 1, 2, 3, 4, 5, 7, 8, 9, 10, 1, 2, 3, 4, 5, 6, 7, 8, 9, 10, 1, 2, 3, 4, 5, 6, 7, 8, 9, 1, 2, 3, 4, 5, 7, 9, 1, 2, 3, 4, 7, 1, 2, 3, 4, 7, 10, 1, 2, 3, 4, 5, 6, 7, 9, 1, 2, 3, 4, 6, 7, 8, 9, 10, 1, 2, 3, 4, 5, 6, 7, 8, 9, 10, 1, 2, 3, 4, 5, 6, 7, 8, 9, 10, 1, 2, 3, 4, 5, 6, 7, 8, 9, 10, 1, 2, 3, 4, 5, 6, 7, 8, 9, 10, 1, 3, 4, 5, 6, 7, 8, 9, 10, 1, 2, 4, 5, 6, 7, 8, 9, 10, 1, 2, 4, 5, 6, 7, 8, 9, 10, 1, 2, 3, 4, 5, 6, 7, 8, 9, 10, 1, 2, 3, 4, 5, 6, 7, 8, 9, 10, 1, 2, 3, 4, 5, 6, 7, 8, 9, 10, 2, 3, 4, 5, 6, 7, 8, 9, 10, 2, 3, 4, 6, 8, 10, 1, 2, 3, 4, 5, 6, 7, 8, 9, 10, 1, 2, 3, 4, 5, 6, 7, 8, 9, 10, 1, 2, 3, 4, 5, 6, 7, 8, 9, 10, 1, 2, 3, 4, 5, 6, 7, 8, 10, 1, 7, 2, 3, 4, 5, 7, 1, 2, 3, 4, 5, 7, 8, 9, 10, 1, 3, 4, 5, 6, 8, 9, 10, 1, 2, 3, 4, 5, 6, 7, 8, 9, 10, 1, 2, 3, 4, 5, 7, 8, 9, 10, 1, 2, 4, 5, 6, 7, 8, 9, 2, 3, 4, 5, 6, 7, 8, 9, 10, 1, 2, 3, 5, 6, 7, 8, 9, 10, 1, 2, 3, 4, 5, 6, 7, 8, 9, 10, 1, 2, 3, 4, 5, 6, 7, 8, 9, 10, 1, 2, 3, 4, 5, 6, 7, 8, 9, 10, 3, 4, 5, 7, 8, 1, 2, 3, 5, 7, 9, 10, 1, 2, 3, 4, 5, 7, 8, 9, 10, 3, 4, 5, 6, 7, 8, 2, 3, 4, 5, 6, 7, 8, 9, 1, 7, 1, 2, 3, 4, 5, 6, 7, 8, 9, 10, 1, 2, 3, 4, 5, 6, 7, 8, 9, 1, 2, 3, 4, 5, 6, 7, 8, 9, 10, 2, 5, 8, 9, 10, 1, 2, 3, 4, 5, 8, 10, 1, 2, 3, 4, 5, 7, 8, 10, 1, 2, 3, 4, 5, 6, 7, 9, 1, 2, 3, 4, 5, 6, 7, 8, 9, 10, 1, 2, 3, 4, 5, 6, 7, 8, 9, 10, 1, 2, 3, 4, 5, 6, 8, 9, 1, 2, 3, 4, 7, 10, 2, 3, 4, 6, 7, 8, 9, 10, 1, 2, 3, 4, 5, 6, 7, 8, 10, 1, 2, 3, 4, 5, 6, 7, 8, 9, 10, 2, 3, 5, 6, 8, 9, 10, 1, 7, 10, 1, 2, 3, 4, 6, 7, 8, 10, 1, 2, 3, 4, 5, 6, 7, 8, 9, 2, 3, 4, 5, 6, 7, 8, 9, 10, 2, 4, 5, 6, 8, 9, 10, 3, 4, 5, 6, 7, 8, 9, 10, 1, 2, 3, 5, 6, 8, 10, 1, 2, 3, 4, 5, 6, 7, 8, 9, 10, 1, 3, 4, 5, 8, 9, 10, 2, 3, 4, 5, 8, 9, 1, 2, 3, 4, 7, 8, 9, 10, 1, 2, 3, 4, 5, 6, 7, 8, 9, 10, 1, 2, 3, 4, 5, 6, 7, 8, 10, 1, 2, 3, 7, 1, 2, 3, 5, 7, 10, 1, 2, 5, 7, 8, 9, 10, 1, 2, 4, 5, 7, 8, 9, 1, 2, 3, 4, 5, 6, 7, 8, 9, 10, 1, 2, 3, 5, 7, 8, 9, 10, 2, 3, 4, 5, 6, 7, 8, 9, 1, 2, 3, 4, 6, 7, 8, 9, 10, 1, 3, 4, 5, 6, 7, 9, 8, 1, 2, 3, 4, 5, 6, 7, 8, 9, 10, 1, 2, 3, 4, 5, 6, 7, 8, 9, 1, 2, 3, 5, 6, 7, 9, 10, 1, 2, 3, 4, 5, 7, 8, 9, 10, 1, 2, 3, 4, 5, 6, 7, 8, 9, 10, 1, 2, 3, 4, 5, 6, 7, 8, 9, 10, 1, 2, 4, 8, 9, 10, 1, 2, 3, 4, 5, 6, 8, 9, 10, 1, 2, 4, 6, 7, 8, 10, 1, 2, 3, 4, 5, 7, 8, 9, 10, 2, 4, 5, 6, 8, 9, 1, 2, 3, 4, 5, 7, 8, 9, 10, 1, 2, 3, 4, 5, 6, 7, 8, 9, 10, 1, 2, 3, 4, 5, 6, 7, 8, 9, 10, 1, 5, 7, 1, 3, 4, 6, 7, 8, 9, 10], \"Freq\": [0.2402273246119228, 0.5082554375320503, 0.08411520565046555, 0.015682495968730864, 0.15183507460634885, 0.3187090542353984, 0.6797063648580179, 0.05385808602480155, 0.018249434107577383, 0.027596705235848725, 0.14777590545648028, 0.09035695423995631, 0.4152859029846268, 0.12819114690200697, 0.058309167514454564, 0.060534708259281075, 0.09734138084702924, 0.09469862842584294, 0.14380977758622196, 0.06849133358241198, 0.05065275473940436, 0.3061188221207481, 0.09844252768919022, 0.06364628747690373, 0.048010002318218045, 0.028850047264617266, 0.08448983365325805, 0.17233687923975813, 0.050358178998630626, 0.04196514916552552, 0.05259632028745865, 0.3905556549004908, 0.0402865431989045, 0.045881896420974566, 0.0486795730320096, 0.0727395918869109, 0.10742490380244672, 0.0757562905427659, 0.111150623009468, 0.027942894052659553, 0.04719244328893613, 0.3558061842705317, 0.08941726096851058, 0.10183632499191482, 0.04657149008776592, 0.03725719207021274, 0.19034499740814093, 0.2012946092991778, 0.11879055691089999, 0.16258900447504748, 0.13470569047345357, 0.06149607608570707, 0.057931086167695066, 0.00038196320550128616, 0.009294438000531296, 0.06315124997621265, 0.21172460441157104, 0.011017343668475416, 0.08191155510040418, 0.10634131714789315, 0.32812523534372434, 0.06466701718452961, 0.09484495853731009, 0.06897815166349826, 0.03209400112121099, 0.40369581254235104, 0.05406640346549345, 0.01369682221125834, 0.07857650636985047, 0.29844654712952384, 0.03604426897699563, 0.033881612838375895, 0.06343791339951231, 0.018022134488497814, 0.3851872217990134, 0.034366146182811606, 0.047826220104412814, 0.07990128987503697, 0.19875087875726044, 0.049258142862029966, 0.07904213622046669, 0.07904213622046669, 0.0028638455152343004, 0.043530451831561366, 0.08754346958912393, 0.006253104970651709, 0.11130526847760043, 0.3076527645560641, 0.027096788206157407, 0.04335486112985185, 0.03793550348862037, 0.09921593220100712, 0.27972222902048643, 0.38465214668961256, 0.22013506815407963, 0.047672562530182844, 0.012151829664556411, 0.015423476112706214, 0.034118598673562234, 0.08132378313972367, 0.028977439969326828, 0.17479939594400376, 0.07600245887761604, 0.054890664744944924, 0.00168894353061369, 0.3673452179084776, 0.49908281329634535, 0.1675530125352769, 0.0022710498687010423, 0.08428118401623869, 0.009841216097704518, 0.008074843977603706, 0.33207795857895245, 0.3956673549025816, 0.013066942338375522, 0.3254319033050628, 0.4002268447441806, 0.2472076285825704, 0.007095172310430147, 0.0034884597192948227, 0.0034293332833745713, 0.16913052075020718, 0.4288546049135833, 0.3982060361966903, 0.0037183925281524563, 0.5066653866554344, 0.0822742590687064, 0.01246579682859188, 0.026039664486391927, 0.029917912388620512, 0.035735284241963386, 0.18393975764855575, 0.035735284241963386, 0.003878247902228585, 0.08310531219061253, 0.002364462789827931, 0.04019586742707482, 0.21942214689603198, 0.0018915702318623446, 0.043269669053851136, 0.00922140488032893, 0.15960123831338532, 0.5242014005048523, 0.07160303497495119, 0.18391521118285215, 0.07128122358180534, 0.00032181139314584804, 0.20193664919901963, 0.03797374439121007, 0.22285438975349975, 0.08656726475623312, 0.10040515466150458, 0.023170420306501058, 0.01849948292127175, 0.16862990201313097, 0.01849948292127175, 0.4155268471547193, 0.10992961966678791, 0.22092651719441841, 0.04696022587707445, 0.0010672778608426011, 0.10468281399914141, 0.6186329395558117, 0.07242814621711814, 0.0471265804719382, 0.04191175394430569, 0.08034695687018972, 0.025301565745179937, 0.009657086162282419, 0.0017186221606141651, 0.7650732985000726, 0.030648761864285945, 0.12488654367129601, 0.0739007529064091, 0.003723681347997358, 0.006007982797033075, 0.10943111523167388, 0.4832134735328031, 0.3793611994698028, 0.021886223046334776, 0.4267445573924699, 0.09904917058784009, 0.04165619323787667, 0.07590684101124194, 0.3360266254522052, 0.020365250027406374, 0.485461307975014, 0.007420759638671319, 0.42035012662925275, 0.01244772584551318, 0.016756554022806205, 0.021065382200099226, 0.03638566016380776, 0.06930969712232826, 0.14852077954784626, 0.001414483614741393, 0.07732510427252948, 0.006129428997212703, 0.3649367726032794, 0.17963941907215691, 0.002357472691235655, 0.049978421054195886, 0.1004283366466389, 0.0483970503512799, 0.2713283452764668, 0.007049964027548646, 0.019625575536148934, 0.6535507193105907, 0.1790350314835207, 0.018003522719013256, 0.039007632557862056, 0.3070600819298372, 0.07901546082233596, 0.3510686930207585, 0.01600313130578956, 0.011002152772730324, 0.10598305541506627, 0.21323918056484803, 0.07065537027671084, 0.09834463700677319, 0.1253973688694778, 0.017345575135498833, 0.33640867739857366, 0.03246327823524552, 0.35922470979724086, 0.22905620540442045, 0.02825362886045715, 0.04137138511709797, 0.024217396166106128, 0.09384241014366124, 0.22199279818930617, 0.21914483895732062, 0.049463184876764446, 0.023257524014902487, 0.12120118148611154, 0.011137405866291332, 0.012775259670157704, 0.5172342312610003, 0.04585990650825843, 0.2776589134626005, 0.1573400509621403, 0.002776589134626005, 0.45165849923249685, 0.11013803567349821, 0.16969026039992743, 0.2559416634761336, 0.015937759264081582, 0.06562606755798299, 0.059063460802184685, 0.020625335518223223, 0.15656504688833084, 0.002812545752484985, 0.04593824729058809, 0.20719087043306056, 0.19268133213158345, 0.22247557515563388, 0.01694882088194484, 0.11507357335636234, 0.039249900989767, 0.0039249900989767, 0.26975386498421683, 0.021944262826097006, 0.033719233123027104, 0.08420887848713647, 0.010840063628342026, 0.08179320737748984, 0.09558965199537968, 0.10150241397447533, 0.3005654006040289, 0.11234247760281736, 0.2710015907085506, 0.026607428905930427, 0.6242935998885758, 0.20993334946638986, 0.020649181914726873, 0.14454427340308812, 0.0926455330071448, 0.4373938144856548, 0.115806916258931, 0.13451418734691217, 0.17460119682115752, 0.044541121638050386, 0.08620219413229874, 0.025126200083405464, 0.18322798214667985, 0.07054663869571534, 0.14650507433247184, 0.3022875148495857, 0.08446268797267836, 0.04542043861230988, 0.05624403249439223, 0.0948495645386179, 0.07406579541660999, 0.0751994555505377, 0.05838349689727675, 0.17968513122754107, 0.24600424906231175, 0.05838349689727675, 0.15058785445673, 0.047991612336272804, 0.01492652509671477, 0.1449966141369651, 0.11680282805477744, 0.15450194773038836, 0.06734287189916824, 0.16561835481422235, 0.12663037634628285, 0.062026329380812845, 0.025132746450407282, 0.041243481354514513, 0.09569776533039696, 0.12468314201618144, 0.36894543777887606, 0.32738439044014894, 0.11447516547684494, 0.03718620025044008, 0.02624908252972241, 0.20730782662915062, 0.12880726294557893, 0.12493751684850145, 0.0027641043550553418, 0.017137447001343117, 0.012162059162243503, 0.08071184716761598, 0.02321847658246487, 0.06523286277930607, 0.3377735521877627, 0.07388844137048085, 0.05005346028322896, 0.25980129385104556, 0.02462948045682695, 0.18511835311098968, 0.0007944993695750629, 0.11281891047965893, 0.006355994956600503, 0.2637737906989209, 0.022245982348101764, 0.5704211271944191, 0.42897255104192117, 0.2811108874192628, 0.7175725284123288, 0.08856979488404228, 0.42984222132535205, 0.10343465556388154, 0.03468467491962495, 0.008051799534912935, 0.06069818110934366, 0.24774767799732106, 0.01858107584979908, 0.005574322754939724, 0.0030968459749665133, 0.1573469771531302, 0.06103977561974879, 0.06985663209815694, 0.47882312875047384, 0.18990152415032957, 0.043406062662932475, 0.14896132247912336, 0.018750376256113428, 0.028125564384170142, 0.8036619600884173, 0.11456055533807143, 0.10842338273067474, 0.23423542118230678, 0.04500593245424235, 0.2996985956612047, 0.011251483113560588, 0.0736460712887602, 0.06137172607396684, 0.051143105061639035, 0.11279032945579494, 0.3912530116860034, 0.2976925088915243, 0.003698043588714588, 0.16863078764538522, 0.0062866741008148, 0.019229826661315858, 0.02579576835347649, 0.12061745478384181, 0.5045296486238575, 0.037003584948435246, 0.1618906841494042, 0.051769438557666615, 0.09837972344463794, 0.4814516271352088, 0.3350322118021563, 0.007265085493624741, 0.002514837286254718, 0.10813800330895287, 0.04135510204063314, 0.0170450082735042, 0.007544511858764154, 0.9992334817419597, 0.5379729089000127, 0.08469815693754526, 0.05119119375346142, 0.0024819972728950994, 0.019545728524048907, 0.1057951337571536, 0.1802550519440066, 0.001551248295559437, 0.016132982273818146, 0.14938334103696083, 0.18807711514844536, 0.21091278511587885, 0.02695877704488677, 0.12147307774343098, 0.0380594499457225, 0.020932697470147376, 0.002220134580167146, 0.025372966630481667, 0.2163045405248562, 0.14990755572621087, 0.04904975223361619, 0.07027666212444765, 0.16837616659168003, 0.12208471338342612, 0.2609590730081879, 0.028062694431946672, 0.032260105992280574, 0.08190948844880161, 0.03705714777551933, 0.04553936140168574, 0.1593877649059001, 0.5820499629152959, 0.2120426515265992, 0.2402631701299669, 0.01926922667709008, 0.13127160673767616, 0.009032450004885974, 0.13608891340694868, 0.4058580868862098, 0.05780768003127024, 0.3500446965374146, 0.06456379958356757, 0.04589474910157214, 0.3282641376417532, 0.010890279447830676, 0.19913653847461807, 0.48771706842759843, 0.10759686603300511, 0.003323455321482783, 0.07768576813966006, 0.20854682142304465, 0.054006148974095225, 0.02617221065667692, 0.03448084896038388, 0.007910859700729628, 0.10758769192992294, 0.6352420339685891, 0.12657375521167405, 0.026105837012407773, 0.0957214023788285, 0.009795701304669006, 0.1148768607547547, 0.5138290593449105, 0.1807752149861644, 0.10062856794796342, 0.08014664703820096, 0.021916225699556292, 0.052442397209652554, 0.1526308575504813, 0.29352087990477177, 0.21681408995632476, 0.07357590056279613, 0.09314395922311425, 0.09001306983746334, 0.007044501117714523, 0.11243548238096734, 0.2332562894302827, 0.11613223841755088, 0.18853455786576, 0.10107471992707649, 0.10251735642915788, 0.07077935338336758, 0.03245932129683099, 0.04282827115554089, 0.10658980813217347, 0.21413988480607826, 0.04929378514220635, 0.020485728890267577, 0.29192163668631294, 0.1245148209111576, 0.07586121479677212, 0.0643379922959966, 0.0435321738918186, 0.008962506389492064, 0.17211349468156903, 0.18089706450058968, 0.06882316098700984, 0.09884295657100443, 0.1386469818268195, 0.057259980465767475, 0.18945826546343258, 0.00989541409990933, 0.08327713663856279, 0.0007782909966220821, 0.18945207193771677, 0.11806210965972787, 0.12251438687706481, 0.04575098657815202, 0.1807010443036407, 0.10547291201070617, 0.21831511045010799, 0.012435670848423872, 0.007369286428695628, 0.11823343862667379, 0.051525856522130216, 0.11501307259404066, 0.10903239281915054, 0.2916731520984871, 0.1278945367245732, 0.022542562228431966, 0.04600522903761626, 0.06900784355642439, 0.0492255950702494, 0.06329604463051128, 0.06751578093921203, 0.06751578093921203, 0.19762431712415188, 0.11322959095013684, 0.3361723259264932, 0.058373018937027066, 0.05766972955224361, 0.03797762677830677, 0.015928969245746365, 0.061200776575762346, 0.06623097739020857, 0.25151004072231103, 0.12659338716356322, 0.3831336287003204, 0.031019571689085024, 0.04275670692279287, 0.02179753686260029, 0.018171654133702583, 0.0162588484354181, 0.20658301541472412, 0.005738417094853447, 0.0028692085474267236, 0.05451496240110775, 0.4648117846831292, 0.0602533794959612, 0.1692833042981767, 0.005379657284752061, 0.1180360098360305, 0.3155010772292826, 0.13955463897503875, 0.38575307235957423, 0.035758898422175465, 0.13990072566573028, 0.26141074561014394, 0.08056880601719678, 0.11658393805477524, 0.04871347646420186, 0.06513374942966316, 0.11067263978720918, 0.03437310474103233, 0.05768989235198737, 0.08505701396108954, 0.09266065872578874, 0.3527305373056047, 0.0003444634153375046, 0.08129336601965109, 0.14708587834911446, 0.059247707438050794, 0.01928995125890026, 0.19014380526630253, 0.057180926946025765, 0.08971565502038203, 0.3087940348302543, 0.03035832770891715, 0.20072745037388506, 0.007023195216242028, 0.103988600137261, 0.09605918618343935, 0.03398320265923562, 0.06751329594968143, 0.061849428839808825, 0.16859811009279582, 0.0529060232049227, 0.07649063595892439, 0.11473595393838658, 0.3158425843137253, 0.06852286137986976, 0.11314239902257565, 0.06756672843038321, 0.021672346855028578, 0.5202504536269635, 0.2004709236284867, 0.017855709796869262, 0.037334665938908454, 0.052755506218022816, 0.05032063670026792, 0.025971941522718926, 0.010551101243604564, 0.08440880994883651, 0.3455912158149898, 0.10767594079524889, 0.0037129634756982374, 0.03370228385633785, 0.19764390193716772, 0.043127498833110296, 0.03655840960687495, 0.02941809523053219, 0.20278492828813452, 0.208256544309586, 0.24863281310430166, 0.3343438398439612, 0.208256544309586, 0.01287470080578374, 0.04634892290082146, 0.1845373782162336, 0.09870603951100868, 0.1338968883801509, 0.3793745170770942, 0.1253137545096284, 0.017166267741044985, 0.0017166267741044986, 0.4724440913484761, 0.003122859905041863, 0.024090633553180085, 0.11008081165272567, 0.1665153513652679, 0.18447179581925863, 0.0247598178185462, 0.014498992416265791, 0.3734725961623267, 0.05328330242945009, 0.06929626339578089, 0.08992431354891446, 0.13439699116719564, 0.0988048639538228, 0.0028669493433168686, 0.17712152894199093, 0.0008391071248732298, 0.07071805368438622, 0.055427663698572986, 0.19813797023282986, 0.08314149554785948, 0.26121082892430947, 0.004778246870566637, 0.06562125702244848, 0.09269798928899275, 0.10480288136109489, 0.06339140848285071, 0.6515985482016686, 0.14648339455696427, 0.019362747556380334, 0.03283248498690579, 0.0665068285632194, 0.07660913163611349, 0.005893010125854884, 0.4843720672403027, 0.019751094003973506, 0.22854837347455056, 0.19657041175383155, 0.0009405282859035004, 0.03103743343481551, 0.037621131436140015, 0.5408751390449706, 0.1571857353542243, 0.14839895511703166, 0.046862827931694204, 0.04491021010120695, 0.06150746166034864, 0.2356443812654365, 0.3974492425158179, 0.058429533229304415, 0.13868988107175553, 0.01926248348218827, 0.0019262483482188268, 0.019904566264927877, 0.010273324523833744, 0.01284165565479218, 0.10530157636929587, 0.18806798389256624, 0.11637627201707101, 0.17530096670925888, 0.4797452226188961, 0.0402652080396617, 0.02257248332319655, 0.14364307569306894, 0.44426751267927755, 0.09644606510820344, 0.06156131815417241, 0.06361336209264483, 0.02565054923090517, 0.08618584541584137, 0.05540518633875517, 0.6452352192766371, 0.19223559636379806, 0.00022249490319884035, 0.16219878443195462, 0.07549053999551537, 0.4314459338816541, 0.16747901257283213, 0.12798396184670158, 0.06049241946660504, 0.043494549533839987, 0.00999874701927356, 0.08348953761093422, 0.06800721644236599, 0.04686983835892791, 0.154394761652939, 0.12682426850062847, 0.31981772056680224, 0.06065508493508318, 0.16634197535227357, 0.021137378083438078, 0.035841641098003696, 0.01009657208511228, 0.2183001267493216, 0.26878298717488297, 0.03197247826952222, 0.2467541026255471, 0.06226219452485906, 0.0018357403791113237, 0.1598623913476111, 0.1216948226745274, 0.506242598363341, 0.04187560134034626, 0.3188836872020734, 0.01140274590488302, 0.0282824300503825, 0.25762213511239507, 0.033882911248478045, 0.043963777405050024, 0.36823163877478204, 0.2679830253288718, 0.00500930633071443, 0.2496304321472691, 0.20621644394774402, 0.21039086589000605, 0.3272746802733428, 0.000834884388452405, 0.0007224903826430603, 0.11361161267062123, 0.11957215832742647, 0.29098300160949253, 0.12553270398423172, 0.18170633123472965, 0.051116194571996516, 0.02348093743589946, 0.0408207066193329, 0.0521999301459611, 0.08499366197035496, 0.38015346990376947, 0.07812548726567982, 0.15693779200182714, 0.11813260492041255, 0.04172416133090153, 0.028331220656784988, 0.11160783895097116, 0.0707810116448881, 0.43415004783083616, 0.06115797523024602, 0.06306667666786098, 0.18752991624566984, 0.00198823066418225, 0.04668365599499923, 0.13456345135185468, 0.010524041111880694, 0.04085804196377211, 0.24886261923388464, 0.0903829413137989, 0.13681253445444902, 0.11638351347256297, 0.01114310235375603, 0.275482252634524, 0.06995392033191285, 0.06397851090927482, 0.043856237316841615, 0.41998796677540084, 0.2363077257778054, 0.06552637810869276, 0.07636144850461833, 0.025281830923826343, 0.04230837011742367, 0.026829698123244282, 0.5023079367939143, 0.0711152813740488, 0.09542050412214143, 0.10172185816794321, 0.04230909145038346, 0.1467315299236703, 0.03960851114503984, 0.057115333484329, 0.10142895429113598, 0.12900187390426032, 0.1378645980656217, 0.3161038284218898, 0.05317634496816837, 0.011816965548481861, 0.06006957487144946, 0.08665774735553365, 0.047267862193927444, 0.13545356952331006, 0.2881788291364398, 0.08703843824791008, 0.18359670567918532, 0.062286882371160646, 0.24343563197462348, 0.039532075558541886, 0.11773683372870085, 0.08507990174555755, 0.10140836773712919, 0.005156357681548942, 0.36953896717767415, 0.02835996724851918, 0.2294579168289279, 0.024063002513895062, 0.07498825240793312, 0.10159698713332875, 0.14030060127935876, 0.05902301157269575, 0.058539216395870376, 0.49347108036188253, 0.05176608392031513, 0.005321746945079126, 0.01451385530476125, 0.12081057069519405, 0.5511358266425381, 0.003993737874221291, 0.1367855221920792, 0.17971820433995808, 0.006989041279887259, 0.2715861668730093, 0.2766311111492881, 0.4010730699641655, 0.025224721381394054, 0.025224721381394054, 0.06545359830725601, 0.08202412952428285, 0.3620661070920364, 0.008285265608513418, 0.04391190772512112, 0.06379654518555333, 0.17896173714388985, 0.020713164021283547, 0.17481910433963313, 0.06852679183047432, 0.16749846858563225, 0.017957321955576103, 0.11569056271379775, 0.12425641169260704, 0.14355537264486412, 0.05428477786570707, 0.12012829170281944, 0.1438649816440982, 0.04427408689047211, 0.050970314957362484, 0.03567922047015374, 0.5037566128285993, 0.21662383856879056, 0.04247526246446874, 0.15036242912421935, 0.10656002910525433, 0.37177610154499846, 0.15273604171753122, 0.0793280216672449, 0.06709335165886385, 0.0710400194035029, 0.1515520413941395, 0.18750501516651508, 0.031895182992242255, 0.4156038995958839, 0.0028995620902038414, 0.21070151188814581, 0.034794745082446094, 0.11598248360815365, 0.27262778626987405, 0.15349631663934085, 0.08801219150589071, 0.06548412513345014, 0.14299594671998295, 0.18251552078011177, 0.03608308935924803, 0.014700517887101052, 0.009545790835779904, 0.03474667864223885, 0.10644534652808066, 0.0013824070977672812, 0.024883327759811065, 0.1582856126943537, 0.008985646135487328, 0.055987487459574894, 0.4707096167897593, 0.05875230165510945, 0.056678691008458536, 0.05736989455734218, 0.04566432001768524, 0.7529538989582767, 0.05378242135416262, 0.05682670935534164, 0.059870997356520655, 0.016236202672954753, 0.01420667733883541, 0.010990187230107036, 0.15036574346646445, 0.13138269279627957, 0.0004995539650048652, 0.010990187230107036, 0.6284388879761205, 0.028474576005277318, 0.03896520927037949, 0.07009002156139184, 0.4266730062549728, 0.07447064790897882, 0.05694814251863087, 0.06483326994428745, 0.12528591354098792, 0.00876125269517398, 0.05957651832718306, 0.11214403449822694, 0.1039403238057646, 0.11211923453146411, 0.16891722568215514, 0.0918991496818181, 0.07963078359326883, 0.11825341757573873, 0.16039752700955148, 0.04384804916833348, 0.09348949343403745, 0.027490227716934462, 0.49119944727599685, 0.16791001514026424, 0.02255507666063251, 0.21302016846152927, 0.016707464193061117, 0.023390449870285566, 0.016707464193061117, 0.047616272950224185, 0.27491741934084946, 0.2635806185432886, 0.030163987836367135, 0.07551119102661034, 0.021863830109581546, 0.1583103254230812, 0.17551796949080742, 0.46510688053088894, 0.19651673101583825, 0.10059167761760585, 0.004666624219373468, 0.054962463028176395, 0.17836874794049698, 0.4871674985362215, 0.04023619746487217, 0.08047239492974434, 0.36212577718384953, 0.00866625791551093, 0.021046626366240828, 0.007069824548584099, 0.024037403465185934, 0.8271694721843396, 0.02726932325882438, 0.10321943840932783, 0.011109724290632155, 0.039975442938563, 0.8733488489125547, 0.01935116983013241, 0.004583171801873465, 0.019605790485792043, 0.04303089080647864, 0.03757365559725039, 0.014268476809082426, 0.10130618534448523, 0.15671543695308865, 0.08133031781176983, 0.2903635030648274, 0.21806988723214307, 0.03424434434179782, 0.01759778806453499, 0.04851282115088025, 0.47441578509792015, 0.22516914612260308, 0.09630997141085597, 0.0022293974863624067, 0.02541513134453144, 0.11815806677720755, 0.03611623927907099, 0.010255228437267071, 0.011146987431812035, 0.26128292013074955, 0.05676562671561739, 0.021740027252789642, 0.04710339238104422, 0.4062164351493472, 0.14573870121314536, 0.020532247960967993, 0.036635971851923285, 0.00362333787546494, 0.835464665576606, 0.15936153205521664, 0.004733510853125247, 0.22504574767051233, 0.02790567271114353, 0.42038545664851706, 0.10172067794707158, 0.08101646916138444, 0.05041024747819477, 0.04140841757137427, 0.051310430468876816, 0.009264348343249955, 0.14871717077322297, 0.08727991333903905, 0.14676678164832824, 0.311087065420709, 0.15408074086668347, 0.06046206287173655, 0.035107004248105096, 0.034619406966881414, 0.01316512659303941, 0.34826861128153014, 0.2698215170693468, 0.15105626513415765, 0.08446745260521134, 0.015142113533979571, 0.019702991104455343, 0.08848102486723002, 0.004743312673294805, 0.018243510281903096, 0.4680171705469649, 0.1569993905444171, 0.020867007604004804, 0.09539203476116483, 0.012917671373907737, 0.08943003258859203, 0.0019873340575242674, 0.1540183894581307, 0.03849623978937116, 0.06514748272047427, 0.08801490721074175, 0.13835614385838096, 0.1480624607283506, 0.0034547907503281808, 0.07518282728095137, 0.2681575677635683, 0.17208148213539415, 0.002961249214567012, 0.02469582160193756, 0.10733184003919016, 0.16649325882185376, 0.21520644538831302, 0.11710161561797865, 0.08860643684651223, 0.025374278239353426, 0.14206881987488254, 0.08860643684651223, 0.02469582160193756, 0.10539681635731352, 0.07475820695111772, 0.21242769188295746, 0.028187520653700126, 0.13521839617934409, 0.08823919508984387, 0.004085147920826105, 0.009804355009982653, 0.009395840217900043, 0.33212252596316233, 0.0976100351261062, 0.09382670043129589, 0.04767001715461001, 0.09256558886635911, 0.18260895460284468, 0.2925778830653313, 0.1503244985404633, 0.014124449527291855, 0.028501121367571065, 0.006924538435197509, 0.028563721045189727, 0.5245337864662113, 0.061455278612377894, 0.005193403826398132, 0.07097651896077448, 0.3020829892354913, 0.1047494909028796, 0.07143630246948081, 0.255460493120288, 0.05807539801758291, 0.056828380268739105, 0.08889455095329409, 0.08444091613599478, 0.1450103496512653, 0.05593765330527924, 0.07909655435523562, 0.001580573174903445, 0.02351102597668875, 0.4702205195337749, 0.19934979168469702, 0.05452977453416886, 0.04524390713161112, 0.05452977453416886, 0.05630791935593524, 0.08001651697948692, 0.014620301867856868, 0.05388886958517851, 0.0008981478264196419, 0.24160176530688365, 0.026046286966169615, 0.3457869131715621, 0.0880184869891249, 0.22184251312565154, 0.021555547834071404, 0.2467582361340479, 0.3971493504642664, 0.11242830877113424, 0.021171564638720084, 0.19492440546683665, 0.028472104169313218, 0.1220152399994882, 0.09547940528415236, 0.1946787873975574, 0.1081273265036115, 0.25717439812900256, 0.09721539447113695, 0.08555946707281185, 0.014879907317010756, 0.02479984552835126, 0.12776328129072126, 0.08741698193575664, 0.2102042196393656, 0.05621584376791735, 0.19850379282642586, 0.10463140299387488, 0.09319995150996824, 0.00403462993549646, 0.04989492353563956, 0.06818524590989018, 0.38608859441250454, 0.2620607489894897, 0.04142173976328438, 0.05613891950725935, 0.10147732807337577, 0.010207076274047154, 0.0010681824007723766, 0.016378796811843108, 0.12521471475720636, 0.9553548685642088, 0.043687496146594534, 0.12141432109075644, 0.13228724536754058, 0.36182675787742835, 0.08939959960911419, 0.099366446862833, 0.011174949951139273, 0.028390413389380857, 0.03775320929438944, 0.11899811569591551, 0.035011708259906044, 0.01671013348768243, 0.11219661056015345, 0.17187565873044786, 0.052517562389859065, 0.11140088991788287, 0.37717158443626053, 0.011935809634058879, 0.038990311471259004, 0.07161485780435327, 0.049457322951623556, 0.04378010265695595, 0.2096204416492654, 0.13439727274491964, 0.12457131454261032, 0.12839252051017505, 0.1496820966151786, 0.0588465719004969, 0.04137820176305812, 0.05971999040736884, 0.1606766033161923, 0.5167438909119517, 0.15274195623884945, 0.007686689356175866, 0.03347429235754006, 0.08281787886976577, 0.008182604798509793, 0.03744161589621147, 0.08543738763904395, 0.5250515822181246, 0.3883517619956543, 0.16500126836560164, 0.009920962338438073, 0.03550660205335731, 0.3895283107618317, 0.024541327889820497, 0.375952257035548, 0.018899876301470844, 0.15020428008011039, 0.18700930235139573, 0.6435905245816651, 0.049506436629683626, 0.09337289946611216, 0.1171861221487448, 0.4468112571767649, 0.1861191351774182, 0.03759982528836731, 0.022559895173020386, 0.04699978161045914, 0.4523370749302578, 0.5471538848675619, 0.025579176037702336, 0.010962504016158146, 0.43728210464453043, 0.06967280330269399, 0.10134225934937308, 0.04385001606463258, 0.08696919852818795, 0.05505613128114979, 0.1132792081669675, 0.056030576082586075, 0.055005516860558164, 0.22186854238984854, 0.08717305410586691, 0.06841675595376845, 0.10816455877350041, 0.1681264031250276, 0.1687095004769063, 0.006899985330564716, 0.047133702610195595, 0.06851393884574825, 0.47398128509184495, 0.01068556842397074, 0.0015265097748529627, 0.133187977855921, 0.06640317520610388, 0.19119534930033358, 0.006487666543125092, 0.11639637033253841, 0.024637853304153592, 0.19020422750806573, 0.4395393029461001, 0.21582759494438547, 0.02857990983281817, 0.04829019247614104, 0.03449299462581503, 0.01872476851115673, 0.11944204263974323, 0.17404411927505442, 0.11091046816547587, 0.3830676938946051, 0.08702205963752721, 0.12370782987687692, 0.0008531574474267374, 0.18711379167988945, 0.018910436393180317, 0.31251984355045365, 0.013934005763396023, 0.34536428570703, 0.03284444215657634, 0.02488215314892147, 0.03583030053444691, 0.028863297652748903, 0.20241205046280913, 0.054549119104082736, 0.02808699324082558, 0.03969318879488574, 0.3191703777366543, 0.22840992850390388, 0.05617398648165116, 0.024837258485688733, 0.001624867377568422, 0.044799914838672204, 0.2384725870139193, 0.11110654622239421, 0.03793882066130534, 0.034361731856096554, 0.23706343081792794, 0.12118743285525535, 0.07761198740998464, 0.07034941316910619, 0.021787722722635353, 0.05018763990338392, 0.06034360267010725, 0.03771475166881703, 0.21949985471251512, 0.11163566493969841, 0.12370438547371986, 0.139544581174623, 0.009805835433892428, 0.2949293580501492, 0.002262885100129022, 0.050542823070492786, 0.05697554600673733, 0.49807654734921986, 0.2122798568960697, 0.011946485453025568, 0.06157034810405485, 0.09097708152688702, 0.0174602479698066, 0.08080227629051451, 0.05364184728529955, 0.4499125064713858, 0.022543156074328417, 0.09628372082348703, 0.000679010725130374, 0.1940612652422609, 0.055407275170638516, 0.04685174003399581, 0.2798512902880476, 0.01612702350812478, 0.7038971437075638, 0.5011619004852631, 0.052927989490192805, 0.3671879270882126, 0.0033079993431370503, 0.0752569850563679, 0.002850812564913778, 0.4057656550727277, 0.1938552544141369, 0.05321516787839052, 0.1073806066117523, 0.029458396504109037, 0.018055146244453927, 0.11878385687140741, 0.06841950155793067, 0.37467086543739314, 0.2820324646424333, 0.1590292546980144, 0.00771986673291332, 0.11013676538956337, 0.003087946693165328, 0.06330290720988922, 0.00035618655226784103, 0.034906282122248423, 0.014959835195249325, 0.3365962918931098, 0.042386199719873084, 0.3415829036248596, 0.041317640063069566, 0.07444298942397878, 0.07907341460346072, 0.03455009556998058, 0.13206270584826255, 0.3954503370651884, 0.11140485241948406, 0.1173070962562779, 0.07672916987832014, 0.1674761688690257, 0.007924998061268113, 0.0667368257790999, 0.3908275359688538, 0.006673682577909989, 0.18227495540916658, 0.25902230505513146, 0.08508945286835236, 0.001251315483358123, 0.14590609372526636, 0.08511188800640537, 0.054334821361232, 0.04141605264597405, 0.6729158645506426, 0.11707714260823676, 0.0007652100824067762, 0.02040560219751403, 0.02040560219751403, 0.15508257670110664, 0.0005101400549378508, 0.6856282338364714, 0.136897302370205, 0.8621810235368541, 0.034777023311934156, 0.002107698382541464, 0.038465495481381715, 0.9247526653400673, 0.009666786137795924, 0.052314372039836764, 0.03411806872163267, 0.022745379147755117, 0.8802461730181229, 0.05068026285816605, 0.048679726166396334, 0.2333959473731331, 0.012670065714541512, 0.6541754982086959, 0.044224280440569363, 0.09258335132883425, 0.12530212791494655, 0.044943374431472935, 0.016179614795330255, 0.6716337875039315, 0.0050336579363249685, 0.010144868815035575, 0.24712900433426663, 0.043825833280953685, 0.01704337960925977, 0.6817351843703907, 0.320029532730153, 0.2763809094206075, 0.05505884434067148, 0.15865640671851386, 0.00434675086900038, 0.05451550048204643, 0.01811146195416825, 0.11319663721355157, 0.836898466599639, 0.005606018436552605, 0.009610317319804466, 0.12733670448740916, 0.020021494416259306, 0.0535202217528299, 0.06278599657825523, 0.17452847506995178, 0.18752821885487686, 0.0728815422835694, 0.19140048296102477, 0.07232836169697685, 0.07454108404334707, 0.08795571326821658, 0.022542108903646704, 0.09758797453401805, 0.005058555915370266, 0.329649227151629, 0.15850141868160167, 0.0048477827522298384, 0.20234223661481063, 0.08873550168212008, 0.09737720137087762, 0.015807987235532082, 0.1267868061638589, 0.322730052053459, 0.5502770472800914, 0.43401829118544244, 0.061594212581407105, 0.04158259077225796, 0.05899530065814098, 0.23234272593999136, 0.02442977207870155, 0.14086102624102384, 0.001039564769306449, 0.005457715038858857, 0.009805522564143125, 0.03476503454559835, 0.4055920696986475, 0.09270675878826228, 0.1898705732874987, 0.028525156550234545, 0.1176662707697175, 0.07220430251778119, 0.0481362016785208, 0.05826003765645549, 0.007539534284953063, 0.07676616726497665, 0.33242492074565777, 0.13296996829826313, 0.0006854122077230057, 0.15695939556856833, 0.23304015062582195, 0.02947974891211927, 0.04716759825939083, 0.49097181824547725, 0.08254329695393395, 0.10344711890980034, 0.02626377630352444, 0.006431945217189658, 0.11148705043128741, 0.10237512804026873, 0.14143932707758675, 0.08592108654245925, 0.1246957307257229, 0.005728072436163949, 0.03304657174709971, 0.5543011634380192, 0.05463699862187152, 0.001194346530196554, 0.22871736053264008, 0.25081277134127633, 0.05075972753335354, 0.46758666657195086, 0.5048854504011763, 0.06003652203910835, 0.3558791426896543, 0.07884314340075675, 0.06197388106391333, 0.021774606860293873, 0.18759661295022412, 0.03796598119230726, 0.04466586022624384, 0.10217315526753279, 0.017866344090497536, 0.4209757326323482, 0.10552309478450107, 0.007876693727407765, 0.8184600845842795, 0.06193945522007015, 0.05621095069104632, 0.05513685609185435, 0.13305388443639937, 0.21863628246584219, 0.05666490807027561, 0.221143579283111, 0.16999472421082684, 0.08725392924095537, 0.0804006512737539, 0.03292916486679733, 0.04524141084987604, 0.004350135658641927, 0.05742179069407344, 0.8926478371533234, 0.0949415994362128, 0.0932411528791463, 0.019271727646753643, 0.07113534763728183, 0.011903125899465485, 0.7096530298157518, 0.04567014239142204, 0.018863754466022144, 0.5127962727210758, 0.03325977761114431, 0.13006062289731057, 0.1310534520797328, 0.12757854994125503, 0.999077518211496, 0.042008895335265514, 0.07983889532304388, 0.38071936034211834, 0.04684761626393484, 0.0879767441576241, 0.08401779067053103, 0.10183308136244991, 0.07785941857949734, 0.036950232546202125, 0.062023604631124996, 0.11665181444298707, 0.04306155133708063, 0.08205260777165115, 0.1387181815460682, 0.17545975395556734, 0.08237396263237563, 0.2129511543734236, 0.031599894637907425, 0.0428473147632643, 0.07434009111426357, 0.10511687923980484, 0.24596460177550947, 0.14336815546529094, 0.10170688174683515, 0.09740731969048205, 0.009785210197217375, 0.08376732971860329, 0.044923010450861584, 0.08925297785946758, 0.0788747246199946, 0.2285466007866964, 0.16993227860217727, 0.08077940200219441, 0.052211076903857366, 0.07683894336794103, 0.03152366907402709, 0.020194850500548603, 0.09703379386848963, 0.24233820600658323, 0.15582773888450716, 0.2950242109739161, 0.04880915255083171, 0.056582462031149354, 0.13540020466878872, 0.07429837666071049, 0.10846478344629269, 0.02982781544773049, 0.02060830885479561, 0.0750214752170191, 0.15950176708864022, 0.07894531906407445, 0.22630165245054937, 0.12294153298518344, 0.17226686577560987, 0.037551698079143735, 0.09580020665075283, 0.0464748738603264, 0.023423336425604506, 0.03668416710041764, 0.07944363527681145, 0.49827912738245, 0.17293852577265076, 0.05026025905267663, 0.009727792074711606, 0.03674943672668829, 0.014591688112067408, 0.060528484020427764, 0.07674147081161377, 0.09091535602047623, 0.32094951185752013, 0.2105087102487537, 0.06793227944259297, 0.1226442051014478, 0.027254267800321735, 0.13830523958372223, 0.0008135602328454249, 0.020745785937558336, 0.13753135611857648, 0.24144393629705646, 0.016962200587957763, 0.09856413855164647, 0.15709137121099623, 0.1236254078888093, 0.09046506980244141, 0.10482945588593717, 0.02628377028043906, 0.003361877594009647, 0.3683044540706034, 0.09940902201761512, 0.008759673502219756, 0.10564697132980191, 0.1523652300083073, 0.07604989267836243, 0.04499286844321966, 0.019244737239725224, 0.030260690280395523, 0.09516190759229644, 0.19876582766347278, 0.06965547333074779, 0.07125842355384031, 0.09078527172605831, 0.16524959572608366, 0.0636808406810393, 0.09165960821138151, 0.033516231937389104, 0.07023836432096325, 0.14499413381609635, 0.5014399411407742, 0.030266358600666628, 0.013088155070558542, 0.024540290757297266, 0.12351946347839624, 0.054806649357963894, 0.019223227759882857, 0.030266358600666628, 0.20327540843961237, 0.04493153838450745, 0.06113635550678882, 0.534022382438818, 0.1421604411181957, 0.03461938203396476, 0.10385814610189427, 0.04124862540217077, 0.0375657124198341, 0.03679022755891421, 0.16679336350700566, 0.009238801539458276, 0.13264279353079383, 0.05592774503350635, 0.24152866881726637, 0.060217188605397695, 0.06269186758918116, 0.20407852686267658, 0.030191083602158296, 0.055253841153078236, 0.003582543316658439, 0.10403154631065852, 0.1518447205752923, 0.14247499190095486, 0.044919581585794274, 0.33510559023512787, 0.1620411900150125, 0.0006889506378189306, 0.7009517447011213, 0.06302835851535968, 0.22250920506180008, 0.013369651806288418, 0.04254436162152602, 0.050648049549435734, 0.41598931363269886, 0.13438615813783616, 0.03173944438431306, 0.07630972798781652, 0.053349278858738976, 0.012155531891864578, 0.12088001159131996, 0.061452966786648695, 0.09107270102854224, 0.0923696224039487, 0.062396328394555056, 0.11023831690954877, 0.0727716993978067, 0.11859625466216815, 0.29742730209321394, 0.033719955760567855, 0.040780972137780785, 0.08055322765024543, 0.22179497102278758, 0.4218232613022221, 0.10883340371676548, 0.14035756203472513, 0.06079659104177934, 0.004128163589256622, 0.04203221109061288, 0.9993275198553994, 0.33739006638169605, 0.6241817424841936, 0.003845477661219091, 0.0048574454668030625, 0.02226329172284737, 0.0004047871222335885, 0.007083774639087799, 0.15525557494283354, 0.8136070839900402, 0.03054208031662299, 0.03858454693059936, 0.008334262137009461, 0.4114656084679115, 0.053709689327394304, 0.0027780873790031538, 0.0015433818772239744, 0.09908511651777915, 0.08859011975265613, 0.13983039807649206, 0.1561902459750662, 0.08755745136234322, 0.05887947343404247, 0.15754964124360224, 0.13532420834916914, 0.03136653835907894, 0.07348731844127067, 0.24501747392491952, 0.11524962379935863, 0.06353964484739134, 0.03208348780728646, 0.10091345219520814, 0.0585205864328376, 0.180630471509231, 0.13178651747867365, 0.10459978834845776, 0.09907028411858333, 0.07372672306499226, 0.030873065283465506, 0.05160870614549458, 0.16818908699201357, 0.1378746175426533, 0.10319133890801323, 0.1502369742837131, 0.10971591607690591, 0.20380718682830565, 0.14560109050581566, 0.10971591607690591, 0.014251050132055071, 0.018200136313226957, 0.0075547735639810015, 0.27696566211411644, 0.1892598691113129, 0.13505035062914822, 0.04994850829579365, 0.11421874527355656, 0.08024902517665425, 0.05148720641864985, 0.00485281715670033, 0.016215510987023056, 0.08155100051137873, 0.10005951069548834, 0.12276208875244787, 0.08324278620885164, 0.10846787293880668, 0.04792766478691458, 0.3657637575843481, 0.12864794232277071, 0.027747595402950548, 0.01597588826230486, 0.03485476227626219, 0.26655971604459605, 0.017427381138131096, 0.13849486980226908, 0.1947377816571467, 0.14971704705030806, 0.034590711046896566, 0.09717085240654914, 0.05386645079058702, 0.012542433394867077, 0.012247421460078695, 0.08328246592853514, 0.11675875125275023, 0.07266803399646693, 0.08818143451256662, 0.3502762537582507, 0.08899792927657185, 0.169014416149086, 0.01796288480811542, 0.6519078212592303, 0.10897563579258775, 0.2383842032962857, 0.25681824794836833, 0.11409073653859099, 0.04768992787313103, 0.1747870083771214, 0.021563149205793698, 0.13371434322322864, 0.02053633257694638, 0.18208881551559122, 0.03936130410581389, 0.009469531132703053, 0.2684860176301329, 0.12252455832181758, 0.026922769171198412, 0.015204318677949517, 0.030334469947713914, 0.4889115547563084, 0.008306749716733395, 0.039160391521743144, 0.5938229827815876, 0.4054301626412324, 0.007432916297090256, 0.06441860790811556, 0.17673823195303498, 0.11727490157631294, 0.09249851391934541, 0.3402623904890206, 0.12553369746196877, 0.04377161819397596, 0.017343471359877266, 0.01403995300561493, 0.05564692520502714, 0.3132442809554508, 0.012161248554741032, 0.14188123313864537, 0.02358545174252806, 0.4532829006767112, 0.05667498242279009, 0.18571177276039252, 0.007084372802848762, 0.2626278203341791, 0.03693994390056854, 0.45036369960967126, 0.5014866238621813, 0.04676704526691792, 0.2072139851826517, 0.2439081283920796, 0.3392746917957814, 0.03371453527259334, 0.15970043023860003, 0.2458203659524525, 0.13485814109037336, 0.08020510496427469, 0.006269720594552446, 0.7158813768821599, 0.03151950573727242, 0.00993080317749679, 0.015543865843038454, 0.14205366284332366, 0.04965401588748395, 0.03497369814683652, 0.07144999685118228, 0.019206041077136544, 0.2062446888145718, 0.14739315010114423, 0.058499134289993884, 0.2723205182083902, 0.14739315010114423, 0.03726676777811357, 0.02669463507510263, 0.013567570302197376, 0.032904522145645924, 0.00796077148684982, 0.12312659899661055, 0.8353502880201078, 0.06821942733048324, 0.006920811468309893, 0.7385494524039272, 0.18488453493913573, 0.05912472515174565, 0.2238009730576144, 0.21864243999068356, 0.06983860152152506, 0.0559502432644036, 0.3618909351569935, 0.010713876369779413, 0.00020116580702857776, 0.06014857630154475, 0.24803744006623638, 0.31603148284189564, 0.01347810907091471, 0.011265285193600354, 0.35103433326486816, 0.10603625563537514, 0.06988329677199591, 0.010249550193226068, 0.15616587385315353, 0.2672337268561124, 0.09131417444874133, 0.17964666156854417, 0.030189584205502235, 0.03578024794726191, 0.05348401646283421, 0.04751658514458318, 0.22754641928973662, 0.00015682041301842635, 0.054103042491357084, 0.13251324900057027, 0.20527792064112008, 0.21515760666128095, 0.039205103254606584, 0.04234151151497511, 0.036225515407256485, 0.007866873588028754, 0.15492665566101788, 0.07270513816033025, 0.1268850578714315, 0.09554444857718793, 0.2832074491690351, 0.055956310521301296, 0.18512529943441858, 0.0026645862153000617, 0.01509932188670035, 0.2638941661978544, 0.24567996211036205, 0.026262340777314565, 0.19561208017683654, 0.06531698303003074, 0.14054588177278987, 0.03532708420690379, 0.02727894751708158, 0.4520730775250828, 0.010046068389446284, 0.1082382852282277, 0.0712946788928446, 0.038888006668824325, 0.1056457514503061, 0.07388721267076623, 0.030462271890579058, 0.07647974644868784, 0.03305480566850068, 0.8366159476763618, 0.001987211277141002, 0.010929662024275512, 0.038750619904249536, 0.05464831012137756, 0.028814563518544528, 0.025833746602833028, 0.1368459172585581, 0.061517889409810525, 0.109225640380684, 0.10608697255365285, 0.0715616264563102, 0.0590069551481856, 0.2711809002554913, 0.1832982010986191, 0.04551658960125936, 0.08358500999503991, 0.06289565108537656, 0.10096407147915712, 0.05296475880873816, 0.35006395275150376, 0.12330857910159353, 0.09848134840999752, 0.08192986128226684, 0.049448481343132865, 0.009771256792355597, 0.11088895965870214, 0.19424074108440215, 0.1470129999213501, 0.12376925270317088, 0.034347448118583306, 0.2533124298745519, 0.06558585998505347, 0.011695898281758972, 0.07139457243722878, 0.20350263954548678, 0.44017283636496174, 0.09894050983426982, 0.03597836721246175, 0.06914592448644992, 0.08095132622803894, 0.03529490580121715, 0.15906237547748528, 0.008235478020284001, 0.027530026524949375, 0.14706210750507145, 0.3614198354044636, 0.154356388037323, 0.052001161213793265, 0.004000089324137943, 0.05082466435375269, 0.057423789186277226, 0.049314954402047875, 0.17392623180051114, 0.13553338139354767, 0.3104525317390665, 0.0865493998398357, 0.11418563267588266, 0.047825576584536365, 0.007612375511725511, 0.017376074537634317, 0.041427698352617226, 0.06002308568134882, 0.39709390409582535, 0.0983907835874659, 0.028481542617424343, 0.005884616243269492, 0.06873231772138767, 0.0948600138415042, 0.14287848238658327, 0.06284770147811818, 0.06861479227361164, 0.11435798712268608, 0.4943783750996121, 0.08180994463392158, 0.0008796768240206621, 0.07829123733783892, 0.02199192060051655, 0.13898893819526462, 0.1963395672221834, 0.17147560456085886, 0.19741128975068878, 0.042868901140214716, 0.028507819258242785, 0.1258202248465302, 0.1896948875454501, 0.047798824771339406, 0.06304799765205048, 0.04236037342247142, 0.1142744957443415, 0.05615212290885746, 0.028568623936085374, 0.361540861535977, 0.014776874449699332, 0.20884649222241722, 0.10934887092777505, 0.06300747526714282, 0.0656275881000339, 0.22557923818414694, 0.09170394915118806, 0.10630172064872412, 0.03530913960515132, 0.231318532960956, 0.03955122704887975, 0.07860338498673262, 0.06300747526714282, 0.1284392331278868, 0.844651228027459, 0.026848879241422666, 0.025579919601637507, 0.30105597685004143, 0.11019042289936157, 0.06886901431210098, 0.3718926772853453, 0.08657818942092695, 0.027547605724840392, 0.00787074449281154, 0.5277068451181793, 0.02310450285105864, 0.0323463039914821, 0.13493029665018247, 0.12384013528167431, 0.1580347995012411, 0.5703355233197669, 0.19295318655791027, 0.15265774197553544, 0.08291562635219438, 0.0007749123958149007, 0.16604751286298802, 0.22633857408109678, 0.04250025626850289, 0.10377969553936751, 0.0029651341582676433, 0.07511673200944696, 0.03755836600472348, 0.11168671996141456, 0.23325722045038794, 0.06919597523643169, 0.011909806409024386, 0.12612484987156825, 0.14315587303647312, 0.1115948860525585, 0.38897427731873646, 0.0271543586125756, 0.04597185273883413, 0.05037848111017315, 0.02560608377940243, 0.015121468990565169, 0.2780812517756476, 0.11687101457114774, 0.14942061731355072, 0.12097175192452135, 0.1885057702128929, 0.02537331237399918, 0.05997328379308897, 0.03998218919539265, 0.005766661903181632, 0.044433083275635304, 0.21924530255722002, 0.13645612963334539, 0.09999416786896968, 0.18333579475897124, 0.19185937023635777, 0.04096051548855191, 0.03330508195793623, 0.015389789056392334, 0.034962443856316944, 0.19573197276290594, 0.14364276644234283, 0.11942175309041132, 0.013372991927900407, 0.16374901304722805, 0.09772571024234912, 0.20639295933479856, 0.006078632694500184, 0.008136016068023324, 0.04573002134785523, 0.24628646009409977, 0.2098695136398791, 0.006204368655163521, 0.055299807578631385, 0.33908223476263244, 0.04882568376454771, 0.09441430562205358, 0.11691998880953006, 0.21524188820078916, 0.12287137742337675, 0.05554629372923591, 0.1658949576109769, 0.14766882998107136, 0.09807392486568216, 0.03979991135509984, 0.0004959490511538921, 0.03744415336211885, 0.6862160571482383, 0.06624916924849268, 0.017009921834072444, 0.050582135980268055, 0.049239247414420234, 0.0022381476097463743, 0.12175522997020276, 0.006266813307289848, 0.1577209573552893, 0.12039366411453749, 0.04363613153496337, 0.012091940063905512, 0.15666948430625402, 0.03259566452009312, 0.009463257441317357, 0.3879935550940117, 0.05204791592724547, 0.02681256275039918, 0.22754978466554382, 0.10552477366445961, 0.0007674528993778881, 0.07022194029307677, 0.19301440419353885, 0.014965331537868819, 0.02954693662604869, 0.3265512086852914, 0.021104954732891923, 0.011128067040979378, 0.006670629535251979, 0.4402615493266306, 0.06892983853093711, 0.04447086356834652, 0.17491873003549632, 0.08523582183933084, 0.11784778845611829, 0.013341259070503958, 0.005188267416307095, 0.04298850144940164, 0.2842345406129955, 0.06032315789988035, 0.14365090991412185, 0.038340990190601915, 0.002044852810165436, 0.32053067799343204, 0.0633904371151285, 0.025049446924526587, 0.04243069581093279, 0.020448528101654356, 0.3570711820324126, 0.0436420333595171, 0.05514766033611706, 0.0003967457578137918, 0.30747796230568863, 0.01547308455473788, 0.10831159188316516, 0.024598236984455093, 0.08807755823466178, 0.07811404391409377, 0.04686842634845626, 0.09018621433718099, 0.11149004449557019, 0.3316296227989254, 0.11575081052724803, 0.05965072444348979, 0.12143183190281849, 0.04615829867650995, 0.14103437354985338, 0.07895938519164326, 0.14897997205970429, 0.09336078249074801, 0.04022459245612015, 0.32130013974209554, 0.009931998137313618, 0.15543577084895813, 0.0104285980441793, 0.06519519963454448, 0.11802579244184777, 0.015255034397245631, 0.23460637109869334, 0.0843041374584627, 0.2108406333008791, 0.0788444409373432, 0.09988033047459771, 0.0666404134195467, 0.02649558605837399, 0.12510813789429578, 0.10903920275190918, 0.25939852444138395, 0.014921154060787572, 0.10530891423671228, 0.3753244136828874, 0.008321412841593068, 0.002295562163198088, 0.026993160068666006, 0.8033399159566035, 0.04753143403395536, 0.12205602813657672, 0.009617948791542994, 0.6251666714502946, 0.18274102703931688, 0.09329410327796704, 0.08848512888219555, 0.19175848044079108, 0.10472418858021063, 0.06580641579702425, 0.05873045710917218, 0.3445991880983958, 0.047408923208608865, 0.1118001472680627, 0.07005199100973548, 0.004953171081496449, 0.1934282795265723, 0.2482661938253428, 0.0363924340346386, 0.07212016607777695, 0.14224622618105318, 0.0658054971585246, 0.10419203716766394, 0.034232152562262794, 0.01495579480875559, 0.08823918937165798, 0.005085374359791804, 0.21968817234300592, 0.07577207796089788, 0.03305493333864672, 0.0233927220550423, 0.04220860718627197, 0.5293874708543268, 0.04017445744235525, 0.031529321030709184, 0.1546113959647159, 0.020437138547060148, 0.08085998294706406, 0.1546113959647159, 0.01599428234117751, 0.4567256179647355, 0.11640283259412519, 0.0070469753145219, 0.5298044168281465, 0.058938338994183166, 0.21845623475017892, 0.18514326053607538, 0.8180898907175962, 0.05600313787481735, 0.026151244998813387, 0.004440777452628689, 0.08906225891105314, 0.006167746461984289, 0.09787544692708132, 0.28421524011517846, 0.012422652879206474, 0.04291461903725873, 0.028986190051481772, 0.05383149580989472, 0.3662800379232697, 0.11330965201942875, 0.05940573780260369, 0.11090495654514862, 0.007265449947081027, 0.46071500252666747, 0.0006410691129777377, 0.0036327249735405133, 0.06261108336749238, 0.271172234789583, 0.023719557180176293, 0.056186174248972175, 0.07410762638010986, 0.06175635531675821, 0.09243271482050738, 0.05110035675229797, 0.28101159850671287, 0.06877962709787973, 0.07313889923788619, 0.13594470895872002, 0.10551053124052677, 0.28834646152158466, 0.12011008097618077, 0.05374789011719505, 0.006855598229234062, 0.1442417867430847, 0.21170087331874785, 0.06457973531938486, 0.024543041660657943, 0.0263254972002588, 0.05964370459433634, 0.0003860450373806099, 0.035709165957706415, 0.08840431356015967, 0.1283599749290528, 0.209525944038326, 0.30709882723627513, 0.04951027604406322, 0.15625172887980185, 0.020267364462482017, 0.004536029189222166, 0.16979965033642094, 0.3673601958865742, 0.004042848817533832, 0.16602632477338938, 0.06252939504452328, 0.004851418581040599, 0.11104358085492926, 0.03288183704927517, 0.03369040681278194, 0.04743609279239697, 0.001193256987090263, 0.05516518840317293, 0.1600800142681091, 0.031208259662360724, 0.03387014063356208, 0.3722043909731551, 0.29069575985498947, 0.022580093755708054, 0.03304403964249959, 0.10186153089597452, 0.21862962728892094, 0.21029948774649546, 0.04194298331010716, 0.09499281934344826, 0.07584811267576869, 0.017390993079800528, 0.20299234779699943, 0.0358049857525305, 0.014426763800897153, 0.03216778415064906, 0.15050623857152165, 0.03606690950224288, 0.38016472178039795, 0.04152568499447424, 0.005068862957071973, 0.3368844303777065, 0.003704169084014134, 0.16087845519903757, 0.2558652026835757, 0.1534620725125571, 0.10468509407455104, 0.010126214821925238, 0.03779502715225617, 0.09726871138807058, 0.006988514454568121, 0.022534393547382923, 0.15046699488917079, 0.04656490855601855, 0.0013662075859956543, 0.20037711261269597, 0.11271212584464148, 0.19513998353304596, 0.24978828697287214, 0.14242714084004696, 0.01411747838862176, 0.017191445457111983, 0.020265412525602204, 0.03146083144120672, 0.061928162942164806, 0.07517482881214659, 0.12584332576482687, 0.28811498267210367, 0.1669079899617704, 0.18379748894599715, 0.04801916377868394, 0.010597332695985421, 0.0089414994622377, 0.09512943856836999, 0.13465181401223386, 0.05055187556773284, 0.038603250433541444, 0.07444912583611564, 0.2945795658083341, 0.026195062794188838, 0.2628697529522108, 0.023437687763221592, 0.1741949411254032, 0.017698951237340433, 0.3418692160054705, 0.02515114123201009, 0.39496606971749176, 0.04657618746668535, 0.013747301373885268, 0.04197184932734883, 0.21436057540518447, 0.21302234252808058, 0.09659608222004339, 0.14866550689281238, 0.02372321918502325, 0.0759143013920744, 0.11727786304801238, 0.054624232892694566, 0.2680518754079195, 0.006094858467665292, 0.16645058475193913, 0.05454898328560436, 0.2356272283599402, 0.10915891515588538, 0.09611591803508165, 0.0004875886774132234, 0.0521719884832149, 0.011275488165180791, 0.28171916681307396, 0.09023619314363061, 0.005948248355891499, 0.018604095921618092, 0.16731030481890558, 0.26172292765922595, 0.06796190142795182, 0.015313575554529179, 0.0468266359931884, 0.04442202495570034, 0.11282707163462816, 0.394412583748401, 0.054002700953326294, 0.00385733578238045, 0.10607673401546237, 0.08003971748439433, 0.13886408816569618, 0.04918103122535073, 0.0617173725180872, 0.12942229470437608, 0.8700920535547212, 0.2194426036985739, 0.014056821589232492, 0.519321464268867, 0.026551774112994708, 0.22022353823130905, 0.04535979007947982, 0.06676553371249278, 0.4199603036572065, 0.09734516747393984, 0.10295143366353848, 0.04128250557795355, 0.04841775345562453, 0.09938380972470298, 0.07848772665438082, 0.026289856604670366, 0.015248116830708812, 0.1782452277796651, 0.17877102491175847, 0.07729217841773087, 0.043641161963752804, 0.037857393510725326, 0.44219538809055553, 0.0032263253576270755, 0.15030880489650844, 0.12089230898873217, 0.2607630024340942, 0.08217640469720727, 0.1558125363889311, 0.009109624539182331, 0.040803526581754186, 0.07401569938085643, 0.1028628437549338, 0.06840938905447072, 0.008696108778110685, 0.07072835139530025, 0.09855589948525444, 0.071887832565715, 0.39422359794101774, 0.0388426192088944, 0.2318962340829516, 0.01681247697101399, 0.0005078350946545479, 0.20381115132135857, 0.08582413099661859, 0.14608722889562495, 0.3461742561895168, 0.07431320218444884, 0.1276358871231764, 0.015573609569406135, 0.10974057628010271, 0.37948751727629926, 0.07750907835168094, 0.23099240182035605, 0.008057874482105444, 0.005755624630075317, 0.01765058219889764, 0.13698386619579256, 0.03376633116310853, 0.12438308632528527, 0.09328731474396396, 0.07422861603283154, 0.06018536435094449, 0.08626568890302043, 0.45139023263208367, 0.05015447029245374, 0.02708341395792502, 0.03310195039301947, 0.01403367311901549, 0.13667238320907865, 0.044829789130188376, 0.26383305463749124, 0.11367275226402547, 0.15780085773826308, 0.14750949745098504, 0.09129684012426188, 0.022999630945053164, 0.007328695962152534, 0.08339108337502654, 0.03345339972602809, 0.0998753672979969, 0.019635691143538227, 0.020847770843756636, 0.021332602723843998, 0.023029514304149772, 0.026423337464761318, 0.030786824385547588, 0.6411901614155384, 0.21830536495404906, 0.06055185305294792, 0.2590273713931661, 0.04984019483744105, 0.060463326951993315, 0.11251667431329943, 0.18652449471134688, 0.03842032781429736, 8.852610095460222e-05, 0.014341228354645559, 0.007727761818663499, 0.02747648646635911, 0.0042932010103686104, 0.026617846264285386, 0.9324832594520622, 0.3102268150228018, 0.12310587897730231, 0.4362872350955594, 0.03840903424091832, 0.01969694063636837, 0.01378785844545786, 0.05909082190910511, 0.22301904112957457, 0.0041363655232687715, 0.43707595695873347, 0.028954558662881397, 0.09479170990824268, 0.1668334094385071, 0.012409096569806313, 0.017924250600831342, 0.014821976458379764, 0.3582328942615915, 0.29501532468601654, 0.07838978627371296, 0.05535049425061453, 0.20707266123199444, 0.00590030649372033, 0.1842380543044647, 0.08065835464169906, 0.19328269315061528, 0.1577236335773931, 0.25870145083236196, 0.06058669035298132, 0.04621438752896121, 0.01846097517912928, 0.18762265828041316, 0.8118003994101342, 0.0317879068245556, 0.37419247621564894, 0.017203567551117172, 0.3065092364038142, 0.009703050210491691, 0.026668506100001703, 0.027978120238841074, 0.08530350277076439, 0.009107771056473797, 0.11149578554755177, 0.0347404777814201, 0.2306481205281912, 0.001432597021914231, 0.42619761401948375, 0.04261976140194837, 0.026861194160891833, 0.11675665728600983, 0.024354149372541926, 0.09670029897921059, 0.0029436426232368564, 0.00022643404794129665, 0.15918313570273154, 0.24069939296159834, 0.0337386731432532, 0.30704456900839827, 0.01290674073265391, 0.10891477705976368, 0.11117911753917666, 0.02286983884207096, 0.060162443200380444, 0.21167447846604442, 0.6651046569983236, 0.06060481410626559, 0.0022118545294257516, 0.0070109331344623705, 0.08202791767320974, 0.11287602346484417, 0.030848105791634432, 0.1437241292564786, 0.6218697690268122, 0.001402186626892474, 0.1451032658838017, 0.05105485281096726, 0.15921052784472686, 0.13502665019742657, 0.3614146159513209, 0.08800244366100936, 0.0369475908500421, 0.022840328889116933, 0.02192984789531099, 0.08771939158124396, 0.09531049277577469, 0.3888330722976295, 0.0936235813992123, 0.06747645506249535, 0.13326599874842832, 0.11133615085311734, 0.16736416447158253, 0.08291902373516095, 0.027300537466995733, 0.012208936010085047, 0.08224074951237845, 0.356941809739292, 0.12971994510715365, 0.06986224494659778, 0.0713883619478584, 0.000508705667086877, 0.05413526615376935, 0.005002598852493537, 0.1623164663389421, 0.18438150056333324, 0.10693055047204937, 0.10701988259441532, 0.15231126863395503, 0.07896959617150513, 0.1308715592661256, 0.018134420840289073, 0.0664847751974647, 0.03292579343112537, 0.08991274360038082, 0.06838434020310655, 0.18109186387118956, 0.005698695016925545, 0.41917067791163454, 0.13613549207099915, 0.06365314844067907, 0.4892856470500391, 0.10813366180886444, 0.08896102673637074, 0.24847735053951828, 0.0007669054028997478, 0.00634917747776374, 0.187981004609505, 0.4569140220604977, 0.0004535126769831243, 0.06326501843914584, 0.21519176522849248, 0.0664396071780277, 0.003401345077373432, 0.10631694460922822, 0.36908402722065403, 0.03371025072975529, 0.08211471331607058, 0.250665966964847, 0.04581136637633411, 0.07692852089610822, 0.021609135083176467, 0.012965481049905879, 0.24618688571216252, 0.1636966254409425, 0.0032097377537439703, 0.03723295794343005, 0.04140561702329722, 0.10592134587355101, 0.3123074834392883, 0.028887639783695733, 0.03113445621131651, 0.029850561109818922, 0.4108068784527307, 0.1115475611565079, 0.00539746263660522, 0.0011994361414678267, 0.05577378057825395, 0.3514347894500733, 0.06416983356852873, 0.6893740978392017, 0.11149443892850627, 0.1985994693414018, 0.15513351772015974, 0.4893354387515896, 0.09308011063209584, 0.038118521496953536, 0.031026703544031947, 0.12056090519966699, 0.004432386220575992, 0.06825874779687029, 0.3347487615196853, 0.019462137297656123, 0.06130573248761679, 0.065198159947148, 0.3308563340601541, 0.04087048832507786, 0.0797947629203901, 0.04281670205484347, 0.024327671622070154, 0.012535110711074934, 0.03557261147737481, 0.30863475291322334, 0.040654413116999785, 0.36555093127702304, 0.04234834699687477, 0.08740698820154953, 0.08503548076972454, 0.02235992721434988, 0.04053598275328749, 0.1792776969191787, 0.04011808602387216, 0.27455815122587507, 0.0706245472711916, 0.33891424755583666, 0.055580265012239546, 0.09089000603071672, 0.35431697266211604, 0.12046777070511945, 0.06654997051740615, 0.05792312248737201, 0.044674748726962456, 0.23230869338020477, 0.03296688354334471, 0.5985561148009089, 0.19120542556140147, 0.0015115053404063357, 0.00680177403182851, 0.025695590786907706, 0.09371333110519281, 0.08313279372234846, 0.007609599095706079, 0.0015219198191412158, 0.1537139017332628, 0.13240702426528578, 0.07533503104749019, 0.1346899039939976, 0.36602171650346244, 0.03424319593067736, 0.061637752675219246, 0.03348223602110675, 0.06286733169384572, 0.3246427784190393, 0.08347957159346725, 0.38647949811790394, 0.015459179924716158, 0.0360714198243377, 0.08966324356335371, 0.05403186836400291, 0.03181876692546838, 0.7492419079808403, 0.00960566548693385, 0.11646869402907294, 0.039623370133602134, 0.07101488078109634, 0.018208943790024704, 0.24946252992333845, 0.05644772574907658, 0.20029838169027173, 0.05280593699107164, 0.3304923297889484, 0.020940285358528408, 0.1345626468554338, 0.05041752918356047, 0.3414483700569405, 0.09758979212082279, 0.13966235095675944, 0.011706138959861166, 0.08646316499065772, 0.052271967038587976, 0.05621264748052144, 0.02967100568044018, 0.18152678332189354, 0.3520095207004671, 0.19863727703689635, 0.011199595886183663, 0.002022149257227606, 0.08135262011769522, 0.043709533944689016, 0.008399696914637747, 0.12117340549079268, 0.35676062376603834, 0.21180145383852841, 0.4244082363988763, 0.007247958496375498, 0.24042101994201664, 0.08500600347949874, 0.044649617989231664, 0.18804358345464872, 0.3898255109059841, 0.04980149698798916, 0.416151451676216, 0.08647830166539903, 0.1526565325173241, 0.00020300070813473951, 0.2748629588144373, 0.023345081435495043, 0.045878160038451125, 0.020678601127786505, 0.1624131796911565, 0.36661436582804824, 0.12450241095688125, 0.009908496373731033, 0.2490048219137625, 0.06677464947514392, 0.028750852065896487, 0.033413152400906726, 0.3854168276941799, 0.18532643831665707, 0.1142263582077509, 0.0007770500558350402, 0.10529028256564794, 0.027585276982143924, 0.09518863183979241, 0.024088551730886244, 0.027865466354579007, 0.0024326994436537227, 0.0004423089897552223, 0.4575686499017775, 0.05860594114256695, 0.38149150366387924, 0.04334628099601179, 0.028307775344334228, 0.04502937791535225, 0.05447998809511753, 0.29630442504793514, 0.011952242286173744, 0.10006528425633833, 0.37302114297779454, 0.03391101299798132, 0.08533345074082185, 0.17220190379432365, 0.4161139488287764, 0.007317361351033583, 0.0439041681062015, 0.033172038124685575, 0.10341870709460797, 0.012195602251722637, 0.00975648180137811, 0.20147134919845797, 0.14130223656680702, 0.4457749129786174, 0.018503864312319967, 0.1356950049570131, 0.12448054173742523, 0.0947622142055174, 0.03925062126855751, 0.999380917453244, 0.10477067601003541, 0.15020944033264047, 0.033180104883053334, 0.0849933721142253, 0.12601901903859172, 0.25661460426794946, 0.12405763352826346, 0.06047605323512184, 0.01879661114064598, 0.040698749339311724, 0.22421578483735194, 0.02525297235369493, 0.10407285576068213, 0.045914495188536235, 0.3543068545382046, 0.030609663459024154, 0.05127118629386546, 0.0030609663459024157, 0.1614659747463524, 0.45200194833852236, 0.09023779903880572, 0.2503895685040735, 0.006503625155949962, 0.061784438981524636, 0.0699139704264621, 0.01869792232335614, 0.04959014181411846, 0.06599255385461904, 0.018049245498699223, 0.41287649078274474, 0.027073868248048832, 0.18895303881450748, 0.03666252991923279, 0.058660047870772475, 0.10152700593018313, 0.08968218857166176, 0.11521329523600304, 0.06361918911832891, 0.20101388745689108, 0.05768789817881676, 0.024618919927016165, 0.01885013010913449, 0.12398835580404842, 0.19378258754433517, 0.19102006847661718, 0.010237570662719594, 0.06198018245875549, 0.10232313905916164, 0.21609306857241778, 0.06630762763042534, 0.20799655825122898, 0.07789401309005757, 0.12061008478460526, 0.056256787231708245, 0.04676432685514209, 0.0438328317388496, 0.3380552802766409, 0.0782803822252942, 0.028412879474366045, 0.5502820943096607, 0.0023194187326013097, 0.002899273415751637, 0.3127088408849779, 0.11442697808919583, 0.017142209503820366, 0.009826744301553076, 0.07086174501897718, 0.037232442298106655, 0.35976802748463765, 0.07501081483518848, 0.003057209338260957, 0.2344336476541625, 0.17335292059786706, 0.03897532107401709, 0.05468179374563592, 0.375210180488672, 0.025014012032578133, 0.09831088450013267, 0.0015107472242249784, 0.09555476193222988, 0.0490992847873118, 0.3931719651045506, 0.1472978543619354, 0.1193490307137733, 0.09291095428983617, 0.0914002070656112, 0.00981985695746236, 0.16866931678811287, 0.2859058374255904, 0.03668368548979136, 0.0915201225621599, 0.16337476424319453, 0.25376033983144336, 0.03481006299105979, 0.03218288842569679, 0.4354541842089178, 0.07947203060223085, 0.19506771147820298, 0.03481006299105979, 0.06567936413407509, 0.050573110383237814, 0.07159050690614184, 0.19696815940220483, 0.07672719122924734, 0.12833411026152192, 0.09900960840815205, 0.16764365754883495, 0.10195256916763003, 0.12770347581306235, 0.019129244936606872, 0.010195256916763004, 0.07231275009003037, 0.1983704177261933, 0.2360379149696763, 0.07524698631583641, 0.09135248163255928, 0.129812052416209, 0.016017487145593246, 0.04770042875226121, 0.04910855949033534, 0.04558823264515001, 0.1107142792810786, 0.38440806762892726, 0.4132598872743655, 0.20196273751806773, 0.08986672681793446, 0.030386591082323163, 0.18102650006490395, 0.18555216256652654, 0.01099089464679774, 0.3833882662088859, 0.03297268394039322, 0.08598758753082938], \"Term\": [\"1978\", \"1978\", \"1978\", \"1978\", \"1978\", \"435\", \"435\", \"accordance\", \"accordance\", \"accordance\", \"accordance\", \"accordance\", \"accordance\", \"accordance\", \"accordance\", \"accordance\", \"achieve\", \"achieve\", \"achieve\", \"achieve\", \"achieve\", \"achieve\", \"achieve\", \"achieve\", \"achieve\", \"achieve\", \"achievement\", \"achievement\", \"achievement\", \"achievement\", \"achievement\", \"achievement\", \"achievement\", \"achievement\", \"achievement\", \"achievement\", \"achieving\", \"achieving\", \"achieving\", \"achieving\", \"achieving\", \"achieving\", \"achieving\", \"achieving\", \"achieving\", \"achieving\", \"action\", \"action\", \"action\", \"action\", \"action\", \"action\", \"action\", \"action\", \"action\", \"action\", \"active\", \"active\", \"active\", \"active\", \"active\", \"active\", \"active\", \"active\", \"active\", \"actively\", \"actively\", \"actively\", \"actively\", \"actively\", \"actively\", \"actively\", \"actively\", \"actively\", \"activities\", \"activities\", \"activities\", \"activities\", \"activities\", \"activities\", \"activities\", \"activities\", \"activities\", \"activities\", \"acts\", \"acts\", \"acts\", \"acts\", \"acts\", \"acts\", \"acts\", \"acts\", \"acts\", \"address\", \"address\", \"address\", \"address\", \"address\", \"address\", \"address\", \"address\", \"address\", \"afghan\", \"afghan\", \"afghan\", \"afghan\", \"afghan\", \"afghanistan\", \"afghanistan\", \"afghanistan\", \"afghanistan\", \"afghanistan\", \"afghanistan\", \"afghanistan\", \"africa\", \"africa\", \"africa\", \"africa\", \"africa\", \"africa\", \"africa\", \"african\", \"african\", \"african\", \"african\", \"agenda\", \"agenda\", \"agenda\", \"agenda\", \"agenda\", \"agenda\", \"agenda\", \"agenda\", \"agenda\", \"agenda\", \"aggression\", \"aggression\", \"aggression\", \"aggression\", \"aggression\", \"aggression\", \"aggression\", \"aggression\", \"agreement\", \"agreement\", \"agreement\", \"agreement\", \"agreement\", \"agreement\", \"agreement\", \"agreement\", \"agreement\", \"agreement\", \"aligned\", \"aligned\", \"aligned\", \"aligned\", \"aligned\", \"aligned\", \"aligned\", \"aligned\", \"america\", \"america\", \"america\", \"america\", \"america\", \"america\", \"america\", \"america\", \"american\", \"american\", \"american\", \"american\", \"american\", \"american\", \"angola\", \"angola\", \"angola\", \"angola\", \"angola\", \"anti\", \"anti\", \"anti\", \"anti\", \"anti\", \"anti\", \"apartheid\", \"apartheid\", \"apartheid\", \"apartheid\", \"apartheid\", \"apartheid\", \"apartheid\", \"appreciation\", \"appreciation\", \"appreciation\", \"appreciation\", \"appreciation\", \"appreciation\", \"appreciation\", \"appreciation\", \"appreciation\", \"appreciation\", \"arab\", \"arab\", \"arab\", \"arab\", \"arab\", \"armaments\", \"armaments\", \"armaments\", \"armaments\", \"armaments\", \"armaments\", \"armaments\", \"armaments\", \"arms\", \"arms\", \"arms\", \"arms\", \"arms\", \"arms\", \"arms\", \"arms\", \"arrangements\", \"arrangements\", \"arrangements\", \"arrangements\", \"arrangements\", \"arrangements\", \"arrangements\", \"asia\", \"asia\", \"asia\", \"asia\", \"asia\", \"asia\", \"asia\", \"asia\", \"asian\", \"asian\", \"asian\", \"asian\", \"asian\", \"assist\", \"assist\", \"assist\", \"assist\", \"assist\", \"assist\", \"assist\", \"assist\", \"assist\", \"assist\", \"assistance\", \"assistance\", \"assistance\", \"assistance\", \"assistance\", \"assistance\", \"assistance\", \"assistance\", \"assistance\", \"assistance\", \"authorities\", \"authorities\", \"authorities\", \"authorities\", \"authorities\", \"authorities\", \"authorities\", \"authorities\", \"ban\", \"ban\", \"ban\", \"ban\", \"bank\", \"bank\", \"bank\", \"bank\", \"bank\", \"bank\", \"based\", \"based\", \"based\", \"based\", \"based\", \"based\", \"based\", \"based\", \"based\", \"basis\", \"basis\", \"basis\", \"basis\", \"basis\", \"basis\", \"basis\", \"basis\", \"basis\", \"basis\", \"believe\", \"believe\", \"believe\", \"believe\", \"believe\", \"believe\", \"believe\", \"believe\", \"believe\", \"believe\", \"billion\", \"billion\", \"billion\", \"billion\", \"billion\", \"billion\", \"body\", \"body\", \"body\", \"body\", \"body\", \"body\", \"body\", \"body\", \"body\", \"body\", \"borders\", \"borders\", \"borders\", \"borders\", \"borders\", \"borders\", \"borders\", \"borders\", \"borders\", \"borders\", \"bosnia\", \"bosnia\", \"boutros\", \"boutros\", \"burden\", \"burden\", \"burden\", \"burden\", \"burden\", \"burden\", \"burden\", \"burden\", \"burden\", \"burden\", \"cambodia\", \"cambodia\", \"cambodia\", \"cambodia\", \"cambodia\", \"cambodia\", \"caribbean\", \"caribbean\", \"caribbean\", \"caribbean\", \"cases\", \"cases\", \"cases\", \"cases\", \"cases\", \"cases\", \"cases\", \"cases\", \"cases\", \"cent\", \"cent\", \"cent\", \"cent\", \"cent\", \"cent\", \"cent\", \"central\", \"central\", \"central\", \"central\", \"central\", \"central\", \"central\", \"century\", \"century\", \"century\", \"century\", \"century\", \"century\", \"century\", \"century\", \"chad\", \"challenges\", \"challenges\", \"challenges\", \"challenges\", \"challenges\", \"challenges\", \"challenges\", \"challenges\", \"challenges\", \"change\", \"change\", \"change\", \"change\", \"change\", \"change\", \"change\", \"change\", \"change\", \"change\", \"charter\", \"charter\", \"charter\", \"charter\", \"charter\", \"charter\", \"charter\", \"charter\", \"charter\", \"charter\", \"china\", \"china\", \"china\", \"china\", \"civil\", \"civil\", \"civil\", \"civil\", \"civil\", \"civil\", \"civil\", \"coexistence\", \"coexistence\", \"coexistence\", \"coexistence\", \"coexistence\", \"coexistence\", \"cold\", \"cold\", \"cold\", \"cold\", \"cold\", \"cold\", \"cold\", \"cold\", \"colonial\", \"colonial\", \"colonial\", \"colonial\", \"colonial\", \"colonial\", \"colonialism\", \"colonialism\", \"colonialism\", \"colonialism\", \"colonialism\", \"colonialism\", \"concerning\", \"concerning\", \"concerning\", \"concerning\", \"concerning\", \"concerning\", \"concerning\", \"concerning\", \"concerning\", \"conference\", \"conference\", \"conference\", \"conference\", \"conference\", \"conference\", \"conference\", \"conference\", \"conference\", \"confidence\", \"confidence\", \"confidence\", \"confidence\", \"confidence\", \"confidence\", \"confidence\", \"confidence\", \"confidence\", \"confidence\", \"conflict\", \"conflict\", \"conflict\", \"conflict\", \"conflict\", \"conflict\", \"conflict\", \"conflict\", \"conflict\", \"conflict\", \"conflicts\", \"conflicts\", \"conflicts\", \"conflicts\", \"conflicts\", \"conflicts\", \"conflicts\", \"conflicts\", \"conflicts\", \"consider\", \"consider\", \"consider\", \"consider\", \"consider\", \"consider\", \"consider\", \"consider\", \"consider\", \"consider\", \"constitute\", \"constitute\", \"constitute\", \"constitute\", \"constitute\", \"constitute\", \"constitute\", \"constitute\", \"constitute\", \"constitutes\", \"constitutes\", \"constitutes\", \"constitutes\", \"constitutes\", \"constitutes\", \"constitutes\", \"constitutes\", \"constitutes\", \"constitution\", \"constitution\", \"constitution\", \"constitution\", \"constitution\", \"constitution\", \"constitution\", \"constitution\", \"constitution\", \"continent\", \"continent\", \"continent\", \"continent\", \"continent\", \"continent\", \"continue\", \"continue\", \"continue\", \"continue\", \"continue\", \"continue\", \"continue\", \"continue\", \"continue\", \"continue\", \"continued\", \"continued\", \"continued\", \"continued\", \"continued\", \"continued\", \"continued\", \"continued\", \"continued\", \"continues\", \"continues\", \"continues\", \"continues\", \"continues\", \"continues\", \"continues\", \"continues\", \"continues\", \"continues\", \"contribution\", \"contribution\", \"contribution\", \"contribution\", \"contribution\", \"contribution\", \"contribution\", \"contribution\", \"contribution\", \"contributions\", \"contributions\", \"contributions\", \"contributions\", \"contributions\", \"contributions\", \"contributions\", \"contributions\", \"contributions\", \"convention\", \"convention\", \"convention\", \"convention\", \"convention\", \"convention\", \"convention\", \"convention\", \"convention\", \"conventional\", \"conventional\", \"conventional\", \"conventional\", \"conviction\", \"conviction\", \"conviction\", \"conviction\", \"conviction\", \"conviction\", \"conviction\", \"conviction\", \"conviction\", \"cooperation\", \"cooperation\", \"cooperation\", \"cooperation\", \"cooperation\", \"cooperation\", \"cooperation\", \"cooperation\", \"council\", \"council\", \"council\", \"council\", \"council\", \"council\", \"council\", \"council\", \"council\", \"course\", \"course\", \"course\", \"course\", \"course\", \"course\", \"course\", \"course\", \"course\", \"course\", \"court\", \"court\", \"court\", \"court\", \"court\", \"court\", \"court\", \"crime\", \"crime\", \"crime\", \"crime\", \"crime\", \"crime\", \"crime\", \"criminal\", \"criminal\", \"criminal\", \"criminal\", \"criminal\", \"criminal\", \"critical\", \"critical\", \"critical\", \"critical\", \"critical\", \"critical\", \"critical\", \"critical\", \"critical\", \"critical\", \"cyprus\", \"cyprus\", \"cyprus\", \"cyprus\", \"cyprus\", \"death\", \"death\", \"death\", \"death\", \"death\", \"death\", \"death\", \"death\", \"death\", \"debt\", \"debt\", \"debt\", \"debt\", \"decade\", \"decade\", \"decade\", \"decade\", \"decade\", \"decade\", \"decade\", \"decade\", \"decisive\", \"decisive\", \"decisive\", \"decisive\", \"decisive\", \"decisive\", \"decisive\", \"decisive\", \"decisive\", \"delegation\", \"delegation\", \"delegation\", \"delegation\", \"delegation\", \"delegation\", \"delegation\", \"delegation\", \"democracy\", \"democracy\", \"democracy\", \"democracy\", \"democracy\", \"democratic\", \"democratic\", \"democratic\", \"democratic\", \"democratic\", \"democratic\", \"detente\", \"detente\", \"detente\", \"detente\", \"detente\", \"detente\", \"determination\", \"determination\", \"determination\", \"determination\", \"determination\", \"determination\", \"determination\", \"determination\", \"determination\", \"determination\", \"developed\", \"developed\", \"developed\", \"developed\", \"developed\", \"developed\", \"developed\", \"developed\", \"developing\", \"developing\", \"developing\", \"developing\", \"developing\", \"developing\", \"developing\", \"developing\", \"did\", \"did\", \"did\", \"did\", \"did\", \"did\", \"did\", \"did\", \"did\", \"dignity\", \"dignity\", \"dignity\", \"dignity\", \"dignity\", \"dignity\", \"dignity\", \"dignity\", \"dignity\", \"diplomacy\", \"diplomacy\", \"diplomacy\", \"diplomacy\", \"diplomacy\", \"diplomacy\", \"diplomacy\", \"directly\", \"directly\", \"directly\", \"directly\", \"directly\", \"directly\", \"directly\", \"directly\", \"directly\", \"directly\", \"disarmament\", \"disarmament\", \"disarmament\", \"disarmament\", \"disarmament\", \"disarmament\", \"dispute\", \"dispute\", \"dispute\", \"dispute\", \"dispute\", \"dispute\", \"dispute\", \"dispute\", \"dispute\", \"disputes\", \"disputes\", \"disputes\", \"disputes\", \"disputes\", \"disputes\", \"disputes\", \"disputes\", \"disputes\", \"domination\", \"domination\", \"domination\", \"domination\", \"domination\", \"domination\", \"drugs\", \"drugs\", \"drugs\", \"drugs\", \"drugs\", \"earth\", \"earth\", \"earth\", \"earth\", \"earth\", \"earth\", \"earth\", \"earth\", \"earth\", \"east\", \"east\", \"east\", \"east\", \"east\", \"east\", \"east\", \"east\", \"east\", \"east\", \"eastern\", \"eastern\", \"eastern\", \"eastern\", \"eastern\", \"eastern\", \"economies\", \"economies\", \"economies\", \"economies\", \"economies\", \"economies\", \"economies\", \"education\", \"education\", \"education\", \"education\", \"education\", \"education\", \"education\", \"effective\", \"effective\", \"effective\", \"effective\", \"effective\", \"effective\", \"effective\", \"effective\", \"effective\", \"effective\", \"eighth\", \"eighth\", \"eighth\", \"eighth\", \"eighth\", \"eighth\", \"eighth\", \"eighth\", \"eighth\", \"eighth\", \"el\", \"el\", \"el\", \"el\", \"el\", \"el\", \"el\", \"elections\", \"elections\", \"elections\", \"elections\", \"elections\", \"elections\", \"elections\", \"elections\", \"encouraged\", \"encouraged\", \"encouraged\", \"encouraged\", \"encouraged\", \"encouraged\", \"encouraged\", \"encouraged\", \"encouraged\", \"end\", \"end\", \"end\", \"end\", \"end\", \"end\", \"end\", \"end\", \"end\", \"end\", \"enhance\", \"enhance\", \"enhance\", \"enhance\", \"enhance\", \"enhance\", \"enhance\", \"enhance\", \"environment\", \"environment\", \"environment\", \"environment\", \"environment\", \"environment\", \"environment\", \"environmental\", \"environmental\", \"environmental\", \"environmental\", \"environmental\", \"environmental\", \"ethnic\", \"ethnic\", \"ethnic\", \"ethnic\", \"ethnic\", \"ethnic\", \"europe\", \"europe\", \"europe\", \"europe\", \"europe\", \"europe\", \"european\", \"european\", \"european\", \"european\", \"european\", \"european\", \"express\", \"express\", \"express\", \"express\", \"express\", \"express\", \"express\", \"express\", \"express\", \"express\", \"external\", \"external\", \"external\", \"external\", \"external\", \"external\", \"external\", \"external\", \"external\", \"field\", \"field\", \"field\", \"field\", \"field\", \"field\", \"field\", \"field\", \"field\", \"fiftieth\", \"fiftieth\", \"fiftieth\", \"fight\", \"fight\", \"fight\", \"fight\", \"fight\", \"fight\", \"fight\", \"fight\", \"final\", \"final\", \"final\", \"final\", \"final\", \"final\", \"final\", \"final\", \"final\", \"final\", \"financial\", \"financial\", \"financial\", \"financial\", \"financial\", \"financial\", \"financial\", \"financial\", \"financial\", \"focus\", \"focus\", \"focus\", \"focus\", \"focus\", \"focus\", \"focus\", \"focus\", \"forces\", \"forces\", \"forces\", \"forces\", \"forces\", \"forces\", \"forces\", \"forces\", \"forces\", \"forces\", \"foreign\", \"foreign\", \"foreign\", \"foreign\", \"foreign\", \"foreign\", \"foreign\", \"foreign\", \"foreign\", \"foreign\", \"forum\", \"forum\", \"forum\", \"forum\", \"forum\", \"forum\", \"forum\", \"forum\", \"forum\", \"forum\", \"framework\", \"framework\", \"framework\", \"framework\", \"framework\", \"framework\", \"framework\", \"framework\", \"framework\", \"france\", \"france\", \"france\", \"france\", \"france\", \"france\", \"france\", \"free\", \"free\", \"free\", \"free\", \"free\", \"free\", \"free\", \"free\", \"free\", \"free\", \"freedom\", \"freedom\", \"freedom\", \"freedom\", \"freedom\", \"freedom\", \"freedom\", \"freedom\", \"freedom\", \"freedom\", \"freedoms\", \"freedoms\", \"freedoms\", \"freedoms\", \"freedoms\", \"freedoms\", \"freedoms\", \"freedoms\", \"fund\", \"fund\", \"fund\", \"fund\", \"fund\", \"fund\", \"fundamental\", \"fundamental\", \"fundamental\", \"fundamental\", \"fundamental\", \"fundamental\", \"fundamental\", \"fundamental\", \"fundamental\", \"future\", \"future\", \"future\", \"future\", \"future\", \"future\", \"future\", \"future\", \"future\", \"future\", \"global\", \"global\", \"global\", \"global\", \"global\", \"global\", \"global\", \"global\", \"global\", \"globalization\", \"globalization\", \"governments\", \"governments\", \"governments\", \"governments\", \"governments\", \"governments\", \"governments\", \"governments\", \"governments\", \"gratitude\", \"gratitude\", \"gratitude\", \"gratitude\", \"gratitude\", \"gratitude\", \"gratitude\", \"gratitude\", \"gratitude\", \"gratitude\", \"great\", \"great\", \"great\", \"great\", \"great\", \"great\", \"great\", \"great\", \"great\", \"great\", \"growth\", \"growth\", \"growth\", \"growth\", \"growth\", \"growth\", \"growth\", \"growth\", \"guinea\", \"guinea\", \"guinea\", \"gulf\", \"gulf\", \"gulf\", \"gulf\", \"gulf\", \"gulf\", \"haiti\", \"haiti\", \"haiti\", \"haiti\", \"heads\", \"heads\", \"heads\", \"heads\", \"heads\", \"heads\", \"heads\", \"heads\", \"herzegovina\", \"herzegovina\", \"history\", \"history\", \"history\", \"history\", \"history\", \"history\", \"history\", \"history\", \"history\", \"history\", \"hope\", \"hope\", \"hope\", \"hope\", \"hope\", \"hope\", \"hope\", \"hope\", \"hope\", \"hope\", \"humanitarian\", \"humanitarian\", \"humanitarian\", \"humanitarian\", \"humanitarian\", \"humanitarian\", \"humanitarian\", \"humanitarian\", \"hunger\", \"hunger\", \"hunger\", \"hunger\", \"hunger\", \"hunger\", \"hunger\", \"hunger\", \"idea\", \"idea\", \"idea\", \"idea\", \"idea\", \"idea\", \"idea\", \"ideas\", \"ideas\", \"ideas\", \"ideas\", \"ideas\", \"ideas\", \"ideas\", \"ideas\", \"ideas\", \"importance\", \"importance\", \"importance\", \"importance\", \"importance\", \"importance\", \"importance\", \"importance\", \"importance\", \"importance\", \"important\", \"important\", \"important\", \"important\", \"important\", \"important\", \"important\", \"important\", \"important\", \"important\", \"imposed\", \"imposed\", \"imposed\", \"imposed\", \"imposed\", \"imposed\", \"imposed\", \"imposed\", \"imposed\", \"inalienable\", \"inalienable\", \"inalienable\", \"inalienable\", \"inalienable\", \"inalienable\", \"inalienable\", \"inalienable\", \"independence\", \"independence\", \"independence\", \"independence\", \"independence\", \"independence\", \"independence\", \"independence\", \"independence\", \"india\", \"india\", \"india\", \"indian\", \"indian\", \"indian\", \"indian\", \"indian\", \"industrial\", \"industrial\", \"industrial\", \"industrial\", \"industrial\", \"industrial\", \"industrial\", \"industrial\", \"industrial\", \"industrialized\", \"industrialized\", \"industrialized\", \"industrialized\", \"industrialized\", \"industrialized\", \"industrialized\", \"integrity\", \"integrity\", \"integrity\", \"integrity\", \"integrity\", \"integrity\", \"integrity\", \"integrity\", \"integrity\", \"integrity\", \"interdependence\", \"interdependence\", \"interdependence\", \"interdependence\", \"interdependence\", \"interdependence\", \"interference\", \"interference\", \"interference\", \"interference\", \"interference\", \"interference\", \"interference\", \"interference\", \"iran\", \"iran\", \"iran\", \"iran\", \"iran\", \"iraq\", \"iraq\", \"iraq\", \"iraq\", \"iraq\", \"iraq\", \"iraq\", \"iraqi\", \"iraqi\", \"islamic\", \"islamic\", \"islamic\", \"islamic\", \"island\", \"island\", \"island\", \"island\", \"island\", \"islands\", \"islands\", \"islands\", \"islands\", \"islands\", \"israel\", \"israel\", \"israel\", \"israel\", \"israel\", \"israel\", \"israel\", \"israeli\", \"israeli\", \"israeli\", \"israeli\", \"israeli\", \"issues\", \"issues\", \"issues\", \"issues\", \"issues\", \"issues\", \"issues\", \"issues\", \"japan\", \"japan\", \"japan\", \"japan\", \"japan\", \"just\", \"just\", \"just\", \"just\", \"just\", \"just\", \"just\", \"just\", \"just\", \"just\", \"justice\", \"justice\", \"justice\", \"justice\", \"justice\", \"justice\", \"justice\", \"justice\", \"justice\", \"kampuchea\", \"kampuchea\", \"kampuchea\", \"keeping\", \"keeping\", \"keeping\", \"keeping\", \"keeping\", \"keeping\", \"keeping\", \"keeping\", \"keeping\", \"kind\", \"kind\", \"kind\", \"kind\", \"kind\", \"kind\", \"kind\", \"kind\", \"kind\", \"kingdom\", \"kingdom\", \"kingdom\", \"kingdom\", \"kingdom\", \"kingdom\", \"kingdom\", \"kingdom\", \"know\", \"know\", \"know\", \"know\", \"know\", \"know\", \"know\", \"know\", \"know\", \"korea\", \"korea\", \"korea\", \"korea\", \"korea\", \"korea\", \"korea\", \"korean\", \"korean\", \"korean\", \"korean\", \"korean\", \"kuwait\", \"kuwait\", \"kuwait\", \"kuwait\", \"land\", \"land\", \"land\", \"land\", \"land\", \"land\", \"land\", \"land\", \"land\", \"latin\", \"latin\", \"latin\", \"latin\", \"latin\", \"law\", \"law\", \"law\", \"law\", \"law\", \"law\", \"law\", \"law\", \"lebanese\", \"lebanese\", \"lebanese\", \"lebanese\", \"lebanon\", \"lebanon\", \"lebanon\", \"lebanon\", \"lebanon\", \"lebanon\", \"liberation\", \"liberation\", \"liberation\", \"liberation\", \"liberation\", \"liberation\", \"liberation\", \"liberia\", \"life\", \"life\", \"life\", \"life\", \"life\", \"life\", \"life\", \"life\", \"life\", \"life\", \"like\", \"like\", \"like\", \"like\", \"like\", \"like\", \"like\", \"like\", \"like\", \"like\", \"long\", \"long\", \"long\", \"long\", \"long\", \"long\", \"long\", \"long\", \"long\", \"long\", \"look\", \"look\", \"look\", \"look\", \"look\", \"look\", \"look\", \"look\", \"look\", \"major\", \"major\", \"major\", \"major\", \"major\", \"major\", \"major\", \"major\", \"major\", \"major\", \"make\", \"make\", \"make\", \"make\", \"make\", \"make\", \"make\", \"make\", \"make\", \"make\", \"man\", \"man\", \"man\", \"man\", \"man\", \"man\", \"man\", \"man\", \"man\", \"mankind\", \"mankind\", \"mankind\", \"mankind\", \"mankind\", \"mankind\", \"mankind\", \"mankind\", \"mankind\", \"measures\", \"measures\", \"measures\", \"measures\", \"measures\", \"measures\", \"measures\", \"measures\", \"measures\", \"measures\", \"member\", \"member\", \"member\", \"member\", \"member\", \"member\", \"member\", \"member\", \"member\", \"member\", \"members\", \"members\", \"members\", \"members\", \"members\", \"members\", \"members\", \"members\", \"members\", \"members\", \"membership\", \"membership\", \"membership\", \"membership\", \"membership\", \"membership\", \"membership\", \"membership\", \"membership\", \"men\", \"men\", \"men\", \"men\", \"men\", \"men\", \"men\", \"men\", \"middle\", \"middle\", \"middle\", \"middle\", \"middle\", \"middle\", \"middle\", \"middle\", \"middle\", \"middle\", \"military\", \"military\", \"military\", \"military\", \"military\", \"military\", \"military\", \"military\", \"military\", \"millennium\", \"millennium\", \"millennium\", \"millennium\", \"moral\", \"moral\", \"moral\", \"moral\", \"moral\", \"moral\", \"moral\", \"moral\", \"moral\", \"moral\", \"mr\", \"mr\", \"mr\", \"mr\", \"mr\", \"mr\", \"mr\", \"mr\", \"mr\", \"mr\", \"multilateral\", \"multilateral\", \"multilateral\", \"multilateral\", \"multilateral\", \"multilateral\", \"multilateral\", \"nam\", \"namibia\", \"namibia\", \"namibia\", \"namibia\", \"namibia\", \"namibia\", \"namibia\", \"namibian\", \"namibian\", \"namibian\", \"nation\", \"nation\", \"nation\", \"nation\", \"nation\", \"nation\", \"nation\", \"nation\", \"nation\", \"nation\", \"national\", \"national\", \"national\", \"national\", \"national\", \"national\", \"national\", \"national\", \"national\", \"national\", \"natural\", \"natural\", \"natural\", \"natural\", \"natural\", \"natural\", \"natural\", \"natural\", \"natural\", \"natural\", \"necessary\", \"necessary\", \"necessary\", \"necessary\", \"necessary\", \"necessary\", \"necessary\", \"necessary\", \"necessary\", \"necessary\", \"need\", \"need\", \"need\", \"need\", \"need\", \"need\", \"need\", \"need\", \"need\", \"need\", \"negative\", \"negative\", \"negative\", \"negative\", \"negative\", \"negative\", \"negative\", \"negative\", \"negative\", \"negotiations\", \"negotiations\", \"negotiations\", \"negotiations\", \"negotiations\", \"negotiations\", \"negotiations\", \"negotiations\", \"negotiations\", \"negotiations\", \"neighbouring\", \"neighbouring\", \"neighbouring\", \"neighbouring\", \"neighbouring\", \"neighbouring\", \"neighbouring\", \"neighbouring\", \"neighbouring\", \"nicaragua\", \"nicaragua\", \"nicaragua\", \"non\", \"non\", \"non\", \"non\", \"non\", \"non\", \"non\", \"non\", \"non\", \"non\", \"nuclear\", \"nuclear\", \"nuclear\", \"nuclear\", \"nuclear\", \"nuclear\", \"nuclear\", \"nuclear\", \"oau\", \"oau\", \"obstacles\", \"obstacles\", \"obstacles\", \"obstacles\", \"obstacles\", \"obstacles\", \"obstacles\", \"obstacles\", \"obstacles\", \"obstacles\", \"occupation\", \"occupation\", \"occupation\", \"occupation\", \"occupation\", \"occupation\", \"occupied\", \"occupied\", \"occupied\", \"occupied\", \"occupied\", \"occupied\", \"ocean\", \"ocean\", \"ocean\", \"ocean\", \"operation\", \"operation\", \"operation\", \"operation\", \"operation\", \"operation\", \"operation\", \"operations\", \"operations\", \"operations\", \"operations\", \"operations\", \"operations\", \"operations\", \"order\", \"order\", \"order\", \"order\", \"order\", \"order\", \"order\", \"order\", \"order\", \"order\", \"pacific\", \"pacific\", \"pacific\", \"pacific\", \"pakistan\", \"pakistan\", \"pakistan\", \"pakistan\", \"palestine\", \"palestine\", \"palestine\", \"palestine\", \"palestine\", \"palestine\", \"palestine\", \"palestinian\", \"palestinian\", \"palestinian\", \"palestinian\", \"palestinian\", \"palestinian\", \"palestinian\", \"particular\", \"particular\", \"particular\", \"particular\", \"particular\", \"particular\", \"particular\", \"particular\", \"particular\", \"particular\", \"parties\", \"parties\", \"parties\", \"parties\", \"parties\", \"parties\", \"parties\", \"parties\", \"parties\", \"parties\", \"peaceful\", \"peaceful\", \"peaceful\", \"peaceful\", \"peaceful\", \"peaceful\", \"peaceful\", \"peaceful\", \"peaceful\", \"peaceful\", \"peoples\", \"peoples\", \"peoples\", \"peoples\", \"peoples\", \"peoples\", \"peoples\", \"peoples\", \"permanent\", \"permanent\", \"permanent\", \"permanent\", \"permanent\", \"permanent\", \"permanent\", \"permanent\", \"permanent\", \"permanent\", \"personnel\", \"personnel\", \"personnel\", \"personnel\", \"personnel\", \"personnel\", \"personnel\", \"pleased\", \"pleased\", \"pleased\", \"pleased\", \"pleased\", \"pleased\", \"pleased\", \"pleased\", \"pleasure\", \"pleasure\", \"pleasure\", \"pleasure\", \"pleasure\", \"pleasure\", \"pleasure\", \"pleasure\", \"pleasure\", \"policy\", \"policy\", \"policy\", \"policy\", \"policy\", \"policy\", \"policy\", \"policy\", \"policy\", \"policy\", \"poor\", \"poor\", \"poor\", \"poor\", \"poor\", \"poor\", \"poor\", \"positive\", \"positive\", \"positive\", \"positive\", \"positive\", \"positive\", \"positive\", \"positive\", \"positive\", \"positive\", \"possible\", \"possible\", \"possible\", \"possible\", \"possible\", \"possible\", \"possible\", \"possible\", \"possible\", \"possible\", \"power\", \"power\", \"power\", \"power\", \"power\", \"power\", \"power\", \"power\", \"power\", \"power\", \"powerful\", \"powerful\", \"powerful\", \"powerful\", \"powerful\", \"powerful\", \"powerful\", \"powerful\", \"powers\", \"powers\", \"powers\", \"powers\", \"powers\", \"powers\", \"powers\", \"powers\", \"practices\", \"practices\", \"practices\", \"practices\", \"practices\", \"practices\", \"practices\", \"practices\", \"practices\", \"president\", \"president\", \"president\", \"president\", \"president\", \"president\", \"president\", \"president\", \"president\", \"president\", \"pretoria\", \"pretoria\", \"pretoria\", \"prevail\", \"prevail\", \"prevail\", \"prevail\", \"prevail\", \"prevail\", \"prevail\", \"prevail\", \"prevention\", \"prevention\", \"prevention\", \"prevention\", \"prevention\", \"prevention\", \"prices\", \"prices\", \"prices\", \"prices\", \"prices\", \"prime\", \"prime\", \"prime\", \"prime\", \"prime\", \"prime\", \"prime\", \"prime\", \"prime\", \"principles\", \"principles\", \"principles\", \"principles\", \"principles\", \"principles\", \"principles\", \"principles\", \"principles\", \"principles\", \"problem\", \"problem\", \"problem\", \"problem\", \"problem\", \"problem\", \"problem\", \"problem\", \"problem\", \"problem\", \"problems\", \"problems\", \"problems\", \"problems\", \"problems\", \"problems\", \"problems\", \"problems\", \"problems\", \"problems\", \"process\", \"process\", \"process\", \"process\", \"process\", \"process\", \"process\", \"process\", \"process\", \"process\", \"programme\", \"programme\", \"programme\", \"programme\", \"programme\", \"programme\", \"programme\", \"progress\", \"progress\", \"progress\", \"progress\", \"progress\", \"progress\", \"progress\", \"progress\", \"progress\", \"progress\", \"proliferation\", \"proliferation\", \"proliferation\", \"proliferation\", \"proliferation\", \"proliferation\", \"proliferation\", \"proliferation\", \"proposal\", \"proposal\", \"proposal\", \"proposal\", \"proposal\", \"proposal\", \"proposal\", \"proposal\", \"proposal\", \"proposal\", \"proposals\", \"proposals\", \"proposals\", \"proposals\", \"proposals\", \"proposals\", \"proposals\", \"proposals\", \"proposals\", \"proposals\", \"prospects\", \"prospects\", \"prospects\", \"prospects\", \"prospects\", \"prospects\", \"prospects\", \"prospects\", \"prospects\", \"prospects\", \"prosperity\", \"prosperity\", \"prosperity\", \"prosperity\", \"prosperity\", \"prosperity\", \"prosperity\", \"prosperity\", \"prosperity\", \"prosperity\", \"protection\", \"protection\", \"protection\", \"protection\", \"protection\", \"protection\", \"protection\", \"protection\", \"protection\", \"provisions\", \"provisions\", \"provisions\", \"provisions\", \"provisions\", \"provisions\", \"provisions\", \"provisions\", \"provisions\", \"purposes\", \"purposes\", \"purposes\", \"purposes\", \"purposes\", \"purposes\", \"purposes\", \"purposes\", \"purposes\", \"question\", \"question\", \"question\", \"question\", \"question\", \"question\", \"question\", \"question\", \"question\", \"question\", \"race\", \"race\", \"race\", \"race\", \"race\", \"race\", \"race\", \"race\", \"racist\", \"racist\", \"racist\", \"racist\", \"rates\", \"rates\", \"rates\", \"rates\", \"rates\", \"ready\", \"ready\", \"ready\", \"ready\", \"ready\", \"ready\", \"ready\", \"ready\", \"ready\", \"recent\", \"recent\", \"recent\", \"recent\", \"recent\", \"recent\", \"recent\", \"recent\", \"recent\", \"recent\", \"reconciliation\", \"reconciliation\", \"reconciliation\", \"reconciliation\", \"reconciliation\", \"reconciliation\", \"reconciliation\", \"reconciliation\", \"reconciliation\", \"reconstruction\", \"reconstruction\", \"reconstruction\", \"reconstruction\", \"reconstruction\", \"reconstruction\", \"reconstruction\", \"recovery\", \"recovery\", \"recovery\", \"recovery\", \"recovery\", \"reform\", \"reform\", \"reform\", \"reform\", \"reform\", \"reform\", \"refugees\", \"refugees\", \"refugees\", \"refugees\", \"refugees\", \"refugees\", \"refugees\", \"refugees\", \"regime\", \"regime\", \"regime\", \"regime\", \"regime\", \"regime\", \"regime\", \"regime\", \"regime\", \"region\", \"region\", \"region\", \"region\", \"region\", \"region\", \"region\", \"region\", \"region\", \"region\", \"regional\", \"regional\", \"regional\", \"regional\", \"regional\", \"regional\", \"regional\", \"regional\", \"regional\", \"regional\", \"relations\", \"relations\", \"relations\", \"relations\", \"relations\", \"relations\", \"relations\", \"relations\", \"relations\", \"relations\", \"remains\", \"remains\", \"remains\", \"remains\", \"remains\", \"remains\", \"remains\", \"remains\", \"remains\", \"remains\", \"republic\", \"republic\", \"republic\", \"republic\", \"republic\", \"republic\", \"republic\", \"republic\", \"republic\", \"resolution\", \"resolution\", \"resolution\", \"resolution\", \"resolution\", \"resolution\", \"resolution\", \"resolution\", \"resolution\", \"resolutions\", \"resolutions\", \"resolutions\", \"resolutions\", \"resolutions\", \"resolutions\", \"resolutions\", \"resolutions\", \"resolutions\", \"resources\", \"resources\", \"resources\", \"resources\", \"resources\", \"resources\", \"resources\", \"resources\", \"resources\", \"resources\", \"respect\", \"respect\", \"respect\", \"respect\", \"respect\", \"respect\", \"respect\", \"respect\", \"respect\", \"respect\", \"results\", \"results\", \"results\", \"results\", \"results\", \"results\", \"results\", \"results\", \"results\", \"results\", \"return\", \"return\", \"return\", \"return\", \"return\", \"return\", \"return\", \"return\", \"return\", \"reunification\", \"reunification\", \"reunification\", \"reunification\", \"reunification\", \"reunification\", \"right\", \"right\", \"right\", \"right\", \"right\", \"right\", \"right\", \"right\", \"right\", \"right\", \"rights\", \"rights\", \"rights\", \"rights\", \"rights\", \"rights\", \"rights\", \"rights\", \"rights\", \"rights\", \"role\", \"role\", \"role\", \"role\", \"role\", \"role\", \"role\", \"role\", \"role\", \"role\", \"round\", \"round\", \"round\", \"round\", \"round\", \"round\", \"round\", \"round\", \"round\", \"rwanda\", \"rwanda\", \"sahara\", \"sahara\", \"sahara\", \"sahara\", \"sahara\", \"said\", \"said\", \"said\", \"said\", \"said\", \"said\", \"said\", \"said\", \"said\", \"sea\", \"sea\", \"sea\", \"sea\", \"sea\", \"sea\", \"sea\", \"sea\", \"self\", \"self\", \"self\", \"self\", \"self\", \"self\", \"self\", \"self\", \"self\", \"self\", \"september\", \"september\", \"september\", \"september\", \"september\", \"september\", \"september\", \"september\", \"september\", \"settlement\", \"settlement\", \"settlement\", \"settlement\", \"settlement\", \"settlement\", \"settlement\", \"settlement\", \"shall\", \"shall\", \"shall\", \"shall\", \"shall\", \"shall\", \"shall\", \"shall\", \"shall\", \"signing\", \"signing\", \"signing\", \"signing\", \"signing\", \"signing\", \"signing\", \"signing\", \"signing\", \"situation\", \"situation\", \"situation\", \"situation\", \"situation\", \"situation\", \"situation\", \"situation\", \"situation\", \"situation\", \"small\", \"small\", \"small\", \"small\", \"small\", \"small\", \"small\", \"small\", \"small\", \"small\", \"social\", \"social\", \"social\", \"social\", \"social\", \"social\", \"social\", \"social\", \"social\", \"social\", \"socialist\", \"socialist\", \"socialist\", \"socialist\", \"socialist\", \"societies\", \"societies\", \"societies\", \"societies\", \"societies\", \"societies\", \"societies\", \"society\", \"society\", \"society\", \"society\", \"society\", \"society\", \"society\", \"society\", \"society\", \"solidarity\", \"solidarity\", \"solidarity\", \"solidarity\", \"solidarity\", \"solidarity\", \"solution\", \"solution\", \"solution\", \"solution\", \"solution\", \"solution\", \"solution\", \"solution\", \"somalia\", \"somalia\", \"south\", \"south\", \"south\", \"south\", \"south\", \"south\", \"south\", \"south\", \"south\", \"south\", \"southern\", \"southern\", \"southern\", \"southern\", \"southern\", \"southern\", \"southern\", \"southern\", \"southern\", \"sovereignty\", \"sovereignty\", \"sovereignty\", \"sovereignty\", \"sovereignty\", \"sovereignty\", \"sovereignty\", \"sovereignty\", \"sovereignty\", \"sovereignty\", \"soviet\", \"soviet\", \"soviet\", \"soviet\", \"soviet\", \"space\", \"space\", \"space\", \"space\", \"space\", \"space\", \"space\", \"specific\", \"specific\", \"specific\", \"specific\", \"specific\", \"specific\", \"specific\", \"specific\", \"spite\", \"spite\", \"spite\", \"spite\", \"spite\", \"spite\", \"spite\", \"spite\", \"stability\", \"stability\", \"stability\", \"stability\", \"stability\", \"stability\", \"stability\", \"stability\", \"stability\", \"stability\", \"state\", \"state\", \"state\", \"state\", \"state\", \"state\", \"state\", \"state\", \"state\", \"state\", \"strategic\", \"strategic\", \"strategic\", \"strategic\", \"strategic\", \"strategic\", \"strategic\", \"strategic\", \"structural\", \"structural\", \"structural\", \"structural\", \"structural\", \"structural\", \"struggle\", \"struggle\", \"struggle\", \"struggle\", \"struggle\", \"struggle\", \"struggle\", \"struggle\", \"substantial\", \"substantial\", \"substantial\", \"substantial\", \"substantial\", \"substantial\", \"substantial\", \"substantial\", \"substantial\", \"summit\", \"summit\", \"summit\", \"summit\", \"summit\", \"summit\", \"summit\", \"summit\", \"summit\", \"summit\", \"super\", \"super\", \"super\", \"super\", \"super\", \"super\", \"super\", \"sustainable\", \"sustainable\", \"sustainable\", \"sustained\", \"sustained\", \"sustained\", \"sustained\", \"sustained\", \"sustained\", \"sustained\", \"sustained\", \"tasks\", \"tasks\", \"tasks\", \"tasks\", \"tasks\", \"tasks\", \"tasks\", \"tasks\", \"tasks\", \"territorial\", \"territorial\", \"territorial\", \"territorial\", \"territorial\", \"territorial\", \"territorial\", \"territorial\", \"territorial\", \"territories\", \"territories\", \"territories\", \"territories\", \"territories\", \"territories\", \"territories\", \"territory\", \"territory\", \"territory\", \"territory\", \"territory\", \"territory\", \"territory\", \"territory\", \"test\", \"test\", \"test\", \"test\", \"test\", \"test\", \"test\", \"thanks\", \"thanks\", \"thanks\", \"thanks\", \"thanks\", \"thanks\", \"thanks\", \"thanks\", \"thanks\", \"thanks\", \"think\", \"think\", \"think\", \"think\", \"think\", \"think\", \"think\", \"thirty\", \"thirty\", \"thirty\", \"thirty\", \"thirty\", \"thirty\", \"thousands\", \"thousands\", \"thousands\", \"thousands\", \"thousands\", \"thousands\", \"thousands\", \"thousands\", \"today\", \"today\", \"today\", \"today\", \"today\", \"today\", \"today\", \"today\", \"today\", \"today\", \"trade\", \"trade\", \"trade\", \"trade\", \"trade\", \"trade\", \"trade\", \"trade\", \"trade\", \"trafficking\", \"trafficking\", \"trafficking\", \"trafficking\", \"transition\", \"transition\", \"transition\", \"transition\", \"transition\", \"transition\", \"treaty\", \"treaty\", \"treaty\", \"treaty\", \"treaty\", \"treaty\", \"treaty\", \"troops\", \"troops\", \"troops\", \"troops\", \"troops\", \"troops\", \"troops\", \"true\", \"true\", \"true\", \"true\", \"true\", \"true\", \"true\", \"true\", \"true\", \"true\", \"union\", \"union\", \"union\", \"union\", \"union\", \"union\", \"union\", \"union\", \"unity\", \"unity\", \"unity\", \"unity\", \"unity\", \"unity\", \"unity\", \"unity\", \"urge\", \"urge\", \"urge\", \"urge\", \"urge\", \"urge\", \"urge\", \"urge\", \"urge\", \"values\", \"values\", \"values\", \"values\", \"values\", \"values\", \"values\", \"viet\", \"view\", \"view\", \"view\", \"view\", \"view\", \"view\", \"view\", \"view\", \"view\", \"view\", \"violations\", \"violations\", \"violations\", \"violations\", \"violations\", \"violations\", \"violations\", \"violations\", \"violations\", \"vision\", \"vision\", \"vision\", \"vision\", \"vision\", \"vision\", \"vision\", \"vision\", \"want\", \"want\", \"want\", \"want\", \"want\", \"want\", \"want\", \"want\", \"want\", \"war\", \"war\", \"war\", \"war\", \"war\", \"war\", \"war\", \"war\", \"war\", \"war\", \"way\", \"way\", \"way\", \"way\", \"way\", \"way\", \"way\", \"way\", \"way\", \"way\", \"weapon\", \"weapon\", \"weapon\", \"weapon\", \"weapon\", \"weapon\", \"weapons\", \"weapons\", \"weapons\", \"weapons\", \"weapons\", \"weapons\", \"weapons\", \"weapons\", \"weapons\", \"welcomes\", \"welcomes\", \"welcomes\", \"welcomes\", \"welcomes\", \"welcomes\", \"welcomes\", \"western\", \"western\", \"western\", \"western\", \"western\", \"western\", \"western\", \"western\", \"western\", \"withdrawal\", \"withdrawal\", \"withdrawal\", \"withdrawal\", \"withdrawal\", \"withdrawal\", \"words\", \"words\", \"words\", \"words\", \"words\", \"words\", \"words\", \"words\", \"words\", \"work\", \"work\", \"work\", \"work\", \"work\", \"work\", \"work\", \"work\", \"work\", \"work\", \"year\", \"year\", \"year\", \"year\", \"year\", \"year\", \"year\", \"year\", \"year\", \"year\", \"yugoslavia\", \"yugoslavia\", \"yugoslavia\", \"zone\", \"zone\", \"zone\", \"zone\", \"zone\", \"zone\", \"zone\", \"zone\"]}, \"R\": 30, \"lambda.step\": 0.01, \"plot.opts\": {\"xlab\": \"PC1\", \"ylab\": \"PC2\"}, \"topic.order\": [4, 5, 8, 7, 10, 6, 1, 3, 9, 2]};\n",
       "\n",
       "function LDAvis_load_lib(url, callback){\n",
       "  var s = document.createElement('script');\n",
       "  s.src = url;\n",
       "  s.async = true;\n",
       "  s.onreadystatechange = s.onload = callback;\n",
       "  s.onerror = function(){console.warn(\"failed to load library \" + url);};\n",
       "  document.getElementsByTagName(\"head\")[0].appendChild(s);\n",
       "}\n",
       "\n",
       "if(typeof(LDAvis) !== \"undefined\"){\n",
       "   // already loaded: just create the visualization\n",
       "   !function(LDAvis){\n",
       "       new LDAvis(\"#\" + \"ldavis_el4673748904692004580331493\", ldavis_el4673748904692004580331493_data);\n",
       "   }(LDAvis);\n",
       "}else if(typeof define === \"function\" && define.amd){\n",
       "   // require.js is available: use it to load d3/LDAvis\n",
       "   require.config({paths: {d3: \"https://cdnjs.cloudflare.com/ajax/libs/d3/3.5.5/d3.min\"}});\n",
       "   require([\"d3\"], function(d3){\n",
       "      window.d3 = d3;\n",
       "      LDAvis_load_lib(\"https://cdn.rawgit.com/bmabey/pyLDAvis/files/ldavis.v1.0.0.js\", function(){\n",
       "        new LDAvis(\"#\" + \"ldavis_el4673748904692004580331493\", ldavis_el4673748904692004580331493_data);\n",
       "      });\n",
       "    });\n",
       "}else{\n",
       "    // require.js not available: dynamically load d3 & LDAvis\n",
       "    LDAvis_load_lib(\"https://cdnjs.cloudflare.com/ajax/libs/d3/3.5.5/d3.min.js\", function(){\n",
       "         LDAvis_load_lib(\"https://cdn.rawgit.com/bmabey/pyLDAvis/files/ldavis.v1.0.0.js\", function(){\n",
       "                 new LDAvis(\"#\" + \"ldavis_el4673748904692004580331493\", ldavis_el4673748904692004580331493_data);\n",
       "            })\n",
       "         });\n",
       "}\n",
       "</script>"
      ],
      "text/plain": [
       "PreparedData(topic_coordinates=               x          y  topics  cluster       Freq\n",
       "topic                                                  \n",
       "3      32.420952   8.115230       1        1  13.011076\n",
       "4       0.648955  71.707100       2        1  12.808893\n",
       "7      71.019684   9.971006       3        1  12.623544\n",
       "6       3.785981  33.185135       4        1  11.405574\n",
       "9     -42.666500  -9.222070       5        1  11.006994\n",
       "5      -3.621689 -43.526516       6        1  10.554572\n",
       "0      -3.632402  -4.171708       7        1  10.391145\n",
       "2     -36.584400  35.804413       8        1   6.963539\n",
       "8      44.391380  50.615383       9        1   6.262341\n",
       "1      40.235809 -31.591665      10        1   4.972322, topic_info=        Term          Freq         Total Category  logprob  loglift\n",
       "619  nuclear  13483.000000  13483.000000  Default  30.0000  30.0000\n",
       "38    africa  16912.000000  16912.000000  Default  29.0000  29.0000\n",
       "867    south  16798.000000  16798.000000  Default  28.0000  28.0000\n",
       "39   african   8874.000000   8874.000000  Default  27.0000  27.0000\n",
       "63      arab   5248.000000   5248.000000  Default  26.0000  26.0000\n",
       "..       ...           ...           ...      ...      ...      ...\n",
       "605     need    688.698966   8448.700760  Topic10  -5.2644   0.4943\n",
       "543     like    694.148949   9335.474165  Topic10  -5.2565   0.4024\n",
       "442     hope    704.548527  10289.876949  Topic10  -5.2416   0.3199\n",
       "995     work    687.575246   9514.228115  Topic10  -5.2660   0.3739\n",
       "96   believe    594.172960   6207.041491  Topic10  -5.4120   0.6550\n",
       "\n",
       "[571 rows x 6 columns], token_table=      Topic      Freq  Term\n",
       "term                       \n",
       "3         2  0.240227  1978\n",
       "3         4  0.508255  1978\n",
       "3         6  0.084115  1978\n",
       "3         8  0.015682  1978\n",
       "3         9  0.151835  1978\n",
       "...     ...       ...   ...\n",
       "999       6  0.185552  zone\n",
       "999       7  0.010991  zone\n",
       "999       8  0.383388  zone\n",
       "999       9  0.032973  zone\n",
       "999      10  0.085988  zone\n",
       "\n",
       "[2989 rows x 3 columns], R=30, lambda_step=0.01, plot_opts={'xlab': 'PC1', 'ylab': 'PC2'}, topic_order=[4, 5, 8, 7, 10, 6, 1, 3, 9, 2])"
      ]
     },
     "execution_count": 17,
     "metadata": {},
     "output_type": "execute_result"
    }
   ],
   "source": [
    "pyLDAvis.sklearn.prepare(lda_model, un_word_counts, vectorizer, mds='tsne')"
   ]
  },
  {
   "cell_type": "code",
   "execution_count": null,
   "metadata": {
    "slideshow": {
     "slide_type": "slide"
    }
   },
   "outputs": [],
   "source": [
    "#pyLDAvis.enable_notebook()\n",
    "#panel = pyLDAvis.sklearn.prepare(lda_model, un_word_counts, vectorizer, mds='tsne')\n",
    "#panel"
   ]
  },
  {
   "cell_type": "markdown",
   "metadata": {
    "slideshow": {
     "slide_type": "skip"
    }
   },
   "source": [
    "### Topic Modeling Exercise 2\n",
    "\n",
    "In your group, do 1 and 2 in 10_Topic_Modeling_group\n",
    "\n"
   ]
  },
  {
   "cell_type": "code",
   "execution_count": null,
   "metadata": {},
   "outputs": [],
   "source": []
  },
  {
   "cell_type": "markdown",
   "metadata": {
    "slideshow": {
     "slide_type": "slide"
    }
   },
   "source": [
    "#### Text Classification and Sentiment Analysis "
   ]
  },
  {
   "cell_type": "markdown",
   "metadata": {
    "slideshow": {
     "slide_type": "slide"
    }
   },
   "source": [
    "We'll be using the following to apply classify texts and analyze sentiment within our corpus:\n",
    "- [seaborn](https://seaborn.pydata.org/), a data visualization library based on `matplotlib`. `seaborn` is also discussed in a previous chapter on text classification\n",
    "- The `SentimentIntensityAnalyzer` available through [vaderSentiment](https://github.com/cjhutto/vaderSentiment), a lexicon for sentiment analysis discussed in the previous chapter on Word Lists and Sentiment Analysis. With this, we'll be able to determine the intensity of positive, negative, and neutral sentiments contained within the documents in our corpus.\n",
    "- [Afinn](https://pypi.org/project/afinn/), another sentiment analysis tool discussed in the previous chapter on Word Lists and Sentiment Analysis. `Afinn` will produce a single numerical sentiment score, from -5 (negative sentiment) to 5 (positive sentiment)."
   ]
  },
  {
   "cell_type": "code",
   "execution_count": 18,
   "metadata": {
    "slideshow": {
     "slide_type": "slide"
    }
   },
   "outputs": [],
   "source": [
    "%matplotlib inline\n",
    "\n",
    "import pandas as pd\n",
    "import seaborn as sns\n",
    "\n"
   ]
  },
  {
   "cell_type": "code",
   "execution_count": 19,
   "metadata": {},
   "outputs": [
    {
     "name": "stdout",
     "output_type": "stream",
     "text": [
      "Requirement already satisfied: vaderSentiment in /Users/nealcaren/opt/anaconda3/envs/tmwp/lib/python3.8/site-packages (3.3.2)\n",
      "Requirement already satisfied: requests in /Users/nealcaren/opt/anaconda3/envs/tmwp/lib/python3.8/site-packages (from vaderSentiment) (2.23.0)\n",
      "Requirement already satisfied: idna<3,>=2.5 in /Users/nealcaren/opt/anaconda3/envs/tmwp/lib/python3.8/site-packages (from requests->vaderSentiment) (2.9)\n",
      "Requirement already satisfied: urllib3!=1.25.0,!=1.25.1,<1.26,>=1.21.1 in /Users/nealcaren/opt/anaconda3/envs/tmwp/lib/python3.8/site-packages (from requests->vaderSentiment) (1.25.9)\n",
      "Requirement already satisfied: chardet<4,>=3.0.2 in /Users/nealcaren/opt/anaconda3/envs/tmwp/lib/python3.8/site-packages (from requests->vaderSentiment) (3.0.4)\n",
      "Requirement already satisfied: certifi>=2017.4.17 in /Users/nealcaren/opt/anaconda3/envs/tmwp/lib/python3.8/site-packages (from requests->vaderSentiment) (2020.4.5.1)\n",
      "Note: you may need to restart the kernel to use updated packages.\n"
     ]
    }
   ],
   "source": [
    "pip install vaderSentiment"
   ]
  },
  {
   "cell_type": "code",
   "execution_count": 20,
   "metadata": {},
   "outputs": [],
   "source": [
    "from vaderSentiment.vaderSentiment import SentimentIntensityAnalyzer\n",
    "from afinn import Afinn\n",
    "\n",
    "from sklearn.metrics import classification_report, confusion_matrix, accuracy_score\n",
    "from sklearn.feature_extraction.text import CountVectorizer, TfidfVectorizer\n",
    "from sklearn.naive_bayes import MultinomialNB\n",
    "from sklearn.linear_model import LogisticRegression\n",
    "from sklearn.model_selection import train_test_split\n",
    "from sklearn.pipeline import Pipeline\n",
    "from sklearn.model_selection import GridSearchCV\n",
    "from sklearn.decomposition import LatentDirichletAllocation\n",
    "\n"
   ]
  },
  {
   "cell_type": "code",
   "execution_count": 21,
   "metadata": {},
   "outputs": [],
   "source": [
    "lr_classifier = LogisticRegression(solver = 'lbfgs', max_iter= 5000)\n"
   ]
  },
  {
   "cell_type": "code",
   "execution_count": null,
   "metadata": {
    "slideshow": {
     "slide_type": "slide"
    }
   },
   "outputs": [],
   "source": [
    "lr_classifier.fit(un_topics, un_df['post_soviet'])"
   ]
  },
  {
   "cell_type": "code",
   "execution_count": null,
   "metadata": {
    "slideshow": {
     "slide_type": "slide"
    }
   },
   "outputs": [],
   "source": [
    "prediction = lr_classifier.predict(un_topics)"
   ]
  },
  {
   "cell_type": "code",
   "execution_count": null,
   "metadata": {
    "slideshow": {
     "slide_type": "slide"
    }
   },
   "outputs": [],
   "source": [
    "print(accuracy_score(un_df['post_soviet'], prediction))\n",
    "\n"
   ]
  },
  {
   "cell_type": "code",
   "execution_count": null,
   "metadata": {
    "slideshow": {
     "slide_type": "slide"
    }
   },
   "outputs": [],
   "source": [
    "print(classification_report(un_df['post_soviet'], prediction))"
   ]
  },
  {
   "cell_type": "code",
   "execution_count": null,
   "metadata": {},
   "outputs": [],
   "source": [
    "import seaborn as sns\n",
    "\n",
    "cm = confusion_matrix(un_df['post_soviet'], prediction)\n",
    "sns.heatmap(cm, annot=True, cmap=\"Greens\", fmt='g')"
   ]
  },
  {
   "cell_type": "markdown",
   "metadata": {
    "slideshow": {
     "slide_type": "slide"
    }
   },
   "source": [
    "### Topic Modeling Exercise 3\n",
    "In your group, do the rest of 10_Topic_Modeling_group\n",
    "\n",
    "\n",
    "\n",
    "\n"
   ]
  },
  {
   "cell_type": "markdown",
   "metadata": {},
   "source": [
    "#### References:\n",
    "\n",
    "Finn Årup Nielsen. 2011. “A New ANEW: Evaluation of a Word List for Sentiment Analysis in Microblogs.” *Proceedings of the ESWC2011 Workshop on ‘Making Sense of Microposts’: Big Things Come in Small Packages.* Volume 718 in CEUR Workshop Proceedings: 93-98. Matthew Rowe, Milan Stankovic, Aba-Sah Dadzie, Mariann Hardey (editors).\n",
    "\n",
    "Hutto, C.J. and Eric Gilbert. 2014. VADER: A Parsimonious Rule-based Model for Sentiment Analysis of Social Media Text. Eighth International Conference on Weblogs and Social Media (ICWSM-14). Ann Arbor, MI, June 2014.\n",
    "\n",
    "Scikit-learn: Machine Learning in Python, Pedregosa et al., JMLR 12, pp. 2825-2830, 2011.\n",
    "\n",
    "Sievert, Carson and Kenneth Shirley. 2014. \"LDAvis: A Method for Visualizing and Interpreting Topics.\" In *Proceedings of the Workshop on Interactive Language Learning, Visualization, and Interfaces*, pp. 63-70. \n",
    "\n",
    "Silge, Julia. and David Robinson. 2017. *Text Mining with R: A Tidy Approach.* \"O'Reilly Media, Inc.\"."
   ]
  },
  {
   "cell_type": "code",
   "execution_count": null,
   "metadata": {},
   "outputs": [],
   "source": []
  }
 ],
 "metadata": {
  "celltoolbar": "Slideshow",
  "kernelspec": {
   "display_name": "Python 3",
   "language": "python",
   "name": "python3"
  },
  "language_info": {
   "codemirror_mode": {
    "name": "ipython",
    "version": 3
   },
   "file_extension": ".py",
   "mimetype": "text/x-python",
   "name": "python",
   "nbconvert_exporter": "python",
   "pygments_lexer": "ipython3",
   "version": "3.8.2"
  }
 },
 "nbformat": 4,
 "nbformat_minor": 2
}
