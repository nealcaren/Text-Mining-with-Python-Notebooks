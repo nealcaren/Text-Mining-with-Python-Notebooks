{
 "cells": [
  {
   "cell_type": "markdown",
   "metadata": {
    "slideshow": {
     "slide_type": "slide"
    }
   },
   "source": [
    "# Topic Modeling"
   ]
  },
  {
   "cell_type": "markdown",
   "metadata": {
    "slideshow": {
     "slide_type": "slide"
    }
   },
   "source": [
    "As with other forms of natural language processing, *topic modeling* allows us to quickly and systematically analyze vast quantities of unstructured text. With topic modelling, we are able to uncover some of the more abstract, underlying themes contained within large collections of text without the need to assign pre-determined categories or tags to the corpus. \n",
    "\n",
    "This lesson will go over what, exactly, topic modeling does, walk through how to run Latent Dirichlet allocation (LDA) topic models in Python, and introduce a number of fit statistics to help us better understand the topic models we'll be generating. We'll end with a discussion of several useful visualization tools for topic modeling. "
   ]
  },
  {
   "cell_type": "markdown",
   "metadata": {
    "slideshow": {
     "slide_type": "slide"
    }
   },
   "source": [
    "# What is Topic Modeling?\n",
    "\n",
    "\n",
    "As a form of unsupervised machine learning, *topic modeling* allows for the classification of large collections of textual documents into natural groups, without the need for extensive human supervision. Employed in text mining and natural language processing, topic models can uncover the hidden, or *latent*, meanings of language patterns within texts.  \n",
    "\n",
    "[Source](https://www.tidytextmining.com/topicmodeling.html)\n"
   ]
  },
  {
   "cell_type": "markdown",
   "metadata": {
    "slideshow": {
     "slide_type": "slide"
    }
   },
   "source": [
    "## Setup\n",
    "\n",
    "In addition to `matplotlib inline` and `pandas`, we'll also be importing `CountVectorizer` from [scikit-learn](https://scikit-learn.org/stable/), a machine learning library for Python. For more information on the usage and relavent parameters taken by `CountVectorizer`, see the chapter on Text Classification. \n",
    "\n",
    "We'll also want to use `pandas` to increase our maximum column width to 120 characters, over the default 50-character column width. This will help us more easily glance over text in the dataframe. \n",
    "\n"
   ]
  },
  {
   "cell_type": "code",
   "execution_count": 1,
   "metadata": {
    "slideshow": {
     "slide_type": "slide"
    }
   },
   "outputs": [],
   "source": [
    "%matplotlib inline\n",
    "\n",
    "import pandas as pd\n",
    "\n",
    "from sklearn.feature_extraction.text import CountVectorizer\n",
    "\n",
    "\n",
    "pd.set_option('display.max_colwidth', 120)"
   ]
  },
  {
   "cell_type": "markdown",
   "metadata": {
    "slideshow": {
     "slide_type": "slide"
    }
   },
   "source": [
    "In this chapter we'll be looking at [transcriptions](https://www.kaggle.com/unitednations/un-general-debates) of United Nations General Debates, from 1980 to 1999. We've previously looked at the same dataset when disucssing word frequencies. "
   ]
  },
  {
   "cell_type": "code",
   "execution_count": 2,
   "metadata": {
    "slideshow": {
     "slide_type": "slide"
    }
   },
   "outputs": [
    {
     "name": "stdout",
     "output_type": "stream",
     "text": [
      "3214\n"
     ]
    }
   ],
   "source": [
    "un_df = pd.read_json('un-general-debates.json')\n",
    "print(len(un_df))"
   ]
  },
  {
   "cell_type": "markdown",
   "metadata": {
    "slideshow": {
     "slide_type": "slide"
    }
   },
   "source": [
    "With 3,214 complete transcriptions of UN members' statements to work with, this is an ideal dataset to use as we begin playing around with topic models. \n",
    "\n",
    "Let's look at a small random sample of 5 texts from the dataframe to get a feel for what we're dealing with:"
   ]
  },
  {
   "cell_type": "code",
   "execution_count": 3,
   "metadata": {},
   "outputs": [
    {
     "data": {
      "text/html": [
       "<div>\n",
       "<style scoped>\n",
       "    .dataframe tbody tr th:only-of-type {\n",
       "        vertical-align: middle;\n",
       "    }\n",
       "\n",
       "    .dataframe tbody tr th {\n",
       "        vertical-align: top;\n",
       "    }\n",
       "\n",
       "    .dataframe thead th {\n",
       "        text-align: right;\n",
       "    }\n",
       "</style>\n",
       "<table border=\"1\" class=\"dataframe\">\n",
       "  <thead>\n",
       "    <tr style=\"text-align: right;\">\n",
       "      <th></th>\n",
       "      <th>index</th>\n",
       "      <th>speech_year</th>\n",
       "      <th>country_code</th>\n",
       "      <th>speech_text</th>\n",
       "    </tr>\n",
       "  </thead>\n",
       "  <tbody>\n",
       "    <tr>\n",
       "      <th>370</th>\n",
       "      <td>825</td>\n",
       "      <td>1991</td>\n",
       "      <td>EST</td>\n",
       "      <td>﻿I extend my warm congratulations to Mr. Shihabi on his election to the presidency of the General Assembly at its fo...</td>\n",
       "    </tr>\n",
       "    <tr>\n",
       "      <th>1336</th>\n",
       "      <td>2630</td>\n",
       "      <td>1995</td>\n",
       "      <td>COL</td>\n",
       "      <td>On behalf of my Government I congratulate\\nMr. Freitas do Amaral of Portugal on his election to the\\npresidency of t...</td>\n",
       "    </tr>\n",
       "    <tr>\n",
       "      <th>504</th>\n",
       "      <td>959</td>\n",
       "      <td>1986</td>\n",
       "      <td>LKA</td>\n",
       "      <td>It gives me great pleasure to see you. Sir, a distinguished son of South Asia, presiding ever this forty-first sessi...</td>\n",
       "    </tr>\n",
       "    <tr>\n",
       "      <th>2311</th>\n",
       "      <td>4758</td>\n",
       "      <td>1980</td>\n",
       "      <td>MRT</td>\n",
       "      <td>﻿We are pleased to extend to you, Mr. President, at the very outset of our statement the congratulations of the dele...</td>\n",
       "    </tr>\n",
       "    <tr>\n",
       "      <th>2610</th>\n",
       "      <td>5907</td>\n",
       "      <td>1981</td>\n",
       "      <td>SLV</td>\n",
       "      <td>2.\\t Mr. President, I should like to congratulate you on your election to the presidency of the thirty-sixth session...</td>\n",
       "    </tr>\n",
       "  </tbody>\n",
       "</table>\n",
       "</div>"
      ],
      "text/plain": [
       "      index  speech_year country_code  \\\n",
       "370     825         1991          EST   \n",
       "1336   2630         1995          COL   \n",
       "504     959         1986          LKA   \n",
       "2311   4758         1980          MRT   \n",
       "2610   5907         1981          SLV   \n",
       "\n",
       "                                                                                                                  speech_text  \n",
       "370   ﻿I extend my warm congratulations to Mr. Shihabi on his election to the presidency of the General Assembly at its fo...  \n",
       "1336  On behalf of my Government I congratulate\\nMr. Freitas do Amaral of Portugal on his election to the\\npresidency of t...  \n",
       "504   It gives me great pleasure to see you. Sir, a distinguished son of South Asia, presiding ever this forty-first sessi...  \n",
       "2311  ﻿We are pleased to extend to you, Mr. President, at the very outset of our statement the congratulations of the dele...  \n",
       "2610  2.\\t Mr. President, I should like to congratulate you on your election to the presidency of the thirty-sixth session...  "
      ]
     },
     "execution_count": 3,
     "metadata": {},
     "output_type": "execute_result"
    }
   ],
   "source": [
    "un_df.sample(5)"
   ]
  },
  {
   "cell_type": "markdown",
   "metadata": {
    "slideshow": {
     "slide_type": "slide"
    }
   },
   "source": [
    "### Topic Modeling Exercise 1\n",
    "\n",
    "\n",
    "Take a look at the text of the UN speeches. When delivering an address, what are the different topics that are covered? Make a list of four topics and provide three example words from each topic.\n",
    "\n",
    "\n"
   ]
  },
  {
   "cell_type": "markdown",
   "metadata": {
    "slideshow": {
     "slide_type": "slide"
    }
   },
   "source": [
    "![](images/lda.jpg)"
   ]
  },
  {
   "cell_type": "markdown",
   "metadata": {
    "slideshow": {
     "slide_type": "slide"
    }
   },
   "source": [
    "## Latent Dirichlet allocation (LDA) \n",
    "\n",
    "We'll narrow our focus for the time being to one particular form of topic modeling, *Latent Dirichlet allocation*, or *LDA* for short. With LDA topic modeling, we'll be able to treat every document in our corpus as a mixture of topics. Each document in our corpus can contain words associated with any number of topics in varying proportions. At the same time, each topic can be treated as a mixture of words. Any given word can be associated with any number of topics. Considering our documents and topics as these sorts of \"mixtures\" helps us to mimic the thematic subtleties inherent in natural language.\n",
    "\n",
    "[Source](https://www.tidytextmining.com/topicmodeling.html#latent-dirichlet-allocation)"
   ]
  },
  {
   "cell_type": "markdown",
   "metadata": {
    "slideshow": {
     "slide_type": "slide"
    }
   },
   "source": [
    "![](images/lda.jpg)"
   ]
  },
  {
   "cell_type": "markdown",
   "metadata": {
    "slideshow": {
     "slide_type": "slide"
    }
   },
   "source": [
    "We can import `LatentDirichletAllocation` from scikit-learn to run our own LDA topic models in Python. "
   ]
  },
  {
   "cell_type": "code",
   "execution_count": 4,
   "metadata": {
    "slideshow": {
     "slide_type": "slide"
    }
   },
   "outputs": [],
   "source": [
    "from sklearn.decomposition import LatentDirichletAllocation"
   ]
  },
  {
   "cell_type": "markdown",
   "metadata": {
    "slideshow": {
     "slide_type": "slide"
    }
   },
   "source": [
    "### Converting Documents to Vectors\n",
    "\n",
    "In order to run our topic models, we'll need to convert each document in the corpus into a fixed-length vector of token counts. We can accomplish this using the [CountVectorizer](https://scikit-learn.org/stable/modules/generated/sklearn.feature_extraction.text.CountVectorizer.html?highlight=vectorizer#sklearn.feature_extraction.text.CountVectorizer) function we imported earlier in the chapter.\n"
   ]
  },
  {
   "cell_type": "markdown",
   "metadata": {
    "slideshow": {
     "slide_type": "slide"
    }
   },
   "source": [
    "For now, let's set our parameters so that we convert all text to lower case, only look at unigrams, only look at terms with a document frequency of .90 or below, use the default 'english' stopwords list, and only consider the top 1,000 terms in our corpus.  "
   ]
  },
  {
   "cell_type": "code",
   "execution_count": 5,
   "metadata": {
    "slideshow": {
     "slide_type": "slide"
    }
   },
   "outputs": [],
   "source": [
    "vectorizer = CountVectorizer(lowercase   = True,\n",
    "                             ngram_range = (1,1),\n",
    "                             max_df      = .90,\n",
    "                             stop_words   = 'english',\n",
    "                             max_features = 1000)"
   ]
  },
  {
   "cell_type": "markdown",
   "metadata": {
    "slideshow": {
     "slide_type": "slide"
    }
   },
   "source": [
    "After setting our parameters, we can `fit` the vectorizer to the `speech_text` key in our UN General Debate dataframe to build a vocabulary out of the raw documents."
   ]
  },
  {
   "cell_type": "markdown",
   "metadata": {
    "slideshow": {
     "slide_type": "slide"
    }
   },
   "source": [
    "*Note*: You'll run into an Attribute Error if the key you plan to fit the vectorizer to contains any missing values. While we don't have to worry about this with our UN dataframe, if you encounter such an error in the future, be sure to [clean your dataframe](https://pandas.pydata.org/pandas-docs/stable/user_guide/missing_data.html#missing-data) before attempting to fit the vectorizer. "
   ]
  },
  {
   "cell_type": "code",
   "execution_count": 6,
   "metadata": {
    "slideshow": {
     "slide_type": "slide"
    }
   },
   "outputs": [
    {
     "data": {
      "text/plain": [
       "CountVectorizer(max_df=0.9, max_features=1000, stop_words='english')"
      ]
     },
     "execution_count": 6,
     "metadata": {},
     "output_type": "execute_result"
    }
   ],
   "source": [
    "vectorizer.fit(un_df['speech_text'])"
   ]
  },
  {
   "cell_type": "markdown",
   "metadata": {
    "slideshow": {
     "slide_type": "slide"
    }
   },
   "source": [
    "We can use the `len` function, along with `get_feature_names`, to ensure we're dealing with a vocabulary composed of the top 1,000 highest-frequency terms in our corpus. "
   ]
  },
  {
   "cell_type": "code",
   "execution_count": 7,
   "metadata": {},
   "outputs": [
    {
     "data": {
      "text/plain": [
       "1000"
      ]
     },
     "execution_count": 7,
     "metadata": {},
     "output_type": "execute_result"
    }
   ],
   "source": [
    "len(vectorizer.get_feature_names())"
   ]
  },
  {
   "cell_type": "markdown",
   "metadata": {
    "slideshow": {
     "slide_type": "slide"
    }
   },
   "source": [
    "Now we'll want to use the vectorizor to `transform` the raw documents into a document-term matrix. "
   ]
  },
  {
   "cell_type": "code",
   "execution_count": 8,
   "metadata": {
    "slideshow": {
     "slide_type": "slide"
    }
   },
   "outputs": [],
   "source": [
    "un_word_counts = vectorizer.transform(un_df['speech_text'])"
   ]
  },
  {
   "cell_type": "markdown",
   "metadata": {
    "slideshow": {
     "slide_type": "slide"
    }
   },
   "source": [
    "### Running the LDA Model\n",
    "\n",
    "Now that we've vectorized our dataset, we're just about ready to run our first LDA model in Python. Before we do, though, we'll want to set our parameters. Below is some information on the parameters we'll set. "
   ]
  },
  {
   "cell_type": "markdown",
   "metadata": {},
   "source": [
    "#### `LatentDirichletAllocation` Parameters\n",
    "\n",
    "- **n_components**: Sets the number of topics generated. We can set this as high or as low as we like, depending on the size and character of the texts in our corpus. \n",
    "\n",
    "\n",
    "- **max_iter**: Sets the maximum number of iterations. By default, `max_iter` is set to 10.\n",
    "> - ***Note***: In almost every case, we'll want to set `max_iter` above 10. It's highly unlikely our models will converge in 10 iterations or less. In the following example, we'll set `max_iter` to 50, a more reasonable maximum iteration threshold.\n",
    "\n",
    "- **evaluate_every**: Lets us adjust how frequently we gauge the perplexity of our model across iterations. By default, `evaluate_every` is set to 0.\n",
    "> - ***Note***: Leaving `evaluate_every` at 0 leaves our model without any built-in goodness of fit measure. We'll discuss other measurements of model fit later in the chapter, but for now it's useful to set `evaluate_every` to some positive number. In the following example, we'll `evaluate_every` 5 iterations.\n",
    "\n",
    "- **n_jobs**: Sets the number of concurrently running processes. When set to -1, we'll use all processors. To use all processors but one, set `n_jobs` to -2. \n",
    "\n",
    "\n",
    "- **verbose**: Lets us determine whether or not every step of the process is logged. If > 0, we'll be able to see what's going on with our LDA model through the output in real time. "
   ]
  },
  {
   "cell_type": "code",
   "execution_count": 9,
   "metadata": {
    "slideshow": {
     "slide_type": "slide"
    }
   },
   "outputs": [],
   "source": [
    "lda_model = LatentDirichletAllocation(n_components = 10,\n",
    "                                      max_iter     = 50,\n",
    "                                      evaluate_every = 5,\n",
    "                                      n_jobs       = -1,\n",
    "                                      verbose      = 1)"
   ]
  },
  {
   "cell_type": "markdown",
   "metadata": {
    "slideshow": {
     "slide_type": "slide"
    }
   },
   "source": [
    "With our parameters set, we can `fit` the LDA model to our document-term matrix of the UN General Debate transcripts.\n",
    "\n",
    "*Note*: It's going to take a while to work our way through up to 50 iterations. That's alright."
   ]
  },
  {
   "cell_type": "code",
   "execution_count": 10,
   "metadata": {
    "slideshow": {
     "slide_type": "slide"
    }
   },
   "outputs": [
    {
     "name": "stdout",
     "output_type": "stream",
     "text": [
      "iteration: 1 of max_iter: 50\n",
      "iteration: 2 of max_iter: 50\n",
      "iteration: 3 of max_iter: 50\n",
      "iteration: 4 of max_iter: 50\n",
      "iteration: 5 of max_iter: 50, perplexity: 711.0737\n",
      "iteration: 6 of max_iter: 50\n",
      "iteration: 7 of max_iter: 50\n",
      "iteration: 8 of max_iter: 50\n",
      "iteration: 9 of max_iter: 50\n",
      "iteration: 10 of max_iter: 50, perplexity: 704.3359\n",
      "iteration: 11 of max_iter: 50\n",
      "iteration: 12 of max_iter: 50\n",
      "iteration: 13 of max_iter: 50\n",
      "iteration: 14 of max_iter: 50\n",
      "iteration: 15 of max_iter: 50, perplexity: 702.4462\n",
      "iteration: 16 of max_iter: 50\n",
      "iteration: 17 of max_iter: 50\n",
      "iteration: 18 of max_iter: 50\n",
      "iteration: 19 of max_iter: 50\n",
      "iteration: 20 of max_iter: 50, perplexity: 701.4847\n",
      "iteration: 21 of max_iter: 50\n",
      "iteration: 22 of max_iter: 50\n",
      "iteration: 23 of max_iter: 50\n",
      "iteration: 24 of max_iter: 50\n",
      "iteration: 25 of max_iter: 50, perplexity: 700.7602\n",
      "iteration: 26 of max_iter: 50\n",
      "iteration: 27 of max_iter: 50\n",
      "iteration: 28 of max_iter: 50\n",
      "iteration: 29 of max_iter: 50\n",
      "iteration: 30 of max_iter: 50, perplexity: 700.3169\n",
      "iteration: 31 of max_iter: 50\n",
      "iteration: 32 of max_iter: 50\n",
      "iteration: 33 of max_iter: 50\n",
      "iteration: 34 of max_iter: 50\n",
      "iteration: 35 of max_iter: 50, perplexity: 699.9699\n",
      "iteration: 36 of max_iter: 50\n",
      "iteration: 37 of max_iter: 50\n",
      "iteration: 38 of max_iter: 50\n",
      "iteration: 39 of max_iter: 50\n",
      "iteration: 40 of max_iter: 50, perplexity: 699.7212\n",
      "iteration: 41 of max_iter: 50\n",
      "iteration: 42 of max_iter: 50\n",
      "iteration: 43 of max_iter: 50\n",
      "iteration: 44 of max_iter: 50\n",
      "iteration: 45 of max_iter: 50, perplexity: 699.5272\n",
      "iteration: 46 of max_iter: 50\n",
      "iteration: 47 of max_iter: 50\n",
      "iteration: 48 of max_iter: 50\n",
      "iteration: 49 of max_iter: 50\n",
      "iteration: 50 of max_iter: 50, perplexity: 699.3730\n"
     ]
    },
    {
     "data": {
      "text/plain": [
       "LatentDirichletAllocation(evaluate_every=5, max_iter=50, n_jobs=-1, verbose=1)"
      ]
     },
     "execution_count": 10,
     "metadata": {},
     "output_type": "execute_result"
    }
   ],
   "source": [
    "lda_model.fit(un_word_counts)"
   ]
  },
  {
   "cell_type": "markdown",
   "metadata": {},
   "source": [
    "Congrats, you've run your first topic model on Python!"
   ]
  },
  {
   "cell_type": "markdown",
   "metadata": {
    "slideshow": {
     "slide_type": "slide"
    }
   },
   "source": [
    "## Some fit statistics\n",
    "\n",
    "While we can intuitively \"eyeball\" topic quality as a first step, it's hard to do so objectively.  Calculating some fit statistics can help us to evaluate our topics' quality numerically.\n",
    "\n",
    "\n",
    "`LatentDirichletAllocation` includes a few handy methods for calculating fit statistics:\n",
    "\n",
    "- **`score()`** lets us calculate the approximate logged likelihood of the model parameters we've set, given our data. The higher this number is, the better our topic fit. \n",
    "- **`perplexity()`**, another (normalized) form of logged likelihood, calculates the amount of \"surprise\" our model experiences if we introduce some previously unseen data. The lower this number is, the better our topic fit.\n",
    "\n",
    "To learn more about evaluating fit for LDA topic models in Python, see [here](https://towardsdatascience.com/evaluate-topic-model-in-python-latent-dirichlet-allocation-lda-7d57484bb5d0)."
   ]
  },
  {
   "cell_type": "code",
   "execution_count": 11,
   "metadata": {},
   "outputs": [
    {
     "name": "stdout",
     "output_type": "stream",
     "text": [
      "Log Likelihood:  -17539022.088006437\n",
      "Perplexity:  699.3729778593845\n"
     ]
    }
   ],
   "source": [
    "print(\"Log Likelihood: \", lda_model.score(un_word_counts))\n",
    "\n",
    "print(\"Perplexity: \", lda_model.perplexity(un_word_counts))"
   ]
  },
  {
   "cell_type": "markdown",
   "metadata": {
    "slideshow": {
     "slide_type": "slide"
    }
   },
   "source": [
    "### Guidelines on topic fit\n",
    "1. Low perplexity on test data.\n",
    "    - Remeber that the lower our perplexity score, the better our topic fit to our data.\n",
    "2. Topical coherence\n",
    "    - On the other hand, we want our models to receive the highest possible scores for topical coherence. \n",
    "3. Best fit in a classification task.\n",
    "    - We'll discuss classification tasks in more detail in another chapter. These tasks provide an additional means of determining our models' goodness of fit.\n",
    "4. Extract more and then bin them yourself. \n",
    "    - It's also possible to just extract more topic models, and use your human intuition to bin them based on contextual or thematic similarity. "
   ]
  },
  {
   "cell_type": "code",
   "execution_count": 12,
   "metadata": {
    "slideshow": {
     "slide_type": "skip"
    }
   },
   "outputs": [
    {
     "name": "stdout",
     "output_type": "stream",
     "text": [
      "{'batch_size': 128, 'doc_topic_prior': None, 'evaluate_every': 5, 'learning_decay': 0.7, 'learning_method': 'batch', 'learning_offset': 10.0, 'max_doc_update_iter': 100, 'max_iter': 50, 'mean_change_tol': 0.001, 'n_components': 10, 'n_jobs': -1, 'perp_tol': 0.1, 'random_state': None, 'topic_word_prior': None, 'total_samples': 1000000.0, 'verbose': 1}\n"
     ]
    }
   ],
   "source": [
    "print(lda_model.get_params())"
   ]
  },
  {
   "cell_type": "markdown",
   "metadata": {
    "slideshow": {
     "slide_type": "slide"
    }
   },
   "source": [
    "## Visualizing Topics"
   ]
  },
  {
   "cell_type": "markdown",
   "metadata": {
    "slideshow": {
     "slide_type": "slide"
    }
   },
   "source": [
    "In this section we'll discuss some of the ways we can visualize the topics we've created with our LDA model. "
   ]
  },
  {
   "cell_type": "markdown",
   "metadata": {},
   "source": [
    "### pdtext"
   ]
  },
  {
   "cell_type": "markdown",
   "metadata": {
    "slideshow": {
     "slide_type": "slide"
    }
   },
   "source": [
    "First, we can import `topic_words` from the `pdtext` package in order to create a easily interpretable matrix of our topics. Below, we'll look at the first 10:"
   ]
  },
  {
   "cell_type": "code",
   "execution_count": 13,
   "metadata": {},
   "outputs": [
    {
     "data": {
      "text/html": [
       "<div>\n",
       "<style scoped>\n",
       "    .dataframe tbody tr th:only-of-type {\n",
       "        vertical-align: middle;\n",
       "    }\n",
       "\n",
       "    .dataframe tbody tr th {\n",
       "        vertical-align: top;\n",
       "    }\n",
       "\n",
       "    .dataframe thead th {\n",
       "        text-align: right;\n",
       "    }\n",
       "</style>\n",
       "<table border=\"1\" class=\"dataframe\">\n",
       "  <thead>\n",
       "    <tr style=\"text-align: right;\">\n",
       "      <th></th>\n",
       "      <th>1</th>\n",
       "      <th>2</th>\n",
       "      <th>3</th>\n",
       "      <th>4</th>\n",
       "      <th>5</th>\n",
       "      <th>6</th>\n",
       "      <th>7</th>\n",
       "      <th>8</th>\n",
       "      <th>9</th>\n",
       "      <th>10</th>\n",
       "    </tr>\n",
       "  </thead>\n",
       "  <tbody>\n",
       "    <tr>\n",
       "      <th>Topic 1</th>\n",
       "      <td>war</td>\n",
       "      <td>today</td>\n",
       "      <td>democracy</td>\n",
       "      <td>freedom</td>\n",
       "      <td>history</td>\n",
       "      <td>rights</td>\n",
       "      <td>power</td>\n",
       "      <td>america</td>\n",
       "      <td>future</td>\n",
       "      <td>life</td>\n",
       "    </tr>\n",
       "    <tr>\n",
       "      <th>Topic 2</th>\n",
       "      <td>rights</td>\n",
       "      <td>council</td>\n",
       "      <td>european</td>\n",
       "      <td>europe</td>\n",
       "      <td>member</td>\n",
       "      <td>important</td>\n",
       "      <td>conflict</td>\n",
       "      <td>keeping</td>\n",
       "      <td>role</td>\n",
       "      <td>cooperation</td>\n",
       "    </tr>\n",
       "    <tr>\n",
       "      <th>Topic 3</th>\n",
       "      <td>arab</td>\n",
       "      <td>israel</td>\n",
       "      <td>council</td>\n",
       "      <td>iraq</td>\n",
       "      <td>palestinian</td>\n",
       "      <td>region</td>\n",
       "      <td>resolutions</td>\n",
       "      <td>lebanon</td>\n",
       "      <td>israeli</td>\n",
       "      <td>middle</td>\n",
       "    </tr>\n",
       "    <tr>\n",
       "      <th>Topic 4</th>\n",
       "      <td>peoples</td>\n",
       "      <td>relations</td>\n",
       "      <td>respect</td>\n",
       "      <td>problems</td>\n",
       "      <td>order</td>\n",
       "      <td>rights</td>\n",
       "      <td>situation</td>\n",
       "      <td>social</td>\n",
       "      <td>principles</td>\n",
       "      <td>operation</td>\n",
       "    </tr>\n",
       "    <tr>\n",
       "      <th>Topic 5</th>\n",
       "      <td>independence</td>\n",
       "      <td>republic</td>\n",
       "      <td>peoples</td>\n",
       "      <td>south</td>\n",
       "      <td>military</td>\n",
       "      <td>struggle</td>\n",
       "      <td>national</td>\n",
       "      <td>afghanistan</td>\n",
       "      <td>foreign</td>\n",
       "      <td>aggression</td>\n",
       "    </tr>\n",
       "    <tr>\n",
       "      <th>Topic 6</th>\n",
       "      <td>global</td>\n",
       "      <td>nuclear</td>\n",
       "      <td>cooperation</td>\n",
       "      <td>developing</td>\n",
       "      <td>council</td>\n",
       "      <td>reform</td>\n",
       "      <td>social</td>\n",
       "      <td>year</td>\n",
       "      <td>trade</td>\n",
       "      <td>member</td>\n",
       "    </tr>\n",
       "    <tr>\n",
       "      <th>Topic 7</th>\n",
       "      <td>south</td>\n",
       "      <td>developing</td>\n",
       "      <td>operation</td>\n",
       "      <td>africa</td>\n",
       "      <td>problems</td>\n",
       "      <td>year</td>\n",
       "      <td>conference</td>\n",
       "      <td>problem</td>\n",
       "      <td>hope</td>\n",
       "      <td>negotiations</td>\n",
       "    </tr>\n",
       "    <tr>\n",
       "      <th>Topic 8</th>\n",
       "      <td>africa</td>\n",
       "      <td>african</td>\n",
       "      <td>south</td>\n",
       "      <td>situation</td>\n",
       "      <td>angola</td>\n",
       "      <td>oau</td>\n",
       "      <td>apartheid</td>\n",
       "      <td>continent</td>\n",
       "      <td>namibia</td>\n",
       "      <td>debt</td>\n",
       "    </tr>\n",
       "    <tr>\n",
       "      <th>Topic 9</th>\n",
       "      <td>republic</td>\n",
       "      <td>national</td>\n",
       "      <td>democratic</td>\n",
       "      <td>process</td>\n",
       "      <td>cooperation</td>\n",
       "      <td>social</td>\n",
       "      <td>democracy</td>\n",
       "      <td>mr</td>\n",
       "      <td>order</td>\n",
       "      <td>like</td>\n",
       "    </tr>\n",
       "    <tr>\n",
       "      <th>Topic 10</th>\n",
       "      <td>nuclear</td>\n",
       "      <td>weapons</td>\n",
       "      <td>soviet</td>\n",
       "      <td>disarmament</td>\n",
       "      <td>arms</td>\n",
       "      <td>union</td>\n",
       "      <td>treaty</td>\n",
       "      <td>republic</td>\n",
       "      <td>relations</td>\n",
       "      <td>war</td>\n",
       "    </tr>\n",
       "  </tbody>\n",
       "</table>\n",
       "</div>"
      ],
      "text/plain": [
       "                     1           2            3            4            5  \\\n",
       "Topic 1            war       today    democracy      freedom      history   \n",
       "Topic 2         rights     council     european       europe       member   \n",
       "Topic 3           arab      israel      council         iraq  palestinian   \n",
       "Topic 4        peoples   relations      respect     problems        order   \n",
       "Topic 5   independence    republic      peoples        south     military   \n",
       "Topic 6         global     nuclear  cooperation   developing      council   \n",
       "Topic 7          south  developing    operation       africa     problems   \n",
       "Topic 8         africa     african        south    situation       angola   \n",
       "Topic 9       republic    national   democratic      process  cooperation   \n",
       "Topic 10       nuclear     weapons       soviet  disarmament         arms   \n",
       "\n",
       "                  6            7            8           9            10  \n",
       "Topic 1      rights        power      america      future          life  \n",
       "Topic 2   important     conflict      keeping        role   cooperation  \n",
       "Topic 3      region  resolutions      lebanon     israeli        middle  \n",
       "Topic 4      rights    situation       social  principles     operation  \n",
       "Topic 5    struggle     national  afghanistan     foreign    aggression  \n",
       "Topic 6      reform       social         year       trade        member  \n",
       "Topic 7        year   conference      problem        hope  negotiations  \n",
       "Topic 8         oau    apartheid    continent     namibia          debt  \n",
       "Topic 9      social    democracy           mr       order          like  \n",
       "Topic 10      union       treaty     republic   relations           war  "
      ]
     },
     "execution_count": 13,
     "metadata": {},
     "output_type": "execute_result"
    }
   ],
   "source": [
    "from pdtext.tm import topic_words\n",
    "\n",
    "topic_words(lda_model, vectorizer).head(10)\n"
   ]
  },
  {
   "cell_type": "markdown",
   "metadata": {
    "slideshow": {
     "slide_type": "slide"
    }
   },
   "source": [
    "Also from `pdtext`, `topic_pred` will let us see which documents are associated with which topics."
   ]
  },
  {
   "cell_type": "code",
   "execution_count": 14,
   "metadata": {
    "slideshow": {
     "slide_type": "slide"
    }
   },
   "outputs": [],
   "source": [
    "from pdtext.tm import topic_pred"
   ]
  },
  {
   "cell_type": "code",
   "execution_count": 15,
   "metadata": {
    "slideshow": {
     "slide_type": "slide"
    }
   },
   "outputs": [],
   "source": [
    "un_topics = topic_pred(lda_model, un_word_counts, vectorizer)"
   ]
  },
  {
   "cell_type": "code",
   "execution_count": 16,
   "metadata": {
    "scrolled": true,
    "slideshow": {
     "slide_type": "fragment"
    }
   },
   "outputs": [
    {
     "data": {
      "text/html": [
       "<div>\n",
       "<style scoped>\n",
       "    .dataframe tbody tr th:only-of-type {\n",
       "        vertical-align: middle;\n",
       "    }\n",
       "\n",
       "    .dataframe tbody tr th {\n",
       "        vertical-align: top;\n",
       "    }\n",
       "\n",
       "    .dataframe thead th {\n",
       "        text-align: right;\n",
       "    }\n",
       "</style>\n",
       "<table border=\"1\" class=\"dataframe\">\n",
       "  <thead>\n",
       "    <tr style=\"text-align: right;\">\n",
       "      <th></th>\n",
       "      <th>war_today_democracy</th>\n",
       "      <th>rights_council_european</th>\n",
       "      <th>arab_israel_council</th>\n",
       "      <th>peoples_relations_respect</th>\n",
       "      <th>independence_republic_peoples</th>\n",
       "      <th>global_nuclear_cooperation</th>\n",
       "      <th>south_developing_operation</th>\n",
       "      <th>africa_african_south</th>\n",
       "      <th>republic_national_democratic</th>\n",
       "      <th>nuclear_weapons_soviet</th>\n",
       "    </tr>\n",
       "  </thead>\n",
       "  <tbody>\n",
       "    <tr>\n",
       "      <th>0</th>\n",
       "      <td>0.040357</td>\n",
       "      <td>0.000127</td>\n",
       "      <td>0.093730</td>\n",
       "      <td>0.027321</td>\n",
       "      <td>0.000127</td>\n",
       "      <td>0.144233</td>\n",
       "      <td>0.601009</td>\n",
       "      <td>0.000127</td>\n",
       "      <td>0.057900</td>\n",
       "      <td>0.035069</td>\n",
       "    </tr>\n",
       "    <tr>\n",
       "      <th>1</th>\n",
       "      <td>0.000135</td>\n",
       "      <td>0.367703</td>\n",
       "      <td>0.000135</td>\n",
       "      <td>0.043572</td>\n",
       "      <td>0.000135</td>\n",
       "      <td>0.260831</td>\n",
       "      <td>0.327087</td>\n",
       "      <td>0.000135</td>\n",
       "      <td>0.000135</td>\n",
       "      <td>0.000135</td>\n",
       "    </tr>\n",
       "    <tr>\n",
       "      <th>2</th>\n",
       "      <td>0.050124</td>\n",
       "      <td>0.000077</td>\n",
       "      <td>0.054319</td>\n",
       "      <td>0.245699</td>\n",
       "      <td>0.035003</td>\n",
       "      <td>0.030415</td>\n",
       "      <td>0.092843</td>\n",
       "      <td>0.314829</td>\n",
       "      <td>0.106998</td>\n",
       "      <td>0.069694</td>\n",
       "    </tr>\n",
       "    <tr>\n",
       "      <th>3</th>\n",
       "      <td>0.334264</td>\n",
       "      <td>0.000147</td>\n",
       "      <td>0.022080</td>\n",
       "      <td>0.380081</td>\n",
       "      <td>0.000147</td>\n",
       "      <td>0.000147</td>\n",
       "      <td>0.193770</td>\n",
       "      <td>0.000147</td>\n",
       "      <td>0.069071</td>\n",
       "      <td>0.000147</td>\n",
       "    </tr>\n",
       "    <tr>\n",
       "      <th>4</th>\n",
       "      <td>0.110692</td>\n",
       "      <td>0.100106</td>\n",
       "      <td>0.000089</td>\n",
       "      <td>0.010880</td>\n",
       "      <td>0.068794</td>\n",
       "      <td>0.000089</td>\n",
       "      <td>0.329126</td>\n",
       "      <td>0.339845</td>\n",
       "      <td>0.016699</td>\n",
       "      <td>0.023680</td>\n",
       "    </tr>\n",
       "    <tr>\n",
       "      <th>...</th>\n",
       "      <td>...</td>\n",
       "      <td>...</td>\n",
       "      <td>...</td>\n",
       "      <td>...</td>\n",
       "      <td>...</td>\n",
       "      <td>...</td>\n",
       "      <td>...</td>\n",
       "      <td>...</td>\n",
       "      <td>...</td>\n",
       "      <td>...</td>\n",
       "    </tr>\n",
       "    <tr>\n",
       "      <th>3209</th>\n",
       "      <td>0.166190</td>\n",
       "      <td>0.653301</td>\n",
       "      <td>0.055427</td>\n",
       "      <td>0.000270</td>\n",
       "      <td>0.000270</td>\n",
       "      <td>0.123465</td>\n",
       "      <td>0.000270</td>\n",
       "      <td>0.000270</td>\n",
       "      <td>0.000270</td>\n",
       "      <td>0.000270</td>\n",
       "    </tr>\n",
       "    <tr>\n",
       "      <th>3210</th>\n",
       "      <td>0.000097</td>\n",
       "      <td>0.081100</td>\n",
       "      <td>0.588464</td>\n",
       "      <td>0.000097</td>\n",
       "      <td>0.000097</td>\n",
       "      <td>0.077890</td>\n",
       "      <td>0.089049</td>\n",
       "      <td>0.000097</td>\n",
       "      <td>0.163009</td>\n",
       "      <td>0.000097</td>\n",
       "    </tr>\n",
       "    <tr>\n",
       "      <th>3211</th>\n",
       "      <td>0.000204</td>\n",
       "      <td>0.000204</td>\n",
       "      <td>0.000204</td>\n",
       "      <td>0.103161</td>\n",
       "      <td>0.000204</td>\n",
       "      <td>0.087980</td>\n",
       "      <td>0.006548</td>\n",
       "      <td>0.168781</td>\n",
       "      <td>0.632510</td>\n",
       "      <td>0.000204</td>\n",
       "    </tr>\n",
       "    <tr>\n",
       "      <th>3212</th>\n",
       "      <td>0.374651</td>\n",
       "      <td>0.000121</td>\n",
       "      <td>0.000121</td>\n",
       "      <td>0.270315</td>\n",
       "      <td>0.000121</td>\n",
       "      <td>0.301063</td>\n",
       "      <td>0.000121</td>\n",
       "      <td>0.000121</td>\n",
       "      <td>0.053244</td>\n",
       "      <td>0.000121</td>\n",
       "    </tr>\n",
       "    <tr>\n",
       "      <th>3213</th>\n",
       "      <td>0.451230</td>\n",
       "      <td>0.161102</td>\n",
       "      <td>0.000243</td>\n",
       "      <td>0.225818</td>\n",
       "      <td>0.000243</td>\n",
       "      <td>0.101595</td>\n",
       "      <td>0.000243</td>\n",
       "      <td>0.011150</td>\n",
       "      <td>0.048132</td>\n",
       "      <td>0.000243</td>\n",
       "    </tr>\n",
       "  </tbody>\n",
       "</table>\n",
       "<p>3214 rows × 10 columns</p>\n",
       "</div>"
      ],
      "text/plain": [
       "      war_today_democracy  rights_council_european  arab_israel_council  \\\n",
       "0                0.040357                 0.000127             0.093730   \n",
       "1                0.000135                 0.367703             0.000135   \n",
       "2                0.050124                 0.000077             0.054319   \n",
       "3                0.334264                 0.000147             0.022080   \n",
       "4                0.110692                 0.100106             0.000089   \n",
       "...                   ...                      ...                  ...   \n",
       "3209             0.166190                 0.653301             0.055427   \n",
       "3210             0.000097                 0.081100             0.588464   \n",
       "3211             0.000204                 0.000204             0.000204   \n",
       "3212             0.374651                 0.000121             0.000121   \n",
       "3213             0.451230                 0.161102             0.000243   \n",
       "\n",
       "      peoples_relations_respect  independence_republic_peoples  \\\n",
       "0                      0.027321                       0.000127   \n",
       "1                      0.043572                       0.000135   \n",
       "2                      0.245699                       0.035003   \n",
       "3                      0.380081                       0.000147   \n",
       "4                      0.010880                       0.068794   \n",
       "...                         ...                            ...   \n",
       "3209                   0.000270                       0.000270   \n",
       "3210                   0.000097                       0.000097   \n",
       "3211                   0.103161                       0.000204   \n",
       "3212                   0.270315                       0.000121   \n",
       "3213                   0.225818                       0.000243   \n",
       "\n",
       "      global_nuclear_cooperation  south_developing_operation  \\\n",
       "0                       0.144233                    0.601009   \n",
       "1                       0.260831                    0.327087   \n",
       "2                       0.030415                    0.092843   \n",
       "3                       0.000147                    0.193770   \n",
       "4                       0.000089                    0.329126   \n",
       "...                          ...                         ...   \n",
       "3209                    0.123465                    0.000270   \n",
       "3210                    0.077890                    0.089049   \n",
       "3211                    0.087980                    0.006548   \n",
       "3212                    0.301063                    0.000121   \n",
       "3213                    0.101595                    0.000243   \n",
       "\n",
       "      africa_african_south  republic_national_democratic  \\\n",
       "0                 0.000127                      0.057900   \n",
       "1                 0.000135                      0.000135   \n",
       "2                 0.314829                      0.106998   \n",
       "3                 0.000147                      0.069071   \n",
       "4                 0.339845                      0.016699   \n",
       "...                    ...                           ...   \n",
       "3209              0.000270                      0.000270   \n",
       "3210              0.000097                      0.163009   \n",
       "3211              0.168781                      0.632510   \n",
       "3212              0.000121                      0.053244   \n",
       "3213              0.011150                      0.048132   \n",
       "\n",
       "      nuclear_weapons_soviet  \n",
       "0                   0.035069  \n",
       "1                   0.000135  \n",
       "2                   0.069694  \n",
       "3                   0.000147  \n",
       "4                   0.023680  \n",
       "...                      ...  \n",
       "3209                0.000270  \n",
       "3210                0.000097  \n",
       "3211                0.000204  \n",
       "3212                0.000121  \n",
       "3213                0.000243  \n",
       "\n",
       "[3214 rows x 10 columns]"
      ]
     },
     "execution_count": 16,
     "metadata": {},
     "output_type": "execute_result"
    }
   ],
   "source": [
    "un_topics"
   ]
  },
  {
   "cell_type": "markdown",
   "metadata": {
    "slideshow": {
     "slide_type": "slide"
    }
   },
   "source": [
    "We can now use our topics as features in order to get a better handle on topic patterns across texts."
   ]
  },
  {
   "cell_type": "markdown",
   "metadata": {
    "slideshow": {
     "slide_type": "slide"
    }
   },
   "source": [
    "One way to do this is to generate a new key in our United Nations dataframe. For exmaple, we can create a `post_soviet` key to divide our general debate speeches between those that occured prior to the fall of the Soviet Union (where `post_soviet` = False), and those that occured after the fall of the Soviet Union (where `post_soviet` = True)."
   ]
  },
  {
   "cell_type": "code",
   "execution_count": 17,
   "metadata": {
    "slideshow": {
     "slide_type": "slide"
    }
   },
   "outputs": [],
   "source": [
    "un_df['post_soviet'] = un_df['speech_year'] > 1991"
   ]
  },
  {
   "cell_type": "code",
   "execution_count": 18,
   "metadata": {
    "scrolled": true,
    "slideshow": {
     "slide_type": "slide"
    }
   },
   "outputs": [
    {
     "data": {
      "text/html": [
       "<div>\n",
       "<style scoped>\n",
       "    .dataframe tbody tr th:only-of-type {\n",
       "        vertical-align: middle;\n",
       "    }\n",
       "\n",
       "    .dataframe tbody tr th {\n",
       "        vertical-align: top;\n",
       "    }\n",
       "\n",
       "    .dataframe thead th {\n",
       "        text-align: right;\n",
       "    }\n",
       "</style>\n",
       "<table border=\"1\" class=\"dataframe\">\n",
       "  <thead>\n",
       "    <tr style=\"text-align: right;\">\n",
       "      <th></th>\n",
       "      <th>war_today_democracy</th>\n",
       "      <th>rights_council_european</th>\n",
       "      <th>arab_israel_council</th>\n",
       "      <th>peoples_relations_respect</th>\n",
       "      <th>independence_republic_peoples</th>\n",
       "      <th>global_nuclear_cooperation</th>\n",
       "      <th>south_developing_operation</th>\n",
       "      <th>africa_african_south</th>\n",
       "      <th>republic_national_democratic</th>\n",
       "      <th>nuclear_weapons_soviet</th>\n",
       "    </tr>\n",
       "    <tr>\n",
       "      <th>post_soviet</th>\n",
       "      <th></th>\n",
       "      <th></th>\n",
       "      <th></th>\n",
       "      <th></th>\n",
       "      <th></th>\n",
       "      <th></th>\n",
       "      <th></th>\n",
       "      <th></th>\n",
       "      <th></th>\n",
       "      <th></th>\n",
       "    </tr>\n",
       "  </thead>\n",
       "  <tbody>\n",
       "    <tr>\n",
       "      <th>False</th>\n",
       "      <td>0.11912</td>\n",
       "      <td>0.058009</td>\n",
       "      <td>0.083061</td>\n",
       "      <td>0.169419</td>\n",
       "      <td>0.090727</td>\n",
       "      <td>0.046458</td>\n",
       "      <td>0.216314</td>\n",
       "      <td>0.090824</td>\n",
       "      <td>0.043156</td>\n",
       "      <td>0.082912</td>\n",
       "    </tr>\n",
       "    <tr>\n",
       "      <th>True</th>\n",
       "      <td>0.12459</td>\n",
       "      <td>0.156116</td>\n",
       "      <td>0.054513</td>\n",
       "      <td>0.079830</td>\n",
       "      <td>0.022925</td>\n",
       "      <td>0.271077</td>\n",
       "      <td>0.027100</td>\n",
       "      <td>0.054382</td>\n",
       "      <td>0.180922</td>\n",
       "      <td>0.028545</td>\n",
       "    </tr>\n",
       "  </tbody>\n",
       "</table>\n",
       "</div>"
      ],
      "text/plain": [
       "             war_today_democracy  rights_council_european  \\\n",
       "post_soviet                                                 \n",
       "False                    0.11912                 0.058009   \n",
       "True                     0.12459                 0.156116   \n",
       "\n",
       "             arab_israel_council  peoples_relations_respect  \\\n",
       "post_soviet                                                   \n",
       "False                   0.083061                   0.169419   \n",
       "True                    0.054513                   0.079830   \n",
       "\n",
       "             independence_republic_peoples  global_nuclear_cooperation  \\\n",
       "post_soviet                                                              \n",
       "False                             0.090727                    0.046458   \n",
       "True                              0.022925                    0.271077   \n",
       "\n",
       "             south_developing_operation  africa_african_south  \\\n",
       "post_soviet                                                     \n",
       "False                          0.216314              0.090824   \n",
       "True                           0.027100              0.054382   \n",
       "\n",
       "             republic_national_democratic  nuclear_weapons_soviet  \n",
       "post_soviet                                                        \n",
       "False                            0.043156                0.082912  \n",
       "True                             0.180922                0.028545  "
      ]
     },
     "execution_count": 18,
     "metadata": {},
     "output_type": "execute_result"
    }
   ],
   "source": [
    "un_topics.groupby(un_df['post_soviet']).mean()"
   ]
  },
  {
   "cell_type": "code",
   "execution_count": 19,
   "metadata": {},
   "outputs": [
    {
     "data": {
      "text/html": [
       "<div>\n",
       "<style scoped>\n",
       "    .dataframe tbody tr th:only-of-type {\n",
       "        vertical-align: middle;\n",
       "    }\n",
       "\n",
       "    .dataframe tbody tr th {\n",
       "        vertical-align: top;\n",
       "    }\n",
       "\n",
       "    .dataframe thead th {\n",
       "        text-align: right;\n",
       "    }\n",
       "</style>\n",
       "<table border=\"1\" class=\"dataframe\">\n",
       "  <thead>\n",
       "    <tr style=\"text-align: right;\">\n",
       "      <th>post_soviet</th>\n",
       "      <th>False</th>\n",
       "      <th>True</th>\n",
       "    </tr>\n",
       "  </thead>\n",
       "  <tbody>\n",
       "    <tr>\n",
       "      <th>war_today_democracy</th>\n",
       "      <td>0.119120</td>\n",
       "      <td>0.124590</td>\n",
       "    </tr>\n",
       "    <tr>\n",
       "      <th>rights_council_european</th>\n",
       "      <td>0.058009</td>\n",
       "      <td>0.156116</td>\n",
       "    </tr>\n",
       "    <tr>\n",
       "      <th>arab_israel_council</th>\n",
       "      <td>0.083061</td>\n",
       "      <td>0.054513</td>\n",
       "    </tr>\n",
       "    <tr>\n",
       "      <th>peoples_relations_respect</th>\n",
       "      <td>0.169419</td>\n",
       "      <td>0.079830</td>\n",
       "    </tr>\n",
       "    <tr>\n",
       "      <th>independence_republic_peoples</th>\n",
       "      <td>0.090727</td>\n",
       "      <td>0.022925</td>\n",
       "    </tr>\n",
       "    <tr>\n",
       "      <th>global_nuclear_cooperation</th>\n",
       "      <td>0.046458</td>\n",
       "      <td>0.271077</td>\n",
       "    </tr>\n",
       "    <tr>\n",
       "      <th>south_developing_operation</th>\n",
       "      <td>0.216314</td>\n",
       "      <td>0.027100</td>\n",
       "    </tr>\n",
       "    <tr>\n",
       "      <th>africa_african_south</th>\n",
       "      <td>0.090824</td>\n",
       "      <td>0.054382</td>\n",
       "    </tr>\n",
       "    <tr>\n",
       "      <th>republic_national_democratic</th>\n",
       "      <td>0.043156</td>\n",
       "      <td>0.180922</td>\n",
       "    </tr>\n",
       "    <tr>\n",
       "      <th>nuclear_weapons_soviet</th>\n",
       "      <td>0.082912</td>\n",
       "      <td>0.028545</td>\n",
       "    </tr>\n",
       "  </tbody>\n",
       "</table>\n",
       "</div>"
      ],
      "text/plain": [
       "post_soviet                       False     True \n",
       "war_today_democracy            0.119120  0.124590\n",
       "rights_council_european        0.058009  0.156116\n",
       "arab_israel_council            0.083061  0.054513\n",
       "peoples_relations_respect      0.169419  0.079830\n",
       "independence_republic_peoples  0.090727  0.022925\n",
       "global_nuclear_cooperation     0.046458  0.271077\n",
       "south_developing_operation     0.216314  0.027100\n",
       "africa_african_south           0.090824  0.054382\n",
       "republic_national_democratic   0.043156  0.180922\n",
       "nuclear_weapons_soviet         0.082912  0.028545"
      ]
     },
     "execution_count": 19,
     "metadata": {},
     "output_type": "execute_result"
    }
   ],
   "source": [
    "un_topics.groupby(un_df['post_soviet']).mean().T"
   ]
  },
  {
   "cell_type": "markdown",
   "metadata": {
    "slideshow": {
     "slide_type": "slide"
    }
   },
   "source": [
    "### pyLDAvis"
   ]
  },
  {
   "cell_type": "markdown",
   "metadata": {},
   "source": [
    "The [pyLDAvis](https://pyldavis.readthedocs.io/en/latest/readme.html) library, a port of the [LDAvis](https://github.com/cpsievert/LDAvis) package for R, provides a variety of tools for interactive topic model visualization. "
   ]
  },
  {
   "cell_type": "code",
   "execution_count": 20,
   "metadata": {},
   "outputs": [
    {
     "name": "stdout",
     "output_type": "stream",
     "text": []
    }
   ],
   "source": [
    "pip install pyldavis"
   ]
  },
  {
   "cell_type": "markdown",
   "metadata": {
    "slideshow": {
     "slide_type": "slide"
    }
   },
   "source": [
    "`pyLDAvis` is conveniently compatible with `LatentDirichletAllocation` from scikit-learn."
   ]
  },
  {
   "cell_type": "code",
   "execution_count": 21,
   "metadata": {
    "slideshow": {
     "slide_type": "slide"
    }
   },
   "outputs": [],
   "source": [
    "import pyLDAvis\n",
    "import pyLDAvis.sklearn"
   ]
  },
  {
   "cell_type": "markdown",
   "metadata": {
    "slideshow": {
     "slide_type": "slide"
    }
   },
   "source": [
    "We'll also import `pyplot` from matplotlib to allow for the generation of interactive plots in Python. "
   ]
  },
  {
   "cell_type": "code",
   "execution_count": 22,
   "metadata": {
    "slideshow": {
     "slide_type": "slide"
    }
   },
   "outputs": [],
   "source": [
    "import matplotlib.pyplot as plt"
   ]
  },
  {
   "cell_type": "markdown",
   "metadata": {
    "slideshow": {
     "slide_type": "slide"
    }
   },
   "source": [
    "Now we'll want to use the `enable_notebook()` function to allow us to display visualizations in our notebook."
   ]
  },
  {
   "cell_type": "code",
   "execution_count": 23,
   "metadata": {
    "slideshow": {
     "slide_type": "slide"
    }
   },
   "outputs": [],
   "source": [
    "pyLDAvis.enable_notebook()"
   ]
  },
  {
   "cell_type": "markdown",
   "metadata": {
    "slideshow": {
     "slide_type": "slide"
    }
   },
   "source": [
    "Finally, we can use the `prepare()` function to transform the data from our LDA model into interactive visualizations!"
   ]
  },
  {
   "cell_type": "code",
   "execution_count": 24,
   "metadata": {
    "slideshow": {
     "slide_type": "slide"
    }
   },
   "outputs": [
    {
     "data": {
      "text/html": [
       "\n",
       "<link rel=\"stylesheet\" type=\"text/css\" href=\"https://cdn.rawgit.com/bmabey/pyLDAvis/files/ldavis.v1.0.0.css\">\n",
       "\n",
       "\n",
       "<div id=\"ldavis_el672446898252321443931134\"></div>\n",
       "<script type=\"text/javascript\">\n",
       "\n",
       "var ldavis_el672446898252321443931134_data = {\"mdsDat\": {\"x\": [32.42095184326172, 0.648955225944519, 71.01968383789062, 3.7859814167022705, -42.666500091552734, -3.6216893196105957, -3.632401704788208, -36.58440017700195, 44.391380310058594, 40.235809326171875], \"y\": [8.115229606628418, 71.70709991455078, 9.971006393432617, 33.18513488769531, -9.22206974029541, -43.52651596069336, -4.171707630157471, 35.804412841796875, 50.61538314819336, -31.591665267944336], \"topics\": [1, 2, 3, 4, 5, 6, 7, 8, 9, 10], \"cluster\": [1, 1, 1, 1, 1, 1, 1, 1, 1, 1], \"Freq\": [14.41090901809235, 13.753189508319583, 12.802996148712914, 11.271059453641461, 9.581192941871821, 9.094093506727626, 7.79636819016411, 7.5586591276320005, 6.874577643732413, 6.856954461105717]}, \"tinfo\": {\"Term\": [\"africa\", \"nuclear\", \"african\", \"republic\", \"south\", \"weapons\", \"arab\", \"soviet\", \"israel\", \"europe\", \"council\", \"disarmament\", \"independence\", \"peoples\", \"military\", \"european\", \"rights\", \"democratic\", \"iraq\", \"palestinian\", \"war\", \"aggression\", \"operation\", \"treaty\", \"democracy\", \"union\", \"lebanon\", \"namibia\", \"cooperation\", \"arms\", \"cyprus\", \"rates\", \"super\", \"435\", \"namibia\", \"deliberations\", \"operation\", \"apartheid\", \"developing\", \"dialog\", \"south\", \"encouraged\", \"developed\", \"prices\", \"1978\", \"continuing\", \"urge\", \"decade\", \"interdependence\", \"sustained\", \"prospects\", \"continued\", \"substantial\", \"early\", \"industrialized\", \"immediate\", \"problem\", \"industrial\", \"withdrawal\", \"negotiated\", \"issues\", \"delegation\", \"negotiations\", \"concerned\", \"continues\", \"concern\", \"solution\", \"problems\", \"growth\", \"major\", \"conference\", \"settlement\", \"year\", \"continue\", \"hope\", \"powers\", \"disarmament\", \"africa\", \"global\", \"resolution\", \"independence\", \"peaceful\", \"situation\", \"east\", \"progress\", \"region\", \"nuclear\", \"latin\", \"coexistence\", \"solidarity\", \"constant\", \"american\", \"harmony\", \"factors\", \"detente\", \"dialog\", \"conviction\", \"discrimination\", \"guarantee\", \"overcome\", \"america\", \"attitude\", \"deterioration\", \"understanding\", \"central\", \"decisive\", \"expression\", \"satisfaction\", \"convinced\", \"essential\", \"balance\", \"indispensable\", \"profound\", \"prevail\", \"instrument\", \"respect\", \"destiny\", \"peoples\", \"possible\", \"relations\", \"solutions\", \"dialogue\", \"principles\", \"crisis\", \"mankind\", \"operation\", \"order\", \"solution\", \"means\", \"social\", \"necessary\", \"problems\", \"based\", \"situation\", \"present\", \"law\", \"determination\", \"rights\", \"make\", \"great\", \"progress\", \"right\", \"region\", \"state\", \"work\", \"globalization\", \"japan\", \"sustainable\", \"fiftieth\", \"millennium\", \"reform\", \"pacific\", \"environmental\", \"island\", \"test\", \"islands\", \"ban\", \"personnel\", \"proliferation\", \"management\", \"membership\", \"enhance\", \"challenges\", \"investment\", \"trafficking\", \"india\", \"convention\", \"environment\", \"focus\", \"agenda\", \"review\", \"drug\", \"global\", \"contributions\", \"reflect\", \"century\", \"address\", \"small\", \"cooperation\", \"poverty\", \"trade\", \"treaty\", \"issues\", \"programme\", \"financial\", \"member\", \"nuclear\", \"developing\", \"regional\", \"social\", \"year\", \"council\", \"need\", \"resources\", \"process\", \"weapons\", \"non\", \"role\", \"rights\", \"important\", \"region\", \"work\", \"continue\", \"know\", \"want\", \"powerful\", \"man\", \"men\", \"caribbean\", \"words\", \"poor\", \"death\", \"earth\", \"drugs\", \"said\", \"let\", \"say\", \"nation\", \"societies\", \"democracy\", \"think\", \"old\", \"history\", \"haiti\", \"education\", \"kind\", \"longer\", \"times\", \"billion\", \"millions\", \"days\", \"drug\", \"power\", \"rich\", \"come\", \"freedom\", \"does\", \"small\", \"children\", \"day\", \"today\", \"life\", \"shall\", \"war\", \"america\", \"century\", \"ago\", \"live\", \"cent\", \"governments\", \"future\", \"long\", \"free\", \"way\", \"president\", \"end\", \"right\", \"great\", \"rights\", \"make\", \"peoples\", \"state\", \"year\", \"need\", \"resources\", \"social\", \"democratic\", \"european\", \"yugoslavia\", \"europe\", \"operations\", \"eastern\", \"keeping\", \"humanitarian\", \"violations\", \"personnel\", \"tasks\", \"protection\", \"diplomacy\", \"field\", \"france\", \"ready\", \"prevention\", \"mandate\", \"rights\", \"scale\", \"union\", \"prepared\", \"structures\", \"cases\", \"court\", \"actively\", \"individual\", \"post\", \"standards\", \"key\", \"council\", \"organizations\", \"member\", \"role\", \"important\", \"conflict\", \"activities\", \"building\", \"number\", \"law\", \"members\", \"regional\", \"conflicts\", \"cooperation\", \"importance\", \"need\", \"force\", \"process\", \"conference\", \"work\", \"year\", \"charter\", \"future\", \"global\", \"respect\", \"like\", \"action\", \"make\", \"liberia\", \"rwanda\", \"boutros\", \"somalia\", \"herzegovina\", \"elections\", \"bosnia\", \"guinea\", \"cambodia\", \"constitution\", \"eighth\", \"reconciliation\", \"ethnic\", \"transition\", \"signing\", \"refugees\", \"haiti\", \"reconstruction\", \"democracy\", \"republic\", \"democratic\", \"civil\", \"gratitude\", \"persons\", \"restoration\", \"september\", \"signed\", \"neighbouring\", \"party\", \"return\", \"mr\", \"national\", \"cooperation\", \"process\", \"agreement\", \"social\", \"president\", \"assistance\", \"like\", \"hope\", \"parties\", \"order\", \"conflict\", \"express\", \"state\", \"conflicts\", \"war\", \"great\", \"delegation\", \"respect\", \"situation\", \"rights\", \"end\", \"region\", \"oau\", \"chad\", \"african\", \"angola\", \"sahara\", \"africa\", \"continent\", \"southern\", \"pretoria\", \"unity\", \"apartheid\", \"435\", \"recovery\", \"western\", \"namibian\", \"heads\", \"debt\", \"food\", \"namibia\", \"appeal\", \"sanctions\", \"racist\", \"prices\", \"tribute\", \"liberation\", \"structural\", \"billion\", \"spite\", \"committee\", \"1978\", \"south\", \"plan\", \"delegation\", \"remains\", \"regime\", \"resolution\", \"situation\", \"implementation\", \"conference\", \"action\", \"resources\", \"council\", \"particularly\", \"assistance\", \"end\", \"conflict\", \"continue\", \"hope\", \"state\", \"crisis\", \"developing\", \"iraqi\", \"kuwait\", \"arab\", \"lebanese\", \"islamic\", \"israeli\", \"iraq\", \"israel\", \"lebanon\", \"gulf\", \"iran\", \"palestinian\", \"occupied\", \"palestine\", \"resolutions\", \"territories\", \"practices\", \"aggression\", \"occupation\", \"land\", \"kingdom\", \"dispute\", \"imposed\", \"middle\", \"pleasure\", \"legitimate\", \"violation\", \"provisions\", \"mass\", \"crises\", \"council\", \"stability\", \"region\", \"resolution\", \"terrorism\", \"east\", \"charter\", \"principles\", \"war\", \"state\", \"role\", \"order\", \"peoples\", \"rights\", \"just\", \"end\", \"viet\", \"nam\", \"indian\", \"pakistan\", \"kampuchea\", \"ocean\", \"domination\", \"colonial\", \"nicaragua\", \"colonialism\", \"afghan\", \"afghanistan\", \"struggle\", \"aggression\", \"india\", \"troops\", \"independence\", \"asia\", \"interference\", \"thirty\", \"aligned\", \"reunification\", \"racist\", \"independent\", \"presence\", \"territory\", \"regime\", \"acts\", \"zone\", \"liberation\", \"military\", \"sovereignty\", \"forces\", \"republic\", \"foreign\", \"peoples\", \"territorial\", \"national\", \"policy\", \"south\", \"non\", \"region\", \"state\", \"right\", \"war\", \"democratic\", \"situation\", \"east\", \"soviet\", \"space\", \"socialist\", \"weapon\", \"nuclear\", \"chemical\", \"armaments\", \"weapons\", \"range\", \"strategic\", \"union\", \"korea\", \"conventional\", \"detente\", \"treaty\", \"talks\", \"arms\", \"korean\", \"disarmament\", \"reduction\", \"elimination\", \"systems\", \"proposals\", \"proposal\", \"race\", \"mutual\", \"europe\", \"geneva\", \"constructive\", \"danger\", \"military\", \"policy\", \"relations\", \"republic\", \"war\", \"peaceful\", \"use\", \"measures\", \"operation\", \"negotiations\", \"conference\", \"democratic\", \"situation\", \"important\", \"non\", \"east\", \"basis\"], \"Freq\": [16941.0, 13503.0, 8885.0, 10919.0, 16838.0, 9164.0, 5227.0, 4537.0, 5549.0, 4975.0, 14283.0, 7368.0, 7381.0, 11791.0, 7274.0, 3947.0, 16400.0, 7151.0, 3909.0, 4958.0, 12304.0, 4228.0, 8471.0, 4930.0, 5080.0, 4539.0, 3522.0, 4957.0, 8952.0, 6299.0, 1351.268761292991, 586.1766425943594, 880.7288947388603, 480.3829380074147, 2325.9643600783725, 472.339400131399, 3741.4115202655967, 1813.5338580418231, 5342.385073624157, 449.4030444664823, 6580.6845484198, 446.00548630597973, 2266.9918601234267, 498.43403879713895, 541.370664700969, 816.5774044278896, 779.9052998187242, 759.4467358911385, 513.2102519892452, 414.3832084593041, 493.7051294605256, 1045.336733415387, 412.60132317475126, 698.1388826260976, 686.3300443718856, 627.6685500422998, 2735.235734013208, 365.87647333538246, 919.2821883965412, 396.7429717390147, 1908.7656611354726, 2240.1734293098216, 2586.5018538022355, 1579.1857571467347, 1499.450479695733, 1769.0006197315752, 2421.9411564524817, 3509.7810500223527, 1293.5827286570554, 1687.4845903367375, 2953.0066494887546, 1747.253419297912, 2959.2061213444686, 2455.7982013008263, 2693.2044354472223, 1434.4225927066962, 1978.271747810931, 3518.288557033011, 2153.622358998616, 1807.9572661332963, 1871.842498748004, 1863.2083675568508, 2381.230262691345, 2055.1973733375057, 1837.406481900096, 2066.475326273141, 1837.631448583459, 1730.3527898459618, 715.3016559773422, 1896.9719182468841, 639.6179441650916, 1704.4828700964006, 506.89975865521825, 551.3646413900059, 554.7391209592034, 511.4580222006902, 534.1378644817021, 519.2528624410016, 786.6359157839164, 696.7527448519056, 2301.5082793681495, 468.0691679892508, 495.7717070573597, 1207.0952508983269, 2294.517871664663, 444.26079255992147, 421.32939234986634, 622.4748705146363, 1010.104895540668, 1236.3066473834108, 705.1907019234253, 395.6415738671581, 530.0313531021725, 394.42776010808683, 506.5777008744234, 3362.046147961022, 404.771737619257, 4331.797043911386, 2199.5916513943253, 3627.0387966363173, 1312.9382995680028, 1809.3479028496142, 2732.6506820844397, 2179.984981255534, 1665.7288277676778, 2615.9235814093777, 3246.8059555844693, 2458.3138909657355, 1843.8046960684808, 3041.498495974796, 1823.8922056794531, 3276.263957909161, 1662.1420121591923, 3052.3210747769026, 1695.665183715438, 1705.4995245065961, 1605.881702028059, 3071.4264048665336, 1922.6155812745785, 1990.2354700971891, 1838.7880771972148, 1711.1730478715083, 1853.4382460695522, 1756.7778488220806, 1715.95068265012, 1196.6770789962493, 1078.362476923937, 1731.0416848452467, 913.8910876964769, 739.1774687467142, 2756.7363420128167, 1282.4091900987685, 1234.7649023809367, 1118.743463866823, 735.7485951994545, 804.374052413596, 772.6116955663878, 512.8189893395779, 1117.7495260929704, 645.8552934242484, 1182.0426001667356, 577.289641579472, 1533.0655939016863, 543.1625034211837, 573.9097189355158, 484.2562241141143, 1587.8658753045931, 2228.6670881555397, 451.54567688937925, 1588.397890805917, 675.950410780918, 901.3063212055957, 3568.894581800141, 519.2733570792924, 477.3173373255596, 1469.3476267225212, 881.8835025373378, 1633.1629653390557, 3245.1521336582778, 1456.2805312584305, 2295.8595711479184, 1798.5902709404443, 1950.2960801552797, 1367.2125320498515, 1822.9194477103379, 2285.6257297145216, 3459.3677334606614, 3136.950992545599, 2044.5211731137294, 2488.6907390235647, 2484.3825154519614, 2759.567085469529, 2092.5870020737366, 1898.1144291516355, 2280.612315689328, 2073.7427364330315, 1928.6187455830895, 1844.8825914073134, 2269.7133398813367, 1929.6882235725661, 1874.6912597405374, 1771.5052626404508, 1626.0084137017234, 1239.6085440319964, 1088.676145939095, 683.7551449833742, 1100.1329569541524, 801.9754855050422, 1130.1038472872121, 855.8879994753786, 980.5200344060677, 533.2743457220555, 652.0376059330929, 640.5345857308246, 1016.0987455478582, 1617.291080775541, 1112.2591319131363, 1554.7301697842581, 481.1602817657076, 2374.3695296434776, 452.283132451695, 633.3175310839657, 1904.9445544190617, 463.93412785639526, 475.1620903582815, 511.53568956911096, 821.2559639234053, 912.4046224863357, 609.1575555400193, 566.9217399859714, 448.8243044849872, 909.7648686300756, 1871.8759553933544, 644.9005938676007, 1545.584756338242, 2142.2818501573656, 1266.1494788848815, 1681.6451998676712, 1101.4091256604718, 990.719493915311, 3097.565360472853, 1709.622061115459, 1062.7471318068838, 3421.9888636244705, 1726.1298246473896, 1310.3282061959812, 1237.404428921339, 1120.6980574187926, 1065.6489297464507, 1166.2586037445542, 1724.2438017371019, 1617.060674725091, 1478.7504525782242, 1573.6921066585205, 1639.829420037815, 1697.1870713431333, 1625.3351335716188, 1645.4277054693277, 1889.4615297790226, 1520.6883617670665, 1649.1584033955573, 1476.250797896374, 1467.331910093542, 1402.1946523093277, 1334.515079615199, 1317.1969605906575, 1271.1961274502787, 3212.974265519643, 884.0321766337759, 3127.9069698088515, 1447.6735206999745, 608.9511890761293, 1874.458705015407, 1235.426421492859, 615.2589459958064, 421.8757811418868, 409.97146543732686, 998.3170059481804, 422.20239637516386, 921.3030310951161, 412.77456247491233, 497.73555279306, 370.90419239376035, 390.85691510224984, 5414.437657678936, 356.3838935426024, 1473.1109601291325, 411.2649820790666, 356.86983317243363, 309.2707618290566, 372.3082387866289, 435.54801041830405, 578.0234313831953, 425.7779485015003, 389.8576211864816, 309.5426127540873, 4232.966299722389, 858.6986385956413, 1979.6529099104127, 1845.0526328209157, 1978.5306536651349, 1909.8467201116218, 889.5205790068774, 717.0477016582522, 987.0471398874539, 1319.7966359186485, 1448.8841256946118, 1493.9098361876424, 1364.4091758556187, 1708.1298255857057, 1012.9037410592241, 1371.2831900547517, 1060.8672149912256, 1543.98578454716, 1548.371417250635, 1354.7451948668497, 1452.836468187021, 1269.115556049776, 1177.8982833830023, 1161.2107268315951, 1146.6907931744981, 1122.419683748084, 1047.4405510252718, 1023.4799374936615, 940.5526504727654, 1222.4962092169956, 1060.9915365130926, 1167.7628218328769, 969.3407175543141, 1355.99948325695, 999.1520459414567, 795.0593706083081, 776.9816514943154, 549.5704918422404, 759.8177263545624, 994.1829638160939, 782.4463827637312, 534.8588206024182, 455.3621667877181, 1158.61922443068, 434.4358517751537, 486.42424147540567, 2011.3044330574876, 4309.850914829328, 2822.7357928045085, 616.7314126950374, 455.7089478987341, 360.546557402639, 404.563505965054, 595.9151307426139, 481.6994062575434, 398.76939652316236, 449.6947201714526, 702.3316374631967, 1915.2756119789585, 2913.919911447266, 2304.4907039601867, 2397.8687521346224, 1459.4006506180417, 2243.691437511833, 1705.781389423007, 1301.3967218105827, 1754.4061340962603, 1729.2468351931757, 1299.4775196021774, 1771.3179182723427, 1518.4312810573808, 1018.5492044973114, 1557.328334489595, 1225.8745089194474, 1496.771733643437, 1315.2870344959401, 1168.9607622269946, 1249.6379965918825, 1357.7962789430903, 1405.713092093509, 1133.666403787547, 1153.5472334135047, 1813.0066657420919, 1283.052804536655, 7691.83345473791, 1828.9235763850447, 993.9161630266872, 11366.06356057899, 1713.6447190030233, 1374.3730802978196, 636.9019732891772, 1642.1723448952189, 1807.6033465703815, 400.96405925972755, 644.2260700997589, 1080.8167729302022, 475.91928797386953, 610.8069092811518, 1645.132954623029, 552.4861935681827, 1703.9032111225924, 818.0483767853744, 658.5065481074557, 555.1846511254571, 399.7118304795697, 672.7134532173635, 618.7322474403576, 380.81208875397056, 384.7916051119001, 332.4884957842055, 696.0632125179658, 389.2014973706517, 4585.691681015441, 742.2669427926478, 1526.9814462936613, 924.8144435774745, 1086.30952808753, 1380.2910090374637, 2113.9698388835545, 1146.0550114472635, 1434.372260936825, 1171.5377848051573, 1066.142124743389, 1366.7029774335242, 951.6608960643863, 941.4918276911252, 1096.8118626224827, 1100.4790390839746, 1093.1622180944, 1044.1113639423463, 1049.7726735500414, 955.2339114538918, 978.4110610608722, 1084.9873409827949, 1142.6059882941654, 4283.624373667464, 938.6481674015279, 1512.082892457153, 1917.5265339942523, 2749.0807919863946, 3664.3619868490446, 2249.7007014550345, 1153.030126025275, 1461.309438560449, 2608.0233235547353, 1004.1304146969425, 1170.6275238367334, 2377.651282254963, 999.1206848944425, 399.27824919482333, 1631.276941205318, 1009.0449763659021, 617.0383747478601, 427.24928166183287, 337.7033871029903, 381.43506743395835, 1743.2476316445438, 317.94048626230466, 833.4073986785279, 320.85032969325255, 339.32391821614465, 391.55041743236933, 350.34974966838246, 3039.8752731428567, 1274.9932714619154, 2547.834675314778, 1353.2102023837747, 617.721701690194, 1628.5107623856093, 1353.3649671698502, 1357.4036569972802, 1579.0937886363674, 1455.6371580197253, 1200.5596274427912, 1367.3130655044486, 1239.8817396164584, 1250.0433259123567, 1095.1149248467666, 1071.4494797434384, 1140.5817337732842, 1123.544663831225, 962.850403487788, 804.5582562122371, 1786.410145414428, 904.5309398988071, 609.707205519215, 757.0784022891313, 572.3441300516387, 610.7607008464025, 599.9939417052558, 1992.907619540356, 2189.3033383330853, 1925.246487247158, 461.66614829286436, 1006.8832437565418, 3136.0700790573715, 1286.6254755820496, 1002.423284020529, 683.1447067542124, 1099.5358174169855, 412.90866834274567, 647.7744280932926, 1010.9241731467304, 624.9222696267652, 1152.0716041216742, 1616.2140913327196, 815.447065647345, 525.8895678385819, 671.7250037822431, 2391.8316958525975, 1432.3781049182073, 1889.6761401009285, 3105.209829932591, 1955.9141628961377, 2575.5069695705474, 930.6371632423161, 2032.4355461887862, 1482.9787855745556, 2442.7510148855695, 1614.4336171710363, 1708.384651678084, 1637.1166324935284, 1412.055570393226, 1558.9990630223836, 1293.4473057958119, 1166.4639805346944, 1033.320965745241, 3396.6011318128176, 1011.6314069137813, 800.8069689600392, 1004.6025929330387, 7791.078578465717, 914.2981747056652, 544.2171610853367, 4713.1251697912985, 636.1583714393677, 748.7059022426787, 2145.276912999528, 1006.1355662432953, 617.4800953629307, 502.1119824381881, 2040.8911537760553, 778.583940226198, 2537.0105580998274, 666.9451174182183, 2909.3391831777794, 694.7709209679265, 687.9830420254361, 495.936088267266, 902.6150940270262, 658.1343513603293, 1169.3504732335261, 869.509640014091, 1507.102448731688, 435.51971401153423, 637.894908742101, 429.26568100355564, 1901.8276707299551, 1479.1382424079536, 1939.7526133202823, 1954.348594829229, 1916.8956324987084, 1374.9978679876565, 1130.436002877422, 1189.2737448707446, 1297.0624864318343, 1168.3540564354123, 1288.0712161419692, 1071.5562543979158, 1180.4568559768786, 1060.5893940538747, 1032.3649074099733, 1041.8928125128975, 938.6715293363014], \"Total\": [16941.0, 13503.0, 8885.0, 10919.0, 16838.0, 9164.0, 5227.0, 4537.0, 5549.0, 4975.0, 14283.0, 7368.0, 7381.0, 11791.0, 7274.0, 3947.0, 16400.0, 7151.0, 3909.0, 4958.0, 12304.0, 4228.0, 8471.0, 4930.0, 5080.0, 4539.0, 3522.0, 4957.0, 8952.0, 6299.0, 2036.4482314762859, 1040.744409314683, 1669.1175215528363, 972.6937916240174, 4957.469065878645, 1038.3652283505596, 8471.345483735471, 4187.628370386482, 12572.047068365795, 1105.6242098730643, 16838.605903592954, 1143.1961669183045, 5826.458070623928, 1290.8191171408691, 1405.0116847588893, 2138.192941701997, 2051.691189664148, 2001.80296067854, 1355.068655602409, 1128.7599033015856, 1351.273289683216, 2902.151643953461, 1159.6861649467307, 1975.5080940588407, 1942.5456209482722, 1787.389767450234, 7806.138487195943, 1053.011541005773, 2648.9877993645437, 1146.4742145073444, 5519.948437627027, 6552.367509268998, 7584.741961618137, 4609.405166918235, 4416.899918366735, 5555.5256818157195, 8071.948512816961, 12671.191440619563, 4032.961215916017, 5537.285367200035, 11107.066651611707, 5905.345822029244, 11375.934553898816, 9139.539109737674, 10288.384583965735, 4671.032134231231, 7368.820963368349, 16941.382410092006, 8429.865757510264, 6844.7993320406495, 7381.839719521791, 7879.900108938148, 12836.287563521728, 9694.212907761103, 8065.61264394222, 12368.466052934484, 13503.028479068902, 2787.673529558532, 1281.9390138219255, 3557.86927442154, 1242.4587119857686, 3484.5759816546056, 1058.6250795840458, 1179.0384565746374, 1198.5433408933668, 1105.6242098730643, 1162.0197432712257, 1145.1691212030673, 1746.0683446611024, 1553.5482232804825, 5169.976914340927, 1070.6511611437484, 1141.7752709868932, 2844.5010745614736, 5620.951995691306, 1089.013311569133, 1035.943908291037, 1532.8149548260644, 2493.2655059970384, 3055.0407369860104, 1797.5045415557486, 1010.4385258182406, 1360.5883979902671, 1012.7609539232001, 1316.0308228251943, 8772.373488887508, 1078.9895809324817, 11791.460269379186, 6048.448237669619, 10355.152684706509, 3659.6183872589368, 5239.684455976883, 8376.58409883528, 6516.804204651365, 4914.172287646281, 8471.345483735471, 11327.460558850842, 8071.948512816961, 5874.210301671754, 11279.055599910887, 5821.820065946369, 12671.191440619563, 5162.892324624248, 12836.287563521728, 5851.921842651346, 5975.730445681506, 5538.346813556254, 16400.366396931957, 8070.006597398079, 9156.44194012581, 8065.61264394222, 8216.759565247334, 12368.466052934484, 11192.205604345285, 9512.473472267682, 1209.5762349516572, 1245.8610404545593, 2005.4401568437768, 1264.860308369235, 1044.9585872308771, 4045.566626132304, 1886.1366276626122, 1927.362263599979, 1760.6598302210423, 1322.195572328855, 1497.1914886339266, 1452.1765664102497, 1005.5045794162284, 2231.678663916312, 1328.2546884309536, 2441.3640901045414, 1194.3719778023165, 3216.7743253392423, 1156.8919262082813, 1238.7337883588377, 1056.2806547080236, 3503.5266973108282, 4939.423686997196, 1006.1844357126838, 3608.0578934054033, 1538.350180890431, 2062.5727359781054, 8429.865757510264, 1231.6912408809205, 1137.5261081999877, 3570.6047068984435, 2138.139735805837, 4124.58001896913, 8952.792869562134, 3773.989884003996, 6422.534400549801, 4930.6319889933975, 5519.948437627027, 3708.294372858137, 5477.085621283507, 7537.61735029634, 13503.028479068902, 12572.047068365795, 7284.658985810015, 11279.055599910887, 11375.934553898816, 14283.821451431202, 8445.038743758514, 7009.107664216938, 10692.495139500134, 9164.11765085572, 8765.742891861033, 7890.233452770619, 16400.366396931957, 9229.83291299426, 12368.466052934484, 9512.473472267682, 9139.539109737674, 1863.0134368925278, 1771.7966635821476, 1135.6068227979229, 1848.0292057694137, 1355.6206873235126, 1919.693101510201, 1522.2442981012064, 1776.0894006180988, 974.0053428351293, 1206.2032199981754, 1186.5284771759004, 1960.918024796234, 3309.153556287031, 2281.3192741612384, 3236.3944321321237, 1013.1588049254017, 5080.014162304151, 971.0931445616731, 1362.755812825423, 4099.584686409213, 1004.9815098290327, 1032.898238490277, 1121.993009364464, 1811.4200720230333, 2033.140032167881, 1369.9906378208605, 1282.0666899490234, 1016.9715842121066, 2062.5727359781054, 4246.411162003071, 1464.145239847197, 3602.528349547263, 5056.761832638098, 2962.3519940583287, 4124.58001896913, 2599.7633492678933, 2333.1567893872184, 8624.324401908832, 4541.242530442881, 2606.482833977268, 12304.851483896713, 5169.976914340927, 3570.6047068984435, 3333.093456615948, 2852.391294625645, 2702.6411226618584, 3310.4423624167434, 7431.733713386076, 6750.38131867868, 5609.4338424098205, 7164.646306378821, 8015.343313158241, 8796.01481475419, 8216.759565247334, 9156.44194012581, 16400.366396931957, 8070.006597398079, 11791.460269379186, 11192.205604345285, 11375.934553898816, 8445.038743758514, 7009.107664216938, 11279.055599910887, 7151.577257711906, 3947.228215027659, 1181.5613687705377, 4975.687968357044, 2316.3600234033224, 1180.7062182857705, 3851.600433908508, 2620.1039665661183, 1308.639868708382, 1005.5045794162284, 1028.9792121343846, 2522.362039389926, 1110.516055290692, 2486.036067378142, 1158.2939949998672, 1416.3880102948897, 1082.5966844250495, 1180.385976837883, 16400.366396931957, 1097.7476617014788, 4539.411496508289, 1287.9064695760967, 1125.0192376422945, 978.7209026816662, 1186.011054677871, 1388.4047638817265, 1849.4118606720926, 1371.2777853194389, 1264.9503845055651, 1023.0483643648904, 14283.821451431202, 2950.075214967244, 7537.61735029634, 7890.233452770619, 9229.83291299426, 9000.838351155697, 3493.982747546226, 2663.487612525497, 4021.7709409614986, 5975.730445681506, 6866.9446146359, 7284.658985810015, 6513.6867144275575, 8952.792869562134, 4306.893476645995, 8445.038743758514, 5451.971703438365, 10692.495139500134, 11107.066651611707, 9512.473472267682, 11375.934553898816, 8328.934910803906, 7431.733713386076, 8429.865757510264, 8772.373488887508, 9342.043227372467, 7856.32911556809, 8070.006597398079, 973.5314970040691, 1284.0527916102926, 1217.1039130691836, 1355.3441933815752, 1149.7203006917816, 2004.2227931157838, 1512.7382250283886, 1290.2774012178213, 1477.2735215114728, 1045.7869393662663, 1448.58143772402, 1968.5646409898143, 1615.6198199312726, 1166.2001726017354, 996.998071320096, 2659.6168525375356, 1004.9815098290327, 1125.9296265104697, 5080.014162304151, 10919.02057789878, 7151.577257711906, 1661.3243058374105, 1256.740239432965, 1025.7250779518565, 1155.8032333151186, 1726.3375197435328, 1433.2646000096631, 1226.0650042675618, 1382.6835104377328, 2175.2657404921642, 6940.7354876587715, 11161.413091436407, 8952.792869562134, 10692.495139500134, 6223.4351217510075, 11279.055599910887, 8015.343313158241, 5611.167420829185, 9342.043227372467, 10288.384583965735, 6378.065539446814, 11327.460558850842, 9000.838351155697, 4199.648432853837, 11192.205604345285, 6513.6867144275575, 12304.851483896713, 9156.44194012581, 6552.367509268998, 8772.373488887508, 12836.287563521728, 16400.366396931957, 8796.01481475419, 12368.466052934484, 1817.3840085924264, 1311.4955284584007, 8885.78811600037, 2333.75176836389, 1282.0780605738446, 16941.382410092006, 3164.207125105293, 2795.51091579142, 1382.538985693119, 3597.3777670787927, 4187.628370386482, 972.6937916240174, 1563.5877024830868, 2652.614191652302, 1182.6786682356885, 1597.5865023138547, 4495.614530418126, 1598.3410877142028, 4957.469065878645, 2446.9572758439954, 1996.5818016598846, 1708.7830080291512, 1290.8191171408691, 2183.502343739568, 2018.2760174374225, 1305.2023525220707, 1369.9906378208605, 1186.476709174951, 2488.8603635612203, 1405.0116847588893, 16838.605903592954, 2780.7788257609222, 6552.367509268998, 3716.01533987724, 4686.370445142424, 6844.7993320406495, 12836.287563521728, 5400.170017539429, 11107.066651611707, 7856.32911556809, 7009.107664216938, 14283.821451431202, 5606.3396678126755, 5611.167420829185, 8796.01481475419, 9000.838351155697, 9139.539109737674, 10288.384583965735, 11192.205604345285, 6516.804204651365, 12572.047068365795, 1098.6023917798855, 1375.2412927768096, 5227.114822434496, 1146.1414982189315, 1893.07501058608, 2454.7272528976105, 3909.249156765337, 5549.47618481762, 3522.7811218092925, 1907.7078470316978, 2628.856640142357, 4958.5285392847645, 1972.2089523452003, 2516.244738000682, 5114.905468535505, 2389.43931243053, 1011.08681361571, 4228.95294125337, 2713.161176234529, 1787.241170770908, 1454.4604762825893, 1159.721549768312, 1323.0253327395674, 6054.792195808147, 1205.6000143038984, 3287.9140650947047, 1284.5653703786768, 1405.6486029928801, 1678.8604744274865, 1528.2394272047577, 14283.821451431202, 5884.202346344872, 12368.466052934484, 6844.7993320406495, 2754.0682261077677, 9694.212907761103, 8328.934910803906, 8376.58409883528, 12304.851483896713, 11192.205604345285, 7890.233452770619, 11327.460558850842, 11791.460269379186, 16400.366396931957, 7223.75199225544, 8796.01481475419, 1141.481311970065, 1124.4442401365645, 1214.455348731393, 1015.0235167390512, 2703.410070412777, 1395.4490057528428, 1003.8118437040147, 1268.1970377473665, 1028.2754513270456, 1125.987044414319, 1185.9847483916597, 3971.4521189581856, 4419.278970599402, 4228.95294125337, 1056.2806547080236, 2330.8167612911716, 7381.839719521791, 3059.9439934152815, 2400.3165313412246, 1672.325948385836, 2817.5780626109013, 1076.8231678100187, 1708.7830080291512, 2762.5941689369333, 1711.8288642496186, 3249.6498292302263, 4686.370445142424, 2399.573820233295, 1547.8809160984476, 2018.2760174374225, 7274.559216066533, 4410.581007338481, 6092.947582362815, 10919.02057789878, 7378.617176950891, 11791.460269379186, 2949.0250538085397, 11161.413091436407, 6760.8854235890185, 16838.605903592954, 8765.742891861033, 12368.466052934484, 11192.205604345285, 8216.759565247334, 12304.851483896713, 7151.577257711906, 12836.287563521728, 9694.212907761103, 4537.6913248154615, 1430.3869507803533, 1169.1381451100774, 1726.9433265350517, 13503.028479068902, 1611.586639157576, 1002.9671142100113, 9164.11765085572, 1290.9942573344802, 1582.5372742833465, 4539.411496508289, 2275.976761173363, 1416.0543303334118, 1198.5433408933668, 4930.6319889933975, 1927.8199029256316, 6299.220280652155, 1679.3645464660192, 7368.820963368349, 1866.7711768851739, 1852.4096114631157, 1375.369869301765, 2611.811517445111, 1906.0779439224548, 3491.397886165707, 2736.3243518903255, 4975.687968357044, 1514.3072683271037, 2290.8390115644024, 1550.4885115954062, 7274.559216066533, 6760.8854235890185, 10355.152684706509, 10919.02057789878, 12304.851483896713, 7879.900108938148, 5515.356900887937, 6548.077981238139, 8471.345483735471, 7584.741961618137, 11107.066651611707, 7151.577257711906, 12836.287563521728, 9229.83291299426, 8765.742891861033, 9694.212907761103, 5289.7897070423805], \"Category\": [\"Default\", \"Default\", \"Default\", \"Default\", \"Default\", \"Default\", \"Default\", \"Default\", \"Default\", \"Default\", \"Default\", \"Default\", \"Default\", \"Default\", \"Default\", \"Default\", \"Default\", \"Default\", \"Default\", \"Default\", \"Default\", \"Default\", \"Default\", \"Default\", \"Default\", \"Default\", \"Default\", \"Default\", \"Default\", \"Default\", \"Topic1\", \"Topic1\", \"Topic1\", \"Topic1\", \"Topic1\", \"Topic1\", \"Topic1\", \"Topic1\", \"Topic1\", \"Topic1\", \"Topic1\", \"Topic1\", \"Topic1\", \"Topic1\", \"Topic1\", \"Topic1\", \"Topic1\", \"Topic1\", \"Topic1\", \"Topic1\", \"Topic1\", \"Topic1\", \"Topic1\", \"Topic1\", \"Topic1\", \"Topic1\", \"Topic1\", \"Topic1\", \"Topic1\", \"Topic1\", \"Topic1\", \"Topic1\", \"Topic1\", \"Topic1\", \"Topic1\", \"Topic1\", \"Topic1\", \"Topic1\", \"Topic1\", \"Topic1\", \"Topic1\", \"Topic1\", \"Topic1\", \"Topic1\", \"Topic1\", \"Topic1\", \"Topic1\", \"Topic1\", \"Topic1\", \"Topic1\", \"Topic1\", \"Topic1\", \"Topic1\", \"Topic1\", \"Topic1\", \"Topic1\", \"Topic1\", \"Topic2\", \"Topic2\", \"Topic2\", \"Topic2\", \"Topic2\", \"Topic2\", \"Topic2\", \"Topic2\", \"Topic2\", \"Topic2\", \"Topic2\", \"Topic2\", \"Topic2\", \"Topic2\", \"Topic2\", \"Topic2\", \"Topic2\", \"Topic2\", \"Topic2\", \"Topic2\", \"Topic2\", \"Topic2\", \"Topic2\", \"Topic2\", \"Topic2\", \"Topic2\", \"Topic2\", \"Topic2\", \"Topic2\", \"Topic2\", \"Topic2\", \"Topic2\", \"Topic2\", \"Topic2\", \"Topic2\", \"Topic2\", \"Topic2\", \"Topic2\", \"Topic2\", \"Topic2\", \"Topic2\", \"Topic2\", \"Topic2\", \"Topic2\", \"Topic2\", \"Topic2\", \"Topic2\", \"Topic2\", \"Topic2\", \"Topic2\", \"Topic2\", \"Topic2\", \"Topic2\", \"Topic2\", \"Topic2\", \"Topic2\", \"Topic2\", \"Topic2\", \"Topic3\", \"Topic3\", \"Topic3\", \"Topic3\", \"Topic3\", \"Topic3\", \"Topic3\", \"Topic3\", \"Topic3\", \"Topic3\", \"Topic3\", \"Topic3\", \"Topic3\", \"Topic3\", \"Topic3\", \"Topic3\", \"Topic3\", \"Topic3\", \"Topic3\", \"Topic3\", \"Topic3\", \"Topic3\", \"Topic3\", \"Topic3\", \"Topic3\", \"Topic3\", \"Topic3\", \"Topic3\", \"Topic3\", \"Topic3\", \"Topic3\", \"Topic3\", \"Topic3\", \"Topic3\", \"Topic3\", \"Topic3\", \"Topic3\", \"Topic3\", \"Topic3\", \"Topic3\", \"Topic3\", \"Topic3\", \"Topic3\", \"Topic3\", \"Topic3\", \"Topic3\", \"Topic3\", \"Topic3\", \"Topic3\", \"Topic3\", \"Topic3\", \"Topic3\", \"Topic3\", \"Topic3\", \"Topic3\", \"Topic3\", \"Topic3\", \"Topic3\", \"Topic4\", \"Topic4\", \"Topic4\", \"Topic4\", \"Topic4\", \"Topic4\", \"Topic4\", \"Topic4\", \"Topic4\", \"Topic4\", \"Topic4\", \"Topic4\", \"Topic4\", \"Topic4\", \"Topic4\", \"Topic4\", \"Topic4\", \"Topic4\", \"Topic4\", \"Topic4\", \"Topic4\", \"Topic4\", \"Topic4\", \"Topic4\", \"Topic4\", \"Topic4\", \"Topic4\", \"Topic4\", \"Topic4\", \"Topic4\", \"Topic4\", \"Topic4\", \"Topic4\", \"Topic4\", \"Topic4\", \"Topic4\", \"Topic4\", \"Topic4\", \"Topic4\", \"Topic4\", \"Topic4\", \"Topic4\", \"Topic4\", \"Topic4\", \"Topic4\", \"Topic4\", \"Topic4\", \"Topic4\", \"Topic4\", \"Topic4\", \"Topic4\", \"Topic4\", \"Topic4\", \"Topic4\", \"Topic4\", \"Topic4\", \"Topic4\", \"Topic4\", \"Topic4\", \"Topic4\", \"Topic4\", \"Topic4\", \"Topic4\", \"Topic4\", \"Topic5\", \"Topic5\", \"Topic5\", \"Topic5\", \"Topic5\", \"Topic5\", \"Topic5\", \"Topic5\", \"Topic5\", \"Topic5\", \"Topic5\", \"Topic5\", \"Topic5\", \"Topic5\", \"Topic5\", \"Topic5\", \"Topic5\", \"Topic5\", \"Topic5\", \"Topic5\", \"Topic5\", \"Topic5\", \"Topic5\", \"Topic5\", \"Topic5\", \"Topic5\", \"Topic5\", \"Topic5\", \"Topic5\", \"Topic5\", \"Topic5\", \"Topic5\", \"Topic5\", \"Topic5\", \"Topic5\", \"Topic5\", \"Topic5\", \"Topic5\", \"Topic5\", \"Topic5\", \"Topic5\", \"Topic5\", \"Topic5\", \"Topic5\", \"Topic5\", \"Topic5\", \"Topic5\", \"Topic5\", \"Topic5\", \"Topic5\", \"Topic5\", \"Topic5\", \"Topic5\", \"Topic5\", \"Topic5\", \"Topic5\", \"Topic5\", \"Topic6\", \"Topic6\", \"Topic6\", \"Topic6\", \"Topic6\", \"Topic6\", \"Topic6\", \"Topic6\", \"Topic6\", \"Topic6\", \"Topic6\", \"Topic6\", \"Topic6\", \"Topic6\", \"Topic6\", \"Topic6\", \"Topic6\", \"Topic6\", \"Topic6\", \"Topic6\", \"Topic6\", \"Topic6\", \"Topic6\", \"Topic6\", \"Topic6\", \"Topic6\", \"Topic6\", \"Topic6\", \"Topic6\", \"Topic6\", \"Topic6\", \"Topic6\", \"Topic6\", \"Topic6\", \"Topic6\", \"Topic6\", \"Topic6\", \"Topic6\", \"Topic6\", \"Topic6\", \"Topic6\", \"Topic6\", \"Topic6\", \"Topic6\", \"Topic6\", \"Topic6\", \"Topic6\", \"Topic6\", \"Topic6\", \"Topic6\", \"Topic6\", \"Topic6\", \"Topic6\", \"Topic6\", \"Topic7\", \"Topic7\", \"Topic7\", \"Topic7\", \"Topic7\", \"Topic7\", \"Topic7\", \"Topic7\", \"Topic7\", \"Topic7\", \"Topic7\", \"Topic7\", \"Topic7\", \"Topic7\", \"Topic7\", \"Topic7\", \"Topic7\", \"Topic7\", \"Topic7\", \"Topic7\", \"Topic7\", \"Topic7\", \"Topic7\", \"Topic7\", \"Topic7\", \"Topic7\", \"Topic7\", \"Topic7\", \"Topic7\", \"Topic7\", \"Topic7\", \"Topic7\", \"Topic7\", \"Topic7\", \"Topic7\", \"Topic7\", \"Topic7\", \"Topic7\", \"Topic7\", \"Topic7\", \"Topic7\", \"Topic7\", \"Topic7\", \"Topic7\", \"Topic7\", \"Topic7\", \"Topic7\", \"Topic7\", \"Topic7\", \"Topic7\", \"Topic7\", \"Topic8\", \"Topic8\", \"Topic8\", \"Topic8\", \"Topic8\", \"Topic8\", \"Topic8\", \"Topic8\", \"Topic8\", \"Topic8\", \"Topic8\", \"Topic8\", \"Topic8\", \"Topic8\", \"Topic8\", \"Topic8\", \"Topic8\", \"Topic8\", \"Topic8\", \"Topic8\", \"Topic8\", \"Topic8\", \"Topic8\", \"Topic8\", \"Topic8\", \"Topic8\", \"Topic8\", \"Topic8\", \"Topic8\", \"Topic8\", \"Topic8\", \"Topic8\", \"Topic8\", \"Topic8\", \"Topic8\", \"Topic8\", \"Topic8\", \"Topic8\", \"Topic8\", \"Topic8\", \"Topic8\", \"Topic8\", \"Topic8\", \"Topic8\", \"Topic8\", \"Topic8\", \"Topic9\", \"Topic9\", \"Topic9\", \"Topic9\", \"Topic9\", \"Topic9\", \"Topic9\", \"Topic9\", \"Topic9\", \"Topic9\", \"Topic9\", \"Topic9\", \"Topic9\", \"Topic9\", \"Topic9\", \"Topic9\", \"Topic9\", \"Topic9\", \"Topic9\", \"Topic9\", \"Topic9\", \"Topic9\", \"Topic9\", \"Topic9\", \"Topic9\", \"Topic9\", \"Topic9\", \"Topic9\", \"Topic9\", \"Topic9\", \"Topic9\", \"Topic9\", \"Topic9\", \"Topic9\", \"Topic9\", \"Topic9\", \"Topic9\", \"Topic9\", \"Topic9\", \"Topic9\", \"Topic9\", \"Topic9\", \"Topic9\", \"Topic9\", \"Topic9\", \"Topic9\", \"Topic9\", \"Topic9\", \"Topic10\", \"Topic10\", \"Topic10\", \"Topic10\", \"Topic10\", \"Topic10\", \"Topic10\", \"Topic10\", \"Topic10\", \"Topic10\", \"Topic10\", \"Topic10\", \"Topic10\", \"Topic10\", \"Topic10\", \"Topic10\", \"Topic10\", \"Topic10\", \"Topic10\", \"Topic10\", \"Topic10\", \"Topic10\", \"Topic10\", \"Topic10\", \"Topic10\", \"Topic10\", \"Topic10\", \"Topic10\", \"Topic10\", \"Topic10\", \"Topic10\", \"Topic10\", \"Topic10\", \"Topic10\", \"Topic10\", \"Topic10\", \"Topic10\", \"Topic10\", \"Topic10\", \"Topic10\", \"Topic10\", \"Topic10\", \"Topic10\", \"Topic10\", \"Topic10\", \"Topic10\", \"Topic10\"], \"logprob\": [30.0, 29.0, 28.0, 27.0, 26.0, 25.0, 24.0, 23.0, 22.0, 21.0, 20.0, 19.0, 18.0, 17.0, 16.0, 15.0, 14.0, 13.0, 12.0, 11.0, 10.0, 9.0, 8.0, 7.0, 6.0, 5.0, 4.0, 3.0, 2.0, 1.0, -5.6545, -6.4896, -6.0825, -6.6887, -5.1114, -6.7056, -4.636, -5.3602, -4.2798, -6.7553, -4.0714, -6.7629, -5.1371, -6.6518, -6.5692, -6.1581, -6.2041, -6.2307, -6.6226, -6.8365, -6.6613, -5.9112, -6.8408, -6.3148, -6.3319, -6.4212, -4.9493, -6.961, -6.0397, -6.88, -5.309, -5.149, -5.0052, -5.4986, -5.5504, -5.3851, -5.0709, -4.7, -5.6981, -5.4323, -4.8727, -5.3975, -4.8706, -5.0571, -4.9648, -5.5947, -5.2733, -4.6975, -5.1884, -5.3633, -5.3286, -5.3332, -5.0879, -5.2351, -5.3472, -5.2297, -5.347, -5.3605, -6.2438, -5.2685, -6.3557, -5.3755, -6.5882, -6.5041, -6.498, -6.5793, -6.5359, -6.5642, -6.1488, -6.2701, -5.0752, -6.6679, -6.6104, -5.7206, -5.0783, -6.7201, -6.7731, -6.3828, -5.8987, -5.6967, -6.2581, -6.836, -6.5436, -6.8391, -6.5889, -4.6962, -6.8132, -4.4428, -5.1205, -4.6204, -5.6365, -5.3158, -4.9035, -5.1295, -5.3985, -4.9472, -4.7311, -5.0093, -5.297, -4.7964, -5.3078, -4.7221, -5.4007, -4.7929, -5.3807, -5.3749, -5.4351, -4.7866, -5.2551, -5.2205, -5.2997, -5.3716, -5.2917, -5.3453, -5.3688, -5.6577, -5.7618, -5.2885, -5.9272, -6.1394, -4.8232, -5.5885, -5.6263, -5.725, -6.1441, -6.0549, -6.0952, -6.505, -5.7259, -6.2744, -5.67, -6.3866, -5.4099, -6.4475, -6.3925, -6.5623, -5.3748, -5.0358, -6.6323, -5.3745, -6.2288, -5.9411, -4.5649, -6.4925, -6.5768, -5.4524, -5.9629, -5.3467, -4.66, -5.4613, -5.0061, -5.2502, -5.1692, -5.5244, -5.2368, -5.0106, -4.5961, -4.6939, -5.122, -4.9254, -4.9272, -4.8221, -5.0988, -5.1963, -5.0128, -5.1078, -5.1804, -5.2248, -5.0175, -5.1798, -5.2088, -5.2654, -5.3511, -5.495, -5.6248, -6.0899, -5.6143, -5.9304, -5.5874, -5.8654, -5.7294, -6.3385, -6.1374, -6.1552, -5.6938, -5.229, -5.6034, -5.2685, -6.4413, -4.845, -6.5032, -6.1665, -5.0653, -6.4778, -6.4539, -6.3801, -5.9067, -5.8014, -6.2054, -6.2773, -6.5109, -5.8043, -5.0828, -6.1484, -5.2744, -4.9479, -5.4738, -5.19, -5.6132, -5.7191, -4.5791, -5.1735, -5.6489, -4.4795, -5.1639, -5.4395, -5.4967, -5.5958, -5.6462, -5.556, -5.165, -5.2291, -5.3186, -5.2563, -5.2152, -5.1808, -5.224, -5.2118, -5.0735, -5.2906, -5.2095, -5.3203, -5.3263, -5.3717, -5.4212, -5.4343, -5.4698, -4.3801, -5.6706, -4.407, -5.1774, -6.0433, -4.919, -5.3359, -6.033, -6.4104, -6.439, -5.549, -6.4096, -5.6293, -6.4322, -6.245, -6.5391, -6.4867, -3.8583, -6.5791, -5.1599, -6.4358, -6.5777, -6.7209, -6.5354, -6.3785, -6.0955, -6.4012, -6.4893, -6.72, -4.1044, -5.6997, -4.8644, -4.9348, -4.865, -4.9003, -5.6644, -5.8799, -5.5604, -5.2698, -5.1765, -5.1459, -5.2366, -5.0119, -5.5345, -5.2316, -5.4882, -5.113, -5.1101, -5.2437, -5.1738, -5.309, -5.3836, -5.3979, -5.4104, -5.4318, -5.501, -5.5241, -5.5564, -5.2943, -5.4359, -5.3401, -5.5263, -5.1906, -5.496, -5.7245, -5.7475, -6.0938, -5.7698, -5.501, -5.7405, -6.1209, -6.2818, -5.3479, -6.3289, -6.2158, -4.7964, -4.0342, -4.4574, -5.9785, -6.281, -6.5153, -6.4001, -6.0128, -6.2256, -6.4145, -6.2943, -5.8485, -4.8453, -4.4256, -4.6603, -4.6206, -5.1171, -4.687, -4.9611, -5.2317, -4.933, -4.9475, -5.2332, -4.9234, -5.0775, -5.4768, -5.0522, -5.2915, -5.0918, -5.2211, -5.339, -5.2723, -5.1893, -5.1546, -5.3697, -5.3523, -4.7462, -5.0919, -3.301, -4.7375, -5.3473, -2.9105, -4.8026, -5.0232, -5.7923, -4.8452, -4.7492, -6.2551, -5.7809, -5.2635, -6.0837, -5.8342, -4.8434, -5.9345, -4.8083, -5.542, -5.759, -5.9296, -6.2582, -5.7376, -5.8213, -6.3066, -6.2962, -6.4423, -5.7035, -6.2848, -3.8182, -5.6392, -4.9179, -5.4193, -5.2584, -5.0189, -4.5926, -5.2049, -4.9805, -5.1829, -5.2771, -5.0288, -5.3907, -5.4015, -5.2488, -5.2454, -5.2521, -5.298, -5.2926, -5.387, -5.363, -5.2286, -5.1769, -3.8554, -5.3735, -4.8967, -4.6592, -4.2989, -4.0116, -4.4994, -5.1678, -4.9309, -4.3516, -5.3061, -5.1527, -4.4441, -5.3111, -6.2283, -4.8209, -5.3012, -5.793, -6.1606, -6.3958, -6.274, -4.7545, -6.4561, -5.4924, -6.447, -6.391, -6.2479, -6.359, -4.1984, -5.0673, -4.375, -5.0077, -5.7919, -4.8225, -5.0076, -5.0046, -4.8534, -4.9348, -5.1274, -4.9974, -5.0952, -5.087, -5.2194, -5.2412, -5.0838, -5.0989, -5.2532, -5.4328, -4.6351, -5.3157, -5.7101, -5.4936, -5.7734, -5.7084, -5.7262, -4.5258, -4.4318, -4.5603, -5.9883, -5.2085, -4.0724, -4.9633, -5.2129, -5.5964, -5.1205, -6.0999, -5.6496, -5.2045, -5.6855, -5.0738, -4.7353, -5.4194, -5.858, -5.6133, -4.3433, -4.856, -4.5789, -4.0823, -4.5445, -4.2693, -5.2872, -4.5061, -4.8213, -4.3222, -4.7364, -4.6798, -4.7224, -4.8703, -4.7713, -4.958, -5.0614, -5.1826, -3.99, -5.2012, -5.4349, -5.2082, -3.1598, -5.3024, -5.8212, -3.6624, -5.6651, -5.5022, -4.4495, -5.2067, -5.6949, -5.9017, -4.4994, -5.4631, -4.2818, -5.6178, -4.1449, -5.577, -5.5868, -5.9141, -5.3152, -5.6311, -5.0563, -5.3526, -4.8026, -6.044, -5.6624, -6.0585, -4.57, -4.8213, -4.5502, -4.5427, -4.5621, -4.8943, -5.0902, -5.0394, -4.9527, -5.0572, -4.9596, -5.1437, -5.0469, -5.154, -5.1809, -5.1717, -5.2761], \"loglift\": [30.0, 29.0, 28.0, 27.0, 26.0, 25.0, 24.0, 23.0, 22.0, 21.0, 20.0, 19.0, 18.0, 17.0, 16.0, 15.0, 14.0, 13.0, 12.0, 11.0, 10.0, 9.0, 8.0, 7.0, 6.0, 5.0, 4.0, 3.0, 2.0, 1.0, 1.527, 1.3631, 1.2979, 1.2317, 1.1804, 1.1495, 1.12, 1.1003, 1.0814, 1.0369, 0.9976, 0.9959, 0.9932, 0.9856, 0.9835, 0.9746, 0.9699, 0.968, 0.9663, 0.9351, 0.9303, 0.9161, 0.9038, 0.897, 0.8968, 0.8907, 0.8885, 0.8801, 0.8788, 0.876, 0.8753, 0.8639, 0.8614, 0.866, 0.8568, 0.7928, 0.7334, 0.6534, 0.8001, 0.7489, 0.6124, 0.7194, 0.5906, 0.623, 0.5969, 0.7566, 0.6222, 0.3654, 0.5726, 0.6059, 0.5651, 0.4952, 0.2525, 0.386, 0.4579, 0.1479, -0.0573, 1.507, 1.4005, 1.355, 1.3199, 1.2688, 1.2475, 1.2238, 1.2135, 1.213, 1.2066, 1.193, 1.1865, 1.182, 1.1746, 1.1565, 1.1497, 1.1267, 1.0879, 1.0873, 1.0842, 1.0827, 1.0804, 1.0792, 1.0482, 1.0463, 1.0412, 1.0409, 1.0292, 1.0248, 1.0034, 0.9825, 0.9724, 0.9348, 0.9588, 0.9206, 0.8637, 0.8888, 0.902, 0.8088, 0.7343, 0.795, 0.8252, 0.6733, 0.8233, 0.6313, 0.8505, 0.5475, 0.7452, 0.7301, 0.7459, 0.3087, 0.5494, 0.4577, 0.5054, 0.4149, 0.0858, 0.1322, 0.2713, 2.0448, 1.9111, 1.9084, 1.7305, 1.7093, 1.6719, 1.6697, 1.6102, 1.602, 1.4693, 1.4342, 1.4244, 1.3822, 1.3641, 1.3344, 1.3302, 1.3285, 1.3144, 1.2994, 1.2861, 1.2756, 1.2641, 1.2596, 1.2542, 1.235, 1.2331, 1.2276, 1.196, 1.1918, 1.1871, 1.1676, 1.1699, 1.129, 1.0407, 1.1032, 1.0268, 1.047, 1.0151, 1.0577, 0.9554, 0.8622, 0.6937, 0.6673, 0.7849, 0.5443, 0.534, 0.4114, 0.6603, 0.7491, 0.5104, 0.5696, 0.5414, 0.6023, 0.0778, 0.4904, 0.1688, 0.3747, 0.329, 1.7755, 1.6959, 1.6756, 1.6642, 1.658, 1.6531, 1.6071, 1.5888, 1.5806, 1.5678, 1.5664, 1.5255, 1.467, 1.4646, 1.4498, 1.4383, 1.4223, 1.4188, 1.4166, 1.4165, 1.41, 1.4065, 1.3975, 1.3919, 1.3817, 1.3724, 1.3669, 1.365, 1.3644, 1.3638, 1.363, 1.3367, 1.3241, 1.3329, 1.2857, 1.3241, 1.3264, 1.159, 1.206, 1.2858, 0.9032, 1.0859, 1.1805, 1.192, 1.2487, 1.2523, 1.1397, 0.722, 0.7539, 0.8497, 0.6672, 0.5962, 0.5376, 0.5625, 0.4665, 0.0219, 0.5139, 0.2158, 0.1572, 0.1349, 0.3874, 0.5243, 0.0355, 0.4556, 2.1396, 2.0553, 1.8812, 1.8753, 1.6832, 1.6252, 1.5936, 1.5907, 1.4768, 1.4251, 1.4185, 1.3783, 1.3527, 1.3136, 1.2996, 1.2742, 1.2401, 1.2371, 1.2204, 1.2199, 1.2038, 1.1972, 1.1933, 1.1867, 1.1861, 1.1824, 1.1758, 1.1684, 1.1499, 1.1291, 1.1112, 1.0084, 0.8923, 0.8053, 0.7951, 0.9773, 1.0331, 0.9406, 0.8351, 0.7894, 0.761, 0.7822, 0.6888, 0.898, 0.5275, 0.7085, 0.4102, 0.375, 0.3964, 0.2874, 0.464, 0.5033, 0.3631, 0.3106, 0.2263, 0.3304, 0.2804, 2.3631, 2.3484, 2.2603, 2.2486, 2.2269, 2.0068, 1.9828, 1.9133, 1.755, 1.7542, 1.7523, 1.7144, 1.6725, 1.618, 1.6139, 1.5666, 1.5589, 1.5583, 1.471, 1.4679, 1.4679, 1.4066, 1.3831, 1.352, 1.3478, 1.3339, 1.3072, 1.2744, 1.2743, 1.267, 1.11, 1.0546, 1.0404, 0.9026, 0.9472, 0.7827, 0.8502, 0.9362, 0.7252, 0.6142, 0.8066, 0.542, 0.6179, 0.9809, 0.4253, 0.7273, 0.2909, 0.4571, 0.6738, 0.4488, 0.1511, -0.0592, 0.3487, 0.0252, 2.5491, 2.5296, 2.4072, 2.3078, 2.2969, 2.1524, 1.9382, 1.8415, 1.7765, 1.7673, 1.7114, 1.6653, 1.6648, 1.6537, 1.6412, 1.59, 1.5462, 1.4892, 1.4835, 1.4558, 1.4423, 1.4273, 1.3792, 1.3741, 1.3692, 1.3197, 1.2817, 1.2794, 1.2774, 1.2678, 1.2508, 1.2307, 1.095, 1.1607, 1.0896, 0.9503, 0.7478, 1.0014, 0.5047, 0.6485, 0.6683, 0.2048, 0.7781, 0.7665, 0.4696, 0.4499, 0.428, 0.2637, 0.1849, 0.6313, -0.0018, 2.57, 2.3972, 2.3834, 2.3828, 2.3578, 2.3355, 2.2304, 2.1674, 2.134, 2.079, 1.9953, 1.94, 1.9074, 1.8172, 1.8164, 1.7105, 1.6534, 1.6299, 1.5934, 1.519, 1.3575, 1.3487, 1.3387, 1.3374, 1.2496, 1.21, 1.1953, 1.1612, 1.1267, 1.1095, 1.0352, 1.0531, 1.0026, 0.9615, 1.0877, 0.7986, 0.7653, 0.7626, 0.5293, 0.5427, 0.6996, 0.4681, 0.3301, 0.0084, 0.696, 0.4772, 2.6766, 2.6765, 2.4452, 2.445, 2.263, 2.2438, 2.1788, 2.1615, 2.0914, 2.0656, 1.9959, 1.9878, 1.9749, 1.8904, 1.8497, 1.838, 1.8213, 1.811, 1.8042, 1.7821, 1.7364, 1.7188, 1.7073, 1.672, 1.6696, 1.6404, 1.6128, 1.598, 1.5978, 1.5772, 1.565, 1.5527, 1.5066, 1.4199, 1.3496, 1.156, 1.524, 0.9741, 1.1602, 0.7468, 0.9855, 0.6977, 0.7551, 0.9162, 0.6114, 0.9673, 0.279, 0.4386, 2.3903, 2.3335, 2.3015, 2.1381, 2.13, 2.1131, 2.0685, 2.015, 1.9722, 1.9315, 1.9304, 1.8636, 1.8499, 1.8099, 1.7978, 1.7732, 1.7705, 1.7564, 1.7506, 1.6915, 1.6894, 1.6599, 1.6174, 1.6165, 1.5861, 1.5335, 1.4855, 1.4337, 1.4014, 1.3957, 1.3383, 1.1602, 1.005, 0.9595, 0.8206, 0.934, 1.095, 0.9741, 0.8033, 0.8094, 0.5255, 0.7817, 0.2935, 0.5163, 0.5409, 0.4494, 0.9508]}, \"token.table\": {\"Topic\": [1, 2, 7, 8, 9, 10, 1, 2, 7, 9, 1, 2, 3, 4, 5, 6, 7, 8, 9, 10, 1, 2, 3, 5, 6, 7, 9, 10, 1, 2, 3, 4, 5, 6, 7, 8, 9, 10, 1, 2, 3, 4, 5, 6, 7, 8, 9, 10, 1, 3, 4, 5, 6, 7, 8, 1, 8, 9, 10, 1, 2, 5, 7, 8, 9, 10, 1, 2, 3, 4, 5, 6, 7, 8, 9, 10, 1, 2, 3, 6, 7, 8, 9, 10, 1, 2, 3, 4, 5, 6, 7, 8, 9, 10, 1, 4, 5, 7, 8, 9, 10, 1, 2, 3, 4, 5, 6, 7, 8, 9, 10, 1, 2, 3, 4, 5, 6, 7, 8, 9, 10, 1, 2, 3, 4, 7, 8, 9, 10, 1, 2, 4, 5, 6, 7, 8, 9, 10, 2, 4, 8, 9, 10, 1, 2, 3, 5, 6, 7, 9, 10, 1, 2, 4, 5, 7, 9, 10, 1, 2, 3, 4, 6, 7, 8, 9, 10, 1, 2, 7, 8, 9, 10, 1, 2, 4, 5, 8, 10, 1, 2, 3, 4, 5, 6, 7, 8, 9, 10, 1, 2, 3, 4, 5, 9, 10, 1, 2, 3, 4, 5, 6, 7, 8, 9, 10, 1, 2, 4, 5, 6, 8, 9, 10, 1, 2, 3, 4, 5, 6, 7, 8, 9, 10, 1, 3, 5, 7, 10, 1, 2, 3, 4, 5, 6, 7, 8, 9, 10, 1, 2, 3, 4, 5, 6, 7, 8, 9, 10, 1, 3, 4, 5, 7, 9, 10, 3, 5, 6, 3, 6, 2, 3, 4, 5, 6, 7, 8, 9, 10, 3, 5, 6, 7, 9, 1, 3, 4, 9, 1, 2, 3, 4, 5, 6, 7, 8, 9, 1, 3, 4, 5, 6, 7, 10, 1, 2, 3, 4, 5, 6, 7, 9, 10, 2, 3, 4, 5, 6, 7, 8, 9, 10, 7, 9, 1, 2, 3, 4, 5, 6, 7, 8, 1, 2, 3, 4, 5, 6, 7, 8, 9, 10, 1, 3, 4, 5, 8, 10, 3, 4, 5, 6, 7, 8, 9, 10, 2, 3, 4, 5, 6, 7, 8, 9, 2, 4, 6, 8, 9, 10, 1, 2, 4, 7, 9, 10, 1, 2, 4, 7, 8, 9, 10, 1, 2, 3, 4, 5, 6, 7, 8, 9, 10, 1, 2, 3, 5, 6, 7, 8, 9, 10, 1, 2, 3, 4, 5, 6, 7, 8, 9, 10, 1, 2, 3, 5, 6, 7, 8, 9, 10, 1, 2, 3, 5, 6, 7, 8, 9, 10, 1, 2, 3, 4, 5, 6, 7, 8, 9, 10, 1, 2, 3, 4, 5, 6, 7, 8, 10, 2, 4, 6, 7, 8, 9, 10, 1, 2, 3, 4, 6, 9, 10, 1, 2, 3, 5, 6, 7, 8, 9, 10, 2, 4, 5, 6, 7, 9, 10, 1, 2, 3, 4, 5, 6, 7, 8, 9, 10, 1, 2, 3, 4, 5, 6, 7, 8, 9, 10, 1, 2, 3, 4, 5, 6, 7, 8, 9, 10, 1, 2, 3, 4, 5, 6, 7, 8, 9, 10, 1, 2, 3, 4, 5, 6, 7, 8, 9, 1, 2, 3, 4, 5, 6, 7, 10, 1, 2, 3, 4, 5, 10, 1, 2, 3, 4, 5, 6, 7, 8, 9, 10, 1, 2, 3, 4, 5, 6, 7, 8, 9, 10, 1, 2, 3, 4, 5, 6, 8, 9, 10, 1, 2, 3, 4, 5, 6, 7, 8, 9, 10, 3, 4, 5, 6, 7, 8, 9, 1, 2, 3, 4, 5, 6, 7, 8, 10, 1, 2, 3, 4, 5, 6, 7, 8, 9, 1, 2, 5, 7, 8, 9, 10, 1, 2, 3, 4, 5, 6, 7, 8, 9, 10, 1, 2, 3, 4, 5, 6, 7, 8, 9, 10, 1, 2, 3, 4, 5, 6, 7, 8, 9, 10, 1, 2, 4, 5, 6, 7, 8, 9, 1, 2, 3, 4, 6, 7, 10, 1, 2, 3, 4, 5, 7, 9, 10, 1, 2, 3, 4, 5, 6, 7, 8, 10, 1, 2, 3, 6, 7, 9, 10, 1, 3, 4, 5, 6, 7, 8, 10, 2, 3, 4, 5, 6, 9, 2, 3, 4, 5, 6, 7, 9, 10, 1, 2, 4, 6, 7, 8, 9, 10, 1, 2, 8, 9, 10, 1, 2, 4, 6, 7, 8, 9, 10, 1, 2, 3, 4, 5, 6, 7, 8, 9, 10, 1, 2, 3, 4, 6, 7, 8, 9, 10, 1, 2, 3, 4, 6, 7, 8, 9, 10, 1, 2, 9, 10, 1, 2, 3, 4, 5, 6, 7, 8, 9, 10, 1, 3, 4, 5, 6, 8, 10, 1, 2, 3, 5, 7, 10, 1, 2, 3, 4, 5, 6, 8, 9, 10, 1, 2, 3, 4, 5, 6, 7, 8, 9, 1, 2, 3, 4, 5, 6, 7, 8, 9, 10, 1, 2, 4, 7, 8, 9, 1, 3, 4, 5, 6, 3, 4, 5, 6, 1, 3, 4, 5, 6, 9, 10, 1, 3, 4, 5, 6, 7, 10, 1, 2, 3, 4, 5, 6, 7, 8, 9, 10, 3, 4, 5, 6, 7, 8, 9, 2, 3, 4, 6, 7, 9, 10, 1, 2, 3, 4, 5, 6, 7, 8, 9, 10, 1, 3, 4, 5, 6, 7, 9, 1, 2, 3, 4, 5, 6, 7, 8, 10, 1, 2, 3, 4, 5, 6, 7, 8, 9, 10, 1, 2, 3, 4, 5, 6, 7, 8, 9, 10, 1, 3, 4, 5, 6, 7, 8, 10, 1, 2, 3, 4, 5, 6, 7, 10, 3, 4, 5, 6, 7, 8, 1, 2, 3, 4, 5, 6, 7, 8, 9, 10, 3, 4, 5, 6, 8, 2, 4, 5, 10, 2, 3, 4, 5, 8, 10, 1, 2, 3, 4, 5, 6, 7, 8, 9, 10, 1, 2, 3, 4, 5, 6, 8, 10, 1, 2, 3, 4, 5, 6, 7, 8, 9, 10, 1, 2, 3, 4, 5, 6, 8, 10, 3, 5, 6, 1, 2, 3, 4, 5, 6, 7, 8, 10, 1, 3, 4, 5, 6, 7, 10, 1, 2, 3, 4, 6, 7, 8, 9, 1, 2, 3, 4, 5, 6, 7, 8, 9, 10, 1, 2, 4, 5, 6, 7, 8, 9, 10, 1, 2, 3, 4, 5, 6, 7, 8, 9, 10, 2, 3, 4, 5, 9, 10, 1, 2, 3, 4, 5, 6, 7, 8, 9, 10, 1, 2, 4, 5, 6, 7, 8, 9, 10, 1, 2, 3, 4, 5, 6, 7, 8, 9, 10, 1, 2, 3, 5, 6, 7, 8, 10, 1, 2, 3, 4, 5, 6, 7, 9, 10, 3, 4, 6, 1, 2, 3, 4, 5, 6, 7, 9, 10, 1, 2, 3, 4, 6, 7, 8, 9, 1, 2, 3, 4, 5, 6, 7, 8, 9, 10, 1, 2, 3, 4, 6, 7, 10, 2, 3, 4, 5, 6, 7, 8, 9, 10, 3, 6, 9, 1, 4, 5, 7, 8, 9, 10, 3, 4, 6, 1, 2, 3, 4, 6, 7, 8, 9, 1, 2, 3, 4, 6, 7, 8, 9, 10, 3, 5, 6, 1, 2, 3, 4, 5, 6, 7, 8, 9, 10, 1, 2, 3, 4, 5, 6, 7, 8, 9, 10, 1, 3, 4, 5, 6, 8, 9, 10, 1, 2, 3, 4, 5, 6, 7, 8, 9, 10, 1, 2, 3, 5, 6, 7, 8, 9, 10, 1, 2, 3, 4, 5, 6, 8, 10, 1, 2, 3, 4, 5, 6, 7, 8, 9, 10, 1, 2, 3, 4, 5, 6, 7, 8, 9, 1, 2, 4, 5, 6, 7, 8, 9, 10, 1, 2, 3, 4, 5, 6, 7, 8, 9, 10, 1, 3, 9, 10, 1, 3, 4, 8, 9, 1, 2, 3, 4, 5, 6, 7, 9, 10, 1, 2, 3, 4, 5, 6, 7, 10, 1, 2, 3, 4, 5, 7, 8, 9, 10, 1, 2, 3, 4, 7, 8, 1, 2, 3, 4, 5, 6, 9, 10, 1, 2, 3, 4, 5, 6, 7, 8, 1, 2, 7, 8, 9, 10, 1, 3, 4, 6, 7, 1, 2, 7, 8, 9, 10, 1, 2, 4, 5, 7, 8, 9, 10, 5, 8, 6, 7, 8, 9, 1, 3, 4, 9, 1, 2, 3, 4, 8, 9, 1, 2, 4, 6, 7, 8, 9, 10, 1, 6, 7, 8, 9, 10, 1, 3, 4, 5, 6, 8, 10, 3, 4, 6, 9, 10, 1, 2, 3, 4, 5, 6, 7, 8, 9, 10, 1, 9, 10, 1, 2, 3, 4, 5, 6, 7, 8, 9, 10, 1, 2, 3, 4, 5, 6, 7, 10, 1, 2, 4, 5, 6, 7, 8, 9, 10, 1, 2, 3, 4, 6, 7, 8, 9, 1, 2, 3, 4, 5, 6, 7, 8, 9, 10, 1, 2, 3, 4, 7, 9, 10, 1, 2, 3, 7, 9, 10, 3, 4, 5, 7, 8, 1, 3, 4, 6, 7, 8, 9, 2, 3, 4, 9, 1, 2, 3, 4, 5, 6, 8, 9, 1, 2, 8, 9, 1, 2, 8, 9, 10, 1, 2, 3, 4, 5, 6, 7, 8, 9, 10, 1, 3, 4, 5, 7, 8, 9, 10, 1, 2, 4, 6, 7, 8, 9, 10, 6, 7, 1, 2, 3, 4, 5, 6, 7, 8, 9, 10, 1, 2, 3, 4, 5, 6, 7, 8, 9, 10, 1, 2, 3, 4, 5, 6, 7, 8, 9, 10, 1, 2, 3, 4, 5, 6, 7, 8, 9, 10, 1, 2, 3, 4, 5, 6, 7, 8, 9, 10, 1, 2, 3, 4, 5, 6, 7, 8, 9, 10, 1, 2, 3, 4, 5, 6, 7, 8, 9, 10, 1, 2, 4, 6, 7, 8, 9, 10, 1, 3, 4, 5, 6, 7, 1, 2, 3, 4, 5, 6, 7, 9, 1, 2, 4, 6, 7, 8, 9, 10, 1, 3, 4, 5, 6, 7, 8, 10, 1, 2, 3, 4, 5, 6, 7, 8, 9, 10, 1, 2, 3, 4, 5, 6, 7, 8, 9, 10, 1, 2, 3, 4, 5, 6, 7, 8, 9, 10, 1, 2, 3, 4, 5, 6, 7, 8, 9, 10, 1, 3, 4, 5, 6, 7, 8, 9, 10, 1, 2, 3, 4, 5, 6, 7, 9, 1, 2, 3, 4, 5, 6, 7, 8, 9, 10, 1, 2, 3, 4, 5, 6, 7, 8, 9, 10, 3, 4, 6, 1, 3, 4, 5, 7, 8, 9, 10, 1, 2, 3, 4, 5, 6, 7, 8, 9, 10, 1, 2, 3, 4, 5, 6, 8, 9, 10, 9, 1, 2, 5, 7, 9, 10, 1, 2, 7, 9, 1, 2, 3, 4, 6, 8, 9, 10, 1, 2, 3, 4, 5, 6, 7, 8, 9, 10, 1, 2, 3, 4, 5, 6, 7, 8, 9, 10, 1, 2, 3, 4, 5, 6, 7, 8, 10, 1, 2, 3, 4, 5, 6, 7, 9, 1, 2, 3, 4, 5, 6, 7, 8, 9, 10, 1, 2, 3, 5, 6, 7, 8, 9, 10, 4, 6, 9, 10, 1, 2, 3, 4, 5, 6, 7, 8, 9, 10, 1, 2, 3, 4, 5, 7, 8, 9, 10, 1, 2, 3, 4, 5, 6, 7, 8, 9, 10, 7, 9, 1, 2, 5, 7, 8, 9, 1, 2, 5, 7, 8, 9, 10, 1, 3, 9, 10, 1, 3, 4, 5, 6, 7, 8, 9, 10, 1, 2, 4, 5, 7, 8, 9, 10, 1, 2, 3, 4, 5, 6, 7, 8, 9, 1, 2, 3, 4, 5, 6, 7, 8, 9, 10, 1, 2, 3, 4, 5, 6, 7, 8, 9, 1, 2, 3, 4, 5, 6, 7, 8, 9, 10, 1, 3, 4, 9, 10, 1, 5, 8, 9, 10, 1, 2, 3, 6, 7, 8, 9, 10, 1, 2, 3, 7, 8, 9, 10, 1, 2, 3, 4, 5, 6, 7, 8, 9, 10, 1, 2, 3, 5, 6, 7, 8, 9, 10, 2, 3, 4, 5, 6, 7, 8, 9, 10, 1, 2, 3, 4, 5, 6, 7, 8, 9, 10, 1, 2, 3, 4, 6, 7, 8, 9, 10, 3, 5, 6, 9, 10, 1, 2, 3, 4, 5, 6, 7, 8, 9, 1, 2, 3, 4, 5, 6, 7, 8, 9, 10, 1, 2, 3, 4, 5, 6, 7, 8, 9, 1, 2, 3, 4, 5, 6, 7, 8, 9, 10, 1, 2, 3, 4, 6, 7, 8, 9, 1, 2, 3, 4, 5, 6, 7, 8, 9, 10, 3, 4, 5, 6, 8, 9, 10, 1, 2, 3, 4, 6, 7, 1, 2, 3, 4, 5, 6, 7, 8, 9, 10, 1, 2, 3, 4, 7, 9, 10, 1, 2, 3, 4, 5, 7, 8, 9, 10, 1, 2, 3, 4, 5, 6, 7, 8, 10, 1, 2, 3, 4, 5, 6, 8, 9, 10, 1, 2, 4, 5, 6, 7, 8, 9, 1, 2, 3, 4, 5, 6, 7, 8, 9, 10, 1, 2, 3, 4, 5, 6, 7, 8, 9, 10, 1, 7, 9, 1, 2, 4, 6, 7, 8, 9, 10, 1, 3, 4, 5, 6, 7, 10, 1, 2, 4, 7, 8, 1, 2, 3, 4, 5, 6, 8, 9, 10, 1, 2, 3, 4, 5, 6, 7, 8, 9, 10, 1, 2, 3, 4, 5, 6, 7, 8, 9, 10, 1, 2, 3, 4, 5, 6, 7, 8, 9, 10, 1, 2, 3, 4, 5, 6, 7, 9, 10, 1, 2, 3, 4, 5, 6, 7, 9, 10, 1, 2, 3, 4, 5, 6, 7, 8, 9, 10, 1, 2, 3, 5, 6, 7, 8, 10, 1, 2, 3, 4, 5, 6, 8, 9, 10, 1, 2, 3, 4, 5, 6, 7, 8, 9, 10, 1, 2, 3, 4, 5, 6, 7, 8, 10, 2, 3, 4, 5, 6, 7, 8, 9, 10, 1, 2, 3, 5, 6, 7, 8, 9, 10, 1, 2, 4, 7, 8, 9, 10, 1, 7, 8, 9, 10, 1, 2, 3, 4, 5, 7, 10, 1, 2, 3, 4, 7, 8, 1, 2, 3, 4, 5, 6, 7, 8, 9, 10, 1, 2, 3, 4, 5, 6, 7, 8, 9, 10, 2, 3, 4, 5, 6, 7, 8, 9, 1, 2, 3, 4, 6, 7, 9, 1, 2, 3, 4, 5, 6, 7, 10, 1, 2, 3, 4, 5, 6, 7, 8, 9, 3, 4, 5, 6, 7, 8, 1, 3, 4, 5, 6, 7, 8, 9, 1, 3, 4, 5, 7, 8, 9, 10, 1, 2, 3, 4, 5, 6, 7, 8, 9, 10, 1, 2, 3, 4, 5, 6, 7, 8, 9, 10, 1, 2, 3, 4, 5, 6, 7, 8, 9, 10, 1, 2, 3, 4, 5, 6, 7, 8, 9, 10, 2, 3, 5, 6, 7, 8, 9, 10, 1, 2, 3, 4, 5, 6, 7, 8, 9, 10, 1, 2, 3, 5, 6, 7, 8, 9, 1, 2, 3, 4, 5, 6, 7, 8, 9, 10, 1, 2, 3, 4, 5, 6, 7, 8, 9, 10, 1, 2, 3, 5, 6, 7, 8, 9, 1, 2, 4, 5, 6, 7, 8, 9, 10, 1, 2, 7, 9, 10, 1, 2, 3, 5, 6, 7, 8, 10, 1, 2, 3, 4, 6, 7, 8, 9, 10, 1, 2, 3, 4, 5, 6, 7, 8, 9, 10, 1, 2, 3, 4, 5, 6, 7, 8, 9, 10, 1, 2, 3, 4, 5, 6, 7, 8, 9, 10, 3, 6, 1, 2, 4, 5, 7, 8, 9, 1, 2, 3, 4, 5, 6, 7, 8, 9, 10, 1, 3, 4, 5, 6, 7, 8, 9, 10, 1, 2, 3, 5, 6, 7, 8, 9, 10, 1, 2, 3, 4, 5, 6, 7, 8, 9, 10, 1, 2, 3, 4, 5, 6, 8, 9, 10, 1, 2, 3, 4, 5, 6, 7, 8, 9, 10, 1, 2, 3, 5, 6, 7, 8, 9, 10, 1, 2, 4, 5, 6, 7, 8, 9, 10, 2, 3, 4, 5, 6, 7, 8, 9, 10, 1, 2, 3, 4, 5, 6, 7, 8, 9, 10, 1, 2, 3, 4, 5, 6, 7, 8, 9, 10, 1, 3, 4, 6, 8, 9, 10, 1, 2, 3, 4, 5, 6, 7, 8, 9, 10, 4, 6, 9, 10, 1, 2, 3, 4, 5, 6, 7, 8, 2, 4, 6, 7, 8, 9, 1, 2, 4, 5, 6, 7, 8, 9, 10, 1, 2, 3, 4, 5, 6, 7, 8, 10, 3, 5, 6, 7, 8, 1, 2, 3, 4, 5, 6, 7, 8, 9, 10, 1, 2, 3, 4, 5, 7, 8, 9, 10, 1, 2, 3, 4, 5, 6, 7, 8, 9, 10, 1, 4, 5, 8, 9, 10, 1, 2, 4, 5, 10, 1, 2, 3, 4, 5, 6, 7, 8, 9, 1, 2, 3, 4, 5, 6, 7, 8, 9, 10, 1, 3, 4, 5, 6, 7, 8, 10, 1, 2, 3, 4, 5, 6, 7, 8, 9, 10, 1, 2, 3, 4, 5, 8, 9, 10, 1, 2, 3, 4, 6, 7, 2, 3, 4, 5, 6, 7, 1, 2, 4, 6, 7, 8, 9, 10, 1, 2, 3, 4, 5, 6, 7, 10, 1, 4, 7, 8, 9, 10, 3, 5, 6, 1, 2, 3, 4, 5, 6, 7, 9, 1, 2, 3, 4, 5, 6, 8, 9, 10, 1, 2, 3, 4, 5, 6, 7, 8, 9, 10, 1, 2, 3, 4, 5, 6, 8, 9, 10, 1, 2, 3, 4, 5, 6, 7, 8, 9, 10, 1, 2, 3, 4, 5, 7, 8, 9, 10, 1, 2, 4, 5, 6, 7, 8, 9, 10, 1, 2, 3, 4, 5, 7, 8, 9, 10, 1, 3, 4, 5, 8, 10, 1, 2, 3, 4, 5, 9, 10, 1, 2, 7, 8, 9, 10, 1, 2, 3, 4, 5, 6, 7, 8, 9, 10, 1, 2, 3, 4, 5, 6, 7, 8, 9, 10, 1, 2, 3, 4, 5, 6, 7, 10, 1, 3, 4, 5, 6, 1, 3, 4, 5, 6, 7, 10, 1, 2, 3, 4, 5, 8, 9, 10, 1, 2, 3, 4, 5, 6, 7, 8, 9, 1, 2, 5, 7, 8, 9, 10, 1, 2, 3, 4, 5, 6, 7, 8, 9, 10, 3, 4, 5, 6, 7, 8, 9, 10, 2, 3, 4, 5, 6, 7, 8, 9, 10, 1, 3, 4, 6, 7, 8, 9, 10, 1, 2, 3, 4, 5, 6, 7, 8, 9, 10, 9, 1, 2, 4, 5, 6, 7, 8, 9, 1, 2, 3, 4, 5, 6, 8, 9, 1, 3, 4, 5, 6, 7, 8, 9, 10, 1, 3, 4, 5, 6, 7, 8, 9, 10, 1, 2, 3, 4, 5, 6, 7, 8, 9, 10, 1, 3, 9, 10, 1, 2, 3, 4, 5, 7, 8, 9, 10, 1, 2, 4, 5, 7, 8, 9, 10, 1, 2, 5, 7, 8, 9, 10, 1, 2, 3, 4, 5, 6, 7, 8, 9, 10, 1, 2, 3, 4, 5, 6, 7, 8, 9, 10, 1, 2, 3, 4, 5, 6, 7, 8, 9, 10, 3, 5, 6, 1, 2, 3, 6, 8, 9, 10], \"Freq\": [0.3850501784921737, 0.019928659884992355, 0.27686602483078665, 0.17651098755278943, 0.13238324066459206, 0.008540854236425295, 0.49347492924632336, 0.013364946000421258, 0.41225718047453264, 0.08018967600252755, 0.17514541203134176, 0.21422218637263676, 0.19385644078759703, 0.079426407781655, 0.1332683476721038, 0.011583017801491353, 0.1491790864104161, 0.02176589059401122, 0.0017820027386909773, 0.01972931603550725, 0.043215063474898306, 0.16925899861001836, 0.31186870807718275, 0.3140294612509277, 0.011524016926639548, 0.0381733060694935, 0.007202510579149717, 0.1044364033976709, 0.0686895206247222, 0.14682385033534368, 0.2922166689910056, 0.003720682367172452, 0.25472363898334477, 0.08271363108560296, 0.0054379203827905065, 0.002575857023427082, 0.06496883825754973, 0.07870674238249417, 0.04084058559635065, 0.10835257403113437, 0.03083880953193824, 0.07334635780569096, 0.06792872910413424, 0.01833658945142274, 0.0891825032410106, 0.21212100069941303, 0.33964364552067117, 0.019170070790123773, 0.1594844313912353, 0.4125081187304092, 0.15761364627227653, 0.11785946249440263, 0.07389601219887149, 0.05565585728902346, 0.022917117707244954, 0.19983393574108013, 0.16779305152943014, 0.5059086980786839, 0.1256339933562065, 0.2762213838014926, 0.0065467237728703805, 0.012338056341178794, 0.012086259272991472, 0.0868699885246262, 0.5018315568973334, 0.10399218916136412, 0.20765719790991333, 0.003423569493682482, 0.02113168756445394, 0.018770605155017748, 0.009798491999160207, 0.01505190036015574, 0.6709015666412947, 0.008322815493262586, 0.023492769973890135, 0.021485849925869372, 0.04715394903976152, 0.010466150980185732, 0.013392171684323677, 0.014179946489283893, 0.8656519713934263, 0.005289345119018595, 0.024758636727321082, 0.019019134576896652, 0.09257057671121786, 0.011086296612121899, 0.4401259755012394, 0.026329954453789512, 0.14467617078819078, 0.21036247821501305, 0.01773807457939504, 0.0030487315683335224, 0.02771574153030475, 0.026607111869092558, 0.0033105121278201558, 0.046110704637495024, 0.03641563340602171, 0.04871182130935372, 0.3856746628910481, 0.4551954175752714, 0.024592375806664013, 0.1254090248115607, 0.03540254767407694, 0.12600906799247724, 0.3711267073968913, 0.13410965093485078, 0.023101662465287495, 0.097807038489399, 0.012000863618331166, 0.029402115864911357, 0.04530326015920015, 0.17980423642388055, 0.06861162551652994, 0.05559630545367531, 0.07134323590009202, 0.12983183470106835, 0.23443644409512218, 0.0321365927477892, 0.07921670112330037, 0.005463220767124163, 0.14332920365513982, 0.27967281916931236, 0.05785110345761156, 0.02626369114026537, 0.006033550667358261, 0.11037848573814231, 0.06069042141872133, 0.39040621965259337, 0.06885346055691192, 0.05880103625931842, 0.44526311009523356, 0.33385062034073554, 0.00038684892275867385, 0.005802733841380107, 0.006189582764138782, 0.009671223068966846, 0.09961359761035851, 0.04023228796690208, 0.4890121521158158, 0.32887789103563664, 0.0022958317000742524, 0.1449243760671872, 0.034437475501113785, 0.01071236467344023, 0.006855913391001747, 0.011140859260377839, 0.03128010484644547, 0.038564512824384826, 0.7837165995088873, 0.08141397151814575, 0.035993545302759174, 0.43318075042857335, 0.013850321678532115, 0.033431810948180964, 0.0011939932481493203, 0.4317479585307942, 0.0570728772615375, 0.029849831203733003, 0.15529490594351789, 0.1736850921736713, 0.03759771407053591, 0.012260124153435623, 0.18553654552199242, 0.334292718583678, 0.02697227313755837, 0.015529490594351788, 0.05925726674160551, 0.024870316496979746, 0.00019131012689984419, 0.05012325324775918, 0.8195725836389325, 0.0692542659377436, 0.03577499373027086, 0.277177582456397, 0.09272487470663641, 0.02293195826078105, 0.05683137482019651, 0.006979291644585537, 0.5423906649506475, 0.24098220610929996, 0.06873866616951704, 0.05841992875376968, 0.07492990861896547, 0.06238867391367252, 0.003651245547110605, 0.017303728897176348, 0.009366238577370683, 0.061436175075295835, 0.4027482588269394, 0.0787596114564874, 0.005228853872629869, 0.2666715475041233, 0.03562156700729098, 0.025817465996109977, 0.42059593337966505, 0.1673233239241558, 0.18124570588017025, 0.007128641332553402, 0.20013660541143677, 0.04669260072822479, 0.09320698542313574, 0.2318590593412994, 0.1677012873483188, 0.01514836283167598, 0.040276823528926725, 0.016395875064872827, 0.11021330222436196, 0.43711716475424917, 0.11861940154655906, 0.06538077250597743, 0.01214214346539581, 0.07752291597137324, 0.14383769951315037, 0.03455840832458807, 0.09123759979936252, 0.3922104137716499, 0.07788575592628509, 0.1440886484636274, 0.07343514130192594, 0.04339349258750169, 0.008344902420673402, 0.07677310227019529, 0.016689804841346804, 0.0762167754421504, 0.06335317765622818, 0.5323044166115695, 0.1549398366592537, 0.002754485985053399, 0.2472151171585426, 0.07418322442505605, 0.3219125822309221, 0.06875990775690574, 0.07302108513902385, 0.10304301669485594, 0.1032367065758613, 0.0011621392860322098, 0.1534023857562517, 0.03873797620107366, 0.06256183156473397, 0.12363440443186607, 0.212484817402779, 0.09187510788056102, 0.01758103916232958, 0.11626171058959882, 0.08336815344717574, 0.004537042364472149, 0.11815214490812889, 0.0546335518055188, 0.17751178250997285, 0.09781088738908725, 0.08467211147115015, 0.44452858522353833, 0.01751836789058279, 0.28102381824476563, 0.02189795986322849, 0.05255510367174837, 0.07536003130869562, 0.26376010958043467, 0.6603918533104116, 0.12735149261753245, 0.8717415075303351, 0.08785473561039886, 0.20199080238630165, 0.08259846937729808, 0.26919592065237596, 0.12952941788712652, 0.015393351111223731, 0.039797444336334524, 0.004505371056943531, 0.1689514146353824, 0.12116916562401803, 0.22270757257151916, 0.5259689479880558, 0.0006769227129833409, 0.1292922381798181, 0.06824007436237792, 0.28442046260960563, 0.5886357559502827, 0.058342658996842184, 0.12873945948713647, 0.1747178378753995, 0.028608768774919215, 0.23704408413504494, 0.3157181982660728, 0.06743495496945244, 0.014304384387459608, 0.010217417419614006, 0.023500060065112214, 0.15392350708786576, 0.12321280735639253, 0.394428986912656, 0.022200505829980635, 0.12469284107839124, 0.15059343121336866, 0.030710699731473213, 0.06546933691696484, 0.40829382669683234, 0.002490681295754097, 0.21419859143485234, 0.07418672145210417, 0.08130295372568731, 0.0040918335573103025, 0.04145205299362176, 0.1085225421721428, 0.008962067388242581, 0.411414906041511, 0.3668846337061807, 0.05825343802357678, 0.08345925255300904, 0.020164651623545807, 0.011482648841185807, 0.028286525194140648, 0.010922519629420646, 0.9782724928601961, 0.02134967248642673, 0.007460890187709687, 0.02424789311005648, 0.4765643607399562, 0.06372843702002023, 0.16662654752551634, 0.1370938571991655, 0.07336542017914525, 0.05067187919152829, 0.16448681790307904, 0.1897001257568357, 0.09485006287841785, 0.04946610874165589, 0.15236041745912943, 0.029055335717186225, 0.04994636222458459, 0.16244574060063208, 0.07227814918076904, 0.035178567624527125, 0.052122546786506796, 0.15140358828461498, 0.0006205065093631761, 0.1718803030935998, 0.05646609235204903, 0.567142949557943, 0.23925254588082348, 0.423500085232776, 0.0076930079061358035, 0.15693736128517038, 0.1253960288700136, 0.039234340321292596, 0.006154406324908643, 0.0015386015812271607, 0.01504823586349593, 0.11436659256256906, 0.15168621750403896, 0.2431794915540942, 0.37139046111107954, 0.05959101401944388, 0.031300330596071534, 0.013242447559876417, 0.5577488416304028, 0.04758416690832808, 0.05772505493797177, 0.07878689930723173, 0.09204806057676579, 0.166154550024162, 0.0977766043518402, 0.0788521002837421, 0.11275850340575119, 0.11118146140007636, 0.5969103991479277, 0.003154084011349684, 0.09769206541556293, 0.047957923022185434, 0.11900669786986756, 0.0968039557299669, 0.06838444579089405, 0.5426350178991722, 0.027531400253476824, 0.13546041908631418, 0.02803586542565109, 0.09382299518683236, 0.42914304899065925, 0.09326782953483927, 0.052185571287350546, 0.07966627106100854, 0.027758282599654543, 0.04052709259549563, 0.020541129123744364, 0.1502695793928981, 0.073929418738752, 0.13058185375051304, 0.017276983726990956, 0.08116164448493426, 0.2796460621857141, 0.07875090256954018, 0.04942020926557878, 0.13861766013516, 0.3184217122405301, 0.22752122344377054, 0.1339207201282953, 0.008460045491975645, 0.03510018874330321, 0.08676046653472895, 0.07380039684489392, 0.04626024875399448, 0.0439202361711076, 0.025740138411755688, 0.3425604699132341, 0.13472454199880834, 0.1310364305431244, 0.047945448923891534, 0.09762647970928141, 0.10153153889765267, 0.045775971597018614, 0.047945448923891534, 0.050548821716139045, 0.2658667758666507, 0.05762097411265033, 0.13090765056217749, 0.139370731134973, 0.07616772515515965, 0.12910699512115714, 0.06185251439904809, 0.023048389645060133, 0.1159622104017088, 0.17109517357372225, 0.08232566468709623, 0.06210532599201996, 0.05632808636485531, 0.21220245553623995, 0.16865095680838338, 0.12221083826694447, 0.07410420829459269, 0.0238866638430846, 0.0271085859428495, 0.07737553586721634, 0.17041040637422644, 0.10700545337192417, 0.07798962742171806, 0.20940522008508547, 0.18821906145477624, 0.08750804651649466, 0.032546852388591, 0.04943437013738822, 0.5151076601789973, 0.10141182059774011, 0.07485158186976056, 0.15211773089661015, 0.029779661604098284, 0.11911864641639314, 0.008048557190296833, 0.06789145793217222, 0.06597902249746314, 0.12430830325608996, 0.1453450930378898, 0.525919744544996, 0.06980389336688128, 0.0009562177173545382, 0.2274275919739169, 0.18901371847352402, 0.0685338424950191, 0.09123294956343307, 0.04539821413682794, 0.0008730425795543835, 0.09778076891009095, 0.0008730425795543835, 0.27850058287784835, 0.2288092945166818, 0.04898541526254928, 0.05056558994843797, 0.04013643702157264, 0.5416838823226418, 0.0025282794974218984, 0.08690960772387775, 0.2687225220562017, 0.061600480422492485, 0.17790831468378823, 0.09869206632520111, 0.05262847439292875, 0.09475313684880728, 0.11959027549162396, 0.046391836055305176, 0.050221350824021405, 0.029432556365276162, 0.3600776693310371, 0.00551315091798717, 0.14161906420579543, 0.018951456280580897, 0.021018887874826087, 0.06271209169210407, 0.12749161497845332, 0.19296028212955096, 0.05375322145037491, 0.015850308889213113, 0.3393783032680294, 0.05252552792407126, 0.12972899784695185, 0.03577169574139336, 0.019017863558715455, 0.060449637740202705, 0.19176345755038085, 0.07742987306048436, 0.07063777893237169, 0.023093120035583056, 0.38209835233562683, 0.05846058022270912, 0.13796696932559352, 0.006079900343161749, 0.029464132432245396, 0.11458273723650989, 0.06968501162546928, 0.0865216587296095, 0.07155575019259597, 0.04396235632747726, 0.17861619267719508, 0.03572323853543902, 0.4213718363612011, 0.03491134675054267, 0.26224104652151825, 0.01299026855834146, 0.036535130320335354, 0.002435675354689024, 0.014614052128134143, 0.17639368938571323, 0.09219281823881129, 0.45325757078400103, 0.021692427820896774, 0.15898266179262505, 0.01798188095679601, 0.0025688401366851443, 0.07677977741870043, 0.18855208750156818, 0.004237125561832993, 0.12781995444862862, 0.019067065028248467, 0.22456765477714863, 0.43571774527515944, 0.11703759836054385, 0.4595446876803707, 0.05421594629936958, 0.03442282304721878, 0.013769129218887512, 0.13338843930797278, 0.025817117285414085, 0.11101360432728057, 0.004302852880902348, 0.045610240537564885, 0.11430792240717685, 0.4050912337938548, 0.05053613411685713, 0.0032086434359909293, 0.08262256847676643, 0.13837274817710882, 0.10708847467619727, 0.013235654173462582, 0.014037815032460314, 0.07099123602129931, 0.0016754548238234429, 0.08098031648479974, 0.36245672688713815, 0.00011169698825489618, 0.19077845593936268, 0.2573498609392808, 0.03920564287746856, 0.04802970494960536, 0.019211881979842145, 0.06321837633370317, 0.021492847767936737, 0.19322560208307946, 0.005110677156545218, 0.29634926580350557, 0.07189952657221833, 0.09570268045201798, 0.21282819939585565, 0.031084118595973653, 0.00910120589521751, 0.4106201186567124, 0.11551325719911622, 0.31365643560635936, 0.040471798142756046, 0.03878547322014121, 0.0480602602945228, 0.03288333599098929, 0.04449564563608734, 0.23425648731940102, 0.06216303434453379, 0.04776738428579965, 0.2565043101374447, 0.037297820606720274, 0.0804847707829227, 0.22902170547986134, 0.007852172759309531, 0.14316833384898564, 0.33451979398798365, 0.045421036247909705, 0.06521601488297846, 0.11201809615193947, 0.06675050935081325, 0.14654422167822218, 0.06981949828648282, 0.016572540252615703, 0.6634099404631648, 0.013749428817889426, 0.14535110464625964, 0.00147315308763101, 0.043212490570509625, 0.07562185849839184, 0.056470868359188714, 0.16768908512096475, 0.0780399203832182, 0.012254202374224346, 0.17736345541640502, 0.050306725536289426, 0.02257353068936064, 0.019993698610576566, 0.05611134771355359, 0.13931093225433994, 0.27668699044959183, 0.023144608303063332, 0.11100839908321117, 0.006000454004497901, 0.42474642274695856, 0.05614710532780179, 0.0587187284725866, 0.11615164537278079, 0.04971804746583975, 0.09257843321225333, 0.062147559332299686, 0.000983311643633332, 0.03539921917079995, 0.04326571231986661, 0.44150692799136604, 0.1907624588648664, 0.05506545204346659, 0.0245827910908333, 0.10423103422513319, 0.07473168491613323, 0.03146597259626662, 0.11396241387845145, 0.0010266884133193824, 0.5472249242992308, 0.07802831941227306, 0.02977396398626209, 0.10677559498521577, 0.026693898746303943, 0.09445533402538318, 0.231781437876767, 0.05716682296960568, 0.05738926196948741, 0.2591414348622203, 0.027359996985453303, 0.3659121548054527, 0.001334633999290405, 0.37915819634052594, 0.11789372112827946, 0.12838426411003315, 0.20631401197448906, 0.021480635629305158, 0.12288921778625742, 0.0044959469921801495, 0.018982887300316185, 0.016528723578285956, 0.4077085149310536, 0.051422695576889645, 0.04866790831384198, 0.15885939883574834, 0.11386454020596992, 0.06060531978704851, 0.053259220418921414, 0.08907145483854098, 0.34186116649154513, 0.005646813910797844, 0.11598861005963139, 0.17840879626277512, 0.23304553626454885, 0.095080136930461, 0.029912852068010202, 0.45456067587102345, 0.2426891744057159, 0.029854620661020608, 0.0009630522793877616, 0.11460322124714363, 0.08763775742428631, 0.058746189042653454, 0.010593575073265377, 0.01811018573189792, 0.03956681882729872, 0.4673215318209311, 0.07362184199706329, 0.3958650381178991, 0.005314945812622216, 0.046003837775117754, 0.007271123295763292, 0.17772303286375277, 0.032999713419233405, 0.39473809738345716, 0.010627026355346349, 0.18079927733503726, 0.14989700332804326, 0.07136306166502114, 0.37535116849783845, 0.20296766889142376, 0.040778892380012075, 0.11955629811412631, 0.052827201492288374, 0.13438498625231252, 0.0018535860172732763, 0.026699076210417165, 0.4630621030244227, 0.06591334439446737, 0.025030383947266092, 0.4188417580509193, 0.07619713109113106, 0.4344112301287472, 0.001751658186003013, 0.05167391648708888, 0.24961129150542935, 0.15064260399625912, 0.015764923674027116, 0.02014406913903465, 0.22010178145872777, 0.2899782288947636, 0.021847674779742463, 0.05308443293590317, 0.05290387364020282, 0.03304235111316422, 0.1074327809417088, 0.07529322630704634, 0.1464335888129846, 0.00018055929570035093, 0.38908715595669563, 0.09474023382800882, 0.21093432495402686, 0.07860693313990587, 0.03260986309297405, 0.1390209952910999, 0.004634033176369997, 0.037072265410959974, 0.013387206953957767, 0.42491091315126545, 0.10507437594025115, 0.24952181478014224, 0.056156328095244, 0.004931575555106413, 0.0777916273047431, 0.029987161036695447, 0.003022578566032963, 0.048520340138950194, 0.40610543436955787, 0.4621823540375147, 0.05698138611421413, 0.07326178214684674, 0.16432287234737225, 0.3452497979981375, 0.08779154620184812, 0.017749160427764945, 0.02767342217232169, 0.14867307498095583, 0.0807300522682212, 0.045804284974877284, 0.00019085118739532202, 0.08187515939259314, 0.06393423999747111, 0.2215186343574351, 0.14407716055768136, 0.3800035109708846, 0.16388777013436256, 0.021611574083652205, 0.004502411267427542, 0.26842828857329704, 0.12430753909663302, 0.11833643459854147, 0.04736171522349882, 0.046683180621442964, 0.3947714314760976, 0.0951824477117311, 0.45320816846227924, 0.06287280949765724, 0.11526681741237159, 0.06287280949765724, 0.018337902770150027, 0.09605568117697633, 0.0532672413799596, 0.04191520633177149, 0.1621078784278506, 0.2276408505582583, 0.04828745314872146, 0.04225152150513128, 0.037940141759709715, 0.02500600252344504, 0.09226352655202136, 0.2914492707904974, 0.0741557316212508, 0.06886419993612118, 0.0823669842373214, 0.025317720564750432, 0.4273631231329873, 0.10869741362466186, 0.014177923516260241, 0.05401113720480092, 0.10464657833430178, 0.08675538913521148, 0.027680707817460473, 0.025901268413073632, 0.14544558416572115, 0.05678354998250758, 0.09065443944575771, 0.07272279208286057, 0.6076836050759583, 0.11248088174208404, 0.4368330795242143, 0.44119656200558827, 0.005817976641831933, 0.003393819707735294, 0.3320611410336933, 0.5402314502603995, 0.045510917806648316, 0.08175109309712754, 0.3533268236658564, 0.2611986260910915, 0.00961777886769523, 0.2181717206303497, 0.03290292770527316, 0.027840938827538825, 0.09668398756472574, 0.04062333708583046, 0.08870810343232366, 0.5405390975502339, 0.0024871430868875794, 0.0712981018241106, 0.05057190943338078, 0.2056038285160399, 0.21198214022664852, 0.04188065641460793, 0.08066668304488522, 0.06096420675131351, 0.10005969636002388, 0.027129587775965233, 0.09510828870509486, 0.16803839728915348, 0.1065584189071182, 0.10748680784241739, 0.020326817652273257, 0.17955355592841377, 0.5157929979264338, 0.21173768387784642, 0.033878029420455424, 0.02117376838778464, 0.016939014710227712, 0.01161779500906077, 0.26527298604022087, 0.4598710524419888, 0.16942617721546954, 0.058088975045303845, 0.005808897504530385, 0.03001263710674032, 0.09181396125644599, 0.04141983214576511, 0.0013806610715255037, 0.0020709916072882556, 0.09526561393525976, 0.5246512071796914, 0.040729501610002355, 0.05660710393254565, 0.13806610715255035, 0.00759363589339027, 0.1257345245576408, 0.012473663150559606, 0.10178509130856637, 0.03692204292565643, 0.676571489286353, 0.021953647144984906, 0.02394943324907444, 0.09933008275349457, 0.17760650666249844, 0.2002796777257961, 0.00971707331284186, 0.02915121993852558, 0.012956097750455814, 0.0556032528457062, 0.043186992501519375, 0.3714081355130667, 0.3901342682089943, 0.01487058869854911, 0.133835298286942, 0.12158893112343096, 0.04723598763068541, 0.10584360191320248, 0.13908374135701815, 0.01487058869854911, 0.02886643688541886, 0.002624221535038078, 0.07992255752239155, 0.09265559655867583, 0.0685537726685663, 0.1929282789694146, 0.09424722643821137, 0.12892202024237842, 0.12471556984646306, 0.1217596857844685, 0.04479301232407151, 0.05150059538782841, 0.14065969657888786, 0.483099076940585, 0.008372600986838561, 0.13814791628283626, 0.02595506305919954, 0.015907941874993267, 0.13144983549336542, 0.056096426611818365, 0.10628770343836634, 0.0008098110738161246, 0.4512672208840354, 0.12774769689449364, 0.10183374253237766, 0.13159429949512025, 0.06518979144219803, 0.015183957634052335, 0.6407721181036479, 0.07886426068967975, 0.20079255846648725, 0.05603513259529876, 0.014527626969151532, 0.008820344945556287, 0.15188013514273632, 0.4045772565440131, 0.1836309392566273, 0.07495808393897978, 0.1315858067400431, 0.0209489841576188, 0.00032732787746279375, 0.012765787221048958, 0.007528541181644257, 0.011783803588660576, 0.13926543684613338, 0.07675072963964684, 0.29586168361089665, 0.4840247627274502, 0.0037137449825635563, 0.0004019544659389872, 0.06793030474368884, 0.628656784728576, 0.3028726900850269, 0.0040534773082249774, 0.010893720265854627, 0.06054881729161061, 0.8139889119579283, 0.009880350938798384, 0.10057690571033226, 0.11167601467089826, 0.2938341196244956, 0.09548418311946738, 0.004524188227605686, 0.0071434550962195045, 0.24263935810158918, 0.02381151698739835, 0.10334198372530884, 0.10929486297215842, 0.008095915775715438, 0.08108547125738891, 0.40639265951619913, 0.011583638751055558, 0.2364992911673843, 0.10425274875950002, 0.05984880021378705, 0.07529365188186113, 0.025097883960620376, 0.11534823079063046, 0.46732996445321606, 0.06700375170926327, 0.03731854525579221, 0.061066710418569065, 0.12298156959295159, 0.0687000492208902, 0.005088892534880755, 0.03816669401160567, 0.016962975116269183, 0.07884036863821861, 0.2284761703393274, 0.1476245678072767, 0.0028157274513649503, 0.3704692832438742, 0.01327414369929191, 0.04062692465540857, 0.1178583061785615, 0.7226094407044886, 0.06561989450598749, 0.21109050401323684, 0.11484209732923609, 0.15336623490708792, 0.3328412455185968, 0.10260931430688502, 0.10443510281768369, 0.04071508379081025, 0.14387213465093487, 0.0074857328942745304, 0.0001825788510798666, 0.10733618625645232, 0.44922181655478194, 0.10435462552710642, 0.20672154390131556, 0.0765267253865447, 0.04174185021084257, 0.013913950070280855, 0.1952023897766359, 0.04504670533306982, 0.10698592516604083, 0.21334620164690013, 0.039415867166436094, 0.345358074220202, 0.05130319218488508, 0.0025025947407261015, 0.08492340481297846, 0.15737425773117822, 0.06034514078503221, 0.1137203260994528, 0.19460849353470874, 0.029347180928891044, 0.017608308557334626, 0.11445400562267508, 0.11023534836414699, 0.11757214359636975, 0.12440612523800038, 0.007385587909907673, 0.1063524659026705, 0.1327764582025624, 0.07648186591148835, 0.018546031862657048, 0.07385587909907673, 0.3101946922161223, 0.14984537248323793, 0.19055060945457664, 0.19082166295308955, 0.031035625579728342, 0.09215818949438984, 0.06979627586707465, 0.022904020624341003, 0.0384895967888334, 0.052313325212991875, 0.2650903215456272, 0.046756728493477194, 0.015540096104877124, 0.1571276383937576, 0.36346558111962607, 0.3565588717396807, 0.10273730202668765, 0.004316693362465868, 0.09234443520550846, 0.10928019069686619, 0.1378035683665213, 0.26366297233387453, 0.01105280884699136, 0.10535822626728861, 0.015331315497439628, 0.06132526198975851, 0.07095190195326712, 0.13281197727433167, 0.041528552648967376, 0.17758400132748905, 0.4235912370194672, 0.017995706147885863, 0.04409936781295107, 0.06268833899867932, 0.05556915854457063, 0.17441992112566299, 0.0025708151639836944, 0.09096127849446294, 0.16214251565950863, 0.11464350484805091, 0.23197817178173682, 0.1585094468439014, 0.08208044361186743, 0.04897914995855696, 0.0701047723307917, 0.006727905214087495, 0.03377408417471923, 0.328863243554364, 0.01650919897361265, 0.005282943671556049, 0.12018696852790012, 0.03433913386511432, 0.1281113840352342, 0.07990452303228524, 0.28792043009980467, 0.2555200832327581, 0.04211217713446106, 0.4233756625151874, 0.0875458780992458, 0.1377246131073501, 0.0018980136173278224, 0.01637036744945247, 0.014472353832124646, 0.020878149790606045, 0.9896027760894626, 0.0008267358196236112, 0.009094094015859724, 0.12143392211381845, 0.1452978023302156, 0.13140237840674385, 0.35221878901669734, 0.0987783396298971, 0.011780902891639104, 0.030509517745014092, 0.10330945612668138, 0.005437339796141125, 0.058882494311941855, 0.17823890170101317, 0.09548512591125706, 0.05092540048600377, 0.3628434784627768, 0.10025938220681992, 0.059678203694535664, 0.09309799776347563, 0.1053902821980588, 0.21733332805610053, 0.06989614570648459, 0.17965493701119867, 0.051985258369197915, 0.14361473688129256, 0.04434036743255116, 0.06640133842116036, 0.07666733482180028, 0.044558792887883926, 0.32085604862582107, 0.033722119484630345, 0.2801911398355315, 0.19241444647112607, 0.04859952513961432, 0.1187712884789554, 0.005207091979244392, 0.450726915934525, 0.006872583216282466, 0.08819815127562497, 0.04925351305002434, 0.15978755977856732, 0.016608742772682625, 0.1357335185215787, 0.03894463822560064, 0.05383523519421265, 0.11315396197918269, 0.6161465737907551, 0.26970944362161353, 0.10431366642939299, 0.08124933817364781, 0.036169060219236764, 0.06395109198183892, 0.6043902381562317, 0.003669324949777643, 0.10641042354355164, 0.10547457735618708, 0.46170003672896986, 0.43184874125080375, 0.06423426131819823, 0.47892309541656625, 0.09540677048732385, 0.13035776561634346, 0.17569959713507163, 0.003778485959894014, 0.014169322349602552, 0.03684023810896663, 0.08951002014156155, 0.19905025458053546, 0.09514351791270878, 0.05257931253070748, 0.02441182367497133, 0.38245190424121756, 0.010015107148706187, 0.14083744427868075, 0.006259441967941367, 0.011307097902140162, 0.14525271920441593, 0.8428136820902936, 0.01683097320290667, 0.14269738150290437, 0.009269231618992079, 0.464681216688945, 0.054883608270347835, 0.09244838904205258, 0.023417006195348408, 0.08244737597945585, 0.07805668731782803, 0.03512550929302261, 0.26175149053010643, 0.09807176158369008, 0.08281183436006337, 0.11080456710149325, 0.06667713423826699, 0.16805359343726475, 0.1014736561876833, 0.08650531993011315, 0.00505424341164706, 0.018856215804990955, 0.048853023251499254, 0.11717092295476775, 0.017174890986855207, 0.47135534152813735, 0.22709022527064107, 0.10724765260680695, 0.006488292150589744, 0.004198306685675717, 0.3513503385978656, 0.08504020934215856, 0.07944545872754286, 0.08727810958800483, 0.06489910712954206, 0.011189501229231388, 0.05650698120761851, 0.04643643010131026, 0.157212492270701, 0.06098278169931107, 0.11221868904715004, 0.0772197909779894, 0.1624022942151, 0.11814442840277513, 0.09536736775459122, 0.21221554067332335, 0.12110729808058768, 0.016480962582832267, 0.08499732388224732, 0.11144923890102833, 0.23659744675030805, 0.20200174550811384, 0.0011609295718857117, 0.23520433126404522, 0.05502806170738274, 0.06779828699812557, 0.09078469252146266, 0.13933079960629616, 0.13380523912424244, 0.20910454373262177, 0.025894293239428292, 0.21441341556832047, 0.08808393474332721, 0.01148449825681757, 0.04626302599680285, 0.01690171441569378, 0.11495332689135322, 0.03250126731206317, 0.049129822681025725, 0.020407772498272223, 0.22297381062927057, 0.0332571107379251, 0.1080856098982566, 0.10884145332411853, 0.28797634525339694, 0.13680766008101009, 0.25359531920604633, 0.09916227225364631, 0.03467970177176702, 0.0024384165308273683, 0.002844819285965263, 0.0949627771172214, 0.05472890435856982, 0.42482634670414593, 0.032783155581123505, 0.16651016105525604, 0.02714839582422653, 0.00615363638682468, 0.07710144414080335, 0.07891133719575177, 0.08470299497158677, 0.027510374435216218, 0.08796080247049395, 0.3659603757105736, 0.07818737997377241, 0.07857760116125842, 0.4582115537596274, 0.43738375586146255, 0.02461467024328577, 0.14492093116790805, 0.04940486289815048, 0.0016468287632716825, 0.010704386961265936, 0.7929480495153152, 0.09599792320017747, 0.39190904729144616, 0.08115288353004693, 0.06927685179394251, 0.20288220882511734, 0.05146280418978586, 0.03265908727428718, 0.0009896693113420358, 0.07521486766199471, 0.04271628277072404, 0.12814884831217213, 0.10652035070674222, 0.33632313776443484, 0.31253179039846196, 0.04163485789045254, 0.014058523443529432, 0.017302798084343915, 0.3475745381198946, 0.01614417253562352, 0.034187659487202746, 0.3029406493449354, 0.03703663111113631, 0.0949657207977854, 0.08831812034194042, 0.012345543703712101, 0.06742566176642763, 0.35314485930329015, 0.323287130674149, 0.04015349712194844, 0.1848090444458909, 0.07773305212069506, 0.020591536985614587, 0.09498257778769631, 0.3852493355068963, 0.19528417993150363, 0.08966355343158532, 0.14361365761499684, 0.01443735182372984, 0.025835261158253398, 0.051670522316506796, 0.3785786040279567, 0.34389401457510294, 0.1778507671944202, 0.03763646940628809, 0.03468458945285373, 0.01106954982537885, 0.015497369755530389, 0.00073796998835859, 0.15789584209055388, 0.22038760017388653, 0.02291364463055531, 0.09873697777166561, 0.4174449439966622, 0.08248912066999912, 0.044948018757836994, 0.4693610420289517, 0.23165517359808296, 0.15991122058076623, 0.09335357742012299, 0.24383223878092067, 0.030431480659085262, 0.0068470831482941846, 0.5557549155365447, 0.1255298577187267, 0.03765895731561801, 0.16013305238338313, 0.026603574197878347, 0.03223125335512184, 0.01304598350088265, 0.02890580658038705, 0.7032040910573805, 0.016627233873673968, 0.01918526985423919, 0.011833216546104756, 0.9876184578864354, 0.0031694465176752033, 0.02007316127860962, 0.7987005224541512, 0.1780172460760906, 0.21696411393224196, 0.6355571819114627, 0.08803517711910341, 0.059068764002495194, 0.0006679172354315372, 0.11755343343595055, 0.5370054572869559, 0.11822135067138208, 0.05476921330538605, 0.17165472950590505, 0.1517260317836055, 0.007388084683049674, 0.007748479057832584, 0.031354310606113246, 0.0659521705852727, 0.6602424946022928, 0.048112649033518605, 0.027389972483501227, 0.07780905180994739, 0.027294274718672646, 0.040330346226098386, 0.7813495359763303, 0.02851640642249381, 0.044811495806775986, 0.34583656379599464, 0.353264169409214, 0.014855211226438743, 0.1353273510506066, 0.029710422452877486, 0.05525413931785142, 0.06594264495638662, 0.8652650375893332, 0.008829235077442175, 0.023277074295074824, 0.01123720828038095, 0.09070032397736053, 0.10271670467030093, 0.19034429773809133, 0.0373766984649343, 0.15504408252120894, 0.051358352335150466, 0.05080462346900329, 0.09178055956389422, 0.1515832771077891, 0.11752895183973786, 0.051358352335150466, 0.3318031584690514, 0.6606470914445104, 0.007398063733981079, 0.03686779104859066, 0.09061168363350804, 0.14072072357983195, 0.021030218837576362, 0.4865509889088655, 0.13890329726053524, 0.054522789578901686, 0.004933014295233962, 0.009866028590467923, 0.015318307548358091, 0.16812499388215904, 0.003909883578654861, 0.2375254274032828, 0.11925144914897326, 0.30301597734575175, 0.04300871936520347, 0.0019549417893274306, 0.12413880362229184, 0.03565084600897594, 0.12923431678253777, 0.456330828914892, 0.09625728422423503, 0.024064321056058758, 0.008021440352019587, 0.02317304990583436, 0.10071363997535702, 0.12656050333186458, 0.03918978956766467, 0.1684473411241727, 0.1904486264954932, 0.04537765107834856, 0.11825690887084776, 0.10244348501021115, 0.2935796516735581, 0.04193995023907973, 0.03005882775242189, 0.014492649094917697, 0.003220588687759488, 0.6655883288036275, 0.07407353981846823, 0.008588236500691968, 0.09608089585149139, 0.04079412337828685, 0.060654420286137024, 0.006977942156812224, 0.1507045264483144, 0.07776880810889694, 0.01230241032231138, 0.05316398746427418, 0.028119795022426012, 0.23594265511004325, 0.4420080280087589, 0.19471650791254608, 0.05537808940632045, 0.0005954633269496822, 0.15660685498776641, 0.19531197123949576, 0.397174039075438, 0.03126724032055264, 0.0785316733632485, 0.04435585254776072, 0.014542902474675648, 0.8311268764277132, 0.0363689025650427, 0.07217828355216167, 0.31053447574767234, 0.10798766453928065, 0.0363689025650427, 0.3452248135789438, 0.09120201720156863, 0.6205891693041868, 0.01219655014817477, 0.28482531816619905, 0.0821473524685889, 0.044011355999175425, 0.2853207679794452, 0.07982287761067178, 0.13186672443859404, 0.22089349779053827, 0.10107550959506448, 0.11429565075071033, 0.022591380455850504, 0.1317463857949907, 0.010469911453906546, 0.8192705712681873, 0.03838967533099067, 0.26314436462174945, 0.0448509273033834, 0.6386999141304598, 0.032076929020774206, 0.021006130509179568, 0.09063497223471881, 0.23236617042726565, 0.015815498510756303, 0.028893699202343245, 0.037105592659851326, 0.02159423835122495, 0.08181479037295086, 0.25335212037423077, 0.19161084734185518, 0.04683820712800905, 0.15079384849093946, 0.10123434718329602, 0.48864459521011844, 0.18010648036192367, 0.04714196465849009, 0.0018131524868650033, 0.0057416495417391775, 0.024779750653821712, 0.06936613168388935, 0.022791728981849356, 0.011891336860095317, 0.061934046146329774, 0.30669739651662503, 0.1313001778302191, 0.33295743208266887, 0.0634204632538417, 0.96658403235624, 0.03287002022890508, 0.07376835695391266, 0.18188854580278166, 0.05593182885460841, 0.3765489265408676, 0.012331426834086893, 0.12463549264452109, 0.02246081316208684, 0.03919632100834762, 0.01959816050417381, 0.09380692555930385, 0.1199951630190959, 0.12973607277354526, 0.11838951855407677, 0.09526823825780138, 0.12010220598343051, 0.18775335944290295, 0.08477802775300977, 0.05223696659528885, 0.058659544455365344, 0.03286219005072475, 0.11814648314029044, 0.10412316169930641, 0.0497827911154933, 0.3930035833835774, 0.048380458971394896, 0.05679445183598532, 0.05363920451176391, 0.07467418667323995, 0.06590961077262493, 0.03575946967450927, 0.2358385289427795, 0.01629537574353376, 0.08858758813302899, 0.23954202342994627, 0.09792039424068923, 0.06592220187156839, 0.12043764072266315, 0.04399751450754115, 0.056589395763908146, 0.03466470839988091, 0.09053670240986192, 0.07397511050561888, 0.028706759300687924, 0.45323556511278434, 0.1628556537250565, 0.008832849015596285, 0.0684545798708712, 0.03753960831628421, 0.07121484518824504, 0.00496847757127291, 0.304661921524381, 0.07584944104341435, 0.17842678035926995, 0.0783777557448615, 0.11973376050424693, 0.09986843070716223, 0.07223756289848986, 0.02094889324056206, 0.003973065959416942, 0.04587085244054106, 0.07224281578505401, 0.2382897680182828, 0.1277570207107902, 0.18847568234831416, 0.12676569562283063, 0.06257739617744816, 0.06282522744943805, 0.019454754851206655, 0.03692685952649416, 0.06468396198936226, 0.09253100517359268, 0.09685994108814673, 0.595228688251181, 0.008657871829108087, 0.1287858434579828, 0.03679595527370937, 0.020562445594131708, 0.020562445594131708, 0.03312617706772525, 0.48635250876705705, 0.06549948647482037, 0.1528321351079142, 0.164125150017366, 0.09862566354254562, 0.06608008018610399, 0.11267500852245937, 0.187226893860628, 0.07285752430775569, 0.33124758144572647, 0.13300734088741445, 0.08641241255105907, 0.010166166182477537, 0.123927278970451, 0.3390194528157165, 0.21895854215468846, 0.02279122371870363, 0.08282167904921765, 0.023808689063288615, 0.03642525933614241, 0.15241630861883054, 0.01489105281874322, 0.25195661369313527, 0.08577246423596094, 0.08636810634871067, 0.02799517929923725, 0.05896856916222315, 0.23349170819789367, 0.24123505566364015, 0.052773051028114616, 0.31391453579304307, 0.055667057052237026, 0.10724845854100712, 0.112185292346863, 0.06043365520961512, 0.03643042877424686, 0.12035660347379688, 0.05311352232507019, 0.08801183026301695, 0.1889103953166579, 0.14721877209802603, 0.14080467621823653, 0.004428780488426095, 0.08903375947422114, 0.06444639193502799, 0.12171510514743439, 0.05849044576093773, 0.0033597645084611754, 0.18158000002546987, 0.14938407558666156, 0.07562071321882512, 0.30327886038286705, 0.01618548598718713, 0.26268247749697143, 0.0307789569592411, 0.04656643919264494, 0.03781035660941256, 0.0669972985535205, 0.010746101352148832, 0.1540714334210627, 0.05431818966545972, 0.17853646254652444, 0.1338295343232104, 0.2110108762071076, 0.07485133911004369, 0.042959426142923904, 0.0535900637986305, 0.07004570838897084, 0.02679503189931525, 0.09707687639079325, 0.4841555607338296, 0.04587599221843394, 0.1876000396075245, 0.07127163076792416, 0.0008192141467577489, 0.07659652272184952, 0.02826288806314234, 0.008192141467577489, 0.0287691095043704, 0.06934093060027738, 0.0014753389489420717, 0.5916109185257707, 0.0390964821469649, 0.058275888483211837, 0.15859893701127273, 0.05237453268744355, 0.2363417197027356, 0.056484184583043724, 0.048721738163736546, 0.03716064775200245, 0.039307707399895926, 0.034352954366295596, 0.13328285660384878, 0.287871151252179, 0.03468327123520229, 0.09166293112160605, 0.045775969389944465, 0.005636080315278447, 0.00013746537354337676, 0.10543594150776998, 0.1290799857572308, 0.04687569237829148, 0.010859764509926765, 0.06598337930082085, 0.32881717351575723, 0.26145914047950264, 0.707205059636227, 0.09761152379282159, 0.19426607186218414, 0.13415838766299976, 0.05537933444228479, 0.4422546849123306, 0.09749882824345912, 0.12245852827378467, 0.026519681282220882, 0.11543861264025561, 0.006239925007581385, 0.1377375642249803, 0.09926901856800359, 0.12866071637333412, 0.05748670306042588, 0.05186770200940681, 0.275907359300039, 0.10560840436915331, 0.060800472911026866, 0.06195308851123591, 0.020603003853736594, 0.13667970309938984, 0.21196317592953504, 0.07309075032052932, 0.004385445019231759, 0.040565366427893775, 0.07418711157533726, 0.08039982535258225, 0.06103077651764199, 0.31794476389430254, 0.9996049247079513, 0.469191026527918, 0.02945051155334309, 0.0020171583255714446, 0.34372377867737414, 0.14301652528301542, 0.012506381618542955, 0.3103125217836963, 0.03043937543382307, 0.4024761862916606, 0.25704361477450594, 0.042331057871010165, 0.06334209389457725, 0.05963426400806541, 0.4804729561271591, 0.13070100349954233, 0.03893221380837431, 0.1816836644390801, 0.003089858238759866, 0.07391537193735631, 0.11270974290569, 0.09532843120163287, 0.10428787022434273, 0.02553440121472309, 0.26107805312176524, 0.05384622852648624, 0.05958026950102055, 0.18205580094146429, 0.03162681975016579, 0.0906932873258031, 0.31330408348913796, 0.12229852381812842, 0.055824466630465926, 0.1396470503709809, 0.0781542532826523, 0.07626480979669806, 0.05840098047494897, 0.0036071193822762595, 0.061836332267593025, 0.16861971190510375, 0.10455843090744847, 0.24783782093917286, 0.16601463208634512, 0.16234383779627615, 0.043694293323724216, 0.05210159637517251, 0.03173460870124144, 0.02309048021172418, 0.3462790483871426, 0.17968131981801352, 0.013955830665476779, 0.05844004091168401, 0.1282191942390679, 0.04884540732916873, 0.15787533440320606, 0.067162435077607, 0.3410795005408578, 0.1761431050338562, 0.045090525390403306, 0.0005273745659696294, 0.06776763172709738, 0.053132987521440155, 0.051682707465023674, 0.07290953374530125, 0.037707281466828495, 0.15399337326313176, 0.1304987903929142, 0.026915375518538554, 0.022837288318759984, 0.06280254287658996, 0.3254313585423298, 0.10195217999446422, 0.11826452879357849, 0.19819503790923845, 0.01304987903929142, 0.3802483074893922, 0.015560033043044182, 0.5562711812888296, 0.04668009912913255, 0.1517270146304315, 0.08658707075526129, 0.22006121144518975, 0.0199640808724252, 0.08236609365651996, 0.02053448318306592, 0.054644541359380974, 0.06217385185983848, 0.1841258658748244, 0.1177310369162446, 0.13611761264142272, 0.005184022244232638, 0.2561647563257242, 0.004073160334754216, 0.004369390177281795, 7.405746063189484e-05, 0.007850090826980852, 0.009257182578986854, 0.5769816757830927, 0.11388018032934127, 0.032572715334374905, 0.1750472640870224, 0.07235618444506181, 0.24541427507654986, 0.08603175195186044, 0.058431970256321394, 0.06763189748816774, 0.06738325080622595, 0.08130746499496637, 0.9975877367844664, 0.002200965773379959, 0.24583869393476226, 0.02285157274955811, 0.008108622588552878, 0.028748752813960204, 0.371890917811357, 0.3228706085260146, 0.19470553540656863, 0.024338191925821078, 0.009126821972182904, 0.06287366247503778, 0.5090738477817576, 0.18659280476462825, 0.013183187293153084, 0.2171344124728742, 0.13114058575094384, 0.6485367765278917, 0.0028664608907310127, 0.024949444119051138, 0.04182700925840926, 0.4644999449223344, 0.12915006367508824, 0.09099209031653945, 0.011740914879553477, 0.058704574397767384, 0.11814295597550685, 0.05943838157773947, 0.4416063548798145, 0.30880572690873953, 0.00023609000528191097, 0.048988676095996525, 0.014755625330119435, 0.02561576557308734, 0.006728565150534462, 0.15310436842531927, 0.00777081274850937, 0.00777081274850937, 0.26809303982357324, 0.009065948206594265, 0.6251187144356426, 0.03453694554893053, 0.0017268472774465266, 0.022449014606804846, 0.02331243824552811, 0.05561705527261732, 0.28664853725426737, 0.0713310804131346, 0.0985216407686364, 0.046612389180860234, 0.15634572204413535, 0.05958970207780428, 0.12068018183756807, 0.08430839331007864, 0.020304639226511087, 0.0003389744081528794, 0.09626873191541775, 0.18338515481070775, 0.08270975558930257, 0.2911790166033234, 0.1647415623622994, 0.061015393467518296, 0.061015393467518296, 0.059659495834906776, 0.07466778195983749, 0.4486503795345408, 0.06243771422503652, 0.11586379959285129, 0.08561047414360679, 0.09977160520495527, 0.003862126653095043, 0.04634551983714051, 0.017379569938927694, 0.04634551983714051, 0.11876127991724075, 0.6796962538120654, 0.05832027138793073, 0.06627303566810311, 0.07581635280430996, 0.06994911825107314, 0.04827474358172653, 0.0354671585498399, 0.7930850731283644, 0.05320073782475985, 0.15062127871597253, 0.0079483524388376, 0.00158967048776752, 0.056830719937688845, 0.1573773782889845, 0.4653760352939415, 0.10809759316819137, 0.052061708474386285, 0.15730473139769605, 0.04779643761699226, 0.0006050181976834464, 0.14964116756037238, 0.525962486519476, 0.10890327558302033, 0.009680291162935142, 0.18247199788362545, 0.18996351685831975, 0.15857048496436268, 0.00909684446927165, 0.06902899626682606, 0.08276344772043227, 0.16980776342640413, 0.07473682024754552, 0.02086923142950555, 0.042808679855396, 0.2535251464569062, 0.10520431247531482, 0.07855046281688931, 0.0870169797672127, 0.2036667688605573, 0.09940318049083398, 0.09297489910262546, 0.010034390459642547, 0.06914322176097441, 0.02965248351520453, 0.03254540873620009, 0.05279588528316904, 0.0007232313052488909, 0.32545408736200093, 0.02242017046271562, 0.1034220766505914, 0.20322799677493836, 0.2299875550691473, 0.236424316837063, 0.20114468179642772, 0.021827687866867868, 0.012436705877634017, 0.03299534212433515, 0.09962055218308881, 0.04213251378953565, 0.07753905399218759, 0.10127031928930556, 0.17449459777292625, 0.0013569142103247228, 0.3673845224454187, 0.013145106412520752, 0.13984697080159172, 0.058347311043963075, 0.03282036246222923, 0.10516085130016602, 0.21846318786228036, 0.06352054647082608, 0.5101916097665466, 0.4196897842524029, 0.019890511102009616, 0.030830292208114906, 0.018895985546909137, 0.14721293575225167, 0.007799360834556381, 0.05654536605053376, 0.08189328876284199, 0.1969338610725486, 0.35194615765935666, 0.07214408771964652, 0.0389968041727819, 0.04777108511165783, 0.21253038699986537, 0.1366523638916224, 0.055380168524499604, 0.0812721953671228, 0.03524192542468157, 0.05250327665309703, 0.266831721072589, 0.09457782027235971, 0.04207454361926269, 0.023015134971220614, 0.2057066996164501, 0.14432647473089646, 0.09621764982059763, 0.05806237489173995, 0.01575978747061513, 0.14349701223244302, 0.04810882491029882, 0.2637690745081901, 0.024883874953602836, 0.04673944020667212, 0.22763290657616578, 0.052507915422052534, 0.03254011659958185, 0.06315740812737022, 0.03120893001141714, 0.027511189488737382, 0.08061074339441868, 0.21934996780536312, 0.21875832932173436, 0.11204390946240983, 0.006756416650999588, 0.0974050067185774, 0.5523370612192163, 0.02646263188308172, 0.1739777287632394, 0.020269249952998763, 0.011823729139249279, 0.07853253947710244, 0.3637296565255271, 0.05026082526534556, 0.07869787113915949, 0.1468145159066673, 0.09208973576578118, 0.03620763399049565, 0.02066645775713222, 0.025957070942958068, 0.10713491701297342, 0.21950330066047274, 0.14949560343985685, 0.310659156416483, 0.150954097131953, 0.018960417997250137, 0.043754810762884934, 0.10719928636906809, 0.04478019422264595, 0.017488123187542205, 0.38579859637971897, 0.2951783216806366, 0.1385801276830996, 0.11817731729763369, 0.1073847968562942, 0.05016000379471638, 0.010361690924730143, 0.4408428502521552, 0.04521465130791335, 0.08195155549559295, 0.011539155802540387, 0.0541633843792712, 0.18109409820721545, 0.017426480191591605, 0.11799858657933127, 0.05195460155358615, 0.08365571436594381, 0.6023211434347954, 0.017611729340198695, 0.0986256843051127, 0.028178766944317913, 0.30699853025866863, 0.09997790350822751, 0.0027831108042975536, 0.18347122763715412, 0.006208477948048389, 0.025690253578131265, 0.09805113448986766, 0.20744879764340995, 0.06914959921446999, 0.06033112011604638, 0.1374758310841057, 0.13154162254810114, 0.1523113524241171, 0.036594285972028136, 0.012857451828009885, 0.04945173780003802, 0.3946248676443034, 0.02472586890001901, 0.06289276582845371, 0.031058155964668502, 0.05357531903905317, 0.23060680803766362, 0.31912255253696886, 0.07143375871873756, 0.04503432614876933, 0.08075120550813811, 0.1055977302798729, 0.0952197987802076, 0.13786424854066867, 0.10281401586083766, 0.10222984531617381, 0.12442832601340012, 0.0023366821786554013, 0.07010046535966204, 0.36510659041490645, 0.17942823370386532, 0.2898193184397672, 0.06459416413339152, 0.08680908830625103, 0.08236610347167914, 0.02221492417285952, 0.03383503835558604, 0.033664154323487114, 0.11961882246924356, 0.08749262443464671, 0.08234207496970507, 0.15744802819964818, 0.0751059532299431, 0.20460758022775197, 0.05327282729100615, 0.21284178772472248, 0.06886791724738969, 0.05364710944995936, 0.05489471664647004, 0.037178694456018346, 0.22133191408457148, 0.4607465008884707, 0.31753173295139503, 0.055294390826452225, 0.3890355354575389, 0.18661856903927626, 0.09775258378247804, 0.0464077923007724, 0.19945476690970268, 0.007899198689493176, 0.016785797215172996, 0.006465935191476771, 0.30759377410882355, 0.04433784131298357, 0.34269456514826885, 0.08959938765332097, 0.020321510601784137, 0.18935953060753402, 0.38580153747881973, 0.14796805955512965, 0.14486925202517928, 0.3098807529950359, 0.010845826354826256, 0.13370605330109803, 0.3262666461356258, 0.08022363198065881, 0.024950504589222756, 0.08034301238539193, 0.057541355081365396, 0.16199920922284822, 0.11233696085386896, 0.02256289649456029, 0.3503652932222631, 0.18587935666014765, 0.014475787251961877, 0.08147434240927216, 0.05098551616177723, 0.03855939790124358, 0.08582988901605715, 0.07686258717855864, 0.05098551616177723, 0.06456457322998926, 0.2770063112414295, 0.2585392238253342, 0.06376669500942309, 0.07576240991218584, 0.08033972217771373, 0.06944887575283702, 0.033856326929508046, 0.05761099920405799, 0.012942745026665082, 0.07079050176169865, 0.12382516734647737, 0.15001175862820976, 0.21332719540582695, 0.07051674938009361, 0.14440034621069567, 0.2242694496199794, 0.025251355878813362, 0.02010756116275879, 0.0031798003699246456, 0.025157832338521462, 0.05071335320947929, 0.3895373507394786, 0.09260699281731001, 0.087462159883015, 0.024254212404533574, 0.1932987231027979, 0.04556852027518429, 0.08452225534913214, 0.03160397373924072, 0.08467504691597261, 0.027236241205456157, 0.36863308641444126, 0.0018876602815662683, 0.015101282252530147, 0.22867655982402796, 0.2151932720985546, 0.0008089972635284007, 0.05770847146502592, 0.22775703236625205, 0.22800499865080978, 0.15944232097060432, 0.07141428995261904, 0.08331667161138889, 0.09509507012787988, 0.031863667565665096, 0.02417671274437624, 0.0003719494268365575, 0.07848132906251364, 0.03405508204601001, 0.0076175841418706595, 0.5009681806241999, 0.2056747718305078, 0.002240465924079606, 0.010306143250766188, 0.030470336567482638, 0.20881142412421927, 0.1406028545970642, 0.046692739026636995, 0.14479995473429, 0.03305216358065315, 0.12276517901385456, 0.011017387860217717, 0.022034775720435433, 0.13378256687407228, 0.3452114862868218, 0.09457037705447321, 0.08040396429732541, 0.17765447349504282, 0.0015315040818538173, 0.155064788287699, 0.01148628061390363, 0.025269817350587986, 0.009189024491122903, 0.09916488930003467, 0.3457370464784993, 0.36558111802521476, 0.1383879940702736, 0.05624324892695611, 0.0806646596452397, 0.07622440315100631, 0.11100641235583444, 0.1169267543481456, 0.005180299243272274, 0.04884282143656715, 0.10030280984612032, 0.31319849714796466, 0.07532622083305479, 0.39566088627046675, 0.07056877530675659, 0.013082975197320042, 0.018633328311334605, 0.0015858151754327323, 0.011497160021887309, 0.13730316352825883, 0.1550885474049763, 0.09106116544879342, 0.09248399615893083, 0.11453787216606048, 0.05762464376056459, 0.24116980536828883, 0.0007114153550686986, 0.11026938003564829, 0.2417369854476513, 0.1821619937733486, 0.04869109896457431, 0.024631967711490534, 0.038093624484049314, 0.129461039599927, 0.33482290993874925, 0.12172405684200928, 0.3247925555159382, 0.16620015453428189, 0.37921725400779815, 0.00760775355262558, 0.2509693580426638, 0.013942742113481323, 0.0728120977037358, 0.03872983920411478, 0.09217701730579318, 0.03795524242003249, 0.4926435546763401, 0.5630585134594895, 0.17103142559008386, 0.014412760583434034, 0.15373611288996303, 0.08551571279504193, 0.011530208466747228, 0.10872726885617837, 0.014826445753115232, 0.05224557074907272, 0.15320660611552406, 0.3515985707167326, 0.028946870279891644, 0.046597400938362156, 0.02471074292185872, 0.055069655654428, 0.16450294573694518, 0.14629948847155494, 0.07975354059039626, 0.015747514384090982, 0.015747514384090982, 0.034542934778006025, 0.5049364289608528, 0.13512383310220002, 0.025907201083504517, 0.018287436058944367, 0.023367279408651135, 0.07282870800206047, 0.06483531322134652, 0.015098634585793025, 0.10124966722237676, 0.4316433181585535, 0.15009819088229537, 0.07549317292896512, 0.0879273425878535, 0.3453595849739942, 0.12727140261078676, 0.013430650526766442, 0.03133818456245503, 0.06907191699479884, 0.41187328282083757, 0.0012791095739777564, 0.16820486832453077, 0.11302938603973246, 0.12320738762624865, 0.08999496139656422, 0.02999832046552141, 0.004821158646244513, 0.09856591010099892, 0.3723005843488818, 0.022856618246013004, 0.17406193895040672, 0.4193310347441616, 0.10461298351059797, 0.12659050105484124, 0.07823996245750604, 0.013186510526545963, 0.044834135790256274, 0.016702913333624888, 0.6814867371584443, 0.01779725972992673, 0.19997198779876005, 0.057346725796430575, 0.03584170362276911, 0.00766270905038512, 0.31771493671871837, 0.009775844206729795, 0.018047712381655007, 0.11242220837739265, 0.4357770552153782, 0.03910337682691918, 0.054895125160867315, 0.012031808254436671, 0.14616855581914676, 0.03712894702559348, 0.03115417394101522, 0.012376315675197827, 0.2317358417804283, 0.1741219584648522, 0.34482976088137396, 0.022405399067168482, 0.16703769013537703, 0.14981647619596014, 0.15159519312866984, 0.028136067844681124, 0.02021269241715598, 0.09330178819759201, 0.011642510832281844, 0.20600776111565375, 0.13809311459400966, 0.0341190248001593, 0.13466656461351403, 0.12752827576549902, 0.28072693642674434, 0.0242976370403588, 0.20508852959489293, 0.09183683152542395, 0.0030200452818525065, 0.08648311488941268, 0.026356758823440057, 0.020042118688657542, 0.10333020019881305, 0.35026040758980836, 0.011878144508835519, 0.007532481883651793, 0.06615064218335229, 0.06933746144182035, 0.008594754969807815, 0.10284734879601486, 0.09280403961781247, 0.18734634428569844, 0.310547695435004, 0.010226007302019197, 0.16980554230458192, 0.042787767395290846, 0.08853569479906093, 0.04574792740377009, 0.24892254616757253, 0.019913803693405802, 0.01964469823808951, 0.04359508376123973, 0.10779355085953121, 0.017675578008402314, 0.0027474991722905152, 0.394724047752404, 0.011447913217877146, 0.002289582643575429, 0.2843661643320683, 0.17895377942185556, 0.2641421482638233, 0.030680227397899832, 0.09101800794710284, 0.0016070595303661816, 0.08575854039317715, 0.030680227397899832, 0.2016129229004846, 0.19766832223504036, 0.0794763985926548, 0.017385462192143236, 0.17947545768873044, 0.0658858706330089, 0.0035191266213476556, 0.06119370180454535, 0.047508209388193355, 0.054155448561850034, 0.4649157280869292, 0.12316943174716795, 0.1906091422764953, 0.08888435302264713, 0.2707905329646617, 0.19046647076281528, 0.016264552559521306, 0.054357846712084365, 0.1520878335828922, 0.022542099161441807, 0.006705561142960538, 0.007561590225040607, 0.04628165917859113, 0.38324861615375216, 0.04696562458517129, 0.07854202752228888, 0.13075138689124144, 0.14249279303753426, 0.01231137731844296, 0.08435573347822029, 0.05927700190361425, 0.015959192820203836, 0.2206257887586967, 0.10036310390591693, 0.03633836520731475, 0.027686373491287428, 0.35040566449910654, 0.1046890997639306, 0.07959832378745135, 0.0804635229590541, 0.14710846313774908, 0.03953539946827007, 0.1443501794539163, 0.02988140657485528, 0.32271919100843705, 0.021146841576051432, 0.18664386260601915, 0.10711334972217355, 0.0009194278946109318, 0.1439419253165124, 0.052004824630481894, 0.247022916994789, 0.38353558164980395, 0.17273031037981487, 0.1878635980220839, 0.020151458611365403, 0.4394318071381617, 0.1605616218389437, 0.019501411559385874, 0.08775635201723643, 0.0669548463538915, 0.016901223351467758, 0.1085957838558378, 0.06829923512945774, 0.08810601331700048, 0.4405300665850024, 0.018440793484953588, 0.14889233258221787, 0.04439450283414753, 0.06829923512945774, 0.014342839377186124, 0.14786851073735016, 0.2082329398120215, 0.016916644438264752, 0.19776652670633252, 0.04137884251086342, 0.027261355065980604, 0.027991569933819373, 0.12803100682773033, 0.17184389889805632, 0.03261626409679822, 0.025975029440786914, 0.1872519141142174, 0.13841154185583637, 0.11518035355316075, 0.33011457603854544, 0.08572979200409954, 0.009694905354659904, 0.07621780939198039, 0.02743841138111294, 0.00396332608838298, 0.12040201417188891, 0.10443290492382785, 0.2338333854180369, 0.010772811794326903, 0.2338333854180369, 0.07971880727801908, 0.01419476377605427, 0.15221349370572482, 0.004942819529161755, 0.045752765385317785, 0.04750583496142842, 0.9516742675879595, 0.06941855003755741, 0.09749796353589525, 0.01949959270717905, 0.017939625290604725, 0.775303806037439, 0.001559967416574324, 0.018719608998891888, 0.07751471406653772, 0.06527554868761071, 0.017848782844268555, 0.51812466770791, 0.08108447063539143, 0.023968365533732057, 0.06425561823936679, 0.025498261206097935, 0.10097311437614782, 0.024988295981975973, 0.13473026738817478, 0.06260700157443067, 0.005008560125954453, 0.19182785282405554, 0.0015025680377863358, 0.33006411230039845, 0.20284668510115533, 0.016027392403054248, 0.05559501739809443, 0.14222199445120723, 0.40578936031491236, 0.050886768656853966, 0.0502343741868943, 0.2257284866060445, 0.07437296957540195, 0.02609577879838665, 0.003261972349798331, 0.020876623038709317, 0.07232657079998799, 0.05742291378665713, 0.03725914253332714, 0.4874372529065857, 0.0920519991999847, 0.05172445669332474, 0.08021674215998667, 0.023670514079996065, 0.054354513813324304, 0.04339594247999279, 0.07652031785683998, 0.049191632907968554, 0.17763645216766424, 0.17490358367277709, 0.32430039472660754, 0.030061553443758562, 0.02732868494887142, 0.01457529863939809, 0.12480099459984616, 0.026646006052648285, 0.05445053410758562, 0.05097496810071846, 0.015640047030902254, 0.10716328521173767, 0.3452395566821386, 0.09384028218541351, 0.12280333224263991, 0.18130869335823724, 0.0017377830034335836, 0.29583364846864824, 0.11396453658809402, 0.00016933809299865383, 0.08788647026630134, 0.09449065589324884, 0.07925022752336999, 0.13936525053789212, 0.03589967571571461, 0.1529122979777844, 0.14272106270976667, 0.16036936616312492, 0.4078292732808655, 0.11394665490537823, 0.008056834185228763, 0.005754881560877688, 0.05102661650644883, 0.0867068821838905, 0.023403185014235932, 0.189078834430274, 0.14023928310142095, 0.11163326018023557, 0.09907451840995908, 0.3362951962929597, 0.023024359912173588, 0.03000143867343831, 0.034187685930197144, 0.03697851743470303, 0.07221678965202702, 0.10832518447804053, 0.16549680961922858, 0.009027098706503377, 0.028084307086899397, 0.45636999016211516, 0.052156570304241735, 0.026078285152120868, 0.023069252249953074, 0.05917764707596658, 0.18548976783336846, 0.2377634487305504, 0.025163038643501893, 0.00023371243322137982, 0.032486028217771794, 0.10579382810487793, 0.16468936127666564, 0.06551738544639348, 0.09083623237870962, 0.0919268904004094, 0.14934853904324516, 0.39591909782081064, 0.40779909524470515, 0.005333876394401613, 0.0007273467810547655, 0.04048897081204861, 0.00048489785403651027, 0.03431138330438389, 0.2696147716502103, 0.22067450399124416, 0.11676509512112036, 0.05195470443506191, 0.19895282722231897, 0.034577363019921745, 0.01427424473386513, 0.014008265018327271, 0.044861912020718986, 0.006842647323979647, 0.02737058929591859, 0.28054854028316556, 0.6851200633134622, 0.001974024200625941, 0.10166224633223597, 0.2803114364888837, 0.4747528202505389, 0.10561029473348786, 0.008883108902816735, 0.005922072601877824, 0.01974024200625941, 0.5331842891581299, 0.11551857819925744, 0.10933510199394439, 0.1582407774359658, 0.0008432013007245068, 0.08319586167148468, 0.30005146788959963, 0.3045113575857291, 0.003716574746774562, 0.06491617224366235, 0.07321652251145888, 0.06020851089774791, 0.07309263668656639, 0.08424236092689008, 0.03592688921882077, 0.23663669496661266, 0.3587805779343677, 0.04399365807116009, 0.060115557612765345, 0.05082497143624706, 0.05410400185148881, 0.10028368019947673, 0.06257483042419665, 0.03251705161781398, 0.01180511937715253, 0.09960569474472447, 0.8617737145321347, 0.00959165949393643, 0.016232039143584728, 0.39082807909862494, 0.009917685641919216, 0.08248901411153169, 0.05659613423203002, 0.01146175646042161, 0.0005344860525585207, 0.27235033744815285, 0.004157113742121827, 0.14508326960005177, 0.026546140610406527, 0.15167173828758382, 0.07690901823544934, 0.02003211637760541, 0.00393488000274392, 0.0196744000137196, 0.49150228397910417, 0.1048108946185426, 0.08585192733259461, 0.045429978213497986, 0.10497483193929422, 0.2208325838204591, 0.0038543674794125305, 0.07754080458582856, 0.03922385729049222, 0.03400912481834586, 0.005894914968513282, 0.18705018650090222, 0.32467377826580845, 0.0022672749878897237, 0.06390915098478932, 0.031073069961569978, 0.04187151271417231, 0.017630110616493604, 0.09696560839071483, 0.7486185720528598, 0.07899960212748892, 0.08878716345301853, 0.10626495153432139, 0.018176899604554975, 0.7075008615311398, 0.12811039510897548, 0.15760949924591064, 0.005056989280617454, 0.07838333384957054, 0.057312545180331145, 0.054784050540022416, 0.2798200735274991, 0.11125376417358399, 0.12726756356220592, 0.12304131594824093, 0.07732568889012378, 0.14377479736493345, 0.014105565226110494, 0.12712003360398372, 0.18150293568055428, 0.003398931379785661, 0.21668187546133588, 0.07171745211347745, 0.04129701626439578, 0.032412338461817056, 0.2411161763622976, 0.26720415609985765, 0.30831248780752807, 0.04585160075086315, 0.021344710694367327, 0.06482467692363411, 0.018182531332238835, 0.0410106833475072, 0.1569842497637694, 0.02457067085090301, 0.1318774915488467, 0.07478418728074844, 0.13911467096311267, 0.09381528870344785, 0.13009053366878104, 0.14626250248337538, 0.06147135107425917, 0.04928793859552052, 0.07330001124462027, 0.02338017600043922, 0.08846553081247273, 0.07203621794729922, 0.10426294702898573, 0.1162689833535356, 0.4732905898467291, 0.26509299445516377, 0.14557129753318243, 0.13790965029459387, 0.02068644754418908, 0.13867581501845272, 0.2919087597902237, 0.2684398540889862, 0.1013316005501471, 0.11022033744051088, 0.317327906985987, 0.1502196534471479, 0.05155467396410993, 0.021270438147345666, 0.13237453527869378, 0.12468097254454746, 0.013124312899426048, 0.15319241091226612, 0.035073594817431684, 0.49532967132489003, 0.024438375743758848, 0.3561308330508287, 0.11899771177001058, 0.07415799429145586, 0.017246045184059502, 0.18884419476545156, 0.07846950558747073, 0.08623022592029751, 0.0801941101058767, 0.5278238282349202, 0.1833304102609371, 0.006590308865589242, 0.1282114633850998, 0.1383964861773741, 0.014977974694521005, 0.8631521584390236, 0.061831812620704175, 0.07479654752504537, 0.3667741906751503, 0.03809490386239484, 0.265778399039964, 0.10010986363838643, 0.00265778399039964, 0.09833800764478669, 0.12757363153918272, 0.0008859279967998801, 0.0748889460929445, 0.17159020658189225, 0.07198063750681073, 0.2210314525461663, 0.057439094576141894, 0.015995697223735717, 0.006543694318800975, 0.020358160102936368, 0.3606302646805871, 0.30033925841377507, 0.013486736992673836, 0.0005187206535643784, 0.01244929568554508, 0.054984389277824106, 0.09440715894871686, 0.044609976206536534, 0.035791725095942105, 0.04046021097802151, 0.4040833891266507, 0.0553947050900731, 0.14966288743633785, 0.13314165960245639, 0.03790164032478686, 0.39845314187596437, 0.08843716075783599, 0.02526776021652457, 0.02526776021652457, 0.08552164996362162, 0.18039860302744623, 0.17124303482868486, 0.010851043791124585, 0.0020345707108358597, 0.0328922264918464, 0.07934825772259853, 0.029840370425592608, 0.17429489089493866, 0.3156975552980309, 0.003730046303199076, 0.1983728975806666, 0.06612429919355553, 0.016740328909760894, 0.011718230236832626, 0.02301795225092123, 0.03850275649245006, 0.41808971452127835, 0.18205107689364974, 0.045617396279098436, 0.09693352101097516, 0.168941279476271, 0.034465251915013394, 0.06031419085127344, 0.0640068964135963, 0.04369701582082055, 0.17509578874680912, 0.3544997339829949, 0.002154078244688337, 0.0130715715967856, 0.09295339802158649, 0.24581816586177366, 0.23310969347600988, 0.09912608460895747, 0.0007261984220436444, 0.22439531241148614, 0.025416944771527557, 0.06499475877290618, 0.12403611344056907, 0.5566498749527978, 0.03327798165478683, 0.14294405756260703, 0.008319495413696707, 0.13538087991379186, 0.040160926084596774, 0.14210789229934243, 0.01750604470354218, 0.4654548356471216, 0.24199532384308312, 0.028833485394069477, 0.06384557480115384, 0.32469746733530924, 0.19075228744008038, 0.05441522933243672, 0.006577665084140702, 0.40841320476982723, 0.015547208380696205, 0.10427220783899979, 0.09984555750621206, 0.09443520709947151, 0.4485672337224897, 0.0978781573583064, 0.02655990199672636, 0.0034429502588348986, 0.005902200443716969, 0.0801715560271555, 0.038856152921136713, 0.045916640138484684, 0.14180820931658275, 0.07409276022346392, 0.3592165433056201, 0.1082983381044058, 0.06887496020772703, 0.06052648018254799, 0.033277968989255315, 0.043017862351964184, 0.06481667130659832, 0.2396250302479118, 0.13094519196783222, 0.3574912731963648, 0.17999125079050424, 0.00015570177404022857, 0.031140354808045716, 0.05184869075539612, 0.008407895798172343, 0.07184755985215638, 0.46337639724873886, 0.42543442743917315, 0.007265483580555139, 0.0314837621824056, 0.07288628658866442, 0.13719771593160363, 0.07888868666067209, 0.23752354570658876, 0.4587548626462996, 0.006002400072007658, 0.008574857245725227, 0.037723358874725596, 0.014805404289542842, 0.3648619495464051, 0.015616659319106833, 0.1306120597598026, 0.01602228683388883, 0.006490040236511931, 0.41394287883502656, 0.1950994012996627, 0.10212949880240559, 0.08976404379045513, 0.020151111871326663, 0.04488202189522757, 0.19601536093017755, 0.30822041566824643, 0.03068464762224742, 0.013739394457722725, 0.27029151774719834, 0.002574204930925698, 0.1214166659086621, 0.11412308527103929, 0.002574204930925698, 0.432037394240363, 0.056632508480365364, 0.11073998277485707, 0.42432748955318245, 0.05027243662477638, 0.12093509230016136, 0.021093330052353726, 0.11531020428620037, 0.0010546665026176863, 0.07417821068411061, 0.014413775535775046, 0.06785021166840449, 0.005507321823375117, 0.0799663128754067, 0.3244914018332619, 0.02907865922742062, 0.003524685966960075, 0.022249580166435474, 0.06256317591354134, 0.47252821244558507, 0.11035816244630296, 0.0008339407741534228, 0.028076006063165238, 0.00583758541907396, 0.16122854966966174, 0.45644358371997346, 0.14149195134803075, 0.0672712224483761, 0.028353986321216378, 0.3801741723751722, 0.3509300052693897, 0.06482457041781782, 0.06628677877310694, 0.12964914083563564, 0.00048740278509637464, 0.0034118194956746224, 0.003899222280770997, 0.1125947080414729, 0.14232986443245768, 0.1285501578122452, 0.13634657076841805, 0.11912193749315249, 0.0018131192921332188, 0.0021757431505598627, 0.07524445062352858, 0.07687625798644848, 0.20488248001105375, 0.999578344415263, 0.1595870515640384, 0.19928919609948212, 0.05449313955845214, 0.09185986382710504, 0.0038923671113180102, 0.019461835556590052, 0.24988996854661624, 0.22186492534512658, 0.10086808690177156, 0.0924624129932906, 0.044320826062899624, 0.06648123909434944, 0.46995358670143567, 0.06342463040035635, 0.07412276082933213, 0.08787749995230099, 0.014109971259036012, 0.01241677470795169, 0.6146303480436086, 0.15972487465228766, 0.015238768959758892, 0.034428329872047865, 0.029913139069156346, 0.07619384479879446, 0.04402311032819235, 0.036245866159675115, 0.013571882620326782, 0.27810169057939066, 0.08183763951298843, 0.12165933103370773, 0.057782087084145756, 0.1283233692065628, 0.1266979940424518, 0.15579220948003855, 0.08974623065866139, 0.17474693745667816, 0.05527139555339022, 0.21968983990160657, 0.12491893691990971, 0.09742281337441003, 0.0678330763609789, 0.05513182132219479, 0.01772592736181959, 0.09742281337441003, 0.07527751374495462, 0.3213770779111524, 0.02142513852741016, 0.581953087028303, 0.057616021543623115, 0.002946273828935273, 0.22631747856339837, 0.05597920274977018, 0.05161435263282904, 0.008511457728035233, 0.07703960456401121, 0.005783426404947017, 0.5142884650285904, 0.02375015567595888, 0.038452632999171524, 0.09424664950777334, 0.08934582373336912, 0.4075225124716119, 0.060317855684974934, 0.1703979423100542, 0.11535789899751457, 0.34692496515856197, 0.00528503755410214, 0.01925263680422923, 0.06304294796678982, 0.20309644315049655, 0.32049977738805124, 0.04114779238550952, 0.049269358468645504, 0.03087546464035118, 0.00065692477958194, 0.5623276113221407, 0.12678648245931443, 0.01379542037122074, 0.0689771018561037, 0.00065692477958194, 0.05386783192571908, 0.09262639392105354, 0.0980817452705686, 0.18039472120503292, 0.1862817284238452, 0.11973752182548514, 0.14244454966947528, 0.10312775145812197, 0.07211583843045022, 0.041103925402778484, 0.006938258507885882, 0.04982931110208951, 0.2601104978215506, 0.04632586426223628, 0.218355686579497, 0.12895643808861598, 0.12772576996779755, 0.037974902013825564, 0.06628026879264926, 0.014680112584048308, 0.05555587516837444, 0.04386452802059944, 0.025390132745467305, 0.7481625782331033, 0.22597218143465903, 0.07687929915173876, 0.08398578898929444, 0.16280322173309383, 0.01938133592060641, 0.08915414523478948, 0.33981942314129904, 0.22740767480178187], \"Term\": [\"1978\", \"1978\", \"1978\", \"1978\", \"1978\", \"1978\", \"435\", \"435\", \"435\", \"435\", \"action\", \"action\", \"action\", \"action\", \"action\", \"action\", \"action\", \"action\", \"action\", \"action\", \"actively\", \"actively\", \"actively\", \"actively\", \"actively\", \"actively\", \"actively\", \"actively\", \"activities\", \"activities\", \"activities\", \"activities\", \"activities\", \"activities\", \"activities\", \"activities\", \"activities\", \"activities\", \"acts\", \"acts\", \"acts\", \"acts\", \"acts\", \"acts\", \"acts\", \"acts\", \"acts\", \"acts\", \"address\", \"address\", \"address\", \"address\", \"address\", \"address\", \"address\", \"afghan\", \"afghan\", \"afghan\", \"afghan\", \"afghanistan\", \"afghanistan\", \"afghanistan\", \"afghanistan\", \"afghanistan\", \"afghanistan\", \"afghanistan\", \"africa\", \"africa\", \"africa\", \"africa\", \"africa\", \"africa\", \"africa\", \"africa\", \"africa\", \"africa\", \"african\", \"african\", \"african\", \"african\", \"african\", \"african\", \"african\", \"african\", \"agenda\", \"agenda\", \"agenda\", \"agenda\", \"agenda\", \"agenda\", \"agenda\", \"agenda\", \"agenda\", \"agenda\", \"aggression\", \"aggression\", \"aggression\", \"aggression\", \"aggression\", \"aggression\", \"aggression\", \"ago\", \"ago\", \"ago\", \"ago\", \"ago\", \"ago\", \"ago\", \"ago\", \"ago\", \"ago\", \"agreement\", \"agreement\", \"agreement\", \"agreement\", \"agreement\", \"agreement\", \"agreement\", \"agreement\", \"agreement\", \"agreement\", \"aligned\", \"aligned\", \"aligned\", \"aligned\", \"aligned\", \"aligned\", \"aligned\", \"aligned\", \"america\", \"america\", \"america\", \"america\", \"america\", \"america\", \"america\", \"america\", \"america\", \"american\", \"american\", \"american\", \"american\", \"american\", \"angola\", \"angola\", \"angola\", \"angola\", \"angola\", \"angola\", \"angola\", \"angola\", \"apartheid\", \"apartheid\", \"apartheid\", \"apartheid\", \"apartheid\", \"apartheid\", \"apartheid\", \"appeal\", \"appeal\", \"appeal\", \"appeal\", \"appeal\", \"appeal\", \"appeal\", \"appeal\", \"appeal\", \"arab\", \"arab\", \"arab\", \"arab\", \"arab\", \"arab\", \"armaments\", \"armaments\", \"armaments\", \"armaments\", \"armaments\", \"armaments\", \"arms\", \"arms\", \"arms\", \"arms\", \"arms\", \"arms\", \"arms\", \"arms\", \"arms\", \"arms\", \"asia\", \"asia\", \"asia\", \"asia\", \"asia\", \"asia\", \"asia\", \"assistance\", \"assistance\", \"assistance\", \"assistance\", \"assistance\", \"assistance\", \"assistance\", \"assistance\", \"assistance\", \"assistance\", \"attitude\", \"attitude\", \"attitude\", \"attitude\", \"attitude\", \"attitude\", \"attitude\", \"attitude\", \"balance\", \"balance\", \"balance\", \"balance\", \"balance\", \"balance\", \"balance\", \"balance\", \"balance\", \"balance\", \"ban\", \"ban\", \"ban\", \"ban\", \"ban\", \"based\", \"based\", \"based\", \"based\", \"based\", \"based\", \"based\", \"based\", \"based\", \"based\", \"basis\", \"basis\", \"basis\", \"basis\", \"basis\", \"basis\", \"basis\", \"basis\", \"basis\", \"basis\", \"billion\", \"billion\", \"billion\", \"billion\", \"billion\", \"billion\", \"billion\", \"bosnia\", \"bosnia\", \"bosnia\", \"boutros\", \"boutros\", \"building\", \"building\", \"building\", \"building\", \"building\", \"building\", \"building\", \"building\", \"building\", \"cambodia\", \"cambodia\", \"cambodia\", \"cambodia\", \"cambodia\", \"caribbean\", \"caribbean\", \"caribbean\", \"caribbean\", \"cases\", \"cases\", \"cases\", \"cases\", \"cases\", \"cases\", \"cases\", \"cases\", \"cases\", \"cent\", \"cent\", \"cent\", \"cent\", \"cent\", \"cent\", \"cent\", \"central\", \"central\", \"central\", \"central\", \"central\", \"central\", \"central\", \"central\", \"central\", \"century\", \"century\", \"century\", \"century\", \"century\", \"century\", \"century\", \"century\", \"century\", \"chad\", \"chad\", \"challenges\", \"challenges\", \"challenges\", \"challenges\", \"challenges\", \"challenges\", \"challenges\", \"challenges\", \"charter\", \"charter\", \"charter\", \"charter\", \"charter\", \"charter\", \"charter\", \"charter\", \"charter\", \"charter\", \"chemical\", \"chemical\", \"chemical\", \"chemical\", \"chemical\", \"chemical\", \"children\", \"children\", \"children\", \"children\", \"children\", \"children\", \"children\", \"children\", \"civil\", \"civil\", \"civil\", \"civil\", \"civil\", \"civil\", \"civil\", \"civil\", \"coexistence\", \"coexistence\", \"coexistence\", \"coexistence\", \"coexistence\", \"coexistence\", \"colonial\", \"colonial\", \"colonial\", \"colonial\", \"colonial\", \"colonial\", \"colonialism\", \"colonialism\", \"colonialism\", \"colonialism\", \"colonialism\", \"colonialism\", \"colonialism\", \"come\", \"come\", \"come\", \"come\", \"come\", \"come\", \"come\", \"come\", \"come\", \"come\", \"committee\", \"committee\", \"committee\", \"committee\", \"committee\", \"committee\", \"committee\", \"committee\", \"committee\", \"concern\", \"concern\", \"concern\", \"concern\", \"concern\", \"concern\", \"concern\", \"concern\", \"concern\", \"concern\", \"concerned\", \"concerned\", \"concerned\", \"concerned\", \"concerned\", \"concerned\", \"concerned\", \"concerned\", \"concerned\", \"conference\", \"conference\", \"conference\", \"conference\", \"conference\", \"conference\", \"conference\", \"conference\", \"conference\", \"conflict\", \"conflict\", \"conflict\", \"conflict\", \"conflict\", \"conflict\", \"conflict\", \"conflict\", \"conflict\", \"conflict\", \"conflicts\", \"conflicts\", \"conflicts\", \"conflicts\", \"conflicts\", \"conflicts\", \"conflicts\", \"conflicts\", \"conflicts\", \"constant\", \"constant\", \"constant\", \"constant\", \"constant\", \"constant\", \"constant\", \"constitution\", \"constitution\", \"constitution\", \"constitution\", \"constitution\", \"constitution\", \"constitution\", \"constructive\", \"constructive\", \"constructive\", \"constructive\", \"constructive\", \"constructive\", \"constructive\", \"constructive\", \"constructive\", \"continent\", \"continent\", \"continent\", \"continent\", \"continent\", \"continent\", \"continent\", \"continue\", \"continue\", \"continue\", \"continue\", \"continue\", \"continue\", \"continue\", \"continue\", \"continue\", \"continue\", \"continued\", \"continued\", \"continued\", \"continued\", \"continued\", \"continued\", \"continued\", \"continued\", \"continued\", \"continued\", \"continues\", \"continues\", \"continues\", \"continues\", \"continues\", \"continues\", \"continues\", \"continues\", \"continues\", \"continues\", \"continuing\", \"continuing\", \"continuing\", \"continuing\", \"continuing\", \"continuing\", \"continuing\", \"continuing\", \"continuing\", \"continuing\", \"contributions\", \"contributions\", \"contributions\", \"contributions\", \"contributions\", \"contributions\", \"contributions\", \"contributions\", \"contributions\", \"convention\", \"convention\", \"convention\", \"convention\", \"convention\", \"convention\", \"convention\", \"convention\", \"conventional\", \"conventional\", \"conventional\", \"conventional\", \"conventional\", \"conventional\", \"conviction\", \"conviction\", \"conviction\", \"conviction\", \"conviction\", \"conviction\", \"conviction\", \"conviction\", \"conviction\", \"conviction\", \"convinced\", \"convinced\", \"convinced\", \"convinced\", \"convinced\", \"convinced\", \"convinced\", \"convinced\", \"convinced\", \"convinced\", \"cooperation\", \"cooperation\", \"cooperation\", \"cooperation\", \"cooperation\", \"cooperation\", \"cooperation\", \"cooperation\", \"cooperation\", \"council\", \"council\", \"council\", \"council\", \"council\", \"council\", \"council\", \"council\", \"council\", \"council\", \"court\", \"court\", \"court\", \"court\", \"court\", \"court\", \"court\", \"crises\", \"crises\", \"crises\", \"crises\", \"crises\", \"crises\", \"crises\", \"crises\", \"crises\", \"crisis\", \"crisis\", \"crisis\", \"crisis\", \"crisis\", \"crisis\", \"crisis\", \"crisis\", \"crisis\", \"cyprus\", \"cyprus\", \"cyprus\", \"cyprus\", \"cyprus\", \"cyprus\", \"cyprus\", \"danger\", \"danger\", \"danger\", \"danger\", \"danger\", \"danger\", \"danger\", \"danger\", \"danger\", \"danger\", \"day\", \"day\", \"day\", \"day\", \"day\", \"day\", \"day\", \"day\", \"day\", \"day\", \"days\", \"days\", \"days\", \"days\", \"days\", \"days\", \"days\", \"days\", \"days\", \"days\", \"death\", \"death\", \"death\", \"death\", \"death\", \"death\", \"death\", \"death\", \"debt\", \"debt\", \"debt\", \"debt\", \"debt\", \"debt\", \"debt\", \"decade\", \"decade\", \"decade\", \"decade\", \"decade\", \"decade\", \"decade\", \"decade\", \"decisive\", \"decisive\", \"decisive\", \"decisive\", \"decisive\", \"decisive\", \"decisive\", \"decisive\", \"decisive\", \"delegation\", \"delegation\", \"delegation\", \"delegation\", \"delegation\", \"delegation\", \"delegation\", \"deliberations\", \"deliberations\", \"deliberations\", \"deliberations\", \"deliberations\", \"deliberations\", \"deliberations\", \"deliberations\", \"democracy\", \"democracy\", \"democracy\", \"democracy\", \"democracy\", \"democracy\", \"democratic\", \"democratic\", \"democratic\", \"democratic\", \"democratic\", \"democratic\", \"democratic\", \"democratic\", \"destiny\", \"destiny\", \"destiny\", \"destiny\", \"destiny\", \"destiny\", \"destiny\", \"destiny\", \"detente\", \"detente\", \"detente\", \"detente\", \"detente\", \"deterioration\", \"deterioration\", \"deterioration\", \"deterioration\", \"deterioration\", \"deterioration\", \"deterioration\", \"deterioration\", \"determination\", \"determination\", \"determination\", \"determination\", \"determination\", \"determination\", \"determination\", \"determination\", \"determination\", \"determination\", \"developed\", \"developed\", \"developed\", \"developed\", \"developed\", \"developed\", \"developed\", \"developed\", \"developed\", \"developing\", \"developing\", \"developing\", \"developing\", \"developing\", \"developing\", \"developing\", \"developing\", \"developing\", \"dialog\", \"dialog\", \"dialog\", \"dialog\", \"dialogue\", \"dialogue\", \"dialogue\", \"dialogue\", \"dialogue\", \"dialogue\", \"dialogue\", \"dialogue\", \"dialogue\", \"dialogue\", \"diplomacy\", \"diplomacy\", \"diplomacy\", \"diplomacy\", \"diplomacy\", \"diplomacy\", \"diplomacy\", \"disarmament\", \"disarmament\", \"disarmament\", \"disarmament\", \"disarmament\", \"disarmament\", \"discrimination\", \"discrimination\", \"discrimination\", \"discrimination\", \"discrimination\", \"discrimination\", \"discrimination\", \"discrimination\", \"discrimination\", \"dispute\", \"dispute\", \"dispute\", \"dispute\", \"dispute\", \"dispute\", \"dispute\", \"dispute\", \"dispute\", \"does\", \"does\", \"does\", \"does\", \"does\", \"does\", \"does\", \"does\", \"does\", \"does\", \"domination\", \"domination\", \"domination\", \"domination\", \"domination\", \"domination\", \"drug\", \"drug\", \"drug\", \"drug\", \"drug\", \"drugs\", \"drugs\", \"drugs\", \"drugs\", \"early\", \"early\", \"early\", \"early\", \"early\", \"early\", \"early\", \"earth\", \"earth\", \"earth\", \"earth\", \"earth\", \"earth\", \"earth\", \"east\", \"east\", \"east\", \"east\", \"east\", \"east\", \"east\", \"east\", \"east\", \"east\", \"eastern\", \"eastern\", \"eastern\", \"eastern\", \"eastern\", \"eastern\", \"eastern\", \"education\", \"education\", \"education\", \"education\", \"education\", \"education\", \"education\", \"eighth\", \"eighth\", \"eighth\", \"eighth\", \"eighth\", \"eighth\", \"eighth\", \"eighth\", \"eighth\", \"eighth\", \"elections\", \"elections\", \"elections\", \"elections\", \"elections\", \"elections\", \"elections\", \"elimination\", \"elimination\", \"elimination\", \"elimination\", \"elimination\", \"elimination\", \"elimination\", \"elimination\", \"elimination\", \"encouraged\", \"encouraged\", \"encouraged\", \"encouraged\", \"encouraged\", \"encouraged\", \"encouraged\", \"encouraged\", \"encouraged\", \"encouraged\", \"end\", \"end\", \"end\", \"end\", \"end\", \"end\", \"end\", \"end\", \"end\", \"end\", \"enhance\", \"enhance\", \"enhance\", \"enhance\", \"enhance\", \"enhance\", \"enhance\", \"enhance\", \"environment\", \"environment\", \"environment\", \"environment\", \"environment\", \"environment\", \"environment\", \"environment\", \"environmental\", \"environmental\", \"environmental\", \"environmental\", \"environmental\", \"environmental\", \"essential\", \"essential\", \"essential\", \"essential\", \"essential\", \"essential\", \"essential\", \"essential\", \"essential\", \"essential\", \"ethnic\", \"ethnic\", \"ethnic\", \"ethnic\", \"ethnic\", \"europe\", \"europe\", \"europe\", \"europe\", \"european\", \"european\", \"european\", \"european\", \"european\", \"european\", \"express\", \"express\", \"express\", \"express\", \"express\", \"express\", \"express\", \"express\", \"express\", \"express\", \"expression\", \"expression\", \"expression\", \"expression\", \"expression\", \"expression\", \"expression\", \"expression\", \"factors\", \"factors\", \"factors\", \"factors\", \"factors\", \"factors\", \"factors\", \"factors\", \"factors\", \"factors\", \"field\", \"field\", \"field\", \"field\", \"field\", \"field\", \"field\", \"field\", \"fiftieth\", \"fiftieth\", \"fiftieth\", \"financial\", \"financial\", \"financial\", \"financial\", \"financial\", \"financial\", \"financial\", \"financial\", \"financial\", \"focus\", \"focus\", \"focus\", \"focus\", \"focus\", \"focus\", \"focus\", \"food\", \"food\", \"food\", \"food\", \"food\", \"food\", \"food\", \"food\", \"force\", \"force\", \"force\", \"force\", \"force\", \"force\", \"force\", \"force\", \"force\", \"force\", \"forces\", \"forces\", \"forces\", \"forces\", \"forces\", \"forces\", \"forces\", \"forces\", \"forces\", \"foreign\", \"foreign\", \"foreign\", \"foreign\", \"foreign\", \"foreign\", \"foreign\", \"foreign\", \"foreign\", \"foreign\", \"france\", \"france\", \"france\", \"france\", \"france\", \"france\", \"free\", \"free\", \"free\", \"free\", \"free\", \"free\", \"free\", \"free\", \"free\", \"free\", \"freedom\", \"freedom\", \"freedom\", \"freedom\", \"freedom\", \"freedom\", \"freedom\", \"freedom\", \"freedom\", \"future\", \"future\", \"future\", \"future\", \"future\", \"future\", \"future\", \"future\", \"future\", \"future\", \"geneva\", \"geneva\", \"geneva\", \"geneva\", \"geneva\", \"geneva\", \"geneva\", \"geneva\", \"global\", \"global\", \"global\", \"global\", \"global\", \"global\", \"global\", \"global\", \"global\", \"globalization\", \"globalization\", \"globalization\", \"governments\", \"governments\", \"governments\", \"governments\", \"governments\", \"governments\", \"governments\", \"governments\", \"governments\", \"gratitude\", \"gratitude\", \"gratitude\", \"gratitude\", \"gratitude\", \"gratitude\", \"gratitude\", \"gratitude\", \"great\", \"great\", \"great\", \"great\", \"great\", \"great\", \"great\", \"great\", \"great\", \"great\", \"growth\", \"growth\", \"growth\", \"growth\", \"growth\", \"growth\", \"growth\", \"guarantee\", \"guarantee\", \"guarantee\", \"guarantee\", \"guarantee\", \"guarantee\", \"guarantee\", \"guarantee\", \"guarantee\", \"guinea\", \"guinea\", \"guinea\", \"gulf\", \"gulf\", \"gulf\", \"gulf\", \"gulf\", \"gulf\", \"gulf\", \"haiti\", \"haiti\", \"haiti\", \"harmony\", \"harmony\", \"harmony\", \"harmony\", \"harmony\", \"harmony\", \"harmony\", \"harmony\", \"heads\", \"heads\", \"heads\", \"heads\", \"heads\", \"heads\", \"heads\", \"heads\", \"heads\", \"herzegovina\", \"herzegovina\", \"herzegovina\", \"history\", \"history\", \"history\", \"history\", \"history\", \"history\", \"history\", \"history\", \"history\", \"history\", \"hope\", \"hope\", \"hope\", \"hope\", \"hope\", \"hope\", \"hope\", \"hope\", \"hope\", \"hope\", \"humanitarian\", \"humanitarian\", \"humanitarian\", \"humanitarian\", \"humanitarian\", \"humanitarian\", \"humanitarian\", \"humanitarian\", \"immediate\", \"immediate\", \"immediate\", \"immediate\", \"immediate\", \"immediate\", \"immediate\", \"immediate\", \"immediate\", \"immediate\", \"implementation\", \"implementation\", \"implementation\", \"implementation\", \"implementation\", \"implementation\", \"implementation\", \"implementation\", \"implementation\", \"importance\", \"importance\", \"importance\", \"importance\", \"importance\", \"importance\", \"importance\", \"importance\", \"important\", \"important\", \"important\", \"important\", \"important\", \"important\", \"important\", \"important\", \"important\", \"important\", \"imposed\", \"imposed\", \"imposed\", \"imposed\", \"imposed\", \"imposed\", \"imposed\", \"imposed\", \"imposed\", \"independence\", \"independence\", \"independence\", \"independence\", \"independence\", \"independence\", \"independence\", \"independence\", \"independence\", \"independent\", \"independent\", \"independent\", \"independent\", \"independent\", \"independent\", \"independent\", \"independent\", \"independent\", \"independent\", \"india\", \"india\", \"india\", \"india\", \"indian\", \"indian\", \"indian\", \"indian\", \"indian\", \"indispensable\", \"indispensable\", \"indispensable\", \"indispensable\", \"indispensable\", \"indispensable\", \"indispensable\", \"indispensable\", \"indispensable\", \"individual\", \"individual\", \"individual\", \"individual\", \"individual\", \"individual\", \"individual\", \"individual\", \"industrial\", \"industrial\", \"industrial\", \"industrial\", \"industrial\", \"industrial\", \"industrial\", \"industrial\", \"industrial\", \"industrialized\", \"industrialized\", \"industrialized\", \"industrialized\", \"industrialized\", \"industrialized\", \"instrument\", \"instrument\", \"instrument\", \"instrument\", \"instrument\", \"instrument\", \"instrument\", \"instrument\", \"interdependence\", \"interdependence\", \"interdependence\", \"interdependence\", \"interdependence\", \"interdependence\", \"interdependence\", \"interdependence\", \"interference\", \"interference\", \"interference\", \"interference\", \"interference\", \"interference\", \"investment\", \"investment\", \"investment\", \"investment\", \"investment\", \"iran\", \"iran\", \"iran\", \"iran\", \"iran\", \"iran\", \"iraq\", \"iraq\", \"iraq\", \"iraq\", \"iraq\", \"iraq\", \"iraq\", \"iraq\", \"iraqi\", \"iraqi\", \"islamic\", \"islamic\", \"islamic\", \"islamic\", \"island\", \"island\", \"island\", \"island\", \"islands\", \"islands\", \"islands\", \"islands\", \"islands\", \"islands\", \"israel\", \"israel\", \"israel\", \"israel\", \"israel\", \"israel\", \"israel\", \"israel\", \"israeli\", \"israeli\", \"israeli\", \"israeli\", \"israeli\", \"israeli\", \"issues\", \"issues\", \"issues\", \"issues\", \"issues\", \"issues\", \"issues\", \"japan\", \"japan\", \"japan\", \"japan\", \"japan\", \"just\", \"just\", \"just\", \"just\", \"just\", \"just\", \"just\", \"just\", \"just\", \"just\", \"kampuchea\", \"kampuchea\", \"kampuchea\", \"keeping\", \"keeping\", \"keeping\", \"keeping\", \"keeping\", \"keeping\", \"keeping\", \"keeping\", \"keeping\", \"keeping\", \"key\", \"key\", \"key\", \"key\", \"key\", \"key\", \"key\", \"key\", \"kind\", \"kind\", \"kind\", \"kind\", \"kind\", \"kind\", \"kind\", \"kind\", \"kind\", \"kingdom\", \"kingdom\", \"kingdom\", \"kingdom\", \"kingdom\", \"kingdom\", \"kingdom\", \"kingdom\", \"know\", \"know\", \"know\", \"know\", \"know\", \"know\", \"know\", \"know\", \"know\", \"know\", \"korea\", \"korea\", \"korea\", \"korea\", \"korea\", \"korea\", \"korea\", \"korean\", \"korean\", \"korean\", \"korean\", \"korean\", \"korean\", \"kuwait\", \"kuwait\", \"kuwait\", \"kuwait\", \"kuwait\", \"land\", \"land\", \"land\", \"land\", \"land\", \"land\", \"land\", \"latin\", \"latin\", \"latin\", \"latin\", \"law\", \"law\", \"law\", \"law\", \"law\", \"law\", \"law\", \"law\", \"lebanese\", \"lebanese\", \"lebanese\", \"lebanese\", \"lebanon\", \"lebanon\", \"lebanon\", \"lebanon\", \"lebanon\", \"legitimate\", \"legitimate\", \"legitimate\", \"legitimate\", \"legitimate\", \"legitimate\", \"legitimate\", \"legitimate\", \"legitimate\", \"legitimate\", \"let\", \"let\", \"let\", \"let\", \"let\", \"let\", \"let\", \"let\", \"liberation\", \"liberation\", \"liberation\", \"liberation\", \"liberation\", \"liberation\", \"liberation\", \"liberation\", \"liberia\", \"liberia\", \"life\", \"life\", \"life\", \"life\", \"life\", \"life\", \"life\", \"life\", \"life\", \"life\", \"like\", \"like\", \"like\", \"like\", \"like\", \"like\", \"like\", \"like\", \"like\", \"like\", \"live\", \"live\", \"live\", \"live\", \"live\", \"live\", \"live\", \"live\", \"live\", \"live\", \"long\", \"long\", \"long\", \"long\", \"long\", \"long\", \"long\", \"long\", \"long\", \"long\", \"longer\", \"longer\", \"longer\", \"longer\", \"longer\", \"longer\", \"longer\", \"longer\", \"longer\", \"longer\", \"major\", \"major\", \"major\", \"major\", \"major\", \"major\", \"major\", \"major\", \"major\", \"major\", \"make\", \"make\", \"make\", \"make\", \"make\", \"make\", \"make\", \"make\", \"make\", \"make\", \"man\", \"man\", \"man\", \"man\", \"man\", \"man\", \"man\", \"man\", \"management\", \"management\", \"management\", \"management\", \"management\", \"management\", \"mandate\", \"mandate\", \"mandate\", \"mandate\", \"mandate\", \"mandate\", \"mandate\", \"mandate\", \"mankind\", \"mankind\", \"mankind\", \"mankind\", \"mankind\", \"mankind\", \"mankind\", \"mankind\", \"mass\", \"mass\", \"mass\", \"mass\", \"mass\", \"mass\", \"mass\", \"mass\", \"means\", \"means\", \"means\", \"means\", \"means\", \"means\", \"means\", \"means\", \"means\", \"means\", \"measures\", \"measures\", \"measures\", \"measures\", \"measures\", \"measures\", \"measures\", \"measures\", \"measures\", \"measures\", \"member\", \"member\", \"member\", \"member\", \"member\", \"member\", \"member\", \"member\", \"member\", \"member\", \"members\", \"members\", \"members\", \"members\", \"members\", \"members\", \"members\", \"members\", \"members\", \"members\", \"membership\", \"membership\", \"membership\", \"membership\", \"membership\", \"membership\", \"membership\", \"membership\", \"membership\", \"men\", \"men\", \"men\", \"men\", \"men\", \"men\", \"men\", \"men\", \"middle\", \"middle\", \"middle\", \"middle\", \"middle\", \"middle\", \"middle\", \"middle\", \"middle\", \"middle\", \"military\", \"military\", \"military\", \"military\", \"military\", \"military\", \"military\", \"military\", \"military\", \"military\", \"millennium\", \"millennium\", \"millennium\", \"millions\", \"millions\", \"millions\", \"millions\", \"millions\", \"millions\", \"millions\", \"millions\", \"mr\", \"mr\", \"mr\", \"mr\", \"mr\", \"mr\", \"mr\", \"mr\", \"mr\", \"mr\", \"mutual\", \"mutual\", \"mutual\", \"mutual\", \"mutual\", \"mutual\", \"mutual\", \"mutual\", \"mutual\", \"nam\", \"namibia\", \"namibia\", \"namibia\", \"namibia\", \"namibia\", \"namibia\", \"namibian\", \"namibian\", \"namibian\", \"namibian\", \"nation\", \"nation\", \"nation\", \"nation\", \"nation\", \"nation\", \"nation\", \"nation\", \"national\", \"national\", \"national\", \"national\", \"national\", \"national\", \"national\", \"national\", \"national\", \"national\", \"necessary\", \"necessary\", \"necessary\", \"necessary\", \"necessary\", \"necessary\", \"necessary\", \"necessary\", \"necessary\", \"necessary\", \"need\", \"need\", \"need\", \"need\", \"need\", \"need\", \"need\", \"need\", \"need\", \"negotiated\", \"negotiated\", \"negotiated\", \"negotiated\", \"negotiated\", \"negotiated\", \"negotiated\", \"negotiated\", \"negotiations\", \"negotiations\", \"negotiations\", \"negotiations\", \"negotiations\", \"negotiations\", \"negotiations\", \"negotiations\", \"negotiations\", \"negotiations\", \"neighbouring\", \"neighbouring\", \"neighbouring\", \"neighbouring\", \"neighbouring\", \"neighbouring\", \"neighbouring\", \"neighbouring\", \"neighbouring\", \"nicaragua\", \"nicaragua\", \"nicaragua\", \"nicaragua\", \"non\", \"non\", \"non\", \"non\", \"non\", \"non\", \"non\", \"non\", \"non\", \"non\", \"nuclear\", \"nuclear\", \"nuclear\", \"nuclear\", \"nuclear\", \"nuclear\", \"nuclear\", \"nuclear\", \"nuclear\", \"number\", \"number\", \"number\", \"number\", \"number\", \"number\", \"number\", \"number\", \"number\", \"number\", \"oau\", \"oau\", \"occupation\", \"occupation\", \"occupation\", \"occupation\", \"occupation\", \"occupation\", \"occupied\", \"occupied\", \"occupied\", \"occupied\", \"occupied\", \"occupied\", \"occupied\", \"ocean\", \"ocean\", \"ocean\", \"ocean\", \"old\", \"old\", \"old\", \"old\", \"old\", \"old\", \"old\", \"old\", \"old\", \"operation\", \"operation\", \"operation\", \"operation\", \"operation\", \"operation\", \"operation\", \"operation\", \"operations\", \"operations\", \"operations\", \"operations\", \"operations\", \"operations\", \"operations\", \"operations\", \"operations\", \"order\", \"order\", \"order\", \"order\", \"order\", \"order\", \"order\", \"order\", \"order\", \"order\", \"organizations\", \"organizations\", \"organizations\", \"organizations\", \"organizations\", \"organizations\", \"organizations\", \"organizations\", \"organizations\", \"overcome\", \"overcome\", \"overcome\", \"overcome\", \"overcome\", \"overcome\", \"overcome\", \"overcome\", \"overcome\", \"overcome\", \"pacific\", \"pacific\", \"pacific\", \"pacific\", \"pacific\", \"pakistan\", \"pakistan\", \"pakistan\", \"pakistan\", \"pakistan\", \"palestine\", \"palestine\", \"palestine\", \"palestine\", \"palestine\", \"palestine\", \"palestine\", \"palestine\", \"palestinian\", \"palestinian\", \"palestinian\", \"palestinian\", \"palestinian\", \"palestinian\", \"palestinian\", \"particularly\", \"particularly\", \"particularly\", \"particularly\", \"particularly\", \"particularly\", \"particularly\", \"particularly\", \"particularly\", \"particularly\", \"parties\", \"parties\", \"parties\", \"parties\", \"parties\", \"parties\", \"parties\", \"parties\", \"parties\", \"party\", \"party\", \"party\", \"party\", \"party\", \"party\", \"party\", \"party\", \"party\", \"peaceful\", \"peaceful\", \"peaceful\", \"peaceful\", \"peaceful\", \"peaceful\", \"peaceful\", \"peaceful\", \"peaceful\", \"peaceful\", \"peoples\", \"peoples\", \"peoples\", \"peoples\", \"peoples\", \"peoples\", \"peoples\", \"peoples\", \"peoples\", \"personnel\", \"personnel\", \"personnel\", \"personnel\", \"personnel\", \"persons\", \"persons\", \"persons\", \"persons\", \"persons\", \"persons\", \"persons\", \"persons\", \"persons\", \"plan\", \"plan\", \"plan\", \"plan\", \"plan\", \"plan\", \"plan\", \"plan\", \"plan\", \"plan\", \"pleasure\", \"pleasure\", \"pleasure\", \"pleasure\", \"pleasure\", \"pleasure\", \"pleasure\", \"pleasure\", \"pleasure\", \"policy\", \"policy\", \"policy\", \"policy\", \"policy\", \"policy\", \"policy\", \"policy\", \"policy\", \"policy\", \"poor\", \"poor\", \"poor\", \"poor\", \"poor\", \"poor\", \"poor\", \"poor\", \"possible\", \"possible\", \"possible\", \"possible\", \"possible\", \"possible\", \"possible\", \"possible\", \"possible\", \"possible\", \"post\", \"post\", \"post\", \"post\", \"post\", \"post\", \"post\", \"poverty\", \"poverty\", \"poverty\", \"poverty\", \"poverty\", \"poverty\", \"power\", \"power\", \"power\", \"power\", \"power\", \"power\", \"power\", \"power\", \"power\", \"power\", \"powerful\", \"powerful\", \"powerful\", \"powerful\", \"powerful\", \"powerful\", \"powerful\", \"powers\", \"powers\", \"powers\", \"powers\", \"powers\", \"powers\", \"powers\", \"powers\", \"powers\", \"practices\", \"practices\", \"practices\", \"practices\", \"practices\", \"practices\", \"practices\", \"practices\", \"practices\", \"prepared\", \"prepared\", \"prepared\", \"prepared\", \"prepared\", \"prepared\", \"prepared\", \"prepared\", \"prepared\", \"presence\", \"presence\", \"presence\", \"presence\", \"presence\", \"presence\", \"presence\", \"presence\", \"present\", \"present\", \"present\", \"present\", \"present\", \"present\", \"present\", \"present\", \"present\", \"present\", \"president\", \"president\", \"president\", \"president\", \"president\", \"president\", \"president\", \"president\", \"president\", \"president\", \"pretoria\", \"pretoria\", \"pretoria\", \"prevail\", \"prevail\", \"prevail\", \"prevail\", \"prevail\", \"prevail\", \"prevail\", \"prevail\", \"prevention\", \"prevention\", \"prevention\", \"prevention\", \"prevention\", \"prevention\", \"prevention\", \"prices\", \"prices\", \"prices\", \"prices\", \"prices\", \"principles\", \"principles\", \"principles\", \"principles\", \"principles\", \"principles\", \"principles\", \"principles\", \"principles\", \"problem\", \"problem\", \"problem\", \"problem\", \"problem\", \"problem\", \"problem\", \"problem\", \"problem\", \"problem\", \"problems\", \"problems\", \"problems\", \"problems\", \"problems\", \"problems\", \"problems\", \"problems\", \"problems\", \"problems\", \"process\", \"process\", \"process\", \"process\", \"process\", \"process\", \"process\", \"process\", \"process\", \"process\", \"profound\", \"profound\", \"profound\", \"profound\", \"profound\", \"profound\", \"profound\", \"profound\", \"profound\", \"programme\", \"programme\", \"programme\", \"programme\", \"programme\", \"programme\", \"programme\", \"programme\", \"programme\", \"progress\", \"progress\", \"progress\", \"progress\", \"progress\", \"progress\", \"progress\", \"progress\", \"progress\", \"progress\", \"proliferation\", \"proliferation\", \"proliferation\", \"proliferation\", \"proliferation\", \"proliferation\", \"proliferation\", \"proliferation\", \"proposal\", \"proposal\", \"proposal\", \"proposal\", \"proposal\", \"proposal\", \"proposal\", \"proposal\", \"proposal\", \"proposals\", \"proposals\", \"proposals\", \"proposals\", \"proposals\", \"proposals\", \"proposals\", \"proposals\", \"proposals\", \"proposals\", \"prospects\", \"prospects\", \"prospects\", \"prospects\", \"prospects\", \"prospects\", \"prospects\", \"prospects\", \"prospects\", \"protection\", \"protection\", \"protection\", \"protection\", \"protection\", \"protection\", \"protection\", \"protection\", \"protection\", \"provisions\", \"provisions\", \"provisions\", \"provisions\", \"provisions\", \"provisions\", \"provisions\", \"provisions\", \"provisions\", \"race\", \"race\", \"race\", \"race\", \"race\", \"race\", \"race\", \"racist\", \"racist\", \"racist\", \"racist\", \"racist\", \"range\", \"range\", \"range\", \"range\", \"range\", \"range\", \"range\", \"rates\", \"rates\", \"rates\", \"rates\", \"rates\", \"rates\", \"ready\", \"ready\", \"ready\", \"ready\", \"ready\", \"ready\", \"ready\", \"ready\", \"ready\", \"ready\", \"reconciliation\", \"reconciliation\", \"reconciliation\", \"reconciliation\", \"reconciliation\", \"reconciliation\", \"reconciliation\", \"reconciliation\", \"reconciliation\", \"reconciliation\", \"reconstruction\", \"reconstruction\", \"reconstruction\", \"reconstruction\", \"reconstruction\", \"reconstruction\", \"reconstruction\", \"reconstruction\", \"recovery\", \"recovery\", \"recovery\", \"recovery\", \"recovery\", \"recovery\", \"recovery\", \"reduction\", \"reduction\", \"reduction\", \"reduction\", \"reduction\", \"reduction\", \"reduction\", \"reduction\", \"reflect\", \"reflect\", \"reflect\", \"reflect\", \"reflect\", \"reflect\", \"reflect\", \"reflect\", \"reflect\", \"reform\", \"reform\", \"reform\", \"reform\", \"reform\", \"reform\", \"refugees\", \"refugees\", \"refugees\", \"refugees\", \"refugees\", \"refugees\", \"refugees\", \"refugees\", \"regime\", \"regime\", \"regime\", \"regime\", \"regime\", \"regime\", \"regime\", \"regime\", \"region\", \"region\", \"region\", \"region\", \"region\", \"region\", \"region\", \"region\", \"region\", \"region\", \"regional\", \"regional\", \"regional\", \"regional\", \"regional\", \"regional\", \"regional\", \"regional\", \"regional\", \"regional\", \"relations\", \"relations\", \"relations\", \"relations\", \"relations\", \"relations\", \"relations\", \"relations\", \"relations\", \"relations\", \"remains\", \"remains\", \"remains\", \"remains\", \"remains\", \"remains\", \"remains\", \"remains\", \"remains\", \"remains\", \"republic\", \"republic\", \"republic\", \"republic\", \"republic\", \"republic\", \"republic\", \"republic\", \"resolution\", \"resolution\", \"resolution\", \"resolution\", \"resolution\", \"resolution\", \"resolution\", \"resolution\", \"resolution\", \"resolution\", \"resolutions\", \"resolutions\", \"resolutions\", \"resolutions\", \"resolutions\", \"resolutions\", \"resolutions\", \"resolutions\", \"resources\", \"resources\", \"resources\", \"resources\", \"resources\", \"resources\", \"resources\", \"resources\", \"resources\", \"resources\", \"respect\", \"respect\", \"respect\", \"respect\", \"respect\", \"respect\", \"respect\", \"respect\", \"respect\", \"respect\", \"restoration\", \"restoration\", \"restoration\", \"restoration\", \"restoration\", \"restoration\", \"restoration\", \"restoration\", \"return\", \"return\", \"return\", \"return\", \"return\", \"return\", \"return\", \"return\", \"return\", \"reunification\", \"reunification\", \"reunification\", \"reunification\", \"reunification\", \"review\", \"review\", \"review\", \"review\", \"review\", \"review\", \"review\", \"review\", \"rich\", \"rich\", \"rich\", \"rich\", \"rich\", \"rich\", \"rich\", \"rich\", \"rich\", \"right\", \"right\", \"right\", \"right\", \"right\", \"right\", \"right\", \"right\", \"right\", \"right\", \"rights\", \"rights\", \"rights\", \"rights\", \"rights\", \"rights\", \"rights\", \"rights\", \"rights\", \"rights\", \"role\", \"role\", \"role\", \"role\", \"role\", \"role\", \"role\", \"role\", \"role\", \"role\", \"rwanda\", \"rwanda\", \"sahara\", \"sahara\", \"sahara\", \"sahara\", \"sahara\", \"sahara\", \"sahara\", \"said\", \"said\", \"said\", \"said\", \"said\", \"said\", \"said\", \"said\", \"said\", \"said\", \"sanctions\", \"sanctions\", \"sanctions\", \"sanctions\", \"sanctions\", \"sanctions\", \"sanctions\", \"sanctions\", \"sanctions\", \"satisfaction\", \"satisfaction\", \"satisfaction\", \"satisfaction\", \"satisfaction\", \"satisfaction\", \"satisfaction\", \"satisfaction\", \"satisfaction\", \"say\", \"say\", \"say\", \"say\", \"say\", \"say\", \"say\", \"say\", \"say\", \"say\", \"scale\", \"scale\", \"scale\", \"scale\", \"scale\", \"scale\", \"scale\", \"scale\", \"scale\", \"september\", \"september\", \"september\", \"september\", \"september\", \"september\", \"september\", \"september\", \"september\", \"september\", \"settlement\", \"settlement\", \"settlement\", \"settlement\", \"settlement\", \"settlement\", \"settlement\", \"settlement\", \"settlement\", \"shall\", \"shall\", \"shall\", \"shall\", \"shall\", \"shall\", \"shall\", \"shall\", \"shall\", \"signed\", \"signed\", \"signed\", \"signed\", \"signed\", \"signed\", \"signed\", \"signed\", \"signed\", \"signing\", \"signing\", \"signing\", \"signing\", \"signing\", \"signing\", \"signing\", \"signing\", \"signing\", \"signing\", \"situation\", \"situation\", \"situation\", \"situation\", \"situation\", \"situation\", \"situation\", \"situation\", \"situation\", \"situation\", \"small\", \"small\", \"small\", \"small\", \"small\", \"small\", \"small\", \"social\", \"social\", \"social\", \"social\", \"social\", \"social\", \"social\", \"social\", \"social\", \"social\", \"socialist\", \"socialist\", \"socialist\", \"socialist\", \"societies\", \"societies\", \"societies\", \"societies\", \"societies\", \"societies\", \"societies\", \"societies\", \"solidarity\", \"solidarity\", \"solidarity\", \"solidarity\", \"solidarity\", \"solidarity\", \"solution\", \"solution\", \"solution\", \"solution\", \"solution\", \"solution\", \"solution\", \"solution\", \"solution\", \"solutions\", \"solutions\", \"solutions\", \"solutions\", \"solutions\", \"solutions\", \"solutions\", \"solutions\", \"solutions\", \"somalia\", \"somalia\", \"somalia\", \"somalia\", \"somalia\", \"south\", \"south\", \"south\", \"south\", \"south\", \"south\", \"south\", \"south\", \"south\", \"south\", \"southern\", \"southern\", \"southern\", \"southern\", \"southern\", \"southern\", \"southern\", \"southern\", \"southern\", \"sovereignty\", \"sovereignty\", \"sovereignty\", \"sovereignty\", \"sovereignty\", \"sovereignty\", \"sovereignty\", \"sovereignty\", \"sovereignty\", \"sovereignty\", \"soviet\", \"soviet\", \"soviet\", \"soviet\", \"soviet\", \"soviet\", \"space\", \"space\", \"space\", \"space\", \"space\", \"spite\", \"spite\", \"spite\", \"spite\", \"spite\", \"spite\", \"spite\", \"spite\", \"spite\", \"stability\", \"stability\", \"stability\", \"stability\", \"stability\", \"stability\", \"stability\", \"stability\", \"stability\", \"stability\", \"standards\", \"standards\", \"standards\", \"standards\", \"standards\", \"standards\", \"standards\", \"standards\", \"state\", \"state\", \"state\", \"state\", \"state\", \"state\", \"state\", \"state\", \"state\", \"state\", \"strategic\", \"strategic\", \"strategic\", \"strategic\", \"strategic\", \"strategic\", \"strategic\", \"strategic\", \"structural\", \"structural\", \"structural\", \"structural\", \"structural\", \"structural\", \"structures\", \"structures\", \"structures\", \"structures\", \"structures\", \"structures\", \"struggle\", \"struggle\", \"struggle\", \"struggle\", \"struggle\", \"struggle\", \"struggle\", \"struggle\", \"substantial\", \"substantial\", \"substantial\", \"substantial\", \"substantial\", \"substantial\", \"substantial\", \"substantial\", \"super\", \"super\", \"super\", \"super\", \"super\", \"super\", \"sustainable\", \"sustainable\", \"sustainable\", \"sustained\", \"sustained\", \"sustained\", \"sustained\", \"sustained\", \"sustained\", \"sustained\", \"sustained\", \"systems\", \"systems\", \"systems\", \"systems\", \"systems\", \"systems\", \"systems\", \"systems\", \"systems\", \"talks\", \"talks\", \"talks\", \"talks\", \"talks\", \"talks\", \"talks\", \"talks\", \"talks\", \"talks\", \"tasks\", \"tasks\", \"tasks\", \"tasks\", \"tasks\", \"tasks\", \"tasks\", \"tasks\", \"tasks\", \"territorial\", \"territorial\", \"territorial\", \"territorial\", \"territorial\", \"territorial\", \"territorial\", \"territorial\", \"territorial\", \"territorial\", \"territories\", \"territories\", \"territories\", \"territories\", \"territories\", \"territories\", \"territories\", \"territories\", \"territories\", \"territory\", \"territory\", \"territory\", \"territory\", \"territory\", \"territory\", \"territory\", \"territory\", \"territory\", \"terrorism\", \"terrorism\", \"terrorism\", \"terrorism\", \"terrorism\", \"terrorism\", \"terrorism\", \"terrorism\", \"terrorism\", \"test\", \"test\", \"test\", \"test\", \"test\", \"test\", \"think\", \"think\", \"think\", \"think\", \"think\", \"think\", \"think\", \"thirty\", \"thirty\", \"thirty\", \"thirty\", \"thirty\", \"thirty\", \"times\", \"times\", \"times\", \"times\", \"times\", \"times\", \"times\", \"times\", \"times\", \"times\", \"today\", \"today\", \"today\", \"today\", \"today\", \"today\", \"today\", \"today\", \"today\", \"today\", \"trade\", \"trade\", \"trade\", \"trade\", \"trade\", \"trade\", \"trade\", \"trade\", \"trafficking\", \"trafficking\", \"trafficking\", \"trafficking\", \"trafficking\", \"transition\", \"transition\", \"transition\", \"transition\", \"transition\", \"transition\", \"transition\", \"treaty\", \"treaty\", \"treaty\", \"treaty\", \"treaty\", \"treaty\", \"treaty\", \"treaty\", \"tribute\", \"tribute\", \"tribute\", \"tribute\", \"tribute\", \"tribute\", \"tribute\", \"tribute\", \"tribute\", \"troops\", \"troops\", \"troops\", \"troops\", \"troops\", \"troops\", \"troops\", \"understanding\", \"understanding\", \"understanding\", \"understanding\", \"understanding\", \"understanding\", \"understanding\", \"understanding\", \"understanding\", \"understanding\", \"union\", \"union\", \"union\", \"union\", \"union\", \"union\", \"union\", \"union\", \"unity\", \"unity\", \"unity\", \"unity\", \"unity\", \"unity\", \"unity\", \"unity\", \"unity\", \"urge\", \"urge\", \"urge\", \"urge\", \"urge\", \"urge\", \"urge\", \"urge\", \"use\", \"use\", \"use\", \"use\", \"use\", \"use\", \"use\", \"use\", \"use\", \"use\", \"viet\", \"violation\", \"violation\", \"violation\", \"violation\", \"violation\", \"violation\", \"violation\", \"violation\", \"violations\", \"violations\", \"violations\", \"violations\", \"violations\", \"violations\", \"violations\", \"violations\", \"want\", \"want\", \"want\", \"want\", \"want\", \"want\", \"want\", \"want\", \"want\", \"war\", \"war\", \"war\", \"war\", \"war\", \"war\", \"war\", \"war\", \"war\", \"way\", \"way\", \"way\", \"way\", \"way\", \"way\", \"way\", \"way\", \"way\", \"way\", \"weapon\", \"weapon\", \"weapon\", \"weapon\", \"weapons\", \"weapons\", \"weapons\", \"weapons\", \"weapons\", \"weapons\", \"weapons\", \"weapons\", \"weapons\", \"western\", \"western\", \"western\", \"western\", \"western\", \"western\", \"western\", \"western\", \"withdrawal\", \"withdrawal\", \"withdrawal\", \"withdrawal\", \"withdrawal\", \"withdrawal\", \"withdrawal\", \"words\", \"words\", \"words\", \"words\", \"words\", \"words\", \"words\", \"words\", \"words\", \"words\", \"work\", \"work\", \"work\", \"work\", \"work\", \"work\", \"work\", \"work\", \"work\", \"work\", \"year\", \"year\", \"year\", \"year\", \"year\", \"year\", \"year\", \"year\", \"year\", \"year\", \"yugoslavia\", \"yugoslavia\", \"yugoslavia\", \"zone\", \"zone\", \"zone\", \"zone\", \"zone\", \"zone\", \"zone\"]}, \"R\": 30, \"lambda.step\": 0.01, \"plot.opts\": {\"xlab\": \"PC1\", \"ylab\": \"PC2\"}, \"topic.order\": [7, 4, 6, 1, 2, 9, 8, 3, 5, 10]};\n",
       "\n",
       "function LDAvis_load_lib(url, callback){\n",
       "  var s = document.createElement('script');\n",
       "  s.src = url;\n",
       "  s.async = true;\n",
       "  s.onreadystatechange = s.onload = callback;\n",
       "  s.onerror = function(){console.warn(\"failed to load library \" + url);};\n",
       "  document.getElementsByTagName(\"head\")[0].appendChild(s);\n",
       "}\n",
       "\n",
       "if(typeof(LDAvis) !== \"undefined\"){\n",
       "   // already loaded: just create the visualization\n",
       "   !function(LDAvis){\n",
       "       new LDAvis(\"#\" + \"ldavis_el672446898252321443931134\", ldavis_el672446898252321443931134_data);\n",
       "   }(LDAvis);\n",
       "}else if(typeof define === \"function\" && define.amd){\n",
       "   // require.js is available: use it to load d3/LDAvis\n",
       "   require.config({paths: {d3: \"https://cdnjs.cloudflare.com/ajax/libs/d3/3.5.5/d3.min\"}});\n",
       "   require([\"d3\"], function(d3){\n",
       "      window.d3 = d3;\n",
       "      LDAvis_load_lib(\"https://cdn.rawgit.com/bmabey/pyLDAvis/files/ldavis.v1.0.0.js\", function(){\n",
       "        new LDAvis(\"#\" + \"ldavis_el672446898252321443931134\", ldavis_el672446898252321443931134_data);\n",
       "      });\n",
       "    });\n",
       "}else{\n",
       "    // require.js not available: dynamically load d3 & LDAvis\n",
       "    LDAvis_load_lib(\"https://cdnjs.cloudflare.com/ajax/libs/d3/3.5.5/d3.min.js\", function(){\n",
       "         LDAvis_load_lib(\"https://cdn.rawgit.com/bmabey/pyLDAvis/files/ldavis.v1.0.0.js\", function(){\n",
       "                 new LDAvis(\"#\" + \"ldavis_el672446898252321443931134\", ldavis_el672446898252321443931134_data);\n",
       "            })\n",
       "         });\n",
       "}\n",
       "</script>"
      ],
      "text/plain": [
       "<IPython.core.display.HTML object>"
      ]
     },
     "execution_count": 24,
     "metadata": {},
     "output_type": "execute_result"
    }
   ],
   "source": [
    "pyLDAvis.display(pyLDAvis.sklearn.prepare(lda_model, un_word_counts, vectorizer, mds='tsne'))"
   ]
  },
  {
   "cell_type": "markdown",
   "metadata": {
    "slideshow": {
     "slide_type": "skip"
    }
   },
   "source": [
    "### Topic Modeling Exercise 2\n",
    "\n",
    "In your group, do 1 and 2 in 10_Topic_Modeling_group\n",
    "\n"
   ]
  },
  {
   "cell_type": "markdown",
   "metadata": {
    "slideshow": {
     "slide_type": "slide"
    }
   },
   "source": [
    "#### Text Classification and Sentiment Analysis "
   ]
  },
  {
   "cell_type": "markdown",
   "metadata": {
    "slideshow": {
     "slide_type": "slide"
    }
   },
   "source": [
    "We'll be using the following to apply classify texts and analyze sentiment within our corpus:\n",
    "- [seaborn](https://seaborn.pydata.org/), a data visualization library based on `matplotlib`. `seaborn` is also discussed in a previous chapter on text classification\n",
    "- The `SentimentIntensityAnalyzer` available through [vaderSentiment](https://github.com/cjhutto/vaderSentiment), a lexicon for sentiment analysis discussed in the previous chapter on Word Lists and Sentiment Analysis. With this, we'll be able to determine the intensity of positive, negative, and neutral sentiments contained within the documents in our corpus.\n",
    "- [Afinn](https://pypi.org/project/afinn/), another sentiment analysis tool discussed in the previous chapter on Word Lists and Sentiment Analysis. `Afinn` will produce a single numerical sentiment score, from -5 (negative sentiment) to 5 (positive sentiment)."
   ]
  },
  {
   "cell_type": "code",
   "execution_count": 26,
   "metadata": {
    "slideshow": {
     "slide_type": "slide"
    }
   },
   "outputs": [],
   "source": [
    "%matplotlib inline\n",
    "\n",
    "import pandas as pd\n",
    "import seaborn as sns"
   ]
  },
  {
   "cell_type": "code",
   "execution_count": 27,
   "metadata": {},
   "outputs": [
    {
     "name": "stdout",
     "output_type": "stream",
     "text": [
      "Requirement already satisfied: afinn in /opt/anaconda3/envs/tmwp/lib/python3.8/site-packages (0.1)\n",
      "Note: you may need to restart the kernel to use updated packages.\n"
     ]
    }
   ],
   "source": [
    "pip install afinn"
   ]
  },
  {
   "cell_type": "code",
   "execution_count": 28,
   "metadata": {},
   "outputs": [
    {
     "name": "stdout",
     "output_type": "stream",
     "text": []
    }
   ],
   "source": [
    "pip install vaderSentiment"
   ]
  },
  {
   "cell_type": "code",
   "execution_count": 31,
   "metadata": {},
   "outputs": [],
   "source": [
    "from vaderSentiment.vaderSentiment import SentimentIntensityAnalyzer\n",
    "from afinn import Afinn"
   ]
  },
  {
   "cell_type": "markdown",
   "metadata": {},
   "source": [
    "In addition to `Afinn` and the `SentimentIntensityAnalyzer`, we'll also import a number of new functions from `sklearn`."
   ]
  },
  {
   "cell_type": "code",
   "execution_count": 29,
   "metadata": {},
   "outputs": [],
   "source": [
    "from sklearn.linear_model import LogisticRegression\n",
    "from sklearn.metrics import classification_report, confusion_matrix, accuracy_score\n",
    "from sklearn.feature_extraction.text import CountVectorizer, TfidfVectorizer\n",
    "from sklearn.naive_bayes import MultinomialNB\n",
    "from sklearn.model_selection import train_test_split\n",
    "from sklearn.pipeline import Pipeline\n",
    "from sklearn.model_selection import GridSearchCV\n",
    "from sklearn.decomposition import LatentDirichletAllocation"
   ]
  },
  {
   "cell_type": "markdown",
   "metadata": {},
   "source": [
    "First among these imported functions is [LogisticRegression](https://scikit-learn.org/stable/modules/generated/sklearn.linear_model.LogisticRegression.html?highlight=logisticregression#sklearn.linear_model.LogisticRegression), scikit-learn's logicstic regression classifier. While we've used `LogisticRegression` earlier in the chapter on Classification, at that point we didn't specify any parameters. In this exercise, we'll specify two:\n",
    "\n",
    "- **solver**: In the following example we'll be setting this to `lbfgs`, or [Limited-memory Broyden–Fletcher–Goldfarb–Shanno algorithm](http://aria42.com/blog/2014/12/understanding-lbfgs). If not otherwise specified, `solver` will default to `lbfgs`. There are a number of other solvers available, discussed in more detail in the `LogisticRegression`[User Guide](https://scikit-learn.org/stable/modules/linear_model.html#logistic-regression).\n",
    "\n",
    "\n",
    "- **max_iter**: Similar to what we saw earlier with `LatentDirichletAllocation`, here `max_iter` allows us to set a maximum threshold on the number of iterations in our regression before the solvers converge. "
   ]
  },
  {
   "cell_type": "markdown",
   "metadata": {},
   "source": [
    "We'll set the maximum iterations in our own `lr_classifier` to 5,000."
   ]
  },
  {
   "cell_type": "code",
   "execution_count": 30,
   "metadata": {},
   "outputs": [],
   "source": [
    "lr_classifier = LogisticRegression(solver = 'lbfgs', max_iter= 5000)\n"
   ]
  },
  {
   "cell_type": "markdown",
   "metadata": {},
   "source": [
    "Let's `fit` the model to our data based on the `post_soviet` key we've created. "
   ]
  },
  {
   "cell_type": "code",
   "execution_count": 31,
   "metadata": {
    "slideshow": {
     "slide_type": "slide"
    }
   },
   "outputs": [
    {
     "data": {
      "text/plain": [
       "LogisticRegression(max_iter=5000)"
      ]
     },
     "execution_count": 31,
     "metadata": {},
     "output_type": "execute_result"
    }
   ],
   "source": [
    "lr_classifier.fit(un_topics, un_df['post_soviet'])"
   ]
  },
  {
   "cell_type": "markdown",
   "metadata": {},
   "source": [
    "Our classifier can now be used to `predict` an accuracy score for our topics."
   ]
  },
  {
   "cell_type": "code",
   "execution_count": 32,
   "metadata": {
    "slideshow": {
     "slide_type": "slide"
    }
   },
   "outputs": [],
   "source": [
    "prediction = lr_classifier.predict(un_topics)"
   ]
  },
  {
   "cell_type": "code",
   "execution_count": 33,
   "metadata": {
    "slideshow": {
     "slide_type": "slide"
    }
   },
   "outputs": [
    {
     "name": "stdout",
     "output_type": "stream",
     "text": [
      "0.940883634100809\n"
     ]
    }
   ],
   "source": [
    "print(accuracy_score(un_df['post_soviet'], prediction))\n",
    "\n"
   ]
  },
  {
   "cell_type": "markdown",
   "metadata": {},
   "source": [
    "We're also now able to produce a classification report:"
   ]
  },
  {
   "cell_type": "code",
   "execution_count": 34,
   "metadata": {
    "slideshow": {
     "slide_type": "slide"
    }
   },
   "outputs": [
    {
     "name": "stdout",
     "output_type": "stream",
     "text": [
      "              precision    recall  f1-score   support\n",
      "\n",
      "       False       0.96      0.94      0.95      1803\n",
      "        True       0.92      0.94      0.93      1411\n",
      "\n",
      "    accuracy                           0.94      3214\n",
      "   macro avg       0.94      0.94      0.94      3214\n",
      "weighted avg       0.94      0.94      0.94      3214\n",
      "\n"
     ]
    }
   ],
   "source": [
    "print(classification_report(un_df['post_soviet'], prediction))"
   ]
  },
  {
   "cell_type": "markdown",
   "metadata": {},
   "source": [
    "Finally, we can use `seaborn` to generate a confusion matrix using the `heatmap` function. "
   ]
  },
  {
   "cell_type": "code",
   "execution_count": 35,
   "metadata": {},
   "outputs": [
    {
     "data": {
      "text/plain": [
       "<matplotlib.axes._subplots.AxesSubplot at 0x118fbee50>"
      ]
     },
     "execution_count": 35,
     "metadata": {},
     "output_type": "execute_result"
    },
    {
     "data": {
      "image/png": "[encoded data removed]",
      "text/plain": [
       "<Figure size 432x288 with 2 Axes>"
      ]
     },
     "metadata": {
      "needs_background": "light"
     },
     "output_type": "display_data"
    }
   ],
   "source": [
    "import seaborn as sns\n",
    "\n",
    "cm = confusion_matrix(un_df['post_soviet'], prediction)\n",
    "sns.heatmap(cm, annot=True, cmap=\"Greens\", fmt='g')"
   ]
  },
  {
   "cell_type": "markdown",
   "metadata": {
    "slideshow": {
     "slide_type": "slide"
    }
   },
   "source": [
    "### Topic Modeling Exercise 3\n",
    "\n"
   ]
  },
  {
   "cell_type": "markdown",
   "metadata": {},
   "source": [
    "Hopefully, you feel a bit more comfortable running LDA models in Python. In the next chapter, we'll be moving beyond LDA models to cover addtional forms of topic modeling. "
   ]
  },
  {
   "cell_type": "markdown",
   "metadata": {},
   "source": [
    "#### References:\n",
    "\n",
    "Finn Årup Nielsen. 2011. “A New ANEW: Evaluation of a Word List for Sentiment Analysis in Microblogs.” *Proceedings of the ESWC2011 Workshop on ‘Making Sense of Microposts’: Big Things Come in Small Packages.* Volume 718 in CEUR Workshop Proceedings: 93-98. Matthew Rowe, Milan Stankovic, Aba-Sah Dadzie, Mariann Hardey (editors).\n",
    "\n",
    "Hutto, C.J. and Eric Gilbert. 2014. VADER: A Parsimonious Rule-based Model for Sentiment Analysis of Social Media Text. Eighth International Conference on Weblogs and Social Media (ICWSM-14). Ann Arbor, MI, June 2014.\n",
    "\n",
    "Scikit-learn: Machine Learning in Python, Pedregosa et al., JMLR 12, pp. 2825-2830, 2011.\n",
    "\n",
    "Sievert, Carson and Kenneth Shirley. 2014. \"LDAvis: A Method for Visualizing and Interpreting Topics.\" In *Proceedings of the Workshop on Interactive Language Learning, Visualization, and Interfaces*, pp. 63-70. \n",
    "\n",
    "Silge, Julia. and David Robinson. 2017. *Text Mining with R: A Tidy Approach.* \"O'Reilly Media, Inc.\"."
   ]
  }
 ],
 "metadata": {
  "celltoolbar": "Slideshow",
  "kernelspec": {
   "display_name": "Python 3",
   "language": "python",
   "name": "python3"
  },
  "language_info": {
   "codemirror_mode": {
    "name": "ipython",
    "version": 3
   },
   "file_extension": ".py",
   "mimetype": "text/x-python",
   "name": "python",
   "nbconvert_exporter": "python",
   "pygments_lexer": "ipython3",
   "version": "3.8.3"
  }
 },
 "nbformat": 4,
 "nbformat_minor": 2
}
